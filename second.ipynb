{
 "cells": [
  {
   "cell_type": "markdown",
   "id": "690ffc83",
   "metadata": {
    "papermill": {
     "duration": 0.068381,
     "end_time": "2022-04-05T11:19:49.792024",
     "exception": false,
     "start_time": "2022-04-05T11:19:49.723643",
     "status": "completed"
    },
    "tags": []
   },
   "source": [
    "# 👩‍🚀**<span style=\"color:#4527A0;\"> Spaceship Titanic with</span> <span style=\"color:#F44336;\"> LGBMClassifier </span>🌠**"
   ]
  },
  {
   "cell_type": "markdown",
   "id": "5f79c79a",
   "metadata": {
    "papermill": {
     "duration": 0.069061,
     "end_time": "2022-04-05T11:19:49.927995",
     "exception": false,
     "start_time": "2022-04-05T11:19:49.858934",
     "status": "completed"
    },
    "tags": []
   },
   "source": [
    "# <span style=\"color:#4527A0;\"> Project </span> 🔥\n",
    "- 강의명 : 2022년 K-디지털 직업훈련(Training) 사업 - AI데이터플랫폼을 활용한 빅데이터 분석전문가 과정\n",
    "- 교과목명 : 빅데이터 분석 및 시각화, AI개발 기초, 인공지능 프로그래밍\n",
    "- 프로젝트 주제 : Spaceship Titanic 데이터를 활용한 탑승유무 분류모형 개발\n",
    "- 프로젝트 마감일 : 2022년 4월 12일 화요일\n",
    "- 강사명 : 정지훈 강사\n",
    "- 수강생명 : 이가영"
   ]
  },
  {
   "cell_type": "markdown",
   "id": "ada1c4c6",
   "metadata": {
    "papermill": {
     "duration": 0.064853,
     "end_time": "2022-04-05T11:19:50.058308",
     "exception": false,
     "start_time": "2022-04-05T11:19:49.993455",
     "status": "completed"
    },
    "tags": []
   },
   "source": [
    "# <span style=\"color:#4527A0;\"> Table of content </span> 📋\n",
    "\n",
    "- [Load data](#Load-Data)\n",
    "- [EDA](#EDA)\n",
    "- [Preprocessing](#Preprocessing)\n",
    "- [Pipeline](#Pipeline)\n",
    "- [Model](#Model)"
   ]
  },
  {
   "cell_type": "markdown",
   "id": "c0a81f21",
   "metadata": {
    "papermill": {
     "duration": 0.066542,
     "end_time": "2022-04-05T11:19:50.191664",
     "exception": false,
     "start_time": "2022-04-05T11:19:50.125122",
     "status": "completed"
    },
    "tags": []
   },
   "source": [
    "# Load Data\n",
    "- 라이브러리 불러오기"
   ]
  },
  {
   "cell_type": "code",
   "execution_count": 1,
   "id": "0eb39ace",
   "metadata": {
    "execution": {
     "iopub.execute_input": "2022-04-05T11:19:50.331622Z",
     "iopub.status.busy": "2022-04-05T11:19:50.329877Z",
     "iopub.status.idle": "2022-04-05T11:19:53.340660Z",
     "shell.execute_reply": "2022-04-05T11:19:53.339431Z",
     "shell.execute_reply.started": "2022-04-05T11:16:31.908927Z"
    },
    "papermill": {
     "duration": 3.080516,
     "end_time": "2022-04-05T11:19:53.340988",
     "exception": false,
     "start_time": "2022-04-05T11:19:50.260472",
     "status": "completed"
    },
    "tags": []
   },
   "outputs": [
    {
     "data": {
      "text/html": [
       "<style type='text/css'>\n",
       ".datatable table.frame { margin-bottom: 0; }\n",
       ".datatable table.frame thead { border-bottom: none; }\n",
       ".datatable table.frame tr.coltypes td {  color: #FFFFFF;  line-height: 6px;  padding: 0 0.5em;}\n",
       ".datatable .bool    { background: #DDDD99; }\n",
       ".datatable .object  { background: #565656; }\n",
       ".datatable .int     { background: #5D9E5D; }\n",
       ".datatable .float   { background: #4040CC; }\n",
       ".datatable .str     { background: #CC4040; }\n",
       ".datatable .time    { background: #40CC40; }\n",
       ".datatable .row_index {  background: var(--jp-border-color3);  border-right: 1px solid var(--jp-border-color0);  color: var(--jp-ui-font-color3);  font-size: 9px;}\n",
       ".datatable .frame tbody td { text-align: left; }\n",
       ".datatable .frame tr.coltypes .row_index {  background: var(--jp-border-color0);}\n",
       ".datatable th:nth-child(2) { padding-left: 12px; }\n",
       ".datatable .hellipsis {  color: var(--jp-cell-editor-border-color);}\n",
       ".datatable .vellipsis {  background: var(--jp-layout-color0);  color: var(--jp-cell-editor-border-color);}\n",
       ".datatable .na {  color: var(--jp-cell-editor-border-color);  font-size: 80%;}\n",
       ".datatable .sp {  opacity: 0.25;}\n",
       ".datatable .footer { font-size: 9px; }\n",
       ".datatable .frame_dimensions {  background: var(--jp-border-color3);  border-top: 1px solid var(--jp-border-color0);  color: var(--jp-ui-font-color3);  display: inline-block;  opacity: 0.6;  padding: 1px 10px 1px 5px;}\n",
       "</style>\n"
      ],
      "text/plain": [
       "<IPython.core.display.HTML object>"
      ]
     },
     "metadata": {},
     "output_type": "display_data"
    }
   ],
   "source": [
    "import numpy as np\n",
    "import pandas as pd\n",
    "import plotly.express as px\n",
    "import plotly.graph_objects as go\n",
    "\n",
    "from sklearn.metrics import accuracy_score\n",
    "from sklearn.model_selection import train_test_split, StratifiedKFold, GridSearchCV\n",
    "\n",
    "from lightgbm import LGBMClassifier\n",
    "\n",
    "import warnings\n",
    "warnings.filterwarnings('ignore')"
   ]
  },
  {
   "cell_type": "markdown",
   "id": "22b9f500",
   "metadata": {
    "papermill": {
     "duration": 0.070694,
     "end_time": "2022-04-05T11:19:53.479066",
     "exception": false,
     "start_time": "2022-04-05T11:19:53.408372",
     "status": "completed"
    },
    "tags": []
   },
   "source": [
    "- 데이터 불러오기"
   ]
  },
  {
   "cell_type": "code",
   "execution_count": 2,
   "id": "fa4158d4",
   "metadata": {
    "execution": {
     "iopub.execute_input": "2022-04-05T11:19:53.621414Z",
     "iopub.status.busy": "2022-04-05T11:19:53.620440Z",
     "iopub.status.idle": "2022-04-05T11:19:53.720955Z",
     "shell.execute_reply": "2022-04-05T11:19:53.720260Z",
     "shell.execute_reply.started": "2022-04-05T11:16:33.352305Z"
    },
    "papermill": {
     "duration": 0.174361,
     "end_time": "2022-04-05T11:19:53.721133",
     "exception": false,
     "start_time": "2022-04-05T11:19:53.546772",
     "status": "completed"
    },
    "tags": []
   },
   "outputs": [],
   "source": [
    "train = pd.read_csv(\"/kaggle/input/spaceship-titanic/train.csv\")\n",
    "test = pd.read_csv(\"/kaggle/input/spaceship-titanic/test.csv\")\n",
    "submission = pd.read_csv(\"/kaggle/input/spaceship-titanic/sample_submission.csv\")"
   ]
  },
  {
   "cell_type": "code",
   "execution_count": 3,
   "id": "d2a7778e",
   "metadata": {
    "execution": {
     "iopub.execute_input": "2022-04-05T11:19:53.866234Z",
     "iopub.status.busy": "2022-04-05T11:19:53.865426Z",
     "iopub.status.idle": "2022-04-05T11:19:53.868603Z",
     "shell.execute_reply": "2022-04-05T11:19:53.869185Z",
     "shell.execute_reply.started": "2022-04-05T11:16:33.414436Z"
    },
    "papermill": {
     "duration": 0.078462,
     "end_time": "2022-04-05T11:19:53.869385",
     "exception": false,
     "start_time": "2022-04-05T11:19:53.790923",
     "status": "completed"
    },
    "tags": []
   },
   "outputs": [
    {
     "data": {
      "text/plain": [
       "((8693, 14), (4277, 13), (4277, 2))"
      ]
     },
     "execution_count": 3,
     "metadata": {},
     "output_type": "execute_result"
    }
   ],
   "source": [
    "train.shape, test.shape, submission.shape"
   ]
  },
  {
   "cell_type": "markdown",
   "id": "df02aa0b",
   "metadata": {
    "papermill": {
     "duration": 0.069174,
     "end_time": "2022-04-05T11:19:54.007385",
     "exception": false,
     "start_time": "2022-04-05T11:19:53.938211",
     "status": "completed"
    },
    "tags": []
   },
   "source": [
    "## train Data"
   ]
  },
  {
   "cell_type": "code",
   "execution_count": 4,
   "id": "770bf859",
   "metadata": {
    "execution": {
     "iopub.execute_input": "2022-04-05T11:19:54.148567Z",
     "iopub.status.busy": "2022-04-05T11:19:54.147843Z",
     "iopub.status.idle": "2022-04-05T11:19:54.178580Z",
     "shell.execute_reply": "2022-04-05T11:19:54.179222Z",
     "shell.execute_reply.started": "2022-04-05T11:16:33.423336Z"
    },
    "papermill": {
     "duration": 0.103714,
     "end_time": "2022-04-05T11:19:54.179445",
     "exception": false,
     "start_time": "2022-04-05T11:19:54.075731",
     "status": "completed"
    },
    "tags": []
   },
   "outputs": [
    {
     "data": {
      "text/html": [
       "<div>\n",
       "<style scoped>\n",
       "    .dataframe tbody tr th:only-of-type {\n",
       "        vertical-align: middle;\n",
       "    }\n",
       "\n",
       "    .dataframe tbody tr th {\n",
       "        vertical-align: top;\n",
       "    }\n",
       "\n",
       "    .dataframe thead th {\n",
       "        text-align: right;\n",
       "    }\n",
       "</style>\n",
       "<table border=\"1\" class=\"dataframe\">\n",
       "  <thead>\n",
       "    <tr style=\"text-align: right;\">\n",
       "      <th></th>\n",
       "      <th>PassengerId</th>\n",
       "      <th>HomePlanet</th>\n",
       "      <th>CryoSleep</th>\n",
       "      <th>Cabin</th>\n",
       "      <th>Destination</th>\n",
       "      <th>Age</th>\n",
       "      <th>VIP</th>\n",
       "      <th>RoomService</th>\n",
       "      <th>FoodCourt</th>\n",
       "      <th>ShoppingMall</th>\n",
       "      <th>Spa</th>\n",
       "      <th>VRDeck</th>\n",
       "      <th>Name</th>\n",
       "      <th>Transported</th>\n",
       "    </tr>\n",
       "  </thead>\n",
       "  <tbody>\n",
       "    <tr>\n",
       "      <th>0</th>\n",
       "      <td>0001_01</td>\n",
       "      <td>Europa</td>\n",
       "      <td>False</td>\n",
       "      <td>B/0/P</td>\n",
       "      <td>TRAPPIST-1e</td>\n",
       "      <td>39.0</td>\n",
       "      <td>False</td>\n",
       "      <td>0.0</td>\n",
       "      <td>0.0</td>\n",
       "      <td>0.0</td>\n",
       "      <td>0.0</td>\n",
       "      <td>0.0</td>\n",
       "      <td>Maham Ofracculy</td>\n",
       "      <td>False</td>\n",
       "    </tr>\n",
       "    <tr>\n",
       "      <th>1</th>\n",
       "      <td>0002_01</td>\n",
       "      <td>Earth</td>\n",
       "      <td>False</td>\n",
       "      <td>F/0/S</td>\n",
       "      <td>TRAPPIST-1e</td>\n",
       "      <td>24.0</td>\n",
       "      <td>False</td>\n",
       "      <td>109.0</td>\n",
       "      <td>9.0</td>\n",
       "      <td>25.0</td>\n",
       "      <td>549.0</td>\n",
       "      <td>44.0</td>\n",
       "      <td>Juanna Vines</td>\n",
       "      <td>True</td>\n",
       "    </tr>\n",
       "    <tr>\n",
       "      <th>2</th>\n",
       "      <td>0003_01</td>\n",
       "      <td>Europa</td>\n",
       "      <td>False</td>\n",
       "      <td>A/0/S</td>\n",
       "      <td>TRAPPIST-1e</td>\n",
       "      <td>58.0</td>\n",
       "      <td>True</td>\n",
       "      <td>43.0</td>\n",
       "      <td>3576.0</td>\n",
       "      <td>0.0</td>\n",
       "      <td>6715.0</td>\n",
       "      <td>49.0</td>\n",
       "      <td>Altark Susent</td>\n",
       "      <td>False</td>\n",
       "    </tr>\n",
       "    <tr>\n",
       "      <th>3</th>\n",
       "      <td>0003_02</td>\n",
       "      <td>Europa</td>\n",
       "      <td>False</td>\n",
       "      <td>A/0/S</td>\n",
       "      <td>TRAPPIST-1e</td>\n",
       "      <td>33.0</td>\n",
       "      <td>False</td>\n",
       "      <td>0.0</td>\n",
       "      <td>1283.0</td>\n",
       "      <td>371.0</td>\n",
       "      <td>3329.0</td>\n",
       "      <td>193.0</td>\n",
       "      <td>Solam Susent</td>\n",
       "      <td>False</td>\n",
       "    </tr>\n",
       "    <tr>\n",
       "      <th>4</th>\n",
       "      <td>0004_01</td>\n",
       "      <td>Earth</td>\n",
       "      <td>False</td>\n",
       "      <td>F/1/S</td>\n",
       "      <td>TRAPPIST-1e</td>\n",
       "      <td>16.0</td>\n",
       "      <td>False</td>\n",
       "      <td>303.0</td>\n",
       "      <td>70.0</td>\n",
       "      <td>151.0</td>\n",
       "      <td>565.0</td>\n",
       "      <td>2.0</td>\n",
       "      <td>Willy Santantines</td>\n",
       "      <td>True</td>\n",
       "    </tr>\n",
       "  </tbody>\n",
       "</table>\n",
       "</div>"
      ],
      "text/plain": [
       "  PassengerId HomePlanet CryoSleep  Cabin  Destination   Age    VIP  \\\n",
       "0     0001_01     Europa     False  B/0/P  TRAPPIST-1e  39.0  False   \n",
       "1     0002_01      Earth     False  F/0/S  TRAPPIST-1e  24.0  False   \n",
       "2     0003_01     Europa     False  A/0/S  TRAPPIST-1e  58.0   True   \n",
       "3     0003_02     Europa     False  A/0/S  TRAPPIST-1e  33.0  False   \n",
       "4     0004_01      Earth     False  F/1/S  TRAPPIST-1e  16.0  False   \n",
       "\n",
       "   RoomService  FoodCourt  ShoppingMall     Spa  VRDeck               Name  \\\n",
       "0          0.0        0.0           0.0     0.0     0.0    Maham Ofracculy   \n",
       "1        109.0        9.0          25.0   549.0    44.0       Juanna Vines   \n",
       "2         43.0     3576.0           0.0  6715.0    49.0      Altark Susent   \n",
       "3          0.0     1283.0         371.0  3329.0   193.0       Solam Susent   \n",
       "4        303.0       70.0         151.0   565.0     2.0  Willy Santantines   \n",
       "\n",
       "   Transported  \n",
       "0        False  \n",
       "1         True  \n",
       "2        False  \n",
       "3        False  \n",
       "4         True  "
      ]
     },
     "execution_count": 4,
     "metadata": {},
     "output_type": "execute_result"
    }
   ],
   "source": [
    "train.head()"
   ]
  },
  {
   "cell_type": "code",
   "execution_count": 5,
   "id": "ffb5e723",
   "metadata": {
    "execution": {
     "iopub.execute_input": "2022-04-05T11:19:54.320011Z",
     "iopub.status.busy": "2022-04-05T11:19:54.319266Z",
     "iopub.status.idle": "2022-04-05T11:19:54.356173Z",
     "shell.execute_reply": "2022-04-05T11:19:54.357009Z",
     "shell.execute_reply.started": "2022-04-05T11:16:33.451523Z"
    },
    "papermill": {
     "duration": 0.109865,
     "end_time": "2022-04-05T11:19:54.357239",
     "exception": false,
     "start_time": "2022-04-05T11:19:54.247374",
     "status": "completed"
    },
    "tags": []
   },
   "outputs": [
    {
     "name": "stdout",
     "output_type": "stream",
     "text": [
      "<class 'pandas.core.frame.DataFrame'>\n",
      "RangeIndex: 8693 entries, 0 to 8692\n",
      "Data columns (total 14 columns):\n",
      " #   Column        Non-Null Count  Dtype  \n",
      "---  ------        --------------  -----  \n",
      " 0   PassengerId   8693 non-null   object \n",
      " 1   HomePlanet    8492 non-null   object \n",
      " 2   CryoSleep     8476 non-null   object \n",
      " 3   Cabin         8494 non-null   object \n",
      " 4   Destination   8511 non-null   object \n",
      " 5   Age           8514 non-null   float64\n",
      " 6   VIP           8490 non-null   object \n",
      " 7   RoomService   8512 non-null   float64\n",
      " 8   FoodCourt     8510 non-null   float64\n",
      " 9   ShoppingMall  8485 non-null   float64\n",
      " 10  Spa           8510 non-null   float64\n",
      " 11  VRDeck        8505 non-null   float64\n",
      " 12  Name          8493 non-null   object \n",
      " 13  Transported   8693 non-null   bool   \n",
      "dtypes: bool(1), float64(6), object(7)\n",
      "memory usage: 891.5+ KB\n"
     ]
    }
   ],
   "source": [
    "train.info()"
   ]
  },
  {
   "cell_type": "code",
   "execution_count": 6,
   "id": "f6238f66",
   "metadata": {
    "execution": {
     "iopub.execute_input": "2022-04-05T11:19:54.501097Z",
     "iopub.status.busy": "2022-04-05T11:19:54.499846Z",
     "iopub.status.idle": "2022-04-05T11:19:54.515735Z",
     "shell.execute_reply": "2022-04-05T11:19:54.516301Z",
     "shell.execute_reply.started": "2022-04-05T11:16:33.476179Z"
    },
    "papermill": {
     "duration": 0.090204,
     "end_time": "2022-04-05T11:19:54.516511",
     "exception": false,
     "start_time": "2022-04-05T11:19:54.426307",
     "status": "completed"
    },
    "tags": []
   },
   "outputs": [
    {
     "data": {
      "text/plain": [
       "PassengerId       0\n",
       "HomePlanet      201\n",
       "CryoSleep       217\n",
       "Cabin           199\n",
       "Destination     182\n",
       "Age             179\n",
       "VIP             203\n",
       "RoomService     181\n",
       "FoodCourt       183\n",
       "ShoppingMall    208\n",
       "Spa             183\n",
       "VRDeck          188\n",
       "Name            200\n",
       "Transported       0\n",
       "dtype: int64"
      ]
     },
     "execution_count": 6,
     "metadata": {},
     "output_type": "execute_result"
    }
   ],
   "source": [
    "train.isna().sum()"
   ]
  },
  {
   "cell_type": "code",
   "execution_count": 7,
   "id": "2395e23f",
   "metadata": {
    "execution": {
     "iopub.execute_input": "2022-04-05T11:19:54.666765Z",
     "iopub.status.busy": "2022-04-05T11:19:54.666060Z",
     "iopub.status.idle": "2022-04-05T11:19:54.696914Z",
     "shell.execute_reply": "2022-04-05T11:19:54.697672Z",
     "shell.execute_reply.started": "2022-04-05T11:16:33.495477Z"
    },
    "papermill": {
     "duration": 0.111591,
     "end_time": "2022-04-05T11:19:54.697926",
     "exception": false,
     "start_time": "2022-04-05T11:19:54.586335",
     "status": "completed"
    },
    "tags": []
   },
   "outputs": [
    {
     "data": {
      "text/html": [
       "<div>\n",
       "<style scoped>\n",
       "    .dataframe tbody tr th:only-of-type {\n",
       "        vertical-align: middle;\n",
       "    }\n",
       "\n",
       "    .dataframe tbody tr th {\n",
       "        vertical-align: top;\n",
       "    }\n",
       "\n",
       "    .dataframe thead th {\n",
       "        text-align: right;\n",
       "    }\n",
       "</style>\n",
       "<table border=\"1\" class=\"dataframe\">\n",
       "  <thead>\n",
       "    <tr style=\"text-align: right;\">\n",
       "      <th></th>\n",
       "      <th>Age</th>\n",
       "      <th>RoomService</th>\n",
       "      <th>FoodCourt</th>\n",
       "      <th>ShoppingMall</th>\n",
       "      <th>Spa</th>\n",
       "      <th>VRDeck</th>\n",
       "    </tr>\n",
       "  </thead>\n",
       "  <tbody>\n",
       "    <tr>\n",
       "      <th>count</th>\n",
       "      <td>8514.000000</td>\n",
       "      <td>8512.000000</td>\n",
       "      <td>8510.000000</td>\n",
       "      <td>8485.000000</td>\n",
       "      <td>8510.000000</td>\n",
       "      <td>8505.000000</td>\n",
       "    </tr>\n",
       "    <tr>\n",
       "      <th>mean</th>\n",
       "      <td>28.827930</td>\n",
       "      <td>224.687617</td>\n",
       "      <td>458.077203</td>\n",
       "      <td>173.729169</td>\n",
       "      <td>311.138778</td>\n",
       "      <td>304.854791</td>\n",
       "    </tr>\n",
       "    <tr>\n",
       "      <th>std</th>\n",
       "      <td>14.489021</td>\n",
       "      <td>666.717663</td>\n",
       "      <td>1611.489240</td>\n",
       "      <td>604.696458</td>\n",
       "      <td>1136.705535</td>\n",
       "      <td>1145.717189</td>\n",
       "    </tr>\n",
       "    <tr>\n",
       "      <th>min</th>\n",
       "      <td>0.000000</td>\n",
       "      <td>0.000000</td>\n",
       "      <td>0.000000</td>\n",
       "      <td>0.000000</td>\n",
       "      <td>0.000000</td>\n",
       "      <td>0.000000</td>\n",
       "    </tr>\n",
       "    <tr>\n",
       "      <th>25%</th>\n",
       "      <td>19.000000</td>\n",
       "      <td>0.000000</td>\n",
       "      <td>0.000000</td>\n",
       "      <td>0.000000</td>\n",
       "      <td>0.000000</td>\n",
       "      <td>0.000000</td>\n",
       "    </tr>\n",
       "    <tr>\n",
       "      <th>50%</th>\n",
       "      <td>27.000000</td>\n",
       "      <td>0.000000</td>\n",
       "      <td>0.000000</td>\n",
       "      <td>0.000000</td>\n",
       "      <td>0.000000</td>\n",
       "      <td>0.000000</td>\n",
       "    </tr>\n",
       "    <tr>\n",
       "      <th>75%</th>\n",
       "      <td>38.000000</td>\n",
       "      <td>47.000000</td>\n",
       "      <td>76.000000</td>\n",
       "      <td>27.000000</td>\n",
       "      <td>59.000000</td>\n",
       "      <td>46.000000</td>\n",
       "    </tr>\n",
       "    <tr>\n",
       "      <th>max</th>\n",
       "      <td>79.000000</td>\n",
       "      <td>14327.000000</td>\n",
       "      <td>29813.000000</td>\n",
       "      <td>23492.000000</td>\n",
       "      <td>22408.000000</td>\n",
       "      <td>24133.000000</td>\n",
       "    </tr>\n",
       "  </tbody>\n",
       "</table>\n",
       "</div>"
      ],
      "text/plain": [
       "               Age   RoomService     FoodCourt  ShoppingMall           Spa  \\\n",
       "count  8514.000000   8512.000000   8510.000000   8485.000000   8510.000000   \n",
       "mean     28.827930    224.687617    458.077203    173.729169    311.138778   \n",
       "std      14.489021    666.717663   1611.489240    604.696458   1136.705535   \n",
       "min       0.000000      0.000000      0.000000      0.000000      0.000000   \n",
       "25%      19.000000      0.000000      0.000000      0.000000      0.000000   \n",
       "50%      27.000000      0.000000      0.000000      0.000000      0.000000   \n",
       "75%      38.000000     47.000000     76.000000     27.000000     59.000000   \n",
       "max      79.000000  14327.000000  29813.000000  23492.000000  22408.000000   \n",
       "\n",
       "             VRDeck  \n",
       "count   8505.000000  \n",
       "mean     304.854791  \n",
       "std     1145.717189  \n",
       "min        0.000000  \n",
       "25%        0.000000  \n",
       "50%        0.000000  \n",
       "75%       46.000000  \n",
       "max    24133.000000  "
      ]
     },
     "execution_count": 7,
     "metadata": {},
     "output_type": "execute_result"
    }
   ],
   "source": [
    "train.describe()"
   ]
  },
  {
   "cell_type": "markdown",
   "id": "8587528e",
   "metadata": {
    "papermill": {
     "duration": 0.07108,
     "end_time": "2022-04-05T11:19:54.840328",
     "exception": false,
     "start_time": "2022-04-05T11:19:54.769248",
     "status": "completed"
    },
    "tags": []
   },
   "source": [
    "## Test Data"
   ]
  },
  {
   "cell_type": "code",
   "execution_count": 8,
   "id": "cea99ff6",
   "metadata": {
    "execution": {
     "iopub.execute_input": "2022-04-05T11:19:54.988521Z",
     "iopub.status.busy": "2022-04-05T11:19:54.987538Z",
     "iopub.status.idle": "2022-04-05T11:19:55.009194Z",
     "shell.execute_reply": "2022-04-05T11:19:55.010076Z",
     "shell.execute_reply.started": "2022-04-05T11:16:33.529663Z"
    },
    "papermill": {
     "duration": 0.098482,
     "end_time": "2022-04-05T11:19:55.010360",
     "exception": false,
     "start_time": "2022-04-05T11:19:54.911878",
     "status": "completed"
    },
    "tags": []
   },
   "outputs": [
    {
     "data": {
      "text/html": [
       "<div>\n",
       "<style scoped>\n",
       "    .dataframe tbody tr th:only-of-type {\n",
       "        vertical-align: middle;\n",
       "    }\n",
       "\n",
       "    .dataframe tbody tr th {\n",
       "        vertical-align: top;\n",
       "    }\n",
       "\n",
       "    .dataframe thead th {\n",
       "        text-align: right;\n",
       "    }\n",
       "</style>\n",
       "<table border=\"1\" class=\"dataframe\">\n",
       "  <thead>\n",
       "    <tr style=\"text-align: right;\">\n",
       "      <th></th>\n",
       "      <th>PassengerId</th>\n",
       "      <th>HomePlanet</th>\n",
       "      <th>CryoSleep</th>\n",
       "      <th>Cabin</th>\n",
       "      <th>Destination</th>\n",
       "      <th>Age</th>\n",
       "      <th>VIP</th>\n",
       "      <th>RoomService</th>\n",
       "      <th>FoodCourt</th>\n",
       "      <th>ShoppingMall</th>\n",
       "      <th>Spa</th>\n",
       "      <th>VRDeck</th>\n",
       "      <th>Name</th>\n",
       "    </tr>\n",
       "  </thead>\n",
       "  <tbody>\n",
       "    <tr>\n",
       "      <th>0</th>\n",
       "      <td>0013_01</td>\n",
       "      <td>Earth</td>\n",
       "      <td>True</td>\n",
       "      <td>G/3/S</td>\n",
       "      <td>TRAPPIST-1e</td>\n",
       "      <td>27.0</td>\n",
       "      <td>False</td>\n",
       "      <td>0.0</td>\n",
       "      <td>0.0</td>\n",
       "      <td>0.0</td>\n",
       "      <td>0.0</td>\n",
       "      <td>0.0</td>\n",
       "      <td>Nelly Carsoning</td>\n",
       "    </tr>\n",
       "    <tr>\n",
       "      <th>1</th>\n",
       "      <td>0018_01</td>\n",
       "      <td>Earth</td>\n",
       "      <td>False</td>\n",
       "      <td>F/4/S</td>\n",
       "      <td>TRAPPIST-1e</td>\n",
       "      <td>19.0</td>\n",
       "      <td>False</td>\n",
       "      <td>0.0</td>\n",
       "      <td>9.0</td>\n",
       "      <td>0.0</td>\n",
       "      <td>2823.0</td>\n",
       "      <td>0.0</td>\n",
       "      <td>Lerome Peckers</td>\n",
       "    </tr>\n",
       "    <tr>\n",
       "      <th>2</th>\n",
       "      <td>0019_01</td>\n",
       "      <td>Europa</td>\n",
       "      <td>True</td>\n",
       "      <td>C/0/S</td>\n",
       "      <td>55 Cancri e</td>\n",
       "      <td>31.0</td>\n",
       "      <td>False</td>\n",
       "      <td>0.0</td>\n",
       "      <td>0.0</td>\n",
       "      <td>0.0</td>\n",
       "      <td>0.0</td>\n",
       "      <td>0.0</td>\n",
       "      <td>Sabih Unhearfus</td>\n",
       "    </tr>\n",
       "    <tr>\n",
       "      <th>3</th>\n",
       "      <td>0021_01</td>\n",
       "      <td>Europa</td>\n",
       "      <td>False</td>\n",
       "      <td>C/1/S</td>\n",
       "      <td>TRAPPIST-1e</td>\n",
       "      <td>38.0</td>\n",
       "      <td>False</td>\n",
       "      <td>0.0</td>\n",
       "      <td>6652.0</td>\n",
       "      <td>0.0</td>\n",
       "      <td>181.0</td>\n",
       "      <td>585.0</td>\n",
       "      <td>Meratz Caltilter</td>\n",
       "    </tr>\n",
       "    <tr>\n",
       "      <th>4</th>\n",
       "      <td>0023_01</td>\n",
       "      <td>Earth</td>\n",
       "      <td>False</td>\n",
       "      <td>F/5/S</td>\n",
       "      <td>TRAPPIST-1e</td>\n",
       "      <td>20.0</td>\n",
       "      <td>False</td>\n",
       "      <td>10.0</td>\n",
       "      <td>0.0</td>\n",
       "      <td>635.0</td>\n",
       "      <td>0.0</td>\n",
       "      <td>0.0</td>\n",
       "      <td>Brence Harperez</td>\n",
       "    </tr>\n",
       "  </tbody>\n",
       "</table>\n",
       "</div>"
      ],
      "text/plain": [
       "  PassengerId HomePlanet CryoSleep  Cabin  Destination   Age    VIP  \\\n",
       "0     0013_01      Earth      True  G/3/S  TRAPPIST-1e  27.0  False   \n",
       "1     0018_01      Earth     False  F/4/S  TRAPPIST-1e  19.0  False   \n",
       "2     0019_01     Europa      True  C/0/S  55 Cancri e  31.0  False   \n",
       "3     0021_01     Europa     False  C/1/S  TRAPPIST-1e  38.0  False   \n",
       "4     0023_01      Earth     False  F/5/S  TRAPPIST-1e  20.0  False   \n",
       "\n",
       "   RoomService  FoodCourt  ShoppingMall     Spa  VRDeck              Name  \n",
       "0          0.0        0.0           0.0     0.0     0.0   Nelly Carsoning  \n",
       "1          0.0        9.0           0.0  2823.0     0.0    Lerome Peckers  \n",
       "2          0.0        0.0           0.0     0.0     0.0   Sabih Unhearfus  \n",
       "3          0.0     6652.0           0.0   181.0   585.0  Meratz Caltilter  \n",
       "4         10.0        0.0         635.0     0.0     0.0   Brence Harperez  "
      ]
     },
     "execution_count": 8,
     "metadata": {},
     "output_type": "execute_result"
    }
   ],
   "source": [
    "test.head()"
   ]
  },
  {
   "cell_type": "code",
   "execution_count": 9,
   "id": "9da1343e",
   "metadata": {
    "execution": {
     "iopub.execute_input": "2022-04-05T11:19:55.158177Z",
     "iopub.status.busy": "2022-04-05T11:19:55.157346Z",
     "iopub.status.idle": "2022-04-05T11:19:55.174867Z",
     "shell.execute_reply": "2022-04-05T11:19:55.175585Z",
     "shell.execute_reply.started": "2022-04-05T11:16:33.550568Z"
    },
    "papermill": {
     "duration": 0.093889,
     "end_time": "2022-04-05T11:19:55.175896",
     "exception": false,
     "start_time": "2022-04-05T11:19:55.082007",
     "status": "completed"
    },
    "tags": []
   },
   "outputs": [
    {
     "name": "stdout",
     "output_type": "stream",
     "text": [
      "<class 'pandas.core.frame.DataFrame'>\n",
      "RangeIndex: 4277 entries, 0 to 4276\n",
      "Data columns (total 13 columns):\n",
      " #   Column        Non-Null Count  Dtype  \n",
      "---  ------        --------------  -----  \n",
      " 0   PassengerId   4277 non-null   object \n",
      " 1   HomePlanet    4190 non-null   object \n",
      " 2   CryoSleep     4184 non-null   object \n",
      " 3   Cabin         4177 non-null   object \n",
      " 4   Destination   4185 non-null   object \n",
      " 5   Age           4186 non-null   float64\n",
      " 6   VIP           4184 non-null   object \n",
      " 7   RoomService   4195 non-null   float64\n",
      " 8   FoodCourt     4171 non-null   float64\n",
      " 9   ShoppingMall  4179 non-null   float64\n",
      " 10  Spa           4176 non-null   float64\n",
      " 11  VRDeck        4197 non-null   float64\n",
      " 12  Name          4183 non-null   object \n",
      "dtypes: float64(6), object(7)\n",
      "memory usage: 434.5+ KB\n"
     ]
    }
   ],
   "source": [
    "test.info()"
   ]
  },
  {
   "cell_type": "code",
   "execution_count": 10,
   "id": "743ffb7d",
   "metadata": {
    "execution": {
     "iopub.execute_input": "2022-04-05T11:19:55.325544Z",
     "iopub.status.busy": "2022-04-05T11:19:55.324716Z",
     "iopub.status.idle": "2022-04-05T11:19:55.337469Z",
     "shell.execute_reply": "2022-04-05T11:19:55.336927Z",
     "shell.execute_reply.started": "2022-04-05T11:16:33.574297Z"
    },
    "papermill": {
     "duration": 0.088948,
     "end_time": "2022-04-05T11:19:55.337643",
     "exception": false,
     "start_time": "2022-04-05T11:19:55.248695",
     "status": "completed"
    },
    "tags": []
   },
   "outputs": [
    {
     "data": {
      "text/plain": [
       "PassengerId       0\n",
       "HomePlanet       87\n",
       "CryoSleep        93\n",
       "Cabin           100\n",
       "Destination      92\n",
       "Age              91\n",
       "VIP              93\n",
       "RoomService      82\n",
       "FoodCourt       106\n",
       "ShoppingMall     98\n",
       "Spa             101\n",
       "VRDeck           80\n",
       "Name             94\n",
       "dtype: int64"
      ]
     },
     "execution_count": 10,
     "metadata": {},
     "output_type": "execute_result"
    }
   ],
   "source": [
    "test.isna().sum()"
   ]
  },
  {
   "cell_type": "code",
   "execution_count": 11,
   "id": "639baf4f",
   "metadata": {
    "execution": {
     "iopub.execute_input": "2022-04-05T11:19:55.485278Z",
     "iopub.status.busy": "2022-04-05T11:19:55.484501Z",
     "iopub.status.idle": "2022-04-05T11:19:55.516613Z",
     "shell.execute_reply": "2022-04-05T11:19:55.517194Z",
     "shell.execute_reply.started": "2022-04-05T11:16:33.591186Z"
    },
    "papermill": {
     "duration": 0.10621,
     "end_time": "2022-04-05T11:19:55.517418",
     "exception": false,
     "start_time": "2022-04-05T11:19:55.411208",
     "status": "completed"
    },
    "tags": []
   },
   "outputs": [
    {
     "data": {
      "text/html": [
       "<div>\n",
       "<style scoped>\n",
       "    .dataframe tbody tr th:only-of-type {\n",
       "        vertical-align: middle;\n",
       "    }\n",
       "\n",
       "    .dataframe tbody tr th {\n",
       "        vertical-align: top;\n",
       "    }\n",
       "\n",
       "    .dataframe thead th {\n",
       "        text-align: right;\n",
       "    }\n",
       "</style>\n",
       "<table border=\"1\" class=\"dataframe\">\n",
       "  <thead>\n",
       "    <tr style=\"text-align: right;\">\n",
       "      <th></th>\n",
       "      <th>Age</th>\n",
       "      <th>RoomService</th>\n",
       "      <th>FoodCourt</th>\n",
       "      <th>ShoppingMall</th>\n",
       "      <th>Spa</th>\n",
       "      <th>VRDeck</th>\n",
       "    </tr>\n",
       "  </thead>\n",
       "  <tbody>\n",
       "    <tr>\n",
       "      <th>count</th>\n",
       "      <td>4186.000000</td>\n",
       "      <td>4195.000000</td>\n",
       "      <td>4171.000000</td>\n",
       "      <td>4179.000000</td>\n",
       "      <td>4176.000000</td>\n",
       "      <td>4197.000000</td>\n",
       "    </tr>\n",
       "    <tr>\n",
       "      <th>mean</th>\n",
       "      <td>28.658146</td>\n",
       "      <td>219.266269</td>\n",
       "      <td>439.484296</td>\n",
       "      <td>177.295525</td>\n",
       "      <td>303.052443</td>\n",
       "      <td>310.710031</td>\n",
       "    </tr>\n",
       "    <tr>\n",
       "      <th>std</th>\n",
       "      <td>14.179072</td>\n",
       "      <td>607.011289</td>\n",
       "      <td>1527.663045</td>\n",
       "      <td>560.821123</td>\n",
       "      <td>1117.186015</td>\n",
       "      <td>1246.994742</td>\n",
       "    </tr>\n",
       "    <tr>\n",
       "      <th>min</th>\n",
       "      <td>0.000000</td>\n",
       "      <td>0.000000</td>\n",
       "      <td>0.000000</td>\n",
       "      <td>0.000000</td>\n",
       "      <td>0.000000</td>\n",
       "      <td>0.000000</td>\n",
       "    </tr>\n",
       "    <tr>\n",
       "      <th>25%</th>\n",
       "      <td>19.000000</td>\n",
       "      <td>0.000000</td>\n",
       "      <td>0.000000</td>\n",
       "      <td>0.000000</td>\n",
       "      <td>0.000000</td>\n",
       "      <td>0.000000</td>\n",
       "    </tr>\n",
       "    <tr>\n",
       "      <th>50%</th>\n",
       "      <td>26.000000</td>\n",
       "      <td>0.000000</td>\n",
       "      <td>0.000000</td>\n",
       "      <td>0.000000</td>\n",
       "      <td>0.000000</td>\n",
       "      <td>0.000000</td>\n",
       "    </tr>\n",
       "    <tr>\n",
       "      <th>75%</th>\n",
       "      <td>37.000000</td>\n",
       "      <td>53.000000</td>\n",
       "      <td>78.000000</td>\n",
       "      <td>33.000000</td>\n",
       "      <td>50.000000</td>\n",
       "      <td>36.000000</td>\n",
       "    </tr>\n",
       "    <tr>\n",
       "      <th>max</th>\n",
       "      <td>79.000000</td>\n",
       "      <td>11567.000000</td>\n",
       "      <td>25273.000000</td>\n",
       "      <td>8292.000000</td>\n",
       "      <td>19844.000000</td>\n",
       "      <td>22272.000000</td>\n",
       "    </tr>\n",
       "  </tbody>\n",
       "</table>\n",
       "</div>"
      ],
      "text/plain": [
       "               Age   RoomService     FoodCourt  ShoppingMall           Spa  \\\n",
       "count  4186.000000   4195.000000   4171.000000   4179.000000   4176.000000   \n",
       "mean     28.658146    219.266269    439.484296    177.295525    303.052443   \n",
       "std      14.179072    607.011289   1527.663045    560.821123   1117.186015   \n",
       "min       0.000000      0.000000      0.000000      0.000000      0.000000   \n",
       "25%      19.000000      0.000000      0.000000      0.000000      0.000000   \n",
       "50%      26.000000      0.000000      0.000000      0.000000      0.000000   \n",
       "75%      37.000000     53.000000     78.000000     33.000000     50.000000   \n",
       "max      79.000000  11567.000000  25273.000000   8292.000000  19844.000000   \n",
       "\n",
       "             VRDeck  \n",
       "count   4197.000000  \n",
       "mean     310.710031  \n",
       "std     1246.994742  \n",
       "min        0.000000  \n",
       "25%        0.000000  \n",
       "50%        0.000000  \n",
       "75%       36.000000  \n",
       "max    22272.000000  "
      ]
     },
     "execution_count": 11,
     "metadata": {},
     "output_type": "execute_result"
    }
   ],
   "source": [
    "test.describe()"
   ]
  },
  {
   "cell_type": "markdown",
   "id": "f700617b",
   "metadata": {
    "papermill": {
     "duration": 0.071384,
     "end_time": "2022-04-05T11:19:55.660734",
     "exception": false,
     "start_time": "2022-04-05T11:19:55.589350",
     "status": "completed"
    },
    "tags": []
   },
   "source": [
    "## EDA"
   ]
  },
  {
   "cell_type": "markdown",
   "id": "dca0533b",
   "metadata": {
    "papermill": {
     "duration": 0.072741,
     "end_time": "2022-04-05T11:19:55.807643",
     "exception": false,
     "start_time": "2022-04-05T11:19:55.734902",
     "status": "completed"
    },
    "tags": []
   },
   "source": [
    "- 행성 출발지(**HomePlanet**)와 행성 도착치(**Destination**)의 비율을 알아본다."
   ]
  },
  {
   "cell_type": "code",
   "execution_count": 12,
   "id": "2591d582",
   "metadata": {
    "execution": {
     "iopub.execute_input": "2022-04-05T11:19:55.956713Z",
     "iopub.status.busy": "2022-04-05T11:19:55.955967Z",
     "iopub.status.idle": "2022-04-05T11:19:56.503332Z",
     "shell.execute_reply": "2022-04-05T11:19:56.502597Z",
     "shell.execute_reply.started": "2022-04-05T11:16:33.697306Z"
    },
    "papermill": {
     "duration": 0.622126,
     "end_time": "2022-04-05T11:19:56.503507",
     "exception": false,
     "start_time": "2022-04-05T11:19:55.881381",
     "status": "completed"
    },
    "tags": []
   },
   "outputs": [
    {
     "data": {
      "text/html": [
       "        <script type=\"text/javascript\">\n",
       "        window.PlotlyConfig = {MathJaxConfig: 'local'};\n",
       "        if (window.MathJax) {MathJax.Hub.Config({SVG: {font: \"STIX-Web\"}});}\n",
       "        if (typeof require !== 'undefined') {\n",
       "        require.undef(\"plotly\");\n",
       "        requirejs.config({\n",
       "            paths: {\n",
       "                'plotly': ['https://cdn.plot.ly/plotly-2.9.0.min']\n",
       "            }\n",
       "        });\n",
       "        require(['plotly'], function(Plotly) {\n",
       "            window._Plotly = Plotly;\n",
       "        });\n",
       "        }\n",
       "        </script>\n",
       "        "
      ]
     },
     "metadata": {},
     "output_type": "display_data"
    },
    {
     "data": {
      "text/html": [
       "<div>                            <div id=\"92901778-6f11-46c6-a6a2-5c6fdea43db8\" class=\"plotly-graph-div\" style=\"height:525px; width:100%;\"></div>            <script type=\"text/javascript\">                require([\"plotly\"], function(Plotly) {                    window.PLOTLYENV=window.PLOTLYENV || {};                                    if (document.getElementById(\"92901778-6f11-46c6-a6a2-5c6fdea43db8\")) {                    Plotly.newPlot(                        \"92901778-6f11-46c6-a6a2-5c6fdea43db8\",                        [{\"marker\":{\"size\":[4602,2131,1759],\"sizemode\":\"diameter\",\"sizeref\":25},\"mode\":\"markers\",\"name\":\"HomePlanet\",\"x\":[\"Earth\",\"Europa\",\"Mars\"],\"y\":[4602,2131,1759],\"type\":\"scatter\",\"xaxis\":\"x\",\"yaxis\":\"y\"},{\"marker\":{\"size\":[5915,1800,796],\"sizemode\":\"diameter\",\"sizeref\":25},\"mode\":\"markers\",\"name\":\"Destination\",\"x\":[\"TRAPPIST-1e\",\"55 Cancri e\",\"PSO J318.5-22\"],\"y\":[5915,1800,796],\"type\":\"scatter\",\"xaxis\":\"x2\",\"yaxis\":\"y2\"}],                        {\"template\":{\"data\":{\"bar\":[{\"error_x\":{\"color\":\"#2a3f5f\"},\"error_y\":{\"color\":\"#2a3f5f\"},\"marker\":{\"line\":{\"color\":\"#E5ECF6\",\"width\":0.5},\"pattern\":{\"fillmode\":\"overlay\",\"size\":10,\"solidity\":0.2}},\"type\":\"bar\"}],\"barpolar\":[{\"marker\":{\"line\":{\"color\":\"#E5ECF6\",\"width\":0.5},\"pattern\":{\"fillmode\":\"overlay\",\"size\":10,\"solidity\":0.2}},\"type\":\"barpolar\"}],\"carpet\":[{\"aaxis\":{\"endlinecolor\":\"#2a3f5f\",\"gridcolor\":\"white\",\"linecolor\":\"white\",\"minorgridcolor\":\"white\",\"startlinecolor\":\"#2a3f5f\"},\"baxis\":{\"endlinecolor\":\"#2a3f5f\",\"gridcolor\":\"white\",\"linecolor\":\"white\",\"minorgridcolor\":\"white\",\"startlinecolor\":\"#2a3f5f\"},\"type\":\"carpet\"}],\"choropleth\":[{\"colorbar\":{\"outlinewidth\":0,\"ticks\":\"\"},\"type\":\"choropleth\"}],\"contour\":[{\"colorbar\":{\"outlinewidth\":0,\"ticks\":\"\"},\"colorscale\":[[0.0,\"#0d0887\"],[0.1111111111111111,\"#46039f\"],[0.2222222222222222,\"#7201a8\"],[0.3333333333333333,\"#9c179e\"],[0.4444444444444444,\"#bd3786\"],[0.5555555555555556,\"#d8576b\"],[0.6666666666666666,\"#ed7953\"],[0.7777777777777778,\"#fb9f3a\"],[0.8888888888888888,\"#fdca26\"],[1.0,\"#f0f921\"]],\"type\":\"contour\"}],\"contourcarpet\":[{\"colorbar\":{\"outlinewidth\":0,\"ticks\":\"\"},\"type\":\"contourcarpet\"}],\"heatmap\":[{\"colorbar\":{\"outlinewidth\":0,\"ticks\":\"\"},\"colorscale\":[[0.0,\"#0d0887\"],[0.1111111111111111,\"#46039f\"],[0.2222222222222222,\"#7201a8\"],[0.3333333333333333,\"#9c179e\"],[0.4444444444444444,\"#bd3786\"],[0.5555555555555556,\"#d8576b\"],[0.6666666666666666,\"#ed7953\"],[0.7777777777777778,\"#fb9f3a\"],[0.8888888888888888,\"#fdca26\"],[1.0,\"#f0f921\"]],\"type\":\"heatmap\"}],\"heatmapgl\":[{\"colorbar\":{\"outlinewidth\":0,\"ticks\":\"\"},\"colorscale\":[[0.0,\"#0d0887\"],[0.1111111111111111,\"#46039f\"],[0.2222222222222222,\"#7201a8\"],[0.3333333333333333,\"#9c179e\"],[0.4444444444444444,\"#bd3786\"],[0.5555555555555556,\"#d8576b\"],[0.6666666666666666,\"#ed7953\"],[0.7777777777777778,\"#fb9f3a\"],[0.8888888888888888,\"#fdca26\"],[1.0,\"#f0f921\"]],\"type\":\"heatmapgl\"}],\"histogram\":[{\"marker\":{\"pattern\":{\"fillmode\":\"overlay\",\"size\":10,\"solidity\":0.2}},\"type\":\"histogram\"}],\"histogram2d\":[{\"colorbar\":{\"outlinewidth\":0,\"ticks\":\"\"},\"colorscale\":[[0.0,\"#0d0887\"],[0.1111111111111111,\"#46039f\"],[0.2222222222222222,\"#7201a8\"],[0.3333333333333333,\"#9c179e\"],[0.4444444444444444,\"#bd3786\"],[0.5555555555555556,\"#d8576b\"],[0.6666666666666666,\"#ed7953\"],[0.7777777777777778,\"#fb9f3a\"],[0.8888888888888888,\"#fdca26\"],[1.0,\"#f0f921\"]],\"type\":\"histogram2d\"}],\"histogram2dcontour\":[{\"colorbar\":{\"outlinewidth\":0,\"ticks\":\"\"},\"colorscale\":[[0.0,\"#0d0887\"],[0.1111111111111111,\"#46039f\"],[0.2222222222222222,\"#7201a8\"],[0.3333333333333333,\"#9c179e\"],[0.4444444444444444,\"#bd3786\"],[0.5555555555555556,\"#d8576b\"],[0.6666666666666666,\"#ed7953\"],[0.7777777777777778,\"#fb9f3a\"],[0.8888888888888888,\"#fdca26\"],[1.0,\"#f0f921\"]],\"type\":\"histogram2dcontour\"}],\"mesh3d\":[{\"colorbar\":{\"outlinewidth\":0,\"ticks\":\"\"},\"type\":\"mesh3d\"}],\"parcoords\":[{\"line\":{\"colorbar\":{\"outlinewidth\":0,\"ticks\":\"\"}},\"type\":\"parcoords\"}],\"pie\":[{\"automargin\":true,\"type\":\"pie\"}],\"scatter\":[{\"marker\":{\"colorbar\":{\"outlinewidth\":0,\"ticks\":\"\"}},\"type\":\"scatter\"}],\"scatter3d\":[{\"line\":{\"colorbar\":{\"outlinewidth\":0,\"ticks\":\"\"}},\"marker\":{\"colorbar\":{\"outlinewidth\":0,\"ticks\":\"\"}},\"type\":\"scatter3d\"}],\"scattercarpet\":[{\"marker\":{\"colorbar\":{\"outlinewidth\":0,\"ticks\":\"\"}},\"type\":\"scattercarpet\"}],\"scattergeo\":[{\"marker\":{\"colorbar\":{\"outlinewidth\":0,\"ticks\":\"\"}},\"type\":\"scattergeo\"}],\"scattergl\":[{\"marker\":{\"colorbar\":{\"outlinewidth\":0,\"ticks\":\"\"}},\"type\":\"scattergl\"}],\"scattermapbox\":[{\"marker\":{\"colorbar\":{\"outlinewidth\":0,\"ticks\":\"\"}},\"type\":\"scattermapbox\"}],\"scatterpolar\":[{\"marker\":{\"colorbar\":{\"outlinewidth\":0,\"ticks\":\"\"}},\"type\":\"scatterpolar\"}],\"scatterpolargl\":[{\"marker\":{\"colorbar\":{\"outlinewidth\":0,\"ticks\":\"\"}},\"type\":\"scatterpolargl\"}],\"scatterternary\":[{\"marker\":{\"colorbar\":{\"outlinewidth\":0,\"ticks\":\"\"}},\"type\":\"scatterternary\"}],\"surface\":[{\"colorbar\":{\"outlinewidth\":0,\"ticks\":\"\"},\"colorscale\":[[0.0,\"#0d0887\"],[0.1111111111111111,\"#46039f\"],[0.2222222222222222,\"#7201a8\"],[0.3333333333333333,\"#9c179e\"],[0.4444444444444444,\"#bd3786\"],[0.5555555555555556,\"#d8576b\"],[0.6666666666666666,\"#ed7953\"],[0.7777777777777778,\"#fb9f3a\"],[0.8888888888888888,\"#fdca26\"],[1.0,\"#f0f921\"]],\"type\":\"surface\"}],\"table\":[{\"cells\":{\"fill\":{\"color\":\"#EBF0F8\"},\"line\":{\"color\":\"white\"}},\"header\":{\"fill\":{\"color\":\"#C8D4E3\"},\"line\":{\"color\":\"white\"}},\"type\":\"table\"}]},\"layout\":{\"annotationdefaults\":{\"arrowcolor\":\"#2a3f5f\",\"arrowhead\":0,\"arrowwidth\":1},\"autotypenumbers\":\"strict\",\"coloraxis\":{\"colorbar\":{\"outlinewidth\":0,\"ticks\":\"\"}},\"colorscale\":{\"diverging\":[[0,\"#8e0152\"],[0.1,\"#c51b7d\"],[0.2,\"#de77ae\"],[0.3,\"#f1b6da\"],[0.4,\"#fde0ef\"],[0.5,\"#f7f7f7\"],[0.6,\"#e6f5d0\"],[0.7,\"#b8e186\"],[0.8,\"#7fbc41\"],[0.9,\"#4d9221\"],[1,\"#276419\"]],\"sequential\":[[0.0,\"#0d0887\"],[0.1111111111111111,\"#46039f\"],[0.2222222222222222,\"#7201a8\"],[0.3333333333333333,\"#9c179e\"],[0.4444444444444444,\"#bd3786\"],[0.5555555555555556,\"#d8576b\"],[0.6666666666666666,\"#ed7953\"],[0.7777777777777778,\"#fb9f3a\"],[0.8888888888888888,\"#fdca26\"],[1.0,\"#f0f921\"]],\"sequentialminus\":[[0.0,\"#0d0887\"],[0.1111111111111111,\"#46039f\"],[0.2222222222222222,\"#7201a8\"],[0.3333333333333333,\"#9c179e\"],[0.4444444444444444,\"#bd3786\"],[0.5555555555555556,\"#d8576b\"],[0.6666666666666666,\"#ed7953\"],[0.7777777777777778,\"#fb9f3a\"],[0.8888888888888888,\"#fdca26\"],[1.0,\"#f0f921\"]]},\"colorway\":[\"#636efa\",\"#EF553B\",\"#00cc96\",\"#ab63fa\",\"#FFA15A\",\"#19d3f3\",\"#FF6692\",\"#B6E880\",\"#FF97FF\",\"#FECB52\"],\"font\":{\"color\":\"#2a3f5f\"},\"geo\":{\"bgcolor\":\"white\",\"lakecolor\":\"white\",\"landcolor\":\"#E5ECF6\",\"showlakes\":true,\"showland\":true,\"subunitcolor\":\"white\"},\"hoverlabel\":{\"align\":\"left\"},\"hovermode\":\"closest\",\"mapbox\":{\"style\":\"light\"},\"paper_bgcolor\":\"white\",\"plot_bgcolor\":\"#E5ECF6\",\"polar\":{\"angularaxis\":{\"gridcolor\":\"white\",\"linecolor\":\"white\",\"ticks\":\"\"},\"bgcolor\":\"#E5ECF6\",\"radialaxis\":{\"gridcolor\":\"white\",\"linecolor\":\"white\",\"ticks\":\"\"}},\"scene\":{\"xaxis\":{\"backgroundcolor\":\"#E5ECF6\",\"gridcolor\":\"white\",\"gridwidth\":2,\"linecolor\":\"white\",\"showbackground\":true,\"ticks\":\"\",\"zerolinecolor\":\"white\"},\"yaxis\":{\"backgroundcolor\":\"#E5ECF6\",\"gridcolor\":\"white\",\"gridwidth\":2,\"linecolor\":\"white\",\"showbackground\":true,\"ticks\":\"\",\"zerolinecolor\":\"white\"},\"zaxis\":{\"backgroundcolor\":\"#E5ECF6\",\"gridcolor\":\"white\",\"gridwidth\":2,\"linecolor\":\"white\",\"showbackground\":true,\"ticks\":\"\",\"zerolinecolor\":\"white\"}},\"shapedefaults\":{\"line\":{\"color\":\"#2a3f5f\"}},\"ternary\":{\"aaxis\":{\"gridcolor\":\"white\",\"linecolor\":\"white\",\"ticks\":\"\"},\"baxis\":{\"gridcolor\":\"white\",\"linecolor\":\"white\",\"ticks\":\"\"},\"bgcolor\":\"#E5ECF6\",\"caxis\":{\"gridcolor\":\"white\",\"linecolor\":\"white\",\"ticks\":\"\"}},\"title\":{\"x\":0.05},\"xaxis\":{\"automargin\":true,\"gridcolor\":\"white\",\"linecolor\":\"white\",\"ticks\":\"\",\"title\":{\"standoff\":15},\"zerolinecolor\":\"white\",\"zerolinewidth\":2},\"yaxis\":{\"automargin\":true,\"gridcolor\":\"white\",\"linecolor\":\"white\",\"ticks\":\"\",\"title\":{\"standoff\":15},\"zerolinecolor\":\"white\",\"zerolinewidth\":2}}},\"xaxis\":{\"anchor\":\"y\",\"domain\":[0.0,0.45]},\"yaxis\":{\"anchor\":\"x\",\"domain\":[0.0,1.0]},\"xaxis2\":{\"anchor\":\"y2\",\"domain\":[0.55,1.0]},\"yaxis2\":{\"anchor\":\"x2\",\"domain\":[0.0,1.0],\"matches\":\"y\",\"showticklabels\":false},\"title\":{\"text\":\"<b>Planets</b>\",\"x\":0.5,\"font\":{\"size\":20,\"color\":\"black\",\"family\":\"Space Mono\"}},\"plot_bgcolor\":\"rgba(0,0,0,0)\"},                        {\"responsive\": true}                    ).then(function(){\n",
       "                            \n",
       "var gd = document.getElementById('92901778-6f11-46c6-a6a2-5c6fdea43db8');\n",
       "var x = new MutationObserver(function (mutations, observer) {{\n",
       "        var display = window.getComputedStyle(gd).display;\n",
       "        if (!display || display === 'none') {{\n",
       "            console.log([gd, 'removed!']);\n",
       "            Plotly.purge(gd);\n",
       "            observer.disconnect();\n",
       "        }}\n",
       "}});\n",
       "\n",
       "// Listen for the removal of the full notebook cells\n",
       "var notebookContainer = gd.closest('#notebook-container');\n",
       "if (notebookContainer) {{\n",
       "    x.observe(notebookContainer, {childList: true});\n",
       "}}\n",
       "\n",
       "// Listen for the clearing of the current output cell\n",
       "var outputEl = gd.closest('.output');\n",
       "if (outputEl) {{\n",
       "    x.observe(outputEl, {childList: true});\n",
       "}}\n",
       "\n",
       "                        })                };                });            </script>        </div>"
      ]
     },
     "metadata": {},
     "output_type": "display_data"
    }
   ],
   "source": [
    "# fig = go.Figure()\n",
    "from plotly.subplots import make_subplots\n",
    "\n",
    "c = ['HomePlanet','Destination']\n",
    "fig = make_subplots(rows=1, cols=2,shared_yaxes=True)\n",
    "    \n",
    "fig.add_trace(go.Scatter( x=train['HomePlanet'].value_counts().index, y=train['HomePlanet'].value_counts().values,\n",
    "                         mode='markers',name = 'HomePlanet',\n",
    "        marker=dict(\n",
    "            sizemode = 'diameter',\n",
    "            sizeref = 25,\n",
    "            size = train['HomePlanet'].value_counts().values)),1,1)\n",
    "    \n",
    "fig.add_trace(go.Scatter( x=train['Destination'].value_counts().index, y=train['Destination'].value_counts().values,\n",
    "                         mode='markers', name = 'Destination',\n",
    "        marker=dict(\n",
    "            sizemode = 'diameter',\n",
    "            sizeref = 25,\n",
    "            size = train['Destination'].value_counts().values)),1,2)\n",
    "\n",
    "\n",
    "fig.update_layout(    title='<b>Planets</b>', \n",
    "        title_x=0.5,\n",
    "        titlefont=dict(size =20, color='black', family='Space Mono'),\n",
    "        plot_bgcolor='rgba(0,0,0,0)' )\n",
    "fig.show()"
   ]
  },
  {
   "cell_type": "markdown",
   "id": "c68fcf3f",
   "metadata": {
    "papermill": {
     "duration": 0.073207,
     "end_time": "2022-04-05T11:19:56.650954",
     "exception": false,
     "start_time": "2022-04-05T11:19:56.577747",
     "status": "completed"
    },
    "tags": []
   },
   "source": [
    "---\n",
    "시각화 추가\n",
    "\n",
    "---"
   ]
  },
  {
   "cell_type": "markdown",
   "id": "321c1b34",
   "metadata": {
    "papermill": {
     "duration": 0.073358,
     "end_time": "2022-04-05T11:19:56.797659",
     "exception": false,
     "start_time": "2022-04-05T11:19:56.724301",
     "status": "completed"
    },
    "tags": []
   },
   "source": [
    "# Preprocessing"
   ]
  },
  {
   "cell_type": "markdown",
   "id": "60b6eef9",
   "metadata": {
    "papermill": {
     "duration": 0.074615,
     "end_time": "2022-04-05T11:19:56.945857",
     "exception": false,
     "start_time": "2022-04-05T11:19:56.871242",
     "status": "completed"
    },
    "tags": []
   },
   "source": [
    "### PassengerId"
   ]
  },
  {
   "cell_type": "markdown",
   "id": "b83ddcc4",
   "metadata": {
    "papermill": {
     "duration": 0.075825,
     "end_time": "2022-04-05T11:19:57.094896",
     "exception": false,
     "start_time": "2022-04-05T11:19:57.019071",
     "status": "completed"
    },
    "tags": []
   },
   "source": [
    "- PassengerId의 앞자리 4개를 이용해 가족 그룹 Id 생성 -> 컬럼 Group으로 데이터 값 채우기"
   ]
  },
  {
   "cell_type": "code",
   "execution_count": 13,
   "id": "d0361d96",
   "metadata": {
    "execution": {
     "iopub.execute_input": "2022-04-05T11:19:57.247056Z",
     "iopub.status.busy": "2022-04-05T11:19:57.246332Z",
     "iopub.status.idle": "2022-04-05T11:19:57.271245Z",
     "shell.execute_reply": "2022-04-05T11:19:57.271718Z",
     "shell.execute_reply.started": "2022-04-05T11:16:33.958087Z"
    },
    "papermill": {
     "duration": 0.101008,
     "end_time": "2022-04-05T11:19:57.271945",
     "exception": false,
     "start_time": "2022-04-05T11:19:57.170937",
     "status": "completed"
    },
    "tags": []
   },
   "outputs": [
    {
     "data": {
      "text/html": [
       "<div>\n",
       "<style scoped>\n",
       "    .dataframe tbody tr th:only-of-type {\n",
       "        vertical-align: middle;\n",
       "    }\n",
       "\n",
       "    .dataframe tbody tr th {\n",
       "        vertical-align: top;\n",
       "    }\n",
       "\n",
       "    .dataframe thead th {\n",
       "        text-align: right;\n",
       "    }\n",
       "</style>\n",
       "<table border=\"1\" class=\"dataframe\">\n",
       "  <thead>\n",
       "    <tr style=\"text-align: right;\">\n",
       "      <th></th>\n",
       "      <th>PassengerId</th>\n",
       "      <th>Group</th>\n",
       "    </tr>\n",
       "  </thead>\n",
       "  <tbody>\n",
       "    <tr>\n",
       "      <th>0</th>\n",
       "      <td>0001_01</td>\n",
       "      <td>0001</td>\n",
       "    </tr>\n",
       "    <tr>\n",
       "      <th>1</th>\n",
       "      <td>0002_01</td>\n",
       "      <td>0002</td>\n",
       "    </tr>\n",
       "    <tr>\n",
       "      <th>2</th>\n",
       "      <td>0003_01</td>\n",
       "      <td>0003</td>\n",
       "    </tr>\n",
       "    <tr>\n",
       "      <th>3</th>\n",
       "      <td>0003_02</td>\n",
       "      <td>0003</td>\n",
       "    </tr>\n",
       "    <tr>\n",
       "      <th>4</th>\n",
       "      <td>0004_01</td>\n",
       "      <td>0004</td>\n",
       "    </tr>\n",
       "  </tbody>\n",
       "</table>\n",
       "</div>"
      ],
      "text/plain": [
       "  PassengerId Group\n",
       "0     0001_01  0001\n",
       "1     0002_01  0002\n",
       "2     0003_01  0003\n",
       "3     0003_02  0003\n",
       "4     0004_01  0004"
      ]
     },
     "execution_count": 13,
     "metadata": {},
     "output_type": "execute_result"
    }
   ],
   "source": [
    "train['Group'] = train['PassengerId'].apply(lambda x : str(x[:4]))\n",
    "test['Group'] = test['PassengerId'].apply(lambda x : str(x[:4]))\n",
    "train[['PassengerId','Group']].head()"
   ]
  },
  {
   "cell_type": "code",
   "execution_count": 14,
   "id": "6f725c33",
   "metadata": {
    "execution": {
     "iopub.execute_input": "2022-04-05T11:19:57.423091Z",
     "iopub.status.busy": "2022-04-05T11:19:57.422047Z",
     "iopub.status.idle": "2022-04-05T11:19:57.429221Z",
     "shell.execute_reply": "2022-04-05T11:19:57.429854Z",
     "shell.execute_reply.started": "2022-04-05T11:16:33.980217Z"
    },
    "papermill": {
     "duration": 0.085384,
     "end_time": "2022-04-05T11:19:57.430063",
     "exception": false,
     "start_time": "2022-04-05T11:19:57.344679",
     "status": "completed"
    },
    "tags": []
   },
   "outputs": [
    {
     "data": {
      "text/plain": [
       "PassengerId      object\n",
       "HomePlanet       object\n",
       "CryoSleep        object\n",
       "Cabin            object\n",
       "Destination      object\n",
       "Age             float64\n",
       "VIP              object\n",
       "RoomService     float64\n",
       "FoodCourt       float64\n",
       "ShoppingMall    float64\n",
       "Spa             float64\n",
       "VRDeck          float64\n",
       "Name             object\n",
       "Transported        bool\n",
       "Group            object\n",
       "dtype: object"
      ]
     },
     "execution_count": 14,
     "metadata": {},
     "output_type": "execute_result"
    }
   ],
   "source": [
    "train.dtypes"
   ]
  },
  {
   "cell_type": "markdown",
   "id": "a997daa5",
   "metadata": {
    "papermill": {
     "duration": 0.073958,
     "end_time": "2022-04-05T11:19:57.580563",
     "exception": false,
     "start_time": "2022-04-05T11:19:57.506605",
     "status": "completed"
    },
    "tags": []
   },
   "source": [
    "PassengerId의 앞의 4자리가 잘 분리 되었고 Object 형태로 저장이 되었다."
   ]
  },
  {
   "cell_type": "markdown",
   "id": "6266c81b",
   "metadata": {
    "papermill": {
     "duration": 0.074455,
     "end_time": "2022-04-05T11:19:57.730891",
     "exception": false,
     "start_time": "2022-04-05T11:19:57.656436",
     "status": "completed"
    },
    "tags": []
   },
   "source": [
    "- Group을 이용해 가족 구성원 수를 구한다."
   ]
  },
  {
   "cell_type": "code",
   "execution_count": 15,
   "id": "10633349",
   "metadata": {
    "execution": {
     "iopub.execute_input": "2022-04-05T11:19:57.887127Z",
     "iopub.status.busy": "2022-04-05T11:19:57.885974Z",
     "iopub.status.idle": "2022-04-05T11:19:57.923240Z",
     "shell.execute_reply": "2022-04-05T11:19:57.922529Z",
     "shell.execute_reply.started": "2022-04-05T11:16:34.027449Z"
    },
    "papermill": {
     "duration": 0.114934,
     "end_time": "2022-04-05T11:19:57.923409",
     "exception": false,
     "start_time": "2022-04-05T11:19:57.808475",
     "status": "completed"
    },
    "tags": []
   },
   "outputs": [
    {
     "data": {
      "text/html": [
       "<div>\n",
       "<style scoped>\n",
       "    .dataframe tbody tr th:only-of-type {\n",
       "        vertical-align: middle;\n",
       "    }\n",
       "\n",
       "    .dataframe tbody tr th {\n",
       "        vertical-align: top;\n",
       "    }\n",
       "\n",
       "    .dataframe thead th {\n",
       "        text-align: right;\n",
       "    }\n",
       "</style>\n",
       "<table border=\"1\" class=\"dataframe\">\n",
       "  <thead>\n",
       "    <tr style=\"text-align: right;\">\n",
       "      <th></th>\n",
       "      <th>Group</th>\n",
       "      <th>Family</th>\n",
       "    </tr>\n",
       "  </thead>\n",
       "  <tbody>\n",
       "    <tr>\n",
       "      <th>0</th>\n",
       "      <td>0001</td>\n",
       "      <td>1</td>\n",
       "    </tr>\n",
       "    <tr>\n",
       "      <th>1</th>\n",
       "      <td>0002</td>\n",
       "      <td>1</td>\n",
       "    </tr>\n",
       "    <tr>\n",
       "      <th>2</th>\n",
       "      <td>0003</td>\n",
       "      <td>2</td>\n",
       "    </tr>\n",
       "    <tr>\n",
       "      <th>3</th>\n",
       "      <td>0003</td>\n",
       "      <td>2</td>\n",
       "    </tr>\n",
       "    <tr>\n",
       "      <th>4</th>\n",
       "      <td>0004</td>\n",
       "      <td>1</td>\n",
       "    </tr>\n",
       "  </tbody>\n",
       "</table>\n",
       "</div>"
      ],
      "text/plain": [
       "  Group  Family\n",
       "0  0001       1\n",
       "1  0002       1\n",
       "2  0003       2\n",
       "3  0003       2\n",
       "4  0004       1"
      ]
     },
     "execution_count": 15,
     "metadata": {},
     "output_type": "execute_result"
    }
   ],
   "source": [
    "train['Family'] = train.groupby('Group')['Group'].transform('count')\n",
    "test['Family'] = test.groupby('Group')['Group'].transform('count')\n",
    "train[['Group','Family']].sort_values(['Group']).head()"
   ]
  },
  {
   "cell_type": "code",
   "execution_count": 16,
   "id": "920a359b",
   "metadata": {
    "execution": {
     "iopub.execute_input": "2022-04-05T11:19:58.081319Z",
     "iopub.status.busy": "2022-04-05T11:19:58.080484Z",
     "iopub.status.idle": "2022-04-05T11:19:58.083772Z",
     "shell.execute_reply": "2022-04-05T11:19:58.084450Z",
     "shell.execute_reply.started": "2022-04-05T11:16:34.138303Z"
    },
    "papermill": {
     "duration": 0.087777,
     "end_time": "2022-04-05T11:19:58.084654",
     "exception": false,
     "start_time": "2022-04-05T11:19:57.996877",
     "status": "completed"
    },
    "tags": []
   },
   "outputs": [
    {
     "data": {
      "text/plain": [
       "PassengerId      object\n",
       "HomePlanet       object\n",
       "CryoSleep        object\n",
       "Cabin            object\n",
       "Destination      object\n",
       "Age             float64\n",
       "VIP              object\n",
       "RoomService     float64\n",
       "FoodCourt       float64\n",
       "ShoppingMall    float64\n",
       "Spa             float64\n",
       "VRDeck          float64\n",
       "Name             object\n",
       "Transported        bool\n",
       "Group            object\n",
       "Family            int64\n",
       "dtype: object"
      ]
     },
     "execution_count": 16,
     "metadata": {},
     "output_type": "execute_result"
    }
   ],
   "source": [
    "train.dtypes"
   ]
  },
  {
   "cell_type": "code",
   "execution_count": 17,
   "id": "92683f03",
   "metadata": {
    "execution": {
     "iopub.execute_input": "2022-04-05T11:19:58.239979Z",
     "iopub.status.busy": "2022-04-05T11:19:58.239228Z",
     "iopub.status.idle": "2022-04-05T11:19:58.250694Z",
     "shell.execute_reply": "2022-04-05T11:19:58.250141Z",
     "shell.execute_reply.started": "2022-04-05T11:16:34.208261Z"
    },
    "papermill": {
     "duration": 0.090223,
     "end_time": "2022-04-05T11:19:58.250876",
     "exception": false,
     "start_time": "2022-04-05T11:19:58.160653",
     "status": "completed"
    },
    "tags": []
   },
   "outputs": [
    {
     "data": {
      "text/plain": [
       "count    8693.000000\n",
       "mean        2.035546\n",
       "std         1.596347\n",
       "min         1.000000\n",
       "25%         1.000000\n",
       "50%         1.000000\n",
       "75%         3.000000\n",
       "max         8.000000\n",
       "Name: Family, dtype: float64"
      ]
     },
     "execution_count": 17,
     "metadata": {},
     "output_type": "execute_result"
    }
   ],
   "source": [
    "train['Family'].describe()"
   ]
  },
  {
   "cell_type": "markdown",
   "id": "8a76d1bc",
   "metadata": {
    "papermill": {
     "duration": 0.080085,
     "end_time": "2022-04-05T11:19:58.409105",
     "exception": false,
     "start_time": "2022-04-05T11:19:58.329020",
     "status": "completed"
    },
    "tags": []
   },
   "source": [
    "가족 구성원의 수는 1인 가족 부터 최대 8인 가족까지 존재한다."
   ]
  },
  {
   "cell_type": "markdown",
   "id": "52fe4c52",
   "metadata": {
    "papermill": {
     "duration": 0.078446,
     "end_time": "2022-04-05T11:19:58.562566",
     "exception": false,
     "start_time": "2022-04-05T11:19:58.484120",
     "status": "completed"
    },
    "tags": []
   },
   "source": [
    "### Cabin 나누기"
   ]
  },
  {
   "cell_type": "markdown",
   "id": "ba0a8d61",
   "metadata": {
    "papermill": {
     "duration": 0.077864,
     "end_time": "2022-04-05T11:19:58.716296",
     "exception": false,
     "start_time": "2022-04-05T11:19:58.638432",
     "status": "completed"
    },
    "tags": []
   },
   "source": [
    "- cd : Cabin Deck\n",
    "- cn : Cabin Number\n",
    "- cs : Cabin Side"
   ]
  },
  {
   "cell_type": "code",
   "execution_count": 18,
   "id": "51f0559d",
   "metadata": {
    "execution": {
     "iopub.execute_input": "2022-04-05T11:19:58.872026Z",
     "iopub.status.busy": "2022-04-05T11:19:58.871331Z",
     "iopub.status.idle": "2022-04-05T11:19:58.957093Z",
     "shell.execute_reply": "2022-04-05T11:19:58.957654Z",
     "shell.execute_reply.started": "2022-04-05T11:16:34.320574Z"
    },
    "papermill": {
     "duration": 0.163517,
     "end_time": "2022-04-05T11:19:58.957902",
     "exception": false,
     "start_time": "2022-04-05T11:19:58.794385",
     "status": "completed"
    },
    "tags": []
   },
   "outputs": [],
   "source": [
    "train['cd'] = train['Cabin'].str.split('/').str[0]\n",
    "train['cn'] = train['Cabin'].str.split('/').str[1]\n",
    "train['cs'] = train['Cabin'].str.split('/').str[2]\n",
    "\n",
    "test['cd'] = test['Cabin'].str.split('/').str[0]\n",
    "test['cn'] = test['Cabin'].str.split('/').str[1]\n",
    "test['cs'] = test['Cabin'].str.split('/').str[2]"
   ]
  },
  {
   "cell_type": "markdown",
   "id": "60eca380",
   "metadata": {
    "papermill": {
     "duration": 0.080221,
     "end_time": "2022-04-05T11:19:59.112405",
     "exception": false,
     "start_time": "2022-04-05T11:19:59.032184",
     "status": "completed"
    },
    "tags": []
   },
   "source": [
    "# Pipeline"
   ]
  },
  {
   "cell_type": "markdown",
   "id": "beefc0e2",
   "metadata": {
    "papermill": {
     "duration": 0.077223,
     "end_time": "2022-04-05T11:19:59.268287",
     "exception": false,
     "start_time": "2022-04-05T11:19:59.191064",
     "status": "completed"
    },
    "tags": []
   },
   "source": [
    "- Pipeline 구축하기 전에 훈련 데이터 세트**와 테스트 데이터 세트로 분리"
   ]
  },
  {
   "cell_type": "markdown",
   "id": "045e54c4",
   "metadata": {
    "papermill": {
     "duration": 0.086605,
     "end_time": "2022-04-05T11:19:59.431212",
     "exception": false,
     "start_time": "2022-04-05T11:19:59.344607",
     "status": "completed"
    },
    "tags": []
   },
   "source": [
    "---"
   ]
  },
  {
   "cell_type": "code",
   "execution_count": 19,
   "id": "de82bdb3",
   "metadata": {
    "execution": {
     "iopub.execute_input": "2022-04-05T11:19:59.610209Z",
     "iopub.status.busy": "2022-04-05T11:19:59.609486Z",
     "iopub.status.idle": "2022-04-05T11:19:59.615254Z",
     "shell.execute_reply": "2022-04-05T11:19:59.614425Z",
     "shell.execute_reply.started": "2022-04-05T11:16:34.464616Z"
    },
    "papermill": {
     "duration": 0.084184,
     "end_time": "2022-04-05T11:19:59.615441",
     "exception": false,
     "start_time": "2022-04-05T11:19:59.531257",
     "status": "completed"
    },
    "tags": []
   },
   "outputs": [],
   "source": [
    "from sklearn.preprocessing import LabelEncoder"
   ]
  },
  {
   "cell_type": "code",
   "execution_count": 20,
   "id": "16f13045",
   "metadata": {
    "execution": {
     "iopub.execute_input": "2022-04-05T11:19:59.777927Z",
     "iopub.status.busy": "2022-04-05T11:19:59.776983Z",
     "iopub.status.idle": "2022-04-05T11:19:59.779605Z",
     "shell.execute_reply": "2022-04-05T11:19:59.780204Z",
     "shell.execute_reply.started": "2022-04-05T11:16:34.613317Z"
    },
    "papermill": {
     "duration": 0.085933,
     "end_time": "2022-04-05T11:19:59.780418",
     "exception": false,
     "start_time": "2022-04-05T11:19:59.694485",
     "status": "completed"
    },
    "tags": []
   },
   "outputs": [],
   "source": [
    "label_cols= [\"HomePlanet\", \"CryoSleep\",\"Cabin\", \"Destination\" ,\"VIP\",\"cd\",\"cs\"]"
   ]
  },
  {
   "cell_type": "code",
   "execution_count": 21,
   "id": "4858b4fd",
   "metadata": {
    "execution": {
     "iopub.execute_input": "2022-04-05T11:19:59.938363Z",
     "iopub.status.busy": "2022-04-05T11:19:59.937278Z",
     "iopub.status.idle": "2022-04-05T11:19:59.944281Z",
     "shell.execute_reply": "2022-04-05T11:19:59.944792Z",
     "shell.execute_reply.started": "2022-04-05T11:16:34.756625Z"
    },
    "papermill": {
     "duration": 0.088671,
     "end_time": "2022-04-05T11:19:59.944999",
     "exception": false,
     "start_time": "2022-04-05T11:19:59.856328",
     "status": "completed"
    },
    "tags": []
   },
   "outputs": [],
   "source": [
    "def label_encoder(train,test,columns):\n",
    "    for col in columns:\n",
    "        train[col] = train[col].astype(str)\n",
    "        test[col] = test[col].astype(str)\n",
    "        train[col] = LabelEncoder().fit_transform(train[col])\n",
    "        test[col] = LabelEncoder().fit_transform(test[col])\n",
    "    return train, test"
   ]
  },
  {
   "cell_type": "code",
   "execution_count": 22,
   "id": "9285b203",
   "metadata": {
    "execution": {
     "iopub.execute_input": "2022-04-05T11:20:00.104665Z",
     "iopub.status.busy": "2022-04-05T11:20:00.103556Z",
     "iopub.status.idle": "2022-04-05T11:20:00.187156Z",
     "shell.execute_reply": "2022-04-05T11:20:00.186418Z",
     "shell.execute_reply.started": "2022-04-05T11:16:34.903745Z"
    },
    "papermill": {
     "duration": 0.164982,
     "end_time": "2022-04-05T11:20:00.187337",
     "exception": false,
     "start_time": "2022-04-05T11:20:00.022355",
     "status": "completed"
    },
    "tags": []
   },
   "outputs": [],
   "source": [
    "train, test = label_encoder(train,test,label_cols)"
   ]
  },
  {
   "cell_type": "code",
   "execution_count": 23,
   "id": "b5c9b0af",
   "metadata": {
    "execution": {
     "iopub.execute_input": "2022-04-05T11:20:00.349759Z",
     "iopub.status.busy": "2022-04-05T11:20:00.348689Z",
     "iopub.status.idle": "2022-04-05T11:20:00.602193Z",
     "shell.execute_reply": "2022-04-05T11:20:00.601381Z",
     "shell.execute_reply.started": "2022-04-05T11:16:35.171875Z"
    },
    "papermill": {
     "duration": 0.334727,
     "end_time": "2022-04-05T11:20:00.602371",
     "exception": false,
     "start_time": "2022-04-05T11:20:00.267644",
     "status": "completed"
    },
    "tags": []
   },
   "outputs": [
    {
     "name": "stdout",
     "output_type": "stream",
     "text": [
      "train_data:\n",
      " PassengerId       0\n",
      "HomePlanet        0\n",
      "CryoSleep         0\n",
      "Cabin             0\n",
      "Destination       0\n",
      "Age               0\n",
      "VIP               0\n",
      "RoomService       0\n",
      "FoodCourt         0\n",
      "ShoppingMall      0\n",
      "Spa               0\n",
      "VRDeck            0\n",
      "Name            200\n",
      "Transported       0\n",
      "Group             0\n",
      "Family            0\n",
      "cd                0\n",
      "cn                0\n",
      "cs                0\n",
      "dtype: int64\n",
      "---\n",
      "test_data:\n",
      " PassengerId      0\n",
      "HomePlanet       0\n",
      "CryoSleep        0\n",
      "Cabin            0\n",
      "Destination      0\n",
      "Age              0\n",
      "VIP              0\n",
      "RoomService      0\n",
      "FoodCourt        0\n",
      "ShoppingMall     0\n",
      "Spa              0\n",
      "VRDeck           0\n",
      "Name            94\n",
      "Group            0\n",
      "Family           0\n",
      "cd               0\n",
      "cn               0\n",
      "cs               0\n",
      "dtype: int64\n"
     ]
    }
   ],
   "source": [
    "from sklearn.impute import SimpleImputer\n",
    "\n",
    "imputer_cols = [\"Age\", \"FoodCourt\", \"ShoppingMall\", \"Spa\", \"VRDeck\" ,\"RoomService\",\"Family\",\"cn\"]\n",
    "STRATEGY = 'median'\n",
    "\n",
    "imputer = SimpleImputer(strategy=STRATEGY)\n",
    "imputer.fit(train[imputer_cols])\n",
    "train[imputer_cols] = imputer.transform(train[imputer_cols])\n",
    "test[imputer_cols] = imputer.transform(test[imputer_cols])\n",
    "\n",
    "print(\"train_data:\\n\", train.isnull().sum())\n",
    "print(\"---\")\n",
    "print(\"test_data:\\n\", test.isnull().sum())"
   ]
  },
  {
   "cell_type": "code",
   "execution_count": 24,
   "id": "8b410c8a",
   "metadata": {
    "execution": {
     "iopub.execute_input": "2022-04-05T11:20:00.765390Z",
     "iopub.status.busy": "2022-04-05T11:20:00.762691Z",
     "iopub.status.idle": "2022-04-05T11:20:00.793653Z",
     "shell.execute_reply": "2022-04-05T11:20:00.792978Z",
     "shell.execute_reply.started": "2022-04-05T11:16:35.418454Z"
    },
    "papermill": {
     "duration": 0.114855,
     "end_time": "2022-04-05T11:20:00.793869",
     "exception": false,
     "start_time": "2022-04-05T11:20:00.679014",
     "status": "completed"
    },
    "tags": []
   },
   "outputs": [
    {
     "name": "stdout",
     "output_type": "stream",
     "text": [
      "train_data:\n",
      " PassengerId       0\n",
      "HomePlanet        0\n",
      "CryoSleep         0\n",
      "Cabin             0\n",
      "Destination       0\n",
      "Age               0\n",
      "VIP               0\n",
      "RoomService       0\n",
      "FoodCourt         0\n",
      "ShoppingMall      0\n",
      "Spa               0\n",
      "VRDeck            0\n",
      "Name            200\n",
      "Transported       0\n",
      "Group             0\n",
      "Family            0\n",
      "cd                0\n",
      "cn                0\n",
      "cs                0\n",
      "dtype: int64\n",
      "---\n",
      "test:\n",
      " PassengerId      0\n",
      "HomePlanet       0\n",
      "CryoSleep        0\n",
      "Cabin            0\n",
      "Destination      0\n",
      "Age              0\n",
      "VIP              0\n",
      "RoomService      0\n",
      "FoodCourt        0\n",
      "ShoppingMall     0\n",
      "Spa              0\n",
      "VRDeck           0\n",
      "Name            94\n",
      "Group            0\n",
      "Family           0\n",
      "cd               0\n",
      "cn               0\n",
      "cs               0\n",
      "dtype: int64\n"
     ]
    }
   ],
   "source": [
    "imputer_cols = [\"HomePlanet\", \"CryoSleep\", \"Destination\", \"VIP\",\"cd\",\"cs\"]\n",
    "STRATEGY = 'most_frequent'\n",
    "\n",
    "imputer = SimpleImputer(strategy=STRATEGY)\n",
    "imputer.fit(train[imputer_cols])\n",
    "train[imputer_cols] = imputer.transform(train[imputer_cols])\n",
    "test[imputer_cols] = imputer.transform(test[imputer_cols])\n",
    "\n",
    "print(\"train_data:\\n\", train.isnull().sum())\n",
    "print(\"---\")\n",
    "print(\"test:\\n\", test.isnull().sum())"
   ]
  },
  {
   "cell_type": "code",
   "execution_count": 25,
   "id": "fb524a83",
   "metadata": {
    "execution": {
     "iopub.execute_input": "2022-04-05T11:20:00.959330Z",
     "iopub.status.busy": "2022-04-05T11:20:00.958529Z",
     "iopub.status.idle": "2022-04-05T11:20:00.963440Z",
     "shell.execute_reply": "2022-04-05T11:20:00.963947Z",
     "shell.execute_reply.started": "2022-04-05T11:16:35.574694Z"
    },
    "papermill": {
     "duration": 0.090235,
     "end_time": "2022-04-05T11:20:00.964182",
     "exception": false,
     "start_time": "2022-04-05T11:20:00.873947",
     "status": "completed"
    },
    "tags": []
   },
   "outputs": [],
   "source": [
    "train = train.drop(['Name','Cabin'],axis = 1)\n",
    "test = test.drop(['Name','Cabin'],axis = 1)"
   ]
  },
  {
   "cell_type": "markdown",
   "id": "41699ab2",
   "metadata": {
    "papermill": {
     "duration": 0.078615,
     "end_time": "2022-04-05T11:20:01.121304",
     "exception": false,
     "start_time": "2022-04-05T11:20:01.042689",
     "status": "completed"
    },
    "tags": []
   },
   "source": [
    "---"
   ]
  },
  {
   "cell_type": "code",
   "execution_count": 26,
   "id": "fa22a79a",
   "metadata": {
    "execution": {
     "iopub.execute_input": "2022-04-05T11:20:01.287970Z",
     "iopub.status.busy": "2022-04-05T11:20:01.287170Z",
     "iopub.status.idle": "2022-04-05T11:20:01.298569Z",
     "shell.execute_reply": "2022-04-05T11:20:01.299345Z",
     "shell.execute_reply.started": "2022-04-05T11:16:35.675904Z"
    },
    "papermill": {
     "duration": 0.097959,
     "end_time": "2022-04-05T11:20:01.299614",
     "exception": false,
     "start_time": "2022-04-05T11:20:01.201655",
     "status": "completed"
    },
    "tags": []
   },
   "outputs": [
    {
     "name": "stdout",
     "output_type": "stream",
     "text": [
      "<class 'pandas.core.frame.DataFrame'>\n",
      "RangeIndex: 8693 entries, 0 to 8692\n",
      "Data columns (total 17 columns):\n",
      " #   Column        Non-Null Count  Dtype  \n",
      "---  ------        --------------  -----  \n",
      " 0   PassengerId   8693 non-null   object \n",
      " 1   HomePlanet    8693 non-null   int64  \n",
      " 2   CryoSleep     8693 non-null   int64  \n",
      " 3   Destination   8693 non-null   int64  \n",
      " 4   Age           8693 non-null   float64\n",
      " 5   VIP           8693 non-null   int64  \n",
      " 6   RoomService   8693 non-null   float64\n",
      " 7   FoodCourt     8693 non-null   float64\n",
      " 8   ShoppingMall  8693 non-null   float64\n",
      " 9   Spa           8693 non-null   float64\n",
      " 10  VRDeck        8693 non-null   float64\n",
      " 11  Transported   8693 non-null   bool   \n",
      " 12  Group         8693 non-null   object \n",
      " 13  Family        8693 non-null   float64\n",
      " 14  cd            8693 non-null   int64  \n",
      " 15  cn            8693 non-null   float64\n",
      " 16  cs            8693 non-null   int64  \n",
      "dtypes: bool(1), float64(8), int64(6), object(2)\n",
      "memory usage: 1.1+ MB\n"
     ]
    }
   ],
   "source": [
    "train.info()"
   ]
  },
  {
   "cell_type": "code",
   "execution_count": null,
   "id": "fa65e847",
   "metadata": {
    "papermill": {
     "duration": 0.075009,
     "end_time": "2022-04-05T11:20:01.452896",
     "exception": false,
     "start_time": "2022-04-05T11:20:01.377887",
     "status": "completed"
    },
    "tags": []
   },
   "outputs": [],
   "source": []
  },
  {
   "cell_type": "code",
   "execution_count": 27,
   "id": "24dbd7aa",
   "metadata": {
    "execution": {
     "iopub.execute_input": "2022-04-05T11:20:01.609583Z",
     "iopub.status.busy": "2022-04-05T11:20:01.608847Z",
     "iopub.status.idle": "2022-04-05T11:20:01.614871Z",
     "shell.execute_reply": "2022-04-05T11:20:01.615404Z",
     "shell.execute_reply.started": "2022-04-05T11:16:35.727645Z"
    },
    "papermill": {
     "duration": 0.084923,
     "end_time": "2022-04-05T11:20:01.615633",
     "exception": false,
     "start_time": "2022-04-05T11:20:01.530710",
     "status": "completed"
    },
    "tags": []
   },
   "outputs": [],
   "source": [
    "col = train.drop(['PassengerId','Transported','Group'], axis = 1).columns.tolist()\n",
    "TARGET = 'Transported'"
   ]
  },
  {
   "cell_type": "code",
   "execution_count": 28,
   "id": "812c2e18",
   "metadata": {
    "execution": {
     "iopub.execute_input": "2022-04-05T11:20:01.775727Z",
     "iopub.status.busy": "2022-04-05T11:20:01.774993Z",
     "iopub.status.idle": "2022-04-05T11:20:01.785533Z",
     "shell.execute_reply": "2022-04-05T11:20:01.786066Z",
     "shell.execute_reply.started": "2022-04-05T11:16:35.762200Z"
    },
    "papermill": {
     "duration": 0.090802,
     "end_time": "2022-04-05T11:20:01.786298",
     "exception": false,
     "start_time": "2022-04-05T11:20:01.695496",
     "status": "completed"
    },
    "tags": []
   },
   "outputs": [],
   "source": [
    "X = train[col]\n",
    "Y = train[TARGET]\n",
    "X_train, y_train, X_val, y_val = train_test_split(X,Y,random_state = 12,test_size = 0.33)"
   ]
  },
  {
   "cell_type": "markdown",
   "id": "90d289e3",
   "metadata": {
    "papermill": {
     "duration": 0.074793,
     "end_time": "2022-04-05T11:20:01.942387",
     "exception": false,
     "start_time": "2022-04-05T11:20:01.867594",
     "status": "completed"
    },
    "tags": []
   },
   "source": [
    "- 모델 적용"
   ]
  },
  {
   "cell_type": "code",
   "execution_count": null,
   "id": "215a1d76",
   "metadata": {
    "papermill": {
     "duration": 0.078292,
     "end_time": "2022-04-05T11:20:02.097413",
     "exception": false,
     "start_time": "2022-04-05T11:20:02.019121",
     "status": "completed"
    },
    "tags": []
   },
   "outputs": [],
   "source": []
  },
  {
   "cell_type": "code",
   "execution_count": null,
   "id": "0b6172a0",
   "metadata": {
    "papermill": {
     "duration": 0.078996,
     "end_time": "2022-04-05T11:20:02.255665",
     "exception": false,
     "start_time": "2022-04-05T11:20:02.176669",
     "status": "completed"
    },
    "tags": []
   },
   "outputs": [],
   "source": []
  },
  {
   "cell_type": "markdown",
   "id": "08e21f15",
   "metadata": {
    "papermill": {
     "duration": 0.076964,
     "end_time": "2022-04-05T11:20:02.411997",
     "exception": false,
     "start_time": "2022-04-05T11:20:02.335033",
     "status": "completed"
    },
    "tags": []
   },
   "source": [
    "---"
   ]
  },
  {
   "cell_type": "markdown",
   "id": "fc3b8590",
   "metadata": {
    "papermill": {
     "duration": 0.077101,
     "end_time": "2022-04-05T11:20:02.568746",
     "exception": false,
     "start_time": "2022-04-05T11:20:02.491645",
     "status": "completed"
    },
    "tags": []
   },
   "source": [
    "# 모델"
   ]
  },
  {
   "cell_type": "code",
   "execution_count": 29,
   "id": "86a81ead",
   "metadata": {
    "execution": {
     "iopub.execute_input": "2022-04-05T11:20:02.727276Z",
     "iopub.status.busy": "2022-04-05T11:20:02.726461Z",
     "iopub.status.idle": "2022-04-05T11:20:02.732193Z",
     "shell.execute_reply": "2022-04-05T11:20:02.732971Z",
     "shell.execute_reply.started": "2022-04-05T11:16:35.881234Z"
    },
    "papermill": {
     "duration": 0.085984,
     "end_time": "2022-04-05T11:20:02.733251",
     "exception": false,
     "start_time": "2022-04-05T11:20:02.647267",
     "status": "completed"
    },
    "tags": []
   },
   "outputs": [
    {
     "name": "stdout",
     "output_type": "stream",
     "text": [
      "Index(['PassengerId', 'HomePlanet', 'CryoSleep', 'Destination', 'Age', 'VIP',\n",
      "       'RoomService', 'FoodCourt', 'ShoppingMall', 'Spa', 'VRDeck',\n",
      "       'Transported', 'Group', 'Family', 'cd', 'cn', 'cs'],\n",
      "      dtype='object')\n",
      "Index(['PassengerId', 'HomePlanet', 'CryoSleep', 'Destination', 'Age', 'VIP',\n",
      "       'RoomService', 'FoodCourt', 'ShoppingMall', 'Spa', 'VRDeck', 'Group',\n",
      "       'Family', 'cd', 'cn', 'cs'],\n",
      "      dtype='object')\n"
     ]
    }
   ],
   "source": [
    "print(train.columns)\n",
    "print(test.columns)"
   ]
  },
  {
   "cell_type": "code",
   "execution_count": 30,
   "id": "695016a6",
   "metadata": {
    "execution": {
     "iopub.execute_input": "2022-04-05T11:20:02.895042Z",
     "iopub.status.busy": "2022-04-05T11:20:02.894335Z",
     "iopub.status.idle": "2022-04-05T11:20:02.900919Z",
     "shell.execute_reply": "2022-04-05T11:20:02.901394Z",
     "shell.execute_reply.started": "2022-04-05T11:16:36.031588Z"
    },
    "papermill": {
     "duration": 0.090001,
     "end_time": "2022-04-05T11:20:02.901609",
     "exception": false,
     "start_time": "2022-04-05T11:20:02.811608",
     "status": "completed"
    },
    "tags": []
   },
   "outputs": [],
   "source": [
    "col = train.drop(['PassengerId','Transported','Group'], axis = 1).columns.tolist()\n",
    "TARGET = 'Transported'"
   ]
  },
  {
   "cell_type": "code",
   "execution_count": 31,
   "id": "f22f04f9",
   "metadata": {
    "execution": {
     "iopub.execute_input": "2022-04-05T11:20:03.065833Z",
     "iopub.status.busy": "2022-04-05T11:20:03.064966Z",
     "iopub.status.idle": "2022-04-05T11:20:03.069925Z",
     "shell.execute_reply": "2022-04-05T11:20:03.070499Z",
     "shell.execute_reply.started": "2022-04-05T11:16:36.167503Z"
    },
    "papermill": {
     "duration": 0.089362,
     "end_time": "2022-04-05T11:20:03.070695",
     "exception": false,
     "start_time": "2022-04-05T11:20:02.981333",
     "status": "completed"
    },
    "tags": []
   },
   "outputs": [
    {
     "data": {
      "text/plain": [
       "['HomePlanet',\n",
       " 'CryoSleep',\n",
       " 'Destination',\n",
       " 'Age',\n",
       " 'VIP',\n",
       " 'RoomService',\n",
       " 'FoodCourt',\n",
       " 'ShoppingMall',\n",
       " 'Spa',\n",
       " 'VRDeck',\n",
       " 'Family',\n",
       " 'cd',\n",
       " 'cn',\n",
       " 'cs']"
      ]
     },
     "execution_count": 31,
     "metadata": {},
     "output_type": "execute_result"
    }
   ],
   "source": [
    "col"
   ]
  },
  {
   "cell_type": "code",
   "execution_count": null,
   "id": "a47e02aa",
   "metadata": {
    "papermill": {
     "duration": 0.078828,
     "end_time": "2022-04-05T11:20:03.229260",
     "exception": false,
     "start_time": "2022-04-05T11:20:03.150432",
     "status": "completed"
    },
    "tags": []
   },
   "outputs": [],
   "source": []
  },
  {
   "cell_type": "code",
   "execution_count": null,
   "id": "3d4173f6",
   "metadata": {
    "papermill": {
     "duration": 0.079977,
     "end_time": "2022-04-05T11:20:03.389728",
     "exception": false,
     "start_time": "2022-04-05T11:20:03.309751",
     "status": "completed"
    },
    "tags": []
   },
   "outputs": [],
   "source": []
  },
  {
   "cell_type": "code",
   "execution_count": null,
   "id": "54c1f825",
   "metadata": {
    "papermill": {
     "duration": 0.081254,
     "end_time": "2022-04-05T11:20:03.548987",
     "exception": false,
     "start_time": "2022-04-05T11:20:03.467733",
     "status": "completed"
    },
    "tags": []
   },
   "outputs": [],
   "source": []
  },
  {
   "cell_type": "code",
   "execution_count": 32,
   "id": "a6113650",
   "metadata": {
    "execution": {
     "iopub.execute_input": "2022-04-05T11:20:03.707476Z",
     "iopub.status.busy": "2022-04-05T11:20:03.706672Z",
     "iopub.status.idle": "2022-04-05T11:20:03.716616Z",
     "shell.execute_reply": "2022-04-05T11:20:03.717319Z",
     "shell.execute_reply.started": "2022-04-05T11:16:36.419359Z"
    },
    "papermill": {
     "duration": 0.092104,
     "end_time": "2022-04-05T11:20:03.717551",
     "exception": false,
     "start_time": "2022-04-05T11:20:03.625447",
     "status": "completed"
    },
    "tags": []
   },
   "outputs": [],
   "source": [
    "X = train[col]\n",
    "Y = train[TARGET]\n",
    "X_train, Y_train, X_target, Y_target = train_test_split(X,Y,random_state = 12,test_size = 0.33)"
   ]
  },
  {
   "cell_type": "code",
   "execution_count": 33,
   "id": "3a2a4ece",
   "metadata": {
    "execution": {
     "iopub.execute_input": "2022-04-05T11:20:03.881120Z",
     "iopub.status.busy": "2022-04-05T11:20:03.880131Z",
     "iopub.status.idle": "2022-04-05T11:20:03.890927Z",
     "shell.execute_reply": "2022-04-05T11:20:03.891428Z",
     "shell.execute_reply.started": "2022-04-05T11:16:36.561089Z"
    },
    "papermill": {
     "duration": 0.092897,
     "end_time": "2022-04-05T11:20:03.891657",
     "exception": false,
     "start_time": "2022-04-05T11:20:03.798760",
     "status": "completed"
    },
    "tags": []
   },
   "outputs": [],
   "source": [
    "# type_fold_indice = List[Tuple[np.ndarray, np.ndarray]]\n",
    "\n",
    "idx_fold = []\n",
    "\n",
    "skf = StratifiedKFold(5, random_state=12, shuffle=True)\n",
    "for idx_train, idx_valid in skf.split(X = X, y = Y):\n",
    "    idx_fold.append((idx_train, idx_valid))"
   ]
  },
  {
   "cell_type": "code",
   "execution_count": 34,
   "id": "aefd7a3c",
   "metadata": {
    "execution": {
     "iopub.execute_input": "2022-04-05T11:20:04.060439Z",
     "iopub.status.busy": "2022-04-05T11:20:04.059605Z",
     "iopub.status.idle": "2022-04-05T11:20:04.062698Z",
     "shell.execute_reply": "2022-04-05T11:20:04.063209Z",
     "shell.execute_reply.started": "2022-04-05T11:16:36.706537Z"
    },
    "papermill": {
     "duration": 0.092191,
     "end_time": "2022-04-05T11:20:04.063404",
     "exception": false,
     "start_time": "2022-04-05T11:20:03.971213",
     "status": "completed"
    },
    "tags": []
   },
   "outputs": [
    {
     "data": {
      "text/plain": [
       "\"\\nlgb_params = {\\n    'objective' : 'binary',\\n    'n_estimators' : 100,\\n    'learning_rate' : 0.05,\\n    'random_state' : 12,\\n    'n_jobs' : -1,\\n    'importance_type' : 'gain',\\n    'subsample' : 0.9,\\n    'subsample_freq' : 3,\\n    'colsample_bytree' : 0.6\\n}\\n\""
      ]
     },
     "execution_count": 34,
     "metadata": {},
     "output_type": "execute_result"
    }
   ],
   "source": [
    "'''\n",
    "lgb_params = {\n",
    "    'objective' : 'binary',\n",
    "    'n_estimators' : 100,\n",
    "    'learning_rate' : 0.05,\n",
    "    'random_state' : 12,\n",
    "    'n_jobs' : -1,\n",
    "    'importance_type' : 'gain',\n",
    "    'subsample' : 0.9,\n",
    "    'subsample_freq' : 3,\n",
    "    'colsample_bytree' : 0.6\n",
    "}\n",
    "'''"
   ]
  },
  {
   "cell_type": "code",
   "execution_count": 35,
   "id": "0b8227f9",
   "metadata": {
    "execution": {
     "iopub.execute_input": "2022-04-05T11:20:04.229088Z",
     "iopub.status.busy": "2022-04-05T11:20:04.228120Z",
     "iopub.status.idle": "2022-04-05T11:20:04.232670Z",
     "shell.execute_reply": "2022-04-05T11:20:04.233249Z",
     "shell.execute_reply.started": "2022-04-05T11:16:36.828417Z"
    },
    "papermill": {
     "duration": 0.08842,
     "end_time": "2022-04-05T11:20:04.233461",
     "exception": false,
     "start_time": "2022-04-05T11:20:04.145041",
     "status": "completed"
    },
    "tags": []
   },
   "outputs": [
    {
     "data": {
      "text/plain": [
       "\"\\nlgb_params = {\\n    'objective' : 'binary',\\n    'n_estimators' : 975,\\n    'min_child_samples' : 5,\\n    'max_depth' : 8,\\n    'learning_rate' : 0.01,\\n    'random_state' : 12,\\n    'n_jobs' : -1,\\n    'importance_type' : 'gain',\\n    'subsample' : 0.9,\\n    'subsample_freq' : 3,\\n    'colsample_bytree' : 0.6,\\n    'feature_fraction' : 0.6,\\n    'bagging_freq' : 5, \\n    'bagging_fraction' : 0.9\\n}\\n\""
      ]
     },
     "execution_count": 35,
     "metadata": {},
     "output_type": "execute_result"
    }
   ],
   "source": [
    "'''\n",
    "lgb_params = {\n",
    "    'objective' : 'binary',\n",
    "    'n_estimators' : 975,\n",
    "    'min_child_samples' : 5,\n",
    "    'max_depth' : 8,\n",
    "    'learning_rate' : 0.01,\n",
    "    'random_state' : 12,\n",
    "    'n_jobs' : -1,\n",
    "    'importance_type' : 'gain',\n",
    "    'subsample' : 0.9,\n",
    "    'subsample_freq' : 3,\n",
    "    'colsample_bytree' : 0.6,\n",
    "    'feature_fraction' : 0.6,\n",
    "    'bagging_freq' : 5, \n",
    "    'bagging_fraction' : 0.9\n",
    "}\n",
    "'''"
   ]
  },
  {
   "cell_type": "code",
   "execution_count": 36,
   "id": "1dc31447",
   "metadata": {
    "execution": {
     "iopub.execute_input": "2022-04-05T11:20:04.399533Z",
     "iopub.status.busy": "2022-04-05T11:20:04.398483Z",
     "iopub.status.idle": "2022-04-05T11:20:04.401052Z",
     "shell.execute_reply": "2022-04-05T11:20:04.401745Z",
     "shell.execute_reply.started": "2022-04-05T11:16:36.930111Z"
    },
    "papermill": {
     "duration": 0.088292,
     "end_time": "2022-04-05T11:20:04.401969",
     "exception": false,
     "start_time": "2022-04-05T11:20:04.313677",
     "status": "completed"
    },
    "tags": []
   },
   "outputs": [],
   "source": [
    "lgb_params = {\n",
    "    'objective' : 'binary',\n",
    "    'n_estimators' : 975,\n",
    "    'min_child_samples' : 5,\n",
    "    'max_depth' : 8,\n",
    "    'learning_rate' : 0.01,\n",
    "    'random_state' : 12,\n",
    "    'n_jobs' : -1,\n",
    "    'importance_type' : 'gain',\n",
    "    'feature_fraction' : 0.6,\n",
    "    'bagging_freq' : 5, \n",
    "    'bagging_fraction' : 0.9\n",
    "}"
   ]
  },
  {
   "cell_type": "markdown",
   "id": "607f6613",
   "metadata": {
    "papermill": {
     "duration": 0.079499,
     "end_time": "2022-04-05T11:20:04.562707",
     "exception": false,
     "start_time": "2022-04-05T11:20:04.483208",
     "status": "completed"
    },
    "tags": []
   },
   "source": [
    "model = LGBMClassifier(n_estimators=975, min_child_samples=5, max_depth=8, learning_rate=0.01,feature_fraction=0.6, \n",
    "                       bagging_freq=5, bagging_fraction= 0.9,objective ='binary"
   ]
  },
  {
   "cell_type": "code",
   "execution_count": 37,
   "id": "8e75bef5",
   "metadata": {
    "execution": {
     "iopub.execute_input": "2022-04-05T11:20:04.728068Z",
     "iopub.status.busy": "2022-04-05T11:20:04.726958Z",
     "iopub.status.idle": "2022-04-05T11:20:04.731017Z",
     "shell.execute_reply": "2022-04-05T11:20:04.731603Z",
     "shell.execute_reply.started": "2022-04-05T11:16:37.057721Z"
    },
    "papermill": {
     "duration": 0.089248,
     "end_time": "2022-04-05T11:20:04.731826",
     "exception": false,
     "start_time": "2022-04-05T11:20:04.642578",
     "status": "completed"
    },
    "tags": []
   },
   "outputs": [],
   "source": [
    "lgb_scores = []\n",
    "predictions = 0"
   ]
  },
  {
   "cell_type": "code",
   "execution_count": 38,
   "id": "bb71fa7a",
   "metadata": {
    "execution": {
     "iopub.execute_input": "2022-04-05T11:20:04.902835Z",
     "iopub.status.busy": "2022-04-05T11:20:04.901931Z",
     "iopub.status.idle": "2022-04-05T11:20:04.905484Z",
     "shell.execute_reply": "2022-04-05T11:20:04.906009Z",
     "shell.execute_reply.started": "2022-04-05T11:16:37.177387Z"
    },
    "papermill": {
     "duration": 0.092488,
     "end_time": "2022-04-05T11:20:04.906208",
     "exception": false,
     "start_time": "2022-04-05T11:20:04.813720",
     "status": "completed"
    },
    "tags": []
   },
   "outputs": [
    {
     "data": {
      "text/plain": [
       "\"\\nparam_grid = {'n_estimators': [100, 200, 400, 600],\\n              'learning_rate': [0.1, 0.05, 0.]}\\ngrid = GridSearchCV(LGBMClassifier(), param_grid=param_grid, cv=5, scoring='accuracy')\\ngrid.fit(X, Y)\\nbest_params = grid.best_params_\\nprint('Best score of cross validation: {:.2f}'.format(grid.best_score_))\\nprint('Best parameters:', best_params)\\n\""
      ]
     },
     "execution_count": 38,
     "metadata": {},
     "output_type": "execute_result"
    }
   ],
   "source": [
    "'''\n",
    "param_grid = {'n_estimators': [100, 200, 400, 600],\n",
    "              'learning_rate': [0.1, 0.05, 0.]}\n",
    "grid = GridSearchCV(LGBMClassifier(), param_grid=param_grid, cv=5, scoring='accuracy')\n",
    "grid.fit(X, Y)\n",
    "best_params = grid.best_params_\n",
    "print('Best score of cross validation: {:.2f}'.format(grid.best_score_))\n",
    "print('Best parameters:', best_params)\n",
    "'''"
   ]
  },
  {
   "cell_type": "code",
   "execution_count": 39,
   "id": "d831c76e",
   "metadata": {
    "execution": {
     "iopub.execute_input": "2022-04-05T11:20:05.081136Z",
     "iopub.status.busy": "2022-04-05T11:20:05.080336Z",
     "iopub.status.idle": "2022-04-05T11:20:16.095430Z",
     "shell.execute_reply": "2022-04-05T11:20:16.096935Z",
     "shell.execute_reply.started": "2022-04-05T11:16:37.305686Z"
    },
    "papermill": {
     "duration": 11.108413,
     "end_time": "2022-04-05T11:20:16.097195",
     "exception": false,
     "start_time": "2022-04-05T11:20:04.988782",
     "status": "completed"
    },
    "tags": []
   },
   "outputs": [
    {
     "name": "stdout",
     "output_type": "stream",
     "text": [
      "========== Fold=1 ==========\n",
      "[LightGBM] [Warning] bagging_fraction is set=0.9, subsample=1.0 will be ignored. Current value: bagging_fraction=0.9\n",
      "[LightGBM] [Warning] feature_fraction is set=0.6, colsample_bytree=1.0 will be ignored. Current value: feature_fraction=0.6\n",
      "[LightGBM] [Warning] bagging_freq is set=5, subsample_freq=0 will be ignored. Current value: bagging_freq=5\n",
      "Fold=1, Accuracy score : 0.817136%\n",
      "========== Fold=2 ==========\n",
      "[LightGBM] [Warning] bagging_fraction is set=0.9, subsample=1.0 will be ignored. Current value: bagging_fraction=0.9\n",
      "[LightGBM] [Warning] feature_fraction is set=0.6, colsample_bytree=1.0 will be ignored. Current value: feature_fraction=0.6\n",
      "[LightGBM] [Warning] bagging_freq is set=5, subsample_freq=0 will be ignored. Current value: bagging_freq=5\n",
      "Fold=2, Accuracy score : 0.806210%\n",
      "========== Fold=3 ==========\n",
      "[LightGBM] [Warning] bagging_fraction is set=0.9, subsample=1.0 will be ignored. Current value: bagging_fraction=0.9\n",
      "[LightGBM] [Warning] feature_fraction is set=0.6, colsample_bytree=1.0 will be ignored. Current value: feature_fraction=0.6\n",
      "[LightGBM] [Warning] bagging_freq is set=5, subsample_freq=0 will be ignored. Current value: bagging_freq=5\n",
      "Fold=3, Accuracy score : 0.806210%\n",
      "========== Fold=4 ==========\n",
      "[LightGBM] [Warning] bagging_fraction is set=0.9, subsample=1.0 will be ignored. Current value: bagging_fraction=0.9\n",
      "[LightGBM] [Warning] feature_fraction is set=0.6, colsample_bytree=1.0 will be ignored. Current value: feature_fraction=0.6\n",
      "[LightGBM] [Warning] bagging_freq is set=5, subsample_freq=0 will be ignored. Current value: bagging_freq=5\n",
      "Fold=4, Accuracy score : 0.804948%\n",
      "========== Fold=5 ==========\n",
      "[LightGBM] [Warning] bagging_fraction is set=0.9, subsample=1.0 will be ignored. Current value: bagging_fraction=0.9\n",
      "[LightGBM] [Warning] feature_fraction is set=0.6, colsample_bytree=1.0 will be ignored. Current value: feature_fraction=0.6\n",
      "[LightGBM] [Warning] bagging_freq is set=5, subsample_freq=0 will be ignored. Current value: bagging_freq=5\n",
      "Fold=5, Accuracy score : 0.810127%\n",
      "\n",
      "Mean Accuracy :  0.8089264030820724\n"
     ]
    }
   ],
   "source": [
    "for fold, (idx_train, idx_valid) in enumerate(idx_fold):\n",
    "    print(10*\"=\", f\"Fold={fold+1}\", 10*\"=\")\n",
    "    \n",
    "    X_train, X_valid = train.iloc[idx_train][col],train.iloc[idx_valid][col]\n",
    "    Y_train, Y_valid = train.iloc[idx_train][TARGET],train.iloc[idx_valid][TARGET]\n",
    "    \n",
    "    model = LGBMClassifier(**lgb_params)\n",
    "    model.fit(X_train, Y_train, verbose = 0)\n",
    "    \n",
    "    # 정확도 측정해서 저장\n",
    "    preds_valid = model.predict(X_valid)\n",
    "    acc = accuracy_score(Y_valid, preds_valid)\n",
    "    lgb_scores.append(acc)\n",
    "    \n",
    "    preds = model.predict(test[col]) \n",
    "    predictions += preds/5\n",
    "    \n",
    "    print(f\"Fold={fold+1}, Accuracy score : {acc :2f}%\")\n",
    "    \n",
    "print(\"\")\n",
    "print(\"Mean Accuracy : \", np.mean(lgb_scores))"
   ]
  },
  {
   "cell_type": "markdown",
   "id": "5fa838f4",
   "metadata": {
    "papermill": {
     "duration": 0.080255,
     "end_time": "2022-04-05T11:20:16.262863",
     "exception": false,
     "start_time": "2022-04-05T11:20:16.182608",
     "status": "completed"
    },
    "tags": []
   },
   "source": [
    "---"
   ]
  },
  {
   "cell_type": "markdown",
   "id": "ad3d876e",
   "metadata": {
    "papermill": {
     "duration": 0.087228,
     "end_time": "2022-04-05T11:20:16.435125",
     "exception": false,
     "start_time": "2022-04-05T11:20:16.347897",
     "status": "completed"
    },
    "tags": []
   },
   "source": [
    "---"
   ]
  },
  {
   "cell_type": "markdown",
   "id": "d12e8def",
   "metadata": {
    "papermill": {
     "duration": 0.083597,
     "end_time": "2022-04-05T11:20:16.600037",
     "exception": false,
     "start_time": "2022-04-05T11:20:16.516440",
     "status": "completed"
    },
    "tags": []
   },
   "source": [
    "# Submission"
   ]
  },
  {
   "cell_type": "code",
   "execution_count": 40,
   "id": "6ff4c634",
   "metadata": {
    "execution": {
     "iopub.execute_input": "2022-04-05T11:20:16.769957Z",
     "iopub.status.busy": "2022-04-05T11:20:16.768739Z",
     "iopub.status.idle": "2022-04-05T11:20:16.792999Z",
     "shell.execute_reply": "2022-04-05T11:20:16.792274Z",
     "shell.execute_reply.started": "2022-04-05T11:16:46.603706Z"
    },
    "papermill": {
     "duration": 0.109197,
     "end_time": "2022-04-05T11:20:16.793173",
     "exception": false,
     "start_time": "2022-04-05T11:20:16.683976",
     "status": "completed"
    },
    "tags": []
   },
   "outputs": [
    {
     "data": {
      "text/html": [
       "<div>\n",
       "<style scoped>\n",
       "    .dataframe tbody tr th:only-of-type {\n",
       "        vertical-align: middle;\n",
       "    }\n",
       "\n",
       "    .dataframe tbody tr th {\n",
       "        vertical-align: top;\n",
       "    }\n",
       "\n",
       "    .dataframe thead th {\n",
       "        text-align: right;\n",
       "    }\n",
       "</style>\n",
       "<table border=\"1\" class=\"dataframe\">\n",
       "  <thead>\n",
       "    <tr style=\"text-align: right;\">\n",
       "      <th></th>\n",
       "      <th>PassengerId</th>\n",
       "      <th>Transported</th>\n",
       "    </tr>\n",
       "  </thead>\n",
       "  <tbody>\n",
       "    <tr>\n",
       "      <th>0</th>\n",
       "      <td>0013_01</td>\n",
       "      <td>True</td>\n",
       "    </tr>\n",
       "    <tr>\n",
       "      <th>1</th>\n",
       "      <td>0018_01</td>\n",
       "      <td>False</td>\n",
       "    </tr>\n",
       "    <tr>\n",
       "      <th>2</th>\n",
       "      <td>0019_01</td>\n",
       "      <td>True</td>\n",
       "    </tr>\n",
       "    <tr>\n",
       "      <th>3</th>\n",
       "      <td>0021_01</td>\n",
       "      <td>True</td>\n",
       "    </tr>\n",
       "    <tr>\n",
       "      <th>4</th>\n",
       "      <td>0023_01</td>\n",
       "      <td>True</td>\n",
       "    </tr>\n",
       "  </tbody>\n",
       "</table>\n",
       "</div>"
      ],
      "text/plain": [
       "  PassengerId  Transported\n",
       "0     0013_01         True\n",
       "1     0018_01        False\n",
       "2     0019_01         True\n",
       "3     0021_01         True\n",
       "4     0023_01         True"
      ]
     },
     "execution_count": 40,
     "metadata": {},
     "output_type": "execute_result"
    }
   ],
   "source": [
    "submission[TARGET] = predictions.astype(\"bool\")\n",
    "submission.to_csv(\"submission.csv\",index=False)\n",
    "submission.head()"
   ]
  },
  {
   "cell_type": "code",
   "execution_count": null,
   "id": "dc46e6da",
   "metadata": {
    "papermill": {
     "duration": 0.082407,
     "end_time": "2022-04-05T11:20:16.959965",
     "exception": false,
     "start_time": "2022-04-05T11:20:16.877558",
     "status": "completed"
    },
    "tags": []
   },
   "outputs": [],
   "source": []
  },
  {
   "cell_type": "markdown",
   "id": "1387bf5f",
   "metadata": {
    "papermill": {
     "duration": 0.082616,
     "end_time": "2022-04-05T11:20:17.128125",
     "exception": false,
     "start_time": "2022-04-05T11:20:17.045509",
     "status": "completed"
    },
    "tags": []
   },
   "source": [
    "# 결과\n",
    "4/1 : accuracy : 0.791   |  등수 :   341 / 전체"
   ]
  },
  {
   "cell_type": "code",
   "execution_count": null,
   "id": "4053f2e2",
   "metadata": {
    "papermill": {
     "duration": 0.083322,
     "end_time": "2022-04-05T11:20:17.292469",
     "exception": false,
     "start_time": "2022-04-05T11:20:17.209147",
     "status": "completed"
    },
    "tags": []
   },
   "outputs": [],
   "source": []
  }
 ],
 "metadata": {
  "kernelspec": {
   "display_name": "Python 3",
   "language": "python",
   "name": "python3"
  },
  "language_info": {
   "codemirror_mode": {
    "name": "ipython",
    "version": 3
   },
   "file_extension": ".py",
   "mimetype": "text/x-python",
   "name": "python",
   "nbconvert_exporter": "python",
   "pygments_lexer": "ipython3",
   "version": "3.7.12"
  },
  "papermill": {
   "default_parameters": {},
   "duration": 40.828411,
   "end_time": "2022-04-05T11:20:18.593588",
   "environment_variables": {},
   "exception": null,
   "input_path": "__notebook__.ipynb",
   "output_path": "__notebook__.ipynb",
   "parameters": {},
   "start_time": "2022-04-05T11:19:37.765177",
   "version": "2.3.3"
  }
 },
 "nbformat": 4,
 "nbformat_minor": 5
}
