{
 "cells": [
  {
   "cell_type": "code",
   "execution_count": 1,
   "id": "8f3bd721",
   "metadata": {
    "_cell_guid": "b1076dfc-b9ad-4769-8c92-a6c4dae69d19",
    "_uuid": "8f2839f25d086af736a60e9eeb907d3b93b6e0e5",
    "execution": {
     "iopub.execute_input": "2022-04-03T14:36:25.995177Z",
     "iopub.status.busy": "2022-04-03T14:36:25.994280Z",
     "iopub.status.idle": "2022-04-03T14:36:26.001644Z",
     "shell.execute_reply": "2022-04-03T14:36:26.000548Z",
     "shell.execute_reply.started": "2022-04-03T13:08:04.671117Z"
    },
    "papermill": {
     "duration": 0.076456,
     "end_time": "2022-04-03T14:36:26.001896",
     "exception": false,
     "start_time": "2022-04-03T14:36:25.925440",
     "status": "completed"
    },
    "tags": []
   },
   "outputs": [
    {
     "name": "stdout",
     "output_type": "stream",
     "text": [
      "/kaggle/input/spaceship-titanic/sample_submission.csv\n",
      "/kaggle/input/spaceship-titanic/train.csv\n",
      "/kaggle/input/spaceship-titanic/test.csv\n"
     ]
    }
   ],
   "source": [
    "# This Python 3 environment comes with many helpful analytics libraries installed\n",
    "# It is defined by the kaggle/python Docker image: https://github.com/kaggle/docker-python\n",
    "# For example, here's several helpful packages to load\n",
    "# Input data files are available in the read-only \"../input/\" directory\n",
    "# For example, running this (by clicking run or pressing Shift+Enter) will list all files under the input directory\n",
    "import os\n",
    "for dirname, _, filenames in os.walk('/kaggle/input'):\n",
    "    for filename in filenames:\n",
    "        print(os.path.join(dirname, filename))\n",
    "# You can write up to 20GB to the current directory (/kaggle/working/) that gets preserved as output when you create a version using \"Save & Run All\" \n",
    "# You can also write temporary files to /kaggle/temp/, but they won't be saved outside of the current session"
   ]
  },
  {
   "cell_type": "markdown",
   "id": "b4a6ff48",
   "metadata": {
    "papermill": {
     "duration": 0.057539,
     "end_time": "2022-04-03T14:36:26.123079",
     "exception": false,
     "start_time": "2022-04-03T14:36:26.065540",
     "status": "completed"
    },
    "tags": []
   },
   "source": [
    "# 라이브러리, 데이터 불러오기"
   ]
  },
  {
   "cell_type": "code",
   "execution_count": 2,
   "id": "2d4b3477",
   "metadata": {
    "execution": {
     "iopub.execute_input": "2022-04-03T14:36:26.243788Z",
     "iopub.status.busy": "2022-04-03T14:36:26.242987Z",
     "iopub.status.idle": "2022-04-03T14:36:28.373669Z",
     "shell.execute_reply": "2022-04-03T14:36:28.374163Z",
     "shell.execute_reply.started": "2022-04-03T13:09:46.562460Z"
    },
    "papermill": {
     "duration": 2.194226,
     "end_time": "2022-04-03T14:36:28.374357",
     "exception": false,
     "start_time": "2022-04-03T14:36:26.180131",
     "status": "completed"
    },
    "tags": []
   },
   "outputs": [],
   "source": [
    "import numpy as np\n",
    "import pandas as pd\n",
    "import plotly.express as px\n",
    "import plotly.graph_objects as go\n",
    "\n",
    "from sklearn.metrics import accuracy_score\n",
    "from sklearn.model_selection import train_test_split, StratifiedKFold"
   ]
  },
  {
   "cell_type": "code",
   "execution_count": 3,
   "id": "241487bc",
   "metadata": {
    "execution": {
     "iopub.execute_input": "2022-04-03T14:36:28.493501Z",
     "iopub.status.busy": "2022-04-03T14:36:28.492846Z",
     "iopub.status.idle": "2022-04-03T14:36:28.642050Z",
     "shell.execute_reply": "2022-04-03T14:36:28.640639Z",
     "shell.execute_reply.started": "2022-04-03T13:09:47.764356Z"
    },
    "papermill": {
     "duration": 0.20973,
     "end_time": "2022-04-03T14:36:28.642220",
     "exception": false,
     "start_time": "2022-04-03T14:36:28.432490",
     "status": "completed"
    },
    "tags": []
   },
   "outputs": [],
   "source": [
    "train = pd.read_csv(\"/kaggle/input/spaceship-titanic/train.csv\")\n",
    "test = pd.read_csv(\"/kaggle/input/spaceship-titanic/test.csv\")"
   ]
  },
  {
   "cell_type": "markdown",
   "id": "280759f7",
   "metadata": {
    "papermill": {
     "duration": 0.057187,
     "end_time": "2022-04-03T14:36:28.757289",
     "exception": false,
     "start_time": "2022-04-03T14:36:28.700102",
     "status": "completed"
    },
    "tags": []
   },
   "source": [
    "## train Data"
   ]
  },
  {
   "cell_type": "code",
   "execution_count": 4,
   "id": "ea24174e",
   "metadata": {
    "execution": {
     "iopub.execute_input": "2022-04-03T14:36:28.881151Z",
     "iopub.status.busy": "2022-04-03T14:36:28.880409Z",
     "iopub.status.idle": "2022-04-03T14:36:28.904501Z",
     "shell.execute_reply": "2022-04-03T14:36:28.905080Z",
     "shell.execute_reply.started": "2022-04-03T13:10:37.726620Z"
    },
    "papermill": {
     "duration": 0.09042,
     "end_time": "2022-04-03T14:36:28.905273",
     "exception": false,
     "start_time": "2022-04-03T14:36:28.814853",
     "status": "completed"
    },
    "tags": []
   },
   "outputs": [
    {
     "data": {
      "text/html": [
       "<div>\n",
       "<style scoped>\n",
       "    .dataframe tbody tr th:only-of-type {\n",
       "        vertical-align: middle;\n",
       "    }\n",
       "\n",
       "    .dataframe tbody tr th {\n",
       "        vertical-align: top;\n",
       "    }\n",
       "\n",
       "    .dataframe thead th {\n",
       "        text-align: right;\n",
       "    }\n",
       "</style>\n",
       "<table border=\"1\" class=\"dataframe\">\n",
       "  <thead>\n",
       "    <tr style=\"text-align: right;\">\n",
       "      <th></th>\n",
       "      <th>PassengerId</th>\n",
       "      <th>HomePlanet</th>\n",
       "      <th>CryoSleep</th>\n",
       "      <th>Cabin</th>\n",
       "      <th>Destination</th>\n",
       "      <th>Age</th>\n",
       "      <th>VIP</th>\n",
       "      <th>RoomService</th>\n",
       "      <th>FoodCourt</th>\n",
       "      <th>ShoppingMall</th>\n",
       "      <th>Spa</th>\n",
       "      <th>VRDeck</th>\n",
       "      <th>Name</th>\n",
       "      <th>Transported</th>\n",
       "    </tr>\n",
       "  </thead>\n",
       "  <tbody>\n",
       "    <tr>\n",
       "      <th>0</th>\n",
       "      <td>0001_01</td>\n",
       "      <td>Europa</td>\n",
       "      <td>False</td>\n",
       "      <td>B/0/P</td>\n",
       "      <td>TRAPPIST-1e</td>\n",
       "      <td>39.0</td>\n",
       "      <td>False</td>\n",
       "      <td>0.0</td>\n",
       "      <td>0.0</td>\n",
       "      <td>0.0</td>\n",
       "      <td>0.0</td>\n",
       "      <td>0.0</td>\n",
       "      <td>Maham Ofracculy</td>\n",
       "      <td>False</td>\n",
       "    </tr>\n",
       "    <tr>\n",
       "      <th>1</th>\n",
       "      <td>0002_01</td>\n",
       "      <td>Earth</td>\n",
       "      <td>False</td>\n",
       "      <td>F/0/S</td>\n",
       "      <td>TRAPPIST-1e</td>\n",
       "      <td>24.0</td>\n",
       "      <td>False</td>\n",
       "      <td>109.0</td>\n",
       "      <td>9.0</td>\n",
       "      <td>25.0</td>\n",
       "      <td>549.0</td>\n",
       "      <td>44.0</td>\n",
       "      <td>Juanna Vines</td>\n",
       "      <td>True</td>\n",
       "    </tr>\n",
       "    <tr>\n",
       "      <th>2</th>\n",
       "      <td>0003_01</td>\n",
       "      <td>Europa</td>\n",
       "      <td>False</td>\n",
       "      <td>A/0/S</td>\n",
       "      <td>TRAPPIST-1e</td>\n",
       "      <td>58.0</td>\n",
       "      <td>True</td>\n",
       "      <td>43.0</td>\n",
       "      <td>3576.0</td>\n",
       "      <td>0.0</td>\n",
       "      <td>6715.0</td>\n",
       "      <td>49.0</td>\n",
       "      <td>Altark Susent</td>\n",
       "      <td>False</td>\n",
       "    </tr>\n",
       "    <tr>\n",
       "      <th>3</th>\n",
       "      <td>0003_02</td>\n",
       "      <td>Europa</td>\n",
       "      <td>False</td>\n",
       "      <td>A/0/S</td>\n",
       "      <td>TRAPPIST-1e</td>\n",
       "      <td>33.0</td>\n",
       "      <td>False</td>\n",
       "      <td>0.0</td>\n",
       "      <td>1283.0</td>\n",
       "      <td>371.0</td>\n",
       "      <td>3329.0</td>\n",
       "      <td>193.0</td>\n",
       "      <td>Solam Susent</td>\n",
       "      <td>False</td>\n",
       "    </tr>\n",
       "    <tr>\n",
       "      <th>4</th>\n",
       "      <td>0004_01</td>\n",
       "      <td>Earth</td>\n",
       "      <td>False</td>\n",
       "      <td>F/1/S</td>\n",
       "      <td>TRAPPIST-1e</td>\n",
       "      <td>16.0</td>\n",
       "      <td>False</td>\n",
       "      <td>303.0</td>\n",
       "      <td>70.0</td>\n",
       "      <td>151.0</td>\n",
       "      <td>565.0</td>\n",
       "      <td>2.0</td>\n",
       "      <td>Willy Santantines</td>\n",
       "      <td>True</td>\n",
       "    </tr>\n",
       "  </tbody>\n",
       "</table>\n",
       "</div>"
      ],
      "text/plain": [
       "  PassengerId HomePlanet CryoSleep  Cabin  Destination   Age    VIP  \\\n",
       "0     0001_01     Europa     False  B/0/P  TRAPPIST-1e  39.0  False   \n",
       "1     0002_01      Earth     False  F/0/S  TRAPPIST-1e  24.0  False   \n",
       "2     0003_01     Europa     False  A/0/S  TRAPPIST-1e  58.0   True   \n",
       "3     0003_02     Europa     False  A/0/S  TRAPPIST-1e  33.0  False   \n",
       "4     0004_01      Earth     False  F/1/S  TRAPPIST-1e  16.0  False   \n",
       "\n",
       "   RoomService  FoodCourt  ShoppingMall     Spa  VRDeck               Name  \\\n",
       "0          0.0        0.0           0.0     0.0     0.0    Maham Ofracculy   \n",
       "1        109.0        9.0          25.0   549.0    44.0       Juanna Vines   \n",
       "2         43.0     3576.0           0.0  6715.0    49.0      Altark Susent   \n",
       "3          0.0     1283.0         371.0  3329.0   193.0       Solam Susent   \n",
       "4        303.0       70.0         151.0   565.0     2.0  Willy Santantines   \n",
       "\n",
       "   Transported  \n",
       "0        False  \n",
       "1         True  \n",
       "2        False  \n",
       "3        False  \n",
       "4         True  "
      ]
     },
     "execution_count": 4,
     "metadata": {},
     "output_type": "execute_result"
    }
   ],
   "source": [
    "train.head()"
   ]
  },
  {
   "cell_type": "code",
   "execution_count": 5,
   "id": "8e7a1481",
   "metadata": {
    "execution": {
     "iopub.execute_input": "2022-04-03T14:36:29.054747Z",
     "iopub.status.busy": "2022-04-03T14:36:29.054019Z",
     "iopub.status.idle": "2022-04-03T14:36:29.085352Z",
     "shell.execute_reply": "2022-04-03T14:36:29.084764Z",
     "shell.execute_reply.started": "2022-04-03T13:23:55.198592Z"
    },
    "papermill": {
     "duration": 0.107633,
     "end_time": "2022-04-03T14:36:29.085505",
     "exception": false,
     "start_time": "2022-04-03T14:36:28.977872",
     "status": "completed"
    },
    "tags": []
   },
   "outputs": [
    {
     "name": "stdout",
     "output_type": "stream",
     "text": [
      "<class 'pandas.core.frame.DataFrame'>\n",
      "RangeIndex: 8693 entries, 0 to 8692\n",
      "Data columns (total 14 columns):\n",
      " #   Column        Non-Null Count  Dtype  \n",
      "---  ------        --------------  -----  \n",
      " 0   PassengerId   8693 non-null   object \n",
      " 1   HomePlanet    8492 non-null   object \n",
      " 2   CryoSleep     8476 non-null   object \n",
      " 3   Cabin         8494 non-null   object \n",
      " 4   Destination   8511 non-null   object \n",
      " 5   Age           8514 non-null   float64\n",
      " 6   VIP           8490 non-null   object \n",
      " 7   RoomService   8512 non-null   float64\n",
      " 8   FoodCourt     8510 non-null   float64\n",
      " 9   ShoppingMall  8485 non-null   float64\n",
      " 10  Spa           8510 non-null   float64\n",
      " 11  VRDeck        8505 non-null   float64\n",
      " 12  Name          8493 non-null   object \n",
      " 13  Transported   8693 non-null   bool   \n",
      "dtypes: bool(1), float64(6), object(7)\n",
      "memory usage: 891.5+ KB\n"
     ]
    }
   ],
   "source": [
    "train.info()"
   ]
  },
  {
   "cell_type": "code",
   "execution_count": 6,
   "id": "d14a426c",
   "metadata": {
    "execution": {
     "iopub.execute_input": "2022-04-03T14:36:29.205781Z",
     "iopub.status.busy": "2022-04-03T14:36:29.205087Z",
     "iopub.status.idle": "2022-04-03T14:36:29.219854Z",
     "shell.execute_reply": "2022-04-03T14:36:29.220428Z",
     "shell.execute_reply.started": "2022-04-03T13:25:05.445871Z"
    },
    "papermill": {
     "duration": 0.076469,
     "end_time": "2022-04-03T14:36:29.220626",
     "exception": false,
     "start_time": "2022-04-03T14:36:29.144157",
     "status": "completed"
    },
    "tags": []
   },
   "outputs": [
    {
     "data": {
      "text/plain": [
       "PassengerId       0\n",
       "HomePlanet      201\n",
       "CryoSleep       217\n",
       "Cabin           199\n",
       "Destination     182\n",
       "Age             179\n",
       "VIP             203\n",
       "RoomService     181\n",
       "FoodCourt       183\n",
       "ShoppingMall    208\n",
       "Spa             183\n",
       "VRDeck          188\n",
       "Name            200\n",
       "Transported       0\n",
       "dtype: int64"
      ]
     },
     "execution_count": 6,
     "metadata": {},
     "output_type": "execute_result"
    }
   ],
   "source": [
    "train.isna().sum()"
   ]
  },
  {
   "cell_type": "markdown",
   "id": "16fb61e2",
   "metadata": {
    "papermill": {
     "duration": 0.070523,
     "end_time": "2022-04-03T14:36:29.350012",
     "exception": false,
     "start_time": "2022-04-03T14:36:29.279489",
     "status": "completed"
    },
    "tags": []
   },
   "source": [
    "- 수치형 특성"
   ]
  },
  {
   "cell_type": "code",
   "execution_count": 7,
   "id": "d4b09933",
   "metadata": {
    "execution": {
     "iopub.execute_input": "2022-04-03T14:36:29.472239Z",
     "iopub.status.busy": "2022-04-03T14:36:29.471533Z",
     "iopub.status.idle": "2022-04-03T14:36:29.505483Z",
     "shell.execute_reply": "2022-04-03T14:36:29.504975Z",
     "shell.execute_reply.started": "2022-04-03T13:10:39.765128Z"
    },
    "papermill": {
     "duration": 0.096051,
     "end_time": "2022-04-03T14:36:29.505647",
     "exception": false,
     "start_time": "2022-04-03T14:36:29.409596",
     "status": "completed"
    },
    "tags": []
   },
   "outputs": [
    {
     "data": {
      "text/html": [
       "<div>\n",
       "<style scoped>\n",
       "    .dataframe tbody tr th:only-of-type {\n",
       "        vertical-align: middle;\n",
       "    }\n",
       "\n",
       "    .dataframe tbody tr th {\n",
       "        vertical-align: top;\n",
       "    }\n",
       "\n",
       "    .dataframe thead th {\n",
       "        text-align: right;\n",
       "    }\n",
       "</style>\n",
       "<table border=\"1\" class=\"dataframe\">\n",
       "  <thead>\n",
       "    <tr style=\"text-align: right;\">\n",
       "      <th></th>\n",
       "      <th>Age</th>\n",
       "      <th>RoomService</th>\n",
       "      <th>FoodCourt</th>\n",
       "      <th>ShoppingMall</th>\n",
       "      <th>Spa</th>\n",
       "      <th>VRDeck</th>\n",
       "    </tr>\n",
       "  </thead>\n",
       "  <tbody>\n",
       "    <tr>\n",
       "      <th>count</th>\n",
       "      <td>8514.000000</td>\n",
       "      <td>8512.000000</td>\n",
       "      <td>8510.000000</td>\n",
       "      <td>8485.000000</td>\n",
       "      <td>8510.000000</td>\n",
       "      <td>8505.000000</td>\n",
       "    </tr>\n",
       "    <tr>\n",
       "      <th>mean</th>\n",
       "      <td>28.827930</td>\n",
       "      <td>224.687617</td>\n",
       "      <td>458.077203</td>\n",
       "      <td>173.729169</td>\n",
       "      <td>311.138778</td>\n",
       "      <td>304.854791</td>\n",
       "    </tr>\n",
       "    <tr>\n",
       "      <th>std</th>\n",
       "      <td>14.489021</td>\n",
       "      <td>666.717663</td>\n",
       "      <td>1611.489240</td>\n",
       "      <td>604.696458</td>\n",
       "      <td>1136.705535</td>\n",
       "      <td>1145.717189</td>\n",
       "    </tr>\n",
       "    <tr>\n",
       "      <th>min</th>\n",
       "      <td>0.000000</td>\n",
       "      <td>0.000000</td>\n",
       "      <td>0.000000</td>\n",
       "      <td>0.000000</td>\n",
       "      <td>0.000000</td>\n",
       "      <td>0.000000</td>\n",
       "    </tr>\n",
       "    <tr>\n",
       "      <th>25%</th>\n",
       "      <td>19.000000</td>\n",
       "      <td>0.000000</td>\n",
       "      <td>0.000000</td>\n",
       "      <td>0.000000</td>\n",
       "      <td>0.000000</td>\n",
       "      <td>0.000000</td>\n",
       "    </tr>\n",
       "    <tr>\n",
       "      <th>50%</th>\n",
       "      <td>27.000000</td>\n",
       "      <td>0.000000</td>\n",
       "      <td>0.000000</td>\n",
       "      <td>0.000000</td>\n",
       "      <td>0.000000</td>\n",
       "      <td>0.000000</td>\n",
       "    </tr>\n",
       "    <tr>\n",
       "      <th>75%</th>\n",
       "      <td>38.000000</td>\n",
       "      <td>47.000000</td>\n",
       "      <td>76.000000</td>\n",
       "      <td>27.000000</td>\n",
       "      <td>59.000000</td>\n",
       "      <td>46.000000</td>\n",
       "    </tr>\n",
       "    <tr>\n",
       "      <th>max</th>\n",
       "      <td>79.000000</td>\n",
       "      <td>14327.000000</td>\n",
       "      <td>29813.000000</td>\n",
       "      <td>23492.000000</td>\n",
       "      <td>22408.000000</td>\n",
       "      <td>24133.000000</td>\n",
       "    </tr>\n",
       "  </tbody>\n",
       "</table>\n",
       "</div>"
      ],
      "text/plain": [
       "               Age   RoomService     FoodCourt  ShoppingMall           Spa  \\\n",
       "count  8514.000000   8512.000000   8510.000000   8485.000000   8510.000000   \n",
       "mean     28.827930    224.687617    458.077203    173.729169    311.138778   \n",
       "std      14.489021    666.717663   1611.489240    604.696458   1136.705535   \n",
       "min       0.000000      0.000000      0.000000      0.000000      0.000000   \n",
       "25%      19.000000      0.000000      0.000000      0.000000      0.000000   \n",
       "50%      27.000000      0.000000      0.000000      0.000000      0.000000   \n",
       "75%      38.000000     47.000000     76.000000     27.000000     59.000000   \n",
       "max      79.000000  14327.000000  29813.000000  23492.000000  22408.000000   \n",
       "\n",
       "             VRDeck  \n",
       "count   8505.000000  \n",
       "mean     304.854791  \n",
       "std     1145.717189  \n",
       "min        0.000000  \n",
       "25%        0.000000  \n",
       "50%        0.000000  \n",
       "75%       46.000000  \n",
       "max    24133.000000  "
      ]
     },
     "execution_count": 7,
     "metadata": {},
     "output_type": "execute_result"
    }
   ],
   "source": [
    "train.describe()"
   ]
  },
  {
   "cell_type": "markdown",
   "id": "4a9a3626",
   "metadata": {
    "papermill": {
     "duration": 0.059306,
     "end_time": "2022-04-03T14:36:29.624799",
     "exception": false,
     "start_time": "2022-04-03T14:36:29.565493",
     "status": "completed"
    },
    "tags": []
   },
   "source": [
    "- 범주형 특성\n",
    "(Cabin은 너무 많아 추후에 전처리 작업후 살펴보자)"
   ]
  },
  {
   "cell_type": "code",
   "execution_count": 8,
   "id": "e557d8b6",
   "metadata": {
    "execution": {
     "iopub.execute_input": "2022-04-03T14:36:29.749041Z",
     "iopub.status.busy": "2022-04-03T14:36:29.748319Z",
     "iopub.status.idle": "2022-04-03T14:36:29.751028Z",
     "shell.execute_reply": "2022-04-03T14:36:29.750519Z",
     "shell.execute_reply.started": "2022-04-03T13:23:07.528714Z"
    },
    "papermill": {
     "duration": 0.066436,
     "end_time": "2022-04-03T14:36:29.751171",
     "exception": false,
     "start_time": "2022-04-03T14:36:29.684735",
     "status": "completed"
    },
    "tags": []
   },
   "outputs": [],
   "source": [
    "cat_col = ['HomePlanet','CryoSleep','Destination','VIP']"
   ]
  },
  {
   "cell_type": "code",
   "execution_count": 9,
   "id": "03e470f3",
   "metadata": {
    "execution": {
     "iopub.execute_input": "2022-04-03T14:36:29.884396Z",
     "iopub.status.busy": "2022-04-03T14:36:29.877231Z",
     "iopub.status.idle": "2022-04-03T14:36:29.892344Z",
     "shell.execute_reply": "2022-04-03T14:36:29.891753Z",
     "shell.execute_reply.started": "2022-04-03T13:23:08.475184Z"
    },
    "papermill": {
     "duration": 0.081337,
     "end_time": "2022-04-03T14:36:29.892489",
     "exception": false,
     "start_time": "2022-04-03T14:36:29.811152",
     "status": "completed"
    },
    "tags": []
   },
   "outputs": [
    {
     "name": "stdout",
     "output_type": "stream",
     "text": [
      "__________ col=HomePlanet __________\n",
      "Earth     4602\n",
      "Europa    2131\n",
      "Mars      1759\n",
      "Name: HomePlanet, dtype: int64\n",
      "__________ col=CryoSleep __________\n",
      "False    5439\n",
      "True     3037\n",
      "Name: CryoSleep, dtype: int64\n",
      "__________ col=Destination __________\n",
      "TRAPPIST-1e      5915\n",
      "55 Cancri e      1800\n",
      "PSO J318.5-22     796\n",
      "Name: Destination, dtype: int64\n",
      "__________ col=VIP __________\n",
      "False    8291\n",
      "True      199\n",
      "Name: VIP, dtype: int64\n"
     ]
    }
   ],
   "source": [
    "for i in cat_col:\n",
    "    print(10*\"_\", f\"col={i}\", 10*\"_\")\n",
    "    print(train[i].value_counts())\n",
    "    "
   ]
  },
  {
   "cell_type": "markdown",
   "id": "fbca7bd4",
   "metadata": {
    "papermill": {
     "duration": 0.059192,
     "end_time": "2022-04-03T14:36:30.013287",
     "exception": false,
     "start_time": "2022-04-03T14:36:29.954095",
     "status": "completed"
    },
    "tags": []
   },
   "source": [
    "## test Data"
   ]
  },
  {
   "cell_type": "code",
   "execution_count": 10,
   "id": "d3fe71a5",
   "metadata": {
    "execution": {
     "iopub.execute_input": "2022-04-03T14:36:30.153504Z",
     "iopub.status.busy": "2022-04-03T14:36:30.136345Z",
     "iopub.status.idle": "2022-04-03T14:36:30.157716Z",
     "shell.execute_reply": "2022-04-03T14:36:30.157114Z",
     "shell.execute_reply.started": "2022-04-03T13:27:44.362020Z"
    },
    "papermill": {
     "duration": 0.084528,
     "end_time": "2022-04-03T14:36:30.157864",
     "exception": false,
     "start_time": "2022-04-03T14:36:30.073336",
     "status": "completed"
    },
    "tags": []
   },
   "outputs": [
    {
     "data": {
      "text/html": [
       "<div>\n",
       "<style scoped>\n",
       "    .dataframe tbody tr th:only-of-type {\n",
       "        vertical-align: middle;\n",
       "    }\n",
       "\n",
       "    .dataframe tbody tr th {\n",
       "        vertical-align: top;\n",
       "    }\n",
       "\n",
       "    .dataframe thead th {\n",
       "        text-align: right;\n",
       "    }\n",
       "</style>\n",
       "<table border=\"1\" class=\"dataframe\">\n",
       "  <thead>\n",
       "    <tr style=\"text-align: right;\">\n",
       "      <th></th>\n",
       "      <th>PassengerId</th>\n",
       "      <th>HomePlanet</th>\n",
       "      <th>CryoSleep</th>\n",
       "      <th>Cabin</th>\n",
       "      <th>Destination</th>\n",
       "      <th>Age</th>\n",
       "      <th>VIP</th>\n",
       "      <th>RoomService</th>\n",
       "      <th>FoodCourt</th>\n",
       "      <th>ShoppingMall</th>\n",
       "      <th>Spa</th>\n",
       "      <th>VRDeck</th>\n",
       "      <th>Name</th>\n",
       "    </tr>\n",
       "  </thead>\n",
       "  <tbody>\n",
       "    <tr>\n",
       "      <th>0</th>\n",
       "      <td>0013_01</td>\n",
       "      <td>Earth</td>\n",
       "      <td>True</td>\n",
       "      <td>G/3/S</td>\n",
       "      <td>TRAPPIST-1e</td>\n",
       "      <td>27.0</td>\n",
       "      <td>False</td>\n",
       "      <td>0.0</td>\n",
       "      <td>0.0</td>\n",
       "      <td>0.0</td>\n",
       "      <td>0.0</td>\n",
       "      <td>0.0</td>\n",
       "      <td>Nelly Carsoning</td>\n",
       "    </tr>\n",
       "    <tr>\n",
       "      <th>1</th>\n",
       "      <td>0018_01</td>\n",
       "      <td>Earth</td>\n",
       "      <td>False</td>\n",
       "      <td>F/4/S</td>\n",
       "      <td>TRAPPIST-1e</td>\n",
       "      <td>19.0</td>\n",
       "      <td>False</td>\n",
       "      <td>0.0</td>\n",
       "      <td>9.0</td>\n",
       "      <td>0.0</td>\n",
       "      <td>2823.0</td>\n",
       "      <td>0.0</td>\n",
       "      <td>Lerome Peckers</td>\n",
       "    </tr>\n",
       "    <tr>\n",
       "      <th>2</th>\n",
       "      <td>0019_01</td>\n",
       "      <td>Europa</td>\n",
       "      <td>True</td>\n",
       "      <td>C/0/S</td>\n",
       "      <td>55 Cancri e</td>\n",
       "      <td>31.0</td>\n",
       "      <td>False</td>\n",
       "      <td>0.0</td>\n",
       "      <td>0.0</td>\n",
       "      <td>0.0</td>\n",
       "      <td>0.0</td>\n",
       "      <td>0.0</td>\n",
       "      <td>Sabih Unhearfus</td>\n",
       "    </tr>\n",
       "    <tr>\n",
       "      <th>3</th>\n",
       "      <td>0021_01</td>\n",
       "      <td>Europa</td>\n",
       "      <td>False</td>\n",
       "      <td>C/1/S</td>\n",
       "      <td>TRAPPIST-1e</td>\n",
       "      <td>38.0</td>\n",
       "      <td>False</td>\n",
       "      <td>0.0</td>\n",
       "      <td>6652.0</td>\n",
       "      <td>0.0</td>\n",
       "      <td>181.0</td>\n",
       "      <td>585.0</td>\n",
       "      <td>Meratz Caltilter</td>\n",
       "    </tr>\n",
       "    <tr>\n",
       "      <th>4</th>\n",
       "      <td>0023_01</td>\n",
       "      <td>Earth</td>\n",
       "      <td>False</td>\n",
       "      <td>F/5/S</td>\n",
       "      <td>TRAPPIST-1e</td>\n",
       "      <td>20.0</td>\n",
       "      <td>False</td>\n",
       "      <td>10.0</td>\n",
       "      <td>0.0</td>\n",
       "      <td>635.0</td>\n",
       "      <td>0.0</td>\n",
       "      <td>0.0</td>\n",
       "      <td>Brence Harperez</td>\n",
       "    </tr>\n",
       "  </tbody>\n",
       "</table>\n",
       "</div>"
      ],
      "text/plain": [
       "  PassengerId HomePlanet CryoSleep  Cabin  Destination   Age    VIP  \\\n",
       "0     0013_01      Earth      True  G/3/S  TRAPPIST-1e  27.0  False   \n",
       "1     0018_01      Earth     False  F/4/S  TRAPPIST-1e  19.0  False   \n",
       "2     0019_01     Europa      True  C/0/S  55 Cancri e  31.0  False   \n",
       "3     0021_01     Europa     False  C/1/S  TRAPPIST-1e  38.0  False   \n",
       "4     0023_01      Earth     False  F/5/S  TRAPPIST-1e  20.0  False   \n",
       "\n",
       "   RoomService  FoodCourt  ShoppingMall     Spa  VRDeck              Name  \n",
       "0          0.0        0.0           0.0     0.0     0.0   Nelly Carsoning  \n",
       "1          0.0        9.0           0.0  2823.0     0.0    Lerome Peckers  \n",
       "2          0.0        0.0           0.0     0.0     0.0   Sabih Unhearfus  \n",
       "3          0.0     6652.0           0.0   181.0   585.0  Meratz Caltilter  \n",
       "4         10.0        0.0         635.0     0.0     0.0   Brence Harperez  "
      ]
     },
     "execution_count": 10,
     "metadata": {},
     "output_type": "execute_result"
    }
   ],
   "source": [
    "test.head()"
   ]
  },
  {
   "cell_type": "code",
   "execution_count": 11,
   "id": "42fb103d",
   "metadata": {
    "execution": {
     "iopub.execute_input": "2022-04-03T14:36:30.296071Z",
     "iopub.status.busy": "2022-04-03T14:36:30.288435Z",
     "iopub.status.idle": "2022-04-03T14:36:30.299734Z",
     "shell.execute_reply": "2022-04-03T14:36:30.298609Z",
     "shell.execute_reply.started": "2022-04-03T13:27:45.009405Z"
    },
    "papermill": {
     "duration": 0.081186,
     "end_time": "2022-04-03T14:36:30.299948",
     "exception": false,
     "start_time": "2022-04-03T14:36:30.218762",
     "status": "completed"
    },
    "tags": []
   },
   "outputs": [
    {
     "name": "stdout",
     "output_type": "stream",
     "text": [
      "<class 'pandas.core.frame.DataFrame'>\n",
      "RangeIndex: 4277 entries, 0 to 4276\n",
      "Data columns (total 13 columns):\n",
      " #   Column        Non-Null Count  Dtype  \n",
      "---  ------        --------------  -----  \n",
      " 0   PassengerId   4277 non-null   object \n",
      " 1   HomePlanet    4190 non-null   object \n",
      " 2   CryoSleep     4184 non-null   object \n",
      " 3   Cabin         4177 non-null   object \n",
      " 4   Destination   4185 non-null   object \n",
      " 5   Age           4186 non-null   float64\n",
      " 6   VIP           4184 non-null   object \n",
      " 7   RoomService   4195 non-null   float64\n",
      " 8   FoodCourt     4171 non-null   float64\n",
      " 9   ShoppingMall  4179 non-null   float64\n",
      " 10  Spa           4176 non-null   float64\n",
      " 11  VRDeck        4197 non-null   float64\n",
      " 12  Name          4183 non-null   object \n",
      "dtypes: float64(6), object(7)\n",
      "memory usage: 434.5+ KB\n"
     ]
    }
   ],
   "source": [
    "test.info()"
   ]
  },
  {
   "cell_type": "code",
   "execution_count": 12,
   "id": "ab477d1c",
   "metadata": {
    "execution": {
     "iopub.execute_input": "2022-04-03T14:36:30.436882Z",
     "iopub.status.busy": "2022-04-03T14:36:30.436152Z",
     "iopub.status.idle": "2022-04-03T14:36:30.438854Z",
     "shell.execute_reply": "2022-04-03T14:36:30.439347Z",
     "shell.execute_reply.started": "2022-04-03T13:27:28.730521Z"
    },
    "papermill": {
     "duration": 0.076077,
     "end_time": "2022-04-03T14:36:30.439518",
     "exception": false,
     "start_time": "2022-04-03T14:36:30.363441",
     "status": "completed"
    },
    "tags": []
   },
   "outputs": [
    {
     "data": {
      "text/plain": [
       "PassengerId       0\n",
       "HomePlanet       87\n",
       "CryoSleep        93\n",
       "Cabin           100\n",
       "Destination      92\n",
       "Age              91\n",
       "VIP              93\n",
       "RoomService      82\n",
       "FoodCourt       106\n",
       "ShoppingMall     98\n",
       "Spa             101\n",
       "VRDeck           80\n",
       "Name             94\n",
       "dtype: int64"
      ]
     },
     "execution_count": 12,
     "metadata": {},
     "output_type": "execute_result"
    }
   ],
   "source": [
    "test.isna().sum()"
   ]
  },
  {
   "cell_type": "markdown",
   "id": "7991c38b",
   "metadata": {
    "papermill": {
     "duration": 0.061408,
     "end_time": "2022-04-03T14:36:30.562521",
     "exception": false,
     "start_time": "2022-04-03T14:36:30.501113",
     "status": "completed"
    },
    "tags": []
   },
   "source": [
    "- 수치형 특성"
   ]
  },
  {
   "cell_type": "code",
   "execution_count": 13,
   "id": "0faf8dbe",
   "metadata": {
    "execution": {
     "iopub.execute_input": "2022-04-03T14:36:30.694371Z",
     "iopub.status.busy": "2022-04-03T14:36:30.693674Z",
     "iopub.status.idle": "2022-04-03T14:36:30.720237Z",
     "shell.execute_reply": "2022-04-03T14:36:30.719613Z",
     "shell.execute_reply.started": "2022-04-03T12:31:32.322808Z"
    },
    "papermill": {
     "duration": 0.096078,
     "end_time": "2022-04-03T14:36:30.720382",
     "exception": false,
     "start_time": "2022-04-03T14:36:30.624304",
     "status": "completed"
    },
    "tags": []
   },
   "outputs": [
    {
     "data": {
      "text/html": [
       "<div>\n",
       "<style scoped>\n",
       "    .dataframe tbody tr th:only-of-type {\n",
       "        vertical-align: middle;\n",
       "    }\n",
       "\n",
       "    .dataframe tbody tr th {\n",
       "        vertical-align: top;\n",
       "    }\n",
       "\n",
       "    .dataframe thead th {\n",
       "        text-align: right;\n",
       "    }\n",
       "</style>\n",
       "<table border=\"1\" class=\"dataframe\">\n",
       "  <thead>\n",
       "    <tr style=\"text-align: right;\">\n",
       "      <th></th>\n",
       "      <th>Age</th>\n",
       "      <th>RoomService</th>\n",
       "      <th>FoodCourt</th>\n",
       "      <th>ShoppingMall</th>\n",
       "      <th>Spa</th>\n",
       "      <th>VRDeck</th>\n",
       "    </tr>\n",
       "  </thead>\n",
       "  <tbody>\n",
       "    <tr>\n",
       "      <th>count</th>\n",
       "      <td>4186.000000</td>\n",
       "      <td>4195.000000</td>\n",
       "      <td>4171.000000</td>\n",
       "      <td>4179.000000</td>\n",
       "      <td>4176.000000</td>\n",
       "      <td>4197.000000</td>\n",
       "    </tr>\n",
       "    <tr>\n",
       "      <th>mean</th>\n",
       "      <td>28.658146</td>\n",
       "      <td>219.266269</td>\n",
       "      <td>439.484296</td>\n",
       "      <td>177.295525</td>\n",
       "      <td>303.052443</td>\n",
       "      <td>310.710031</td>\n",
       "    </tr>\n",
       "    <tr>\n",
       "      <th>std</th>\n",
       "      <td>14.179072</td>\n",
       "      <td>607.011289</td>\n",
       "      <td>1527.663045</td>\n",
       "      <td>560.821123</td>\n",
       "      <td>1117.186015</td>\n",
       "      <td>1246.994742</td>\n",
       "    </tr>\n",
       "    <tr>\n",
       "      <th>min</th>\n",
       "      <td>0.000000</td>\n",
       "      <td>0.000000</td>\n",
       "      <td>0.000000</td>\n",
       "      <td>0.000000</td>\n",
       "      <td>0.000000</td>\n",
       "      <td>0.000000</td>\n",
       "    </tr>\n",
       "    <tr>\n",
       "      <th>25%</th>\n",
       "      <td>19.000000</td>\n",
       "      <td>0.000000</td>\n",
       "      <td>0.000000</td>\n",
       "      <td>0.000000</td>\n",
       "      <td>0.000000</td>\n",
       "      <td>0.000000</td>\n",
       "    </tr>\n",
       "    <tr>\n",
       "      <th>50%</th>\n",
       "      <td>26.000000</td>\n",
       "      <td>0.000000</td>\n",
       "      <td>0.000000</td>\n",
       "      <td>0.000000</td>\n",
       "      <td>0.000000</td>\n",
       "      <td>0.000000</td>\n",
       "    </tr>\n",
       "    <tr>\n",
       "      <th>75%</th>\n",
       "      <td>37.000000</td>\n",
       "      <td>53.000000</td>\n",
       "      <td>78.000000</td>\n",
       "      <td>33.000000</td>\n",
       "      <td>50.000000</td>\n",
       "      <td>36.000000</td>\n",
       "    </tr>\n",
       "    <tr>\n",
       "      <th>max</th>\n",
       "      <td>79.000000</td>\n",
       "      <td>11567.000000</td>\n",
       "      <td>25273.000000</td>\n",
       "      <td>8292.000000</td>\n",
       "      <td>19844.000000</td>\n",
       "      <td>22272.000000</td>\n",
       "    </tr>\n",
       "  </tbody>\n",
       "</table>\n",
       "</div>"
      ],
      "text/plain": [
       "               Age   RoomService     FoodCourt  ShoppingMall           Spa  \\\n",
       "count  4186.000000   4195.000000   4171.000000   4179.000000   4176.000000   \n",
       "mean     28.658146    219.266269    439.484296    177.295525    303.052443   \n",
       "std      14.179072    607.011289   1527.663045    560.821123   1117.186015   \n",
       "min       0.000000      0.000000      0.000000      0.000000      0.000000   \n",
       "25%      19.000000      0.000000      0.000000      0.000000      0.000000   \n",
       "50%      26.000000      0.000000      0.000000      0.000000      0.000000   \n",
       "75%      37.000000     53.000000     78.000000     33.000000     50.000000   \n",
       "max      79.000000  11567.000000  25273.000000   8292.000000  19844.000000   \n",
       "\n",
       "             VRDeck  \n",
       "count   4197.000000  \n",
       "mean     310.710031  \n",
       "std     1246.994742  \n",
       "min        0.000000  \n",
       "25%        0.000000  \n",
       "50%        0.000000  \n",
       "75%       36.000000  \n",
       "max    22272.000000  "
      ]
     },
     "execution_count": 13,
     "metadata": {},
     "output_type": "execute_result"
    }
   ],
   "source": [
    "test.describe()"
   ]
  },
  {
   "cell_type": "markdown",
   "id": "f8766105",
   "metadata": {
    "papermill": {
     "duration": 0.061695,
     "end_time": "2022-04-03T14:36:30.844944",
     "exception": false,
     "start_time": "2022-04-03T14:36:30.783249",
     "status": "completed"
    },
    "tags": []
   },
   "source": [
    "# EDA"
   ]
  },
  {
   "cell_type": "markdown",
   "id": "8ae9216b",
   "metadata": {
    "papermill": {
     "duration": 0.061937,
     "end_time": "2022-04-03T14:36:30.968984",
     "exception": false,
     "start_time": "2022-04-03T14:36:30.907047",
     "status": "completed"
    },
    "tags": []
   },
   "source": [
    "### 카테고리별 Transported 관계 시각화"
   ]
  },
  {
   "cell_type": "code",
   "execution_count": 14,
   "id": "ca9f1b78",
   "metadata": {
    "execution": {
     "iopub.execute_input": "2022-04-03T14:36:31.098323Z",
     "iopub.status.busy": "2022-04-03T14:36:31.097603Z",
     "iopub.status.idle": "2022-04-03T14:36:31.099557Z",
     "shell.execute_reply": "2022-04-03T14:36:31.100088Z",
     "shell.execute_reply.started": "2022-04-03T14:05:47.836374Z"
    },
    "papermill": {
     "duration": 0.069243,
     "end_time": "2022-04-03T14:36:31.100262",
     "exception": false,
     "start_time": "2022-04-03T14:36:31.031019",
     "status": "completed"
    },
    "tags": []
   },
   "outputs": [],
   "source": [
    "train_fig = train.copy()"
   ]
  },
  {
   "cell_type": "code",
   "execution_count": 15,
   "id": "ce3a935e",
   "metadata": {
    "execution": {
     "iopub.execute_input": "2022-04-03T14:36:31.228591Z",
     "iopub.status.busy": "2022-04-03T14:36:31.227887Z",
     "iopub.status.idle": "2022-04-03T14:36:31.232795Z",
     "shell.execute_reply": "2022-04-03T14:36:31.233351Z",
     "shell.execute_reply.started": "2022-04-03T14:05:48.175836Z"
    },
    "papermill": {
     "duration": 0.070109,
     "end_time": "2022-04-03T14:36:31.233525",
     "exception": false,
     "start_time": "2022-04-03T14:36:31.163416",
     "status": "completed"
    },
    "tags": []
   },
   "outputs": [
    {
     "data": {
      "text/plain": [
       "Index(['PassengerId', 'HomePlanet', 'CryoSleep', 'Cabin', 'Destination', 'Age',\n",
       "       'VIP', 'RoomService', 'FoodCourt', 'ShoppingMall', 'Spa', 'VRDeck',\n",
       "       'Name', 'Transported'],\n",
       "      dtype='object')"
      ]
     },
     "execution_count": 15,
     "metadata": {},
     "output_type": "execute_result"
    }
   ],
   "source": [
    "train_fig.columns"
   ]
  },
  {
   "cell_type": "markdown",
   "id": "ab3f418f",
   "metadata": {
    "papermill": {
     "duration": 0.062024,
     "end_time": "2022-04-03T14:36:31.358928",
     "exception": false,
     "start_time": "2022-04-03T14:36:31.296904",
     "status": "completed"
    },
    "tags": []
   },
   "source": [
    "- 시각화에 쓰지 않을 데이터 버리기"
   ]
  },
  {
   "cell_type": "code",
   "execution_count": 16,
   "id": "d6802fa5",
   "metadata": {
    "execution": {
     "iopub.execute_input": "2022-04-03T14:36:31.485756Z",
     "iopub.status.busy": "2022-04-03T14:36:31.485117Z",
     "iopub.status.idle": "2022-04-03T14:36:31.490813Z",
     "shell.execute_reply": "2022-04-03T14:36:31.491347Z",
     "shell.execute_reply.started": "2022-04-03T14:05:48.391287Z"
    },
    "papermill": {
     "duration": 0.070499,
     "end_time": "2022-04-03T14:36:31.491512",
     "exception": false,
     "start_time": "2022-04-03T14:36:31.421013",
     "status": "completed"
    },
    "tags": []
   },
   "outputs": [],
   "source": [
    "train_fig = train_fig.drop(['Cabin','Name'], axis = 1)"
   ]
  },
  {
   "cell_type": "markdown",
   "id": "6635d485",
   "metadata": {
    "papermill": {
     "duration": 0.061843,
     "end_time": "2022-04-03T14:36:31.615633",
     "exception": false,
     "start_time": "2022-04-03T14:36:31.553790",
     "status": "completed"
    },
    "tags": []
   },
   "source": [
    "- 가족 찾기"
   ]
  },
  {
   "cell_type": "code",
   "execution_count": 17,
   "id": "98b11f5d",
   "metadata": {
    "execution": {
     "iopub.execute_input": "2022-04-03T14:36:31.744772Z",
     "iopub.status.busy": "2022-04-03T14:36:31.744097Z",
     "iopub.status.idle": "2022-04-03T14:36:31.755993Z",
     "shell.execute_reply": "2022-04-03T14:36:31.756513Z",
     "shell.execute_reply.started": "2022-04-03T14:05:48.601759Z"
    },
    "papermill": {
     "duration": 0.077784,
     "end_time": "2022-04-03T14:36:31.756730",
     "exception": false,
     "start_time": "2022-04-03T14:36:31.678946",
     "status": "completed"
    },
    "tags": []
   },
   "outputs": [],
   "source": [
    "train_fig['Group'] = train_fig['PassengerId'].apply(lambda x : str(x[:4])).astype(int)"
   ]
  },
  {
   "cell_type": "code",
   "execution_count": 18,
   "id": "b1fa40b5",
   "metadata": {
    "execution": {
     "iopub.execute_input": "2022-04-03T14:36:31.885348Z",
     "iopub.status.busy": "2022-04-03T14:36:31.884637Z",
     "iopub.status.idle": "2022-04-03T14:36:31.890745Z",
     "shell.execute_reply": "2022-04-03T14:36:31.891287Z",
     "shell.execute_reply.started": "2022-04-03T14:05:48.740993Z"
    },
    "papermill": {
     "duration": 0.071841,
     "end_time": "2022-04-03T14:36:31.891481",
     "exception": false,
     "start_time": "2022-04-03T14:36:31.819640",
     "status": "completed"
    },
    "tags": []
   },
   "outputs": [],
   "source": [
    "train_fig['FamilySize'] = train_fig.groupby('Group')['Group'].transform('count')"
   ]
  },
  {
   "cell_type": "code",
   "execution_count": 19,
   "id": "6dca2f63",
   "metadata": {
    "execution": {
     "iopub.execute_input": "2022-04-03T14:36:32.032391Z",
     "iopub.status.busy": "2022-04-03T14:36:32.031264Z",
     "iopub.status.idle": "2022-04-03T14:36:32.075471Z",
     "shell.execute_reply": "2022-04-03T14:36:32.074774Z",
     "shell.execute_reply.started": "2022-04-03T14:05:52.393129Z"
    },
    "papermill": {
     "duration": 0.114708,
     "end_time": "2022-04-03T14:36:32.075652",
     "exception": false,
     "start_time": "2022-04-03T14:36:31.960944",
     "status": "completed"
    },
    "tags": []
   },
   "outputs": [
    {
     "data": {
      "text/html": [
       "<div>\n",
       "<style scoped>\n",
       "    .dataframe tbody tr th:only-of-type {\n",
       "        vertical-align: middle;\n",
       "    }\n",
       "\n",
       "    .dataframe tbody tr th {\n",
       "        vertical-align: top;\n",
       "    }\n",
       "\n",
       "    .dataframe thead th {\n",
       "        text-align: right;\n",
       "    }\n",
       "</style>\n",
       "<table border=\"1\" class=\"dataframe\">\n",
       "  <thead>\n",
       "    <tr style=\"text-align: right;\">\n",
       "      <th></th>\n",
       "      <th>PassengerId</th>\n",
       "      <th>HomePlanet</th>\n",
       "      <th>CryoSleep</th>\n",
       "      <th>Destination</th>\n",
       "      <th>Age</th>\n",
       "      <th>VIP</th>\n",
       "      <th>RoomService</th>\n",
       "      <th>FoodCourt</th>\n",
       "      <th>ShoppingMall</th>\n",
       "      <th>Spa</th>\n",
       "      <th>VRDeck</th>\n",
       "      <th>Transported</th>\n",
       "      <th>Group</th>\n",
       "      <th>FamilySize</th>\n",
       "    </tr>\n",
       "  </thead>\n",
       "  <tbody>\n",
       "    <tr>\n",
       "      <th>0</th>\n",
       "      <td>0001_01</td>\n",
       "      <td>Europa</td>\n",
       "      <td>False</td>\n",
       "      <td>TRAPPIST-1e</td>\n",
       "      <td>39.0</td>\n",
       "      <td>False</td>\n",
       "      <td>0.0</td>\n",
       "      <td>0.0</td>\n",
       "      <td>0.0</td>\n",
       "      <td>0.0</td>\n",
       "      <td>0.0</td>\n",
       "      <td>False</td>\n",
       "      <td>1</td>\n",
       "      <td>1</td>\n",
       "    </tr>\n",
       "    <tr>\n",
       "      <th>1</th>\n",
       "      <td>0002_01</td>\n",
       "      <td>Earth</td>\n",
       "      <td>False</td>\n",
       "      <td>TRAPPIST-1e</td>\n",
       "      <td>24.0</td>\n",
       "      <td>False</td>\n",
       "      <td>109.0</td>\n",
       "      <td>9.0</td>\n",
       "      <td>25.0</td>\n",
       "      <td>549.0</td>\n",
       "      <td>44.0</td>\n",
       "      <td>True</td>\n",
       "      <td>2</td>\n",
       "      <td>1</td>\n",
       "    </tr>\n",
       "    <tr>\n",
       "      <th>2</th>\n",
       "      <td>0003_01</td>\n",
       "      <td>Europa</td>\n",
       "      <td>False</td>\n",
       "      <td>TRAPPIST-1e</td>\n",
       "      <td>58.0</td>\n",
       "      <td>True</td>\n",
       "      <td>43.0</td>\n",
       "      <td>3576.0</td>\n",
       "      <td>0.0</td>\n",
       "      <td>6715.0</td>\n",
       "      <td>49.0</td>\n",
       "      <td>False</td>\n",
       "      <td>3</td>\n",
       "      <td>2</td>\n",
       "    </tr>\n",
       "    <tr>\n",
       "      <th>3</th>\n",
       "      <td>0003_02</td>\n",
       "      <td>Europa</td>\n",
       "      <td>False</td>\n",
       "      <td>TRAPPIST-1e</td>\n",
       "      <td>33.0</td>\n",
       "      <td>False</td>\n",
       "      <td>0.0</td>\n",
       "      <td>1283.0</td>\n",
       "      <td>371.0</td>\n",
       "      <td>3329.0</td>\n",
       "      <td>193.0</td>\n",
       "      <td>False</td>\n",
       "      <td>3</td>\n",
       "      <td>2</td>\n",
       "    </tr>\n",
       "    <tr>\n",
       "      <th>4</th>\n",
       "      <td>0004_01</td>\n",
       "      <td>Earth</td>\n",
       "      <td>False</td>\n",
       "      <td>TRAPPIST-1e</td>\n",
       "      <td>16.0</td>\n",
       "      <td>False</td>\n",
       "      <td>303.0</td>\n",
       "      <td>70.0</td>\n",
       "      <td>151.0</td>\n",
       "      <td>565.0</td>\n",
       "      <td>2.0</td>\n",
       "      <td>True</td>\n",
       "      <td>4</td>\n",
       "      <td>1</td>\n",
       "    </tr>\n",
       "    <tr>\n",
       "      <th>5</th>\n",
       "      <td>0005_01</td>\n",
       "      <td>Earth</td>\n",
       "      <td>False</td>\n",
       "      <td>PSO J318.5-22</td>\n",
       "      <td>44.0</td>\n",
       "      <td>False</td>\n",
       "      <td>0.0</td>\n",
       "      <td>483.0</td>\n",
       "      <td>0.0</td>\n",
       "      <td>291.0</td>\n",
       "      <td>0.0</td>\n",
       "      <td>True</td>\n",
       "      <td>5</td>\n",
       "      <td>1</td>\n",
       "    </tr>\n",
       "    <tr>\n",
       "      <th>6</th>\n",
       "      <td>0006_01</td>\n",
       "      <td>Earth</td>\n",
       "      <td>False</td>\n",
       "      <td>TRAPPIST-1e</td>\n",
       "      <td>26.0</td>\n",
       "      <td>False</td>\n",
       "      <td>42.0</td>\n",
       "      <td>1539.0</td>\n",
       "      <td>3.0</td>\n",
       "      <td>0.0</td>\n",
       "      <td>0.0</td>\n",
       "      <td>True</td>\n",
       "      <td>6</td>\n",
       "      <td>2</td>\n",
       "    </tr>\n",
       "    <tr>\n",
       "      <th>7</th>\n",
       "      <td>0006_02</td>\n",
       "      <td>Earth</td>\n",
       "      <td>True</td>\n",
       "      <td>TRAPPIST-1e</td>\n",
       "      <td>28.0</td>\n",
       "      <td>False</td>\n",
       "      <td>0.0</td>\n",
       "      <td>0.0</td>\n",
       "      <td>0.0</td>\n",
       "      <td>0.0</td>\n",
       "      <td>NaN</td>\n",
       "      <td>True</td>\n",
       "      <td>6</td>\n",
       "      <td>2</td>\n",
       "    </tr>\n",
       "    <tr>\n",
       "      <th>8</th>\n",
       "      <td>0007_01</td>\n",
       "      <td>Earth</td>\n",
       "      <td>False</td>\n",
       "      <td>TRAPPIST-1e</td>\n",
       "      <td>35.0</td>\n",
       "      <td>False</td>\n",
       "      <td>0.0</td>\n",
       "      <td>785.0</td>\n",
       "      <td>17.0</td>\n",
       "      <td>216.0</td>\n",
       "      <td>0.0</td>\n",
       "      <td>True</td>\n",
       "      <td>7</td>\n",
       "      <td>1</td>\n",
       "    </tr>\n",
       "    <tr>\n",
       "      <th>9</th>\n",
       "      <td>0008_01</td>\n",
       "      <td>Europa</td>\n",
       "      <td>True</td>\n",
       "      <td>55 Cancri e</td>\n",
       "      <td>14.0</td>\n",
       "      <td>False</td>\n",
       "      <td>0.0</td>\n",
       "      <td>0.0</td>\n",
       "      <td>0.0</td>\n",
       "      <td>0.0</td>\n",
       "      <td>0.0</td>\n",
       "      <td>True</td>\n",
       "      <td>8</td>\n",
       "      <td>3</td>\n",
       "    </tr>\n",
       "    <tr>\n",
       "      <th>10</th>\n",
       "      <td>0008_02</td>\n",
       "      <td>Europa</td>\n",
       "      <td>True</td>\n",
       "      <td>TRAPPIST-1e</td>\n",
       "      <td>34.0</td>\n",
       "      <td>False</td>\n",
       "      <td>0.0</td>\n",
       "      <td>0.0</td>\n",
       "      <td>NaN</td>\n",
       "      <td>0.0</td>\n",
       "      <td>0.0</td>\n",
       "      <td>True</td>\n",
       "      <td>8</td>\n",
       "      <td>3</td>\n",
       "    </tr>\n",
       "    <tr>\n",
       "      <th>11</th>\n",
       "      <td>0008_03</td>\n",
       "      <td>Europa</td>\n",
       "      <td>False</td>\n",
       "      <td>55 Cancri e</td>\n",
       "      <td>45.0</td>\n",
       "      <td>False</td>\n",
       "      <td>39.0</td>\n",
       "      <td>7295.0</td>\n",
       "      <td>589.0</td>\n",
       "      <td>110.0</td>\n",
       "      <td>124.0</td>\n",
       "      <td>True</td>\n",
       "      <td>8</td>\n",
       "      <td>3</td>\n",
       "    </tr>\n",
       "    <tr>\n",
       "      <th>12</th>\n",
       "      <td>0009_01</td>\n",
       "      <td>Mars</td>\n",
       "      <td>False</td>\n",
       "      <td>TRAPPIST-1e</td>\n",
       "      <td>32.0</td>\n",
       "      <td>False</td>\n",
       "      <td>73.0</td>\n",
       "      <td>0.0</td>\n",
       "      <td>1123.0</td>\n",
       "      <td>0.0</td>\n",
       "      <td>113.0</td>\n",
       "      <td>True</td>\n",
       "      <td>9</td>\n",
       "      <td>1</td>\n",
       "    </tr>\n",
       "    <tr>\n",
       "      <th>13</th>\n",
       "      <td>0010_01</td>\n",
       "      <td>Earth</td>\n",
       "      <td>False</td>\n",
       "      <td>TRAPPIST-1e</td>\n",
       "      <td>48.0</td>\n",
       "      <td>False</td>\n",
       "      <td>719.0</td>\n",
       "      <td>1.0</td>\n",
       "      <td>65.0</td>\n",
       "      <td>0.0</td>\n",
       "      <td>24.0</td>\n",
       "      <td>False</td>\n",
       "      <td>10</td>\n",
       "      <td>1</td>\n",
       "    </tr>\n",
       "    <tr>\n",
       "      <th>14</th>\n",
       "      <td>0011_01</td>\n",
       "      <td>Earth</td>\n",
       "      <td>False</td>\n",
       "      <td>TRAPPIST-1e</td>\n",
       "      <td>28.0</td>\n",
       "      <td>False</td>\n",
       "      <td>8.0</td>\n",
       "      <td>974.0</td>\n",
       "      <td>12.0</td>\n",
       "      <td>2.0</td>\n",
       "      <td>7.0</td>\n",
       "      <td>True</td>\n",
       "      <td>11</td>\n",
       "      <td>1</td>\n",
       "    </tr>\n",
       "  </tbody>\n",
       "</table>\n",
       "</div>"
      ],
      "text/plain": [
       "   PassengerId HomePlanet CryoSleep    Destination   Age    VIP  RoomService  \\\n",
       "0      0001_01     Europa     False    TRAPPIST-1e  39.0  False          0.0   \n",
       "1      0002_01      Earth     False    TRAPPIST-1e  24.0  False        109.0   \n",
       "2      0003_01     Europa     False    TRAPPIST-1e  58.0   True         43.0   \n",
       "3      0003_02     Europa     False    TRAPPIST-1e  33.0  False          0.0   \n",
       "4      0004_01      Earth     False    TRAPPIST-1e  16.0  False        303.0   \n",
       "5      0005_01      Earth     False  PSO J318.5-22  44.0  False          0.0   \n",
       "6      0006_01      Earth     False    TRAPPIST-1e  26.0  False         42.0   \n",
       "7      0006_02      Earth      True    TRAPPIST-1e  28.0  False          0.0   \n",
       "8      0007_01      Earth     False    TRAPPIST-1e  35.0  False          0.0   \n",
       "9      0008_01     Europa      True    55 Cancri e  14.0  False          0.0   \n",
       "10     0008_02     Europa      True    TRAPPIST-1e  34.0  False          0.0   \n",
       "11     0008_03     Europa     False    55 Cancri e  45.0  False         39.0   \n",
       "12     0009_01       Mars     False    TRAPPIST-1e  32.0  False         73.0   \n",
       "13     0010_01      Earth     False    TRAPPIST-1e  48.0  False        719.0   \n",
       "14     0011_01      Earth     False    TRAPPIST-1e  28.0  False          8.0   \n",
       "\n",
       "    FoodCourt  ShoppingMall     Spa  VRDeck  Transported  Group  FamilySize  \n",
       "0         0.0           0.0     0.0     0.0        False      1           1  \n",
       "1         9.0          25.0   549.0    44.0         True      2           1  \n",
       "2      3576.0           0.0  6715.0    49.0        False      3           2  \n",
       "3      1283.0         371.0  3329.0   193.0        False      3           2  \n",
       "4        70.0         151.0   565.0     2.0         True      4           1  \n",
       "5       483.0           0.0   291.0     0.0         True      5           1  \n",
       "6      1539.0           3.0     0.0     0.0         True      6           2  \n",
       "7         0.0           0.0     0.0     NaN         True      6           2  \n",
       "8       785.0          17.0   216.0     0.0         True      7           1  \n",
       "9         0.0           0.0     0.0     0.0         True      8           3  \n",
       "10        0.0           NaN     0.0     0.0         True      8           3  \n",
       "11     7295.0         589.0   110.0   124.0         True      8           3  \n",
       "12        0.0        1123.0     0.0   113.0         True      9           1  \n",
       "13        1.0          65.0     0.0    24.0        False     10           1  \n",
       "14      974.0          12.0     2.0     7.0         True     11           1  "
      ]
     },
     "execution_count": 19,
     "metadata": {},
     "output_type": "execute_result"
    }
   ],
   "source": [
    "train_fig.head(15)"
   ]
  },
  {
   "cell_type": "markdown",
   "id": "66a2b4de",
   "metadata": {
    "papermill": {
     "duration": 0.075791,
     "end_time": "2022-04-03T14:36:32.219441",
     "exception": false,
     "start_time": "2022-04-03T14:36:32.143650",
     "status": "completed"
    },
    "tags": []
   },
   "source": [
    "가족 컬럼이 잘 만들어졌다.\n",
    "\n",
    "그리고 이제 가족 컬럼을 만들기 위해 남겨놓았던 승객 id지우기"
   ]
  },
  {
   "cell_type": "markdown",
   "id": "d5830192",
   "metadata": {
    "papermill": {
     "duration": 0.073897,
     "end_time": "2022-04-03T14:36:32.362604",
     "exception": false,
     "start_time": "2022-04-03T14:36:32.288707",
     "status": "completed"
    },
    "tags": []
   },
   "source": [
    "---\n",
    "# 이 밑에 정리 X (월)"
   ]
  },
  {
   "cell_type": "code",
   "execution_count": 20,
   "id": "16c5a43c",
   "metadata": {
    "execution": {
     "iopub.execute_input": "2022-04-03T14:36:32.498055Z",
     "iopub.status.busy": "2022-04-03T14:36:32.497281Z",
     "iopub.status.idle": "2022-04-03T14:36:32.500718Z",
     "shell.execute_reply": "2022-04-03T14:36:32.501369Z",
     "shell.execute_reply.started": "2022-04-03T14:05:52.777224Z"
    },
    "papermill": {
     "duration": 0.074962,
     "end_time": "2022-04-03T14:36:32.501545",
     "exception": false,
     "start_time": "2022-04-03T14:36:32.426583",
     "status": "completed"
    },
    "tags": []
   },
   "outputs": [],
   "source": [
    "train_fig = train_fig.drop(['PassengerId'], axis = 1)"
   ]
  },
  {
   "cell_type": "code",
   "execution_count": 21,
   "id": "2f8c94e5",
   "metadata": {
    "execution": {
     "iopub.execute_input": "2022-04-03T14:36:32.632375Z",
     "iopub.status.busy": "2022-04-03T14:36:32.631706Z",
     "iopub.status.idle": "2022-04-03T14:36:33.916205Z",
     "shell.execute_reply": "2022-04-03T14:36:33.916737Z",
     "shell.execute_reply.started": "2022-04-03T14:28:21.981262Z"
    },
    "papermill": {
     "duration": 1.351764,
     "end_time": "2022-04-03T14:36:33.916910",
     "exception": false,
     "start_time": "2022-04-03T14:36:32.565146",
     "status": "completed"
    },
    "tags": []
   },
   "outputs": [
    {
     "data": {
      "text/html": [
       "        <script type=\"text/javascript\">\n",
       "        window.PlotlyConfig = {MathJaxConfig: 'local'};\n",
       "        if (window.MathJax) {MathJax.Hub.Config({SVG: {font: \"STIX-Web\"}});}\n",
       "        if (typeof require !== 'undefined') {\n",
       "        require.undef(\"plotly\");\n",
       "        requirejs.config({\n",
       "            paths: {\n",
       "                'plotly': ['https://cdn.plot.ly/plotly-2.9.0.min']\n",
       "            }\n",
       "        });\n",
       "        require(['plotly'], function(Plotly) {\n",
       "            window._Plotly = Plotly;\n",
       "        });\n",
       "        }\n",
       "        </script>\n",
       "        "
      ]
     },
     "metadata": {},
     "output_type": "display_data"
    },
    {
     "data": {
      "text/html": [
       "<div>                            <div id=\"e9bb316f-4d32-4b27-a8f5-f134c193a537\" class=\"plotly-graph-div\" style=\"height:525px; width:100%;\"></div>            <script type=\"text/javascript\">                require([\"plotly\"], function(Plotly) {                    window.PLOTLYENV=window.PLOTLYENV || {};                                    if (document.getElementById(\"e9bb316f-4d32-4b27-a8f5-f134c193a537\")) {                    Plotly.newPlot(                        \"e9bb316f-4d32-4b27-a8f5-f134c193a537\",                        [{\"alignmentgroup\":\"True\",\"hovertemplate\":\"HomePlanet=%{x}<br>Transported=%{y}<extra></extra>\",\"legendgroup\":\"\",\"marker\":{\"color\":\"#636efa\",\"pattern\":{\"shape\":\"\"}},\"name\":\"\",\"offsetgroup\":\"\",\"orientation\":\"v\",\"showlegend\":false,\"textposition\":\"auto\",\"x\":[\"Europa\",\"Earth\",\"Europa\",\"Europa\",\"Earth\",\"Earth\",\"Earth\",\"Earth\",\"Earth\",\"Europa\",\"Europa\",\"Europa\",\"Mars\",\"Earth\",\"Earth\",\"Earth\",\"Mars\",\"Earth\",\"Mars\",\"Earth\",\"Earth\",\"Earth\",\"Earth\",\"Earth\",\"Earth\",\"Earth\",\"Earth\",\"Mars\",\"Europa\",\"Earth\",\"Europa\",\"Mars\",\"Earth\",\"Mars\",\"Mars\",\"Mars\",\"Europa\",\"Mars\",\"Earth\",\"Earth\",\"Earth\",\"Earth\",\"Europa\",\"Earth\",\"Earth\",\"Earth\",\"Mars\",\"Mars\",\"Earth\",\"Earth\",\"Earth\",\"Earth\",\"Europa\",\"Europa\",\"Europa\",\"Earth\",\"Earth\",\"Earth\",\"Mars\",null,\"Earth\",\"Earth\",\"Earth\",\"Earth\",\"Mars\",\"Earth\",\"Earth\",\"Earth\",\"Earth\",\"Mars\",\"Europa\",\"Mars\",\"Mars\",\"Europa\",\"Earth\",\"Mars\",\"Mars\",\"Mars\",\"Earth\",\"Europa\",\"Earth\",\"Mars\",\"Earth\",\"Earth\",\"Earth\",\"Earth\",\"Earth\",\"Earth\",\"Europa\",\"Earth\",\"Earth\",\"Earth\",\"Earth\",\"Mars\",\"Earth\",\"Earth\",\"Earth\",\"Earth\",\"Earth\",\"Mars\",\"Earth\",\"Earth\",\"Earth\",\"Europa\",\"Europa\",\"Europa\",\"Europa\",\"Europa\",\"Europa\",\"Earth\",\"Earth\",\"Mars\",\"Europa\",null,\"Europa\",\"Mars\",\"Earth\",\"Earth\",\"Mars\",\"Mars\",\"Mars\",\"Mars\",\"Earth\",\"Mars\",\"Mars\",\"Earth\",\"Earth\",\"Earth\",\"Earth\",\"Europa\",\"Earth\",\"Earth\",\"Mars\",\"Earth\",\"Earth\",\"Earth\",\"Mars\",\"Earth\",\"Earth\",\"Earth\",\"Earth\",\"Europa\",\"Europa\",\"Earth\",\"Earth\",\"Mars\",\"Mars\",\"Mars\",\"Earth\",\"Earth\",\"Earth\",\"Earth\",\"Earth\",\"Earth\",\"Europa\",\"Mars\",\"Earth\",\"Earth\",\"Earth\",\"Earth\",\"Europa\",\"Earth\",\"Earth\",\"Earth\",\"Earth\",\"Earth\",\"Earth\",\"Earth\",\"Earth\",\"Mars\",\"Mars\",\"Mars\",\"Mars\",\"Mars\",\"Europa\",\"Earth\",\"Earth\",\"Earth\",\"Europa\",\"Europa\",\"Europa\",\"Europa\",\"Europa\",\"Earth\",\"Europa\",\"Earth\",null,\"Mars\",\"Mars\",\"Mars\",\"Earth\",\"Earth\",\"Earth\",\"Earth\",\"Earth\",\"Earth\",\"Earth\",\"Earth\",\"Earth\",\"Earth\",\"Earth\",\"Earth\",\"Earth\",\"Mars\",\"Mars\",\"Mars\",\"Mars\",\"Mars\",\"Mars\",\"Mars\",\"Mars\",\"Mars\",\"Mars\",\"Earth\",\"Mars\",\"Earth\",\"Earth\",\"Mars\",\"Earth\",\"Mars\",\"Earth\",\"Europa\",\"Mars\",\"Mars\",\"Europa\",null,\"Earth\",\"Mars\",\"Mars\",\"Europa\",\"Europa\",\"Mars\",\"Europa\",\"Earth\",null,\"Earth\",\"Earth\",\"Earth\",\"Europa\",\"Mars\",\"Mars\",\"Earth\",\"Europa\",\"Earth\",\"Earth\",\"Europa\",\"Earth\",\"Earth\",\"Earth\",\"Europa\",\"Earth\",\"Earth\",\"Earth\",\"Earth\",\"Earth\",\"Earth\",\"Earth\",\"Europa\",\"Europa\",\"Earth\",\"Europa\",\"Europa\",\"Earth\",\"Europa\",\"Europa\",\"Europa\",\"Europa\",\"Europa\",\"Europa\",\"Europa\",\"Earth\",\"Europa\",\"Earth\",\"Earth\",null,\"Europa\",\"Europa\",\"Earth\",\"Earth\",\"Earth\",\"Europa\",\"Earth\",\"Earth\",\"Earth\",\"Earth\",\"Earth\",null,\"Europa\",\"Europa\",\"Earth\",\"Earth\",null,\"Earth\",\"Earth\",\"Earth\",\"Earth\",\"Europa\",\"Europa\",\"Europa\",\"Earth\",\"Mars\",\"Mars\",\"Earth\",\"Mars\",\"Mars\",\"Mars\",\"Earth\",\"Europa\",\"Earth\",\"Earth\",\"Mars\",\"Earth\",\"Mars\",\"Mars\",\"Mars\",\"Earth\",\"Mars\",\"Earth\",\"Europa\",\"Earth\",\"Earth\",\"Earth\",\"Earth\",\"Earth\",\"Earth\",\"Earth\",\"Mars\",\"Mars\",\"Earth\",\"Earth\",\"Mars\",\"Earth\",\"Earth\",\"Earth\",\"Earth\",\"Europa\",\"Europa\",\"Europa\",\"Europa\",\"Europa\",\"Europa\",\"Europa\",\"Europa\",\"Earth\",\"Europa\",\"Europa\",\"Europa\",null,\"Earth\",\"Earth\",\"Earth\",\"Earth\",\"Earth\",\"Earth\",\"Earth\",\"Earth\",\"Europa\",\"Earth\",\"Europa\",\"Europa\",\"Earth\",\"Mars\",\"Mars\",\"Mars\",\"Mars\",null,\"Mars\",\"Earth\",\"Earth\",\"Earth\",\"Earth\",\"Mars\",\"Mars\",\"Earth\",\"Earth\",\"Europa\",\"Earth\",\"Earth\",\"Europa\",\"Europa\",\"Europa\",\"Europa\",\"Mars\",\"Mars\",\"Mars\",\"Europa\",\"Europa\",\"Europa\",\"Europa\",\"Earth\",\"Mars\",\"Mars\",\"Europa\",\"Europa\",\"Mars\",\"Earth\",\"Earth\",\"Earth\",\"Earth\",\"Earth\",\"Europa\",\"Europa\",\"Earth\",\"Earth\",\"Mars\",null,\"Earth\",null,\"Europa\",\"Earth\",\"Earth\",\"Earth\",\"Earth\",\"Mars\",\"Europa\",\"Europa\",\"Europa\",\"Europa\",\"Europa\",\"Europa\",\"Earth\",\"Earth\",\"Earth\",\"Earth\",\"Europa\",\"Earth\",\"Earth\",\"Earth\",\"Earth\",\"Earth\",\"Earth\",\"Mars\",\"Mars\",\"Earth\",\"Earth\",\"Earth\",\"Earth\",\"Mars\",null,\"Europa\",\"Europa\",\"Earth\",\"Earth\",\"Earth\",\"Mars\",\"Mars\",\"Mars\",\"Earth\",\"Earth\",\"Earth\",\"Earth\",\"Earth\",\"Europa\",\"Europa\",\"Earth\",\"Earth\",\"Europa\",\"Europa\",\"Mars\",\"Mars\",\"Mars\",\"Europa\",\"Mars\",\"Mars\",\"Mars\",\"Mars\",\"Europa\",\"Europa\",\"Europa\",\"Europa\",\"Europa\",null,\"Mars\",\"Earth\",\"Europa\",\"Europa\",\"Europa\",\"Earth\",\"Europa\",\"Europa\",\"Earth\",null,\"Earth\",\"Earth\",\"Earth\",\"Earth\",\"Earth\",\"Earth\",\"Mars\",\"Mars\",\"Europa\",\"Earth\",\"Earth\",\"Earth\",\"Mars\",\"Europa\",\"Europa\",\"Earth\",\"Earth\",\"Europa\",\"Europa\",null,\"Europa\",\"Europa\",\"Mars\",null,\"Earth\",\"Earth\",\"Earth\",\"Earth\",\"Earth\",\"Mars\",\"Mars\",\"Earth\",\"Earth\",\"Europa\",\"Europa\",\"Europa\",\"Europa\",\"Europa\",\"Earth\",\"Earth\",\"Earth\",\"Earth\",null,\"Earth\",\"Mars\",\"Europa\",\"Europa\",\"Europa\",\"Mars\",\"Mars\",\"Earth\",\"Europa\",\"Europa\",\"Earth\",\"Europa\",\"Europa\",\"Europa\",\"Europa\",\"Europa\",\"Europa\",\"Europa\",\"Europa\",\"Earth\",\"Earth\",\"Europa\",\"Earth\",\"Earth\",\"Earth\",\"Earth\",\"Earth\",\"Earth\",\"Mars\",\"Mars\",\"Mars\",\"Mars\",\"Mars\",\"Mars\",\"Mars\",\"Europa\",\"Mars\",\"Earth\",\"Earth\",\"Earth\",\"Earth\",\"Mars\",\"Earth\",null,\"Mars\",\"Earth\",\"Earth\",\"Earth\",\"Mars\",\"Mars\",\"Mars\",\"Mars\",\"Europa\",\"Mars\",\"Mars\",\"Mars\",\"Earth\",\"Europa\",\"Europa\",\"Europa\",\"Earth\",\"Mars\",\"Earth\",\"Earth\",\"Europa\",\"Earth\",\"Earth\",\"Earth\",\"Earth\",\"Earth\",\"Earth\",\"Europa\",\"Europa\",\"Earth\",\"Earth\",\"Earth\",\"Mars\",\"Mars\",\"Mars\",\"Earth\",\"Earth\",\"Earth\",\"Earth\",\"Earth\",\"Mars\",\"Europa\",\"Earth\",\"Earth\",\"Europa\",\"Europa\",\"Europa\",\"Europa\",\"Europa\",\"Mars\",\"Europa\",\"Earth\",\"Europa\",\"Mars\",\"Mars\",\"Mars\",\"Earth\",\"Mars\",\"Mars\",\"Earth\",\"Earth\",\"Earth\",\"Earth\",\"Earth\",\"Earth\",\"Europa\",\"Earth\",\"Europa\",null,\"Mars\",\"Earth\",\"Earth\",\"Earth\",\"Earth\",\"Earth\",\"Earth\",\"Earth\",\"Earth\",\"Earth\",\"Earth\",\"Earth\",\"Mars\",\"Mars\",\"Mars\",\"Mars\",\"Mars\",\"Earth\",\"Mars\",\"Mars\",\"Mars\",\"Mars\",\"Europa\",\"Mars\",\"Mars\",\"Mars\",\"Mars\",\"Europa\",\"Europa\",\"Earth\",\"Earth\",\"Mars\",\"Mars\",\"Europa\",\"Earth\",\"Earth\",\"Earth\",\"Earth\",\"Earth\",\"Europa\",\"Europa\",\"Europa\",\"Mars\",\"Mars\",\"Mars\",\"Earth\",\"Earth\",\"Earth\",\"Earth\",\"Earth\",\"Earth\",\"Earth\",\"Earth\",\"Europa\",\"Earth\",\"Mars\",\"Earth\",\"Earth\",\"Earth\",\"Earth\",\"Earth\",\"Earth\",\"Earth\",\"Earth\",\"Earth\",\"Europa\",\"Mars\",\"Europa\",\"Europa\",\"Europa\",\"Earth\",\"Earth\",\"Earth\",\"Europa\",\"Europa\",\"Europa\",\"Europa\",\"Europa\",\"Europa\",\"Europa\",\"Mars\",\"Europa\",\"Earth\",\"Earth\",\"Mars\",\"Mars\",\"Earth\",\"Europa\",\"Europa\",\"Europa\",\"Earth\",\"Earth\",\"Earth\",\"Earth\",\"Earth\",\"Earth\",\"Earth\",\"Europa\",\"Europa\",null,\"Europa\",\"Earth\",\"Earth\",\"Europa\",\"Earth\",\"Earth\",\"Mars\",\"Europa\",\"Earth\",\"Earth\",\"Earth\",\"Earth\",\"Europa\",\"Europa\",\"Europa\",\"Earth\",\"Earth\",\"Earth\",\"Mars\",\"Mars\",\"Earth\",\"Europa\",\"Earth\",\"Mars\",\"Europa\",\"Mars\",\"Europa\",\"Earth\",\"Earth\",\"Earth\",\"Mars\",\"Mars\",\"Mars\",\"Mars\",\"Mars\",\"Mars\",\"Mars\",\"Mars\",\"Earth\",\"Europa\",\"Earth\",\"Europa\",\"Earth\",\"Earth\",\"Earth\",\"Earth\",\"Earth\",\"Earth\",\"Mars\",\"Earth\",\"Earth\",\"Earth\",\"Earth\",\"Earth\",\"Earth\",\"Europa\",\"Earth\",\"Earth\",\"Mars\",\"Europa\",\"Earth\",\"Europa\",\"Earth\",\"Mars\",\"Mars\",\"Europa\",\"Europa\",\"Mars\",\"Earth\",null,\"Earth\",\"Earth\",\"Earth\",\"Earth\",\"Earth\",\"Europa\",\"Europa\",\"Earth\",\"Earth\",\"Earth\",\"Earth\",\"Europa\",\"Earth\",\"Earth\",\"Earth\",\"Earth\",\"Europa\",\"Mars\",\"Earth\",\"Europa\",\"Earth\",\"Earth\",\"Earth\",\"Europa\",\"Europa\",\"Mars\",\"Earth\",\"Earth\",\"Earth\",\"Earth\",\"Mars\",\"Earth\",\"Earth\",\"Europa\",\"Mars\",\"Earth\",\"Europa\",\"Europa\",\"Earth\",\"Mars\",null,\"Europa\",\"Europa\",\"Earth\",\"Earth\",\"Earth\",\"Earth\",\"Europa\",\"Europa\",\"Europa\",\"Europa\",\"Earth\",\"Mars\",\"Mars\",\"Mars\",\"Europa\",\"Europa\",\"Earth\",\"Earth\",\"Earth\",\"Earth\",\"Earth\",\"Mars\",\"Europa\",\"Europa\",\"Earth\",\"Earth\",\"Earth\",\"Earth\",\"Earth\",\"Earth\",\"Earth\",\"Mars\",\"Earth\",\"Earth\",\"Earth\",\"Earth\",\"Earth\",\"Earth\",\"Mars\",\"Earth\",\"Earth\",\"Earth\",\"Mars\",\"Earth\",\"Earth\",\"Europa\",\"Europa\",\"Mars\",\"Earth\",\"Earth\",\"Mars\",\"Earth\",\"Earth\",\"Earth\",\"Earth\",\"Earth\",\"Earth\",\"Europa\",\"Earth\",\"Earth\",\"Earth\",\"Earth\",\"Earth\",\"Earth\",\"Earth\",\"Earth\",\"Earth\",\"Earth\",\"Earth\",\"Earth\",\"Earth\",null,\"Earth\",\"Earth\",\"Earth\",\"Earth\",\"Europa\",\"Europa\",\"Europa\",\"Europa\",\"Europa\",\"Europa\",\"Earth\",\"Earth\",\"Earth\",\"Europa\",\"Mars\",\"Europa\",\"Mars\",\"Earth\",\"Mars\",\"Mars\",\"Mars\",\"Europa\",\"Earth\",\"Earth\",\"Earth\",\"Earth\",\"Europa\",\"Europa\",\"Earth\",\"Earth\",\"Earth\",\"Earth\",\"Mars\",\"Earth\",\"Earth\",\"Earth\",\"Earth\",\"Mars\",\"Earth\",\"Earth\",\"Earth\",null,\"Earth\",\"Earth\",\"Earth\",\"Mars\",\"Mars\",\"Mars\",\"Mars\",\"Mars\",\"Earth\",\"Earth\",\"Earth\",\"Earth\",\"Earth\",\"Mars\",\"Earth\",\"Earth\",\"Earth\",\"Europa\",\"Earth\",\"Europa\",\"Europa\",\"Earth\",\"Earth\",\"Earth\",\"Mars\",\"Mars\",\"Earth\",\"Earth\",\"Earth\",\"Earth\",null,\"Mars\",\"Europa\",\"Earth\",\"Earth\",\"Earth\",null,\"Europa\",\"Mars\",\"Mars\",\"Earth\",null,\"Europa\",\"Europa\",\"Earth\",\"Earth\",\"Earth\",\"Earth\",\"Mars\",\"Mars\",\"Mars\",\"Mars\",\"Mars\",\"Earth\",\"Earth\",\"Earth\",\"Earth\",\"Earth\",\"Earth\",\"Earth\",\"Earth\",null,\"Europa\",\"Mars\",\"Mars\",\"Earth\",\"Europa\",\"Earth\",\"Mars\",\"Earth\",\"Mars\",\"Mars\",\"Mars\",\"Mars\",\"Mars\",\"Earth\",\"Mars\",\"Mars\",\"Europa\",\"Europa\",\"Europa\",\"Earth\",\"Mars\",\"Mars\",\"Earth\",\"Earth\",\"Earth\",\"Earth\",\"Earth\",\"Earth\",\"Europa\",\"Europa\",\"Earth\",\"Mars\",\"Mars\",\"Earth\",\"Mars\",\"Europa\",\"Earth\",\"Europa\",\"Europa\",\"Europa\",\"Earth\",\"Earth\",\"Earth\",\"Earth\",\"Earth\",\"Earth\",\"Europa\",\"Europa\",\"Europa\",\"Europa\",\"Europa\",\"Europa\",\"Europa\",\"Europa\",\"Earth\",\"Earth\",\"Earth\",\"Earth\",\"Earth\",\"Earth\",\"Mars\",\"Earth\",\"Europa\",\"Europa\",\"Europa\",\"Earth\",\"Earth\",\"Europa\",\"Europa\",\"Europa\",\"Europa\",\"Europa\",\"Earth\",\"Europa\",\"Europa\",\"Europa\",\"Europa\",\"Europa\",\"Mars\",\"Earth\",\"Mars\",\"Earth\",\"Earth\",\"Earth\",\"Mars\",\"Europa\",\"Earth\",\"Europa\",\"Earth\",\"Mars\",\"Mars\",\"Mars\",\"Mars\",\"Earth\",\"Earth\",\"Earth\",\"Earth\",\"Earth\",\"Earth\",\"Earth\",\"Earth\",\"Europa\",\"Earth\",\"Earth\",\"Earth\",\"Europa\",\"Europa\",\"Earth\",\"Europa\",\"Mars\",\"Earth\",\"Europa\",\"Earth\",\"Earth\",\"Earth\",\"Earth\",\"Earth\",\"Earth\",\"Earth\",\"Earth\",\"Earth\",\"Earth\",\"Earth\",\"Earth\",\"Earth\",\"Earth\",\"Earth\",\"Earth\",\"Earth\",\"Europa\",\"Earth\",\"Earth\",\"Earth\",\"Europa\",\"Earth\",\"Mars\",\"Mars\",\"Earth\",\"Earth\",\"Mars\",\"Europa\",\"Europa\",\"Earth\",\"Earth\",\"Earth\",\"Earth\",\"Europa\",\"Europa\",\"Earth\",\"Earth\",\"Europa\",\"Europa\",\"Europa\",\"Earth\",\"Earth\",\"Earth\",\"Mars\",\"Mars\",\"Mars\",\"Mars\",\"Mars\",\"Europa\",\"Earth\",\"Earth\",\"Europa\",\"Mars\",\"Earth\",\"Earth\",\"Mars\",\"Earth\",\"Earth\",\"Earth\",\"Earth\",\"Europa\",\"Earth\",\"Earth\",\"Earth\",\"Earth\",\"Mars\",\"Earth\",\"Mars\",\"Mars\",\"Mars\",\"Mars\",\"Earth\",\"Earth\",\"Earth\",\"Mars\",\"Europa\",\"Europa\",\"Earth\",\"Europa\",\"Europa\",\"Europa\",\"Earth\",\"Earth\",\"Earth\",\"Mars\",\"Earth\",\"Earth\",\"Earth\",\"Earth\",\"Earth\",\"Earth\",\"Europa\",\"Europa\",\"Earth\",\"Europa\",\"Europa\",\"Europa\",\"Europa\",\"Earth\",\"Europa\",\"Mars\",\"Mars\",\"Mars\",\"Earth\",\"Europa\",\"Europa\",\"Mars\",\"Earth\",\"Earth\",\"Earth\",\"Earth\",\"Earth\",\"Earth\",\"Earth\",\"Earth\",\"Mars\",\"Mars\",\"Earth\",\"Mars\",\"Mars\",\"Earth\",\"Earth\",\"Earth\",\"Earth\",\"Earth\",\"Earth\",\"Earth\",\"Earth\",\"Earth\",null,\"Europa\",\"Europa\",\"Earth\",\"Earth\",\"Earth\",\"Earth\",\"Earth\",\"Mars\",\"Mars\",\"Mars\",\"Mars\",\"Mars\",\"Earth\",\"Earth\",\"Mars\",\"Earth\",\"Earth\",\"Europa\",\"Europa\",\"Earth\",\"Earth\",\"Earth\",\"Mars\",\"Earth\",\"Earth\",\"Earth\",\"Europa\",\"Earth\",\"Earth\",\"Earth\",\"Europa\",\"Earth\",\"Earth\",\"Europa\",\"Earth\",\"Earth\",\"Earth\",\"Earth\",\"Earth\",null,\"Earth\",\"Mars\",\"Earth\",\"Earth\",\"Mars\",\"Mars\",\"Mars\",\"Mars\",\"Mars\",\"Earth\",\"Earth\",\"Earth\",\"Earth\",\"Earth\",\"Earth\",\"Earth\",\"Earth\",\"Earth\",\"Europa\",\"Europa\",\"Mars\",\"Earth\",\"Earth\",\"Earth\",\"Earth\",\"Earth\",\"Earth\",\"Earth\",\"Europa\",\"Earth\",\"Europa\",\"Mars\",\"Mars\",\"Mars\",\"Mars\",\"Europa\",\"Europa\",\"Europa\",\"Europa\",\"Europa\",\"Europa\",\"Europa\",\"Europa\",\"Earth\",\"Earth\",\"Earth\",\"Europa\",\"Mars\",\"Mars\",\"Earth\",\"Earth\",\"Earth\",\"Earth\",\"Earth\",\"Earth\",\"Earth\",\"Earth\",\"Earth\",\"Mars\",\"Mars\",\"Earth\",\"Earth\",\"Earth\",\"Europa\",\"Earth\",\"Earth\",\"Europa\",\"Europa\",\"Europa\",\"Europa\",\"Europa\",\"Europa\",\"Europa\",\"Europa\",\"Europa\",\"Earth\",\"Earth\",\"Europa\",\"Europa\",\"Europa\",\"Europa\",\"Europa\",\"Europa\",\"Earth\",null,\"Earth\",\"Earth\",\"Earth\",\"Earth\",\"Earth\",\"Earth\",null,\"Mars\",\"Earth\",\"Earth\",\"Mars\",\"Mars\",\"Earth\",\"Mars\",\"Mars\",\"Earth\",\"Europa\",\"Earth\",\"Earth\",\"Earth\",\"Earth\",\"Earth\",\"Earth\",\"Earth\",\"Earth\",\"Earth\",\"Earth\",\"Earth\",\"Earth\",\"Earth\",\"Earth\",\"Mars\",\"Mars\",\"Earth\",\"Earth\",\"Earth\",\"Earth\",\"Earth\",\"Mars\",\"Mars\",\"Europa\",\"Europa\",\"Europa\",\"Europa\",\"Earth\",\"Earth\",\"Mars\",\"Europa\",\"Europa\",\"Earth\",\"Mars\",\"Earth\",\"Europa\",\"Europa\",\"Mars\",\"Europa\",\"Europa\",\"Earth\",\"Europa\",\"Earth\",\"Mars\",\"Europa\",\"Europa\",\"Europa\",\"Europa\",\"Earth\",\"Mars\",\"Europa\",\"Earth\",\"Mars\",\"Earth\",\"Europa\",\"Europa\",\"Europa\",\"Europa\",\"Europa\",\"Earth\",\"Europa\",\"Earth\",\"Earth\",\"Earth\",\"Earth\",\"Mars\",\"Earth\",\"Europa\",\"Earth\",\"Earth\",\"Mars\",\"Earth\",\"Earth\",\"Mars\",\"Mars\",\"Earth\",\"Earth\",\"Earth\",\"Earth\",\"Earth\",\"Mars\",\"Mars\",\"Earth\",\"Earth\",\"Earth\",\"Europa\",\"Europa\",\"Europa\",\"Europa\",\"Europa\",\"Europa\",\"Earth\",\"Earth\",\"Europa\",\"Europa\",\"Earth\",\"Europa\",\"Europa\",\"Earth\",\"Earth\",\"Earth\",\"Earth\",\"Earth\",\"Earth\",\"Europa\",\"Earth\",\"Earth\",\"Europa\",\"Europa\",\"Earth\",\"Mars\",\"Earth\",\"Earth\",\"Earth\",\"Mars\",\"Earth\",\"Earth\",\"Earth\",\"Mars\",\"Earth\",\"Earth\",\"Earth\",\"Europa\",\"Europa\",\"Earth\",\"Europa\",\"Earth\",\"Earth\",\"Earth\",\"Earth\",\"Europa\",\"Earth\",\"Earth\",\"Earth\",\"Earth\",\"Earth\",\"Earth\",\"Earth\",\"Earth\",\"Earth\",null,\"Earth\",\"Earth\",\"Earth\",\"Earth\",\"Earth\",\"Earth\",\"Earth\",\"Europa\",\"Earth\",\"Earth\",\"Earth\",\"Earth\",\"Mars\",\"Earth\",\"Earth\",\"Europa\",\"Europa\",\"Europa\",\"Europa\",\"Earth\",\"Earth\",\"Europa\",\"Earth\",\"Mars\",\"Mars\",\"Mars\",\"Earth\",\"Earth\",\"Europa\",\"Earth\",\"Earth\",\"Earth\",\"Earth\",\"Earth\",\"Earth\",\"Mars\",\"Earth\",\"Earth\",\"Earth\",\"Mars\",\"Earth\",\"Earth\",\"Earth\",\"Earth\",\"Mars\",\"Earth\",\"Earth\",\"Europa\",\"Earth\",null,\"Earth\",\"Europa\",\"Europa\",\"Mars\",\"Mars\",\"Mars\",\"Earth\",\"Mars\",\"Mars\",\"Mars\",\"Mars\",\"Mars\",\"Mars\",\"Mars\",\"Earth\",\"Earth\",\"Mars\",\"Mars\",\"Earth\",\"Earth\",\"Earth\",\"Earth\",\"Earth\",\"Earth\",\"Earth\",\"Earth\",\"Earth\",\"Europa\",\"Earth\",\"Mars\",\"Mars\",\"Earth\",\"Earth\",\"Earth\",\"Earth\",\"Earth\",\"Earth\",\"Earth\",\"Earth\",\"Earth\",\"Earth\",\"Earth\",\"Earth\",\"Mars\",\"Europa\",\"Mars\",\"Earth\",\"Earth\",\"Earth\",\"Earth\",\"Earth\",\"Earth\",\"Earth\",\"Earth\",\"Earth\",\"Earth\",\"Earth\",\"Earth\",\"Earth\",\"Earth\",\"Europa\",\"Mars\",\"Mars\",\"Earth\",\"Europa\",\"Europa\",\"Europa\",\"Europa\",\"Earth\",\"Mars\",\"Europa\",\"Earth\",\"Mars\",\"Mars\",\"Earth\",\"Earth\",\"Earth\",\"Earth\",\"Europa\",\"Earth\",\"Earth\",\"Earth\",\"Earth\",\"Mars\",\"Earth\",\"Mars\",\"Europa\",\"Europa\",\"Earth\",\"Earth\",\"Earth\",\"Earth\",\"Earth\",\"Earth\",\"Earth\",\"Earth\",\"Earth\",\"Mars\",\"Earth\",\"Mars\",\"Europa\",\"Earth\",\"Mars\",\"Earth\",\"Earth\",null,\"Earth\",\"Europa\",\"Europa\",\"Earth\",\"Earth\",\"Earth\",\"Earth\",null,\"Earth\",\"Earth\",\"Earth\",\"Europa\",\"Europa\",\"Europa\",\"Europa\",\"Europa\",\"Europa\",\"Earth\",\"Europa\",\"Mars\",\"Earth\",\"Earth\",\"Europa\",\"Earth\",\"Earth\",\"Earth\",\"Earth\",\"Earth\",\"Earth\",\"Earth\",\"Earth\",\"Earth\",\"Earth\",\"Europa\",\"Earth\",\"Earth\",\"Earth\",\"Mars\",\"Mars\",\"Europa\",\"Europa\",\"Mars\",\"Mars\",\"Earth\",\"Mars\",\"Earth\",\"Earth\",\"Earth\",\"Earth\",\"Earth\",null,\"Earth\",\"Mars\",\"Europa\",\"Mars\",\"Earth\",\"Earth\",\"Earth\",\"Earth\",\"Earth\",\"Europa\",\"Earth\",\"Earth\",\"Europa\",\"Europa\",\"Mars\",\"Earth\",\"Earth\",\"Earth\",\"Earth\",\"Earth\",\"Earth\",\"Mars\",\"Europa\",\"Europa\",\"Europa\",\"Europa\",\"Europa\",\"Earth\",\"Earth\",\"Europa\",\"Europa\",\"Earth\",\"Earth\",\"Earth\",\"Earth\",\"Europa\",\"Mars\",\"Earth\",\"Earth\",\"Europa\",\"Europa\",\"Europa\",\"Europa\",\"Europa\",\"Mars\",\"Earth\",\"Europa\",\"Europa\",\"Earth\",null,\"Mars\",\"Earth\",\"Europa\",\"Earth\",\"Earth\",\"Earth\",\"Earth\",\"Mars\",\"Mars\",\"Mars\",\"Earth\",\"Earth\",\"Earth\",\"Earth\",\"Earth\",\"Earth\",\"Earth\",\"Earth\",\"Mars\",\"Mars\",\"Earth\",\"Europa\",\"Europa\",\"Europa\",\"Earth\",\"Earth\",\"Earth\",\"Earth\",\"Earth\",\"Earth\",\"Earth\",\"Europa\",\"Earth\",\"Earth\",\"Europa\",\"Earth\",\"Europa\",\"Mars\",\"Earth\",\"Europa\",\"Europa\",\"Europa\",\"Europa\",\"Europa\",\"Europa\",\"Europa\",\"Mars\",null,\"Earth\",\"Earth\",\"Earth\",\"Earth\",\"Earth\",\"Earth\",\"Europa\",\"Mars\",\"Earth\",\"Earth\",\"Earth\",\"Mars\",\"Earth\",\"Earth\",\"Earth\",\"Earth\",\"Earth\",\"Earth\",\"Europa\",\"Earth\",\"Earth\",\"Earth\",\"Earth\",\"Earth\",\"Europa\",\"Europa\",\"Europa\",\"Europa\",\"Earth\",\"Earth\",\"Europa\",\"Earth\",\"Earth\",\"Europa\",\"Europa\",\"Earth\",null,\"Earth\",\"Earth\",\"Earth\",\"Earth\",\"Earth\",\"Earth\",\"Earth\",\"Mars\",\"Earth\",\"Earth\",\"Europa\",\"Europa\",\"Earth\",\"Earth\",\"Mars\",\"Earth\",\"Earth\",\"Earth\",\"Earth\",\"Mars\",\"Europa\",\"Europa\",\"Earth\",null,\"Earth\",\"Earth\",\"Earth\",\"Earth\",\"Earth\",\"Earth\",\"Earth\",\"Earth\",\"Earth\",null,\"Europa\",\"Mars\",\"Earth\",\"Earth\",\"Earth\",\"Europa\",\"Europa\",\"Earth\",\"Europa\",\"Europa\",\"Earth\",\"Europa\",\"Europa\",\"Earth\",\"Earth\",\"Earth\",\"Earth\",\"Earth\",\"Europa\",\"Europa\",\"Europa\",\"Europa\",\"Europa\",\"Earth\",\"Earth\",\"Earth\",\"Earth\",\"Earth\",\"Earth\",\"Mars\",\"Mars\",\"Mars\",\"Mars\",\"Mars\",\"Mars\",\"Earth\",\"Mars\",\"Mars\",\"Europa\",\"Mars\",\"Earth\",\"Europa\",\"Earth\",\"Earth\",\"Earth\",\"Earth\",\"Earth\",\"Earth\",\"Mars\",\"Mars\",\"Europa\",\"Europa\",\"Earth\",\"Europa\",\"Earth\",\"Mars\",\"Earth\",\"Earth\",\"Earth\",\"Earth\",\"Earth\",\"Earth\",\"Earth\",\"Earth\",\"Earth\",\"Earth\",\"Earth\",\"Mars\",\"Mars\",\"Mars\",\"Earth\",\"Earth\",\"Earth\",\"Mars\",\"Mars\",\"Mars\",\"Earth\",\"Mars\",\"Earth\",\"Earth\",\"Mars\",\"Earth\",\"Earth\",\"Earth\",\"Earth\",\"Mars\",\"Earth\",\"Europa\",\"Earth\",\"Earth\",\"Earth\",\"Earth\",\"Earth\",\"Earth\",\"Earth\",\"Mars\",\"Mars\",\"Mars\",\"Earth\",\"Europa\",\"Earth\",\"Mars\",\"Mars\",\"Earth\",\"Earth\",\"Earth\",\"Earth\",\"Earth\",\"Mars\",\"Europa\",\"Earth\",\"Europa\",\"Mars\",\"Mars\",\"Earth\",\"Earth\",\"Earth\",\"Earth\",\"Earth\",\"Mars\",\"Earth\",\"Earth\",\"Earth\",\"Europa\",\"Europa\",\"Europa\",\"Europa\",\"Earth\",\"Mars\",\"Europa\",\"Mars\",\"Mars\",\"Europa\",\"Earth\",\"Earth\",\"Earth\",\"Earth\",\"Earth\",\"Earth\",\"Earth\",\"Europa\",\"Europa\",\"Europa\",\"Europa\",\"Earth\",\"Earth\",\"Earth\",\"Earth\",\"Earth\",\"Earth\",\"Mars\",\"Earth\",\"Mars\",\"Earth\",\"Earth\",\"Earth\",\"Mars\",\"Mars\",\"Mars\",\"Mars\",\"Mars\",\"Mars\",\"Mars\",\"Earth\",\"Europa\",\"Europa\",\"Europa\",\"Earth\",\"Earth\",\"Earth\",\"Europa\",\"Europa\",\"Earth\",\"Earth\",\"Earth\",\"Europa\",\"Europa\",\"Earth\",\"Europa\",\"Europa\",\"Earth\",\"Earth\",\"Earth\",\"Earth\",\"Earth\",\"Mars\",\"Mars\",\"Earth\",\"Mars\",\"Mars\",\"Earth\",\"Earth\",\"Earth\",\"Earth\",\"Europa\",\"Europa\",\"Mars\",\"Earth\",\"Europa\",\"Europa\",\"Europa\",\"Earth\",\"Earth\",\"Mars\",\"Earth\",\"Earth\",\"Mars\",\"Earth\",\"Earth\",\"Earth\",\"Earth\",\"Earth\",\"Earth\",\"Earth\",\"Mars\",\"Europa\",\"Europa\",\"Earth\",\"Earth\",\"Earth\",\"Europa\",\"Mars\",\"Earth\",\"Europa\",\"Europa\",\"Europa\",\"Europa\",\"Europa\",\"Europa\",\"Europa\",\"Europa\",\"Europa\",\"Europa\",\"Earth\",\"Europa\",\"Europa\",\"Europa\",\"Europa\",\"Earth\",null,\"Mars\",\"Earth\",\"Europa\",\"Earth\",\"Earth\",\"Earth\",null,\"Earth\",\"Earth\",\"Earth\",\"Europa\",\"Mars\",\"Earth\",\"Mars\",\"Europa\",\"Europa\",\"Earth\",\"Earth\",\"Mars\",\"Earth\",\"Earth\",\"Earth\",\"Earth\",\"Earth\",\"Earth\",\"Earth\",\"Earth\",\"Earth\",\"Earth\",\"Europa\",\"Earth\",\"Earth\",\"Earth\",\"Mars\",\"Mars\",\"Mars\",\"Earth\",\"Earth\",\"Earth\",\"Earth\",\"Europa\",\"Earth\",\"Europa\",\"Mars\",\"Earth\",\"Mars\",\"Earth\",\"Europa\",\"Mars\",\"Earth\",\"Earth\",\"Europa\",\"Earth\",\"Earth\",\"Earth\",\"Earth\",\"Earth\",\"Earth\",\"Earth\",\"Earth\",null,\"Mars\",\"Earth\",\"Earth\",\"Earth\",\"Earth\",null,\"Earth\",\"Earth\",\"Earth\",\"Earth\",\"Earth\",\"Mars\",\"Earth\",\"Earth\",\"Earth\",\"Europa\",\"Europa\",\"Europa\",null,\"Mars\",\"Earth\",\"Earth\",\"Earth\",\"Earth\",\"Earth\",\"Earth\",\"Europa\",\"Earth\",\"Earth\",\"Earth\",\"Mars\",\"Earth\",\"Earth\",\"Mars\",\"Mars\",\"Europa\",\"Earth\",\"Earth\",\"Earth\",\"Europa\",\"Earth\",\"Earth\",\"Mars\",\"Earth\",\"Earth\",\"Mars\",null,\"Earth\",\"Earth\",\"Earth\",\"Mars\",\"Mars\",\"Mars\",null,\"Earth\",\"Mars\",\"Earth\",\"Mars\",\"Earth\",\"Earth\",\"Earth\",\"Earth\",null,\"Earth\",\"Earth\",\"Earth\",\"Mars\",\"Earth\",\"Earth\",\"Earth\",\"Earth\",\"Mars\",\"Europa\",\"Earth\",\"Europa\",\"Europa\",\"Earth\",\"Earth\",\"Earth\",\"Earth\",\"Earth\",\"Earth\",\"Mars\",\"Europa\",\"Earth\",\"Mars\",\"Earth\",\"Earth\",\"Earth\",\"Europa\",\"Earth\",\"Earth\",\"Mars\",\"Mars\",null,\"Earth\",null,\"Europa\",\"Europa\",\"Europa\",\"Europa\",\"Earth\",\"Mars\",\"Europa\",\"Europa\",\"Earth\",\"Europa\",\"Europa\",\"Earth\",\"Europa\",\"Europa\",\"Earth\",\"Europa\",\"Mars\",\"Mars\",\"Europa\",\"Europa\",\"Europa\",\"Earth\",\"Mars\",\"Mars\",\"Earth\",\"Mars\",\"Mars\",\"Europa\",\"Europa\",\"Earth\",\"Earth\",\"Mars\",\"Europa\",\"Mars\",\"Europa\",\"Europa\",\"Earth\",\"Earth\",\"Europa\",\"Europa\",\"Earth\",\"Mars\",\"Mars\",\"Mars\",\"Earth\",\"Earth\",\"Earth\",\"Earth\",\"Earth\",\"Europa\",\"Europa\",\"Europa\",\"Europa\",\"Mars\",\"Mars\",\"Mars\",\"Mars\",\"Europa\",\"Earth\",\"Earth\",\"Earth\",\"Earth\",\"Mars\",\"Mars\",\"Europa\",\"Mars\",\"Mars\",\"Earth\",\"Europa\",\"Europa\",\"Europa\",\"Earth\",\"Earth\",\"Earth\",\"Earth\",\"Earth\",\"Earth\",\"Earth\",\"Earth\",\"Europa\",\"Europa\",\"Europa\",\"Europa\",\"Europa\",\"Earth\",\"Earth\",\"Earth\",\"Earth\",\"Earth\",\"Mars\",\"Mars\",\"Earth\",\"Europa\",\"Mars\",\"Mars\",\"Mars\",\"Mars\",\"Mars\",\"Mars\",\"Mars\",null,\"Mars\",\"Earth\",\"Mars\",\"Mars\",\"Mars\",\"Mars\",\"Mars\",\"Earth\",\"Earth\",\"Europa\",\"Europa\",\"Europa\",\"Europa\",\"Earth\",\"Earth\",\"Earth\",null,\"Earth\",\"Earth\",\"Earth\",\"Earth\",\"Earth\",\"Earth\",\"Earth\",\"Europa\",\"Europa\",\"Earth\",\"Mars\",\"Earth\",\"Mars\",\"Mars\",\"Earth\",\"Earth\",\"Earth\",\"Earth\",null,\"Earth\",\"Europa\",\"Europa\",\"Europa\",\"Europa\",\"Europa\",\"Europa\",\"Earth\",\"Earth\",\"Mars\",\"Earth\",\"Europa\",\"Earth\",\"Earth\",\"Earth\",\"Earth\",\"Mars\",\"Earth\",\"Earth\",\"Earth\",\"Mars\",\"Earth\",\"Mars\",\"Mars\",\"Mars\",\"Earth\",\"Earth\",\"Earth\",\"Earth\",\"Earth\",\"Europa\",\"Europa\",\"Europa\",\"Earth\",\"Earth\",\"Earth\",\"Europa\",\"Europa\",\"Earth\",\"Earth\",null,\"Earth\",\"Earth\",\"Earth\",\"Europa\",\"Europa\",\"Europa\",\"Europa\",\"Mars\",\"Mars\",\"Europa\",\"Earth\",\"Earth\",\"Earth\",\"Earth\",\"Earth\",\"Europa\",\"Europa\",\"Europa\",\"Earth\",\"Mars\",\"Mars\",\"Mars\",\"Mars\",\"Europa\",\"Earth\",\"Earth\",\"Earth\",\"Europa\",\"Earth\",\"Earth\",\"Earth\",\"Earth\",\"Mars\",\"Europa\",\"Europa\",\"Mars\",\"Mars\",\"Earth\",\"Earth\",\"Earth\",\"Earth\",null,\"Earth\",\"Earth\",\"Earth\",\"Earth\",\"Mars\",\"Mars\",\"Europa\",\"Europa\",\"Mars\",\"Earth\",\"Earth\",\"Mars\",\"Earth\",\"Mars\",\"Mars\",\"Mars\",\"Earth\",\"Earth\",\"Mars\",\"Earth\",\"Earth\",\"Earth\",\"Earth\",\"Earth\",\"Europa\",\"Mars\",\"Earth\",\"Earth\",\"Earth\",\"Earth\",\"Earth\",\"Earth\",\"Earth\",\"Earth\",\"Earth\",\"Mars\",\"Earth\",\"Earth\",\"Earth\",\"Earth\",\"Earth\",\"Earth\",\"Mars\",\"Earth\",\"Earth\",\"Earth\",\"Mars\",\"Mars\",\"Earth\",\"Earth\",\"Europa\",\"Europa\",\"Earth\",\"Europa\",\"Earth\",\"Earth\",\"Earth\",\"Earth\",\"Europa\",\"Europa\",\"Europa\",\"Europa\",\"Europa\",\"Earth\",\"Earth\",\"Europa\",\"Europa\",\"Earth\",\"Earth\",\"Europa\",\"Europa\",\"Earth\",null,\"Europa\",\"Earth\",\"Earth\",\"Mars\",\"Earth\",\"Earth\",\"Earth\",\"Earth\",\"Earth\",\"Earth\",\"Mars\",\"Earth\",null,null,\"Mars\",\"Mars\",\"Mars\",\"Earth\",\"Earth\",\"Earth\",null,\"Earth\",\"Earth\",\"Earth\",null,\"Mars\",\"Europa\",\"Mars\",\"Europa\",\"Europa\",\"Europa\",\"Europa\",\"Earth\",\"Europa\",\"Europa\",\"Earth\",\"Mars\",\"Europa\",\"Earth\",\"Mars\",\"Earth\",\"Earth\",\"Earth\",\"Earth\",\"Earth\",\"Europa\",\"Earth\",\"Europa\",\"Europa\",\"Europa\",\"Europa\",\"Earth\",\"Earth\",\"Mars\",\"Earth\",\"Mars\",\"Mars\",\"Europa\",\"Mars\",\"Mars\",\"Earth\",\"Earth\",\"Europa\",\"Europa\",\"Earth\",\"Mars\",\"Europa\",\"Earth\",\"Earth\",\"Mars\",\"Earth\",\"Earth\",\"Earth\",\"Earth\",\"Mars\",\"Earth\",\"Mars\",\"Europa\",\"Europa\",\"Earth\",\"Earth\",\"Earth\",\"Earth\",\"Earth\",\"Earth\",\"Earth\",\"Earth\",\"Earth\",\"Mars\",\"Mars\",\"Earth\",\"Earth\",\"Earth\",\"Earth\",\"Earth\",\"Earth\",\"Earth\",null,\"Earth\",\"Earth\",\"Mars\",\"Mars\",\"Mars\",\"Mars\",\"Mars\",\"Earth\",\"Mars\",\"Mars\",\"Mars\",\"Mars\",\"Europa\",\"Europa\",\"Europa\",\"Earth\",\"Earth\",\"Earth\",\"Europa\",\"Earth\",\"Europa\",\"Earth\",\"Earth\",\"Earth\",\"Earth\",\"Earth\",\"Earth\",\"Earth\",\"Earth\",\"Earth\",\"Europa\",\"Earth\",\"Earth\",null,\"Earth\",\"Earth\",\"Earth\",\"Earth\",\"Earth\",\"Earth\",\"Mars\",\"Europa\",\"Earth\",\"Earth\",\"Earth\",\"Earth\",\"Earth\",\"Europa\",\"Earth\",\"Earth\",\"Europa\",\"Europa\",\"Earth\",\"Europa\",\"Mars\",\"Europa\",\"Earth\",null,\"Earth\",\"Earth\",\"Europa\",\"Europa\",\"Earth\",\"Europa\",\"Earth\",\"Europa\",\"Europa\",\"Europa\",\"Earth\",\"Earth\",\"Mars\",\"Earth\",\"Mars\",\"Europa\",\"Earth\",null,\"Europa\",\"Earth\",\"Earth\",\"Mars\",\"Europa\",\"Earth\",\"Earth\",\"Europa\",\"Europa\",\"Mars\",\"Earth\",\"Earth\",\"Earth\",\"Earth\",\"Earth\",\"Europa\",\"Europa\",\"Europa\",\"Europa\",\"Earth\",\"Earth\",\"Earth\",\"Earth\",\"Earth\",\"Europa\",\"Earth\",\"Mars\",\"Europa\",\"Mars\",\"Earth\",\"Earth\",\"Earth\",\"Mars\",\"Mars\",\"Mars\",\"Europa\",\"Europa\",\"Earth\",\"Earth\",\"Mars\",\"Mars\",\"Mars\",\"Earth\",\"Earth\",\"Mars\",\"Earth\",\"Earth\",\"Earth\",\"Earth\",\"Europa\",\"Earth\",\"Earth\",\"Earth\",\"Earth\",\"Europa\",\"Europa\",\"Mars\",\"Earth\",\"Earth\",\"Earth\",\"Europa\",\"Europa\",\"Earth\",\"Europa\",\"Mars\",\"Earth\",\"Earth\",\"Europa\",\"Europa\",\"Europa\",\"Europa\",\"Earth\",\"Mars\",\"Mars\",\"Mars\",\"Mars\",\"Earth\",\"Earth\",\"Earth\",\"Europa\",\"Europa\",\"Earth\",\"Earth\",\"Earth\",\"Mars\",\"Earth\",\"Mars\",\"Mars\",\"Mars\",\"Earth\",\"Earth\",\"Earth\",\"Earth\",\"Mars\",\"Mars\",\"Earth\",\"Earth\",\"Mars\",\"Mars\",\"Mars\",\"Europa\",\"Europa\",\"Earth\",\"Mars\",\"Earth\",\"Earth\",null,\"Mars\",\"Earth\",\"Europa\",\"Earth\",\"Earth\",\"Mars\",\"Mars\",\"Mars\",\"Mars\",\"Mars\",\"Earth\",\"Earth\",\"Earth\",\"Earth\",\"Mars\",\"Mars\",\"Europa\",\"Earth\",\"Earth\",\"Earth\",\"Mars\",\"Mars\",\"Earth\",\"Mars\",\"Earth\",\"Earth\",\"Earth\",null,\"Mars\",\"Mars\",\"Europa\",\"Europa\",\"Earth\",\"Earth\",\"Earth\",\"Earth\",\"Europa\",\"Europa\",\"Earth\",\"Mars\",\"Mars\",\"Mars\",\"Mars\",\"Earth\",\"Mars\",\"Earth\",\"Earth\",\"Earth\",\"Earth\",\"Earth\",\"Earth\",\"Mars\",\"Earth\",\"Earth\",\"Earth\",\"Earth\",\"Europa\",\"Europa\",\"Europa\",\"Earth\",\"Earth\",\"Mars\",\"Europa\",\"Europa\",\"Europa\",\"Earth\",\"Earth\",\"Earth\",\"Earth\",\"Mars\",null,\"Earth\",\"Earth\",\"Earth\",\"Mars\",\"Earth\",\"Earth\",\"Earth\",\"Mars\",\"Earth\",\"Earth\",\"Earth\",\"Earth\",\"Europa\",\"Europa\",\"Earth\",\"Europa\",\"Mars\",\"Mars\",\"Earth\",\"Earth\",\"Earth\",\"Earth\",\"Mars\",\"Mars\",\"Mars\",\"Mars\",\"Earth\",\"Earth\",\"Earth\",\"Earth\",\"Earth\",\"Earth\",\"Earth\",\"Earth\",\"Europa\",\"Earth\",\"Europa\",\"Earth\",\"Earth\",\"Earth\",\"Earth\",\"Mars\",\"Europa\",\"Earth\",\"Earth\",\"Earth\",\"Earth\",\"Earth\",\"Earth\",\"Earth\",\"Earth\",\"Earth\",\"Earth\",\"Europa\",\"Europa\",\"Europa\",\"Europa\",\"Europa\",\"Earth\",\"Earth\",\"Europa\",\"Europa\",\"Europa\",\"Earth\",\"Earth\",\"Earth\",\"Earth\",\"Earth\",\"Earth\",\"Earth\",\"Earth\",\"Earth\",\"Earth\",\"Europa\",\"Europa\",\"Europa\",\"Europa\",\"Europa\",\"Mars\",\"Earth\",\"Earth\",\"Earth\",\"Earth\",\"Earth\",\"Earth\",\"Earth\",\"Mars\",\"Mars\",\"Earth\",\"Earth\",\"Earth\",\"Earth\",\"Europa\",\"Mars\",\"Mars\",\"Earth\",\"Earth\",\"Europa\",\"Europa\",\"Europa\",\"Europa\",\"Earth\",\"Earth\",\"Earth\",\"Europa\",\"Europa\",\"Europa\",\"Europa\",\"Europa\",\"Earth\",\"Earth\",\"Europa\",\"Europa\",\"Mars\",\"Mars\",\"Earth\",\"Earth\",\"Earth\",\"Earth\",\"Earth\",\"Mars\",null,\"Mars\",\"Mars\",\"Mars\",\"Mars\",\"Europa\",\"Europa\",\"Europa\",\"Earth\",\"Earth\",\"Earth\",\"Earth\",\"Earth\",\"Europa\",\"Earth\",\"Earth\",\"Europa\",\"Europa\",\"Europa\",\"Europa\",\"Europa\",\"Europa\",\"Earth\",\"Earth\",\"Europa\",\"Mars\",\"Mars\",\"Mars\",null,\"Earth\",\"Earth\",\"Earth\",\"Europa\",\"Earth\",\"Mars\",\"Earth\",\"Earth\",\"Mars\",\"Earth\",\"Earth\",\"Earth\",\"Earth\",\"Earth\",\"Earth\",\"Earth\",\"Earth\",\"Mars\",\"Earth\",\"Mars\",\"Mars\",\"Europa\",\"Europa\",\"Earth\",\"Earth\",\"Earth\",\"Earth\",\"Earth\",\"Earth\",\"Europa\",\"Earth\",\"Earth\",\"Mars\",\"Earth\",\"Earth\",\"Earth\",\"Earth\",\"Earth\",\"Europa\",\"Europa\",\"Earth\",\"Earth\",\"Earth\",\"Europa\",\"Europa\",\"Europa\",\"Earth\",\"Earth\",null,\"Mars\",\"Mars\",\"Earth\",\"Earth\",\"Europa\",\"Europa\",\"Earth\",\"Earth\",\"Europa\",\"Earth\",\"Europa\",\"Europa\",\"Earth\",\"Mars\",\"Earth\",\"Europa\",\"Earth\",\"Earth\",\"Earth\",\"Earth\",\"Earth\",\"Europa\",\"Europa\",null,\"Europa\",\"Earth\",\"Earth\",\"Earth\",\"Earth\",\"Europa\",\"Europa\",\"Europa\",\"Europa\",\"Earth\",\"Earth\",\"Earth\",\"Earth\",\"Europa\",\"Europa\",\"Earth\",\"Earth\",\"Mars\",\"Earth\",\"Mars\",\"Earth\",\"Earth\",\"Europa\",\"Earth\",\"Earth\",\"Mars\",\"Earth\",\"Earth\",\"Europa\",\"Earth\",\"Earth\",\"Earth\",\"Europa\",\"Europa\",\"Europa\",\"Europa\",\"Europa\",\"Europa\",\"Europa\",\"Earth\",\"Earth\",\"Earth\",\"Earth\",\"Europa\",\"Earth\",\"Earth\",\"Earth\",\"Earth\",\"Europa\",\"Europa\",\"Europa\",\"Earth\",\"Europa\",\"Europa\",\"Europa\",\"Mars\",\"Mars\",\"Europa\",\"Europa\",\"Earth\",\"Earth\",\"Europa\",\"Europa\",\"Europa\",\"Europa\",\"Mars\",\"Mars\",\"Mars\",\"Earth\",\"Earth\",\"Earth\",\"Earth\",\"Mars\",\"Earth\",\"Europa\",\"Mars\",\"Earth\",\"Earth\",\"Mars\",\"Mars\",\"Earth\",\"Earth\",\"Earth\",\"Earth\",null,\"Earth\",\"Europa\",\"Europa\",null,\"Mars\",\"Mars\",\"Earth\",\"Earth\",\"Mars\",\"Mars\",\"Mars\",\"Earth\",\"Mars\",\"Mars\",\"Europa\",\"Earth\",\"Earth\",\"Earth\",\"Mars\",\"Europa\",\"Europa\",\"Europa\",\"Earth\",\"Mars\",\"Earth\",\"Earth\",\"Earth\",\"Earth\",\"Europa\",\"Europa\",\"Mars\",\"Earth\",\"Earth\",\"Mars\",\"Mars\",\"Mars\",\"Mars\",\"Mars\",\"Mars\",\"Mars\",\"Mars\",\"Earth\",\"Earth\",\"Earth\",\"Earth\",\"Earth\",\"Earth\",\"Mars\",null,\"Earth\",\"Earth\",\"Earth\",\"Mars\",\"Mars\",\"Earth\",\"Earth\",\"Earth\",\"Earth\",\"Mars\",\"Mars\",\"Earth\",\"Mars\",\"Mars\",\"Earth\",\"Europa\",\"Mars\",\"Earth\",\"Earth\",\"Earth\",\"Mars\",\"Earth\",\"Earth\",\"Mars\",\"Europa\",\"Europa\",\"Europa\",\"Europa\",\"Europa\",\"Europa\",\"Europa\",\"Earth\",\"Earth\",\"Earth\",\"Earth\",\"Earth\",\"Earth\",\"Earth\",\"Earth\",\"Europa\",\"Europa\",\"Europa\",\"Europa\",null,\"Earth\",\"Earth\",\"Earth\",\"Mars\",\"Earth\",\"Earth\",\"Earth\",\"Mars\",\"Europa\",\"Earth\",\"Earth\",\"Earth\",\"Earth\",\"Earth\",\"Earth\",\"Mars\",\"Mars\",\"Mars\",\"Mars\",\"Mars\",\"Mars\",\"Europa\",\"Earth\",\"Earth\",\"Earth\",\"Earth\",\"Earth\",\"Earth\",\"Earth\",\"Earth\",\"Earth\",\"Earth\",\"Europa\",\"Europa\",\"Mars\",\"Earth\",\"Europa\",\"Europa\",\"Earth\",\"Earth\",\"Earth\",\"Earth\",\"Europa\",\"Europa\",\"Europa\",\"Europa\",\"Europa\",\"Mars\",\"Earth\",\"Mars\",\"Mars\",\"Mars\",\"Earth\",\"Mars\",\"Earth\",\"Earth\",\"Europa\",\"Europa\",\"Europa\",\"Europa\",\"Earth\",\"Mars\",null,\"Mars\",\"Earth\",\"Earth\",\"Mars\",\"Mars\",\"Earth\",\"Earth\",\"Earth\",\"Earth\",\"Earth\",\"Earth\",\"Mars\",\"Mars\",\"Mars\",\"Europa\",\"Europa\",\"Europa\",\"Mars\",\"Mars\",\"Earth\",\"Earth\",\"Earth\",\"Earth\",\"Earth\",\"Mars\",\"Mars\",\"Earth\",\"Earth\",\"Earth\",\"Earth\",\"Europa\",\"Europa\",\"Europa\",\"Europa\",\"Europa\",\"Earth\",\"Europa\",\"Europa\",\"Europa\",\"Earth\",\"Earth\",\"Earth\",\"Europa\",\"Earth\",\"Earth\",\"Earth\",\"Mars\",\"Earth\",\"Europa\",\"Europa\",\"Europa\",\"Europa\",\"Mars\",\"Europa\",\"Europa\",\"Earth\",\"Earth\",\"Earth\",\"Europa\",\"Earth\",\"Earth\",\"Earth\",\"Earth\",\"Mars\",\"Earth\",\"Earth\",\"Earth\",\"Earth\",\"Earth\",null,\"Mars\",\"Europa\",\"Earth\",\"Mars\",\"Earth\",\"Europa\",\"Earth\",\"Earth\",\"Earth\",\"Earth\",\"Earth\",\"Earth\",\"Earth\",\"Earth\",\"Mars\",\"Mars\",\"Europa\",\"Europa\",\"Earth\",\"Earth\",\"Europa\",\"Earth\",\"Earth\",\"Earth\",\"Mars\",\"Mars\",\"Mars\",\"Mars\",\"Mars\",\"Mars\",\"Earth\",null,\"Earth\",\"Europa\",\"Europa\",\"Europa\",\"Europa\",\"Earth\",\"Mars\",\"Earth\",\"Earth\",\"Earth\",\"Earth\",\"Mars\",\"Mars\",\"Earth\",\"Europa\",\"Earth\",\"Earth\",\"Mars\",\"Earth\",\"Mars\",\"Earth\",\"Earth\",\"Mars\",\"Earth\",null,\"Earth\",\"Mars\",\"Earth\",\"Earth\",\"Mars\",\"Earth\",\"Mars\",\"Mars\",\"Earth\",\"Earth\",\"Europa\",\"Earth\",\"Earth\",\"Europa\",\"Europa\",\"Europa\",\"Europa\",\"Europa\",\"Europa\",\"Europa\",\"Europa\",\"Mars\",\"Earth\",\"Earth\",\"Earth\",\"Europa\",\"Mars\",\"Mars\",\"Mars\",\"Mars\",\"Mars\",\"Mars\",\"Mars\",\"Europa\",null,\"Earth\",\"Earth\",\"Earth\",\"Earth\",\"Earth\",\"Earth\",\"Earth\",\"Earth\",\"Europa\",\"Europa\",\"Mars\",\"Earth\",\"Earth\",\"Earth\",\"Earth\",\"Mars\",\"Europa\",\"Europa\",\"Europa\",\"Earth\",\"Earth\",\"Earth\",\"Earth\",\"Mars\",\"Mars\",\"Mars\",null,\"Earth\",\"Earth\",\"Europa\",\"Earth\",\"Earth\",\"Earth\",\"Earth\",\"Earth\",\"Earth\",\"Earth\",\"Earth\",\"Europa\",null,\"Earth\",\"Earth\",\"Earth\",\"Earth\",\"Earth\",\"Earth\",\"Europa\",\"Europa\",\"Europa\",\"Earth\",\"Earth\",\"Earth\",\"Earth\",\"Earth\",\"Earth\",\"Earth\",\"Earth\",\"Europa\",\"Europa\",\"Europa\",\"Europa\",\"Earth\",\"Earth\",\"Mars\",\"Mars\",\"Earth\",\"Earth\",\"Earth\",\"Earth\",\"Mars\",\"Mars\",\"Mars\",\"Earth\",\"Mars\",\"Earth\",\"Earth\",\"Mars\",\"Earth\",\"Mars\",\"Earth\",\"Earth\",\"Europa\",\"Earth\",\"Earth\",\"Earth\",\"Mars\",\"Earth\",\"Earth\",\"Earth\",\"Earth\",\"Mars\",\"Earth\",\"Earth\",\"Earth\",\"Earth\",\"Earth\",\"Earth\",\"Earth\",\"Mars\",\"Earth\",\"Mars\",\"Earth\",\"Europa\",\"Earth\",\"Earth\",\"Europa\",\"Earth\",\"Earth\",\"Earth\",\"Earth\",\"Earth\",\"Mars\",\"Mars\",\"Earth\",\"Mars\",\"Earth\",\"Earth\",\"Europa\",\"Earth\",\"Earth\",\"Earth\",\"Earth\",\"Earth\",\"Earth\",\"Earth\",\"Earth\",\"Europa\",\"Earth\",\"Earth\",\"Earth\",\"Earth\",\"Earth\",\"Earth\",\"Earth\",\"Earth\",\"Earth\",\"Earth\",\"Earth\",\"Mars\",\"Earth\",\"Earth\",\"Earth\",\"Earth\",\"Earth\",\"Earth\",\"Earth\",\"Earth\",\"Earth\",\"Earth\",\"Earth\",\"Earth\",\"Earth\",\"Earth\",\"Mars\",\"Earth\",\"Earth\",\"Mars\",\"Europa\",\"Europa\",\"Earth\",\"Mars\",\"Mars\",\"Mars\",\"Mars\",\"Mars\",\"Earth\",\"Earth\",\"Europa\",\"Mars\",\"Earth\",\"Earth\",\"Europa\",\"Earth\",null,\"Earth\",\"Earth\",\"Earth\",\"Earth\",\"Europa\",\"Europa\",\"Earth\",\"Europa\",\"Mars\",\"Earth\",\"Earth\",\"Earth\",\"Earth\",\"Earth\",\"Earth\",\"Europa\",\"Europa\",\"Europa\",\"Earth\",\"Mars\",\"Mars\",\"Mars\",\"Mars\",\"Earth\",\"Earth\",\"Europa\",\"Europa\",\"Earth\",\"Earth\",\"Earth\",\"Earth\",\"Mars\",\"Mars\",\"Mars\",\"Earth\",\"Earth\",\"Earth\",\"Europa\",\"Europa\",\"Europa\",\"Earth\",\"Europa\",\"Europa\",\"Earth\",\"Europa\",\"Earth\",null,\"Mars\",\"Earth\",\"Earth\",\"Mars\",\"Europa\",\"Europa\",\"Europa\",\"Mars\",\"Earth\",\"Earth\",\"Earth\",\"Mars\",\"Earth\",\"Earth\",\"Earth\",\"Mars\",\"Europa\",\"Earth\",\"Earth\",\"Earth\",\"Earth\",\"Europa\",\"Europa\",\"Earth\",\"Earth\",\"Earth\",\"Europa\",\"Europa\",\"Mars\",\"Earth\",\"Earth\",\"Earth\",\"Earth\",\"Europa\",\"Mars\",\"Mars\",\"Mars\",\"Earth\",\"Mars\",\"Europa\",\"Earth\",null,\"Mars\",\"Earth\",\"Earth\",\"Earth\",\"Europa\",\"Mars\",\"Earth\",\"Earth\",\"Europa\",\"Europa\",\"Earth\",\"Earth\",\"Earth\",\"Earth\",\"Mars\",\"Earth\",\"Earth\",\"Earth\",\"Mars\",\"Earth\",\"Earth\",\"Europa\",\"Europa\",\"Earth\",\"Earth\",\"Earth\",\"Europa\",\"Europa\",\"Europa\",\"Earth\",\"Mars\",\"Mars\",null,\"Mars\",\"Mars\",\"Mars\",\"Mars\",\"Earth\",\"Earth\",\"Earth\",\"Mars\",\"Mars\",\"Mars\",\"Mars\",\"Mars\",\"Mars\",\"Mars\",\"Europa\",\"Europa\",\"Europa\",\"Earth\",\"Europa\",\"Europa\",\"Europa\",\"Europa\",\"Europa\",\"Europa\",\"Europa\",\"Europa\",\"Europa\",\"Europa\",\"Europa\",\"Earth\",\"Earth\",\"Earth\",\"Earth\",\"Earth\",\"Earth\",\"Mars\",\"Mars\",\"Earth\",\"Earth\",\"Earth\",\"Earth\",\"Earth\",\"Mars\",\"Earth\",\"Earth\",\"Earth\",\"Earth\",\"Earth\",null,\"Europa\",\"Mars\",\"Europa\",\"Europa\",\"Europa\",null,\"Earth\",\"Europa\",\"Mars\",\"Europa\",null,\"Mars\",\"Mars\",\"Mars\",\"Mars\",\"Mars\",\"Earth\",\"Earth\",\"Earth\",\"Earth\",\"Mars\",\"Mars\",\"Mars\",\"Earth\",\"Earth\",\"Earth\",\"Europa\",\"Europa\",\"Earth\",\"Europa\",\"Earth\",\"Europa\",\"Mars\",\"Mars\",\"Earth\",\"Earth\",\"Earth\",\"Europa\",\"Europa\",\"Europa\",\"Earth\",\"Earth\",\"Earth\",\"Europa\",\"Europa\",\"Europa\",\"Earth\",\"Earth\",\"Earth\",\"Earth\",\"Earth\",\"Earth\",\"Earth\",\"Earth\",\"Earth\",\"Earth\",\"Europa\",\"Europa\",\"Europa\",\"Mars\",\"Earth\",\"Mars\",\"Europa\",\"Europa\",\"Earth\",\"Earth\",\"Earth\",\"Earth\",\"Europa\",\"Europa\",\"Earth\",\"Earth\",\"Earth\",\"Europa\",\"Mars\",\"Mars\",\"Earth\",\"Europa\",\"Earth\",\"Earth\",\"Mars\",\"Mars\",\"Earth\",\"Europa\",null,\"Europa\",\"Earth\",\"Earth\",\"Earth\",\"Earth\",\"Earth\",\"Earth\",\"Mars\",\"Earth\",\"Earth\",\"Earth\",\"Europa\",\"Earth\",\"Earth\",\"Earth\",\"Mars\",\"Mars\",\"Earth\",\"Earth\",\"Mars\",\"Mars\",\"Mars\",\"Mars\",\"Earth\",\"Earth\",\"Mars\",\"Earth\",\"Europa\",\"Europa\",\"Mars\",\"Europa\",\"Europa\",\"Europa\",\"Europa\",\"Mars\",\"Europa\",\"Europa\",\"Europa\",\"Mars\",\"Earth\",\"Earth\",\"Earth\",\"Earth\",\"Earth\",\"Earth\",\"Europa\",\"Mars\",\"Earth\",\"Earth\",\"Earth\",\"Europa\",\"Europa\",\"Earth\",\"Europa\",\"Mars\",\"Earth\",\"Europa\",\"Europa\",\"Europa\",\"Mars\",\"Earth\",\"Europa\",\"Earth\",null,\"Earth\",\"Earth\",\"Mars\",\"Earth\",\"Earth\",\"Europa\",\"Europa\",null,\"Europa\",\"Europa\",\"Mars\",\"Mars\",\"Earth\",\"Earth\",\"Earth\",\"Europa\",\"Europa\",\"Europa\",\"Mars\",\"Europa\",\"Mars\",\"Mars\",\"Mars\",\"Earth\",\"Earth\",\"Earth\",\"Earth\",\"Earth\",\"Earth\",\"Earth\",\"Earth\",\"Mars\",\"Mars\",\"Mars\",\"Earth\",\"Earth\",\"Earth\",\"Earth\",\"Earth\",\"Earth\",\"Europa\",\"Earth\",\"Mars\",\"Europa\",\"Earth\",\"Earth\",\"Earth\",\"Mars\",\"Europa\",\"Europa\",\"Europa\",\"Mars\",\"Mars\",\"Europa\",\"Europa\",\"Europa\",\"Mars\",\"Earth\",\"Earth\",\"Earth\",\"Earth\",\"Earth\",\"Earth\",\"Mars\",null,\"Europa\",\"Europa\",\"Europa\",\"Earth\",\"Earth\",\"Europa\",\"Europa\",\"Europa\",\"Europa\",\"Europa\",\"Earth\",\"Earth\",\"Mars\",\"Europa\",\"Europa\",\"Europa\",\"Europa\",null,\"Earth\",\"Europa\",\"Earth\",\"Earth\",\"Earth\",\"Mars\",\"Earth\",\"Europa\",\"Europa\",\"Earth\",\"Europa\",\"Europa\",\"Europa\",\"Europa\",\"Earth\",\"Europa\",\"Europa\",\"Earth\",\"Earth\",\"Earth\",\"Mars\",\"Mars\",\"Earth\",\"Earth\",\"Earth\",\"Europa\",\"Europa\",\"Earth\",\"Earth\",\"Mars\",\"Earth\",\"Earth\",\"Earth\",\"Earth\",\"Earth\",\"Mars\",\"Mars\",\"Mars\",\"Mars\",\"Earth\",\"Earth\",\"Europa\",\"Europa\",\"Earth\",\"Earth\",\"Mars\",\"Earth\",\"Earth\",\"Earth\",\"Earth\",\"Earth\",\"Earth\",\"Earth\",\"Earth\",\"Earth\",\"Earth\",\"Earth\",null,\"Mars\",\"Europa\",\"Europa\",\"Mars\",\"Mars\",\"Mars\",\"Mars\",\"Mars\",\"Mars\",\"Mars\",\"Europa\",\"Europa\",\"Europa\",\"Mars\",\"Earth\",\"Earth\",\"Earth\",\"Earth\",\"Earth\",\"Earth\",\"Earth\",\"Earth\",\"Earth\",\"Earth\",\"Earth\",\"Europa\",\"Earth\",\"Europa\",\"Earth\",\"Earth\",\"Earth\",\"Earth\",\"Earth\",\"Earth\",\"Earth\",\"Europa\",\"Europa\",\"Mars\",\"Earth\",\"Earth\",\"Earth\",\"Earth\",\"Earth\",\"Mars\",\"Europa\",\"Earth\",\"Earth\",\"Europa\",\"Earth\",\"Earth\",\"Europa\",\"Europa\",\"Europa\",\"Earth\",\"Earth\",\"Earth\",\"Mars\",\"Europa\",\"Europa\",\"Europa\",\"Earth\",\"Earth\",\"Earth\",\"Mars\",\"Earth\",\"Earth\",\"Mars\",\"Mars\",\"Europa\",\"Europa\",\"Europa\",\"Mars\",\"Europa\",\"Europa\",\"Mars\",\"Mars\",\"Mars\",\"Mars\",\"Earth\",\"Europa\",\"Europa\",\"Europa\",\"Europa\",\"Europa\",null,\"Earth\",\"Earth\",\"Europa\",\"Europa\",\"Earth\",\"Earth\",\"Europa\",\"Europa\",\"Earth\",\"Earth\",\"Europa\",\"Earth\",\"Earth\",\"Earth\",\"Europa\",\"Mars\",\"Earth\",\"Earth\",\"Mars\",\"Earth\",\"Europa\",\"Mars\",\"Europa\",\"Europa\",\"Europa\",\"Europa\",\"Europa\",null,\"Europa\",\"Europa\",\"Earth\",\"Europa\",\"Europa\",\"Europa\",\"Europa\",\"Europa\",\"Europa\",\"Earth\",\"Earth\",\"Earth\",\"Mars\",\"Europa\",\"Earth\",\"Earth\",\"Europa\",\"Earth\",\"Earth\",\"Europa\",\"Europa\",\"Earth\",null,\"Earth\",\"Earth\",\"Europa\",\"Earth\",\"Earth\",\"Europa\",\"Europa\",null,\"Earth\",\"Earth\",\"Earth\",\"Europa\",\"Europa\",\"Earth\",\"Earth\",\"Earth\",\"Earth\",\"Earth\",\"Earth\",\"Earth\",\"Earth\",\"Europa\",\"Europa\",\"Europa\",\"Earth\",\"Earth\",\"Earth\",\"Earth\",\"Earth\",\"Earth\",\"Earth\",\"Earth\",\"Earth\",\"Europa\",\"Europa\",\"Earth\",\"Earth\",\"Earth\",\"Europa\",\"Earth\",\"Europa\",\"Mars\",\"Mars\",\"Mars\",\"Mars\",\"Mars\",\"Earth\",\"Europa\",\"Europa\",\"Europa\",\"Earth\",\"Europa\",\"Europa\",\"Earth\",\"Mars\",\"Mars\",\"Mars\",\"Mars\",\"Earth\",\"Europa\",\"Earth\",\"Earth\",\"Mars\",\"Earth\",\"Mars\",\"Mars\",\"Mars\",\"Earth\",\"Earth\",\"Earth\",\"Earth\",\"Mars\",\"Earth\",\"Earth\",\"Earth\",\"Earth\",\"Earth\",\"Europa\",\"Europa\",\"Europa\",\"Europa\",\"Europa\",\"Mars\",\"Mars\",\"Europa\",\"Europa\",\"Europa\",\"Europa\",\"Earth\",\"Mars\",\"Mars\",\"Earth\",\"Mars\",\"Mars\",\"Mars\",\"Europa\",\"Europa\",\"Europa\",\"Earth\",\"Mars\",\"Europa\",\"Europa\",\"Mars\",\"Mars\",\"Earth\",\"Mars\",\"Europa\",\"Europa\",\"Earth\",\"Earth\",\"Earth\",\"Mars\",\"Mars\",\"Earth\",\"Earth\",\"Earth\",\"Earth\",\"Earth\",\"Earth\",\"Mars\",\"Mars\",\"Mars\",\"Mars\",\"Earth\",\"Earth\",\"Europa\",\"Mars\",\"Mars\",\"Europa\",\"Europa\",\"Europa\",\"Europa\",\"Europa\",\"Europa\",\"Mars\",\"Europa\",\"Europa\",\"Earth\",\"Earth\",\"Europa\",\"Earth\",\"Earth\",\"Europa\",\"Europa\",\"Earth\",\"Earth\",\"Mars\",\"Mars\",\"Earth\",\"Mars\",\"Mars\",\"Mars\",\"Earth\",\"Earth\",\"Earth\",\"Earth\",\"Earth\",\"Earth\",\"Mars\",\"Earth\",\"Europa\",\"Earth\",\"Earth\",\"Mars\",\"Mars\",\"Mars\",\"Mars\",\"Mars\",null,\"Mars\",\"Earth\",\"Earth\",\"Earth\",\"Mars\",\"Earth\",\"Mars\",\"Earth\",\"Mars\",\"Mars\",\"Earth\",\"Earth\",null,\"Europa\",\"Europa\",\"Europa\",\"Mars\",\"Europa\",\"Earth\",\"Earth\",\"Earth\",\"Earth\",\"Earth\",\"Earth\",\"Earth\",\"Europa\",\"Earth\",\"Earth\",\"Earth\",\"Europa\",\"Earth\",\"Earth\",\"Earth\",\"Earth\",\"Earth\",\"Europa\",\"Mars\",\"Mars\",\"Earth\",\"Mars\",\"Mars\",\"Earth\",\"Earth\",\"Mars\",\"Europa\",null,\"Mars\",\"Mars\",\"Earth\",\"Earth\",\"Europa\",\"Earth\",\"Earth\",\"Earth\",\"Europa\",\"Europa\",\"Earth\",\"Earth\",\"Earth\",\"Earth\",\"Earth\",\"Earth\",\"Earth\",\"Earth\",\"Earth\",\"Earth\",\"Earth\",\"Earth\",\"Earth\",\"Earth\",\"Earth\",\"Europa\",\"Earth\",\"Mars\",\"Mars\",\"Mars\",\"Earth\",\"Mars\",\"Europa\",\"Earth\",\"Earth\",\"Mars\",\"Mars\",\"Mars\",\"Mars\",\"Mars\",\"Mars\",\"Mars\",\"Mars\",\"Mars\",\"Mars\",\"Europa\",\"Europa\",\"Mars\",\"Mars\",\"Mars\",null,\"Mars\",\"Mars\",\"Earth\",\"Earth\",\"Earth\",\"Earth\",\"Earth\",\"Mars\",\"Earth\",\"Earth\",\"Mars\",\"Europa\",\"Europa\",\"Europa\",\"Earth\",\"Earth\",\"Earth\",\"Mars\",\"Mars\",\"Earth\",\"Earth\",\"Earth\",\"Mars\",\"Earth\",\"Mars\",\"Earth\",\"Earth\",\"Europa\",\"Earth\",\"Earth\",\"Europa\",\"Europa\",\"Earth\",\"Earth\",\"Earth\",\"Earth\",\"Earth\",\"Earth\",\"Earth\",\"Earth\",\"Earth\",\"Earth\",\"Earth\",\"Earth\",\"Earth\",\"Earth\",\"Earth\",\"Earth\",\"Europa\",\"Earth\",\"Earth\",\"Earth\",\"Mars\",\"Europa\",\"Earth\",\"Earth\",\"Earth\",\"Earth\",\"Europa\",\"Earth\",\"Europa\",\"Europa\",\"Europa\",\"Mars\",\"Mars\",\"Mars\",\"Mars\",\"Earth\",\"Earth\",null,\"Mars\",\"Europa\",\"Mars\",\"Mars\",\"Earth\",\"Earth\",\"Earth\",\"Europa\",\"Earth\",\"Earth\",\"Earth\",\"Europa\",\"Europa\",\"Earth\",\"Earth\",\"Earth\",\"Earth\",\"Mars\",\"Mars\",\"Mars\",\"Mars\",\"Europa\",\"Europa\",\"Earth\",\"Earth\",\"Earth\",\"Earth\",\"Earth\",\"Mars\",\"Mars\",\"Mars\",\"Earth\",\"Mars\",\"Mars\",\"Mars\",\"Earth\",\"Europa\",\"Europa\",\"Europa\",\"Europa\",\"Europa\",\"Europa\",\"Earth\",\"Earth\",\"Europa\",\"Europa\",\"Europa\",\"Earth\",\"Earth\",\"Earth\",\"Earth\",\"Earth\",\"Earth\",\"Mars\",\"Mars\",\"Earth\",\"Earth\",\"Earth\",\"Europa\",\"Europa\",\"Earth\",\"Mars\",\"Earth\",\"Europa\",\"Europa\",\"Earth\",\"Earth\",null,\"Earth\",\"Earth\",\"Earth\",\"Earth\",\"Europa\",\"Mars\",\"Earth\",\"Earth\",\"Earth\",\"Europa\",\"Earth\",\"Earth\",\"Earth\",\"Earth\",\"Earth\",\"Europa\",\"Europa\",\"Europa\",\"Europa\",\"Europa\",\"Europa\",\"Europa\",\"Europa\",\"Mars\",\"Mars\",\"Mars\",\"Earth\",\"Earth\",\"Earth\",\"Europa\",\"Earth\",\"Earth\",\"Mars\",\"Mars\",\"Earth\",\"Earth\",\"Earth\",\"Earth\",\"Earth\",\"Earth\",\"Earth\",\"Earth\",\"Earth\",\"Earth\",\"Earth\",\"Earth\",null,\"Europa\",\"Earth\",\"Mars\",\"Mars\",\"Mars\",\"Mars\",\"Earth\",\"Earth\",\"Earth\",\"Earth\",\"Earth\",\"Mars\",\"Europa\",\"Mars\",\"Europa\",\"Europa\",\"Earth\",\"Earth\",\"Earth\",\"Mars\",\"Mars\",\"Mars\",\"Earth\",\"Earth\",\"Earth\",\"Mars\",\"Earth\",\"Earth\",\"Earth\",\"Mars\",\"Europa\",\"Europa\",\"Earth\",\"Earth\",\"Europa\",\"Europa\",\"Earth\",\"Europa\",\"Earth\",\"Earth\",\"Earth\",\"Mars\",\"Earth\",null,\"Earth\",\"Earth\",\"Earth\",\"Earth\",\"Mars\",\"Europa\",\"Europa\",\"Europa\",\"Earth\",\"Earth\",\"Earth\",\"Mars\",\"Europa\",\"Earth\",\"Earth\",\"Earth\",\"Earth\",\"Earth\",\"Earth\",\"Earth\",\"Earth\",\"Earth\",\"Earth\",\"Earth\",\"Europa\",\"Europa\",\"Earth\",\"Earth\",\"Earth\",\"Earth\",\"Earth\",\"Earth\",\"Europa\",\"Europa\",\"Earth\",\"Mars\",\"Earth\",\"Mars\",\"Mars\",\"Mars\",\"Earth\",\"Mars\",\"Earth\",\"Earth\",\"Earth\",\"Mars\",\"Mars\",\"Earth\",\"Earth\",\"Earth\",\"Earth\",\"Earth\",\"Earth\",\"Earth\",\"Earth\",\"Mars\",\"Earth\",\"Earth\",\"Earth\",\"Earth\",\"Mars\",\"Mars\",\"Mars\",\"Earth\",\"Earth\",\"Europa\",\"Europa\",\"Europa\",\"Europa\",\"Mars\",\"Mars\",\"Europa\",\"Europa\",\"Earth\",\"Earth\",\"Earth\",\"Earth\",\"Earth\",\"Europa\",\"Europa\",\"Earth\",\"Earth\",\"Earth\",\"Mars\",\"Earth\",\"Earth\",\"Earth\",\"Europa\",\"Earth\",\"Europa\",\"Earth\",\"Earth\",\"Earth\",\"Earth\",\"Earth\",\"Earth\",\"Earth\",\"Earth\",\"Earth\",\"Earth\",\"Europa\",\"Earth\",\"Earth\",\"Earth\",\"Earth\",\"Europa\",\"Europa\",\"Earth\",\"Earth\",\"Earth\",\"Earth\",\"Earth\",\"Mars\",\"Mars\",\"Earth\",\"Europa\",\"Mars\",\"Europa\",\"Earth\",\"Europa\",\"Earth\",\"Mars\",\"Europa\",\"Europa\",\"Mars\",\"Mars\",\"Earth\",\"Mars\",\"Europa\",\"Earth\",\"Earth\",\"Earth\",\"Earth\",\"Earth\",\"Mars\",\"Earth\",\"Earth\",\"Mars\",\"Europa\",\"Europa\",\"Mars\",\"Mars\",\"Earth\",\"Europa\",\"Mars\",\"Europa\",\"Mars\",\"Europa\",\"Europa\",\"Mars\",\"Mars\",\"Earth\",\"Earth\",\"Earth\",null,\"Mars\",\"Earth\",\"Europa\",\"Mars\",\"Earth\",\"Europa\",\"Europa\",null,\"Europa\",\"Earth\",\"Mars\",\"Earth\",\"Europa\",\"Europa\",\"Europa\",\"Earth\",\"Mars\",\"Earth\",\"Europa\",\"Europa\",\"Mars\",\"Mars\",\"Earth\",\"Mars\",\"Mars\",\"Earth\",\"Earth\",\"Earth\",\"Mars\",\"Mars\",\"Mars\",\"Mars\",\"Mars\",\"Mars\",\"Mars\",\"Earth\",\"Mars\",\"Earth\",null,\"Mars\",\"Mars\",\"Mars\",\"Europa\",\"Earth\",\"Earth\",\"Earth\",\"Earth\",\"Earth\",\"Earth\",\"Earth\",\"Earth\",\"Mars\",\"Mars\",\"Mars\",\"Mars\",\"Mars\",\"Earth\",\"Earth\",\"Europa\",\"Mars\",\"Mars\",\"Mars\",null,\"Earth\",null,\"Mars\",\"Mars\",\"Earth\",\"Earth\",\"Earth\",\"Mars\",\"Earth\",\"Mars\",\"Earth\",\"Earth\",\"Earth\",\"Earth\",\"Europa\",\"Earth\",null,\"Earth\",\"Mars\",\"Mars\",\"Earth\",null,\"Europa\",\"Earth\",\"Mars\",\"Mars\",\"Earth\",\"Earth\",\"Europa\",\"Mars\",\"Earth\",\"Mars\",null,\"Mars\",\"Europa\",\"Europa\",\"Europa\",\"Europa\",\"Europa\",\"Earth\",\"Europa\",\"Europa\",\"Earth\",\"Earth\",\"Earth\",\"Earth\",\"Earth\",\"Earth\",\"Earth\",\"Mars\",\"Earth\",\"Europa\",\"Earth\",\"Mars\",\"Earth\",\"Mars\",\"Europa\",\"Europa\",\"Europa\",\"Europa\",\"Earth\",\"Earth\",\"Mars\",\"Earth\",\"Earth\",\"Earth\",\"Earth\",\"Europa\",\"Europa\",\"Earth\",\"Mars\",\"Earth\",\"Earth\",\"Europa\",\"Mars\",\"Earth\",\"Earth\",\"Earth\",\"Earth\",\"Earth\",\"Europa\",\"Europa\",\"Earth\",\"Earth\",\"Earth\",\"Earth\",\"Earth\",\"Mars\",\"Earth\",\"Earth\",\"Earth\",\"Earth\",\"Earth\",\"Earth\",\"Earth\",\"Earth\",\"Earth\",\"Earth\",\"Earth\",\"Earth\",\"Earth\",\"Earth\",\"Europa\",\"Mars\",\"Mars\",\"Mars\",\"Mars\",\"Earth\",\"Earth\",\"Earth\",\"Mars\",\"Mars\",\"Mars\",\"Mars\",\"Europa\",\"Earth\",\"Mars\",\"Europa\",\"Mars\",\"Earth\",\"Earth\",\"Earth\",\"Europa\",\"Earth\",\"Earth\",\"Mars\",\"Mars\",\"Mars\",null,\"Earth\",\"Earth\",\"Earth\",\"Mars\",\"Europa\",\"Europa\",\"Europa\",\"Europa\",\"Europa\",\"Europa\",\"Europa\",\"Europa\",\"Earth\",\"Earth\",\"Mars\",\"Earth\",\"Earth\",\"Mars\",\"Mars\",\"Earth\",\"Earth\",\"Europa\",\"Earth\",\"Europa\",\"Earth\",\"Earth\",\"Earth\",\"Earth\",\"Earth\",\"Earth\",\"Mars\",\"Earth\",\"Earth\",\"Europa\",\"Earth\",\"Europa\",\"Earth\",\"Earth\",\"Earth\",\"Earth\",\"Earth\",\"Europa\",\"Europa\",null,\"Europa\",\"Europa\",\"Earth\",\"Earth\",\"Europa\",\"Europa\",\"Europa\",\"Europa\",\"Earth\",\"Earth\",\"Earth\",\"Earth\",\"Earth\",\"Earth\",\"Earth\",\"Earth\",\"Mars\",\"Mars\",\"Mars\",\"Mars\",\"Mars\",\"Earth\",\"Earth\",\"Earth\",\"Earth\",\"Earth\",\"Earth\",\"Earth\",\"Europa\",\"Europa\",\"Europa\",\"Mars\",\"Mars\",\"Mars\",\"Mars\",\"Earth\",\"Mars\",\"Europa\",\"Europa\",\"Europa\",\"Europa\",\"Europa\",\"Earth\",\"Earth\",\"Earth\",\"Earth\",\"Earth\",\"Earth\",\"Earth\",\"Earth\",\"Earth\",\"Earth\",\"Europa\",\"Earth\",\"Earth\",\"Earth\",\"Europa\",\"Mars\",\"Earth\",\"Earth\",\"Earth\",\"Earth\",\"Earth\",null,\"Europa\",\"Europa\",\"Europa\",\"Earth\",\"Mars\",\"Mars\",\"Earth\",\"Earth\",\"Earth\",\"Mars\",\"Earth\",\"Earth\",\"Earth\",\"Earth\",\"Earth\",\"Earth\",\"Mars\",\"Earth\",\"Earth\",\"Earth\",\"Earth\",\"Earth\",\"Earth\",\"Europa\",\"Earth\",\"Earth\",\"Europa\",\"Earth\",\"Earth\",\"Earth\",\"Earth\",\"Earth\",\"Earth\",\"Earth\",\"Earth\",\"Earth\",\"Earth\",\"Earth\",\"Europa\",\"Europa\",\"Earth\",\"Mars\",\"Earth\",\"Earth\",\"Europa\",\"Earth\",\"Earth\",\"Mars\",\"Earth\",\"Earth\",\"Earth\",\"Earth\",\"Earth\",\"Earth\",\"Europa\",\"Europa\",\"Earth\",\"Earth\",\"Europa\",\"Europa\",\"Earth\",\"Earth\",\"Earth\",\"Earth\",\"Europa\",\"Earth\",\"Earth\",\"Earth\",\"Earth\",\"Earth\",\"Earth\",\"Earth\",\"Earth\",\"Earth\",\"Earth\",\"Earth\",\"Earth\",\"Earth\",\"Europa\",\"Earth\",\"Earth\",\"Earth\",\"Europa\",\"Earth\",\"Europa\",\"Europa\",\"Europa\",\"Europa\",\"Earth\",\"Mars\",\"Europa\",\"Earth\",\"Earth\",\"Earth\",\"Earth\",\"Europa\",\"Europa\",\"Europa\",\"Earth\",\"Earth\",\"Earth\",\"Earth\",\"Mars\",\"Europa\",\"Earth\",\"Europa\",\"Europa\",\"Europa\",\"Earth\",\"Mars\",null,\"Earth\",\"Mars\",\"Earth\",\"Earth\",\"Earth\",\"Earth\",\"Earth\",\"Earth\",\"Earth\",\"Earth\",null,\"Europa\",\"Europa\",\"Earth\",\"Earth\",\"Earth\",\"Earth\",\"Earth\",\"Earth\",\"Earth\",\"Mars\",\"Mars\",\"Mars\",\"Mars\",\"Mars\",\"Mars\",\"Mars\",\"Earth\",\"Mars\",\"Earth\",\"Europa\",\"Earth\",\"Europa\",\"Earth\",\"Earth\",\"Earth\",\"Europa\",null,\"Earth\",\"Earth\",\"Earth\",\"Earth\",\"Earth\",\"Earth\",\"Europa\",\"Earth\",\"Europa\",\"Earth\",\"Europa\",\"Europa\",\"Earth\",\"Earth\",\"Mars\",\"Earth\",\"Earth\",\"Earth\",\"Earth\",\"Earth\",\"Earth\",\"Earth\",\"Europa\",\"Europa\",\"Europa\",\"Earth\",\"Earth\",\"Mars\",\"Mars\",\"Mars\",\"Earth\",\"Earth\",\"Earth\",\"Earth\",\"Earth\",\"Earth\",\"Earth\",\"Earth\",\"Earth\",\"Mars\",\"Mars\",\"Mars\",\"Earth\",\"Europa\",\"Mars\",\"Earth\",\"Earth\",\"Earth\",\"Earth\",\"Earth\",\"Earth\",\"Earth\",\"Earth\",\"Earth\",\"Earth\",\"Mars\",\"Mars\",\"Earth\",\"Earth\",\"Mars\",\"Mars\",\"Earth\",\"Earth\",\"Earth\",\"Earth\",\"Europa\",\"Earth\",\"Mars\",\"Mars\",\"Mars\",\"Earth\",\"Mars\",\"Earth\",\"Earth\",\"Earth\",\"Earth\",\"Earth\",\"Earth\",\"Earth\",\"Earth\",\"Earth\",\"Europa\",\"Earth\",\"Earth\",\"Europa\",\"Earth\",\"Earth\",\"Earth\",\"Earth\",\"Mars\",\"Earth\",\"Europa\",\"Europa\",\"Europa\",\"Europa\",\"Europa\",\"Europa\",\"Europa\",\"Europa\",\"Europa\",\"Europa\",\"Earth\",\"Europa\",\"Europa\",\"Europa\",\"Europa\",\"Mars\",\"Earth\",\"Earth\",\"Earth\",null,\"Earth\",\"Earth\",\"Earth\",\"Earth\",\"Earth\",\"Mars\",\"Europa\",\"Mars\",\"Mars\",\"Earth\",\"Earth\",\"Mars\",\"Mars\",\"Mars\",\"Mars\",\"Mars\",\"Earth\",\"Europa\",\"Europa\",\"Europa\",\"Europa\",\"Europa\",\"Europa\",\"Europa\",\"Europa\",\"Mars\",\"Earth\",\"Earth\",\"Earth\",\"Earth\",\"Earth\",\"Earth\",\"Earth\",\"Earth\",\"Europa\",\"Mars\",\"Earth\",\"Mars\",\"Mars\",\"Europa\",\"Mars\",\"Europa\",\"Europa\",\"Europa\",\"Europa\",\"Europa\",\"Mars\",null,\"Mars\",\"Mars\",\"Mars\",\"Mars\",\"Mars\",\"Earth\",\"Europa\",\"Earth\",\"Mars\",null,\"Earth\",\"Europa\",\"Earth\",\"Mars\",\"Earth\",\"Earth\",\"Earth\",\"Earth\",\"Mars\",\"Mars\",\"Earth\",\"Earth\",\"Mars\",\"Europa\",\"Europa\",\"Earth\",\"Earth\",\"Earth\",\"Earth\",\"Earth\",\"Europa\",\"Europa\",\"Earth\",\"Earth\",\"Mars\",\"Mars\",\"Earth\",\"Earth\",\"Earth\",\"Earth\",\"Earth\",\"Earth\",\"Earth\",\"Earth\",\"Earth\",\"Earth\",\"Earth\",\"Mars\",\"Europa\",\"Europa\",\"Europa\",\"Europa\",\"Europa\",\"Europa\",\"Earth\",\"Earth\",\"Earth\",\"Earth\",\"Earth\",\"Earth\",\"Earth\",\"Earth\",null,\"Earth\",null,\"Earth\",\"Mars\",\"Mars\",\"Mars\",\"Mars\",\"Mars\",\"Earth\",\"Earth\",\"Europa\",null,\"Europa\",\"Mars\",\"Earth\",\"Earth\",\"Earth\",\"Mars\",\"Mars\",\"Earth\",\"Europa\",\"Earth\",\"Mars\",\"Earth\",\"Earth\",\"Mars\",\"Europa\",\"Europa\",\"Europa\",\"Mars\",\"Earth\",\"Earth\",\"Mars\",\"Mars\",\"Europa\",null,\"Europa\",\"Europa\",\"Europa\",\"Earth\",\"Earth\",\"Mars\",\"Mars\",\"Earth\",\"Mars\",\"Europa\",\"Earth\",\"Earth\",\"Earth\",\"Earth\",\"Earth\",\"Europa\",\"Earth\",\"Mars\",\"Earth\",\"Earth\",\"Earth\",\"Earth\",\"Earth\",\"Europa\",\"Europa\",\"Europa\",\"Mars\",\"Mars\",\"Mars\",\"Mars\",\"Earth\",\"Earth\",\"Earth\",\"Earth\",\"Earth\",\"Europa\",\"Europa\",\"Earth\",null,\"Europa\",\"Europa\",\"Earth\",\"Europa\",\"Europa\",\"Europa\",\"Europa\",\"Europa\",\"Mars\",\"Mars\",\"Mars\",\"Europa\",\"Mars\",\"Mars\",\"Earth\",\"Europa\",\"Europa\",\"Earth\",\"Mars\",\"Earth\",\"Europa\",\"Europa\",\"Earth\",\"Earth\",\"Europa\",\"Mars\",\"Earth\",\"Earth\",\"Earth\",\"Earth\",\"Earth\",\"Earth\",\"Earth\",\"Earth\",\"Earth\",\"Mars\",\"Europa\",\"Europa\",\"Europa\",\"Europa\",\"Europa\",\"Europa\",\"Earth\",\"Earth\",\"Earth\",\"Europa\",\"Europa\",\"Mars\",\"Mars\",\"Earth\",\"Earth\",\"Europa\",\"Europa\",\"Europa\",\"Earth\",\"Earth\",\"Mars\",\"Earth\",\"Earth\",\"Earth\",\"Earth\",\"Earth\",\"Earth\",\"Earth\",\"Earth\",\"Earth\",\"Earth\",\"Earth\",\"Europa\",\"Earth\",\"Earth\",\"Earth\",\"Earth\",\"Earth\",\"Earth\",\"Mars\",\"Earth\",\"Europa\",\"Earth\",\"Europa\",\"Earth\",\"Earth\",\"Mars\",\"Earth\",\"Europa\",\"Europa\",\"Europa\",\"Europa\",\"Earth\",\"Earth\",\"Mars\",\"Mars\",\"Europa\",\"Europa\",\"Europa\",\"Europa\",\"Mars\",\"Earth\",\"Mars\",\"Mars\",\"Mars\",\"Mars\",\"Mars\",\"Earth\",\"Europa\",\"Europa\",\"Mars\",\"Earth\",\"Earth\",\"Earth\",\"Earth\",\"Earth\",\"Mars\",\"Earth\",\"Earth\",\"Earth\",\"Earth\",\"Earth\",\"Mars\",\"Mars\",\"Europa\",\"Mars\",\"Earth\",\"Mars\",\"Mars\",\"Earth\",\"Earth\",\"Earth\",\"Earth\",\"Mars\",\"Earth\",\"Earth\",\"Earth\",\"Earth\",\"Mars\",\"Mars\",\"Mars\",\"Europa\",\"Europa\",\"Earth\",\"Mars\",null,\"Europa\",null,\"Earth\",\"Earth\",\"Earth\",\"Mars\",\"Earth\",\"Earth\",\"Europa\",\"Mars\",\"Mars\",\"Mars\",\"Earth\",\"Earth\",\"Europa\",\"Earth\",\"Earth\",\"Mars\",\"Earth\",\"Earth\",\"Europa\",\"Europa\",\"Earth\",\"Earth\",\"Earth\",\"Earth\",\"Europa\",\"Earth\",\"Europa\",\"Mars\",\"Earth\",\"Earth\",\"Earth\",\"Earth\",\"Earth\",\"Earth\",\"Earth\",\"Earth\",\"Europa\",\"Europa\",\"Europa\",\"Earth\",\"Earth\",\"Earth\",\"Earth\",\"Earth\",\"Earth\",\"Europa\",null,\"Europa\",\"Earth\",\"Earth\",\"Earth\",\"Earth\",\"Mars\",\"Europa\",\"Europa\",\"Europa\",\"Earth\",\"Europa\",\"Europa\",\"Earth\",\"Earth\",\"Earth\",\"Earth\",\"Earth\",\"Earth\",\"Mars\",\"Earth\",\"Earth\",\"Earth\",\"Earth\",\"Earth\",\"Europa\",\"Earth\",\"Earth\",\"Earth\",\"Earth\",\"Earth\",\"Earth\",\"Earth\",\"Earth\",\"Earth\",null,\"Europa\",\"Europa\",\"Mars\",\"Mars\",\"Earth\",\"Earth\",\"Mars\",\"Mars\",\"Earth\",\"Europa\",\"Mars\",\"Earth\",\"Europa\",\"Earth\",\"Earth\",null,\"Earth\",\"Europa\",\"Europa\",\"Europa\",\"Earth\",\"Earth\",null,\"Earth\",\"Earth\",\"Earth\",\"Earth\",\"Earth\",\"Europa\",\"Earth\",\"Mars\",\"Mars\",\"Earth\",\"Earth\",\"Mars\",\"Earth\",\"Europa\",\"Europa\",\"Europa\",\"Europa\",\"Earth\",null,\"Mars\",\"Earth\",\"Earth\",\"Earth\",\"Earth\",\"Earth\",\"Mars\",\"Earth\",\"Earth\",\"Earth\",\"Earth\",\"Earth\",\"Earth\",\"Earth\",\"Earth\",\"Earth\",\"Earth\",\"Europa\",\"Europa\",\"Earth\",\"Earth\",\"Earth\",\"Earth\",null,\"Earth\",null,\"Earth\",\"Earth\",\"Earth\",\"Europa\",\"Europa\",\"Earth\",\"Earth\",\"Earth\",\"Earth\",\"Earth\",\"Europa\",\"Earth\",\"Mars\",\"Earth\",\"Earth\",\"Earth\",\"Europa\",\"Europa\",\"Mars\",\"Mars\",\"Mars\",\"Mars\",\"Earth\",\"Europa\",\"Europa\",\"Earth\",\"Earth\",\"Earth\",\"Earth\",\"Europa\",\"Mars\",\"Mars\",\"Earth\",\"Earth\",\"Earth\",\"Earth\",\"Earth\",\"Earth\",\"Earth\",\"Earth\",\"Earth\",\"Earth\",\"Earth\",\"Earth\",\"Earth\",\"Earth\",\"Earth\",\"Earth\",\"Earth\",\"Earth\",\"Earth\",\"Mars\",\"Mars\",\"Europa\",\"Europa\",\"Mars\",\"Earth\",\"Earth\",\"Earth\",\"Earth\",\"Earth\",\"Europa\",\"Earth\",\"Earth\",\"Mars\",\"Earth\",\"Earth\",\"Mars\",\"Mars\",\"Earth\",\"Earth\",\"Mars\",\"Mars\",\"Mars\",\"Mars\",\"Earth\",\"Earth\",\"Europa\",\"Europa\",\"Mars\",\"Mars\",\"Europa\",\"Europa\",\"Mars\",\"Earth\",\"Earth\",\"Mars\",\"Mars\",\"Mars\",\"Earth\",\"Earth\",\"Earth\",\"Europa\",\"Earth\",\"Europa\",\"Europa\",\"Europa\",null,\"Earth\",\"Earth\",\"Mars\",\"Earth\",\"Earth\",\"Earth\",\"Earth\",\"Earth\",\"Earth\",\"Europa\",\"Earth\",\"Earth\",\"Earth\",\"Europa\",null,\"Europa\",\"Mars\",\"Europa\",\"Europa\",\"Earth\",\"Earth\",\"Earth\",\"Earth\",\"Earth\",\"Earth\",\"Earth\",\"Earth\",\"Earth\",\"Earth\",\"Mars\",\"Earth\",\"Mars\",\"Europa\",\"Earth\",\"Earth\",\"Europa\",\"Earth\",\"Earth\",\"Mars\",\"Earth\",\"Mars\",\"Mars\",null,\"Earth\",\"Mars\",\"Mars\",\"Europa\",\"Earth\",\"Earth\",\"Europa\",null,\"Earth\",\"Earth\",\"Earth\",\"Mars\",\"Mars\",\"Earth\",\"Earth\",\"Earth\",\"Earth\",\"Earth\",\"Earth\",\"Earth\",\"Europa\",\"Mars\",\"Mars\",\"Earth\",\"Europa\",\"Europa\",\"Europa\",\"Earth\",\"Earth\",\"Earth\",\"Earth\",\"Europa\",\"Europa\",\"Earth\",\"Mars\",\"Earth\",\"Earth\",\"Earth\",\"Earth\",\"Mars\",\"Europa\",\"Earth\",\"Earth\",\"Mars\",\"Europa\",\"Earth\",\"Earth\",\"Mars\",\"Earth\",\"Earth\",\"Earth\",\"Earth\",\"Mars\",\"Earth\",\"Europa\",\"Earth\",\"Earth\",\"Earth\",\"Earth\",null,\"Earth\",\"Earth\",\"Earth\",\"Earth\",\"Earth\",\"Earth\",\"Europa\",\"Europa\",\"Europa\",null,\"Europa\",\"Europa\",\"Mars\",\"Earth\",\"Earth\",\"Europa\",\"Europa\",\"Earth\",\"Earth\",\"Earth\",\"Earth\",\"Earth\",\"Earth\",\"Earth\",\"Earth\",\"Earth\",\"Earth\",\"Earth\",\"Mars\",\"Europa\",\"Mars\",\"Earth\",\"Earth\",\"Earth\",\"Earth\",\"Earth\",\"Earth\",\"Earth\",\"Europa\",\"Europa\",\"Europa\",\"Europa\",\"Europa\",\"Earth\",\"Earth\",\"Earth\",\"Earth\",\"Mars\",\"Mars\",\"Mars\",\"Mars\",\"Mars\",\"Mars\",\"Mars\",\"Earth\",\"Europa\",\"Europa\",\"Europa\",\"Europa\",\"Europa\",\"Earth\",\"Earth\",\"Europa\",\"Earth\",\"Earth\",\"Earth\",\"Europa\",\"Europa\",\"Europa\",\"Earth\",\"Europa\",\"Earth\",\"Earth\",\"Earth\",\"Earth\",\"Mars\",\"Earth\",\"Europa\",\"Europa\",\"Earth\",\"Europa\",\"Europa\",\"Europa\",\"Europa\",\"Europa\",\"Europa\",\"Earth\",\"Mars\",\"Earth\",\"Earth\",\"Earth\",\"Earth\",\"Mars\",\"Europa\",\"Earth\",\"Europa\",\"Europa\",\"Europa\",\"Europa\",\"Europa\",\"Europa\",\"Earth\",\"Earth\",\"Europa\",\"Europa\",\"Europa\",\"Earth\",\"Earth\",\"Europa\",\"Europa\",\"Europa\",\"Europa\",\"Mars\",\"Earth\",\"Earth\",\"Earth\",\"Earth\",\"Mars\",\"Mars\",\"Mars\",\"Mars\",\"Mars\",\"Earth\",\"Earth\",\"Europa\",\"Mars\",\"Mars\",\"Mars\",\"Mars\",\"Earth\",\"Earth\",\"Mars\",\"Mars\",\"Europa\",\"Europa\",\"Europa\",\"Earth\",\"Earth\",\"Earth\",\"Mars\",\"Earth\",\"Mars\",\"Mars\",\"Mars\",\"Earth\",\"Earth\",\"Mars\",\"Mars\",\"Mars\",\"Earth\",\"Earth\",\"Earth\",\"Earth\",\"Earth\",\"Earth\",\"Earth\",\"Earth\",\"Earth\",\"Earth\",\"Europa\",\"Europa\",\"Europa\",\"Europa\",\"Europa\",\"Europa\",\"Earth\",\"Earth\",\"Earth\",\"Earth\",\"Earth\",\"Earth\",\"Earth\",\"Earth\",\"Earth\",\"Earth\",\"Earth\",\"Earth\",\"Mars\",\"Mars\",\"Mars\",\"Earth\",\"Earth\",\"Europa\",\"Earth\",\"Europa\",\"Europa\",\"Europa\",\"Earth\",\"Earth\",\"Mars\",\"Mars\",\"Mars\",null,\"Mars\",\"Earth\",\"Mars\",\"Earth\",\"Earth\",\"Earth\",\"Earth\",\"Earth\",\"Earth\",\"Earth\",\"Earth\",\"Earth\",\"Earth\",\"Earth\",\"Earth\",\"Mars\",\"Mars\",\"Earth\",\"Europa\",\"Europa\",\"Europa\",\"Europa\",\"Earth\",\"Earth\",\"Earth\",\"Earth\",\"Mars\",\"Earth\",\"Earth\",\"Mars\",\"Earth\",\"Mars\",\"Mars\",\"Europa\",\"Europa\",\"Mars\",\"Europa\",\"Earth\",\"Earth\",\"Earth\",\"Earth\",\"Europa\",\"Mars\",\"Earth\",\"Europa\",\"Europa\",\"Europa\",\"Europa\",\"Earth\",\"Earth\",\"Earth\",\"Earth\",\"Earth\",\"Europa\",\"Europa\",\"Europa\",\"Europa\",\"Europa\",\"Europa\",\"Earth\",\"Earth\",\"Earth\",\"Europa\",\"Earth\",\"Mars\",\"Mars\",\"Mars\",\"Mars\",\"Earth\",\"Mars\",\"Earth\",\"Earth\",\"Mars\",\"Earth\",\"Europa\",\"Mars\",\"Mars\",\"Mars\",\"Europa\",\"Mars\",\"Mars\",\"Mars\",\"Europa\",\"Europa\",\"Europa\",\"Earth\",\"Mars\",\"Europa\",\"Earth\",\"Earth\",\"Earth\",\"Earth\",\"Mars\",\"Mars\",\"Mars\",\"Earth\",\"Europa\",\"Earth\",\"Mars\",\"Europa\",\"Mars\",\"Mars\",\"Mars\",\"Mars\",\"Earth\",\"Earth\",\"Europa\",\"Europa\",\"Europa\",\"Europa\",\"Europa\",\"Europa\",\"Earth\",\"Earth\",null,\"Earth\",\"Earth\",\"Earth\",\"Earth\",\"Earth\",\"Earth\",\"Europa\",\"Earth\",\"Mars\",\"Mars\",\"Earth\",\"Earth\",\"Mars\",\"Europa\",\"Europa\",\"Europa\",\"Earth\",\"Europa\",\"Europa\",\"Earth\",\"Europa\",\"Europa\",\"Europa\",\"Europa\",\"Mars\",null,\"Europa\",\"Earth\",\"Earth\",\"Mars\",\"Earth\",\"Earth\",\"Europa\",\"Earth\",\"Earth\",\"Mars\",\"Mars\",\"Europa\",\"Europa\",\"Europa\",\"Europa\",\"Europa\",\"Europa\",null,\"Earth\",\"Earth\",\"Earth\",\"Earth\",\"Earth\",\"Earth\",null,\"Earth\",\"Earth\",\"Mars\",\"Mars\",\"Mars\",null,\"Earth\",\"Europa\",\"Europa\",\"Earth\",\"Europa\",\"Europa\",null,\"Earth\",\"Earth\",\"Europa\",\"Europa\",\"Earth\",\"Earth\",\"Mars\",\"Mars\",\"Earth\",\"Mars\",\"Europa\",\"Earth\",\"Earth\",\"Earth\",null,\"Europa\",\"Europa\",\"Earth\",\"Earth\",\"Earth\",\"Earth\",\"Earth\",\"Europa\",\"Europa\",\"Earth\",\"Earth\",\"Mars\",\"Earth\",\"Earth\",\"Earth\",\"Earth\",\"Europa\",\"Europa\",\"Earth\",\"Europa\",\"Earth\",\"Earth\",\"Earth\",\"Earth\",\"Earth\",\"Earth\",\"Earth\",\"Mars\",\"Earth\",\"Mars\",\"Earth\",\"Earth\",\"Earth\",\"Mars\",\"Earth\",\"Mars\",\"Mars\",\"Earth\",\"Earth\",\"Earth\",\"Earth\",\"Mars\",\"Europa\",\"Earth\",\"Europa\",\"Mars\",\"Mars\",\"Earth\",\"Earth\",\"Earth\",\"Earth\",\"Earth\",\"Earth\",\"Earth\",\"Earth\",\"Earth\",\"Earth\",\"Earth\",\"Earth\",\"Earth\",\"Earth\",\"Earth\",\"Earth\",\"Earth\",\"Earth\",\"Europa\",\"Europa\",\"Earth\",\"Mars\",\"Mars\",\"Mars\",\"Earth\",\"Earth\",\"Earth\",\"Europa\",\"Earth\",\"Earth\",\"Earth\",\"Earth\",\"Europa\",\"Earth\",\"Europa\",\"Europa\",\"Europa\",\"Europa\",\"Europa\",\"Europa\",\"Europa\",\"Earth\",\"Earth\",null,\"Europa\",null,\"Mars\",\"Europa\",\"Earth\",\"Mars\",\"Earth\",\"Earth\",\"Earth\",\"Earth\",\"Europa\",\"Earth\",\"Earth\",\"Earth\",\"Europa\",\"Europa\",\"Earth\",\"Europa\",\"Europa\",\"Europa\",\"Europa\",\"Europa\",\"Earth\",\"Earth\",\"Earth\",\"Earth\",\"Earth\",\"Mars\",\"Mars\",\"Mars\",\"Mars\",\"Earth\",\"Europa\",\"Mars\",\"Mars\",\"Earth\",\"Earth\",\"Earth\",\"Mars\",\"Mars\",\"Mars\",\"Mars\",\"Mars\",\"Mars\",\"Europa\",\"Earth\",\"Europa\",\"Earth\",\"Mars\",\"Mars\",\"Europa\",\"Earth\",\"Earth\",\"Earth\",\"Earth\",\"Earth\",\"Europa\",\"Europa\",\"Europa\",\"Earth\",\"Earth\",\"Earth\",\"Mars\",\"Earth\",\"Earth\",\"Europa\",\"Europa\",\"Europa\",\"Earth\",\"Europa\",\"Europa\",\"Europa\",\"Europa\",\"Earth\",\"Earth\",\"Earth\",\"Earth\",\"Earth\",\"Mars\",\"Earth\",\"Europa\",\"Earth\",\"Earth\",\"Mars\",\"Earth\",\"Earth\",\"Earth\",\"Earth\",\"Earth\",\"Earth\",\"Mars\",\"Earth\",\"Mars\",\"Europa\",\"Europa\",\"Europa\",\"Europa\",\"Europa\",\"Europa\",\"Europa\",\"Europa\",\"Earth\",\"Europa\",\"Mars\",\"Mars\",\"Earth\",\"Earth\",\"Europa\",\"Mars\",\"Earth\",\"Europa\",\"Earth\",\"Mars\",\"Mars\",\"Mars\",\"Europa\",\"Mars\",\"Earth\",null,\"Mars\",\"Mars\",\"Mars\",\"Europa\",\"Earth\",\"Earth\",\"Earth\",\"Earth\",\"Earth\",\"Earth\",\"Earth\",\"Earth\",\"Europa\",\"Europa\",\"Earth\",\"Earth\",\"Earth\",\"Earth\",\"Earth\",\"Earth\",\"Earth\",\"Earth\",\"Europa\",\"Mars\",\"Mars\",\"Earth\",\"Earth\",\"Europa\",\"Europa\",\"Europa\",\"Europa\",\"Europa\",\"Europa\",\"Mars\",\"Mars\",\"Earth\",\"Earth\",\"Earth\",\"Mars\",\"Mars\",\"Earth\",\"Mars\",\"Earth\",\"Earth\",\"Earth\",\"Mars\",\"Mars\",\"Earth\",\"Mars\",\"Europa\",\"Earth\",\"Mars\",\"Earth\",\"Earth\",\"Europa\",\"Earth\",\"Mars\",\"Earth\",null,\"Mars\",\"Earth\",\"Earth\",null,null,\"Europa\",\"Mars\",\"Europa\",\"Europa\",\"Earth\",\"Earth\",\"Earth\",\"Earth\",\"Mars\",\"Earth\",\"Earth\",\"Europa\",\"Europa\",\"Europa\",\"Europa\",\"Earth\",\"Earth\",\"Earth\",\"Earth\",\"Earth\",\"Europa\",\"Europa\",\"Earth\",\"Earth\",\"Mars\",\"Mars\",\"Earth\",\"Earth\",\"Earth\",\"Mars\",\"Europa\",\"Earth\",\"Earth\",\"Earth\",\"Europa\",\"Earth\",\"Earth\",\"Earth\",\"Earth\",\"Earth\",\"Earth\",\"Europa\",\"Europa\",\"Europa\",\"Europa\",\"Europa\",\"Europa\",\"Europa\",\"Earth\",\"Earth\",\"Mars\",\"Europa\",\"Europa\",\"Earth\",\"Earth\",\"Earth\",\"Mars\",\"Earth\",\"Earth\",\"Europa\",\"Mars\",\"Earth\",\"Earth\",\"Earth\",\"Earth\",\"Earth\",\"Mars\",\"Europa\",\"Mars\",\"Earth\",\"Europa\",\"Europa\",\"Europa\",\"Earth\",\"Europa\",\"Europa\",\"Europa\",\"Earth\",\"Earth\",\"Earth\",\"Earth\",\"Earth\",\"Earth\",\"Mars\",\"Earth\",\"Earth\",\"Earth\",\"Europa\",\"Europa\",\"Europa\",\"Europa\",\"Europa\",\"Earth\",\"Mars\",\"Earth\",\"Europa\",\"Earth\",\"Europa\",\"Earth\",\"Earth\",\"Mars\",\"Mars\",\"Mars\",\"Earth\",\"Europa\",\"Mars\",\"Earth\",\"Mars\",\"Earth\",\"Europa\",\"Earth\",\"Earth\",\"Mars\",\"Mars\",\"Earth\",\"Mars\",\"Earth\",\"Mars\",\"Europa\",\"Mars\",\"Mars\",\"Mars\",\"Earth\",null,\"Earth\",\"Europa\",\"Europa\",\"Europa\",\"Earth\",\"Mars\",\"Mars\",\"Mars\",\"Earth\",\"Earth\",\"Earth\",\"Earth\",\"Europa\",\"Earth\",\"Mars\",\"Earth\",\"Earth\",\"Earth\",\"Mars\",\"Mars\",\"Earth\",\"Europa\",\"Europa\",\"Earth\",\"Earth\",\"Earth\",\"Earth\",\"Earth\",\"Earth\",\"Europa\",\"Europa\",\"Earth\",\"Earth\",\"Europa\",\"Europa\",\"Earth\",\"Earth\",\"Earth\",\"Mars\",\"Europa\",\"Europa\",\"Earth\",\"Earth\",\"Earth\",\"Earth\",\"Earth\",\"Earth\",\"Earth\",\"Earth\",\"Earth\",\"Europa\",\"Earth\",\"Mars\",\"Europa\",\"Europa\",\"Europa\",\"Europa\",\"Earth\",\"Earth\",\"Mars\",\"Mars\",\"Earth\",\"Earth\",\"Europa\",\"Europa\",\"Europa\",\"Earth\",\"Earth\",\"Earth\",\"Earth\",\"Mars\",\"Europa\",\"Europa\",null,\"Europa\",\"Europa\",\"Europa\",\"Europa\",\"Europa\",\"Earth\",\"Earth\",\"Earth\",\"Europa\",\"Earth\",\"Europa\",\"Europa\",\"Earth\",\"Earth\",\"Earth\",\"Mars\",\"Mars\",\"Mars\",\"Mars\",\"Mars\",\"Europa\",\"Europa\",\"Europa\",\"Earth\",\"Earth\",\"Mars\",\"Europa\",\"Earth\",\"Earth\",\"Europa\",\"Earth\",\"Earth\",\"Europa\",\"Mars\",\"Mars\",\"Earth\",\"Europa\",\"Mars\",null,\"Earth\",\"Europa\",\"Europa\",\"Earth\",\"Earth\",\"Europa\",\"Europa\",\"Earth\",\"Europa\",\"Europa\",\"Europa\",\"Earth\",\"Earth\",\"Earth\",\"Earth\",\"Earth\",\"Earth\",\"Earth\",\"Europa\",\"Earth\",\"Europa\",\"Earth\",\"Earth\",\"Mars\",\"Europa\",\"Earth\",\"Mars\",\"Earth\",\"Mars\",\"Earth\",\"Earth\",\"Earth\",\"Earth\",\"Europa\",\"Earth\",\"Earth\",\"Europa\",\"Earth\",\"Earth\",\"Earth\",\"Earth\",\"Mars\",\"Europa\",\"Europa\",\"Europa\",\"Earth\",\"Mars\",\"Mars\",\"Europa\",\"Europa\",\"Mars\",\"Earth\",\"Mars\",\"Earth\",\"Earth\",null,\"Mars\",\"Earth\",\"Earth\",\"Earth\",\"Earth\",\"Europa\",null,\"Europa\",\"Europa\",\"Earth\",\"Earth\",\"Europa\",\"Earth\",\"Mars\",\"Earth\",\"Mars\",\"Europa\",\"Mars\",\"Earth\",\"Europa\",\"Europa\",\"Europa\",\"Mars\",\"Mars\",\"Earth\",\"Earth\",\"Earth\",\"Mars\",\"Mars\",\"Earth\",\"Europa\",\"Europa\",\"Europa\",\"Mars\",\"Europa\",\"Europa\",\"Mars\",\"Mars\",\"Europa\",\"Earth\",\"Earth\",\"Europa\",\"Earth\",\"Europa\",\"Europa\",\"Earth\",\"Earth\",\"Earth\",\"Earth\",\"Earth\",\"Earth\",\"Earth\",\"Earth\",\"Earth\",\"Earth\",\"Earth\",\"Earth\",\"Mars\",\"Europa\",\"Europa\",\"Earth\",\"Mars\",\"Mars\",\"Earth\",\"Europa\",\"Europa\",\"Mars\",\"Mars\",\"Earth\",\"Earth\",\"Europa\",\"Europa\",\"Earth\",\"Earth\",null,\"Mars\",\"Mars\",\"Earth\",null,\"Earth\",\"Earth\",null,\"Mars\",\"Earth\",\"Earth\",\"Earth\",\"Earth\",\"Earth\",\"Mars\",\"Mars\",\"Earth\",\"Mars\",\"Earth\",\"Earth\",\"Earth\",\"Earth\",\"Earth\",null,\"Earth\",\"Earth\",\"Earth\",\"Earth\",\"Earth\",\"Earth\",null,\"Mars\",\"Mars\",\"Europa\",\"Europa\",\"Earth\",\"Earth\",\"Europa\",\"Europa\",\"Earth\",\"Earth\",\"Earth\",\"Earth\",\"Mars\",\"Mars\",\"Europa\",\"Earth\",\"Mars\",\"Mars\",\"Earth\",\"Mars\",\"Mars\",\"Earth\",null,\"Mars\",\"Mars\",\"Earth\",\"Earth\",\"Earth\",\"Earth\",null,\"Earth\",\"Earth\",\"Earth\",\"Europa\",\"Europa\",\"Europa\",\"Europa\",\"Earth\",\"Europa\",\"Earth\",\"Earth\",\"Earth\",\"Earth\",\"Earth\",\"Earth\",\"Earth\",null,\"Earth\",\"Europa\",\"Earth\",\"Earth\",\"Earth\",\"Earth\",\"Earth\",\"Earth\",\"Earth\",\"Mars\",\"Earth\",\"Earth\",\"Earth\",\"Europa\",\"Earth\",\"Earth\",\"Earth\",\"Earth\",\"Earth\",\"Mars\",\"Earth\",\"Earth\",\"Europa\",\"Earth\",\"Earth\",\"Earth\",\"Mars\",\"Earth\",\"Earth\",\"Earth\",\"Earth\",\"Earth\",\"Earth\",\"Earth\",\"Europa\",\"Europa\",\"Europa\",\"Mars\",\"Europa\",\"Earth\",\"Earth\",\"Earth\",\"Earth\",\"Earth\",\"Earth\",\"Mars\",\"Earth\",\"Mars\",\"Earth\",\"Earth\",\"Earth\",\"Europa\",\"Earth\",\"Earth\",\"Earth\",\"Earth\",\"Earth\",\"Europa\",\"Europa\",\"Earth\",\"Earth\",\"Europa\",\"Europa\",\"Europa\",\"Europa\",\"Europa\",\"Mars\",\"Earth\",\"Mars\",\"Earth\",null,\"Earth\",\"Earth\",\"Earth\",\"Mars\",\"Mars\",\"Earth\",\"Earth\",\"Earth\",\"Mars\",\"Earth\",\"Earth\",\"Earth\",\"Mars\",\"Europa\",\"Europa\",\"Europa\",null,\"Europa\",\"Europa\",\"Earth\",\"Earth\",\"Earth\",\"Europa\",\"Europa\",\"Europa\",\"Mars\",\"Mars\",\"Mars\",\"Mars\",\"Earth\",\"Mars\",\"Mars\",\"Europa\",\"Earth\",\"Earth\",\"Europa\",\"Europa\",\"Earth\",\"Europa\",\"Earth\",\"Europa\",\"Earth\",\"Earth\",\"Mars\",\"Mars\",\"Earth\",\"Earth\",\"Earth\",\"Earth\",\"Earth\",\"Earth\",\"Europa\",\"Mars\",\"Mars\",\"Mars\",\"Earth\",\"Europa\",\"Europa\",\"Europa\",\"Earth\",\"Earth\",\"Mars\",\"Earth\",\"Earth\",\"Europa\",\"Europa\",\"Earth\",\"Europa\",\"Mars\",\"Earth\",\"Earth\",\"Earth\",\"Earth\",\"Europa\",\"Europa\",\"Europa\",\"Mars\",\"Mars\",\"Mars\",\"Earth\",\"Earth\",\"Earth\",\"Europa\",\"Europa\",null,\"Europa\",\"Europa\",\"Europa\",\"Europa\",\"Earth\",\"Earth\",\"Earth\",\"Earth\",\"Earth\",\"Earth\",\"Earth\",\"Mars\",\"Mars\",\"Earth\",\"Europa\",\"Europa\",\"Europa\",\"Europa\",\"Earth\",null,\"Mars\",\"Mars\",\"Earth\",\"Mars\",\"Mars\",\"Mars\",\"Mars\",\"Earth\",\"Earth\",\"Europa\",\"Earth\",\"Europa\",\"Europa\",\"Earth\",\"Europa\",\"Europa\",\"Earth\",\"Earth\",\"Earth\",\"Europa\",\"Earth\",\"Earth\",\"Earth\",\"Europa\",\"Earth\",\"Earth\",\"Europa\",\"Mars\",\"Mars\",\"Earth\",\"Earth\",\"Europa\",\"Europa\",\"Europa\",\"Europa\",\"Europa\",\"Europa\",\"Europa\",\"Europa\",\"Europa\",\"Earth\",\"Mars\",\"Earth\",\"Earth\",\"Earth\",\"Earth\",\"Earth\",\"Europa\",\"Europa\",\"Mars\",\"Europa\",\"Europa\",\"Europa\",\"Earth\",\"Earth\",\"Earth\",\"Earth\",\"Europa\",\"Earth\",\"Europa\",\"Europa\",\"Europa\",\"Earth\",\"Earth\",\"Mars\",\"Earth\",\"Earth\",\"Earth\",\"Earth\",\"Earth\",\"Earth\",\"Earth\",\"Earth\",\"Mars\",\"Mars\",\"Europa\",\"Europa\",\"Europa\",\"Earth\",\"Earth\",\"Earth\",\"Earth\",\"Earth\",\"Earth\",\"Europa\",\"Europa\",\"Europa\",\"Europa\",\"Earth\",\"Earth\",\"Earth\",\"Earth\",\"Earth\",\"Earth\",\"Mars\",\"Mars\",\"Mars\",\"Earth\",\"Earth\",\"Earth\",\"Earth\",\"Earth\",\"Earth\",\"Earth\",\"Earth\",\"Earth\",\"Mars\",\"Earth\",\"Earth\",\"Europa\",\"Earth\",\"Mars\",\"Earth\",\"Earth\",\"Earth\",\"Earth\",\"Earth\",\"Earth\",\"Earth\",\"Earth\",\"Earth\",\"Earth\",\"Europa\",\"Europa\",\"Europa\",\"Earth\",\"Earth\",\"Earth\",\"Earth\",\"Earth\",\"Earth\",\"Earth\",\"Europa\",\"Europa\",\"Earth\",\"Earth\",\"Earth\",\"Earth\",\"Earth\",\"Earth\",\"Europa\",\"Europa\",null,\"Europa\",\"Europa\",\"Europa\",\"Europa\",\"Europa\",\"Europa\",\"Europa\",\"Earth\",\"Mars\",\"Earth\",\"Earth\",\"Mars\",\"Earth\",\"Earth\",\"Earth\",\"Europa\",\"Earth\",\"Earth\",\"Europa\",\"Earth\",\"Europa\",\"Mars\",\"Mars\",\"Mars\",\"Earth\",\"Mars\",\"Mars\",\"Mars\",\"Mars\",\"Earth\",\"Earth\",\"Earth\",\"Earth\",\"Earth\",\"Earth\",\"Earth\",\"Earth\",\"Earth\",\"Earth\",\"Earth\",\"Earth\",\"Earth\",\"Earth\",\"Earth\",\"Europa\",\"Earth\",\"Earth\",\"Earth\",\"Earth\",\"Earth\",\"Earth\",\"Mars\",\"Earth\",\"Mars\",\"Earth\",\"Earth\",\"Earth\",\"Earth\",\"Earth\",\"Mars\",\"Earth\",\"Earth\",\"Mars\",\"Mars\",\"Europa\",\"Europa\",\"Mars\",\"Earth\",\"Mars\",\"Mars\",\"Mars\",\"Earth\",\"Mars\",\"Europa\",\"Europa\",\"Earth\",\"Earth\",\"Earth\",null,\"Earth\",\"Mars\",\"Mars\",\"Mars\",\"Earth\",\"Earth\",\"Europa\",\"Mars\",\"Mars\",null,\"Mars\",\"Europa\",\"Europa\",\"Earth\",\"Earth\",\"Mars\",\"Earth\",\"Earth\",\"Earth\",\"Europa\",\"Europa\",\"Europa\",\"Earth\",\"Europa\",null,\"Earth\",\"Earth\",\"Earth\",\"Mars\",\"Mars\",\"Mars\",\"Mars\",\"Earth\",\"Earth\",\"Earth\",\"Europa\",null,\"Earth\",\"Earth\",\"Earth\",\"Earth\",\"Earth\",\"Earth\",\"Earth\",\"Europa\",\"Earth\",\"Mars\",\"Mars\",\"Mars\",\"Mars\",\"Mars\",\"Europa\",\"Europa\",\"Earth\",\"Europa\",\"Europa\",\"Europa\",\"Earth\",\"Mars\",\"Mars\",\"Mars\",\"Earth\",\"Earth\",\"Mars\",\"Europa\",\"Europa\",\"Earth\",\"Europa\",\"Europa\",\"Earth\",\"Europa\",\"Europa\",\"Earth\",\"Earth\",\"Earth\",\"Earth\",\"Earth\",\"Earth\",\"Earth\",\"Earth\",\"Mars\",\"Mars\",\"Earth\",\"Earth\",\"Europa\",\"Earth\",\"Mars\",\"Mars\",\"Earth\",\"Earth\",\"Earth\",\"Earth\",\"Europa\",\"Earth\",\"Earth\",\"Earth\",\"Earth\",\"Earth\",\"Earth\",\"Earth\",\"Earth\",\"Earth\",\"Earth\",\"Earth\",\"Earth\",\"Earth\",\"Europa\",\"Europa\",\"Earth\",\"Europa\",\"Europa\",\"Europa\",\"Europa\",\"Earth\",\"Earth\",\"Earth\",\"Mars\",\"Earth\",\"Earth\",\"Earth\",\"Earth\",\"Earth\",\"Earth\",\"Europa\",\"Europa\",\"Earth\",\"Earth\",\"Earth\",\"Earth\",\"Earth\",\"Earth\",\"Earth\",\"Earth\",\"Europa\",\"Europa\",\"Earth\",\"Earth\",\"Earth\",\"Mars\",\"Earth\",\"Mars\",\"Earth\",\"Earth\",\"Europa\",\"Europa\",\"Europa\",\"Mars\",\"Mars\",\"Europa\",\"Europa\",\"Europa\",\"Europa\",\"Earth\",\"Europa\",\"Earth\",\"Europa\",\"Europa\",\"Europa\",\"Europa\",\"Europa\",\"Europa\",\"Earth\",\"Earth\",\"Earth\",\"Earth\",\"Mars\",\"Mars\",\"Earth\",\"Earth\",\"Mars\",\"Earth\",\"Europa\",\"Europa\",\"Earth\",\"Earth\",\"Europa\",\"Europa\",\"Mars\",\"Earth\",\"Earth\",\"Earth\",\"Earth\",\"Europa\",\"Earth\",\"Europa\",\"Earth\",\"Europa\",\"Earth\",\"Mars\",\"Earth\",\"Earth\",\"Mars\",\"Europa\",\"Mars\",\"Mars\",\"Europa\",\"Europa\",\"Europa\",\"Earth\",\"Earth\",\"Earth\",\"Mars\",\"Mars\",\"Mars\",\"Earth\",\"Earth\",\"Earth\",\"Mars\",\"Earth\",\"Europa\",\"Earth\",\"Europa\",\"Europa\",\"Earth\",\"Mars\",\"Earth\",\"Europa\",\"Mars\",\"Mars\",\"Mars\",\"Earth\",\"Earth\",\"Mars\",\"Mars\",\"Mars\",\"Earth\",\"Earth\",\"Earth\",\"Mars\",\"Europa\",\"Mars\",\"Mars\",\"Earth\",\"Europa\",\"Europa\",\"Europa\",\"Europa\",\"Mars\",\"Mars\",\"Mars\",\"Earth\",\"Earth\",\"Earth\",\"Europa\",\"Earth\",\"Mars\",\"Europa\",\"Earth\",\"Earth\",\"Mars\",\"Mars\",\"Mars\",\"Mars\",\"Mars\",\"Mars\",\"Earth\",\"Europa\",\"Europa\",\"Earth\",\"Mars\",\"Mars\",null,\"Mars\",\"Europa\",\"Europa\",\"Earth\",\"Mars\",\"Europa\",\"Europa\",\"Earth\",\"Earth\",\"Earth\",\"Earth\",\"Earth\",\"Earth\",\"Earth\",\"Earth\",\"Earth\",\"Mars\",\"Mars\",\"Europa\",\"Europa\",\"Europa\",\"Europa\",\"Europa\",\"Earth\",\"Earth\",\"Earth\",\"Earth\",\"Earth\",\"Earth\",\"Earth\",null,\"Earth\",\"Earth\",\"Earth\",\"Earth\",\"Mars\",\"Mars\",\"Earth\",\"Europa\",\"Europa\",\"Europa\",\"Mars\",\"Earth\",\"Earth\",\"Earth\",\"Earth\",\"Earth\",\"Earth\",\"Mars\",\"Earth\",\"Earth\",\"Earth\",\"Mars\",null,\"Mars\",\"Mars\",\"Earth\",\"Earth\",\"Earth\",\"Mars\",\"Mars\",\"Earth\",\"Mars\",\"Mars\",\"Mars\",\"Earth\",\"Mars\",\"Earth\",\"Earth\",\"Earth\",\"Europa\",\"Europa\",\"Europa\",\"Europa\",\"Earth\",\"Earth\",\"Earth\",\"Europa\",\"Europa\",\"Europa\",\"Mars\",\"Mars\",\"Mars\",\"Earth\",\"Earth\",\"Earth\",\"Earth\",\"Earth\",\"Mars\",\"Mars\",\"Mars\",\"Mars\",\"Earth\",\"Earth\",\"Earth\",\"Earth\",\"Europa\",\"Earth\",\"Europa\",\"Mars\",\"Europa\",\"Mars\",\"Mars\",\"Mars\",\"Mars\",\"Earth\",\"Earth\",\"Earth\",\"Earth\",\"Earth\",\"Earth\",\"Earth\",\"Earth\",\"Earth\",\"Earth\",\"Mars\",\"Europa\",\"Mars\",\"Mars\",\"Earth\",\"Mars\",\"Mars\",\"Earth\",\"Earth\",\"Earth\",\"Mars\",\"Mars\",\"Earth\",\"Earth\",\"Europa\",\"Europa\",\"Europa\",\"Earth\",\"Europa\",\"Mars\",\"Mars\",\"Earth\",\"Earth\",\"Earth\",\"Earth\",\"Earth\",\"Earth\",\"Earth\",\"Earth\",\"Earth\",\"Earth\",\"Europa\",\"Europa\",\"Earth\",\"Earth\",\"Earth\",\"Earth\",\"Mars\",\"Mars\",\"Europa\",\"Europa\",\"Europa\",\"Earth\",\"Earth\",\"Mars\",\"Earth\",\"Earth\",\"Mars\",\"Earth\",\"Earth\",\"Earth\",\"Earth\",\"Europa\",\"Earth\",\"Mars\",\"Mars\",\"Earth\",\"Earth\",\"Mars\",\"Mars\",\"Mars\",\"Earth\",\"Earth\",\"Earth\",\"Earth\",\"Earth\",\"Earth\",\"Earth\",\"Earth\",\"Europa\",\"Europa\",\"Mars\",\"Earth\",\"Earth\",\"Earth\",\"Earth\",\"Earth\",\"Mars\",\"Mars\",\"Mars\",\"Earth\",\"Earth\",\"Europa\",\"Earth\",\"Earth\",\"Earth\",\"Europa\",\"Earth\",\"Earth\",\"Earth\",\"Earth\",\"Earth\",\"Earth\",\"Earth\",\"Earth\",\"Earth\",\"Earth\",\"Earth\",\"Earth\",\"Earth\",\"Earth\",\"Europa\",\"Earth\",\"Mars\",\"Earth\",\"Earth\",\"Earth\",\"Earth\",\"Mars\",\"Earth\",\"Earth\",\"Europa\",null,\"Europa\",\"Europa\",\"Europa\",\"Earth\",\"Earth\",\"Earth\",\"Earth\",\"Earth\",\"Europa\",\"Mars\",\"Earth\",\"Earth\",\"Europa\",\"Europa\",\"Europa\",\"Earth\",\"Earth\",\"Mars\",\"Mars\",\"Mars\",\"Earth\",\"Earth\",\"Earth\",\"Earth\",\"Earth\",\"Earth\",\"Earth\",\"Mars\",\"Europa\",\"Europa\",\"Earth\",\"Earth\",\"Earth\",null,\"Earth\",\"Mars\",\"Mars\",\"Mars\",\"Earth\",\"Earth\",\"Earth\",\"Europa\",\"Mars\",null,\"Mars\",\"Mars\",\"Europa\",\"Europa\",\"Europa\",\"Europa\",\"Europa\",\"Europa\",\"Earth\",\"Mars\",\"Earth\",\"Europa\",\"Europa\",\"Earth\",\"Earth\",\"Earth\",\"Earth\",\"Mars\",\"Earth\",\"Europa\",\"Earth\",\"Mars\",\"Earth\",null,\"Earth\",\"Mars\",\"Earth\",\"Earth\",\"Earth\",null,\"Earth\",\"Earth\",\"Earth\",\"Earth\",\"Mars\",\"Mars\",\"Earth\",\"Earth\",\"Earth\",\"Europa\",\"Earth\",\"Earth\",\"Earth\",\"Mars\",\"Earth\",\"Earth\",\"Earth\",\"Earth\",\"Europa\",\"Europa\",\"Earth\",\"Earth\",\"Earth\",\"Europa\",\"Earth\",\"Earth\",\"Europa\",null,\"Mars\",\"Earth\",\"Earth\",\"Mars\",\"Mars\",\"Mars\",\"Europa\",\"Earth\",\"Earth\",\"Earth\",\"Europa\",\"Europa\",\"Mars\",\"Europa\",\"Europa\",\"Earth\",\"Earth\",\"Earth\",\"Earth\",\"Earth\",\"Earth\",\"Earth\",\"Earth\",\"Earth\",\"Earth\",\"Europa\",\"Earth\",\"Earth\",\"Earth\",null,\"Earth\",\"Mars\",\"Mars\",\"Mars\",\"Mars\",\"Earth\",\"Europa\",\"Europa\",\"Europa\",\"Mars\",\"Earth\",\"Earth\",\"Earth\",\"Earth\",\"Mars\",\"Mars\",\"Earth\",\"Earth\",\"Earth\",\"Earth\",\"Earth\",\"Earth\",\"Europa\",\"Earth\",\"Earth\",\"Earth\",\"Earth\",\"Earth\",\"Earth\",\"Earth\",\"Earth\",\"Europa\",\"Europa\",\"Europa\",\"Europa\",\"Mars\",\"Earth\",\"Europa\",\"Earth\",\"Earth\",\"Earth\",\"Earth\",\"Mars\",\"Earth\",\"Earth\",\"Europa\",\"Europa\",\"Earth\",\"Earth\",\"Earth\",\"Earth\",\"Mars\",\"Earth\",\"Earth\",\"Earth\",\"Earth\",\"Earth\",\"Europa\",\"Europa\",\"Earth\",\"Earth\",\"Earth\",\"Mars\",\"Mars\",\"Earth\",\"Mars\",\"Earth\",\"Earth\",\"Mars\",\"Earth\",null,\"Earth\",\"Mars\",\"Europa\",\"Europa\",\"Europa\",\"Europa\",\"Europa\",\"Earth\",\"Earth\",\"Mars\",\"Europa\",\"Earth\",\"Europa\",null,\"Europa\",\"Europa\",\"Earth\",\"Europa\",\"Earth\",\"Earth\",\"Europa\",\"Europa\",\"Earth\",\"Earth\",\"Mars\",\"Earth\",\"Earth\",\"Europa\",\"Europa\",\"Europa\",\"Europa\",\"Europa\",\"Europa\",\"Earth\",null,\"Mars\",\"Mars\",\"Europa\",\"Europa\",\"Earth\",\"Earth\",\"Earth\",\"Earth\",\"Earth\",\"Earth\",\"Earth\",\"Earth\",\"Earth\",\"Earth\",\"Earth\",\"Earth\",\"Earth\",\"Earth\",\"Earth\",\"Earth\",\"Earth\",\"Earth\",\"Earth\",\"Earth\",\"Earth\",null,\"Europa\",\"Europa\",\"Europa\",\"Earth\",\"Earth\",\"Earth\",\"Mars\",\"Earth\",\"Earth\",\"Earth\",\"Earth\",\"Europa\",\"Earth\",\"Earth\",\"Earth\",\"Earth\",\"Earth\",\"Mars\",\"Mars\",\"Europa\",\"Earth\",\"Earth\",\"Earth\",\"Earth\",\"Earth\",\"Earth\",\"Earth\",\"Mars\",\"Mars\",\"Mars\",\"Mars\",\"Earth\",\"Earth\",\"Earth\",\"Earth\",\"Mars\",\"Europa\",\"Europa\",\"Mars\",\"Mars\",\"Earth\",\"Earth\",\"Mars\",\"Mars\",\"Earth\",\"Europa\",\"Earth\",\"Earth\",\"Earth\",\"Earth\",\"Europa\",\"Europa\",\"Earth\",\"Mars\",\"Earth\",\"Europa\",\"Earth\",\"Earth\",\"Earth\",\"Earth\",\"Earth\",\"Earth\",\"Earth\",\"Europa\",\"Earth\",\"Earth\",\"Earth\",\"Earth\",\"Earth\",\"Mars\",\"Earth\",\"Earth\",\"Europa\",\"Europa\",\"Mars\",\"Earth\",\"Earth\",\"Earth\",\"Earth\",\"Europa\",\"Earth\",\"Earth\",\"Earth\",\"Earth\",\"Earth\",\"Earth\",\"Mars\",\"Earth\",\"Europa\",\"Earth\",\"Earth\",\"Mars\",\"Earth\",\"Earth\",\"Earth\",\"Earth\",\"Earth\",null,\"Europa\",\"Mars\",\"Mars\",\"Europa\",\"Europa\",\"Europa\",\"Europa\",\"Europa\",\"Europa\",\"Europa\",\"Europa\",\"Earth\",\"Europa\",\"Mars\",\"Europa\",\"Europa\",\"Europa\",\"Earth\",\"Earth\",\"Earth\",\"Earth\",\"Earth\",\"Europa\",\"Earth\",\"Earth\",\"Earth\",\"Earth\",\"Earth\",\"Earth\",\"Mars\",\"Mars\",\"Earth\",\"Earth\",\"Earth\",\"Earth\",\"Earth\",\"Earth\",\"Earth\",\"Europa\",\"Mars\",\"Mars\",\"Mars\",\"Earth\",\"Earth\",\"Earth\",\"Earth\",\"Mars\",\"Mars\",\"Earth\",\"Earth\",\"Earth\",\"Earth\",null,\"Europa\",\"Mars\",\"Europa\",\"Europa\",\"Earth\",\"Earth\",\"Earth\",null,\"Earth\",\"Earth\",\"Europa\",\"Europa\",\"Europa\",\"Earth\",\"Earth\",\"Earth\",\"Earth\",null,\"Europa\",\"Europa\",\"Europa\",\"Europa\",\"Earth\",\"Earth\",\"Europa\",\"Europa\"],\"xaxis\":\"x\",\"y\":[false,true,false,false,true,true,true,true,true,true,true,true,true,false,true,false,false,false,true,true,false,false,false,false,true,false,false,false,true,false,false,false,false,true,true,true,true,false,false,false,false,true,false,false,true,true,false,true,false,false,false,true,true,true,true,false,false,false,true,true,false,true,true,false,false,true,false,false,false,false,true,true,true,false,false,false,true,true,true,true,false,true,true,true,false,false,true,true,false,false,true,false,true,true,false,true,true,false,false,false,false,false,true,false,false,true,true,true,true,true,false,true,true,false,true,true,false,false,true,false,false,false,true,true,false,true,false,true,false,true,true,false,false,true,false,true,false,true,false,false,false,true,true,true,false,true,true,false,false,false,true,true,true,false,false,false,true,false,true,false,true,true,false,true,false,false,true,false,false,true,false,true,true,false,false,true,false,true,true,true,true,true,true,false,true,false,true,true,true,false,false,false,false,false,false,true,true,true,false,false,false,false,true,false,false,false,true,false,false,false,false,true,true,false,false,true,false,false,false,false,false,true,false,true,false,false,false,true,true,true,false,false,false,false,true,false,false,true,true,false,true,false,false,false,true,true,false,true,false,true,true,false,false,true,true,true,true,true,true,false,true,false,false,true,true,true,true,true,true,true,true,true,false,false,true,false,false,false,true,false,false,true,true,true,true,false,true,true,true,false,false,false,false,false,false,true,true,true,false,false,true,false,false,true,true,true,true,true,false,false,false,true,false,true,true,true,false,true,true,false,true,true,false,false,true,false,false,true,true,false,true,false,false,false,true,false,false,true,false,true,true,false,true,true,true,true,true,false,false,false,true,true,false,false,false,false,true,false,false,false,true,true,false,false,false,true,true,false,false,false,false,false,false,false,false,true,false,false,true,false,true,true,false,true,true,true,true,true,true,true,true,false,true,false,true,true,true,false,false,false,true,false,false,false,false,false,false,false,true,true,false,true,true,true,true,true,true,true,true,true,false,true,false,false,true,false,true,true,true,true,false,false,false,false,true,false,false,true,true,false,true,false,true,false,false,true,true,false,false,true,false,false,false,false,false,true,true,true,true,false,true,false,false,true,false,false,true,true,true,false,true,true,true,true,true,true,true,true,true,false,false,true,true,false,true,false,true,true,false,true,false,false,false,true,false,false,false,false,true,true,true,true,true,false,true,false,false,false,false,false,true,true,true,true,false,true,true,true,true,false,true,false,false,true,true,false,false,true,true,false,false,true,true,false,true,true,true,true,false,true,true,true,false,true,false,false,true,false,false,true,false,true,false,true,true,true,true,true,true,false,true,false,false,false,false,false,false,false,false,true,true,false,false,true,true,false,true,true,true,false,true,false,false,false,false,true,false,false,true,true,true,false,true,true,true,false,true,true,true,true,false,true,true,false,false,true,false,false,false,false,true,true,false,true,true,false,true,true,true,true,false,true,true,true,false,true,true,true,false,true,false,false,true,false,false,true,false,true,false,false,false,true,false,false,false,false,false,false,false,false,true,false,true,true,true,false,true,false,false,false,true,true,false,false,true,true,false,true,true,true,false,true,false,true,true,true,true,true,true,true,false,false,true,false,true,false,true,false,false,true,true,true,false,false,false,false,true,true,true,false,false,false,false,false,true,false,true,false,true,false,false,true,false,true,true,true,false,true,false,true,false,false,true,false,false,false,true,true,false,false,false,false,true,true,false,false,true,true,true,false,true,false,false,false,true,true,false,true,false,false,false,false,true,true,false,false,true,true,false,true,false,true,false,true,true,false,true,false,true,false,false,true,false,true,true,true,false,false,false,true,true,true,false,true,true,true,false,true,true,false,true,true,true,true,false,false,false,false,false,false,false,true,true,true,true,true,false,true,true,false,false,false,false,true,true,false,true,false,false,true,false,false,false,false,true,false,false,false,false,false,true,false,true,false,true,false,true,false,true,true,false,false,false,true,false,false,true,false,true,true,false,false,false,false,false,true,false,true,true,false,false,true,true,true,false,false,true,false,true,true,true,true,false,false,false,true,true,true,true,false,false,false,false,true,false,true,true,false,false,false,true,true,false,true,true,true,false,false,false,true,true,false,false,true,false,false,true,true,false,true,false,false,false,true,false,true,false,true,true,false,false,true,false,false,false,true,false,true,false,true,false,false,false,false,true,false,true,false,false,true,false,true,true,false,false,true,true,true,true,false,false,true,false,true,false,false,true,true,true,false,false,true,false,false,false,false,true,false,false,true,true,false,false,false,true,false,true,true,false,true,true,false,false,false,false,true,true,true,true,false,false,false,true,true,true,true,false,false,false,true,true,true,true,false,false,true,true,false,false,false,false,false,false,true,true,true,false,false,true,false,false,true,true,false,true,false,true,true,false,true,false,true,false,false,true,false,false,false,false,false,true,false,true,true,true,false,false,true,true,true,true,false,true,false,true,false,false,true,false,true,true,true,true,true,true,true,true,true,false,false,false,true,true,false,false,true,true,true,false,true,false,false,false,false,false,false,true,true,true,true,false,true,false,true,true,false,true,true,false,false,true,true,false,true,false,false,false,true,true,true,true,false,true,false,true,true,true,false,true,false,false,true,false,false,false,false,false,true,false,false,true,true,true,false,true,false,false,false,false,true,false,false,false,true,false,true,false,true,false,true,true,true,true,false,false,false,false,false,true,true,true,true,true,false,false,true,false,true,true,true,false,true,true,true,true,true,false,false,false,true,false,false,false,true,true,false,false,false,true,false,false,false,true,false,false,false,false,false,true,true,false,false,false,true,false,true,true,true,false,false,false,false,false,true,true,false,true,true,false,false,true,false,true,true,false,false,true,false,true,true,true,false,true,false,false,true,true,false,true,false,false,true,true,false,false,true,true,false,false,true,true,false,true,false,false,false,false,true,true,false,false,false,true,false,false,false,false,true,false,true,true,false,false,false,false,false,true,false,true,true,true,false,true,true,false,false,true,true,false,false,false,false,false,false,true,false,true,false,false,true,false,true,false,false,true,true,true,false,true,false,true,true,true,false,false,false,false,true,false,true,false,true,false,true,true,false,false,false,false,false,true,false,false,false,false,false,true,false,false,false,false,false,false,true,true,true,true,false,true,true,true,false,true,true,true,true,false,false,false,true,false,false,true,false,false,false,false,false,false,true,true,true,true,false,true,false,false,true,false,true,false,false,true,false,true,false,true,true,true,true,false,false,false,true,true,false,true,false,false,false,true,false,false,true,false,false,true,true,false,false,true,false,true,false,false,false,false,false,true,true,false,true,true,false,false,false,true,true,false,false,false,false,false,true,true,false,false,false,true,true,true,true,true,true,false,true,true,true,true,true,false,false,false,true,true,false,true,false,true,false,true,false,true,false,true,true,false,false,true,false,false,false,false,false,false,false,false,true,false,true,true,false,false,false,false,true,false,true,false,false,true,true,false,false,true,true,true,true,false,true,true,false,true,true,true,true,true,true,false,false,false,true,true,false,true,false,true,true,true,false,false,false,true,true,false,true,true,false,true,true,true,true,true,false,false,true,true,false,false,false,true,true,true,false,false,false,true,false,true,false,false,true,false,false,true,false,true,true,false,false,true,false,false,true,false,false,false,false,true,false,false,true,true,false,false,true,false,false,false,false,false,false,false,false,false,false,true,false,false,true,false,false,false,true,false,false,true,false,false,false,true,true,true,false,false,true,false,false,false,true,false,false,true,false,false,true,false,false,false,false,false,false,true,false,true,false,false,false,true,false,true,false,false,true,true,true,true,false,true,false,false,true,true,false,false,false,true,true,false,false,true,false,true,true,false,false,false,false,false,true,false,true,true,false,false,true,true,true,true,false,true,true,true,false,true,true,false,false,true,true,false,false,false,false,false,false,false,true,true,false,false,true,false,false,true,true,false,false,true,true,false,false,false,false,true,false,true,false,true,true,false,true,false,true,true,false,false,true,true,true,true,true,true,false,false,false,true,true,false,false,false,true,true,false,false,false,false,false,false,true,true,true,false,true,false,true,false,false,true,false,true,false,false,false,true,false,false,false,false,true,true,false,true,false,false,false,false,false,false,true,true,true,false,false,false,true,false,false,false,false,true,true,false,true,true,false,false,true,true,false,false,false,false,false,false,false,false,true,false,false,true,true,false,false,true,true,false,false,false,true,true,true,false,false,true,false,false,false,false,false,false,false,false,false,false,false,false,true,false,true,false,true,true,true,true,false,false,true,false,false,true,true,true,false,true,false,false,true,true,true,false,true,true,true,true,true,false,true,false,true,false,false,true,true,false,false,true,true,false,true,false,false,true,false,true,false,false,false,false,false,true,false,true,true,true,false,false,false,true,true,false,false,true,true,true,true,false,true,false,false,true,false,false,true,true,true,false,true,true,true,false,true,true,false,false,false,true,true,true,true,false,false,false,false,true,true,false,true,false,false,false,true,true,false,true,false,true,false,false,true,false,false,true,false,false,false,true,false,true,true,true,false,true,false,true,false,true,false,false,false,false,true,false,false,false,true,true,true,false,false,false,false,false,false,false,false,false,true,true,false,false,false,true,false,false,true,false,false,false,true,false,false,false,false,false,true,false,false,false,false,true,true,true,true,true,true,true,true,false,false,false,false,true,false,true,false,false,false,false,false,true,true,true,true,true,false,true,false,true,false,false,false,true,true,true,true,false,false,false,false,false,false,false,false,false,false,true,false,false,true,false,true,true,false,true,false,true,false,false,true,false,false,false,false,false,true,false,true,true,true,false,true,true,true,false,true,false,false,false,false,false,false,false,true,true,false,false,false,true,false,false,true,true,true,true,false,true,false,false,false,false,false,true,true,true,true,true,true,true,false,false,true,false,true,false,true,true,true,true,true,false,true,true,false,false,true,false,false,true,false,false,false,false,true,false,false,false,false,false,true,false,false,false,false,true,false,false,false,true,false,true,true,false,true,true,false,true,false,false,true,false,true,true,false,true,false,false,false,false,true,true,false,false,false,false,true,false,true,true,false,false,true,false,true,false,false,false,true,false,false,true,false,true,true,false,false,false,false,true,false,false,true,true,false,true,false,true,true,true,true,false,false,false,false,false,true,true,false,true,false,false,false,false,true,true,false,false,true,false,true,false,false,false,true,false,false,false,false,false,false,true,false,false,false,true,true,true,true,false,true,true,true,true,true,false,false,false,true,true,false,true,true,true,true,false,false,false,true,false,false,true,true,false,true,false,false,false,true,true,false,true,false,false,true,false,false,false,true,true,true,false,false,false,false,false,false,false,false,false,true,false,false,true,true,false,false,false,false,false,false,false,true,false,true,false,false,false,true,false,false,false,true,false,false,false,true,false,true,true,false,true,false,true,false,false,true,false,true,true,true,false,false,true,true,true,true,true,true,false,true,false,true,false,true,false,true,false,false,false,true,false,false,false,false,true,false,false,true,false,true,false,true,true,true,true,true,true,true,true,true,true,true,false,true,false,false,false,true,false,true,true,false,true,true,true,true,false,false,false,false,false,false,false,true,true,true,false,false,true,false,false,true,false,false,false,false,false,true,true,true,false,true,false,true,true,false,false,false,true,false,true,false,true,false,false,true,true,true,true,true,false,false,true,false,false,false,true,false,false,false,true,false,false,true,false,true,true,false,false,false,false,false,false,true,false,true,true,true,false,false,false,false,false,true,true,false,false,false,true,false,false,true,false,true,true,false,false,false,false,false,false,false,true,true,false,true,false,false,true,false,false,true,false,true,false,false,false,false,false,false,false,false,false,false,true,true,false,false,true,true,true,true,true,true,false,true,true,true,false,false,true,false,false,true,false,true,true,true,true,false,false,false,false,true,true,false,true,true,false,true,false,true,false,false,true,true,false,false,false,false,true,true,true,true,false,false,true,false,false,true,false,true,false,false,false,true,false,false,true,true,false,true,false,false,false,false,false,false,false,false,false,true,true,false,false,true,false,true,true,true,false,false,false,true,false,false,false,true,true,true,true,false,false,false,false,true,false,true,false,true,false,false,false,false,true,true,false,false,true,true,true,false,true,true,true,false,true,true,true,false,true,true,false,true,true,true,false,false,true,false,false,true,false,false,false,true,false,false,true,true,false,true,false,false,false,true,true,true,true,true,true,true,false,false,true,true,false,false,true,true,true,true,true,false,true,false,false,true,false,false,false,true,false,false,false,false,true,false,true,false,true,false,false,false,false,true,false,true,false,true,false,false,false,true,false,false,false,false,false,false,true,true,true,true,true,true,false,true,false,true,true,true,false,false,false,false,true,true,false,false,false,false,false,false,true,true,true,false,false,true,true,false,false,false,false,false,false,false,false,true,true,false,false,true,true,false,false,true,true,false,false,false,true,false,false,false,true,true,false,true,false,false,true,true,true,false,true,false,true,false,false,false,false,true,false,false,false,false,false,false,false,true,true,true,false,false,false,false,true,true,true,false,false,false,false,false,false,false,false,false,false,false,false,false,true,false,false,true,false,false,false,false,false,false,false,false,false,true,true,false,true,true,false,true,false,true,true,false,true,true,false,false,true,true,true,false,true,false,true,false,true,false,true,false,true,false,true,true,false,true,true,true,false,true,true,true,false,false,true,true,false,false,false,false,false,true,false,true,true,true,true,true,true,true,false,false,true,true,true,true,false,true,true,false,false,false,false,true,true,true,true,true,false,false,true,false,true,false,false,false,false,false,true,true,true,true,false,true,true,true,true,false,false,false,true,true,true,false,false,true,false,true,false,true,false,false,true,false,false,false,false,false,false,false,false,false,false,false,true,false,true,false,false,false,false,false,false,false,false,true,true,true,true,false,true,false,false,false,false,false,false,true,true,true,false,true,true,true,false,true,false,false,false,true,false,false,true,false,false,false,false,false,false,false,true,true,true,false,false,false,false,false,true,true,false,true,true,true,false,true,false,false,true,false,true,true,true,true,true,false,true,true,true,false,false,false,false,true,true,true,true,false,true,true,false,true,true,true,true,true,false,false,true,false,true,false,true,false,true,true,true,true,true,false,false,false,false,true,false,false,true,false,false,false,true,true,true,true,true,false,true,true,true,true,true,true,false,false,false,true,false,true,false,true,true,true,true,false,false,true,false,true,false,false,true,true,false,false,true,false,true,true,true,false,false,true,true,true,true,false,false,true,false,false,true,false,false,true,true,false,false,false,true,false,false,false,true,true,false,true,true,true,false,true,true,true,true,true,false,true,false,true,false,true,true,false,true,false,false,false,true,false,true,false,true,true,false,false,true,true,false,false,false,true,true,true,false,false,false,true,true,true,true,false,false,true,false,true,true,false,true,true,true,false,false,false,false,true,true,true,true,true,false,true,false,false,true,true,false,false,true,true,true,true,false,true,false,false,false,false,true,true,false,true,false,true,false,true,true,true,false,true,true,true,true,false,false,false,false,false,true,false,true,true,true,false,false,false,false,true,true,true,false,false,true,true,true,true,true,false,false,false,true,true,false,false,true,true,false,false,false,false,true,true,true,true,true,false,true,true,true,true,true,false,true,true,false,true,false,false,false,true,true,false,false,true,true,true,true,true,false,false,true,false,false,false,false,true,false,true,true,false,true,false,true,true,true,false,false,true,false,true,true,false,false,true,true,false,false,true,false,true,false,true,true,false,false,false,false,true,false,true,true,true,false,false,true,true,true,false,true,true,true,true,false,false,true,true,true,true,true,true,false,false,true,true,false,true,true,false,false,true,true,false,true,false,false,true,false,true,false,false,true,false,true,false,true,true,true,true,true,true,true,false,true,false,false,false,false,false,true,true,false,true,true,true,true,true,true,false,true,false,true,false,false,true,true,false,true,false,true,true,true,true,false,false,true,true,true,true,false,false,false,true,false,false,false,false,true,false,true,true,false,false,false,true,false,true,true,true,true,false,false,false,false,true,false,true,false,true,true,true,true,true,true,false,true,false,false,true,true,false,true,false,true,false,true,false,true,false,true,false,false,true,false,true,true,true,true,false,false,true,false,false,true,false,false,true,true,false,true,true,true,true,true,false,true,false,true,false,true,true,true,true,true,false,false,false,true,true,true,true,true,true,false,false,false,false,false,false,true,true,true,false,true,true,true,true,true,false,true,false,false,false,false,true,false,true,false,false,true,false,false,false,false,true,false,false,true,true,false,false,false,false,false,true,true,false,false,false,true,false,false,false,false,true,true,true,true,true,true,false,true,true,true,true,true,true,true,false,false,true,false,false,true,false,true,false,true,false,true,true,true,false,true,true,true,false,false,true,false,false,true,false,true,true,true,true,true,false,false,true,true,false,true,true,false,false,true,false,false,true,false,true,true,false,true,true,true,false,false,true,false,true,false,false,true,true,false,true,true,true,false,false,true,false,true,false,false,true,true,true,false,false,true,true,true,true,false,false,false,false,false,false,false,false,false,true,false,false,true,false,false,false,true,false,true,true,false,true,true,false,true,true,false,false,true,false,true,true,true,true,true,true,false,true,false,false,false,true,false,false,false,true,false,false,false,false,false,true,true,false,true,false,true,false,true,true,true,true,false,true,true,false,false,true,true,true,false,false,true,true,true,false,true,true,true,false,true,true,true,false,false,false,false,false,false,true,true,false,false,false,true,false,false,false,false,true,true,true,false,false,false,false,true,true,true,true,false,true,false,true,false,false,false,true,true,true,false,false,true,true,false,true,true,false,false,true,false,false,false,false,true,true,true,true,false,false,true,false,true,true,true,true,false,false,false,false,false,false,false,true,true,true,true,true,false,false,true,false,false,true,false,true,false,false,true,false,true,true,true,false,true,true,true,true,false,true,false,true,true,false,true,true,false,true,true,false,true,false,false,false,false,true,false,false,false,true,true,true,true,true,false,true,false,false,false,true,true,true,true,true,false,false,false,true,true,true,false,true,false,true,false,false,true,true,false,false,false,true,true,true,false,false,true,true,true,true,false,false,true,true,true,true,true,true,false,true,false,false,false,false,false,true,true,true,false,false,true,true,true,true,false,true,false,true,false,true,false,false,true,true,false,true,true,true,true,false,false,false,true,true,true,true,true,false,false,false,true,false,false,true,true,false,false,false,true,true,false,true,true,false,true,true,false,true,true,false,true,true,true,false,true,false,false,true,false,true,false,false,true,true,false,false,false,false,false,false,false,false,true,true,true,true,false,false,true,true,true,false,true,true,false,true,true,false,true,false,true,true,true,true,true,false,false,true,true,true,true,false,false,true,true,true,false,true,false,false,true,true,false,true,true,false,false,true,true,false,true,true,false,true,true,false,true,false,true,true,true,true,true,true,true,true,false,true,true,true,false,true,false,true,false,true,false,false,true,true,false,true,false,true,false,true,false,true,true,true,true,false,true,true,true,false,false,true,false,true,true,true,true,false,false,true,true,true,true,true,false,true,true,true,false,true,false,false,false,false,false,true,false,false,true,true,true,true,false,false,false,false,true,true,true,true,false,true,false,false,true,true,true,false,true,false,false,true,false,true,false,false,false,true,true,false,true,true,true,true,false,false,false,false,true,true,true,true,true,true,true,true,true,false,true,true,false,true,true,true,true,false,true,true,false,false,false,false,false,true,true,false,false,false,false,false,false,true,true,true,false,true,false,false,false,false,true,true,false,true,false,false,true,false,true,false,false,false,true,true,true,true,false,false,false,true,false,true,true,false,false,false,true,false,true,false,false,false,false,false,true,true,true,true,true,true,false,true,false,true,false,false,false,false,true,true,false,false,true,true,true,true,false,false,false,false,true,true,true,true,false,true,true,true,false,true,true,false,false,false,false,true,true,false,true,true,false,false,false,false,true,false,true,true,false,true,false,false,false,true,true,true,true,false,false,false,true,true,true,true,true,true,false,false,true,false,true,true,true,false,true,false,false,false,false,false,false,true,false,false,true,true,true,true,false,false,true,true,true,false,true,true,true,true,true,false,true,true,true,true,true,true,false,false,false,false,false,true,false,true,true,false,false,true,true,true,true,true,true,false,false,true,true,false,true,true,true,false,false,false,false,false,false,true,false,true,false,false,false,false,false,true,true,true,true,true,true,true,true,false,false,true,true,true,false,false,true,false,false,true,false,true,true,false,true,true,true,true,false,false,false,true,true,true,false,true,true,false,false,false,true,false,false,true,false,false,true,false,false,false,true,true,true,true,false,false,true,true,true,true,true,false,true,false,true,true,true,true,false,false,true,true,true,true,true,true,true,false,false,false,false,false,false,false,true,true,true,false,false,false,true,true,true,true,true,true,false,true,true,true,false,true,true,true,false,false,true,true,false,false,true,false,true,true,true,true,false,false,false,true,true,false,true,false,true,true,true,true,true,true,true,false,false,true,true,true,false,false,false,true,true,true,false,true,true,true,true,true,true,false,true,true,false,false,true,false,true,true,true,false,true,true,false,false,false,true,false,true,true,true,true,true,true,false,true,false,false,false,false,true,true,false,false,true,true,true,true,false,false,false,false,true,false,true,false,true,false,true,true,false,true,true,true,true,false,true,true,false,false,true,true,true,false,false,false,false,false,false,false,false,false,false,true,true,false,true,true,true,true,true,true,true,false,true,true,true,true,true,true,true,true,true,true,true,false,false,true,false,false,true,true,true,false,true,true,true,true,false,false,true,false,false,true,true,true,true,false,true,true,false,false,false,true,false,true,false,true,true,true,true,true,false,false,false,false,false,false,true,true,false,true,true,false,false,false,false,true,true,true,true,false,true,false,true,false,true,true,false,false,true,true,false,true,true,false,true,false,false,true,true,false,true,true,false,false,false,false,true,false,true,false,false,false,true,true,false,false,false,true,false,true,true,false,false,true,true,true,true,false,true,false,true,true,false,false,true,true,false,true,false,true,false,true,true,false,true,false,false,true,false,false,false,false,false,false,true,false,true,false,true,false,false,true,false,false,true,false,false,true,true,true,true,true,true,true,true,true,true,false,false,false,true,true,true,true,true,true,true,false,true,false,false,true,true,false,false,true,true,true,false,true,false,true,false,false,true,false,false,false,true,true,true,true,false,true,true,true,true,true,false,true,true,false,false,true,true,true,false,false,true,true,false,true,true,true,true,false,false,false,true,true,false,false,false,true,true,true,true,true,true,true,false,false,false,false,true,false,false,true,true,true,true,true,false,true,false,false,false,true,false,false,true,true,true,false,false,true,false,true,false,true,true,false,true,false,false,true,true,false,false,false,true,true,true,false,true,true,true,false,true,true,false,true,false,true,true,true,true,true,false,true,true,true,true,false,true,true,true,true,true,true,true,true,true,false,false,true,true,true,true,true,false,false,false,true,true,false,true,false,false,false,true,true,true,false,true,false,true,true,true,true,true,false,false,true,true,true,true,true,true,true,false,true,true,true,false,false,true,true,true,false,true,true,true,false,true,true,false,true,true,true,true,false,true,false,true,true,true,true,false,true,false,false,true,false,false,true,false,true,false,false,true,true,false,false,true,true,false,false,true,true,true,true,false,true,true,true,true,false,false,true,true,true,false,false,false,false,true,true,false,false,true,true,false,true,true,true,false,true,true,false,true,true,true,false,false,false,false,false,false,false,false,true,true,false,false,false,false,true,false,true,false,true,true,false,true,false,true,false,true,false,false,false,true,false,false,false,true,true,false,false,true,false,true,false,false,true,false,false,true,true,true,true,true,true,false,false,false,false,false,false,false,true,false,false,true,true,false,true,false,false,false,true,true,false,false,true,true,false,true,true,false,true,false,false,true,false,true,true,true,false,true,true,false,false,false,false,true,true,true,true,true,false,true,false,true,false,false,true,true,true,false,false,true,true,true,true,true,false,false,true,false,true,true,true,false,true,false,true,false,false,false,true,false,false,false,true,false,true,true,true,true,true,false,true,true,false,true,true,true,false,true,true,true,false,true,true,false,true,false,true,false,true,true,false,true,false,false,false,true,false,false,true,false,true,true,false,false,false,true,true,true,true,false,true,false,true,false,false,true,false,true,false,false,false,true,false,true,true,true,true,true,true,true,false,true,true,true,false,true,false,true,false,true,true,true,true,true,true,true,true,false,false,false,true,false,true,false,false,true,false,false,true,true,true,true,true,false,false,false,true,true,true,true,false,false,false,false,true,false,false,false,false,true,false,true,false,true,false,false,true,false,false,true,true,true,true,true,true,true,false,true,false,false,false,false,true,false,false,true,true,true,false,true,true,true,true,true,true,true,true,true,true,true,false,true,true,false,true,true,true,true,true,true,true,true,false,true,false,false,false,true,true,true,false,false,true,false,false,true,false,true,false,true,true,true,true,false,false,false,true,false,false,false,false,false,true,false,false,false,false,true,false,false,false,false,true,true,false,false,true,false,true,true,true,true,true,true,false,true,false,false,false,true,true,true,true,false,true,false,false,true,false,true,false,true,false,true,false,true,false,true,false,false,false,false,false,false,true,true,true,false,true,true,true,true,true,true,true,true,false,true,true,true,true,false,true,true,true,false,true,true,false,true,true,true,true,true,true,false,false,false,false,true,true,false,true,false,true,true,true,true,false,false,true,false,false,true,true,true,true,true,false,true,true,false,true,true,true,true,false,false,false,true,true,true,false,true,true,true,false,true,true,true,false,true,true,true,false,true,false,false,true,false,false,true,false,false,false,false,true,true,true,true,true,true,true,true,false,false,false,true,false,true,true,true,true,true,true,false,false,true,true,false,true,false,false,true,false,false,true,false,false,false,true,false,true,false,false,true,true,false,true,false,false,true,true,true,false,true,true,true,true,true,false,true,false,true,false,false,true,false,false,false,false,false,true,true,false,false,true,true,true,true,false,true,true,true,false,false,true,false,true,true,false,true,false,true,true,false,true,false,true,false,true,false,true,true,false,true,true,false,true,true,true,false,false,true,true,true,true,false,true,true,true,false,false,false,false,true,false,true,true,true,true,false,false,true,true,false,false,true,true,true,false,false,false,false,false,false,false,false,true,false,true,true,false,false,true,true,true,false,true,true,true,true,true,true,true,true,true,false,true,false,true,true,false,true,true,false,true,true,true,false,true,false,true,false,false,false,false,true,false,true,false,true,false,true,false,false,true,true,false,false,false,true,false,false,true,false,true,false,false,true,true,true,true,true,true,false,true,true,false,true,true,false,true,true,true,true,true,true,false,true,true,false,false,true,false,false,true,false,true,true,false,false,true,true,true,false,true,true,true,true,false,false,false,false,false,true,true,false,true,true,true,true,false,false,false,true,true,true,false,false,true,false,true,true,true,true,true,true,true,true,true,true,true,false,false,true,false,false,true,true,true,true,true,false,true,false,false,false,true,false,false,false,true,true,true,true,false,false,true,true,false,true,false,false,true,false,true,false,true,true,false,false,true,true,true,true,true,true,true,true,false,true,true,true,false,false,false,false,false,false,true,false,true,true,true,true,false,true,false,false,false,false,false,false,false,true,false,false,true,true,false,true,true,false,true,true,false,false,true,true,false,true,true,true,true,false,false,false,true,true,true,true,false,true,false,false,false,true,true,false,false,true,false,false,true,true,true,false,true,true,false,false,false,true,true,true,true,true,false,true,true,true,true,false,false,false,true,true,false,true,true,true,true,false,false,true,true,true,true,true,false,false,false,false,false,true,false,true,true,false,true,true,false,true,false,true,true,true,false,false,true,false,false,false,true,true,true,true,true,true,true,true,false,true,false,false,false,true,false,false,true,true,true,false,false,true,false,true,true,true,true,true,true,false,true,true,true,true,false,true,false,false,true,false,false,false,true,false,true,false,true,true,false,true,false,true,true,true,false,true,true,false,true,false,false,false,true,true,true,true,true,false,false,false,true,false,true,false,false,false,true,true,false,true,false,true,true,true,true,true,true,false,false,false,false,false,true,true,true,false,true,true,false,false,true,false,false,false,true,true,false,false,true,false,false,true,true,true,true,true,true,false,true,true,true,true,false,false,true,false,true,false,true,true,true,false,false,false,false,true,false,true,true,true,false,true,false,false,true,false,false,true,true,true,false,false,true,true,false,false,false,true,true,true,true,true,false,false,false,false,true,false,true,true,true,true,false,false,false,true,false,true,true,true,true,false,false,true,true,false,false,true,false,false,false,true,true,true,false,false,false,false,false,false,true,true,false,true,true,true,false,true,false,true,false,false,true,false,true,true,false,false,true,false,false,false,false,true,true,false,true,true,false,true,false,true,false,false,false,false,false,false,true,false,false,true,false,false,true,false,false,true,true,true,true,true,true,false,true,false,true,true,false,true,true,true,true,false,true,true,true,false,false,false,true,false,true,true,true,true,true,true,true,false,true,true,false,true,false,false,false,true,false,true,true,true,false,false,false,false,true,true,true,true,false,true,true,true,false,false,false,true,true,true,true,true,true,false,false,true,true,false,false,true,true,false,true,false,true,true,false,true,false,true,true,false,true,true,false,true,false,false,true,true,true,false,false,false,true,true,true,true,false,true,false,true,true,false,true,false,false,false,true,true,true,true,true,true,false,true,true,true,true,false,false,false,false,true,true,true,true,true,false,true,true,true,false,true,true,false,true,false,true,false,true,true,true,true,true,true,true,false,true,false,false,false,false,false,false,true,true,true,true,false,false,true,false,true,false,true,false,true,false,true,true,false,false,true,true,false,false,true,false,true,true,false,true,true,false,true,false,false,true,false,false,true,true,true,true,true,true,false,false,true,false,true,false,false,true,true,true,false,false,true,true,true,false,true,true,true,true,false,false,true,false,true,true,true,true,true,false,true,false,false,true,true,false,true,false,true,false,false,false,true,true,false,false,false,true,true,true,true,false,false,false,true,true,true,true,false,true,true,true,true,false,true,false,false,false,true,false,false,false,true,true,false,true,true,true,true,false,false,true,true,false,true,true,false,false,false,true,true,true,false,false,true,false,true,true,false,false,true,true,true,true,true,true,false,false,true,true,true,true,false,true,false,true,false,false,false,true,true,false,true,true,false,false,true,false,true,false,true,false,true,false,true,true,true,true,true,false,true,false,true,false,false,true,true,true,true,true,true,true,false,true,false,true,true,true,true,false,true,true,false,true,true,true,true,false,false,true,false,false,false,false,false,false,false,false,false,false,true,true,true,true,true,false,false,false,true,true,true,true,false,true,false,true,false,true,false,false,true,false,true,false,false,true,false,false,true,true,false,false,false,false,false,false,false,true,false,false,true,true,true,false,false,false,true,false,true,true,true,false,true,false,false,false,true,true,true,false,true,false,true,true,true,true,false,true,false,false,true,false,false,false,true,true,false,false,false,true,false,true,true,false,true,false,false,false,true,true,false,true,false,false,false,false,true,false,false,true,true,false,false,false,false,true,false,true,true,false,false,true,true,false,true,false,true,false,true,true,false,true,true,true,false,true,true,false,false,false,true,false,false,true,true,true,false,false,false,false,true,false,false,true,false,false,false,true,true,false,false,true,false,true,false,false,false,true,false,false,false,true,false,false,false,true,true,false,true,true,false,true,true,true,true,true,false,true,true,false,false,true,false,true,true,false,true,true,false,true,false,true,false,true,false,true,false,true,true,false,false,true,true,false,true,true,true,false,true,true,false,false,false,true,false,true,false,false,true,true,false,false,true,true,true,true,true,true,false,true,false,true,false,false,true,false,false,false,false,true,false,false,false,false,true,false,true,true,true,false,false,false,true,true,false,true,false,false,true,false,true,true,false,true,true,true,false,true,false,true,false,false,true,true,true,false,true,false,true,true,true,true,true,false,false,false,false,false,true,true,true,false,false,true,true,true,false,false,false,false,false,true,false,true,false,false,true,false,true,false,false,false,false,false,false,false,false,false,false,false,true,true,false,false,false,false,true,true,false,true,true,false,true,false,true,true,true,true,false,false,false,false,false,true,false,true,true,false,false,false,true,true,false,false,false,false,false,true,true,false,false,true,true,true,true,false,false,true,true,false,true,false,false,true,false,false,true,true,true,false,true,false,true,false,false,false,false,true,true,false,true,true,true,true,false,false,false,false,false,false,false,false,false,true,true,true,true,true,true,false,false,false,true,true,true,true,true,true,true,false,true,true,false,true,true,false,false,true,false,true,true,true,false,false,true,false,true,true,true,false,false,true,true,true,false,false,true,true,false,false,true,true,false,false,false,false,false,false,false,true,false,true,false,false,false,false,true,true,true,false,true,true,true,true,true,true,false,true,true,false,false,false,false,false,false,true,true,true,false,false,true,false,true,true,true,false,true,false,false,false,false,false,false,true,true,false,false,false,true,true,true,true,true,false,true,false,true,true,true,true,true,false,true,true,true,true,true,false,false,true,false,false,true,true,false,true,true,true,true,false,true,false,false,true,false,false,true,true,false,false,false,false,false,true,true,true,true,true,false,true,true,true,false,true,false,true,true,false,true,true,false,true,false,true,true,true,true,true,false,true,false,false,false,false,true,false,false,false,true,true,false,false,false,true,true,false,true,true,false,false,false,true,true,true,true,false,false,true,true,false,false,false,false,false,true,false,true,true,false,false,true,false,true,false,true,true,false,true,false,true,true,false,true,false,false,false,true,true,false,false,true,true,false,false,false,true,false,true,false,false,true,true,true,true,false,true,true,false,false,true,true,false,false,false,true,true,true,false,false,true,false,false,true,false,false,true,true,false,false,false,true,false,false,false,false,true,false,false,false,true,false,false,false,true,false,false,false,true,true,false,false,false,true,true,false,true,false,false,false,true,true,true,false,false,false,false,false,true,false,false,true,true,false,false,false,false,true,true,true,false,false,true,false,false,true,false,false,false,true,false,false,false,false,true,false,true,true,true,true,true,false,false,true,true,false,false,false,false,true,true,false,true,true,false,false,false,false,false,true,true,false,true,false,true,true,false,true,true,true,false,true,true,false,true,false,false,true,true,false,true,false,false,false,true,true,false,true,false,true,true,false,true,false,false,true,false,true,false,true,false,false,false,false,true,true,false,false,true,false,true,false,false,false,true,true,false,true,true,true,false,false,false,true,true,true,false,false,false,false,true,true,false,false,false,true,true,true,false,true,false,false,true,false,false,false,true,true,true,true,true,true,true,false,false,true,false,true,true,true,false,true,false,true,true,true,true,true,false,true,false,false,false,true,true,true,false,true,true,true,false,true,false,false,true,false,false,true,true,false,true,true,false,false,false,false,true,true,true,false,false,true,false,false,false,true,true,false,true,true,true,true,true,false,false,true,true,false,false,false,false,false,false,true,true,true,false,false,false,true,false,true,true,false,true,false,false,true,true,true,false,false,false,false,false,false,true,true,false,true,false,false,false,true,true,false,false,true,false,true,true,false,true,true,false,true,true,true,false,false,false,true,false,false,false,true,true,false,true,false,true,false,false,true,false,true,true,false,true,false,false,false,true,true,true,false,false,false,false,false,false,true,false,true,true,false,false,false,true,true,true,true,true,false,true,true,false,true,false,true,false,false,true,true,false,false,false,false,true,false,false,true,true,true,false,false,false,false,false,false,true,false,false,false,false,false,true,true,true,false,true,true,false,false,true,false,true,true,false,false,false,true,false,false,true,false,false,true,true,true,true,true,false,true,false,true,false,false,false,true,true,true,false,true,false,false,true,true,false,true,false,true,true,false,true,false,false,true,true,true,true,true,true,false,false,false,false,false,false,false,false,false,true,false,false,true,false,false,true,false,false,false,true,false,false,false,false,true,true,false,true,false,true,false,true,true,false,true,true,true,true,true,false,true,true,true,true,true,true,false,false,false,false,false,false,true,true,true,false,false,true,true,false,true,false,false,true,true,false,true,true,true,false,false,true,false,false,false,true,false,false,true,false,true,false,false,true,true,false,false,false,false,false,true,false,true,false,true,true,false,true,false,false,false,true,true,false,false,true,true,true,false,false,true,true,true,false,true,true,true,false,false,true,false,false,true,false,false,true,true,true,true,true,false,true,true,true,false,false,false,true,false,false,false,false,true,true,false,true,false,false,false,true,true,false,false,false,false,true,true,true,true,true,true,true,true,false,false,false,false,true,false,true,true,false,true,true,false,true,false,false,true,false,true,false,false,true,false,false,true,false,false,false,true,false,true,false,true,false,true,true,true,false,true,false,false,true,true,true,true,true,false,false,true,false,false,true,false,true,false,true,false,false,false,false,false,false,true,false,false,false,false,true,false,true,true,false,true,true,true,false,true,true,true,false,false,false,true,true,true,false,true,true,true,false,false,true,false,true,false,true,false,true,false,false,false,false,true,false,true,false,false,false,true,false,false,false,false,true,false,false,false,true,false,true,true,true,false,true,true,true,false,false,true,false,false,false,true,true,true,false,true,false,true,true,false,true,true,false,false,false,false,true,false,false,false,true,true,true,true,true,true,false,false,false,false,false,false,false,true,false,true,true,false,true,false,false,false,true,false,true,false,false,true,true,true,true,false,true,true,false,true,false,false,false,false,false,false,false,true,false,false,false,false,true,true,true,false,false,true,true,false,false,false,true,false,true,false,false,false,false,true,true,false,true,false,true,true,false,false,false,true,true,true,false,true,false,true,true,false,false,true,false,false,false,false,false,true,true,false,true,false,true,false,false,true,true,false,false,true,true,false,false,true,true,false,false,true,true,false,false,false,true,false,false,false,false,true,true,false,false,false,false,true,true,true,false,false,false,false,true,false,false,false,true,false,false,true,false,false,false,false,true,false,true,true,true,true,false,false,false,false,false,false,false,false,false,false,false,true,true,false,false,false,true,true,true,true,false,true,false,false,false,true,true,false,true,false,false,true,true,false,false,false,true,false,true,false,true,true,false,false,true,true,false,true,true,false,false,false,false,true,true,true,false,false,true,false,true,false,true,false,true,false,false,false,false,false,true,true,true,true,false,false,true,false,true,true,false,true,false,true,false,false,false,true,true,false,true,true,true,false,false,false,false,true,false,true,true,false,true,false,false,true,true,false,true,false,false,false,true,false,true,true,true,false,true,true,false,true,true,true,true,true,false,true,true,true,true,true,true,true,false,true,false,true,true,false,true,false,false,false,true,false,false,true,true,false,true,true,true,true,false,true,true,false,false,true,false,true,false,false,false,false,true,true,true,true,true,false,true,true,true,true,false,false,true,false,true,true,true,false,false,false,true,false,true,false,false,false,true,false,false,false,false,false,false,true,true,false,false,false,false,false,true,true,false,false,true,true,false,true,true,false,false,false,false,false,false,false,false,false,false,false,true,true,true,true,false,false,true,false,false,true,true,true,false,false,false,false,true,false,false,false,false,false,true,true,true,false,false,false,true,true,false,false,false,false,true,true,false,false,false,true,true,false,true,true,true,false,false,false,false,false,false,true,true,false,true,false,false,true,false,true,true,true,true,true,false,false,true,false,false,false,true,false,false,false,false,false,false,true,true,true,true,false,false,true,false,false,false,true,true,false,false,true,true,true,false,false,true,false,false,true,false,false,false,false,true,true,false,true,true,false,false,false,true,false,false,true,true,true,false,false,false,true,false,false,true,false,false,false,false,true,false,true,true,true,false,false,false,false,true,true,true,false,false,false,false,true,false,true,false,false,false,false,false,false,true,true,false,false,false,false,true,false,false,true,true,true,false,true,true,true,false,false,true,true,true,false,false,true,true,false,false,false,false,true,true,false,false,false,true,true,true,false,true,false,false,true,false,true,false,false,true,true,false,false,true,true,false,false,false,true,true,true,true,false,true,false,true,false,true,true,false,true,true,true,true,true,false,false,true,true,true,false,true,false,true,true,false,true,false,false,false,false,true,true,true,false,true,true,true,false,true,false,true,false,false,false,true,true,true,false,true,true,true,true,true,true,false,true,false,true,false,true,true,true,true,true,true,false,true,true,false,true,false,false,true,false,true],\"yaxis\":\"y\",\"type\":\"bar\"}],                        {\"template\":{\"data\":{\"bar\":[{\"error_x\":{\"color\":\"#2a3f5f\"},\"error_y\":{\"color\":\"#2a3f5f\"},\"marker\":{\"line\":{\"color\":\"#E5ECF6\",\"width\":0.5},\"pattern\":{\"fillmode\":\"overlay\",\"size\":10,\"solidity\":0.2}},\"type\":\"bar\"}],\"barpolar\":[{\"marker\":{\"line\":{\"color\":\"#E5ECF6\",\"width\":0.5},\"pattern\":{\"fillmode\":\"overlay\",\"size\":10,\"solidity\":0.2}},\"type\":\"barpolar\"}],\"carpet\":[{\"aaxis\":{\"endlinecolor\":\"#2a3f5f\",\"gridcolor\":\"white\",\"linecolor\":\"white\",\"minorgridcolor\":\"white\",\"startlinecolor\":\"#2a3f5f\"},\"baxis\":{\"endlinecolor\":\"#2a3f5f\",\"gridcolor\":\"white\",\"linecolor\":\"white\",\"minorgridcolor\":\"white\",\"startlinecolor\":\"#2a3f5f\"},\"type\":\"carpet\"}],\"choropleth\":[{\"colorbar\":{\"outlinewidth\":0,\"ticks\":\"\"},\"type\":\"choropleth\"}],\"contour\":[{\"colorbar\":{\"outlinewidth\":0,\"ticks\":\"\"},\"colorscale\":[[0.0,\"#0d0887\"],[0.1111111111111111,\"#46039f\"],[0.2222222222222222,\"#7201a8\"],[0.3333333333333333,\"#9c179e\"],[0.4444444444444444,\"#bd3786\"],[0.5555555555555556,\"#d8576b\"],[0.6666666666666666,\"#ed7953\"],[0.7777777777777778,\"#fb9f3a\"],[0.8888888888888888,\"#fdca26\"],[1.0,\"#f0f921\"]],\"type\":\"contour\"}],\"contourcarpet\":[{\"colorbar\":{\"outlinewidth\":0,\"ticks\":\"\"},\"type\":\"contourcarpet\"}],\"heatmap\":[{\"colorbar\":{\"outlinewidth\":0,\"ticks\":\"\"},\"colorscale\":[[0.0,\"#0d0887\"],[0.1111111111111111,\"#46039f\"],[0.2222222222222222,\"#7201a8\"],[0.3333333333333333,\"#9c179e\"],[0.4444444444444444,\"#bd3786\"],[0.5555555555555556,\"#d8576b\"],[0.6666666666666666,\"#ed7953\"],[0.7777777777777778,\"#fb9f3a\"],[0.8888888888888888,\"#fdca26\"],[1.0,\"#f0f921\"]],\"type\":\"heatmap\"}],\"heatmapgl\":[{\"colorbar\":{\"outlinewidth\":0,\"ticks\":\"\"},\"colorscale\":[[0.0,\"#0d0887\"],[0.1111111111111111,\"#46039f\"],[0.2222222222222222,\"#7201a8\"],[0.3333333333333333,\"#9c179e\"],[0.4444444444444444,\"#bd3786\"],[0.5555555555555556,\"#d8576b\"],[0.6666666666666666,\"#ed7953\"],[0.7777777777777778,\"#fb9f3a\"],[0.8888888888888888,\"#fdca26\"],[1.0,\"#f0f921\"]],\"type\":\"heatmapgl\"}],\"histogram\":[{\"marker\":{\"pattern\":{\"fillmode\":\"overlay\",\"size\":10,\"solidity\":0.2}},\"type\":\"histogram\"}],\"histogram2d\":[{\"colorbar\":{\"outlinewidth\":0,\"ticks\":\"\"},\"colorscale\":[[0.0,\"#0d0887\"],[0.1111111111111111,\"#46039f\"],[0.2222222222222222,\"#7201a8\"],[0.3333333333333333,\"#9c179e\"],[0.4444444444444444,\"#bd3786\"],[0.5555555555555556,\"#d8576b\"],[0.6666666666666666,\"#ed7953\"],[0.7777777777777778,\"#fb9f3a\"],[0.8888888888888888,\"#fdca26\"],[1.0,\"#f0f921\"]],\"type\":\"histogram2d\"}],\"histogram2dcontour\":[{\"colorbar\":{\"outlinewidth\":0,\"ticks\":\"\"},\"colorscale\":[[0.0,\"#0d0887\"],[0.1111111111111111,\"#46039f\"],[0.2222222222222222,\"#7201a8\"],[0.3333333333333333,\"#9c179e\"],[0.4444444444444444,\"#bd3786\"],[0.5555555555555556,\"#d8576b\"],[0.6666666666666666,\"#ed7953\"],[0.7777777777777778,\"#fb9f3a\"],[0.8888888888888888,\"#fdca26\"],[1.0,\"#f0f921\"]],\"type\":\"histogram2dcontour\"}],\"mesh3d\":[{\"colorbar\":{\"outlinewidth\":0,\"ticks\":\"\"},\"type\":\"mesh3d\"}],\"parcoords\":[{\"line\":{\"colorbar\":{\"outlinewidth\":0,\"ticks\":\"\"}},\"type\":\"parcoords\"}],\"pie\":[{\"automargin\":true,\"type\":\"pie\"}],\"scatter\":[{\"marker\":{\"colorbar\":{\"outlinewidth\":0,\"ticks\":\"\"}},\"type\":\"scatter\"}],\"scatter3d\":[{\"line\":{\"colorbar\":{\"outlinewidth\":0,\"ticks\":\"\"}},\"marker\":{\"colorbar\":{\"outlinewidth\":0,\"ticks\":\"\"}},\"type\":\"scatter3d\"}],\"scattercarpet\":[{\"marker\":{\"colorbar\":{\"outlinewidth\":0,\"ticks\":\"\"}},\"type\":\"scattercarpet\"}],\"scattergeo\":[{\"marker\":{\"colorbar\":{\"outlinewidth\":0,\"ticks\":\"\"}},\"type\":\"scattergeo\"}],\"scattergl\":[{\"marker\":{\"colorbar\":{\"outlinewidth\":0,\"ticks\":\"\"}},\"type\":\"scattergl\"}],\"scattermapbox\":[{\"marker\":{\"colorbar\":{\"outlinewidth\":0,\"ticks\":\"\"}},\"type\":\"scattermapbox\"}],\"scatterpolar\":[{\"marker\":{\"colorbar\":{\"outlinewidth\":0,\"ticks\":\"\"}},\"type\":\"scatterpolar\"}],\"scatterpolargl\":[{\"marker\":{\"colorbar\":{\"outlinewidth\":0,\"ticks\":\"\"}},\"type\":\"scatterpolargl\"}],\"scatterternary\":[{\"marker\":{\"colorbar\":{\"outlinewidth\":0,\"ticks\":\"\"}},\"type\":\"scatterternary\"}],\"surface\":[{\"colorbar\":{\"outlinewidth\":0,\"ticks\":\"\"},\"colorscale\":[[0.0,\"#0d0887\"],[0.1111111111111111,\"#46039f\"],[0.2222222222222222,\"#7201a8\"],[0.3333333333333333,\"#9c179e\"],[0.4444444444444444,\"#bd3786\"],[0.5555555555555556,\"#d8576b\"],[0.6666666666666666,\"#ed7953\"],[0.7777777777777778,\"#fb9f3a\"],[0.8888888888888888,\"#fdca26\"],[1.0,\"#f0f921\"]],\"type\":\"surface\"}],\"table\":[{\"cells\":{\"fill\":{\"color\":\"#EBF0F8\"},\"line\":{\"color\":\"white\"}},\"header\":{\"fill\":{\"color\":\"#C8D4E3\"},\"line\":{\"color\":\"white\"}},\"type\":\"table\"}]},\"layout\":{\"annotationdefaults\":{\"arrowcolor\":\"#2a3f5f\",\"arrowhead\":0,\"arrowwidth\":1},\"autotypenumbers\":\"strict\",\"coloraxis\":{\"colorbar\":{\"outlinewidth\":0,\"ticks\":\"\"}},\"colorscale\":{\"diverging\":[[0,\"#8e0152\"],[0.1,\"#c51b7d\"],[0.2,\"#de77ae\"],[0.3,\"#f1b6da\"],[0.4,\"#fde0ef\"],[0.5,\"#f7f7f7\"],[0.6,\"#e6f5d0\"],[0.7,\"#b8e186\"],[0.8,\"#7fbc41\"],[0.9,\"#4d9221\"],[1,\"#276419\"]],\"sequential\":[[0.0,\"#0d0887\"],[0.1111111111111111,\"#46039f\"],[0.2222222222222222,\"#7201a8\"],[0.3333333333333333,\"#9c179e\"],[0.4444444444444444,\"#bd3786\"],[0.5555555555555556,\"#d8576b\"],[0.6666666666666666,\"#ed7953\"],[0.7777777777777778,\"#fb9f3a\"],[0.8888888888888888,\"#fdca26\"],[1.0,\"#f0f921\"]],\"sequentialminus\":[[0.0,\"#0d0887\"],[0.1111111111111111,\"#46039f\"],[0.2222222222222222,\"#7201a8\"],[0.3333333333333333,\"#9c179e\"],[0.4444444444444444,\"#bd3786\"],[0.5555555555555556,\"#d8576b\"],[0.6666666666666666,\"#ed7953\"],[0.7777777777777778,\"#fb9f3a\"],[0.8888888888888888,\"#fdca26\"],[1.0,\"#f0f921\"]]},\"colorway\":[\"#636efa\",\"#EF553B\",\"#00cc96\",\"#ab63fa\",\"#FFA15A\",\"#19d3f3\",\"#FF6692\",\"#B6E880\",\"#FF97FF\",\"#FECB52\"],\"font\":{\"color\":\"#2a3f5f\"},\"geo\":{\"bgcolor\":\"white\",\"lakecolor\":\"white\",\"landcolor\":\"#E5ECF6\",\"showlakes\":true,\"showland\":true,\"subunitcolor\":\"white\"},\"hoverlabel\":{\"align\":\"left\"},\"hovermode\":\"closest\",\"mapbox\":{\"style\":\"light\"},\"paper_bgcolor\":\"white\",\"plot_bgcolor\":\"#E5ECF6\",\"polar\":{\"angularaxis\":{\"gridcolor\":\"white\",\"linecolor\":\"white\",\"ticks\":\"\"},\"bgcolor\":\"#E5ECF6\",\"radialaxis\":{\"gridcolor\":\"white\",\"linecolor\":\"white\",\"ticks\":\"\"}},\"scene\":{\"xaxis\":{\"backgroundcolor\":\"#E5ECF6\",\"gridcolor\":\"white\",\"gridwidth\":2,\"linecolor\":\"white\",\"showbackground\":true,\"ticks\":\"\",\"zerolinecolor\":\"white\"},\"yaxis\":{\"backgroundcolor\":\"#E5ECF6\",\"gridcolor\":\"white\",\"gridwidth\":2,\"linecolor\":\"white\",\"showbackground\":true,\"ticks\":\"\",\"zerolinecolor\":\"white\"},\"zaxis\":{\"backgroundcolor\":\"#E5ECF6\",\"gridcolor\":\"white\",\"gridwidth\":2,\"linecolor\":\"white\",\"showbackground\":true,\"ticks\":\"\",\"zerolinecolor\":\"white\"}},\"shapedefaults\":{\"line\":{\"color\":\"#2a3f5f\"}},\"ternary\":{\"aaxis\":{\"gridcolor\":\"white\",\"linecolor\":\"white\",\"ticks\":\"\"},\"baxis\":{\"gridcolor\":\"white\",\"linecolor\":\"white\",\"ticks\":\"\"},\"bgcolor\":\"#E5ECF6\",\"caxis\":{\"gridcolor\":\"white\",\"linecolor\":\"white\",\"ticks\":\"\"}},\"title\":{\"x\":0.05},\"xaxis\":{\"automargin\":true,\"gridcolor\":\"white\",\"linecolor\":\"white\",\"ticks\":\"\",\"title\":{\"standoff\":15},\"zerolinecolor\":\"white\",\"zerolinewidth\":2},\"yaxis\":{\"automargin\":true,\"gridcolor\":\"white\",\"linecolor\":\"white\",\"ticks\":\"\",\"title\":{\"standoff\":15},\"zerolinecolor\":\"white\",\"zerolinewidth\":2}}},\"xaxis\":{\"anchor\":\"y\",\"domain\":[0.0,1.0],\"title\":{\"text\":\"HomePlanet\"}},\"yaxis\":{\"anchor\":\"x\",\"domain\":[0.0,1.0],\"title\":{\"text\":\"Transported\"}},\"legend\":{\"tracegroupgap\":0},\"margin\":{\"t\":60},\"barmode\":\"relative\"},                        {\"responsive\": true}                    ).then(function(){\n",
       "                            \n",
       "var gd = document.getElementById('e9bb316f-4d32-4b27-a8f5-f134c193a537');\n",
       "var x = new MutationObserver(function (mutations, observer) {{\n",
       "        var display = window.getComputedStyle(gd).display;\n",
       "        if (!display || display === 'none') {{\n",
       "            console.log([gd, 'removed!']);\n",
       "            Plotly.purge(gd);\n",
       "            observer.disconnect();\n",
       "        }}\n",
       "}});\n",
       "\n",
       "// Listen for the removal of the full notebook cells\n",
       "var notebookContainer = gd.closest('#notebook-container');\n",
       "if (notebookContainer) {{\n",
       "    x.observe(notebookContainer, {childList: true});\n",
       "}}\n",
       "\n",
       "// Listen for the clearing of the current output cell\n",
       "var outputEl = gd.closest('.output');\n",
       "if (outputEl) {{\n",
       "    x.observe(outputEl, {childList: true});\n",
       "}}\n",
       "\n",
       "                        })                };                });            </script>        </div>"
      ]
     },
     "metadata": {},
     "output_type": "display_data"
    }
   ],
   "source": [
    "fig = px.bar(train_fig, x = 'HomePlanet' ,y = 'Transported')\n",
    "fig"
   ]
  },
  {
   "cell_type": "code",
   "execution_count": 22,
   "id": "623f0a7e",
   "metadata": {
    "execution": {
     "iopub.execute_input": "2022-04-03T14:36:34.057938Z",
     "iopub.status.busy": "2022-04-03T14:36:34.057087Z",
     "iopub.status.idle": "2022-04-03T14:36:34.144394Z",
     "shell.execute_reply": "2022-04-03T14:36:34.144948Z",
     "shell.execute_reply.started": "2022-04-03T14:23:54.319708Z"
    },
    "papermill": {
     "duration": 0.160366,
     "end_time": "2022-04-03T14:36:34.145131",
     "exception": false,
     "start_time": "2022-04-03T14:36:33.984765",
     "status": "completed"
    },
    "tags": []
   },
   "outputs": [
    {
     "data": {
      "text/html": [
       "<div>                            <div id=\"f2880365-aee2-48eb-a877-edc1b3ae2cfc\" class=\"plotly-graph-div\" style=\"height:525px; width:100%;\"></div>            <script type=\"text/javascript\">                require([\"plotly\"], function(Plotly) {                    window.PLOTLYENV=window.PLOTLYENV || {};                                    if (document.getElementById(\"f2880365-aee2-48eb-a877-edc1b3ae2cfc\")) {                    Plotly.newPlot(                        \"f2880365-aee2-48eb-a877-edc1b3ae2cfc\",                        [{\"x\":[\"Europa\",\"Earth\",\"Europa\",\"Europa\",\"Earth\",\"Earth\",\"Earth\",\"Earth\",\"Earth\",\"Europa\",\"Europa\",\"Europa\",\"Mars\",\"Earth\",\"Earth\",\"Earth\",\"Mars\",\"Earth\",\"Mars\",\"Earth\",\"Earth\",\"Earth\",\"Earth\",\"Earth\",\"Earth\",\"Earth\",\"Earth\",\"Mars\",\"Europa\",\"Earth\",\"Europa\",\"Mars\",\"Earth\",\"Mars\",\"Mars\",\"Mars\",\"Europa\",\"Mars\",\"Earth\",\"Earth\",\"Earth\",\"Earth\",\"Europa\",\"Earth\",\"Earth\",\"Earth\",\"Mars\",\"Mars\",\"Earth\",\"Earth\",\"Earth\",\"Earth\",\"Europa\",\"Europa\",\"Europa\",\"Earth\",\"Earth\",\"Earth\",\"Mars\",null,\"Earth\",\"Earth\",\"Earth\",\"Earth\",\"Mars\",\"Earth\",\"Earth\",\"Earth\",\"Earth\",\"Mars\",\"Europa\",\"Mars\",\"Mars\",\"Europa\",\"Earth\",\"Mars\",\"Mars\",\"Mars\",\"Earth\",\"Europa\",\"Earth\",\"Mars\",\"Earth\",\"Earth\",\"Earth\",\"Earth\",\"Earth\",\"Earth\",\"Europa\",\"Earth\",\"Earth\",\"Earth\",\"Earth\",\"Mars\",\"Earth\",\"Earth\",\"Earth\",\"Earth\",\"Earth\",\"Mars\",\"Earth\",\"Earth\",\"Earth\",\"Europa\",\"Europa\",\"Europa\",\"Europa\",\"Europa\",\"Europa\",\"Earth\",\"Earth\",\"Mars\",\"Europa\",null,\"Europa\",\"Mars\",\"Earth\",\"Earth\",\"Mars\",\"Mars\",\"Mars\",\"Mars\",\"Earth\",\"Mars\",\"Mars\",\"Earth\",\"Earth\",\"Earth\",\"Earth\",\"Europa\",\"Earth\",\"Earth\",\"Mars\",\"Earth\",\"Earth\",\"Earth\",\"Mars\",\"Earth\",\"Earth\",\"Earth\",\"Earth\",\"Europa\",\"Europa\",\"Earth\",\"Earth\",\"Mars\",\"Mars\",\"Mars\",\"Earth\",\"Earth\",\"Earth\",\"Earth\",\"Earth\",\"Earth\",\"Europa\",\"Mars\",\"Earth\",\"Earth\",\"Earth\",\"Earth\",\"Europa\",\"Earth\",\"Earth\",\"Earth\",\"Earth\",\"Earth\",\"Earth\",\"Earth\",\"Earth\",\"Mars\",\"Mars\",\"Mars\",\"Mars\",\"Mars\",\"Europa\",\"Earth\",\"Earth\",\"Earth\",\"Europa\",\"Europa\",\"Europa\",\"Europa\",\"Europa\",\"Earth\",\"Europa\",\"Earth\",null,\"Mars\",\"Mars\",\"Mars\",\"Earth\",\"Earth\",\"Earth\",\"Earth\",\"Earth\",\"Earth\",\"Earth\",\"Earth\",\"Earth\",\"Earth\",\"Earth\",\"Earth\",\"Earth\",\"Mars\",\"Mars\",\"Mars\",\"Mars\",\"Mars\",\"Mars\",\"Mars\",\"Mars\",\"Mars\",\"Mars\",\"Earth\",\"Mars\",\"Earth\",\"Earth\",\"Mars\",\"Earth\",\"Mars\",\"Earth\",\"Europa\",\"Mars\",\"Mars\",\"Europa\",null,\"Earth\",\"Mars\",\"Mars\",\"Europa\",\"Europa\",\"Mars\",\"Europa\",\"Earth\",null,\"Earth\",\"Earth\",\"Earth\",\"Europa\",\"Mars\",\"Mars\",\"Earth\",\"Europa\",\"Earth\",\"Earth\",\"Europa\",\"Earth\",\"Earth\",\"Earth\",\"Europa\",\"Earth\",\"Earth\",\"Earth\",\"Earth\",\"Earth\",\"Earth\",\"Earth\",\"Europa\",\"Europa\",\"Earth\",\"Europa\",\"Europa\",\"Earth\",\"Europa\",\"Europa\",\"Europa\",\"Europa\",\"Europa\",\"Europa\",\"Europa\",\"Earth\",\"Europa\",\"Earth\",\"Earth\",null,\"Europa\",\"Europa\",\"Earth\",\"Earth\",\"Earth\",\"Europa\",\"Earth\",\"Earth\",\"Earth\",\"Earth\",\"Earth\",null,\"Europa\",\"Europa\",\"Earth\",\"Earth\",null,\"Earth\",\"Earth\",\"Earth\",\"Earth\",\"Europa\",\"Europa\",\"Europa\",\"Earth\",\"Mars\",\"Mars\",\"Earth\",\"Mars\",\"Mars\",\"Mars\",\"Earth\",\"Europa\",\"Earth\",\"Earth\",\"Mars\",\"Earth\",\"Mars\",\"Mars\",\"Mars\",\"Earth\",\"Mars\",\"Earth\",\"Europa\",\"Earth\",\"Earth\",\"Earth\",\"Earth\",\"Earth\",\"Earth\",\"Earth\",\"Mars\",\"Mars\",\"Earth\",\"Earth\",\"Mars\",\"Earth\",\"Earth\",\"Earth\",\"Earth\",\"Europa\",\"Europa\",\"Europa\",\"Europa\",\"Europa\",\"Europa\",\"Europa\",\"Europa\",\"Earth\",\"Europa\",\"Europa\",\"Europa\",null,\"Earth\",\"Earth\",\"Earth\",\"Earth\",\"Earth\",\"Earth\",\"Earth\",\"Earth\",\"Europa\",\"Earth\",\"Europa\",\"Europa\",\"Earth\",\"Mars\",\"Mars\",\"Mars\",\"Mars\",null,\"Mars\",\"Earth\",\"Earth\",\"Earth\",\"Earth\",\"Mars\",\"Mars\",\"Earth\",\"Earth\",\"Europa\",\"Earth\",\"Earth\",\"Europa\",\"Europa\",\"Europa\",\"Europa\",\"Mars\",\"Mars\",\"Mars\",\"Europa\",\"Europa\",\"Europa\",\"Europa\",\"Earth\",\"Mars\",\"Mars\",\"Europa\",\"Europa\",\"Mars\",\"Earth\",\"Earth\",\"Earth\",\"Earth\",\"Earth\",\"Europa\",\"Europa\",\"Earth\",\"Earth\",\"Mars\",null,\"Earth\",null,\"Europa\",\"Earth\",\"Earth\",\"Earth\",\"Earth\",\"Mars\",\"Europa\",\"Europa\",\"Europa\",\"Europa\",\"Europa\",\"Europa\",\"Earth\",\"Earth\",\"Earth\",\"Earth\",\"Europa\",\"Earth\",\"Earth\",\"Earth\",\"Earth\",\"Earth\",\"Earth\",\"Mars\",\"Mars\",\"Earth\",\"Earth\",\"Earth\",\"Earth\",\"Mars\",null,\"Europa\",\"Europa\",\"Earth\",\"Earth\",\"Earth\",\"Mars\",\"Mars\",\"Mars\",\"Earth\",\"Earth\",\"Earth\",\"Earth\",\"Earth\",\"Europa\",\"Europa\",\"Earth\",\"Earth\",\"Europa\",\"Europa\",\"Mars\",\"Mars\",\"Mars\",\"Europa\",\"Mars\",\"Mars\",\"Mars\",\"Mars\",\"Europa\",\"Europa\",\"Europa\",\"Europa\",\"Europa\",null,\"Mars\",\"Earth\",\"Europa\",\"Europa\",\"Europa\",\"Earth\",\"Europa\",\"Europa\",\"Earth\",null,\"Earth\",\"Earth\",\"Earth\",\"Earth\",\"Earth\",\"Earth\",\"Mars\",\"Mars\",\"Europa\",\"Earth\",\"Earth\",\"Earth\",\"Mars\",\"Europa\",\"Europa\",\"Earth\",\"Earth\",\"Europa\",\"Europa\",null,\"Europa\",\"Europa\",\"Mars\",null,\"Earth\",\"Earth\",\"Earth\",\"Earth\",\"Earth\",\"Mars\",\"Mars\",\"Earth\",\"Earth\",\"Europa\",\"Europa\",\"Europa\",\"Europa\",\"Europa\",\"Earth\",\"Earth\",\"Earth\",\"Earth\",null,\"Earth\",\"Mars\",\"Europa\",\"Europa\",\"Europa\",\"Mars\",\"Mars\",\"Earth\",\"Europa\",\"Europa\",\"Earth\",\"Europa\",\"Europa\",\"Europa\",\"Europa\",\"Europa\",\"Europa\",\"Europa\",\"Europa\",\"Earth\",\"Earth\",\"Europa\",\"Earth\",\"Earth\",\"Earth\",\"Earth\",\"Earth\",\"Earth\",\"Mars\",\"Mars\",\"Mars\",\"Mars\",\"Mars\",\"Mars\",\"Mars\",\"Europa\",\"Mars\",\"Earth\",\"Earth\",\"Earth\",\"Earth\",\"Mars\",\"Earth\",null,\"Mars\",\"Earth\",\"Earth\",\"Earth\",\"Mars\",\"Mars\",\"Mars\",\"Mars\",\"Europa\",\"Mars\",\"Mars\",\"Mars\",\"Earth\",\"Europa\",\"Europa\",\"Europa\",\"Earth\",\"Mars\",\"Earth\",\"Earth\",\"Europa\",\"Earth\",\"Earth\",\"Earth\",\"Earth\",\"Earth\",\"Earth\",\"Europa\",\"Europa\",\"Earth\",\"Earth\",\"Earth\",\"Mars\",\"Mars\",\"Mars\",\"Earth\",\"Earth\",\"Earth\",\"Earth\",\"Earth\",\"Mars\",\"Europa\",\"Earth\",\"Earth\",\"Europa\",\"Europa\",\"Europa\",\"Europa\",\"Europa\",\"Mars\",\"Europa\",\"Earth\",\"Europa\",\"Mars\",\"Mars\",\"Mars\",\"Earth\",\"Mars\",\"Mars\",\"Earth\",\"Earth\",\"Earth\",\"Earth\",\"Earth\",\"Earth\",\"Europa\",\"Earth\",\"Europa\",null,\"Mars\",\"Earth\",\"Earth\",\"Earth\",\"Earth\",\"Earth\",\"Earth\",\"Earth\",\"Earth\",\"Earth\",\"Earth\",\"Earth\",\"Mars\",\"Mars\",\"Mars\",\"Mars\",\"Mars\",\"Earth\",\"Mars\",\"Mars\",\"Mars\",\"Mars\",\"Europa\",\"Mars\",\"Mars\",\"Mars\",\"Mars\",\"Europa\",\"Europa\",\"Earth\",\"Earth\",\"Mars\",\"Mars\",\"Europa\",\"Earth\",\"Earth\",\"Earth\",\"Earth\",\"Earth\",\"Europa\",\"Europa\",\"Europa\",\"Mars\",\"Mars\",\"Mars\",\"Earth\",\"Earth\",\"Earth\",\"Earth\",\"Earth\",\"Earth\",\"Earth\",\"Earth\",\"Europa\",\"Earth\",\"Mars\",\"Earth\",\"Earth\",\"Earth\",\"Earth\",\"Earth\",\"Earth\",\"Earth\",\"Earth\",\"Earth\",\"Europa\",\"Mars\",\"Europa\",\"Europa\",\"Europa\",\"Earth\",\"Earth\",\"Earth\",\"Europa\",\"Europa\",\"Europa\",\"Europa\",\"Europa\",\"Europa\",\"Europa\",\"Mars\",\"Europa\",\"Earth\",\"Earth\",\"Mars\",\"Mars\",\"Earth\",\"Europa\",\"Europa\",\"Europa\",\"Earth\",\"Earth\",\"Earth\",\"Earth\",\"Earth\",\"Earth\",\"Earth\",\"Europa\",\"Europa\",null,\"Europa\",\"Earth\",\"Earth\",\"Europa\",\"Earth\",\"Earth\",\"Mars\",\"Europa\",\"Earth\",\"Earth\",\"Earth\",\"Earth\",\"Europa\",\"Europa\",\"Europa\",\"Earth\",\"Earth\",\"Earth\",\"Mars\",\"Mars\",\"Earth\",\"Europa\",\"Earth\",\"Mars\",\"Europa\",\"Mars\",\"Europa\",\"Earth\",\"Earth\",\"Earth\",\"Mars\",\"Mars\",\"Mars\",\"Mars\",\"Mars\",\"Mars\",\"Mars\",\"Mars\",\"Earth\",\"Europa\",\"Earth\",\"Europa\",\"Earth\",\"Earth\",\"Earth\",\"Earth\",\"Earth\",\"Earth\",\"Mars\",\"Earth\",\"Earth\",\"Earth\",\"Earth\",\"Earth\",\"Earth\",\"Europa\",\"Earth\",\"Earth\",\"Mars\",\"Europa\",\"Earth\",\"Europa\",\"Earth\",\"Mars\",\"Mars\",\"Europa\",\"Europa\",\"Mars\",\"Earth\",null,\"Earth\",\"Earth\",\"Earth\",\"Earth\",\"Earth\",\"Europa\",\"Europa\",\"Earth\",\"Earth\",\"Earth\",\"Earth\",\"Europa\",\"Earth\",\"Earth\",\"Earth\",\"Earth\",\"Europa\",\"Mars\",\"Earth\",\"Europa\",\"Earth\",\"Earth\",\"Earth\",\"Europa\",\"Europa\",\"Mars\",\"Earth\",\"Earth\",\"Earth\",\"Earth\",\"Mars\",\"Earth\",\"Earth\",\"Europa\",\"Mars\",\"Earth\",\"Europa\",\"Europa\",\"Earth\",\"Mars\",null,\"Europa\",\"Europa\",\"Earth\",\"Earth\",\"Earth\",\"Earth\",\"Europa\",\"Europa\",\"Europa\",\"Europa\",\"Earth\",\"Mars\",\"Mars\",\"Mars\",\"Europa\",\"Europa\",\"Earth\",\"Earth\",\"Earth\",\"Earth\",\"Earth\",\"Mars\",\"Europa\",\"Europa\",\"Earth\",\"Earth\",\"Earth\",\"Earth\",\"Earth\",\"Earth\",\"Earth\",\"Mars\",\"Earth\",\"Earth\",\"Earth\",\"Earth\",\"Earth\",\"Earth\",\"Mars\",\"Earth\",\"Earth\",\"Earth\",\"Mars\",\"Earth\",\"Earth\",\"Europa\",\"Europa\",\"Mars\",\"Earth\",\"Earth\",\"Mars\",\"Earth\",\"Earth\",\"Earth\",\"Earth\",\"Earth\",\"Earth\",\"Europa\",\"Earth\",\"Earth\",\"Earth\",\"Earth\",\"Earth\",\"Earth\",\"Earth\",\"Earth\",\"Earth\",\"Earth\",\"Earth\",\"Earth\",\"Earth\",null,\"Earth\",\"Earth\",\"Earth\",\"Earth\",\"Europa\",\"Europa\",\"Europa\",\"Europa\",\"Europa\",\"Europa\",\"Earth\",\"Earth\",\"Earth\",\"Europa\",\"Mars\",\"Europa\",\"Mars\",\"Earth\",\"Mars\",\"Mars\",\"Mars\",\"Europa\",\"Earth\",\"Earth\",\"Earth\",\"Earth\",\"Europa\",\"Europa\",\"Earth\",\"Earth\",\"Earth\",\"Earth\",\"Mars\",\"Earth\",\"Earth\",\"Earth\",\"Earth\",\"Mars\",\"Earth\",\"Earth\",\"Earth\",null,\"Earth\",\"Earth\",\"Earth\",\"Mars\",\"Mars\",\"Mars\",\"Mars\",\"Mars\",\"Earth\",\"Earth\",\"Earth\",\"Earth\",\"Earth\",\"Mars\",\"Earth\",\"Earth\",\"Earth\",\"Europa\",\"Earth\",\"Europa\",\"Europa\",\"Earth\",\"Earth\",\"Earth\",\"Mars\",\"Mars\",\"Earth\",\"Earth\",\"Earth\",\"Earth\",null,\"Mars\",\"Europa\",\"Earth\",\"Earth\",\"Earth\",null,\"Europa\",\"Mars\",\"Mars\",\"Earth\",null,\"Europa\",\"Europa\",\"Earth\",\"Earth\",\"Earth\",\"Earth\",\"Mars\",\"Mars\",\"Mars\",\"Mars\",\"Mars\",\"Earth\",\"Earth\",\"Earth\",\"Earth\",\"Earth\",\"Earth\",\"Earth\",\"Earth\",null,\"Europa\",\"Mars\",\"Mars\",\"Earth\",\"Europa\",\"Earth\",\"Mars\",\"Earth\",\"Mars\",\"Mars\",\"Mars\",\"Mars\",\"Mars\",\"Earth\",\"Mars\",\"Mars\",\"Europa\",\"Europa\",\"Europa\",\"Earth\",\"Mars\",\"Mars\",\"Earth\",\"Earth\",\"Earth\",\"Earth\",\"Earth\",\"Earth\",\"Europa\",\"Europa\",\"Earth\",\"Mars\",\"Mars\",\"Earth\",\"Mars\",\"Europa\",\"Earth\",\"Europa\",\"Europa\",\"Europa\",\"Earth\",\"Earth\",\"Earth\",\"Earth\",\"Earth\",\"Earth\",\"Europa\",\"Europa\",\"Europa\",\"Europa\",\"Europa\",\"Europa\",\"Europa\",\"Europa\",\"Earth\",\"Earth\",\"Earth\",\"Earth\",\"Earth\",\"Earth\",\"Mars\",\"Earth\",\"Europa\",\"Europa\",\"Europa\",\"Earth\",\"Earth\",\"Europa\",\"Europa\",\"Europa\",\"Europa\",\"Europa\",\"Earth\",\"Europa\",\"Europa\",\"Europa\",\"Europa\",\"Europa\",\"Mars\",\"Earth\",\"Mars\",\"Earth\",\"Earth\",\"Earth\",\"Mars\",\"Europa\",\"Earth\",\"Europa\",\"Earth\",\"Mars\",\"Mars\",\"Mars\",\"Mars\",\"Earth\",\"Earth\",\"Earth\",\"Earth\",\"Earth\",\"Earth\",\"Earth\",\"Earth\",\"Europa\",\"Earth\",\"Earth\",\"Earth\",\"Europa\",\"Europa\",\"Earth\",\"Europa\",\"Mars\",\"Earth\",\"Europa\",\"Earth\",\"Earth\",\"Earth\",\"Earth\",\"Earth\",\"Earth\",\"Earth\",\"Earth\",\"Earth\",\"Earth\",\"Earth\",\"Earth\",\"Earth\",\"Earth\",\"Earth\",\"Earth\",\"Earth\",\"Europa\",\"Earth\",\"Earth\",\"Earth\",\"Europa\",\"Earth\",\"Mars\",\"Mars\",\"Earth\",\"Earth\",\"Mars\",\"Europa\",\"Europa\",\"Earth\",\"Earth\",\"Earth\",\"Earth\",\"Europa\",\"Europa\",\"Earth\",\"Earth\",\"Europa\",\"Europa\",\"Europa\",\"Earth\",\"Earth\",\"Earth\",\"Mars\",\"Mars\",\"Mars\",\"Mars\",\"Mars\",\"Europa\",\"Earth\",\"Earth\",\"Europa\",\"Mars\",\"Earth\",\"Earth\",\"Mars\",\"Earth\",\"Earth\",\"Earth\",\"Earth\",\"Europa\",\"Earth\",\"Earth\",\"Earth\",\"Earth\",\"Mars\",\"Earth\",\"Mars\",\"Mars\",\"Mars\",\"Mars\",\"Earth\",\"Earth\",\"Earth\",\"Mars\",\"Europa\",\"Europa\",\"Earth\",\"Europa\",\"Europa\",\"Europa\",\"Earth\",\"Earth\",\"Earth\",\"Mars\",\"Earth\",\"Earth\",\"Earth\",\"Earth\",\"Earth\",\"Earth\",\"Europa\",\"Europa\",\"Earth\",\"Europa\",\"Europa\",\"Europa\",\"Europa\",\"Earth\",\"Europa\",\"Mars\",\"Mars\",\"Mars\",\"Earth\",\"Europa\",\"Europa\",\"Mars\",\"Earth\",\"Earth\",\"Earth\",\"Earth\",\"Earth\",\"Earth\",\"Earth\",\"Earth\",\"Mars\",\"Mars\",\"Earth\",\"Mars\",\"Mars\",\"Earth\",\"Earth\",\"Earth\",\"Earth\",\"Earth\",\"Earth\",\"Earth\",\"Earth\",\"Earth\",null,\"Europa\",\"Europa\",\"Earth\",\"Earth\",\"Earth\",\"Earth\",\"Earth\",\"Mars\",\"Mars\",\"Mars\",\"Mars\",\"Mars\",\"Earth\",\"Earth\",\"Mars\",\"Earth\",\"Earth\",\"Europa\",\"Europa\",\"Earth\",\"Earth\",\"Earth\",\"Mars\",\"Earth\",\"Earth\",\"Earth\",\"Europa\",\"Earth\",\"Earth\",\"Earth\",\"Europa\",\"Earth\",\"Earth\",\"Europa\",\"Earth\",\"Earth\",\"Earth\",\"Earth\",\"Earth\",null,\"Earth\",\"Mars\",\"Earth\",\"Earth\",\"Mars\",\"Mars\",\"Mars\",\"Mars\",\"Mars\",\"Earth\",\"Earth\",\"Earth\",\"Earth\",\"Earth\",\"Earth\",\"Earth\",\"Earth\",\"Earth\",\"Europa\",\"Europa\",\"Mars\",\"Earth\",\"Earth\",\"Earth\",\"Earth\",\"Earth\",\"Earth\",\"Earth\",\"Europa\",\"Earth\",\"Europa\",\"Mars\",\"Mars\",\"Mars\",\"Mars\",\"Europa\",\"Europa\",\"Europa\",\"Europa\",\"Europa\",\"Europa\",\"Europa\",\"Europa\",\"Earth\",\"Earth\",\"Earth\",\"Europa\",\"Mars\",\"Mars\",\"Earth\",\"Earth\",\"Earth\",\"Earth\",\"Earth\",\"Earth\",\"Earth\",\"Earth\",\"Earth\",\"Mars\",\"Mars\",\"Earth\",\"Earth\",\"Earth\",\"Europa\",\"Earth\",\"Earth\",\"Europa\",\"Europa\",\"Europa\",\"Europa\",\"Europa\",\"Europa\",\"Europa\",\"Europa\",\"Europa\",\"Earth\",\"Earth\",\"Europa\",\"Europa\",\"Europa\",\"Europa\",\"Europa\",\"Europa\",\"Earth\",null,\"Earth\",\"Earth\",\"Earth\",\"Earth\",\"Earth\",\"Earth\",null,\"Mars\",\"Earth\",\"Earth\",\"Mars\",\"Mars\",\"Earth\",\"Mars\",\"Mars\",\"Earth\",\"Europa\",\"Earth\",\"Earth\",\"Earth\",\"Earth\",\"Earth\",\"Earth\",\"Earth\",\"Earth\",\"Earth\",\"Earth\",\"Earth\",\"Earth\",\"Earth\",\"Earth\",\"Mars\",\"Mars\",\"Earth\",\"Earth\",\"Earth\",\"Earth\",\"Earth\",\"Mars\",\"Mars\",\"Europa\",\"Europa\",\"Europa\",\"Europa\",\"Earth\",\"Earth\",\"Mars\",\"Europa\",\"Europa\",\"Earth\",\"Mars\",\"Earth\",\"Europa\",\"Europa\",\"Mars\",\"Europa\",\"Europa\",\"Earth\",\"Europa\",\"Earth\",\"Mars\",\"Europa\",\"Europa\",\"Europa\",\"Europa\",\"Earth\",\"Mars\",\"Europa\",\"Earth\",\"Mars\",\"Earth\",\"Europa\",\"Europa\",\"Europa\",\"Europa\",\"Europa\",\"Earth\",\"Europa\",\"Earth\",\"Earth\",\"Earth\",\"Earth\",\"Mars\",\"Earth\",\"Europa\",\"Earth\",\"Earth\",\"Mars\",\"Earth\",\"Earth\",\"Mars\",\"Mars\",\"Earth\",\"Earth\",\"Earth\",\"Earth\",\"Earth\",\"Mars\",\"Mars\",\"Earth\",\"Earth\",\"Earth\",\"Europa\",\"Europa\",\"Europa\",\"Europa\",\"Europa\",\"Europa\",\"Earth\",\"Earth\",\"Europa\",\"Europa\",\"Earth\",\"Europa\",\"Europa\",\"Earth\",\"Earth\",\"Earth\",\"Earth\",\"Earth\",\"Earth\",\"Europa\",\"Earth\",\"Earth\",\"Europa\",\"Europa\",\"Earth\",\"Mars\",\"Earth\",\"Earth\",\"Earth\",\"Mars\",\"Earth\",\"Earth\",\"Earth\",\"Mars\",\"Earth\",\"Earth\",\"Earth\",\"Europa\",\"Europa\",\"Earth\",\"Europa\",\"Earth\",\"Earth\",\"Earth\",\"Earth\",\"Europa\",\"Earth\",\"Earth\",\"Earth\",\"Earth\",\"Earth\",\"Earth\",\"Earth\",\"Earth\",\"Earth\",null,\"Earth\",\"Earth\",\"Earth\",\"Earth\",\"Earth\",\"Earth\",\"Earth\",\"Europa\",\"Earth\",\"Earth\",\"Earth\",\"Earth\",\"Mars\",\"Earth\",\"Earth\",\"Europa\",\"Europa\",\"Europa\",\"Europa\",\"Earth\",\"Earth\",\"Europa\",\"Earth\",\"Mars\",\"Mars\",\"Mars\",\"Earth\",\"Earth\",\"Europa\",\"Earth\",\"Earth\",\"Earth\",\"Earth\",\"Earth\",\"Earth\",\"Mars\",\"Earth\",\"Earth\",\"Earth\",\"Mars\",\"Earth\",\"Earth\",\"Earth\",\"Earth\",\"Mars\",\"Earth\",\"Earth\",\"Europa\",\"Earth\",null,\"Earth\",\"Europa\",\"Europa\",\"Mars\",\"Mars\",\"Mars\",\"Earth\",\"Mars\",\"Mars\",\"Mars\",\"Mars\",\"Mars\",\"Mars\",\"Mars\",\"Earth\",\"Earth\",\"Mars\",\"Mars\",\"Earth\",\"Earth\",\"Earth\",\"Earth\",\"Earth\",\"Earth\",\"Earth\",\"Earth\",\"Earth\",\"Europa\",\"Earth\",\"Mars\",\"Mars\",\"Earth\",\"Earth\",\"Earth\",\"Earth\",\"Earth\",\"Earth\",\"Earth\",\"Earth\",\"Earth\",\"Earth\",\"Earth\",\"Earth\",\"Mars\",\"Europa\",\"Mars\",\"Earth\",\"Earth\",\"Earth\",\"Earth\",\"Earth\",\"Earth\",\"Earth\",\"Earth\",\"Earth\",\"Earth\",\"Earth\",\"Earth\",\"Earth\",\"Earth\",\"Europa\",\"Mars\",\"Mars\",\"Earth\",\"Europa\",\"Europa\",\"Europa\",\"Europa\",\"Earth\",\"Mars\",\"Europa\",\"Earth\",\"Mars\",\"Mars\",\"Earth\",\"Earth\",\"Earth\",\"Earth\",\"Europa\",\"Earth\",\"Earth\",\"Earth\",\"Earth\",\"Mars\",\"Earth\",\"Mars\",\"Europa\",\"Europa\",\"Earth\",\"Earth\",\"Earth\",\"Earth\",\"Earth\",\"Earth\",\"Earth\",\"Earth\",\"Earth\",\"Mars\",\"Earth\",\"Mars\",\"Europa\",\"Earth\",\"Mars\",\"Earth\",\"Earth\",null,\"Earth\",\"Europa\",\"Europa\",\"Earth\",\"Earth\",\"Earth\",\"Earth\",null,\"Earth\",\"Earth\",\"Earth\",\"Europa\",\"Europa\",\"Europa\",\"Europa\",\"Europa\",\"Europa\",\"Earth\",\"Europa\",\"Mars\",\"Earth\",\"Earth\",\"Europa\",\"Earth\",\"Earth\",\"Earth\",\"Earth\",\"Earth\",\"Earth\",\"Earth\",\"Earth\",\"Earth\",\"Earth\",\"Europa\",\"Earth\",\"Earth\",\"Earth\",\"Mars\",\"Mars\",\"Europa\",\"Europa\",\"Mars\",\"Mars\",\"Earth\",\"Mars\",\"Earth\",\"Earth\",\"Earth\",\"Earth\",\"Earth\",null,\"Earth\",\"Mars\",\"Europa\",\"Mars\",\"Earth\",\"Earth\",\"Earth\",\"Earth\",\"Earth\",\"Europa\",\"Earth\",\"Earth\",\"Europa\",\"Europa\",\"Mars\",\"Earth\",\"Earth\",\"Earth\",\"Earth\",\"Earth\",\"Earth\",\"Mars\",\"Europa\",\"Europa\",\"Europa\",\"Europa\",\"Europa\",\"Earth\",\"Earth\",\"Europa\",\"Europa\",\"Earth\",\"Earth\",\"Earth\",\"Earth\",\"Europa\",\"Mars\",\"Earth\",\"Earth\",\"Europa\",\"Europa\",\"Europa\",\"Europa\",\"Europa\",\"Mars\",\"Earth\",\"Europa\",\"Europa\",\"Earth\",null,\"Mars\",\"Earth\",\"Europa\",\"Earth\",\"Earth\",\"Earth\",\"Earth\",\"Mars\",\"Mars\",\"Mars\",\"Earth\",\"Earth\",\"Earth\",\"Earth\",\"Earth\",\"Earth\",\"Earth\",\"Earth\",\"Mars\",\"Mars\",\"Earth\",\"Europa\",\"Europa\",\"Europa\",\"Earth\",\"Earth\",\"Earth\",\"Earth\",\"Earth\",\"Earth\",\"Earth\",\"Europa\",\"Earth\",\"Earth\",\"Europa\",\"Earth\",\"Europa\",\"Mars\",\"Earth\",\"Europa\",\"Europa\",\"Europa\",\"Europa\",\"Europa\",\"Europa\",\"Europa\",\"Mars\",null,\"Earth\",\"Earth\",\"Earth\",\"Earth\",\"Earth\",\"Earth\",\"Europa\",\"Mars\",\"Earth\",\"Earth\",\"Earth\",\"Mars\",\"Earth\",\"Earth\",\"Earth\",\"Earth\",\"Earth\",\"Earth\",\"Europa\",\"Earth\",\"Earth\",\"Earth\",\"Earth\",\"Earth\",\"Europa\",\"Europa\",\"Europa\",\"Europa\",\"Earth\",\"Earth\",\"Europa\",\"Earth\",\"Earth\",\"Europa\",\"Europa\",\"Earth\",null,\"Earth\",\"Earth\",\"Earth\",\"Earth\",\"Earth\",\"Earth\",\"Earth\",\"Mars\",\"Earth\",\"Earth\",\"Europa\",\"Europa\",\"Earth\",\"Earth\",\"Mars\",\"Earth\",\"Earth\",\"Earth\",\"Earth\",\"Mars\",\"Europa\",\"Europa\",\"Earth\",null,\"Earth\",\"Earth\",\"Earth\",\"Earth\",\"Earth\",\"Earth\",\"Earth\",\"Earth\",\"Earth\",null,\"Europa\",\"Mars\",\"Earth\",\"Earth\",\"Earth\",\"Europa\",\"Europa\",\"Earth\",\"Europa\",\"Europa\",\"Earth\",\"Europa\",\"Europa\",\"Earth\",\"Earth\",\"Earth\",\"Earth\",\"Earth\",\"Europa\",\"Europa\",\"Europa\",\"Europa\",\"Europa\",\"Earth\",\"Earth\",\"Earth\",\"Earth\",\"Earth\",\"Earth\",\"Mars\",\"Mars\",\"Mars\",\"Mars\",\"Mars\",\"Mars\",\"Earth\",\"Mars\",\"Mars\",\"Europa\",\"Mars\",\"Earth\",\"Europa\",\"Earth\",\"Earth\",\"Earth\",\"Earth\",\"Earth\",\"Earth\",\"Mars\",\"Mars\",\"Europa\",\"Europa\",\"Earth\",\"Europa\",\"Earth\",\"Mars\",\"Earth\",\"Earth\",\"Earth\",\"Earth\",\"Earth\",\"Earth\",\"Earth\",\"Earth\",\"Earth\",\"Earth\",\"Earth\",\"Mars\",\"Mars\",\"Mars\",\"Earth\",\"Earth\",\"Earth\",\"Mars\",\"Mars\",\"Mars\",\"Earth\",\"Mars\",\"Earth\",\"Earth\",\"Mars\",\"Earth\",\"Earth\",\"Earth\",\"Earth\",\"Mars\",\"Earth\",\"Europa\",\"Earth\",\"Earth\",\"Earth\",\"Earth\",\"Earth\",\"Earth\",\"Earth\",\"Mars\",\"Mars\",\"Mars\",\"Earth\",\"Europa\",\"Earth\",\"Mars\",\"Mars\",\"Earth\",\"Earth\",\"Earth\",\"Earth\",\"Earth\",\"Mars\",\"Europa\",\"Earth\",\"Europa\",\"Mars\",\"Mars\",\"Earth\",\"Earth\",\"Earth\",\"Earth\",\"Earth\",\"Mars\",\"Earth\",\"Earth\",\"Earth\",\"Europa\",\"Europa\",\"Europa\",\"Europa\",\"Earth\",\"Mars\",\"Europa\",\"Mars\",\"Mars\",\"Europa\",\"Earth\",\"Earth\",\"Earth\",\"Earth\",\"Earth\",\"Earth\",\"Earth\",\"Europa\",\"Europa\",\"Europa\",\"Europa\",\"Earth\",\"Earth\",\"Earth\",\"Earth\",\"Earth\",\"Earth\",\"Mars\",\"Earth\",\"Mars\",\"Earth\",\"Earth\",\"Earth\",\"Mars\",\"Mars\",\"Mars\",\"Mars\",\"Mars\",\"Mars\",\"Mars\",\"Earth\",\"Europa\",\"Europa\",\"Europa\",\"Earth\",\"Earth\",\"Earth\",\"Europa\",\"Europa\",\"Earth\",\"Earth\",\"Earth\",\"Europa\",\"Europa\",\"Earth\",\"Europa\",\"Europa\",\"Earth\",\"Earth\",\"Earth\",\"Earth\",\"Earth\",\"Mars\",\"Mars\",\"Earth\",\"Mars\",\"Mars\",\"Earth\",\"Earth\",\"Earth\",\"Earth\",\"Europa\",\"Europa\",\"Mars\",\"Earth\",\"Europa\",\"Europa\",\"Europa\",\"Earth\",\"Earth\",\"Mars\",\"Earth\",\"Earth\",\"Mars\",\"Earth\",\"Earth\",\"Earth\",\"Earth\",\"Earth\",\"Earth\",\"Earth\",\"Mars\",\"Europa\",\"Europa\",\"Earth\",\"Earth\",\"Earth\",\"Europa\",\"Mars\",\"Earth\",\"Europa\",\"Europa\",\"Europa\",\"Europa\",\"Europa\",\"Europa\",\"Europa\",\"Europa\",\"Europa\",\"Europa\",\"Earth\",\"Europa\",\"Europa\",\"Europa\",\"Europa\",\"Earth\",null,\"Mars\",\"Earth\",\"Europa\",\"Earth\",\"Earth\",\"Earth\",null,\"Earth\",\"Earth\",\"Earth\",\"Europa\",\"Mars\",\"Earth\",\"Mars\",\"Europa\",\"Europa\",\"Earth\",\"Earth\",\"Mars\",\"Earth\",\"Earth\",\"Earth\",\"Earth\",\"Earth\",\"Earth\",\"Earth\",\"Earth\",\"Earth\",\"Earth\",\"Europa\",\"Earth\",\"Earth\",\"Earth\",\"Mars\",\"Mars\",\"Mars\",\"Earth\",\"Earth\",\"Earth\",\"Earth\",\"Europa\",\"Earth\",\"Europa\",\"Mars\",\"Earth\",\"Mars\",\"Earth\",\"Europa\",\"Mars\",\"Earth\",\"Earth\",\"Europa\",\"Earth\",\"Earth\",\"Earth\",\"Earth\",\"Earth\",\"Earth\",\"Earth\",\"Earth\",null,\"Mars\",\"Earth\",\"Earth\",\"Earth\",\"Earth\",null,\"Earth\",\"Earth\",\"Earth\",\"Earth\",\"Earth\",\"Mars\",\"Earth\",\"Earth\",\"Earth\",\"Europa\",\"Europa\",\"Europa\",null,\"Mars\",\"Earth\",\"Earth\",\"Earth\",\"Earth\",\"Earth\",\"Earth\",\"Europa\",\"Earth\",\"Earth\",\"Earth\",\"Mars\",\"Earth\",\"Earth\",\"Mars\",\"Mars\",\"Europa\",\"Earth\",\"Earth\",\"Earth\",\"Europa\",\"Earth\",\"Earth\",\"Mars\",\"Earth\",\"Earth\",\"Mars\",null,\"Earth\",\"Earth\",\"Earth\",\"Mars\",\"Mars\",\"Mars\",null,\"Earth\",\"Mars\",\"Earth\",\"Mars\",\"Earth\",\"Earth\",\"Earth\",\"Earth\",null,\"Earth\",\"Earth\",\"Earth\",\"Mars\",\"Earth\",\"Earth\",\"Earth\",\"Earth\",\"Mars\",\"Europa\",\"Earth\",\"Europa\",\"Europa\",\"Earth\",\"Earth\",\"Earth\",\"Earth\",\"Earth\",\"Earth\",\"Mars\",\"Europa\",\"Earth\",\"Mars\",\"Earth\",\"Earth\",\"Earth\",\"Europa\",\"Earth\",\"Earth\",\"Mars\",\"Mars\",null,\"Earth\",null,\"Europa\",\"Europa\",\"Europa\",\"Europa\",\"Earth\",\"Mars\",\"Europa\",\"Europa\",\"Earth\",\"Europa\",\"Europa\",\"Earth\",\"Europa\",\"Europa\",\"Earth\",\"Europa\",\"Mars\",\"Mars\",\"Europa\",\"Europa\",\"Europa\",\"Earth\",\"Mars\",\"Mars\",\"Earth\",\"Mars\",\"Mars\",\"Europa\",\"Europa\",\"Earth\",\"Earth\",\"Mars\",\"Europa\",\"Mars\",\"Europa\",\"Europa\",\"Earth\",\"Earth\",\"Europa\",\"Europa\",\"Earth\",\"Mars\",\"Mars\",\"Mars\",\"Earth\",\"Earth\",\"Earth\",\"Earth\",\"Earth\",\"Europa\",\"Europa\",\"Europa\",\"Europa\",\"Mars\",\"Mars\",\"Mars\",\"Mars\",\"Europa\",\"Earth\",\"Earth\",\"Earth\",\"Earth\",\"Mars\",\"Mars\",\"Europa\",\"Mars\",\"Mars\",\"Earth\",\"Europa\",\"Europa\",\"Europa\",\"Earth\",\"Earth\",\"Earth\",\"Earth\",\"Earth\",\"Earth\",\"Earth\",\"Earth\",\"Europa\",\"Europa\",\"Europa\",\"Europa\",\"Europa\",\"Earth\",\"Earth\",\"Earth\",\"Earth\",\"Earth\",\"Mars\",\"Mars\",\"Earth\",\"Europa\",\"Mars\",\"Mars\",\"Mars\",\"Mars\",\"Mars\",\"Mars\",\"Mars\",null,\"Mars\",\"Earth\",\"Mars\",\"Mars\",\"Mars\",\"Mars\",\"Mars\",\"Earth\",\"Earth\",\"Europa\",\"Europa\",\"Europa\",\"Europa\",\"Earth\",\"Earth\",\"Earth\",null,\"Earth\",\"Earth\",\"Earth\",\"Earth\",\"Earth\",\"Earth\",\"Earth\",\"Europa\",\"Europa\",\"Earth\",\"Mars\",\"Earth\",\"Mars\",\"Mars\",\"Earth\",\"Earth\",\"Earth\",\"Earth\",null,\"Earth\",\"Europa\",\"Europa\",\"Europa\",\"Europa\",\"Europa\",\"Europa\",\"Earth\",\"Earth\",\"Mars\",\"Earth\",\"Europa\",\"Earth\",\"Earth\",\"Earth\",\"Earth\",\"Mars\",\"Earth\",\"Earth\",\"Earth\",\"Mars\",\"Earth\",\"Mars\",\"Mars\",\"Mars\",\"Earth\",\"Earth\",\"Earth\",\"Earth\",\"Earth\",\"Europa\",\"Europa\",\"Europa\",\"Earth\",\"Earth\",\"Earth\",\"Europa\",\"Europa\",\"Earth\",\"Earth\",null,\"Earth\",\"Earth\",\"Earth\",\"Europa\",\"Europa\",\"Europa\",\"Europa\",\"Mars\",\"Mars\",\"Europa\",\"Earth\",\"Earth\",\"Earth\",\"Earth\",\"Earth\",\"Europa\",\"Europa\",\"Europa\",\"Earth\",\"Mars\",\"Mars\",\"Mars\",\"Mars\",\"Europa\",\"Earth\",\"Earth\",\"Earth\",\"Europa\",\"Earth\",\"Earth\",\"Earth\",\"Earth\",\"Mars\",\"Europa\",\"Europa\",\"Mars\",\"Mars\",\"Earth\",\"Earth\",\"Earth\",\"Earth\",null,\"Earth\",\"Earth\",\"Earth\",\"Earth\",\"Mars\",\"Mars\",\"Europa\",\"Europa\",\"Mars\",\"Earth\",\"Earth\",\"Mars\",\"Earth\",\"Mars\",\"Mars\",\"Mars\",\"Earth\",\"Earth\",\"Mars\",\"Earth\",\"Earth\",\"Earth\",\"Earth\",\"Earth\",\"Europa\",\"Mars\",\"Earth\",\"Earth\",\"Earth\",\"Earth\",\"Earth\",\"Earth\",\"Earth\",\"Earth\",\"Earth\",\"Mars\",\"Earth\",\"Earth\",\"Earth\",\"Earth\",\"Earth\",\"Earth\",\"Mars\",\"Earth\",\"Earth\",\"Earth\",\"Mars\",\"Mars\",\"Earth\",\"Earth\",\"Europa\",\"Europa\",\"Earth\",\"Europa\",\"Earth\",\"Earth\",\"Earth\",\"Earth\",\"Europa\",\"Europa\",\"Europa\",\"Europa\",\"Europa\",\"Earth\",\"Earth\",\"Europa\",\"Europa\",\"Earth\",\"Earth\",\"Europa\",\"Europa\",\"Earth\",null,\"Europa\",\"Earth\",\"Earth\",\"Mars\",\"Earth\",\"Earth\",\"Earth\",\"Earth\",\"Earth\",\"Earth\",\"Mars\",\"Earth\",null,null,\"Mars\",\"Mars\",\"Mars\",\"Earth\",\"Earth\",\"Earth\",null,\"Earth\",\"Earth\",\"Earth\",null,\"Mars\",\"Europa\",\"Mars\",\"Europa\",\"Europa\",\"Europa\",\"Europa\",\"Earth\",\"Europa\",\"Europa\",\"Earth\",\"Mars\",\"Europa\",\"Earth\",\"Mars\",\"Earth\",\"Earth\",\"Earth\",\"Earth\",\"Earth\",\"Europa\",\"Earth\",\"Europa\",\"Europa\",\"Europa\",\"Europa\",\"Earth\",\"Earth\",\"Mars\",\"Earth\",\"Mars\",\"Mars\",\"Europa\",\"Mars\",\"Mars\",\"Earth\",\"Earth\",\"Europa\",\"Europa\",\"Earth\",\"Mars\",\"Europa\",\"Earth\",\"Earth\",\"Mars\",\"Earth\",\"Earth\",\"Earth\",\"Earth\",\"Mars\",\"Earth\",\"Mars\",\"Europa\",\"Europa\",\"Earth\",\"Earth\",\"Earth\",\"Earth\",\"Earth\",\"Earth\",\"Earth\",\"Earth\",\"Earth\",\"Mars\",\"Mars\",\"Earth\",\"Earth\",\"Earth\",\"Earth\",\"Earth\",\"Earth\",\"Earth\",null,\"Earth\",\"Earth\",\"Mars\",\"Mars\",\"Mars\",\"Mars\",\"Mars\",\"Earth\",\"Mars\",\"Mars\",\"Mars\",\"Mars\",\"Europa\",\"Europa\",\"Europa\",\"Earth\",\"Earth\",\"Earth\",\"Europa\",\"Earth\",\"Europa\",\"Earth\",\"Earth\",\"Earth\",\"Earth\",\"Earth\",\"Earth\",\"Earth\",\"Earth\",\"Earth\",\"Europa\",\"Earth\",\"Earth\",null,\"Earth\",\"Earth\",\"Earth\",\"Earth\",\"Earth\",\"Earth\",\"Mars\",\"Europa\",\"Earth\",\"Earth\",\"Earth\",\"Earth\",\"Earth\",\"Europa\",\"Earth\",\"Earth\",\"Europa\",\"Europa\",\"Earth\",\"Europa\",\"Mars\",\"Europa\",\"Earth\",null,\"Earth\",\"Earth\",\"Europa\",\"Europa\",\"Earth\",\"Europa\",\"Earth\",\"Europa\",\"Europa\",\"Europa\",\"Earth\",\"Earth\",\"Mars\",\"Earth\",\"Mars\",\"Europa\",\"Earth\",null,\"Europa\",\"Earth\",\"Earth\",\"Mars\",\"Europa\",\"Earth\",\"Earth\",\"Europa\",\"Europa\",\"Mars\",\"Earth\",\"Earth\",\"Earth\",\"Earth\",\"Earth\",\"Europa\",\"Europa\",\"Europa\",\"Europa\",\"Earth\",\"Earth\",\"Earth\",\"Earth\",\"Earth\",\"Europa\",\"Earth\",\"Mars\",\"Europa\",\"Mars\",\"Earth\",\"Earth\",\"Earth\",\"Mars\",\"Mars\",\"Mars\",\"Europa\",\"Europa\",\"Earth\",\"Earth\",\"Mars\",\"Mars\",\"Mars\",\"Earth\",\"Earth\",\"Mars\",\"Earth\",\"Earth\",\"Earth\",\"Earth\",\"Europa\",\"Earth\",\"Earth\",\"Earth\",\"Earth\",\"Europa\",\"Europa\",\"Mars\",\"Earth\",\"Earth\",\"Earth\",\"Europa\",\"Europa\",\"Earth\",\"Europa\",\"Mars\",\"Earth\",\"Earth\",\"Europa\",\"Europa\",\"Europa\",\"Europa\",\"Earth\",\"Mars\",\"Mars\",\"Mars\",\"Mars\",\"Earth\",\"Earth\",\"Earth\",\"Europa\",\"Europa\",\"Earth\",\"Earth\",\"Earth\",\"Mars\",\"Earth\",\"Mars\",\"Mars\",\"Mars\",\"Earth\",\"Earth\",\"Earth\",\"Earth\",\"Mars\",\"Mars\",\"Earth\",\"Earth\",\"Mars\",\"Mars\",\"Mars\",\"Europa\",\"Europa\",\"Earth\",\"Mars\",\"Earth\",\"Earth\",null,\"Mars\",\"Earth\",\"Europa\",\"Earth\",\"Earth\",\"Mars\",\"Mars\",\"Mars\",\"Mars\",\"Mars\",\"Earth\",\"Earth\",\"Earth\",\"Earth\",\"Mars\",\"Mars\",\"Europa\",\"Earth\",\"Earth\",\"Earth\",\"Mars\",\"Mars\",\"Earth\",\"Mars\",\"Earth\",\"Earth\",\"Earth\",null,\"Mars\",\"Mars\",\"Europa\",\"Europa\",\"Earth\",\"Earth\",\"Earth\",\"Earth\",\"Europa\",\"Europa\",\"Earth\",\"Mars\",\"Mars\",\"Mars\",\"Mars\",\"Earth\",\"Mars\",\"Earth\",\"Earth\",\"Earth\",\"Earth\",\"Earth\",\"Earth\",\"Mars\",\"Earth\",\"Earth\",\"Earth\",\"Earth\",\"Europa\",\"Europa\",\"Europa\",\"Earth\",\"Earth\",\"Mars\",\"Europa\",\"Europa\",\"Europa\",\"Earth\",\"Earth\",\"Earth\",\"Earth\",\"Mars\",null,\"Earth\",\"Earth\",\"Earth\",\"Mars\",\"Earth\",\"Earth\",\"Earth\",\"Mars\",\"Earth\",\"Earth\",\"Earth\",\"Earth\",\"Europa\",\"Europa\",\"Earth\",\"Europa\",\"Mars\",\"Mars\",\"Earth\",\"Earth\",\"Earth\",\"Earth\",\"Mars\",\"Mars\",\"Mars\",\"Mars\",\"Earth\",\"Earth\",\"Earth\",\"Earth\",\"Earth\",\"Earth\",\"Earth\",\"Earth\",\"Europa\",\"Earth\",\"Europa\",\"Earth\",\"Earth\",\"Earth\",\"Earth\",\"Mars\",\"Europa\",\"Earth\",\"Earth\",\"Earth\",\"Earth\",\"Earth\",\"Earth\",\"Earth\",\"Earth\",\"Earth\",\"Earth\",\"Europa\",\"Europa\",\"Europa\",\"Europa\",\"Europa\",\"Earth\",\"Earth\",\"Europa\",\"Europa\",\"Europa\",\"Earth\",\"Earth\",\"Earth\",\"Earth\",\"Earth\",\"Earth\",\"Earth\",\"Earth\",\"Earth\",\"Earth\",\"Europa\",\"Europa\",\"Europa\",\"Europa\",\"Europa\",\"Mars\",\"Earth\",\"Earth\",\"Earth\",\"Earth\",\"Earth\",\"Earth\",\"Earth\",\"Mars\",\"Mars\",\"Earth\",\"Earth\",\"Earth\",\"Earth\",\"Europa\",\"Mars\",\"Mars\",\"Earth\",\"Earth\",\"Europa\",\"Europa\",\"Europa\",\"Europa\",\"Earth\",\"Earth\",\"Earth\",\"Europa\",\"Europa\",\"Europa\",\"Europa\",\"Europa\",\"Earth\",\"Earth\",\"Europa\",\"Europa\",\"Mars\",\"Mars\",\"Earth\",\"Earth\",\"Earth\",\"Earth\",\"Earth\",\"Mars\",null,\"Mars\",\"Mars\",\"Mars\",\"Mars\",\"Europa\",\"Europa\",\"Europa\",\"Earth\",\"Earth\",\"Earth\",\"Earth\",\"Earth\",\"Europa\",\"Earth\",\"Earth\",\"Europa\",\"Europa\",\"Europa\",\"Europa\",\"Europa\",\"Europa\",\"Earth\",\"Earth\",\"Europa\",\"Mars\",\"Mars\",\"Mars\",null,\"Earth\",\"Earth\",\"Earth\",\"Europa\",\"Earth\",\"Mars\",\"Earth\",\"Earth\",\"Mars\",\"Earth\",\"Earth\",\"Earth\",\"Earth\",\"Earth\",\"Earth\",\"Earth\",\"Earth\",\"Mars\",\"Earth\",\"Mars\",\"Mars\",\"Europa\",\"Europa\",\"Earth\",\"Earth\",\"Earth\",\"Earth\",\"Earth\",\"Earth\",\"Europa\",\"Earth\",\"Earth\",\"Mars\",\"Earth\",\"Earth\",\"Earth\",\"Earth\",\"Earth\",\"Europa\",\"Europa\",\"Earth\",\"Earth\",\"Earth\",\"Europa\",\"Europa\",\"Europa\",\"Earth\",\"Earth\",null,\"Mars\",\"Mars\",\"Earth\",\"Earth\",\"Europa\",\"Europa\",\"Earth\",\"Earth\",\"Europa\",\"Earth\",\"Europa\",\"Europa\",\"Earth\",\"Mars\",\"Earth\",\"Europa\",\"Earth\",\"Earth\",\"Earth\",\"Earth\",\"Earth\",\"Europa\",\"Europa\",null,\"Europa\",\"Earth\",\"Earth\",\"Earth\",\"Earth\",\"Europa\",\"Europa\",\"Europa\",\"Europa\",\"Earth\",\"Earth\",\"Earth\",\"Earth\",\"Europa\",\"Europa\",\"Earth\",\"Earth\",\"Mars\",\"Earth\",\"Mars\",\"Earth\",\"Earth\",\"Europa\",\"Earth\",\"Earth\",\"Mars\",\"Earth\",\"Earth\",\"Europa\",\"Earth\",\"Earth\",\"Earth\",\"Europa\",\"Europa\",\"Europa\",\"Europa\",\"Europa\",\"Europa\",\"Europa\",\"Earth\",\"Earth\",\"Earth\",\"Earth\",\"Europa\",\"Earth\",\"Earth\",\"Earth\",\"Earth\",\"Europa\",\"Europa\",\"Europa\",\"Earth\",\"Europa\",\"Europa\",\"Europa\",\"Mars\",\"Mars\",\"Europa\",\"Europa\",\"Earth\",\"Earth\",\"Europa\",\"Europa\",\"Europa\",\"Europa\",\"Mars\",\"Mars\",\"Mars\",\"Earth\",\"Earth\",\"Earth\",\"Earth\",\"Mars\",\"Earth\",\"Europa\",\"Mars\",\"Earth\",\"Earth\",\"Mars\",\"Mars\",\"Earth\",\"Earth\",\"Earth\",\"Earth\",null,\"Earth\",\"Europa\",\"Europa\",null,\"Mars\",\"Mars\",\"Earth\",\"Earth\",\"Mars\",\"Mars\",\"Mars\",\"Earth\",\"Mars\",\"Mars\",\"Europa\",\"Earth\",\"Earth\",\"Earth\",\"Mars\",\"Europa\",\"Europa\",\"Europa\",\"Earth\",\"Mars\",\"Earth\",\"Earth\",\"Earth\",\"Earth\",\"Europa\",\"Europa\",\"Mars\",\"Earth\",\"Earth\",\"Mars\",\"Mars\",\"Mars\",\"Mars\",\"Mars\",\"Mars\",\"Mars\",\"Mars\",\"Earth\",\"Earth\",\"Earth\",\"Earth\",\"Earth\",\"Earth\",\"Mars\",null,\"Earth\",\"Earth\",\"Earth\",\"Mars\",\"Mars\",\"Earth\",\"Earth\",\"Earth\",\"Earth\",\"Mars\",\"Mars\",\"Earth\",\"Mars\",\"Mars\",\"Earth\",\"Europa\",\"Mars\",\"Earth\",\"Earth\",\"Earth\",\"Mars\",\"Earth\",\"Earth\",\"Mars\",\"Europa\",\"Europa\",\"Europa\",\"Europa\",\"Europa\",\"Europa\",\"Europa\",\"Earth\",\"Earth\",\"Earth\",\"Earth\",\"Earth\",\"Earth\",\"Earth\",\"Earth\",\"Europa\",\"Europa\",\"Europa\",\"Europa\",null,\"Earth\",\"Earth\",\"Earth\",\"Mars\",\"Earth\",\"Earth\",\"Earth\",\"Mars\",\"Europa\",\"Earth\",\"Earth\",\"Earth\",\"Earth\",\"Earth\",\"Earth\",\"Mars\",\"Mars\",\"Mars\",\"Mars\",\"Mars\",\"Mars\",\"Europa\",\"Earth\",\"Earth\",\"Earth\",\"Earth\",\"Earth\",\"Earth\",\"Earth\",\"Earth\",\"Earth\",\"Earth\",\"Europa\",\"Europa\",\"Mars\",\"Earth\",\"Europa\",\"Europa\",\"Earth\",\"Earth\",\"Earth\",\"Earth\",\"Europa\",\"Europa\",\"Europa\",\"Europa\",\"Europa\",\"Mars\",\"Earth\",\"Mars\",\"Mars\",\"Mars\",\"Earth\",\"Mars\",\"Earth\",\"Earth\",\"Europa\",\"Europa\",\"Europa\",\"Europa\",\"Earth\",\"Mars\",null,\"Mars\",\"Earth\",\"Earth\",\"Mars\",\"Mars\",\"Earth\",\"Earth\",\"Earth\",\"Earth\",\"Earth\",\"Earth\",\"Mars\",\"Mars\",\"Mars\",\"Europa\",\"Europa\",\"Europa\",\"Mars\",\"Mars\",\"Earth\",\"Earth\",\"Earth\",\"Earth\",\"Earth\",\"Mars\",\"Mars\",\"Earth\",\"Earth\",\"Earth\",\"Earth\",\"Europa\",\"Europa\",\"Europa\",\"Europa\",\"Europa\",\"Earth\",\"Europa\",\"Europa\",\"Europa\",\"Earth\",\"Earth\",\"Earth\",\"Europa\",\"Earth\",\"Earth\",\"Earth\",\"Mars\",\"Earth\",\"Europa\",\"Europa\",\"Europa\",\"Europa\",\"Mars\",\"Europa\",\"Europa\",\"Earth\",\"Earth\",\"Earth\",\"Europa\",\"Earth\",\"Earth\",\"Earth\",\"Earth\",\"Mars\",\"Earth\",\"Earth\",\"Earth\",\"Earth\",\"Earth\",null,\"Mars\",\"Europa\",\"Earth\",\"Mars\",\"Earth\",\"Europa\",\"Earth\",\"Earth\",\"Earth\",\"Earth\",\"Earth\",\"Earth\",\"Earth\",\"Earth\",\"Mars\",\"Mars\",\"Europa\",\"Europa\",\"Earth\",\"Earth\",\"Europa\",\"Earth\",\"Earth\",\"Earth\",\"Mars\",\"Mars\",\"Mars\",\"Mars\",\"Mars\",\"Mars\",\"Earth\",null,\"Earth\",\"Europa\",\"Europa\",\"Europa\",\"Europa\",\"Earth\",\"Mars\",\"Earth\",\"Earth\",\"Earth\",\"Earth\",\"Mars\",\"Mars\",\"Earth\",\"Europa\",\"Earth\",\"Earth\",\"Mars\",\"Earth\",\"Mars\",\"Earth\",\"Earth\",\"Mars\",\"Earth\",null,\"Earth\",\"Mars\",\"Earth\",\"Earth\",\"Mars\",\"Earth\",\"Mars\",\"Mars\",\"Earth\",\"Earth\",\"Europa\",\"Earth\",\"Earth\",\"Europa\",\"Europa\",\"Europa\",\"Europa\",\"Europa\",\"Europa\",\"Europa\",\"Europa\",\"Mars\",\"Earth\",\"Earth\",\"Earth\",\"Europa\",\"Mars\",\"Mars\",\"Mars\",\"Mars\",\"Mars\",\"Mars\",\"Mars\",\"Europa\",null,\"Earth\",\"Earth\",\"Earth\",\"Earth\",\"Earth\",\"Earth\",\"Earth\",\"Earth\",\"Europa\",\"Europa\",\"Mars\",\"Earth\",\"Earth\",\"Earth\",\"Earth\",\"Mars\",\"Europa\",\"Europa\",\"Europa\",\"Earth\",\"Earth\",\"Earth\",\"Earth\",\"Mars\",\"Mars\",\"Mars\",null,\"Earth\",\"Earth\",\"Europa\",\"Earth\",\"Earth\",\"Earth\",\"Earth\",\"Earth\",\"Earth\",\"Earth\",\"Earth\",\"Europa\",null,\"Earth\",\"Earth\",\"Earth\",\"Earth\",\"Earth\",\"Earth\",\"Europa\",\"Europa\",\"Europa\",\"Earth\",\"Earth\",\"Earth\",\"Earth\",\"Earth\",\"Earth\",\"Earth\",\"Earth\",\"Europa\",\"Europa\",\"Europa\",\"Europa\",\"Earth\",\"Earth\",\"Mars\",\"Mars\",\"Earth\",\"Earth\",\"Earth\",\"Earth\",\"Mars\",\"Mars\",\"Mars\",\"Earth\",\"Mars\",\"Earth\",\"Earth\",\"Mars\",\"Earth\",\"Mars\",\"Earth\",\"Earth\",\"Europa\",\"Earth\",\"Earth\",\"Earth\",\"Mars\",\"Earth\",\"Earth\",\"Earth\",\"Earth\",\"Mars\",\"Earth\",\"Earth\",\"Earth\",\"Earth\",\"Earth\",\"Earth\",\"Earth\",\"Mars\",\"Earth\",\"Mars\",\"Earth\",\"Europa\",\"Earth\",\"Earth\",\"Europa\",\"Earth\",\"Earth\",\"Earth\",\"Earth\",\"Earth\",\"Mars\",\"Mars\",\"Earth\",\"Mars\",\"Earth\",\"Earth\",\"Europa\",\"Earth\",\"Earth\",\"Earth\",\"Earth\",\"Earth\",\"Earth\",\"Earth\",\"Earth\",\"Europa\",\"Earth\",\"Earth\",\"Earth\",\"Earth\",\"Earth\",\"Earth\",\"Earth\",\"Earth\",\"Earth\",\"Earth\",\"Earth\",\"Mars\",\"Earth\",\"Earth\",\"Earth\",\"Earth\",\"Earth\",\"Earth\",\"Earth\",\"Earth\",\"Earth\",\"Earth\",\"Earth\",\"Earth\",\"Earth\",\"Earth\",\"Mars\",\"Earth\",\"Earth\",\"Mars\",\"Europa\",\"Europa\",\"Earth\",\"Mars\",\"Mars\",\"Mars\",\"Mars\",\"Mars\",\"Earth\",\"Earth\",\"Europa\",\"Mars\",\"Earth\",\"Earth\",\"Europa\",\"Earth\",null,\"Earth\",\"Earth\",\"Earth\",\"Earth\",\"Europa\",\"Europa\",\"Earth\",\"Europa\",\"Mars\",\"Earth\",\"Earth\",\"Earth\",\"Earth\",\"Earth\",\"Earth\",\"Europa\",\"Europa\",\"Europa\",\"Earth\",\"Mars\",\"Mars\",\"Mars\",\"Mars\",\"Earth\",\"Earth\",\"Europa\",\"Europa\",\"Earth\",\"Earth\",\"Earth\",\"Earth\",\"Mars\",\"Mars\",\"Mars\",\"Earth\",\"Earth\",\"Earth\",\"Europa\",\"Europa\",\"Europa\",\"Earth\",\"Europa\",\"Europa\",\"Earth\",\"Europa\",\"Earth\",null,\"Mars\",\"Earth\",\"Earth\",\"Mars\",\"Europa\",\"Europa\",\"Europa\",\"Mars\",\"Earth\",\"Earth\",\"Earth\",\"Mars\",\"Earth\",\"Earth\",\"Earth\",\"Mars\",\"Europa\",\"Earth\",\"Earth\",\"Earth\",\"Earth\",\"Europa\",\"Europa\",\"Earth\",\"Earth\",\"Earth\",\"Europa\",\"Europa\",\"Mars\",\"Earth\",\"Earth\",\"Earth\",\"Earth\",\"Europa\",\"Mars\",\"Mars\",\"Mars\",\"Earth\",\"Mars\",\"Europa\",\"Earth\",null,\"Mars\",\"Earth\",\"Earth\",\"Earth\",\"Europa\",\"Mars\",\"Earth\",\"Earth\",\"Europa\",\"Europa\",\"Earth\",\"Earth\",\"Earth\",\"Earth\",\"Mars\",\"Earth\",\"Earth\",\"Earth\",\"Mars\",\"Earth\",\"Earth\",\"Europa\",\"Europa\",\"Earth\",\"Earth\",\"Earth\",\"Europa\",\"Europa\",\"Europa\",\"Earth\",\"Mars\",\"Mars\",null,\"Mars\",\"Mars\",\"Mars\",\"Mars\",\"Earth\",\"Earth\",\"Earth\",\"Mars\",\"Mars\",\"Mars\",\"Mars\",\"Mars\",\"Mars\",\"Mars\",\"Europa\",\"Europa\",\"Europa\",\"Earth\",\"Europa\",\"Europa\",\"Europa\",\"Europa\",\"Europa\",\"Europa\",\"Europa\",\"Europa\",\"Europa\",\"Europa\",\"Europa\",\"Earth\",\"Earth\",\"Earth\",\"Earth\",\"Earth\",\"Earth\",\"Mars\",\"Mars\",\"Earth\",\"Earth\",\"Earth\",\"Earth\",\"Earth\",\"Mars\",\"Earth\",\"Earth\",\"Earth\",\"Earth\",\"Earth\",null,\"Europa\",\"Mars\",\"Europa\",\"Europa\",\"Europa\",null,\"Earth\",\"Europa\",\"Mars\",\"Europa\",null,\"Mars\",\"Mars\",\"Mars\",\"Mars\",\"Mars\",\"Earth\",\"Earth\",\"Earth\",\"Earth\",\"Mars\",\"Mars\",\"Mars\",\"Earth\",\"Earth\",\"Earth\",\"Europa\",\"Europa\",\"Earth\",\"Europa\",\"Earth\",\"Europa\",\"Mars\",\"Mars\",\"Earth\",\"Earth\",\"Earth\",\"Europa\",\"Europa\",\"Europa\",\"Earth\",\"Earth\",\"Earth\",\"Europa\",\"Europa\",\"Europa\",\"Earth\",\"Earth\",\"Earth\",\"Earth\",\"Earth\",\"Earth\",\"Earth\",\"Earth\",\"Earth\",\"Earth\",\"Europa\",\"Europa\",\"Europa\",\"Mars\",\"Earth\",\"Mars\",\"Europa\",\"Europa\",\"Earth\",\"Earth\",\"Earth\",\"Earth\",\"Europa\",\"Europa\",\"Earth\",\"Earth\",\"Earth\",\"Europa\",\"Mars\",\"Mars\",\"Earth\",\"Europa\",\"Earth\",\"Earth\",\"Mars\",\"Mars\",\"Earth\",\"Europa\",null,\"Europa\",\"Earth\",\"Earth\",\"Earth\",\"Earth\",\"Earth\",\"Earth\",\"Mars\",\"Earth\",\"Earth\",\"Earth\",\"Europa\",\"Earth\",\"Earth\",\"Earth\",\"Mars\",\"Mars\",\"Earth\",\"Earth\",\"Mars\",\"Mars\",\"Mars\",\"Mars\",\"Earth\",\"Earth\",\"Mars\",\"Earth\",\"Europa\",\"Europa\",\"Mars\",\"Europa\",\"Europa\",\"Europa\",\"Europa\",\"Mars\",\"Europa\",\"Europa\",\"Europa\",\"Mars\",\"Earth\",\"Earth\",\"Earth\",\"Earth\",\"Earth\",\"Earth\",\"Europa\",\"Mars\",\"Earth\",\"Earth\",\"Earth\",\"Europa\",\"Europa\",\"Earth\",\"Europa\",\"Mars\",\"Earth\",\"Europa\",\"Europa\",\"Europa\",\"Mars\",\"Earth\",\"Europa\",\"Earth\",null,\"Earth\",\"Earth\",\"Mars\",\"Earth\",\"Earth\",\"Europa\",\"Europa\",null,\"Europa\",\"Europa\",\"Mars\",\"Mars\",\"Earth\",\"Earth\",\"Earth\",\"Europa\",\"Europa\",\"Europa\",\"Mars\",\"Europa\",\"Mars\",\"Mars\",\"Mars\",\"Earth\",\"Earth\",\"Earth\",\"Earth\",\"Earth\",\"Earth\",\"Earth\",\"Earth\",\"Mars\",\"Mars\",\"Mars\",\"Earth\",\"Earth\",\"Earth\",\"Earth\",\"Earth\",\"Earth\",\"Europa\",\"Earth\",\"Mars\",\"Europa\",\"Earth\",\"Earth\",\"Earth\",\"Mars\",\"Europa\",\"Europa\",\"Europa\",\"Mars\",\"Mars\",\"Europa\",\"Europa\",\"Europa\",\"Mars\",\"Earth\",\"Earth\",\"Earth\",\"Earth\",\"Earth\",\"Earth\",\"Mars\",null,\"Europa\",\"Europa\",\"Europa\",\"Earth\",\"Earth\",\"Europa\",\"Europa\",\"Europa\",\"Europa\",\"Europa\",\"Earth\",\"Earth\",\"Mars\",\"Europa\",\"Europa\",\"Europa\",\"Europa\",null,\"Earth\",\"Europa\",\"Earth\",\"Earth\",\"Earth\",\"Mars\",\"Earth\",\"Europa\",\"Europa\",\"Earth\",\"Europa\",\"Europa\",\"Europa\",\"Europa\",\"Earth\",\"Europa\",\"Europa\",\"Earth\",\"Earth\",\"Earth\",\"Mars\",\"Mars\",\"Earth\",\"Earth\",\"Earth\",\"Europa\",\"Europa\",\"Earth\",\"Earth\",\"Mars\",\"Earth\",\"Earth\",\"Earth\",\"Earth\",\"Earth\",\"Mars\",\"Mars\",\"Mars\",\"Mars\",\"Earth\",\"Earth\",\"Europa\",\"Europa\",\"Earth\",\"Earth\",\"Mars\",\"Earth\",\"Earth\",\"Earth\",\"Earth\",\"Earth\",\"Earth\",\"Earth\",\"Earth\",\"Earth\",\"Earth\",\"Earth\",null,\"Mars\",\"Europa\",\"Europa\",\"Mars\",\"Mars\",\"Mars\",\"Mars\",\"Mars\",\"Mars\",\"Mars\",\"Europa\",\"Europa\",\"Europa\",\"Mars\",\"Earth\",\"Earth\",\"Earth\",\"Earth\",\"Earth\",\"Earth\",\"Earth\",\"Earth\",\"Earth\",\"Earth\",\"Earth\",\"Europa\",\"Earth\",\"Europa\",\"Earth\",\"Earth\",\"Earth\",\"Earth\",\"Earth\",\"Earth\",\"Earth\",\"Europa\",\"Europa\",\"Mars\",\"Earth\",\"Earth\",\"Earth\",\"Earth\",\"Earth\",\"Mars\",\"Europa\",\"Earth\",\"Earth\",\"Europa\",\"Earth\",\"Earth\",\"Europa\",\"Europa\",\"Europa\",\"Earth\",\"Earth\",\"Earth\",\"Mars\",\"Europa\",\"Europa\",\"Europa\",\"Earth\",\"Earth\",\"Earth\",\"Mars\",\"Earth\",\"Earth\",\"Mars\",\"Mars\",\"Europa\",\"Europa\",\"Europa\",\"Mars\",\"Europa\",\"Europa\",\"Mars\",\"Mars\",\"Mars\",\"Mars\",\"Earth\",\"Europa\",\"Europa\",\"Europa\",\"Europa\",\"Europa\",null,\"Earth\",\"Earth\",\"Europa\",\"Europa\",\"Earth\",\"Earth\",\"Europa\",\"Europa\",\"Earth\",\"Earth\",\"Europa\",\"Earth\",\"Earth\",\"Earth\",\"Europa\",\"Mars\",\"Earth\",\"Earth\",\"Mars\",\"Earth\",\"Europa\",\"Mars\",\"Europa\",\"Europa\",\"Europa\",\"Europa\",\"Europa\",null,\"Europa\",\"Europa\",\"Earth\",\"Europa\",\"Europa\",\"Europa\",\"Europa\",\"Europa\",\"Europa\",\"Earth\",\"Earth\",\"Earth\",\"Mars\",\"Europa\",\"Earth\",\"Earth\",\"Europa\",\"Earth\",\"Earth\",\"Europa\",\"Europa\",\"Earth\",null,\"Earth\",\"Earth\",\"Europa\",\"Earth\",\"Earth\",\"Europa\",\"Europa\",null,\"Earth\",\"Earth\",\"Earth\",\"Europa\",\"Europa\",\"Earth\",\"Earth\",\"Earth\",\"Earth\",\"Earth\",\"Earth\",\"Earth\",\"Earth\",\"Europa\",\"Europa\",\"Europa\",\"Earth\",\"Earth\",\"Earth\",\"Earth\",\"Earth\",\"Earth\",\"Earth\",\"Earth\",\"Earth\",\"Europa\",\"Europa\",\"Earth\",\"Earth\",\"Earth\",\"Europa\",\"Earth\",\"Europa\",\"Mars\",\"Mars\",\"Mars\",\"Mars\",\"Mars\",\"Earth\",\"Europa\",\"Europa\",\"Europa\",\"Earth\",\"Europa\",\"Europa\",\"Earth\",\"Mars\",\"Mars\",\"Mars\",\"Mars\",\"Earth\",\"Europa\",\"Earth\",\"Earth\",\"Mars\",\"Earth\",\"Mars\",\"Mars\",\"Mars\",\"Earth\",\"Earth\",\"Earth\",\"Earth\",\"Mars\",\"Earth\",\"Earth\",\"Earth\",\"Earth\",\"Earth\",\"Europa\",\"Europa\",\"Europa\",\"Europa\",\"Europa\",\"Mars\",\"Mars\",\"Europa\",\"Europa\",\"Europa\",\"Europa\",\"Earth\",\"Mars\",\"Mars\",\"Earth\",\"Mars\",\"Mars\",\"Mars\",\"Europa\",\"Europa\",\"Europa\",\"Earth\",\"Mars\",\"Europa\",\"Europa\",\"Mars\",\"Mars\",\"Earth\",\"Mars\",\"Europa\",\"Europa\",\"Earth\",\"Earth\",\"Earth\",\"Mars\",\"Mars\",\"Earth\",\"Earth\",\"Earth\",\"Earth\",\"Earth\",\"Earth\",\"Mars\",\"Mars\",\"Mars\",\"Mars\",\"Earth\",\"Earth\",\"Europa\",\"Mars\",\"Mars\",\"Europa\",\"Europa\",\"Europa\",\"Europa\",\"Europa\",\"Europa\",\"Mars\",\"Europa\",\"Europa\",\"Earth\",\"Earth\",\"Europa\",\"Earth\",\"Earth\",\"Europa\",\"Europa\",\"Earth\",\"Earth\",\"Mars\",\"Mars\",\"Earth\",\"Mars\",\"Mars\",\"Mars\",\"Earth\",\"Earth\",\"Earth\",\"Earth\",\"Earth\",\"Earth\",\"Mars\",\"Earth\",\"Europa\",\"Earth\",\"Earth\",\"Mars\",\"Mars\",\"Mars\",\"Mars\",\"Mars\",null,\"Mars\",\"Earth\",\"Earth\",\"Earth\",\"Mars\",\"Earth\",\"Mars\",\"Earth\",\"Mars\",\"Mars\",\"Earth\",\"Earth\",null,\"Europa\",\"Europa\",\"Europa\",\"Mars\",\"Europa\",\"Earth\",\"Earth\",\"Earth\",\"Earth\",\"Earth\",\"Earth\",\"Earth\",\"Europa\",\"Earth\",\"Earth\",\"Earth\",\"Europa\",\"Earth\",\"Earth\",\"Earth\",\"Earth\",\"Earth\",\"Europa\",\"Mars\",\"Mars\",\"Earth\",\"Mars\",\"Mars\",\"Earth\",\"Earth\",\"Mars\",\"Europa\",null,\"Mars\",\"Mars\",\"Earth\",\"Earth\",\"Europa\",\"Earth\",\"Earth\",\"Earth\",\"Europa\",\"Europa\",\"Earth\",\"Earth\",\"Earth\",\"Earth\",\"Earth\",\"Earth\",\"Earth\",\"Earth\",\"Earth\",\"Earth\",\"Earth\",\"Earth\",\"Earth\",\"Earth\",\"Earth\",\"Europa\",\"Earth\",\"Mars\",\"Mars\",\"Mars\",\"Earth\",\"Mars\",\"Europa\",\"Earth\",\"Earth\",\"Mars\",\"Mars\",\"Mars\",\"Mars\",\"Mars\",\"Mars\",\"Mars\",\"Mars\",\"Mars\",\"Mars\",\"Europa\",\"Europa\",\"Mars\",\"Mars\",\"Mars\",null,\"Mars\",\"Mars\",\"Earth\",\"Earth\",\"Earth\",\"Earth\",\"Earth\",\"Mars\",\"Earth\",\"Earth\",\"Mars\",\"Europa\",\"Europa\",\"Europa\",\"Earth\",\"Earth\",\"Earth\",\"Mars\",\"Mars\",\"Earth\",\"Earth\",\"Earth\",\"Mars\",\"Earth\",\"Mars\",\"Earth\",\"Earth\",\"Europa\",\"Earth\",\"Earth\",\"Europa\",\"Europa\",\"Earth\",\"Earth\",\"Earth\",\"Earth\",\"Earth\",\"Earth\",\"Earth\",\"Earth\",\"Earth\",\"Earth\",\"Earth\",\"Earth\",\"Earth\",\"Earth\",\"Earth\",\"Earth\",\"Europa\",\"Earth\",\"Earth\",\"Earth\",\"Mars\",\"Europa\",\"Earth\",\"Earth\",\"Earth\",\"Earth\",\"Europa\",\"Earth\",\"Europa\",\"Europa\",\"Europa\",\"Mars\",\"Mars\",\"Mars\",\"Mars\",\"Earth\",\"Earth\",null,\"Mars\",\"Europa\",\"Mars\",\"Mars\",\"Earth\",\"Earth\",\"Earth\",\"Europa\",\"Earth\",\"Earth\",\"Earth\",\"Europa\",\"Europa\",\"Earth\",\"Earth\",\"Earth\",\"Earth\",\"Mars\",\"Mars\",\"Mars\",\"Mars\",\"Europa\",\"Europa\",\"Earth\",\"Earth\",\"Earth\",\"Earth\",\"Earth\",\"Mars\",\"Mars\",\"Mars\",\"Earth\",\"Mars\",\"Mars\",\"Mars\",\"Earth\",\"Europa\",\"Europa\",\"Europa\",\"Europa\",\"Europa\",\"Europa\",\"Earth\",\"Earth\",\"Europa\",\"Europa\",\"Europa\",\"Earth\",\"Earth\",\"Earth\",\"Earth\",\"Earth\",\"Earth\",\"Mars\",\"Mars\",\"Earth\",\"Earth\",\"Earth\",\"Europa\",\"Europa\",\"Earth\",\"Mars\",\"Earth\",\"Europa\",\"Europa\",\"Earth\",\"Earth\",null,\"Earth\",\"Earth\",\"Earth\",\"Earth\",\"Europa\",\"Mars\",\"Earth\",\"Earth\",\"Earth\",\"Europa\",\"Earth\",\"Earth\",\"Earth\",\"Earth\",\"Earth\",\"Europa\",\"Europa\",\"Europa\",\"Europa\",\"Europa\",\"Europa\",\"Europa\",\"Europa\",\"Mars\",\"Mars\",\"Mars\",\"Earth\",\"Earth\",\"Earth\",\"Europa\",\"Earth\",\"Earth\",\"Mars\",\"Mars\",\"Earth\",\"Earth\",\"Earth\",\"Earth\",\"Earth\",\"Earth\",\"Earth\",\"Earth\",\"Earth\",\"Earth\",\"Earth\",\"Earth\",null,\"Europa\",\"Earth\",\"Mars\",\"Mars\",\"Mars\",\"Mars\",\"Earth\",\"Earth\",\"Earth\",\"Earth\",\"Earth\",\"Mars\",\"Europa\",\"Mars\",\"Europa\",\"Europa\",\"Earth\",\"Earth\",\"Earth\",\"Mars\",\"Mars\",\"Mars\",\"Earth\",\"Earth\",\"Earth\",\"Mars\",\"Earth\",\"Earth\",\"Earth\",\"Mars\",\"Europa\",\"Europa\",\"Earth\",\"Earth\",\"Europa\",\"Europa\",\"Earth\",\"Europa\",\"Earth\",\"Earth\",\"Earth\",\"Mars\",\"Earth\",null,\"Earth\",\"Earth\",\"Earth\",\"Earth\",\"Mars\",\"Europa\",\"Europa\",\"Europa\",\"Earth\",\"Earth\",\"Earth\",\"Mars\",\"Europa\",\"Earth\",\"Earth\",\"Earth\",\"Earth\",\"Earth\",\"Earth\",\"Earth\",\"Earth\",\"Earth\",\"Earth\",\"Earth\",\"Europa\",\"Europa\",\"Earth\",\"Earth\",\"Earth\",\"Earth\",\"Earth\",\"Earth\",\"Europa\",\"Europa\",\"Earth\",\"Mars\",\"Earth\",\"Mars\",\"Mars\",\"Mars\",\"Earth\",\"Mars\",\"Earth\",\"Earth\",\"Earth\",\"Mars\",\"Mars\",\"Earth\",\"Earth\",\"Earth\",\"Earth\",\"Earth\",\"Earth\",\"Earth\",\"Earth\",\"Mars\",\"Earth\",\"Earth\",\"Earth\",\"Earth\",\"Mars\",\"Mars\",\"Mars\",\"Earth\",\"Earth\",\"Europa\",\"Europa\",\"Europa\",\"Europa\",\"Mars\",\"Mars\",\"Europa\",\"Europa\",\"Earth\",\"Earth\",\"Earth\",\"Earth\",\"Earth\",\"Europa\",\"Europa\",\"Earth\",\"Earth\",\"Earth\",\"Mars\",\"Earth\",\"Earth\",\"Earth\",\"Europa\",\"Earth\",\"Europa\",\"Earth\",\"Earth\",\"Earth\",\"Earth\",\"Earth\",\"Earth\",\"Earth\",\"Earth\",\"Earth\",\"Earth\",\"Europa\",\"Earth\",\"Earth\",\"Earth\",\"Earth\",\"Europa\",\"Europa\",\"Earth\",\"Earth\",\"Earth\",\"Earth\",\"Earth\",\"Mars\",\"Mars\",\"Earth\",\"Europa\",\"Mars\",\"Europa\",\"Earth\",\"Europa\",\"Earth\",\"Mars\",\"Europa\",\"Europa\",\"Mars\",\"Mars\",\"Earth\",\"Mars\",\"Europa\",\"Earth\",\"Earth\",\"Earth\",\"Earth\",\"Earth\",\"Mars\",\"Earth\",\"Earth\",\"Mars\",\"Europa\",\"Europa\",\"Mars\",\"Mars\",\"Earth\",\"Europa\",\"Mars\",\"Europa\",\"Mars\",\"Europa\",\"Europa\",\"Mars\",\"Mars\",\"Earth\",\"Earth\",\"Earth\",null,\"Mars\",\"Earth\",\"Europa\",\"Mars\",\"Earth\",\"Europa\",\"Europa\",null,\"Europa\",\"Earth\",\"Mars\",\"Earth\",\"Europa\",\"Europa\",\"Europa\",\"Earth\",\"Mars\",\"Earth\",\"Europa\",\"Europa\",\"Mars\",\"Mars\",\"Earth\",\"Mars\",\"Mars\",\"Earth\",\"Earth\",\"Earth\",\"Mars\",\"Mars\",\"Mars\",\"Mars\",\"Mars\",\"Mars\",\"Mars\",\"Earth\",\"Mars\",\"Earth\",null,\"Mars\",\"Mars\",\"Mars\",\"Europa\",\"Earth\",\"Earth\",\"Earth\",\"Earth\",\"Earth\",\"Earth\",\"Earth\",\"Earth\",\"Mars\",\"Mars\",\"Mars\",\"Mars\",\"Mars\",\"Earth\",\"Earth\",\"Europa\",\"Mars\",\"Mars\",\"Mars\",null,\"Earth\",null,\"Mars\",\"Mars\",\"Earth\",\"Earth\",\"Earth\",\"Mars\",\"Earth\",\"Mars\",\"Earth\",\"Earth\",\"Earth\",\"Earth\",\"Europa\",\"Earth\",null,\"Earth\",\"Mars\",\"Mars\",\"Earth\",null,\"Europa\",\"Earth\",\"Mars\",\"Mars\",\"Earth\",\"Earth\",\"Europa\",\"Mars\",\"Earth\",\"Mars\",null,\"Mars\",\"Europa\",\"Europa\",\"Europa\",\"Europa\",\"Europa\",\"Earth\",\"Europa\",\"Europa\",\"Earth\",\"Earth\",\"Earth\",\"Earth\",\"Earth\",\"Earth\",\"Earth\",\"Mars\",\"Earth\",\"Europa\",\"Earth\",\"Mars\",\"Earth\",\"Mars\",\"Europa\",\"Europa\",\"Europa\",\"Europa\",\"Earth\",\"Earth\",\"Mars\",\"Earth\",\"Earth\",\"Earth\",\"Earth\",\"Europa\",\"Europa\",\"Earth\",\"Mars\",\"Earth\",\"Earth\",\"Europa\",\"Mars\",\"Earth\",\"Earth\",\"Earth\",\"Earth\",\"Earth\",\"Europa\",\"Europa\",\"Earth\",\"Earth\",\"Earth\",\"Earth\",\"Earth\",\"Mars\",\"Earth\",\"Earth\",\"Earth\",\"Earth\",\"Earth\",\"Earth\",\"Earth\",\"Earth\",\"Earth\",\"Earth\",\"Earth\",\"Earth\",\"Earth\",\"Earth\",\"Europa\",\"Mars\",\"Mars\",\"Mars\",\"Mars\",\"Earth\",\"Earth\",\"Earth\",\"Mars\",\"Mars\",\"Mars\",\"Mars\",\"Europa\",\"Earth\",\"Mars\",\"Europa\",\"Mars\",\"Earth\",\"Earth\",\"Earth\",\"Europa\",\"Earth\",\"Earth\",\"Mars\",\"Mars\",\"Mars\",null,\"Earth\",\"Earth\",\"Earth\",\"Mars\",\"Europa\",\"Europa\",\"Europa\",\"Europa\",\"Europa\",\"Europa\",\"Europa\",\"Europa\",\"Earth\",\"Earth\",\"Mars\",\"Earth\",\"Earth\",\"Mars\",\"Mars\",\"Earth\",\"Earth\",\"Europa\",\"Earth\",\"Europa\",\"Earth\",\"Earth\",\"Earth\",\"Earth\",\"Earth\",\"Earth\",\"Mars\",\"Earth\",\"Earth\",\"Europa\",\"Earth\",\"Europa\",\"Earth\",\"Earth\",\"Earth\",\"Earth\",\"Earth\",\"Europa\",\"Europa\",null,\"Europa\",\"Europa\",\"Earth\",\"Earth\",\"Europa\",\"Europa\",\"Europa\",\"Europa\",\"Earth\",\"Earth\",\"Earth\",\"Earth\",\"Earth\",\"Earth\",\"Earth\",\"Earth\",\"Mars\",\"Mars\",\"Mars\",\"Mars\",\"Mars\",\"Earth\",\"Earth\",\"Earth\",\"Earth\",\"Earth\",\"Earth\",\"Earth\",\"Europa\",\"Europa\",\"Europa\",\"Mars\",\"Mars\",\"Mars\",\"Mars\",\"Earth\",\"Mars\",\"Europa\",\"Europa\",\"Europa\",\"Europa\",\"Europa\",\"Earth\",\"Earth\",\"Earth\",\"Earth\",\"Earth\",\"Earth\",\"Earth\",\"Earth\",\"Earth\",\"Earth\",\"Europa\",\"Earth\",\"Earth\",\"Earth\",\"Europa\",\"Mars\",\"Earth\",\"Earth\",\"Earth\",\"Earth\",\"Earth\",null,\"Europa\",\"Europa\",\"Europa\",\"Earth\",\"Mars\",\"Mars\",\"Earth\",\"Earth\",\"Earth\",\"Mars\",\"Earth\",\"Earth\",\"Earth\",\"Earth\",\"Earth\",\"Earth\",\"Mars\",\"Earth\",\"Earth\",\"Earth\",\"Earth\",\"Earth\",\"Earth\",\"Europa\",\"Earth\",\"Earth\",\"Europa\",\"Earth\",\"Earth\",\"Earth\",\"Earth\",\"Earth\",\"Earth\",\"Earth\",\"Earth\",\"Earth\",\"Earth\",\"Earth\",\"Europa\",\"Europa\",\"Earth\",\"Mars\",\"Earth\",\"Earth\",\"Europa\",\"Earth\",\"Earth\",\"Mars\",\"Earth\",\"Earth\",\"Earth\",\"Earth\",\"Earth\",\"Earth\",\"Europa\",\"Europa\",\"Earth\",\"Earth\",\"Europa\",\"Europa\",\"Earth\",\"Earth\",\"Earth\",\"Earth\",\"Europa\",\"Earth\",\"Earth\",\"Earth\",\"Earth\",\"Earth\",\"Earth\",\"Earth\",\"Earth\",\"Earth\",\"Earth\",\"Earth\",\"Earth\",\"Earth\",\"Europa\",\"Earth\",\"Earth\",\"Earth\",\"Europa\",\"Earth\",\"Europa\",\"Europa\",\"Europa\",\"Europa\",\"Earth\",\"Mars\",\"Europa\",\"Earth\",\"Earth\",\"Earth\",\"Earth\",\"Europa\",\"Europa\",\"Europa\",\"Earth\",\"Earth\",\"Earth\",\"Earth\",\"Mars\",\"Europa\",\"Earth\",\"Europa\",\"Europa\",\"Europa\",\"Earth\",\"Mars\",null,\"Earth\",\"Mars\",\"Earth\",\"Earth\",\"Earth\",\"Earth\",\"Earth\",\"Earth\",\"Earth\",\"Earth\",null,\"Europa\",\"Europa\",\"Earth\",\"Earth\",\"Earth\",\"Earth\",\"Earth\",\"Earth\",\"Earth\",\"Mars\",\"Mars\",\"Mars\",\"Mars\",\"Mars\",\"Mars\",\"Mars\",\"Earth\",\"Mars\",\"Earth\",\"Europa\",\"Earth\",\"Europa\",\"Earth\",\"Earth\",\"Earth\",\"Europa\",null,\"Earth\",\"Earth\",\"Earth\",\"Earth\",\"Earth\",\"Earth\",\"Europa\",\"Earth\",\"Europa\",\"Earth\",\"Europa\",\"Europa\",\"Earth\",\"Earth\",\"Mars\",\"Earth\",\"Earth\",\"Earth\",\"Earth\",\"Earth\",\"Earth\",\"Earth\",\"Europa\",\"Europa\",\"Europa\",\"Earth\",\"Earth\",\"Mars\",\"Mars\",\"Mars\",\"Earth\",\"Earth\",\"Earth\",\"Earth\",\"Earth\",\"Earth\",\"Earth\",\"Earth\",\"Earth\",\"Mars\",\"Mars\",\"Mars\",\"Earth\",\"Europa\",\"Mars\",\"Earth\",\"Earth\",\"Earth\",\"Earth\",\"Earth\",\"Earth\",\"Earth\",\"Earth\",\"Earth\",\"Earth\",\"Mars\",\"Mars\",\"Earth\",\"Earth\",\"Mars\",\"Mars\",\"Earth\",\"Earth\",\"Earth\",\"Earth\",\"Europa\",\"Earth\",\"Mars\",\"Mars\",\"Mars\",\"Earth\",\"Mars\",\"Earth\",\"Earth\",\"Earth\",\"Earth\",\"Earth\",\"Earth\",\"Earth\",\"Earth\",\"Earth\",\"Europa\",\"Earth\",\"Earth\",\"Europa\",\"Earth\",\"Earth\",\"Earth\",\"Earth\",\"Mars\",\"Earth\",\"Europa\",\"Europa\",\"Europa\",\"Europa\",\"Europa\",\"Europa\",\"Europa\",\"Europa\",\"Europa\",\"Europa\",\"Earth\",\"Europa\",\"Europa\",\"Europa\",\"Europa\",\"Mars\",\"Earth\",\"Earth\",\"Earth\",null,\"Earth\",\"Earth\",\"Earth\",\"Earth\",\"Earth\",\"Mars\",\"Europa\",\"Mars\",\"Mars\",\"Earth\",\"Earth\",\"Mars\",\"Mars\",\"Mars\",\"Mars\",\"Mars\",\"Earth\",\"Europa\",\"Europa\",\"Europa\",\"Europa\",\"Europa\",\"Europa\",\"Europa\",\"Europa\",\"Mars\",\"Earth\",\"Earth\",\"Earth\",\"Earth\",\"Earth\",\"Earth\",\"Earth\",\"Earth\",\"Europa\",\"Mars\",\"Earth\",\"Mars\",\"Mars\",\"Europa\",\"Mars\",\"Europa\",\"Europa\",\"Europa\",\"Europa\",\"Europa\",\"Mars\",null,\"Mars\",\"Mars\",\"Mars\",\"Mars\",\"Mars\",\"Earth\",\"Europa\",\"Earth\",\"Mars\",null,\"Earth\",\"Europa\",\"Earth\",\"Mars\",\"Earth\",\"Earth\",\"Earth\",\"Earth\",\"Mars\",\"Mars\",\"Earth\",\"Earth\",\"Mars\",\"Europa\",\"Europa\",\"Earth\",\"Earth\",\"Earth\",\"Earth\",\"Earth\",\"Europa\",\"Europa\",\"Earth\",\"Earth\",\"Mars\",\"Mars\",\"Earth\",\"Earth\",\"Earth\",\"Earth\",\"Earth\",\"Earth\",\"Earth\",\"Earth\",\"Earth\",\"Earth\",\"Earth\",\"Mars\",\"Europa\",\"Europa\",\"Europa\",\"Europa\",\"Europa\",\"Europa\",\"Earth\",\"Earth\",\"Earth\",\"Earth\",\"Earth\",\"Earth\",\"Earth\",\"Earth\",null,\"Earth\",null,\"Earth\",\"Mars\",\"Mars\",\"Mars\",\"Mars\",\"Mars\",\"Earth\",\"Earth\",\"Europa\",null,\"Europa\",\"Mars\",\"Earth\",\"Earth\",\"Earth\",\"Mars\",\"Mars\",\"Earth\",\"Europa\",\"Earth\",\"Mars\",\"Earth\",\"Earth\",\"Mars\",\"Europa\",\"Europa\",\"Europa\",\"Mars\",\"Earth\",\"Earth\",\"Mars\",\"Mars\",\"Europa\",null,\"Europa\",\"Europa\",\"Europa\",\"Earth\",\"Earth\",\"Mars\",\"Mars\",\"Earth\",\"Mars\",\"Europa\",\"Earth\",\"Earth\",\"Earth\",\"Earth\",\"Earth\",\"Europa\",\"Earth\",\"Mars\",\"Earth\",\"Earth\",\"Earth\",\"Earth\",\"Earth\",\"Europa\",\"Europa\",\"Europa\",\"Mars\",\"Mars\",\"Mars\",\"Mars\",\"Earth\",\"Earth\",\"Earth\",\"Earth\",\"Earth\",\"Europa\",\"Europa\",\"Earth\",null,\"Europa\",\"Europa\",\"Earth\",\"Europa\",\"Europa\",\"Europa\",\"Europa\",\"Europa\",\"Mars\",\"Mars\",\"Mars\",\"Europa\",\"Mars\",\"Mars\",\"Earth\",\"Europa\",\"Europa\",\"Earth\",\"Mars\",\"Earth\",\"Europa\",\"Europa\",\"Earth\",\"Earth\",\"Europa\",\"Mars\",\"Earth\",\"Earth\",\"Earth\",\"Earth\",\"Earth\",\"Earth\",\"Earth\",\"Earth\",\"Earth\",\"Mars\",\"Europa\",\"Europa\",\"Europa\",\"Europa\",\"Europa\",\"Europa\",\"Earth\",\"Earth\",\"Earth\",\"Europa\",\"Europa\",\"Mars\",\"Mars\",\"Earth\",\"Earth\",\"Europa\",\"Europa\",\"Europa\",\"Earth\",\"Earth\",\"Mars\",\"Earth\",\"Earth\",\"Earth\",\"Earth\",\"Earth\",\"Earth\",\"Earth\",\"Earth\",\"Earth\",\"Earth\",\"Earth\",\"Europa\",\"Earth\",\"Earth\",\"Earth\",\"Earth\",\"Earth\",\"Earth\",\"Mars\",\"Earth\",\"Europa\",\"Earth\",\"Europa\",\"Earth\",\"Earth\",\"Mars\",\"Earth\",\"Europa\",\"Europa\",\"Europa\",\"Europa\",\"Earth\",\"Earth\",\"Mars\",\"Mars\",\"Europa\",\"Europa\",\"Europa\",\"Europa\",\"Mars\",\"Earth\",\"Mars\",\"Mars\",\"Mars\",\"Mars\",\"Mars\",\"Earth\",\"Europa\",\"Europa\",\"Mars\",\"Earth\",\"Earth\",\"Earth\",\"Earth\",\"Earth\",\"Mars\",\"Earth\",\"Earth\",\"Earth\",\"Earth\",\"Earth\",\"Mars\",\"Mars\",\"Europa\",\"Mars\",\"Earth\",\"Mars\",\"Mars\",\"Earth\",\"Earth\",\"Earth\",\"Earth\",\"Mars\",\"Earth\",\"Earth\",\"Earth\",\"Earth\",\"Mars\",\"Mars\",\"Mars\",\"Europa\",\"Europa\",\"Earth\",\"Mars\",null,\"Europa\",null,\"Earth\",\"Earth\",\"Earth\",\"Mars\",\"Earth\",\"Earth\",\"Europa\",\"Mars\",\"Mars\",\"Mars\",\"Earth\",\"Earth\",\"Europa\",\"Earth\",\"Earth\",\"Mars\",\"Earth\",\"Earth\",\"Europa\",\"Europa\",\"Earth\",\"Earth\",\"Earth\",\"Earth\",\"Europa\",\"Earth\",\"Europa\",\"Mars\",\"Earth\",\"Earth\",\"Earth\",\"Earth\",\"Earth\",\"Earth\",\"Earth\",\"Earth\",\"Europa\",\"Europa\",\"Europa\",\"Earth\",\"Earth\",\"Earth\",\"Earth\",\"Earth\",\"Earth\",\"Europa\",null,\"Europa\",\"Earth\",\"Earth\",\"Earth\",\"Earth\",\"Mars\",\"Europa\",\"Europa\",\"Europa\",\"Earth\",\"Europa\",\"Europa\",\"Earth\",\"Earth\",\"Earth\",\"Earth\",\"Earth\",\"Earth\",\"Mars\",\"Earth\",\"Earth\",\"Earth\",\"Earth\",\"Earth\",\"Europa\",\"Earth\",\"Earth\",\"Earth\",\"Earth\",\"Earth\",\"Earth\",\"Earth\",\"Earth\",\"Earth\",null,\"Europa\",\"Europa\",\"Mars\",\"Mars\",\"Earth\",\"Earth\",\"Mars\",\"Mars\",\"Earth\",\"Europa\",\"Mars\",\"Earth\",\"Europa\",\"Earth\",\"Earth\",null,\"Earth\",\"Europa\",\"Europa\",\"Europa\",\"Earth\",\"Earth\",null,\"Earth\",\"Earth\",\"Earth\",\"Earth\",\"Earth\",\"Europa\",\"Earth\",\"Mars\",\"Mars\",\"Earth\",\"Earth\",\"Mars\",\"Earth\",\"Europa\",\"Europa\",\"Europa\",\"Europa\",\"Earth\",null,\"Mars\",\"Earth\",\"Earth\",\"Earth\",\"Earth\",\"Earth\",\"Mars\",\"Earth\",\"Earth\",\"Earth\",\"Earth\",\"Earth\",\"Earth\",\"Earth\",\"Earth\",\"Earth\",\"Earth\",\"Europa\",\"Europa\",\"Earth\",\"Earth\",\"Earth\",\"Earth\",null,\"Earth\",null,\"Earth\",\"Earth\",\"Earth\",\"Europa\",\"Europa\",\"Earth\",\"Earth\",\"Earth\",\"Earth\",\"Earth\",\"Europa\",\"Earth\",\"Mars\",\"Earth\",\"Earth\",\"Earth\",\"Europa\",\"Europa\",\"Mars\",\"Mars\",\"Mars\",\"Mars\",\"Earth\",\"Europa\",\"Europa\",\"Earth\",\"Earth\",\"Earth\",\"Earth\",\"Europa\",\"Mars\",\"Mars\",\"Earth\",\"Earth\",\"Earth\",\"Earth\",\"Earth\",\"Earth\",\"Earth\",\"Earth\",\"Earth\",\"Earth\",\"Earth\",\"Earth\",\"Earth\",\"Earth\",\"Earth\",\"Earth\",\"Earth\",\"Earth\",\"Earth\",\"Mars\",\"Mars\",\"Europa\",\"Europa\",\"Mars\",\"Earth\",\"Earth\",\"Earth\",\"Earth\",\"Earth\",\"Europa\",\"Earth\",\"Earth\",\"Mars\",\"Earth\",\"Earth\",\"Mars\",\"Mars\",\"Earth\",\"Earth\",\"Mars\",\"Mars\",\"Mars\",\"Mars\",\"Earth\",\"Earth\",\"Europa\",\"Europa\",\"Mars\",\"Mars\",\"Europa\",\"Europa\",\"Mars\",\"Earth\",\"Earth\",\"Mars\",\"Mars\",\"Mars\",\"Earth\",\"Earth\",\"Earth\",\"Europa\",\"Earth\",\"Europa\",\"Europa\",\"Europa\",null,\"Earth\",\"Earth\",\"Mars\",\"Earth\",\"Earth\",\"Earth\",\"Earth\",\"Earth\",\"Earth\",\"Europa\",\"Earth\",\"Earth\",\"Earth\",\"Europa\",null,\"Europa\",\"Mars\",\"Europa\",\"Europa\",\"Earth\",\"Earth\",\"Earth\",\"Earth\",\"Earth\",\"Earth\",\"Earth\",\"Earth\",\"Earth\",\"Earth\",\"Mars\",\"Earth\",\"Mars\",\"Europa\",\"Earth\",\"Earth\",\"Europa\",\"Earth\",\"Earth\",\"Mars\",\"Earth\",\"Mars\",\"Mars\",null,\"Earth\",\"Mars\",\"Mars\",\"Europa\",\"Earth\",\"Earth\",\"Europa\",null,\"Earth\",\"Earth\",\"Earth\",\"Mars\",\"Mars\",\"Earth\",\"Earth\",\"Earth\",\"Earth\",\"Earth\",\"Earth\",\"Earth\",\"Europa\",\"Mars\",\"Mars\",\"Earth\",\"Europa\",\"Europa\",\"Europa\",\"Earth\",\"Earth\",\"Earth\",\"Earth\",\"Europa\",\"Europa\",\"Earth\",\"Mars\",\"Earth\",\"Earth\",\"Earth\",\"Earth\",\"Mars\",\"Europa\",\"Earth\",\"Earth\",\"Mars\",\"Europa\",\"Earth\",\"Earth\",\"Mars\",\"Earth\",\"Earth\",\"Earth\",\"Earth\",\"Mars\",\"Earth\",\"Europa\",\"Earth\",\"Earth\",\"Earth\",\"Earth\",null,\"Earth\",\"Earth\",\"Earth\",\"Earth\",\"Earth\",\"Earth\",\"Europa\",\"Europa\",\"Europa\",null,\"Europa\",\"Europa\",\"Mars\",\"Earth\",\"Earth\",\"Europa\",\"Europa\",\"Earth\",\"Earth\",\"Earth\",\"Earth\",\"Earth\",\"Earth\",\"Earth\",\"Earth\",\"Earth\",\"Earth\",\"Earth\",\"Mars\",\"Europa\",\"Mars\",\"Earth\",\"Earth\",\"Earth\",\"Earth\",\"Earth\",\"Earth\",\"Earth\",\"Europa\",\"Europa\",\"Europa\",\"Europa\",\"Europa\",\"Earth\",\"Earth\",\"Earth\",\"Earth\",\"Mars\",\"Mars\",\"Mars\",\"Mars\",\"Mars\",\"Mars\",\"Mars\",\"Earth\",\"Europa\",\"Europa\",\"Europa\",\"Europa\",\"Europa\",\"Earth\",\"Earth\",\"Europa\",\"Earth\",\"Earth\",\"Earth\",\"Europa\",\"Europa\",\"Europa\",\"Earth\",\"Europa\",\"Earth\",\"Earth\",\"Earth\",\"Earth\",\"Mars\",\"Earth\",\"Europa\",\"Europa\",\"Earth\",\"Europa\",\"Europa\",\"Europa\",\"Europa\",\"Europa\",\"Europa\",\"Earth\",\"Mars\",\"Earth\",\"Earth\",\"Earth\",\"Earth\",\"Mars\",\"Europa\",\"Earth\",\"Europa\",\"Europa\",\"Europa\",\"Europa\",\"Europa\",\"Europa\",\"Earth\",\"Earth\",\"Europa\",\"Europa\",\"Europa\",\"Earth\",\"Earth\",\"Europa\",\"Europa\",\"Europa\",\"Europa\",\"Mars\",\"Earth\",\"Earth\",\"Earth\",\"Earth\",\"Mars\",\"Mars\",\"Mars\",\"Mars\",\"Mars\",\"Earth\",\"Earth\",\"Europa\",\"Mars\",\"Mars\",\"Mars\",\"Mars\",\"Earth\",\"Earth\",\"Mars\",\"Mars\",\"Europa\",\"Europa\",\"Europa\",\"Earth\",\"Earth\",\"Earth\",\"Mars\",\"Earth\",\"Mars\",\"Mars\",\"Mars\",\"Earth\",\"Earth\",\"Mars\",\"Mars\",\"Mars\",\"Earth\",\"Earth\",\"Earth\",\"Earth\",\"Earth\",\"Earth\",\"Earth\",\"Earth\",\"Earth\",\"Earth\",\"Europa\",\"Europa\",\"Europa\",\"Europa\",\"Europa\",\"Europa\",\"Earth\",\"Earth\",\"Earth\",\"Earth\",\"Earth\",\"Earth\",\"Earth\",\"Earth\",\"Earth\",\"Earth\",\"Earth\",\"Earth\",\"Mars\",\"Mars\",\"Mars\",\"Earth\",\"Earth\",\"Europa\",\"Earth\",\"Europa\",\"Europa\",\"Europa\",\"Earth\",\"Earth\",\"Mars\",\"Mars\",\"Mars\",null,\"Mars\",\"Earth\",\"Mars\",\"Earth\",\"Earth\",\"Earth\",\"Earth\",\"Earth\",\"Earth\",\"Earth\",\"Earth\",\"Earth\",\"Earth\",\"Earth\",\"Earth\",\"Mars\",\"Mars\",\"Earth\",\"Europa\",\"Europa\",\"Europa\",\"Europa\",\"Earth\",\"Earth\",\"Earth\",\"Earth\",\"Mars\",\"Earth\",\"Earth\",\"Mars\",\"Earth\",\"Mars\",\"Mars\",\"Europa\",\"Europa\",\"Mars\",\"Europa\",\"Earth\",\"Earth\",\"Earth\",\"Earth\",\"Europa\",\"Mars\",\"Earth\",\"Europa\",\"Europa\",\"Europa\",\"Europa\",\"Earth\",\"Earth\",\"Earth\",\"Earth\",\"Earth\",\"Europa\",\"Europa\",\"Europa\",\"Europa\",\"Europa\",\"Europa\",\"Earth\",\"Earth\",\"Earth\",\"Europa\",\"Earth\",\"Mars\",\"Mars\",\"Mars\",\"Mars\",\"Earth\",\"Mars\",\"Earth\",\"Earth\",\"Mars\",\"Earth\",\"Europa\",\"Mars\",\"Mars\",\"Mars\",\"Europa\",\"Mars\",\"Mars\",\"Mars\",\"Europa\",\"Europa\",\"Europa\",\"Earth\",\"Mars\",\"Europa\",\"Earth\",\"Earth\",\"Earth\",\"Earth\",\"Mars\",\"Mars\",\"Mars\",\"Earth\",\"Europa\",\"Earth\",\"Mars\",\"Europa\",\"Mars\",\"Mars\",\"Mars\",\"Mars\",\"Earth\",\"Earth\",\"Europa\",\"Europa\",\"Europa\",\"Europa\",\"Europa\",\"Europa\",\"Earth\",\"Earth\",null,\"Earth\",\"Earth\",\"Earth\",\"Earth\",\"Earth\",\"Earth\",\"Europa\",\"Earth\",\"Mars\",\"Mars\",\"Earth\",\"Earth\",\"Mars\",\"Europa\",\"Europa\",\"Europa\",\"Earth\",\"Europa\",\"Europa\",\"Earth\",\"Europa\",\"Europa\",\"Europa\",\"Europa\",\"Mars\",null,\"Europa\",\"Earth\",\"Earth\",\"Mars\",\"Earth\",\"Earth\",\"Europa\",\"Earth\",\"Earth\",\"Mars\",\"Mars\",\"Europa\",\"Europa\",\"Europa\",\"Europa\",\"Europa\",\"Europa\",null,\"Earth\",\"Earth\",\"Earth\",\"Earth\",\"Earth\",\"Earth\",null,\"Earth\",\"Earth\",\"Mars\",\"Mars\",\"Mars\",null,\"Earth\",\"Europa\",\"Europa\",\"Earth\",\"Europa\",\"Europa\",null,\"Earth\",\"Earth\",\"Europa\",\"Europa\",\"Earth\",\"Earth\",\"Mars\",\"Mars\",\"Earth\",\"Mars\",\"Europa\",\"Earth\",\"Earth\",\"Earth\",null,\"Europa\",\"Europa\",\"Earth\",\"Earth\",\"Earth\",\"Earth\",\"Earth\",\"Europa\",\"Europa\",\"Earth\",\"Earth\",\"Mars\",\"Earth\",\"Earth\",\"Earth\",\"Earth\",\"Europa\",\"Europa\",\"Earth\",\"Europa\",\"Earth\",\"Earth\",\"Earth\",\"Earth\",\"Earth\",\"Earth\",\"Earth\",\"Mars\",\"Earth\",\"Mars\",\"Earth\",\"Earth\",\"Earth\",\"Mars\",\"Earth\",\"Mars\",\"Mars\",\"Earth\",\"Earth\",\"Earth\",\"Earth\",\"Mars\",\"Europa\",\"Earth\",\"Europa\",\"Mars\",\"Mars\",\"Earth\",\"Earth\",\"Earth\",\"Earth\",\"Earth\",\"Earth\",\"Earth\",\"Earth\",\"Earth\",\"Earth\",\"Earth\",\"Earth\",\"Earth\",\"Earth\",\"Earth\",\"Earth\",\"Earth\",\"Earth\",\"Europa\",\"Europa\",\"Earth\",\"Mars\",\"Mars\",\"Mars\",\"Earth\",\"Earth\",\"Earth\",\"Europa\",\"Earth\",\"Earth\",\"Earth\",\"Earth\",\"Europa\",\"Earth\",\"Europa\",\"Europa\",\"Europa\",\"Europa\",\"Europa\",\"Europa\",\"Europa\",\"Earth\",\"Earth\",null,\"Europa\",null,\"Mars\",\"Europa\",\"Earth\",\"Mars\",\"Earth\",\"Earth\",\"Earth\",\"Earth\",\"Europa\",\"Earth\",\"Earth\",\"Earth\",\"Europa\",\"Europa\",\"Earth\",\"Europa\",\"Europa\",\"Europa\",\"Europa\",\"Europa\",\"Earth\",\"Earth\",\"Earth\",\"Earth\",\"Earth\",\"Mars\",\"Mars\",\"Mars\",\"Mars\",\"Earth\",\"Europa\",\"Mars\",\"Mars\",\"Earth\",\"Earth\",\"Earth\",\"Mars\",\"Mars\",\"Mars\",\"Mars\",\"Mars\",\"Mars\",\"Europa\",\"Earth\",\"Europa\",\"Earth\",\"Mars\",\"Mars\",\"Europa\",\"Earth\",\"Earth\",\"Earth\",\"Earth\",\"Earth\",\"Europa\",\"Europa\",\"Europa\",\"Earth\",\"Earth\",\"Earth\",\"Mars\",\"Earth\",\"Earth\",\"Europa\",\"Europa\",\"Europa\",\"Earth\",\"Europa\",\"Europa\",\"Europa\",\"Europa\",\"Earth\",\"Earth\",\"Earth\",\"Earth\",\"Earth\",\"Mars\",\"Earth\",\"Europa\",\"Earth\",\"Earth\",\"Mars\",\"Earth\",\"Earth\",\"Earth\",\"Earth\",\"Earth\",\"Earth\",\"Mars\",\"Earth\",\"Mars\",\"Europa\",\"Europa\",\"Europa\",\"Europa\",\"Europa\",\"Europa\",\"Europa\",\"Europa\",\"Earth\",\"Europa\",\"Mars\",\"Mars\",\"Earth\",\"Earth\",\"Europa\",\"Mars\",\"Earth\",\"Europa\",\"Earth\",\"Mars\",\"Mars\",\"Mars\",\"Europa\",\"Mars\",\"Earth\",null,\"Mars\",\"Mars\",\"Mars\",\"Europa\",\"Earth\",\"Earth\",\"Earth\",\"Earth\",\"Earth\",\"Earth\",\"Earth\",\"Earth\",\"Europa\",\"Europa\",\"Earth\",\"Earth\",\"Earth\",\"Earth\",\"Earth\",\"Earth\",\"Earth\",\"Earth\",\"Europa\",\"Mars\",\"Mars\",\"Earth\",\"Earth\",\"Europa\",\"Europa\",\"Europa\",\"Europa\",\"Europa\",\"Europa\",\"Mars\",\"Mars\",\"Earth\",\"Earth\",\"Earth\",\"Mars\",\"Mars\",\"Earth\",\"Mars\",\"Earth\",\"Earth\",\"Earth\",\"Mars\",\"Mars\",\"Earth\",\"Mars\",\"Europa\",\"Earth\",\"Mars\",\"Earth\",\"Earth\",\"Europa\",\"Earth\",\"Mars\",\"Earth\",null,\"Mars\",\"Earth\",\"Earth\",null,null,\"Europa\",\"Mars\",\"Europa\",\"Europa\",\"Earth\",\"Earth\",\"Earth\",\"Earth\",\"Mars\",\"Earth\",\"Earth\",\"Europa\",\"Europa\",\"Europa\",\"Europa\",\"Earth\",\"Earth\",\"Earth\",\"Earth\",\"Earth\",\"Europa\",\"Europa\",\"Earth\",\"Earth\",\"Mars\",\"Mars\",\"Earth\",\"Earth\",\"Earth\",\"Mars\",\"Europa\",\"Earth\",\"Earth\",\"Earth\",\"Europa\",\"Earth\",\"Earth\",\"Earth\",\"Earth\",\"Earth\",\"Earth\",\"Europa\",\"Europa\",\"Europa\",\"Europa\",\"Europa\",\"Europa\",\"Europa\",\"Earth\",\"Earth\",\"Mars\",\"Europa\",\"Europa\",\"Earth\",\"Earth\",\"Earth\",\"Mars\",\"Earth\",\"Earth\",\"Europa\",\"Mars\",\"Earth\",\"Earth\",\"Earth\",\"Earth\",\"Earth\",\"Mars\",\"Europa\",\"Mars\",\"Earth\",\"Europa\",\"Europa\",\"Europa\",\"Earth\",\"Europa\",\"Europa\",\"Europa\",\"Earth\",\"Earth\",\"Earth\",\"Earth\",\"Earth\",\"Earth\",\"Mars\",\"Earth\",\"Earth\",\"Earth\",\"Europa\",\"Europa\",\"Europa\",\"Europa\",\"Europa\",\"Earth\",\"Mars\",\"Earth\",\"Europa\",\"Earth\",\"Europa\",\"Earth\",\"Earth\",\"Mars\",\"Mars\",\"Mars\",\"Earth\",\"Europa\",\"Mars\",\"Earth\",\"Mars\",\"Earth\",\"Europa\",\"Earth\",\"Earth\",\"Mars\",\"Mars\",\"Earth\",\"Mars\",\"Earth\",\"Mars\",\"Europa\",\"Mars\",\"Mars\",\"Mars\",\"Earth\",null,\"Earth\",\"Europa\",\"Europa\",\"Europa\",\"Earth\",\"Mars\",\"Mars\",\"Mars\",\"Earth\",\"Earth\",\"Earth\",\"Earth\",\"Europa\",\"Earth\",\"Mars\",\"Earth\",\"Earth\",\"Earth\",\"Mars\",\"Mars\",\"Earth\",\"Europa\",\"Europa\",\"Earth\",\"Earth\",\"Earth\",\"Earth\",\"Earth\",\"Earth\",\"Europa\",\"Europa\",\"Earth\",\"Earth\",\"Europa\",\"Europa\",\"Earth\",\"Earth\",\"Earth\",\"Mars\",\"Europa\",\"Europa\",\"Earth\",\"Earth\",\"Earth\",\"Earth\",\"Earth\",\"Earth\",\"Earth\",\"Earth\",\"Earth\",\"Europa\",\"Earth\",\"Mars\",\"Europa\",\"Europa\",\"Europa\",\"Europa\",\"Earth\",\"Earth\",\"Mars\",\"Mars\",\"Earth\",\"Earth\",\"Europa\",\"Europa\",\"Europa\",\"Earth\",\"Earth\",\"Earth\",\"Earth\",\"Mars\",\"Europa\",\"Europa\",null,\"Europa\",\"Europa\",\"Europa\",\"Europa\",\"Europa\",\"Earth\",\"Earth\",\"Earth\",\"Europa\",\"Earth\",\"Europa\",\"Europa\",\"Earth\",\"Earth\",\"Earth\",\"Mars\",\"Mars\",\"Mars\",\"Mars\",\"Mars\",\"Europa\",\"Europa\",\"Europa\",\"Earth\",\"Earth\",\"Mars\",\"Europa\",\"Earth\",\"Earth\",\"Europa\",\"Earth\",\"Earth\",\"Europa\",\"Mars\",\"Mars\",\"Earth\",\"Europa\",\"Mars\",null,\"Earth\",\"Europa\",\"Europa\",\"Earth\",\"Earth\",\"Europa\",\"Europa\",\"Earth\",\"Europa\",\"Europa\",\"Europa\",\"Earth\",\"Earth\",\"Earth\",\"Earth\",\"Earth\",\"Earth\",\"Earth\",\"Europa\",\"Earth\",\"Europa\",\"Earth\",\"Earth\",\"Mars\",\"Europa\",\"Earth\",\"Mars\",\"Earth\",\"Mars\",\"Earth\",\"Earth\",\"Earth\",\"Earth\",\"Europa\",\"Earth\",\"Earth\",\"Europa\",\"Earth\",\"Earth\",\"Earth\",\"Earth\",\"Mars\",\"Europa\",\"Europa\",\"Europa\",\"Earth\",\"Mars\",\"Mars\",\"Europa\",\"Europa\",\"Mars\",\"Earth\",\"Mars\",\"Earth\",\"Earth\",null,\"Mars\",\"Earth\",\"Earth\",\"Earth\",\"Earth\",\"Europa\",null,\"Europa\",\"Europa\",\"Earth\",\"Earth\",\"Europa\",\"Earth\",\"Mars\",\"Earth\",\"Mars\",\"Europa\",\"Mars\",\"Earth\",\"Europa\",\"Europa\",\"Europa\",\"Mars\",\"Mars\",\"Earth\",\"Earth\",\"Earth\",\"Mars\",\"Mars\",\"Earth\",\"Europa\",\"Europa\",\"Europa\",\"Mars\",\"Europa\",\"Europa\",\"Mars\",\"Mars\",\"Europa\",\"Earth\",\"Earth\",\"Europa\",\"Earth\",\"Europa\",\"Europa\",\"Earth\",\"Earth\",\"Earth\",\"Earth\",\"Earth\",\"Earth\",\"Earth\",\"Earth\",\"Earth\",\"Earth\",\"Earth\",\"Earth\",\"Mars\",\"Europa\",\"Europa\",\"Earth\",\"Mars\",\"Mars\",\"Earth\",\"Europa\",\"Europa\",\"Mars\",\"Mars\",\"Earth\",\"Earth\",\"Europa\",\"Europa\",\"Earth\",\"Earth\",null,\"Mars\",\"Mars\",\"Earth\",null,\"Earth\",\"Earth\",null,\"Mars\",\"Earth\",\"Earth\",\"Earth\",\"Earth\",\"Earth\",\"Mars\",\"Mars\",\"Earth\",\"Mars\",\"Earth\",\"Earth\",\"Earth\",\"Earth\",\"Earth\",null,\"Earth\",\"Earth\",\"Earth\",\"Earth\",\"Earth\",\"Earth\",null,\"Mars\",\"Mars\",\"Europa\",\"Europa\",\"Earth\",\"Earth\",\"Europa\",\"Europa\",\"Earth\",\"Earth\",\"Earth\",\"Earth\",\"Mars\",\"Mars\",\"Europa\",\"Earth\",\"Mars\",\"Mars\",\"Earth\",\"Mars\",\"Mars\",\"Earth\",null,\"Mars\",\"Mars\",\"Earth\",\"Earth\",\"Earth\",\"Earth\",null,\"Earth\",\"Earth\",\"Earth\",\"Europa\",\"Europa\",\"Europa\",\"Europa\",\"Earth\",\"Europa\",\"Earth\",\"Earth\",\"Earth\",\"Earth\",\"Earth\",\"Earth\",\"Earth\",null,\"Earth\",\"Europa\",\"Earth\",\"Earth\",\"Earth\",\"Earth\",\"Earth\",\"Earth\",\"Earth\",\"Mars\",\"Earth\",\"Earth\",\"Earth\",\"Europa\",\"Earth\",\"Earth\",\"Earth\",\"Earth\",\"Earth\",\"Mars\",\"Earth\",\"Earth\",\"Europa\",\"Earth\",\"Earth\",\"Earth\",\"Mars\",\"Earth\",\"Earth\",\"Earth\",\"Earth\",\"Earth\",\"Earth\",\"Earth\",\"Europa\",\"Europa\",\"Europa\",\"Mars\",\"Europa\",\"Earth\",\"Earth\",\"Earth\",\"Earth\",\"Earth\",\"Earth\",\"Mars\",\"Earth\",\"Mars\",\"Earth\",\"Earth\",\"Earth\",\"Europa\",\"Earth\",\"Earth\",\"Earth\",\"Earth\",\"Earth\",\"Europa\",\"Europa\",\"Earth\",\"Earth\",\"Europa\",\"Europa\",\"Europa\",\"Europa\",\"Europa\",\"Mars\",\"Earth\",\"Mars\",\"Earth\",null,\"Earth\",\"Earth\",\"Earth\",\"Mars\",\"Mars\",\"Earth\",\"Earth\",\"Earth\",\"Mars\",\"Earth\",\"Earth\",\"Earth\",\"Mars\",\"Europa\",\"Europa\",\"Europa\",null,\"Europa\",\"Europa\",\"Earth\",\"Earth\",\"Earth\",\"Europa\",\"Europa\",\"Europa\",\"Mars\",\"Mars\",\"Mars\",\"Mars\",\"Earth\",\"Mars\",\"Mars\",\"Europa\",\"Earth\",\"Earth\",\"Europa\",\"Europa\",\"Earth\",\"Europa\",\"Earth\",\"Europa\",\"Earth\",\"Earth\",\"Mars\",\"Mars\",\"Earth\",\"Earth\",\"Earth\",\"Earth\",\"Earth\",\"Earth\",\"Europa\",\"Mars\",\"Mars\",\"Mars\",\"Earth\",\"Europa\",\"Europa\",\"Europa\",\"Earth\",\"Earth\",\"Mars\",\"Earth\",\"Earth\",\"Europa\",\"Europa\",\"Earth\",\"Europa\",\"Mars\",\"Earth\",\"Earth\",\"Earth\",\"Earth\",\"Europa\",\"Europa\",\"Europa\",\"Mars\",\"Mars\",\"Mars\",\"Earth\",\"Earth\",\"Earth\",\"Europa\",\"Europa\",null,\"Europa\",\"Europa\",\"Europa\",\"Europa\",\"Earth\",\"Earth\",\"Earth\",\"Earth\",\"Earth\",\"Earth\",\"Earth\",\"Mars\",\"Mars\",\"Earth\",\"Europa\",\"Europa\",\"Europa\",\"Europa\",\"Earth\",null,\"Mars\",\"Mars\",\"Earth\",\"Mars\",\"Mars\",\"Mars\",\"Mars\",\"Earth\",\"Earth\",\"Europa\",\"Earth\",\"Europa\",\"Europa\",\"Earth\",\"Europa\",\"Europa\",\"Earth\",\"Earth\",\"Earth\",\"Europa\",\"Earth\",\"Earth\",\"Earth\",\"Europa\",\"Earth\",\"Earth\",\"Europa\",\"Mars\",\"Mars\",\"Earth\",\"Earth\",\"Europa\",\"Europa\",\"Europa\",\"Europa\",\"Europa\",\"Europa\",\"Europa\",\"Europa\",\"Europa\",\"Earth\",\"Mars\",\"Earth\",\"Earth\",\"Earth\",\"Earth\",\"Earth\",\"Europa\",\"Europa\",\"Mars\",\"Europa\",\"Europa\",\"Europa\",\"Earth\",\"Earth\",\"Earth\",\"Earth\",\"Europa\",\"Earth\",\"Europa\",\"Europa\",\"Europa\",\"Earth\",\"Earth\",\"Mars\",\"Earth\",\"Earth\",\"Earth\",\"Earth\",\"Earth\",\"Earth\",\"Earth\",\"Earth\",\"Mars\",\"Mars\",\"Europa\",\"Europa\",\"Europa\",\"Earth\",\"Earth\",\"Earth\",\"Earth\",\"Earth\",\"Earth\",\"Europa\",\"Europa\",\"Europa\",\"Europa\",\"Earth\",\"Earth\",\"Earth\",\"Earth\",\"Earth\",\"Earth\",\"Mars\",\"Mars\",\"Mars\",\"Earth\",\"Earth\",\"Earth\",\"Earth\",\"Earth\",\"Earth\",\"Earth\",\"Earth\",\"Earth\",\"Mars\",\"Earth\",\"Earth\",\"Europa\",\"Earth\",\"Mars\",\"Earth\",\"Earth\",\"Earth\",\"Earth\",\"Earth\",\"Earth\",\"Earth\",\"Earth\",\"Earth\",\"Earth\",\"Europa\",\"Europa\",\"Europa\",\"Earth\",\"Earth\",\"Earth\",\"Earth\",\"Earth\",\"Earth\",\"Earth\",\"Europa\",\"Europa\",\"Earth\",\"Earth\",\"Earth\",\"Earth\",\"Earth\",\"Earth\",\"Europa\",\"Europa\",null,\"Europa\",\"Europa\",\"Europa\",\"Europa\",\"Europa\",\"Europa\",\"Europa\",\"Earth\",\"Mars\",\"Earth\",\"Earth\",\"Mars\",\"Earth\",\"Earth\",\"Earth\",\"Europa\",\"Earth\",\"Earth\",\"Europa\",\"Earth\",\"Europa\",\"Mars\",\"Mars\",\"Mars\",\"Earth\",\"Mars\",\"Mars\",\"Mars\",\"Mars\",\"Earth\",\"Earth\",\"Earth\",\"Earth\",\"Earth\",\"Earth\",\"Earth\",\"Earth\",\"Earth\",\"Earth\",\"Earth\",\"Earth\",\"Earth\",\"Earth\",\"Earth\",\"Europa\",\"Earth\",\"Earth\",\"Earth\",\"Earth\",\"Earth\",\"Earth\",\"Mars\",\"Earth\",\"Mars\",\"Earth\",\"Earth\",\"Earth\",\"Earth\",\"Earth\",\"Mars\",\"Earth\",\"Earth\",\"Mars\",\"Mars\",\"Europa\",\"Europa\",\"Mars\",\"Earth\",\"Mars\",\"Mars\",\"Mars\",\"Earth\",\"Mars\",\"Europa\",\"Europa\",\"Earth\",\"Earth\",\"Earth\",null,\"Earth\",\"Mars\",\"Mars\",\"Mars\",\"Earth\",\"Earth\",\"Europa\",\"Mars\",\"Mars\",null,\"Mars\",\"Europa\",\"Europa\",\"Earth\",\"Earth\",\"Mars\",\"Earth\",\"Earth\",\"Earth\",\"Europa\",\"Europa\",\"Europa\",\"Earth\",\"Europa\",null,\"Earth\",\"Earth\",\"Earth\",\"Mars\",\"Mars\",\"Mars\",\"Mars\",\"Earth\",\"Earth\",\"Earth\",\"Europa\",null,\"Earth\",\"Earth\",\"Earth\",\"Earth\",\"Earth\",\"Earth\",\"Earth\",\"Europa\",\"Earth\",\"Mars\",\"Mars\",\"Mars\",\"Mars\",\"Mars\",\"Europa\",\"Europa\",\"Earth\",\"Europa\",\"Europa\",\"Europa\",\"Earth\",\"Mars\",\"Mars\",\"Mars\",\"Earth\",\"Earth\",\"Mars\",\"Europa\",\"Europa\",\"Earth\",\"Europa\",\"Europa\",\"Earth\",\"Europa\",\"Europa\",\"Earth\",\"Earth\",\"Earth\",\"Earth\",\"Earth\",\"Earth\",\"Earth\",\"Earth\",\"Mars\",\"Mars\",\"Earth\",\"Earth\",\"Europa\",\"Earth\",\"Mars\",\"Mars\",\"Earth\",\"Earth\",\"Earth\",\"Earth\",\"Europa\",\"Earth\",\"Earth\",\"Earth\",\"Earth\",\"Earth\",\"Earth\",\"Earth\",\"Earth\",\"Earth\",\"Earth\",\"Earth\",\"Earth\",\"Earth\",\"Europa\",\"Europa\",\"Earth\",\"Europa\",\"Europa\",\"Europa\",\"Europa\",\"Earth\",\"Earth\",\"Earth\",\"Mars\",\"Earth\",\"Earth\",\"Earth\",\"Earth\",\"Earth\",\"Earth\",\"Europa\",\"Europa\",\"Earth\",\"Earth\",\"Earth\",\"Earth\",\"Earth\",\"Earth\",\"Earth\",\"Earth\",\"Europa\",\"Europa\",\"Earth\",\"Earth\",\"Earth\",\"Mars\",\"Earth\",\"Mars\",\"Earth\",\"Earth\",\"Europa\",\"Europa\",\"Europa\",\"Mars\",\"Mars\",\"Europa\",\"Europa\",\"Europa\",\"Europa\",\"Earth\",\"Europa\",\"Earth\",\"Europa\",\"Europa\",\"Europa\",\"Europa\",\"Europa\",\"Europa\",\"Earth\",\"Earth\",\"Earth\",\"Earth\",\"Mars\",\"Mars\",\"Earth\",\"Earth\",\"Mars\",\"Earth\",\"Europa\",\"Europa\",\"Earth\",\"Earth\",\"Europa\",\"Europa\",\"Mars\",\"Earth\",\"Earth\",\"Earth\",\"Earth\",\"Europa\",\"Earth\",\"Europa\",\"Earth\",\"Europa\",\"Earth\",\"Mars\",\"Earth\",\"Earth\",\"Mars\",\"Europa\",\"Mars\",\"Mars\",\"Europa\",\"Europa\",\"Europa\",\"Earth\",\"Earth\",\"Earth\",\"Mars\",\"Mars\",\"Mars\",\"Earth\",\"Earth\",\"Earth\",\"Mars\",\"Earth\",\"Europa\",\"Earth\",\"Europa\",\"Europa\",\"Earth\",\"Mars\",\"Earth\",\"Europa\",\"Mars\",\"Mars\",\"Mars\",\"Earth\",\"Earth\",\"Mars\",\"Mars\",\"Mars\",\"Earth\",\"Earth\",\"Earth\",\"Mars\",\"Europa\",\"Mars\",\"Mars\",\"Earth\",\"Europa\",\"Europa\",\"Europa\",\"Europa\",\"Mars\",\"Mars\",\"Mars\",\"Earth\",\"Earth\",\"Earth\",\"Europa\",\"Earth\",\"Mars\",\"Europa\",\"Earth\",\"Earth\",\"Mars\",\"Mars\",\"Mars\",\"Mars\",\"Mars\",\"Mars\",\"Earth\",\"Europa\",\"Europa\",\"Earth\",\"Mars\",\"Mars\",null,\"Mars\",\"Europa\",\"Europa\",\"Earth\",\"Mars\",\"Europa\",\"Europa\",\"Earth\",\"Earth\",\"Earth\",\"Earth\",\"Earth\",\"Earth\",\"Earth\",\"Earth\",\"Earth\",\"Mars\",\"Mars\",\"Europa\",\"Europa\",\"Europa\",\"Europa\",\"Europa\",\"Earth\",\"Earth\",\"Earth\",\"Earth\",\"Earth\",\"Earth\",\"Earth\",null,\"Earth\",\"Earth\",\"Earth\",\"Earth\",\"Mars\",\"Mars\",\"Earth\",\"Europa\",\"Europa\",\"Europa\",\"Mars\",\"Earth\",\"Earth\",\"Earth\",\"Earth\",\"Earth\",\"Earth\",\"Mars\",\"Earth\",\"Earth\",\"Earth\",\"Mars\",null,\"Mars\",\"Mars\",\"Earth\",\"Earth\",\"Earth\",\"Mars\",\"Mars\",\"Earth\",\"Mars\",\"Mars\",\"Mars\",\"Earth\",\"Mars\",\"Earth\",\"Earth\",\"Earth\",\"Europa\",\"Europa\",\"Europa\",\"Europa\",\"Earth\",\"Earth\",\"Earth\",\"Europa\",\"Europa\",\"Europa\",\"Mars\",\"Mars\",\"Mars\",\"Earth\",\"Earth\",\"Earth\",\"Earth\",\"Earth\",\"Mars\",\"Mars\",\"Mars\",\"Mars\",\"Earth\",\"Earth\",\"Earth\",\"Earth\",\"Europa\",\"Earth\",\"Europa\",\"Mars\",\"Europa\",\"Mars\",\"Mars\",\"Mars\",\"Mars\",\"Earth\",\"Earth\",\"Earth\",\"Earth\",\"Earth\",\"Earth\",\"Earth\",\"Earth\",\"Earth\",\"Earth\",\"Mars\",\"Europa\",\"Mars\",\"Mars\",\"Earth\",\"Mars\",\"Mars\",\"Earth\",\"Earth\",\"Earth\",\"Mars\",\"Mars\",\"Earth\",\"Earth\",\"Europa\",\"Europa\",\"Europa\",\"Earth\",\"Europa\",\"Mars\",\"Mars\",\"Earth\",\"Earth\",\"Earth\",\"Earth\",\"Earth\",\"Earth\",\"Earth\",\"Earth\",\"Earth\",\"Earth\",\"Europa\",\"Europa\",\"Earth\",\"Earth\",\"Earth\",\"Earth\",\"Mars\",\"Mars\",\"Europa\",\"Europa\",\"Europa\",\"Earth\",\"Earth\",\"Mars\",\"Earth\",\"Earth\",\"Mars\",\"Earth\",\"Earth\",\"Earth\",\"Earth\",\"Europa\",\"Earth\",\"Mars\",\"Mars\",\"Earth\",\"Earth\",\"Mars\",\"Mars\",\"Mars\",\"Earth\",\"Earth\",\"Earth\",\"Earth\",\"Earth\",\"Earth\",\"Earth\",\"Earth\",\"Europa\",\"Europa\",\"Mars\",\"Earth\",\"Earth\",\"Earth\",\"Earth\",\"Earth\",\"Mars\",\"Mars\",\"Mars\",\"Earth\",\"Earth\",\"Europa\",\"Earth\",\"Earth\",\"Earth\",\"Europa\",\"Earth\",\"Earth\",\"Earth\",\"Earth\",\"Earth\",\"Earth\",\"Earth\",\"Earth\",\"Earth\",\"Earth\",\"Earth\",\"Earth\",\"Earth\",\"Earth\",\"Europa\",\"Earth\",\"Mars\",\"Earth\",\"Earth\",\"Earth\",\"Earth\",\"Mars\",\"Earth\",\"Earth\",\"Europa\",null,\"Europa\",\"Europa\",\"Europa\",\"Earth\",\"Earth\",\"Earth\",\"Earth\",\"Earth\",\"Europa\",\"Mars\",\"Earth\",\"Earth\",\"Europa\",\"Europa\",\"Europa\",\"Earth\",\"Earth\",\"Mars\",\"Mars\",\"Mars\",\"Earth\",\"Earth\",\"Earth\",\"Earth\",\"Earth\",\"Earth\",\"Earth\",\"Mars\",\"Europa\",\"Europa\",\"Earth\",\"Earth\",\"Earth\",null,\"Earth\",\"Mars\",\"Mars\",\"Mars\",\"Earth\",\"Earth\",\"Earth\",\"Europa\",\"Mars\",null,\"Mars\",\"Mars\",\"Europa\",\"Europa\",\"Europa\",\"Europa\",\"Europa\",\"Europa\",\"Earth\",\"Mars\",\"Earth\",\"Europa\",\"Europa\",\"Earth\",\"Earth\",\"Earth\",\"Earth\",\"Mars\",\"Earth\",\"Europa\",\"Earth\",\"Mars\",\"Earth\",null,\"Earth\",\"Mars\",\"Earth\",\"Earth\",\"Earth\",null,\"Earth\",\"Earth\",\"Earth\",\"Earth\",\"Mars\",\"Mars\",\"Earth\",\"Earth\",\"Earth\",\"Europa\",\"Earth\",\"Earth\",\"Earth\",\"Mars\",\"Earth\",\"Earth\",\"Earth\",\"Earth\",\"Europa\",\"Europa\",\"Earth\",\"Earth\",\"Earth\",\"Europa\",\"Earth\",\"Earth\",\"Europa\",null,\"Mars\",\"Earth\",\"Earth\",\"Mars\",\"Mars\",\"Mars\",\"Europa\",\"Earth\",\"Earth\",\"Earth\",\"Europa\",\"Europa\",\"Mars\",\"Europa\",\"Europa\",\"Earth\",\"Earth\",\"Earth\",\"Earth\",\"Earth\",\"Earth\",\"Earth\",\"Earth\",\"Earth\",\"Earth\",\"Europa\",\"Earth\",\"Earth\",\"Earth\",null,\"Earth\",\"Mars\",\"Mars\",\"Mars\",\"Mars\",\"Earth\",\"Europa\",\"Europa\",\"Europa\",\"Mars\",\"Earth\",\"Earth\",\"Earth\",\"Earth\",\"Mars\",\"Mars\",\"Earth\",\"Earth\",\"Earth\",\"Earth\",\"Earth\",\"Earth\",\"Europa\",\"Earth\",\"Earth\",\"Earth\",\"Earth\",\"Earth\",\"Earth\",\"Earth\",\"Earth\",\"Europa\",\"Europa\",\"Europa\",\"Europa\",\"Mars\",\"Earth\",\"Europa\",\"Earth\",\"Earth\",\"Earth\",\"Earth\",\"Mars\",\"Earth\",\"Earth\",\"Europa\",\"Europa\",\"Earth\",\"Earth\",\"Earth\",\"Earth\",\"Mars\",\"Earth\",\"Earth\",\"Earth\",\"Earth\",\"Earth\",\"Europa\",\"Europa\",\"Earth\",\"Earth\",\"Earth\",\"Mars\",\"Mars\",\"Earth\",\"Mars\",\"Earth\",\"Earth\",\"Mars\",\"Earth\",null,\"Earth\",\"Mars\",\"Europa\",\"Europa\",\"Europa\",\"Europa\",\"Europa\",\"Earth\",\"Earth\",\"Mars\",\"Europa\",\"Earth\",\"Europa\",null,\"Europa\",\"Europa\",\"Earth\",\"Europa\",\"Earth\",\"Earth\",\"Europa\",\"Europa\",\"Earth\",\"Earth\",\"Mars\",\"Earth\",\"Earth\",\"Europa\",\"Europa\",\"Europa\",\"Europa\",\"Europa\",\"Europa\",\"Earth\",null,\"Mars\",\"Mars\",\"Europa\",\"Europa\",\"Earth\",\"Earth\",\"Earth\",\"Earth\",\"Earth\",\"Earth\",\"Earth\",\"Earth\",\"Earth\",\"Earth\",\"Earth\",\"Earth\",\"Earth\",\"Earth\",\"Earth\",\"Earth\",\"Earth\",\"Earth\",\"Earth\",\"Earth\",\"Earth\",null,\"Europa\",\"Europa\",\"Europa\",\"Earth\",\"Earth\",\"Earth\",\"Mars\",\"Earth\",\"Earth\",\"Earth\",\"Earth\",\"Europa\",\"Earth\",\"Earth\",\"Earth\",\"Earth\",\"Earth\",\"Mars\",\"Mars\",\"Europa\",\"Earth\",\"Earth\",\"Earth\",\"Earth\",\"Earth\",\"Earth\",\"Earth\",\"Mars\",\"Mars\",\"Mars\",\"Mars\",\"Earth\",\"Earth\",\"Earth\",\"Earth\",\"Mars\",\"Europa\",\"Europa\",\"Mars\",\"Mars\",\"Earth\",\"Earth\",\"Mars\",\"Mars\",\"Earth\",\"Europa\",\"Earth\",\"Earth\",\"Earth\",\"Earth\",\"Europa\",\"Europa\",\"Earth\",\"Mars\",\"Earth\",\"Europa\",\"Earth\",\"Earth\",\"Earth\",\"Earth\",\"Earth\",\"Earth\",\"Earth\",\"Europa\",\"Earth\",\"Earth\",\"Earth\",\"Earth\",\"Earth\",\"Mars\",\"Earth\",\"Earth\",\"Europa\",\"Europa\",\"Mars\",\"Earth\",\"Earth\",\"Earth\",\"Earth\",\"Europa\",\"Earth\",\"Earth\",\"Earth\",\"Earth\",\"Earth\",\"Earth\",\"Mars\",\"Earth\",\"Europa\",\"Earth\",\"Earth\",\"Mars\",\"Earth\",\"Earth\",\"Earth\",\"Earth\",\"Earth\",null,\"Europa\",\"Mars\",\"Mars\",\"Europa\",\"Europa\",\"Europa\",\"Europa\",\"Europa\",\"Europa\",\"Europa\",\"Europa\",\"Earth\",\"Europa\",\"Mars\",\"Europa\",\"Europa\",\"Europa\",\"Earth\",\"Earth\",\"Earth\",\"Earth\",\"Earth\",\"Europa\",\"Earth\",\"Earth\",\"Earth\",\"Earth\",\"Earth\",\"Earth\",\"Mars\",\"Mars\",\"Earth\",\"Earth\",\"Earth\",\"Earth\",\"Earth\",\"Earth\",\"Earth\",\"Europa\",\"Mars\",\"Mars\",\"Mars\",\"Earth\",\"Earth\",\"Earth\",\"Earth\",\"Mars\",\"Mars\",\"Earth\",\"Earth\",\"Earth\",\"Earth\",null,\"Europa\",\"Mars\",\"Europa\",\"Europa\",\"Earth\",\"Earth\",\"Earth\",null,\"Earth\",\"Earth\",\"Europa\",\"Europa\",\"Europa\",\"Earth\",\"Earth\",\"Earth\",\"Earth\",null,\"Europa\",\"Europa\",\"Europa\",\"Europa\",\"Earth\",\"Earth\",\"Europa\",\"Europa\"],\"y\":[false,true,false,false,true,true,true,true,true,true,true,true,true,false,true,false,false,false,true,true,false,false,false,false,true,false,false,false,true,false,false,false,false,true,true,true,true,false,false,false,false,true,false,false,true,true,false,true,false,false,false,true,true,true,true,false,false,false,true,true,false,true,true,false,false,true,false,false,false,false,true,true,true,false,false,false,true,true,true,true,false,true,true,true,false,false,true,true,false,false,true,false,true,true,false,true,true,false,false,false,false,false,true,false,false,true,true,true,true,true,false,true,true,false,true,true,false,false,true,false,false,false,true,true,false,true,false,true,false,true,true,false,false,true,false,true,false,true,false,false,false,true,true,true,false,true,true,false,false,false,true,true,true,false,false,false,true,false,true,false,true,true,false,true,false,false,true,false,false,true,false,true,true,false,false,true,false,true,true,true,true,true,true,false,true,false,true,true,true,false,false,false,false,false,false,true,true,true,false,false,false,false,true,false,false,false,true,false,false,false,false,true,true,false,false,true,false,false,false,false,false,true,false,true,false,false,false,true,true,true,false,false,false,false,true,false,false,true,true,false,true,false,false,false,true,true,false,true,false,true,true,false,false,true,true,true,true,true,true,false,true,false,false,true,true,true,true,true,true,true,true,true,false,false,true,false,false,false,true,false,false,true,true,true,true,false,true,true,true,false,false,false,false,false,false,true,true,true,false,false,true,false,false,true,true,true,true,true,false,false,false,true,false,true,true,true,false,true,true,false,true,true,false,false,true,false,false,true,true,false,true,false,false,false,true,false,false,true,false,true,true,false,true,true,true,true,true,false,false,false,true,true,false,false,false,false,true,false,false,false,true,true,false,false,false,true,true,false,false,false,false,false,false,false,false,true,false,false,true,false,true,true,false,true,true,true,true,true,true,true,true,false,true,false,true,true,true,false,false,false,true,false,false,false,false,false,false,false,true,true,false,true,true,true,true,true,true,true,true,true,false,true,false,false,true,false,true,true,true,true,false,false,false,false,true,false,false,true,true,false,true,false,true,false,false,true,true,false,false,true,false,false,false,false,false,true,true,true,true,false,true,false,false,true,false,false,true,true,true,false,true,true,true,true,true,true,true,true,true,false,false,true,true,false,true,false,true,true,false,true,false,false,false,true,false,false,false,false,true,true,true,true,true,false,true,false,false,false,false,false,true,true,true,true,false,true,true,true,true,false,true,false,false,true,true,false,false,true,true,false,false,true,true,false,true,true,true,true,false,true,true,true,false,true,false,false,true,false,false,true,false,true,false,true,true,true,true,true,true,false,true,false,false,false,false,false,false,false,false,true,true,false,false,true,true,false,true,true,true,false,true,false,false,false,false,true,false,false,true,true,true,false,true,true,true,false,true,true,true,true,false,true,true,false,false,true,false,false,false,false,true,true,false,true,true,false,true,true,true,true,false,true,true,true,false,true,true,true,false,true,false,false,true,false,false,true,false,true,false,false,false,true,false,false,false,false,false,false,false,false,true,false,true,true,true,false,true,false,false,false,true,true,false,false,true,true,false,true,true,true,false,true,false,true,true,true,true,true,true,true,false,false,true,false,true,false,true,false,false,true,true,true,false,false,false,false,true,true,true,false,false,false,false,false,true,false,true,false,true,false,false,true,false,true,true,true,false,true,false,true,false,false,true,false,false,false,true,true,false,false,false,false,true,true,false,false,true,true,true,false,true,false,false,false,true,true,false,true,false,false,false,false,true,true,false,false,true,true,false,true,false,true,false,true,true,false,true,false,true,false,false,true,false,true,true,true,false,false,false,true,true,true,false,true,true,true,false,true,true,false,true,true,true,true,false,false,false,false,false,false,false,true,true,true,true,true,false,true,true,false,false,false,false,true,true,false,true,false,false,true,false,false,false,false,true,false,false,false,false,false,true,false,true,false,true,false,true,false,true,true,false,false,false,true,false,false,true,false,true,true,false,false,false,false,false,true,false,true,true,false,false,true,true,true,false,false,true,false,true,true,true,true,false,false,false,true,true,true,true,false,false,false,false,true,false,true,true,false,false,false,true,true,false,true,true,true,false,false,false,true,true,false,false,true,false,false,true,true,false,true,false,false,false,true,false,true,false,true,true,false,false,true,false,false,false,true,false,true,false,true,false,false,false,false,true,false,true,false,false,true,false,true,true,false,false,true,true,true,true,false,false,true,false,true,false,false,true,true,true,false,false,true,false,false,false,false,true,false,false,true,true,false,false,false,true,false,true,true,false,true,true,false,false,false,false,true,true,true,true,false,false,false,true,true,true,true,false,false,false,true,true,true,true,false,false,true,true,false,false,false,false,false,false,true,true,true,false,false,true,false,false,true,true,false,true,false,true,true,false,true,false,true,false,false,true,false,false,false,false,false,true,false,true,true,true,false,false,true,true,true,true,false,true,false,true,false,false,true,false,true,true,true,true,true,true,true,true,true,false,false,false,true,true,false,false,true,true,true,false,true,false,false,false,false,false,false,true,true,true,true,false,true,false,true,true,false,true,true,false,false,true,true,false,true,false,false,false,true,true,true,true,false,true,false,true,true,true,false,true,false,false,true,false,false,false,false,false,true,false,false,true,true,true,false,true,false,false,false,false,true,false,false,false,true,false,true,false,true,false,true,true,true,true,false,false,false,false,false,true,true,true,true,true,false,false,true,false,true,true,true,false,true,true,true,true,true,false,false,false,true,false,false,false,true,true,false,false,false,true,false,false,false,true,false,false,false,false,false,true,true,false,false,false,true,false,true,true,true,false,false,false,false,false,true,true,false,true,true,false,false,true,false,true,true,false,false,true,false,true,true,true,false,true,false,false,true,true,false,true,false,false,true,true,false,false,true,true,false,false,true,true,false,true,false,false,false,false,true,true,false,false,false,true,false,false,false,false,true,false,true,true,false,false,false,false,false,true,false,true,true,true,false,true,true,false,false,true,true,false,false,false,false,false,false,true,false,true,false,false,true,false,true,false,false,true,true,true,false,true,false,true,true,true,false,false,false,false,true,false,true,false,true,false,true,true,false,false,false,false,false,true,false,false,false,false,false,true,false,false,false,false,false,false,true,true,true,true,false,true,true,true,false,true,true,true,true,false,false,false,true,false,false,true,false,false,false,false,false,false,true,true,true,true,false,true,false,false,true,false,true,false,false,true,false,true,false,true,true,true,true,false,false,false,true,true,false,true,false,false,false,true,false,false,true,false,false,true,true,false,false,true,false,true,false,false,false,false,false,true,true,false,true,true,false,false,false,true,true,false,false,false,false,false,true,true,false,false,false,true,true,true,true,true,true,false,true,true,true,true,true,false,false,false,true,true,false,true,false,true,false,true,false,true,false,true,true,false,false,true,false,false,false,false,false,false,false,false,true,false,true,true,false,false,false,false,true,false,true,false,false,true,true,false,false,true,true,true,true,false,true,true,false,true,true,true,true,true,true,false,false,false,true,true,false,true,false,true,true,true,false,false,false,true,true,false,true,true,false,true,true,true,true,true,false,false,true,true,false,false,false,true,true,true,false,false,false,true,false,true,false,false,true,false,false,true,false,true,true,false,false,true,false,false,true,false,false,false,false,true,false,false,true,true,false,false,true,false,false,false,false,false,false,false,false,false,false,true,false,false,true,false,false,false,true,false,false,true,false,false,false,true,true,true,false,false,true,false,false,false,true,false,false,true,false,false,true,false,false,false,false,false,false,true,false,true,false,false,false,true,false,true,false,false,true,true,true,true,false,true,false,false,true,true,false,false,false,true,true,false,false,true,false,true,true,false,false,false,false,false,true,false,true,true,false,false,true,true,true,true,false,true,true,true,false,true,true,false,false,true,true,false,false,false,false,false,false,false,true,true,false,false,true,false,false,true,true,false,false,true,true,false,false,false,false,true,false,true,false,true,true,false,true,false,true,true,false,false,true,true,true,true,true,true,false,false,false,true,true,false,false,false,true,true,false,false,false,false,false,false,true,true,true,false,true,false,true,false,false,true,false,true,false,false,false,true,false,false,false,false,true,true,false,true,false,false,false,false,false,false,true,true,true,false,false,false,true,false,false,false,false,true,true,false,true,true,false,false,true,true,false,false,false,false,false,false,false,false,true,false,false,true,true,false,false,true,true,false,false,false,true,true,true,false,false,true,false,false,false,false,false,false,false,false,false,false,false,false,true,false,true,false,true,true,true,true,false,false,true,false,false,true,true,true,false,true,false,false,true,true,true,false,true,true,true,true,true,false,true,false,true,false,false,true,true,false,false,true,true,false,true,false,false,true,false,true,false,false,false,false,false,true,false,true,true,true,false,false,false,true,true,false,false,true,true,true,true,false,true,false,false,true,false,false,true,true,true,false,true,true,true,false,true,true,false,false,false,true,true,true,true,false,false,false,false,true,true,false,true,false,false,false,true,true,false,true,false,true,false,false,true,false,false,true,false,false,false,true,false,true,true,true,false,true,false,true,false,true,false,false,false,false,true,false,false,false,true,true,true,false,false,false,false,false,false,false,false,false,true,true,false,false,false,true,false,false,true,false,false,false,true,false,false,false,false,false,true,false,false,false,false,true,true,true,true,true,true,true,true,false,false,false,false,true,false,true,false,false,false,false,false,true,true,true,true,true,false,true,false,true,false,false,false,true,true,true,true,false,false,false,false,false,false,false,false,false,false,true,false,false,true,false,true,true,false,true,false,true,false,false,true,false,false,false,false,false,true,false,true,true,true,false,true,true,true,false,true,false,false,false,false,false,false,false,true,true,false,false,false,true,false,false,true,true,true,true,false,true,false,false,false,false,false,true,true,true,true,true,true,true,false,false,true,false,true,false,true,true,true,true,true,false,true,true,false,false,true,false,false,true,false,false,false,false,true,false,false,false,false,false,true,false,false,false,false,true,false,false,false,true,false,true,true,false,true,true,false,true,false,false,true,false,true,true,false,true,false,false,false,false,true,true,false,false,false,false,true,false,true,true,false,false,true,false,true,false,false,false,true,false,false,true,false,true,true,false,false,false,false,true,false,false,true,true,false,true,false,true,true,true,true,false,false,false,false,false,true,true,false,true,false,false,false,false,true,true,false,false,true,false,true,false,false,false,true,false,false,false,false,false,false,true,false,false,false,true,true,true,true,false,true,true,true,true,true,false,false,false,true,true,false,true,true,true,true,false,false,false,true,false,false,true,true,false,true,false,false,false,true,true,false,true,false,false,true,false,false,false,true,true,true,false,false,false,false,false,false,false,false,false,true,false,false,true,true,false,false,false,false,false,false,false,true,false,true,false,false,false,true,false,false,false,true,false,false,false,true,false,true,true,false,true,false,true,false,false,true,false,true,true,true,false,false,true,true,true,true,true,true,false,true,false,true,false,true,false,true,false,false,false,true,false,false,false,false,true,false,false,true,false,true,false,true,true,true,true,true,true,true,true,true,true,true,false,true,false,false,false,true,false,true,true,false,true,true,true,true,false,false,false,false,false,false,false,true,true,true,false,false,true,false,false,true,false,false,false,false,false,true,true,true,false,true,false,true,true,false,false,false,true,false,true,false,true,false,false,true,true,true,true,true,false,false,true,false,false,false,true,false,false,false,true,false,false,true,false,true,true,false,false,false,false,false,false,true,false,true,true,true,false,false,false,false,false,true,true,false,false,false,true,false,false,true,false,true,true,false,false,false,false,false,false,false,true,true,false,true,false,false,true,false,false,true,false,true,false,false,false,false,false,false,false,false,false,false,true,true,false,false,true,true,true,true,true,true,false,true,true,true,false,false,true,false,false,true,false,true,true,true,true,false,false,false,false,true,true,false,true,true,false,true,false,true,false,false,true,true,false,false,false,false,true,true,true,true,false,false,true,false,false,true,false,true,false,false,false,true,false,false,true,true,false,true,false,false,false,false,false,false,false,false,false,true,true,false,false,true,false,true,true,true,false,false,false,true,false,false,false,true,true,true,true,false,false,false,false,true,false,true,false,true,false,false,false,false,true,true,false,false,true,true,true,false,true,true,true,false,true,true,true,false,true,true,false,true,true,true,false,false,true,false,false,true,false,false,false,true,false,false,true,true,false,true,false,false,false,true,true,true,true,true,true,true,false,false,true,true,false,false,true,true,true,true,true,false,true,false,false,true,false,false,false,true,false,false,false,false,true,false,true,false,true,false,false,false,false,true,false,true,false,true,false,false,false,true,false,false,false,false,false,false,true,true,true,true,true,true,false,true,false,true,true,true,false,false,false,false,true,true,false,false,false,false,false,false,true,true,true,false,false,true,true,false,false,false,false,false,false,false,false,true,true,false,false,true,true,false,false,true,true,false,false,false,true,false,false,false,true,true,false,true,false,false,true,true,true,false,true,false,true,false,false,false,false,true,false,false,false,false,false,false,false,true,true,true,false,false,false,false,true,true,true,false,false,false,false,false,false,false,false,false,false,false,false,false,true,false,false,true,false,false,false,false,false,false,false,false,false,true,true,false,true,true,false,true,false,true,true,false,true,true,false,false,true,true,true,false,true,false,true,false,true,false,true,false,true,false,true,true,false,true,true,true,false,true,true,true,false,false,true,true,false,false,false,false,false,true,false,true,true,true,true,true,true,true,false,false,true,true,true,true,false,true,true,false,false,false,false,true,true,true,true,true,false,false,true,false,true,false,false,false,false,false,true,true,true,true,false,true,true,true,true,false,false,false,true,true,true,false,false,true,false,true,false,true,false,false,true,false,false,false,false,false,false,false,false,false,false,false,true,false,true,false,false,false,false,false,false,false,false,true,true,true,true,false,true,false,false,false,false,false,false,true,true,true,false,true,true,true,false,true,false,false,false,true,false,false,true,false,false,false,false,false,false,false,true,true,true,false,false,false,false,false,true,true,false,true,true,true,false,true,false,false,true,false,true,true,true,true,true,false,true,true,true,false,false,false,false,true,true,true,true,false,true,true,false,true,true,true,true,true,false,false,true,false,true,false,true,false,true,true,true,true,true,false,false,false,false,true,false,false,true,false,false,false,true,true,true,true,true,false,true,true,true,true,true,true,false,false,false,true,false,true,false,true,true,true,true,false,false,true,false,true,false,false,true,true,false,false,true,false,true,true,true,false,false,true,true,true,true,false,false,true,false,false,true,false,false,true,true,false,false,false,true,false,false,false,true,true,false,true,true,true,false,true,true,true,true,true,false,true,false,true,false,true,true,false,true,false,false,false,true,false,true,false,true,true,false,false,true,true,false,false,false,true,true,true,false,false,false,true,true,true,true,false,false,true,false,true,true,false,true,true,true,false,false,false,false,true,true,true,true,true,false,true,false,false,true,true,false,false,true,true,true,true,false,true,false,false,false,false,true,true,false,true,false,true,false,true,true,true,false,true,true,true,true,false,false,false,false,false,true,false,true,true,true,false,false,false,false,true,true,true,false,false,true,true,true,true,true,false,false,false,true,true,false,false,true,true,false,false,false,false,true,true,true,true,true,false,true,true,true,true,true,false,true,true,false,true,false,false,false,true,true,false,false,true,true,true,true,true,false,false,true,false,false,false,false,true,false,true,true,false,true,false,true,true,true,false,false,true,false,true,true,false,false,true,true,false,false,true,false,true,false,true,true,false,false,false,false,true,false,true,true,true,false,false,true,true,true,false,true,true,true,true,false,false,true,true,true,true,true,true,false,false,true,true,false,true,true,false,false,true,true,false,true,false,false,true,false,true,false,false,true,false,true,false,true,true,true,true,true,true,true,false,true,false,false,false,false,false,true,true,false,true,true,true,true,true,true,false,true,false,true,false,false,true,true,false,true,false,true,true,true,true,false,false,true,true,true,true,false,false,false,true,false,false,false,false,true,false,true,true,false,false,false,true,false,true,true,true,true,false,false,false,false,true,false,true,false,true,true,true,true,true,true,false,true,false,false,true,true,false,true,false,true,false,true,false,true,false,true,false,false,true,false,true,true,true,true,false,false,true,false,false,true,false,false,true,true,false,true,true,true,true,true,false,true,false,true,false,true,true,true,true,true,false,false,false,true,true,true,true,true,true,false,false,false,false,false,false,true,true,true,false,true,true,true,true,true,false,true,false,false,false,false,true,false,true,false,false,true,false,false,false,false,true,false,false,true,true,false,false,false,false,false,true,true,false,false,false,true,false,false,false,false,true,true,true,true,true,true,false,true,true,true,true,true,true,true,false,false,true,false,false,true,false,true,false,true,false,true,true,true,false,true,true,true,false,false,true,false,false,true,false,true,true,true,true,true,false,false,true,true,false,true,true,false,false,true,false,false,true,false,true,true,false,true,true,true,false,false,true,false,true,false,false,true,true,false,true,true,true,false,false,true,false,true,false,false,true,true,true,false,false,true,true,true,true,false,false,false,false,false,false,false,false,false,true,false,false,true,false,false,false,true,false,true,true,false,true,true,false,true,true,false,false,true,false,true,true,true,true,true,true,false,true,false,false,false,true,false,false,false,true,false,false,false,false,false,true,true,false,true,false,true,false,true,true,true,true,false,true,true,false,false,true,true,true,false,false,true,true,true,false,true,true,true,false,true,true,true,false,false,false,false,false,false,true,true,false,false,false,true,false,false,false,false,true,true,true,false,false,false,false,true,true,true,true,false,true,false,true,false,false,false,true,true,true,false,false,true,true,false,true,true,false,false,true,false,false,false,false,true,true,true,true,false,false,true,false,true,true,true,true,false,false,false,false,false,false,false,true,true,true,true,true,false,false,true,false,false,true,false,true,false,false,true,false,true,true,true,false,true,true,true,true,false,true,false,true,true,false,true,true,false,true,true,false,true,false,false,false,false,true,false,false,false,true,true,true,true,true,false,true,false,false,false,true,true,true,true,true,false,false,false,true,true,true,false,true,false,true,false,false,true,true,false,false,false,true,true,true,false,false,true,true,true,true,false,false,true,true,true,true,true,true,false,true,false,false,false,false,false,true,true,true,false,false,true,true,true,true,false,true,false,true,false,true,false,false,true,true,false,true,true,true,true,false,false,false,true,true,true,true,true,false,false,false,true,false,false,true,true,false,false,false,true,true,false,true,true,false,true,true,false,true,true,false,true,true,true,false,true,false,false,true,false,true,false,false,true,true,false,false,false,false,false,false,false,false,true,true,true,true,false,false,true,true,true,false,true,true,false,true,true,false,true,false,true,true,true,true,true,false,false,true,true,true,true,false,false,true,true,true,false,true,false,false,true,true,false,true,true,false,false,true,true,false,true,true,false,true,true,false,true,false,true,true,true,true,true,true,true,true,false,true,true,true,false,true,false,true,false,true,false,false,true,true,false,true,false,true,false,true,false,true,true,true,true,false,true,true,true,false,false,true,false,true,true,true,true,false,false,true,true,true,true,true,false,true,true,true,false,true,false,false,false,false,false,true,false,false,true,true,true,true,false,false,false,false,true,true,true,true,false,true,false,false,true,true,true,false,true,false,false,true,false,true,false,false,false,true,true,false,true,true,true,true,false,false,false,false,true,true,true,true,true,true,true,true,true,false,true,true,false,true,true,true,true,false,true,true,false,false,false,false,false,true,true,false,false,false,false,false,false,true,true,true,false,true,false,false,false,false,true,true,false,true,false,false,true,false,true,false,false,false,true,true,true,true,false,false,false,true,false,true,true,false,false,false,true,false,true,false,false,false,false,false,true,true,true,true,true,true,false,true,false,true,false,false,false,false,true,true,false,false,true,true,true,true,false,false,false,false,true,true,true,true,false,true,true,true,false,true,true,false,false,false,false,true,true,false,true,true,false,false,false,false,true,false,true,true,false,true,false,false,false,true,true,true,true,false,false,false,true,true,true,true,true,true,false,false,true,false,true,true,true,false,true,false,false,false,false,false,false,true,false,false,true,true,true,true,false,false,true,true,true,false,true,true,true,true,true,false,true,true,true,true,true,true,false,false,false,false,false,true,false,true,true,false,false,true,true,true,true,true,true,false,false,true,true,false,true,true,true,false,false,false,false,false,false,true,false,true,false,false,false,false,false,true,true,true,true,true,true,true,true,false,false,true,true,true,false,false,true,false,false,true,false,true,true,false,true,true,true,true,false,false,false,true,true,true,false,true,true,false,false,false,true,false,false,true,false,false,true,false,false,false,true,true,true,true,false,false,true,true,true,true,true,false,true,false,true,true,true,true,false,false,true,true,true,true,true,true,true,false,false,false,false,false,false,false,true,true,true,false,false,false,true,true,true,true,true,true,false,true,true,true,false,true,true,true,false,false,true,true,false,false,true,false,true,true,true,true,false,false,false,true,true,false,true,false,true,true,true,true,true,true,true,false,false,true,true,true,false,false,false,true,true,true,false,true,true,true,true,true,true,false,true,true,false,false,true,false,true,true,true,false,true,true,false,false,false,true,false,true,true,true,true,true,true,false,true,false,false,false,false,true,true,false,false,true,true,true,true,false,false,false,false,true,false,true,false,true,false,true,true,false,true,true,true,true,false,true,true,false,false,true,true,true,false,false,false,false,false,false,false,false,false,false,true,true,false,true,true,true,true,true,true,true,false,true,true,true,true,true,true,true,true,true,true,true,false,false,true,false,false,true,true,true,false,true,true,true,true,false,false,true,false,false,true,true,true,true,false,true,true,false,false,false,true,false,true,false,true,true,true,true,true,false,false,false,false,false,false,true,true,false,true,true,false,false,false,false,true,true,true,true,false,true,false,true,false,true,true,false,false,true,true,false,true,true,false,true,false,false,true,true,false,true,true,false,false,false,false,true,false,true,false,false,false,true,true,false,false,false,true,false,true,true,false,false,true,true,true,true,false,true,false,true,true,false,false,true,true,false,true,false,true,false,true,true,false,true,false,false,true,false,false,false,false,false,false,true,false,true,false,true,false,false,true,false,false,true,false,false,true,true,true,true,true,true,true,true,true,true,false,false,false,true,true,true,true,true,true,true,false,true,false,false,true,true,false,false,true,true,true,false,true,false,true,false,false,true,false,false,false,true,true,true,true,false,true,true,true,true,true,false,true,true,false,false,true,true,true,false,false,true,true,false,true,true,true,true,false,false,false,true,true,false,false,false,true,true,true,true,true,true,true,false,false,false,false,true,false,false,true,true,true,true,true,false,true,false,false,false,true,false,false,true,true,true,false,false,true,false,true,false,true,true,false,true,false,false,true,true,false,false,false,true,true,true,false,true,true,true,false,true,true,false,true,false,true,true,true,true,true,false,true,true,true,true,false,true,true,true,true,true,true,true,true,true,false,false,true,true,true,true,true,false,false,false,true,true,false,true,false,false,false,true,true,true,false,true,false,true,true,true,true,true,false,false,true,true,true,true,true,true,true,false,true,true,true,false,false,true,true,true,false,true,true,true,false,true,true,false,true,true,true,true,false,true,false,true,true,true,true,false,true,false,false,true,false,false,true,false,true,false,false,true,true,false,false,true,true,false,false,true,true,true,true,false,true,true,true,true,false,false,true,true,true,false,false,false,false,true,true,false,false,true,true,false,true,true,true,false,true,true,false,true,true,true,false,false,false,false,false,false,false,false,true,true,false,false,false,false,true,false,true,false,true,true,false,true,false,true,false,true,false,false,false,true,false,false,false,true,true,false,false,true,false,true,false,false,true,false,false,true,true,true,true,true,true,false,false,false,false,false,false,false,true,false,false,true,true,false,true,false,false,false,true,true,false,false,true,true,false,true,true,false,true,false,false,true,false,true,true,true,false,true,true,false,false,false,false,true,true,true,true,true,false,true,false,true,false,false,true,true,true,false,false,true,true,true,true,true,false,false,true,false,true,true,true,false,true,false,true,false,false,false,true,false,false,false,true,false,true,true,true,true,true,false,true,true,false,true,true,true,false,true,true,true,false,true,true,false,true,false,true,false,true,true,false,true,false,false,false,true,false,false,true,false,true,true,false,false,false,true,true,true,true,false,true,false,true,false,false,true,false,true,false,false,false,true,false,true,true,true,true,true,true,true,false,true,true,true,false,true,false,true,false,true,true,true,true,true,true,true,true,false,false,false,true,false,true,false,false,true,false,false,true,true,true,true,true,false,false,false,true,true,true,true,false,false,false,false,true,false,false,false,false,true,false,true,false,true,false,false,true,false,false,true,true,true,true,true,true,true,false,true,false,false,false,false,true,false,false,true,true,true,false,true,true,true,true,true,true,true,true,true,true,true,false,true,true,false,true,true,true,true,true,true,true,true,false,true,false,false,false,true,true,true,false,false,true,false,false,true,false,true,false,true,true,true,true,false,false,false,true,false,false,false,false,false,true,false,false,false,false,true,false,false,false,false,true,true,false,false,true,false,true,true,true,true,true,true,false,true,false,false,false,true,true,true,true,false,true,false,false,true,false,true,false,true,false,true,false,true,false,true,false,false,false,false,false,false,true,true,true,false,true,true,true,true,true,true,true,true,false,true,true,true,true,false,true,true,true,false,true,true,false,true,true,true,true,true,true,false,false,false,false,true,true,false,true,false,true,true,true,true,false,false,true,false,false,true,true,true,true,true,false,true,true,false,true,true,true,true,false,false,false,true,true,true,false,true,true,true,false,true,true,true,false,true,true,true,false,true,false,false,true,false,false,true,false,false,false,false,true,true,true,true,true,true,true,true,false,false,false,true,false,true,true,true,true,true,true,false,false,true,true,false,true,false,false,true,false,false,true,false,false,false,true,false,true,false,false,true,true,false,true,false,false,true,true,true,false,true,true,true,true,true,false,true,false,true,false,false,true,false,false,false,false,false,true,true,false,false,true,true,true,true,false,true,true,true,false,false,true,false,true,true,false,true,false,true,true,false,true,false,true,false,true,false,true,true,false,true,true,false,true,true,true,false,false,true,true,true,true,false,true,true,true,false,false,false,false,true,false,true,true,true,true,false,false,true,true,false,false,true,true,true,false,false,false,false,false,false,false,false,true,false,true,true,false,false,true,true,true,false,true,true,true,true,true,true,true,true,true,false,true,false,true,true,false,true,true,false,true,true,true,false,true,false,true,false,false,false,false,true,false,true,false,true,false,true,false,false,true,true,false,false,false,true,false,false,true,false,true,false,false,true,true,true,true,true,true,false,true,true,false,true,true,false,true,true,true,true,true,true,false,true,true,false,false,true,false,false,true,false,true,true,false,false,true,true,true,false,true,true,true,true,false,false,false,false,false,true,true,false,true,true,true,true,false,false,false,true,true,true,false,false,true,false,true,true,true,true,true,true,true,true,true,true,true,false,false,true,false,false,true,true,true,true,true,false,true,false,false,false,true,false,false,false,true,true,true,true,false,false,true,true,false,true,false,false,true,false,true,false,true,true,false,false,true,true,true,true,true,true,true,true,false,true,true,true,false,false,false,false,false,false,true,false,true,true,true,true,false,true,false,false,false,false,false,false,false,true,false,false,true,true,false,true,true,false,true,true,false,false,true,true,false,true,true,true,true,false,false,false,true,true,true,true,false,true,false,false,false,true,true,false,false,true,false,false,true,true,true,false,true,true,false,false,false,true,true,true,true,true,false,true,true,true,true,false,false,false,true,true,false,true,true,true,true,false,false,true,true,true,true,true,false,false,false,false,false,true,false,true,true,false,true,true,false,true,false,true,true,true,false,false,true,false,false,false,true,true,true,true,true,true,true,true,false,true,false,false,false,true,false,false,true,true,true,false,false,true,false,true,true,true,true,true,true,false,true,true,true,true,false,true,false,false,true,false,false,false,true,false,true,false,true,true,false,true,false,true,true,true,false,true,true,false,true,false,false,false,true,true,true,true,true,false,false,false,true,false,true,false,false,false,true,true,false,true,false,true,true,true,true,true,true,false,false,false,false,false,true,true,true,false,true,true,false,false,true,false,false,false,true,true,false,false,true,false,false,true,true,true,true,true,true,false,true,true,true,true,false,false,true,false,true,false,true,true,true,false,false,false,false,true,false,true,true,true,false,true,false,false,true,false,false,true,true,true,false,false,true,true,false,false,false,true,true,true,true,true,false,false,false,false,true,false,true,true,true,true,false,false,false,true,false,true,true,true,true,false,false,true,true,false,false,true,false,false,false,true,true,true,false,false,false,false,false,false,true,true,false,true,true,true,false,true,false,true,false,false,true,false,true,true,false,false,true,false,false,false,false,true,true,false,true,true,false,true,false,true,false,false,false,false,false,false,true,false,false,true,false,false,true,false,false,true,true,true,true,true,true,false,true,false,true,true,false,true,true,true,true,false,true,true,true,false,false,false,true,false,true,true,true,true,true,true,true,false,true,true,false,true,false,false,false,true,false,true,true,true,false,false,false,false,true,true,true,true,false,true,true,true,false,false,false,true,true,true,true,true,true,false,false,true,true,false,false,true,true,false,true,false,true,true,false,true,false,true,true,false,true,true,false,true,false,false,true,true,true,false,false,false,true,true,true,true,false,true,false,true,true,false,true,false,false,false,true,true,true,true,true,true,false,true,true,true,true,false,false,false,false,true,true,true,true,true,false,true,true,true,false,true,true,false,true,false,true,false,true,true,true,true,true,true,true,false,true,false,false,false,false,false,false,true,true,true,true,false,false,true,false,true,false,true,false,true,false,true,true,false,false,true,true,false,false,true,false,true,true,false,true,true,false,true,false,false,true,false,false,true,true,true,true,true,true,false,false,true,false,true,false,false,true,true,true,false,false,true,true,true,false,true,true,true,true,false,false,true,false,true,true,true,true,true,false,true,false,false,true,true,false,true,false,true,false,false,false,true,true,false,false,false,true,true,true,true,false,false,false,true,true,true,true,false,true,true,true,true,false,true,false,false,false,true,false,false,false,true,true,false,true,true,true,true,false,false,true,true,false,true,true,false,false,false,true,true,true,false,false,true,false,true,true,false,false,true,true,true,true,true,true,false,false,true,true,true,true,false,true,false,true,false,false,false,true,true,false,true,true,false,false,true,false,true,false,true,false,true,false,true,true,true,true,true,false,true,false,true,false,false,true,true,true,true,true,true,true,false,true,false,true,true,true,true,false,true,true,false,true,true,true,true,false,false,true,false,false,false,false,false,false,false,false,false,false,true,true,true,true,true,false,false,false,true,true,true,true,false,true,false,true,false,true,false,false,true,false,true,false,false,true,false,false,true,true,false,false,false,false,false,false,false,true,false,false,true,true,true,false,false,false,true,false,true,true,true,false,true,false,false,false,true,true,true,false,true,false,true,true,true,true,false,true,false,false,true,false,false,false,true,true,false,false,false,true,false,true,true,false,true,false,false,false,true,true,false,true,false,false,false,false,true,false,false,true,true,false,false,false,false,true,false,true,true,false,false,true,true,false,true,false,true,false,true,true,false,true,true,true,false,true,true,false,false,false,true,false,false,true,true,true,false,false,false,false,true,false,false,true,false,false,false,true,true,false,false,true,false,true,false,false,false,true,false,false,false,true,false,false,false,true,true,false,true,true,false,true,true,true,true,true,false,true,true,false,false,true,false,true,true,false,true,true,false,true,false,true,false,true,false,true,false,true,true,false,false,true,true,false,true,true,true,false,true,true,false,false,false,true,false,true,false,false,true,true,false,false,true,true,true,true,true,true,false,true,false,true,false,false,true,false,false,false,false,true,false,false,false,false,true,false,true,true,true,false,false,false,true,true,false,true,false,false,true,false,true,true,false,true,true,true,false,true,false,true,false,false,true,true,true,false,true,false,true,true,true,true,true,false,false,false,false,false,true,true,true,false,false,true,true,true,false,false,false,false,false,true,false,true,false,false,true,false,true,false,false,false,false,false,false,false,false,false,false,false,true,true,false,false,false,false,true,true,false,true,true,false,true,false,true,true,true,true,false,false,false,false,false,true,false,true,true,false,false,false,true,true,false,false,false,false,false,true,true,false,false,true,true,true,true,false,false,true,true,false,true,false,false,true,false,false,true,true,true,false,true,false,true,false,false,false,false,true,true,false,true,true,true,true,false,false,false,false,false,false,false,false,false,true,true,true,true,true,true,false,false,false,true,true,true,true,true,true,true,false,true,true,false,true,true,false,false,true,false,true,true,true,false,false,true,false,true,true,true,false,false,true,true,true,false,false,true,true,false,false,true,true,false,false,false,false,false,false,false,true,false,true,false,false,false,false,true,true,true,false,true,true,true,true,true,true,false,true,true,false,false,false,false,false,false,true,true,true,false,false,true,false,true,true,true,false,true,false,false,false,false,false,false,true,true,false,false,false,true,true,true,true,true,false,true,false,true,true,true,true,true,false,true,true,true,true,true,false,false,true,false,false,true,true,false,true,true,true,true,false,true,false,false,true,false,false,true,true,false,false,false,false,false,true,true,true,true,true,false,true,true,true,false,true,false,true,true,false,true,true,false,true,false,true,true,true,true,true,false,true,false,false,false,false,true,false,false,false,true,true,false,false,false,true,true,false,true,true,false,false,false,true,true,true,true,false,false,true,true,false,false,false,false,false,true,false,true,true,false,false,true,false,true,false,true,true,false,true,false,true,true,false,true,false,false,false,true,true,false,false,true,true,false,false,false,true,false,true,false,false,true,true,true,true,false,true,true,false,false,true,true,false,false,false,true,true,true,false,false,true,false,false,true,false,false,true,true,false,false,false,true,false,false,false,false,true,false,false,false,true,false,false,false,true,false,false,false,true,true,false,false,false,true,true,false,true,false,false,false,true,true,true,false,false,false,false,false,true,false,false,true,true,false,false,false,false,true,true,true,false,false,true,false,false,true,false,false,false,true,false,false,false,false,true,false,true,true,true,true,true,false,false,true,true,false,false,false,false,true,true,false,true,true,false,false,false,false,false,true,true,false,true,false,true,true,false,true,true,true,false,true,true,false,true,false,false,true,true,false,true,false,false,false,true,true,false,true,false,true,true,false,true,false,false,true,false,true,false,true,false,false,false,false,true,true,false,false,true,false,true,false,false,false,true,true,false,true,true,true,false,false,false,true,true,true,false,false,false,false,true,true,false,false,false,true,true,true,false,true,false,false,true,false,false,false,true,true,true,true,true,true,true,false,false,true,false,true,true,true,false,true,false,true,true,true,true,true,false,true,false,false,false,true,true,true,false,true,true,true,false,true,false,false,true,false,false,true,true,false,true,true,false,false,false,false,true,true,true,false,false,true,false,false,false,true,true,false,true,true,true,true,true,false,false,true,true,false,false,false,false,false,false,true,true,true,false,false,false,true,false,true,true,false,true,false,false,true,true,true,false,false,false,false,false,false,true,true,false,true,false,false,false,true,true,false,false,true,false,true,true,false,true,true,false,true,true,true,false,false,false,true,false,false,false,true,true,false,true,false,true,false,false,true,false,true,true,false,true,false,false,false,true,true,true,false,false,false,false,false,false,true,false,true,true,false,false,false,true,true,true,true,true,false,true,true,false,true,false,true,false,false,true,true,false,false,false,false,true,false,false,true,true,true,false,false,false,false,false,false,true,false,false,false,false,false,true,true,true,false,true,true,false,false,true,false,true,true,false,false,false,true,false,false,true,false,false,true,true,true,true,true,false,true,false,true,false,false,false,true,true,true,false,true,false,false,true,true,false,true,false,true,true,false,true,false,false,true,true,true,true,true,true,false,false,false,false,false,false,false,false,false,true,false,false,true,false,false,true,false,false,false,true,false,false,false,false,true,true,false,true,false,true,false,true,true,false,true,true,true,true,true,false,true,true,true,true,true,true,false,false,false,false,false,false,true,true,true,false,false,true,true,false,true,false,false,true,true,false,true,true,true,false,false,true,false,false,false,true,false,false,true,false,true,false,false,true,true,false,false,false,false,false,true,false,true,false,true,true,false,true,false,false,false,true,true,false,false,true,true,true,false,false,true,true,true,false,true,true,true,false,false,true,false,false,true,false,false,true,true,true,true,true,false,true,true,true,false,false,false,true,false,false,false,false,true,true,false,true,false,false,false,true,true,false,false,false,false,true,true,true,true,true,true,true,true,false,false,false,false,true,false,true,true,false,true,true,false,true,false,false,true,false,true,false,false,true,false,false,true,false,false,false,true,false,true,false,true,false,true,true,true,false,true,false,false,true,true,true,true,true,false,false,true,false,false,true,false,true,false,true,false,false,false,false,false,false,true,false,false,false,false,true,false,true,true,false,true,true,true,false,true,true,true,false,false,false,true,true,true,false,true,true,true,false,false,true,false,true,false,true,false,true,false,false,false,false,true,false,true,false,false,false,true,false,false,false,false,true,false,false,false,true,false,true,true,true,false,true,true,true,false,false,true,false,false,false,true,true,true,false,true,false,true,true,false,true,true,false,false,false,false,true,false,false,false,true,true,true,true,true,true,false,false,false,false,false,false,false,true,false,true,true,false,true,false,false,false,true,false,true,false,false,true,true,true,true,false,true,true,false,true,false,false,false,false,false,false,false,true,false,false,false,false,true,true,true,false,false,true,true,false,false,false,true,false,true,false,false,false,false,true,true,false,true,false,true,true,false,false,false,true,true,true,false,true,false,true,true,false,false,true,false,false,false,false,false,true,true,false,true,false,true,false,false,true,true,false,false,true,true,false,false,true,true,false,false,true,true,false,false,false,true,false,false,false,false,true,true,false,false,false,false,true,true,true,false,false,false,false,true,false,false,false,true,false,false,true,false,false,false,false,true,false,true,true,true,true,false,false,false,false,false,false,false,false,false,false,false,true,true,false,false,false,true,true,true,true,false,true,false,false,false,true,true,false,true,false,false,true,true,false,false,false,true,false,true,false,true,true,false,false,true,true,false,true,true,false,false,false,false,true,true,true,false,false,true,false,true,false,true,false,true,false,false,false,false,false,true,true,true,true,false,false,true,false,true,true,false,true,false,true,false,false,false,true,true,false,true,true,true,false,false,false,false,true,false,true,true,false,true,false,false,true,true,false,true,false,false,false,true,false,true,true,true,false,true,true,false,true,true,true,true,true,false,true,true,true,true,true,true,true,false,true,false,true,true,false,true,false,false,false,true,false,false,true,true,false,true,true,true,true,false,true,true,false,false,true,false,true,false,false,false,false,true,true,true,true,true,false,true,true,true,true,false,false,true,false,true,true,true,false,false,false,true,false,true,false,false,false,true,false,false,false,false,false,false,true,true,false,false,false,false,false,true,true,false,false,true,true,false,true,true,false,false,false,false,false,false,false,false,false,false,false,true,true,true,true,false,false,true,false,false,true,true,true,false,false,false,false,true,false,false,false,false,false,true,true,true,false,false,false,true,true,false,false,false,false,true,true,false,false,false,true,true,false,true,true,true,false,false,false,false,false,false,true,true,false,true,false,false,true,false,true,true,true,true,true,false,false,true,false,false,false,true,false,false,false,false,false,false,true,true,true,true,false,false,true,false,false,false,true,true,false,false,true,true,true,false,false,true,false,false,true,false,false,false,false,true,true,false,true,true,false,false,false,true,false,false,true,true,true,false,false,false,true,false,false,true,false,false,false,false,true,false,true,true,true,false,false,false,false,true,true,true,false,false,false,false,true,false,true,false,false,false,false,false,false,true,true,false,false,false,false,true,false,false,true,true,true,false,true,true,true,false,false,true,true,true,false,false,true,true,false,false,false,false,true,true,false,false,false,true,true,true,false,true,false,false,true,false,true,false,false,true,true,false,false,true,true,false,false,false,true,true,true,true,false,true,false,true,false,true,true,false,true,true,true,true,true,false,false,true,true,true,false,true,false,true,true,false,true,false,false,false,false,true,true,true,false,true,true,true,false,true,false,true,false,false,false,true,true,true,false,true,true,true,true,true,true,false,true,false,true,false,true,true,true,true,true,true,false,true,true,false,true,false,false,true,false,true],\"type\":\"bar\"}],                        {\"template\":{\"data\":{\"bar\":[{\"error_x\":{\"color\":\"#2a3f5f\"},\"error_y\":{\"color\":\"#2a3f5f\"},\"marker\":{\"line\":{\"color\":\"#E5ECF6\",\"width\":0.5},\"pattern\":{\"fillmode\":\"overlay\",\"size\":10,\"solidity\":0.2}},\"type\":\"bar\"}],\"barpolar\":[{\"marker\":{\"line\":{\"color\":\"#E5ECF6\",\"width\":0.5},\"pattern\":{\"fillmode\":\"overlay\",\"size\":10,\"solidity\":0.2}},\"type\":\"barpolar\"}],\"carpet\":[{\"aaxis\":{\"endlinecolor\":\"#2a3f5f\",\"gridcolor\":\"white\",\"linecolor\":\"white\",\"minorgridcolor\":\"white\",\"startlinecolor\":\"#2a3f5f\"},\"baxis\":{\"endlinecolor\":\"#2a3f5f\",\"gridcolor\":\"white\",\"linecolor\":\"white\",\"minorgridcolor\":\"white\",\"startlinecolor\":\"#2a3f5f\"},\"type\":\"carpet\"}],\"choropleth\":[{\"colorbar\":{\"outlinewidth\":0,\"ticks\":\"\"},\"type\":\"choropleth\"}],\"contour\":[{\"colorbar\":{\"outlinewidth\":0,\"ticks\":\"\"},\"colorscale\":[[0.0,\"#0d0887\"],[0.1111111111111111,\"#46039f\"],[0.2222222222222222,\"#7201a8\"],[0.3333333333333333,\"#9c179e\"],[0.4444444444444444,\"#bd3786\"],[0.5555555555555556,\"#d8576b\"],[0.6666666666666666,\"#ed7953\"],[0.7777777777777778,\"#fb9f3a\"],[0.8888888888888888,\"#fdca26\"],[1.0,\"#f0f921\"]],\"type\":\"contour\"}],\"contourcarpet\":[{\"colorbar\":{\"outlinewidth\":0,\"ticks\":\"\"},\"type\":\"contourcarpet\"}],\"heatmap\":[{\"colorbar\":{\"outlinewidth\":0,\"ticks\":\"\"},\"colorscale\":[[0.0,\"#0d0887\"],[0.1111111111111111,\"#46039f\"],[0.2222222222222222,\"#7201a8\"],[0.3333333333333333,\"#9c179e\"],[0.4444444444444444,\"#bd3786\"],[0.5555555555555556,\"#d8576b\"],[0.6666666666666666,\"#ed7953\"],[0.7777777777777778,\"#fb9f3a\"],[0.8888888888888888,\"#fdca26\"],[1.0,\"#f0f921\"]],\"type\":\"heatmap\"}],\"heatmapgl\":[{\"colorbar\":{\"outlinewidth\":0,\"ticks\":\"\"},\"colorscale\":[[0.0,\"#0d0887\"],[0.1111111111111111,\"#46039f\"],[0.2222222222222222,\"#7201a8\"],[0.3333333333333333,\"#9c179e\"],[0.4444444444444444,\"#bd3786\"],[0.5555555555555556,\"#d8576b\"],[0.6666666666666666,\"#ed7953\"],[0.7777777777777778,\"#fb9f3a\"],[0.8888888888888888,\"#fdca26\"],[1.0,\"#f0f921\"]],\"type\":\"heatmapgl\"}],\"histogram\":[{\"marker\":{\"pattern\":{\"fillmode\":\"overlay\",\"size\":10,\"solidity\":0.2}},\"type\":\"histogram\"}],\"histogram2d\":[{\"colorbar\":{\"outlinewidth\":0,\"ticks\":\"\"},\"colorscale\":[[0.0,\"#0d0887\"],[0.1111111111111111,\"#46039f\"],[0.2222222222222222,\"#7201a8\"],[0.3333333333333333,\"#9c179e\"],[0.4444444444444444,\"#bd3786\"],[0.5555555555555556,\"#d8576b\"],[0.6666666666666666,\"#ed7953\"],[0.7777777777777778,\"#fb9f3a\"],[0.8888888888888888,\"#fdca26\"],[1.0,\"#f0f921\"]],\"type\":\"histogram2d\"}],\"histogram2dcontour\":[{\"colorbar\":{\"outlinewidth\":0,\"ticks\":\"\"},\"colorscale\":[[0.0,\"#0d0887\"],[0.1111111111111111,\"#46039f\"],[0.2222222222222222,\"#7201a8\"],[0.3333333333333333,\"#9c179e\"],[0.4444444444444444,\"#bd3786\"],[0.5555555555555556,\"#d8576b\"],[0.6666666666666666,\"#ed7953\"],[0.7777777777777778,\"#fb9f3a\"],[0.8888888888888888,\"#fdca26\"],[1.0,\"#f0f921\"]],\"type\":\"histogram2dcontour\"}],\"mesh3d\":[{\"colorbar\":{\"outlinewidth\":0,\"ticks\":\"\"},\"type\":\"mesh3d\"}],\"parcoords\":[{\"line\":{\"colorbar\":{\"outlinewidth\":0,\"ticks\":\"\"}},\"type\":\"parcoords\"}],\"pie\":[{\"automargin\":true,\"type\":\"pie\"}],\"scatter\":[{\"marker\":{\"colorbar\":{\"outlinewidth\":0,\"ticks\":\"\"}},\"type\":\"scatter\"}],\"scatter3d\":[{\"line\":{\"colorbar\":{\"outlinewidth\":0,\"ticks\":\"\"}},\"marker\":{\"colorbar\":{\"outlinewidth\":0,\"ticks\":\"\"}},\"type\":\"scatter3d\"}],\"scattercarpet\":[{\"marker\":{\"colorbar\":{\"outlinewidth\":0,\"ticks\":\"\"}},\"type\":\"scattercarpet\"}],\"scattergeo\":[{\"marker\":{\"colorbar\":{\"outlinewidth\":0,\"ticks\":\"\"}},\"type\":\"scattergeo\"}],\"scattergl\":[{\"marker\":{\"colorbar\":{\"outlinewidth\":0,\"ticks\":\"\"}},\"type\":\"scattergl\"}],\"scattermapbox\":[{\"marker\":{\"colorbar\":{\"outlinewidth\":0,\"ticks\":\"\"}},\"type\":\"scattermapbox\"}],\"scatterpolar\":[{\"marker\":{\"colorbar\":{\"outlinewidth\":0,\"ticks\":\"\"}},\"type\":\"scatterpolar\"}],\"scatterpolargl\":[{\"marker\":{\"colorbar\":{\"outlinewidth\":0,\"ticks\":\"\"}},\"type\":\"scatterpolargl\"}],\"scatterternary\":[{\"marker\":{\"colorbar\":{\"outlinewidth\":0,\"ticks\":\"\"}},\"type\":\"scatterternary\"}],\"surface\":[{\"colorbar\":{\"outlinewidth\":0,\"ticks\":\"\"},\"colorscale\":[[0.0,\"#0d0887\"],[0.1111111111111111,\"#46039f\"],[0.2222222222222222,\"#7201a8\"],[0.3333333333333333,\"#9c179e\"],[0.4444444444444444,\"#bd3786\"],[0.5555555555555556,\"#d8576b\"],[0.6666666666666666,\"#ed7953\"],[0.7777777777777778,\"#fb9f3a\"],[0.8888888888888888,\"#fdca26\"],[1.0,\"#f0f921\"]],\"type\":\"surface\"}],\"table\":[{\"cells\":{\"fill\":{\"color\":\"#EBF0F8\"},\"line\":{\"color\":\"white\"}},\"header\":{\"fill\":{\"color\":\"#C8D4E3\"},\"line\":{\"color\":\"white\"}},\"type\":\"table\"}]},\"layout\":{\"annotationdefaults\":{\"arrowcolor\":\"#2a3f5f\",\"arrowhead\":0,\"arrowwidth\":1},\"autotypenumbers\":\"strict\",\"coloraxis\":{\"colorbar\":{\"outlinewidth\":0,\"ticks\":\"\"}},\"colorscale\":{\"diverging\":[[0,\"#8e0152\"],[0.1,\"#c51b7d\"],[0.2,\"#de77ae\"],[0.3,\"#f1b6da\"],[0.4,\"#fde0ef\"],[0.5,\"#f7f7f7\"],[0.6,\"#e6f5d0\"],[0.7,\"#b8e186\"],[0.8,\"#7fbc41\"],[0.9,\"#4d9221\"],[1,\"#276419\"]],\"sequential\":[[0.0,\"#0d0887\"],[0.1111111111111111,\"#46039f\"],[0.2222222222222222,\"#7201a8\"],[0.3333333333333333,\"#9c179e\"],[0.4444444444444444,\"#bd3786\"],[0.5555555555555556,\"#d8576b\"],[0.6666666666666666,\"#ed7953\"],[0.7777777777777778,\"#fb9f3a\"],[0.8888888888888888,\"#fdca26\"],[1.0,\"#f0f921\"]],\"sequentialminus\":[[0.0,\"#0d0887\"],[0.1111111111111111,\"#46039f\"],[0.2222222222222222,\"#7201a8\"],[0.3333333333333333,\"#9c179e\"],[0.4444444444444444,\"#bd3786\"],[0.5555555555555556,\"#d8576b\"],[0.6666666666666666,\"#ed7953\"],[0.7777777777777778,\"#fb9f3a\"],[0.8888888888888888,\"#fdca26\"],[1.0,\"#f0f921\"]]},\"colorway\":[\"#636efa\",\"#EF553B\",\"#00cc96\",\"#ab63fa\",\"#FFA15A\",\"#19d3f3\",\"#FF6692\",\"#B6E880\",\"#FF97FF\",\"#FECB52\"],\"font\":{\"color\":\"#2a3f5f\"},\"geo\":{\"bgcolor\":\"white\",\"lakecolor\":\"white\",\"landcolor\":\"#E5ECF6\",\"showlakes\":true,\"showland\":true,\"subunitcolor\":\"white\"},\"hoverlabel\":{\"align\":\"left\"},\"hovermode\":\"closest\",\"mapbox\":{\"style\":\"light\"},\"paper_bgcolor\":\"white\",\"plot_bgcolor\":\"#E5ECF6\",\"polar\":{\"angularaxis\":{\"gridcolor\":\"white\",\"linecolor\":\"white\",\"ticks\":\"\"},\"bgcolor\":\"#E5ECF6\",\"radialaxis\":{\"gridcolor\":\"white\",\"linecolor\":\"white\",\"ticks\":\"\"}},\"scene\":{\"xaxis\":{\"backgroundcolor\":\"#E5ECF6\",\"gridcolor\":\"white\",\"gridwidth\":2,\"linecolor\":\"white\",\"showbackground\":true,\"ticks\":\"\",\"zerolinecolor\":\"white\"},\"yaxis\":{\"backgroundcolor\":\"#E5ECF6\",\"gridcolor\":\"white\",\"gridwidth\":2,\"linecolor\":\"white\",\"showbackground\":true,\"ticks\":\"\",\"zerolinecolor\":\"white\"},\"zaxis\":{\"backgroundcolor\":\"#E5ECF6\",\"gridcolor\":\"white\",\"gridwidth\":2,\"linecolor\":\"white\",\"showbackground\":true,\"ticks\":\"\",\"zerolinecolor\":\"white\"}},\"shapedefaults\":{\"line\":{\"color\":\"#2a3f5f\"}},\"ternary\":{\"aaxis\":{\"gridcolor\":\"white\",\"linecolor\":\"white\",\"ticks\":\"\"},\"baxis\":{\"gridcolor\":\"white\",\"linecolor\":\"white\",\"ticks\":\"\"},\"bgcolor\":\"#E5ECF6\",\"caxis\":{\"gridcolor\":\"white\",\"linecolor\":\"white\",\"ticks\":\"\"}},\"title\":{\"x\":0.05},\"xaxis\":{\"automargin\":true,\"gridcolor\":\"white\",\"linecolor\":\"white\",\"ticks\":\"\",\"title\":{\"standoff\":15},\"zerolinecolor\":\"white\",\"zerolinewidth\":2},\"yaxis\":{\"automargin\":true,\"gridcolor\":\"white\",\"linecolor\":\"white\",\"ticks\":\"\",\"title\":{\"standoff\":15},\"zerolinecolor\":\"white\",\"zerolinewidth\":2}}},\"barmode\":\"group\"},                        {\"responsive\": true}                    ).then(function(){\n",
       "                            \n",
       "var gd = document.getElementById('f2880365-aee2-48eb-a877-edc1b3ae2cfc');\n",
       "var x = new MutationObserver(function (mutations, observer) {{\n",
       "        var display = window.getComputedStyle(gd).display;\n",
       "        if (!display || display === 'none') {{\n",
       "            console.log([gd, 'removed!']);\n",
       "            Plotly.purge(gd);\n",
       "            observer.disconnect();\n",
       "        }}\n",
       "}});\n",
       "\n",
       "// Listen for the removal of the full notebook cells\n",
       "var notebookContainer = gd.closest('#notebook-container');\n",
       "if (notebookContainer) {{\n",
       "    x.observe(notebookContainer, {childList: true});\n",
       "}}\n",
       "\n",
       "// Listen for the clearing of the current output cell\n",
       "var outputEl = gd.closest('.output');\n",
       "if (outputEl) {{\n",
       "    x.observe(outputEl, {childList: true});\n",
       "}}\n",
       "\n",
       "                        })                };                });            </script>        </div>"
      ]
     },
     "metadata": {},
     "output_type": "display_data"
    }
   ],
   "source": [
    "\n",
    "fig = go.Figure(\n",
    "    go.Bar(x=train_fig['HomePlanet'], y=train_fig['Transported']))\n",
    "# Change the bar mode\n",
    "fig.update_layout(barmode='group')\n",
    "fig.show()"
   ]
  },
  {
   "cell_type": "code",
   "execution_count": null,
   "id": "1d61a3c7",
   "metadata": {
    "papermill": {
     "duration": 0.072279,
     "end_time": "2022-04-03T14:36:34.289796",
     "exception": false,
     "start_time": "2022-04-03T14:36:34.217517",
     "status": "completed"
    },
    "tags": []
   },
   "outputs": [],
   "source": []
  },
  {
   "cell_type": "code",
   "execution_count": null,
   "id": "2326cdc3",
   "metadata": {
    "papermill": {
     "duration": 0.071845,
     "end_time": "2022-04-03T14:36:34.434672",
     "exception": false,
     "start_time": "2022-04-03T14:36:34.362827",
     "status": "completed"
    },
    "tags": []
   },
   "outputs": [],
   "source": []
  },
  {
   "cell_type": "markdown",
   "id": "eb9d5ee6",
   "metadata": {
    "papermill": {
     "duration": 0.071455,
     "end_time": "2022-04-03T14:36:34.578736",
     "exception": false,
     "start_time": "2022-04-03T14:36:34.507281",
     "status": "completed"
    },
    "tags": []
   },
   "source": [
    "극히 일부가 많은 돈을 사용했다."
   ]
  },
  {
   "cell_type": "code",
   "execution_count": 23,
   "id": "8d6bae3c",
   "metadata": {
    "execution": {
     "iopub.execute_input": "2022-04-03T14:36:34.728391Z",
     "iopub.status.busy": "2022-04-03T14:36:34.727684Z",
     "iopub.status.idle": "2022-04-03T14:36:34.730291Z",
     "shell.execute_reply": "2022-04-03T14:36:34.730796Z",
     "shell.execute_reply.started": "2022-04-03T12:31:32.552407Z"
    },
    "papermill": {
     "duration": 0.08041,
     "end_time": "2022-04-03T14:36:34.730965",
     "exception": false,
     "start_time": "2022-04-03T14:36:34.650555",
     "status": "completed"
    },
    "tags": []
   },
   "outputs": [
    {
     "data": {
      "text/plain": [
       "\"fig = px.histogram(train_pay, x = Pay,\\n                  marginal = 'box',nbins = 100)\\nfig.show()\""
      ]
     },
     "execution_count": 23,
     "metadata": {},
     "output_type": "execute_result"
    }
   ],
   "source": [
    "'''fig = px.histogram(train_pay, x = Pay,\n",
    "                  marginal = 'box',nbins = 100)\n",
    "fig.show()'''"
   ]
  },
  {
   "cell_type": "markdown",
   "id": "1f0ca5ee",
   "metadata": {
    "papermill": {
     "duration": 0.071805,
     "end_time": "2022-04-03T14:36:34.874495",
     "exception": false,
     "start_time": "2022-04-03T14:36:34.802690",
     "status": "completed"
    },
    "tags": []
   },
   "source": [
    "- passenger id 나누기 -> 가족"
   ]
  },
  {
   "cell_type": "code",
   "execution_count": 24,
   "id": "306d8f48",
   "metadata": {
    "execution": {
     "iopub.execute_input": "2022-04-03T14:36:35.029438Z",
     "iopub.status.busy": "2022-04-03T14:36:35.028633Z",
     "iopub.status.idle": "2022-04-03T14:36:35.031815Z",
     "shell.execute_reply": "2022-04-03T14:36:35.032324Z",
     "shell.execute_reply.started": "2022-04-03T12:31:32.843690Z"
    },
    "papermill": {
     "duration": 0.081512,
     "end_time": "2022-04-03T14:36:35.032509",
     "exception": false,
     "start_time": "2022-04-03T14:36:34.950997",
     "status": "completed"
    },
    "tags": []
   },
   "outputs": [],
   "source": [
    "t = train.copy()"
   ]
  },
  {
   "cell_type": "code",
   "execution_count": 25,
   "id": "0616f8b8",
   "metadata": {
    "execution": {
     "iopub.execute_input": "2022-04-03T14:36:35.208817Z",
     "iopub.status.busy": "2022-04-03T14:36:35.207995Z",
     "iopub.status.idle": "2022-04-03T14:36:35.224650Z",
     "shell.execute_reply": "2022-04-03T14:36:35.224047Z",
     "shell.execute_reply.started": "2022-04-03T12:31:32.850295Z"
    },
    "papermill": {
     "duration": 0.108553,
     "end_time": "2022-04-03T14:36:35.224805",
     "exception": false,
     "start_time": "2022-04-03T14:36:35.116252",
     "status": "completed"
    },
    "tags": []
   },
   "outputs": [],
   "source": [
    "t['Group'] = t['PassengerId'].apply(lambda x : str(x[:4])).astype(int)\n",
    "test['Group'] = test['PassengerId'].apply(lambda x : str(x[:4])).astype(int)"
   ]
  },
  {
   "cell_type": "code",
   "execution_count": 26,
   "id": "89b64c71",
   "metadata": {
    "execution": {
     "iopub.execute_input": "2022-04-03T14:36:35.375177Z",
     "iopub.status.busy": "2022-04-03T14:36:35.374414Z",
     "iopub.status.idle": "2022-04-03T14:36:35.393926Z",
     "shell.execute_reply": "2022-04-03T14:36:35.394552Z",
     "shell.execute_reply.started": "2022-04-03T12:31:32.876505Z"
    },
    "papermill": {
     "duration": 0.097616,
     "end_time": "2022-04-03T14:36:35.394780",
     "exception": false,
     "start_time": "2022-04-03T14:36:35.297164",
     "status": "completed"
    },
    "tags": []
   },
   "outputs": [
    {
     "name": "stdout",
     "output_type": "stream",
     "text": [
      "<class 'pandas.core.frame.DataFrame'>\n",
      "RangeIndex: 8693 entries, 0 to 8692\n",
      "Data columns (total 15 columns):\n",
      " #   Column        Non-Null Count  Dtype  \n",
      "---  ------        --------------  -----  \n",
      " 0   PassengerId   8693 non-null   object \n",
      " 1   HomePlanet    8492 non-null   object \n",
      " 2   CryoSleep     8476 non-null   object \n",
      " 3   Cabin         8494 non-null   object \n",
      " 4   Destination   8511 non-null   object \n",
      " 5   Age           8514 non-null   float64\n",
      " 6   VIP           8490 non-null   object \n",
      " 7   RoomService   8512 non-null   float64\n",
      " 8   FoodCourt     8510 non-null   float64\n",
      " 9   ShoppingMall  8485 non-null   float64\n",
      " 10  Spa           8510 non-null   float64\n",
      " 11  VRDeck        8505 non-null   float64\n",
      " 12  Name          8493 non-null   object \n",
      " 13  Transported   8693 non-null   bool   \n",
      " 14  Group         8693 non-null   int64  \n",
      "dtypes: bool(1), float64(6), int64(1), object(7)\n",
      "memory usage: 959.4+ KB\n"
     ]
    }
   ],
   "source": [
    "t.info()"
   ]
  },
  {
   "cell_type": "code",
   "execution_count": 27,
   "id": "3be530d1",
   "metadata": {
    "execution": {
     "iopub.execute_input": "2022-04-03T14:36:35.545071Z",
     "iopub.status.busy": "2022-04-03T14:36:35.544321Z",
     "iopub.status.idle": "2022-04-03T14:36:35.550078Z",
     "shell.execute_reply": "2022-04-03T14:36:35.550730Z",
     "shell.execute_reply.started": "2022-04-03T12:31:32.899405Z"
    },
    "papermill": {
     "duration": 0.082124,
     "end_time": "2022-04-03T14:36:35.550903",
     "exception": false,
     "start_time": "2022-04-03T14:36:35.468779",
     "status": "completed"
    },
    "tags": []
   },
   "outputs": [
    {
     "data": {
      "text/plain": [
       "0    1\n",
       "1    2\n",
       "2    3\n",
       "3    3\n",
       "4    4\n",
       "5    5\n",
       "6    6\n",
       "7    6\n",
       "8    7\n",
       "9    8\n",
       "Name: Group, dtype: int64"
      ]
     },
     "execution_count": 27,
     "metadata": {},
     "output_type": "execute_result"
    }
   ],
   "source": [
    "t['Group'].head(10)"
   ]
  },
  {
   "cell_type": "code",
   "execution_count": 28,
   "id": "76da868d",
   "metadata": {
    "execution": {
     "iopub.execute_input": "2022-04-03T14:36:35.701391Z",
     "iopub.status.busy": "2022-04-03T14:36:35.700715Z",
     "iopub.status.idle": "2022-04-03T14:36:35.708440Z",
     "shell.execute_reply": "2022-04-03T14:36:35.708967Z",
     "shell.execute_reply.started": "2022-04-03T12:31:32.909092Z"
    },
    "papermill": {
     "duration": 0.085259,
     "end_time": "2022-04-03T14:36:35.709142",
     "exception": false,
     "start_time": "2022-04-03T14:36:35.623883",
     "status": "completed"
    },
    "tags": []
   },
   "outputs": [],
   "source": [
    "t['FamilySize'] = t.groupby('Group')['Group'].transform('count')\n",
    "test['FamilySize'] = test.groupby('Group')['Group'].transform('count')"
   ]
  },
  {
   "cell_type": "code",
   "execution_count": 29,
   "id": "48dde9c1",
   "metadata": {
    "execution": {
     "iopub.execute_input": "2022-04-03T14:36:35.857727Z",
     "iopub.status.busy": "2022-04-03T14:36:35.857023Z",
     "iopub.status.idle": "2022-04-03T14:36:35.866735Z",
     "shell.execute_reply": "2022-04-03T14:36:35.867324Z",
     "shell.execute_reply.started": "2022-04-03T12:31:32.924537Z"
    },
    "papermill": {
     "duration": 0.086122,
     "end_time": "2022-04-03T14:36:35.867491",
     "exception": false,
     "start_time": "2022-04-03T14:36:35.781369",
     "status": "completed"
    },
    "tags": []
   },
   "outputs": [
    {
     "data": {
      "text/html": [
       "<div>\n",
       "<style scoped>\n",
       "    .dataframe tbody tr th:only-of-type {\n",
       "        vertical-align: middle;\n",
       "    }\n",
       "\n",
       "    .dataframe tbody tr th {\n",
       "        vertical-align: top;\n",
       "    }\n",
       "\n",
       "    .dataframe thead th {\n",
       "        text-align: right;\n",
       "    }\n",
       "</style>\n",
       "<table border=\"1\" class=\"dataframe\">\n",
       "  <thead>\n",
       "    <tr style=\"text-align: right;\">\n",
       "      <th></th>\n",
       "      <th>Group</th>\n",
       "      <th>FamilySize</th>\n",
       "    </tr>\n",
       "  </thead>\n",
       "  <tbody>\n",
       "    <tr>\n",
       "      <th>0</th>\n",
       "      <td>1</td>\n",
       "      <td>1</td>\n",
       "    </tr>\n",
       "    <tr>\n",
       "      <th>1</th>\n",
       "      <td>2</td>\n",
       "      <td>1</td>\n",
       "    </tr>\n",
       "    <tr>\n",
       "      <th>2</th>\n",
       "      <td>3</td>\n",
       "      <td>2</td>\n",
       "    </tr>\n",
       "    <tr>\n",
       "      <th>3</th>\n",
       "      <td>3</td>\n",
       "      <td>2</td>\n",
       "    </tr>\n",
       "    <tr>\n",
       "      <th>4</th>\n",
       "      <td>4</td>\n",
       "      <td>1</td>\n",
       "    </tr>\n",
       "    <tr>\n",
       "      <th>5</th>\n",
       "      <td>5</td>\n",
       "      <td>1</td>\n",
       "    </tr>\n",
       "    <tr>\n",
       "      <th>6</th>\n",
       "      <td>6</td>\n",
       "      <td>2</td>\n",
       "    </tr>\n",
       "    <tr>\n",
       "      <th>7</th>\n",
       "      <td>6</td>\n",
       "      <td>2</td>\n",
       "    </tr>\n",
       "    <tr>\n",
       "      <th>8</th>\n",
       "      <td>7</td>\n",
       "      <td>1</td>\n",
       "    </tr>\n",
       "    <tr>\n",
       "      <th>9</th>\n",
       "      <td>8</td>\n",
       "      <td>3</td>\n",
       "    </tr>\n",
       "    <tr>\n",
       "      <th>10</th>\n",
       "      <td>8</td>\n",
       "      <td>3</td>\n",
       "    </tr>\n",
       "    <tr>\n",
       "      <th>11</th>\n",
       "      <td>8</td>\n",
       "      <td>3</td>\n",
       "    </tr>\n",
       "    <tr>\n",
       "      <th>12</th>\n",
       "      <td>9</td>\n",
       "      <td>1</td>\n",
       "    </tr>\n",
       "    <tr>\n",
       "      <th>13</th>\n",
       "      <td>10</td>\n",
       "      <td>1</td>\n",
       "    </tr>\n",
       "    <tr>\n",
       "      <th>14</th>\n",
       "      <td>11</td>\n",
       "      <td>1</td>\n",
       "    </tr>\n",
       "  </tbody>\n",
       "</table>\n",
       "</div>"
      ],
      "text/plain": [
       "    Group  FamilySize\n",
       "0       1           1\n",
       "1       2           1\n",
       "2       3           2\n",
       "3       3           2\n",
       "4       4           1\n",
       "5       5           1\n",
       "6       6           2\n",
       "7       6           2\n",
       "8       7           1\n",
       "9       8           3\n",
       "10      8           3\n",
       "11      8           3\n",
       "12      9           1\n",
       "13     10           1\n",
       "14     11           1"
      ]
     },
     "execution_count": 29,
     "metadata": {},
     "output_type": "execute_result"
    }
   ],
   "source": [
    "t[['Group','FamilySize']].head(15)"
   ]
  },
  {
   "cell_type": "code",
   "execution_count": 30,
   "id": "d2d488ed",
   "metadata": {
    "execution": {
     "iopub.execute_input": "2022-04-03T14:36:36.021708Z",
     "iopub.status.busy": "2022-04-03T14:36:36.020965Z",
     "iopub.status.idle": "2022-04-03T14:36:36.049196Z",
     "shell.execute_reply": "2022-04-03T14:36:36.048474Z",
     "shell.execute_reply.started": "2022-04-03T12:31:32.938678Z"
    },
    "papermill": {
     "duration": 0.108179,
     "end_time": "2022-04-03T14:36:36.049339",
     "exception": false,
     "start_time": "2022-04-03T14:36:35.941160",
     "status": "completed"
    },
    "tags": []
   },
   "outputs": [
    {
     "data": {
      "text/html": [
       "<div>\n",
       "<style scoped>\n",
       "    .dataframe tbody tr th:only-of-type {\n",
       "        vertical-align: middle;\n",
       "    }\n",
       "\n",
       "    .dataframe tbody tr th {\n",
       "        vertical-align: top;\n",
       "    }\n",
       "\n",
       "    .dataframe thead th {\n",
       "        text-align: right;\n",
       "    }\n",
       "</style>\n",
       "<table border=\"1\" class=\"dataframe\">\n",
       "  <thead>\n",
       "    <tr style=\"text-align: right;\">\n",
       "      <th></th>\n",
       "      <th>PassengerId</th>\n",
       "      <th>HomePlanet</th>\n",
       "      <th>CryoSleep</th>\n",
       "      <th>Cabin</th>\n",
       "      <th>Destination</th>\n",
       "      <th>Age</th>\n",
       "      <th>VIP</th>\n",
       "      <th>RoomService</th>\n",
       "      <th>FoodCourt</th>\n",
       "      <th>ShoppingMall</th>\n",
       "      <th>Spa</th>\n",
       "      <th>VRDeck</th>\n",
       "      <th>Name</th>\n",
       "      <th>Transported</th>\n",
       "      <th>Group</th>\n",
       "      <th>FamilySize</th>\n",
       "    </tr>\n",
       "  </thead>\n",
       "  <tbody>\n",
       "    <tr>\n",
       "      <th>0</th>\n",
       "      <td>0001_01</td>\n",
       "      <td>Europa</td>\n",
       "      <td>False</td>\n",
       "      <td>B/0/P</td>\n",
       "      <td>TRAPPIST-1e</td>\n",
       "      <td>39.0</td>\n",
       "      <td>False</td>\n",
       "      <td>0.0</td>\n",
       "      <td>0.0</td>\n",
       "      <td>0.0</td>\n",
       "      <td>0.0</td>\n",
       "      <td>0.0</td>\n",
       "      <td>Maham Ofracculy</td>\n",
       "      <td>False</td>\n",
       "      <td>1</td>\n",
       "      <td>1</td>\n",
       "    </tr>\n",
       "    <tr>\n",
       "      <th>1</th>\n",
       "      <td>0002_01</td>\n",
       "      <td>Earth</td>\n",
       "      <td>False</td>\n",
       "      <td>F/0/S</td>\n",
       "      <td>TRAPPIST-1e</td>\n",
       "      <td>24.0</td>\n",
       "      <td>False</td>\n",
       "      <td>109.0</td>\n",
       "      <td>9.0</td>\n",
       "      <td>25.0</td>\n",
       "      <td>549.0</td>\n",
       "      <td>44.0</td>\n",
       "      <td>Juanna Vines</td>\n",
       "      <td>True</td>\n",
       "      <td>2</td>\n",
       "      <td>1</td>\n",
       "    </tr>\n",
       "    <tr>\n",
       "      <th>2</th>\n",
       "      <td>0003_01</td>\n",
       "      <td>Europa</td>\n",
       "      <td>False</td>\n",
       "      <td>A/0/S</td>\n",
       "      <td>TRAPPIST-1e</td>\n",
       "      <td>58.0</td>\n",
       "      <td>True</td>\n",
       "      <td>43.0</td>\n",
       "      <td>3576.0</td>\n",
       "      <td>0.0</td>\n",
       "      <td>6715.0</td>\n",
       "      <td>49.0</td>\n",
       "      <td>Altark Susent</td>\n",
       "      <td>False</td>\n",
       "      <td>3</td>\n",
       "      <td>2</td>\n",
       "    </tr>\n",
       "    <tr>\n",
       "      <th>3</th>\n",
       "      <td>0003_02</td>\n",
       "      <td>Europa</td>\n",
       "      <td>False</td>\n",
       "      <td>A/0/S</td>\n",
       "      <td>TRAPPIST-1e</td>\n",
       "      <td>33.0</td>\n",
       "      <td>False</td>\n",
       "      <td>0.0</td>\n",
       "      <td>1283.0</td>\n",
       "      <td>371.0</td>\n",
       "      <td>3329.0</td>\n",
       "      <td>193.0</td>\n",
       "      <td>Solam Susent</td>\n",
       "      <td>False</td>\n",
       "      <td>3</td>\n",
       "      <td>2</td>\n",
       "    </tr>\n",
       "    <tr>\n",
       "      <th>4</th>\n",
       "      <td>0004_01</td>\n",
       "      <td>Earth</td>\n",
       "      <td>False</td>\n",
       "      <td>F/1/S</td>\n",
       "      <td>TRAPPIST-1e</td>\n",
       "      <td>16.0</td>\n",
       "      <td>False</td>\n",
       "      <td>303.0</td>\n",
       "      <td>70.0</td>\n",
       "      <td>151.0</td>\n",
       "      <td>565.0</td>\n",
       "      <td>2.0</td>\n",
       "      <td>Willy Santantines</td>\n",
       "      <td>True</td>\n",
       "      <td>4</td>\n",
       "      <td>1</td>\n",
       "    </tr>\n",
       "    <tr>\n",
       "      <th>...</th>\n",
       "      <td>...</td>\n",
       "      <td>...</td>\n",
       "      <td>...</td>\n",
       "      <td>...</td>\n",
       "      <td>...</td>\n",
       "      <td>...</td>\n",
       "      <td>...</td>\n",
       "      <td>...</td>\n",
       "      <td>...</td>\n",
       "      <td>...</td>\n",
       "      <td>...</td>\n",
       "      <td>...</td>\n",
       "      <td>...</td>\n",
       "      <td>...</td>\n",
       "      <td>...</td>\n",
       "      <td>...</td>\n",
       "    </tr>\n",
       "    <tr>\n",
       "      <th>8688</th>\n",
       "      <td>9276_01</td>\n",
       "      <td>Europa</td>\n",
       "      <td>False</td>\n",
       "      <td>A/98/P</td>\n",
       "      <td>55 Cancri e</td>\n",
       "      <td>41.0</td>\n",
       "      <td>True</td>\n",
       "      <td>0.0</td>\n",
       "      <td>6819.0</td>\n",
       "      <td>0.0</td>\n",
       "      <td>1643.0</td>\n",
       "      <td>74.0</td>\n",
       "      <td>Gravior Noxnuther</td>\n",
       "      <td>False</td>\n",
       "      <td>9276</td>\n",
       "      <td>1</td>\n",
       "    </tr>\n",
       "    <tr>\n",
       "      <th>8689</th>\n",
       "      <td>9278_01</td>\n",
       "      <td>Earth</td>\n",
       "      <td>True</td>\n",
       "      <td>G/1499/S</td>\n",
       "      <td>PSO J318.5-22</td>\n",
       "      <td>18.0</td>\n",
       "      <td>False</td>\n",
       "      <td>0.0</td>\n",
       "      <td>0.0</td>\n",
       "      <td>0.0</td>\n",
       "      <td>0.0</td>\n",
       "      <td>0.0</td>\n",
       "      <td>Kurta Mondalley</td>\n",
       "      <td>False</td>\n",
       "      <td>9278</td>\n",
       "      <td>1</td>\n",
       "    </tr>\n",
       "    <tr>\n",
       "      <th>8690</th>\n",
       "      <td>9279_01</td>\n",
       "      <td>Earth</td>\n",
       "      <td>False</td>\n",
       "      <td>G/1500/S</td>\n",
       "      <td>TRAPPIST-1e</td>\n",
       "      <td>26.0</td>\n",
       "      <td>False</td>\n",
       "      <td>0.0</td>\n",
       "      <td>0.0</td>\n",
       "      <td>1872.0</td>\n",
       "      <td>1.0</td>\n",
       "      <td>0.0</td>\n",
       "      <td>Fayey Connon</td>\n",
       "      <td>True</td>\n",
       "      <td>9279</td>\n",
       "      <td>1</td>\n",
       "    </tr>\n",
       "    <tr>\n",
       "      <th>8691</th>\n",
       "      <td>9280_01</td>\n",
       "      <td>Europa</td>\n",
       "      <td>False</td>\n",
       "      <td>E/608/S</td>\n",
       "      <td>55 Cancri e</td>\n",
       "      <td>32.0</td>\n",
       "      <td>False</td>\n",
       "      <td>0.0</td>\n",
       "      <td>1049.0</td>\n",
       "      <td>0.0</td>\n",
       "      <td>353.0</td>\n",
       "      <td>3235.0</td>\n",
       "      <td>Celeon Hontichre</td>\n",
       "      <td>False</td>\n",
       "      <td>9280</td>\n",
       "      <td>2</td>\n",
       "    </tr>\n",
       "    <tr>\n",
       "      <th>8692</th>\n",
       "      <td>9280_02</td>\n",
       "      <td>Europa</td>\n",
       "      <td>False</td>\n",
       "      <td>E/608/S</td>\n",
       "      <td>TRAPPIST-1e</td>\n",
       "      <td>44.0</td>\n",
       "      <td>False</td>\n",
       "      <td>126.0</td>\n",
       "      <td>4688.0</td>\n",
       "      <td>0.0</td>\n",
       "      <td>0.0</td>\n",
       "      <td>12.0</td>\n",
       "      <td>Propsh Hontichre</td>\n",
       "      <td>True</td>\n",
       "      <td>9280</td>\n",
       "      <td>2</td>\n",
       "    </tr>\n",
       "  </tbody>\n",
       "</table>\n",
       "<p>8693 rows × 16 columns</p>\n",
       "</div>"
      ],
      "text/plain": [
       "     PassengerId HomePlanet CryoSleep     Cabin    Destination   Age    VIP  \\\n",
       "0        0001_01     Europa     False     B/0/P    TRAPPIST-1e  39.0  False   \n",
       "1        0002_01      Earth     False     F/0/S    TRAPPIST-1e  24.0  False   \n",
       "2        0003_01     Europa     False     A/0/S    TRAPPIST-1e  58.0   True   \n",
       "3        0003_02     Europa     False     A/0/S    TRAPPIST-1e  33.0  False   \n",
       "4        0004_01      Earth     False     F/1/S    TRAPPIST-1e  16.0  False   \n",
       "...          ...        ...       ...       ...            ...   ...    ...   \n",
       "8688     9276_01     Europa     False    A/98/P    55 Cancri e  41.0   True   \n",
       "8689     9278_01      Earth      True  G/1499/S  PSO J318.5-22  18.0  False   \n",
       "8690     9279_01      Earth     False  G/1500/S    TRAPPIST-1e  26.0  False   \n",
       "8691     9280_01     Europa     False   E/608/S    55 Cancri e  32.0  False   \n",
       "8692     9280_02     Europa     False   E/608/S    TRAPPIST-1e  44.0  False   \n",
       "\n",
       "      RoomService  FoodCourt  ShoppingMall     Spa  VRDeck               Name  \\\n",
       "0             0.0        0.0           0.0     0.0     0.0    Maham Ofracculy   \n",
       "1           109.0        9.0          25.0   549.0    44.0       Juanna Vines   \n",
       "2            43.0     3576.0           0.0  6715.0    49.0      Altark Susent   \n",
       "3             0.0     1283.0         371.0  3329.0   193.0       Solam Susent   \n",
       "4           303.0       70.0         151.0   565.0     2.0  Willy Santantines   \n",
       "...           ...        ...           ...     ...     ...                ...   \n",
       "8688          0.0     6819.0           0.0  1643.0    74.0  Gravior Noxnuther   \n",
       "8689          0.0        0.0           0.0     0.0     0.0    Kurta Mondalley   \n",
       "8690          0.0        0.0        1872.0     1.0     0.0       Fayey Connon   \n",
       "8691          0.0     1049.0           0.0   353.0  3235.0   Celeon Hontichre   \n",
       "8692        126.0     4688.0           0.0     0.0    12.0   Propsh Hontichre   \n",
       "\n",
       "      Transported  Group  FamilySize  \n",
       "0           False      1           1  \n",
       "1            True      2           1  \n",
       "2           False      3           2  \n",
       "3           False      3           2  \n",
       "4            True      4           1  \n",
       "...           ...    ...         ...  \n",
       "8688        False   9276           1  \n",
       "8689        False   9278           1  \n",
       "8690         True   9279           1  \n",
       "8691        False   9280           2  \n",
       "8692         True   9280           2  \n",
       "\n",
       "[8693 rows x 16 columns]"
      ]
     },
     "execution_count": 30,
     "metadata": {},
     "output_type": "execute_result"
    }
   ],
   "source": [
    "t"
   ]
  },
  {
   "cell_type": "code",
   "execution_count": 31,
   "id": "d43b3922",
   "metadata": {
    "execution": {
     "iopub.execute_input": "2022-04-03T14:36:36.203898Z",
     "iopub.status.busy": "2022-04-03T14:36:36.203206Z",
     "iopub.status.idle": "2022-04-03T14:36:36.218418Z",
     "shell.execute_reply": "2022-04-03T14:36:36.218972Z",
     "shell.execute_reply.started": "2022-04-03T12:31:32.987376Z"
    },
    "papermill": {
     "duration": 0.095621,
     "end_time": "2022-04-03T14:36:36.219153",
     "exception": false,
     "start_time": "2022-04-03T14:36:36.123532",
     "status": "completed"
    },
    "tags": []
   },
   "outputs": [
    {
     "data": {
      "text/plain": [
       "PassengerId       0\n",
       "HomePlanet      201\n",
       "CryoSleep       217\n",
       "Cabin           199\n",
       "Destination     182\n",
       "Age             179\n",
       "VIP             203\n",
       "RoomService     181\n",
       "FoodCourt       183\n",
       "ShoppingMall    208\n",
       "Spa             183\n",
       "VRDeck          188\n",
       "Name            200\n",
       "Transported       0\n",
       "Group             0\n",
       "FamilySize        0\n",
       "dtype: int64"
      ]
     },
     "execution_count": 31,
     "metadata": {},
     "output_type": "execute_result"
    }
   ],
   "source": [
    "t.isna().sum()"
   ]
  },
  {
   "cell_type": "code",
   "execution_count": 32,
   "id": "7441102b",
   "metadata": {
    "execution": {
     "iopub.execute_input": "2022-04-03T14:36:36.373163Z",
     "iopub.status.busy": "2022-04-03T14:36:36.372433Z",
     "iopub.status.idle": "2022-04-03T14:36:36.381169Z",
     "shell.execute_reply": "2022-04-03T14:36:36.380617Z",
     "shell.execute_reply.started": "2022-04-03T12:31:33.022323Z"
    },
    "papermill": {
     "duration": 0.086442,
     "end_time": "2022-04-03T14:36:36.381323",
     "exception": false,
     "start_time": "2022-04-03T14:36:36.294881",
     "status": "completed"
    },
    "tags": []
   },
   "outputs": [],
   "source": [
    "t.drop(['Name','Cabin','Group','PassengerId'], axis = 1, inplace= True)\n",
    "test.drop(['Name','Cabin','Group','PassengerId'], axis = 1, inplace= True)"
   ]
  },
  {
   "cell_type": "code",
   "execution_count": 33,
   "id": "7fdd84dc",
   "metadata": {
    "execution": {
     "iopub.execute_input": "2022-04-03T14:36:36.558199Z",
     "iopub.status.busy": "2022-04-03T14:36:36.557474Z",
     "iopub.status.idle": "2022-04-03T14:36:36.559220Z",
     "shell.execute_reply": "2022-04-03T14:36:36.559838Z",
     "shell.execute_reply.started": "2022-04-03T12:31:33.093381Z"
    },
    "papermill": {
     "duration": 0.097812,
     "end_time": "2022-04-03T14:36:36.560017",
     "exception": false,
     "start_time": "2022-04-03T14:36:36.462205",
     "status": "completed"
    },
    "tags": []
   },
   "outputs": [],
   "source": [
    "X = t.drop('Transported', axis = 1)\n",
    "y = t['Transported']"
   ]
  },
  {
   "cell_type": "code",
   "execution_count": 34,
   "id": "73c88164",
   "metadata": {
    "execution": {
     "iopub.execute_input": "2022-04-03T14:36:36.744590Z",
     "iopub.status.busy": "2022-04-03T14:36:36.743692Z",
     "iopub.status.idle": "2022-04-03T14:36:36.748852Z",
     "shell.execute_reply": "2022-04-03T14:36:36.749376Z",
     "shell.execute_reply.started": "2022-04-03T12:31:33.180201Z"
    },
    "papermill": {
     "duration": 0.105076,
     "end_time": "2022-04-03T14:36:36.749547",
     "exception": false,
     "start_time": "2022-04-03T14:36:36.644471",
     "status": "completed"
    },
    "tags": []
   },
   "outputs": [],
   "source": [
    "X_train, Y_train, X_target, Y_target = train_test_split(X,y,random_state = 12,test_size = 0.33)"
   ]
  },
  {
   "cell_type": "markdown",
   "id": "88fc8910",
   "metadata": {
    "papermill": {
     "duration": 0.07405,
     "end_time": "2022-04-03T14:36:36.898303",
     "exception": false,
     "start_time": "2022-04-03T14:36:36.824253",
     "status": "completed"
    },
    "tags": []
   },
   "source": [
    "모델링"
   ]
  },
  {
   "cell_type": "code",
   "execution_count": 35,
   "id": "89facdbb",
   "metadata": {
    "execution": {
     "iopub.execute_input": "2022-04-03T14:36:37.076867Z",
     "iopub.status.busy": "2022-04-03T14:36:37.076118Z",
     "iopub.status.idle": "2022-04-03T14:36:37.079393Z",
     "shell.execute_reply": "2022-04-03T14:36:37.080018Z",
     "shell.execute_reply.started": "2022-04-03T12:31:33.222062Z"
    },
    "papermill": {
     "duration": 0.09242,
     "end_time": "2022-04-03T14:36:37.080189",
     "exception": false,
     "start_time": "2022-04-03T14:36:36.987769",
     "status": "completed"
    },
    "tags": []
   },
   "outputs": [],
   "source": [
    "lgb_params = {\n",
    "    'objective' : 'binary',\n",
    "    'n_estimators' : 50,\n",
    "    'learning_rate' : 0.08\n",
    "}"
   ]
  },
  {
   "cell_type": "code",
   "execution_count": 36,
   "id": "32e92e64",
   "metadata": {
    "execution": {
     "iopub.execute_input": "2022-04-03T14:36:37.232684Z",
     "iopub.status.busy": "2022-04-03T14:36:37.231926Z",
     "iopub.status.idle": "2022-04-03T14:36:37.235315Z",
     "shell.execute_reply": "2022-04-03T14:36:37.235886Z",
     "shell.execute_reply.started": "2022-04-03T12:31:33.233250Z"
    },
    "papermill": {
     "duration": 0.081187,
     "end_time": "2022-04-03T14:36:37.236068",
     "exception": false,
     "start_time": "2022-04-03T14:36:37.154881",
     "status": "completed"
    },
    "tags": []
   },
   "outputs": [],
   "source": [
    "lgb_predictions = 0\n",
    "# lgb_predictions = pd.DataFrame(lgb_predictions)\n",
    "lgb_scores = []\n",
    "lgb_fimp =[]"
   ]
  },
  {
   "cell_type": "code",
   "execution_count": 37,
   "id": "29be286c",
   "metadata": {
    "execution": {
     "iopub.execute_input": "2022-04-03T14:36:37.388717Z",
     "iopub.status.busy": "2022-04-03T14:36:37.388022Z",
     "iopub.status.idle": "2022-04-03T14:36:37.394104Z",
     "shell.execute_reply": "2022-04-03T14:36:37.393551Z",
     "shell.execute_reply.started": "2022-04-03T12:31:33.259182Z"
    },
    "papermill": {
     "duration": 0.08329,
     "end_time": "2022-04-03T14:36:37.394245",
     "exception": false,
     "start_time": "2022-04-03T14:36:37.310955",
     "status": "completed"
    },
    "tags": []
   },
   "outputs": [
    {
     "data": {
      "text/plain": [
       "Index(['HomePlanet', 'CryoSleep', 'Destination', 'Age', 'VIP', 'RoomService',\n",
       "       'FoodCourt', 'ShoppingMall', 'Spa', 'VRDeck', 'Transported',\n",
       "       'FamilySize'],\n",
       "      dtype='object')"
      ]
     },
     "execution_count": 37,
     "metadata": {},
     "output_type": "execute_result"
    }
   ],
   "source": [
    "t.columns"
   ]
  },
  {
   "cell_type": "code",
   "execution_count": null,
   "id": "f563a91d",
   "metadata": {
    "papermill": {
     "duration": 0.075949,
     "end_time": "2022-04-03T14:36:37.545038",
     "exception": false,
     "start_time": "2022-04-03T14:36:37.469089",
     "status": "completed"
    },
    "tags": []
   },
   "outputs": [],
   "source": []
  },
  {
   "cell_type": "code",
   "execution_count": 38,
   "id": "c20c3032",
   "metadata": {
    "execution": {
     "iopub.execute_input": "2022-04-03T14:36:37.702807Z",
     "iopub.status.busy": "2022-04-03T14:36:37.702042Z",
     "iopub.status.idle": "2022-04-03T14:36:37.704812Z",
     "shell.execute_reply": "2022-04-03T14:36:37.704290Z",
     "shell.execute_reply.started": "2022-04-03T12:31:33.338195Z"
    },
    "papermill": {
     "duration": 0.085041,
     "end_time": "2022-04-03T14:36:37.704959",
     "exception": false,
     "start_time": "2022-04-03T14:36:37.619918",
     "status": "completed"
    },
    "tags": []
   },
   "outputs": [],
   "source": [
    "LGBM_FEATURES = list(t.drop('Transported',axis = 1))\n",
    "skf = StratifiedKFold(n_splits = 5, shuffle = True, random_state=12)"
   ]
  },
  {
   "cell_type": "code",
   "execution_count": 39,
   "id": "35390b13",
   "metadata": {
    "execution": {
     "iopub.execute_input": "2022-04-03T14:36:37.862720Z",
     "iopub.status.busy": "2022-04-03T14:36:37.862017Z",
     "iopub.status.idle": "2022-04-03T14:36:37.864643Z",
     "shell.execute_reply": "2022-04-03T14:36:37.865248Z",
     "shell.execute_reply.started": "2022-04-03T12:31:33.393419Z"
    },
    "papermill": {
     "duration": 0.084912,
     "end_time": "2022-04-03T14:36:37.865414",
     "exception": false,
     "start_time": "2022-04-03T14:36:37.780502",
     "status": "completed"
    },
    "tags": []
   },
   "outputs": [
    {
     "data": {
      "text/plain": [
       "['HomePlanet',\n",
       " 'CryoSleep',\n",
       " 'Destination',\n",
       " 'Age',\n",
       " 'VIP',\n",
       " 'RoomService',\n",
       " 'FoodCourt',\n",
       " 'ShoppingMall',\n",
       " 'Spa',\n",
       " 'VRDeck',\n",
       " 'FamilySize']"
      ]
     },
     "execution_count": 39,
     "metadata": {},
     "output_type": "execute_result"
    }
   ],
   "source": [
    "LGBM_FEATURES "
   ]
  },
  {
   "cell_type": "code",
   "execution_count": 40,
   "id": "e155c1da",
   "metadata": {
    "execution": {
     "iopub.execute_input": "2022-04-03T14:36:38.025938Z",
     "iopub.status.busy": "2022-04-03T14:36:38.025236Z",
     "iopub.status.idle": "2022-04-03T14:36:38.027888Z",
     "shell.execute_reply": "2022-04-03T14:36:38.027325Z",
     "shell.execute_reply.started": "2022-04-03T12:31:33.401991Z"
    },
    "papermill": {
     "duration": 0.086492,
     "end_time": "2022-04-03T14:36:38.028033",
     "exception": false,
     "start_time": "2022-04-03T14:36:37.941541",
     "status": "completed"
    },
    "tags": []
   },
   "outputs": [],
   "source": [
    "t['HomePlanet'].fillna('Z',inplace = True)\n",
    "label_cols= [\"HomePlanet\", \"CryoSleep\", \"Destination\" ,\"VIP\"]\n"
   ]
  },
  {
   "cell_type": "code",
   "execution_count": 41,
   "id": "b23c2ac5",
   "metadata": {
    "execution": {
     "iopub.execute_input": "2022-04-03T14:36:38.186085Z",
     "iopub.status.busy": "2022-04-03T14:36:38.185252Z",
     "iopub.status.idle": "2022-04-03T14:36:38.187860Z",
     "shell.execute_reply": "2022-04-03T14:36:38.188392Z",
     "shell.execute_reply.started": "2022-04-03T12:31:33.414842Z"
    },
    "papermill": {
     "duration": 0.085003,
     "end_time": "2022-04-03T14:36:38.188600",
     "exception": false,
     "start_time": "2022-04-03T14:36:38.103597",
     "status": "completed"
    },
    "tags": []
   },
   "outputs": [],
   "source": [
    "def label_encoder(train,test,columns):\n",
    "    for col in columns:\n",
    "        train[col] = train[col].astype(str)\n",
    "        test[col] = test[col].astype(str)\n",
    "        train[col] = LabelEncoder().fit_transform(train[col])\n",
    "        test[col] = LabelEncoder().fit_transform(test[col])\n",
    "    return train, test"
   ]
  },
  {
   "cell_type": "code",
   "execution_count": 42,
   "id": "dc7c72c4",
   "metadata": {
    "execution": {
     "iopub.execute_input": "2022-04-03T14:36:38.379899Z",
     "iopub.status.busy": "2022-04-03T14:36:38.379118Z",
     "iopub.status.idle": "2022-04-03T14:36:38.382337Z",
     "shell.execute_reply": "2022-04-03T14:36:38.381812Z",
     "shell.execute_reply.started": "2022-04-03T12:31:33.426396Z"
    },
    "papermill": {
     "duration": 0.10116,
     "end_time": "2022-04-03T14:36:38.382480",
     "exception": false,
     "start_time": "2022-04-03T14:36:38.281320",
     "status": "completed"
    },
    "tags": []
   },
   "outputs": [],
   "source": [
    "from sklearn.preprocessing import LabelEncoder"
   ]
  },
  {
   "cell_type": "code",
   "execution_count": 43,
   "id": "80f24740",
   "metadata": {
    "execution": {
     "iopub.execute_input": "2022-04-03T14:36:38.535871Z",
     "iopub.status.busy": "2022-04-03T14:36:38.535180Z",
     "iopub.status.idle": "2022-04-03T14:36:38.570869Z",
     "shell.execute_reply": "2022-04-03T14:36:38.570234Z",
     "shell.execute_reply.started": "2022-04-03T12:31:33.444080Z"
    },
    "papermill": {
     "duration": 0.113805,
     "end_time": "2022-04-03T14:36:38.571039",
     "exception": false,
     "start_time": "2022-04-03T14:36:38.457234",
     "status": "completed"
    },
    "tags": []
   },
   "outputs": [],
   "source": [
    "t, test = label_encoder(t,test,label_cols)"
   ]
  },
  {
   "cell_type": "code",
   "execution_count": 44,
   "id": "c47b77fb",
   "metadata": {
    "execution": {
     "iopub.execute_input": "2022-04-03T14:36:38.728155Z",
     "iopub.status.busy": "2022-04-03T14:36:38.727131Z",
     "iopub.status.idle": "2022-04-03T14:36:38.745092Z",
     "shell.execute_reply": "2022-04-03T14:36:38.745542Z",
     "shell.execute_reply.started": "2022-04-03T12:31:33.483702Z"
    },
    "papermill": {
     "duration": 0.098145,
     "end_time": "2022-04-03T14:36:38.745737",
     "exception": false,
     "start_time": "2022-04-03T14:36:38.647592",
     "status": "completed"
    },
    "tags": []
   },
   "outputs": [
    {
     "data": {
      "text/html": [
       "<div>\n",
       "<style scoped>\n",
       "    .dataframe tbody tr th:only-of-type {\n",
       "        vertical-align: middle;\n",
       "    }\n",
       "\n",
       "    .dataframe tbody tr th {\n",
       "        vertical-align: top;\n",
       "    }\n",
       "\n",
       "    .dataframe thead th {\n",
       "        text-align: right;\n",
       "    }\n",
       "</style>\n",
       "<table border=\"1\" class=\"dataframe\">\n",
       "  <thead>\n",
       "    <tr style=\"text-align: right;\">\n",
       "      <th></th>\n",
       "      <th>HomePlanet</th>\n",
       "      <th>CryoSleep</th>\n",
       "      <th>Destination</th>\n",
       "      <th>Age</th>\n",
       "      <th>VIP</th>\n",
       "      <th>RoomService</th>\n",
       "      <th>FoodCourt</th>\n",
       "      <th>ShoppingMall</th>\n",
       "      <th>Spa</th>\n",
       "      <th>VRDeck</th>\n",
       "      <th>Transported</th>\n",
       "      <th>FamilySize</th>\n",
       "    </tr>\n",
       "  </thead>\n",
       "  <tbody>\n",
       "    <tr>\n",
       "      <th>0</th>\n",
       "      <td>1</td>\n",
       "      <td>0</td>\n",
       "      <td>2</td>\n",
       "      <td>39.0</td>\n",
       "      <td>0</td>\n",
       "      <td>0.0</td>\n",
       "      <td>0.0</td>\n",
       "      <td>0.0</td>\n",
       "      <td>0.0</td>\n",
       "      <td>0.0</td>\n",
       "      <td>False</td>\n",
       "      <td>1</td>\n",
       "    </tr>\n",
       "    <tr>\n",
       "      <th>1</th>\n",
       "      <td>0</td>\n",
       "      <td>0</td>\n",
       "      <td>2</td>\n",
       "      <td>24.0</td>\n",
       "      <td>0</td>\n",
       "      <td>109.0</td>\n",
       "      <td>9.0</td>\n",
       "      <td>25.0</td>\n",
       "      <td>549.0</td>\n",
       "      <td>44.0</td>\n",
       "      <td>True</td>\n",
       "      <td>1</td>\n",
       "    </tr>\n",
       "    <tr>\n",
       "      <th>2</th>\n",
       "      <td>1</td>\n",
       "      <td>0</td>\n",
       "      <td>2</td>\n",
       "      <td>58.0</td>\n",
       "      <td>1</td>\n",
       "      <td>43.0</td>\n",
       "      <td>3576.0</td>\n",
       "      <td>0.0</td>\n",
       "      <td>6715.0</td>\n",
       "      <td>49.0</td>\n",
       "      <td>False</td>\n",
       "      <td>2</td>\n",
       "    </tr>\n",
       "    <tr>\n",
       "      <th>3</th>\n",
       "      <td>1</td>\n",
       "      <td>0</td>\n",
       "      <td>2</td>\n",
       "      <td>33.0</td>\n",
       "      <td>0</td>\n",
       "      <td>0.0</td>\n",
       "      <td>1283.0</td>\n",
       "      <td>371.0</td>\n",
       "      <td>3329.0</td>\n",
       "      <td>193.0</td>\n",
       "      <td>False</td>\n",
       "      <td>2</td>\n",
       "    </tr>\n",
       "    <tr>\n",
       "      <th>4</th>\n",
       "      <td>0</td>\n",
       "      <td>0</td>\n",
       "      <td>2</td>\n",
       "      <td>16.0</td>\n",
       "      <td>0</td>\n",
       "      <td>303.0</td>\n",
       "      <td>70.0</td>\n",
       "      <td>151.0</td>\n",
       "      <td>565.0</td>\n",
       "      <td>2.0</td>\n",
       "      <td>True</td>\n",
       "      <td>1</td>\n",
       "    </tr>\n",
       "  </tbody>\n",
       "</table>\n",
       "</div>"
      ],
      "text/plain": [
       "   HomePlanet  CryoSleep  Destination   Age  VIP  RoomService  FoodCourt  \\\n",
       "0           1          0            2  39.0    0          0.0        0.0   \n",
       "1           0          0            2  24.0    0        109.0        9.0   \n",
       "2           1          0            2  58.0    1         43.0     3576.0   \n",
       "3           1          0            2  33.0    0          0.0     1283.0   \n",
       "4           0          0            2  16.0    0        303.0       70.0   \n",
       "\n",
       "   ShoppingMall     Spa  VRDeck  Transported  FamilySize  \n",
       "0           0.0     0.0     0.0        False           1  \n",
       "1          25.0   549.0    44.0         True           1  \n",
       "2           0.0  6715.0    49.0        False           2  \n",
       "3         371.0  3329.0   193.0        False           2  \n",
       "4         151.0   565.0     2.0         True           1  "
      ]
     },
     "execution_count": 44,
     "metadata": {},
     "output_type": "execute_result"
    }
   ],
   "source": [
    "t.head()"
   ]
  },
  {
   "cell_type": "code",
   "execution_count": 45,
   "id": "9ffee782",
   "metadata": {
    "execution": {
     "iopub.execute_input": "2022-04-03T14:36:38.902217Z",
     "iopub.status.busy": "2022-04-03T14:36:38.901214Z",
     "iopub.status.idle": "2022-04-03T14:36:39.175729Z",
     "shell.execute_reply": "2022-04-03T14:36:39.175159Z",
     "shell.execute_reply.started": "2022-04-03T12:31:33.503677Z"
    },
    "papermill": {
     "duration": 0.354369,
     "end_time": "2022-04-03T14:36:39.175876",
     "exception": false,
     "start_time": "2022-04-03T14:36:38.821507",
     "status": "completed"
    },
    "tags": []
   },
   "outputs": [
    {
     "data": {
      "text/html": [
       "<style type='text/css'>\n",
       ".datatable table.frame { margin-bottom: 0; }\n",
       ".datatable table.frame thead { border-bottom: none; }\n",
       ".datatable table.frame tr.coltypes td {  color: #FFFFFF;  line-height: 6px;  padding: 0 0.5em;}\n",
       ".datatable .bool    { background: #DDDD99; }\n",
       ".datatable .object  { background: #565656; }\n",
       ".datatable .int     { background: #5D9E5D; }\n",
       ".datatable .float   { background: #4040CC; }\n",
       ".datatable .str     { background: #CC4040; }\n",
       ".datatable .time    { background: #40CC40; }\n",
       ".datatable .row_index {  background: var(--jp-border-color3);  border-right: 1px solid var(--jp-border-color0);  color: var(--jp-ui-font-color3);  font-size: 9px;}\n",
       ".datatable .frame tbody td { text-align: left; }\n",
       ".datatable .frame tr.coltypes .row_index {  background: var(--jp-border-color0);}\n",
       ".datatable th:nth-child(2) { padding-left: 12px; }\n",
       ".datatable .hellipsis {  color: var(--jp-cell-editor-border-color);}\n",
       ".datatable .vellipsis {  background: var(--jp-layout-color0);  color: var(--jp-cell-editor-border-color);}\n",
       ".datatable .na {  color: var(--jp-cell-editor-border-color);  font-size: 80%;}\n",
       ".datatable .sp {  opacity: 0.25;}\n",
       ".datatable .footer { font-size: 9px; }\n",
       ".datatable .frame_dimensions {  background: var(--jp-border-color3);  border-top: 1px solid var(--jp-border-color0);  color: var(--jp-ui-font-color3);  display: inline-block;  opacity: 0.6;  padding: 1px 10px 1px 5px;}\n",
       "</style>\n"
      ],
      "text/plain": [
       "<IPython.core.display.HTML object>"
      ]
     },
     "metadata": {},
     "output_type": "display_data"
    }
   ],
   "source": [
    "from lightgbm import LGBMClassifier"
   ]
  },
  {
   "cell_type": "code",
   "execution_count": 46,
   "id": "ab367d08",
   "metadata": {
    "execution": {
     "iopub.execute_input": "2022-04-03T14:36:39.334467Z",
     "iopub.status.busy": "2022-04-03T14:36:39.333803Z",
     "iopub.status.idle": "2022-04-03T14:36:40.022662Z",
     "shell.execute_reply": "2022-04-03T14:36:40.023258Z",
     "shell.execute_reply.started": "2022-04-03T12:31:53.771204Z"
    },
    "papermill": {
     "duration": 0.76992,
     "end_time": "2022-04-03T14:36:40.023461",
     "exception": false,
     "start_time": "2022-04-03T14:36:39.253541",
     "status": "completed"
    },
    "tags": []
   },
   "outputs": [
    {
     "name": "stdout",
     "output_type": "stream",
     "text": [
      "========== Fold=1 ==========\n",
      "Fold=1, Accuracy score : 0.814261%\n",
      "========== Fold=2 ==========\n"
     ]
    },
    {
     "name": "stderr",
     "output_type": "stream",
     "text": [
      "/opt/conda/lib/python3.7/site-packages/lightgbm/sklearn.py:736: UserWarning:\n",
      "\n",
      "'verbose' argument is deprecated and will be removed in a future release of LightGBM. Pass 'log_evaluation()' callback via 'callbacks' argument instead.\n",
      "\n",
      "/opt/conda/lib/python3.7/site-packages/lightgbm/sklearn.py:736: UserWarning:\n",
      "\n",
      "'verbose' argument is deprecated and will be removed in a future release of LightGBM. Pass 'log_evaluation()' callback via 'callbacks' argument instead.\n",
      "\n"
     ]
    },
    {
     "name": "stdout",
     "output_type": "stream",
     "text": [
      "Fold=2, Accuracy score : 0.778608%\n",
      "========== Fold=3 ==========\n",
      "Fold=3, Accuracy score : 0.788384%\n",
      "========== Fold=4 ==========\n"
     ]
    },
    {
     "name": "stderr",
     "output_type": "stream",
     "text": [
      "/opt/conda/lib/python3.7/site-packages/lightgbm/sklearn.py:736: UserWarning:\n",
      "\n",
      "'verbose' argument is deprecated and will be removed in a future release of LightGBM. Pass 'log_evaluation()' callback via 'callbacks' argument instead.\n",
      "\n",
      "/opt/conda/lib/python3.7/site-packages/lightgbm/sklearn.py:736: UserWarning:\n",
      "\n",
      "'verbose' argument is deprecated and will be removed in a future release of LightGBM. Pass 'log_evaluation()' callback via 'callbacks' argument instead.\n",
      "\n"
     ]
    },
    {
     "name": "stdout",
     "output_type": "stream",
     "text": [
      "Fold=4, Accuracy score : 0.789413%\n",
      "========== Fold=5 ==========\n",
      "Fold=5, Accuracy score : 0.802071%\n",
      "\n",
      "Mean Accuracy :  0.7945476117843475\n"
     ]
    },
    {
     "name": "stderr",
     "output_type": "stream",
     "text": [
      "/opt/conda/lib/python3.7/site-packages/lightgbm/sklearn.py:736: UserWarning:\n",
      "\n",
      "'verbose' argument is deprecated and will be removed in a future release of LightGBM. Pass 'log_evaluation()' callback via 'callbacks' argument instead.\n",
      "\n"
     ]
    }
   ],
   "source": [
    "# 타겟 컬럼을 뺀 훈련 데이터 와 타겟 데이터를 split 분류하여 train_idx와 valid_idx에 저장\n",
    "for fold, (train_idx, valid_idx) in enumerate(skf.split(t[LGBM_FEATURES], t['Transported'])):\n",
    "    print(10*\"=\", f\"Fold={fold+1}\", 10*\"=\")\n",
    "    # 시작 시간 저장\n",
    "    # start_time = time.time()\n",
    "    \n",
    "    # 위에서 훈련 / 테스트 별 분류된 인덱스 값을 이용해 훈련 / 테스트 데이터로 분류\n",
    "    X_train, X_valid = t.iloc[train_idx][LGBM_FEATURES],t.iloc[valid_idx][LGBM_FEATURES]\n",
    "    # Y_train, Y_valid = train[TARGET].iloc[train_idx],train[TARGET].iloc[valid_idx]\n",
    "    Y_train, Y_valid = t.iloc[train_idx]['Transported'],t.iloc[valid_idx]['Transported']\n",
    "    \n",
    "    # 모델 학습 (파라미터)\n",
    "    model = LGBMClassifier(**lgb_params)\n",
    "    model.fit(X_train, Y_train, verbose = 0)\n",
    "    \n",
    "    # 정확도 측정해서 저장\n",
    "    preds_valid = model.predict(X_valid)\n",
    "    acc = accuracy_score(Y_valid, preds_valid)\n",
    "    lgb_scores.append(acc)\n",
    "    \n",
    "    \n",
    "    # run_time = time.time() - start_time\n",
    "    \n",
    "    # 컬럼 별 특성 중요도 \n",
    "    fim = pd.DataFrame(index=LGBM_FEATURES,\n",
    "                      data=model.feature_importances_,\n",
    "                      columns=[f'{fold}_importance'])\n",
    "    lgb_fimp.append(fim)\n",
    "    \n",
    "    \n",
    "    print(f\"Fold={fold+1}, Accuracy score : {acc :2f}%\")\n",
    "    \n",
    "    # 예측하고 저장\n",
    "    test_preds = model.predict(test[LGBM_FEATURES]) \n",
    "    lgb_predictions += test_preds/5\n",
    "\n",
    "print(\"\")\n",
    "print(\"Mean Accuracy : \", np.mean(lgb_scores))"
   ]
  },
  {
   "cell_type": "code",
   "execution_count": null,
   "id": "5ec3baef",
   "metadata": {
    "papermill": {
     "duration": 0.079114,
     "end_time": "2022-04-03T14:36:40.185544",
     "exception": false,
     "start_time": "2022-04-03T14:36:40.106430",
     "status": "completed"
    },
    "tags": []
   },
   "outputs": [],
   "source": []
  }
 ],
 "metadata": {
  "kernelspec": {
   "display_name": "Python 3",
   "language": "python",
   "name": "python3"
  },
  "language_info": {
   "codemirror_mode": {
    "name": "ipython",
    "version": 3
   },
   "file_extension": ".py",
   "mimetype": "text/x-python",
   "name": "python",
   "nbconvert_exporter": "python",
   "pygments_lexer": "ipython3",
   "version": "3.7.12"
  },
  "papermill": {
   "default_parameters": {},
   "duration": 27.686926,
   "end_time": "2022-04-03T14:36:43.718239",
   "environment_variables": {},
   "exception": null,
   "input_path": "__notebook__.ipynb",
   "output_path": "__notebook__.ipynb",
   "parameters": {},
   "start_time": "2022-04-03T14:36:16.031313",
   "version": "2.3.3"
  }
 },
 "nbformat": 4,
 "nbformat_minor": 5
}
