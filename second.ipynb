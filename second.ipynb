{
 "cells": [
  {
   "cell_type": "markdown",
   "id": "060c01ab",
   "metadata": {
    "papermill": {
     "duration": 0.043916,
     "end_time": "2022-04-06T13:26:16.562736",
     "exception": false,
     "start_time": "2022-04-06T13:26:16.518820",
     "status": "completed"
    },
    "tags": []
   },
   "source": [
    "# 👩‍🚀**<span style=\"color:#4527A0;\"> Spaceship Titanic with</span> <span style=\"color:#F44336;\"> LGBMClassifier </span>🌠**"
   ]
  },
  {
   "cell_type": "markdown",
   "id": "117d3088",
   "metadata": {
    "papermill": {
     "duration": 0.041662,
     "end_time": "2022-04-06T13:26:16.650246",
     "exception": false,
     "start_time": "2022-04-06T13:26:16.608584",
     "status": "completed"
    },
    "tags": []
   },
   "source": [
    "# <span style=\"color:#4527A0;\"> Project </span> 🔥\n",
    "- 강의명 : 2022년 K-디지털 직업훈련(Training) 사업 - AI데이터플랫폼을 활용한 빅데이터 분석전문가 과정\n",
    "- 교과목명 : 빅데이터 분석 및 시각화, AI개발 기초, 인공지능 프로그래밍\n",
    "- 프로젝트 주제 : Spaceship Titanic 데이터를 활용한 탑승유무 분류모형 개발\n",
    "- 프로젝트 마감일 : 2022년 4월 12일 화요일\n",
    "- 강사명 : Evan\n",
    "- 수강생명 : 이가영"
   ]
  },
  {
   "cell_type": "markdown",
   "id": "88192c96",
   "metadata": {
    "papermill": {
     "duration": 0.041695,
     "end_time": "2022-04-06T13:26:16.734475",
     "exception": false,
     "start_time": "2022-04-06T13:26:16.692780",
     "status": "completed"
    },
    "tags": []
   },
   "source": [
    "# <span style=\"color:#4527A0;\"> Table of content </span> 📋\n",
    "\n",
    "- [Load data](#Load-Data)\n",
    "- [EDA](#EDA)\n",
    "- [Preprocessing](#Preprocessing)\n",
    "- [Model](#Model)"
   ]
  },
  {
   "cell_type": "markdown",
   "id": "5aa1ff6d",
   "metadata": {
    "papermill": {
     "duration": 0.04181,
     "end_time": "2022-04-06T13:26:16.818334",
     "exception": false,
     "start_time": "2022-04-06T13:26:16.776524",
     "status": "completed"
    },
    "tags": []
   },
   "source": [
    "# Load Data\n",
    "- 라이브러리 불러오기"
   ]
  },
  {
   "cell_type": "code",
   "execution_count": 1,
   "id": "4432ef96",
   "metadata": {
    "execution": {
     "iopub.execute_input": "2022-04-06T13:26:16.928387Z",
     "iopub.status.busy": "2022-04-06T13:26:16.927792Z",
     "iopub.status.idle": "2022-04-06T13:26:19.301672Z",
     "shell.execute_reply": "2022-04-06T13:26:19.300638Z",
     "shell.execute_reply.started": "2022-04-06T12:51:37.357282Z"
    },
    "papermill": {
     "duration": 2.430948,
     "end_time": "2022-04-06T13:26:19.301843",
     "exception": false,
     "start_time": "2022-04-06T13:26:16.870895",
     "status": "completed"
    },
    "tags": []
   },
   "outputs": [
    {
     "data": {
      "text/html": [
       "<style type='text/css'>\n",
       ".datatable table.frame { margin-bottom: 0; }\n",
       ".datatable table.frame thead { border-bottom: none; }\n",
       ".datatable table.frame tr.coltypes td {  color: #FFFFFF;  line-height: 6px;  padding: 0 0.5em;}\n",
       ".datatable .bool    { background: #DDDD99; }\n",
       ".datatable .object  { background: #565656; }\n",
       ".datatable .int     { background: #5D9E5D; }\n",
       ".datatable .float   { background: #4040CC; }\n",
       ".datatable .str     { background: #CC4040; }\n",
       ".datatable .time    { background: #40CC40; }\n",
       ".datatable .row_index {  background: var(--jp-border-color3);  border-right: 1px solid var(--jp-border-color0);  color: var(--jp-ui-font-color3);  font-size: 9px;}\n",
       ".datatable .frame tbody td { text-align: left; }\n",
       ".datatable .frame tr.coltypes .row_index {  background: var(--jp-border-color0);}\n",
       ".datatable th:nth-child(2) { padding-left: 12px; }\n",
       ".datatable .hellipsis {  color: var(--jp-cell-editor-border-color);}\n",
       ".datatable .vellipsis {  background: var(--jp-layout-color0);  color: var(--jp-cell-editor-border-color);}\n",
       ".datatable .na {  color: var(--jp-cell-editor-border-color);  font-size: 80%;}\n",
       ".datatable .sp {  opacity: 0.25;}\n",
       ".datatable .footer { font-size: 9px; }\n",
       ".datatable .frame_dimensions {  background: var(--jp-border-color3);  border-top: 1px solid var(--jp-border-color0);  color: var(--jp-ui-font-color3);  display: inline-block;  opacity: 0.6;  padding: 1px 10px 1px 5px;}\n",
       "</style>\n"
      ],
      "text/plain": [
       "<IPython.core.display.HTML object>"
      ]
     },
     "metadata": {},
     "output_type": "display_data"
    }
   ],
   "source": [
    "import numpy as np\n",
    "import pandas as pd\n",
    "import plotly.express as px\n",
    "import plotly.graph_objects as go\n",
    "\n",
    "from sklearn.metrics import accuracy_score\n",
    "from sklearn.model_selection import train_test_split, StratifiedKFold, GridSearchCV\n",
    "\n",
    "from lightgbm import LGBMClassifier\n",
    "\n",
    "import warnings\n",
    "warnings.filterwarnings('ignore')"
   ]
  },
  {
   "cell_type": "markdown",
   "id": "2897981f",
   "metadata": {
    "papermill": {
     "duration": 0.044314,
     "end_time": "2022-04-06T13:26:19.391059",
     "exception": false,
     "start_time": "2022-04-06T13:26:19.346745",
     "status": "completed"
    },
    "tags": []
   },
   "source": [
    "- 데이터 불러오기"
   ]
  },
  {
   "cell_type": "code",
   "execution_count": 2,
   "id": "1fb3577d",
   "metadata": {
    "execution": {
     "iopub.execute_input": "2022-04-06T13:26:19.481781Z",
     "iopub.status.busy": "2022-04-06T13:26:19.481161Z",
     "iopub.status.idle": "2022-04-06T13:26:19.561716Z",
     "shell.execute_reply": "2022-04-06T13:26:19.562221Z",
     "shell.execute_reply.started": "2022-04-06T12:51:37.615052Z"
    },
    "papermill": {
     "duration": 0.127233,
     "end_time": "2022-04-06T13:26:19.562389",
     "exception": false,
     "start_time": "2022-04-06T13:26:19.435156",
     "status": "completed"
    },
    "tags": []
   },
   "outputs": [],
   "source": [
    "train = pd.read_csv(\"/kaggle/input/spaceship-titanic/train.csv\")\n",
    "test = pd.read_csv(\"/kaggle/input/spaceship-titanic/test.csv\")\n",
    "submission = pd.read_csv(\"/kaggle/input/spaceship-titanic/sample_submission.csv\")"
   ]
  },
  {
   "cell_type": "code",
   "execution_count": 3,
   "id": "1b99b4a8",
   "metadata": {
    "execution": {
     "iopub.execute_input": "2022-04-06T13:26:19.652079Z",
     "iopub.status.busy": "2022-04-06T13:26:19.651471Z",
     "iopub.status.idle": "2022-04-06T13:26:19.656041Z",
     "shell.execute_reply": "2022-04-06T13:26:19.656561Z",
     "shell.execute_reply.started": "2022-04-06T12:51:37.796041Z"
    },
    "papermill": {
     "duration": 0.051155,
     "end_time": "2022-04-06T13:26:19.656728",
     "exception": false,
     "start_time": "2022-04-06T13:26:19.605573",
     "status": "completed"
    },
    "tags": []
   },
   "outputs": [
    {
     "data": {
      "text/plain": [
       "((8693, 14), (4277, 13), (4277, 2))"
      ]
     },
     "execution_count": 3,
     "metadata": {},
     "output_type": "execute_result"
    }
   ],
   "source": [
    "train.shape, test.shape, submission.shape"
   ]
  },
  {
   "cell_type": "markdown",
   "id": "a35c0240",
   "metadata": {
    "papermill": {
     "duration": 0.043549,
     "end_time": "2022-04-06T13:26:19.744056",
     "exception": false,
     "start_time": "2022-04-06T13:26:19.700507",
     "status": "completed"
    },
    "tags": []
   },
   "source": [
    "## train Data"
   ]
  },
  {
   "cell_type": "code",
   "execution_count": 4,
   "id": "d44e9bb8",
   "metadata": {
    "execution": {
     "iopub.execute_input": "2022-04-06T13:26:19.834184Z",
     "iopub.status.busy": "2022-04-06T13:26:19.833557Z",
     "iopub.status.idle": "2022-04-06T13:26:19.861823Z",
     "shell.execute_reply": "2022-04-06T13:26:19.861132Z",
     "shell.execute_reply.started": "2022-04-06T12:51:38.004665Z"
    },
    "papermill": {
     "duration": 0.074353,
     "end_time": "2022-04-06T13:26:19.861985",
     "exception": false,
     "start_time": "2022-04-06T13:26:19.787632",
     "status": "completed"
    },
    "tags": []
   },
   "outputs": [
    {
     "data": {
      "text/html": [
       "<div>\n",
       "<style scoped>\n",
       "    .dataframe tbody tr th:only-of-type {\n",
       "        vertical-align: middle;\n",
       "    }\n",
       "\n",
       "    .dataframe tbody tr th {\n",
       "        vertical-align: top;\n",
       "    }\n",
       "\n",
       "    .dataframe thead th {\n",
       "        text-align: right;\n",
       "    }\n",
       "</style>\n",
       "<table border=\"1\" class=\"dataframe\">\n",
       "  <thead>\n",
       "    <tr style=\"text-align: right;\">\n",
       "      <th></th>\n",
       "      <th>PassengerId</th>\n",
       "      <th>HomePlanet</th>\n",
       "      <th>CryoSleep</th>\n",
       "      <th>Cabin</th>\n",
       "      <th>Destination</th>\n",
       "      <th>Age</th>\n",
       "      <th>VIP</th>\n",
       "      <th>RoomService</th>\n",
       "      <th>FoodCourt</th>\n",
       "      <th>ShoppingMall</th>\n",
       "      <th>Spa</th>\n",
       "      <th>VRDeck</th>\n",
       "      <th>Name</th>\n",
       "      <th>Transported</th>\n",
       "    </tr>\n",
       "  </thead>\n",
       "  <tbody>\n",
       "    <tr>\n",
       "      <th>0</th>\n",
       "      <td>0001_01</td>\n",
       "      <td>Europa</td>\n",
       "      <td>False</td>\n",
       "      <td>B/0/P</td>\n",
       "      <td>TRAPPIST-1e</td>\n",
       "      <td>39.0</td>\n",
       "      <td>False</td>\n",
       "      <td>0.0</td>\n",
       "      <td>0.0</td>\n",
       "      <td>0.0</td>\n",
       "      <td>0.0</td>\n",
       "      <td>0.0</td>\n",
       "      <td>Maham Ofracculy</td>\n",
       "      <td>False</td>\n",
       "    </tr>\n",
       "    <tr>\n",
       "      <th>1</th>\n",
       "      <td>0002_01</td>\n",
       "      <td>Earth</td>\n",
       "      <td>False</td>\n",
       "      <td>F/0/S</td>\n",
       "      <td>TRAPPIST-1e</td>\n",
       "      <td>24.0</td>\n",
       "      <td>False</td>\n",
       "      <td>109.0</td>\n",
       "      <td>9.0</td>\n",
       "      <td>25.0</td>\n",
       "      <td>549.0</td>\n",
       "      <td>44.0</td>\n",
       "      <td>Juanna Vines</td>\n",
       "      <td>True</td>\n",
       "    </tr>\n",
       "    <tr>\n",
       "      <th>2</th>\n",
       "      <td>0003_01</td>\n",
       "      <td>Europa</td>\n",
       "      <td>False</td>\n",
       "      <td>A/0/S</td>\n",
       "      <td>TRAPPIST-1e</td>\n",
       "      <td>58.0</td>\n",
       "      <td>True</td>\n",
       "      <td>43.0</td>\n",
       "      <td>3576.0</td>\n",
       "      <td>0.0</td>\n",
       "      <td>6715.0</td>\n",
       "      <td>49.0</td>\n",
       "      <td>Altark Susent</td>\n",
       "      <td>False</td>\n",
       "    </tr>\n",
       "    <tr>\n",
       "      <th>3</th>\n",
       "      <td>0003_02</td>\n",
       "      <td>Europa</td>\n",
       "      <td>False</td>\n",
       "      <td>A/0/S</td>\n",
       "      <td>TRAPPIST-1e</td>\n",
       "      <td>33.0</td>\n",
       "      <td>False</td>\n",
       "      <td>0.0</td>\n",
       "      <td>1283.0</td>\n",
       "      <td>371.0</td>\n",
       "      <td>3329.0</td>\n",
       "      <td>193.0</td>\n",
       "      <td>Solam Susent</td>\n",
       "      <td>False</td>\n",
       "    </tr>\n",
       "    <tr>\n",
       "      <th>4</th>\n",
       "      <td>0004_01</td>\n",
       "      <td>Earth</td>\n",
       "      <td>False</td>\n",
       "      <td>F/1/S</td>\n",
       "      <td>TRAPPIST-1e</td>\n",
       "      <td>16.0</td>\n",
       "      <td>False</td>\n",
       "      <td>303.0</td>\n",
       "      <td>70.0</td>\n",
       "      <td>151.0</td>\n",
       "      <td>565.0</td>\n",
       "      <td>2.0</td>\n",
       "      <td>Willy Santantines</td>\n",
       "      <td>True</td>\n",
       "    </tr>\n",
       "  </tbody>\n",
       "</table>\n",
       "</div>"
      ],
      "text/plain": [
       "  PassengerId HomePlanet CryoSleep  Cabin  Destination   Age    VIP  \\\n",
       "0     0001_01     Europa     False  B/0/P  TRAPPIST-1e  39.0  False   \n",
       "1     0002_01      Earth     False  F/0/S  TRAPPIST-1e  24.0  False   \n",
       "2     0003_01     Europa     False  A/0/S  TRAPPIST-1e  58.0   True   \n",
       "3     0003_02     Europa     False  A/0/S  TRAPPIST-1e  33.0  False   \n",
       "4     0004_01      Earth     False  F/1/S  TRAPPIST-1e  16.0  False   \n",
       "\n",
       "   RoomService  FoodCourt  ShoppingMall     Spa  VRDeck               Name  \\\n",
       "0          0.0        0.0           0.0     0.0     0.0    Maham Ofracculy   \n",
       "1        109.0        9.0          25.0   549.0    44.0       Juanna Vines   \n",
       "2         43.0     3576.0           0.0  6715.0    49.0      Altark Susent   \n",
       "3          0.0     1283.0         371.0  3329.0   193.0       Solam Susent   \n",
       "4        303.0       70.0         151.0   565.0     2.0  Willy Santantines   \n",
       "\n",
       "   Transported  \n",
       "0        False  \n",
       "1         True  \n",
       "2        False  \n",
       "3        False  \n",
       "4         True  "
      ]
     },
     "execution_count": 4,
     "metadata": {},
     "output_type": "execute_result"
    }
   ],
   "source": [
    "train.head()"
   ]
  },
  {
   "cell_type": "code",
   "execution_count": 5,
   "id": "8a5697d6",
   "metadata": {
    "execution": {
     "iopub.execute_input": "2022-04-06T13:26:19.956993Z",
     "iopub.status.busy": "2022-04-06T13:26:19.956237Z",
     "iopub.status.idle": "2022-04-06T13:26:19.983657Z",
     "shell.execute_reply": "2022-04-06T13:26:19.984295Z",
     "shell.execute_reply.started": "2022-04-06T12:51:38.208550Z"
    },
    "papermill": {
     "duration": 0.078413,
     "end_time": "2022-04-06T13:26:19.984486",
     "exception": false,
     "start_time": "2022-04-06T13:26:19.906073",
     "status": "completed"
    },
    "tags": []
   },
   "outputs": [
    {
     "name": "stdout",
     "output_type": "stream",
     "text": [
      "<class 'pandas.core.frame.DataFrame'>\n",
      "RangeIndex: 8693 entries, 0 to 8692\n",
      "Data columns (total 14 columns):\n",
      " #   Column        Non-Null Count  Dtype  \n",
      "---  ------        --------------  -----  \n",
      " 0   PassengerId   8693 non-null   object \n",
      " 1   HomePlanet    8492 non-null   object \n",
      " 2   CryoSleep     8476 non-null   object \n",
      " 3   Cabin         8494 non-null   object \n",
      " 4   Destination   8511 non-null   object \n",
      " 5   Age           8514 non-null   float64\n",
      " 6   VIP           8490 non-null   object \n",
      " 7   RoomService   8512 non-null   float64\n",
      " 8   FoodCourt     8510 non-null   float64\n",
      " 9   ShoppingMall  8485 non-null   float64\n",
      " 10  Spa           8510 non-null   float64\n",
      " 11  VRDeck        8505 non-null   float64\n",
      " 12  Name          8493 non-null   object \n",
      " 13  Transported   8693 non-null   bool   \n",
      "dtypes: bool(1), float64(6), object(7)\n",
      "memory usage: 891.5+ KB\n"
     ]
    }
   ],
   "source": [
    "train.info()"
   ]
  },
  {
   "cell_type": "code",
   "execution_count": 6,
   "id": "6c34ba68",
   "metadata": {
    "execution": {
     "iopub.execute_input": "2022-04-06T13:26:20.085670Z",
     "iopub.status.busy": "2022-04-06T13:26:20.083086Z",
     "iopub.status.idle": "2022-04-06T13:26:20.090258Z",
     "shell.execute_reply": "2022-04-06T13:26:20.090785Z",
     "shell.execute_reply.started": "2022-04-06T12:51:38.404154Z"
    },
    "papermill": {
     "duration": 0.060376,
     "end_time": "2022-04-06T13:26:20.090961",
     "exception": false,
     "start_time": "2022-04-06T13:26:20.030585",
     "status": "completed"
    },
    "tags": []
   },
   "outputs": [
    {
     "data": {
      "text/plain": [
       "PassengerId       0\n",
       "HomePlanet      201\n",
       "CryoSleep       217\n",
       "Cabin           199\n",
       "Destination     182\n",
       "Age             179\n",
       "VIP             203\n",
       "RoomService     181\n",
       "FoodCourt       183\n",
       "ShoppingMall    208\n",
       "Spa             183\n",
       "VRDeck          188\n",
       "Name            200\n",
       "Transported       0\n",
       "dtype: int64"
      ]
     },
     "execution_count": 6,
     "metadata": {},
     "output_type": "execute_result"
    }
   ],
   "source": [
    "train.isna().sum()"
   ]
  },
  {
   "cell_type": "code",
   "execution_count": 7,
   "id": "570415bb",
   "metadata": {
    "execution": {
     "iopub.execute_input": "2022-04-06T13:26:20.184122Z",
     "iopub.status.busy": "2022-04-06T13:26:20.183543Z",
     "iopub.status.idle": "2022-04-06T13:26:20.211510Z",
     "shell.execute_reply": "2022-04-06T13:26:20.211930Z",
     "shell.execute_reply.started": "2022-04-06T12:51:38.709803Z"
    },
    "papermill": {
     "duration": 0.075244,
     "end_time": "2022-04-06T13:26:20.212104",
     "exception": false,
     "start_time": "2022-04-06T13:26:20.136860",
     "status": "completed"
    },
    "tags": []
   },
   "outputs": [
    {
     "data": {
      "text/html": [
       "<div>\n",
       "<style scoped>\n",
       "    .dataframe tbody tr th:only-of-type {\n",
       "        vertical-align: middle;\n",
       "    }\n",
       "\n",
       "    .dataframe tbody tr th {\n",
       "        vertical-align: top;\n",
       "    }\n",
       "\n",
       "    .dataframe thead th {\n",
       "        text-align: right;\n",
       "    }\n",
       "</style>\n",
       "<table border=\"1\" class=\"dataframe\">\n",
       "  <thead>\n",
       "    <tr style=\"text-align: right;\">\n",
       "      <th></th>\n",
       "      <th>Age</th>\n",
       "      <th>RoomService</th>\n",
       "      <th>FoodCourt</th>\n",
       "      <th>ShoppingMall</th>\n",
       "      <th>Spa</th>\n",
       "      <th>VRDeck</th>\n",
       "    </tr>\n",
       "  </thead>\n",
       "  <tbody>\n",
       "    <tr>\n",
       "      <th>count</th>\n",
       "      <td>8514.000000</td>\n",
       "      <td>8512.000000</td>\n",
       "      <td>8510.000000</td>\n",
       "      <td>8485.000000</td>\n",
       "      <td>8510.000000</td>\n",
       "      <td>8505.000000</td>\n",
       "    </tr>\n",
       "    <tr>\n",
       "      <th>mean</th>\n",
       "      <td>28.827930</td>\n",
       "      <td>224.687617</td>\n",
       "      <td>458.077203</td>\n",
       "      <td>173.729169</td>\n",
       "      <td>311.138778</td>\n",
       "      <td>304.854791</td>\n",
       "    </tr>\n",
       "    <tr>\n",
       "      <th>std</th>\n",
       "      <td>14.489021</td>\n",
       "      <td>666.717663</td>\n",
       "      <td>1611.489240</td>\n",
       "      <td>604.696458</td>\n",
       "      <td>1136.705535</td>\n",
       "      <td>1145.717189</td>\n",
       "    </tr>\n",
       "    <tr>\n",
       "      <th>min</th>\n",
       "      <td>0.000000</td>\n",
       "      <td>0.000000</td>\n",
       "      <td>0.000000</td>\n",
       "      <td>0.000000</td>\n",
       "      <td>0.000000</td>\n",
       "      <td>0.000000</td>\n",
       "    </tr>\n",
       "    <tr>\n",
       "      <th>25%</th>\n",
       "      <td>19.000000</td>\n",
       "      <td>0.000000</td>\n",
       "      <td>0.000000</td>\n",
       "      <td>0.000000</td>\n",
       "      <td>0.000000</td>\n",
       "      <td>0.000000</td>\n",
       "    </tr>\n",
       "    <tr>\n",
       "      <th>50%</th>\n",
       "      <td>27.000000</td>\n",
       "      <td>0.000000</td>\n",
       "      <td>0.000000</td>\n",
       "      <td>0.000000</td>\n",
       "      <td>0.000000</td>\n",
       "      <td>0.000000</td>\n",
       "    </tr>\n",
       "    <tr>\n",
       "      <th>75%</th>\n",
       "      <td>38.000000</td>\n",
       "      <td>47.000000</td>\n",
       "      <td>76.000000</td>\n",
       "      <td>27.000000</td>\n",
       "      <td>59.000000</td>\n",
       "      <td>46.000000</td>\n",
       "    </tr>\n",
       "    <tr>\n",
       "      <th>max</th>\n",
       "      <td>79.000000</td>\n",
       "      <td>14327.000000</td>\n",
       "      <td>29813.000000</td>\n",
       "      <td>23492.000000</td>\n",
       "      <td>22408.000000</td>\n",
       "      <td>24133.000000</td>\n",
       "    </tr>\n",
       "  </tbody>\n",
       "</table>\n",
       "</div>"
      ],
      "text/plain": [
       "               Age   RoomService     FoodCourt  ShoppingMall           Spa  \\\n",
       "count  8514.000000   8512.000000   8510.000000   8485.000000   8510.000000   \n",
       "mean     28.827930    224.687617    458.077203    173.729169    311.138778   \n",
       "std      14.489021    666.717663   1611.489240    604.696458   1136.705535   \n",
       "min       0.000000      0.000000      0.000000      0.000000      0.000000   \n",
       "25%      19.000000      0.000000      0.000000      0.000000      0.000000   \n",
       "50%      27.000000      0.000000      0.000000      0.000000      0.000000   \n",
       "75%      38.000000     47.000000     76.000000     27.000000     59.000000   \n",
       "max      79.000000  14327.000000  29813.000000  23492.000000  22408.000000   \n",
       "\n",
       "             VRDeck  \n",
       "count   8505.000000  \n",
       "mean     304.854791  \n",
       "std     1145.717189  \n",
       "min        0.000000  \n",
       "25%        0.000000  \n",
       "50%        0.000000  \n",
       "75%       46.000000  \n",
       "max    24133.000000  "
      ]
     },
     "execution_count": 7,
     "metadata": {},
     "output_type": "execute_result"
    }
   ],
   "source": [
    "train.describe()"
   ]
  },
  {
   "cell_type": "markdown",
   "id": "c88bf662",
   "metadata": {
    "papermill": {
     "duration": 0.044407,
     "end_time": "2022-04-06T13:26:20.301802",
     "exception": false,
     "start_time": "2022-04-06T13:26:20.257395",
     "status": "completed"
    },
    "tags": []
   },
   "source": [
    "## Test Data"
   ]
  },
  {
   "cell_type": "code",
   "execution_count": 8,
   "id": "642c7d02",
   "metadata": {
    "execution": {
     "iopub.execute_input": "2022-04-06T13:26:20.395270Z",
     "iopub.status.busy": "2022-04-06T13:26:20.394685Z",
     "iopub.status.idle": "2022-04-06T13:26:20.411605Z",
     "shell.execute_reply": "2022-04-06T13:26:20.412147Z",
     "shell.execute_reply.started": "2022-04-06T12:51:38.918936Z"
    },
    "papermill": {
     "duration": 0.065421,
     "end_time": "2022-04-06T13:26:20.412309",
     "exception": false,
     "start_time": "2022-04-06T13:26:20.346888",
     "status": "completed"
    },
    "tags": []
   },
   "outputs": [
    {
     "data": {
      "text/html": [
       "<div>\n",
       "<style scoped>\n",
       "    .dataframe tbody tr th:only-of-type {\n",
       "        vertical-align: middle;\n",
       "    }\n",
       "\n",
       "    .dataframe tbody tr th {\n",
       "        vertical-align: top;\n",
       "    }\n",
       "\n",
       "    .dataframe thead th {\n",
       "        text-align: right;\n",
       "    }\n",
       "</style>\n",
       "<table border=\"1\" class=\"dataframe\">\n",
       "  <thead>\n",
       "    <tr style=\"text-align: right;\">\n",
       "      <th></th>\n",
       "      <th>PassengerId</th>\n",
       "      <th>HomePlanet</th>\n",
       "      <th>CryoSleep</th>\n",
       "      <th>Cabin</th>\n",
       "      <th>Destination</th>\n",
       "      <th>Age</th>\n",
       "      <th>VIP</th>\n",
       "      <th>RoomService</th>\n",
       "      <th>FoodCourt</th>\n",
       "      <th>ShoppingMall</th>\n",
       "      <th>Spa</th>\n",
       "      <th>VRDeck</th>\n",
       "      <th>Name</th>\n",
       "    </tr>\n",
       "  </thead>\n",
       "  <tbody>\n",
       "    <tr>\n",
       "      <th>0</th>\n",
       "      <td>0013_01</td>\n",
       "      <td>Earth</td>\n",
       "      <td>True</td>\n",
       "      <td>G/3/S</td>\n",
       "      <td>TRAPPIST-1e</td>\n",
       "      <td>27.0</td>\n",
       "      <td>False</td>\n",
       "      <td>0.0</td>\n",
       "      <td>0.0</td>\n",
       "      <td>0.0</td>\n",
       "      <td>0.0</td>\n",
       "      <td>0.0</td>\n",
       "      <td>Nelly Carsoning</td>\n",
       "    </tr>\n",
       "    <tr>\n",
       "      <th>1</th>\n",
       "      <td>0018_01</td>\n",
       "      <td>Earth</td>\n",
       "      <td>False</td>\n",
       "      <td>F/4/S</td>\n",
       "      <td>TRAPPIST-1e</td>\n",
       "      <td>19.0</td>\n",
       "      <td>False</td>\n",
       "      <td>0.0</td>\n",
       "      <td>9.0</td>\n",
       "      <td>0.0</td>\n",
       "      <td>2823.0</td>\n",
       "      <td>0.0</td>\n",
       "      <td>Lerome Peckers</td>\n",
       "    </tr>\n",
       "    <tr>\n",
       "      <th>2</th>\n",
       "      <td>0019_01</td>\n",
       "      <td>Europa</td>\n",
       "      <td>True</td>\n",
       "      <td>C/0/S</td>\n",
       "      <td>55 Cancri e</td>\n",
       "      <td>31.0</td>\n",
       "      <td>False</td>\n",
       "      <td>0.0</td>\n",
       "      <td>0.0</td>\n",
       "      <td>0.0</td>\n",
       "      <td>0.0</td>\n",
       "      <td>0.0</td>\n",
       "      <td>Sabih Unhearfus</td>\n",
       "    </tr>\n",
       "    <tr>\n",
       "      <th>3</th>\n",
       "      <td>0021_01</td>\n",
       "      <td>Europa</td>\n",
       "      <td>False</td>\n",
       "      <td>C/1/S</td>\n",
       "      <td>TRAPPIST-1e</td>\n",
       "      <td>38.0</td>\n",
       "      <td>False</td>\n",
       "      <td>0.0</td>\n",
       "      <td>6652.0</td>\n",
       "      <td>0.0</td>\n",
       "      <td>181.0</td>\n",
       "      <td>585.0</td>\n",
       "      <td>Meratz Caltilter</td>\n",
       "    </tr>\n",
       "    <tr>\n",
       "      <th>4</th>\n",
       "      <td>0023_01</td>\n",
       "      <td>Earth</td>\n",
       "      <td>False</td>\n",
       "      <td>F/5/S</td>\n",
       "      <td>TRAPPIST-1e</td>\n",
       "      <td>20.0</td>\n",
       "      <td>False</td>\n",
       "      <td>10.0</td>\n",
       "      <td>0.0</td>\n",
       "      <td>635.0</td>\n",
       "      <td>0.0</td>\n",
       "      <td>0.0</td>\n",
       "      <td>Brence Harperez</td>\n",
       "    </tr>\n",
       "  </tbody>\n",
       "</table>\n",
       "</div>"
      ],
      "text/plain": [
       "  PassengerId HomePlanet CryoSleep  Cabin  Destination   Age    VIP  \\\n",
       "0     0013_01      Earth      True  G/3/S  TRAPPIST-1e  27.0  False   \n",
       "1     0018_01      Earth     False  F/4/S  TRAPPIST-1e  19.0  False   \n",
       "2     0019_01     Europa      True  C/0/S  55 Cancri e  31.0  False   \n",
       "3     0021_01     Europa     False  C/1/S  TRAPPIST-1e  38.0  False   \n",
       "4     0023_01      Earth     False  F/5/S  TRAPPIST-1e  20.0  False   \n",
       "\n",
       "   RoomService  FoodCourt  ShoppingMall     Spa  VRDeck              Name  \n",
       "0          0.0        0.0           0.0     0.0     0.0   Nelly Carsoning  \n",
       "1          0.0        9.0           0.0  2823.0     0.0    Lerome Peckers  \n",
       "2          0.0        0.0           0.0     0.0     0.0   Sabih Unhearfus  \n",
       "3          0.0     6652.0           0.0   181.0   585.0  Meratz Caltilter  \n",
       "4         10.0        0.0         635.0     0.0     0.0   Brence Harperez  "
      ]
     },
     "execution_count": 8,
     "metadata": {},
     "output_type": "execute_result"
    }
   ],
   "source": [
    "test.head()"
   ]
  },
  {
   "cell_type": "code",
   "execution_count": 9,
   "id": "2feea99e",
   "metadata": {
    "execution": {
     "iopub.execute_input": "2022-04-06T13:26:20.506965Z",
     "iopub.status.busy": "2022-04-06T13:26:20.506321Z",
     "iopub.status.idle": "2022-04-06T13:26:20.518758Z",
     "shell.execute_reply": "2022-04-06T13:26:20.519341Z",
     "shell.execute_reply.started": "2022-04-06T12:51:39.111024Z"
    },
    "papermill": {
     "duration": 0.06166,
     "end_time": "2022-04-06T13:26:20.519526",
     "exception": false,
     "start_time": "2022-04-06T13:26:20.457866",
     "status": "completed"
    },
    "tags": []
   },
   "outputs": [
    {
     "name": "stdout",
     "output_type": "stream",
     "text": [
      "<class 'pandas.core.frame.DataFrame'>\n",
      "RangeIndex: 4277 entries, 0 to 4276\n",
      "Data columns (total 13 columns):\n",
      " #   Column        Non-Null Count  Dtype  \n",
      "---  ------        --------------  -----  \n",
      " 0   PassengerId   4277 non-null   object \n",
      " 1   HomePlanet    4190 non-null   object \n",
      " 2   CryoSleep     4184 non-null   object \n",
      " 3   Cabin         4177 non-null   object \n",
      " 4   Destination   4185 non-null   object \n",
      " 5   Age           4186 non-null   float64\n",
      " 6   VIP           4184 non-null   object \n",
      " 7   RoomService   4195 non-null   float64\n",
      " 8   FoodCourt     4171 non-null   float64\n",
      " 9   ShoppingMall  4179 non-null   float64\n",
      " 10  Spa           4176 non-null   float64\n",
      " 11  VRDeck        4197 non-null   float64\n",
      " 12  Name          4183 non-null   object \n",
      "dtypes: float64(6), object(7)\n",
      "memory usage: 434.5+ KB\n"
     ]
    }
   ],
   "source": [
    "test.info()"
   ]
  },
  {
   "cell_type": "code",
   "execution_count": 10,
   "id": "d2202b7a",
   "metadata": {
    "execution": {
     "iopub.execute_input": "2022-04-06T13:26:20.617794Z",
     "iopub.status.busy": "2022-04-06T13:26:20.615133Z",
     "iopub.status.idle": "2022-04-06T13:26:20.623738Z",
     "shell.execute_reply": "2022-04-06T13:26:20.624225Z",
     "shell.execute_reply.started": "2022-04-06T12:51:39.324671Z"
    },
    "papermill": {
     "duration": 0.059026,
     "end_time": "2022-04-06T13:26:20.624392",
     "exception": false,
     "start_time": "2022-04-06T13:26:20.565366",
     "status": "completed"
    },
    "tags": []
   },
   "outputs": [
    {
     "data": {
      "text/plain": [
       "PassengerId       0\n",
       "HomePlanet       87\n",
       "CryoSleep        93\n",
       "Cabin           100\n",
       "Destination      92\n",
       "Age              91\n",
       "VIP              93\n",
       "RoomService      82\n",
       "FoodCourt       106\n",
       "ShoppingMall     98\n",
       "Spa             101\n",
       "VRDeck           80\n",
       "Name             94\n",
       "dtype: int64"
      ]
     },
     "execution_count": 10,
     "metadata": {},
     "output_type": "execute_result"
    }
   ],
   "source": [
    "test.isna().sum()"
   ]
  },
  {
   "cell_type": "code",
   "execution_count": 11,
   "id": "30b0fb17",
   "metadata": {
    "execution": {
     "iopub.execute_input": "2022-04-06T13:26:20.726175Z",
     "iopub.status.busy": "2022-04-06T13:26:20.724877Z",
     "iopub.status.idle": "2022-04-06T13:26:20.749460Z",
     "shell.execute_reply": "2022-04-06T13:26:20.748860Z",
     "shell.execute_reply.started": "2022-04-06T12:51:39.524373Z"
    },
    "papermill": {
     "duration": 0.078322,
     "end_time": "2022-04-06T13:26:20.749603",
     "exception": false,
     "start_time": "2022-04-06T13:26:20.671281",
     "status": "completed"
    },
    "tags": []
   },
   "outputs": [
    {
     "data": {
      "text/html": [
       "<div>\n",
       "<style scoped>\n",
       "    .dataframe tbody tr th:only-of-type {\n",
       "        vertical-align: middle;\n",
       "    }\n",
       "\n",
       "    .dataframe tbody tr th {\n",
       "        vertical-align: top;\n",
       "    }\n",
       "\n",
       "    .dataframe thead th {\n",
       "        text-align: right;\n",
       "    }\n",
       "</style>\n",
       "<table border=\"1\" class=\"dataframe\">\n",
       "  <thead>\n",
       "    <tr style=\"text-align: right;\">\n",
       "      <th></th>\n",
       "      <th>Age</th>\n",
       "      <th>RoomService</th>\n",
       "      <th>FoodCourt</th>\n",
       "      <th>ShoppingMall</th>\n",
       "      <th>Spa</th>\n",
       "      <th>VRDeck</th>\n",
       "    </tr>\n",
       "  </thead>\n",
       "  <tbody>\n",
       "    <tr>\n",
       "      <th>count</th>\n",
       "      <td>4186.000000</td>\n",
       "      <td>4195.000000</td>\n",
       "      <td>4171.000000</td>\n",
       "      <td>4179.000000</td>\n",
       "      <td>4176.000000</td>\n",
       "      <td>4197.000000</td>\n",
       "    </tr>\n",
       "    <tr>\n",
       "      <th>mean</th>\n",
       "      <td>28.658146</td>\n",
       "      <td>219.266269</td>\n",
       "      <td>439.484296</td>\n",
       "      <td>177.295525</td>\n",
       "      <td>303.052443</td>\n",
       "      <td>310.710031</td>\n",
       "    </tr>\n",
       "    <tr>\n",
       "      <th>std</th>\n",
       "      <td>14.179072</td>\n",
       "      <td>607.011289</td>\n",
       "      <td>1527.663045</td>\n",
       "      <td>560.821123</td>\n",
       "      <td>1117.186015</td>\n",
       "      <td>1246.994742</td>\n",
       "    </tr>\n",
       "    <tr>\n",
       "      <th>min</th>\n",
       "      <td>0.000000</td>\n",
       "      <td>0.000000</td>\n",
       "      <td>0.000000</td>\n",
       "      <td>0.000000</td>\n",
       "      <td>0.000000</td>\n",
       "      <td>0.000000</td>\n",
       "    </tr>\n",
       "    <tr>\n",
       "      <th>25%</th>\n",
       "      <td>19.000000</td>\n",
       "      <td>0.000000</td>\n",
       "      <td>0.000000</td>\n",
       "      <td>0.000000</td>\n",
       "      <td>0.000000</td>\n",
       "      <td>0.000000</td>\n",
       "    </tr>\n",
       "    <tr>\n",
       "      <th>50%</th>\n",
       "      <td>26.000000</td>\n",
       "      <td>0.000000</td>\n",
       "      <td>0.000000</td>\n",
       "      <td>0.000000</td>\n",
       "      <td>0.000000</td>\n",
       "      <td>0.000000</td>\n",
       "    </tr>\n",
       "    <tr>\n",
       "      <th>75%</th>\n",
       "      <td>37.000000</td>\n",
       "      <td>53.000000</td>\n",
       "      <td>78.000000</td>\n",
       "      <td>33.000000</td>\n",
       "      <td>50.000000</td>\n",
       "      <td>36.000000</td>\n",
       "    </tr>\n",
       "    <tr>\n",
       "      <th>max</th>\n",
       "      <td>79.000000</td>\n",
       "      <td>11567.000000</td>\n",
       "      <td>25273.000000</td>\n",
       "      <td>8292.000000</td>\n",
       "      <td>19844.000000</td>\n",
       "      <td>22272.000000</td>\n",
       "    </tr>\n",
       "  </tbody>\n",
       "</table>\n",
       "</div>"
      ],
      "text/plain": [
       "               Age   RoomService     FoodCourt  ShoppingMall           Spa  \\\n",
       "count  4186.000000   4195.000000   4171.000000   4179.000000   4176.000000   \n",
       "mean     28.658146    219.266269    439.484296    177.295525    303.052443   \n",
       "std      14.179072    607.011289   1527.663045    560.821123   1117.186015   \n",
       "min       0.000000      0.000000      0.000000      0.000000      0.000000   \n",
       "25%      19.000000      0.000000      0.000000      0.000000      0.000000   \n",
       "50%      26.000000      0.000000      0.000000      0.000000      0.000000   \n",
       "75%      37.000000     53.000000     78.000000     33.000000     50.000000   \n",
       "max      79.000000  11567.000000  25273.000000   8292.000000  19844.000000   \n",
       "\n",
       "             VRDeck  \n",
       "count   4197.000000  \n",
       "mean     310.710031  \n",
       "std     1246.994742  \n",
       "min        0.000000  \n",
       "25%        0.000000  \n",
       "50%        0.000000  \n",
       "75%       36.000000  \n",
       "max    22272.000000  "
      ]
     },
     "execution_count": 11,
     "metadata": {},
     "output_type": "execute_result"
    }
   ],
   "source": [
    "test.describe()"
   ]
  },
  {
   "cell_type": "markdown",
   "id": "3cef62d4",
   "metadata": {
    "papermill": {
     "duration": 0.046932,
     "end_time": "2022-04-06T13:26:20.843677",
     "exception": false,
     "start_time": "2022-04-06T13:26:20.796745",
     "status": "completed"
    },
    "tags": []
   },
   "source": [
    "## EDA"
   ]
  },
  {
   "cell_type": "markdown",
   "id": "0ebf9375",
   "metadata": {
    "papermill": {
     "duration": 0.046935,
     "end_time": "2022-04-06T13:26:20.938031",
     "exception": false,
     "start_time": "2022-04-06T13:26:20.891096",
     "status": "completed"
    },
    "tags": []
   },
   "source": [
    "- 행성 출발지(**HomePlanet**)와 행성 도착치(**Destination**)의 비율을 알아본다."
   ]
  },
  {
   "cell_type": "code",
   "execution_count": 12,
   "id": "c27905b3",
   "metadata": {
    "execution": {
     "iopub.execute_input": "2022-04-06T13:26:21.039041Z",
     "iopub.status.busy": "2022-04-06T13:26:21.038379Z",
     "iopub.status.idle": "2022-04-06T13:26:21.460051Z",
     "shell.execute_reply": "2022-04-06T13:26:21.459323Z",
     "shell.execute_reply.started": "2022-04-06T12:51:39.715806Z"
    },
    "papermill": {
     "duration": 0.474196,
     "end_time": "2022-04-06T13:26:21.460194",
     "exception": false,
     "start_time": "2022-04-06T13:26:20.985998",
     "status": "completed"
    },
    "tags": []
   },
   "outputs": [
    {
     "data": {
      "text/html": [
       "        <script type=\"text/javascript\">\n",
       "        window.PlotlyConfig = {MathJaxConfig: 'local'};\n",
       "        if (window.MathJax) {MathJax.Hub.Config({SVG: {font: \"STIX-Web\"}});}\n",
       "        if (typeof require !== 'undefined') {\n",
       "        require.undef(\"plotly\");\n",
       "        requirejs.config({\n",
       "            paths: {\n",
       "                'plotly': ['https://cdn.plot.ly/plotly-2.9.0.min']\n",
       "            }\n",
       "        });\n",
       "        require(['plotly'], function(Plotly) {\n",
       "            window._Plotly = Plotly;\n",
       "        });\n",
       "        }\n",
       "        </script>\n",
       "        "
      ]
     },
     "metadata": {},
     "output_type": "display_data"
    },
    {
     "data": {
      "text/html": [
       "<div>                            <div id=\"8749041c-d2e4-40a1-8529-e7eb0de038fc\" class=\"plotly-graph-div\" style=\"height:525px; width:100%;\"></div>            <script type=\"text/javascript\">                require([\"plotly\"], function(Plotly) {                    window.PLOTLYENV=window.PLOTLYENV || {};                                    if (document.getElementById(\"8749041c-d2e4-40a1-8529-e7eb0de038fc\")) {                    Plotly.newPlot(                        \"8749041c-d2e4-40a1-8529-e7eb0de038fc\",                        [{\"marker\":{\"size\":[4602,2131,1759],\"sizemode\":\"diameter\",\"sizeref\":25},\"mode\":\"markers\",\"name\":\"HomePlanet\",\"x\":[\"Earth\",\"Europa\",\"Mars\"],\"y\":[4602,2131,1759],\"type\":\"scatter\",\"xaxis\":\"x\",\"yaxis\":\"y\"},{\"marker\":{\"size\":[5915,1800,796],\"sizemode\":\"diameter\",\"sizeref\":25},\"mode\":\"markers\",\"name\":\"Destination\",\"x\":[\"TRAPPIST-1e\",\"55 Cancri e\",\"PSO J318.5-22\"],\"y\":[5915,1800,796],\"type\":\"scatter\",\"xaxis\":\"x2\",\"yaxis\":\"y2\"}],                        {\"template\":{\"data\":{\"bar\":[{\"error_x\":{\"color\":\"#2a3f5f\"},\"error_y\":{\"color\":\"#2a3f5f\"},\"marker\":{\"line\":{\"color\":\"#E5ECF6\",\"width\":0.5},\"pattern\":{\"fillmode\":\"overlay\",\"size\":10,\"solidity\":0.2}},\"type\":\"bar\"}],\"barpolar\":[{\"marker\":{\"line\":{\"color\":\"#E5ECF6\",\"width\":0.5},\"pattern\":{\"fillmode\":\"overlay\",\"size\":10,\"solidity\":0.2}},\"type\":\"barpolar\"}],\"carpet\":[{\"aaxis\":{\"endlinecolor\":\"#2a3f5f\",\"gridcolor\":\"white\",\"linecolor\":\"white\",\"minorgridcolor\":\"white\",\"startlinecolor\":\"#2a3f5f\"},\"baxis\":{\"endlinecolor\":\"#2a3f5f\",\"gridcolor\":\"white\",\"linecolor\":\"white\",\"minorgridcolor\":\"white\",\"startlinecolor\":\"#2a3f5f\"},\"type\":\"carpet\"}],\"choropleth\":[{\"colorbar\":{\"outlinewidth\":0,\"ticks\":\"\"},\"type\":\"choropleth\"}],\"contour\":[{\"colorbar\":{\"outlinewidth\":0,\"ticks\":\"\"},\"colorscale\":[[0.0,\"#0d0887\"],[0.1111111111111111,\"#46039f\"],[0.2222222222222222,\"#7201a8\"],[0.3333333333333333,\"#9c179e\"],[0.4444444444444444,\"#bd3786\"],[0.5555555555555556,\"#d8576b\"],[0.6666666666666666,\"#ed7953\"],[0.7777777777777778,\"#fb9f3a\"],[0.8888888888888888,\"#fdca26\"],[1.0,\"#f0f921\"]],\"type\":\"contour\"}],\"contourcarpet\":[{\"colorbar\":{\"outlinewidth\":0,\"ticks\":\"\"},\"type\":\"contourcarpet\"}],\"heatmap\":[{\"colorbar\":{\"outlinewidth\":0,\"ticks\":\"\"},\"colorscale\":[[0.0,\"#0d0887\"],[0.1111111111111111,\"#46039f\"],[0.2222222222222222,\"#7201a8\"],[0.3333333333333333,\"#9c179e\"],[0.4444444444444444,\"#bd3786\"],[0.5555555555555556,\"#d8576b\"],[0.6666666666666666,\"#ed7953\"],[0.7777777777777778,\"#fb9f3a\"],[0.8888888888888888,\"#fdca26\"],[1.0,\"#f0f921\"]],\"type\":\"heatmap\"}],\"heatmapgl\":[{\"colorbar\":{\"outlinewidth\":0,\"ticks\":\"\"},\"colorscale\":[[0.0,\"#0d0887\"],[0.1111111111111111,\"#46039f\"],[0.2222222222222222,\"#7201a8\"],[0.3333333333333333,\"#9c179e\"],[0.4444444444444444,\"#bd3786\"],[0.5555555555555556,\"#d8576b\"],[0.6666666666666666,\"#ed7953\"],[0.7777777777777778,\"#fb9f3a\"],[0.8888888888888888,\"#fdca26\"],[1.0,\"#f0f921\"]],\"type\":\"heatmapgl\"}],\"histogram\":[{\"marker\":{\"pattern\":{\"fillmode\":\"overlay\",\"size\":10,\"solidity\":0.2}},\"type\":\"histogram\"}],\"histogram2d\":[{\"colorbar\":{\"outlinewidth\":0,\"ticks\":\"\"},\"colorscale\":[[0.0,\"#0d0887\"],[0.1111111111111111,\"#46039f\"],[0.2222222222222222,\"#7201a8\"],[0.3333333333333333,\"#9c179e\"],[0.4444444444444444,\"#bd3786\"],[0.5555555555555556,\"#d8576b\"],[0.6666666666666666,\"#ed7953\"],[0.7777777777777778,\"#fb9f3a\"],[0.8888888888888888,\"#fdca26\"],[1.0,\"#f0f921\"]],\"type\":\"histogram2d\"}],\"histogram2dcontour\":[{\"colorbar\":{\"outlinewidth\":0,\"ticks\":\"\"},\"colorscale\":[[0.0,\"#0d0887\"],[0.1111111111111111,\"#46039f\"],[0.2222222222222222,\"#7201a8\"],[0.3333333333333333,\"#9c179e\"],[0.4444444444444444,\"#bd3786\"],[0.5555555555555556,\"#d8576b\"],[0.6666666666666666,\"#ed7953\"],[0.7777777777777778,\"#fb9f3a\"],[0.8888888888888888,\"#fdca26\"],[1.0,\"#f0f921\"]],\"type\":\"histogram2dcontour\"}],\"mesh3d\":[{\"colorbar\":{\"outlinewidth\":0,\"ticks\":\"\"},\"type\":\"mesh3d\"}],\"parcoords\":[{\"line\":{\"colorbar\":{\"outlinewidth\":0,\"ticks\":\"\"}},\"type\":\"parcoords\"}],\"pie\":[{\"automargin\":true,\"type\":\"pie\"}],\"scatter\":[{\"marker\":{\"colorbar\":{\"outlinewidth\":0,\"ticks\":\"\"}},\"type\":\"scatter\"}],\"scatter3d\":[{\"line\":{\"colorbar\":{\"outlinewidth\":0,\"ticks\":\"\"}},\"marker\":{\"colorbar\":{\"outlinewidth\":0,\"ticks\":\"\"}},\"type\":\"scatter3d\"}],\"scattercarpet\":[{\"marker\":{\"colorbar\":{\"outlinewidth\":0,\"ticks\":\"\"}},\"type\":\"scattercarpet\"}],\"scattergeo\":[{\"marker\":{\"colorbar\":{\"outlinewidth\":0,\"ticks\":\"\"}},\"type\":\"scattergeo\"}],\"scattergl\":[{\"marker\":{\"colorbar\":{\"outlinewidth\":0,\"ticks\":\"\"}},\"type\":\"scattergl\"}],\"scattermapbox\":[{\"marker\":{\"colorbar\":{\"outlinewidth\":0,\"ticks\":\"\"}},\"type\":\"scattermapbox\"}],\"scatterpolar\":[{\"marker\":{\"colorbar\":{\"outlinewidth\":0,\"ticks\":\"\"}},\"type\":\"scatterpolar\"}],\"scatterpolargl\":[{\"marker\":{\"colorbar\":{\"outlinewidth\":0,\"ticks\":\"\"}},\"type\":\"scatterpolargl\"}],\"scatterternary\":[{\"marker\":{\"colorbar\":{\"outlinewidth\":0,\"ticks\":\"\"}},\"type\":\"scatterternary\"}],\"surface\":[{\"colorbar\":{\"outlinewidth\":0,\"ticks\":\"\"},\"colorscale\":[[0.0,\"#0d0887\"],[0.1111111111111111,\"#46039f\"],[0.2222222222222222,\"#7201a8\"],[0.3333333333333333,\"#9c179e\"],[0.4444444444444444,\"#bd3786\"],[0.5555555555555556,\"#d8576b\"],[0.6666666666666666,\"#ed7953\"],[0.7777777777777778,\"#fb9f3a\"],[0.8888888888888888,\"#fdca26\"],[1.0,\"#f0f921\"]],\"type\":\"surface\"}],\"table\":[{\"cells\":{\"fill\":{\"color\":\"#EBF0F8\"},\"line\":{\"color\":\"white\"}},\"header\":{\"fill\":{\"color\":\"#C8D4E3\"},\"line\":{\"color\":\"white\"}},\"type\":\"table\"}]},\"layout\":{\"annotationdefaults\":{\"arrowcolor\":\"#2a3f5f\",\"arrowhead\":0,\"arrowwidth\":1},\"autotypenumbers\":\"strict\",\"coloraxis\":{\"colorbar\":{\"outlinewidth\":0,\"ticks\":\"\"}},\"colorscale\":{\"diverging\":[[0,\"#8e0152\"],[0.1,\"#c51b7d\"],[0.2,\"#de77ae\"],[0.3,\"#f1b6da\"],[0.4,\"#fde0ef\"],[0.5,\"#f7f7f7\"],[0.6,\"#e6f5d0\"],[0.7,\"#b8e186\"],[0.8,\"#7fbc41\"],[0.9,\"#4d9221\"],[1,\"#276419\"]],\"sequential\":[[0.0,\"#0d0887\"],[0.1111111111111111,\"#46039f\"],[0.2222222222222222,\"#7201a8\"],[0.3333333333333333,\"#9c179e\"],[0.4444444444444444,\"#bd3786\"],[0.5555555555555556,\"#d8576b\"],[0.6666666666666666,\"#ed7953\"],[0.7777777777777778,\"#fb9f3a\"],[0.8888888888888888,\"#fdca26\"],[1.0,\"#f0f921\"]],\"sequentialminus\":[[0.0,\"#0d0887\"],[0.1111111111111111,\"#46039f\"],[0.2222222222222222,\"#7201a8\"],[0.3333333333333333,\"#9c179e\"],[0.4444444444444444,\"#bd3786\"],[0.5555555555555556,\"#d8576b\"],[0.6666666666666666,\"#ed7953\"],[0.7777777777777778,\"#fb9f3a\"],[0.8888888888888888,\"#fdca26\"],[1.0,\"#f0f921\"]]},\"colorway\":[\"#636efa\",\"#EF553B\",\"#00cc96\",\"#ab63fa\",\"#FFA15A\",\"#19d3f3\",\"#FF6692\",\"#B6E880\",\"#FF97FF\",\"#FECB52\"],\"font\":{\"color\":\"#2a3f5f\"},\"geo\":{\"bgcolor\":\"white\",\"lakecolor\":\"white\",\"landcolor\":\"#E5ECF6\",\"showlakes\":true,\"showland\":true,\"subunitcolor\":\"white\"},\"hoverlabel\":{\"align\":\"left\"},\"hovermode\":\"closest\",\"mapbox\":{\"style\":\"light\"},\"paper_bgcolor\":\"white\",\"plot_bgcolor\":\"#E5ECF6\",\"polar\":{\"angularaxis\":{\"gridcolor\":\"white\",\"linecolor\":\"white\",\"ticks\":\"\"},\"bgcolor\":\"#E5ECF6\",\"radialaxis\":{\"gridcolor\":\"white\",\"linecolor\":\"white\",\"ticks\":\"\"}},\"scene\":{\"xaxis\":{\"backgroundcolor\":\"#E5ECF6\",\"gridcolor\":\"white\",\"gridwidth\":2,\"linecolor\":\"white\",\"showbackground\":true,\"ticks\":\"\",\"zerolinecolor\":\"white\"},\"yaxis\":{\"backgroundcolor\":\"#E5ECF6\",\"gridcolor\":\"white\",\"gridwidth\":2,\"linecolor\":\"white\",\"showbackground\":true,\"ticks\":\"\",\"zerolinecolor\":\"white\"},\"zaxis\":{\"backgroundcolor\":\"#E5ECF6\",\"gridcolor\":\"white\",\"gridwidth\":2,\"linecolor\":\"white\",\"showbackground\":true,\"ticks\":\"\",\"zerolinecolor\":\"white\"}},\"shapedefaults\":{\"line\":{\"color\":\"#2a3f5f\"}},\"ternary\":{\"aaxis\":{\"gridcolor\":\"white\",\"linecolor\":\"white\",\"ticks\":\"\"},\"baxis\":{\"gridcolor\":\"white\",\"linecolor\":\"white\",\"ticks\":\"\"},\"bgcolor\":\"#E5ECF6\",\"caxis\":{\"gridcolor\":\"white\",\"linecolor\":\"white\",\"ticks\":\"\"}},\"title\":{\"x\":0.05},\"xaxis\":{\"automargin\":true,\"gridcolor\":\"white\",\"linecolor\":\"white\",\"ticks\":\"\",\"title\":{\"standoff\":15},\"zerolinecolor\":\"white\",\"zerolinewidth\":2},\"yaxis\":{\"automargin\":true,\"gridcolor\":\"white\",\"linecolor\":\"white\",\"ticks\":\"\",\"title\":{\"standoff\":15},\"zerolinecolor\":\"white\",\"zerolinewidth\":2}}},\"xaxis\":{\"anchor\":\"y\",\"domain\":[0.0,0.45]},\"yaxis\":{\"anchor\":\"x\",\"domain\":[0.0,1.0]},\"xaxis2\":{\"anchor\":\"y2\",\"domain\":[0.55,1.0]},\"yaxis2\":{\"anchor\":\"x2\",\"domain\":[0.0,1.0],\"matches\":\"y\",\"showticklabels\":false},\"title\":{\"text\":\"<b>Planets</b>\",\"x\":0.5,\"font\":{\"size\":20,\"color\":\"black\",\"family\":\"Space Mono\"}},\"plot_bgcolor\":\"rgba(0,0,0,0)\"},                        {\"responsive\": true}                    ).then(function(){\n",
       "                            \n",
       "var gd = document.getElementById('8749041c-d2e4-40a1-8529-e7eb0de038fc');\n",
       "var x = new MutationObserver(function (mutations, observer) {{\n",
       "        var display = window.getComputedStyle(gd).display;\n",
       "        if (!display || display === 'none') {{\n",
       "            console.log([gd, 'removed!']);\n",
       "            Plotly.purge(gd);\n",
       "            observer.disconnect();\n",
       "        }}\n",
       "}});\n",
       "\n",
       "// Listen for the removal of the full notebook cells\n",
       "var notebookContainer = gd.closest('#notebook-container');\n",
       "if (notebookContainer) {{\n",
       "    x.observe(notebookContainer, {childList: true});\n",
       "}}\n",
       "\n",
       "// Listen for the clearing of the current output cell\n",
       "var outputEl = gd.closest('.output');\n",
       "if (outputEl) {{\n",
       "    x.observe(outputEl, {childList: true});\n",
       "}}\n",
       "\n",
       "                        })                };                });            </script>        </div>"
      ]
     },
     "metadata": {},
     "output_type": "display_data"
    }
   ],
   "source": [
    "# fig = go.Figure()\n",
    "from plotly.subplots import make_subplots\n",
    "\n",
    "c = ['HomePlanet','Destination']\n",
    "fig = make_subplots(rows=1, cols=2,shared_yaxes=True)\n",
    "    \n",
    "fig.add_trace(go.Scatter( x=train['HomePlanet'].value_counts().index, y=train['HomePlanet'].value_counts().values,\n",
    "                         mode='markers',name = 'HomePlanet',\n",
    "        marker=dict(\n",
    "            sizemode = 'diameter',\n",
    "            sizeref = 25,\n",
    "            size = train['HomePlanet'].value_counts().values)),1,1)\n",
    "    \n",
    "fig.add_trace(go.Scatter( x=train['Destination'].value_counts().index, y=train['Destination'].value_counts().values,\n",
    "                         mode='markers', name = 'Destination',\n",
    "        marker=dict(\n",
    "            sizemode = 'diameter',\n",
    "            sizeref = 25,\n",
    "            size = train['Destination'].value_counts().values)),1,2)\n",
    "\n",
    "\n",
    "fig.update_layout(    title='<b>Planets</b>', \n",
    "        title_x=0.5,\n",
    "        titlefont=dict(size =20, color='black', family='Space Mono'),\n",
    "        plot_bgcolor='rgba(0,0,0,0)' )\n",
    "fig.show()"
   ]
  },
  {
   "cell_type": "markdown",
   "id": "fa878745",
   "metadata": {
    "papermill": {
     "duration": 0.047516,
     "end_time": "2022-04-06T13:26:21.558477",
     "exception": false,
     "start_time": "2022-04-06T13:26:21.510961",
     "status": "completed"
    },
    "tags": []
   },
   "source": []
  },
  {
   "cell_type": "code",
   "execution_count": null,
   "id": "fb7c2d0e",
   "metadata": {
    "papermill": {
     "duration": 0.052334,
     "end_time": "2022-04-06T13:26:21.659226",
     "exception": false,
     "start_time": "2022-04-06T13:26:21.606892",
     "status": "completed"
    },
    "tags": []
   },
   "outputs": [],
   "source": []
  },
  {
   "cell_type": "markdown",
   "id": "d9656900",
   "metadata": {
    "papermill": {
     "duration": 0.047414,
     "end_time": "2022-04-06T13:26:21.754625",
     "exception": false,
     "start_time": "2022-04-06T13:26:21.707211",
     "status": "completed"
    },
    "tags": []
   },
   "source": [
    "---\n",
    "시각화 추가\n",
    "\n",
    "---"
   ]
  },
  {
   "cell_type": "markdown",
   "id": "475e6e83",
   "metadata": {
    "papermill": {
     "duration": 0.048952,
     "end_time": "2022-04-06T13:26:21.851758",
     "exception": false,
     "start_time": "2022-04-06T13:26:21.802806",
     "status": "completed"
    },
    "tags": []
   },
   "source": [
    "# Preprocessing"
   ]
  },
  {
   "cell_type": "markdown",
   "id": "1124856d",
   "metadata": {
    "papermill": {
     "duration": 0.047251,
     "end_time": "2022-04-06T13:26:21.947203",
     "exception": false,
     "start_time": "2022-04-06T13:26:21.899952",
     "status": "completed"
    },
    "tags": []
   },
   "source": [
    "### PassengerId 나누기"
   ]
  },
  {
   "cell_type": "markdown",
   "id": "f45d5eef",
   "metadata": {
    "papermill": {
     "duration": 0.049031,
     "end_time": "2022-04-06T13:26:22.045714",
     "exception": false,
     "start_time": "2022-04-06T13:26:21.996683",
     "status": "completed"
    },
    "tags": []
   },
   "source": [
    "- PassengerId의 앞자리 4개를 이용해 가족 그룹 Id 생성 -> 컬럼 Group으로 데이터 값 채우기"
   ]
  },
  {
   "cell_type": "code",
   "execution_count": 13,
   "id": "e447f96c",
   "metadata": {
    "execution": {
     "iopub.execute_input": "2022-04-06T13:26:22.146980Z",
     "iopub.status.busy": "2022-04-06T13:26:22.146359Z",
     "iopub.status.idle": "2022-04-06T13:26:22.163329Z",
     "shell.execute_reply": "2022-04-06T13:26:22.163861Z",
     "shell.execute_reply.started": "2022-04-06T12:51:39.910540Z"
    },
    "papermill": {
     "duration": 0.069871,
     "end_time": "2022-04-06T13:26:22.164027",
     "exception": false,
     "start_time": "2022-04-06T13:26:22.094156",
     "status": "completed"
    },
    "tags": []
   },
   "outputs": [
    {
     "data": {
      "text/html": [
       "<div>\n",
       "<style scoped>\n",
       "    .dataframe tbody tr th:only-of-type {\n",
       "        vertical-align: middle;\n",
       "    }\n",
       "\n",
       "    .dataframe tbody tr th {\n",
       "        vertical-align: top;\n",
       "    }\n",
       "\n",
       "    .dataframe thead th {\n",
       "        text-align: right;\n",
       "    }\n",
       "</style>\n",
       "<table border=\"1\" class=\"dataframe\">\n",
       "  <thead>\n",
       "    <tr style=\"text-align: right;\">\n",
       "      <th></th>\n",
       "      <th>PassengerId</th>\n",
       "      <th>Group</th>\n",
       "    </tr>\n",
       "  </thead>\n",
       "  <tbody>\n",
       "    <tr>\n",
       "      <th>0</th>\n",
       "      <td>0001_01</td>\n",
       "      <td>0001</td>\n",
       "    </tr>\n",
       "    <tr>\n",
       "      <th>1</th>\n",
       "      <td>0002_01</td>\n",
       "      <td>0002</td>\n",
       "    </tr>\n",
       "    <tr>\n",
       "      <th>2</th>\n",
       "      <td>0003_01</td>\n",
       "      <td>0003</td>\n",
       "    </tr>\n",
       "    <tr>\n",
       "      <th>3</th>\n",
       "      <td>0003_02</td>\n",
       "      <td>0003</td>\n",
       "    </tr>\n",
       "    <tr>\n",
       "      <th>4</th>\n",
       "      <td>0004_01</td>\n",
       "      <td>0004</td>\n",
       "    </tr>\n",
       "  </tbody>\n",
       "</table>\n",
       "</div>"
      ],
      "text/plain": [
       "  PassengerId Group\n",
       "0     0001_01  0001\n",
       "1     0002_01  0002\n",
       "2     0003_01  0003\n",
       "3     0003_02  0003\n",
       "4     0004_01  0004"
      ]
     },
     "execution_count": 13,
     "metadata": {},
     "output_type": "execute_result"
    }
   ],
   "source": [
    "train['Group'] = train['PassengerId'].apply(lambda x : str(x[:4]))\n",
    "test['Group'] = test['PassengerId'].apply(lambda x : str(x[:4]))\n",
    "train[['PassengerId','Group']].head()"
   ]
  },
  {
   "cell_type": "code",
   "execution_count": 14,
   "id": "760583fd",
   "metadata": {
    "execution": {
     "iopub.execute_input": "2022-04-06T13:26:22.266453Z",
     "iopub.status.busy": "2022-04-06T13:26:22.265809Z",
     "iopub.status.idle": "2022-04-06T13:26:22.273149Z",
     "shell.execute_reply": "2022-04-06T13:26:22.272669Z",
     "shell.execute_reply.started": "2022-04-06T12:51:40.112491Z"
    },
    "papermill": {
     "duration": 0.060053,
     "end_time": "2022-04-06T13:26:22.273288",
     "exception": false,
     "start_time": "2022-04-06T13:26:22.213235",
     "status": "completed"
    },
    "tags": []
   },
   "outputs": [
    {
     "data": {
      "text/plain": [
       "PassengerId      object\n",
       "HomePlanet       object\n",
       "CryoSleep        object\n",
       "Cabin            object\n",
       "Destination      object\n",
       "Age             float64\n",
       "VIP              object\n",
       "RoomService     float64\n",
       "FoodCourt       float64\n",
       "ShoppingMall    float64\n",
       "Spa             float64\n",
       "VRDeck          float64\n",
       "Name             object\n",
       "Transported        bool\n",
       "Group            object\n",
       "dtype: object"
      ]
     },
     "execution_count": 14,
     "metadata": {},
     "output_type": "execute_result"
    }
   ],
   "source": [
    "train.dtypes"
   ]
  },
  {
   "cell_type": "markdown",
   "id": "c42e79ed",
   "metadata": {
    "papermill": {
     "duration": 0.048142,
     "end_time": "2022-04-06T13:26:22.372366",
     "exception": false,
     "start_time": "2022-04-06T13:26:22.324224",
     "status": "completed"
    },
    "tags": []
   },
   "source": [
    "PassengerId의 앞의 4자리가 잘 분리 되었고 Object 형태로 저장이 되었다."
   ]
  },
  {
   "cell_type": "markdown",
   "id": "9d45eabd",
   "metadata": {
    "papermill": {
     "duration": 0.048511,
     "end_time": "2022-04-06T13:26:22.470678",
     "exception": false,
     "start_time": "2022-04-06T13:26:22.422167",
     "status": "completed"
    },
    "tags": []
   },
   "source": [
    "- Group을 이용해 가족 구성원 수를 구한다."
   ]
  },
  {
   "cell_type": "code",
   "execution_count": 15,
   "id": "c8c57fea",
   "metadata": {
    "execution": {
     "iopub.execute_input": "2022-04-06T13:26:22.575034Z",
     "iopub.status.busy": "2022-04-06T13:26:22.574391Z",
     "iopub.status.idle": "2022-04-06T13:26:22.595767Z",
     "shell.execute_reply": "2022-04-06T13:26:22.595182Z",
     "shell.execute_reply.started": "2022-04-06T12:51:40.317127Z"
    },
    "papermill": {
     "duration": 0.076238,
     "end_time": "2022-04-06T13:26:22.595912",
     "exception": false,
     "start_time": "2022-04-06T13:26:22.519674",
     "status": "completed"
    },
    "tags": []
   },
   "outputs": [
    {
     "data": {
      "text/html": [
       "<div>\n",
       "<style scoped>\n",
       "    .dataframe tbody tr th:only-of-type {\n",
       "        vertical-align: middle;\n",
       "    }\n",
       "\n",
       "    .dataframe tbody tr th {\n",
       "        vertical-align: top;\n",
       "    }\n",
       "\n",
       "    .dataframe thead th {\n",
       "        text-align: right;\n",
       "    }\n",
       "</style>\n",
       "<table border=\"1\" class=\"dataframe\">\n",
       "  <thead>\n",
       "    <tr style=\"text-align: right;\">\n",
       "      <th></th>\n",
       "      <th>Group</th>\n",
       "      <th>Family</th>\n",
       "    </tr>\n",
       "  </thead>\n",
       "  <tbody>\n",
       "    <tr>\n",
       "      <th>0</th>\n",
       "      <td>0001</td>\n",
       "      <td>1</td>\n",
       "    </tr>\n",
       "    <tr>\n",
       "      <th>1</th>\n",
       "      <td>0002</td>\n",
       "      <td>1</td>\n",
       "    </tr>\n",
       "    <tr>\n",
       "      <th>2</th>\n",
       "      <td>0003</td>\n",
       "      <td>2</td>\n",
       "    </tr>\n",
       "    <tr>\n",
       "      <th>3</th>\n",
       "      <td>0003</td>\n",
       "      <td>2</td>\n",
       "    </tr>\n",
       "    <tr>\n",
       "      <th>4</th>\n",
       "      <td>0004</td>\n",
       "      <td>1</td>\n",
       "    </tr>\n",
       "  </tbody>\n",
       "</table>\n",
       "</div>"
      ],
      "text/plain": [
       "  Group  Family\n",
       "0  0001       1\n",
       "1  0002       1\n",
       "2  0003       2\n",
       "3  0003       2\n",
       "4  0004       1"
      ]
     },
     "execution_count": 15,
     "metadata": {},
     "output_type": "execute_result"
    }
   ],
   "source": [
    "train['Family'] = train.groupby('Group')['Group'].transform('count')\n",
    "test['Family'] = test.groupby('Group')['Group'].transform('count')\n",
    "train[['Group','Family']].sort_values(['Group']).head()"
   ]
  },
  {
   "cell_type": "code",
   "execution_count": 16,
   "id": "44ccf036",
   "metadata": {
    "execution": {
     "iopub.execute_input": "2022-04-06T13:26:22.700332Z",
     "iopub.status.busy": "2022-04-06T13:26:22.699710Z",
     "iopub.status.idle": "2022-04-06T13:26:22.708108Z",
     "shell.execute_reply": "2022-04-06T13:26:22.707570Z",
     "shell.execute_reply.started": "2022-04-06T12:51:40.530847Z"
    },
    "papermill": {
     "duration": 0.063158,
     "end_time": "2022-04-06T13:26:22.708248",
     "exception": false,
     "start_time": "2022-04-06T13:26:22.645090",
     "status": "completed"
    },
    "tags": []
   },
   "outputs": [
    {
     "data": {
      "text/plain": [
       "count    8693.000000\n",
       "mean        2.035546\n",
       "std         1.596347\n",
       "min         1.000000\n",
       "25%         1.000000\n",
       "50%         1.000000\n",
       "75%         3.000000\n",
       "max         8.000000\n",
       "Name: Family, dtype: float64"
      ]
     },
     "execution_count": 16,
     "metadata": {},
     "output_type": "execute_result"
    }
   ],
   "source": [
    "train['Family'].describe()"
   ]
  },
  {
   "cell_type": "markdown",
   "id": "fe598b4e",
   "metadata": {
    "papermill": {
     "duration": 0.048802,
     "end_time": "2022-04-06T13:26:22.807596",
     "exception": false,
     "start_time": "2022-04-06T13:26:22.758794",
     "status": "completed"
    },
    "tags": []
   },
   "source": [
    "가족 구성원의 수는 1인 가족 부터 최대 8인 가족까지 존재한다."
   ]
  },
  {
   "cell_type": "markdown",
   "id": "b451270e",
   "metadata": {
    "papermill": {
     "duration": 0.049031,
     "end_time": "2022-04-06T13:26:22.906755",
     "exception": false,
     "start_time": "2022-04-06T13:26:22.857724",
     "status": "completed"
    },
    "tags": []
   },
   "source": [
    "### Cabin 나누기"
   ]
  },
  {
   "cell_type": "markdown",
   "id": "315e1d5a",
   "metadata": {
    "papermill": {
     "duration": 0.048767,
     "end_time": "2022-04-06T13:26:23.006922",
     "exception": false,
     "start_time": "2022-04-06T13:26:22.958155",
     "status": "completed"
    },
    "tags": []
   },
   "source": [
    "- cd : Cabin Deck\n",
    "- cn : Cabin Number\n",
    "- cs : Cabin Side"
   ]
  },
  {
   "cell_type": "code",
   "execution_count": 17,
   "id": "c8492a6c",
   "metadata": {
    "execution": {
     "iopub.execute_input": "2022-04-06T13:26:23.108226Z",
     "iopub.status.busy": "2022-04-06T13:26:23.107648Z",
     "iopub.status.idle": "2022-04-06T13:26:23.160900Z",
     "shell.execute_reply": "2022-04-06T13:26:23.160236Z",
     "shell.execute_reply.started": "2022-04-06T12:51:40.726423Z"
    },
    "papermill": {
     "duration": 0.104866,
     "end_time": "2022-04-06T13:26:23.161040",
     "exception": false,
     "start_time": "2022-04-06T13:26:23.056174",
     "status": "completed"
    },
    "tags": []
   },
   "outputs": [],
   "source": [
    "train['cd'] = train['Cabin'].str.split('/').str[0]\n",
    "train['cn'] = train['Cabin'].str.split('/').str[1]\n",
    "train['cs'] = train['Cabin'].str.split('/').str[2]\n",
    "\n",
    "test['cd'] = test['Cabin'].str.split('/').str[0]\n",
    "test['cn'] = test['Cabin'].str.split('/').str[1]\n",
    "test['cs'] = test['Cabin'].str.split('/').str[2]"
   ]
  },
  {
   "cell_type": "markdown",
   "id": "bf95c7c5",
   "metadata": {
    "papermill": {
     "duration": 0.051333,
     "end_time": "2022-04-06T13:26:23.263934",
     "exception": false,
     "start_time": "2022-04-06T13:26:23.212601",
     "status": "completed"
    },
    "tags": []
   },
   "source": [
    "### 결측치 처리하기"
   ]
  },
  {
   "cell_type": "markdown",
   "id": "a2ff1d89",
   "metadata": {
    "papermill": {
     "duration": 0.049321,
     "end_time": "2022-04-06T13:26:23.363386",
     "exception": false,
     "start_time": "2022-04-06T13:26:23.314065",
     "status": "completed"
    },
    "tags": []
   },
   "source": [
    "사용할 라이브러리 불러오기"
   ]
  },
  {
   "cell_type": "code",
   "execution_count": 18,
   "id": "4c4df111",
   "metadata": {
    "execution": {
     "iopub.execute_input": "2022-04-06T13:26:23.467173Z",
     "iopub.status.busy": "2022-04-06T13:26:23.466443Z",
     "iopub.status.idle": "2022-04-06T13:26:23.616653Z",
     "shell.execute_reply": "2022-04-06T13:26:23.616030Z",
     "shell.execute_reply.started": "2022-04-06T12:51:40.929933Z"
    },
    "papermill": {
     "duration": 0.203192,
     "end_time": "2022-04-06T13:26:23.616823",
     "exception": false,
     "start_time": "2022-04-06T13:26:23.413631",
     "status": "completed"
    },
    "tags": []
   },
   "outputs": [],
   "source": [
    "from sklearn.preprocessing import LabelEncoder\n",
    "from sklearn.impute import SimpleImputer"
   ]
  },
  {
   "cell_type": "markdown",
   "id": "a0cc180b",
   "metadata": {
    "papermill": {
     "duration": 0.049187,
     "end_time": "2022-04-06T13:26:23.714931",
     "exception": false,
     "start_time": "2022-04-06T13:26:23.665744",
     "status": "completed"
    },
    "tags": []
   },
   "source": [
    "컬럼 중에 object 형태인 컬럼들만 따로 label_cols 변수로 저장한다."
   ]
  },
  {
   "cell_type": "code",
   "execution_count": 19,
   "id": "11f98d86",
   "metadata": {
    "execution": {
     "iopub.execute_input": "2022-04-06T13:26:23.823044Z",
     "iopub.status.busy": "2022-04-06T13:26:23.822338Z",
     "iopub.status.idle": "2022-04-06T13:26:23.824255Z",
     "shell.execute_reply": "2022-04-06T13:26:23.824719Z",
     "shell.execute_reply.started": "2022-04-06T12:51:41.176973Z"
    },
    "papermill": {
     "duration": 0.059398,
     "end_time": "2022-04-06T13:26:23.824893",
     "exception": false,
     "start_time": "2022-04-06T13:26:23.765495",
     "status": "completed"
    },
    "tags": []
   },
   "outputs": [],
   "source": [
    "label_cols= [\"HomePlanet\", \"CryoSleep\",\"Cabin\", \"Destination\" ,\"VIP\",\"cd\",\"cs\",\"Name\"]"
   ]
  },
  {
   "cell_type": "markdown",
   "id": "0d806bfd",
   "metadata": {
    "papermill": {
     "duration": 0.049164,
     "end_time": "2022-04-06T13:26:23.923861",
     "exception": false,
     "start_time": "2022-04-06T13:26:23.874697",
     "status": "completed"
    },
    "tags": []
   },
   "source": [
    "- LabelEncoder\n",
    "    - 범주형 컬럼들을 수치형 데이터들로 바꿔주는 작업"
   ]
  },
  {
   "cell_type": "code",
   "execution_count": 20,
   "id": "b8511304",
   "metadata": {
    "execution": {
     "iopub.execute_input": "2022-04-06T13:26:24.029169Z",
     "iopub.status.busy": "2022-04-06T13:26:24.028180Z",
     "iopub.status.idle": "2022-04-06T13:26:24.110106Z",
     "shell.execute_reply": "2022-04-06T13:26:24.110582Z",
     "shell.execute_reply.started": "2022-04-06T12:51:41.375745Z"
    },
    "papermill": {
     "duration": 0.137885,
     "end_time": "2022-04-06T13:26:24.110763",
     "exception": false,
     "start_time": "2022-04-06T13:26:23.972878",
     "status": "completed"
    },
    "tags": []
   },
   "outputs": [],
   "source": [
    "def label_encoder(train,test,columns):\n",
    "    for col in columns:\n",
    "        train[col] = train[col].astype(str)\n",
    "        test[col] = test[col].astype(str)\n",
    "        train[col] = LabelEncoder().fit_transform(train[col])\n",
    "        test[col] = LabelEncoder().fit_transform(test[col])\n",
    "    return train, test\n",
    "    \n",
    "train, test = label_encoder(train,test,label_cols)"
   ]
  },
  {
   "cell_type": "markdown",
   "id": "b6bab286",
   "metadata": {
    "papermill": {
     "duration": 0.049382,
     "end_time": "2022-04-06T13:26:24.209083",
     "exception": false,
     "start_time": "2022-04-06T13:26:24.159701",
     "status": "completed"
    },
    "tags": []
   },
   "source": [
    "- SimpleImputer\n",
    "    - 수치형 컬럼의 결측치 평균값으로 채워주기\n",
    "    - 범주형 컬럼의 결측치 최빈값으로 채워주기"
   ]
  },
  {
   "cell_type": "code",
   "execution_count": 21,
   "id": "8dbbfb30",
   "metadata": {
    "execution": {
     "iopub.execute_input": "2022-04-06T13:26:24.311727Z",
     "iopub.status.busy": "2022-04-06T13:26:24.310756Z",
     "iopub.status.idle": "2022-04-06T13:26:24.321572Z",
     "shell.execute_reply": "2022-04-06T13:26:24.321062Z",
     "shell.execute_reply.started": "2022-04-06T12:51:41.564893Z"
    },
    "papermill": {
     "duration": 0.062559,
     "end_time": "2022-04-06T13:26:24.321706",
     "exception": false,
     "start_time": "2022-04-06T13:26:24.259147",
     "status": "completed"
    },
    "tags": []
   },
   "outputs": [
    {
     "data": {
      "text/plain": [
       "PassengerId       0\n",
       "HomePlanet        0\n",
       "CryoSleep         0\n",
       "Cabin             0\n",
       "Destination       0\n",
       "Age             179\n",
       "VIP               0\n",
       "RoomService     181\n",
       "FoodCourt       183\n",
       "ShoppingMall    208\n",
       "Spa             183\n",
       "VRDeck          188\n",
       "Name              0\n",
       "Transported       0\n",
       "Group             0\n",
       "Family            0\n",
       "cd                0\n",
       "cn              199\n",
       "cs                0\n",
       "dtype: int64"
      ]
     },
     "execution_count": 21,
     "metadata": {},
     "output_type": "execute_result"
    }
   ],
   "source": [
    "train.isna().sum()"
   ]
  },
  {
   "cell_type": "markdown",
   "id": "1b467d75",
   "metadata": {
    "papermill": {
     "duration": 0.04914,
     "end_time": "2022-04-06T13:26:24.423187",
     "exception": false,
     "start_time": "2022-04-06T13:26:24.374047",
     "status": "completed"
    },
    "tags": []
   },
   "source": [
    "결측치 처리하기 전 많은 결측치들이 있는 것을 확인 할 수 있다."
   ]
  },
  {
   "cell_type": "code",
   "execution_count": 22,
   "id": "eeeeeb33",
   "metadata": {
    "execution": {
     "iopub.execute_input": "2022-04-06T13:26:24.527011Z",
     "iopub.status.busy": "2022-04-06T13:26:24.526338Z",
     "iopub.status.idle": "2022-04-06T13:26:24.551803Z",
     "shell.execute_reply": "2022-04-06T13:26:24.552655Z",
     "shell.execute_reply.started": "2022-04-06T12:51:41.767695Z"
    },
    "papermill": {
     "duration": 0.078699,
     "end_time": "2022-04-06T13:26:24.552932",
     "exception": false,
     "start_time": "2022-04-06T13:26:24.474233",
     "status": "completed"
    },
    "tags": []
   },
   "outputs": [
    {
     "name": "stdout",
     "output_type": "stream",
     "text": [
      "train_data:\n",
      " HomePlanet     0\n",
      "CryoSleep      0\n",
      "Destination    0\n",
      "VIP            0\n",
      "cd             0\n",
      "cs             0\n",
      "dtype: int64\n",
      "--------------------\n",
      "test:\n",
      " HomePlanet     0\n",
      "CryoSleep      0\n",
      "Destination    0\n",
      "VIP            0\n",
      "cd             0\n",
      "cs             0\n",
      "dtype: int64\n"
     ]
    }
   ],
   "source": [
    "imputer_cols = [\"HomePlanet\", \"CryoSleep\", \"Destination\", \"VIP\",\"cd\",\"cs\"]\n",
    "STRATEGY = 'most_frequent'\n",
    "\n",
    "imputer = SimpleImputer(strategy=STRATEGY)\n",
    "imputer.fit(train[imputer_cols])\n",
    "train[imputer_cols] = imputer.transform(train[imputer_cols])\n",
    "test[imputer_cols] = imputer.transform(test[imputer_cols])\n",
    "\n",
    "print(\"train_data:\\n\", train[imputer_cols].isnull().sum())\n",
    "print(20*\"-\")\n",
    "print(\"test:\\n\", test[imputer_cols].isnull().sum())"
   ]
  },
  {
   "cell_type": "code",
   "execution_count": 23,
   "id": "1d96cb7d",
   "metadata": {
    "execution": {
     "iopub.execute_input": "2022-04-06T13:26:24.659425Z",
     "iopub.status.busy": "2022-04-06T13:26:24.658790Z",
     "iopub.status.idle": "2022-04-06T13:26:24.706848Z",
     "shell.execute_reply": "2022-04-06T13:26:24.705929Z",
     "shell.execute_reply.started": "2022-04-06T12:51:41.972210Z"
    },
    "papermill": {
     "duration": 0.102661,
     "end_time": "2022-04-06T13:26:24.707187",
     "exception": false,
     "start_time": "2022-04-06T13:26:24.604526",
     "status": "completed"
    },
    "tags": []
   },
   "outputs": [
    {
     "name": "stdout",
     "output_type": "stream",
     "text": [
      "train_data:\n",
      " Age             0\n",
      "FoodCourt       0\n",
      "ShoppingMall    0\n",
      "Spa             0\n",
      "VRDeck          0\n",
      "RoomService     0\n",
      "Family          0\n",
      "cn              0\n",
      "dtype: int64\n",
      "--------------------\n",
      "test:\n",
      " Age             0\n",
      "FoodCourt       0\n",
      "ShoppingMall    0\n",
      "Spa             0\n",
      "VRDeck          0\n",
      "RoomService     0\n",
      "Family          0\n",
      "cn              0\n",
      "dtype: int64\n"
     ]
    }
   ],
   "source": [
    "imputer_cols = [\"Age\", \"FoodCourt\", \"ShoppingMall\", \"Spa\", \"VRDeck\" ,\"RoomService\",\"Family\",\"cn\"]\n",
    "STRATEGY = 'median'\n",
    "\n",
    "imputer = SimpleImputer(strategy=STRATEGY)\n",
    "imputer.fit(train[imputer_cols])\n",
    "train[imputer_cols] = imputer.transform(train[imputer_cols])\n",
    "test[imputer_cols] = imputer.transform(test[imputer_cols])\n",
    "\n",
    "print(\"train_data:\\n\", train[imputer_cols].isnull().sum())\n",
    "print(20*\"-\")\n",
    "print(\"test:\\n\", test[imputer_cols].isnull().sum())"
   ]
  },
  {
   "cell_type": "markdown",
   "id": "88e0c6f6",
   "metadata": {
    "papermill": {
     "duration": 0.050791,
     "end_time": "2022-04-06T13:26:24.809249",
     "exception": false,
     "start_time": "2022-04-06T13:26:24.758458",
     "status": "completed"
    },
    "tags": []
   },
   "source": [
    "📍 결측치 제거 완료"
   ]
  },
  {
   "cell_type": "markdown",
   "id": "a9c6b655",
   "metadata": {
    "papermill": {
     "duration": 0.051065,
     "end_time": "2022-04-06T13:26:24.910618",
     "exception": false,
     "start_time": "2022-04-06T13:26:24.859553",
     "status": "completed"
    },
    "tags": []
   },
   "source": [
    "ML에 사용하지 않을 컬럼들을 분리시킨다."
   ]
  },
  {
   "cell_type": "code",
   "execution_count": 24,
   "id": "2bfdb481",
   "metadata": {
    "execution": {
     "iopub.execute_input": "2022-04-06T13:26:25.019922Z",
     "iopub.status.busy": "2022-04-06T13:26:25.014802Z",
     "iopub.status.idle": "2022-04-06T13:26:25.021777Z",
     "shell.execute_reply": "2022-04-06T13:26:25.022253Z",
     "shell.execute_reply.started": "2022-04-06T12:51:42.153994Z"
    },
    "papermill": {
     "duration": 0.060514,
     "end_time": "2022-04-06T13:26:25.022440",
     "exception": false,
     "start_time": "2022-04-06T13:26:24.961926",
     "status": "completed"
    },
    "tags": []
   },
   "outputs": [],
   "source": [
    "train = train.drop(['Cabin','PassengerId','Group'],axis = 1)\n",
    "test = test.drop(['Cabin','PassengerId','Group'],axis = 1)"
   ]
  },
  {
   "cell_type": "markdown",
   "id": "684a4e28",
   "metadata": {
    "papermill": {
     "duration": 0.050577,
     "end_time": "2022-04-06T13:26:25.123978",
     "exception": false,
     "start_time": "2022-04-06T13:26:25.073401",
     "status": "completed"
    },
    "tags": []
   },
   "source": [
    "---"
   ]
  },
  {
   "cell_type": "markdown",
   "id": "c97c110a",
   "metadata": {
    "papermill": {
     "duration": 0.050539,
     "end_time": "2022-04-06T13:26:25.224589",
     "exception": false,
     "start_time": "2022-04-06T13:26:25.174050",
     "status": "completed"
    },
    "tags": []
   },
   "source": [
    "# Model"
   ]
  },
  {
   "cell_type": "code",
   "execution_count": 25,
   "id": "58addf50",
   "metadata": {
    "execution": {
     "iopub.execute_input": "2022-04-06T13:26:25.333591Z",
     "iopub.status.busy": "2022-04-06T13:26:25.332567Z",
     "iopub.status.idle": "2022-04-06T13:26:25.343524Z",
     "shell.execute_reply": "2022-04-06T13:26:25.342887Z",
     "shell.execute_reply.started": "2022-04-06T12:51:42.358935Z"
    },
    "papermill": {
     "duration": 0.066939,
     "end_time": "2022-04-06T13:26:25.343660",
     "exception": false,
     "start_time": "2022-04-06T13:26:25.276721",
     "status": "completed"
    },
    "tags": []
   },
   "outputs": [
    {
     "name": "stdout",
     "output_type": "stream",
     "text": [
      "<class 'pandas.core.frame.DataFrame'>\n",
      "RangeIndex: 8693 entries, 0 to 8692\n",
      "Data columns (total 16 columns):\n",
      " #   Column        Non-Null Count  Dtype  \n",
      "---  ------        --------------  -----  \n",
      " 0   HomePlanet    8693 non-null   int64  \n",
      " 1   CryoSleep     8693 non-null   int64  \n",
      " 2   Destination   8693 non-null   int64  \n",
      " 3   Age           8693 non-null   float64\n",
      " 4   VIP           8693 non-null   int64  \n",
      " 5   RoomService   8693 non-null   float64\n",
      " 6   FoodCourt     8693 non-null   float64\n",
      " 7   ShoppingMall  8693 non-null   float64\n",
      " 8   Spa           8693 non-null   float64\n",
      " 9   VRDeck        8693 non-null   float64\n",
      " 10  Name          8693 non-null   int64  \n",
      " 11  Transported   8693 non-null   bool   \n",
      " 12  Family        8693 non-null   float64\n",
      " 13  cd            8693 non-null   int64  \n",
      " 14  cn            8693 non-null   float64\n",
      " 15  cs            8693 non-null   int64  \n",
      "dtypes: bool(1), float64(8), int64(7)\n",
      "memory usage: 1.0 MB\n"
     ]
    }
   ],
   "source": [
    "train.info()"
   ]
  },
  {
   "cell_type": "markdown",
   "id": "064d7007",
   "metadata": {
    "papermill": {
     "duration": 0.05201,
     "end_time": "2022-04-06T13:26:25.446510",
     "exception": false,
     "start_time": "2022-04-06T13:26:25.394500",
     "status": "completed"
    },
    "tags": []
   },
   "source": [
    "📍 **TARGET** 데이터인 **Transported** 빼고 ML을 위한 사전 준비 작업이 완료되었다."
   ]
  },
  {
   "cell_type": "markdown",
   "id": "b22b73a1",
   "metadata": {
    "papermill": {
     "duration": 0.050927,
     "end_time": "2022-04-06T13:26:25.548700",
     "exception": false,
     "start_time": "2022-04-06T13:26:25.497773",
     "status": "completed"
    },
    "tags": []
   },
   "source": [
    "- ML에 사용할 특성만 col에 저장하고 TARGET인 Transported 특성만 TARGET 변수에 저장한다"
   ]
  },
  {
   "cell_type": "code",
   "execution_count": 26,
   "id": "3e021e90",
   "metadata": {
    "execution": {
     "iopub.execute_input": "2022-04-06T13:26:25.656650Z",
     "iopub.status.busy": "2022-04-06T13:26:25.655728Z",
     "iopub.status.idle": "2022-04-06T13:26:25.660516Z",
     "shell.execute_reply": "2022-04-06T13:26:25.660929Z",
     "shell.execute_reply.started": "2022-04-06T12:51:42.578842Z"
    },
    "papermill": {
     "duration": 0.060573,
     "end_time": "2022-04-06T13:26:25.661101",
     "exception": false,
     "start_time": "2022-04-06T13:26:25.600528",
     "status": "completed"
    },
    "tags": []
   },
   "outputs": [],
   "source": [
    "col = train.drop(['Transported'], axis = 1).columns.tolist()\n",
    "TARGET = 'Transported'"
   ]
  },
  {
   "cell_type": "markdown",
   "id": "786ebf6c",
   "metadata": {
    "papermill": {
     "duration": 0.051633,
     "end_time": "2022-04-06T13:26:25.763811",
     "exception": false,
     "start_time": "2022-04-06T13:26:25.712178",
     "status": "completed"
    },
    "tags": []
   },
   "source": [
    "- ML 하기 전 훈련 데이터와 테스트 데이터 세트 분리"
   ]
  },
  {
   "cell_type": "code",
   "execution_count": 27,
   "id": "056b1b8f",
   "metadata": {
    "execution": {
     "iopub.execute_input": "2022-04-06T13:26:25.873104Z",
     "iopub.status.busy": "2022-04-06T13:26:25.868796Z",
     "iopub.status.idle": "2022-04-06T13:26:25.878142Z",
     "shell.execute_reply": "2022-04-06T13:26:25.877552Z",
     "shell.execute_reply.started": "2022-04-06T12:51:42.766166Z"
    },
    "papermill": {
     "duration": 0.06372,
     "end_time": "2022-04-06T13:26:25.878274",
     "exception": false,
     "start_time": "2022-04-06T13:26:25.814554",
     "status": "completed"
    },
    "tags": []
   },
   "outputs": [],
   "source": [
    "X = train[col]\n",
    "Y = train[TARGET]\n",
    "X_train, y_train, X_val, y_val = train_test_split(X,Y,test_size = 0.33)"
   ]
  },
  {
   "cell_type": "markdown",
   "id": "5e5d0b48",
   "metadata": {
    "papermill": {
     "duration": 0.052556,
     "end_time": "2022-04-06T13:26:25.986794",
     "exception": false,
     "start_time": "2022-04-06T13:26:25.934238",
     "status": "completed"
    },
    "tags": []
   },
   "source": [
    "- StratifiedKFold\n",
    "    - 5번 교차 검증을 진행한다.\n",
    "    - 진행 결과를 idx_fold에 저장한다."
   ]
  },
  {
   "cell_type": "code",
   "execution_count": 28,
   "id": "2b3d7d78",
   "metadata": {
    "execution": {
     "iopub.execute_input": "2022-04-06T13:26:26.098577Z",
     "iopub.status.busy": "2022-04-06T13:26:26.097584Z",
     "iopub.status.idle": "2022-04-06T13:26:26.105196Z",
     "shell.execute_reply": "2022-04-06T13:26:26.104609Z",
     "shell.execute_reply.started": "2022-04-06T12:51:42.948799Z"
    },
    "papermill": {
     "duration": 0.065252,
     "end_time": "2022-04-06T13:26:26.105352",
     "exception": false,
     "start_time": "2022-04-06T13:26:26.040100",
     "status": "completed"
    },
    "tags": []
   },
   "outputs": [],
   "source": [
    "idx_fold = []\n",
    "\n",
    "skf = StratifiedKFold(5, random_state=12, shuffle=True)\n",
    "for idx_train, idx_valid in skf.split(X = X, y = Y):\n",
    "    idx_fold.append((idx_train, idx_valid))"
   ]
  },
  {
   "cell_type": "markdown",
   "id": "ee13d200",
   "metadata": {
    "papermill": {
     "duration": 0.051052,
     "end_time": "2022-04-06T13:26:26.207600",
     "exception": false,
     "start_time": "2022-04-06T13:26:26.156548",
     "status": "completed"
    },
    "tags": []
   },
   "source": [
    "- 하이퍼파라미터 저장"
   ]
  },
  {
   "cell_type": "code",
   "execution_count": 29,
   "id": "b09ce68e",
   "metadata": {
    "execution": {
     "iopub.execute_input": "2022-04-06T13:26:26.314992Z",
     "iopub.status.busy": "2022-04-06T13:26:26.314292Z",
     "iopub.status.idle": "2022-04-06T13:26:26.316125Z",
     "shell.execute_reply": "2022-04-06T13:26:26.316642Z",
     "shell.execute_reply.started": "2022-04-06T12:56:46.555131Z"
    },
    "papermill": {
     "duration": 0.057176,
     "end_time": "2022-04-06T13:26:26.316826",
     "exception": false,
     "start_time": "2022-04-06T13:26:26.259650",
     "status": "completed"
    },
    "tags": []
   },
   "outputs": [],
   "source": [
    "lgb_params = {\n",
    "    'objective' : 'binary',\n",
    "    'n_estimators' : 975,\n",
    "    'min_child_samples' : 5,\n",
    "    'max_depth' : 8,\n",
    "    'learning_rate' : 0.01,\n",
    "    'n_jobs' : -1,\n",
    "    'importance_type' : 'gain'\n",
    "}"
   ]
  },
  {
   "cell_type": "markdown",
   "id": "729e5810",
   "metadata": {
    "papermill": {
     "duration": 0.051334,
     "end_time": "2022-04-06T13:26:26.418443",
     "exception": false,
     "start_time": "2022-04-06T13:26:26.367109",
     "status": "completed"
    },
    "tags": []
   },
   "source": [
    "model = LGBMClassifier(n_estimators=975, min_child_samples=5, max_depth=8, learning_rate=0.01,feature_fraction=0.6, \n",
    "                       bagging_freq=5, bagging_fraction= 0.9,objective ='binary"
   ]
  },
  {
   "cell_type": "markdown",
   "id": "3c306488",
   "metadata": {
    "papermill": {
     "duration": 0.051625,
     "end_time": "2022-04-06T13:26:26.520815",
     "exception": false,
     "start_time": "2022-04-06T13:26:26.469190",
     "status": "completed"
    },
    "tags": []
   },
   "source": [
    "    'feature_fraction' : 0.6,\n",
    "    'bagging_freq' : 5, \n",
    "    'bagging_fraction' : 0.9"
   ]
  },
  {
   "cell_type": "markdown",
   "id": "378a3efd",
   "metadata": {
    "papermill": {
     "duration": 0.050392,
     "end_time": "2022-04-06T13:26:26.621755",
     "exception": false,
     "start_time": "2022-04-06T13:26:26.571363",
     "status": "completed"
    },
    "tags": []
   },
   "source": [
    "- 검증 점수와 예측을 저장할 변수 설정"
   ]
  },
  {
   "cell_type": "code",
   "execution_count": 30,
   "id": "0afc3122",
   "metadata": {
    "execution": {
     "iopub.execute_input": "2022-04-06T13:26:26.732390Z",
     "iopub.status.busy": "2022-04-06T13:26:26.731720Z",
     "iopub.status.idle": "2022-04-06T13:26:26.734634Z",
     "shell.execute_reply": "2022-04-06T13:26:26.734127Z",
     "shell.execute_reply.started": "2022-04-06T12:56:48.403000Z"
    },
    "papermill": {
     "duration": 0.057497,
     "end_time": "2022-04-06T13:26:26.734772",
     "exception": false,
     "start_time": "2022-04-06T13:26:26.677275",
     "status": "completed"
    },
    "tags": []
   },
   "outputs": [],
   "source": [
    "lgb_scores = []\n",
    "lgb_auc = []\n",
    "predictions = 0"
   ]
  },
  {
   "cell_type": "markdown",
   "id": "bb494270",
   "metadata": {
    "papermill": {
     "duration": 0.049875,
     "end_time": "2022-04-06T13:26:26.836463",
     "exception": false,
     "start_time": "2022-04-06T13:26:26.786588",
     "status": "completed"
    },
    "tags": []
   },
   "source": [
    "- idx_fold값에 따라 5번 모델을 돌린다."
   ]
  },
  {
   "cell_type": "code",
   "execution_count": 31,
   "id": "a629f7b7",
   "metadata": {
    "execution": {
     "iopub.execute_input": "2022-04-06T13:26:26.941833Z",
     "iopub.status.busy": "2022-04-06T13:26:26.941217Z",
     "iopub.status.idle": "2022-04-06T13:26:26.944007Z",
     "shell.execute_reply": "2022-04-06T13:26:26.944502Z",
     "shell.execute_reply.started": "2022-04-06T12:56:48.658562Z"
    },
    "papermill": {
     "duration": 0.058201,
     "end_time": "2022-04-06T13:26:26.944671",
     "exception": false,
     "start_time": "2022-04-06T13:26:26.886470",
     "status": "completed"
    },
    "tags": []
   },
   "outputs": [],
   "source": [
    "from sklearn.metrics import roc_auc_score"
   ]
  },
  {
   "cell_type": "code",
   "execution_count": 32,
   "id": "05e65bda",
   "metadata": {
    "execution": {
     "iopub.execute_input": "2022-04-06T13:26:27.055289Z",
     "iopub.status.busy": "2022-04-06T13:26:27.054625Z",
     "iopub.status.idle": "2022-04-06T13:26:36.157955Z",
     "shell.execute_reply": "2022-04-06T13:26:36.158729Z",
     "shell.execute_reply.started": "2022-04-06T12:56:48.818145Z"
    },
    "papermill": {
     "duration": 9.162904,
     "end_time": "2022-04-06T13:26:36.158946",
     "exception": false,
     "start_time": "2022-04-06T13:26:26.996042",
     "status": "completed"
    },
    "tags": []
   },
   "outputs": [
    {
     "name": "stdout",
     "output_type": "stream",
     "text": [
      "========== Fold=1 ==========\n",
      "Fold=1, Accuracy score : 0.823462%\n",
      "Fold=1, AUC : 0.910910%\n",
      "\n",
      "========== Fold=2 ==========\n",
      "Fold=2, Accuracy score : 0.800460%\n",
      "Fold=2, AUC : 0.896033%\n",
      "\n",
      "========== Fold=3 ==========\n",
      "Fold=3, Accuracy score : 0.809661%\n",
      "Fold=3, AUC : 0.895227%\n",
      "\n",
      "========== Fold=4 ==========\n",
      "Fold=4, Accuracy score : 0.802071%\n",
      "Fold=4, AUC : 0.898884%\n",
      "\n",
      "========== Fold=5 ==========\n",
      "Fold=5, Accuracy score : 0.809551%\n",
      "Fold=5, AUC : 0.900163%\n",
      "\n",
      "Mean Accuracy :  0.8090410146698861\n",
      "Mean AUC :  0.9002434106663824\n"
     ]
    }
   ],
   "source": [
    "for fold, (idx_train, idx_valid) in enumerate(idx_fold):\n",
    "    print(10*\"=\", f\"Fold={fold+1}\", 10*\"=\")\n",
    "    \n",
    "    X_train, X_valid = train.iloc[idx_train][col],train.iloc[idx_valid][col]\n",
    "    Y_train, Y_valid = train.iloc[idx_train][TARGET],train.iloc[idx_valid][TARGET]\n",
    "    \n",
    "    model = LGBMClassifier(**lgb_params)\n",
    "    model.fit(X_train, Y_train, verbose = 0)\n",
    "    \n",
    "    # 정확도 측정해서 저장\n",
    "    preds_valid = model.predict(X_valid)\n",
    "    acc = accuracy_score(Y_valid, preds_valid)\n",
    "    lgb_scores.append(acc)\n",
    "    \n",
    "    preds = model.predict(test[col]) \n",
    "    predictions += preds/5\n",
    "    roc = roc_auc_score(Y_valid, model.predict_proba(X_valid)[:, 1])\n",
    "    lgb_auc.append(roc)\n",
    "    \n",
    "    print(f\"Fold={fold+1}, Accuracy score : {acc :2f}%\")\n",
    "    print(f\"Fold={fold+1}, AUC : {roc :2f}%\\n\")\n",
    "    \n",
    "\n",
    "print(\"Mean Accuracy : \", np.mean(lgb_scores))\n",
    "print(\"Mean AUC : \", np.mean(lgb_auc))"
   ]
  },
  {
   "cell_type": "markdown",
   "id": "44cb685e",
   "metadata": {
    "papermill": {
     "duration": 0.052037,
     "end_time": "2022-04-06T13:26:36.263567",
     "exception": false,
     "start_time": "2022-04-06T13:26:36.211530",
     "status": "completed"
    },
    "tags": []
   },
   "source": [
    "**평균 정확도 : 0.809**"
   ]
  },
  {
   "cell_type": "markdown",
   "id": "5c5233dd",
   "metadata": {
    "papermill": {
     "duration": 0.052929,
     "end_time": "2022-04-06T13:26:36.368656",
     "exception": false,
     "start_time": "2022-04-06T13:26:36.315727",
     "status": "completed"
    },
    "tags": []
   },
   "source": [
    "---"
   ]
  },
  {
   "cell_type": "markdown",
   "id": "a3d9c8c9",
   "metadata": {
    "papermill": {
     "duration": 0.052793,
     "end_time": "2022-04-06T13:26:36.473735",
     "exception": false,
     "start_time": "2022-04-06T13:26:36.420942",
     "status": "completed"
    },
    "tags": []
   },
   "source": [
    "# Submission"
   ]
  },
  {
   "cell_type": "code",
   "execution_count": 33,
   "id": "29700bbe",
   "metadata": {
    "execution": {
     "iopub.execute_input": "2022-04-06T13:26:36.581818Z",
     "iopub.status.busy": "2022-04-06T13:26:36.581225Z",
     "iopub.status.idle": "2022-04-06T13:26:36.597207Z",
     "shell.execute_reply": "2022-04-06T13:26:36.597712Z",
     "shell.execute_reply.started": "2022-04-06T12:57:11.853745Z"
    },
    "papermill": {
     "duration": 0.071928,
     "end_time": "2022-04-06T13:26:36.597886",
     "exception": false,
     "start_time": "2022-04-06T13:26:36.525958",
     "status": "completed"
    },
    "tags": []
   },
   "outputs": [
    {
     "data": {
      "text/html": [
       "<div>\n",
       "<style scoped>\n",
       "    .dataframe tbody tr th:only-of-type {\n",
       "        vertical-align: middle;\n",
       "    }\n",
       "\n",
       "    .dataframe tbody tr th {\n",
       "        vertical-align: top;\n",
       "    }\n",
       "\n",
       "    .dataframe thead th {\n",
       "        text-align: right;\n",
       "    }\n",
       "</style>\n",
       "<table border=\"1\" class=\"dataframe\">\n",
       "  <thead>\n",
       "    <tr style=\"text-align: right;\">\n",
       "      <th></th>\n",
       "      <th>PassengerId</th>\n",
       "      <th>Transported</th>\n",
       "    </tr>\n",
       "  </thead>\n",
       "  <tbody>\n",
       "    <tr>\n",
       "      <th>0</th>\n",
       "      <td>0013_01</td>\n",
       "      <td>True</td>\n",
       "    </tr>\n",
       "    <tr>\n",
       "      <th>1</th>\n",
       "      <td>0018_01</td>\n",
       "      <td>False</td>\n",
       "    </tr>\n",
       "    <tr>\n",
       "      <th>2</th>\n",
       "      <td>0019_01</td>\n",
       "      <td>True</td>\n",
       "    </tr>\n",
       "    <tr>\n",
       "      <th>3</th>\n",
       "      <td>0021_01</td>\n",
       "      <td>True</td>\n",
       "    </tr>\n",
       "    <tr>\n",
       "      <th>4</th>\n",
       "      <td>0023_01</td>\n",
       "      <td>True</td>\n",
       "    </tr>\n",
       "  </tbody>\n",
       "</table>\n",
       "</div>"
      ],
      "text/plain": [
       "  PassengerId  Transported\n",
       "0     0013_01         True\n",
       "1     0018_01        False\n",
       "2     0019_01         True\n",
       "3     0021_01         True\n",
       "4     0023_01         True"
      ]
     },
     "execution_count": 33,
     "metadata": {},
     "output_type": "execute_result"
    }
   ],
   "source": [
    "submission[TARGET] = predictions.astype(\"bool\")\n",
    "submission.to_csv(\"submission.csv\",index=False)\n",
    "submission.head()"
   ]
  },
  {
   "cell_type": "markdown",
   "id": "d39f9164",
   "metadata": {
    "papermill": {
     "duration": 0.052166,
     "end_time": "2022-04-06T13:26:36.702810",
     "exception": false,
     "start_time": "2022-04-06T13:26:36.650644",
     "status": "completed"
    },
    "tags": []
   },
   "source": [
    "# 결과\n",
    "4/4 : accuracy : 0.791   |  등수 :   341 / 전체  \n",
    "\n",
    "4/5 : accuracy : 0.80102    |    등수  :  323  / 1187  \n",
    "\n",
    "4/6 : accuracy : 0.80243    |    등수  :  292  / 1187\n"
   ]
  },
  {
   "cell_type": "code",
   "execution_count": null,
   "id": "3bee8b3b",
   "metadata": {
    "papermill": {
     "duration": 0.051971,
     "end_time": "2022-04-06T13:26:36.806954",
     "exception": false,
     "start_time": "2022-04-06T13:26:36.754983",
     "status": "completed"
    },
    "tags": []
   },
   "outputs": [],
   "source": []
  }
 ],
 "metadata": {
  "kernelspec": {
   "display_name": "Python 3",
   "language": "python",
   "name": "python3"
  },
  "language_info": {
   "codemirror_mode": {
    "name": "ipython",
    "version": 3
   },
   "file_extension": ".py",
   "mimetype": "text/x-python",
   "name": "python",
   "nbconvert_exporter": "python",
   "pygments_lexer": "ipython3",
   "version": "3.7.12"
  },
  "papermill": {
   "default_parameters": {},
   "duration": 30.080021,
   "end_time": "2022-04-06T13:26:37.668939",
   "environment_variables": {},
   "exception": null,
   "input_path": "__notebook__.ipynb",
   "output_path": "__notebook__.ipynb",
   "parameters": {},
   "start_time": "2022-04-06T13:26:07.588918",
   "version": "2.3.3"
  }
 },
 "nbformat": 4,
 "nbformat_minor": 5
}
