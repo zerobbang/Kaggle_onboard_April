{
 "cells": [
  {
   "cell_type": "code",
   "execution_count": 1,
   "id": "c772cf3c",
   "metadata": {
    "_cell_guid": "b1076dfc-b9ad-4769-8c92-a6c4dae69d19",
    "_uuid": "8f2839f25d086af736a60e9eeb907d3b93b6e0e5",
    "execution": {
     "iopub.execute_input": "2022-04-04T16:08:11.795467Z",
     "iopub.status.busy": "2022-04-04T16:08:11.794210Z",
     "iopub.status.idle": "2022-04-04T16:08:11.807466Z",
     "shell.execute_reply": "2022-04-04T16:08:11.806508Z"
    },
    "papermill": {
     "duration": 0.056154,
     "end_time": "2022-04-04T16:08:11.807740",
     "exception": false,
     "start_time": "2022-04-04T16:08:11.751586",
     "status": "completed"
    },
    "tags": []
   },
   "outputs": [
    {
     "name": "stdout",
     "output_type": "stream",
     "text": [
      "/kaggle/input/spaceship-titanic/sample_submission.csv\n",
      "/kaggle/input/spaceship-titanic/train.csv\n",
      "/kaggle/input/spaceship-titanic/test.csv\n"
     ]
    }
   ],
   "source": [
    "# This Python 3 environment comes with many helpful analytics libraries installed\n",
    "# It is defined by the kaggle/python Docker image: https://github.com/kaggle/docker-python\n",
    "# For example, here's several helpful packages to load\n",
    "# Input data files are available in the read-only \"../input/\" directory\n",
    "# For example, running this (by clicking run or pressing Shift+Enter) will list all files under the input directory\n",
    "import os\n",
    "for dirname, _, filenames in os.walk('/kaggle/input'\n",
    "                                    ):\n",
    "    for filename in filenames:\n",
    "        print(os.path.join(dirname, filename))\n",
    "# You can write up to 20GB to the current directory (/kaggle/working/) that gets preserved as output when you create a version using \"Save & Run All\" \n",
    "# You can also write temporary files to /kaggle/temp/, but they won't be saved outside of the current session"
   ]
  },
  {
   "cell_type": "markdown",
   "id": "eab523cb",
   "metadata": {
    "papermill": {
     "duration": 0.039578,
     "end_time": "2022-04-04T16:08:11.888438",
     "exception": false,
     "start_time": "2022-04-04T16:08:11.848860",
     "status": "completed"
    },
    "tags": []
   },
   "source": [
    "# 라이브러리, 데이터 불러오기"
   ]
  },
  {
   "cell_type": "code",
   "execution_count": 2,
   "id": "0a6aedf9",
   "metadata": {
    "execution": {
     "iopub.execute_input": "2022-04-04T16:08:11.971182Z",
     "iopub.status.busy": "2022-04-04T16:08:11.970505Z",
     "iopub.status.idle": "2022-04-04T16:08:14.264183Z",
     "shell.execute_reply": "2022-04-04T16:08:14.263555Z"
    },
    "papermill": {
     "duration": 2.33621,
     "end_time": "2022-04-04T16:08:14.264333",
     "exception": false,
     "start_time": "2022-04-04T16:08:11.928123",
     "status": "completed"
    },
    "tags": []
   },
   "outputs": [
    {
     "data": {
      "text/html": [
       "<style type='text/css'>\n",
       ".datatable table.frame { margin-bottom: 0; }\n",
       ".datatable table.frame thead { border-bottom: none; }\n",
       ".datatable table.frame tr.coltypes td {  color: #FFFFFF;  line-height: 6px;  padding: 0 0.5em;}\n",
       ".datatable .bool    { background: #DDDD99; }\n",
       ".datatable .object  { background: #565656; }\n",
       ".datatable .int     { background: #5D9E5D; }\n",
       ".datatable .float   { background: #4040CC; }\n",
       ".datatable .str     { background: #CC4040; }\n",
       ".datatable .time    { background: #40CC40; }\n",
       ".datatable .row_index {  background: var(--jp-border-color3);  border-right: 1px solid var(--jp-border-color0);  color: var(--jp-ui-font-color3);  font-size: 9px;}\n",
       ".datatable .frame tbody td { text-align: left; }\n",
       ".datatable .frame tr.coltypes .row_index {  background: var(--jp-border-color0);}\n",
       ".datatable th:nth-child(2) { padding-left: 12px; }\n",
       ".datatable .hellipsis {  color: var(--jp-cell-editor-border-color);}\n",
       ".datatable .vellipsis {  background: var(--jp-layout-color0);  color: var(--jp-cell-editor-border-color);}\n",
       ".datatable .na {  color: var(--jp-cell-editor-border-color);  font-size: 80%;}\n",
       ".datatable .sp {  opacity: 0.25;}\n",
       ".datatable .footer { font-size: 9px; }\n",
       ".datatable .frame_dimensions {  background: var(--jp-border-color3);  border-top: 1px solid var(--jp-border-color0);  color: var(--jp-ui-font-color3);  display: inline-block;  opacity: 0.6;  padding: 1px 10px 1px 5px;}\n",
       "</style>\n"
      ],
      "text/plain": [
       "<IPython.core.display.HTML object>"
      ]
     },
     "metadata": {},
     "output_type": "display_data"
    }
   ],
   "source": [
    "import numpy as np\n",
    "import pandas as pd\n",
    "import plotly.express as px\n",
    "import plotly.graph_objects as go\n",
    "\n",
    "from sklearn.metrics import accuracy_score\n",
    "from sklearn.model_selection import train_test_split, StratifiedKFold\n",
    "\n",
    "from lightgbm import LGBMClassifier\n",
    "\n",
    "import warnings\n",
    "warnings.filterwarnings('ignore')"
   ]
  },
  {
   "cell_type": "code",
   "execution_count": 3,
   "id": "a40f11a5",
   "metadata": {
    "execution": {
     "iopub.execute_input": "2022-04-04T16:08:14.348161Z",
     "iopub.status.busy": "2022-04-04T16:08:14.347485Z",
     "iopub.status.idle": "2022-04-04T16:08:14.421481Z",
     "shell.execute_reply": "2022-04-04T16:08:14.422063Z"
    },
    "papermill": {
     "duration": 0.117378,
     "end_time": "2022-04-04T16:08:14.422254",
     "exception": false,
     "start_time": "2022-04-04T16:08:14.304876",
     "status": "completed"
    },
    "tags": []
   },
   "outputs": [],
   "source": [
    "train = pd.read_csv(\"/kaggle/input/spaceship-titanic/train.csv\")\n",
    "test = pd.read_csv(\"/kaggle/input/spaceship-titanic/test.csv\")"
   ]
  },
  {
   "cell_type": "markdown",
   "id": "c9755f8f",
   "metadata": {
    "papermill": {
     "duration": 0.039884,
     "end_time": "2022-04-04T16:08:14.503861",
     "exception": false,
     "start_time": "2022-04-04T16:08:14.463977",
     "status": "completed"
    },
    "tags": []
   },
   "source": [
    "## train Data"
   ]
  },
  {
   "cell_type": "code",
   "execution_count": 4,
   "id": "4a7b80d9",
   "metadata": {
    "execution": {
     "iopub.execute_input": "2022-04-04T16:08:14.590017Z",
     "iopub.status.busy": "2022-04-04T16:08:14.589324Z",
     "iopub.status.idle": "2022-04-04T16:08:14.616150Z",
     "shell.execute_reply": "2022-04-04T16:08:14.616782Z"
    },
    "papermill": {
     "duration": 0.071938,
     "end_time": "2022-04-04T16:08:14.616961",
     "exception": false,
     "start_time": "2022-04-04T16:08:14.545023",
     "status": "completed"
    },
    "tags": []
   },
   "outputs": [
    {
     "data": {
      "text/html": [
       "<div>\n",
       "<style scoped>\n",
       "    .dataframe tbody tr th:only-of-type {\n",
       "        vertical-align: middle;\n",
       "    }\n",
       "\n",
       "    .dataframe tbody tr th {\n",
       "        vertical-align: top;\n",
       "    }\n",
       "\n",
       "    .dataframe thead th {\n",
       "        text-align: right;\n",
       "    }\n",
       "</style>\n",
       "<table border=\"1\" class=\"dataframe\">\n",
       "  <thead>\n",
       "    <tr style=\"text-align: right;\">\n",
       "      <th></th>\n",
       "      <th>PassengerId</th>\n",
       "      <th>HomePlanet</th>\n",
       "      <th>CryoSleep</th>\n",
       "      <th>Cabin</th>\n",
       "      <th>Destination</th>\n",
       "      <th>Age</th>\n",
       "      <th>VIP</th>\n",
       "      <th>RoomService</th>\n",
       "      <th>FoodCourt</th>\n",
       "      <th>ShoppingMall</th>\n",
       "      <th>Spa</th>\n",
       "      <th>VRDeck</th>\n",
       "      <th>Name</th>\n",
       "      <th>Transported</th>\n",
       "    </tr>\n",
       "  </thead>\n",
       "  <tbody>\n",
       "    <tr>\n",
       "      <th>0</th>\n",
       "      <td>0001_01</td>\n",
       "      <td>Europa</td>\n",
       "      <td>False</td>\n",
       "      <td>B/0/P</td>\n",
       "      <td>TRAPPIST-1e</td>\n",
       "      <td>39.0</td>\n",
       "      <td>False</td>\n",
       "      <td>0.0</td>\n",
       "      <td>0.0</td>\n",
       "      <td>0.0</td>\n",
       "      <td>0.0</td>\n",
       "      <td>0.0</td>\n",
       "      <td>Maham Ofracculy</td>\n",
       "      <td>False</td>\n",
       "    </tr>\n",
       "    <tr>\n",
       "      <th>1</th>\n",
       "      <td>0002_01</td>\n",
       "      <td>Earth</td>\n",
       "      <td>False</td>\n",
       "      <td>F/0/S</td>\n",
       "      <td>TRAPPIST-1e</td>\n",
       "      <td>24.0</td>\n",
       "      <td>False</td>\n",
       "      <td>109.0</td>\n",
       "      <td>9.0</td>\n",
       "      <td>25.0</td>\n",
       "      <td>549.0</td>\n",
       "      <td>44.0</td>\n",
       "      <td>Juanna Vines</td>\n",
       "      <td>True</td>\n",
       "    </tr>\n",
       "    <tr>\n",
       "      <th>2</th>\n",
       "      <td>0003_01</td>\n",
       "      <td>Europa</td>\n",
       "      <td>False</td>\n",
       "      <td>A/0/S</td>\n",
       "      <td>TRAPPIST-1e</td>\n",
       "      <td>58.0</td>\n",
       "      <td>True</td>\n",
       "      <td>43.0</td>\n",
       "      <td>3576.0</td>\n",
       "      <td>0.0</td>\n",
       "      <td>6715.0</td>\n",
       "      <td>49.0</td>\n",
       "      <td>Altark Susent</td>\n",
       "      <td>False</td>\n",
       "    </tr>\n",
       "    <tr>\n",
       "      <th>3</th>\n",
       "      <td>0003_02</td>\n",
       "      <td>Europa</td>\n",
       "      <td>False</td>\n",
       "      <td>A/0/S</td>\n",
       "      <td>TRAPPIST-1e</td>\n",
       "      <td>33.0</td>\n",
       "      <td>False</td>\n",
       "      <td>0.0</td>\n",
       "      <td>1283.0</td>\n",
       "      <td>371.0</td>\n",
       "      <td>3329.0</td>\n",
       "      <td>193.0</td>\n",
       "      <td>Solam Susent</td>\n",
       "      <td>False</td>\n",
       "    </tr>\n",
       "    <tr>\n",
       "      <th>4</th>\n",
       "      <td>0004_01</td>\n",
       "      <td>Earth</td>\n",
       "      <td>False</td>\n",
       "      <td>F/1/S</td>\n",
       "      <td>TRAPPIST-1e</td>\n",
       "      <td>16.0</td>\n",
       "      <td>False</td>\n",
       "      <td>303.0</td>\n",
       "      <td>70.0</td>\n",
       "      <td>151.0</td>\n",
       "      <td>565.0</td>\n",
       "      <td>2.0</td>\n",
       "      <td>Willy Santantines</td>\n",
       "      <td>True</td>\n",
       "    </tr>\n",
       "  </tbody>\n",
       "</table>\n",
       "</div>"
      ],
      "text/plain": [
       "  PassengerId HomePlanet CryoSleep  Cabin  Destination   Age    VIP  \\\n",
       "0     0001_01     Europa     False  B/0/P  TRAPPIST-1e  39.0  False   \n",
       "1     0002_01      Earth     False  F/0/S  TRAPPIST-1e  24.0  False   \n",
       "2     0003_01     Europa     False  A/0/S  TRAPPIST-1e  58.0   True   \n",
       "3     0003_02     Europa     False  A/0/S  TRAPPIST-1e  33.0  False   \n",
       "4     0004_01      Earth     False  F/1/S  TRAPPIST-1e  16.0  False   \n",
       "\n",
       "   RoomService  FoodCourt  ShoppingMall     Spa  VRDeck               Name  \\\n",
       "0          0.0        0.0           0.0     0.0     0.0    Maham Ofracculy   \n",
       "1        109.0        9.0          25.0   549.0    44.0       Juanna Vines   \n",
       "2         43.0     3576.0           0.0  6715.0    49.0      Altark Susent   \n",
       "3          0.0     1283.0         371.0  3329.0   193.0       Solam Susent   \n",
       "4        303.0       70.0         151.0   565.0     2.0  Willy Santantines   \n",
       "\n",
       "   Transported  \n",
       "0        False  \n",
       "1         True  \n",
       "2        False  \n",
       "3        False  \n",
       "4         True  "
      ]
     },
     "execution_count": 4,
     "metadata": {},
     "output_type": "execute_result"
    }
   ],
   "source": [
    "train.head()"
   ]
  },
  {
   "cell_type": "code",
   "execution_count": 5,
   "id": "3d4270f6",
   "metadata": {
    "execution": {
     "iopub.execute_input": "2022-04-04T16:08:14.703425Z",
     "iopub.status.busy": "2022-04-04T16:08:14.702751Z",
     "iopub.status.idle": "2022-04-04T16:08:14.730482Z",
     "shell.execute_reply": "2022-04-04T16:08:14.731397Z"
    },
    "papermill": {
     "duration": 0.072223,
     "end_time": "2022-04-04T16:08:14.731679",
     "exception": false,
     "start_time": "2022-04-04T16:08:14.659456",
     "status": "completed"
    },
    "tags": []
   },
   "outputs": [
    {
     "name": "stdout",
     "output_type": "stream",
     "text": [
      "<class 'pandas.core.frame.DataFrame'>\n",
      "RangeIndex: 8693 entries, 0 to 8692\n",
      "Data columns (total 14 columns):\n",
      " #   Column        Non-Null Count  Dtype  \n",
      "---  ------        --------------  -----  \n",
      " 0   PassengerId   8693 non-null   object \n",
      " 1   HomePlanet    8492 non-null   object \n",
      " 2   CryoSleep     8476 non-null   object \n",
      " 3   Cabin         8494 non-null   object \n",
      " 4   Destination   8511 non-null   object \n",
      " 5   Age           8514 non-null   float64\n",
      " 6   VIP           8490 non-null   object \n",
      " 7   RoomService   8512 non-null   float64\n",
      " 8   FoodCourt     8510 non-null   float64\n",
      " 9   ShoppingMall  8485 non-null   float64\n",
      " 10  Spa           8510 non-null   float64\n",
      " 11  VRDeck        8505 non-null   float64\n",
      " 12  Name          8493 non-null   object \n",
      " 13  Transported   8693 non-null   bool   \n",
      "dtypes: bool(1), float64(6), object(7)\n",
      "memory usage: 891.5+ KB\n"
     ]
    }
   ],
   "source": [
    "train.info()"
   ]
  },
  {
   "cell_type": "code",
   "execution_count": 6,
   "id": "9797d9f7",
   "metadata": {
    "execution": {
     "iopub.execute_input": "2022-04-04T16:08:14.821398Z",
     "iopub.status.busy": "2022-04-04T16:08:14.820724Z",
     "iopub.status.idle": "2022-04-04T16:08:14.833880Z",
     "shell.execute_reply": "2022-04-04T16:08:14.834532Z"
    },
    "papermill": {
     "duration": 0.058964,
     "end_time": "2022-04-04T16:08:14.834720",
     "exception": false,
     "start_time": "2022-04-04T16:08:14.775756",
     "status": "completed"
    },
    "tags": []
   },
   "outputs": [
    {
     "data": {
      "text/plain": [
       "PassengerId       0\n",
       "HomePlanet      201\n",
       "CryoSleep       217\n",
       "Cabin           199\n",
       "Destination     182\n",
       "Age             179\n",
       "VIP             203\n",
       "RoomService     181\n",
       "FoodCourt       183\n",
       "ShoppingMall    208\n",
       "Spa             183\n",
       "VRDeck          188\n",
       "Name            200\n",
       "Transported       0\n",
       "dtype: int64"
      ]
     },
     "execution_count": 6,
     "metadata": {},
     "output_type": "execute_result"
    }
   ],
   "source": [
    "train.isna().sum()"
   ]
  },
  {
   "cell_type": "code",
   "execution_count": 7,
   "id": "174f144f",
   "metadata": {
    "execution": {
     "iopub.execute_input": "2022-04-04T16:08:14.923350Z",
     "iopub.status.busy": "2022-04-04T16:08:14.922677Z",
     "iopub.status.idle": "2022-04-04T16:08:14.956269Z",
     "shell.execute_reply": "2022-04-04T16:08:14.956929Z"
    },
    "papermill": {
     "duration": 0.080068,
     "end_time": "2022-04-04T16:08:14.957165",
     "exception": false,
     "start_time": "2022-04-04T16:08:14.877097",
     "status": "completed"
    },
    "tags": []
   },
   "outputs": [
    {
     "data": {
      "text/html": [
       "<div>\n",
       "<style scoped>\n",
       "    .dataframe tbody tr th:only-of-type {\n",
       "        vertical-align: middle;\n",
       "    }\n",
       "\n",
       "    .dataframe tbody tr th {\n",
       "        vertical-align: top;\n",
       "    }\n",
       "\n",
       "    .dataframe thead th {\n",
       "        text-align: right;\n",
       "    }\n",
       "</style>\n",
       "<table border=\"1\" class=\"dataframe\">\n",
       "  <thead>\n",
       "    <tr style=\"text-align: right;\">\n",
       "      <th></th>\n",
       "      <th>Age</th>\n",
       "      <th>RoomService</th>\n",
       "      <th>FoodCourt</th>\n",
       "      <th>ShoppingMall</th>\n",
       "      <th>Spa</th>\n",
       "      <th>VRDeck</th>\n",
       "    </tr>\n",
       "  </thead>\n",
       "  <tbody>\n",
       "    <tr>\n",
       "      <th>count</th>\n",
       "      <td>8514.000000</td>\n",
       "      <td>8512.000000</td>\n",
       "      <td>8510.000000</td>\n",
       "      <td>8485.000000</td>\n",
       "      <td>8510.000000</td>\n",
       "      <td>8505.000000</td>\n",
       "    </tr>\n",
       "    <tr>\n",
       "      <th>mean</th>\n",
       "      <td>28.827930</td>\n",
       "      <td>224.687617</td>\n",
       "      <td>458.077203</td>\n",
       "      <td>173.729169</td>\n",
       "      <td>311.138778</td>\n",
       "      <td>304.854791</td>\n",
       "    </tr>\n",
       "    <tr>\n",
       "      <th>std</th>\n",
       "      <td>14.489021</td>\n",
       "      <td>666.717663</td>\n",
       "      <td>1611.489240</td>\n",
       "      <td>604.696458</td>\n",
       "      <td>1136.705535</td>\n",
       "      <td>1145.717189</td>\n",
       "    </tr>\n",
       "    <tr>\n",
       "      <th>min</th>\n",
       "      <td>0.000000</td>\n",
       "      <td>0.000000</td>\n",
       "      <td>0.000000</td>\n",
       "      <td>0.000000</td>\n",
       "      <td>0.000000</td>\n",
       "      <td>0.000000</td>\n",
       "    </tr>\n",
       "    <tr>\n",
       "      <th>25%</th>\n",
       "      <td>19.000000</td>\n",
       "      <td>0.000000</td>\n",
       "      <td>0.000000</td>\n",
       "      <td>0.000000</td>\n",
       "      <td>0.000000</td>\n",
       "      <td>0.000000</td>\n",
       "    </tr>\n",
       "    <tr>\n",
       "      <th>50%</th>\n",
       "      <td>27.000000</td>\n",
       "      <td>0.000000</td>\n",
       "      <td>0.000000</td>\n",
       "      <td>0.000000</td>\n",
       "      <td>0.000000</td>\n",
       "      <td>0.000000</td>\n",
       "    </tr>\n",
       "    <tr>\n",
       "      <th>75%</th>\n",
       "      <td>38.000000</td>\n",
       "      <td>47.000000</td>\n",
       "      <td>76.000000</td>\n",
       "      <td>27.000000</td>\n",
       "      <td>59.000000</td>\n",
       "      <td>46.000000</td>\n",
       "    </tr>\n",
       "    <tr>\n",
       "      <th>max</th>\n",
       "      <td>79.000000</td>\n",
       "      <td>14327.000000</td>\n",
       "      <td>29813.000000</td>\n",
       "      <td>23492.000000</td>\n",
       "      <td>22408.000000</td>\n",
       "      <td>24133.000000</td>\n",
       "    </tr>\n",
       "  </tbody>\n",
       "</table>\n",
       "</div>"
      ],
      "text/plain": [
       "               Age   RoomService     FoodCourt  ShoppingMall           Spa  \\\n",
       "count  8514.000000   8512.000000   8510.000000   8485.000000   8510.000000   \n",
       "mean     28.827930    224.687617    458.077203    173.729169    311.138778   \n",
       "std      14.489021    666.717663   1611.489240    604.696458   1136.705535   \n",
       "min       0.000000      0.000000      0.000000      0.000000      0.000000   \n",
       "25%      19.000000      0.000000      0.000000      0.000000      0.000000   \n",
       "50%      27.000000      0.000000      0.000000      0.000000      0.000000   \n",
       "75%      38.000000     47.000000     76.000000     27.000000     59.000000   \n",
       "max      79.000000  14327.000000  29813.000000  23492.000000  22408.000000   \n",
       "\n",
       "             VRDeck  \n",
       "count   8505.000000  \n",
       "mean     304.854791  \n",
       "std     1145.717189  \n",
       "min        0.000000  \n",
       "25%        0.000000  \n",
       "50%        0.000000  \n",
       "75%       46.000000  \n",
       "max    24133.000000  "
      ]
     },
     "execution_count": 7,
     "metadata": {},
     "output_type": "execute_result"
    }
   ],
   "source": [
    "train.describe()"
   ]
  },
  {
   "cell_type": "markdown",
   "id": "77fde132",
   "metadata": {
    "papermill": {
     "duration": 0.043361,
     "end_time": "2022-04-04T16:08:15.044403",
     "exception": false,
     "start_time": "2022-04-04T16:08:15.001042",
     "status": "completed"
    },
    "tags": []
   },
   "source": [
    "## Test Data"
   ]
  },
  {
   "cell_type": "code",
   "execution_count": 8,
   "id": "361d80e9",
   "metadata": {
    "execution": {
     "iopub.execute_input": "2022-04-04T16:08:15.153612Z",
     "iopub.status.busy": "2022-04-04T16:08:15.152914Z",
     "iopub.status.idle": "2022-04-04T16:08:15.157435Z",
     "shell.execute_reply": "2022-04-04T16:08:15.157945Z"
    },
    "papermill": {
     "duration": 0.069527,
     "end_time": "2022-04-04T16:08:15.158155",
     "exception": false,
     "start_time": "2022-04-04T16:08:15.088628",
     "status": "completed"
    },
    "tags": []
   },
   "outputs": [
    {
     "data": {
      "text/html": [
       "<div>\n",
       "<style scoped>\n",
       "    .dataframe tbody tr th:only-of-type {\n",
       "        vertical-align: middle;\n",
       "    }\n",
       "\n",
       "    .dataframe tbody tr th {\n",
       "        vertical-align: top;\n",
       "    }\n",
       "\n",
       "    .dataframe thead th {\n",
       "        text-align: right;\n",
       "    }\n",
       "</style>\n",
       "<table border=\"1\" class=\"dataframe\">\n",
       "  <thead>\n",
       "    <tr style=\"text-align: right;\">\n",
       "      <th></th>\n",
       "      <th>PassengerId</th>\n",
       "      <th>HomePlanet</th>\n",
       "      <th>CryoSleep</th>\n",
       "      <th>Cabin</th>\n",
       "      <th>Destination</th>\n",
       "      <th>Age</th>\n",
       "      <th>VIP</th>\n",
       "      <th>RoomService</th>\n",
       "      <th>FoodCourt</th>\n",
       "      <th>ShoppingMall</th>\n",
       "      <th>Spa</th>\n",
       "      <th>VRDeck</th>\n",
       "      <th>Name</th>\n",
       "    </tr>\n",
       "  </thead>\n",
       "  <tbody>\n",
       "    <tr>\n",
       "      <th>0</th>\n",
       "      <td>0013_01</td>\n",
       "      <td>Earth</td>\n",
       "      <td>True</td>\n",
       "      <td>G/3/S</td>\n",
       "      <td>TRAPPIST-1e</td>\n",
       "      <td>27.0</td>\n",
       "      <td>False</td>\n",
       "      <td>0.0</td>\n",
       "      <td>0.0</td>\n",
       "      <td>0.0</td>\n",
       "      <td>0.0</td>\n",
       "      <td>0.0</td>\n",
       "      <td>Nelly Carsoning</td>\n",
       "    </tr>\n",
       "    <tr>\n",
       "      <th>1</th>\n",
       "      <td>0018_01</td>\n",
       "      <td>Earth</td>\n",
       "      <td>False</td>\n",
       "      <td>F/4/S</td>\n",
       "      <td>TRAPPIST-1e</td>\n",
       "      <td>19.0</td>\n",
       "      <td>False</td>\n",
       "      <td>0.0</td>\n",
       "      <td>9.0</td>\n",
       "      <td>0.0</td>\n",
       "      <td>2823.0</td>\n",
       "      <td>0.0</td>\n",
       "      <td>Lerome Peckers</td>\n",
       "    </tr>\n",
       "    <tr>\n",
       "      <th>2</th>\n",
       "      <td>0019_01</td>\n",
       "      <td>Europa</td>\n",
       "      <td>True</td>\n",
       "      <td>C/0/S</td>\n",
       "      <td>55 Cancri e</td>\n",
       "      <td>31.0</td>\n",
       "      <td>False</td>\n",
       "      <td>0.0</td>\n",
       "      <td>0.0</td>\n",
       "      <td>0.0</td>\n",
       "      <td>0.0</td>\n",
       "      <td>0.0</td>\n",
       "      <td>Sabih Unhearfus</td>\n",
       "    </tr>\n",
       "    <tr>\n",
       "      <th>3</th>\n",
       "      <td>0021_01</td>\n",
       "      <td>Europa</td>\n",
       "      <td>False</td>\n",
       "      <td>C/1/S</td>\n",
       "      <td>TRAPPIST-1e</td>\n",
       "      <td>38.0</td>\n",
       "      <td>False</td>\n",
       "      <td>0.0</td>\n",
       "      <td>6652.0</td>\n",
       "      <td>0.0</td>\n",
       "      <td>181.0</td>\n",
       "      <td>585.0</td>\n",
       "      <td>Meratz Caltilter</td>\n",
       "    </tr>\n",
       "    <tr>\n",
       "      <th>4</th>\n",
       "      <td>0023_01</td>\n",
       "      <td>Earth</td>\n",
       "      <td>False</td>\n",
       "      <td>F/5/S</td>\n",
       "      <td>TRAPPIST-1e</td>\n",
       "      <td>20.0</td>\n",
       "      <td>False</td>\n",
       "      <td>10.0</td>\n",
       "      <td>0.0</td>\n",
       "      <td>635.0</td>\n",
       "      <td>0.0</td>\n",
       "      <td>0.0</td>\n",
       "      <td>Brence Harperez</td>\n",
       "    </tr>\n",
       "  </tbody>\n",
       "</table>\n",
       "</div>"
      ],
      "text/plain": [
       "  PassengerId HomePlanet CryoSleep  Cabin  Destination   Age    VIP  \\\n",
       "0     0013_01      Earth      True  G/3/S  TRAPPIST-1e  27.0  False   \n",
       "1     0018_01      Earth     False  F/4/S  TRAPPIST-1e  19.0  False   \n",
       "2     0019_01     Europa      True  C/0/S  55 Cancri e  31.0  False   \n",
       "3     0021_01     Europa     False  C/1/S  TRAPPIST-1e  38.0  False   \n",
       "4     0023_01      Earth     False  F/5/S  TRAPPIST-1e  20.0  False   \n",
       "\n",
       "   RoomService  FoodCourt  ShoppingMall     Spa  VRDeck              Name  \n",
       "0          0.0        0.0           0.0     0.0     0.0   Nelly Carsoning  \n",
       "1          0.0        9.0           0.0  2823.0     0.0    Lerome Peckers  \n",
       "2          0.0        0.0           0.0     0.0     0.0   Sabih Unhearfus  \n",
       "3          0.0     6652.0           0.0   181.0   585.0  Meratz Caltilter  \n",
       "4         10.0        0.0         635.0     0.0     0.0   Brence Harperez  "
      ]
     },
     "execution_count": 8,
     "metadata": {},
     "output_type": "execute_result"
    }
   ],
   "source": [
    "test.head()"
   ]
  },
  {
   "cell_type": "code",
   "execution_count": 9,
   "id": "c7cdf4a4",
   "metadata": {
    "execution": {
     "iopub.execute_input": "2022-04-04T16:08:15.254775Z",
     "iopub.status.busy": "2022-04-04T16:08:15.254028Z",
     "iopub.status.idle": "2022-04-04T16:08:15.265148Z",
     "shell.execute_reply": "2022-04-04T16:08:15.264565Z"
    },
    "papermill": {
     "duration": 0.063035,
     "end_time": "2022-04-04T16:08:15.265305",
     "exception": false,
     "start_time": "2022-04-04T16:08:15.202270",
     "status": "completed"
    },
    "tags": []
   },
   "outputs": [
    {
     "name": "stdout",
     "output_type": "stream",
     "text": [
      "<class 'pandas.core.frame.DataFrame'>\n",
      "RangeIndex: 4277 entries, 0 to 4276\n",
      "Data columns (total 13 columns):\n",
      " #   Column        Non-Null Count  Dtype  \n",
      "---  ------        --------------  -----  \n",
      " 0   PassengerId   4277 non-null   object \n",
      " 1   HomePlanet    4190 non-null   object \n",
      " 2   CryoSleep     4184 non-null   object \n",
      " 3   Cabin         4177 non-null   object \n",
      " 4   Destination   4185 non-null   object \n",
      " 5   Age           4186 non-null   float64\n",
      " 6   VIP           4184 non-null   object \n",
      " 7   RoomService   4195 non-null   float64\n",
      " 8   FoodCourt     4171 non-null   float64\n",
      " 9   ShoppingMall  4179 non-null   float64\n",
      " 10  Spa           4176 non-null   float64\n",
      " 11  VRDeck        4197 non-null   float64\n",
      " 12  Name          4183 non-null   object \n",
      "dtypes: float64(6), object(7)\n",
      "memory usage: 434.5+ KB\n"
     ]
    }
   ],
   "source": [
    "test.info()"
   ]
  },
  {
   "cell_type": "code",
   "execution_count": 10,
   "id": "152e7f0b",
   "metadata": {
    "execution": {
     "iopub.execute_input": "2022-04-04T16:08:15.359208Z",
     "iopub.status.busy": "2022-04-04T16:08:15.358535Z",
     "iopub.status.idle": "2022-04-04T16:08:15.370184Z",
     "shell.execute_reply": "2022-04-04T16:08:15.369531Z"
    },
    "papermill": {
     "duration": 0.059546,
     "end_time": "2022-04-04T16:08:15.370392",
     "exception": false,
     "start_time": "2022-04-04T16:08:15.310846",
     "status": "completed"
    },
    "tags": []
   },
   "outputs": [
    {
     "data": {
      "text/plain": [
       "PassengerId       0\n",
       "HomePlanet       87\n",
       "CryoSleep        93\n",
       "Cabin           100\n",
       "Destination      92\n",
       "Age              91\n",
       "VIP              93\n",
       "RoomService      82\n",
       "FoodCourt       106\n",
       "ShoppingMall     98\n",
       "Spa             101\n",
       "VRDeck           80\n",
       "Name             94\n",
       "dtype: int64"
      ]
     },
     "execution_count": 10,
     "metadata": {},
     "output_type": "execute_result"
    }
   ],
   "source": [
    "test.isna().sum()"
   ]
  },
  {
   "cell_type": "code",
   "execution_count": 11,
   "id": "42eb30cf",
   "metadata": {
    "execution": {
     "iopub.execute_input": "2022-04-04T16:08:15.466955Z",
     "iopub.status.busy": "2022-04-04T16:08:15.466161Z",
     "iopub.status.idle": "2022-04-04T16:08:15.494961Z",
     "shell.execute_reply": "2022-04-04T16:08:15.495639Z"
    },
    "papermill": {
     "duration": 0.07808,
     "end_time": "2022-04-04T16:08:15.495823",
     "exception": false,
     "start_time": "2022-04-04T16:08:15.417743",
     "status": "completed"
    },
    "tags": []
   },
   "outputs": [
    {
     "data": {
      "text/html": [
       "<div>\n",
       "<style scoped>\n",
       "    .dataframe tbody tr th:only-of-type {\n",
       "        vertical-align: middle;\n",
       "    }\n",
       "\n",
       "    .dataframe tbody tr th {\n",
       "        vertical-align: top;\n",
       "    }\n",
       "\n",
       "    .dataframe thead th {\n",
       "        text-align: right;\n",
       "    }\n",
       "</style>\n",
       "<table border=\"1\" class=\"dataframe\">\n",
       "  <thead>\n",
       "    <tr style=\"text-align: right;\">\n",
       "      <th></th>\n",
       "      <th>Age</th>\n",
       "      <th>RoomService</th>\n",
       "      <th>FoodCourt</th>\n",
       "      <th>ShoppingMall</th>\n",
       "      <th>Spa</th>\n",
       "      <th>VRDeck</th>\n",
       "    </tr>\n",
       "  </thead>\n",
       "  <tbody>\n",
       "    <tr>\n",
       "      <th>count</th>\n",
       "      <td>4186.000000</td>\n",
       "      <td>4195.000000</td>\n",
       "      <td>4171.000000</td>\n",
       "      <td>4179.000000</td>\n",
       "      <td>4176.000000</td>\n",
       "      <td>4197.000000</td>\n",
       "    </tr>\n",
       "    <tr>\n",
       "      <th>mean</th>\n",
       "      <td>28.658146</td>\n",
       "      <td>219.266269</td>\n",
       "      <td>439.484296</td>\n",
       "      <td>177.295525</td>\n",
       "      <td>303.052443</td>\n",
       "      <td>310.710031</td>\n",
       "    </tr>\n",
       "    <tr>\n",
       "      <th>std</th>\n",
       "      <td>14.179072</td>\n",
       "      <td>607.011289</td>\n",
       "      <td>1527.663045</td>\n",
       "      <td>560.821123</td>\n",
       "      <td>1117.186015</td>\n",
       "      <td>1246.994742</td>\n",
       "    </tr>\n",
       "    <tr>\n",
       "      <th>min</th>\n",
       "      <td>0.000000</td>\n",
       "      <td>0.000000</td>\n",
       "      <td>0.000000</td>\n",
       "      <td>0.000000</td>\n",
       "      <td>0.000000</td>\n",
       "      <td>0.000000</td>\n",
       "    </tr>\n",
       "    <tr>\n",
       "      <th>25%</th>\n",
       "      <td>19.000000</td>\n",
       "      <td>0.000000</td>\n",
       "      <td>0.000000</td>\n",
       "      <td>0.000000</td>\n",
       "      <td>0.000000</td>\n",
       "      <td>0.000000</td>\n",
       "    </tr>\n",
       "    <tr>\n",
       "      <th>50%</th>\n",
       "      <td>26.000000</td>\n",
       "      <td>0.000000</td>\n",
       "      <td>0.000000</td>\n",
       "      <td>0.000000</td>\n",
       "      <td>0.000000</td>\n",
       "      <td>0.000000</td>\n",
       "    </tr>\n",
       "    <tr>\n",
       "      <th>75%</th>\n",
       "      <td>37.000000</td>\n",
       "      <td>53.000000</td>\n",
       "      <td>78.000000</td>\n",
       "      <td>33.000000</td>\n",
       "      <td>50.000000</td>\n",
       "      <td>36.000000</td>\n",
       "    </tr>\n",
       "    <tr>\n",
       "      <th>max</th>\n",
       "      <td>79.000000</td>\n",
       "      <td>11567.000000</td>\n",
       "      <td>25273.000000</td>\n",
       "      <td>8292.000000</td>\n",
       "      <td>19844.000000</td>\n",
       "      <td>22272.000000</td>\n",
       "    </tr>\n",
       "  </tbody>\n",
       "</table>\n",
       "</div>"
      ],
      "text/plain": [
       "               Age   RoomService     FoodCourt  ShoppingMall           Spa  \\\n",
       "count  4186.000000   4195.000000   4171.000000   4179.000000   4176.000000   \n",
       "mean     28.658146    219.266269    439.484296    177.295525    303.052443   \n",
       "std      14.179072    607.011289   1527.663045    560.821123   1117.186015   \n",
       "min       0.000000      0.000000      0.000000      0.000000      0.000000   \n",
       "25%      19.000000      0.000000      0.000000      0.000000      0.000000   \n",
       "50%      26.000000      0.000000      0.000000      0.000000      0.000000   \n",
       "75%      37.000000     53.000000     78.000000     33.000000     50.000000   \n",
       "max      79.000000  11567.000000  25273.000000   8292.000000  19844.000000   \n",
       "\n",
       "             VRDeck  \n",
       "count   4197.000000  \n",
       "mean     310.710031  \n",
       "std     1246.994742  \n",
       "min        0.000000  \n",
       "25%        0.000000  \n",
       "50%        0.000000  \n",
       "75%       36.000000  \n",
       "max    22272.000000  "
      ]
     },
     "execution_count": 11,
     "metadata": {},
     "output_type": "execute_result"
    }
   ],
   "source": [
    "test.describe()"
   ]
  },
  {
   "cell_type": "markdown",
   "id": "f2d395e1",
   "metadata": {
    "papermill": {
     "duration": 0.04639,
     "end_time": "2022-04-04T16:08:15.589165",
     "exception": false,
     "start_time": "2022-04-04T16:08:15.542775",
     "status": "completed"
    },
    "tags": []
   },
   "source": [
    "## EDA"
   ]
  },
  {
   "cell_type": "code",
   "execution_count": 12,
   "id": "f9868389",
   "metadata": {
    "execution": {
     "iopub.execute_input": "2022-04-04T16:08:15.686632Z",
     "iopub.status.busy": "2022-04-04T16:08:15.685942Z",
     "iopub.status.idle": "2022-04-04T16:08:15.693923Z",
     "shell.execute_reply": "2022-04-04T16:08:15.693365Z"
    },
    "papermill": {
     "duration": 0.057772,
     "end_time": "2022-04-04T16:08:15.694092",
     "exception": false,
     "start_time": "2022-04-04T16:08:15.636320",
     "status": "completed"
    },
    "tags": []
   },
   "outputs": [
    {
     "data": {
      "text/plain": [
       "PassengerId      object\n",
       "HomePlanet       object\n",
       "CryoSleep        object\n",
       "Cabin            object\n",
       "Destination      object\n",
       "Age             float64\n",
       "VIP              object\n",
       "RoomService     float64\n",
       "FoodCourt       float64\n",
       "ShoppingMall    float64\n",
       "Spa             float64\n",
       "VRDeck          float64\n",
       "Name             object\n",
       "Transported        bool\n",
       "dtype: object"
      ]
     },
     "execution_count": 12,
     "metadata": {},
     "output_type": "execute_result"
    }
   ],
   "source": [
    "train.dtypes"
   ]
  },
  {
   "cell_type": "markdown",
   "id": "5a5cb1f0",
   "metadata": {
    "papermill": {
     "duration": 0.047404,
     "end_time": "2022-04-04T16:08:15.789380",
     "exception": false,
     "start_time": "2022-04-04T16:08:15.741976",
     "status": "completed"
    },
    "tags": []
   },
   "source": [
    "- 가족 찾기"
   ]
  },
  {
   "cell_type": "code",
   "execution_count": 13,
   "id": "dc1b26c0",
   "metadata": {
    "execution": {
     "iopub.execute_input": "2022-04-04T16:08:15.895414Z",
     "iopub.status.busy": "2022-04-04T16:08:15.894697Z",
     "iopub.status.idle": "2022-04-04T16:08:15.910198Z",
     "shell.execute_reply": "2022-04-04T16:08:15.910788Z"
    },
    "papermill": {
     "duration": 0.074221,
     "end_time": "2022-04-04T16:08:15.910965",
     "exception": false,
     "start_time": "2022-04-04T16:08:15.836744",
     "status": "completed"
    },
    "tags": []
   },
   "outputs": [
    {
     "data": {
      "text/html": [
       "<div>\n",
       "<style scoped>\n",
       "    .dataframe tbody tr th:only-of-type {\n",
       "        vertical-align: middle;\n",
       "    }\n",
       "\n",
       "    .dataframe tbody tr th {\n",
       "        vertical-align: top;\n",
       "    }\n",
       "\n",
       "    .dataframe thead th {\n",
       "        text-align: right;\n",
       "    }\n",
       "</style>\n",
       "<table border=\"1\" class=\"dataframe\">\n",
       "  <thead>\n",
       "    <tr style=\"text-align: right;\">\n",
       "      <th></th>\n",
       "      <th>PassengerId</th>\n",
       "      <th>Group</th>\n",
       "    </tr>\n",
       "  </thead>\n",
       "  <tbody>\n",
       "    <tr>\n",
       "      <th>0</th>\n",
       "      <td>0001_01</td>\n",
       "      <td>0001</td>\n",
       "    </tr>\n",
       "    <tr>\n",
       "      <th>1</th>\n",
       "      <td>0002_01</td>\n",
       "      <td>0002</td>\n",
       "    </tr>\n",
       "    <tr>\n",
       "      <th>2</th>\n",
       "      <td>0003_01</td>\n",
       "      <td>0003</td>\n",
       "    </tr>\n",
       "    <tr>\n",
       "      <th>3</th>\n",
       "      <td>0003_02</td>\n",
       "      <td>0003</td>\n",
       "    </tr>\n",
       "    <tr>\n",
       "      <th>4</th>\n",
       "      <td>0004_01</td>\n",
       "      <td>0004</td>\n",
       "    </tr>\n",
       "    <tr>\n",
       "      <th>...</th>\n",
       "      <td>...</td>\n",
       "      <td>...</td>\n",
       "    </tr>\n",
       "    <tr>\n",
       "      <th>8688</th>\n",
       "      <td>9276_01</td>\n",
       "      <td>9276</td>\n",
       "    </tr>\n",
       "    <tr>\n",
       "      <th>8689</th>\n",
       "      <td>9278_01</td>\n",
       "      <td>9278</td>\n",
       "    </tr>\n",
       "    <tr>\n",
       "      <th>8690</th>\n",
       "      <td>9279_01</td>\n",
       "      <td>9279</td>\n",
       "    </tr>\n",
       "    <tr>\n",
       "      <th>8691</th>\n",
       "      <td>9280_01</td>\n",
       "      <td>9280</td>\n",
       "    </tr>\n",
       "    <tr>\n",
       "      <th>8692</th>\n",
       "      <td>9280_02</td>\n",
       "      <td>9280</td>\n",
       "    </tr>\n",
       "  </tbody>\n",
       "</table>\n",
       "<p>8693 rows × 2 columns</p>\n",
       "</div>"
      ],
      "text/plain": [
       "     PassengerId Group\n",
       "0        0001_01  0001\n",
       "1        0002_01  0002\n",
       "2        0003_01  0003\n",
       "3        0003_02  0003\n",
       "4        0004_01  0004\n",
       "...          ...   ...\n",
       "8688     9276_01  9276\n",
       "8689     9278_01  9278\n",
       "8690     9279_01  9279\n",
       "8691     9280_01  9280\n",
       "8692     9280_02  9280\n",
       "\n",
       "[8693 rows x 2 columns]"
      ]
     },
     "execution_count": 13,
     "metadata": {},
     "output_type": "execute_result"
    }
   ],
   "source": [
    "train['Group'] = train['PassengerId'].apply(lambda x : str(x[:4]))\n",
    "test['Group'] = test['PassengerId'].apply(lambda x : str(x[:4]))\n",
    "train[['PassengerId','Group']]"
   ]
  },
  {
   "cell_type": "code",
   "execution_count": 14,
   "id": "1aa10ce9",
   "metadata": {
    "execution": {
     "iopub.execute_input": "2022-04-04T16:08:16.012665Z",
     "iopub.status.busy": "2022-04-04T16:08:16.009066Z",
     "iopub.status.idle": "2022-04-04T16:08:16.015707Z",
     "shell.execute_reply": "2022-04-04T16:08:16.016364Z"
    },
    "papermill": {
     "duration": 0.057989,
     "end_time": "2022-04-04T16:08:16.016646",
     "exception": false,
     "start_time": "2022-04-04T16:08:15.958657",
     "status": "completed"
    },
    "tags": []
   },
   "outputs": [
    {
     "data": {
      "text/plain": [
       "PassengerId      object\n",
       "HomePlanet       object\n",
       "CryoSleep        object\n",
       "Cabin            object\n",
       "Destination      object\n",
       "Age             float64\n",
       "VIP              object\n",
       "RoomService     float64\n",
       "FoodCourt       float64\n",
       "ShoppingMall    float64\n",
       "Spa             float64\n",
       "VRDeck          float64\n",
       "Name             object\n",
       "Transported        bool\n",
       "Group            object\n",
       "dtype: object"
      ]
     },
     "execution_count": 14,
     "metadata": {},
     "output_type": "execute_result"
    }
   ],
   "source": [
    "train.dtypes"
   ]
  },
  {
   "cell_type": "code",
   "execution_count": 15,
   "id": "636cfa99",
   "metadata": {
    "execution": {
     "iopub.execute_input": "2022-04-04T16:08:16.120689Z",
     "iopub.status.busy": "2022-04-04T16:08:16.117090Z",
     "iopub.status.idle": "2022-04-04T16:08:16.148915Z",
     "shell.execute_reply": "2022-04-04T16:08:16.149603Z"
    },
    "papermill": {
     "duration": 0.084096,
     "end_time": "2022-04-04T16:08:16.149786",
     "exception": false,
     "start_time": "2022-04-04T16:08:16.065690",
     "status": "completed"
    },
    "tags": []
   },
   "outputs": [
    {
     "data": {
      "text/html": [
       "<div>\n",
       "<style scoped>\n",
       "    .dataframe tbody tr th:only-of-type {\n",
       "        vertical-align: middle;\n",
       "    }\n",
       "\n",
       "    .dataframe tbody tr th {\n",
       "        vertical-align: top;\n",
       "    }\n",
       "\n",
       "    .dataframe thead th {\n",
       "        text-align: right;\n",
       "    }\n",
       "</style>\n",
       "<table border=\"1\" class=\"dataframe\">\n",
       "  <thead>\n",
       "    <tr style=\"text-align: right;\">\n",
       "      <th></th>\n",
       "      <th>Group</th>\n",
       "      <th>Size</th>\n",
       "    </tr>\n",
       "  </thead>\n",
       "  <tbody>\n",
       "    <tr>\n",
       "      <th>0</th>\n",
       "      <td>0001</td>\n",
       "      <td>1</td>\n",
       "    </tr>\n",
       "    <tr>\n",
       "      <th>1</th>\n",
       "      <td>0002</td>\n",
       "      <td>1</td>\n",
       "    </tr>\n",
       "    <tr>\n",
       "      <th>2</th>\n",
       "      <td>0003</td>\n",
       "      <td>2</td>\n",
       "    </tr>\n",
       "    <tr>\n",
       "      <th>3</th>\n",
       "      <td>0003</td>\n",
       "      <td>2</td>\n",
       "    </tr>\n",
       "    <tr>\n",
       "      <th>4</th>\n",
       "      <td>0004</td>\n",
       "      <td>1</td>\n",
       "    </tr>\n",
       "    <tr>\n",
       "      <th>...</th>\n",
       "      <td>...</td>\n",
       "      <td>...</td>\n",
       "    </tr>\n",
       "    <tr>\n",
       "      <th>8688</th>\n",
       "      <td>9276</td>\n",
       "      <td>1</td>\n",
       "    </tr>\n",
       "    <tr>\n",
       "      <th>8689</th>\n",
       "      <td>9278</td>\n",
       "      <td>1</td>\n",
       "    </tr>\n",
       "    <tr>\n",
       "      <th>8690</th>\n",
       "      <td>9279</td>\n",
       "      <td>1</td>\n",
       "    </tr>\n",
       "    <tr>\n",
       "      <th>8691</th>\n",
       "      <td>9280</td>\n",
       "      <td>2</td>\n",
       "    </tr>\n",
       "    <tr>\n",
       "      <th>8692</th>\n",
       "      <td>9280</td>\n",
       "      <td>2</td>\n",
       "    </tr>\n",
       "  </tbody>\n",
       "</table>\n",
       "<p>8693 rows × 2 columns</p>\n",
       "</div>"
      ],
      "text/plain": [
       "     Group  Size\n",
       "0     0001     1\n",
       "1     0002     1\n",
       "2     0003     2\n",
       "3     0003     2\n",
       "4     0004     1\n",
       "...    ...   ...\n",
       "8688  9276     1\n",
       "8689  9278     1\n",
       "8690  9279     1\n",
       "8691  9280     2\n",
       "8692  9280     2\n",
       "\n",
       "[8693 rows x 2 columns]"
      ]
     },
     "execution_count": 15,
     "metadata": {},
     "output_type": "execute_result"
    }
   ],
   "source": [
    "# `PassengerGroupSize`: How many people are in each `PassangerGroup`?\n",
    "train['Size'] = train.groupby('Group')['Group'].transform('count')\n",
    "test['Size'] = test.groupby('Group')['Group'].transform('count')\n",
    "train[['Group','Size']].sort_values(['Group'])"
   ]
  },
  {
   "cell_type": "code",
   "execution_count": 16,
   "id": "5d6d8f28",
   "metadata": {
    "execution": {
     "iopub.execute_input": "2022-04-04T16:08:16.252927Z",
     "iopub.status.busy": "2022-04-04T16:08:16.251902Z",
     "iopub.status.idle": "2022-04-04T16:08:16.259513Z",
     "shell.execute_reply": "2022-04-04T16:08:16.260114Z"
    },
    "papermill": {
     "duration": 0.060718,
     "end_time": "2022-04-04T16:08:16.260279",
     "exception": false,
     "start_time": "2022-04-04T16:08:16.199561",
     "status": "completed"
    },
    "tags": []
   },
   "outputs": [
    {
     "data": {
      "text/plain": [
       "PassengerId      object\n",
       "HomePlanet       object\n",
       "CryoSleep        object\n",
       "Cabin            object\n",
       "Destination      object\n",
       "Age             float64\n",
       "VIP              object\n",
       "RoomService     float64\n",
       "FoodCourt       float64\n",
       "ShoppingMall    float64\n",
       "Spa             float64\n",
       "VRDeck          float64\n",
       "Name             object\n",
       "Transported        bool\n",
       "Group            object\n",
       "Size              int64\n",
       "dtype: object"
      ]
     },
     "execution_count": 16,
     "metadata": {},
     "output_type": "execute_result"
    }
   ],
   "source": [
    "train.dtypes"
   ]
  },
  {
   "cell_type": "markdown",
   "id": "71c2a304",
   "metadata": {
    "papermill": {
     "duration": 0.048919,
     "end_time": "2022-04-04T16:08:16.359082",
     "exception": false,
     "start_time": "2022-04-04T16:08:16.310163",
     "status": "completed"
    },
    "tags": []
   },
   "source": [
    "- Cabin 나누기"
   ]
  },
  {
   "cell_type": "code",
   "execution_count": 17,
   "id": "9d952124",
   "metadata": {
    "execution": {
     "iopub.execute_input": "2022-04-04T16:08:16.461590Z",
     "iopub.status.busy": "2022-04-04T16:08:16.460560Z",
     "iopub.status.idle": "2022-04-04T16:08:16.649602Z",
     "shell.execute_reply": "2022-04-04T16:08:16.648996Z"
    },
    "papermill": {
     "duration": 0.241194,
     "end_time": "2022-04-04T16:08:16.649762",
     "exception": false,
     "start_time": "2022-04-04T16:08:16.408568",
     "status": "completed"
    },
    "tags": []
   },
   "outputs": [],
   "source": [
    "train['cd'] = train['Cabin'].str.split('/').str[0]\n",
    "train['cn'] = train['Cabin'].str.split('/').str[1]\n",
    "train['cs'] = train['Cabin'].str.split('/').str[2]\n",
    "\n",
    "test['cd'] = test['Cabin'].str.split('/').str[0]\n",
    "test['cn'] = test['Cabin'].str.split('/').str[1]\n",
    "test['cs'] = test['Cabin'].str.split('/').str[2]"
   ]
  },
  {
   "cell_type": "markdown",
   "id": "5405646a",
   "metadata": {
    "papermill": {
     "duration": 0.050092,
     "end_time": "2022-04-04T16:08:16.750012",
     "exception": false,
     "start_time": "2022-04-04T16:08:16.699920",
     "status": "completed"
    },
    "tags": []
   },
   "source": [
    "- ML을 위해 범주형 데이터 변환"
   ]
  },
  {
   "cell_type": "code",
   "execution_count": 18,
   "id": "a2c8b74f",
   "metadata": {
    "execution": {
     "iopub.execute_input": "2022-04-04T16:08:16.855191Z",
     "iopub.status.busy": "2022-04-04T16:08:16.854457Z",
     "iopub.status.idle": "2022-04-04T16:08:16.856211Z",
     "shell.execute_reply": "2022-04-04T16:08:16.856698Z"
    },
    "papermill": {
     "duration": 0.057074,
     "end_time": "2022-04-04T16:08:16.856857",
     "exception": false,
     "start_time": "2022-04-04T16:08:16.799783",
     "status": "completed"
    },
    "tags": []
   },
   "outputs": [],
   "source": [
    "from sklearn.preprocessing import LabelEncoder"
   ]
  },
  {
   "cell_type": "code",
   "execution_count": 19,
   "id": "29f43c0f",
   "metadata": {
    "execution": {
     "iopub.execute_input": "2022-04-04T16:08:16.959076Z",
     "iopub.status.busy": "2022-04-04T16:08:16.958376Z",
     "iopub.status.idle": "2022-04-04T16:08:16.962281Z",
     "shell.execute_reply": "2022-04-04T16:08:16.962774Z"
    },
    "papermill": {
     "duration": 0.056817,
     "end_time": "2022-04-04T16:08:16.962937",
     "exception": false,
     "start_time": "2022-04-04T16:08:16.906120",
     "status": "completed"
    },
    "tags": []
   },
   "outputs": [],
   "source": [
    "label_cols= [\"HomePlanet\", \"CryoSleep\",\"Cabin\", \"Destination\" ,\"VIP\",\"cd\",\"cs\"]"
   ]
  },
  {
   "cell_type": "code",
   "execution_count": 20,
   "id": "1a6fea3c",
   "metadata": {
    "execution": {
     "iopub.execute_input": "2022-04-04T16:08:17.065171Z",
     "iopub.status.busy": "2022-04-04T16:08:17.064483Z",
     "iopub.status.idle": "2022-04-04T16:08:17.069580Z",
     "shell.execute_reply": "2022-04-04T16:08:17.070124Z"
    },
    "papermill": {
     "duration": 0.057898,
     "end_time": "2022-04-04T16:08:17.070311",
     "exception": false,
     "start_time": "2022-04-04T16:08:17.012413",
     "status": "completed"
    },
    "tags": []
   },
   "outputs": [],
   "source": [
    "def label_encoder(train,test,columns):\n",
    "    for col in columns:\n",
    "        train[col] = train[col].astype(str)\n",
    "        test[col] = test[col].astype(str)\n",
    "        train[col] = LabelEncoder().fit_transform(train[col])\n",
    "        test[col] = LabelEncoder().fit_transform(test[col])\n",
    "    return train, test"
   ]
  },
  {
   "cell_type": "code",
   "execution_count": 21,
   "id": "467c179f",
   "metadata": {
    "execution": {
     "iopub.execute_input": "2022-04-04T16:08:17.173376Z",
     "iopub.status.busy": "2022-04-04T16:08:17.172707Z",
     "iopub.status.idle": "2022-04-04T16:08:17.242738Z",
     "shell.execute_reply": "2022-04-04T16:08:17.242173Z"
    },
    "papermill": {
     "duration": 0.122578,
     "end_time": "2022-04-04T16:08:17.242896",
     "exception": false,
     "start_time": "2022-04-04T16:08:17.120318",
     "status": "completed"
    },
    "tags": []
   },
   "outputs": [],
   "source": [
    "train, test = label_encoder(train,test,label_cols)"
   ]
  },
  {
   "cell_type": "code",
   "execution_count": 22,
   "id": "b56dfc5b",
   "metadata": {
    "execution": {
     "iopub.execute_input": "2022-04-04T16:08:17.353644Z",
     "iopub.status.busy": "2022-04-04T16:08:17.352883Z",
     "iopub.status.idle": "2022-04-04T16:08:17.524340Z",
     "shell.execute_reply": "2022-04-04T16:08:17.523637Z"
    },
    "papermill": {
     "duration": 0.229664,
     "end_time": "2022-04-04T16:08:17.524487",
     "exception": false,
     "start_time": "2022-04-04T16:08:17.294823",
     "status": "completed"
    },
    "tags": []
   },
   "outputs": [
    {
     "name": "stdout",
     "output_type": "stream",
     "text": [
      "train_data:\n",
      " PassengerId       0\n",
      "HomePlanet        0\n",
      "CryoSleep         0\n",
      "Cabin             0\n",
      "Destination       0\n",
      "Age               0\n",
      "VIP               0\n",
      "RoomService       0\n",
      "FoodCourt         0\n",
      "ShoppingMall      0\n",
      "Spa               0\n",
      "VRDeck            0\n",
      "Name            200\n",
      "Transported       0\n",
      "Group             0\n",
      "Size              0\n",
      "cd                0\n",
      "cn                0\n",
      "cs                0\n",
      "dtype: int64\n",
      "---\n",
      "test_data:\n",
      " PassengerId      0\n",
      "HomePlanet       0\n",
      "CryoSleep        0\n",
      "Cabin            0\n",
      "Destination      0\n",
      "Age              0\n",
      "VIP              0\n",
      "RoomService      0\n",
      "FoodCourt        0\n",
      "ShoppingMall     0\n",
      "Spa              0\n",
      "VRDeck           0\n",
      "Name            94\n",
      "Group            0\n",
      "Size             0\n",
      "cd               0\n",
      "cn               0\n",
      "cs               0\n",
      "dtype: int64\n"
     ]
    }
   ],
   "source": [
    "from sklearn.impute import SimpleImputer\n",
    "\n",
    "imputer_cols = [\"Age\", \"FoodCourt\", \"ShoppingMall\", \"Spa\", \"VRDeck\" ,\"RoomService\",\"Size\",\"cn\"]\n",
    "STRATEGY = 'median'\n",
    "\n",
    "imputer = SimpleImputer(strategy=STRATEGY)\n",
    "imputer.fit(train[imputer_cols])\n",
    "train[imputer_cols] = imputer.transform(train[imputer_cols])\n",
    "test[imputer_cols] = imputer.transform(test[imputer_cols])\n",
    "\n",
    "print(\"train_data:\\n\", train.isnull().sum())\n",
    "print(\"---\")\n",
    "print(\"test_data:\\n\", test.isnull().sum())"
   ]
  },
  {
   "cell_type": "code",
   "execution_count": 23,
   "id": "afa97f49",
   "metadata": {
    "execution": {
     "iopub.execute_input": "2022-04-04T16:08:17.633277Z",
     "iopub.status.busy": "2022-04-04T16:08:17.632593Z",
     "iopub.status.idle": "2022-04-04T16:08:17.656615Z",
     "shell.execute_reply": "2022-04-04T16:08:17.657233Z"
    },
    "papermill": {
     "duration": 0.082374,
     "end_time": "2022-04-04T16:08:17.657409",
     "exception": false,
     "start_time": "2022-04-04T16:08:17.575035",
     "status": "completed"
    },
    "tags": []
   },
   "outputs": [
    {
     "name": "stdout",
     "output_type": "stream",
     "text": [
      "train_data:\n",
      " PassengerId       0\n",
      "HomePlanet        0\n",
      "CryoSleep         0\n",
      "Cabin             0\n",
      "Destination       0\n",
      "Age               0\n",
      "VIP               0\n",
      "RoomService       0\n",
      "FoodCourt         0\n",
      "ShoppingMall      0\n",
      "Spa               0\n",
      "VRDeck            0\n",
      "Name            200\n",
      "Transported       0\n",
      "Group             0\n",
      "Size              0\n",
      "cd                0\n",
      "cn                0\n",
      "cs                0\n",
      "dtype: int64\n",
      "---\n",
      "test:\n",
      " PassengerId      0\n",
      "HomePlanet       0\n",
      "CryoSleep        0\n",
      "Cabin            0\n",
      "Destination      0\n",
      "Age              0\n",
      "VIP              0\n",
      "RoomService      0\n",
      "FoodCourt        0\n",
      "ShoppingMall     0\n",
      "Spa              0\n",
      "VRDeck           0\n",
      "Name            94\n",
      "Group            0\n",
      "Size             0\n",
      "cd               0\n",
      "cn               0\n",
      "cs               0\n",
      "dtype: int64\n"
     ]
    }
   ],
   "source": [
    "imputer_cols = [\"HomePlanet\", \"CryoSleep\", \"Destination\", \"VIP\",\"cd\",\"cs\"]\n",
    "STRATEGY = 'most_frequent'\n",
    "\n",
    "imputer = SimpleImputer(strategy=STRATEGY)\n",
    "imputer.fit(train[imputer_cols])\n",
    "train[imputer_cols] = imputer.transform(train[imputer_cols])\n",
    "test[imputer_cols] = imputer.transform(test[imputer_cols])\n",
    "\n",
    "print(\"train_data:\\n\", train.isnull().sum())\n",
    "print(\"---\")\n",
    "print(\"test:\\n\", test.isnull().sum())"
   ]
  },
  {
   "cell_type": "code",
   "execution_count": 24,
   "id": "ce799c6d",
   "metadata": {
    "execution": {
     "iopub.execute_input": "2022-04-04T16:08:17.767785Z",
     "iopub.status.busy": "2022-04-04T16:08:17.766856Z",
     "iopub.status.idle": "2022-04-04T16:08:17.769997Z",
     "shell.execute_reply": "2022-04-04T16:08:17.769458Z"
    },
    "papermill": {
     "duration": 0.061936,
     "end_time": "2022-04-04T16:08:17.770164",
     "exception": false,
     "start_time": "2022-04-04T16:08:17.708228",
     "status": "completed"
    },
    "tags": []
   },
   "outputs": [],
   "source": [
    "train = train.drop(['Name','Cabin'],axis = 1)\n",
    "test = test.drop(['Name','Cabin'],axis = 1)"
   ]
  },
  {
   "cell_type": "code",
   "execution_count": 25,
   "id": "7c4d8508",
   "metadata": {
    "execution": {
     "iopub.execute_input": "2022-04-04T16:08:17.882429Z",
     "iopub.status.busy": "2022-04-04T16:08:17.881693Z",
     "iopub.status.idle": "2022-04-04T16:08:17.885385Z",
     "shell.execute_reply": "2022-04-04T16:08:17.884713Z"
    },
    "papermill": {
     "duration": 0.064236,
     "end_time": "2022-04-04T16:08:17.885526",
     "exception": false,
     "start_time": "2022-04-04T16:08:17.821290",
     "status": "completed"
    },
    "tags": []
   },
   "outputs": [
    {
     "data": {
      "text/plain": [
       "PassengerId     0\n",
       "HomePlanet      0\n",
       "CryoSleep       0\n",
       "Destination     0\n",
       "Age             0\n",
       "VIP             0\n",
       "RoomService     0\n",
       "FoodCourt       0\n",
       "ShoppingMall    0\n",
       "Spa             0\n",
       "VRDeck          0\n",
       "Transported     0\n",
       "Group           0\n",
       "Size            0\n",
       "cd              0\n",
       "cn              0\n",
       "cs              0\n",
       "dtype: int64"
      ]
     },
     "execution_count": 25,
     "metadata": {},
     "output_type": "execute_result"
    }
   ],
   "source": [
    "train.isnull().sum()"
   ]
  },
  {
   "cell_type": "markdown",
   "id": "4aaf6598",
   "metadata": {
    "papermill": {
     "duration": 0.051399,
     "end_time": "2022-04-04T16:08:17.988491",
     "exception": false,
     "start_time": "2022-04-04T16:08:17.937092",
     "status": "completed"
    },
    "tags": []
   },
   "source": [
    "---"
   ]
  },
  {
   "cell_type": "markdown",
   "id": "1318b1e5",
   "metadata": {
    "papermill": {
     "duration": 0.051163,
     "end_time": "2022-04-04T16:08:18.091543",
     "exception": false,
     "start_time": "2022-04-04T16:08:18.040380",
     "status": "completed"
    },
    "tags": []
   },
   "source": [
    "# 모델"
   ]
  },
  {
   "cell_type": "code",
   "execution_count": 26,
   "id": "9ceba51b",
   "metadata": {
    "execution": {
     "iopub.execute_input": "2022-04-04T16:08:18.202913Z",
     "iopub.status.busy": "2022-04-04T16:08:18.202226Z",
     "iopub.status.idle": "2022-04-04T16:08:18.206070Z",
     "shell.execute_reply": "2022-04-04T16:08:18.205494Z"
    },
    "papermill": {
     "duration": 0.061174,
     "end_time": "2022-04-04T16:08:18.206220",
     "exception": false,
     "start_time": "2022-04-04T16:08:18.145046",
     "status": "completed"
    },
    "tags": []
   },
   "outputs": [
    {
     "name": "stdout",
     "output_type": "stream",
     "text": [
      "Index(['PassengerId', 'HomePlanet', 'CryoSleep', 'Destination', 'Age', 'VIP',\n",
      "       'RoomService', 'FoodCourt', 'ShoppingMall', 'Spa', 'VRDeck',\n",
      "       'Transported', 'Group', 'Size', 'cd', 'cn', 'cs'],\n",
      "      dtype='object')\n",
      "Index(['PassengerId', 'HomePlanet', 'CryoSleep', 'Destination', 'Age', 'VIP',\n",
      "       'RoomService', 'FoodCourt', 'ShoppingMall', 'Spa', 'VRDeck', 'Group',\n",
      "       'Size', 'cd', 'cn', 'cs'],\n",
      "      dtype='object')\n"
     ]
    }
   ],
   "source": [
    "print(train.columns)\n",
    "print(test.columns)"
   ]
  },
  {
   "cell_type": "code",
   "execution_count": 27,
   "id": "efd384a1",
   "metadata": {
    "execution": {
     "iopub.execute_input": "2022-04-04T16:08:18.318667Z",
     "iopub.status.busy": "2022-04-04T16:08:18.317781Z",
     "iopub.status.idle": "2022-04-04T16:08:18.321882Z",
     "shell.execute_reply": "2022-04-04T16:08:18.321321Z"
    },
    "papermill": {
     "duration": 0.06299,
     "end_time": "2022-04-04T16:08:18.322078",
     "exception": false,
     "start_time": "2022-04-04T16:08:18.259088",
     "status": "completed"
    },
    "tags": []
   },
   "outputs": [],
   "source": [
    "col = train.drop(['PassengerId','Transported','Group'], axis = 1).columns.tolist()"
   ]
  },
  {
   "cell_type": "code",
   "execution_count": 28,
   "id": "01469206",
   "metadata": {
    "execution": {
     "iopub.execute_input": "2022-04-04T16:08:18.436410Z",
     "iopub.status.busy": "2022-04-04T16:08:18.435411Z",
     "iopub.status.idle": "2022-04-04T16:08:18.439069Z",
     "shell.execute_reply": "2022-04-04T16:08:18.439611Z"
    },
    "papermill": {
     "duration": 0.063,
     "end_time": "2022-04-04T16:08:18.439773",
     "exception": false,
     "start_time": "2022-04-04T16:08:18.376773",
     "status": "completed"
    },
    "tags": []
   },
   "outputs": [
    {
     "data": {
      "text/plain": [
       "['HomePlanet',\n",
       " 'CryoSleep',\n",
       " 'Destination',\n",
       " 'Age',\n",
       " 'VIP',\n",
       " 'RoomService',\n",
       " 'FoodCourt',\n",
       " 'ShoppingMall',\n",
       " 'Spa',\n",
       " 'VRDeck',\n",
       " 'Size',\n",
       " 'cd',\n",
       " 'cn',\n",
       " 'cs']"
      ]
     },
     "execution_count": 28,
     "metadata": {},
     "output_type": "execute_result"
    }
   ],
   "source": [
    "col"
   ]
  },
  {
   "cell_type": "code",
   "execution_count": 29,
   "id": "7b4854a9",
   "metadata": {
    "execution": {
     "iopub.execute_input": "2022-04-04T16:08:18.551419Z",
     "iopub.status.busy": "2022-04-04T16:08:18.550676Z",
     "iopub.status.idle": "2022-04-04T16:08:18.553833Z",
     "shell.execute_reply": "2022-04-04T16:08:18.553234Z"
    },
    "papermill": {
     "duration": 0.060589,
     "end_time": "2022-04-04T16:08:18.553994",
     "exception": false,
     "start_time": "2022-04-04T16:08:18.493405",
     "status": "completed"
    },
    "tags": []
   },
   "outputs": [],
   "source": [
    "TARGET = 'Transported'"
   ]
  },
  {
   "cell_type": "code",
   "execution_count": 30,
   "id": "1f49736b",
   "metadata": {
    "execution": {
     "iopub.execute_input": "2022-04-04T16:08:18.667404Z",
     "iopub.status.busy": "2022-04-04T16:08:18.666704Z",
     "iopub.status.idle": "2022-04-04T16:08:18.675783Z",
     "shell.execute_reply": "2022-04-04T16:08:18.675244Z"
    },
    "papermill": {
     "duration": 0.06723,
     "end_time": "2022-04-04T16:08:18.675931",
     "exception": false,
     "start_time": "2022-04-04T16:08:18.608701",
     "status": "completed"
    },
    "tags": []
   },
   "outputs": [],
   "source": [
    "X = train[col]\n",
    "Y = train[TARGET]\n",
    "X_train, Y_train, X_target, Y_target = train_test_split(X,Y,random_state = 12,test_size = 0.33)"
   ]
  },
  {
   "cell_type": "code",
   "execution_count": 31,
   "id": "8eee7b90",
   "metadata": {
    "execution": {
     "iopub.execute_input": "2022-04-04T16:08:18.792640Z",
     "iopub.status.busy": "2022-04-04T16:08:18.789023Z",
     "iopub.status.idle": "2022-04-04T16:08:18.799176Z",
     "shell.execute_reply": "2022-04-04T16:08:18.798577Z"
    },
    "papermill": {
     "duration": 0.068265,
     "end_time": "2022-04-04T16:08:18.799324",
     "exception": false,
     "start_time": "2022-04-04T16:08:18.731059",
     "status": "completed"
    },
    "tags": []
   },
   "outputs": [],
   "source": [
    "# type_fold_indice = List[Tuple[np.ndarray, np.ndarray]]\n",
    "\n",
    "idx_fold = []\n",
    "\n",
    "skf = StratifiedKFold(5, random_state=12, shuffle=True)\n",
    "for idx_train, idx_valid in skf.split(X = X, y = Y):\n",
    "    idx_fold.append((idx_train, idx_valid))"
   ]
  },
  {
   "cell_type": "code",
   "execution_count": 32,
   "id": "4e06054a",
   "metadata": {
    "execution": {
     "iopub.execute_input": "2022-04-04T16:08:18.914423Z",
     "iopub.status.busy": "2022-04-04T16:08:18.913357Z",
     "iopub.status.idle": "2022-04-04T16:08:18.916734Z",
     "shell.execute_reply": "2022-04-04T16:08:18.916206Z"
    },
    "papermill": {
     "duration": 0.062671,
     "end_time": "2022-04-04T16:08:18.916880",
     "exception": false,
     "start_time": "2022-04-04T16:08:18.854209",
     "status": "completed"
    },
    "tags": []
   },
   "outputs": [],
   "source": [
    "lgb_params = {\n",
    "    'objective' : 'binary',\n",
    "    'n_estimators' : 200,\n",
    "    'learning_rate' : 0.1,\n",
    "    'random_state' : 12,\n",
    "    'n_jobs' : -1,\n",
    "    'importance_type' : 'gain',\n",
    "    'subsample' : 0.9,\n",
    "    'subsample_freq' : 3,\n",
    "    'colsample_bytree' : 0.6\n",
    "}"
   ]
  },
  {
   "cell_type": "code",
   "execution_count": 33,
   "id": "45e39c1b",
   "metadata": {
    "execution": {
     "iopub.execute_input": "2022-04-04T16:08:19.033525Z",
     "iopub.status.busy": "2022-04-04T16:08:19.032817Z",
     "iopub.status.idle": "2022-04-04T16:08:19.035427Z",
     "shell.execute_reply": "2022-04-04T16:08:19.034744Z"
    },
    "papermill": {
     "duration": 0.063006,
     "end_time": "2022-04-04T16:08:19.035602",
     "exception": false,
     "start_time": "2022-04-04T16:08:18.972596",
     "status": "completed"
    },
    "tags": []
   },
   "outputs": [],
   "source": [
    "lgb_scores = []"
   ]
  },
  {
   "cell_type": "code",
   "execution_count": 34,
   "id": "f59a1f39",
   "metadata": {
    "execution": {
     "iopub.execute_input": "2022-04-04T16:08:19.155010Z",
     "iopub.status.busy": "2022-04-04T16:08:19.154323Z",
     "iopub.status.idle": "2022-04-04T16:08:21.077132Z",
     "shell.execute_reply": "2022-04-04T16:08:21.077690Z"
    },
    "papermill": {
     "duration": 1.986704,
     "end_time": "2022-04-04T16:08:21.077877",
     "exception": false,
     "start_time": "2022-04-04T16:08:19.091173",
     "status": "completed"
    },
    "tags": []
   },
   "outputs": [
    {
     "name": "stdout",
     "output_type": "stream",
     "text": [
      "========== Fold=1 ==========\n",
      "Fold=1, Accuracy score : 0.818861%\n",
      "========== Fold=2 ==========\n",
      "Fold=2, Accuracy score : 0.802185%\n",
      "========== Fold=3 ==========\n",
      "Fold=3, Accuracy score : 0.809086%\n",
      "========== Fold=4 ==========\n",
      "Fold=4, Accuracy score : 0.796318%\n",
      "========== Fold=5 ==========\n",
      "Fold=5, Accuracy score : 0.806099%\n",
      "\n",
      "Mean Accuracy :  0.8065097661380991\n"
     ]
    }
   ],
   "source": [
    "for fold, (idx_train, idx_valid) in enumerate(idx_fold):\n",
    "    print(10*\"=\", f\"Fold={fold+1}\", 10*\"=\")\n",
    "    \n",
    "    # X_test = test[continuous_features + categorical_features].copy()\n",
    "    X_train, X_valid = train.iloc[idx_train][col],train.iloc[idx_valid][col]\n",
    "    Y_train, Y_valid = train.iloc[idx_train][TARGET],train.iloc[idx_valid][TARGET]\n",
    "    \n",
    "    model = LGBMClassifier(**lgb_params)\n",
    "    model.fit(X_train, Y_train, verbose = 0)\n",
    "    \n",
    "    # 정확도 측정해서 저장\n",
    "    preds_valid = model.predict(X_valid)\n",
    "    acc = accuracy_score(Y_valid, preds_valid)\n",
    "    lgb_scores.append(acc)\n",
    "    \n",
    "    print(f\"Fold={fold+1}, Accuracy score : {acc :2f}%\")\n",
    "    \n",
    "print(\"\")\n",
    "print(\"Mean Accuracy : \", np.mean(lgb_scores))"
   ]
  },
  {
   "cell_type": "code",
   "execution_count": null,
   "id": "f92e235a",
   "metadata": {
    "papermill": {
     "duration": 0.059567,
     "end_time": "2022-04-04T16:08:21.195857",
     "exception": false,
     "start_time": "2022-04-04T16:08:21.136290",
     "status": "completed"
    },
    "tags": []
   },
   "outputs": [],
   "source": []
  },
  {
   "cell_type": "code",
   "execution_count": null,
   "id": "9a3e1714",
   "metadata": {
    "papermill": {
     "duration": 0.058027,
     "end_time": "2022-04-04T16:08:21.312408",
     "exception": false,
     "start_time": "2022-04-04T16:08:21.254381",
     "status": "completed"
    },
    "tags": []
   },
   "outputs": [],
   "source": []
  }
 ],
 "metadata": {
  "kernelspec": {
   "display_name": "Python 3",
   "language": "python",
   "name": "python3"
  },
  "language_info": {
   "codemirror_mode": {
    "name": "ipython",
    "version": 3
   },
   "file_extension": ".py",
   "mimetype": "text/x-python",
   "name": "python",
   "nbconvert_exporter": "python",
   "pygments_lexer": "ipython3",
   "version": "3.7.12"
  },
  "papermill": {
   "default_parameters": {},
   "duration": 19.521873,
   "end_time": "2022-04-04T16:08:22.081316",
   "environment_variables": {},
   "exception": null,
   "input_path": "__notebook__.ipynb",
   "output_path": "__notebook__.ipynb",
   "parameters": {},
   "start_time": "2022-04-04T16:08:02.559443",
   "version": "2.3.3"
  }
 },
 "nbformat": 4,
 "nbformat_minor": 5
}
