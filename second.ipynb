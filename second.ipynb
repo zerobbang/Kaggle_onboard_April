{
 "cells": [
  {
   "cell_type": "markdown",
   "id": "e2cb6720",
   "metadata": {
    "papermill": {
     "duration": 0.076431,
     "end_time": "2022-04-11T06:28:29.356126",
     "exception": false,
     "start_time": "2022-04-11T06:28:29.279695",
     "status": "completed"
    },
    "tags": []
   },
   "source": [
    "# 👩‍🚀**<span style=\"color:#4527A0;\"> Spaceship Titanic with</span> <span style=\"color:#F44336;\"> LGBMClassifier </span>🌠**"
   ]
  },
  {
   "cell_type": "markdown",
   "id": "6c342739",
   "metadata": {
    "papermill": {
     "duration": 0.089316,
     "end_time": "2022-04-11T06:28:29.534404",
     "exception": false,
     "start_time": "2022-04-11T06:28:29.445088",
     "status": "completed"
    },
    "tags": []
   },
   "source": [
    "# <span style=\"color:#4527A0;\"> Project </span> 🔥\n",
    "- 강의명 : 2022년 K-디지털 직업훈련(Training) 사업 - AI데이터플랫폼을 활용한 빅데이터 분석전문가 과정\n",
    "- 교과목명 : 빅데이터 분석 및 시각화, AI개발 기초, 인공지능 프로그래밍\n",
    "- 프로젝트 주제 : Spaceship Titanic 데이터를 활용한 탑승유무 분류모형 개발\n",
    "- 프로젝트 마감일 : 2022년 4월 12일 화요일\n",
    "- 강사명 : 정지훈 강사\n",
    "- 수강생명 : 이가영"
   ]
  },
  {
   "cell_type": "markdown",
   "id": "6c66ede9",
   "metadata": {
    "papermill": {
     "duration": 0.074657,
     "end_time": "2022-04-11T06:28:29.685371",
     "exception": false,
     "start_time": "2022-04-11T06:28:29.610714",
     "status": "completed"
    },
    "tags": []
   },
   "source": [
    "# <span style=\"color:#4527A0;\"> Table of content </span> 📋\n",
    "\n",
    "- [Load data](#Load-Data)\n",
    "- [EDA](#EDA)\n",
    "- [Preprocessing](#Preprocessing)\n",
    "- [Model](#Model)"
   ]
  },
  {
   "cell_type": "markdown",
   "id": "afb0a284",
   "metadata": {
    "papermill": {
     "duration": 0.074827,
     "end_time": "2022-04-11T06:28:29.835993",
     "exception": false,
     "start_time": "2022-04-11T06:28:29.761166",
     "status": "completed"
    },
    "tags": []
   },
   "source": [
    " # Load Data\n",
    "- 라이브러리 불러오기"
   ]
  },
  {
   "cell_type": "code",
   "execution_count": 1,
   "id": "36fc655a",
   "metadata": {
    "execution": {
     "iopub.execute_input": "2022-04-11T06:28:29.994136Z",
     "iopub.status.busy": "2022-04-11T06:28:29.993531Z",
     "iopub.status.idle": "2022-04-11T06:28:32.345588Z",
     "shell.execute_reply": "2022-04-11T06:28:32.344933Z",
     "shell.execute_reply.started": "2022-04-11T02:37:38.633734Z"
    },
    "papermill": {
     "duration": 2.435476,
     "end_time": "2022-04-11T06:28:32.345737",
     "exception": false,
     "start_time": "2022-04-11T06:28:29.910261",
     "status": "completed"
    },
    "tags": []
   },
   "outputs": [
    {
     "data": {
      "text/html": [
       "<style type='text/css'>\n",
       ".datatable table.frame { margin-bottom: 0; }\n",
       ".datatable table.frame thead { border-bottom: none; }\n",
       ".datatable table.frame tr.coltypes td {  color: #FFFFFF;  line-height: 6px;  padding: 0 0.5em;}\n",
       ".datatable .bool    { background: #DDDD99; }\n",
       ".datatable .object  { background: #565656; }\n",
       ".datatable .int     { background: #5D9E5D; }\n",
       ".datatable .float   { background: #4040CC; }\n",
       ".datatable .str     { background: #CC4040; }\n",
       ".datatable .time    { background: #40CC40; }\n",
       ".datatable .row_index {  background: var(--jp-border-color3);  border-right: 1px solid var(--jp-border-color0);  color: var(--jp-ui-font-color3);  font-size: 9px;}\n",
       ".datatable .frame tbody td { text-align: left; }\n",
       ".datatable .frame tr.coltypes .row_index {  background: var(--jp-border-color0);}\n",
       ".datatable th:nth-child(2) { padding-left: 12px; }\n",
       ".datatable .hellipsis {  color: var(--jp-cell-editor-border-color);}\n",
       ".datatable .vellipsis {  background: var(--jp-layout-color0);  color: var(--jp-cell-editor-border-color);}\n",
       ".datatable .na {  color: var(--jp-cell-editor-border-color);  font-size: 80%;}\n",
       ".datatable .sp {  opacity: 0.25;}\n",
       ".datatable .footer { font-size: 9px; }\n",
       ".datatable .frame_dimensions {  background: var(--jp-border-color3);  border-top: 1px solid var(--jp-border-color0);  color: var(--jp-ui-font-color3);  display: inline-block;  opacity: 0.6;  padding: 1px 10px 1px 5px;}\n",
       "</style>\n"
      ],
      "text/plain": [
       "<IPython.core.display.HTML object>"
      ]
     },
     "metadata": {},
     "output_type": "display_data"
    }
   ],
   "source": [
    "import numpy as np\n",
    "import pandas as pd\n",
    "import plotly.express as px\n",
    "import plotly.graph_objects as go\n",
    "\n",
    "from sklearn.metrics import accuracy_score\n",
    "from sklearn.model_selection import train_test_split, StratifiedKFold, GridSearchCV\n",
    "\n",
    "from lightgbm import LGBMClassifier\n",
    "\n",
    "import warnings\n",
    "warnings.filterwarnings('ignore')"
   ]
  },
  {
   "cell_type": "markdown",
   "id": "0b2f0f6e",
   "metadata": {
    "papermill": {
     "duration": 0.075641,
     "end_time": "2022-04-11T06:28:32.496651",
     "exception": false,
     "start_time": "2022-04-11T06:28:32.421010",
     "status": "completed"
    },
    "tags": []
   },
   "source": [
    "- 데이터 불러오기"
   ]
  },
  {
   "cell_type": "code",
   "execution_count": 2,
   "id": "da858cb9",
   "metadata": {
    "execution": {
     "iopub.execute_input": "2022-04-11T06:28:32.653966Z",
     "iopub.status.busy": "2022-04-11T06:28:32.653312Z",
     "iopub.status.idle": "2022-04-11T06:28:32.737350Z",
     "shell.execute_reply": "2022-04-11T06:28:32.736783Z",
     "shell.execute_reply.started": "2022-04-11T02:37:41.183894Z"
    },
    "papermill": {
     "duration": 0.165495,
     "end_time": "2022-04-11T06:28:32.737490",
     "exception": false,
     "start_time": "2022-04-11T06:28:32.571995",
     "status": "completed"
    },
    "tags": []
   },
   "outputs": [],
   "source": [
    "train = pd.read_csv(\"/kaggle/input/spaceship-titanic/train.csv\")\n",
    "test = pd.read_csv(\"/kaggle/input/spaceship-titanic/test.csv\")\n",
    "submission = pd.read_csv(\"/kaggle/input/spaceship-titanic/sample_submission.csv\")"
   ]
  },
  {
   "cell_type": "code",
   "execution_count": 3,
   "id": "d2ce0e74",
   "metadata": {
    "execution": {
     "iopub.execute_input": "2022-04-11T06:28:32.891602Z",
     "iopub.status.busy": "2022-04-11T06:28:32.890969Z",
     "iopub.status.idle": "2022-04-11T06:28:32.896347Z",
     "shell.execute_reply": "2022-04-11T06:28:32.896918Z",
     "shell.execute_reply.started": "2022-04-11T02:37:41.288567Z"
    },
    "papermill": {
     "duration": 0.08424,
     "end_time": "2022-04-11T06:28:32.897095",
     "exception": false,
     "start_time": "2022-04-11T06:28:32.812855",
     "status": "completed"
    },
    "tags": []
   },
   "outputs": [
    {
     "data": {
      "text/plain": [
       "((8693, 14), (4277, 13), (4277, 2))"
      ]
     },
     "execution_count": 3,
     "metadata": {},
     "output_type": "execute_result"
    }
   ],
   "source": [
    "train.shape, test.shape, submission.shape"
   ]
  },
  {
   "cell_type": "markdown",
   "id": "02f59dac",
   "metadata": {
    "papermill": {
     "duration": 0.075757,
     "end_time": "2022-04-11T06:28:33.048020",
     "exception": false,
     "start_time": "2022-04-11T06:28:32.972263",
     "status": "completed"
    },
    "tags": []
   },
   "source": [
    "-- 훈련 데이터 : 8693개  \n",
    "-- 테스트 데이터 : 4227개  \n",
    "-- 종속 변수 1개"
   ]
  },
  {
   "cell_type": "markdown",
   "id": "608d9281",
   "metadata": {
    "papermill": {
     "duration": 0.0752,
     "end_time": "2022-04-11T06:28:33.198866",
     "exception": false,
     "start_time": "2022-04-11T06:28:33.123666",
     "status": "completed"
    },
    "tags": []
   },
   "source": [
    "## Train Data"
   ]
  },
  {
   "cell_type": "code",
   "execution_count": 4,
   "id": "8e85e425",
   "metadata": {
    "execution": {
     "iopub.execute_input": "2022-04-11T06:28:33.351816Z",
     "iopub.status.busy": "2022-04-11T06:28:33.351239Z",
     "iopub.status.idle": "2022-04-11T06:28:33.375975Z",
     "shell.execute_reply": "2022-04-11T06:28:33.376527Z",
     "shell.execute_reply.started": "2022-04-11T02:37:41.296849Z"
    },
    "papermill": {
     "duration": 0.10274,
     "end_time": "2022-04-11T06:28:33.376691",
     "exception": false,
     "start_time": "2022-04-11T06:28:33.273951",
     "status": "completed"
    },
    "tags": []
   },
   "outputs": [
    {
     "data": {
      "text/html": [
       "<div>\n",
       "<style scoped>\n",
       "    .dataframe tbody tr th:only-of-type {\n",
       "        vertical-align: middle;\n",
       "    }\n",
       "\n",
       "    .dataframe tbody tr th {\n",
       "        vertical-align: top;\n",
       "    }\n",
       "\n",
       "    .dataframe thead th {\n",
       "        text-align: right;\n",
       "    }\n",
       "</style>\n",
       "<table border=\"1\" class=\"dataframe\">\n",
       "  <thead>\n",
       "    <tr style=\"text-align: right;\">\n",
       "      <th></th>\n",
       "      <th>PassengerId</th>\n",
       "      <th>HomePlanet</th>\n",
       "      <th>CryoSleep</th>\n",
       "      <th>Cabin</th>\n",
       "      <th>Destination</th>\n",
       "      <th>Age</th>\n",
       "      <th>VIP</th>\n",
       "      <th>RoomService</th>\n",
       "      <th>FoodCourt</th>\n",
       "      <th>ShoppingMall</th>\n",
       "      <th>Spa</th>\n",
       "      <th>VRDeck</th>\n",
       "      <th>Name</th>\n",
       "      <th>Transported</th>\n",
       "    </tr>\n",
       "  </thead>\n",
       "  <tbody>\n",
       "    <tr>\n",
       "      <th>0</th>\n",
       "      <td>0001_01</td>\n",
       "      <td>Europa</td>\n",
       "      <td>False</td>\n",
       "      <td>B/0/P</td>\n",
       "      <td>TRAPPIST-1e</td>\n",
       "      <td>39.0</td>\n",
       "      <td>False</td>\n",
       "      <td>0.0</td>\n",
       "      <td>0.0</td>\n",
       "      <td>0.0</td>\n",
       "      <td>0.0</td>\n",
       "      <td>0.0</td>\n",
       "      <td>Maham Ofracculy</td>\n",
       "      <td>False</td>\n",
       "    </tr>\n",
       "    <tr>\n",
       "      <th>1</th>\n",
       "      <td>0002_01</td>\n",
       "      <td>Earth</td>\n",
       "      <td>False</td>\n",
       "      <td>F/0/S</td>\n",
       "      <td>TRAPPIST-1e</td>\n",
       "      <td>24.0</td>\n",
       "      <td>False</td>\n",
       "      <td>109.0</td>\n",
       "      <td>9.0</td>\n",
       "      <td>25.0</td>\n",
       "      <td>549.0</td>\n",
       "      <td>44.0</td>\n",
       "      <td>Juanna Vines</td>\n",
       "      <td>True</td>\n",
       "    </tr>\n",
       "    <tr>\n",
       "      <th>2</th>\n",
       "      <td>0003_01</td>\n",
       "      <td>Europa</td>\n",
       "      <td>False</td>\n",
       "      <td>A/0/S</td>\n",
       "      <td>TRAPPIST-1e</td>\n",
       "      <td>58.0</td>\n",
       "      <td>True</td>\n",
       "      <td>43.0</td>\n",
       "      <td>3576.0</td>\n",
       "      <td>0.0</td>\n",
       "      <td>6715.0</td>\n",
       "      <td>49.0</td>\n",
       "      <td>Altark Susent</td>\n",
       "      <td>False</td>\n",
       "    </tr>\n",
       "    <tr>\n",
       "      <th>3</th>\n",
       "      <td>0003_02</td>\n",
       "      <td>Europa</td>\n",
       "      <td>False</td>\n",
       "      <td>A/0/S</td>\n",
       "      <td>TRAPPIST-1e</td>\n",
       "      <td>33.0</td>\n",
       "      <td>False</td>\n",
       "      <td>0.0</td>\n",
       "      <td>1283.0</td>\n",
       "      <td>371.0</td>\n",
       "      <td>3329.0</td>\n",
       "      <td>193.0</td>\n",
       "      <td>Solam Susent</td>\n",
       "      <td>False</td>\n",
       "    </tr>\n",
       "    <tr>\n",
       "      <th>4</th>\n",
       "      <td>0004_01</td>\n",
       "      <td>Earth</td>\n",
       "      <td>False</td>\n",
       "      <td>F/1/S</td>\n",
       "      <td>TRAPPIST-1e</td>\n",
       "      <td>16.0</td>\n",
       "      <td>False</td>\n",
       "      <td>303.0</td>\n",
       "      <td>70.0</td>\n",
       "      <td>151.0</td>\n",
       "      <td>565.0</td>\n",
       "      <td>2.0</td>\n",
       "      <td>Willy Santantines</td>\n",
       "      <td>True</td>\n",
       "    </tr>\n",
       "  </tbody>\n",
       "</table>\n",
       "</div>"
      ],
      "text/plain": [
       "  PassengerId HomePlanet CryoSleep  Cabin  Destination   Age    VIP  \\\n",
       "0     0001_01     Europa     False  B/0/P  TRAPPIST-1e  39.0  False   \n",
       "1     0002_01      Earth     False  F/0/S  TRAPPIST-1e  24.0  False   \n",
       "2     0003_01     Europa     False  A/0/S  TRAPPIST-1e  58.0   True   \n",
       "3     0003_02     Europa     False  A/0/S  TRAPPIST-1e  33.0  False   \n",
       "4     0004_01      Earth     False  F/1/S  TRAPPIST-1e  16.0  False   \n",
       "\n",
       "   RoomService  FoodCourt  ShoppingMall     Spa  VRDeck               Name  \\\n",
       "0          0.0        0.0           0.0     0.0     0.0    Maham Ofracculy   \n",
       "1        109.0        9.0          25.0   549.0    44.0       Juanna Vines   \n",
       "2         43.0     3576.0           0.0  6715.0    49.0      Altark Susent   \n",
       "3          0.0     1283.0         371.0  3329.0   193.0       Solam Susent   \n",
       "4        303.0       70.0         151.0   565.0     2.0  Willy Santantines   \n",
       "\n",
       "   Transported  \n",
       "0        False  \n",
       "1         True  \n",
       "2        False  \n",
       "3        False  \n",
       "4         True  "
      ]
     },
     "execution_count": 4,
     "metadata": {},
     "output_type": "execute_result"
    }
   ],
   "source": [
    "train.head()"
   ]
  },
  {
   "cell_type": "code",
   "execution_count": 5,
   "id": "45c48878",
   "metadata": {
    "execution": {
     "iopub.execute_input": "2022-04-11T06:28:33.530979Z",
     "iopub.status.busy": "2022-04-11T06:28:33.530428Z",
     "iopub.status.idle": "2022-04-11T06:28:33.557776Z",
     "shell.execute_reply": "2022-04-11T06:28:33.558292Z",
     "shell.execute_reply.started": "2022-04-11T02:37:41.330056Z"
    },
    "papermill": {
     "duration": 0.106343,
     "end_time": "2022-04-11T06:28:33.558459",
     "exception": false,
     "start_time": "2022-04-11T06:28:33.452116",
     "status": "completed"
    },
    "tags": []
   },
   "outputs": [
    {
     "name": "stdout",
     "output_type": "stream",
     "text": [
      "<class 'pandas.core.frame.DataFrame'>\n",
      "RangeIndex: 8693 entries, 0 to 8692\n",
      "Data columns (total 14 columns):\n",
      " #   Column        Non-Null Count  Dtype  \n",
      "---  ------        --------------  -----  \n",
      " 0   PassengerId   8693 non-null   object \n",
      " 1   HomePlanet    8492 non-null   object \n",
      " 2   CryoSleep     8476 non-null   object \n",
      " 3   Cabin         8494 non-null   object \n",
      " 4   Destination   8511 non-null   object \n",
      " 5   Age           8514 non-null   float64\n",
      " 6   VIP           8490 non-null   object \n",
      " 7   RoomService   8512 non-null   float64\n",
      " 8   FoodCourt     8510 non-null   float64\n",
      " 9   ShoppingMall  8485 non-null   float64\n",
      " 10  Spa           8510 non-null   float64\n",
      " 11  VRDeck        8505 non-null   float64\n",
      " 12  Name          8493 non-null   object \n",
      " 13  Transported   8693 non-null   bool   \n",
      "dtypes: bool(1), float64(6), object(7)\n",
      "memory usage: 891.5+ KB\n"
     ]
    }
   ],
   "source": [
    "train.info()"
   ]
  },
  {
   "cell_type": "code",
   "execution_count": 6,
   "id": "ccbbb0fb",
   "metadata": {
    "execution": {
     "iopub.execute_input": "2022-04-11T06:28:33.714953Z",
     "iopub.status.busy": "2022-04-11T06:28:33.714363Z",
     "iopub.status.idle": "2022-04-11T06:28:33.728225Z",
     "shell.execute_reply": "2022-04-11T06:28:33.728733Z",
     "shell.execute_reply.started": "2022-04-11T02:37:41.366389Z"
    },
    "papermill": {
     "duration": 0.09359,
     "end_time": "2022-04-11T06:28:33.728894",
     "exception": false,
     "start_time": "2022-04-11T06:28:33.635304",
     "status": "completed"
    },
    "tags": []
   },
   "outputs": [
    {
     "data": {
      "text/plain": [
       "PassengerId       0\n",
       "HomePlanet      201\n",
       "CryoSleep       217\n",
       "Cabin           199\n",
       "Destination     182\n",
       "Age             179\n",
       "VIP             203\n",
       "RoomService     181\n",
       "FoodCourt       183\n",
       "ShoppingMall    208\n",
       "Spa             183\n",
       "VRDeck          188\n",
       "Name            200\n",
       "Transported       0\n",
       "dtype: int64"
      ]
     },
     "execution_count": 6,
     "metadata": {},
     "output_type": "execute_result"
    }
   ],
   "source": [
    "train.isna().sum()"
   ]
  },
  {
   "cell_type": "code",
   "execution_count": 7,
   "id": "0f9b90e3",
   "metadata": {
    "execution": {
     "iopub.execute_input": "2022-04-11T06:28:33.887541Z",
     "iopub.status.busy": "2022-04-11T06:28:33.886862Z",
     "iopub.status.idle": "2022-04-11T06:28:33.915897Z",
     "shell.execute_reply": "2022-04-11T06:28:33.916466Z",
     "shell.execute_reply.started": "2022-04-11T02:37:41.38532Z"
    },
    "papermill": {
     "duration": 0.110306,
     "end_time": "2022-04-11T06:28:33.916647",
     "exception": false,
     "start_time": "2022-04-11T06:28:33.806341",
     "status": "completed"
    },
    "tags": []
   },
   "outputs": [
    {
     "data": {
      "text/html": [
       "<div>\n",
       "<style scoped>\n",
       "    .dataframe tbody tr th:only-of-type {\n",
       "        vertical-align: middle;\n",
       "    }\n",
       "\n",
       "    .dataframe tbody tr th {\n",
       "        vertical-align: top;\n",
       "    }\n",
       "\n",
       "    .dataframe thead th {\n",
       "        text-align: right;\n",
       "    }\n",
       "</style>\n",
       "<table border=\"1\" class=\"dataframe\">\n",
       "  <thead>\n",
       "    <tr style=\"text-align: right;\">\n",
       "      <th></th>\n",
       "      <th>Age</th>\n",
       "      <th>RoomService</th>\n",
       "      <th>FoodCourt</th>\n",
       "      <th>ShoppingMall</th>\n",
       "      <th>Spa</th>\n",
       "      <th>VRDeck</th>\n",
       "    </tr>\n",
       "  </thead>\n",
       "  <tbody>\n",
       "    <tr>\n",
       "      <th>count</th>\n",
       "      <td>8514.000000</td>\n",
       "      <td>8512.000000</td>\n",
       "      <td>8510.000000</td>\n",
       "      <td>8485.000000</td>\n",
       "      <td>8510.000000</td>\n",
       "      <td>8505.000000</td>\n",
       "    </tr>\n",
       "    <tr>\n",
       "      <th>mean</th>\n",
       "      <td>28.827930</td>\n",
       "      <td>224.687617</td>\n",
       "      <td>458.077203</td>\n",
       "      <td>173.729169</td>\n",
       "      <td>311.138778</td>\n",
       "      <td>304.854791</td>\n",
       "    </tr>\n",
       "    <tr>\n",
       "      <th>std</th>\n",
       "      <td>14.489021</td>\n",
       "      <td>666.717663</td>\n",
       "      <td>1611.489240</td>\n",
       "      <td>604.696458</td>\n",
       "      <td>1136.705535</td>\n",
       "      <td>1145.717189</td>\n",
       "    </tr>\n",
       "    <tr>\n",
       "      <th>min</th>\n",
       "      <td>0.000000</td>\n",
       "      <td>0.000000</td>\n",
       "      <td>0.000000</td>\n",
       "      <td>0.000000</td>\n",
       "      <td>0.000000</td>\n",
       "      <td>0.000000</td>\n",
       "    </tr>\n",
       "    <tr>\n",
       "      <th>25%</th>\n",
       "      <td>19.000000</td>\n",
       "      <td>0.000000</td>\n",
       "      <td>0.000000</td>\n",
       "      <td>0.000000</td>\n",
       "      <td>0.000000</td>\n",
       "      <td>0.000000</td>\n",
       "    </tr>\n",
       "    <tr>\n",
       "      <th>50%</th>\n",
       "      <td>27.000000</td>\n",
       "      <td>0.000000</td>\n",
       "      <td>0.000000</td>\n",
       "      <td>0.000000</td>\n",
       "      <td>0.000000</td>\n",
       "      <td>0.000000</td>\n",
       "    </tr>\n",
       "    <tr>\n",
       "      <th>75%</th>\n",
       "      <td>38.000000</td>\n",
       "      <td>47.000000</td>\n",
       "      <td>76.000000</td>\n",
       "      <td>27.000000</td>\n",
       "      <td>59.000000</td>\n",
       "      <td>46.000000</td>\n",
       "    </tr>\n",
       "    <tr>\n",
       "      <th>max</th>\n",
       "      <td>79.000000</td>\n",
       "      <td>14327.000000</td>\n",
       "      <td>29813.000000</td>\n",
       "      <td>23492.000000</td>\n",
       "      <td>22408.000000</td>\n",
       "      <td>24133.000000</td>\n",
       "    </tr>\n",
       "  </tbody>\n",
       "</table>\n",
       "</div>"
      ],
      "text/plain": [
       "               Age   RoomService     FoodCourt  ShoppingMall           Spa  \\\n",
       "count  8514.000000   8512.000000   8510.000000   8485.000000   8510.000000   \n",
       "mean     28.827930    224.687617    458.077203    173.729169    311.138778   \n",
       "std      14.489021    666.717663   1611.489240    604.696458   1136.705535   \n",
       "min       0.000000      0.000000      0.000000      0.000000      0.000000   \n",
       "25%      19.000000      0.000000      0.000000      0.000000      0.000000   \n",
       "50%      27.000000      0.000000      0.000000      0.000000      0.000000   \n",
       "75%      38.000000     47.000000     76.000000     27.000000     59.000000   \n",
       "max      79.000000  14327.000000  29813.000000  23492.000000  22408.000000   \n",
       "\n",
       "             VRDeck  \n",
       "count   8505.000000  \n",
       "mean     304.854791  \n",
       "std     1145.717189  \n",
       "min        0.000000  \n",
       "25%        0.000000  \n",
       "50%        0.000000  \n",
       "75%       46.000000  \n",
       "max    24133.000000  "
      ]
     },
     "execution_count": 7,
     "metadata": {},
     "output_type": "execute_result"
    }
   ],
   "source": [
    "train.describe()"
   ]
  },
  {
   "cell_type": "markdown",
   "id": "30481136",
   "metadata": {
    "papermill": {
     "duration": 0.077084,
     "end_time": "2022-04-11T06:28:34.071273",
     "exception": false,
     "start_time": "2022-04-11T06:28:33.994189",
     "status": "completed"
    },
    "tags": []
   },
   "source": [
    "-- PassengerId와 종속변수 Transported 제외한 나머지에서는 결측치들이 존재한다.  \n",
    "-- 독립변수는 object와 float 형태의 데이터들의 집합  \n",
    "-- Age를 제외한 수치형 데이터들을 살펴보면 min, 25%, 50% 값이 0이다. (특이점)"
   ]
  },
  {
   "cell_type": "markdown",
   "id": "2c600124",
   "metadata": {
    "papermill": {
     "duration": 0.078162,
     "end_time": "2022-04-11T06:28:34.227298",
     "exception": false,
     "start_time": "2022-04-11T06:28:34.149136",
     "status": "completed"
    },
    "tags": []
   },
   "source": [
    "## Test Data"
   ]
  },
  {
   "cell_type": "code",
   "execution_count": 8,
   "id": "ff1e1041",
   "metadata": {
    "execution": {
     "iopub.execute_input": "2022-04-11T06:28:34.385115Z",
     "iopub.status.busy": "2022-04-11T06:28:34.384538Z",
     "iopub.status.idle": "2022-04-11T06:28:34.402922Z",
     "shell.execute_reply": "2022-04-11T06:28:34.403474Z",
     "shell.execute_reply.started": "2022-04-11T02:37:41.419971Z"
    },
    "papermill": {
     "duration": 0.098521,
     "end_time": "2022-04-11T06:28:34.403634",
     "exception": false,
     "start_time": "2022-04-11T06:28:34.305113",
     "status": "completed"
    },
    "tags": []
   },
   "outputs": [
    {
     "data": {
      "text/html": [
       "<div>\n",
       "<style scoped>\n",
       "    .dataframe tbody tr th:only-of-type {\n",
       "        vertical-align: middle;\n",
       "    }\n",
       "\n",
       "    .dataframe tbody tr th {\n",
       "        vertical-align: top;\n",
       "    }\n",
       "\n",
       "    .dataframe thead th {\n",
       "        text-align: right;\n",
       "    }\n",
       "</style>\n",
       "<table border=\"1\" class=\"dataframe\">\n",
       "  <thead>\n",
       "    <tr style=\"text-align: right;\">\n",
       "      <th></th>\n",
       "      <th>PassengerId</th>\n",
       "      <th>HomePlanet</th>\n",
       "      <th>CryoSleep</th>\n",
       "      <th>Cabin</th>\n",
       "      <th>Destination</th>\n",
       "      <th>Age</th>\n",
       "      <th>VIP</th>\n",
       "      <th>RoomService</th>\n",
       "      <th>FoodCourt</th>\n",
       "      <th>ShoppingMall</th>\n",
       "      <th>Spa</th>\n",
       "      <th>VRDeck</th>\n",
       "      <th>Name</th>\n",
       "    </tr>\n",
       "  </thead>\n",
       "  <tbody>\n",
       "    <tr>\n",
       "      <th>0</th>\n",
       "      <td>0013_01</td>\n",
       "      <td>Earth</td>\n",
       "      <td>True</td>\n",
       "      <td>G/3/S</td>\n",
       "      <td>TRAPPIST-1e</td>\n",
       "      <td>27.0</td>\n",
       "      <td>False</td>\n",
       "      <td>0.0</td>\n",
       "      <td>0.0</td>\n",
       "      <td>0.0</td>\n",
       "      <td>0.0</td>\n",
       "      <td>0.0</td>\n",
       "      <td>Nelly Carsoning</td>\n",
       "    </tr>\n",
       "    <tr>\n",
       "      <th>1</th>\n",
       "      <td>0018_01</td>\n",
       "      <td>Earth</td>\n",
       "      <td>False</td>\n",
       "      <td>F/4/S</td>\n",
       "      <td>TRAPPIST-1e</td>\n",
       "      <td>19.0</td>\n",
       "      <td>False</td>\n",
       "      <td>0.0</td>\n",
       "      <td>9.0</td>\n",
       "      <td>0.0</td>\n",
       "      <td>2823.0</td>\n",
       "      <td>0.0</td>\n",
       "      <td>Lerome Peckers</td>\n",
       "    </tr>\n",
       "    <tr>\n",
       "      <th>2</th>\n",
       "      <td>0019_01</td>\n",
       "      <td>Europa</td>\n",
       "      <td>True</td>\n",
       "      <td>C/0/S</td>\n",
       "      <td>55 Cancri e</td>\n",
       "      <td>31.0</td>\n",
       "      <td>False</td>\n",
       "      <td>0.0</td>\n",
       "      <td>0.0</td>\n",
       "      <td>0.0</td>\n",
       "      <td>0.0</td>\n",
       "      <td>0.0</td>\n",
       "      <td>Sabih Unhearfus</td>\n",
       "    </tr>\n",
       "    <tr>\n",
       "      <th>3</th>\n",
       "      <td>0021_01</td>\n",
       "      <td>Europa</td>\n",
       "      <td>False</td>\n",
       "      <td>C/1/S</td>\n",
       "      <td>TRAPPIST-1e</td>\n",
       "      <td>38.0</td>\n",
       "      <td>False</td>\n",
       "      <td>0.0</td>\n",
       "      <td>6652.0</td>\n",
       "      <td>0.0</td>\n",
       "      <td>181.0</td>\n",
       "      <td>585.0</td>\n",
       "      <td>Meratz Caltilter</td>\n",
       "    </tr>\n",
       "    <tr>\n",
       "      <th>4</th>\n",
       "      <td>0023_01</td>\n",
       "      <td>Earth</td>\n",
       "      <td>False</td>\n",
       "      <td>F/5/S</td>\n",
       "      <td>TRAPPIST-1e</td>\n",
       "      <td>20.0</td>\n",
       "      <td>False</td>\n",
       "      <td>10.0</td>\n",
       "      <td>0.0</td>\n",
       "      <td>635.0</td>\n",
       "      <td>0.0</td>\n",
       "      <td>0.0</td>\n",
       "      <td>Brence Harperez</td>\n",
       "    </tr>\n",
       "  </tbody>\n",
       "</table>\n",
       "</div>"
      ],
      "text/plain": [
       "  PassengerId HomePlanet CryoSleep  Cabin  Destination   Age    VIP  \\\n",
       "0     0013_01      Earth      True  G/3/S  TRAPPIST-1e  27.0  False   \n",
       "1     0018_01      Earth     False  F/4/S  TRAPPIST-1e  19.0  False   \n",
       "2     0019_01     Europa      True  C/0/S  55 Cancri e  31.0  False   \n",
       "3     0021_01     Europa     False  C/1/S  TRAPPIST-1e  38.0  False   \n",
       "4     0023_01      Earth     False  F/5/S  TRAPPIST-1e  20.0  False   \n",
       "\n",
       "   RoomService  FoodCourt  ShoppingMall     Spa  VRDeck              Name  \n",
       "0          0.0        0.0           0.0     0.0     0.0   Nelly Carsoning  \n",
       "1          0.0        9.0           0.0  2823.0     0.0    Lerome Peckers  \n",
       "2          0.0        0.0           0.0     0.0     0.0   Sabih Unhearfus  \n",
       "3          0.0     6652.0           0.0   181.0   585.0  Meratz Caltilter  \n",
       "4         10.0        0.0         635.0     0.0     0.0   Brence Harperez  "
      ]
     },
     "execution_count": 8,
     "metadata": {},
     "output_type": "execute_result"
    }
   ],
   "source": [
    "test.head()"
   ]
  },
  {
   "cell_type": "code",
   "execution_count": 9,
   "id": "1901178b",
   "metadata": {
    "execution": {
     "iopub.execute_input": "2022-04-11T06:28:34.567489Z",
     "iopub.status.busy": "2022-04-11T06:28:34.566513Z",
     "iopub.status.idle": "2022-04-11T06:28:34.580421Z",
     "shell.execute_reply": "2022-04-11T06:28:34.580943Z",
     "shell.execute_reply.started": "2022-04-11T02:37:41.441138Z"
    },
    "papermill": {
     "duration": 0.097898,
     "end_time": "2022-04-11T06:28:34.581131",
     "exception": false,
     "start_time": "2022-04-11T06:28:34.483233",
     "status": "completed"
    },
    "tags": []
   },
   "outputs": [
    {
     "name": "stdout",
     "output_type": "stream",
     "text": [
      "<class 'pandas.core.frame.DataFrame'>\n",
      "RangeIndex: 4277 entries, 0 to 4276\n",
      "Data columns (total 13 columns):\n",
      " #   Column        Non-Null Count  Dtype  \n",
      "---  ------        --------------  -----  \n",
      " 0   PassengerId   4277 non-null   object \n",
      " 1   HomePlanet    4190 non-null   object \n",
      " 2   CryoSleep     4184 non-null   object \n",
      " 3   Cabin         4177 non-null   object \n",
      " 4   Destination   4185 non-null   object \n",
      " 5   Age           4186 non-null   float64\n",
      " 6   VIP           4184 non-null   object \n",
      " 7   RoomService   4195 non-null   float64\n",
      " 8   FoodCourt     4171 non-null   float64\n",
      " 9   ShoppingMall  4179 non-null   float64\n",
      " 10  Spa           4176 non-null   float64\n",
      " 11  VRDeck        4197 non-null   float64\n",
      " 12  Name          4183 non-null   object \n",
      "dtypes: float64(6), object(7)\n",
      "memory usage: 434.5+ KB\n"
     ]
    }
   ],
   "source": [
    "test.info()"
   ]
  },
  {
   "cell_type": "code",
   "execution_count": 10,
   "id": "a6faf22e",
   "metadata": {
    "execution": {
     "iopub.execute_input": "2022-04-11T06:28:34.744265Z",
     "iopub.status.busy": "2022-04-11T06:28:34.743623Z",
     "iopub.status.idle": "2022-04-11T06:28:34.753529Z",
     "shell.execute_reply": "2022-04-11T06:28:34.754039Z",
     "shell.execute_reply.started": "2022-04-11T02:37:41.459611Z"
    },
    "papermill": {
     "duration": 0.093108,
     "end_time": "2022-04-11T06:28:34.754210",
     "exception": false,
     "start_time": "2022-04-11T06:28:34.661102",
     "status": "completed"
    },
    "tags": []
   },
   "outputs": [
    {
     "data": {
      "text/plain": [
       "PassengerId       0\n",
       "HomePlanet       87\n",
       "CryoSleep        93\n",
       "Cabin           100\n",
       "Destination      92\n",
       "Age              91\n",
       "VIP              93\n",
       "RoomService      82\n",
       "FoodCourt       106\n",
       "ShoppingMall     98\n",
       "Spa             101\n",
       "VRDeck           80\n",
       "Name             94\n",
       "dtype: int64"
      ]
     },
     "execution_count": 10,
     "metadata": {},
     "output_type": "execute_result"
    }
   ],
   "source": [
    "test.isna().sum()"
   ]
  },
  {
   "cell_type": "code",
   "execution_count": 11,
   "id": "1440a89e",
   "metadata": {
    "execution": {
     "iopub.execute_input": "2022-04-11T06:28:34.917445Z",
     "iopub.status.busy": "2022-04-11T06:28:34.916799Z",
     "iopub.status.idle": "2022-04-11T06:28:34.941654Z",
     "shell.execute_reply": "2022-04-11T06:28:34.942146Z",
     "shell.execute_reply.started": "2022-04-11T02:37:41.472008Z"
    },
    "papermill": {
     "duration": 0.107896,
     "end_time": "2022-04-11T06:28:34.942314",
     "exception": false,
     "start_time": "2022-04-11T06:28:34.834418",
     "status": "completed"
    },
    "tags": []
   },
   "outputs": [
    {
     "data": {
      "text/html": [
       "<div>\n",
       "<style scoped>\n",
       "    .dataframe tbody tr th:only-of-type {\n",
       "        vertical-align: middle;\n",
       "    }\n",
       "\n",
       "    .dataframe tbody tr th {\n",
       "        vertical-align: top;\n",
       "    }\n",
       "\n",
       "    .dataframe thead th {\n",
       "        text-align: right;\n",
       "    }\n",
       "</style>\n",
       "<table border=\"1\" class=\"dataframe\">\n",
       "  <thead>\n",
       "    <tr style=\"text-align: right;\">\n",
       "      <th></th>\n",
       "      <th>Age</th>\n",
       "      <th>RoomService</th>\n",
       "      <th>FoodCourt</th>\n",
       "      <th>ShoppingMall</th>\n",
       "      <th>Spa</th>\n",
       "      <th>VRDeck</th>\n",
       "    </tr>\n",
       "  </thead>\n",
       "  <tbody>\n",
       "    <tr>\n",
       "      <th>count</th>\n",
       "      <td>4186.000000</td>\n",
       "      <td>4195.000000</td>\n",
       "      <td>4171.000000</td>\n",
       "      <td>4179.000000</td>\n",
       "      <td>4176.000000</td>\n",
       "      <td>4197.000000</td>\n",
       "    </tr>\n",
       "    <tr>\n",
       "      <th>mean</th>\n",
       "      <td>28.658146</td>\n",
       "      <td>219.266269</td>\n",
       "      <td>439.484296</td>\n",
       "      <td>177.295525</td>\n",
       "      <td>303.052443</td>\n",
       "      <td>310.710031</td>\n",
       "    </tr>\n",
       "    <tr>\n",
       "      <th>std</th>\n",
       "      <td>14.179072</td>\n",
       "      <td>607.011289</td>\n",
       "      <td>1527.663045</td>\n",
       "      <td>560.821123</td>\n",
       "      <td>1117.186015</td>\n",
       "      <td>1246.994742</td>\n",
       "    </tr>\n",
       "    <tr>\n",
       "      <th>min</th>\n",
       "      <td>0.000000</td>\n",
       "      <td>0.000000</td>\n",
       "      <td>0.000000</td>\n",
       "      <td>0.000000</td>\n",
       "      <td>0.000000</td>\n",
       "      <td>0.000000</td>\n",
       "    </tr>\n",
       "    <tr>\n",
       "      <th>25%</th>\n",
       "      <td>19.000000</td>\n",
       "      <td>0.000000</td>\n",
       "      <td>0.000000</td>\n",
       "      <td>0.000000</td>\n",
       "      <td>0.000000</td>\n",
       "      <td>0.000000</td>\n",
       "    </tr>\n",
       "    <tr>\n",
       "      <th>50%</th>\n",
       "      <td>26.000000</td>\n",
       "      <td>0.000000</td>\n",
       "      <td>0.000000</td>\n",
       "      <td>0.000000</td>\n",
       "      <td>0.000000</td>\n",
       "      <td>0.000000</td>\n",
       "    </tr>\n",
       "    <tr>\n",
       "      <th>75%</th>\n",
       "      <td>37.000000</td>\n",
       "      <td>53.000000</td>\n",
       "      <td>78.000000</td>\n",
       "      <td>33.000000</td>\n",
       "      <td>50.000000</td>\n",
       "      <td>36.000000</td>\n",
       "    </tr>\n",
       "    <tr>\n",
       "      <th>max</th>\n",
       "      <td>79.000000</td>\n",
       "      <td>11567.000000</td>\n",
       "      <td>25273.000000</td>\n",
       "      <td>8292.000000</td>\n",
       "      <td>19844.000000</td>\n",
       "      <td>22272.000000</td>\n",
       "    </tr>\n",
       "  </tbody>\n",
       "</table>\n",
       "</div>"
      ],
      "text/plain": [
       "               Age   RoomService     FoodCourt  ShoppingMall           Spa  \\\n",
       "count  4186.000000   4195.000000   4171.000000   4179.000000   4176.000000   \n",
       "mean     28.658146    219.266269    439.484296    177.295525    303.052443   \n",
       "std      14.179072    607.011289   1527.663045    560.821123   1117.186015   \n",
       "min       0.000000      0.000000      0.000000      0.000000      0.000000   \n",
       "25%      19.000000      0.000000      0.000000      0.000000      0.000000   \n",
       "50%      26.000000      0.000000      0.000000      0.000000      0.000000   \n",
       "75%      37.000000     53.000000     78.000000     33.000000     50.000000   \n",
       "max      79.000000  11567.000000  25273.000000   8292.000000  19844.000000   \n",
       "\n",
       "             VRDeck  \n",
       "count   4197.000000  \n",
       "mean     310.710031  \n",
       "std     1246.994742  \n",
       "min        0.000000  \n",
       "25%        0.000000  \n",
       "50%        0.000000  \n",
       "75%       36.000000  \n",
       "max    22272.000000  "
      ]
     },
     "execution_count": 11,
     "metadata": {},
     "output_type": "execute_result"
    }
   ],
   "source": [
    "test.describe()"
   ]
  },
  {
   "cell_type": "markdown",
   "id": "27e2cbd0",
   "metadata": {
    "papermill": {
     "duration": 0.07943,
     "end_time": "2022-04-11T06:28:35.102149",
     "exception": false,
     "start_time": "2022-04-11T06:28:35.022719",
     "status": "completed"
    },
    "tags": []
   },
   "source": [
    "-- 훈련 데이터와 같은 형태이다.  \n",
    "-- 종속 변수는 Transported"
   ]
  },
  {
   "cell_type": "markdown",
   "id": "205f83b7",
   "metadata": {
    "papermill": {
     "duration": 0.080174,
     "end_time": "2022-04-11T06:28:35.261933",
     "exception": false,
     "start_time": "2022-04-11T06:28:35.181759",
     "status": "completed"
    },
    "tags": []
   },
   "source": [
    "# EDA"
   ]
  },
  {
   "cell_type": "markdown",
   "id": "94c46d6a",
   "metadata": {
    "papermill": {
     "duration": 0.079532,
     "end_time": "2022-04-11T06:28:35.420643",
     "exception": false,
     "start_time": "2022-04-11T06:28:35.341111",
     "status": "completed"
    },
    "tags": []
   },
   "source": [
    "**<span style=\"color:#4527A0;\"> 데이터 특성 분석 </span>**\n",
    "- PassengerId : 승객 아이디 ( 그룹 넘버 - 그룹 내 승객 번호) \n",
    "- HomePlanet : 승객이 출발한 행성\n",
    "- CryoSleep : 승객이 항해 기간 동안 애니메이션을 일시 중단하도록 선택했는지 여부를 나타냅니다.\n",
    "- Cabin : 객실\n",
    "- Destination : 승객이 도착한 행성\n",
    "- Age : 나이\n",
    "- VIP : VIP 해당 여부\n",
    "- RoomService ~ VRDeck : 유흥비 \n",
    "- Name : 이름\n",
    "- Transported : target"
   ]
  },
  {
   "cell_type": "markdown",
   "id": "c13dd720",
   "metadata": {
    "papermill": {
     "duration": 0.079311,
     "end_time": "2022-04-11T06:28:35.579605",
     "exception": false,
     "start_time": "2022-04-11T06:28:35.500294",
     "status": "completed"
    },
    "tags": []
   },
   "source": [
    "- 행성 출발지(**HomePlanet**)와 행성 도착치(**Destination**)의 비율을 알아본다."
   ]
  },
  {
   "cell_type": "code",
   "execution_count": 12,
   "id": "fbb484c7",
   "metadata": {
    "execution": {
     "iopub.execute_input": "2022-04-11T06:28:35.742304Z",
     "iopub.status.busy": "2022-04-11T06:28:35.741382Z",
     "iopub.status.idle": "2022-04-11T06:28:36.145563Z",
     "shell.execute_reply": "2022-04-11T06:28:36.146007Z",
     "shell.execute_reply.started": "2022-04-11T02:37:41.500112Z"
    },
    "papermill": {
     "duration": 0.487922,
     "end_time": "2022-04-11T06:28:36.146190",
     "exception": false,
     "start_time": "2022-04-11T06:28:35.658268",
     "status": "completed"
    },
    "tags": []
   },
   "outputs": [
    {
     "data": {
      "text/html": [
       "        <script type=\"text/javascript\">\n",
       "        window.PlotlyConfig = {MathJaxConfig: 'local'};\n",
       "        if (window.MathJax) {MathJax.Hub.Config({SVG: {font: \"STIX-Web\"}});}\n",
       "        if (typeof require !== 'undefined') {\n",
       "        require.undef(\"plotly\");\n",
       "        requirejs.config({\n",
       "            paths: {\n",
       "                'plotly': ['https://cdn.plot.ly/plotly-2.9.0.min']\n",
       "            }\n",
       "        });\n",
       "        require(['plotly'], function(Plotly) {\n",
       "            window._Plotly = Plotly;\n",
       "        });\n",
       "        }\n",
       "        </script>\n",
       "        "
      ]
     },
     "metadata": {},
     "output_type": "display_data"
    },
    {
     "data": {
      "text/html": [
       "<div>                            <div id=\"b769bc2e-90e8-4b41-80a0-a253d4dbbaeb\" class=\"plotly-graph-div\" style=\"height:525px; width:100%;\"></div>            <script type=\"text/javascript\">                require([\"plotly\"], function(Plotly) {                    window.PLOTLYENV=window.PLOTLYENV || {};                                    if (document.getElementById(\"b769bc2e-90e8-4b41-80a0-a253d4dbbaeb\")) {                    Plotly.newPlot(                        \"b769bc2e-90e8-4b41-80a0-a253d4dbbaeb\",                        [{\"marker\":{\"size\":[4602,2131,1759],\"sizemode\":\"diameter\",\"sizeref\":25},\"mode\":\"markers\",\"name\":\"HomePlanet\",\"x\":[\"Earth\",\"Europa\",\"Mars\"],\"y\":[4602,2131,1759],\"type\":\"scatter\",\"xaxis\":\"x\",\"yaxis\":\"y\"},{\"marker\":{\"size\":[5915,1800,796],\"sizemode\":\"diameter\",\"sizeref\":25},\"mode\":\"markers\",\"name\":\"Destination\",\"x\":[\"TRAPPIST-1e\",\"55 Cancri e\",\"PSO J318.5-22\"],\"y\":[5915,1800,796],\"type\":\"scatter\",\"xaxis\":\"x2\",\"yaxis\":\"y2\"}],                        {\"template\":{\"data\":{\"bar\":[{\"error_x\":{\"color\":\"#2a3f5f\"},\"error_y\":{\"color\":\"#2a3f5f\"},\"marker\":{\"line\":{\"color\":\"#E5ECF6\",\"width\":0.5},\"pattern\":{\"fillmode\":\"overlay\",\"size\":10,\"solidity\":0.2}},\"type\":\"bar\"}],\"barpolar\":[{\"marker\":{\"line\":{\"color\":\"#E5ECF6\",\"width\":0.5},\"pattern\":{\"fillmode\":\"overlay\",\"size\":10,\"solidity\":0.2}},\"type\":\"barpolar\"}],\"carpet\":[{\"aaxis\":{\"endlinecolor\":\"#2a3f5f\",\"gridcolor\":\"white\",\"linecolor\":\"white\",\"minorgridcolor\":\"white\",\"startlinecolor\":\"#2a3f5f\"},\"baxis\":{\"endlinecolor\":\"#2a3f5f\",\"gridcolor\":\"white\",\"linecolor\":\"white\",\"minorgridcolor\":\"white\",\"startlinecolor\":\"#2a3f5f\"},\"type\":\"carpet\"}],\"choropleth\":[{\"colorbar\":{\"outlinewidth\":0,\"ticks\":\"\"},\"type\":\"choropleth\"}],\"contour\":[{\"colorbar\":{\"outlinewidth\":0,\"ticks\":\"\"},\"colorscale\":[[0.0,\"#0d0887\"],[0.1111111111111111,\"#46039f\"],[0.2222222222222222,\"#7201a8\"],[0.3333333333333333,\"#9c179e\"],[0.4444444444444444,\"#bd3786\"],[0.5555555555555556,\"#d8576b\"],[0.6666666666666666,\"#ed7953\"],[0.7777777777777778,\"#fb9f3a\"],[0.8888888888888888,\"#fdca26\"],[1.0,\"#f0f921\"]],\"type\":\"contour\"}],\"contourcarpet\":[{\"colorbar\":{\"outlinewidth\":0,\"ticks\":\"\"},\"type\":\"contourcarpet\"}],\"heatmap\":[{\"colorbar\":{\"outlinewidth\":0,\"ticks\":\"\"},\"colorscale\":[[0.0,\"#0d0887\"],[0.1111111111111111,\"#46039f\"],[0.2222222222222222,\"#7201a8\"],[0.3333333333333333,\"#9c179e\"],[0.4444444444444444,\"#bd3786\"],[0.5555555555555556,\"#d8576b\"],[0.6666666666666666,\"#ed7953\"],[0.7777777777777778,\"#fb9f3a\"],[0.8888888888888888,\"#fdca26\"],[1.0,\"#f0f921\"]],\"type\":\"heatmap\"}],\"heatmapgl\":[{\"colorbar\":{\"outlinewidth\":0,\"ticks\":\"\"},\"colorscale\":[[0.0,\"#0d0887\"],[0.1111111111111111,\"#46039f\"],[0.2222222222222222,\"#7201a8\"],[0.3333333333333333,\"#9c179e\"],[0.4444444444444444,\"#bd3786\"],[0.5555555555555556,\"#d8576b\"],[0.6666666666666666,\"#ed7953\"],[0.7777777777777778,\"#fb9f3a\"],[0.8888888888888888,\"#fdca26\"],[1.0,\"#f0f921\"]],\"type\":\"heatmapgl\"}],\"histogram\":[{\"marker\":{\"pattern\":{\"fillmode\":\"overlay\",\"size\":10,\"solidity\":0.2}},\"type\":\"histogram\"}],\"histogram2d\":[{\"colorbar\":{\"outlinewidth\":0,\"ticks\":\"\"},\"colorscale\":[[0.0,\"#0d0887\"],[0.1111111111111111,\"#46039f\"],[0.2222222222222222,\"#7201a8\"],[0.3333333333333333,\"#9c179e\"],[0.4444444444444444,\"#bd3786\"],[0.5555555555555556,\"#d8576b\"],[0.6666666666666666,\"#ed7953\"],[0.7777777777777778,\"#fb9f3a\"],[0.8888888888888888,\"#fdca26\"],[1.0,\"#f0f921\"]],\"type\":\"histogram2d\"}],\"histogram2dcontour\":[{\"colorbar\":{\"outlinewidth\":0,\"ticks\":\"\"},\"colorscale\":[[0.0,\"#0d0887\"],[0.1111111111111111,\"#46039f\"],[0.2222222222222222,\"#7201a8\"],[0.3333333333333333,\"#9c179e\"],[0.4444444444444444,\"#bd3786\"],[0.5555555555555556,\"#d8576b\"],[0.6666666666666666,\"#ed7953\"],[0.7777777777777778,\"#fb9f3a\"],[0.8888888888888888,\"#fdca26\"],[1.0,\"#f0f921\"]],\"type\":\"histogram2dcontour\"}],\"mesh3d\":[{\"colorbar\":{\"outlinewidth\":0,\"ticks\":\"\"},\"type\":\"mesh3d\"}],\"parcoords\":[{\"line\":{\"colorbar\":{\"outlinewidth\":0,\"ticks\":\"\"}},\"type\":\"parcoords\"}],\"pie\":[{\"automargin\":true,\"type\":\"pie\"}],\"scatter\":[{\"marker\":{\"colorbar\":{\"outlinewidth\":0,\"ticks\":\"\"}},\"type\":\"scatter\"}],\"scatter3d\":[{\"line\":{\"colorbar\":{\"outlinewidth\":0,\"ticks\":\"\"}},\"marker\":{\"colorbar\":{\"outlinewidth\":0,\"ticks\":\"\"}},\"type\":\"scatter3d\"}],\"scattercarpet\":[{\"marker\":{\"colorbar\":{\"outlinewidth\":0,\"ticks\":\"\"}},\"type\":\"scattercarpet\"}],\"scattergeo\":[{\"marker\":{\"colorbar\":{\"outlinewidth\":0,\"ticks\":\"\"}},\"type\":\"scattergeo\"}],\"scattergl\":[{\"marker\":{\"colorbar\":{\"outlinewidth\":0,\"ticks\":\"\"}},\"type\":\"scattergl\"}],\"scattermapbox\":[{\"marker\":{\"colorbar\":{\"outlinewidth\":0,\"ticks\":\"\"}},\"type\":\"scattermapbox\"}],\"scatterpolar\":[{\"marker\":{\"colorbar\":{\"outlinewidth\":0,\"ticks\":\"\"}},\"type\":\"scatterpolar\"}],\"scatterpolargl\":[{\"marker\":{\"colorbar\":{\"outlinewidth\":0,\"ticks\":\"\"}},\"type\":\"scatterpolargl\"}],\"scatterternary\":[{\"marker\":{\"colorbar\":{\"outlinewidth\":0,\"ticks\":\"\"}},\"type\":\"scatterternary\"}],\"surface\":[{\"colorbar\":{\"outlinewidth\":0,\"ticks\":\"\"},\"colorscale\":[[0.0,\"#0d0887\"],[0.1111111111111111,\"#46039f\"],[0.2222222222222222,\"#7201a8\"],[0.3333333333333333,\"#9c179e\"],[0.4444444444444444,\"#bd3786\"],[0.5555555555555556,\"#d8576b\"],[0.6666666666666666,\"#ed7953\"],[0.7777777777777778,\"#fb9f3a\"],[0.8888888888888888,\"#fdca26\"],[1.0,\"#f0f921\"]],\"type\":\"surface\"}],\"table\":[{\"cells\":{\"fill\":{\"color\":\"#EBF0F8\"},\"line\":{\"color\":\"white\"}},\"header\":{\"fill\":{\"color\":\"#C8D4E3\"},\"line\":{\"color\":\"white\"}},\"type\":\"table\"}]},\"layout\":{\"annotationdefaults\":{\"arrowcolor\":\"#2a3f5f\",\"arrowhead\":0,\"arrowwidth\":1},\"autotypenumbers\":\"strict\",\"coloraxis\":{\"colorbar\":{\"outlinewidth\":0,\"ticks\":\"\"}},\"colorscale\":{\"diverging\":[[0,\"#8e0152\"],[0.1,\"#c51b7d\"],[0.2,\"#de77ae\"],[0.3,\"#f1b6da\"],[0.4,\"#fde0ef\"],[0.5,\"#f7f7f7\"],[0.6,\"#e6f5d0\"],[0.7,\"#b8e186\"],[0.8,\"#7fbc41\"],[0.9,\"#4d9221\"],[1,\"#276419\"]],\"sequential\":[[0.0,\"#0d0887\"],[0.1111111111111111,\"#46039f\"],[0.2222222222222222,\"#7201a8\"],[0.3333333333333333,\"#9c179e\"],[0.4444444444444444,\"#bd3786\"],[0.5555555555555556,\"#d8576b\"],[0.6666666666666666,\"#ed7953\"],[0.7777777777777778,\"#fb9f3a\"],[0.8888888888888888,\"#fdca26\"],[1.0,\"#f0f921\"]],\"sequentialminus\":[[0.0,\"#0d0887\"],[0.1111111111111111,\"#46039f\"],[0.2222222222222222,\"#7201a8\"],[0.3333333333333333,\"#9c179e\"],[0.4444444444444444,\"#bd3786\"],[0.5555555555555556,\"#d8576b\"],[0.6666666666666666,\"#ed7953\"],[0.7777777777777778,\"#fb9f3a\"],[0.8888888888888888,\"#fdca26\"],[1.0,\"#f0f921\"]]},\"colorway\":[\"#636efa\",\"#EF553B\",\"#00cc96\",\"#ab63fa\",\"#FFA15A\",\"#19d3f3\",\"#FF6692\",\"#B6E880\",\"#FF97FF\",\"#FECB52\"],\"font\":{\"color\":\"#2a3f5f\"},\"geo\":{\"bgcolor\":\"white\",\"lakecolor\":\"white\",\"landcolor\":\"#E5ECF6\",\"showlakes\":true,\"showland\":true,\"subunitcolor\":\"white\"},\"hoverlabel\":{\"align\":\"left\"},\"hovermode\":\"closest\",\"mapbox\":{\"style\":\"light\"},\"paper_bgcolor\":\"white\",\"plot_bgcolor\":\"#E5ECF6\",\"polar\":{\"angularaxis\":{\"gridcolor\":\"white\",\"linecolor\":\"white\",\"ticks\":\"\"},\"bgcolor\":\"#E5ECF6\",\"radialaxis\":{\"gridcolor\":\"white\",\"linecolor\":\"white\",\"ticks\":\"\"}},\"scene\":{\"xaxis\":{\"backgroundcolor\":\"#E5ECF6\",\"gridcolor\":\"white\",\"gridwidth\":2,\"linecolor\":\"white\",\"showbackground\":true,\"ticks\":\"\",\"zerolinecolor\":\"white\"},\"yaxis\":{\"backgroundcolor\":\"#E5ECF6\",\"gridcolor\":\"white\",\"gridwidth\":2,\"linecolor\":\"white\",\"showbackground\":true,\"ticks\":\"\",\"zerolinecolor\":\"white\"},\"zaxis\":{\"backgroundcolor\":\"#E5ECF6\",\"gridcolor\":\"white\",\"gridwidth\":2,\"linecolor\":\"white\",\"showbackground\":true,\"ticks\":\"\",\"zerolinecolor\":\"white\"}},\"shapedefaults\":{\"line\":{\"color\":\"#2a3f5f\"}},\"ternary\":{\"aaxis\":{\"gridcolor\":\"white\",\"linecolor\":\"white\",\"ticks\":\"\"},\"baxis\":{\"gridcolor\":\"white\",\"linecolor\":\"white\",\"ticks\":\"\"},\"bgcolor\":\"#E5ECF6\",\"caxis\":{\"gridcolor\":\"white\",\"linecolor\":\"white\",\"ticks\":\"\"}},\"title\":{\"x\":0.05},\"xaxis\":{\"automargin\":true,\"gridcolor\":\"white\",\"linecolor\":\"white\",\"ticks\":\"\",\"title\":{\"standoff\":15},\"zerolinecolor\":\"white\",\"zerolinewidth\":2},\"yaxis\":{\"automargin\":true,\"gridcolor\":\"white\",\"linecolor\":\"white\",\"ticks\":\"\",\"title\":{\"standoff\":15},\"zerolinecolor\":\"white\",\"zerolinewidth\":2}}},\"xaxis\":{\"anchor\":\"y\",\"domain\":[0.0,0.45]},\"yaxis\":{\"anchor\":\"x\",\"domain\":[0.0,1.0]},\"xaxis2\":{\"anchor\":\"y2\",\"domain\":[0.55,1.0]},\"yaxis2\":{\"anchor\":\"x2\",\"domain\":[0.0,1.0],\"matches\":\"y\",\"showticklabels\":false},\"title\":{\"text\":\"<b>Planets</b>\",\"x\":0.5,\"font\":{\"size\":20,\"color\":\"black\",\"family\":\"Space Mono\"}},\"plot_bgcolor\":\"rgba(0,0,0,0)\"},                        {\"responsive\": true}                    ).then(function(){\n",
       "                            \n",
       "var gd = document.getElementById('b769bc2e-90e8-4b41-80a0-a253d4dbbaeb');\n",
       "var x = new MutationObserver(function (mutations, observer) {{\n",
       "        var display = window.getComputedStyle(gd).display;\n",
       "        if (!display || display === 'none') {{\n",
       "            console.log([gd, 'removed!']);\n",
       "            Plotly.purge(gd);\n",
       "            observer.disconnect();\n",
       "        }}\n",
       "}});\n",
       "\n",
       "// Listen for the removal of the full notebook cells\n",
       "var notebookContainer = gd.closest('#notebook-container');\n",
       "if (notebookContainer) {{\n",
       "    x.observe(notebookContainer, {childList: true});\n",
       "}}\n",
       "\n",
       "// Listen for the clearing of the current output cell\n",
       "var outputEl = gd.closest('.output');\n",
       "if (outputEl) {{\n",
       "    x.observe(outputEl, {childList: true});\n",
       "}}\n",
       "\n",
       "                        })                };                });            </script>        </div>"
      ]
     },
     "metadata": {},
     "output_type": "display_data"
    }
   ],
   "source": [
    "from plotly.subplots import make_subplots\n",
    "\n",
    "fig = make_subplots(rows=1, cols=2,shared_yaxes=True)\n",
    "    \n",
    "fig.add_trace(go.Scatter( x=train['HomePlanet'].value_counts().index, y=train['HomePlanet'].value_counts().values,\n",
    "                         mode='markers',name = 'HomePlanet',\n",
    "        marker=dict(\n",
    "            sizemode = 'diameter',\n",
    "            sizeref = 25,\n",
    "            size = train['HomePlanet'].value_counts().values)),1,1)\n",
    "    \n",
    "fig.add_trace(go.Scatter( x=train['Destination'].value_counts().index, y=train['Destination'].value_counts().values,\n",
    "                         mode='markers', name = 'Destination',\n",
    "        marker=dict(\n",
    "            sizemode = 'diameter',\n",
    "            sizeref = 25,\n",
    "            size = train['Destination'].value_counts().values)),1,2)\n",
    "\n",
    "\n",
    "fig.update_layout(    title='<b>Planets</b>', \n",
    "        title_x=0.5,\n",
    "        titlefont=dict(size =20, color='black', family='Space Mono'),\n",
    "        plot_bgcolor='rgba(0,0,0,0)' )\n",
    "fig.show()"
   ]
  },
  {
   "cell_type": "markdown",
   "id": "17901404",
   "metadata": {
    "papermill": {
     "duration": 0.081373,
     "end_time": "2022-04-11T06:28:36.309475",
     "exception": false,
     "start_time": "2022-04-11T06:28:36.228102",
     "status": "completed"
    },
    "tags": []
   },
   "source": [
    "-- Scatter 사용  \n",
    "-- HomePlanet : Earth > Europa > Mars  \n",
    "-- Destination : TRAPPIST-1e > Cancri e > PSO J318.5-22  \n",
    "\n",
    "출발지는 **Earth**가 제일 많고 도착지는 **TRAPPIST-1e**가 압도적으로 많다."
   ]
  },
  {
   "cell_type": "markdown",
   "id": "bc4698f5",
   "metadata": {
    "papermill": {
     "duration": 0.080479,
     "end_time": "2022-04-11T06:28:36.470428",
     "exception": false,
     "start_time": "2022-04-11T06:28:36.389949",
     "status": "completed"
    },
    "tags": []
   },
   "source": [
    "- **CryoSleep**에 따른 **Transported** 여부"
   ]
  },
  {
   "cell_type": "code",
   "execution_count": 13,
   "id": "07fd9357",
   "metadata": {
    "execution": {
     "iopub.execute_input": "2022-04-11T06:28:36.637337Z",
     "iopub.status.busy": "2022-04-11T06:28:36.636704Z",
     "iopub.status.idle": "2022-04-11T06:28:36.770129Z",
     "shell.execute_reply": "2022-04-11T06:28:36.770619Z",
     "shell.execute_reply.started": "2022-04-11T02:37:41.896645Z"
    },
    "papermill": {
     "duration": 0.217329,
     "end_time": "2022-04-11T06:28:36.770779",
     "exception": false,
     "start_time": "2022-04-11T06:28:36.553450",
     "status": "completed"
    },
    "tags": []
   },
   "outputs": [
    {
     "data": {
      "text/html": [
       "<div>                            <div id=\"3263a6c0-d11f-44b5-8b21-9597db66d59d\" class=\"plotly-graph-div\" style=\"height:525px; width:100%;\"></div>            <script type=\"text/javascript\">                require([\"plotly\"], function(Plotly) {                    window.PLOTLYENV=window.PLOTLYENV || {};                                    if (document.getElementById(\"3263a6c0-d11f-44b5-8b21-9597db66d59d\")) {                    Plotly.newPlot(                        \"3263a6c0-d11f-44b5-8b21-9597db66d59d\",                        [{\"labels\":[false,false,false,false,false,false,false,true,false,true,true,false,false,false,false,false,false,false,true,false,false,true,true,true,false,true,false,false,true,false,false,false,false,false,false,false,true,false,false,false,true,true,false,true,true,true,false,true,false,false,false,false,false,true,false,true,false,false,true,true,false,true,false,false,false,false,false,false,false,false,false,false,false,false,true,false,true,false,false,true,false,true,true,true,false,false,true,true,false,false,false,false,null,true,false,false,true,true,null,false,true,false,false,false,null,false,true,true,false,false,false,null,false,false,true,true,false,false,true,false,false,false,true,true,false,false,false,true,false,true,true,false,false,false,false,true,false,true,true,false,false,true,true,false,true,true,true,false,true,false,true,true,null,false,false,false,false,false,false,false,true,false,false,true,false,true,true,false,false,true,false,false,false,false,false,null,true,true,true,true,true,false,true,false,false,true,true,false,true,false,false,false,false,false,false,true,true,false,true,false,false,false,true,false,false,false,true,false,false,true,false,true,true,false,false,true,false,false,true,false,false,true,false,true,null,false,true,true,true,false,false,false,false,true,true,false,false,false,true,false,true,false,false,false,true,true,false,false,false,true,false,false,false,false,false,true,false,true,true,false,true,false,false,true,false,true,null,false,false,true,false,true,true,false,true,false,false,false,false,false,false,false,true,false,false,false,true,false,true,false,false,false,true,true,true,false,false,false,false,false,true,false,false,true,false,false,true,true,true,false,true,true,false,false,null,true,false,true,true,false,true,true,false,false,false,false,false,true,false,false,true,false,true,false,false,false,false,true,false,true,true,false,true,false,true,true,true,false,false,true,false,false,false,true,true,false,false,false,false,false,true,true,false,false,false,true,false,false,false,false,true,false,false,false,false,false,false,true,true,false,true,false,false,true,true,false,false,false,true,false,true,false,null,false,true,true,false,false,false,false,true,false,false,false,false,false,false,false,true,false,false,true,true,true,true,true,true,null,true,true,false,false,true,false,true,false,true,false,false,false,true,false,false,false,false,false,true,true,true,false,false,false,true,false,false,true,true,false,false,true,false,false,false,null,true,true,true,true,true,false,false,false,false,false,false,false,true,true,true,false,true,true,true,false,false,false,true,true,true,false,false,true,true,false,false,false,false,true,false,true,false,true,true,true,false,false,false,false,false,true,true,true,true,false,true,false,false,false,false,false,false,false,true,false,false,true,true,false,true,false,false,false,false,false,false,false,false,true,true,false,false,true,true,null,true,false,false,true,true,true,true,true,false,true,false,false,true,false,false,false,false,true,false,true,true,true,true,true,true,false,true,false,true,false,false,true,false,false,false,false,true,true,true,false,false,false,true,false,true,false,true,false,false,false,false,false,false,false,true,true,false,true,false,true,false,false,true,true,true,false,false,true,true,false,false,false,false,false,false,false,true,false,false,false,false,false,true,true,false,true,false,true,true,true,false,true,null,false,false,false,false,false,true,true,false,false,false,false,false,false,false,true,false,true,true,true,false,true,true,true,true,false,false,false,true,false,true,false,false,false,true,true,false,false,true,true,false,false,false,true,false,true,false,true,true,false,true,false,true,true,false,null,null,false,true,false,false,true,true,true,true,null,false,false,false,true,false,false,false,false,false,false,false,false,null,false,true,false,true,true,false,true,false,true,true,true,false,true,false,false,true,null,false,false,false,false,true,true,true,false,null,true,false,true,true,false,true,true,false,false,false,false,false,false,true,true,false,true,true,false,false,false,true,true,true,false,null,true,false,true,false,true,false,true,false,false,false,false,false,false,false,false,false,true,false,true,false,false,true,false,true,false,false,false,true,false,false,true,false,false,false,false,false,true,false,false,false,false,null,false,true,true,true,false,true,true,false,true,true,false,true,false,true,true,true,false,true,false,false,false,false,false,false,false,true,false,false,false,false,true,true,false,false,false,true,true,false,true,false,false,true,false,false,false,false,false,true,false,false,false,false,false,false,false,true,true,false,false,true,false,false,true,true,false,false,false,true,false,true,false,true,false,false,false,false,false,false,true,false,false,false,false,false,false,false,true,true,false,false,true,false,true,false,false,true,true,false,false,false,true,true,true,false,false,true,false,false,true,false,true,false,false,false,true,false,true,true,true,false,false,false,false,false,false,true,false,false,false,false,true,false,false,true,false,true,false,false,false,true,false,false,true,true,false,false,true,false,true,true,false,true,true,true,true,false,false,true,false,true,false,false,true,false,false,false,true,false,false,false,false,true,false,false,true,true,false,false,true,false,false,true,false,false,false,false,true,false,true,true,false,false,false,false,true,true,true,false,false,false,false,true,true,true,true,false,true,true,true,null,false,false,false,false,true,true,false,false,null,true,false,true,false,false,true,true,false,true,false,false,true,false,true,false,false,false,false,false,null,false,false,true,false,false,false,false,false,false,true,false,null,true,false,false,false,true,false,true,false,true,false,true,false,false,true,true,true,false,false,false,false,false,true,true,false,false,false,true,true,false,false,false,true,false,false,true,false,true,true,true,true,false,true,false,true,false,false,false,false,false,false,true,true,false,true,false,null,false,false,true,true,true,false,true,false,true,false,false,false,false,false,true,false,false,false,false,false,false,false,false,false,true,true,false,false,false,false,false,false,false,true,false,true,true,true,true,false,true,false,false,false,true,true,false,false,false,false,false,false,true,false,true,false,false,false,true,true,false,true,false,false,false,false,true,false,false,false,false,false,false,false,false,false,false,true,true,false,false,false,true,false,false,false,true,false,true,false,false,true,true,false,true,true,false,true,false,true,true,true,false,false,false,false,false,false,false,false,true,true,false,null,false,false,false,true,false,false,false,true,false,false,false,true,true,false,false,true,false,false,false,false,false,true,true,false,false,true,true,true,false,true,true,false,true,false,false,true,false,false,true,false,false,true,true,null,true,false,false,false,false,true,true,false,false,true,false,false,false,false,true,false,true,false,true,false,false,false,true,true,true,false,null,false,false,true,false,false,false,false,false,true,false,true,false,true,false,false,false,false,true,false,true,true,true,false,false,false,false,false,false,false,false,true,null,true,true,false,false,false,false,false,false,false,false,false,true,false,false,true,false,false,true,false,false,true,true,true,true,false,false,false,true,false,true,true,true,true,false,false,false,false,true,false,false,true,false,false,false,false,false,true,true,false,false,false,true,false,false,true,false,true,false,false,true,null,false,false,true,false,true,false,false,false,false,false,true,true,true,false,false,false,true,false,false,true,false,null,true,true,false,false,false,false,false,false,false,false,false,false,false,null,false,true,true,false,false,false,false,false,false,false,false,false,false,false,true,false,false,false,true,true,true,true,true,false,false,true,false,false,false,false,false,false,false,true,null,false,false,false,false,false,true,false,false,false,true,true,false,false,false,true,false,false,false,false,false,true,false,true,false,true,true,false,false,false,false,false,false,false,false,false,true,true,false,true,true,true,false,false,false,false,false,false,false,false,true,true,true,true,false,false,false,true,false,false,false,false,false,false,true,false,false,false,true,false,false,true,false,false,true,true,false,null,true,false,false,true,true,true,false,false,true,true,true,true,false,false,true,false,false,false,true,false,false,true,true,true,false,true,false,false,false,false,false,false,false,null,false,false,true,false,false,true,false,false,false,true,false,false,true,false,false,false,true,true,false,false,true,false,false,true,false,false,true,true,false,false,true,false,false,false,true,false,true,false,false,false,false,false,false,false,false,false,true,false,false,true,null,null,false,false,false,true,false,false,true,true,false,false,false,false,true,false,false,false,false,true,false,false,true,true,false,true,true,false,false,false,true,false,false,false,false,true,false,true,true,false,false,false,false,false,false,false,true,false,false,true,false,false,true,false,true,true,false,false,true,false,false,true,false,false,true,false,false,true,true,false,false,true,true,false,false,false,true,true,false,true,false,false,true,true,false,false,false,false,true,false,false,false,false,false,false,true,false,false,false,false,false,false,false,false,false,false,true,false,true,false,false,false,false,false,false,true,true,false,false,false,false,false,false,true,false,true,false,false,false,true,false,false,true,false,false,false,true,false,false,false,null,false,false,true,false,true,true,true,null,false,false,false,false,false,null,true,true,false,false,false,false,true,true,true,false,false,false,false,false,true,false,true,true,false,true,false,true,false,false,false,false,true,false,true,true,false,false,true,false,true,true,true,false,false,true,false,true,false,false,false,false,false,false,false,false,false,false,false,false,false,false,false,true,true,false,false,true,false,false,false,false,true,false,false,true,true,false,false,true,false,false,false,false,true,false,true,true,true,true,true,false,true,false,true,false,false,false,true,true,false,false,true,false,false,false,false,null,false,false,false,false,false,false,true,false,false,true,true,true,true,false,false,false,false,null,false,false,false,true,true,false,false,false,false,true,false,false,true,true,true,false,true,false,true,true,false,false,false,false,false,false,true,false,true,true,true,false,false,true,false,false,false,null,true,false,true,true,false,false,false,false,false,false,false,false,false,false,false,false,false,true,false,false,false,false,false,false,false,false,false,false,false,false,false,false,true,false,false,false,true,false,false,false,false,false,true,false,false,true,false,false,true,true,true,false,true,false,true,true,true,false,false,false,false,false,false,false,false,false,true,false,false,null,false,true,false,false,true,true,false,false,true,false,true,true,false,false,false,true,true,false,true,false,false,false,false,true,true,false,false,true,false,true,false,false,false,false,true,true,true,false,false,false,false,false,true,false,false,null,false,true,false,true,false,false,false,true,false,false,false,false,false,false,true,false,false,false,false,true,false,false,false,false,true,false,true,false,true,false,false,true,false,false,false,false,false,false,true,true,false,false,false,true,null,false,false,true,true,false,false,false,false,false,false,false,false,true,true,true,false,true,true,false,false,false,false,false,false,true,true,false,false,true,false,false,true,true,false,false,true,false,false,false,null,false,false,false,false,null,false,false,false,false,true,false,false,false,false,false,false,false,false,false,true,false,false,false,false,true,false,true,false,false,false,true,true,true,false,true,false,true,false,true,true,true,false,false,true,false,true,true,false,true,false,false,true,false,true,false,false,false,false,true,null,true,true,true,true,false,false,false,false,false,false,false,true,true,false,true,true,false,false,false,true,true,false,false,false,false,false,false,false,true,false,false,true,true,false,false,true,null,true,false,false,false,null,false,true,false,false,false,false,false,false,true,true,false,false,true,false,true,true,false,true,true,false,true,true,false,false,false,true,false,true,false,true,true,true,false,false,false,true,false,false,true,false,false,true,false,false,false,false,true,true,true,true,false,true,false,false,true,true,false,true,true,true,false,false,false,false,false,false,false,true,false,false,true,true,true,true,false,false,false,false,false,true,false,true,false,false,false,true,false,false,false,false,false,false,false,true,false,true,true,false,false,false,true,false,false,true,false,true,true,false,false,true,true,true,true,true,true,false,false,true,false,true,false,true,true,false,false,false,false,false,false,true,false,false,false,false,false,false,false,true,false,false,false,false,true,true,true,true,false,null,false,true,false,true,false,false,false,true,false,false,true,false,false,true,true,true,false,false,false,false,false,false,null,false,true,true,false,false,true,false,false,true,false,false,false,false,false,true,false,null,false,false,false,true,true,false,false,true,true,true,false,true,true,false,false,true,true,false,false,true,null,false,true,false,false,false,true,false,false,false,true,false,false,true,false,true,false,false,false,false,true,false,false,false,false,true,false,true,false,false,false,false,true,true,false,true,false,false,false,false,false,true,false,false,true,true,false,false,false,false,false,false,false,false,false,false,true,false,false,false,false,false,false,false,false,false,false,false,false,true,false,false,false,false,true,true,false,false,true,false,true,false,true,false,false,false,true,true,false,false,true,false,false,true,false,true,true,false,true,false,false,true,false,true,true,false,true,true,false,false,false,false,false,false,true,false,false,false,false,false,null,false,false,true,false,true,false,false,false,true,false,true,false,null,true,true,false,false,false,false,false,false,false,true,false,false,false,false,false,false,false,false,true,false,true,true,false,false,true,false,false,true,true,true,false,false,false,false,true,false,false,false,false,false,false,true,false,true,false,false,false,false,false,true,true,true,true,false,false,true,true,false,false,true,false,false,true,true,true,null,true,true,true,true,true,null,false,false,false,false,false,false,false,false,false,false,false,false,true,true,false,false,false,false,false,true,true,true,true,false,false,true,false,false,false,true,false,false,true,false,true,true,false,false,true,false,false,false,true,false,true,false,false,false,false,false,true,false,false,true,true,false,false,false,false,false,false,true,false,false,false,false,false,false,false,false,true,false,true,false,false,false,true,false,false,true,false,true,false,true,true,true,false,false,false,false,true,false,false,false,true,false,false,true,false,true,false,true,false,false,false,false,false,false,false,false,false,false,false,false,true,false,false,false,false,null,false,true,false,false,false,false,true,false,false,false,true,true,false,false,false,false,false,true,true,false,true,false,true,false,false,false,false,false,false,false,false,false,false,false,false,true,false,false,false,true,true,false,null,false,true,false,true,false,false,false,false,false,false,false,false,false,false,true,true,false,true,false,false,false,false,false,false,null,false,false,false,true,true,false,true,false,false,true,false,true,true,false,true,true,false,false,false,true,false,false,true,null,null,false,false,false,true,false,false,false,false,true,false,false,true,true,false,false,true,false,false,true,true,true,false,false,false,true,false,true,false,true,true,true,false,true,false,false,false,false,true,true,true,true,false,false,true,false,false,false,false,true,true,false,false,true,true,false,true,false,false,false,true,false,null,true,true,false,false,true,false,false,true,true,false,false,false,false,false,false,true,false,true,true,null,true,false,false,false,false,false,false,false,true,false,false,false,false,true,false,false,false,true,false,true,false,false,false,false,false,false,false,false,true,true,true,false,false,false,false,false,true,false,false,false,null,true,false,false,false,true,true,false,true,false,false,false,false,false,true,true,false,true,false,false,false,false,false,false,true,true,true,false,false,false,false,false,false,true,false,null,true,true,true,false,false,false,false,false,true,true,true,true,false,true,true,false,false,false,false,false,true,true,false,false,false,true,true,false,true,false,true,false,true,true,false,false,false,false,null,true,false,true,false,false,null,true,true,false,false,false,true,false,false,true,false,null,false,false,true,false,true,true,false,true,true,true,true,true,true,false,false,false,true,false,false,false,true,true,true,true,false,false,true,true,true,true,false,true,false,true,false,true,false,false,false,false,true,false,false,true,true,true,false,false,false,false,false,true,false,false,true,true,false,true,false,true,false,false,false,true,true,true,false,true,true,false,false,true,true,false,false,false,true,false,false,false,false,true,true,false,false,false,false,true,false,true,false,true,false,true,false,false,true,false,true,false,null,true,true,false,false,false,true,false,false,true,false,false,true,false,true,true,false,true,null,true,false,false,false,false,false,false,true,false,false,false,true,false,false,false,false,true,true,true,true,true,true,false,true,false,true,false,false,true,true,true,true,false,true,false,true,true,true,false,false,null,false,false,false,false,false,false,true,false,false,true,false,false,false,false,false,null,true,false,false,false,false,false,false,true,true,true,false,false,false,false,false,false,false,true,true,false,false,false,true,true,true,false,true,true,false,true,true,true,true,true,false,false,true,false,true,false,false,false,true,true,false,false,true,true,false,true,true,false,false,false,true,true,true,false,true,false,false,true,false,true,false,false,true,false,false,false,true,true,true,false,false,false,true,false,false,false,false,false,true,false,false,false,false,false,false,false,false,false,true,true,false,false,false,true,null,true,true,true,true,true,null,false,false,null,true,true,false,false,false,false,false,false,true,false,true,true,false,false,false,true,false,true,false,false,false,false,false,false,true,true,false,false,false,true,true,true,true,true,true,true,false,true,true,false,false,false,false,true,false,false,false,true,true,true,true,true,false,false,false,false,false,false,true,true,false,true,false,false,false,true,false,false,false,true,true,false,true,false,false,true,true,false,false,false,false,false,false,false,true,false,false,true,true,false,true,true,true,true,null,false,true,true,false,true,false,false,true,true,true,true,true,true,false,true,false,false,true,false,false,false,false,true,false,true,true,true,false,false,false,false,true,null,true,true,true,true,false,false,false,false,false,true,true,true,true,true,false,true,true,true,false,true,false,false,false,true,false,false,false,false,false,false,false,true,false,true,true,false,true,false,false,false,false,false,true,false,false,true,false,false,false,true,true,true,true,false,false,true,false,false,false,false,true,false,true,false,false,true,false,false,false,false,true,false,false,false,false,false,false,false,false,false,false,false,false,false,false,true,false,false,false,false,true,false,true,true,false,true,false,true,false,true,false,true,true,false,true,false,false,false,false,true,false,false,false,false,false,false,false,true,true,true,true,true,false,false,false,false,false,true,false,true,true,false,true,false,true,false,false,null,true,true,true,false,true,true,false,false,true,false,true,true,false,false,true,false,false,false,true,false,true,false,false,false,true,false,true,true,false,false,false,false,false,true,false,false,false,false,true,true,false,false,true,true,true,false,false,true,true,false,true,false,false,false,false,false,true,true,false,false,false,true,false,true,null,false,null,true,false,false,false,false,true,false,false,true,false,true,false,false,true,false,true,false,false,false,false,false,false,false,true,false,false,false,false,false,false,false,false,false,false,true,false,true,false,true,true,true,false,false,false,true,false,false,false,false,true,true,false,true,true,true,true,false,null,false,true,false,true,false,false,false,false,false,true,true,true,false,false,false,false,false,false,false,true,true,false,true,false,true,false,true,true,null,false,true,true,false,true,true,false,true,false,true,true,false,false,false,true,false,true,true,true,false,true,false,false,false,false,true,true,true,false,false,null,true,false,false,true,true,true,false,false,true,false,false,false,false,false,false,false,false,false,false,false,false,false,true,true,false,true,true,false,false,false,true,null,false,false,true,true,false,true,true,false,true,true,null,false,false,true,false,true,true,true,true,false,false,false,false,true,true,false,false,false,true,false,false,true,false,true,true,false,false,false,true,false,true,false,false,false,false,true,false,true,true,true,false,true,false,false,true,false,false,false,false,true,true,false,false,false,true,false,true,true,false,false,false,true,false,false,true,true,false,false,false,false,false,false,false,false,true,false,false,false,true,true,false,false,false,false,false,true,false,true,false,false,true,true,false,true,true,true,true,false,false,false,true,true,true,false,true,false,false,false,false,false,false,false,false,true,false,false,false,false,false,false,true,false,null,true,false,false,true,false,false,true,false,false,false,false,false,true,false,true,false,true,true,false,false,true,false,false,false,false,null,false,true,true,false,true,false,false,true,true,false,false,true,false,false,false,false,false,true,true,false,false,false,false,true,true,false,true,true,true,false,false,false,true,true,false,false,false,false,false,false,null,false,false,true,false,false,false,true,false,true,false,false,false,true,false,true,true,false,true,false,false,false,false,false,false,false,false,true,false,false,false,false,true,false,true,false,false,false,false,false,true,false,false,false,false,false,true,false,false,true,false,null,true,true,false,false,null,false,true,false,false,true,false,false,false,false,false,false,false,false,false,true,true,false,false,false,true,false,false,false,true,false,false,false,true,null,true,true,false,false,null,true,true,true,false,false,false,false,false,true,true,false,false,true,false,false,false,false,false,false,true,true,true,true,false,false,true,true,false,false,false,false,false,true,false,null,true,false,false,true,false,true,false,true,true,false,false,false,true,true,false,true,true,false,true,false,false,false,false,true,false,false,false,false,false,false,true,true,true,false,true,false,false,false,false,false,false,true,true,false,false,true,false,true,false,false,false,true,false,true,false,true,false,true,true,false,true,false,false,false,false,true,true,false,false,false,false,false,false,false,false,false,false,true,true,false,true,false,false,false,false,false,false,false,false,false,false,true,true,true,false,false,false,false,false,false,true,true,true,false,true,null,false,false,false,false,false,false,false,false,false,false,false,true,true,false,false,false,false,true,null,true,true,false,false,false,null,false,null,true,false,false,false,false,false,true,false,true,true,true,false,false,false,false,false,true,true,true,false,null,false,false,false,false,null,false,false,false,false,true,false,true,false,false,true,false,true,false,false,false,true,false,true,true,false,true,false,false,true,true,true,false,false,false,false,false,true,false,false,false,false,false,false,false,false,true,false,false,false,false,false,false,false,true,true,true,false,false,false,false,false,false,false,true,true,true,false,true,false,false,true,false,true,true,true,false,true,true,false,true,true,true,true,true,false,false,false,false,false,false,true,null,false,false,false,false,true,false,false,false,true,false,false,false,true,true,false,false,true,true,false,false,false,false,false,true,false,true,true,true,false,true,false,false,false,false,false,false,true,false,false,true,false,true,true,false,false,false,false,false,true,false,null,false,false,true,false,false,false,false,false,false,false,true,true,true,false,false,false,true,false,false,true,false,true,false,false,true,true,false,true,false,true,false,false,true,true,false,false,true,false,false,true,true,true,false,false,false,false,true,false,false,false,false,false,true,true,true,true,true,true,false,false,false,true,false,false,false,false,true,false,false,false,true,true,true,true,false,false,true,false,false,false,true,false,true,false,false,false,true,true,false,false,false,true,false,true,false,false,false,false,false,false,false,false,false,null,false,false,false,false,false,false,false,true,false,false,false,false,false,true,false,true,true,false,false,false,true,false,false,false,true,true,false,true,true,false,false,false,true,false,false,false,false,true,false,false,false,false,false,false,true,false,true,true,false,true,true,true,true,false,false,false,false,true,false,false,true,true,false,null,true,false,false,false,true,false,false,false,false,true,false,true,true,true,false,false,false,true,true,true,false,true,false,true,false,false,true,false,null,false,false,false,true,false,true,true,false,true,false,false,false,true,false,false,false,null,null,false,false,false,false,true,false,false,false,true,true,true,false,true,true,true,false,true,true,false,false,true,true,false,true,false,false,true,false,false,true,true,false,false,false,false,false,false,false,true,false,true,true,false,false,true,false,false,false,false,false,false,true,false,false,false,true,false,true,true,false,true,false,true,true,false,false,true,false,false,false,false,true,false,false,null,false,false,false,true,true,false,false,false,true,true,false,false,false,false,false,false,null,true,false,true,false,false,false,false,true,true,false,false,true,false,true,true,true,false,false,false,false,true,true,true,true,true,true,true,false,false,false,false,true,false,false,false,false,true,true,false,false,true,true,false,false,true,false,false,false,false,false,true,false,false,true,false,true,true,false,false,true,true,false,false,true,false,null,false,false,true,true,false,true,false,false,false,false,false,false,true,true,false,false,false,false,true,true,null,true,false,false,false,false,false,false,true,true,false,true,false,true,true,true,true,false,false,false,null,true,false,false,false,null,true,false,false,false,false,true,false,false,false,false,false,false,true,true,true,false,false,false,false,true,true,false,true,true,true,false,false,false,false,false,true,true,true,true,false,true,false,true,false,false,false,false,true,false,false,false,true,true,true,false,true,false,false,false,true,true,true,false,false,false,false,false,false,false,true,false,false,false,false,false,true,false,false,false,false,false,true,false,false,false,false,false,true,true,true,true,true,true,false,false,false,true,false,false,true,false,true,false,true,false,false,false,true,true,false,true,true,false,true,false,false,false,false,true,false,false,false,true,false,false,true,false,false,false,false,false,false,null,true,false,false,false,false,true,false,false,true,false,true,true,false,true,true,false,false,false,false,false,true,true,false,false,false,false,false,false,false,false,true,false,false,true,true,false,false,false,false,false,true,true,true,false,false,false,false,false,false,false,false,null,false,false,false,false,false,true,false,false,false,true,false,null,false,false,true,false,false,false,false,false,true,false,false,true,false,true,false,false,false,true,true,false,false,true,false,false,true,true,null,true,false,null,false,false,false,false,false,false,false,false,false,false,true,true,false,false,false,false,false,true,true,true,false,false,true,false,false,false,false,true,false,false,true,false,true,true,false,false,true,true,true,false,false,false,false,true,true,false,true,false,false,false,true,false,false,false,true,true,false,false,false,true,true,false,false,false,false,false,false,false,false,false,false,false,false,true,false,true,true,true,false,false,false,true,false,true,false,false,false,true,false,true,true,false,false,true,true,false,false,true,true,false,false,true,null,true,false,false,false,true,true,false,true,false,false,false,true,false,false,true,true,false,true,false,false,false,true,true,true,true,false,false,false,false,false,false,false,false,true,false,false,false,false,false,true,false,false,false,true,true,false,false,true,false,false,false,true,false,true,false,false,true,true,false,false,true,false,true,true,null,false,true,false,true,false,true,true,false,false,false,true,true,true,false,false,false,false,false,true,true,false,false,false,false,false,false,false,true,false,false,false,true,true,false,false,false,false,false,false,false,true,true,true,false,true,true,true,false,true,true,false,false,false,false,false,false,false,true,true,false,false,true,true,true,true,true,false,false,false,false,false,false,true,false,false,false,false,true,true,false,false,true,false,true,true,false,false,true,true,false,true,false,false,true,false,false,false,false,true,null,false,false,true,true,false,false,false,false,false,false,false,false,false,false,false,false,false,null,true,false,false,false,false,true,true,false,false,false,false,true,true,true,true,true,false,false,true,false,null,false,false,false,true,true,false,false,false,false,false,false,false,false,true,false,false,false,true,false,false,true,false,false,false,false,false,false,true,false,false,false,true,false,true,true,true,true,true,false,true,true,false,true,false,true,false,true,false,true,null,false,true,true,true,false,true,false,false,false,false,false,true,true,false,true,true,true,true,true,false,false,false,false,false,false,false,null,false,true,true,false,false,false,false,true,false,false,false,false,false,false,true,false,true,false,false,true,true,false,true,true,true,false,false,false,false,false,true,false,false,false,false,true,false,false,false,false,false,true,true,true,null,true,true,true,true,false,false,false,false,false,true,false,false,true,true,true,false,false,false,false,false,true,false,false,true,false,false,false,false,false,false,true,null,true,false,false,false,true,false,true,false,false,false,false,true,false,false,true,true,true,false,false,true,false,true,false,false,null,false,false,false,false,false,true,true,false,false,true,false,false,true,false,false,true,false,false,false,true,false,false,true,false,false,false,true,true,false,false,false,false,false,false,false,false,false,false,true,false,false,false,null,false,false,false,true,false,true,true,false,true,false,false,false,false,true,false,true,false,true,true,false,true,false,false,true,false,false,false,true,true,false,true,true,false,true,false,false,true,false,true,false,false,false,false,false,false,false,false,false,false,true,false,false,true,true,false,false,true,false,true,false,true,false,true,false,false,null,false,false,false,false,null,false,false,false,false,false,false,false,true,false,true,true,false,true,false,false,false,false,false,false,false,false,false,false,null,false,false,false,false,false,true,true,null,true,false,false,false,false,false,true,true,false,false,true,false,true,true,true,false,false,false,false,false,true,false,false,true,false,true,false,false,false,true,false,true,false,true,true,false,true,false,null,false,false,true,false,false,false,false,true,false,true,false,true,false,false,true,true,false,false,false,false,true,true,true,false,false,null,true,false,true,true,true,false,false,false,null,false,true,true,null,false,true,false,true,false,false,false,true,false,false,false,true,true,false,false,false,false,true,true,false,true,true,false,true,false,true,true,true,true,false,true,true,false,false,true,true,true,true,false,false,true,false,false,false,false,false,false,false,false,false,false,true,false,false,false,false,false,false,false,false,false,false,false,false,false,false,false,false,true,false,true,false,false,true,true,false,false,true,false,false,true,false,false,false,false,false,false,true,true,true,true,false,true,false,false,false,false,true,false,false,false,false,false,true,true,true,false,true,false,false,false,false,null,false,false,false,false,false,true,false,false,true,false,false,false,false,true,false,false,true,false,true,false,false,false,null,true,false,false,false,false,false,false,false,true,false,false,true,false,true,false,false,false,false,null,false,true,false,false,true,true,true,false,false,true,true,true,true,false,true,false,false,false,false,false,false,false,false,false,true,false,true,false,false,true,false,false,false,true,false,false,false,false,false,true,true,false,true,true,true,true,false,true,true,false,false,false,false,false,false,true,false,false,false,false,true,false,false,true,true,false,true,false,false,false,false,true,true,true,true,false,false,false,true,false,false,false,false,true,true,false,false,false,false,null,true,false,true,true,true,false,false,false,false,false,false,true,false,false,null,true,false,false,true,false,false,false,true,true,true,false,true,false,false,false,true,true,false,false,true,false,false,true,false,true,false,false,true,null,true,false,true,true,true,false,false,false,false,true,false,false,false,true,false,true,false,null,false,false,true,false,true,false,false,false,true,true,true,false,false,false,true,true,true,true,false,false,false,false,false,false,true,true,false,false,false,false,true,true,false,false,false,true,true,false,false,false,false,false,false,false,false,false,true,true,false,true,false,false,false,false,false,false,false,true,null,true,true,true,false,true,false,true,false,false,false,false,false,false,false,false,false,false,false,false,false,true,true,false,false,false,false,false,false,false,false,false,false,true,false,false,true,false,false,false,false,true,true,false,false,false,false,true,null,false,true,true,false,false,true,false,false,true,false,true,true,false,false,false,true,false,false,true,false,true,false,true,true,false,false,false,false,false,true,true,false,true,false,true,false,false,null,false,true,true,false,false,false,true,true,true,true,true,false,true,true,false,false,false,false,true,true,true,true,true,null,false,false,null,true,false,false,false,true,false,false,false,true,false,false,false,false,true,false,false,false,false,false,true,false,false,true,null,true,false,null,false,true,false,false,true,false,false,false,false,true,false,true,false,false,false,true,true,true,true,false,false,false,true,true,true,true,false,false,false,true,true,true,false,null,true,false,true,true,true,false,false,false,false,true,false,false,false,false,true,true,true,false,false,false,null,false,false,false,false,true,false,false,true,true,true,false,false,false,false,false,true,true,true,false,false,false,false,false,false,false,false,true,false,false,false,false,false,true,false,true,true,false,true,true,false,true,false,false,false,true,true,false,true,false,false,false,false,false,false,null,false,true,true,false,false,false,false,false,false,false,false,true,true,false,false,false,false,false,true,false,true,true,true,false,false,true,false,true,false,true,true,false,false,false,false,false,false,true,false,false,false,true,true,null,true,false,true,true,true,false,true,true,false,true,true,true,true,false,true,false,true,false,false,false,false,false,true,true,false,false,true,true,true,false,false,true,true,false,true,false,false,false,false,false,false,true,false,true,true,false,false,true,false,false,false,null,true,true,false,false,false,false,false,false,false,false,null,true,false,true,false,false,false,false,false,false,true,true,false,false,false,false,true,false,true,false,true,false,false,true,false,false,true,false,false,false,false,false,false,false,true,false,true,true,false,false,false,true,false,false,true,true,true,false,true,false,false,true,true,false,true,false,false,false,false,false,false,false,false,false,false,false,false,false,false,false,true,true,false,false,false,false,false,true,false,false,false,false,false,true,false,true,false,false,true,false,false,false,false,true,false,true,true,true,false,false,false,false,false,false,false,true,false,false,false,true,false,false,false,false,false,false,true,false,true,true,true,false,false,false,true,true,false,false,true,false,false,false,true,false,true,false,false,false,true,false,true,false,true,true,true,false,false,true,false,true,false,false,null,null,false,false,true,true,false,false,false,false,false,true,false,false,false,true,true,false,false,false,false,true,false,true,null,false,false,true,true,false,true,false,false,false,true,false,true,false,true,true,false,true,false,false,false,false,false,false,false,false,false,true,false,false,false,false,false,false,true,true,false,false,false,true,true,false,false,true,false,false,false,false,false,true,false,false,false,false,true,false,true,false,true,false,false,true,false,false,false,true,false,true,false,true,true,false,null,true,false,false,false,true,true,true,false,true,false,false,false,false,false,true,false,false,true,null,false,true,false,false,true,true,true,false,true,false,false,false,false,false,false,false,false,false,true,false,false,false,null,true,false,false,false,false,true,true,false,true,false,false,true,false,false,false,false,true,false,true,false,false,true,false,false,false,true,false,false,false,false,false,false,false,false,false,true,false,false,false,false,true,true,false,false,true,false,false,false,false,true,false,true,false,null,false,true,false,true,true,true,false,false,false,false,false,null,false,true,false,false,true,true,false,false,false,null,false,false,null,false,true,false,false,false,false,false,false,false,false,false,false,false,false,false,false,false,false,true,false,false,false,false,false,true,true,false,true,false,true,true,false,false,true,true,true,false,false,false,false,false,true,false,true,true,true,false,false,false,true,false,true,true,false,false,true,true,false,false,false,true,true,false,false,null,null,true,false,false,false,false,false,false,false,false,false,false,false,true,false,null,false,false,false,false,true,true,null,true,true,true,false,false,true,true,true,false,false,false,false,false,true,false,true,true,false,true,false,true,false,false,true,true,true,true,true,true,false,false,true,false,false,false,false,false,false,false,true,true,false,false,false,false,false,true,false,false,false,false,false,true,false,false,false,true,true,false,false,false,false,false,false,false,null,null,false,true,false,false,true,false,false,false,false,false,true,true,false,true,false,true,true,true,false,false,false,true,false,false,false,false,false,true,false,true,false,false,false,null,false,true,false,true,false,false,true,false,false,false,true,true,true,false,false,false,false,false,true,false,null,true,false,true,false,false,true,false,true,false,false,true,false,true,true,true,false,false,true,null,false,true,true,false,true,true,false,false,false,true,false,false,true,false,false,false,false,false,false,false,false,false,true,true,true,true,false,false,true,true,false,false,false,false,true,true,true,true,false,true,true,true,true,true,true,true,true,false,true,false,false,true,false,true,true,false,true,false,false,false,false,false,null,true,false,false,false,false,false,false,null,true,false,false,false,true,false,true,false,false,false,false,true,false,null,false,true,false,false,true,false,true,false,false,true,false,false,false,true,true,false,true,false,false,false,true,true,false,false,true,true,false,false,false,true,false,true,false,true,false,true,true,false,false,false,true,false,false,true,false,false,false,false,false,true,false,false,false,true,false,true,false,false,false,true,true,false,false,false,true,false,false,true,false,true,false,false,false,true,false,false,false,true,false,false,false,true,true,false,false,false,false,null,true,false,false,false,true,true,true,true,false,false,false,false,false,false,false,true,true,true,false,false,false,false,false,true,true,false,null,true,false,true,true,false,false,false,true,false,false,false,false,false,true,false,false,true,true,true,false,false,true,true,null,false,false,false,true,false,false,false,true,false,false,false,false,true,false,true,false,true,false,false,true,false,true,true,true,null,false,false,false,true,true,false,true,true,null,true,true,false,false,true,false,false,true,false,true,true,false,true,true,false,false,true,true,false,true,false,false,false,false,true,false,false,false,false,false,true,false,false,false,true,false,false,true,true,false,false,null,false,true,false,true,false,false,false,false,true,true,false,false,false,false,false,true,false,true,false,false,true,false,false,true,true,true,false,true,false,false,false,false,false,true,true,true,true,true,false,true,false,true,false,true,false,true,false,true,false,false,false,false,false,true,false,true,true,null,false,true,false,false,true,false,true,false,true,false,false,true,false,false,false,true,true,true,true,true,false,true,false,false,false,true,true,true,false,false,false,true,true,false,false,true,true,false,false,false,false,false,false,false,true,true,false,false,false,true,false,true,false,true,true,false,false,true,false,true,false,false,false,false,false,false,false,false,true,false,false,false,false,true,false,false,false,false,false,false,true,false,false,true,false,false,true,false,false,false,false,true,false,false,false,true,true,false,true,false,true,true,true,null,false,false,true,false,false,false,true,false,true,true,false,false,false,false,true,false,true,true,false,true,true,false,false,true,false,true,true,false,true,false,false,false,false,true,false,false,false,true,true,true,false,true,true,false,false,false,false,true,false,false,false,false,false,false,false,false,true,false,false,false,false,false,false,true,true,false,false,true,false,false,true,false,false,true,false,true,false,true,false,false,false,false,false,true,false,false,true,false,false,true,false,true,false,false,null,true,true,false,false,true,false,false,true,false,false,true,null,false,true,false,false,true,false,true,true,true,false,true,false,false,false,false,false,false,false,false,true,false,false,false,false,false,true,false,true,false,null,true,true,false,false,false,false,false,true,true,false,true,true,false,true,true,false,false,false,false,true,true,false,true,null,true,true,false,false,false,false,false,false,false,true,true,true,true,false,false,true,false,false,false,false,false,false,true,false,false,true,true,false,false,false,false,false,false,true,false,false,true,false,true,false,false,true,false,true,false,true,true,false,true,false,true,false,true,true,false,true,false,null,false,false,true,false,false,true,false,true,false,false,true,true,true,true,true,true,false,false,false,true,false,false,true,false,null,true,false,true,false,false,false,true,false,true,false,false,false,true,false,false,true,true,false,true,false,false,false,false,false,false,true,false,false,false,false,false,true,true,true,true,true,true,false,false,false,true,false,false,false,false,true,false,false,true,false,false,false,true,true,false,true,null,true,false,false,false,true,false,false,false,true,false,false,false,true,false,true,true,false,false,true,false,false,true,true,true,false,false,true,false,false,false,false,true,false,true,false,true,null,false,true,null,false,false,false,false,false,false,false,true,true,true,true,null,true,false,false,true,false,false,false,false,false,false,true,false,true,false,true,true,false,false,false,false,null,false,false,false,false,true,false,false,false,false,true,false,true,false,false,false,false,true,false,false,false,true,false,false,false,false,false,false,true,true,false,false,true,true,true,false,false,true,false,false,false,true,true,null,true,false,true,true,false,true,true,false,false,false,false,true,false,false,false,true,true,true,true,false,true,false,false,true,false,true,true,false,true,false,true,true,false,true,true,false,false,false,false,true,false,false,false,false,false,true,false,true,false,false,true,false,false,false,false,true,false,false,true,true,false,false,false,true,true,false,false,true,false,false,true,false,false,false,false,true,false,false,false,false,false,true,false,true,false,true,true,false,false,false,true,false,false,false,false,false,false,true,false,false,true,false,false,false,false,false,true,false,false,true,false,true,false,false,false,false,false,false,true,false,false,true,true,true,false,true,false,true,false,false,false,true,false,false,false,false,true,false,false,false,false,false,null,false,true,true,false,false,false,null,false,false,false,true,true,false,false,false,false,false,false,false,false,true,false,true,false,false,null,false,false,false,false,false,false,false,false,false,true,false,false,false,false,false,true,true,false,false,true,false,false,false,false,false,false,true,false,false,true,false,false,false,false,true,false,true,false,false,true,false,false,false,false,false,false,false,false,true,true,false,false,false,true,false,false,false,false,true,false,false,false,false,false,false,true,false,false,true,true,true,true,false,false,true,false,true,false,false,true,false,true,false,false,false,false,false,false,true,true,true,false,true,false,true,false,false,true,false,false,false,false,false,false,true,false,true,false,false,true,true,false,true,true,true,false,false,false,false,true,true,true,false,true,false,true,true,false,true,false,true,true,true,false,false,true,false,false,false,false,false,true,false,false,false,false,false,false,true,true,true,false,false,true,false,false,false,false,false,true,false,false,false,false,true,false,false,true,false,false,true,true,true,true,false,false,false,false,false,true,null,false,false,false,true,false,false,false,false,false,true,false,false,true,false,false,false,true,true,false,false,false,true,false,false,true,false,false,true,false,false,true,true,false,false,false,false,false,false,false,false,false,false,false,true,true,true,true,true,false,true,false,true,false,true,true,false,false,null,false,true,false,true,false,false,false,false,true,true,true,false,true,true,true,false,false,false,false,false,true,false,false,false,false,false,false,false,false,true,false,false,false,false,null,true,true,true,false,false,false,false,true,false,true,true,false,true,true,false,true,true,false,false,false,true,false,false,false,false,false,false,true,true,true,false,false,false,true,false,false,false,true,true,false,true,true,true,false,false,null,false,true,false,false,false,false,false,true,false,false,false,true,true,false,false,false,true,false,true,false,true,false,false,false,false,true,false,true,true,false,false,false,false,true,false,false,false,false,true,false,true,false,true,true,true,false,false,true,false,true,false,true,false,false,false,false,false,false,true,true,false,false,true,false,true,false,false,true,true,true,false,true,false,false,false,false,true,true,false,false,true,true,true,false,false,false,false,true,false,null,false,false,false,false,false,false,true,false,true,true,false,false,false,false,false,true,false,false,false,false,null,false,false,true,true,false,false,false,null,false,false,false,true,false,false,true,true,true,true,true,false,false,false,false,true,false,false,false,true,false,true,true,false,false,false,true,true,true,true,null,false,true,false,false,false,false,false,true,false,false,false,true,null,true,false,false,true,false,true,true,true,true,false,null,true,true,true,true,true,true,false,false,true,false,false,null,false,true,false,false,false],\"name\":\"CryoSleep\",\"type\":\"pie\",\"domain\":{\"x\":[0.0,0.45],\"y\":[0.0,1.0]},\"marker\":{\"colors\":[\"rgb(230,218,135)\",\"rgb(228,139,133)\",\"rgb(227,178,175)\"]},\"hole\":0.4,\"textinfo\":\"label+percent\"},{\"labels\":[false,false,true,false,false,false,false,false,false,false,false,false,false,false,false,false,false,false,false,false,false,false,false,false,false,false,false,false,false,false,false,false,false,false,false,false,false,false,null,false,false,false,false,false,false,false,false,false,false,false,false,false,false,false,false,false,false,false,false,false,false,false,false,false,false,false,false,false,false,false,false,false,false,false,false,false,false,false,false,false,false,false,false,false,false,false,false,false,false,false,false,false,false,false,false,false,false,false,false,false,false,false,null,false,false,false,false,false,true,false,false,false,false,false,false,false,false,false,false,false,true,false,false,false,false,false,false,false,false,false,false,false,false,false,false,false,false,false,false,false,false,false,false,false,false,null,false,false,false,false,false,false,false,false,false,false,false,false,false,false,false,false,false,false,false,false,false,false,false,false,false,false,false,false,false,false,false,false,false,false,false,false,false,false,false,false,false,false,false,false,false,false,false,false,false,false,false,false,false,false,false,false,false,false,false,false,false,false,false,false,false,false,false,false,true,false,false,false,false,false,false,false,false,false,false,false,false,false,null,false,false,false,false,false,false,false,false,false,false,false,false,false,false,false,false,false,false,false,false,false,false,false,false,false,false,false,false,false,false,false,false,false,false,false,false,false,false,false,false,false,false,false,false,false,false,false,false,false,false,false,false,false,false,false,false,false,false,false,false,false,false,true,false,false,false,false,false,false,false,false,false,false,false,false,false,false,false,false,false,false,false,false,false,false,false,false,false,false,false,false,false,false,false,false,false,false,false,false,false,false,false,false,false,false,false,false,false,false,false,false,false,false,false,false,false,false,false,false,false,false,false,false,false,false,false,false,true,false,true,false,false,false,false,true,false,true,true,false,false,false,false,false,false,false,false,false,false,false,false,false,false,false,false,false,false,false,false,false,false,false,false,false,false,false,false,false,false,false,false,false,false,false,false,false,true,true,false,false,false,false,false,false,false,false,false,false,false,true,false,false,false,false,false,false,false,false,false,false,false,false,false,false,false,false,false,false,false,false,false,false,false,false,false,false,false,false,false,false,false,false,false,false,false,false,false,false,false,false,false,false,false,false,false,false,false,false,false,false,false,false,false,false,false,false,false,false,false,false,false,false,false,false,false,false,false,false,false,false,false,false,false,false,false,false,false,false,false,false,false,false,false,false,false,false,false,false,false,false,false,false,false,false,false,false,false,false,false,false,false,false,false,false,false,false,false,false,false,false,false,false,false,false,false,false,false,false,true,false,false,false,false,false,false,false,false,false,false,false,false,false,false,false,false,false,false,false,false,false,false,false,false,false,false,false,false,false,null,false,false,false,false,false,false,false,false,false,false,false,false,false,false,false,null,false,false,false,false,false,false,true,false,false,false,false,false,false,null,false,false,false,false,false,false,true,false,false,false,false,false,false,false,false,false,false,false,false,false,false,false,false,false,false,false,false,false,false,false,false,false,false,false,false,false,false,false,false,false,false,false,false,false,false,false,false,false,false,null,false,false,null,false,false,false,false,false,false,false,true,false,false,false,false,false,false,false,false,false,false,false,false,false,false,false,false,false,false,false,false,null,false,false,false,false,false,false,false,false,false,false,false,false,false,false,false,false,false,false,false,false,false,false,false,false,false,false,false,false,false,false,false,false,false,false,false,false,false,false,false,false,false,false,false,false,false,false,false,false,false,false,false,false,false,false,false,false,false,false,false,false,false,false,false,false,false,false,false,false,false,false,false,true,false,false,false,false,false,false,false,false,false,false,false,false,false,true,false,false,false,false,false,false,false,false,false,false,false,false,false,false,true,null,false,false,false,false,false,false,false,false,false,false,false,false,false,false,false,true,false,false,false,false,false,false,false,false,false,false,false,false,false,false,false,false,false,false,false,false,false,false,false,false,false,false,false,false,true,false,false,false,false,false,false,null,false,false,null,false,false,false,false,null,false,false,false,false,false,false,true,false,false,null,false,false,false,false,false,false,false,false,false,false,false,false,false,false,false,false,false,false,false,false,false,false,false,false,false,false,false,false,false,false,false,false,false,false,false,false,false,false,false,false,false,false,false,false,false,false,false,false,false,false,false,false,false,false,false,false,false,false,false,false,false,false,false,false,false,false,false,false,false,false,false,false,false,null,false,false,false,true,false,false,false,false,false,false,false,false,false,false,false,false,false,null,false,false,false,false,false,false,false,false,false,false,false,null,false,false,false,false,null,false,false,false,false,false,false,false,false,false,false,false,false,false,false,false,false,false,false,false,false,false,false,false,false,false,false,false,false,false,false,false,false,false,false,false,false,false,false,false,false,false,null,false,false,false,false,false,false,false,false,false,false,false,false,false,false,false,null,false,false,false,false,false,false,false,false,false,false,null,false,false,false,false,false,false,false,false,false,false,false,false,false,false,false,false,true,false,false,false,false,false,false,null,false,false,false,false,false,false,false,false,false,false,false,false,false,false,false,false,false,null,false,false,false,false,false,false,false,false,false,false,false,false,false,null,false,false,false,false,false,false,false,false,false,false,false,false,false,false,false,false,false,false,false,false,false,false,null,false,false,false,false,false,false,false,false,null,false,false,null,false,false,false,false,false,false,false,false,false,false,false,false,false,true,null,false,true,false,false,null,false,false,false,false,false,false,false,false,false,false,false,false,false,false,false,false,false,false,false,false,false,false,false,false,false,false,false,false,false,false,false,false,false,false,false,false,false,false,false,false,false,false,false,false,false,false,false,false,false,false,false,false,null,false,false,false,false,false,false,false,false,null,false,false,false,false,false,false,false,false,false,false,false,true,false,false,false,false,true,false,false,false,false,false,false,false,false,false,false,false,false,false,false,false,false,false,false,false,false,false,false,false,false,false,false,false,false,false,false,false,false,false,false,false,false,false,false,false,false,false,false,false,false,false,false,false,false,false,false,false,false,false,false,false,false,false,false,false,false,false,false,false,false,false,false,false,false,false,false,false,false,false,false,false,false,false,false,false,false,false,false,false,false,false,false,false,false,false,false,false,false,false,false,false,false,false,false,false,false,false,false,false,false,false,false,false,false,false,false,false,false,false,false,false,false,false,false,false,false,false,false,false,false,false,false,false,false,false,false,false,false,false,false,false,false,false,false,false,false,false,false,false,false,false,false,false,false,false,false,false,false,false,false,false,false,false,false,false,false,false,false,false,false,null,false,false,false,false,false,false,false,false,false,false,false,false,false,false,false,false,false,false,false,false,false,false,false,false,false,false,false,false,false,false,false,false,false,false,false,false,false,false,false,false,false,false,false,false,false,false,false,null,false,false,false,false,false,false,false,false,false,false,false,false,false,false,false,false,true,false,false,false,false,false,false,false,true,false,false,false,false,false,false,false,null,false,false,true,false,false,false,false,false,false,false,false,false,false,false,false,false,null,false,false,false,false,false,false,false,false,false,false,false,false,false,false,false,false,false,false,false,false,false,false,false,false,false,false,false,false,false,false,false,false,false,false,false,false,false,false,true,false,false,false,false,false,false,false,false,false,false,false,false,false,false,false,false,false,false,false,false,false,false,false,false,false,false,false,false,false,false,false,false,false,false,false,false,false,false,false,false,false,false,false,false,false,false,false,false,false,false,false,false,false,false,false,false,false,false,false,false,false,false,false,false,false,false,false,false,false,true,false,false,false,false,false,false,false,false,null,false,false,false,false,false,false,true,false,false,false,false,false,false,false,false,false,false,false,false,false,false,false,false,false,false,false,false,null,false,false,false,false,false,false,false,false,false,false,false,false,false,false,false,false,true,false,false,false,false,false,false,false,false,false,false,false,false,false,false,false,false,false,false,false,false,false,false,false,false,false,false,false,false,false,false,false,false,false,false,false,false,null,false,false,false,false,false,null,false,false,null,false,false,false,false,false,false,false,false,false,false,false,false,false,false,null,false,false,true,false,false,false,false,false,false,false,false,false,false,false,false,true,false,false,false,false,false,false,false,false,false,false,false,false,false,false,false,false,false,false,false,false,false,false,false,false,true,false,false,false,false,false,null,false,false,false,false,false,false,false,null,false,false,false,false,false,false,false,false,false,false,false,false,false,false,false,false,false,false,false,false,false,false,false,false,false,false,false,false,false,false,false,false,false,false,false,false,false,false,false,false,false,false,false,false,false,false,false,false,false,false,false,false,false,false,true,false,false,false,false,false,false,false,false,false,false,false,null,false,false,false,false,false,false,false,false,false,false,false,false,null,false,false,false,false,false,false,false,false,true,false,false,false,false,false,false,false,false,false,false,false,false,false,false,false,null,false,false,false,false,false,false,false,false,false,false,null,false,false,false,false,false,false,false,false,false,true,false,false,false,false,false,false,false,false,false,false,false,false,false,false,false,false,false,false,false,false,false,null,false,false,false,false,false,false,false,false,false,false,false,false,false,false,false,false,false,false,false,false,false,false,false,false,true,false,false,false,false,false,false,false,false,false,false,false,false,false,false,false,false,false,false,false,false,false,false,false,false,null,false,false,false,false,false,false,false,false,false,false,false,false,false,false,false,false,false,false,false,false,false,false,false,false,false,false,false,false,false,false,false,false,false,false,false,false,false,false,false,false,false,false,false,false,null,false,false,false,null,false,false,false,false,false,false,false,false,false,false,false,false,false,false,false,false,false,false,null,false,false,false,false,false,false,false,false,false,false,false,false,false,false,false,false,false,false,false,false,false,false,false,false,false,false,false,false,false,false,false,false,false,false,false,false,false,false,false,false,true,false,false,false,false,false,false,false,false,false,false,false,false,false,false,false,false,false,false,false,false,false,false,false,false,false,false,false,false,false,false,false,false,false,false,false,false,false,true,false,false,false,false,false,false,false,false,false,false,false,false,false,false,false,false,false,false,false,false,false,false,false,false,false,false,false,false,false,false,false,false,false,false,false,false,false,false,false,false,false,true,false,false,false,false,false,false,false,false,false,false,false,false,false,false,false,false,false,false,false,false,false,false,false,false,false,false,false,false,false,false,false,false,false,false,true,false,false,false,false,false,false,false,false,false,false,false,false,false,true,false,false,false,true,false,false,false,false,false,false,false,false,false,false,false,false,false,false,false,false,false,false,false,false,false,false,false,false,false,false,false,false,false,false,false,false,false,false,false,false,false,false,true,false,false,false,false,false,false,false,false,false,false,false,false,false,false,false,false,false,false,null,false,false,false,false,false,false,false,false,false,false,false,false,false,false,null,false,false,false,false,false,false,false,false,false,false,false,false,false,false,false,false,false,null,false,false,false,false,false,false,false,false,false,null,false,false,false,false,false,false,false,false,false,false,false,false,false,false,false,false,false,false,false,false,false,false,false,false,false,false,false,false,false,false,false,false,true,false,false,false,false,false,false,null,null,false,false,false,null,false,false,false,false,false,false,false,false,false,false,false,false,false,false,false,false,false,false,false,false,false,false,false,false,false,false,false,false,false,false,false,false,false,false,false,false,false,false,false,false,false,false,false,false,false,false,false,true,false,false,false,false,false,false,false,false,false,false,false,false,true,false,false,false,false,false,false,true,false,false,false,false,false,false,false,false,false,false,false,false,false,false,false,false,false,false,false,false,false,false,false,false,false,false,false,false,false,false,false,false,false,false,null,false,false,false,false,false,false,false,false,false,false,false,false,false,false,false,false,false,false,false,false,false,false,false,false,false,false,false,null,false,false,false,false,false,false,false,false,false,false,false,false,false,false,false,false,false,false,false,false,false,false,false,false,false,false,false,false,false,true,false,false,false,null,false,false,false,false,false,false,false,false,false,false,false,false,false,null,false,false,null,false,false,false,false,false,false,false,false,false,false,false,false,false,false,false,false,false,false,null,false,false,true,false,false,false,false,false,false,false,false,false,null,false,null,false,false,false,false,false,false,false,false,false,false,false,false,false,false,false,false,false,false,false,false,false,false,false,false,false,false,false,false,null,false,false,false,false,false,false,false,false,false,false,false,null,false,false,false,false,false,false,false,false,false,false,false,false,false,false,false,false,false,false,false,false,false,false,false,false,false,false,false,false,false,false,false,false,false,false,false,null,false,false,false,false,false,false,false,false,false,false,false,true,true,false,false,false,false,false,false,false,false,false,false,false,false,false,false,false,false,false,false,false,false,false,false,true,false,false,false,false,false,false,false,false,false,false,false,false,false,false,false,false,false,false,true,false,false,false,false,false,false,false,false,false,false,false,false,false,false,false,false,false,false,false,false,false,false,false,false,false,false,false,false,false,false,false,false,false,true,false,false,false,false,false,false,false,false,false,null,false,false,false,false,false,false,false,false,false,false,false,false,false,false,false,false,false,false,false,false,false,false,false,false,false,false,false,false,false,false,false,false,false,false,false,false,false,false,false,false,false,false,true,false,false,false,false,false,false,false,false,false,false,false,false,false,false,false,false,false,false,false,false,false,false,false,false,false,false,false,false,false,false,false,false,false,false,false,false,null,false,false,false,false,false,false,false,false,false,false,false,false,false,false,false,false,false,false,false,false,false,false,false,false,false,false,false,false,false,false,false,false,false,false,false,false,false,false,false,false,false,true,false,false,false,false,false,false,false,false,false,false,false,true,false,false,false,false,null,false,false,false,false,false,false,false,false,false,false,false,false,false,false,false,false,false,false,false,false,false,false,false,true,false,false,false,false,false,false,false,false,false,false,false,false,false,false,false,false,false,false,false,null,false,false,false,false,false,false,false,false,false,false,false,false,false,false,false,false,false,false,false,false,false,true,false,false,false,false,false,false,false,false,false,false,false,false,false,false,false,false,false,false,false,false,false,false,false,false,false,false,false,false,false,false,false,false,false,false,false,false,false,false,false,false,false,false,false,false,false,false,false,false,false,false,false,false,false,false,false,false,false,false,false,false,false,false,false,false,false,false,false,false,false,false,false,false,false,false,false,false,false,null,false,false,false,false,false,false,false,false,false,null,false,false,false,false,false,false,false,false,false,false,false,false,false,false,true,false,false,false,false,false,false,false,false,false,false,false,false,false,false,false,false,false,false,false,false,false,false,false,false,false,false,false,false,false,false,false,false,false,false,false,false,false,false,false,false,false,false,false,false,false,null,false,false,false,false,false,false,false,false,false,false,false,true,false,false,false,false,false,false,false,false,false,false,true,false,false,false,false,false,false,false,false,false,false,false,false,false,false,false,false,false,false,false,false,false,false,false,false,false,false,false,false,false,false,false,false,false,false,false,false,false,false,false,false,false,false,false,false,false,false,false,false,false,false,false,false,false,false,false,false,false,false,false,null,false,false,false,false,false,false,false,false,false,false,false,false,false,false,false,false,false,false,false,false,false,false,false,false,true,false,false,false,false,false,false,false,false,false,false,false,false,false,false,null,false,false,false,false,false,false,false,false,false,false,false,false,false,false,false,false,false,false,false,false,false,false,false,false,false,false,false,false,false,false,false,false,false,false,false,false,false,false,false,false,false,false,false,false,true,false,false,false,false,false,false,false,false,false,false,false,false,null,false,false,false,false,false,false,false,false,false,true,false,false,false,null,false,false,false,false,false,false,false,false,false,false,false,false,false,false,false,false,false,false,false,false,false,false,false,false,false,false,false,false,false,false,false,false,false,false,false,false,false,false,false,false,false,false,false,false,false,false,false,false,false,false,false,false,false,false,false,false,false,false,false,false,false,false,false,false,false,false,false,false,false,false,false,false,false,false,false,false,false,false,false,false,false,false,false,false,false,false,false,false,false,false,false,false,false,false,false,false,false,false,false,false,false,false,false,false,false,false,false,false,false,false,false,false,false,false,false,false,false,false,false,false,false,false,false,false,false,false,false,false,false,false,false,false,false,false,false,false,false,false,false,false,null,false,false,false,false,false,false,false,false,false,false,false,false,false,false,false,false,false,false,false,false,false,false,false,false,false,false,false,false,false,true,false,false,false,false,false,false,false,false,false,true,false,false,false,false,false,false,false,false,false,false,false,true,false,false,false,false,false,false,false,false,false,false,false,false,false,false,false,false,false,false,false,false,false,false,false,false,false,false,false,false,false,false,false,false,false,false,false,false,false,false,false,false,false,false,false,false,false,false,false,true,false,false,false,false,false,false,false,false,false,false,false,false,false,false,false,false,false,false,false,false,false,false,false,false,false,false,false,false,false,false,false,false,false,false,false,false,false,false,false,false,false,false,false,false,false,false,false,false,false,false,false,false,false,false,false,false,false,false,false,false,false,false,false,false,false,false,false,false,false,false,false,false,false,false,false,false,false,false,false,false,false,false,false,false,false,false,false,false,false,false,false,false,false,false,false,false,false,false,false,false,false,false,false,false,false,false,false,false,false,false,false,false,false,false,false,false,false,false,false,false,false,false,false,false,false,false,false,false,false,false,false,false,false,false,false,false,false,false,false,false,true,false,false,false,false,false,false,false,false,false,false,false,false,false,false,false,false,false,false,false,false,false,false,false,false,false,false,false,false,false,false,false,false,false,false,false,false,false,false,false,false,false,false,false,false,false,false,false,false,false,false,false,false,false,false,false,false,false,false,false,false,false,false,false,null,false,false,false,false,false,false,false,false,false,false,null,false,false,false,false,false,false,false,false,false,false,false,null,false,false,false,false,false,false,false,false,false,false,false,false,false,false,false,false,false,false,false,false,false,false,false,false,false,false,false,false,false,false,false,false,false,false,false,false,false,false,false,false,false,false,false,false,false,false,false,false,false,false,false,false,false,false,false,false,false,false,false,false,false,false,false,false,false,false,false,false,false,false,false,false,false,false,false,false,false,false,false,false,false,false,false,false,false,false,false,false,false,false,false,false,false,false,true,false,false,false,false,false,false,false,false,false,false,false,false,false,false,false,false,false,null,false,false,false,false,null,false,false,true,false,false,false,true,null,false,false,false,false,false,false,false,false,false,false,false,false,false,false,false,false,false,false,false,false,false,false,false,false,false,false,false,true,false,false,false,false,false,false,true,false,false,true,false,false,false,false,false,false,false,false,false,false,false,false,false,false,false,false,false,false,false,false,false,false,false,false,false,false,false,false,true,false,false,false,false,false,false,false,false,false,false,false,false,false,false,false,false,false,false,false,false,false,false,false,false,false,false,false,false,false,false,false,false,false,false,false,false,false,false,false,false,false,false,false,false,false,false,false,false,false,false,false,false,false,false,false,false,false,false,false,false,false,false,false,false,false,false,false,false,false,false,false,false,false,false,false,false,false,false,false,false,false,false,false,false,false,false,false,false,false,false,false,false,false,false,false,false,false,false,false,false,false,false,false,false,false,false,true,false,false,false,false,false,false,false,false,false,false,false,false,false,false,true,false,false,false,null,false,false,false,false,false,false,false,false,false,false,false,false,false,false,false,false,false,false,false,false,false,false,false,false,false,false,false,false,false,false,false,false,false,false,false,false,false,false,false,false,false,false,false,false,false,false,false,false,false,false,false,false,false,false,false,false,false,false,false,false,false,false,false,false,false,false,false,false,false,false,false,false,false,false,false,false,false,false,false,true,false,false,false,false,false,false,false,false,false,false,false,false,false,false,false,false,false,null,false,false,false,false,false,false,false,false,false,false,false,false,true,false,false,false,false,false,false,false,false,false,false,false,true,false,false,false,false,false,false,false,false,false,false,false,false,false,false,false,false,false,false,false,false,false,false,false,false,false,false,false,false,false,false,false,false,false,false,false,false,false,false,false,false,false,false,false,false,false,false,false,false,false,false,false,false,false,false,null,false,false,false,false,false,false,false,false,false,false,false,false,false,false,true,false,false,false,false,false,false,true,false,false,false,false,false,false,false,false,false,false,false,false,false,false,false,false,false,false,false,false,false,false,false,false,false,false,false,false,false,false,false,false,false,false,false,false,false,false,false,false,false,false,false,false,false,false,false,false,false,false,false,false,false,false,false,false,false,false,false,false,true,false,false,false,false,false,false,false,false,false,false,false,false,false,false,false,false,false,false,false,false,true,false,false,false,false,false,false,false,false,false,false,false,false,false,false,false,false,false,false,false,false,false,false,false,false,false,false,false,false,false,null,false,false,false,false,false,false,false,false,false,false,false,false,false,true,false,false,false,false,false,false,false,false,false,false,false,false,true,false,false,false,true,false,false,false,false,false,false,false,false,false,false,false,false,false,false,false,false,false,false,false,false,false,false,false,false,false,false,false,false,false,false,false,false,false,false,false,false,false,false,false,false,false,null,false,false,false,false,false,false,false,false,false,false,false,false,null,false,false,false,false,false,false,false,false,false,false,false,false,false,false,false,false,false,false,false,false,false,false,false,false,false,false,false,false,false,true,false,false,true,false,false,false,false,false,false,false,false,false,false,false,false,false,false,false,false,false,false,false,false,false,false,false,false,false,false,false,false,false,false,false,null,false,false,false,false,false,false,true,null,false,false,false,false,false,false,false,false,false,false,false,false,false,null,false,false,false,false,false,false,false,false,false,false,false,false,false,false,false,false,false,false,false,false,false,false,false,false,false,false,false,false,false,false,false,false,false,false,false,false,false,false,false,false,false,false,false,false,false,false,false,false,false,false,false,false,false,true,false,false,false,false,false,false,false,false,false,false,false,false,false,false,false,false,false,false,false,false,false,false,false,false,false,false,null,false,null,false,false,false,false,false,false,false,false,false,false,false,false,false,false,false,false,false,false,false,false,false,false,false,false,false,false,false,false,false,false,false,false,false,false,false,false,false,false,false,false,false,false,false,false,false,false,false,false,false,false,false,false,false,false,false,true,false,false,false,false,false,false,false,false,false,false,false,false,false,false,false,false,false,false,false,false,false,false,false,false,false,false,false,false,false,false,false,false,false,false,false,false,true,false,false,false,false,false,true,false,false,false,false,false,false,false,false,false,false,null,false,false,false,false,false,false,false,false,false,false,false,false,false,false,false,false,false,false,false,false,false,true,false,false,false,false,false,false,false,false,false,false,false,false,false,false,false,false,false,false,false,false,false,false,false,false,false,false,false,false,false,false,false,false,false,false,false,false,false,false,false,false,false,false,false,false,false,false,false,false,null,false,false,false,false,false,false,true,false,false,false,false,false,false,false,false,false,false,false,false,false,false,false,false,false,false,false,false,true,false,false,false,false,false,false,false,false,false,false,false,false,false,false,false,false,false,false,false,false,false,false,false,false,false,false,false,false,false,false,false,false,false,false,false,false,false,false,false,false,false,false,false,false,false,false,false,false,false,false,false,false,false,false,false,false,false,false,false,false,false,false,false,false,false,false,false,false,false,false,false,false,false,false,false,false,false,false,false,false,false,false,false,false,false,false,false,false,true,false,false,false,false,false,false,false,true,false,false,false,false,false,false,false,false,false,false,false,false,false,false,false,false,false,false,false,false,false,false,false,false,false,false,false,false,false,false,false,null,false,false,false,false,false,false,false,false,false,false,false,false,false,false,false,false,false,false,false,false,false,false,false,false,false,false,false,false,false,false,false,false,false,false,false,false,false,false,false,false,false,false,false,false,false,false,false,false,false,false,false,false,false,true,false,false,false,false,false,null,false,false,false,true,false,false,false,false,false,false,false,null,false,null,false,false,false,false,false,false,false,false,false,false,false,false,false,false,false,false,false,false,false,false,false,false,false,false,false,false,false,false,false,false,null,false,false,false,false,false,false,false,false,false,false,false,false,false,false,false,false,false,false,false,false,false,false,false,false,false,false,false,false,true,false,false,false,false,null,false,false,false,false,false,false,false,false,false,false,false,false,false,false,false,false,false,false,false,false,false,false,false,false,false,false,false,false,false,false,false,false,false,false,false,false,false,false,false,false,false,false,false,false,false,false,false,false,false,false,false,false,false,false,false,false,false,false,false,false,false,false,false,false,false,false,null,false,false,false,null,false,false,false,false,false,false,true,false,false,false,false,false,false,false,false,false,null,false,false,false,false,false,false,false,false,false,false,false,true,false,false,false,false,false,false,false,false,false,false,null,false,false,false,false,false,false,false,false,false,false,false,false,null,false,false,false,false,false,false,false,false,false,false,false,false,false,true,false,false,false,false,false,false,false,false,false,false,false,false,false,false,false,false,false,false,false,false,false,false,false,false,false,false,false,false,false,false,false,false,false,false,false,false,false,false,false,false,false,false,false,false,false,false,false,false,false,false,false,false,false,false,false,false,false,false,false,false,false,false,false,false,false,false,false,false,false,false,false,false,false,false,false,false,false,false,false,false,false,false,false,false,false,false,false,false,null,false,false,false,false,false,false,false,false,false,false,false,false,false,false,false,false,false,false,false,false,false,false,false,false,false,false,false,false,false,false,false,false,false,true,false,false,false,false,false,false,false,false,false,false,false,false,false,false,false,false,false,false,false,false,false,false,false,false,false,false,false,null,false,false,false,false,false,false,false,false,false,false,false,false,false,false,false,false,false,false,false,false,false,false,false,false,false,false,false,false,false,false,false,false,false,false,false,false,false,false,false,false,false,false,false,false,false,false,false,false,false,false,false,false,false,false,false,false,false,false,false,false,false,false,false,false,false,false,false,false,false,null,true,false,false,false,false,false,false,false,false,false,false,false,false,false,false,false,false,false,false,false,false,false,false,false,false,false,false,false,false,false,false,false,false,null,false,false,false,false,false,false,false,false,false,false,false,false,false,false,false,false,false,false,false,false,false,null,false,false,false,false,false,false,false,false,false,false,false,false,false,false,false,false,false,false,false,false,false,false,false,false,false,false,false,false,false,false,false,false,false,false,false,false,false,false,false,false,false,false,false,false,false,false,false,false,false,false,false,false,false,false,false,false,false,null,false,false,true,false,false,false,false,false,false,false,false,false,false,false,false,false,false,false,false,false,false,false,false,false,false,false,false,false,false,false,false,false,true,false,false,false,false,false,false,false,false,false,false,false,false,null,false,false,false,false,false,null,false,false,true,false,false,null,false,false,false,false,false,false,false,false,false,false,false,false,false,false,false,false,false,false,false,false,false,false,false,true,false,true,false,false,false,false,false,false,false,false,false,false,false,false,false,false,false,false,false,false,false,null,false,false,false,false,false,false,false,false,false,false,false,false,false,false,false,null,true,false,false,false,false,false,false,false,false,false,false,false,false,false,false,false,false,false,false,false,false,false,false,false,false,false,false,false,false,false,null,false,false,false,false,false,false,false,false,false,false,false,false,false,false,null,false,false,false,false,false,false,false,false,false,false,false,null,false,false,false,false,false,false,null,null,false,false,false,false,false,false,false,true,false,false,false,false,false,false,false,false,false,false,false,false,false,false,false,false,false,false,false,false,false,false,false,false,false,false,false,false,false,false,null,false,false,false,false,false,false,false,false,null,false,false,false,false,false,false,false,false,false,false,false,false,false,false,false,false,false,true,false,false,false,false,false,false,false,false,null,false,false,false,true,true,false,false,false,false,false,false,null,false,false,false,false,false,false,false,false,false,false,false,false,false,false,false,false,false,true,false,false,false,false,false,false,false,false,false,false,false,false,false,false,false,false,false,false,false,false,false,false,false,false,false,false,false,false,false,false,false,false,false,false,false,false,false,false,false,false,false,false,false,false,false,false,false,false,false,false,false,false,false,false,false,false,false,false,true,false,false,false,false,false,null,false,false,false,false,false,false,false,false,false,false,false,false,false,false,false,false,false,false,false,false,false,false,false,false,false,false,false,false,false,false,false,false,false,false,false,false,false,false,false,false,false,false,false,false,false,false,false,false,false,false,false,false,false,false,false,false,null,false,false,false,false,false,false,false,false,false,false,false,false,true,false,false,false,false,false,false,true,false,false,false,false,false,false,false,false,false,false,false,false,false,false,false,false,false,false,false,false,false,false,true,false,false,false,false,false,false,false,false,false,false,false,false,false,false,false,false,false,null,false,false,false,false,false,false,false,false,false,false,false,false,false,false,false,false,false,false,false,false,false,false,false,false,false,false,false,false,false,false,false,false,false,false,false,false,false,false,false,false,false,false,false,false,false,false,false,false,false,false,false,false,false,false,false,false,false,false,false,false,false,false,false,true,false,false,false,false,false,false,false,false,false,false,false,false,false,false,false,false,false,false,false,false,false,false,false,false,false,false,false,false,null,false,false,false,false,false,false,false,false,false,false,false,true,false,false,false,false,false,false,false,false,false,false,false,false,false,false,false,false,false,false,false,false,false,false,false,null,false,false,false,false,false,false,false,false,false,false,false,false,false,false,false,false,false,false,false,false,false,false,false,false,false,false,false,false,false,false,false,false,false,false,false,false,false,false,false,false,false,false,false,false,false,false,false,false,false,false,false,false,false,false,false,false,false,false,false,false,false,false,false,false,false,false,false,false,false,false,false,false,false,false,false,false,false,false,false,false,false,false,false,false,false,false,false,false,false,false,false,false,false,false,false,false,false,false,false,false,false,false,false,false,false,false,false,false,false,false,false,false,false,false,false,false,false,false,false,false,false,false,false,false,false,false,false,false,null,false,false,false,false,false,false,false,false,false,false,false,false,false,false,false,false,false,true,false,true,false,false,false,false,false,false,false,false,false,false,false,false,false,false,false,false,false,false,false,false,false,false,true,false,false,false,false,null,false,false,false,false,false,false,false,false,false,false,false,false,false,false,false,false,false,false,false,true,false,false,false,false,false,false,false,false,false,false,false,false,false,false,null,false,false,false,false,false,false,false,false,false,false,false,false,false,false,false,false,false,false,false,false,false,false,false,false,false,false,false,false,false,false,false,false,false,true,false,false,false,false,false,false,false,false,false,false,false,false,null,false,false,false,false,false,false,false,false,false,false,false,false,false,false,false,false,false,false,false,false,false,false,false,false,false,false,false,false,false,false,false,false,null,false,false,false,false,false,false,false,false,false,false,false,false,false,false,false,false,null,null,false,false,false,false,false,false,false,false,true,false,false,false,false,false,false,false,false,false,false,false,false,null,false,false,false,false,false,false,false,false,false,false,false,false,false,false,false,false,false,false,false,false,false,false,false,false,false,true,false,false,false,false,false,true,false,false,false,false,false,false,false,false,false,false,false,false,false,false,false,false,false,false,false,false,false,false,false,false,false,false,false,false,false,null,false,false,false,false,false,false,false,false,false,false,null,false,false,false,false,false,false,false,false,false,false,false,false,false,false,false,false,false,false,false,false,false,false,null,false,false,false,false,false,null,false,false,false,false,false,false,false,false,false,false,false,false,false,false,false,false,false,false,false,false,false,false,false,false,false,false,false,false,false,false,false,false,false,false,null,false,false,false,false,false,null,false,false,false,false,false,false,false,false,false,false,false,false,false,false,false,false,false,false,false,false,false,false,false,false,false,false,false,false,false,false,false,false,false,false,false,false,false,false,false,false,false,false,false,false,false,false,false,false,false,false,false,false,false,false,false,false,false,false,false,true,true,false,false,false,null,false,false,false,false,false,false,false,false,false,false,false,false,false,false,false,false,false,false,false,false,false,false,false,false,false,false,false,false,false,false,false,true,false,false,false,false,false,false,false,false,false,false,false,false,false,false,false,false,false,false,false,false,false,false,false,false,false,false,null,false,false,false,false,false,false,false,false,false,false,false,true,false,false,false,false,false,false,false,false,false,false,false,false,false,false,false,false,false,false,false,false,false,false,false,false,false,false,false,false,true,null,false,false,false,false,false,false,false,false,false,false,false,false,false,false,false,false,false,false,false,false,false,false,false,false,false,false,false,false,false,false,false,false,false,false,false,false,false,false,false,false,false,false,false,false,false,false,false,false,false,false,false,false,false,false,false,false,false,false,null,false,false,false,false,false,false,false,false,false,false,null,false,false,false,false,false,false,false,false,false,false,false,false,false,false,false,false,false,false,false,false,false,false,false,false,false,false,false,false,false,false,false,null,false,false,false,false,false,false,false,false,false,false,false,false,false,false,false,false,false,false,false,false,false,false,false,true,false,true,false,null,false,false,false,false,false,false,false,false,false,false,null,false,false,false,false,false,false,false,false,false,false,false,false,false,false,false,false,false,false,false,false,false,false,false,false,false,false,false,false,false,false,false,false,false,false,false,false,false,false,false,false,false,false,false,false,false,false,false,false,false,false,false,false,false,null,false,false,false,false,false,true,false,true,false,true,false,false,false,false,false,true,false,false,false,false,false,false,false,false,false,false,false,false,false,false,false,false,true,false,false,false,false,false,false,false,false,false,false,false,false,false,false,false,false,true,false,false,false,false,false,false,false,false,false,false,false,false,false,false,false,false,false,false,false,false,true,false,false,false,false,false,false,false,false,false,false,false,false,false,false,null,false,false,false,false,false,false,false,false,false,false,false,false,false,false,false,false,false,false,true,false,false,false,false,false,false,false,false,false,false,false,false,false,false,false,false,false,false,false,false,false,false,false,false,false,false,false,true,false,false,false,false,false,false,false,false,false,false,false,false,false,false,false,false,false,false,true,false,false,false,false,false,false,false,false,false,false,false,false,false,true,false,false,false,false,false,false,false,false,false,false,false,false,false,false,false,false,false,false,false,false,true,false,false,false,false,false,false,false,false,false,false,false,false,false,false,false,false,false,false,false,false,false,false,false,false,false,false,false,true,false,false,false,false,false,false,false,false,false,false,false,false,null,false,false,false,false,false,false,false,false,false,false,false,false,false,false,false,false,false,false,false,false,false,false,false,false,false,false,false,false,false,false,false,false,false,false,false,false,false,false,false,false,false,null,false,false,false,false,false,false,false,false,false,false,false,false,false,false,false,false,false,false,false,false,false,false,false,false,false,false,false,false,false,false,false,false,false,false,false,false,false,false,false,null,false,false,false,false,null,false,false,false,false,false,false,false,false,false,false,false,false,false,false,false,false,false,false,false,false,false,false,false,false,false,false,false,false,false,false,false,false,false,false,false,false,false,false,null,false,false,false,false,false,false,false,false,false,false,false,false,false,null,false,false,false,false,false,false,false,false,false,false,false,false,false,false,false,false,false,false,false,false,false,false,false,false,false,false,true,false,false,false,false,false,false,false,false,false,false,false,false,false,false,false,false,false,false,false,false,false,false,false,false,false,false,false,false,false,false,false,false,false,false,false,false,null,false,false,false,false,false,false,true,false,false,false,false,false,false,false,false,false,false,false,false,false,false,false,false,false,false,false,false,false,false,false,false,false,false,false,false,false,false,false,false,false,false,false,false,false,false,false,false,false,false,false,false,false,false,false,false,false,null,true,false,false,false,false,false,false,false,false,false,false,false,false,false,false,false,false,false,false,false,false,false,false,false,false,false,false,false,false,false,false,false,false,false,false,false,false,false,false,false,false,false,false,false,false,false,true,false,false,false,true,false,false,false,true,false,false,false,false,false,false,false,false,false,false,false,false,false,false,false,null,false,false,false,null,false,false,false,false,false,false,false,false,false,false,false,false,false,false,false,false,false,false,false,false,false,false,false,false,false,false,false,false,false,false,false,false,false,false,false,false,false,false,false,false,false,false,false,false,false,false,false,false,false,false,false,false,false,false,false,false,false,false,false,false,false,false,false,false,false,false,false,false,false,false,false,false,false,false,false,false,false,false,false,false,false,false,false,false,false,false,false,false,false,false,false,false,false,false,false,false,false,false,false,false,false,false,false,false,false,false,false,false,false,false,false,false,false,false,false,false,false,false,false,false,false,false,false,false,false,false,false,false,false,false,false,false,false,false,false,false,false,false,false,false,false,null,false,false,false,false,false,false,false,false,false,false,false,false,false,false,false,false,false,false,false,false,false,false,false,false,false,false,false,false,false,false,false,false,false,false,false,false,false,false,false,false,false,false,true,false,false,false,false,true,false,false,false,false,false,false,false,false,false,false,true,false,false,false,false,false,false,false,false,false,false,false,false,false,false,false,false,false,false,false,false,false,false,false,false,false,false,false,false,false,false,false,false,false,false,false,false,false,false,false,false,false,false,false,false,false,true,false,false,false,false,false,false,false,false,false,false,false,false,false,false,false,null,false,false,false,false,false,false,false,false,true,false,false,false,false,false,false,false,false,false,false,false,false,false,false,false,false,false,false,false,false,false,false,false,false,false,false,false,false,false,false,false,false,false,false,false,false,false,false,false,false,false,true,false,false,false,false,false,false,false,false,false,false,false,true,false,false,false,false,false,false,false,false,false,false,true,true,false,false,false,false,false,false,null,false,false,false,false,true,false,true,false,false,false,false,false,false,false,true,false,false,false,false,false,false,false,false,false,false,false,false,false,false,false,false,false,false,false,false,false,false,false,false,null,false,false,true,false,false,false,false,false,false,false,false,false,false,false,true,false,false,true,false,false,false,false,false,false,false,false,false,null,false,false,false,false,false,null,false,false,true,false,false,false,false,false,false,false,false,false,false,false,false,false,null,false,false,false,false,null,null,false,false,false,false,false,null,false,false,false,false,false,false,false,false,false,false,false,false,false,false,false,false,false,false,false,false,true,false,false,null,false,false,false,false,false,false,false,false,false,false,null,false,false,false,false,false,false,false,false,false,false,false,false,false,false,false,false,false,false,false,false,false,false,true,true,false,false,false,false,false,false,null,false,false,false,false,false,false,false,false,false,false,false,false,false,null,false,false,false,false,false,false,false,false,false,false,false,false,false,false,false,false,false,false,false,null,false,false,false,null,null,false,false,false,true,false,false,false,false,false,false,false,false,false,false,false,false,false,false,false,false,false,false,false,false,false,false,false,false,false,false,false,false,false,false,false,false,false,false,false,false,false,false,false,false,false,false,false,false,false,false,false,false,false,false,false,false,false,false,false,false,false,false,false,false,false,false,false,false,false,false,false,false,false,false,false,false,false,false,false,false,false,false,false,false,false,false,false,false,false,false,false,false,false,false,false,false,false,false,false,false,false,false,false,false,null,false,false,false,false,false,false,false,false,false,false,false,false,false,null,false,false,false,false,false,false,false,false,null,false,false,false,false,false,false,false,false,false,false,false,true,false,false,false,true,false,false,false,null,false,false,true,false,false,false,false,false,false,false,false,false,false,false,false,false,null,false,false,false,false,false,false,false,false,false,false,false,false,false,false,false,false,false,false,false,false,false,false,false,false,true,false,false,false,false,false,false,false,false,false,false,false,false,false,false,false,false,false,true,false,false,false,false,false,false,false,null,false,null,false,false,false,false,false,false,false,false,false,false,false,false,false,false,false,false,false,false,false,false,false,false,false,false,false,false,false,false,false,false,false,false,false,false,false,false,false,false,false,false,false,false,false,false,false,false,false,false,false,false,false,false,false,false,false,false,false,false,false,false,null,false,null,false,false,false,false,false,false,false,false,false,false,false,false,false,false,false,false,true,false,false,false,false,false,false,false,false,false,false,false,false,false,false,false,false,false,false,false,false,false,false,false,false,false,false,false,true,false,false,false,false,false,false,false,false,false,false,false,false,false,false,false,false,false,false,null,false,false,false,false,false,false,false,false,false,false,false,false,false,false,false,false,false,null,false,false,false,false,false,false,false,false,false,false,false,false,false,false,false,false,false,false,false,false,false,false,false,false,false,false,false,false,false,null,false,false,false,false,false,false,false,false,false,false,false,false,false,false,false,false,false,false,false,false,false,false,false,false,false,false,false,false,false,false,false,false,false,false,false,false,true,false,false,false,false,false,false,false,false,false,false,false,false,false,false,false,false,false,false,false,false,false,false,false,false,false,false,false,false,false,false,false,false,false,false,true,false,false,false,false,false,false,true,false,false,false,false,false,false,false,false,null,false,false,false,false,false,false,false,false,false,false,false,false,false,false,false,false,false,false,false,false,false,true,false,false,false,false,false,false,false,false,false,false,false,false,false,null,false,false,false,false,false,false,false,false,false,false,false,false,false,false,false,false,false,false,false,false,false,true,false,false,false,false],\"name\":\"VIP\",\"type\":\"pie\",\"domain\":{\"x\":[0.55,1.0],\"y\":[0.0,1.0]},\"marker\":{\"colors\":[\"rgb(230,218,135)\",\"rgb(228,139,133)\",\"rgb(227,178,175)\"]},\"hole\":0.4,\"textinfo\":\"label+percent\"}],                        {\"template\":{\"data\":{\"bar\":[{\"error_x\":{\"color\":\"#2a3f5f\"},\"error_y\":{\"color\":\"#2a3f5f\"},\"marker\":{\"line\":{\"color\":\"#E5ECF6\",\"width\":0.5},\"pattern\":{\"fillmode\":\"overlay\",\"size\":10,\"solidity\":0.2}},\"type\":\"bar\"}],\"barpolar\":[{\"marker\":{\"line\":{\"color\":\"#E5ECF6\",\"width\":0.5},\"pattern\":{\"fillmode\":\"overlay\",\"size\":10,\"solidity\":0.2}},\"type\":\"barpolar\"}],\"carpet\":[{\"aaxis\":{\"endlinecolor\":\"#2a3f5f\",\"gridcolor\":\"white\",\"linecolor\":\"white\",\"minorgridcolor\":\"white\",\"startlinecolor\":\"#2a3f5f\"},\"baxis\":{\"endlinecolor\":\"#2a3f5f\",\"gridcolor\":\"white\",\"linecolor\":\"white\",\"minorgridcolor\":\"white\",\"startlinecolor\":\"#2a3f5f\"},\"type\":\"carpet\"}],\"choropleth\":[{\"colorbar\":{\"outlinewidth\":0,\"ticks\":\"\"},\"type\":\"choropleth\"}],\"contour\":[{\"colorbar\":{\"outlinewidth\":0,\"ticks\":\"\"},\"colorscale\":[[0.0,\"#0d0887\"],[0.1111111111111111,\"#46039f\"],[0.2222222222222222,\"#7201a8\"],[0.3333333333333333,\"#9c179e\"],[0.4444444444444444,\"#bd3786\"],[0.5555555555555556,\"#d8576b\"],[0.6666666666666666,\"#ed7953\"],[0.7777777777777778,\"#fb9f3a\"],[0.8888888888888888,\"#fdca26\"],[1.0,\"#f0f921\"]],\"type\":\"contour\"}],\"contourcarpet\":[{\"colorbar\":{\"outlinewidth\":0,\"ticks\":\"\"},\"type\":\"contourcarpet\"}],\"heatmap\":[{\"colorbar\":{\"outlinewidth\":0,\"ticks\":\"\"},\"colorscale\":[[0.0,\"#0d0887\"],[0.1111111111111111,\"#46039f\"],[0.2222222222222222,\"#7201a8\"],[0.3333333333333333,\"#9c179e\"],[0.4444444444444444,\"#bd3786\"],[0.5555555555555556,\"#d8576b\"],[0.6666666666666666,\"#ed7953\"],[0.7777777777777778,\"#fb9f3a\"],[0.8888888888888888,\"#fdca26\"],[1.0,\"#f0f921\"]],\"type\":\"heatmap\"}],\"heatmapgl\":[{\"colorbar\":{\"outlinewidth\":0,\"ticks\":\"\"},\"colorscale\":[[0.0,\"#0d0887\"],[0.1111111111111111,\"#46039f\"],[0.2222222222222222,\"#7201a8\"],[0.3333333333333333,\"#9c179e\"],[0.4444444444444444,\"#bd3786\"],[0.5555555555555556,\"#d8576b\"],[0.6666666666666666,\"#ed7953\"],[0.7777777777777778,\"#fb9f3a\"],[0.8888888888888888,\"#fdca26\"],[1.0,\"#f0f921\"]],\"type\":\"heatmapgl\"}],\"histogram\":[{\"marker\":{\"pattern\":{\"fillmode\":\"overlay\",\"size\":10,\"solidity\":0.2}},\"type\":\"histogram\"}],\"histogram2d\":[{\"colorbar\":{\"outlinewidth\":0,\"ticks\":\"\"},\"colorscale\":[[0.0,\"#0d0887\"],[0.1111111111111111,\"#46039f\"],[0.2222222222222222,\"#7201a8\"],[0.3333333333333333,\"#9c179e\"],[0.4444444444444444,\"#bd3786\"],[0.5555555555555556,\"#d8576b\"],[0.6666666666666666,\"#ed7953\"],[0.7777777777777778,\"#fb9f3a\"],[0.8888888888888888,\"#fdca26\"],[1.0,\"#f0f921\"]],\"type\":\"histogram2d\"}],\"histogram2dcontour\":[{\"colorbar\":{\"outlinewidth\":0,\"ticks\":\"\"},\"colorscale\":[[0.0,\"#0d0887\"],[0.1111111111111111,\"#46039f\"],[0.2222222222222222,\"#7201a8\"],[0.3333333333333333,\"#9c179e\"],[0.4444444444444444,\"#bd3786\"],[0.5555555555555556,\"#d8576b\"],[0.6666666666666666,\"#ed7953\"],[0.7777777777777778,\"#fb9f3a\"],[0.8888888888888888,\"#fdca26\"],[1.0,\"#f0f921\"]],\"type\":\"histogram2dcontour\"}],\"mesh3d\":[{\"colorbar\":{\"outlinewidth\":0,\"ticks\":\"\"},\"type\":\"mesh3d\"}],\"parcoords\":[{\"line\":{\"colorbar\":{\"outlinewidth\":0,\"ticks\":\"\"}},\"type\":\"parcoords\"}],\"pie\":[{\"automargin\":true,\"type\":\"pie\"}],\"scatter\":[{\"marker\":{\"colorbar\":{\"outlinewidth\":0,\"ticks\":\"\"}},\"type\":\"scatter\"}],\"scatter3d\":[{\"line\":{\"colorbar\":{\"outlinewidth\":0,\"ticks\":\"\"}},\"marker\":{\"colorbar\":{\"outlinewidth\":0,\"ticks\":\"\"}},\"type\":\"scatter3d\"}],\"scattercarpet\":[{\"marker\":{\"colorbar\":{\"outlinewidth\":0,\"ticks\":\"\"}},\"type\":\"scattercarpet\"}],\"scattergeo\":[{\"marker\":{\"colorbar\":{\"outlinewidth\":0,\"ticks\":\"\"}},\"type\":\"scattergeo\"}],\"scattergl\":[{\"marker\":{\"colorbar\":{\"outlinewidth\":0,\"ticks\":\"\"}},\"type\":\"scattergl\"}],\"scattermapbox\":[{\"marker\":{\"colorbar\":{\"outlinewidth\":0,\"ticks\":\"\"}},\"type\":\"scattermapbox\"}],\"scatterpolar\":[{\"marker\":{\"colorbar\":{\"outlinewidth\":0,\"ticks\":\"\"}},\"type\":\"scatterpolar\"}],\"scatterpolargl\":[{\"marker\":{\"colorbar\":{\"outlinewidth\":0,\"ticks\":\"\"}},\"type\":\"scatterpolargl\"}],\"scatterternary\":[{\"marker\":{\"colorbar\":{\"outlinewidth\":0,\"ticks\":\"\"}},\"type\":\"scatterternary\"}],\"surface\":[{\"colorbar\":{\"outlinewidth\":0,\"ticks\":\"\"},\"colorscale\":[[0.0,\"#0d0887\"],[0.1111111111111111,\"#46039f\"],[0.2222222222222222,\"#7201a8\"],[0.3333333333333333,\"#9c179e\"],[0.4444444444444444,\"#bd3786\"],[0.5555555555555556,\"#d8576b\"],[0.6666666666666666,\"#ed7953\"],[0.7777777777777778,\"#fb9f3a\"],[0.8888888888888888,\"#fdca26\"],[1.0,\"#f0f921\"]],\"type\":\"surface\"}],\"table\":[{\"cells\":{\"fill\":{\"color\":\"#EBF0F8\"},\"line\":{\"color\":\"white\"}},\"header\":{\"fill\":{\"color\":\"#C8D4E3\"},\"line\":{\"color\":\"white\"}},\"type\":\"table\"}]},\"layout\":{\"annotationdefaults\":{\"arrowcolor\":\"#2a3f5f\",\"arrowhead\":0,\"arrowwidth\":1},\"autotypenumbers\":\"strict\",\"coloraxis\":{\"colorbar\":{\"outlinewidth\":0,\"ticks\":\"\"}},\"colorscale\":{\"diverging\":[[0,\"#8e0152\"],[0.1,\"#c51b7d\"],[0.2,\"#de77ae\"],[0.3,\"#f1b6da\"],[0.4,\"#fde0ef\"],[0.5,\"#f7f7f7\"],[0.6,\"#e6f5d0\"],[0.7,\"#b8e186\"],[0.8,\"#7fbc41\"],[0.9,\"#4d9221\"],[1,\"#276419\"]],\"sequential\":[[0.0,\"#0d0887\"],[0.1111111111111111,\"#46039f\"],[0.2222222222222222,\"#7201a8\"],[0.3333333333333333,\"#9c179e\"],[0.4444444444444444,\"#bd3786\"],[0.5555555555555556,\"#d8576b\"],[0.6666666666666666,\"#ed7953\"],[0.7777777777777778,\"#fb9f3a\"],[0.8888888888888888,\"#fdca26\"],[1.0,\"#f0f921\"]],\"sequentialminus\":[[0.0,\"#0d0887\"],[0.1111111111111111,\"#46039f\"],[0.2222222222222222,\"#7201a8\"],[0.3333333333333333,\"#9c179e\"],[0.4444444444444444,\"#bd3786\"],[0.5555555555555556,\"#d8576b\"],[0.6666666666666666,\"#ed7953\"],[0.7777777777777778,\"#fb9f3a\"],[0.8888888888888888,\"#fdca26\"],[1.0,\"#f0f921\"]]},\"colorway\":[\"#636efa\",\"#EF553B\",\"#00cc96\",\"#ab63fa\",\"#FFA15A\",\"#19d3f3\",\"#FF6692\",\"#B6E880\",\"#FF97FF\",\"#FECB52\"],\"font\":{\"color\":\"#2a3f5f\"},\"geo\":{\"bgcolor\":\"white\",\"lakecolor\":\"white\",\"landcolor\":\"#E5ECF6\",\"showlakes\":true,\"showland\":true,\"subunitcolor\":\"white\"},\"hoverlabel\":{\"align\":\"left\"},\"hovermode\":\"closest\",\"mapbox\":{\"style\":\"light\"},\"paper_bgcolor\":\"white\",\"plot_bgcolor\":\"#E5ECF6\",\"polar\":{\"angularaxis\":{\"gridcolor\":\"white\",\"linecolor\":\"white\",\"ticks\":\"\"},\"bgcolor\":\"#E5ECF6\",\"radialaxis\":{\"gridcolor\":\"white\",\"linecolor\":\"white\",\"ticks\":\"\"}},\"scene\":{\"xaxis\":{\"backgroundcolor\":\"#E5ECF6\",\"gridcolor\":\"white\",\"gridwidth\":2,\"linecolor\":\"white\",\"showbackground\":true,\"ticks\":\"\",\"zerolinecolor\":\"white\"},\"yaxis\":{\"backgroundcolor\":\"#E5ECF6\",\"gridcolor\":\"white\",\"gridwidth\":2,\"linecolor\":\"white\",\"showbackground\":true,\"ticks\":\"\",\"zerolinecolor\":\"white\"},\"zaxis\":{\"backgroundcolor\":\"#E5ECF6\",\"gridcolor\":\"white\",\"gridwidth\":2,\"linecolor\":\"white\",\"showbackground\":true,\"ticks\":\"\",\"zerolinecolor\":\"white\"}},\"shapedefaults\":{\"line\":{\"color\":\"#2a3f5f\"}},\"ternary\":{\"aaxis\":{\"gridcolor\":\"white\",\"linecolor\":\"white\",\"ticks\":\"\"},\"baxis\":{\"gridcolor\":\"white\",\"linecolor\":\"white\",\"ticks\":\"\"},\"bgcolor\":\"#E5ECF6\",\"caxis\":{\"gridcolor\":\"white\",\"linecolor\":\"white\",\"ticks\":\"\"}},\"title\":{\"x\":0.05},\"xaxis\":{\"automargin\":true,\"gridcolor\":\"white\",\"linecolor\":\"white\",\"ticks\":\"\",\"title\":{\"standoff\":15},\"zerolinecolor\":\"white\",\"zerolinewidth\":2},\"yaxis\":{\"automargin\":true,\"gridcolor\":\"white\",\"linecolor\":\"white\",\"ticks\":\"\",\"title\":{\"standoff\":15},\"zerolinecolor\":\"white\",\"zerolinewidth\":2}}},\"title\":{\"text\":\"CryoSleep And VIP\"},\"annotations\":[{\"showarrow\":false,\"text\":\"CryoSleep\",\"x\":0.17,\"y\":0.5,\"font\":{\"size\":20}},{\"showarrow\":false,\"text\":\"VIP\",\"x\":0.8,\"y\":0.5,\"font\":{\"size\":20}}]},                        {\"responsive\": true}                    ).then(function(){\n",
       "                            \n",
       "var gd = document.getElementById('3263a6c0-d11f-44b5-8b21-9597db66d59d');\n",
       "var x = new MutationObserver(function (mutations, observer) {{\n",
       "        var display = window.getComputedStyle(gd).display;\n",
       "        if (!display || display === 'none') {{\n",
       "            console.log([gd, 'removed!']);\n",
       "            Plotly.purge(gd);\n",
       "            observer.disconnect();\n",
       "        }}\n",
       "}});\n",
       "\n",
       "// Listen for the removal of the full notebook cells\n",
       "var notebookContainer = gd.closest('#notebook-container');\n",
       "if (notebookContainer) {{\n",
       "    x.observe(notebookContainer, {childList: true});\n",
       "}}\n",
       "\n",
       "// Listen for the clearing of the current output cell\n",
       "var outputEl = gd.closest('.output');\n",
       "if (outputEl) {{\n",
       "    x.observe(outputEl, {childList: true});\n",
       "}}\n",
       "\n",
       "                        })                };                });            </script>        </div>"
      ]
     },
     "metadata": {},
     "output_type": "display_data"
    }
   ],
   "source": [
    "fig = make_subplots(rows=1, cols=2, specs=[[{'type':'domain'}, {'type':'domain'}]])\n",
    "\n",
    "colors = ['rgb(230,218,135)', 'rgb(228,139,133)','rgb(227,178,175)']\n",
    "\n",
    "fig.add_trace(go.Pie(labels = train.CryoSleep, name = 'CryoSleep'),1,1)\n",
    "fig.add_trace(go.Pie(labels = train.VIP, name = 'VIP'),1,2)\n",
    "\n",
    "fig.update_traces(hole=.4, textinfo=\"label+percent\",marker_colors = colors)\n",
    "\n",
    "fig.update_layout(\n",
    "    title_text=\"CryoSleep And VIP\",\n",
    "    annotations=[dict(text='CryoSleep', x=0.17, y=0.5, font_size=20, showarrow=False),\n",
    "                 dict(text='VIP', x=0.8, y=0.5, font_size=20, showarrow=False)])\n",
    "\n",
    "fig.show()"
   ]
  },
  {
   "cell_type": "markdown",
   "id": "82285ce0",
   "metadata": {
    "papermill": {
     "duration": 0.084877,
     "end_time": "2022-04-11T06:28:36.940102",
     "exception": false,
     "start_time": "2022-04-11T06:28:36.855225",
     "status": "completed"
    },
    "tags": []
   },
   "source": [
    "-- Pie 사용  \n",
    "-- CryoSleep : 애니메이션 정지 신청은 34.9%로 꽤 비중을 가지고 있다.  \n",
    "-- VIP : 극일부만 vip이고 대부분의 사람들은 일반이다.  \n"
   ]
  },
  {
   "cell_type": "markdown",
   "id": "ddea9225",
   "metadata": {
    "papermill": {
     "duration": 0.084721,
     "end_time": "2022-04-11T06:28:37.112412",
     "exception": false,
     "start_time": "2022-04-11T06:28:37.027691",
     "status": "completed"
    },
    "tags": []
   },
   "source": [
    "- 연령대 분포 (**Age**)"
   ]
  },
  {
   "cell_type": "code",
   "execution_count": 14,
   "id": "51ddb377",
   "metadata": {
    "execution": {
     "iopub.execute_input": "2022-04-11T06:28:37.286147Z",
     "iopub.status.busy": "2022-04-11T06:28:37.285521Z",
     "iopub.status.idle": "2022-04-11T06:28:37.316338Z",
     "shell.execute_reply": "2022-04-11T06:28:37.316825Z",
     "shell.execute_reply.started": "2022-04-11T02:37:42.056054Z"
    },
    "papermill": {
     "duration": 0.118704,
     "end_time": "2022-04-11T06:28:37.316986",
     "exception": false,
     "start_time": "2022-04-11T06:28:37.198282",
     "status": "completed"
    },
    "tags": []
   },
   "outputs": [
    {
     "data": {
      "text/html": [
       "<div>                            <div id=\"4ac7c66c-1a1d-4950-94ea-84eecf2d574d\" class=\"plotly-graph-div\" style=\"height:525px; width:100%;\"></div>            <script type=\"text/javascript\">                require([\"plotly\"], function(Plotly) {                    window.PLOTLYENV=window.PLOTLYENV || {};                                    if (document.getElementById(\"4ac7c66c-1a1d-4950-94ea-84eecf2d574d\")) {                    Plotly.newPlot(                        \"4ac7c66c-1a1d-4950-94ea-84eecf2d574d\",                        [{\"marker\":{\"color\":\"rgb(228,139,133)\"},\"x\":[39.0,24.0,58.0,33.0,16.0,44.0,26.0,28.0,35.0,14.0,34.0,45.0,32.0,48.0,28.0,31.0,27.0,24.0,45.0,0.0,14.0,1.0,49.0,29.0,10.0,1.0,7.0,21.0,62.0,15.0,34.0,43.0,32.0,47.0,2.0,20.0,28.0,23.0,15.0,20.0,30.0,17.0,45.0,55.0,4.0,21.0,21.0,19.0,35.0,56.0,null,25.0,2.0,38.0,27.0,36.0,22.0,62.0,15.0,33.0,62.0,0.0,18.0,21.0,null,42.0,19.0,17.0,14.0,37.0,42.0,27.0,28.0,38.0,13.0,42.0,2.0,8.0,24.0,40.0,43.0,45.0,35.0,26.0,27.0,19.0,0.0,3.0,54.0,26.0,26.0,23.0,2.0,31.0,18.0,24.0,9.0,6.0,27.0,21.0,23.0,31.0,0.0,32.0,40.0,42.0,28.0,29.0,48.0,64.0,27.0,26.0,33.0,39.0,13.0,24.0,29.0,18.0,67.0,35.0,61.0,45.0,22.0,19.0,36.0,19.0,47.0,13.0,34.0,35.0,24.0,26.0,31.0,20.0,56.0,50.0,42.0,null,38.0,41.0,22.0,26.0,17.0,57.0,17.0,35.0,13.0,27.0,31.0,24.0,19.0,32.0,58.0,21.0,38.0,38.0,19.0,0.0,3.0,20.0,24.0,37.0,25.0,56.0,49.0,11.0,1.0,8.0,39.0,2.0,23.0,0.0,39.0,25.0,36.0,52.0,18.0,15.0,35.0,47.0,45.0,null,51.0,29.0,null,19.0,24.0,29.0,11.0,17.0,13.0,35.0,21.0,21.0,38.0,19.0,2.0,0.0,13.0,25.0,16.0,1.0,15.0,21.0,23.0,33.0,21.0,41.0,16.0,42.0,20.0,24.0,16.0,21.0,32.0,58.0,24.0,30.0,27.0,32.0,43.0,42.0,37.0,35.0,33.0,18.0,21.0,43.0,14.0,46.0,33.0,21.0,33.0,47.0,54.0,30.0,29.0,21.0,24.0,21.0,60.0,22.0,26.0,26.0,28.0,39.0,13.0,47.0,63.0,null,50.0,35.0,45.0,19.0,21.0,29.0,22.0,14.0,42.0,57.0,39.0,28.0,19.0,19.0,26.0,17.0,43.0,9.0,40.0,50.0,24.0,57.0,16.0,23.0,23.0,28.0,23.0,23.0,18.0,18.0,67.0,60.0,null,49.0,0.0,26.0,35.0,24.0,20.0,18.0,21.0,59.0,13.0,43.0,29.0,19.0,2.0,32.0,33.0,25.0,29.0,29.0,44.0,2.0,19.0,0.0,18.0,38.0,5.0,31.0,30.0,15.0,27.0,22.0,36.0,14.0,23.0,18.0,36.0,41.0,50.0,32.0,26.0,15.0,33.0,null,26.0,61.0,24.0,30.0,24.0,24.0,41.0,20.0,22.0,63.0,18.0,21.0,79.0,56.0,13.0,33.0,32.0,31.0,26.0,18.0,38.0,23.0,28.0,34.0,0.0,14.0,23.0,49.0,14.0,18.0,27.0,48.0,31.0,61.0,18.0,45.0,22.0,30.0,30.0,32.0,43.0,17.0,23.0,20.0,39.0,35.0,31.0,21.0,16.0,60.0,18.0,42.0,68.0,22.0,59.0,null,37.0,3.0,31.0,31.0,29.0,20.0,46.0,29.0,43.0,17.0,27.0,47.0,45.0,17.0,10.0,56.0,39.0,40.0,40.0,34.0,32.0,35.0,32.0,26.0,25.0,26.0,22.0,22.0,24.0,32.0,11.0,22.0,19.0,34.0,74.0,28.0,42.0,43.0,55.0,19.0,6.0,7.0,28.0,15.0,24.0,31.0,22.0,1.0,50.0,34.0,14.0,19.0,null,36.0,34.0,25.0,36.0,16.0,30.0,37.0,15.0,36.0,27.0,27.0,12.0,22.0,27.0,13.0,27.0,28.0,21.0,39.0,28.0,14.0,27.0,46.0,27.0,21.0,21.0,42.0,22.0,10.0,43.0,42.0,18.0,54.0,24.0,64.0,18.0,53.0,23.0,39.0,59.0,32.0,55.0,21.0,50.0,55.0,null,35.0,null,55.0,23.0,42.0,35.0,47.0,null,34.0,46.0,26.0,1.0,null,33.0,34.0,49.0,22.0,28.0,null,36.0,30.0,49.0,38.0,31.0,17.0,26.0,23.0,24.0,23.0,24.0,32.0,43.0,23.0,42.0,29.0,40.0,37.0,61.0,33.0,19.0,21.0,4.0,12.0,44.0,22.0,33.0,32.0,28.0,28.0,31.0,13.0,14.0,33.0,null,23.0,36.0,22.0,19.0,42.0,30.0,16.0,55.0,55.0,19.0,null,18.0,21.0,65.0,55.0,50.0,49.0,22.0,33.0,3.0,0.0,33.0,48.0,5.0,23.0,53.0,18.0,20.0,23.0,48.0,19.0,null,9.0,24.0,46.0,23.0,21.0,19.0,0.0,4.0,26.0,9.0,24.0,24.0,25.0,21.0,21.0,37.0,44.0,43.0,7.0,33.0,24.0,31.0,27.0,34.0,58.0,7.0,3.0,21.0,21.0,39.0,43.0,22.0,44.0,38.0,32.0,55.0,31.0,39.0,35.0,37.0,13.0,21.0,20.0,20.0,63.0,36.0,29.0,36.0,79.0,30.0,30.0,19.0,33.0,20.0,38.0,7.0,58.0,33.0,3.0,39.0,37.0,32.0,28.0,38.0,21.0,18.0,15.0,44.0,44.0,36.0,28.0,15.0,45.0,26.0,46.0,25.0,46.0,15.0,37.0,20.0,45.0,7.0,5.0,38.0,30.0,null,0.0,20.0,41.0,18.0,29.0,19.0,34.0,36.0,54.0,19.0,21.0,23.0,35.0,34.0,22.0,24.0,18.0,24.0,33.0,24.0,18.0,19.0,43.0,44.0,25.0,25.0,23.0,23.0,20.0,2.0,26.0,38.0,1.0,12.0,2.0,25.0,1.0,0.0,54.0,21.0,19.0,24.0,20.0,23.0,29.0,14.0,19.0,23.0,62.0,23.0,65.0,47.0,67.0,14.0,41.0,14.0,19.0,22.0,34.0,65.0,42.0,22.0,54.0,34.0,27.0,67.0,33.0,30.0,22.0,35.0,23.0,49.0,36.0,31.0,54.0,0.0,null,54.0,10.0,0.0,7.0,25.0,37.0,15.0,26.0,7.0,30.0,19.0,30.0,21.0,21.0,59.0,28.0,32.0,19.0,7.0,16.0,31.0,30.0,26.0,20.0,24.0,39.0,19.0,27.0,34.0,28.0,29.0,38.0,null,1.0,36.0,31.0,1.0,31.0,10.0,null,42.0,0.0,41.0,0.0,0.0,59.0,13.0,24.0,20.0,71.0,23.0,15.0,18.0,19.0,4.0,42.0,51.0,13.0,27.0,42.0,41.0,21.0,31.0,36.0,31.0,14.0,32.0,32.0,27.0,57.0,13.0,30.0,14.0,27.0,32.0,54.0,23.0,38.0,32.0,24.0,36.0,11.0,6.0,36.0,22.0,null,37.0,55.0,null,20.0,16.0,19.0,38.0,35.0,33.0,37.0,46.0,41.0,13.0,31.0,52.0,48.0,27.0,16.0,32.0,25.0,26.0,44.0,32.0,18.0,23.0,44.0,29.0,19.0,41.0,28.0,19.0,32.0,74.0,31.0,38.0,20.0,24.0,26.0,44.0,33.0,31.0,null,22.0,33.0,34.0,11.0,41.0,30.0,30.0,25.0,31.0,38.0,15.0,19.0,29.0,30.0,29.0,36.0,24.0,30.0,0.0,15.0,38.0,13.0,18.0,16.0,8.0,19.0,26.0,15.0,38.0,45.0,48.0,17.0,28.0,41.0,19.0,14.0,21.0,48.0,19.0,29.0,20.0,44.0,19.0,64.0,21.0,32.0,20.0,24.0,44.0,57.0,51.0,34.0,45.0,24.0,23.0,30.0,20.0,22.0,null,71.0,18.0,16.0,28.0,36.0,6.0,26.0,27.0,49.0,29.0,46.0,35.0,17.0,37.0,24.0,47.0,26.0,46.0,27.0,56.0,18.0,15.0,3.0,42.0,1.0,56.0,20.0,21.0,5.0,12.0,39.0,60.0,31.0,58.0,19.0,29.0,19.0,44.0,20.0,18.0,36.0,25.0,15.0,18.0,0.0,54.0,0.0,20.0,21.0,8.0,46.0,31.0,3.0,30.0,23.0,14.0,25.0,61.0,31.0,13.0,24.0,47.0,15.0,46.0,49.0,37.0,44.0,16.0,58.0,20.0,36.0,31.0,21.0,22.0,27.0,58.0,38.0,30.0,20.0,19.0,57.0,26.0,38.0,15.0,null,35.0,38.0,35.0,14.0,27.0,25.0,37.0,25.0,41.0,50.0,33.0,27.0,23.0,18.0,31.0,54.0,0.0,11.0,4.0,19.0,7.0,20.0,33.0,26.0,35.0,23.0,60.0,34.0,null,42.0,22.0,18.0,5.0,18.0,29.0,39.0,17.0,58.0,5.0,23.0,26.0,40.0,20.0,38.0,31.0,34.0,9.0,36.0,26.0,18.0,55.0,28.0,18.0,28.0,23.0,20.0,22.0,27.0,13.0,32.0,53.0,34.0,42.0,19.0,54.0,12.0,35.0,55.0,26.0,49.0,22.0,null,30.0,39.0,14.0,29.0,34.0,8.0,7.0,3.0,0.0,10.0,16.0,41.0,18.0,25.0,32.0,26.0,26.0,18.0,27.0,26.0,28.0,19.0,31.0,35.0,46.0,37.0,29.0,17.0,30.0,28.0,16.0,40.0,23.0,24.0,36.0,34.0,59.0,20.0,15.0,19.0,64.0,24.0,23.0,30.0,0.0,8.0,1.0,48.0,12.0,30.0,10.0,11.0,58.0,52.0,36.0,32.0,16.0,25.0,28.0,32.0,28.0,16.0,50.0,20.0,23.0,45.0,23.0,53.0,8.0,6.0,3.0,13.0,60.0,1.0,40.0,51.0,31.0,28.0,20.0,14.0,23.0,4.0,20.0,75.0,24.0,18.0,21.0,59.0,27.0,38.0,41.0,36.0,29.0,22.0,23.0,32.0,21.0,26.0,61.0,30.0,40.0,37.0,41.0,32.0,30.0,27.0,22.0,54.0,27.0,52.0,15.0,27.0,30.0,19.0,22.0,43.0,25.0,51.0,34.0,21.0,21.0,23.0,38.0,30.0,31.0,44.0,14.0,18.0,19.0,null,36.0,10.0,1.0,4.0,21.0,24.0,8.0,18.0,33.0,31.0,43.0,20.0,28.0,30.0,28.0,19.0,22.0,27.0,22.0,2.0,4.0,10.0,9.0,37.0,2.0,44.0,11.0,22.0,40.0,30.0,37.0,26.0,19.0,57.0,1.0,17.0,26.0,21.0,28.0,36.0,25.0,40.0,23.0,2.0,10.0,43.0,0.0,24.0,42.0,30.0,19.0,26.0,47.0,28.0,24.0,29.0,32.0,44.0,17.0,35.0,23.0,34.0,25.0,67.0,22.0,null,27.0,14.0,42.0,19.0,22.0,31.0,10.0,39.0,41.0,0.0,22.0,21.0,40.0,25.0,23.0,33.0,20.0,40.0,27.0,21.0,25.0,2.0,19.0,41.0,43.0,19.0,22.0,16.0,42.0,20.0,35.0,53.0,17.0,6.0,22.0,41.0,19.0,39.0,23.0,31.0,38.0,1.0,13.0,21.0,44.0,36.0,19.0,7.0,39.0,28.0,28.0,14.0,18.0,23.0,33.0,18.0,47.0,42.0,17.0,21.0,17.0,26.0,23.0,15.0,18.0,65.0,33.0,27.0,41.0,42.0,null,37.0,17.0,24.0,39.0,59.0,32.0,29.0,8.0,28.0,35.0,24.0,1.0,4.0,28.0,46.0,67.0,44.0,14.0,23.0,51.0,20.0,0.0,0.0,23.0,24.0,41.0,30.0,27.0,13.0,16.0,30.0,8.0,59.0,43.0,30.0,46.0,39.0,21.0,70.0,34.0,33.0,44.0,16.0,63.0,37.0,29.0,29.0,22.0,26.0,76.0,61.0,46.0,19.0,13.0,null,30.0,23.0,63.0,21.0,32.0,33.0,39.0,49.0,27.0,16.0,38.0,42.0,19.0,26.0,32.0,56.0,0.0,38.0,30.0,21.0,11.0,3.0,17.0,35.0,17.0,0.0,46.0,63.0,35.0,61.0,19.0,43.0,14.0,78.0,21.0,32.0,31.0,40.0,13.0,36.0,31.0,18.0,40.0,28.0,41.0,35.0,14.0,20.0,23.0,22.0,25.0,18.0,25.0,30.0,46.0,27.0,53.0,21.0,32.0,32.0,33.0,26.0,47.0,13.0,34.0,21.0,20.0,21.0,51.0,18.0,26.0,53.0,30.0,37.0,45.0,62.0,38.0,24.0,18.0,23.0,16.0,37.0,22.0,18.0,25.0,26.0,25.0,55.0,28.0,23.0,22.0,26.0,13.0,18.0,38.0,28.0,57.0,0.0,18.0,25.0,35.0,37.0,33.0,35.0,47.0,23.0,null,27.0,23.0,31.0,19.0,53.0,37.0,18.0,42.0,7.0,7.0,24.0,20.0,24.0,42.0,49.0,47.0,16.0,26.0,24.0,38.0,0.0,37.0,39.0,25.0,25.0,35.0,0.0,46.0,4.0,19.0,29.0,19.0,47.0,1.0,4.0,37.0,61.0,32.0,4.0,16.0,25.0,22.0,41.0,25.0,19.0,21.0,14.0,18.0,34.0,33.0,14.0,28.0,43.0,3.0,0.0,47.0,28.0,40.0,17.0,21.0,null,41.0,20.0,56.0,57.0,48.0,37.0,20.0,36.0,38.0,22.0,31.0,0.0,21.0,49.0,44.0,null,29.0,16.0,20.0,26.0,19.0,34.0,38.0,51.0,7.0,3.0,26.0,27.0,7.0,19.0,28.0,27.0,31.0,26.0,43.0,23.0,14.0,47.0,17.0,64.0,13.0,18.0,29.0,70.0,23.0,23.0,35.0,17.0,26.0,15.0,19.0,20.0,51.0,17.0,27.0,43.0,5.0,17.0,40.0,38.0,20.0,13.0,15.0,15.0,59.0,24.0,null,52.0,38.0,26.0,17.0,17.0,20.0,15.0,30.0,22.0,18.0,22.0,20.0,22.0,34.0,28.0,50.0,19.0,21.0,0.0,4.0,59.0,15.0,24.0,26.0,67.0,55.0,50.0,23.0,21.0,15.0,41.0,59.0,18.0,21.0,14.0,50.0,32.0,46.0,null,58.0,15.0,35.0,30.0,30.0,43.0,21.0,15.0,37.0,28.0,28.0,40.0,42.0,21.0,31.0,51.0,73.0,26.0,33.0,39.0,19.0,12.0,10.0,0.0,0.0,1.0,33.0,23.0,5.0,24.0,26.0,30.0,33.0,56.0,25.0,null,25.0,18.0,60.0,41.0,16.0,17.0,26.0,31.0,67.0,16.0,24.0,19.0,48.0,30.0,22.0,28.0,23.0,29.0,22.0,48.0,26.0,23.0,55.0,46.0,38.0,2.0,3.0,20.0,65.0,null,25.0,54.0,25.0,14.0,53.0,0.0,39.0,22.0,31.0,24.0,35.0,35.0,32.0,61.0,58.0,26.0,4.0,1.0,8.0,7.0,25.0,6.0,29.0,64.0,31.0,25.0,30.0,0.0,29.0,37.0,49.0,36.0,20.0,20.0,18.0,17.0,48.0,26.0,35.0,30.0,22.0,5.0,43.0,52.0,50.0,29.0,19.0,39.0,38.0,21.0,25.0,42.0,36.0,19.0,42.0,40.0,14.0,50.0,18.0,46.0,null,15.0,22.0,0.0,52.0,38.0,46.0,23.0,63.0,24.0,50.0,20.0,55.0,21.0,56.0,45.0,18.0,47.0,36.0,57.0,13.0,27.0,20.0,47.0,15.0,34.0,21.0,51.0,23.0,58.0,37.0,44.0,25.0,15.0,40.0,29.0,36.0,21.0,35.0,24.0,2.0,0.0,43.0,63.0,30.0,38.0,27.0,54.0,39.0,41.0,22.0,23.0,34.0,26.0,39.0,15.0,64.0,25.0,35.0,19.0,26.0,3.0,29.0,44.0,27.0,17.0,37.0,19.0,44.0,22.0,22.0,21.0,31.0,17.0,30.0,15.0,42.0,55.0,28.0,33.0,19.0,24.0,4.0,2.0,30.0,31.0,17.0,40.0,33.0,46.0,30.0,17.0,19.0,22.0,20.0,36.0,0.0,17.0,null,15.0,20.0,19.0,24.0,43.0,26.0,42.0,21.0,50.0,25.0,64.0,50.0,24.0,27.0,42.0,30.0,20.0,31.0,26.0,39.0,null,32.0,25.0,6.0,3.0,11.0,52.0,14.0,68.0,18.0,55.0,22.0,34.0,17.0,38.0,13.0,19.0,30.0,27.0,17.0,45.0,28.0,23.0,24.0,23.0,29.0,46.0,17.0,20.0,24.0,40.0,null,38.0,65.0,19.0,54.0,38.0,40.0,21.0,22.0,33.0,18.0,43.0,13.0,26.0,22.0,21.0,25.0,29.0,49.0,29.0,45.0,45.0,30.0,29.0,26.0,16.0,20.0,33.0,18.0,24.0,29.0,40.0,27.0,35.0,31.0,26.0,49.0,23.0,23.0,14.0,21.0,18.0,null,19.0,22.0,17.0,13.0,26.0,null,16.0,20.0,20.0,23.0,61.0,27.0,3.0,4.0,13.0,19.0,18.0,66.0,39.0,21.0,7.0,56.0,15.0,null,13.0,18.0,38.0,45.0,21.0,19.0,49.0,21.0,18.0,43.0,27.0,0.0,27.0,21.0,20.0,35.0,20.0,24.0,41.0,23.0,27.0,58.0,53.0,30.0,24.0,31.0,46.0,20.0,20.0,30.0,24.0,34.0,20.0,48.0,25.0,43.0,27.0,47.0,26.0,37.0,42.0,61.0,29.0,32.0,51.0,43.0,25.0,31.0,13.0,20.0,29.0,16.0,15.0,50.0,41.0,43.0,32.0,36.0,18.0,47.0,29.0,null,14.0,25.0,63.0,22.0,32.0,31.0,24.0,39.0,20.0,20.0,19.0,20.0,31.0,17.0,24.0,27.0,28.0,41.0,25.0,26.0,27.0,22.0,62.0,58.0,37.0,54.0,26.0,44.0,34.0,47.0,27.0,22.0,46.0,29.0,43.0,42.0,39.0,30.0,43.0,19.0,26.0,46.0,3.0,21.0,1.0,22.0,27.0,28.0,36.0,19.0,18.0,47.0,18.0,6.0,20.0,18.0,37.0,22.0,37.0,6.0,36.0,46.0,75.0,37.0,22.0,33.0,35.0,19.0,34.0,23.0,37.0,24.0,54.0,52.0,60.0,1.0,null,22.0,27.0,48.0,47.0,25.0,49.0,33.0,67.0,5.0,60.0,56.0,59.0,44.0,33.0,28.0,29.0,13.0,34.0,45.0,39.0,18.0,57.0,null,25.0,22.0,32.0,29.0,21.0,16.0,45.0,44.0,27.0,26.0,46.0,24.0,15.0,53.0,28.0,11.0,7.0,0.0,15.0,31.0,9.0,44.0,35.0,30.0,13.0,45.0,4.0,21.0,20.0,24.0,3.0,29.0,28.0,44.0,50.0,35.0,19.0,22.0,30.0,36.0,20.0,22.0,22.0,32.0,35.0,41.0,57.0,3.0,11.0,4.0,17.0,30.0,11.0,23.0,58.0,22.0,24.0,20.0,37.0,49.0,46.0,30.0,36.0,21.0,25.0,42.0,13.0,25.0,29.0,17.0,36.0,44.0,18.0,22.0,22.0,43.0,29.0,24.0,18.0,42.0,43.0,32.0,15.0,22.0,20.0,34.0,70.0,18.0,26.0,17.0,13.0,19.0,32.0,33.0,21.0,23.0,24.0,17.0,34.0,31.0,43.0,43.0,33.0,28.0,27.0,7.0,16.0,42.0,27.0,19.0,42.0,13.0,16.0,21.0,28.0,69.0,15.0,48.0,42.0,42.0,23.0,26.0,45.0,30.0,36.0,null,35.0,21.0,50.0,52.0,21.0,41.0,35.0,26.0,17.0,69.0,27.0,25.0,27.0,25.0,36.0,14.0,27.0,22.0,24.0,null,4.0,19.0,19.0,38.0,39.0,23.0,57.0,18.0,43.0,28.0,33.0,37.0,28.0,28.0,18.0,29.0,29.0,28.0,24.0,59.0,43.0,20.0,23.0,27.0,38.0,38.0,48.0,25.0,25.0,24.0,69.0,20.0,18.0,28.0,23.0,24.0,44.0,29.0,6.0,42.0,78.0,36.0,37.0,41.0,18.0,62.0,0.0,55.0,16.0,32.0,19.0,7.0,4.0,30.0,24.0,34.0,30.0,3.0,32.0,55.0,0.0,51.0,0.0,21.0,2.0,19.0,24.0,20.0,42.0,17.0,32.0,28.0,21.0,56.0,28.0,42.0,18.0,24.0,20.0,22.0,22.0,21.0,28.0,26.0,50.0,26.0,30.0,29.0,8.0,45.0,35.0,18.0,23.0,29.0,18.0,28.0,34.0,0.0,4.0,28.0,8.0,20.0,20.0,25.0,31.0,37.0,21.0,24.0,34.0,0.0,25.0,43.0,null,45.0,63.0,17.0,35.0,12.0,null,17.0,32.0,23.0,17.0,34.0,15.0,14.0,22.0,19.0,40.0,25.0,51.0,22.0,50.0,26.0,39.0,18.0,22.0,26.0,19.0,16.0,24.0,34.0,55.0,42.0,14.0,28.0,26.0,33.0,24.0,23.0,16.0,36.0,44.0,22.0,30.0,20.0,21.0,14.0,27.0,19.0,21.0,null,13.0,71.0,28.0,18.0,23.0,34.0,20.0,17.0,21.0,33.0,34.0,51.0,21.0,null,31.0,36.0,39.0,26.0,51.0,24.0,27.0,31.0,24.0,57.0,36.0,55.0,null,18.0,27.0,50.0,24.0,20.0,24.0,18.0,44.0,27.0,58.0,29.0,23.0,3.0,0.0,33.0,12.0,44.0,20.0,59.0,18.0,72.0,23.0,11.0,1.0,25.0,25.0,24.0,54.0,17.0,48.0,40.0,2.0,32.0,15.0,52.0,16.0,16.0,16.0,6.0,10.0,27.0,45.0,26.0,29.0,38.0,19.0,43.0,15.0,31.0,52.0,49.0,29.0,18.0,41.0,9.0,null,58.0,39.0,13.0,36.0,23.0,24.0,33.0,18.0,2.0,0.0,36.0,15.0,31.0,42.0,27.0,36.0,0.0,3.0,22.0,56.0,23.0,25.0,29.0,17.0,13.0,35.0,53.0,24.0,38.0,21.0,29.0,46.0,58.0,53.0,21.0,27.0,31.0,23.0,41.0,29.0,54.0,43.0,36.0,48.0,34.0,42.0,17.0,22.0,37.0,38.0,21.0,23.0,27.0,23.0,19.0,28.0,33.0,24.0,0.0,41.0,19.0,44.0,43.0,14.0,18.0,25.0,0.0,4.0,24.0,38.0,44.0,57.0,3.0,5.0,3.0,18.0,8.0,21.0,35.0,47.0,28.0,49.0,23.0,19.0,34.0,40.0,26.0,23.0,22.0,51.0,44.0,50.0,28.0,13.0,21.0,20.0,14.0,38.0,29.0,36.0,16.0,40.0,null,18.0,17.0,32.0,27.0,34.0,53.0,36.0,41.0,51.0,61.0,59.0,17.0,27.0,57.0,39.0,55.0,42.0,36.0,42.0,32.0,6.0,15.0,28.0,37.0,44.0,71.0,44.0,36.0,18.0,3.0,12.0,0.0,29.0,9.0,27.0,24.0,38.0,28.0,26.0,16.0,24.0,33.0,24.0,29.0,25.0,0.0,13.0,7.0,32.0,34.0,49.0,43.0,0.0,6.0,23.0,43.0,23.0,43.0,41.0,54.0,51.0,44.0,48.0,45.0,20.0,33.0,21.0,68.0,23.0,16.0,35.0,22.0,51.0,2.0,29.0,0.0,39.0,55.0,22.0,20.0,25.0,18.0,28.0,26.0,28.0,54.0,56.0,25.0,26.0,14.0,21.0,43.0,37.0,null,38.0,14.0,20.0,33.0,33.0,13.0,37.0,15.0,33.0,24.0,49.0,24.0,24.0,26.0,40.0,31.0,47.0,19.0,38.0,33.0,45.0,1.0,32.0,70.0,19.0,55.0,48.0,66.0,13.0,40.0,35.0,32.0,51.0,37.0,31.0,37.0,38.0,19.0,33.0,19.0,31.0,43.0,22.0,24.0,21.0,14.0,30.0,22.0,11.0,4.0,0.0,30.0,21.0,40.0,57.0,35.0,32.0,32.0,30.0,69.0,21.0,17.0,16.0,25.0,25.0,52.0,13.0,37.0,13.0,45.0,55.0,22.0,39.0,35.0,19.0,7.0,19.0,21.0,37.0,35.0,22.0,62.0,41.0,16.0,26.0,36.0,null,22.0,40.0,50.0,57.0,15.0,23.0,60.0,73.0,35.0,28.0,27.0,14.0,26.0,22.0,22.0,71.0,25.0,27.0,1.0,52.0,0.0,30.0,52.0,12.0,22.0,24.0,22.0,15.0,21.0,56.0,50.0,20.0,32.0,28.0,74.0,25.0,31.0,6.0,17.0,12.0,47.0,46.0,31.0,36.0,15.0,38.0,48.0,21.0,4.0,31.0,31.0,62.0,29.0,30.0,26.0,43.0,32.0,24.0,49.0,21.0,18.0,18.0,14.0,21.0,25.0,56.0,0.0,55.0,14.0,13.0,43.0,39.0,null,24.0,26.0,22.0,26.0,19.0,38.0,38.0,77.0,28.0,22.0,20.0,18.0,10.0,34.0,43.0,31.0,40.0,25.0,68.0,20.0,27.0,1.0,60.0,28.0,11.0,0.0,9.0,38.0,18.0,40.0,21.0,24.0,26.0,47.0,46.0,55.0,50.0,10.0,17.0,20.0,37.0,24.0,43.0,0.0,24.0,22.0,14.0,3.0,22.0,23.0,56.0,36.0,58.0,1.0,39.0,33.0,19.0,null,33.0,17.0,28.0,21.0,45.0,62.0,43.0,27.0,1.0,31.0,18.0,21.0,7.0,22.0,26.0,30.0,17.0,null,10.0,25.0,21.0,53.0,21.0,28.0,20.0,54.0,9.0,20.0,19.0,32.0,22.0,35.0,26.0,51.0,8.0,40.0,2.0,19.0,32.0,16.0,64.0,35.0,33.0,9.0,21.0,28.0,28.0,31.0,32.0,43.0,60.0,43.0,43.0,19.0,21.0,38.0,17.0,29.0,2.0,22.0,18.0,16.0,52.0,52.0,14.0,25.0,34.0,20.0,28.0,null,20.0,44.0,64.0,27.0,24.0,38.0,47.0,8.0,1.0,0.0,20.0,41.0,35.0,31.0,14.0,25.0,26.0,26.0,30.0,49.0,19.0,15.0,27.0,39.0,32.0,11.0,44.0,36.0,56.0,42.0,40.0,53.0,31.0,14.0,31.0,42.0,32.0,34.0,55.0,42.0,40.0,48.0,37.0,17.0,60.0,19.0,30.0,32.0,28.0,26.0,24.0,47.0,32.0,73.0,17.0,47.0,null,13.0,22.0,61.0,19.0,45.0,18.0,32.0,52.0,25.0,9.0,18.0,26.0,20.0,6.0,5.0,40.0,20.0,18.0,42.0,14.0,33.0,23.0,35.0,53.0,56.0,35.0,18.0,25.0,20.0,44.0,26.0,23.0,39.0,25.0,42.0,20.0,4.0,64.0,0.0,19.0,6.0,23.0,22.0,18.0,21.0,37.0,24.0,38.0,11.0,6.0,49.0,55.0,15.0,19.0,16.0,48.0,25.0,23.0,27.0,39.0,28.0,72.0,47.0,65.0,40.0,18.0,27.0,21.0,37.0,31.0,33.0,53.0,27.0,74.0,null,23.0,74.0,23.0,26.0,0.0,0.0,24.0,28.0,17.0,26.0,39.0,17.0,15.0,37.0,38.0,33.0,16.0,41.0,7.0,20.0,44.0,42.0,29.0,22.0,21.0,21.0,21.0,13.0,16.0,36.0,36.0,26.0,28.0,14.0,29.0,19.0,51.0,64.0,41.0,null,16.0,20.0,31.0,38.0,59.0,18.0,33.0,33.0,49.0,4.0,0.0,0.0,24.0,52.0,50.0,31.0,25.0,62.0,49.0,24.0,33.0,20.0,46.0,26.0,52.0,28.0,39.0,29.0,19.0,15.0,33.0,47.0,34.0,26.0,15.0,null,27.0,38.0,21.0,1.0,38.0,0.0,32.0,27.0,48.0,22.0,28.0,19.0,37.0,46.0,26.0,16.0,0.0,0.0,26.0,13.0,23.0,70.0,21.0,40.0,18.0,23.0,15.0,28.0,45.0,18.0,23.0,36.0,25.0,28.0,29.0,31.0,14.0,31.0,39.0,17.0,56.0,36.0,21.0,48.0,53.0,5.0,21.0,50.0,18.0,28.0,28.0,18.0,37.0,19.0,27.0,37.0,43.0,17.0,21.0,55.0,14.0,24.0,26.0,19.0,20.0,14.0,19.0,15.0,25.0,24.0,22.0,26.0,23.0,20.0,53.0,55.0,22.0,35.0,40.0,22.0,22.0,21.0,64.0,40.0,8.0,25.0,19.0,24.0,11.0,31.0,46.0,31.0,17.0,16.0,57.0,28.0,27.0,28.0,26.0,17.0,36.0,24.0,18.0,20.0,10.0,null,23.0,36.0,27.0,54.0,38.0,29.0,37.0,36.0,18.0,28.0,61.0,19.0,29.0,37.0,29.0,38.0,41.0,23.0,48.0,0.0,46.0,36.0,42.0,null,16.0,43.0,40.0,22.0,39.0,37.0,28.0,29.0,14.0,15.0,17.0,4.0,24.0,null,22.0,38.0,30.0,29.0,26.0,41.0,50.0,34.0,24.0,24.0,45.0,35.0,23.0,23.0,21.0,19.0,24.0,2.0,0.0,20.0,35.0,34.0,26.0,26.0,32.0,25.0,30.0,57.0,23.0,32.0,27.0,20.0,21.0,19.0,16.0,18.0,18.0,22.0,null,35.0,8.0,5.0,40.0,31.0,9.0,56.0,39.0,18.0,45.0,33.0,2.0,1.0,2.0,16.0,18.0,28.0,45.0,24.0,35.0,16.0,40.0,5.0,29.0,31.0,27.0,34.0,15.0,43.0,30.0,61.0,48.0,17.0,19.0,29.0,2.0,24.0,19.0,34.0,19.0,39.0,26.0,53.0,18.0,null,45.0,32.0,18.0,48.0,24.0,52.0,55.0,43.0,24.0,8.0,18.0,38.0,18.0,23.0,26.0,21.0,45.0,24.0,44.0,20.0,47.0,16.0,28.0,8.0,20.0,22.0,42.0,23.0,30.0,18.0,35.0,42.0,46.0,29.0,35.0,48.0,24.0,38.0,51.0,77.0,22.0,38.0,42.0,55.0,7.0,null,25.0,15.0,13.0,23.0,null,33.0,26.0,67.0,27.0,33.0,18.0,36.0,18.0,51.0,54.0,33.0,18.0,57.0,23.0,24.0,20.0,32.0,21.0,null,41.0,27.0,49.0,18.0,34.0,73.0,40.0,63.0,21.0,21.0,23.0,31.0,41.0,15.0,36.0,24.0,27.0,24.0,19.0,25.0,39.0,15.0,31.0,25.0,57.0,null,18.0,33.0,23.0,34.0,38.0,21.0,31.0,13.0,54.0,13.0,18.0,null,43.0,56.0,63.0,9.0,9.0,0.0,16.0,42.0,9.0,22.0,47.0,30.0,29.0,null,22.0,19.0,31.0,17.0,38.0,13.0,36.0,0.0,21.0,18.0,36.0,27.0,5.0,18.0,25.0,14.0,23.0,2.0,1.0,7.0,6.0,56.0,4.0,65.0,36.0,25.0,41.0,20.0,18.0,15.0,23.0,29.0,33.0,14.0,55.0,30.0,21.0,26.0,33.0,18.0,9.0,0.0,19.0,18.0,38.0,42.0,28.0,37.0,29.0,42.0,18.0,34.0,34.0,18.0,24.0,24.0,56.0,2.0,12.0,37.0,60.0,55.0,20.0,28.0,28.0,37.0,18.0,14.0,29.0,51.0,45.0,45.0,41.0,21.0,28.0,0.0,46.0,41.0,13.0,55.0,20.0,21.0,49.0,27.0,0.0,22.0,17.0,23.0,44.0,29.0,19.0,3.0,29.0,19.0,22.0,33.0,null,50.0,54.0,43.0,17.0,26.0,44.0,51.0,29.0,4.0,40.0,27.0,8.0,3.0,11.0,24.0,25.0,28.0,25.0,27.0,25.0,0.0,58.0,3.0,4.0,2.0,34.0,5.0,3.0,46.0,22.0,8.0,17.0,4.0,12.0,40.0,16.0,41.0,8.0,14.0,2.0,59.0,45.0,52.0,33.0,51.0,38.0,14.0,42.0,28.0,34.0,21.0,30.0,null,26.0,23.0,20.0,59.0,37.0,32.0,37.0,27.0,42.0,29.0,2.0,10.0,0.0,21.0,8.0,null,27.0,13.0,49.0,38.0,21.0,22.0,14.0,24.0,24.0,34.0,1.0,null,26.0,null,32.0,2.0,10.0,49.0,14.0,29.0,25.0,36.0,22.0,21.0,36.0,54.0,30.0,0.0,1.0,42.0,47.0,25.0,18.0,22.0,27.0,24.0,null,22.0,60.0,38.0,23.0,21.0,55.0,20.0,50.0,22.0,21.0,26.0,36.0,46.0,26.0,24.0,14.0,46.0,15.0,30.0,null,38.0,48.0,31.0,41.0,43.0,23.0,48.0,47.0,19.0,25.0,28.0,16.0,45.0,31.0,19.0,21.0,null,22.0,23.0,54.0,0.0,4.0,23.0,19.0,34.0,18.0,40.0,58.0,39.0,23.0,11.0,43.0,29.0,36.0,13.0,54.0,45.0,33.0,46.0,15.0,35.0,23.0,15.0,27.0,15.0,27.0,16.0,37.0,45.0,58.0,null,38.0,28.0,47.0,41.0,28.0,23.0,24.0,58.0,36.0,24.0,56.0,15.0,19.0,27.0,47.0,37.0,39.0,20.0,20.0,38.0,46.0,13.0,24.0,32.0,null,44.0,19.0,30.0,23.0,4.0,0.0,17.0,44.0,31.0,41.0,33.0,43.0,43.0,36.0,19.0,24.0,17.0,23.0,17.0,18.0,34.0,13.0,66.0,27.0,19.0,55.0,40.0,23.0,7.0,12.0,37.0,22.0,25.0,46.0,37.0,50.0,28.0,26.0,28.0,23.0,23.0,34.0,65.0,20.0,29.0,30.0,3.0,40.0,32.0,31.0,13.0,29.0,28.0,19.0,24.0,22.0,13.0,21.0,24.0,47.0,27.0,18.0,36.0,68.0,31.0,28.0,36.0,17.0,13.0,30.0,58.0,43.0,20.0,29.0,15.0,30.0,33.0,25.0,62.0,41.0,27.0,18.0,27.0,19.0,37.0,24.0,29.0,44.0,19.0,39.0,63.0,39.0,41.0,27.0,56.0,22.0,26.0,24.0,18.0,13.0,32.0,30.0,25.0,55.0,19.0,24.0,32.0,24.0,32.0,36.0,28.0,52.0,29.0,23.0,32.0,35.0,41.0,16.0,33.0,6.0,15.0,38.0,56.0,4.0,21.0,22.0,37.0,6.0,22.0,26.0,22.0,20.0,null,24.0,25.0,48.0,24.0,3.0,24.0,25.0,1.0,20.0,22.0,28.0,17.0,28.0,47.0,34.0,29.0,14.0,36.0,40.0,49.0,51.0,41.0,44.0,47.0,22.0,13.0,18.0,28.0,22.0,50.0,47.0,55.0,21.0,39.0,21.0,37.0,31.0,23.0,28.0,23.0,20.0,28.0,40.0,54.0,18.0,27.0,43.0,25.0,13.0,15.0,37.0,32.0,19.0,21.0,27.0,39.0,22.0,25.0,34.0,54.0,42.0,36.0,43.0,23.0,57.0,54.0,51.0,32.0,33.0,8.0,44.0,27.0,48.0,13.0,5.0,18.0,23.0,23.0,35.0,25.0,32.0,0.0,5.0,16.0,18.0,29.0,55.0,41.0,38.0,27.0,55.0,75.0,50.0,23.0,37.0,33.0,45.0,47.0,13.0,29.0,19.0,30.0,39.0,31.0,29.0,16.0,18.0,38.0,50.0,21.0,22.0,20.0,36.0,23.0,31.0,39.0,50.0,40.0,28.0,38.0,37.0,59.0,41.0,33.0,54.0,40.0,43.0,26.0,65.0,22.0,28.0,35.0,30.0,28.0,23.0,24.0,16.0,18.0,20.0,29.0,29.0,21.0,2.0,43.0,28.0,31.0,23.0,26.0,43.0,28.0,24.0,27.0,13.0,27.0,2.0,24.0,2.0,50.0,27.0,26.0,31.0,28.0,4.0,9.0,0.0,35.0,3.0,25.0,63.0,34.0,35.0,26.0,39.0,34.0,36.0,46.0,26.0,28.0,20.0,35.0,11.0,14.0,4.0,11.0,31.0,15.0,39.0,7.0,24.0,22.0,26.0,53.0,40.0,19.0,54.0,21.0,25.0,48.0,41.0,13.0,57.0,25.0,48.0,34.0,16.0,0.0,15.0,37.0,37.0,49.0,18.0,25.0,null,43.0,20.0,54.0,30.0,37.0,30.0,20.0,20.0,24.0,44.0,0.0,15.0,19.0,20.0,20.0,34.0,17.0,20.0,42.0,28.0,43.0,55.0,21.0,17.0,54.0,25.0,null,45.0,31.0,19.0,30.0,24.0,null,42.0,29.0,37.0,64.0,24.0,23.0,22.0,23.0,21.0,37.0,17.0,35.0,33.0,37.0,32.0,31.0,null,34.0,9.0,25.0,29.0,1.0,30.0,64.0,31.0,27.0,null,25.0,28.0,32.0,36.0,26.0,36.0,37.0,45.0,22.0,24.0,23.0,31.0,37.0,28.0,23.0,14.0,40.0,42.0,53.0,46.0,28.0,25.0,34.0,58.0,31.0,24.0,52.0,25.0,17.0,27.0,29.0,45.0,28.0,25.0,57.0,68.0,26.0,52.0,36.0,41.0,14.0,16.0,24.0,62.0,26.0,45.0,41.0,36.0,13.0,48.0,null,22.0,39.0,45.0,42.0,33.0,27.0,47.0,20.0,32.0,54.0,23.0,9.0,17.0,26.0,38.0,24.0,30.0,2.0,4.0,9.0,30.0,5.0,2.0,32.0,53.0,46.0,2.0,1.0,11.0,3.0,33.0,3.0,38.0,21.0,41.0,64.0,27.0,41.0,19.0,42.0,30.0,38.0,63.0,17.0,2.0,19.0,37.0,50.0,38.0,28.0,35.0,27.0,15.0,29.0,65.0,27.0,0.0,21.0,19.0,39.0,60.0,30.0,30.0,40.0,26.0,38.0,22.0,null,65.0,61.0,20.0,24.0,16.0,35.0,21.0,23.0,17.0,24.0,27.0,26.0,26.0,20.0,28.0,37.0,23.0,49.0,50.0,4.0,32.0,44.0,20.0,30.0,29.0,22.0,35.0,0.0,6.0,38.0,34.0,34.0,null,53.0,28.0,31.0,56.0,36.0,30.0,32.0,44.0,54.0,24.0,44.0,25.0,35.0,29.0,22.0,22.0,22.0,18.0,22.0,52.0,0.0,1.0,34.0,6.0,22.0,31.0,31.0,20.0,25.0,23.0,53.0,32.0,27.0,48.0,37.0,21.0,29.0,46.0,19.0,22.0,54.0,43.0,18.0,36.0,20.0,63.0,50.0,13.0,43.0,16.0,31.0,0.0,10.0,10.0,55.0,18.0,7.0,1.0,44.0,27.0,20.0,49.0,22.0,21.0,26.0,65.0,20.0,0.0,16.0,22.0,0.0,21.0,30.0,14.0,45.0,22.0,21.0,37.0,29.0,29.0,21.0,52.0,36.0,59.0,21.0,25.0,23.0,36.0,38.0,0.0,19.0,30.0,23.0,55.0,44.0,30.0,39.0,19.0,24.0,37.0,24.0,17.0,17.0,14.0,13.0,35.0,32.0,18.0,21.0,25.0,36.0,20.0,22.0,27.0,null,38.0,23.0,21.0,18.0,20.0,28.0,57.0,10.0,23.0,22.0,24.0,52.0,31.0,15.0,40.0,18.0,28.0,40.0,32.0,35.0,52.0,34.0,46.0,23.0,44.0,59.0,42.0,18.0,29.0,15.0,19.0,49.0,19.0,36.0,59.0,24.0,4.0,20.0,24.0,31.0,23.0,3.0,22.0,20.0,0.0,13.0,47.0,51.0,22.0,3.0,4.0,16.0,24.0,1.0,31.0,34.0,20.0,19.0,19.0,35.0,3.0,36.0,20.0,null,58.0,56.0,27.0,25.0,39.0,43.0,42.0,24.0,19.0,32.0,32.0,61.0,64.0,21.0,26.0,35.0,43.0,3.0,56.0,45.0,25.0,12.0,2.0,46.0,32.0,20.0,24.0,28.0,12.0,11.0,16.0,29.0,24.0,22.0,21.0,38.0,35.0,79.0,22.0,42.0,34.0,52.0,43.0,30.0,35.0,18.0,27.0,46.0,15.0,44.0,20.0,35.0,19.0,47.0,26.0,24.0,23.0,26.0,5.0,35.0,18.0,32.0,13.0,15.0,18.0,41.0,36.0,33.0,41.0,47.0,32.0,36.0,13.0,34.0,24.0,16.0,12.0,24.0,35.0,26.0,39.0,18.0,23.0,29.0,38.0,31.0,49.0,17.0,23.0,15.0,11.0,30.0,42.0,21.0,41.0,14.0,27.0,29.0,25.0,54.0,46.0,18.0,22.0,29.0,26.0,36.0,19.0,56.0,20.0,10.0,14.0,27.0,35.0,13.0,21.0,22.0,29.0,32.0,20.0,44.0,22.0,39.0,19.0,0.0,0.0,12.0,7.0,32.0,11.0,18.0,49.0,61.0,7.0,25.0,51.0,56.0,31.0,16.0,29.0,17.0,47.0,25.0,28.0,32.0,56.0,25.0,13.0,41.0,28.0,25.0,11.0,20.0,24.0,41.0,29.0,59.0,31.0,16.0,65.0,21.0,27.0,37.0,42.0,36.0,24.0,null,19.0,26.0,19.0,26.0,35.0,24.0,9.0,40.0,23.0,4.0,20.0,21.0,4.0,19.0,18.0,26.0,13.0,16.0,14.0,40.0,34.0,21.0,29.0,40.0,16.0,37.0,41.0,16.0,39.0,30.0,40.0,63.0,32.0,47.0,23.0,23.0,19.0,44.0,29.0,21.0,23.0,26.0,47.0,20.0,48.0,4.0,25.0,0.0,29.0,21.0,20.0,34.0,9.0,12.0,13.0,27.0,34.0,18.0,16.0,43.0,0.0,20.0,45.0,35.0,21.0,14.0,46.0,22.0,2.0,3.0,28.0,60.0,48.0,18.0,31.0,26.0,41.0,26.0,29.0,24.0,25.0,0.0,30.0,18.0,32.0,28.0,21.0,25.0,47.0,null,8.0,24.0,30.0,24.0,13.0,16.0,23.0,16.0,29.0,46.0,13.0,22.0,29.0,46.0,24.0,33.0,38.0,57.0,null,38.0,28.0,25.0,22.0,33.0,35.0,24.0,31.0,16.0,28.0,8.0,20.0,26.0,43.0,70.0,17.0,14.0,21.0,37.0,15.0,20.0,36.0,14.0,21.0,28.0,20.0,26.0,25.0,29.0,39.0,18.0,37.0,28.0,18.0,30.0,35.0,26.0,0.0,42.0,36.0,31.0,27.0,25.0,32.0,14.0,16.0,51.0,21.0,31.0,9.0,7.0,3.0,2.0,7.0,18.0,33.0,23.0,13.0,32.0,27.0,23.0,25.0,18.0,23.0,31.0,32.0,22.0,38.0,21.0,28.0,38.0,20.0,23.0,48.0,15.0,30.0,40.0,36.0,20.0,17.0,38.0,38.0,14.0,null,21.0,18.0,26.0,35.0,46.0,13.0,39.0,49.0,28.0,27.0,21.0,29.0,27.0,38.0,18.0,35.0,37.0,60.0,31.0,4.0,34.0,46.0,18.0,38.0,29.0,13.0,26.0,30.0,42.0,36.0,23.0,34.0,26.0,31.0,48.0,10.0,27.0,32.0,24.0,20.0,48.0,35.0,14.0,28.0,null,42.0,8.0,30.0,44.0,40.0,38.0,22.0,32.0,16.0,33.0,38.0,23.0,16.0,16.0,11.0,22.0,43.0,20.0,22.0,0.0,30.0,18.0,0.0,41.0,39.0,37.0,26.0,49.0,28.0,13.0,64.0,24.0,18.0,18.0,25.0,19.0,33.0,null,50.0,30.0,44.0,52.0,7.0,30.0,27.0,24.0,13.0,61.0,32.0,17.0,36.0,16.0,21.0,24.0,28.0,null,13.0,39.0,24.0,38.0,20.0,21.0,27.0,49.0,6.0,41.0,33.0,6.0,35.0,46.0,31.0,32.0,31.0,20.0,57.0,37.0,21.0,43.0,49.0,17.0,29.0,36.0,37.0,17.0,45.0,20.0,24.0,28.0,15.0,53.0,51.0,14.0,1.0,26.0,20.0,23.0,22.0,22.0,13.0,28.0,40.0,21.0,35.0,22.0,37.0,21.0,50.0,27.0,20.0,15.0,25.0,31.0,null,18.0,2.0,27.0,0.0,22.0,null,56.0,28.0,42.0,20.0,27.0,29.0,36.0,23.0,64.0,19.0,1.0,49.0,0.0,18.0,39.0,37.0,44.0,43.0,33.0,20.0,0.0,4.0,20.0,50.0,47.0,17.0,26.0,21.0,20.0,26.0,null,34.0,11.0,0.0,28.0,33.0,22.0,28.0,11.0,60.0,43.0,27.0,37.0,23.0,57.0,29.0,28.0,42.0,43.0,26.0,72.0,49.0,29.0,18.0,26.0,19.0,18.0,14.0,44.0,34.0,18.0,36.0,27.0,35.0,52.0,22.0,34.0,37.0,22.0,26.0,14.0,53.0,17.0,30.0,65.0,19.0,36.0,3.0,6.0,4.0,21.0,8.0,35.0,18.0,34.0,45.0,31.0,14.0,23.0,61.0,54.0,28.0,46.0,32.0,49.0,20.0,25.0,19.0,28.0,68.0,16.0,19.0,49.0,15.0,26.0,22.0,23.0,31.0,27.0,28.0,20.0,43.0,22.0,27.0,35.0,37.0,24.0,18.0,15.0,28.0,24.0,39.0,35.0,52.0,48.0,27.0,50.0,24.0,26.0,24.0,15.0,42.0,51.0,43.0,31.0,14.0,31.0,33.0,21.0,13.0,29.0,22.0,22.0,18.0,35.0,20.0,18.0,66.0,33.0,48.0,38.0,62.0,19.0,44.0,25.0,15.0,20.0,34.0,23.0,45.0,39.0,33.0,14.0,26.0,47.0,null,28.0,22.0,17.0,16.0,9.0,15.0,33.0,61.0,19.0,61.0,42.0,4.0,12.0,0.0,19.0,null,29.0,59.0,20.0,70.0,3.0,37.0,58.0,44.0,24.0,20.0,24.0,27.0,28.0,24.0,29.0,25.0,20.0,34.0,28.0,null,23.0,39.0,35.0,18.0,20.0,42.0,32.0,50.0,23.0,19.0,29.0,35.0,18.0,24.0,23.0,51.0,42.0,19.0,23.0,19.0,22.0,25.0,31.0,23.0,22.0,55.0,40.0,24.0,25.0,42.0,33.0,54.0,22.0,22.0,19.0,47.0,23.0,61.0,21.0,46.0,36.0,15.0,33.0,35.0,21.0,21.0,43.0,34.0,47.0,27.0,46.0,46.0,40.0,59.0,45.0,19.0,32.0,39.0,40.0,44.0,26.0,22.0,2.0,18.0,53.0,22.0,46.0,28.0,31.0,36.0,46.0,0.0,3.0,12.0,2.0,41.0,11.0,41.0,17.0,21.0,21.0,27.0,54.0,15.0,39.0,31.0,28.0,21.0,29.0,45.0,44.0,12.0,18.0,20.0,43.0,46.0,53.0,21.0,23.0,9.0,19.0,52.0,31.0,62.0,27.0,23.0,28.0,27.0,58.0,24.0,27.0,33.0,28.0,39.0,27.0,36.0,64.0,41.0,null,27.0,null,22.0,23.0,40.0,2.0,0.0,27.0,0.0,17.0,45.0,62.0,14.0,24.0,51.0,49.0,52.0,35.0,22.0,17.0,47.0,25.0,11.0,17.0,41.0,55.0,29.0,19.0,23.0,32.0,27.0,25.0,24.0,30.0,50.0,51.0,27.0,35.0,48.0,27.0,19.0,18.0,25.0,41.0,62.0,30.0,6.0,15.0,34.0,34.0,23.0,51.0,63.0,42.0,19.0,5.0,2.0,15.0,36.0,32.0,19.0,26.0,33.0,38.0,22.0,32.0,30.0,51.0,29.0,16.0,32.0,24.0,23.0,46.0,49.0,17.0,35.0,43.0,20.0,24.0,28.0,19.0,39.0,34.0,29.0,14.0,null,30.0,null,32.0,7.0,34.0,47.0,19.0,52.0,19.0,18.0,32.0,21.0,22.0,13.0,25.0,33.0,27.0,21.0,17.0,15.0,58.0,29.0,34.0,28.0,29.0,25.0,23.0,22.0,38.0,38.0,0.0,null,0.0,37.0,2.0,40.0,47.0,34.0,43.0,21.0,43.0,33.0,28.0,57.0,null,46.0,19.0,27.0,2.0,0.0,25.0,47.0,38.0,24.0,24.0,25.0,29.0,44.0,20.0,23.0,26.0,20.0,27.0,23.0,33.0,30.0,32.0,19.0,41.0,50.0,36.0,21.0,45.0,26.0,44.0,24.0,15.0,58.0,13.0,19.0,25.0,24.0,20.0,34.0,13.0,null,39.0,0.0,10.0,9.0,34.0,11.0,0.0,24.0,16.0,42.0,41.0,36.0,27.0,32.0,11.0,26.0,28.0,25.0,5.0,null,13.0,30.0,15.0,0.0,49.0,52.0,15.0,40.0,0.0,32.0,15.0,26.0,31.0,8.0,18.0,3.0,44.0,15.0,27.0,22.0,2.0,32.0,16.0,34.0,32.0,28.0,27.0,35.0,25.0,24.0,61.0,28.0,29.0,41.0,20.0,18.0,28.0,18.0,33.0,35.0,68.0,19.0,33.0,55.0,15.0,23.0,23.0,15.0,49.0,33.0,26.0,26.0,18.0,17.0,39.0,8.0,46.0,32.0,19.0,36.0,28.0,39.0,16.0,7.0,1.0,30.0,44.0,28.0,29.0,41.0,13.0,18.0,27.0,26.0,24.0,26.0,27.0,58.0,54.0,18.0,13.0,13.0,28.0,57.0,32.0,32.0,21.0,34.0,33.0,36.0,50.0,28.0,56.0,42.0,39.0,13.0,28.0,55.0,36.0,null,37.0,50.0,27.0,23.0,16.0,33.0,46.0,26.0,24.0,26.0,2.0,33.0,32.0,3.0,2.0,6.0,null,0.0,4.0,58.0,22.0,51.0,37.0,17.0,21.0,null,null,31.0,43.0,null,15.0,18.0,33.0,31.0,41.0,22.0,40.0,49.0,14.0,22.0,22.0,25.0,42.0,16.0,12.0,18.0,33.0,14.0,36.0,23.0,24.0,4.0,null,18.0,21.0,27.0,34.0,28.0,35.0,16.0,36.0,30.0,4.0,19.0,3.0,51.0,null,45.0,18.0,23.0,15.0,34.0,47.0,27.0,26.0,25.0,34.0,27.0,39.0,31.0,4.0,19.0,59.0,19.0,25.0,28.0,37.0,43.0,18.0,36.0,14.0,42.0,29.0,23.0,16.0,8.0,20.0,50.0,38.0,39.0,33.0,30.0,40.0,22.0,52.0,26.0,19.0,33.0,33.0,20.0,28.0,10.0,23.0,28.0,23.0,54.0,57.0,24.0,37.0,59.0,53.0,22.0,18.0,17.0,25.0,18.0,20.0,24.0,33.0,34.0,24.0,37.0,23.0,32.0,13.0,23.0,23.0,27.0,47.0,38.0,28.0,21.0,null,64.0,43.0,21.0,36.0,22.0,24.0,21.0,57.0,46.0,42.0,16.0,40.0,3.0,8.0,3.0,35.0,12.0,null,47.0,19.0,46.0,28.0,5.0,7.0,3.0,1.0,7.0,60.0,34.0,28.0,64.0,13.0,15.0,65.0,53.0,58.0,19.0,null,16.0,48.0,33.0,31.0,44.0,40.0,34.0,21.0,20.0,9.0,33.0,2.0,53.0,0.0,38.0,21.0,31.0,7.0,12.0,0.0,17.0,55.0,2.0,32.0,16.0,0.0,29.0,25.0,39.0,42.0,0.0,14.0,29.0,54.0,35.0,null,18.0,14.0,53.0,48.0,21.0,44.0,25.0,0.0,27.0,40.0,44.0,36.0,3.0,9.0,1.0,17.0,47.0,null,33.0,16.0,30.0,18.0,26.0,19.0,28.0,35.0,40.0,26.0,45.0,18.0,54.0,13.0,26.0,16.0,37.0,17.0,16.0,18.0,21.0,24.0,22.0,41.0,15.0,36.0,23.0,31.0,19.0,23.0,47.0,40.0,34.0,2.0,8.0,0.0,18.0,11.0,18.0,19.0,2.0,25.0,0.0,27.0,34.0,19.0,22.0,22.0,52.0,30.0,65.0,31.0,51.0,21.0,27.0,31.0,28.0,29.0,23.0,11.0,23.0,34.0,20.0,20.0,16.0,18.0,20.0,20.0,27.0,55.0,53.0,37.0,55.0,24.0,24.0,49.0,17.0,39.0,5.0,10.0,1.0,16.0,51.0,5.0,19.0,0.0,20.0,0.0,1.0,38.0,40.0,18.0,36.0,23.0,42.0,37.0,24.0,12.0,2.0,28.0,44.0,26.0,36.0,28.0,14.0,14.0,28.0,27.0,21.0,24.0,18.0,24.0,8.0,36.0,32.0,19.0,12.0,21.0,13.0,20.0,35.0,23.0,17.0,29.0,27.0,22.0,26.0,1.0,7.0,78.0,24.0,26.0,50.0,16.0,57.0,29.0,27.0,42.0,28.0,18.0,38.0,32.0,21.0,6.0,27.0,32.0,23.0,29.0,22.0,31.0,0.0,2.0,null,28.0,20.0,28.0,42.0,32.0,19.0,20.0,20.0,21.0,32.0,16.0,21.0,12.0,21.0,31.0,18.0,35.0,44.0,13.0,21.0,37.0,null,34.0,21.0,38.0,31.0,61.0,20.0,39.0,29.0,68.0,38.0,31.0,41.0,29.0,25.0,27.0,21.0,30.0,40.0,59.0,35.0,41.0,36.0,58.0,27.0,24.0,50.0,22.0,26.0,16.0,56.0,25.0,13.0,53.0,21.0,18.0,38.0,20.0,24.0,56.0,47.0,21.0,null,26.0,34.0,35.0,35.0,49.0,24.0,62.0,25.0,42.0,25.0,21.0,17.0,41.0,50.0,20.0,15.0,29.0,20.0,35.0,22.0,43.0,54.0,15.0,38.0,44.0,34.0,15.0,24.0,29.0,19.0,27.0,26.0,46.0,64.0,17.0,45.0,27.0,29.0,18.0,26.0,39.0,59.0,20.0,17.0,47.0,29.0,16.0,48.0,39.0,28.0,12.0,24.0,30.0,34.0,37.0,47.0,0.0,23.0,0.0,20.0,35.0,18.0,17.0,18.0,53.0,35.0,48.0,68.0,27.0,28.0,37.0,35.0,31.0,14.0,1.0,4.0,30.0,11.0,45.0,29.0,32.0,15.0,25.0,25.0,60.0,24.0,35.0,36.0,22.0,32.0,57.0,30.0,46.0,28.0,26.0,55.0,66.0,20.0,31.0,13.0,50.0,21.0,25.0,46.0,0.0,2.0,36.0,19.0,35.0,41.0,22.0,25.0,24.0,37.0,5.0,null,41.0,44.0,23.0,28.0,27.0,40.0,27.0,17.0,32.0,29.0,29.0,41.0,48.0,27.0,14.0,32.0,47.0,14.0,37.0,33.0,33.0,44.0,37.0,18.0,33.0,21.0,38.0,16.0,58.0,41.0,28.0,28.0,31.0,27.0,7.0,25.0,34.0,21.0,29.0,23.0,31.0,50.0,25.0,25.0,23.0,46.0,0.0,53.0,25.0,30.0,18.0,20.0,54.0,20.0,32.0,31.0,55.0,16.0,0.0,3.0,33.0,45.0,6.0,33.0,14.0,24.0,47.0,37.0,14.0,44.0,11.0,15.0,39.0,15.0,60.0,49.0,23.0,9.0,0.0,17.0,42.0,16.0,0.0,26.0,56.0,26.0,41.0,27.0,31.0,40.0,40.0,15.0,50.0,42.0,50.0,39.0,27.0,20.0,30.0,16.0,36.0,68.0,22.0,36.0,3.0,28.0,32.0,10.0,0.0,9.0,37.0,31.0,31.0,43.0,15.0,58.0,30.0,24.0,49.0,73.0,14.0,50.0,12.0,2.0,49.0,32.0,null,33.0,23.0,23.0,43.0,36.0,26.0,29.0,21.0,30.0,23.0,13.0,22.0,25.0,52.0,22.0,31.0,23.0,35.0,26.0,14.0,39.0,8.0,29.0,15.0,48.0,9.0,25.0,13.0,25.0,27.0,32.0,20.0,40.0,18.0,21.0,38.0,62.0,23.0,48.0,27.0,32.0,53.0,26.0,46.0,32.0,40.0,27.0,28.0,29.0,37.0,0.0,12.0,25.0,null,3.0,9.0,27.0,59.0,24.0,16.0,16.0,46.0,25.0,39.0,15.0,16.0,35.0,43.0,7.0,29.0,60.0,49.0,50.0,40.0,49.0,18.0,29.0,56.0,29.0,29.0,22.0,24.0,23.0,28.0,19.0,32.0,37.0,26.0,43.0,25.0,11.0,4.0,32.0,15.0,17.0,37.0,20.0,47.0,16.0,8.0,22.0,39.0,57.0,29.0,null,70.0,13.0,49.0,25.0,19.0,15.0,37.0,null,28.0,22.0,26.0,25.0,19.0,20.0,35.0,37.0,37.0,13.0,20.0,65.0,29.0,0.0,4.0,19.0,17.0,28.0,28.0,21.0,45.0,21.0,20.0,38.0,24.0,22.0,44.0,41.0,21.0,26.0,54.0,19.0,32.0,null,26.0,28.0,21.0,38.0,43.0,12.0,25.0,27.0,22.0,20.0,24.0,34.0,42.0,24.0,28.0,29.0,31.0,29.0,14.0,16.0,16.0,27.0,null,23.0,16.0,30.0,24.0,36.0,25.0,29.0,21.0,26.0,30.0,31.0,20.0,null,33.0,35.0,46.0,63.0,37.0,23.0,5.0,16.0,20.0,49.0,3.0,41.0,null,14.0,26.0,51.0,36.0,16.0,18.0,48.0,24.0,19.0,21.0,24.0,21.0,13.0,39.0,27.0,23.0,43.0,19.0,30.0,52.0,35.0,16.0,21.0,45.0,22.0,null,0.0,63.0,56.0,40.0,1.0,24.0,36.0,13.0,13.0,37.0,44.0,32.0,57.0,26.0,62.0,2.0,1.0,24.0,1.0,63.0,20.0,15.0,32.0,24.0,32.0,36.0,13.0,29.0,27.0,30.0,27.0,14.0,32.0,33.0,35.0,21.0,57.0,42.0,20.0,18.0,49.0,23.0,24.0,24.0,23.0,24.0,26.0,28.0,17.0,20.0,22.0,23.0,22.0,29.0,null,31.0,37.0,44.0,34.0,23.0,18.0,18.0,23.0,18.0,22.0,10.0,null,31.0,48.0,51.0,25.0,32.0,8.0,49.0,28.0,3.0,null,31.0,11.0,27.0,33.0,32.0,20.0,33.0,65.0,18.0,19.0,33.0,null,31.0,37.0,19.0,18.0,47.0,26.0,25.0,38.0,53.0,38.0,28.0,46.0,18.0,14.0,32.0,44.0,28.0,2.0,28.0,27.0,29.0,14.0,14.0,17.0,35.0,36.0,51.0,54.0,37.0,37.0,24.0,null,38.0,28.0,0.0,16.0,25.0,22.0,24.0,37.0,21.0,53.0,0.0,2.0,64.0,24.0,40.0,32.0,54.0,30.0,37.0,20.0,22.0,57.0,34.0,51.0,47.0,22.0,36.0,16.0,60.0,39.0,18.0,30.0,45.0,30.0,21.0,0.0,51.0,22.0,26.0,10.0,21.0,14.0,null,43.0,22.0,22.0,23.0,25.0,35.0,30.0,37.0,21.0,36.0,13.0,22.0,36.0,17.0,38.0,34.0,20.0,17.0,36.0,52.0,32.0,35.0,null,36.0,36.0,21.0,33.0,40.0,24.0,35.0,29.0,33.0,51.0,10.0,41.0,26.0,39.0,14.0,28.0,18.0,41.0,33.0,26.0,31.0,63.0,30.0,27.0,47.0,37.0,14.0,27.0,61.0,39.0,22.0,30.0,26.0,25.0,42.0,33.0,60.0,16.0,50.0,22.0,15.0,27.0,58.0,48.0,36.0,60.0,46.0,58.0,40.0,3.0,23.0,21.0,29.0,23.0,41.0,20.0,24.0,21.0,55.0,21.0,42.0,40.0,30.0,26.0,43.0,20.0,19.0,40.0,17.0,62.0,32.0,37.0,40.0,25.0,17.0,46.0,38.0,43.0,28.0,31.0,35.0,19.0,24.0,20.0,16.0,45.0,19.0,23.0,19.0,32.0,41.0,30.0,41.0,7.0,39.0,47.0,21.0,29.0,19.0,50.0,28.0,38.0,24.0,31.0,38.0,26.0,28.0,45.0,47.0,60.0,42.0,43.0,17.0,17.0,20.0,18.0,24.0,25.0,20.0,23.0,48.0,26.0,36.0,27.0,41.0,21.0,71.0,64.0,33.0,24.0,35.0,13.0,11.0,null,43.0,36.0,22.0,56.0,34.0,46.0,43.0,25.0,26.0,14.0,63.0,29.0,45.0,15.0,19.0,53.0,45.0,41.0,68.0,5.0,27.0,20.0,54.0,18.0,45.0,26.0,37.0,30.0,51.0,3.0,3.0,19.0,19.0,6.0,4.0,23.0,37.0,18.0,29.0,25.0,52.0,24.0,0.0,25.0,26.0,32.0,58.0,44.0,41.0,24.0,41.0,23.0,27.0,61.0,18.0,18.0,null,15.0,12.0,40.0,19.0,18.0,48.0,37.0,35.0,29.0,54.0,null,22.0,18.0,26.0,19.0,22.0,17.0,18.0,39.0,37.0,17.0,25.0,9.0,15.0,19.0,18.0,50.0,14.0,19.0,33.0,23.0,39.0,14.0,14.0,45.0,22.0,36.0,19.0,59.0,31.0,31.0,39.0,28.0,19.0,29.0,0.0,15.0,18.0,49.0,36.0,40.0,56.0,67.0,44.0,17.0,27.0,23.0,28.0,54.0,26.0,40.0,39.0,40.0,20.0,18.0,17.0,35.0,31.0,40.0,50.0,21.0,29.0,63.0,19.0,36.0,48.0,33.0,28.0,39.0,27.0,58.0,44.0,23.0,21.0,53.0,14.0,17.0,25.0,44.0,24.0,24.0,24.0,0.0,7.0,3.0,18.0,4.0,40.0,16.0,25.0,10.0,40.0,19.0,15.0,24.0,21.0,29.0,37.0,49.0,42.0,54.0,33.0,27.0,53.0,28.0,24.0,20.0,0.0,24.0,28.0,42.0,32.0,36.0,40.0,30.0,34.0,37.0,41.0,25.0,39.0,0.0,54.0,16.0,0.0,13.0,46.0,23.0,18.0,27.0,24.0,27.0,24.0,25.0,30.0,19.0,18.0,49.0,64.0,26.0,53.0,27.0,27.0,25.0,33.0,27.0,20.0,39.0,27.0,19.0,22.0,3.0,24.0,41.0,18.0,63.0,19.0,39.0,null,41.0,44.0,39.0,29.0,37.0,41.0,18.0,null,55.0,21.0,28.0,43.0,32.0,23.0,5.0,14.0,24.0,22.0,14.0,20.0,17.0,20.0,22.0,15.0,67.0,28.0,57.0,21.0,34.0,17.0,33.0,33.0,28.0,18.0,28.0,13.0,38.0,39.0,18.0,43.0,32.0,29.0,45.0,25.0,64.0,18.0,44.0,15.0,21.0,33.0,3.0,19.0,37.0,24.0,26.0,26.0,26.0,22.0,26.0,27.0,27.0,37.0,22.0,24.0,23.0,18.0,28.0,4.0,23.0,2.0,46.0,0.0,16.0,19.0,34.0,34.0,24.0,28.0,44.0,35.0,20.0,18.0,43.0,48.0,46.0,75.0,24.0,34.0,29.0,46.0,22.0,42.0,46.0,15.0,42.0,31.0,9.0,34.0,21.0,16.0,40.0,23.0,6.0,17.0,37.0,30.0,32.0,41.0,43.0,17.0,37.0,18.0,1.0,38.0,25.0,6.0,1.0,7.0,24.0,19.0,26.0,49.0,18.0,25.0,46.0,33.0,10.0,38.0,23.0,26.0,16.0,29.0,35.0,58.0,17.0,16.0,2.0,13.0,18.0,29.0,21.0,43.0,69.0,40.0,1.0,36.0,60.0,17.0,49.0,23.0,39.0,53.0,26.0,31.0,48.0,26.0,25.0,25.0,30.0,null,23.0,24.0,47.0,37.0,24.0,21.0,42.0,39.0,28.0,32.0,31.0,13.0,41.0,21.0,null,9.0,36.0,30.0,27.0,40.0,41.0,16.0,36.0,15.0,39.0,21.0,24.0,28.0,47.0,55.0,null,22.0,26.0,62.0,53.0,29.0,21.0,18.0,34.0,19.0,14.0,21.0,55.0,18.0,33.0,35.0,31.0,27.0,null,13.0,24.0,22.0,32.0,18.0,53.0,4.0,24.0,23.0,1.0,18.0,21.0,40.0,49.0,25.0,21.0,40.0,47.0,25.0,36.0,39.0,26.0,0.0,14.0,7.0,50.0,22.0,17.0,35.0,22.0,26.0,24.0,59.0,24.0,17.0,28.0,38.0,2.0,36.0,32.0,15.0,54.0,18.0,22.0,23.0,14.0,26.0,73.0,29.0,29.0,12.0,27.0,31.0,26.0,35.0,25.0,40.0,18.0,52.0,35.0,51.0,35.0,14.0,null,26.0,21.0,45.0,29.0,39.0,37.0,22.0,22.0,30.0,1.0,0.0,9.0,18.0,29.0,52.0,27.0,54.0,28.0,65.0,26.0,29.0,20.0,39.0,37.0,20.0,40.0,0.0,33.0,23.0,32.0,20.0,60.0,53.0,26.0,35.0,19.0,43.0,29.0,20.0,19.0,21.0,39.0,12.0,20.0,18.0,31.0,35.0,44.0,62.0,23.0,23.0,19.0,29.0,31.0,33.0,41.0,60.0,41.0,69.0,44.0,18.0,26.0,30.0,34.0,18.0,49.0,71.0,19.0,23.0,31.0,40.0,28.0,17.0,24.0,54.0,21.0,2.0,20.0,20.0,36.0,25.0,58.0,37.0,26.0,45.0,44.0,24.0,13.0,4.0,24.0,27.0,39.0,23.0,4.0,0.0,22.0,27.0,22.0,26.0,60.0,18.0,20.0,25.0,24.0,38.0,18.0,45.0,13.0,28.0,5.0,20.0,2.0,42.0,0.0,18.0,26.0,3.0,49.0,19.0,19.0,15.0,53.0,0.0,39.0,45.0,10.0,1.0,9.0,40.0,26.0,18.0,47.0,31.0,null,23.0,32.0,32.0,21.0,null,22.0,18.0,28.0,38.0,46.0,44.0,38.0,28.0,31.0,18.0,18.0,4.0,0.0,0.0,23.0,35.0,43.0,18.0,18.0,18.0,49.0,19.0,22.0,4.0,0.0,null,39.0,36.0,53.0,23.0,24.0,25.0,30.0,20.0,40.0,18.0,57.0,47.0,26.0,29.0,32.0,30.0,18.0,49.0,33.0,18.0,29.0,34.0,43.0,18.0,31.0,15.0,3.0,37.0,1.0,27.0,15.0,33.0,65.0,19.0,30.0,37.0,15.0,19.0,20.0,19.0,21.0,20.0,18.0,27.0,23.0,25.0,72.0,35.0,29.0,11.0,7.0,null,28.0,41.0,null,19.0,8.0,4.0,38.0,21.0,18.0,10.0,29.0,25.0,40.0,19.0,38.0,19.0,0.0,4.0,29.0,46.0,32.0,26.0,23.0,32.0,31.0,34.0,45.0,61.0,21.0,null,15.0,14.0,18.0,39.0,62.0,40.0,21.0,12.0,27.0,28.0,0.0,17.0,23.0,6.0,29.0,41.0,27.0,34.0,36.0,30.0,30.0,29.0,21.0,21.0,18.0,11.0,65.0,25.0,0.0,24.0,19.0,23.0,45.0,52.0,55.0,24.0,31.0,18.0,22.0,39.0,19.0,33.0,14.0,30.0,30.0,21.0,45.0,17.0,39.0,22.0,37.0,48.0,33.0,37.0,27.0,29.0,38.0,16.0,18.0,null,47.0,15.0,13.0,19.0,17.0,31.0,19.0,25.0,26.0,25.0,2.0,7.0,2.0,19.0,1.0,4.0,49.0,61.0,57.0,52.0,22.0,37.0,15.0,28.0,40.0,13.0,24.0,25.0,25.0,43.0,46.0,3.0,3.0,3.0,8.0,57.0,11.0,20.0,27.0,20.0,14.0,24.0,21.0,33.0,32.0,22.0,15.0,41.0,31.0,35.0,48.0,15.0,37.0,21.0,34.0,19.0,52.0,15.0,24.0,45.0,13.0,18.0,19.0,20.0,20.0,27.0,22.0,17.0,23.0,29.0,24.0,26.0,36.0,25.0,36.0,32.0,16.0,32.0,48.0,25.0,46.0,32.0,50.0,31.0,27.0,52.0,34.0,40.0,36.0,19.0,33.0,23.0,57.0,24.0,19.0,54.0,28.0,26.0,43.0,39.0,21.0,24.0,35.0,61.0,21.0,14.0,38.0,23.0,31.0,66.0,56.0,21.0,49.0,21.0,27.0,23.0,27.0,49.0,38.0,60.0,47.0,29.0,19.0,32.0,22.0,35.0,28.0,22.0,42.0,37.0,31.0,33.0,48.0,31.0,18.0,44.0,22.0,18.0,48.0,2.0,0.0,43.0,51.0,48.0,51.0,20.0,41.0,27.0,56.0,26.0,21.0,null,23.0,28.0,40.0,39.0,16.0,20.0,24.0,45.0,33.0,19.0,15.0,18.0,21.0,37.0,53.0,19.0,17.0,58.0,18.0,25.0,39.0,40.0,27.0,3.0,18.0,18.0,29.0,22.0,34.0,19.0,26.0,33.0,34.0,18.0,40.0,53.0,8.0,54.0,29.0,56.0,21.0,25.0,33.0,22.0,50.0,24.0,25.0,59.0,26.0,19.0,37.0,22.0,44.0,25.0,23.0,6.0,39.0,26.0,14.0,3.0,21.0,24.0,18.0,37.0,21.0,67.0,28.0,13.0,26.0,33.0,18.0,24.0,26.0,21.0,27.0,15.0,24.0,31.0,10.0,23.0,50.0,13.0,43.0,20.0,21.0,18.0,16.0,47.0,35.0,15.0,46.0,6.0,26.0,49.0,28.0,37.0,17.0,38.0,18.0,55.0,28.0,25.0,17.0,22.0,4.0,3.0,21.0,24.0,50.0,3.0,19.0,22.0,20.0,18.0,27.0,29.0,23.0,48.0,32.0,55.0,49.0,15.0,50.0,35.0,29.0,38.0,29.0,39.0,49.0,39.0,19.0,19.0,14.0,40.0,40.0,20.0,6.0,41.0,37.0,31.0,8.0,55.0,16.0,29.0,40.0,27.0,21.0,25.0,44.0,34.0,1.0,1.0,42.0,18.0,21.0,24.0,null,18.0,27.0,13.0,10.0,8.0,40.0,35.0,13.0,19.0,44.0,36.0,29.0,28.0,36.0,24.0,14.0,50.0,20.0,38.0,33.0,54.0,20.0,23.0,65.0,51.0,36.0,38.0,28.0,32.0,55.0,23.0,38.0,18.0,32.0,44.0,62.0,66.0,20.0,19.0,null,25.0,20.0,18.0,20.0,14.0,49.0,49.0,19.0,53.0,31.0,18.0,24.0,35.0,27.0,38.0,23.0,22.0,38.0,28.0,25.0,45.0,22.0,30.0,25.0,24.0,44.0,6.0,0.0,14.0,37.0,15.0,0.0,17.0,58.0,15.0,53.0,29.0,24.0,40.0,21.0,30.0,20.0,20.0,18.0,36.0,20.0,4.0,59.0,20.0,4.0,23.0,25.0,20.0,22.0,6.0,14.0,0.0,4.0,37.0,14.0,34.0,3.0,18.0,27.0,19.0,37.0,29.0,37.0,32.0,22.0,38.0,24.0,63.0,23.0,41.0,20.0,48.0,44.0,15.0,29.0,64.0,19.0,28.0,44.0,13.0,45.0,25.0,19.0,29.0,21.0,13.0,25.0,46.0,37.0,19.0,29.0,21.0,13.0,15.0,42.0,null,26.0,19.0,18.0,50.0,28.0,24.0,31.0,19.0,20.0,23.0,19.0,27.0,16.0,76.0,41.0,24.0,12.0,28.0,36.0,20.0,7.0,21.0,33.0,32.0,34.0,38.0,null,28.0,25.0,24.0,18.0,24.0,30.0,38.0,39.0,31.0,33.0,15.0,23.0,24.0,44.0,22.0,28.0,34.0,8.0,26.0,29.0,58.0,4.0,1.0,17.0,27.0,24.0,16.0,28.0,23.0,33.0,24.0,6.0,19.0,31.0,19.0,18.0,35.0,32.0,19.0,24.0,33.0,20.0,27.0,26.0,28.0,19.0,24.0,52.0,23.0,23.0,25.0,22.0,35.0,24.0,24.0,26.0,37.0,14.0,36.0,0.0,17.0,18.0,43.0,21.0,34.0,57.0,18.0,73.0,31.0,25.0,20.0,24.0,null,21.0,22.0,39.0,26.0,32.0,1.0,7.0,4.0,21.0,12.0,28.0,0.0,18.0,52.0,18.0,51.0,21.0,28.0,34.0,13.0,35.0,27.0,35.0,51.0,53.0,29.0,41.0,47.0,22.0,19.0,22.0,25.0,null,17.0,0.0,5.0,30.0,17.0,53.0,9.0,17.0,16.0,29.0,29.0,46.0,27.0,39.0,15.0,30.0,41.0,47.0,32.0,15.0,23.0,20.0,33.0,18.0,31.0,25.0,19.0,32.0,45.0,43.0,21.0,48.0,0.0,29.0,41.0,23.0,48.0,18.0,30.0,26.0,18.0,27.0,58.0,22.0,17.0,28.0,27.0,51.0,37.0,14.0,43.0,27.0,60.0,33.0,39.0,21.0,21.0,28.0,30.0,42.0,25.0,25.0,25.0,54.0,41.0,36.0,33.0,36.0,55.0,16.0,28.0,26.0,42.0,30.0,31.0,22.0,26.0,25.0,44.0,29.0,22.0,23.0,30.0,23.0,13.0,53.0,0.0,27.0,27.0,10.0,2.0,5.0,24.0,32.0,22.0,22.0,44.0,55.0,22.0,8.0,15.0,1.0,9.0,48.0,16.0,27.0,3.0,25.0,70.0,30.0,57.0,42.0,14.0,43.0,34.0,21.0,32.0,21.0,25.0,25.0,38.0,36.0,44.0,37.0,47.0,38.0,28.0,38.0,53.0,26.0,13.0,64.0,16.0,13.0,55.0,26.0,23.0,55.0,50.0,26.0,36.0,33.0,21.0,41.0,33.0,23.0,31.0,28.0,13.0,null,35.0,25.0,19.0,56.0,18.0,22.0,34.0,11.0,37.0,22.0,45.0,19.0,39.0,28.0,36.0,1.0,10.0,12.0,31.0,12.0,3.0,30.0,41.0,19.0,38.0,36.0,0.0,20.0,23.0,35.0,36.0,41.0,38.0,33.0,54.0,33.0,54.0,32.0,24.0,53.0,26.0,31.0,18.0,39.0,37.0,35.0,34.0,28.0,43.0,2.0,24.0,18.0,21.0,24.0,35.0,53.0,32.0,44.0,33.0,40.0,31.0,23.0,44.0,41.0,31.0,30.0,33.0,30.0,26.0,22.0,37.0,15.0,52.0,35.0,40.0,60.0,24.0,31.0,43.0,9.0,51.0,25.0,20.0,22.0,21.0,50.0,24.0,45.0,22.0,7.0,11.0,1.0,0.0,8.0,36.0,2.0,0.0,22.0,41.0,49.0,30.0,37.0,14.0,30.0,62.0,13.0,32.0,33.0,38.0,29.0,25.0,26.0,19.0,16.0,61.0,28.0,13.0,44.0,22.0,30.0,21.0,20.0,31.0,33.0,26.0,21.0,23.0,0.0,32.0,30.0,41.0,18.0,26.0,32.0,44.0],\"type\":\"histogram\"}],                        {\"template\":{\"data\":{\"bar\":[{\"error_x\":{\"color\":\"#2a3f5f\"},\"error_y\":{\"color\":\"#2a3f5f\"},\"marker\":{\"line\":{\"color\":\"#E5ECF6\",\"width\":0.5},\"pattern\":{\"fillmode\":\"overlay\",\"size\":10,\"solidity\":0.2}},\"type\":\"bar\"}],\"barpolar\":[{\"marker\":{\"line\":{\"color\":\"#E5ECF6\",\"width\":0.5},\"pattern\":{\"fillmode\":\"overlay\",\"size\":10,\"solidity\":0.2}},\"type\":\"barpolar\"}],\"carpet\":[{\"aaxis\":{\"endlinecolor\":\"#2a3f5f\",\"gridcolor\":\"white\",\"linecolor\":\"white\",\"minorgridcolor\":\"white\",\"startlinecolor\":\"#2a3f5f\"},\"baxis\":{\"endlinecolor\":\"#2a3f5f\",\"gridcolor\":\"white\",\"linecolor\":\"white\",\"minorgridcolor\":\"white\",\"startlinecolor\":\"#2a3f5f\"},\"type\":\"carpet\"}],\"choropleth\":[{\"colorbar\":{\"outlinewidth\":0,\"ticks\":\"\"},\"type\":\"choropleth\"}],\"contour\":[{\"colorbar\":{\"outlinewidth\":0,\"ticks\":\"\"},\"colorscale\":[[0.0,\"#0d0887\"],[0.1111111111111111,\"#46039f\"],[0.2222222222222222,\"#7201a8\"],[0.3333333333333333,\"#9c179e\"],[0.4444444444444444,\"#bd3786\"],[0.5555555555555556,\"#d8576b\"],[0.6666666666666666,\"#ed7953\"],[0.7777777777777778,\"#fb9f3a\"],[0.8888888888888888,\"#fdca26\"],[1.0,\"#f0f921\"]],\"type\":\"contour\"}],\"contourcarpet\":[{\"colorbar\":{\"outlinewidth\":0,\"ticks\":\"\"},\"type\":\"contourcarpet\"}],\"heatmap\":[{\"colorbar\":{\"outlinewidth\":0,\"ticks\":\"\"},\"colorscale\":[[0.0,\"#0d0887\"],[0.1111111111111111,\"#46039f\"],[0.2222222222222222,\"#7201a8\"],[0.3333333333333333,\"#9c179e\"],[0.4444444444444444,\"#bd3786\"],[0.5555555555555556,\"#d8576b\"],[0.6666666666666666,\"#ed7953\"],[0.7777777777777778,\"#fb9f3a\"],[0.8888888888888888,\"#fdca26\"],[1.0,\"#f0f921\"]],\"type\":\"heatmap\"}],\"heatmapgl\":[{\"colorbar\":{\"outlinewidth\":0,\"ticks\":\"\"},\"colorscale\":[[0.0,\"#0d0887\"],[0.1111111111111111,\"#46039f\"],[0.2222222222222222,\"#7201a8\"],[0.3333333333333333,\"#9c179e\"],[0.4444444444444444,\"#bd3786\"],[0.5555555555555556,\"#d8576b\"],[0.6666666666666666,\"#ed7953\"],[0.7777777777777778,\"#fb9f3a\"],[0.8888888888888888,\"#fdca26\"],[1.0,\"#f0f921\"]],\"type\":\"heatmapgl\"}],\"histogram\":[{\"marker\":{\"pattern\":{\"fillmode\":\"overlay\",\"size\":10,\"solidity\":0.2}},\"type\":\"histogram\"}],\"histogram2d\":[{\"colorbar\":{\"outlinewidth\":0,\"ticks\":\"\"},\"colorscale\":[[0.0,\"#0d0887\"],[0.1111111111111111,\"#46039f\"],[0.2222222222222222,\"#7201a8\"],[0.3333333333333333,\"#9c179e\"],[0.4444444444444444,\"#bd3786\"],[0.5555555555555556,\"#d8576b\"],[0.6666666666666666,\"#ed7953\"],[0.7777777777777778,\"#fb9f3a\"],[0.8888888888888888,\"#fdca26\"],[1.0,\"#f0f921\"]],\"type\":\"histogram2d\"}],\"histogram2dcontour\":[{\"colorbar\":{\"outlinewidth\":0,\"ticks\":\"\"},\"colorscale\":[[0.0,\"#0d0887\"],[0.1111111111111111,\"#46039f\"],[0.2222222222222222,\"#7201a8\"],[0.3333333333333333,\"#9c179e\"],[0.4444444444444444,\"#bd3786\"],[0.5555555555555556,\"#d8576b\"],[0.6666666666666666,\"#ed7953\"],[0.7777777777777778,\"#fb9f3a\"],[0.8888888888888888,\"#fdca26\"],[1.0,\"#f0f921\"]],\"type\":\"histogram2dcontour\"}],\"mesh3d\":[{\"colorbar\":{\"outlinewidth\":0,\"ticks\":\"\"},\"type\":\"mesh3d\"}],\"parcoords\":[{\"line\":{\"colorbar\":{\"outlinewidth\":0,\"ticks\":\"\"}},\"type\":\"parcoords\"}],\"pie\":[{\"automargin\":true,\"type\":\"pie\"}],\"scatter\":[{\"marker\":{\"colorbar\":{\"outlinewidth\":0,\"ticks\":\"\"}},\"type\":\"scatter\"}],\"scatter3d\":[{\"line\":{\"colorbar\":{\"outlinewidth\":0,\"ticks\":\"\"}},\"marker\":{\"colorbar\":{\"outlinewidth\":0,\"ticks\":\"\"}},\"type\":\"scatter3d\"}],\"scattercarpet\":[{\"marker\":{\"colorbar\":{\"outlinewidth\":0,\"ticks\":\"\"}},\"type\":\"scattercarpet\"}],\"scattergeo\":[{\"marker\":{\"colorbar\":{\"outlinewidth\":0,\"ticks\":\"\"}},\"type\":\"scattergeo\"}],\"scattergl\":[{\"marker\":{\"colorbar\":{\"outlinewidth\":0,\"ticks\":\"\"}},\"type\":\"scattergl\"}],\"scattermapbox\":[{\"marker\":{\"colorbar\":{\"outlinewidth\":0,\"ticks\":\"\"}},\"type\":\"scattermapbox\"}],\"scatterpolar\":[{\"marker\":{\"colorbar\":{\"outlinewidth\":0,\"ticks\":\"\"}},\"type\":\"scatterpolar\"}],\"scatterpolargl\":[{\"marker\":{\"colorbar\":{\"outlinewidth\":0,\"ticks\":\"\"}},\"type\":\"scatterpolargl\"}],\"scatterternary\":[{\"marker\":{\"colorbar\":{\"outlinewidth\":0,\"ticks\":\"\"}},\"type\":\"scatterternary\"}],\"surface\":[{\"colorbar\":{\"outlinewidth\":0,\"ticks\":\"\"},\"colorscale\":[[0.0,\"#0d0887\"],[0.1111111111111111,\"#46039f\"],[0.2222222222222222,\"#7201a8\"],[0.3333333333333333,\"#9c179e\"],[0.4444444444444444,\"#bd3786\"],[0.5555555555555556,\"#d8576b\"],[0.6666666666666666,\"#ed7953\"],[0.7777777777777778,\"#fb9f3a\"],[0.8888888888888888,\"#fdca26\"],[1.0,\"#f0f921\"]],\"type\":\"surface\"}],\"table\":[{\"cells\":{\"fill\":{\"color\":\"#EBF0F8\"},\"line\":{\"color\":\"white\"}},\"header\":{\"fill\":{\"color\":\"#C8D4E3\"},\"line\":{\"color\":\"white\"}},\"type\":\"table\"}]},\"layout\":{\"annotationdefaults\":{\"arrowcolor\":\"#2a3f5f\",\"arrowhead\":0,\"arrowwidth\":1},\"autotypenumbers\":\"strict\",\"coloraxis\":{\"colorbar\":{\"outlinewidth\":0,\"ticks\":\"\"}},\"colorscale\":{\"diverging\":[[0,\"#8e0152\"],[0.1,\"#c51b7d\"],[0.2,\"#de77ae\"],[0.3,\"#f1b6da\"],[0.4,\"#fde0ef\"],[0.5,\"#f7f7f7\"],[0.6,\"#e6f5d0\"],[0.7,\"#b8e186\"],[0.8,\"#7fbc41\"],[0.9,\"#4d9221\"],[1,\"#276419\"]],\"sequential\":[[0.0,\"#0d0887\"],[0.1111111111111111,\"#46039f\"],[0.2222222222222222,\"#7201a8\"],[0.3333333333333333,\"#9c179e\"],[0.4444444444444444,\"#bd3786\"],[0.5555555555555556,\"#d8576b\"],[0.6666666666666666,\"#ed7953\"],[0.7777777777777778,\"#fb9f3a\"],[0.8888888888888888,\"#fdca26\"],[1.0,\"#f0f921\"]],\"sequentialminus\":[[0.0,\"#0d0887\"],[0.1111111111111111,\"#46039f\"],[0.2222222222222222,\"#7201a8\"],[0.3333333333333333,\"#9c179e\"],[0.4444444444444444,\"#bd3786\"],[0.5555555555555556,\"#d8576b\"],[0.6666666666666666,\"#ed7953\"],[0.7777777777777778,\"#fb9f3a\"],[0.8888888888888888,\"#fdca26\"],[1.0,\"#f0f921\"]]},\"colorway\":[\"#636efa\",\"#EF553B\",\"#00cc96\",\"#ab63fa\",\"#FFA15A\",\"#19d3f3\",\"#FF6692\",\"#B6E880\",\"#FF97FF\",\"#FECB52\"],\"font\":{\"color\":\"#2a3f5f\"},\"geo\":{\"bgcolor\":\"white\",\"lakecolor\":\"white\",\"landcolor\":\"#E5ECF6\",\"showlakes\":true,\"showland\":true,\"subunitcolor\":\"white\"},\"hoverlabel\":{\"align\":\"left\"},\"hovermode\":\"closest\",\"mapbox\":{\"style\":\"light\"},\"paper_bgcolor\":\"white\",\"plot_bgcolor\":\"#E5ECF6\",\"polar\":{\"angularaxis\":{\"gridcolor\":\"white\",\"linecolor\":\"white\",\"ticks\":\"\"},\"bgcolor\":\"#E5ECF6\",\"radialaxis\":{\"gridcolor\":\"white\",\"linecolor\":\"white\",\"ticks\":\"\"}},\"scene\":{\"xaxis\":{\"backgroundcolor\":\"#E5ECF6\",\"gridcolor\":\"white\",\"gridwidth\":2,\"linecolor\":\"white\",\"showbackground\":true,\"ticks\":\"\",\"zerolinecolor\":\"white\"},\"yaxis\":{\"backgroundcolor\":\"#E5ECF6\",\"gridcolor\":\"white\",\"gridwidth\":2,\"linecolor\":\"white\",\"showbackground\":true,\"ticks\":\"\",\"zerolinecolor\":\"white\"},\"zaxis\":{\"backgroundcolor\":\"#E5ECF6\",\"gridcolor\":\"white\",\"gridwidth\":2,\"linecolor\":\"white\",\"showbackground\":true,\"ticks\":\"\",\"zerolinecolor\":\"white\"}},\"shapedefaults\":{\"line\":{\"color\":\"#2a3f5f\"}},\"ternary\":{\"aaxis\":{\"gridcolor\":\"white\",\"linecolor\":\"white\",\"ticks\":\"\"},\"baxis\":{\"gridcolor\":\"white\",\"linecolor\":\"white\",\"ticks\":\"\"},\"bgcolor\":\"#E5ECF6\",\"caxis\":{\"gridcolor\":\"white\",\"linecolor\":\"white\",\"ticks\":\"\"}},\"title\":{\"x\":0.05},\"xaxis\":{\"automargin\":true,\"gridcolor\":\"white\",\"linecolor\":\"white\",\"ticks\":\"\",\"title\":{\"standoff\":15},\"zerolinecolor\":\"white\",\"zerolinewidth\":2},\"yaxis\":{\"automargin\":true,\"gridcolor\":\"white\",\"linecolor\":\"white\",\"ticks\":\"\",\"title\":{\"standoff\":15},\"zerolinecolor\":\"white\",\"zerolinewidth\":2}}}},                        {\"responsive\": true}                    ).then(function(){\n",
       "                            \n",
       "var gd = document.getElementById('4ac7c66c-1a1d-4950-94ea-84eecf2d574d');\n",
       "var x = new MutationObserver(function (mutations, observer) {{\n",
       "        var display = window.getComputedStyle(gd).display;\n",
       "        if (!display || display === 'none') {{\n",
       "            console.log([gd, 'removed!']);\n",
       "            Plotly.purge(gd);\n",
       "            observer.disconnect();\n",
       "        }}\n",
       "}});\n",
       "\n",
       "// Listen for the removal of the full notebook cells\n",
       "var notebookContainer = gd.closest('#notebook-container');\n",
       "if (notebookContainer) {{\n",
       "    x.observe(notebookContainer, {childList: true});\n",
       "}}\n",
       "\n",
       "// Listen for the clearing of the current output cell\n",
       "var outputEl = gd.closest('.output');\n",
       "if (outputEl) {{\n",
       "    x.observe(outputEl, {childList: true});\n",
       "}}\n",
       "\n",
       "                        })                };                });            </script>        </div>"
      ]
     },
     "metadata": {},
     "output_type": "display_data"
    }
   ],
   "source": [
    "fig = go.Figure()\n",
    "\n",
    "fig.add_trace(go.Histogram( x = train.Age, marker_color = 'rgb(228,139,133)'))\n",
    "\n",
    "fig.show()"
   ]
  },
  {
   "cell_type": "markdown",
   "id": "ae5575af",
   "metadata": {
    "papermill": {
     "duration": 0.085913,
     "end_time": "2022-04-11T06:28:37.491803",
     "exception": false,
     "start_time": "2022-04-11T06:28:37.405890",
     "status": "completed"
    },
    "tags": []
   },
   "source": [
    "-- 주로 20대가 많이 사용한 걸 확인 할 수 있다."
   ]
  },
  {
   "cell_type": "markdown",
   "id": "ac28db3e",
   "metadata": {
    "papermill": {
     "duration": 0.085419,
     "end_time": "2022-04-11T06:28:37.663690",
     "exception": false,
     "start_time": "2022-04-11T06:28:37.578271",
     "status": "completed"
    },
    "tags": []
   },
   "source": [
    "- 연령대별 Transported 여부"
   ]
  },
  {
   "cell_type": "code",
   "execution_count": 15,
   "id": "0207c65e",
   "metadata": {
    "execution": {
     "iopub.execute_input": "2022-04-11T06:28:37.839263Z",
     "iopub.status.busy": "2022-04-11T06:28:37.838630Z",
     "iopub.status.idle": "2022-04-11T06:28:37.847404Z",
     "shell.execute_reply": "2022-04-11T06:28:37.847894Z",
     "shell.execute_reply.started": "2022-04-11T02:37:42.087406Z"
    },
    "papermill": {
     "duration": 0.097404,
     "end_time": "2022-04-11T06:28:37.848056",
     "exception": false,
     "start_time": "2022-04-11T06:28:37.750652",
     "status": "completed"
    },
    "tags": []
   },
   "outputs": [],
   "source": [
    "t = train[['Transported','Age']].copy()\n",
    "          \n",
    "x0 = t[t['Transported'] == True]\n",
    "x1 = t[t['Transported'] == False]"
   ]
  },
  {
   "cell_type": "code",
   "execution_count": 16,
   "id": "1f4068b0",
   "metadata": {
    "execution": {
     "iopub.execute_input": "2022-04-11T06:28:38.052735Z",
     "iopub.status.busy": "2022-04-11T06:28:38.051846Z",
     "iopub.status.idle": "2022-04-11T06:28:38.069863Z",
     "shell.execute_reply": "2022-04-11T06:28:38.070603Z",
     "shell.execute_reply.started": "2022-04-11T02:37:42.101528Z"
    },
    "papermill": {
     "duration": 0.135327,
     "end_time": "2022-04-11T06:28:38.070831",
     "exception": false,
     "start_time": "2022-04-11T06:28:37.935504",
     "status": "completed"
    },
    "tags": []
   },
   "outputs": [
    {
     "data": {
      "text/html": [
       "<div>                            <div id=\"7ba76e13-f31f-4f0f-b0c3-c548f84b8cb7\" class=\"plotly-graph-div\" style=\"height:525px; width:100%;\"></div>            <script type=\"text/javascript\">                require([\"plotly\"], function(Plotly) {                    window.PLOTLYENV=window.PLOTLYENV || {};                                    if (document.getElementById(\"7ba76e13-f31f-4f0f-b0c3-c548f84b8cb7\")) {                    Plotly.newPlot(                        \"7ba76e13-f31f-4f0f-b0c3-c548f84b8cb7\",                        [{\"marker\":{\"color\":\"#657B96\"},\"name\":\"Transported YES\",\"x\":[24.0,16.0,44.0,26.0,28.0,35.0,14.0,34.0,45.0,32.0,28.0,45.0,0.0,10.0,62.0,47.0,2.0,20.0,28.0,17.0,4.0,21.0,19.0,25.0,2.0,38.0,27.0,15.0,33.0,0.0,18.0,42.0,42.0,27.0,28.0,2.0,8.0,24.0,40.0,45.0,35.0,26.0,0.0,3.0,26.0,2.0,31.0,24.0,9.0,0.0,42.0,28.0,29.0,48.0,64.0,26.0,33.0,13.0,24.0,67.0,22.0,19.0,19.0,13.0,35.0,24.0,20.0,50.0,null,26.0,17.0,57.0,35.0,13.0,19.0,32.0,58.0,19.0,3.0,24.0,37.0,56.0,1.0,2.0,0.0,39.0,52.0,15.0,35.0,47.0,45.0,null,51.0,null,24.0,29.0,11.0,19.0,2.0,0.0,15.0,21.0,24.0,16.0,58.0,42.0,35.0,43.0,14.0,46.0,54.0,21.0,24.0,60.0,28.0,39.0,47.0,null,50.0,19.0,21.0,29.0,22.0,14.0,42.0,39.0,19.0,26.0,17.0,43.0,9.0,40.0,50.0,24.0,57.0,23.0,18.0,60.0,null,49.0,0.0,35.0,24.0,20.0,19.0,2.0,32.0,29.0,2.0,19.0,0.0,18.0,38.0,15.0,22.0,36.0,14.0,18.0,36.0,50.0,32.0,33.0,61.0,24.0,24.0,22.0,21.0,56.0,13.0,32.0,31.0,26.0,18.0,38.0,0.0,14.0,27.0,18.0,45.0,32.0,43.0,60.0,68.0,59.0,null,3.0,31.0,31.0,29.0,20.0,46.0,29.0,43.0,27.0,45.0,17.0,10.0,40.0,22.0,22.0,32.0,11.0,22.0,19.0,34.0,74.0,28.0,42.0,43.0,19.0,28.0,24.0,31.0,22.0,1.0,null,25.0,36.0,30.0,15.0,27.0,12.0,13.0,14.0,27.0,46.0,27.0,21.0,10.0,18.0,54.0,24.0,18.0,53.0,23.0,39.0,59.0,32.0,55.0,21.0,50.0,35.0,null,23.0,35.0,47.0,34.0,null,28.0,null,36.0,30.0,49.0,31.0,24.0,32.0,43.0,23.0,29.0,40.0,37.0,61.0,19.0,12.0,44.0,32.0,28.0,13.0,14.0,null,23.0,36.0,22.0,42.0,30.0,16.0,55.0,18.0,55.0,49.0,33.0,3.0,0.0,33.0,48.0,5.0,53.0,46.0,23.0,0.0,4.0,9.0,24.0,24.0,21.0,7.0,31.0,27.0,34.0,7.0,3.0,21.0,39.0,43.0,22.0,44.0,32.0,55.0,35.0,20.0,63.0,29.0,36.0,30.0,30.0,19.0,33.0,38.0,7.0,58.0,3.0,39.0,37.0,28.0,18.0,44.0,28.0,46.0,38.0,null,0.0,20.0,18.0,36.0,54.0,23.0,35.0,22.0,24.0,18.0,33.0,18.0,19.0,43.0,44.0,25.0,25.0,23.0,2.0,38.0,12.0,1.0,0.0,54.0,23.0,29.0,14.0,47.0,14.0,14.0,34.0,42.0,22.0,54.0,27.0,33.0,35.0,31.0,54.0,0.0,7.0,15.0,26.0,7.0,19.0,59.0,28.0,19.0,26.0,20.0,19.0,27.0,28.0,38.0,1.0,36.0,1.0,10.0,0.0,0.0,0.0,59.0,71.0,23.0,15.0,19.0,4.0,42.0,13.0,27.0,41.0,21.0,31.0,36.0,30.0,14.0,27.0,32.0,54.0,38.0,32.0,36.0,22.0,37.0,20.0,33.0,52.0,27.0,32.0,26.0,32.0,18.0,19.0,19.0,74.0,31.0,33.0,null,22.0,11.0,41.0,30.0,31.0,15.0,19.0,29.0,30.0,30.0,0.0,15.0,38.0,19.0,15.0,38.0,28.0,41.0,14.0,21.0,48.0,44.0,19.0,32.0,44.0,57.0,34.0,30.0,22.0,71.0,18.0,36.0,49.0,46.0,17.0,46.0,56.0,3.0,1.0,56.0,5.0,12.0,39.0,60.0,19.0,19.0,18.0,36.0,25.0,0.0,8.0,3.0,30.0,61.0,13.0,24.0,15.0,46.0,58.0,20.0,36.0,31.0,58.0,38.0,30.0,20.0,38.0,15.0,null,35.0,14.0,27.0,27.0,23.0,18.0,0.0,19.0,7.0,33.0,35.0,23.0,34.0,42.0,5.0,5.0,26.0,40.0,20.0,34.0,9.0,36.0,26.0,55.0,18.0,20.0,27.0,13.0,32.0,53.0,34.0,42.0,19.0,54.0,12.0,49.0,22.0,39.0,14.0,29.0,8.0,18.0,25.0,32.0,26.0,18.0,26.0,28.0,31.0,35.0,29.0,17.0,28.0,24.0,36.0,34.0,59.0,15.0,64.0,24.0,23.0,0.0,48.0,52.0,16.0,25.0,28.0,28.0,45.0,6.0,13.0,1.0,51.0,31.0,28.0,20.0,24.0,18.0,21.0,59.0,27.0,36.0,22.0,23.0,32.0,26.0,61.0,30.0,40.0,37.0,27.0,52.0,15.0,22.0,34.0,31.0,44.0,null,10.0,1.0,4.0,31.0,43.0,28.0,30.0,22.0,22.0,2.0,9.0,2.0,44.0,11.0,40.0,26.0,19.0,1.0,21.0,28.0,40.0,23.0,43.0,0.0,42.0,28.0,24.0,17.0,67.0,null,27.0,10.0,41.0,0.0,22.0,40.0,25.0,20.0,40.0,43.0,22.0,20.0,53.0,22.0,41.0,19.0,23.0,38.0,1.0,13.0,7.0,28.0,14.0,23.0,33.0,17.0,33.0,24.0,39.0,59.0,32.0,8.0,28.0,35.0,1.0,4.0,28.0,46.0,23.0,0.0,13.0,16.0,30.0,8.0,43.0,39.0,70.0,44.0,63.0,29.0,29.0,22.0,26.0,19.0,13.0,30.0,32.0,49.0,38.0,42.0,32.0,0.0,17.0,35.0,0.0,46.0,19.0,43.0,40.0,13.0,40.0,28.0,41.0,35.0,14.0,20.0,22.0,25.0,18.0,25.0,30.0,21.0,32.0,33.0,47.0,34.0,20.0,51.0,18.0,30.0,37.0,18.0,25.0,23.0,26.0,38.0,28.0,18.0,25.0,35.0,37.0,35.0,47.0,null,27.0,23.0,31.0,19.0,53.0,7.0,7.0,20.0,42.0,49.0,47.0,38.0,0.0,39.0,25.0,35.0,0.0,46.0,4.0,19.0,47.0,1.0,32.0,4.0,16.0,25.0,21.0,34.0,28.0,3.0,0.0,40.0,null,48.0,36.0,38.0,0.0,38.0,3.0,19.0,31.0,14.0,47.0,17.0,18.0,23.0,26.0,20.0,40.0,20.0,59.0,null,26.0,17.0,17.0,20.0,30.0,22.0,20.0,50.0,19.0,4.0,15.0,24.0,21.0,41.0,59.0,14.0,50.0,32.0,46.0,58.0,15.0,35.0,30.0,43.0,37.0,28.0,26.0,33.0,12.0,0.0,1.0,5.0,24.0,25.0,25.0,60.0,41.0,17.0,31.0,67.0,19.0,48.0,30.0,22.0,28.0,23.0,26.0,23.0,2.0,3.0,14.0,53.0,0.0,22.0,24.0,32.0,58.0,8.0,64.0,31.0,30.0,20.0,18.0,17.0,30.0,50.0,29.0,39.0,38.0,42.0,36.0,15.0,52.0,38.0,63.0,24.0,21.0,56.0,45.0,36.0,44.0,15.0,29.0,36.0,21.0,35.0,0.0,30.0,38.0,27.0,39.0,23.0,34.0,26.0,15.0,64.0,25.0,35.0,19.0,3.0,44.0,37.0,19.0,22.0,21.0,17.0,42.0,28.0,30.0,17.0,40.0,33.0,19.0,22.0,0.0,17.0,null,15.0,19.0,26.0,50.0,25.0,64.0,24.0,27.0,42.0,20.0,31.0,32.0,25.0,6.0,3.0,18.0,55.0,34.0,19.0,30.0,17.0,28.0,23.0,17.0,null,65.0,19.0,54.0,40.0,22.0,18.0,21.0,29.0,45.0,45.0,40.0,27.0,49.0,14.0,19.0,16.0,27.0,3.0,4.0,13.0,19.0,18.0,66.0,39.0,null,18.0,21.0,18.0,43.0,27.0,0.0,21.0,35.0,23.0,27.0,58.0,53.0,48.0,27.0,26.0,37.0,61.0,32.0,25.0,15.0,41.0,43.0,32.0,18.0,47.0,29.0,14.0,20.0,20.0,17.0,28.0,41.0,25.0,26.0,22.0,44.0,34.0,47.0,27.0,22.0,46.0,29.0,39.0,43.0,26.0,46.0,3.0,21.0,1.0,27.0,28.0,18.0,6.0,37.0,22.0,23.0,52.0,1.0,null,27.0,48.0,25.0,67.0,60.0,56.0,44.0,34.0,45.0,25.0,32.0,29.0,45.0,27.0,15.0,11.0,0.0,15.0,30.0,4.0,21.0,24.0,29.0,28.0,44.0,50.0,20.0,22.0,32.0,11.0,4.0,11.0,58.0,37.0,42.0,17.0,36.0,44.0,18.0,22.0,43.0,29.0,24.0,18.0,15.0,22.0,34.0,70.0,18.0,26.0,32.0,23.0,24.0,34.0,33.0,28.0,7.0,27.0,16.0,21.0,28.0,36.0,21.0,50.0,27.0,27.0,27.0,4.0,39.0,57.0,18.0,28.0,37.0,18.0,29.0,28.0,24.0,20.0,23.0,27.0,38.0,38.0,48.0,25.0,69.0,18.0,23.0,6.0,41.0,0.0,16.0,19.0,7.0,4.0,30.0,24.0,34.0,30.0,3.0,32.0,55.0,0.0,0.0,24.0,42.0,17.0,28.0,21.0,56.0,28.0,28.0,26.0,50.0,29.0,35.0,34.0,0.0,4.0,8.0,20.0,25.0,24.0,0.0,43.0,63.0,17.0,35.0,12.0,null,23.0,14.0,25.0,50.0,39.0,18.0,55.0,14.0,28.0,26.0,44.0,22.0,14.0,21.0,13.0,71.0,33.0,34.0,21.0,36.0,51.0,27.0,20.0,24.0,27.0,58.0,29.0,23.0,3.0,0.0,12.0,44.0,20.0,72.0,1.0,25.0,24.0,54.0,17.0,15.0,52.0,16.0,16.0,10.0,45.0,38.0,19.0,49.0,29.0,18.0,41.0,58.0,36.0,24.0,0.0,31.0,42.0,36.0,35.0,53.0,21.0,46.0,58.0,53.0,23.0,43.0,36.0,48.0,34.0,38.0,23.0,23.0,0.0,41.0,43.0,14.0,18.0,0.0,4.0,24.0,44.0,57.0,3.0,3.0,18.0,21.0,35.0,47.0,23.0,40.0,51.0,28.0,13.0,20.0,36.0,16.0,40.0,null,18.0,17.0,32.0,53.0,36.0,61.0,59.0,17.0,27.0,57.0,55.0,42.0,28.0,36.0,3.0,0.0,38.0,26.0,24.0,25.0,43.0,0.0,6.0,23.0,43.0,23.0,41.0,51.0,44.0,48.0,68.0,23.0,0.0,39.0,55.0,25.0,18.0,21.0,43.0,38.0,14.0,33.0,13.0,24.0,26.0,40.0,47.0,33.0,45.0,1.0,70.0,55.0,35.0,33.0,19.0,31.0,14.0,30.0,22.0,17.0,25.0,19.0,7.0,21.0,37.0,22.0,41.0,16.0,36.0,null,50.0,57.0,15.0,60.0,35.0,27.0,26.0,22.0,25.0,27.0,52.0,0.0,30.0,12.0,22.0,24.0,21.0,56.0,25.0,6.0,17.0,12.0,47.0,46.0,31.0,36.0,48.0,21.0,4.0,31.0,62.0,29.0,24.0,49.0,21.0,18.0,18.0,25.0,0.0,null,24.0,26.0,22.0,19.0,38.0,38.0,77.0,18.0,10.0,34.0,40.0,68.0,27.0,28.0,55.0,10.0,14.0,3.0,22.0,23.0,36.0,33.0,17.0,28.0,45.0,62.0,43.0,1.0,7.0,30.0,28.0,20.0,54.0,35.0,26.0,8.0,40.0,2.0,32.0,35.0,9.0,21.0,28.0,28.0,31.0,43.0,60.0,43.0,17.0,29.0,2.0,22.0,16.0,52.0,14.0,25.0,34.0,20.0,28.0,44.0,27.0,38.0,8.0,1.0,0.0,20.0,41.0,26.0,49.0,39.0,32.0,11.0,44.0,36.0,42.0,40.0,53.0,31.0,14.0,31.0,55.0,40.0,37.0,17.0,60.0,19.0,28.0,24.0,73.0,17.0,13.0,61.0,19.0,45.0,52.0,25.0,9.0,18.0,6.0,20.0,14.0,33.0,56.0,20.0,44.0,23.0,39.0,25.0,20.0,4.0,64.0,0.0,19.0,23.0,18.0,37.0,24.0,11.0,15.0,16.0,25.0,23.0,28.0,72.0,18.0,27.0,21.0,53.0,27.0,74.0,null,23.0,0.0,0.0,28.0,17.0,26.0,38.0,33.0,16.0,41.0,7.0,44.0,22.0,21.0,13.0,16.0,36.0,36.0,28.0,64.0,41.0,16.0,31.0,59.0,18.0,33.0,49.0,4.0,0.0,0.0,62.0,24.0,33.0,20.0,39.0,29.0,19.0,47.0,34.0,26.0,15.0,null,1.0,38.0,27.0,48.0,46.0,26.0,16.0,0.0,0.0,13.0,23.0,70.0,21.0,40.0,23.0,15.0,45.0,25.0,28.0,14.0,31.0,39.0,17.0,56.0,48.0,18.0,28.0,18.0,19.0,37.0,43.0,17.0,14.0,26.0,19.0,19.0,15.0,22.0,23.0,53.0,55.0,22.0,64.0,40.0,8.0,24.0,11.0,31.0,31.0,17.0,16.0,57.0,28.0,26.0,17.0,36.0,24.0,18.0,null,23.0,27.0,54.0,37.0,36.0,28.0,29.0,29.0,23.0,0.0,36.0,42.0,null,16.0,43.0,40.0,22.0,37.0,4.0,24.0,22.0,38.0,30.0,29.0,26.0,41.0,34.0,24.0,23.0,23.0,19.0,2.0,0.0,20.0,35.0,26.0,32.0,25.0,30.0,27.0,18.0,22.0,null,40.0,9.0,56.0,39.0,18.0,2.0,18.0,45.0,24.0,35.0,16.0,40.0,5.0,31.0,15.0,43.0,61.0,17.0,29.0,24.0,34.0,26.0,18.0,null,45.0,32.0,24.0,43.0,18.0,38.0,23.0,26.0,21.0,45.0,24.0,20.0,16.0,8.0,20.0,22.0,42.0,23.0,42.0,46.0,29.0,35.0,48.0,24.0,55.0,7.0,null,15.0,13.0,23.0,null,33.0,67.0,18.0,54.0,57.0,21.0,27.0,49.0,21.0,21.0,15.0,19.0,25.0,39.0,15.0,31.0,25.0,null,18.0,33.0,23.0,34.0,38.0,21.0,54.0,null,56.0,9.0,0.0,16.0,42.0,22.0,47.0,30.0,22.0,17.0,13.0,36.0,0.0,21.0,18.0,5.0,18.0,14.0,23.0,7.0,4.0,36.0,25.0,20.0,18.0,15.0,33.0,55.0,26.0,33.0,9.0,0.0,19.0,42.0,37.0,18.0,34.0,34.0,24.0,56.0,2.0,12.0,29.0,45.0,0.0,41.0,13.0,20.0,21.0,27.0,0.0,23.0,29.0,19.0,3.0,29.0,19.0,22.0,null,17.0,29.0,11.0,24.0,28.0,27.0,0.0,58.0,3.0,4.0,34.0,5.0,22.0,8.0,17.0,40.0,16.0,41.0,14.0,2.0,59.0,52.0,33.0,51.0,30.0,null,59.0,42.0,29.0,2.0,null,27.0,13.0,49.0,21.0,14.0,1.0,null,26.0,2.0,10.0,14.0,29.0,22.0,0.0,1.0,42.0,47.0,22.0,24.0,null,22.0,60.0,21.0,26.0,36.0,46.0,26.0,46.0,null,48.0,43.0,48.0,47.0,19.0,28.0,16.0,45.0,31.0,21.0,22.0,23.0,0.0,4.0,19.0,34.0,40.0,43.0,54.0,45.0,33.0,46.0,15.0,23.0,27.0,16.0,37.0,45.0,58.0,47.0,41.0,28.0,24.0,36.0,15.0,19.0,39.0,20.0,20.0,13.0,24.0,32.0,null,30.0,23.0,4.0,0.0,17.0,44.0,41.0,24.0,17.0,23.0,34.0,13.0,66.0,27.0,55.0,23.0,12.0,25.0,46.0,50.0,28.0,26.0,28.0,65.0,20.0,29.0,30.0,3.0,13.0,19.0,24.0,24.0,47.0,18.0,36.0,31.0,28.0,17.0,13.0,58.0,43.0,20.0,15.0,25.0,41.0,27.0,19.0,41.0,27.0,56.0,22.0,18.0,13.0,32.0,25.0,55.0,24.0,32.0,32.0,28.0,52.0,29.0,23.0,32.0,16.0,33.0,6.0,15.0,4.0,21.0,22.0,6.0,22.0,20.0,24.0,25.0,3.0,24.0,1.0,20.0,28.0,17.0,47.0,29.0,14.0,36.0,40.0,49.0,51.0,41.0,44.0,22.0,13.0,18.0,22.0,47.0,21.0,37.0,31.0,28.0,20.0,40.0,18.0,27.0,43.0,25.0,15.0,37.0,32.0,27.0,22.0,25.0,34.0,54.0,43.0,23.0,57.0,54.0,51.0,33.0,8.0,44.0,48.0,35.0,0.0,5.0,16.0,18.0,27.0,55.0,75.0,50.0,37.0,47.0,13.0,29.0,30.0,29.0,18.0,22.0,20.0,23.0,31.0,39.0,50.0,59.0,41.0,33.0,54.0,40.0,43.0,26.0,65.0,22.0,35.0,30.0,23.0,24.0,16.0,18.0,29.0,29.0,23.0,26.0,2.0,24.0,2.0,27.0,9.0,0.0,3.0,34.0,26.0,46.0,26.0,28.0,20.0,4.0,31.0,15.0,22.0,53.0,48.0,41.0,13.0,57.0,25.0,48.0,16.0,15.0,25.0,null,54.0,30.0,37.0,30.0,0.0,15.0,19.0,20.0,34.0,17.0,20.0,28.0,43.0,25.0,null,31.0,19.0,29.0,64.0,24.0,22.0,17.0,35.0,33.0,37.0,34.0,9.0,25.0,29.0,1.0,30.0,27.0,25.0,28.0,32.0,26.0,31.0,23.0,14.0,40.0,42.0,28.0,25.0,34.0,31.0,24.0,52.0,25.0,17.0,29.0,45.0,28.0,25.0,57.0,68.0,16.0,62.0,26.0,36.0,13.0,48.0,null,22.0,39.0,33.0,27.0,20.0,32.0,54.0,30.0,4.0,53.0,46.0,2.0,1.0,11.0,3.0,33.0,3.0,41.0,64.0,27.0,42.0,63.0,2.0,19.0,50.0,38.0,28.0,35.0,65.0,27.0,0.0,19.0,39.0,40.0,22.0,61.0,35.0,21.0,23.0,17.0,26.0,26.0,20.0,28.0,37.0,49.0,4.0,32.0,44.0,20.0,22.0,35.0,0.0,6.0,38.0,34.0,34.0,32.0,44.0,54.0,35.0,29.0,22.0,22.0,22.0,18.0,52.0,0.0,1.0,6.0,22.0,31.0,25.0,23.0,27.0,37.0,21.0,29.0,46.0,43.0,18.0,20.0,50.0,13.0,43.0,16.0,31.0,0.0,10.0,18.0,7.0,1.0,49.0,22.0,21.0,65.0,20.0,0.0,16.0,22.0,0.0,30.0,14.0,21.0,29.0,29.0,21.0,36.0,59.0,36.0,0.0,19.0,30.0,23.0,55.0,44.0,39.0,17.0,17.0,35.0,32.0,18.0,21.0,27.0,38.0,21.0,20.0,28.0,10.0,23.0,22.0,24.0,31.0,15.0,28.0,40.0,32.0,15.0,19.0,19.0,36.0,59.0,24.0,4.0,20.0,24.0,23.0,3.0,22.0,20.0,0.0,13.0,47.0,51.0,22.0,3.0,4.0,1.0,20.0,19.0,19.0,3.0,36.0,20.0,null,27.0,43.0,42.0,24.0,19.0,32.0,61.0,35.0,3.0,45.0,25.0,12.0,2.0,46.0,16.0,29.0,22.0,21.0,42.0,34.0,52.0,43.0,35.0,27.0,15.0,44.0,19.0,47.0,24.0,23.0,5.0,32.0,13.0,18.0,41.0,32.0,13.0,12.0,24.0,18.0,29.0,38.0,17.0,23.0,15.0,11.0,42.0,41.0,14.0,25.0,54.0,18.0,29.0,36.0,19.0,20.0,27.0,20.0,22.0,19.0,12.0,11.0,61.0,7.0,25.0,51.0,56.0,31.0,16.0,29.0,17.0,47.0,56.0,25.0,13.0,41.0,28.0,25.0,11.0,24.0,59.0,31.0,21.0,27.0,37.0,36.0,null,19.0,9.0,40.0,23.0,4.0,21.0,4.0,19.0,18.0,26.0,16.0,14.0,21.0,29.0,40.0,41.0,16.0,30.0,40.0,63.0,32.0,19.0,44.0,26.0,47.0,20.0,48.0,4.0,25.0,0.0,9.0,27.0,34.0,18.0,16.0,43.0,20.0,14.0,2.0,3.0,28.0,18.0,26.0,26.0,29.0,25.0,18.0,32.0,47.0,null,8.0,30.0,24.0,13.0,23.0,16.0,46.0,22.0,29.0,46.0,24.0,33.0,57.0,null,38.0,28.0,22.0,33.0,35.0,24.0,31.0,16.0,28.0,8.0,20.0,70.0,17.0,14.0,21.0,37.0,14.0,21.0,20.0,39.0,18.0,37.0,18.0,35.0,26.0,0.0,42.0,36.0,25.0,32.0,14.0,16.0,51.0,21.0,31.0,7.0,3.0,2.0,33.0,23.0,13.0,27.0,23.0,25.0,23.0,31.0,22.0,38.0,21.0,28.0,20.0,48.0,15.0,30.0,40.0,20.0,38.0,21.0,26.0,13.0,39.0,27.0,21.0,38.0,18.0,35.0,37.0,31.0,4.0,34.0,46.0,29.0,13.0,26.0,34.0,26.0,10.0,27.0,24.0,20.0,48.0,14.0,28.0,42.0,8.0,30.0,23.0,16.0,20.0,0.0,18.0,0.0,39.0,26.0,28.0,18.0,33.0,null,44.0,7.0,24.0,32.0,17.0,36.0,16.0,21.0,24.0,21.0,6.0,41.0,6.0,32.0,31.0,37.0,21.0,49.0,17.0,36.0,45.0,24.0,28.0,15.0,51.0,14.0,22.0,22.0,13.0,28.0,40.0,35.0,37.0,27.0,20.0,15.0,null,18.0,2.0,27.0,0.0,56.0,42.0,20.0,27.0,36.0,64.0,0.0,44.0,33.0,20.0,0.0,4.0,20.0,47.0,17.0,21.0,20.0,26.0,34.0,11.0,0.0,33.0,22.0,11.0,43.0,37.0,23.0,29.0,26.0,29.0,26.0,19.0,34.0,18.0,36.0,27.0,52.0,34.0,26.0,53.0,19.0,3.0,6.0,4.0,21.0,8.0,35.0,18.0,45.0,31.0,14.0,61.0,28.0,32.0,49.0,20.0,25.0,19.0,28.0,68.0,16.0,26.0,23.0,28.0,22.0,27.0,35.0,37.0,24.0,24.0,39.0,35.0,52.0,26.0,43.0,14.0,33.0,29.0,18.0,35.0,20.0,18.0,66.0,33.0,48.0,62.0,20.0,45.0,39.0,33.0,26.0,47.0,null,28.0,22.0,17.0,16.0,9.0,15.0,33.0,61.0,61.0,42.0,12.0,0.0,19.0,null,29.0,59.0,20.0,70.0,37.0,20.0,24.0,27.0,29.0,34.0,null,39.0,35.0,18.0,20.0,23.0,23.0,19.0,22.0,55.0,25.0,33.0,54.0,22.0,22.0,19.0,47.0,61.0,15.0,33.0,35.0,21.0,43.0,27.0,46.0,59.0,19.0,39.0,44.0,46.0,28.0,31.0,46.0,0.0,3.0,12.0,2.0,41.0,11.0,41.0,21.0,21.0,27.0,54.0,39.0,31.0,28.0,29.0,45.0,12.0,18.0,20.0,43.0,46.0,53.0,52.0,31.0,27.0,28.0,27.0,58.0,24.0,28.0,36.0,64.0,41.0,null,27.0,22.0,23.0,2.0,0.0,27.0,0.0,14.0,24.0,51.0,52.0,35.0,22.0,47.0,25.0,11.0,41.0,55.0,29.0,23.0,25.0,50.0,27.0,19.0,18.0,25.0,41.0,62.0,30.0,6.0,23.0,63.0,42.0,19.0,5.0,2.0,15.0,19.0,26.0,38.0,30.0,16.0,46.0,17.0,20.0,24.0,19.0,29.0,14.0,null,null,32.0,7.0,34.0,47.0,52.0,18.0,22.0,17.0,15.0,34.0,28.0,29.0,25.0,22.0,38.0,38.0,0.0,2.0,40.0,34.0,21.0,43.0,28.0,null,19.0,2.0,0.0,47.0,38.0,24.0,25.0,29.0,23.0,26.0,20.0,27.0,33.0,30.0,32.0,21.0,26.0,44.0,24.0,15.0,19.0,25.0,34.0,13.0,null,16.0,41.0,36.0,11.0,26.0,28.0,5.0,null,13.0,30.0,15.0,0.0,49.0,52.0,15.0,0.0,15.0,26.0,8.0,18.0,44.0,15.0,27.0,2.0,16.0,35.0,24.0,28.0,41.0,28.0,18.0,19.0,15.0,23.0,33.0,26.0,26.0,18.0,17.0,39.0,46.0,32.0,36.0,28.0,16.0,7.0,1.0,30.0,44.0,28.0,41.0,13.0,26.0,27.0,54.0,18.0,28.0,57.0,32.0,21.0,34.0,33.0,36.0,13.0,28.0,36.0,null,37.0,50.0,33.0,46.0,26.0,2.0,32.0,3.0,2.0,6.0,null,0.0,4.0,58.0,22.0,51.0,37.0,null,43.0,null,15.0,18.0,33.0,41.0,14.0,42.0,16.0,12.0,18.0,36.0,23.0,4.0,21.0,34.0,35.0,16.0,4.0,19.0,3.0,51.0,null,45.0,18.0,23.0,34.0,47.0,27.0,4.0,59.0,19.0,25.0,28.0,43.0,8.0,38.0,39.0,30.0,40.0,52.0,26.0,33.0,20.0,10.0,23.0,28.0,23.0,37.0,59.0,53.0,22.0,17.0,24.0,33.0,37.0,13.0,23.0,23.0,47.0,38.0,64.0,43.0,21.0,36.0,22.0,21.0,57.0,46.0,42.0,8.0,3.0,12.0,null,47.0,19.0,5.0,7.0,3.0,1.0,7.0,15.0,53.0,58.0,null,16.0,33.0,44.0,40.0,34.0,9.0,0.0,38.0,21.0,31.0,7.0,12.0,0.0,17.0,2.0,29.0,42.0,0.0,14.0,35.0,18.0,14.0,53.0,48.0,21.0,44.0,0.0,27.0,40.0,44.0,3.0,17.0,16.0,18.0,19.0,28.0,40.0,45.0,18.0,54.0,26.0,16.0,17.0,24.0,22.0,41.0,15.0,36.0,23.0,40.0,0.0,18.0,18.0,2.0,25.0,0.0,27.0,34.0,19.0,31.0,51.0,21.0,31.0,28.0,11.0,20.0,16.0,20.0,53.0,37.0,55.0,24.0,24.0,49.0,39.0,5.0,10.0,1.0,5.0,0.0,0.0,1.0,38.0,42.0,24.0,12.0,2.0,44.0,28.0,28.0,27.0,21.0,24.0,8.0,12.0,21.0,13.0,20.0,35.0,22.0,1.0,7.0,78.0,24.0,57.0,27.0,42.0,28.0,18.0,21.0,6.0,23.0,0.0,2.0,null,20.0,20.0,32.0,16.0,21.0,21.0,18.0,13.0,37.0,null,38.0,29.0,68.0,31.0,41.0,25.0,21.0,58.0,50.0,16.0,13.0,53.0,21.0,18.0,38.0,20.0,56.0,21.0,null,34.0,35.0,35.0,49.0,62.0,25.0,42.0,41.0,20.0,15.0,29.0,20.0,35.0,22.0,43.0,15.0,38.0,34.0,19.0,26.0,46.0,64.0,18.0,26.0,39.0,59.0,17.0,47.0,29.0,28.0,12.0,24.0,30.0,34.0,37.0,23.0,0.0,18.0,17.0,53.0,48.0,68.0,28.0,35.0,31.0,1.0,4.0,11.0,32.0,15.0,25.0,35.0,36.0,22.0,32.0,30.0,28.0,26.0,66.0,50.0,21.0,25.0,46.0,0.0,2.0,19.0,35.0,41.0,22.0,null,41.0,44.0,23.0,28.0,40.0,27.0,17.0,29.0,29.0,48.0,14.0,47.0,14.0,37.0,33.0,33.0,44.0,37.0,33.0,28.0,31.0,27.0,7.0,21.0,23.0,50.0,25.0,46.0,0.0,30.0,18.0,20.0,31.0,55.0,0.0,3.0,45.0,14.0,37.0,14.0,44.0,11.0,15.0,39.0,49.0,9.0,42.0,16.0,0.0,26.0,41.0,27.0,40.0,40.0,15.0,50.0,39.0,20.0,30.0,16.0,36.0,68.0,36.0,32.0,10.0,9.0,31.0,58.0,30.0,14.0,50.0,12.0,2.0,33.0,23.0,23.0,43.0,26.0,29.0,21.0,30.0,13.0,22.0,26.0,14.0,8.0,29.0,15.0,48.0,13.0,25.0,32.0,20.0,38.0,62.0,23.0,32.0,26.0,46.0,27.0,28.0,29.0,37.0,0.0,12.0,3.0,9.0,27.0,59.0,16.0,46.0,16.0,35.0,7.0,29.0,50.0,49.0,29.0,29.0,22.0,24.0,23.0,28.0,19.0,37.0,43.0,4.0,32.0,15.0,17.0,37.0,20.0,47.0,8.0,39.0,57.0,29.0,null,13.0,49.0,19.0,15.0,37.0,null,26.0,0.0,4.0,19.0,17.0,28.0,21.0,20.0,38.0,24.0,44.0,21.0,54.0,null,28.0,43.0,27.0,22.0,31.0,16.0,16.0,27.0,30.0,36.0,25.0,29.0,26.0,null,33.0,35.0,63.0,23.0,5.0,16.0,20.0,3.0,14.0,16.0,18.0,21.0,21.0,13.0,27.0,30.0,52.0,16.0,0.0,40.0,1.0,37.0,32.0,57.0,2.0,1.0,1.0,20.0,32.0,24.0,36.0,13.0,29.0,30.0,27.0,35.0,42.0,20.0,18.0,23.0,28.0,23.0,22.0,31.0,44.0,18.0,10.0,51.0,25.0,8.0,49.0,3.0,null,31.0,11.0,27.0,32.0,20.0,18.0,33.0,null,37.0,19.0,47.0,25.0,53.0,28.0,18.0,14.0,28.0,2.0,27.0,29.0,14.0,17.0,35.0,37.0,24.0,28.0,0.0,22.0,24.0,37.0,21.0,53.0,0.0,64.0,40.0,30.0,34.0,16.0,39.0,18.0,30.0,0.0,51.0,26.0,14.0,43.0,22.0,23.0,25.0,35.0,37.0,36.0,36.0,17.0,38.0,20.0,36.0,52.0,32.0,35.0,null,24.0,35.0,29.0,10.0,41.0,26.0,33.0,31.0,27.0,37.0,16.0,50.0,48.0,36.0,46.0,58.0,3.0,21.0,29.0,23.0,41.0,42.0,30.0,26.0,40.0,17.0,17.0,46.0,28.0,31.0,35.0,19.0,16.0,45.0,23.0,41.0,7.0,39.0,47.0,29.0,50.0,38.0,26.0,45.0,47.0,60.0,42.0,48.0,26.0,36.0,27.0,41.0,21.0,24.0,35.0,13.0,11.0,null,43.0,36.0,56.0,34.0,43.0,25.0,63.0,45.0,15.0,19.0,41.0,5.0,27.0,20.0,45.0,26.0,37.0,3.0,3.0,6.0,4.0,0.0,26.0,24.0,41.0,23.0,61.0,18.0,18.0,null,15.0,12.0,19.0,18.0,22.0,18.0,26.0,17.0,39.0,37.0,17.0,9.0,33.0,23.0,45.0,22.0,36.0,19.0,59.0,31.0,28.0,19.0,29.0,0.0,15.0,49.0,36.0,40.0,56.0,67.0,27.0,54.0,26.0,39.0,40.0,20.0,18.0,35.0,50.0,63.0,19.0,27.0,58.0,44.0,23.0,21.0,14.0,17.0,25.0,24.0,24.0,0.0,3.0,18.0,40.0,25.0,10.0,40.0,19.0,15.0,21.0,54.0,28.0,24.0,28.0,42.0,36.0,40.0,41.0,25.0,39.0,0.0,0.0,13.0,27.0,25.0,30.0,49.0,26.0,27.0,27.0,33.0,20.0,39.0,19.0,41.0,18.0,39.0,null,29.0,41.0,55.0,21.0,28.0,43.0,23.0,5.0,22.0,14.0,22.0,15.0,67.0,21.0,33.0,18.0,28.0,18.0,25.0,15.0,19.0,26.0,26.0,27.0,37.0,24.0,4.0,23.0,2.0,34.0,44.0,35.0,46.0,75.0,24.0,46.0,46.0,9.0,23.0,17.0,37.0,30.0,32.0,41.0,37.0,18.0,1.0,7.0,19.0,26.0,10.0,38.0,26.0,29.0,35.0,17.0,16.0,2.0,18.0,29.0,43.0,1.0,36.0,17.0,53.0,26.0,48.0,25.0,25.0,null,47.0,24.0,42.0,13.0,41.0,9.0,30.0,16.0,36.0,39.0,21.0,24.0,null,22.0,26.0,18.0,34.0,55.0,18.0,33.0,31.0,13.0,18.0,53.0,4.0,24.0,23.0,1.0,18.0,49.0,21.0,40.0,47.0,36.0,26.0,0.0,14.0,7.0,50.0,17.0,24.0,59.0,24.0,28.0,38.0,2.0,32.0,18.0,14.0,26.0,29.0,29.0,35.0,25.0,40.0,35.0,null,26.0,45.0,29.0,39.0,37.0,22.0,1.0,0.0,28.0,65.0,26.0,37.0,40.0,0.0,23.0,60.0,53.0,26.0,21.0,39.0,20.0,44.0,62.0,19.0,31.0,33.0,60.0,41.0,44.0,18.0,26.0,49.0,31.0,40.0,17.0,54.0,20.0,36.0,25.0,37.0,24.0,13.0,4.0,22.0,22.0,26.0,25.0,24.0,38.0,18.0,45.0,28.0,5.0,2.0,0.0,3.0,49.0,0.0,10.0,1.0,9.0,23.0,18.0,28.0,38.0,44.0,38.0,18.0,4.0,0.0,43.0,18.0,22.0,4.0,0.0,null,39.0,53.0,24.0,40.0,18.0,57.0,26.0,30.0,18.0,33.0,29.0,34.0,18.0,3.0,37.0,1.0,27.0,15.0,33.0,20.0,23.0,35.0,null,8.0,4.0,21.0,10.0,25.0,40.0,38.0,19.0,0.0,4.0,29.0,32.0,26.0,23.0,32.0,31.0,34.0,18.0,39.0,62.0,12.0,27.0,0.0,6.0,29.0,27.0,34.0,36.0,29.0,11.0,0.0,19.0,52.0,55.0,19.0,14.0,30.0,21.0,17.0,48.0,33.0,29.0,38.0,16.0,47.0,15.0,13.0,17.0,31.0,19.0,25.0,2.0,4.0,49.0,61.0,57.0,52.0,37.0,15.0,28.0,25.0,3.0,3.0,57.0,20.0,14.0,22.0,15.0,41.0,31.0,35.0,48.0,15.0,37.0,15.0,45.0,13.0,19.0,20.0,27.0,23.0,24.0,25.0,16.0,46.0,50.0,27.0,34.0,40.0,36.0,33.0,24.0,19.0,54.0,28.0,26.0,21.0,61.0,14.0,23.0,27.0,60.0,29.0,19.0,22.0,35.0,28.0,42.0,37.0,31.0,18.0,44.0,22.0,48.0,2.0,0.0,48.0,20.0,27.0,26.0,40.0,16.0,33.0,37.0,58.0,25.0,39.0,40.0,3.0,18.0,18.0,34.0,34.0,18.0,40.0,8.0,29.0,56.0,25.0,33.0,59.0,22.0,44.0,25.0,23.0,6.0,39.0,21.0,28.0,13.0,33.0,21.0,15.0,10.0,23.0,50.0,13.0,20.0,21.0,16.0,28.0,55.0,28.0,25.0,4.0,3.0,3.0,22.0,23.0,48.0,55.0,15.0,50.0,29.0,39.0,49.0,19.0,14.0,40.0,6.0,16.0,29.0,27.0,25.0,1.0,1.0,21.0,24.0,27.0,13.0,40.0,35.0,36.0,14.0,50.0,20.0,23.0,65.0,32.0,18.0,62.0,25.0,18.0,20.0,14.0,49.0,38.0,28.0,30.0,25.0,24.0,44.0,0.0,0.0,17.0,15.0,24.0,40.0,20.0,36.0,4.0,59.0,23.0,25.0,22.0,6.0,14.0,34.0,3.0,19.0,29.0,32.0,38.0,48.0,44.0,15.0,29.0,28.0,13.0,45.0,19.0,21.0,37.0,19.0,21.0,13.0,15.0,18.0,28.0,24.0,19.0,19.0,27.0,76.0,28.0,20.0,7.0,21.0,32.0,34.0,null,28.0,25.0,24.0,18.0,30.0,38.0,39.0,31.0,33.0,15.0,23.0,44.0,28.0,34.0,26.0,1.0,24.0,16.0,23.0,33.0,24.0,6.0,31.0,19.0,32.0,24.0,28.0,19.0,24.0,52.0,23.0,25.0,22.0,35.0,24.0,37.0,36.0,0.0,17.0,34.0,18.0,20.0,32.0,1.0,0.0,18.0,51.0,21.0,34.0,13.0,25.0,null,17.0,0.0,17.0,17.0,16.0,29.0,15.0,23.0,20.0,33.0,19.0,32.0,0.0,29.0,18.0,30.0,18.0,27.0,58.0,14.0,43.0,60.0,21.0,28.0,30.0,42.0,25.0,25.0,41.0,55.0,22.0,26.0,25.0,44.0,23.0,53.0,0.0,10.0,2.0,5.0,22.0,55.0,9.0,48.0,27.0,3.0,57.0,43.0,34.0,21.0,25.0,44.0,38.0,26.0,13.0,64.0,23.0,55.0,50.0,41.0,23.0,19.0,56.0,37.0,19.0,39.0,28.0,1.0,10.0,12.0,3.0,30.0,41.0,36.0,0.0,41.0,38.0,54.0,32.0,24.0,26.0,39.0,35.0,43.0,2.0,21.0,24.0,44.0,33.0,40.0,31.0,44.0,31.0,33.0,30.0,22.0,37.0,15.0,52.0,35.0,24.0,31.0,43.0,51.0,20.0,22.0,50.0,11.0,1.0,0.0,36.0,2.0,0.0,41.0,30.0,62.0,13.0,32.0,38.0,29.0,25.0,26.0,19.0,16.0,28.0,44.0,30.0,21.0,20.0,31.0,33.0,26.0,23.0,0.0,30.0,26.0,44.0],\"type\":\"histogram\"},{\"marker\":{\"color\":\"#E6B250\"},\"name\":\"Transported NO\",\"x\":[39.0,58.0,33.0,48.0,31.0,27.0,24.0,14.0,1.0,49.0,29.0,1.0,7.0,21.0,15.0,34.0,43.0,32.0,23.0,15.0,20.0,30.0,45.0,55.0,21.0,35.0,56.0,null,36.0,22.0,62.0,62.0,21.0,null,19.0,17.0,14.0,37.0,38.0,13.0,42.0,43.0,27.0,19.0,54.0,26.0,23.0,18.0,6.0,27.0,21.0,23.0,31.0,32.0,40.0,27.0,39.0,29.0,18.0,35.0,61.0,45.0,36.0,47.0,34.0,26.0,31.0,56.0,42.0,38.0,41.0,22.0,17.0,27.0,31.0,24.0,21.0,38.0,38.0,0.0,20.0,25.0,49.0,11.0,8.0,39.0,23.0,25.0,36.0,18.0,29.0,19.0,17.0,13.0,35.0,21.0,21.0,38.0,13.0,25.0,16.0,1.0,21.0,23.0,33.0,41.0,16.0,42.0,20.0,21.0,32.0,24.0,30.0,27.0,32.0,43.0,37.0,33.0,18.0,21.0,33.0,21.0,33.0,47.0,30.0,29.0,21.0,22.0,26.0,26.0,13.0,63.0,35.0,45.0,57.0,28.0,19.0,16.0,23.0,28.0,23.0,23.0,18.0,67.0,26.0,18.0,21.0,59.0,13.0,43.0,29.0,33.0,25.0,29.0,44.0,5.0,31.0,30.0,27.0,23.0,41.0,26.0,15.0,null,26.0,30.0,24.0,41.0,20.0,63.0,18.0,79.0,33.0,23.0,28.0,34.0,23.0,49.0,14.0,18.0,48.0,31.0,61.0,22.0,30.0,30.0,17.0,23.0,20.0,39.0,35.0,31.0,21.0,16.0,18.0,42.0,22.0,37.0,17.0,47.0,56.0,39.0,40.0,34.0,32.0,35.0,32.0,26.0,25.0,26.0,24.0,55.0,6.0,7.0,15.0,50.0,34.0,14.0,19.0,36.0,34.0,16.0,37.0,36.0,27.0,22.0,27.0,27.0,28.0,21.0,39.0,28.0,21.0,42.0,22.0,43.0,42.0,64.0,55.0,null,55.0,42.0,null,46.0,26.0,1.0,33.0,34.0,49.0,22.0,38.0,17.0,26.0,23.0,24.0,23.0,42.0,33.0,21.0,4.0,22.0,33.0,28.0,31.0,33.0,19.0,55.0,19.0,null,21.0,65.0,50.0,22.0,23.0,18.0,20.0,23.0,48.0,19.0,null,9.0,24.0,21.0,19.0,26.0,25.0,21.0,37.0,44.0,43.0,33.0,24.0,58.0,21.0,38.0,31.0,39.0,37.0,13.0,21.0,20.0,36.0,79.0,20.0,33.0,32.0,38.0,21.0,15.0,44.0,36.0,15.0,45.0,26.0,25.0,46.0,15.0,37.0,20.0,45.0,7.0,5.0,30.0,41.0,29.0,19.0,34.0,19.0,21.0,34.0,24.0,24.0,23.0,20.0,26.0,1.0,2.0,25.0,21.0,19.0,24.0,20.0,19.0,23.0,62.0,23.0,65.0,67.0,41.0,19.0,22.0,65.0,34.0,67.0,30.0,22.0,23.0,49.0,36.0,0.0,null,54.0,10.0,25.0,37.0,30.0,30.0,21.0,21.0,32.0,7.0,16.0,31.0,30.0,24.0,39.0,34.0,29.0,null,31.0,31.0,null,42.0,41.0,13.0,24.0,20.0,18.0,51.0,42.0,31.0,14.0,32.0,32.0,27.0,57.0,13.0,23.0,24.0,36.0,11.0,6.0,null,55.0,null,16.0,19.0,38.0,35.0,37.0,46.0,41.0,13.0,31.0,48.0,16.0,25.0,44.0,23.0,44.0,29.0,41.0,28.0,32.0,38.0,20.0,24.0,26.0,44.0,31.0,33.0,34.0,30.0,25.0,38.0,29.0,36.0,24.0,13.0,18.0,16.0,8.0,26.0,45.0,48.0,17.0,19.0,19.0,29.0,20.0,64.0,21.0,20.0,24.0,51.0,45.0,24.0,23.0,20.0,null,16.0,28.0,6.0,26.0,27.0,29.0,35.0,37.0,24.0,47.0,26.0,27.0,18.0,15.0,42.0,20.0,21.0,31.0,58.0,29.0,44.0,20.0,15.0,18.0,54.0,0.0,20.0,21.0,46.0,31.0,23.0,14.0,25.0,31.0,47.0,49.0,37.0,44.0,16.0,21.0,22.0,27.0,19.0,57.0,26.0,38.0,35.0,25.0,37.0,25.0,41.0,50.0,33.0,31.0,54.0,11.0,4.0,20.0,26.0,60.0,null,22.0,18.0,18.0,29.0,39.0,17.0,58.0,23.0,38.0,31.0,18.0,28.0,28.0,23.0,22.0,35.0,55.0,26.0,null,30.0,34.0,7.0,3.0,0.0,10.0,16.0,41.0,26.0,27.0,19.0,46.0,37.0,30.0,16.0,40.0,23.0,20.0,19.0,30.0,8.0,1.0,12.0,30.0,10.0,11.0,58.0,36.0,32.0,32.0,16.0,50.0,20.0,23.0,23.0,53.0,8.0,3.0,60.0,40.0,14.0,23.0,4.0,20.0,75.0,38.0,41.0,29.0,21.0,41.0,32.0,30.0,22.0,54.0,27.0,27.0,30.0,19.0,43.0,25.0,51.0,21.0,21.0,23.0,38.0,30.0,14.0,18.0,19.0,36.0,21.0,24.0,8.0,18.0,33.0,20.0,28.0,19.0,27.0,4.0,10.0,37.0,22.0,30.0,37.0,57.0,17.0,26.0,36.0,25.0,2.0,10.0,24.0,30.0,19.0,26.0,47.0,29.0,32.0,44.0,35.0,23.0,34.0,25.0,22.0,14.0,42.0,19.0,22.0,31.0,39.0,21.0,23.0,33.0,27.0,21.0,25.0,2.0,19.0,41.0,19.0,16.0,42.0,35.0,17.0,6.0,39.0,31.0,21.0,44.0,36.0,19.0,39.0,28.0,18.0,18.0,47.0,42.0,17.0,21.0,26.0,23.0,15.0,18.0,65.0,27.0,41.0,42.0,null,37.0,17.0,29.0,24.0,67.0,44.0,14.0,51.0,20.0,0.0,23.0,24.0,41.0,30.0,27.0,59.0,30.0,46.0,21.0,34.0,33.0,16.0,37.0,76.0,61.0,46.0,null,23.0,63.0,21.0,33.0,39.0,27.0,16.0,19.0,26.0,56.0,38.0,30.0,21.0,11.0,3.0,17.0,63.0,35.0,61.0,14.0,78.0,21.0,32.0,31.0,36.0,31.0,18.0,23.0,46.0,27.0,53.0,32.0,26.0,13.0,21.0,21.0,26.0,53.0,37.0,45.0,62.0,38.0,24.0,18.0,23.0,16.0,22.0,26.0,25.0,55.0,28.0,22.0,13.0,18.0,57.0,0.0,33.0,23.0,37.0,18.0,42.0,24.0,24.0,16.0,26.0,24.0,37.0,25.0,29.0,19.0,4.0,37.0,61.0,25.0,22.0,41.0,19.0,14.0,18.0,33.0,14.0,43.0,47.0,28.0,17.0,21.0,41.0,20.0,56.0,57.0,37.0,20.0,22.0,31.0,21.0,49.0,44.0,null,29.0,16.0,20.0,26.0,19.0,34.0,51.0,7.0,26.0,27.0,7.0,28.0,27.0,26.0,43.0,23.0,64.0,13.0,29.0,70.0,23.0,35.0,17.0,15.0,19.0,51.0,17.0,27.0,43.0,5.0,17.0,38.0,13.0,15.0,15.0,24.0,52.0,38.0,15.0,22.0,18.0,22.0,34.0,28.0,21.0,0.0,59.0,26.0,67.0,55.0,50.0,23.0,15.0,18.0,21.0,null,30.0,21.0,15.0,28.0,40.0,42.0,21.0,31.0,51.0,73.0,39.0,19.0,10.0,0.0,33.0,23.0,26.0,30.0,33.0,56.0,null,18.0,16.0,26.0,16.0,24.0,29.0,22.0,48.0,55.0,46.0,38.0,20.0,65.0,null,25.0,54.0,25.0,39.0,31.0,35.0,35.0,61.0,26.0,4.0,1.0,7.0,25.0,6.0,29.0,25.0,0.0,29.0,37.0,49.0,36.0,20.0,48.0,26.0,35.0,22.0,5.0,43.0,52.0,19.0,21.0,25.0,19.0,42.0,40.0,14.0,50.0,18.0,46.0,null,22.0,0.0,46.0,23.0,50.0,20.0,55.0,18.0,47.0,57.0,13.0,27.0,20.0,47.0,15.0,34.0,21.0,51.0,23.0,58.0,37.0,25.0,40.0,24.0,2.0,43.0,63.0,54.0,41.0,22.0,39.0,26.0,29.0,27.0,17.0,44.0,22.0,31.0,30.0,15.0,55.0,33.0,19.0,24.0,4.0,2.0,31.0,46.0,30.0,17.0,20.0,36.0,20.0,24.0,43.0,42.0,21.0,50.0,30.0,26.0,39.0,null,11.0,52.0,14.0,68.0,22.0,17.0,38.0,13.0,27.0,45.0,23.0,24.0,29.0,46.0,20.0,24.0,40.0,38.0,38.0,21.0,33.0,43.0,13.0,26.0,22.0,25.0,29.0,49.0,30.0,29.0,26.0,16.0,20.0,33.0,18.0,24.0,29.0,35.0,31.0,26.0,23.0,23.0,21.0,18.0,null,22.0,17.0,13.0,26.0,null,20.0,20.0,23.0,61.0,21.0,7.0,56.0,15.0,13.0,38.0,45.0,21.0,19.0,49.0,27.0,20.0,20.0,24.0,41.0,30.0,24.0,31.0,46.0,20.0,20.0,30.0,24.0,34.0,20.0,25.0,43.0,47.0,42.0,29.0,51.0,43.0,31.0,13.0,20.0,29.0,16.0,50.0,36.0,null,25.0,63.0,22.0,32.0,31.0,24.0,39.0,19.0,20.0,31.0,24.0,27.0,27.0,62.0,58.0,37.0,54.0,26.0,43.0,42.0,30.0,19.0,22.0,36.0,19.0,47.0,18.0,20.0,18.0,37.0,22.0,6.0,36.0,46.0,75.0,37.0,33.0,35.0,19.0,34.0,37.0,24.0,54.0,60.0,22.0,47.0,49.0,33.0,5.0,59.0,33.0,28.0,29.0,13.0,39.0,18.0,57.0,null,22.0,21.0,16.0,44.0,26.0,46.0,24.0,53.0,28.0,7.0,31.0,9.0,44.0,35.0,13.0,45.0,20.0,3.0,35.0,19.0,22.0,30.0,36.0,22.0,35.0,41.0,57.0,3.0,17.0,30.0,23.0,22.0,24.0,20.0,49.0,46.0,30.0,36.0,21.0,25.0,13.0,25.0,29.0,22.0,42.0,43.0,32.0,20.0,17.0,13.0,19.0,33.0,21.0,17.0,31.0,43.0,43.0,27.0,16.0,42.0,19.0,42.0,13.0,69.0,15.0,48.0,42.0,42.0,23.0,26.0,45.0,30.0,null,35.0,52.0,21.0,41.0,35.0,26.0,17.0,69.0,25.0,25.0,36.0,14.0,22.0,24.0,null,19.0,19.0,38.0,23.0,43.0,33.0,28.0,28.0,29.0,59.0,43.0,25.0,24.0,20.0,28.0,24.0,44.0,29.0,42.0,78.0,36.0,37.0,18.0,62.0,55.0,32.0,51.0,21.0,2.0,19.0,20.0,32.0,42.0,18.0,24.0,20.0,22.0,22.0,21.0,26.0,30.0,8.0,45.0,18.0,23.0,29.0,18.0,28.0,28.0,20.0,31.0,37.0,21.0,34.0,25.0,null,45.0,17.0,32.0,17.0,34.0,15.0,22.0,19.0,40.0,51.0,22.0,26.0,22.0,26.0,19.0,16.0,24.0,34.0,42.0,33.0,24.0,23.0,16.0,36.0,30.0,20.0,21.0,27.0,19.0,null,28.0,18.0,23.0,34.0,20.0,17.0,21.0,51.0,null,31.0,39.0,26.0,24.0,31.0,24.0,57.0,36.0,55.0,null,18.0,27.0,50.0,24.0,18.0,44.0,33.0,59.0,18.0,23.0,11.0,25.0,48.0,40.0,2.0,32.0,16.0,6.0,27.0,26.0,29.0,43.0,15.0,31.0,52.0,9.0,null,39.0,13.0,23.0,33.0,18.0,2.0,36.0,15.0,27.0,0.0,3.0,22.0,56.0,23.0,25.0,29.0,17.0,13.0,24.0,38.0,29.0,21.0,27.0,31.0,41.0,29.0,54.0,42.0,17.0,22.0,37.0,21.0,27.0,19.0,28.0,33.0,24.0,19.0,44.0,25.0,38.0,5.0,8.0,28.0,49.0,19.0,34.0,26.0,23.0,22.0,44.0,50.0,21.0,14.0,38.0,29.0,27.0,34.0,41.0,51.0,39.0,42.0,36.0,32.0,6.0,15.0,37.0,44.0,71.0,44.0,18.0,12.0,29.0,9.0,27.0,24.0,28.0,16.0,33.0,24.0,29.0,0.0,13.0,7.0,32.0,34.0,49.0,43.0,54.0,45.0,20.0,33.0,21.0,16.0,35.0,22.0,51.0,2.0,29.0,22.0,20.0,28.0,26.0,28.0,54.0,56.0,25.0,26.0,14.0,37.0,null,20.0,33.0,37.0,15.0,33.0,49.0,24.0,24.0,31.0,19.0,38.0,32.0,19.0,48.0,66.0,13.0,40.0,32.0,51.0,37.0,31.0,37.0,38.0,19.0,43.0,22.0,24.0,21.0,11.0,4.0,0.0,30.0,21.0,40.0,57.0,35.0,32.0,32.0,30.0,69.0,21.0,16.0,25.0,52.0,13.0,37.0,13.0,45.0,55.0,22.0,39.0,35.0,19.0,35.0,62.0,26.0,22.0,40.0,23.0,73.0,28.0,14.0,22.0,71.0,1.0,52.0,22.0,15.0,50.0,20.0,32.0,28.0,74.0,31.0,15.0,38.0,31.0,30.0,26.0,43.0,32.0,14.0,21.0,56.0,55.0,14.0,13.0,43.0,39.0,26.0,28.0,22.0,20.0,43.0,31.0,25.0,20.0,1.0,60.0,11.0,0.0,9.0,38.0,18.0,40.0,21.0,24.0,26.0,47.0,46.0,50.0,17.0,20.0,37.0,24.0,43.0,0.0,24.0,22.0,56.0,58.0,1.0,39.0,33.0,19.0,null,21.0,27.0,31.0,18.0,21.0,22.0,26.0,17.0,null,10.0,25.0,21.0,53.0,21.0,9.0,20.0,19.0,32.0,22.0,51.0,19.0,16.0,64.0,33.0,32.0,43.0,19.0,21.0,38.0,18.0,52.0,null,20.0,64.0,24.0,47.0,35.0,31.0,14.0,25.0,26.0,30.0,19.0,15.0,27.0,56.0,42.0,32.0,34.0,42.0,48.0,30.0,32.0,26.0,47.0,32.0,47.0,null,22.0,18.0,32.0,26.0,20.0,5.0,40.0,18.0,42.0,23.0,35.0,53.0,35.0,18.0,25.0,26.0,42.0,6.0,22.0,21.0,38.0,6.0,49.0,55.0,19.0,48.0,27.0,39.0,47.0,65.0,40.0,37.0,31.0,33.0,23.0,74.0,26.0,24.0,39.0,17.0,15.0,37.0,20.0,42.0,29.0,21.0,21.0,26.0,14.0,29.0,19.0,51.0,null,20.0,38.0,33.0,24.0,52.0,50.0,31.0,25.0,49.0,46.0,26.0,52.0,28.0,15.0,33.0,27.0,38.0,21.0,0.0,32.0,22.0,28.0,19.0,37.0,26.0,18.0,28.0,18.0,23.0,36.0,29.0,31.0,36.0,21.0,53.0,5.0,21.0,50.0,28.0,37.0,27.0,21.0,55.0,24.0,20.0,14.0,25.0,24.0,26.0,20.0,22.0,35.0,40.0,22.0,21.0,25.0,19.0,46.0,28.0,27.0,20.0,10.0,36.0,38.0,29.0,18.0,61.0,19.0,37.0,38.0,41.0,48.0,46.0,39.0,28.0,29.0,14.0,15.0,17.0,null,50.0,24.0,45.0,35.0,21.0,24.0,34.0,26.0,57.0,23.0,32.0,20.0,21.0,19.0,16.0,18.0,35.0,8.0,5.0,31.0,45.0,33.0,2.0,1.0,16.0,28.0,29.0,27.0,34.0,30.0,48.0,19.0,2.0,19.0,19.0,39.0,53.0,18.0,48.0,52.0,55.0,24.0,8.0,18.0,44.0,47.0,28.0,30.0,18.0,35.0,38.0,51.0,77.0,22.0,38.0,42.0,25.0,26.0,27.0,33.0,18.0,36.0,51.0,33.0,18.0,23.0,24.0,20.0,32.0,null,41.0,18.0,34.0,73.0,40.0,63.0,23.0,31.0,41.0,36.0,24.0,27.0,24.0,57.0,31.0,13.0,13.0,18.0,43.0,63.0,9.0,9.0,29.0,null,19.0,31.0,38.0,36.0,27.0,25.0,2.0,1.0,6.0,56.0,65.0,41.0,23.0,29.0,14.0,30.0,21.0,18.0,18.0,38.0,28.0,29.0,42.0,18.0,24.0,37.0,60.0,55.0,20.0,28.0,28.0,37.0,18.0,14.0,51.0,45.0,41.0,21.0,28.0,46.0,55.0,49.0,22.0,17.0,44.0,33.0,50.0,54.0,43.0,26.0,44.0,51.0,4.0,40.0,27.0,8.0,3.0,25.0,25.0,25.0,2.0,3.0,46.0,4.0,12.0,8.0,45.0,38.0,14.0,42.0,28.0,34.0,21.0,26.0,23.0,20.0,37.0,32.0,37.0,27.0,10.0,0.0,21.0,8.0,38.0,22.0,24.0,24.0,34.0,null,32.0,49.0,25.0,36.0,21.0,36.0,54.0,30.0,25.0,18.0,27.0,38.0,23.0,21.0,55.0,20.0,50.0,22.0,24.0,14.0,15.0,30.0,38.0,31.0,41.0,23.0,25.0,19.0,null,54.0,23.0,18.0,58.0,39.0,23.0,11.0,29.0,36.0,13.0,35.0,15.0,27.0,15.0,null,38.0,28.0,23.0,58.0,24.0,56.0,27.0,47.0,37.0,38.0,46.0,44.0,19.0,31.0,33.0,43.0,43.0,36.0,19.0,17.0,18.0,19.0,40.0,7.0,37.0,22.0,37.0,23.0,23.0,34.0,40.0,32.0,31.0,29.0,28.0,22.0,13.0,21.0,27.0,68.0,36.0,30.0,29.0,30.0,33.0,62.0,27.0,18.0,37.0,24.0,29.0,44.0,19.0,39.0,63.0,39.0,26.0,24.0,30.0,19.0,24.0,36.0,35.0,41.0,38.0,56.0,37.0,22.0,26.0,null,48.0,24.0,25.0,22.0,28.0,34.0,47.0,28.0,50.0,55.0,39.0,21.0,23.0,23.0,28.0,54.0,13.0,19.0,21.0,39.0,42.0,36.0,32.0,27.0,13.0,5.0,18.0,23.0,23.0,25.0,32.0,29.0,55.0,41.0,38.0,23.0,33.0,45.0,19.0,39.0,31.0,16.0,38.0,50.0,21.0,36.0,40.0,28.0,38.0,37.0,28.0,28.0,20.0,21.0,2.0,43.0,28.0,31.0,43.0,28.0,24.0,27.0,13.0,27.0,50.0,26.0,31.0,28.0,4.0,35.0,25.0,63.0,35.0,39.0,34.0,36.0,35.0,11.0,14.0,11.0,39.0,7.0,24.0,26.0,40.0,19.0,54.0,21.0,25.0,34.0,0.0,37.0,37.0,49.0,18.0,43.0,20.0,20.0,20.0,24.0,44.0,20.0,42.0,55.0,21.0,17.0,54.0,45.0,30.0,24.0,null,42.0,37.0,23.0,23.0,21.0,37.0,32.0,31.0,null,64.0,31.0,null,36.0,36.0,37.0,45.0,22.0,24.0,23.0,37.0,28.0,53.0,46.0,58.0,27.0,26.0,52.0,36.0,41.0,14.0,24.0,45.0,41.0,45.0,42.0,47.0,23.0,9.0,17.0,26.0,38.0,24.0,2.0,9.0,30.0,5.0,2.0,32.0,38.0,21.0,41.0,19.0,30.0,38.0,17.0,37.0,27.0,15.0,29.0,21.0,60.0,30.0,30.0,26.0,38.0,null,65.0,20.0,24.0,16.0,24.0,27.0,23.0,50.0,30.0,29.0,null,53.0,28.0,31.0,56.0,36.0,30.0,24.0,44.0,25.0,22.0,34.0,31.0,20.0,53.0,32.0,48.0,19.0,22.0,54.0,36.0,63.0,10.0,55.0,44.0,27.0,20.0,26.0,21.0,45.0,22.0,37.0,52.0,21.0,25.0,23.0,38.0,30.0,19.0,24.0,37.0,24.0,14.0,13.0,25.0,36.0,20.0,22.0,null,23.0,18.0,57.0,52.0,40.0,18.0,35.0,52.0,34.0,46.0,23.0,44.0,59.0,42.0,18.0,29.0,49.0,31.0,16.0,24.0,31.0,34.0,35.0,58.0,56.0,25.0,39.0,32.0,64.0,21.0,26.0,43.0,56.0,32.0,20.0,24.0,28.0,12.0,11.0,24.0,38.0,35.0,79.0,22.0,30.0,18.0,46.0,20.0,35.0,26.0,26.0,35.0,18.0,15.0,36.0,33.0,41.0,47.0,36.0,34.0,24.0,16.0,35.0,26.0,39.0,23.0,31.0,49.0,30.0,21.0,27.0,29.0,46.0,22.0,26.0,56.0,10.0,14.0,35.0,13.0,21.0,22.0,29.0,32.0,44.0,39.0,0.0,0.0,7.0,32.0,18.0,49.0,25.0,28.0,32.0,20.0,41.0,29.0,16.0,65.0,42.0,24.0,19.0,26.0,26.0,35.0,24.0,20.0,13.0,40.0,34.0,16.0,37.0,39.0,47.0,23.0,23.0,29.0,21.0,23.0,29.0,21.0,20.0,34.0,12.0,13.0,0.0,45.0,35.0,21.0,46.0,22.0,60.0,48.0,31.0,41.0,24.0,0.0,30.0,28.0,21.0,25.0,24.0,16.0,29.0,13.0,38.0,25.0,26.0,43.0,15.0,20.0,36.0,28.0,26.0,25.0,29.0,28.0,30.0,31.0,27.0,9.0,7.0,18.0,32.0,18.0,32.0,38.0,23.0,36.0,17.0,38.0,14.0,null,18.0,35.0,46.0,49.0,28.0,29.0,27.0,60.0,18.0,38.0,30.0,42.0,36.0,23.0,31.0,48.0,32.0,35.0,null,44.0,40.0,38.0,22.0,32.0,16.0,33.0,38.0,16.0,11.0,22.0,43.0,22.0,30.0,41.0,37.0,49.0,13.0,64.0,24.0,18.0,25.0,19.0,50.0,30.0,52.0,30.0,27.0,13.0,61.0,28.0,null,13.0,39.0,24.0,38.0,20.0,27.0,49.0,33.0,35.0,46.0,31.0,20.0,57.0,43.0,29.0,37.0,17.0,20.0,53.0,1.0,26.0,20.0,23.0,21.0,22.0,21.0,50.0,25.0,31.0,22.0,null,28.0,29.0,23.0,19.0,1.0,49.0,18.0,39.0,37.0,43.0,50.0,26.0,null,28.0,28.0,60.0,27.0,57.0,28.0,42.0,43.0,72.0,49.0,18.0,18.0,14.0,44.0,35.0,22.0,37.0,22.0,14.0,17.0,30.0,65.0,36.0,34.0,23.0,54.0,46.0,19.0,49.0,15.0,22.0,31.0,27.0,20.0,43.0,18.0,15.0,28.0,48.0,27.0,50.0,24.0,24.0,15.0,42.0,51.0,31.0,31.0,21.0,13.0,22.0,22.0,38.0,19.0,44.0,25.0,15.0,34.0,23.0,14.0,19.0,4.0,3.0,58.0,44.0,24.0,28.0,24.0,25.0,20.0,28.0,23.0,42.0,32.0,50.0,19.0,29.0,35.0,18.0,24.0,51.0,42.0,19.0,23.0,22.0,25.0,31.0,23.0,40.0,24.0,42.0,23.0,21.0,46.0,36.0,21.0,34.0,47.0,46.0,40.0,45.0,32.0,40.0,26.0,22.0,2.0,18.0,53.0,22.0,36.0,17.0,15.0,21.0,44.0,21.0,23.0,9.0,19.0,62.0,23.0,27.0,33.0,39.0,27.0,null,40.0,17.0,45.0,62.0,49.0,17.0,17.0,19.0,32.0,27.0,24.0,30.0,51.0,27.0,35.0,48.0,15.0,34.0,34.0,51.0,36.0,32.0,33.0,22.0,32.0,51.0,29.0,32.0,24.0,23.0,49.0,35.0,43.0,28.0,39.0,34.0,30.0,19.0,19.0,32.0,21.0,13.0,25.0,33.0,27.0,21.0,58.0,29.0,23.0,0.0,null,37.0,47.0,43.0,33.0,57.0,46.0,27.0,25.0,24.0,44.0,20.0,23.0,19.0,41.0,50.0,36.0,45.0,58.0,13.0,24.0,20.0,39.0,0.0,10.0,9.0,34.0,11.0,0.0,24.0,42.0,27.0,32.0,25.0,40.0,32.0,31.0,3.0,22.0,32.0,34.0,32.0,28.0,27.0,25.0,61.0,29.0,20.0,18.0,33.0,35.0,68.0,33.0,55.0,23.0,15.0,49.0,8.0,19.0,39.0,29.0,18.0,27.0,24.0,26.0,58.0,13.0,13.0,32.0,50.0,28.0,56.0,42.0,39.0,55.0,27.0,23.0,16.0,24.0,26.0,33.0,17.0,21.0,null,31.0,31.0,22.0,40.0,49.0,22.0,22.0,25.0,33.0,14.0,24.0,null,18.0,27.0,28.0,36.0,30.0,15.0,26.0,25.0,34.0,27.0,39.0,31.0,19.0,37.0,18.0,36.0,14.0,42.0,29.0,23.0,16.0,20.0,50.0,33.0,22.0,19.0,33.0,28.0,54.0,57.0,24.0,18.0,25.0,18.0,20.0,34.0,24.0,23.0,32.0,27.0,28.0,21.0,null,24.0,16.0,40.0,3.0,35.0,46.0,28.0,60.0,34.0,28.0,64.0,13.0,65.0,19.0,48.0,31.0,21.0,20.0,33.0,2.0,53.0,55.0,32.0,16.0,0.0,25.0,39.0,29.0,54.0,null,25.0,36.0,9.0,1.0,47.0,null,33.0,30.0,26.0,35.0,26.0,13.0,37.0,16.0,18.0,21.0,23.0,31.0,19.0,47.0,34.0,2.0,8.0,11.0,19.0,22.0,22.0,52.0,30.0,65.0,27.0,29.0,23.0,23.0,34.0,20.0,18.0,20.0,27.0,55.0,17.0,16.0,51.0,19.0,20.0,40.0,18.0,36.0,23.0,37.0,28.0,26.0,36.0,14.0,14.0,24.0,18.0,36.0,32.0,19.0,23.0,17.0,29.0,27.0,26.0,26.0,50.0,16.0,29.0,38.0,32.0,27.0,32.0,29.0,22.0,31.0,28.0,20.0,28.0,42.0,32.0,19.0,21.0,12.0,31.0,35.0,44.0,21.0,34.0,21.0,31.0,61.0,20.0,39.0,38.0,29.0,27.0,30.0,40.0,59.0,35.0,41.0,36.0,27.0,24.0,22.0,26.0,56.0,25.0,24.0,47.0,26.0,24.0,25.0,21.0,17.0,50.0,54.0,44.0,15.0,24.0,29.0,27.0,17.0,45.0,27.0,29.0,20.0,16.0,48.0,39.0,47.0,0.0,20.0,35.0,18.0,35.0,27.0,37.0,14.0,30.0,45.0,29.0,25.0,60.0,24.0,57.0,46.0,55.0,20.0,31.0,13.0,36.0,25.0,24.0,37.0,5.0,27.0,32.0,41.0,27.0,32.0,18.0,21.0,38.0,16.0,58.0,41.0,28.0,25.0,34.0,29.0,31.0,25.0,23.0,53.0,25.0,20.0,54.0,32.0,16.0,33.0,6.0,33.0,24.0,47.0,15.0,60.0,23.0,0.0,17.0,26.0,56.0,31.0,42.0,50.0,27.0,22.0,3.0,28.0,0.0,37.0,31.0,43.0,15.0,24.0,49.0,73.0,49.0,32.0,null,36.0,23.0,22.0,25.0,52.0,31.0,23.0,35.0,39.0,9.0,25.0,27.0,40.0,18.0,21.0,48.0,27.0,53.0,32.0,40.0,25.0,null,24.0,16.0,25.0,39.0,15.0,43.0,60.0,49.0,40.0,18.0,56.0,29.0,32.0,26.0,25.0,11.0,16.0,22.0,70.0,25.0,28.0,22.0,25.0,19.0,20.0,35.0,37.0,37.0,13.0,20.0,65.0,29.0,28.0,21.0,45.0,22.0,41.0,26.0,19.0,32.0,26.0,21.0,38.0,12.0,25.0,20.0,24.0,34.0,42.0,24.0,28.0,29.0,29.0,14.0,null,23.0,16.0,24.0,21.0,30.0,31.0,20.0,46.0,37.0,49.0,41.0,null,26.0,51.0,36.0,48.0,24.0,19.0,24.0,39.0,23.0,43.0,19.0,35.0,21.0,45.0,22.0,null,63.0,56.0,24.0,36.0,13.0,13.0,44.0,26.0,62.0,24.0,63.0,15.0,32.0,27.0,14.0,32.0,33.0,21.0,57.0,49.0,23.0,24.0,24.0,24.0,26.0,17.0,20.0,22.0,29.0,null,37.0,34.0,23.0,18.0,23.0,18.0,22.0,null,31.0,48.0,32.0,28.0,33.0,33.0,65.0,19.0,31.0,18.0,26.0,38.0,38.0,46.0,32.0,44.0,28.0,14.0,36.0,51.0,54.0,37.0,null,38.0,16.0,25.0,2.0,24.0,32.0,54.0,37.0,20.0,22.0,57.0,51.0,47.0,22.0,36.0,60.0,45.0,30.0,21.0,22.0,10.0,21.0,null,22.0,30.0,21.0,13.0,22.0,34.0,17.0,36.0,36.0,21.0,33.0,40.0,33.0,51.0,39.0,14.0,28.0,18.0,41.0,26.0,63.0,30.0,47.0,14.0,27.0,61.0,39.0,22.0,30.0,26.0,25.0,42.0,33.0,60.0,22.0,15.0,27.0,58.0,60.0,40.0,23.0,20.0,24.0,21.0,55.0,21.0,40.0,43.0,20.0,19.0,62.0,32.0,37.0,40.0,25.0,38.0,43.0,24.0,20.0,19.0,19.0,32.0,30.0,41.0,21.0,19.0,28.0,38.0,24.0,31.0,28.0,43.0,17.0,17.0,20.0,18.0,24.0,25.0,20.0,23.0,71.0,64.0,33.0,22.0,46.0,26.0,14.0,29.0,53.0,45.0,68.0,54.0,18.0,30.0,51.0,19.0,19.0,23.0,37.0,18.0,29.0,25.0,52.0,24.0,25.0,32.0,58.0,44.0,41.0,27.0,40.0,48.0,37.0,35.0,29.0,54.0,null,19.0,22.0,18.0,25.0,15.0,19.0,18.0,50.0,14.0,19.0,39.0,14.0,14.0,31.0,39.0,18.0,44.0,17.0,23.0,28.0,40.0,17.0,31.0,40.0,21.0,29.0,36.0,48.0,33.0,28.0,39.0,53.0,44.0,24.0,7.0,4.0,16.0,24.0,29.0,37.0,49.0,42.0,33.0,27.0,53.0,20.0,0.0,24.0,32.0,30.0,34.0,37.0,54.0,16.0,46.0,23.0,18.0,27.0,24.0,24.0,19.0,18.0,64.0,53.0,25.0,27.0,27.0,22.0,3.0,24.0,63.0,19.0,41.0,44.0,39.0,37.0,18.0,null,32.0,14.0,24.0,20.0,17.0,20.0,28.0,57.0,34.0,17.0,33.0,28.0,13.0,38.0,39.0,43.0,32.0,29.0,45.0,64.0,18.0,44.0,21.0,33.0,3.0,37.0,24.0,26.0,22.0,26.0,27.0,22.0,23.0,18.0,28.0,46.0,0.0,16.0,19.0,34.0,24.0,28.0,20.0,18.0,43.0,48.0,34.0,29.0,22.0,42.0,15.0,42.0,31.0,34.0,21.0,16.0,40.0,6.0,43.0,17.0,1.0,38.0,25.0,6.0,24.0,49.0,18.0,25.0,46.0,33.0,23.0,16.0,58.0,13.0,21.0,69.0,40.0,60.0,49.0,23.0,39.0,31.0,26.0,30.0,23.0,24.0,37.0,21.0,39.0,28.0,32.0,31.0,21.0,null,36.0,27.0,40.0,41.0,15.0,28.0,47.0,55.0,62.0,53.0,29.0,21.0,19.0,14.0,21.0,35.0,27.0,null,24.0,22.0,32.0,21.0,40.0,25.0,25.0,39.0,22.0,35.0,22.0,26.0,17.0,36.0,15.0,54.0,22.0,23.0,73.0,12.0,27.0,31.0,26.0,18.0,52.0,51.0,35.0,14.0,21.0,22.0,30.0,9.0,18.0,29.0,52.0,27.0,54.0,29.0,20.0,39.0,20.0,33.0,32.0,20.0,35.0,19.0,43.0,29.0,20.0,19.0,12.0,18.0,31.0,35.0,23.0,23.0,29.0,41.0,69.0,30.0,34.0,18.0,71.0,19.0,23.0,28.0,24.0,21.0,2.0,20.0,58.0,26.0,45.0,44.0,24.0,27.0,39.0,23.0,4.0,0.0,27.0,60.0,18.0,20.0,13.0,20.0,42.0,18.0,26.0,19.0,19.0,15.0,53.0,39.0,45.0,40.0,26.0,18.0,47.0,31.0,null,32.0,32.0,21.0,null,22.0,46.0,28.0,31.0,18.0,0.0,23.0,35.0,18.0,18.0,49.0,19.0,36.0,23.0,25.0,30.0,20.0,47.0,29.0,32.0,49.0,18.0,43.0,31.0,15.0,65.0,19.0,30.0,37.0,15.0,19.0,20.0,19.0,21.0,18.0,27.0,25.0,72.0,29.0,11.0,7.0,28.0,41.0,null,19.0,38.0,18.0,29.0,19.0,46.0,45.0,61.0,21.0,null,15.0,14.0,40.0,21.0,28.0,17.0,23.0,41.0,30.0,30.0,21.0,21.0,18.0,65.0,25.0,24.0,23.0,45.0,24.0,31.0,18.0,22.0,39.0,33.0,30.0,45.0,39.0,22.0,37.0,37.0,27.0,18.0,null,19.0,25.0,26.0,2.0,7.0,19.0,1.0,22.0,40.0,13.0,24.0,25.0,43.0,46.0,3.0,8.0,11.0,20.0,27.0,24.0,21.0,33.0,32.0,21.0,34.0,19.0,52.0,24.0,18.0,20.0,22.0,17.0,29.0,26.0,36.0,36.0,32.0,32.0,48.0,25.0,32.0,31.0,52.0,19.0,23.0,57.0,43.0,39.0,24.0,35.0,21.0,38.0,31.0,66.0,56.0,21.0,49.0,21.0,23.0,27.0,49.0,38.0,47.0,32.0,22.0,33.0,48.0,31.0,18.0,43.0,51.0,51.0,41.0,56.0,21.0,null,23.0,28.0,39.0,20.0,24.0,45.0,19.0,15.0,18.0,21.0,53.0,19.0,17.0,18.0,27.0,29.0,22.0,19.0,26.0,33.0,53.0,54.0,21.0,22.0,50.0,24.0,25.0,26.0,19.0,37.0,26.0,14.0,3.0,21.0,24.0,18.0,37.0,67.0,26.0,18.0,24.0,26.0,27.0,24.0,31.0,43.0,18.0,47.0,35.0,15.0,46.0,6.0,26.0,49.0,37.0,17.0,38.0,18.0,17.0,22.0,21.0,24.0,50.0,19.0,20.0,18.0,27.0,29.0,32.0,49.0,35.0,29.0,38.0,39.0,19.0,40.0,20.0,41.0,37.0,31.0,8.0,55.0,40.0,21.0,44.0,34.0,42.0,18.0,null,18.0,10.0,8.0,13.0,19.0,44.0,29.0,28.0,36.0,24.0,20.0,38.0,33.0,54.0,51.0,36.0,38.0,28.0,55.0,23.0,38.0,32.0,44.0,66.0,20.0,19.0,null,20.0,49.0,19.0,53.0,31.0,18.0,24.0,35.0,27.0,38.0,23.0,22.0,25.0,45.0,22.0,6.0,14.0,37.0,15.0,58.0,53.0,29.0,21.0,30.0,20.0,18.0,20.0,20.0,4.0,20.0,14.0,0.0,4.0,37.0,18.0,27.0,37.0,37.0,22.0,24.0,63.0,23.0,41.0,20.0,64.0,19.0,44.0,25.0,29.0,13.0,25.0,46.0,29.0,42.0,null,26.0,19.0,50.0,31.0,20.0,23.0,16.0,41.0,24.0,12.0,36.0,33.0,38.0,24.0,24.0,22.0,8.0,29.0,58.0,4.0,17.0,27.0,28.0,19.0,18.0,35.0,19.0,33.0,20.0,27.0,26.0,23.0,24.0,26.0,14.0,18.0,43.0,21.0,57.0,73.0,31.0,25.0,24.0,null,21.0,22.0,39.0,26.0,7.0,4.0,21.0,12.0,28.0,52.0,18.0,28.0,35.0,27.0,35.0,51.0,53.0,29.0,41.0,47.0,22.0,19.0,22.0,5.0,30.0,53.0,9.0,29.0,46.0,27.0,39.0,30.0,41.0,47.0,32.0,15.0,18.0,31.0,25.0,45.0,43.0,21.0,48.0,41.0,23.0,48.0,26.0,22.0,17.0,28.0,27.0,51.0,37.0,27.0,33.0,39.0,21.0,25.0,54.0,36.0,33.0,36.0,16.0,28.0,26.0,42.0,30.0,31.0,29.0,22.0,30.0,23.0,13.0,27.0,27.0,24.0,32.0,22.0,44.0,22.0,8.0,15.0,1.0,16.0,25.0,70.0,30.0,42.0,14.0,32.0,21.0,25.0,38.0,36.0,37.0,47.0,38.0,28.0,53.0,16.0,13.0,55.0,26.0,26.0,36.0,33.0,21.0,33.0,31.0,28.0,13.0,null,35.0,25.0,18.0,22.0,34.0,11.0,22.0,45.0,36.0,31.0,12.0,19.0,38.0,20.0,23.0,35.0,36.0,33.0,54.0,33.0,53.0,31.0,18.0,37.0,34.0,28.0,24.0,18.0,35.0,53.0,32.0,23.0,41.0,30.0,26.0,40.0,60.0,9.0,25.0,21.0,24.0,45.0,22.0,7.0,8.0,22.0,49.0,37.0,14.0,30.0,33.0,61.0,13.0,22.0,21.0,32.0,41.0,18.0,32.0],\"type\":\"histogram\"}],                        {\"template\":{\"data\":{\"bar\":[{\"error_x\":{\"color\":\"#2a3f5f\"},\"error_y\":{\"color\":\"#2a3f5f\"},\"marker\":{\"line\":{\"color\":\"#E5ECF6\",\"width\":0.5},\"pattern\":{\"fillmode\":\"overlay\",\"size\":10,\"solidity\":0.2}},\"type\":\"bar\"}],\"barpolar\":[{\"marker\":{\"line\":{\"color\":\"#E5ECF6\",\"width\":0.5},\"pattern\":{\"fillmode\":\"overlay\",\"size\":10,\"solidity\":0.2}},\"type\":\"barpolar\"}],\"carpet\":[{\"aaxis\":{\"endlinecolor\":\"#2a3f5f\",\"gridcolor\":\"white\",\"linecolor\":\"white\",\"minorgridcolor\":\"white\",\"startlinecolor\":\"#2a3f5f\"},\"baxis\":{\"endlinecolor\":\"#2a3f5f\",\"gridcolor\":\"white\",\"linecolor\":\"white\",\"minorgridcolor\":\"white\",\"startlinecolor\":\"#2a3f5f\"},\"type\":\"carpet\"}],\"choropleth\":[{\"colorbar\":{\"outlinewidth\":0,\"ticks\":\"\"},\"type\":\"choropleth\"}],\"contour\":[{\"colorbar\":{\"outlinewidth\":0,\"ticks\":\"\"},\"colorscale\":[[0.0,\"#0d0887\"],[0.1111111111111111,\"#46039f\"],[0.2222222222222222,\"#7201a8\"],[0.3333333333333333,\"#9c179e\"],[0.4444444444444444,\"#bd3786\"],[0.5555555555555556,\"#d8576b\"],[0.6666666666666666,\"#ed7953\"],[0.7777777777777778,\"#fb9f3a\"],[0.8888888888888888,\"#fdca26\"],[1.0,\"#f0f921\"]],\"type\":\"contour\"}],\"contourcarpet\":[{\"colorbar\":{\"outlinewidth\":0,\"ticks\":\"\"},\"type\":\"contourcarpet\"}],\"heatmap\":[{\"colorbar\":{\"outlinewidth\":0,\"ticks\":\"\"},\"colorscale\":[[0.0,\"#0d0887\"],[0.1111111111111111,\"#46039f\"],[0.2222222222222222,\"#7201a8\"],[0.3333333333333333,\"#9c179e\"],[0.4444444444444444,\"#bd3786\"],[0.5555555555555556,\"#d8576b\"],[0.6666666666666666,\"#ed7953\"],[0.7777777777777778,\"#fb9f3a\"],[0.8888888888888888,\"#fdca26\"],[1.0,\"#f0f921\"]],\"type\":\"heatmap\"}],\"heatmapgl\":[{\"colorbar\":{\"outlinewidth\":0,\"ticks\":\"\"},\"colorscale\":[[0.0,\"#0d0887\"],[0.1111111111111111,\"#46039f\"],[0.2222222222222222,\"#7201a8\"],[0.3333333333333333,\"#9c179e\"],[0.4444444444444444,\"#bd3786\"],[0.5555555555555556,\"#d8576b\"],[0.6666666666666666,\"#ed7953\"],[0.7777777777777778,\"#fb9f3a\"],[0.8888888888888888,\"#fdca26\"],[1.0,\"#f0f921\"]],\"type\":\"heatmapgl\"}],\"histogram\":[{\"marker\":{\"pattern\":{\"fillmode\":\"overlay\",\"size\":10,\"solidity\":0.2}},\"type\":\"histogram\"}],\"histogram2d\":[{\"colorbar\":{\"outlinewidth\":0,\"ticks\":\"\"},\"colorscale\":[[0.0,\"#0d0887\"],[0.1111111111111111,\"#46039f\"],[0.2222222222222222,\"#7201a8\"],[0.3333333333333333,\"#9c179e\"],[0.4444444444444444,\"#bd3786\"],[0.5555555555555556,\"#d8576b\"],[0.6666666666666666,\"#ed7953\"],[0.7777777777777778,\"#fb9f3a\"],[0.8888888888888888,\"#fdca26\"],[1.0,\"#f0f921\"]],\"type\":\"histogram2d\"}],\"histogram2dcontour\":[{\"colorbar\":{\"outlinewidth\":0,\"ticks\":\"\"},\"colorscale\":[[0.0,\"#0d0887\"],[0.1111111111111111,\"#46039f\"],[0.2222222222222222,\"#7201a8\"],[0.3333333333333333,\"#9c179e\"],[0.4444444444444444,\"#bd3786\"],[0.5555555555555556,\"#d8576b\"],[0.6666666666666666,\"#ed7953\"],[0.7777777777777778,\"#fb9f3a\"],[0.8888888888888888,\"#fdca26\"],[1.0,\"#f0f921\"]],\"type\":\"histogram2dcontour\"}],\"mesh3d\":[{\"colorbar\":{\"outlinewidth\":0,\"ticks\":\"\"},\"type\":\"mesh3d\"}],\"parcoords\":[{\"line\":{\"colorbar\":{\"outlinewidth\":0,\"ticks\":\"\"}},\"type\":\"parcoords\"}],\"pie\":[{\"automargin\":true,\"type\":\"pie\"}],\"scatter\":[{\"marker\":{\"colorbar\":{\"outlinewidth\":0,\"ticks\":\"\"}},\"type\":\"scatter\"}],\"scatter3d\":[{\"line\":{\"colorbar\":{\"outlinewidth\":0,\"ticks\":\"\"}},\"marker\":{\"colorbar\":{\"outlinewidth\":0,\"ticks\":\"\"}},\"type\":\"scatter3d\"}],\"scattercarpet\":[{\"marker\":{\"colorbar\":{\"outlinewidth\":0,\"ticks\":\"\"}},\"type\":\"scattercarpet\"}],\"scattergeo\":[{\"marker\":{\"colorbar\":{\"outlinewidth\":0,\"ticks\":\"\"}},\"type\":\"scattergeo\"}],\"scattergl\":[{\"marker\":{\"colorbar\":{\"outlinewidth\":0,\"ticks\":\"\"}},\"type\":\"scattergl\"}],\"scattermapbox\":[{\"marker\":{\"colorbar\":{\"outlinewidth\":0,\"ticks\":\"\"}},\"type\":\"scattermapbox\"}],\"scatterpolar\":[{\"marker\":{\"colorbar\":{\"outlinewidth\":0,\"ticks\":\"\"}},\"type\":\"scatterpolar\"}],\"scatterpolargl\":[{\"marker\":{\"colorbar\":{\"outlinewidth\":0,\"ticks\":\"\"}},\"type\":\"scatterpolargl\"}],\"scatterternary\":[{\"marker\":{\"colorbar\":{\"outlinewidth\":0,\"ticks\":\"\"}},\"type\":\"scatterternary\"}],\"surface\":[{\"colorbar\":{\"outlinewidth\":0,\"ticks\":\"\"},\"colorscale\":[[0.0,\"#0d0887\"],[0.1111111111111111,\"#46039f\"],[0.2222222222222222,\"#7201a8\"],[0.3333333333333333,\"#9c179e\"],[0.4444444444444444,\"#bd3786\"],[0.5555555555555556,\"#d8576b\"],[0.6666666666666666,\"#ed7953\"],[0.7777777777777778,\"#fb9f3a\"],[0.8888888888888888,\"#fdca26\"],[1.0,\"#f0f921\"]],\"type\":\"surface\"}],\"table\":[{\"cells\":{\"fill\":{\"color\":\"#EBF0F8\"},\"line\":{\"color\":\"white\"}},\"header\":{\"fill\":{\"color\":\"#C8D4E3\"},\"line\":{\"color\":\"white\"}},\"type\":\"table\"}]},\"layout\":{\"annotationdefaults\":{\"arrowcolor\":\"#2a3f5f\",\"arrowhead\":0,\"arrowwidth\":1},\"autotypenumbers\":\"strict\",\"coloraxis\":{\"colorbar\":{\"outlinewidth\":0,\"ticks\":\"\"}},\"colorscale\":{\"diverging\":[[0,\"#8e0152\"],[0.1,\"#c51b7d\"],[0.2,\"#de77ae\"],[0.3,\"#f1b6da\"],[0.4,\"#fde0ef\"],[0.5,\"#f7f7f7\"],[0.6,\"#e6f5d0\"],[0.7,\"#b8e186\"],[0.8,\"#7fbc41\"],[0.9,\"#4d9221\"],[1,\"#276419\"]],\"sequential\":[[0.0,\"#0d0887\"],[0.1111111111111111,\"#46039f\"],[0.2222222222222222,\"#7201a8\"],[0.3333333333333333,\"#9c179e\"],[0.4444444444444444,\"#bd3786\"],[0.5555555555555556,\"#d8576b\"],[0.6666666666666666,\"#ed7953\"],[0.7777777777777778,\"#fb9f3a\"],[0.8888888888888888,\"#fdca26\"],[1.0,\"#f0f921\"]],\"sequentialminus\":[[0.0,\"#0d0887\"],[0.1111111111111111,\"#46039f\"],[0.2222222222222222,\"#7201a8\"],[0.3333333333333333,\"#9c179e\"],[0.4444444444444444,\"#bd3786\"],[0.5555555555555556,\"#d8576b\"],[0.6666666666666666,\"#ed7953\"],[0.7777777777777778,\"#fb9f3a\"],[0.8888888888888888,\"#fdca26\"],[1.0,\"#f0f921\"]]},\"colorway\":[\"#636efa\",\"#EF553B\",\"#00cc96\",\"#ab63fa\",\"#FFA15A\",\"#19d3f3\",\"#FF6692\",\"#B6E880\",\"#FF97FF\",\"#FECB52\"],\"font\":{\"color\":\"#2a3f5f\"},\"geo\":{\"bgcolor\":\"white\",\"lakecolor\":\"white\",\"landcolor\":\"#E5ECF6\",\"showlakes\":true,\"showland\":true,\"subunitcolor\":\"white\"},\"hoverlabel\":{\"align\":\"left\"},\"hovermode\":\"closest\",\"mapbox\":{\"style\":\"light\"},\"paper_bgcolor\":\"white\",\"plot_bgcolor\":\"#E5ECF6\",\"polar\":{\"angularaxis\":{\"gridcolor\":\"white\",\"linecolor\":\"white\",\"ticks\":\"\"},\"bgcolor\":\"#E5ECF6\",\"radialaxis\":{\"gridcolor\":\"white\",\"linecolor\":\"white\",\"ticks\":\"\"}},\"scene\":{\"xaxis\":{\"backgroundcolor\":\"#E5ECF6\",\"gridcolor\":\"white\",\"gridwidth\":2,\"linecolor\":\"white\",\"showbackground\":true,\"ticks\":\"\",\"zerolinecolor\":\"white\"},\"yaxis\":{\"backgroundcolor\":\"#E5ECF6\",\"gridcolor\":\"white\",\"gridwidth\":2,\"linecolor\":\"white\",\"showbackground\":true,\"ticks\":\"\",\"zerolinecolor\":\"white\"},\"zaxis\":{\"backgroundcolor\":\"#E5ECF6\",\"gridcolor\":\"white\",\"gridwidth\":2,\"linecolor\":\"white\",\"showbackground\":true,\"ticks\":\"\",\"zerolinecolor\":\"white\"}},\"shapedefaults\":{\"line\":{\"color\":\"#2a3f5f\"}},\"ternary\":{\"aaxis\":{\"gridcolor\":\"white\",\"linecolor\":\"white\",\"ticks\":\"\"},\"baxis\":{\"gridcolor\":\"white\",\"linecolor\":\"white\",\"ticks\":\"\"},\"bgcolor\":\"#E5ECF6\",\"caxis\":{\"gridcolor\":\"white\",\"linecolor\":\"white\",\"ticks\":\"\"}},\"title\":{\"x\":0.05},\"xaxis\":{\"automargin\":true,\"gridcolor\":\"white\",\"linecolor\":\"white\",\"ticks\":\"\",\"title\":{\"standoff\":15},\"zerolinecolor\":\"white\",\"zerolinewidth\":2},\"yaxis\":{\"automargin\":true,\"gridcolor\":\"white\",\"linecolor\":\"white\",\"ticks\":\"\",\"title\":{\"standoff\":15},\"zerolinecolor\":\"white\",\"zerolinewidth\":2}}},\"bargap\":0.3},                        {\"responsive\": true}                    ).then(function(){\n",
       "                            \n",
       "var gd = document.getElementById('7ba76e13-f31f-4f0f-b0c3-c548f84b8cb7');\n",
       "var x = new MutationObserver(function (mutations, observer) {{\n",
       "        var display = window.getComputedStyle(gd).display;\n",
       "        if (!display || display === 'none') {{\n",
       "            console.log([gd, 'removed!']);\n",
       "            Plotly.purge(gd);\n",
       "            observer.disconnect();\n",
       "        }}\n",
       "}});\n",
       "\n",
       "// Listen for the removal of the full notebook cells\n",
       "var notebookContainer = gd.closest('#notebook-container');\n",
       "if (notebookContainer) {{\n",
       "    x.observe(notebookContainer, {childList: true});\n",
       "}}\n",
       "\n",
       "// Listen for the clearing of the current output cell\n",
       "var outputEl = gd.closest('.output');\n",
       "if (outputEl) {{\n",
       "    x.observe(outputEl, {childList: true});\n",
       "}}\n",
       "\n",
       "                        })                };                });            </script>        </div>"
      ]
     },
     "metadata": {},
     "output_type": "display_data"
    }
   ],
   "source": [
    "fig = go.Figure()\n",
    "fig.add_trace(go.Histogram( x = x0.Age, name ='Transported YES',\n",
    "                           marker_color = '#657B96'))\n",
    "fig.add_trace(go.Histogram( x = x1.Age, name ='Transported NO',\n",
    "                           marker_color = '#E6B250'))\n",
    "\n",
    "fig.update_layout( bargap = 0.3)\n",
    "\n",
    "fig.show()"
   ]
  },
  {
   "cell_type": "markdown",
   "id": "72cf11e0",
   "metadata": {
    "papermill": {
     "duration": 0.095363,
     "end_time": "2022-04-11T06:28:38.269898",
     "exception": false,
     "start_time": "2022-04-11T06:28:38.174535",
     "status": "completed"
    },
    "tags": []
   },
   "source": [
    "-- 0세 ~ 17세 : Transported Yes가 우세  \n",
    "-- 18세 ~ 39세 : Transported No가 우세하거나 비등하다.  \n",
    "-- 40세 ~ : 비등하다."
   ]
  },
  {
   "cell_type": "markdown",
   "id": "fc1b916e",
   "metadata": {
    "papermill": {
     "duration": 0.090196,
     "end_time": "2022-04-11T06:28:38.453986",
     "exception": false,
     "start_time": "2022-04-11T06:28:38.363790",
     "status": "completed"
    },
    "tags": []
   },
   "source": [
    "- 유흥비 ( **RoomService, FoodCourt, ShoppingMall, Spa, VRDeck** )"
   ]
  },
  {
   "cell_type": "code",
   "execution_count": 17,
   "id": "2ce3a9df",
   "metadata": {
    "execution": {
     "iopub.execute_input": "2022-04-11T06:28:38.638440Z",
     "iopub.status.busy": "2022-04-11T06:28:38.637788Z",
     "iopub.status.idle": "2022-04-11T06:28:38.669423Z",
     "shell.execute_reply": "2022-04-11T06:28:38.669907Z",
     "shell.execute_reply.started": "2022-04-11T02:37:42.121146Z"
    },
    "papermill": {
     "duration": 0.125561,
     "end_time": "2022-04-11T06:28:38.670083",
     "exception": false,
     "start_time": "2022-04-11T06:28:38.544522",
     "status": "completed"
    },
    "tags": []
   },
   "outputs": [
    {
     "data": {
      "text/html": [
       "<div>                            <div id=\"8543f8af-01fa-459c-9df9-f4f6cb3e92f9\" class=\"plotly-graph-div\" style=\"height:525px; width:100%;\"></div>            <script type=\"text/javascript\">                require([\"plotly\"], function(Plotly) {                    window.PLOTLYENV=window.PLOTLYENV || {};                                    if (document.getElementById(\"8543f8af-01fa-459c-9df9-f4f6cb3e92f9\")) {                    Plotly.newPlot(                        \"8543f8af-01fa-459c-9df9-f4f6cb3e92f9\",                        [{\"name\":\"RoomService\",\"y\":[0.0,109.0,43.0,0.0,303.0,0.0,42.0,0.0,0.0,0.0,0.0,39.0,73.0,719.0,8.0,32.0,1286.0,0.0,0.0,0.0,412.0,0.0,0.0,0.0,0.0,null,0.0,980.0,0.0,0.0,22.0,1125.0,0.0,214.0,0.0,null,0.0,784.0,0.0,554.0,0.0,0.0,0.0,0.0,0.0,0.0,970.0,0.0,790.0,0.0,4.0,0.0,0.0,0.0,279.0,0.0,45.0,0.0,0.0,0.0,1.0,0.0,1.0,1946.0,793.0,887.0,190.0,16.0,0.0,46.0,1.0,147.0,14.0,0.0,0.0,7406.0,0.0,0.0,688.0,0.0,211.0,0.0,0.0,null,1.0,0.0,0.0,0.0,0.0,0.0,0.0,311.0,0.0,0.0,0.0,0.0,0.0,0.0,0.0,1743.0,0.0,562.0,0.0,0.0,0.0,2209.0,0.0,0.0,0.0,0.0,82.0,0.0,1.0,0.0,0.0,0.0,0.0,55.0,0.0,701.0,2353.0,2103.0,0.0,0.0,2738.0,0.0,97.0,0.0,0.0,0.0,0.0,440.0,null,0.0,0.0,0.0,1072.0,0.0,0.0,0.0,4119.0,0.0,0.0,50.0,0.0,0.0,0.0,1365.0,0.0,0.0,0.0,0.0,0.0,287.0,0.0,3414.0,1.0,0.0,0.0,0.0,0.0,17.0,62.0,0.0,84.0,0.0,0.0,0.0,0.0,0.0,null,0.0,406.0,1052.0,0.0,0.0,0.0,0.0,0.0,0.0,0.0,0.0,0.0,0.0,2.0,0.0,0.0,902.0,0.0,848.0,192.0,147.0,367.0,0.0,1517.0,0.0,0.0,0.0,0.0,122.0,0.0,0.0,0.0,2237.0,1215.0,1933.0,0.0,1230.0,915.0,0.0,1406.0,0.0,0.0,0.0,181.0,0.0,4.0,85.0,0.0,56.0,null,0.0,637.0,0.0,0.0,313.0,0.0,0.0,0.0,0.0,0.0,2947.0,0.0,null,0.0,335.0,272.0,702.0,0.0,1664.0,0.0,0.0,0.0,66.0,0.0,0.0,118.0,0.0,0.0,0.0,44.0,0.0,0.0,0.0,0.0,0.0,146.0,0.0,0.0,3.0,0.0,0.0,0.0,0.0,0.0,0.0,0.0,0.0,0.0,0.0,90.0,0.0,0.0,0.0,0.0,0.0,0.0,368.0,0.0,1194.0,null,7.0,0.0,331.0,0.0,386.0,0.0,0.0,0.0,0.0,0.0,1018.0,0.0,0.0,0.0,17.0,0.0,247.0,443.0,0.0,0.0,5715.0,695.0,0.0,417.0,0.0,0.0,0.0,0.0,121.0,0.0,0.0,434.0,142.0,520.0,0.0,2001.0,0.0,0.0,null,0.0,0.0,148.0,358.0,0.0,0.0,2832.0,0.0,0.0,0.0,0.0,0.0,0.0,0.0,116.0,0.0,17.0,0.0,5649.0,0.0,0.0,0.0,0.0,198.0,0.0,0.0,0.0,348.0,82.0,0.0,0.0,3.0,13.0,0.0,0.0,391.0,69.0,0.0,0.0,1.0,0.0,0.0,28.0,1056.0,1770.0,0.0,353.0,177.0,null,0.0,0.0,1134.0,0.0,0.0,691.0,0.0,0.0,0.0,0.0,0.0,0.0,8.0,1094.0,0.0,0.0,417.0,0.0,2.0,0.0,0.0,0.0,1483.0,0.0,4.0,0.0,0.0,0.0,46.0,382.0,7.0,null,null,0.0,7.0,2484.0,1869.0,1352.0,0.0,0.0,9.0,757.0,0.0,0.0,0.0,0.0,0.0,0.0,5.0,0.0,0.0,210.0,0.0,0.0,0.0,0.0,2156.0,0.0,0.0,0.0,0.0,0.0,865.0,928.0,4.0,0.0,0.0,0.0,0.0,0.0,0.0,0.0,0.0,0.0,0.0,null,0.0,0.0,0.0,null,0.0,0.0,0.0,0.0,172.0,0.0,0.0,0.0,0.0,0.0,0.0,513.0,0.0,10.0,0.0,1821.0,1246.0,0.0,0.0,0.0,0.0,0.0,0.0,0.0,0.0,0.0,0.0,0.0,0.0,0.0,113.0,1445.0,0.0,0.0,62.0,39.0,0.0,553.0,0.0,1172.0,0.0,0.0,0.0,0.0,0.0,20.0,98.0,3573.0,0.0,0.0,0.0,0.0,0.0,0.0,0.0,0.0,1471.0,9.0,59.0,930.0,0.0,0.0,666.0,0.0,13.0,126.0,0.0,0.0,0.0,0.0,0.0,0.0,0.0,0.0,0.0,1440.0,0.0,840.0,0.0,0.0,0.0,697.0,0.0,0.0,1908.0,0.0,0.0,530.0,0.0,0.0,0.0,0.0,0.0,0.0,0.0,1911.0,14.0,0.0,0.0,0.0,53.0,null,0.0,0.0,0.0,0.0,0.0,0.0,0.0,0.0,2648.0,0.0,5.0,0.0,234.0,801.0,0.0,43.0,0.0,null,21.0,0.0,0.0,0.0,0.0,0.0,1252.0,0.0,0.0,0.0,0.0,0.0,0.0,27.0,434.0,4.0,0.0,149.0,0.0,0.0,0.0,0.0,0.0,0.0,0.0,0.0,1.0,0.0,0.0,0.0,103.0,0.0,0.0,0.0,629.0,0.0,0.0,614.0,0.0,0.0,0.0,0.0,0.0,2.0,0.0,0.0,0.0,0.0,0.0,1019.0,0.0,1724.0,0.0,0.0,0.0,105.0,0.0,0.0,237.0,0.0,0.0,0.0,0.0,0.0,0.0,0.0,86.0,0.0,null,1264.0,0.0,0.0,0.0,1.0,0.0,0.0,0.0,null,0.0,0.0,0.0,0.0,269.0,0.0,0.0,0.0,1.0,0.0,3887.0,3097.0,1973.0,0.0,0.0,164.0,505.0,0.0,0.0,0.0,0.0,21.0,0.0,2698.0,0.0,121.0,0.0,0.0,0.0,0.0,0.0,0.0,0.0,1695.0,457.0,0.0,1577.0,0.0,0.0,0.0,0.0,0.0,0.0,0.0,0.0,521.0,0.0,0.0,0.0,139.0,0.0,7.0,0.0,0.0,712.0,0.0,0.0,0.0,76.0,0.0,3594.0,0.0,0.0,15.0,0.0,19.0,0.0,0.0,0.0,47.0,0.0,1.0,0.0,0.0,0.0,1248.0,755.0,0.0,29.0,0.0,0.0,0.0,0.0,0.0,0.0,0.0,0.0,0.0,0.0,0.0,0.0,0.0,558.0,0.0,0.0,562.0,14.0,0.0,0.0,713.0,0.0,0.0,797.0,0.0,0.0,0.0,0.0,0.0,0.0,0.0,0.0,0.0,0.0,0.0,0.0,0.0,0.0,0.0,183.0,0.0,159.0,0.0,1227.0,836.0,0.0,1209.0,0.0,0.0,0.0,2.0,0.0,0.0,0.0,0.0,0.0,751.0,0.0,0.0,0.0,815.0,0.0,174.0,786.0,324.0,15.0,14.0,0.0,0.0,77.0,494.0,0.0,663.0,2651.0,0.0,0.0,0.0,0.0,0.0,0.0,217.0,0.0,0.0,34.0,0.0,0.0,0.0,0.0,0.0,2.0,0.0,280.0,112.0,2.0,null,0.0,0.0,12.0,0.0,381.0,784.0,3103.0,875.0,0.0,0.0,0.0,1.0,172.0,0.0,0.0,0.0,0.0,47.0,200.0,0.0,0.0,4.0,0.0,0.0,0.0,0.0,2492.0,853.0,0.0,0.0,157.0,47.0,18.0,0.0,0.0,0.0,0.0,0.0,13.0,379.0,0.0,0.0,0.0,0.0,0.0,0.0,646.0,0.0,0.0,0.0,14.0,0.0,0.0,174.0,0.0,0.0,0.0,55.0,0.0,594.0,891.0,0.0,72.0,0.0,0.0,0.0,877.0,0.0,null,0.0,0.0,3.0,0.0,0.0,0.0,631.0,1377.0,792.0,0.0,0.0,0.0,0.0,58.0,0.0,null,0.0,0.0,null,0.0,0.0,0.0,0.0,0.0,0.0,0.0,0.0,0.0,6.0,3.0,0.0,1.0,0.0,0.0,0.0,31.0,387.0,1192.0,8030.0,0.0,4301.0,252.0,0.0,621.0,0.0,253.0,0.0,885.0,0.0,0.0,1050.0,0.0,0.0,0.0,0.0,0.0,0.0,0.0,0.0,1633.0,0.0,0.0,0.0,0.0,0.0,0.0,0.0,1.0,0.0,48.0,187.0,0.0,0.0,0.0,759.0,null,0.0,1454.0,231.0,0.0,0.0,1081.0,756.0,0.0,0.0,0.0,4.0,0.0,0.0,521.0,0.0,0.0,0.0,0.0,507.0,0.0,0.0,0.0,0.0,2.0,null,182.0,0.0,0.0,0.0,0.0,0.0,null,0.0,0.0,0.0,0.0,0.0,0.0,415.0,0.0,0.0,0.0,0.0,79.0,638.0,202.0,694.0,0.0,0.0,556.0,0.0,0.0,0.0,0.0,0.0,0.0,0.0,0.0,0.0,0.0,0.0,1862.0,437.0,0.0,233.0,0.0,0.0,490.0,null,787.0,528.0,173.0,82.0,55.0,0.0,0.0,8.0,0.0,0.0,936.0,0.0,0.0,0.0,0.0,0.0,855.0,98.0,0.0,0.0,2.0,null,null,0.0,0.0,0.0,0.0,0.0,0.0,0.0,0.0,0.0,0.0,482.0,412.0,620.0,0.0,0.0,0.0,0.0,0.0,0.0,0.0,2386.0,0.0,0.0,0.0,0.0,0.0,null,29.0,0.0,0.0,0.0,0.0,131.0,0.0,0.0,0.0,0.0,0.0,0.0,0.0,0.0,636.0,0.0,0.0,0.0,0.0,0.0,2357.0,0.0,96.0,0.0,0.0,0.0,0.0,0.0,0.0,0.0,2997.0,60.0,null,0.0,0.0,0.0,0.0,0.0,0.0,0.0,0.0,204.0,0.0,0.0,600.0,0.0,0.0,2.0,0.0,42.0,0.0,0.0,71.0,null,0.0,393.0,0.0,0.0,0.0,0.0,1.0,0.0,0.0,0.0,0.0,0.0,0.0,65.0,0.0,0.0,0.0,0.0,0.0,0.0,2.0,0.0,142.0,0.0,354.0,0.0,0.0,0.0,0.0,0.0,27.0,614.0,0.0,0.0,585.0,889.0,0.0,0.0,8168.0,0.0,0.0,0.0,704.0,4.0,0.0,0.0,1277.0,0.0,0.0,0.0,1365.0,1084.0,0.0,0.0,2066.0,0.0,0.0,0.0,0.0,0.0,0.0,0.0,0.0,6.0,0.0,286.0,0.0,0.0,0.0,733.0,621.0,0.0,789.0,1758.0,0.0,105.0,213.0,0.0,0.0,null,68.0,0.0,1.0,218.0,0.0,0.0,0.0,0.0,0.0,0.0,0.0,0.0,0.0,0.0,278.0,0.0,0.0,0.0,0.0,0.0,948.0,1946.0,0.0,0.0,0.0,2508.0,0.0,0.0,0.0,0.0,0.0,0.0,70.0,0.0,1450.0,1507.0,0.0,405.0,120.0,0.0,28.0,0.0,0.0,0.0,775.0,0.0,0.0,1174.0,0.0,0.0,0.0,0.0,1489.0,491.0,0.0,0.0,43.0,0.0,1535.0,0.0,0.0,0.0,0.0,0.0,0.0,0.0,77.0,0.0,0.0,0.0,965.0,591.0,0.0,0.0,0.0,0.0,245.0,926.0,0.0,0.0,0.0,0.0,0.0,21.0,0.0,0.0,338.0,189.0,705.0,0.0,1088.0,0.0,0.0,0.0,1072.0,485.0,42.0,2058.0,0.0,386.0,0.0,0.0,0.0,0.0,0.0,0.0,1656.0,1.0,0.0,36.0,737.0,8.0,4.0,0.0,0.0,0.0,259.0,13.0,0.0,0.0,1381.0,0.0,328.0,891.0,0.0,0.0,0.0,0.0,2988.0,0.0,0.0,0.0,711.0,0.0,0.0,0.0,0.0,443.0,0.0,360.0,0.0,0.0,0.0,0.0,0.0,0.0,181.0,112.0,806.0,0.0,0.0,0.0,50.0,0.0,0.0,0.0,0.0,202.0,0.0,5.0,0.0,0.0,0.0,0.0,0.0,3.0,0.0,0.0,0.0,0.0,0.0,0.0,0.0,0.0,null,0.0,0.0,0.0,200.0,356.0,894.0,0.0,0.0,null,0.0,555.0,92.0,0.0,0.0,73.0,0.0,0.0,0.0,0.0,35.0,0.0,5.0,0.0,0.0,0.0,0.0,319.0,0.0,0.0,0.0,1890.0,1114.0,0.0,0.0,1.0,0.0,398.0,1240.0,1226.0,1006.0,0.0,0.0,65.0,765.0,0.0,0.0,0.0,0.0,0.0,539.0,4.0,0.0,0.0,3992.0,0.0,0.0,0.0,0.0,1015.0,0.0,54.0,1.0,0.0,0.0,12.0,7172.0,0.0,9.0,206.0,163.0,0.0,0.0,1.0,5022.0,0.0,0.0,0.0,877.0,0.0,1030.0,341.0,0.0,0.0,0.0,1018.0,0.0,0.0,758.0,4.0,938.0,641.0,0.0,0.0,333.0,0.0,428.0,0.0,0.0,433.0,null,0.0,0.0,0.0,0.0,0.0,305.0,16.0,5.0,0.0,0.0,0.0,0.0,0.0,0.0,22.0,0.0,0.0,0.0,0.0,2.0,13.0,1158.0,0.0,0.0,0.0,825.0,432.0,0.0,0.0,0.0,295.0,0.0,553.0,172.0,0.0,0.0,612.0,0.0,0.0,0.0,null,0.0,0.0,0.0,0.0,1215.0,0.0,0.0,0.0,0.0,1300.0,139.0,0.0,414.0,305.0,0.0,0.0,0.0,954.0,0.0,0.0,0.0,0.0,0.0,4.0,3202.0,0.0,1.0,0.0,1150.0,0.0,0.0,0.0,0.0,0.0,0.0,127.0,0.0,158.0,2.0,2436.0,0.0,1481.0,0.0,0.0,0.0,7.0,876.0,0.0,0.0,5.0,1.0,0.0,0.0,0.0,0.0,714.0,233.0,null,null,0.0,3482.0,0.0,324.0,0.0,0.0,0.0,0.0,0.0,0.0,1112.0,86.0,0.0,0.0,31.0,2210.0,1313.0,1744.0,0.0,1554.0,285.0,0.0,437.0,139.0,103.0,84.0,0.0,0.0,813.0,4.0,0.0,0.0,320.0,852.0,8.0,0.0,0.0,1279.0,553.0,21.0,68.0,0.0,1.0,1336.0,0.0,0.0,0.0,0.0,0.0,762.0,49.0,0.0,0.0,0.0,0.0,0.0,0.0,0.0,1006.0,0.0,0.0,26.0,587.0,742.0,145.0,2400.0,104.0,0.0,0.0,0.0,112.0,0.0,3677.0,2973.0,0.0,0.0,0.0,0.0,0.0,1220.0,0.0,0.0,0.0,0.0,164.0,0.0,0.0,596.0,28.0,0.0,0.0,28.0,27.0,0.0,0.0,1.0,5.0,0.0,0.0,0.0,0.0,0.0,0.0,0.0,0.0,0.0,0.0,0.0,0.0,4694.0,0.0,928.0,9.0,0.0,1891.0,0.0,112.0,0.0,null,2.0,143.0,null,0.0,0.0,0.0,1.0,0.0,0.0,0.0,0.0,0.0,140.0,17.0,1639.0,1104.0,2249.0,0.0,0.0,0.0,0.0,5.0,181.0,113.0,0.0,0.0,0.0,0.0,0.0,0.0,8.0,120.0,0.0,0.0,95.0,0.0,953.0,14.0,1752.0,0.0,0.0,0.0,0.0,0.0,0.0,0.0,0.0,0.0,0.0,0.0,0.0,0.0,28.0,0.0,0.0,470.0,2215.0,0.0,0.0,0.0,0.0,0.0,116.0,0.0,0.0,0.0,0.0,5.0,4.0,0.0,0.0,0.0,null,11.0,0.0,0.0,42.0,0.0,1465.0,0.0,null,1218.0,8.0,0.0,0.0,1744.0,0.0,0.0,34.0,731.0,0.0,0.0,0.0,0.0,0.0,2424.0,0.0,0.0,10.0,0.0,7.0,0.0,975.0,3037.0,120.0,717.0,0.0,0.0,0.0,942.0,0.0,382.0,0.0,2765.0,708.0,0.0,0.0,0.0,0.0,0.0,0.0,302.0,3.0,0.0,null,0.0,null,0.0,0.0,null,3.0,0.0,3702.0,0.0,0.0,15.0,0.0,1.0,0.0,0.0,0.0,0.0,0.0,401.0,0.0,1434.0,0.0,196.0,414.0,0.0,0.0,0.0,0.0,213.0,null,1062.0,0.0,231.0,12.0,37.0,373.0,5.0,673.0,3.0,null,0.0,0.0,0.0,0.0,0.0,0.0,0.0,0.0,1250.0,0.0,1139.0,0.0,0.0,0.0,0.0,44.0,0.0,0.0,0.0,30.0,662.0,0.0,0.0,399.0,6.0,0.0,0.0,null,0.0,null,0.0,0.0,0.0,2.0,162.0,281.0,0.0,0.0,0.0,0.0,0.0,0.0,0.0,0.0,16.0,0.0,0.0,2.0,1430.0,0.0,583.0,0.0,12.0,0.0,0.0,0.0,null,0.0,167.0,177.0,1289.0,9.0,270.0,430.0,8.0,0.0,121.0,19.0,0.0,0.0,51.0,0.0,0.0,0.0,51.0,null,8.0,356.0,29.0,546.0,6726.0,1751.0,2300.0,0.0,0.0,216.0,1624.0,0.0,10.0,0.0,63.0,776.0,0.0,0.0,1.0,235.0,0.0,600.0,860.0,0.0,0.0,0.0,0.0,0.0,0.0,0.0,0.0,0.0,770.0,0.0,717.0,721.0,624.0,736.0,0.0,0.0,1054.0,0.0,1146.0,75.0,426.0,2.0,0.0,0.0,0.0,0.0,0.0,0.0,0.0,0.0,0.0,0.0,0.0,0.0,1146.0,579.0,0.0,0.0,2138.0,0.0,78.0,651.0,0.0,0.0,0.0,0.0,0.0,0.0,0.0,38.0,0.0,212.0,388.0,2.0,0.0,0.0,0.0,0.0,437.0,1.0,46.0,607.0,938.0,0.0,0.0,0.0,0.0,1750.0,0.0,0.0,0.0,0.0,null,26.0,0.0,0.0,0.0,1443.0,0.0,1671.0,2019.0,0.0,0.0,0.0,546.0,1356.0,0.0,0.0,0.0,0.0,2.0,0.0,0.0,0.0,0.0,0.0,0.0,0.0,0.0,1172.0,48.0,2.0,0.0,0.0,9.0,0.0,0.0,0.0,552.0,21.0,0.0,2538.0,203.0,0.0,0.0,0.0,93.0,485.0,38.0,320.0,2.0,0.0,701.0,0.0,0.0,0.0,0.0,0.0,0.0,null,0.0,485.0,0.0,0.0,616.0,2318.0,0.0,0.0,171.0,0.0,0.0,0.0,0.0,0.0,0.0,241.0,26.0,0.0,0.0,20.0,0.0,0.0,262.0,0.0,12.0,20.0,0.0,3.0,426.0,0.0,0.0,0.0,270.0,174.0,0.0,0.0,1010.0,1508.0,1367.0,0.0,1377.0,0.0,0.0,0.0,0.0,0.0,0.0,1320.0,0.0,9.0,0.0,0.0,0.0,0.0,0.0,0.0,0.0,0.0,0.0,1365.0,0.0,0.0,0.0,0.0,128.0,0.0,0.0,0.0,0.0,0.0,0.0,556.0,0.0,0.0,1409.0,0.0,14.0,1290.0,0.0,0.0,0.0,613.0,0.0,0.0,0.0,0.0,1.0,null,0.0,0.0,27.0,880.0,773.0,0.0,0.0,0.0,0.0,0.0,0.0,2416.0,0.0,0.0,0.0,0.0,579.0,3.0,0.0,464.0,0.0,0.0,0.0,194.0,0.0,0.0,0.0,0.0,0.0,0.0,0.0,0.0,1773.0,null,0.0,0.0,768.0,0.0,712.0,0.0,854.0,0.0,0.0,854.0,0.0,0.0,7.0,0.0,0.0,828.0,0.0,0.0,292.0,0.0,0.0,19.0,0.0,0.0,0.0,9.0,11.0,0.0,0.0,0.0,34.0,0.0,0.0,0.0,112.0,0.0,0.0,0.0,4.0,759.0,0.0,227.0,0.0,0.0,1458.0,6.0,602.0,0.0,0.0,0.0,0.0,0.0,526.0,0.0,0.0,554.0,0.0,0.0,31.0,0.0,0.0,0.0,58.0,null,999.0,139.0,0.0,0.0,756.0,0.0,0.0,0.0,0.0,0.0,0.0,0.0,682.0,2594.0,552.0,584.0,4483.0,0.0,2.0,0.0,64.0,0.0,148.0,0.0,272.0,873.0,311.0,0.0,0.0,0.0,0.0,0.0,36.0,0.0,0.0,0.0,34.0,0.0,0.0,0.0,2.0,0.0,75.0,0.0,0.0,172.0,0.0,0.0,0.0,0.0,0.0,0.0,0.0,639.0,1734.0,0.0,737.0,0.0,0.0,0.0,0.0,0.0,345.0,0.0,834.0,0.0,41.0,0.0,548.0,0.0,0.0,852.0,1663.0,0.0,1281.0,0.0,238.0,0.0,0.0,0.0,0.0,0.0,0.0,0.0,0.0,0.0,403.0,0.0,0.0,0.0,882.0,0.0,194.0,0.0,2502.0,2.0,0.0,598.0,145.0,0.0,0.0,0.0,10.0,1153.0,19.0,496.0,26.0,98.0,0.0,4.0,0.0,0.0,0.0,0.0,0.0,0.0,406.0,0.0,9.0,0.0,803.0,1102.0,804.0,0.0,0.0,0.0,938.0,0.0,59.0,0.0,0.0,995.0,27.0,0.0,0.0,0.0,0.0,0.0,0.0,900.0,10.0,0.0,0.0,0.0,0.0,0.0,0.0,59.0,0.0,2000.0,492.0,0.0,0.0,0.0,232.0,0.0,0.0,0.0,91.0,0.0,0.0,0.0,1867.0,null,0.0,0.0,0.0,0.0,122.0,0.0,3.0,0.0,0.0,0.0,0.0,0.0,490.0,46.0,0.0,0.0,0.0,0.0,0.0,366.0,null,0.0,1.0,0.0,1722.0,0.0,0.0,0.0,1874.0,29.0,0.0,4.0,0.0,970.0,0.0,3551.0,0.0,0.0,0.0,880.0,2.0,0.0,886.0,0.0,13.0,339.0,0.0,0.0,0.0,11.0,0.0,0.0,947.0,1893.0,0.0,45.0,0.0,0.0,0.0,1178.0,0.0,1113.0,0.0,3.0,0.0,0.0,361.0,0.0,0.0,0.0,269.0,130.0,0.0,171.0,0.0,0.0,21.0,0.0,0.0,0.0,0.0,1200.0,0.0,0.0,0.0,0.0,0.0,0.0,0.0,0.0,0.0,0.0,1709.0,0.0,2381.0,1049.0,0.0,1.0,471.0,746.0,1511.0,758.0,0.0,143.0,600.0,0.0,0.0,0.0,0.0,0.0,911.0,0.0,253.0,null,0.0,0.0,0.0,0.0,625.0,254.0,91.0,0.0,1502.0,123.0,0.0,0.0,0.0,0.0,0.0,314.0,3.0,0.0,412.0,2301.0,null,14.0,0.0,0.0,2.0,0.0,null,0.0,13.0,0.0,0.0,0.0,0.0,3.0,0.0,0.0,0.0,784.0,10.0,0.0,0.0,0.0,6.0,0.0,3.0,0.0,1.0,18.0,0.0,948.0,0.0,0.0,0.0,0.0,0.0,0.0,803.0,0.0,0.0,237.0,0.0,0.0,165.0,77.0,0.0,0.0,0.0,0.0,0.0,0.0,0.0,0.0,0.0,0.0,1581.0,20.0,0.0,0.0,0.0,0.0,0.0,0.0,0.0,1.0,672.0,357.0,0.0,0.0,33.0,56.0,0.0,0.0,631.0,0.0,0.0,0.0,0.0,154.0,5.0,0.0,0.0,2904.0,520.0,0.0,71.0,819.0,0.0,0.0,0.0,0.0,0.0,2127.0,0.0,173.0,418.0,44.0,0.0,0.0,0.0,0.0,912.0,0.0,901.0,0.0,0.0,4.0,0.0,0.0,0.0,0.0,0.0,688.0,0.0,1.0,523.0,0.0,0.0,null,123.0,489.0,1.0,0.0,0.0,649.0,0.0,0.0,0.0,21.0,13.0,0.0,null,0.0,336.0,0.0,828.0,0.0,0.0,0.0,0.0,0.0,null,0.0,0.0,15.0,0.0,5.0,24.0,198.0,0.0,214.0,null,0.0,0.0,0.0,0.0,0.0,310.0,0.0,235.0,3.0,1822.0,1.0,null,0.0,1228.0,2050.0,0.0,2.0,0.0,221.0,740.0,0.0,0.0,0.0,0.0,0.0,0.0,0.0,5711.0,396.0,0.0,0.0,1252.0,173.0,0.0,0.0,0.0,0.0,736.0,0.0,0.0,0.0,0.0,0.0,0.0,23.0,0.0,0.0,1187.0,null,82.0,0.0,0.0,1644.0,0.0,517.0,608.0,0.0,0.0,0.0,0.0,2.0,45.0,0.0,0.0,0.0,0.0,728.0,0.0,0.0,0.0,0.0,479.0,0.0,0.0,506.0,1228.0,0.0,2616.0,0.0,577.0,0.0,0.0,995.0,0.0,1586.0,0.0,578.0,1086.0,760.0,3309.0,0.0,664.0,0.0,741.0,0.0,0.0,1.0,0.0,0.0,1609.0,0.0,379.0,0.0,null,0.0,0.0,0.0,35.0,0.0,0.0,0.0,1.0,0.0,0.0,0.0,0.0,0.0,0.0,0.0,null,null,2229.0,924.0,5.0,0.0,0.0,809.0,0.0,0.0,0.0,0.0,0.0,520.0,1173.0,0.0,null,0.0,1598.0,127.0,0.0,0.0,571.0,0.0,691.0,0.0,0.0,0.0,1130.0,0.0,139.0,0.0,62.0,886.0,0.0,0.0,0.0,0.0,0.0,0.0,0.0,0.0,912.0,33.0,1087.0,0.0,0.0,17.0,0.0,0.0,0.0,1507.0,0.0,0.0,0.0,0.0,0.0,1007.0,4.0,0.0,null,0.0,207.0,0.0,0.0,155.0,0.0,0.0,0.0,2840.0,null,4.0,0.0,0.0,0.0,0.0,0.0,0.0,1299.0,0.0,0.0,309.0,0.0,0.0,0.0,0.0,0.0,0.0,1046.0,0.0,4.0,330.0,0.0,null,3865.0,0.0,0.0,293.0,0.0,454.0,11.0,76.0,11.0,511.0,0.0,180.0,715.0,0.0,0.0,0.0,0.0,324.0,5.0,52.0,0.0,0.0,0.0,0.0,16.0,0.0,0.0,0.0,63.0,3.0,0.0,0.0,158.0,0.0,593.0,0.0,1097.0,0.0,2646.0,0.0,0.0,0.0,0.0,0.0,764.0,0.0,8.0,0.0,0.0,0.0,0.0,0.0,508.0,0.0,0.0,0.0,74.0,0.0,0.0,0.0,0.0,0.0,0.0,0.0,1612.0,0.0,256.0,20.0,0.0,0.0,0.0,0.0,0.0,1150.0,0.0,0.0,0.0,0.0,64.0,0.0,0.0,0.0,0.0,null,718.0,0.0,0.0,0.0,13.0,null,0.0,0.0,915.0,0.0,0.0,2598.0,632.0,313.0,0.0,0.0,0.0,378.0,0.0,0.0,0.0,0.0,0.0,0.0,1065.0,0.0,0.0,0.0,0.0,0.0,0.0,260.0,10.0,0.0,0.0,0.0,0.0,null,0.0,0.0,0.0,0.0,0.0,0.0,0.0,0.0,0.0,0.0,578.0,0.0,1633.0,666.0,824.0,0.0,0.0,0.0,0.0,0.0,0.0,0.0,0.0,0.0,0.0,180.0,0.0,3.0,0.0,0.0,0.0,0.0,0.0,0.0,0.0,0.0,0.0,0.0,0.0,0.0,0.0,717.0,1.0,0.0,0.0,0.0,0.0,2532.0,0.0,0.0,0.0,664.0,0.0,2.0,0.0,1.0,1.0,106.0,0.0,0.0,0.0,24.0,0.0,0.0,0.0,0.0,0.0,0.0,0.0,0.0,0.0,0.0,0.0,0.0,2.0,308.0,0.0,0.0,0.0,0.0,0.0,0.0,0.0,90.0,0.0,0.0,0.0,2.0,0.0,505.0,0.0,null,2267.0,0.0,15.0,0.0,0.0,0.0,190.0,0.0,22.0,0.0,0.0,0.0,0.0,381.0,0.0,0.0,6.0,0.0,0.0,95.0,0.0,0.0,0.0,0.0,0.0,350.0,503.0,792.0,0.0,0.0,0.0,0.0,1.0,0.0,1196.0,0.0,0.0,0.0,0.0,0.0,0.0,0.0,0.0,0.0,86.0,0.0,0.0,0.0,506.0,90.0,0.0,0.0,0.0,0.0,0.0,0.0,0.0,0.0,0.0,0.0,0.0,0.0,0.0,0.0,0.0,1.0,0.0,121.0,0.0,0.0,3.0,0.0,0.0,0.0,0.0,0.0,0.0,6.0,274.0,0.0,4.0,0.0,0.0,44.0,0.0,0.0,0.0,0.0,0.0,542.0,66.0,196.0,0.0,0.0,0.0,1272.0,0.0,0.0,124.0,1.0,122.0,0.0,0.0,0.0,0.0,0.0,0.0,0.0,0.0,0.0,0.0,0.0,0.0,733.0,1.0,0.0,809.0,null,1749.0,0.0,1304.0,0.0,0.0,0.0,1.0,0.0,0.0,0.0,0.0,0.0,0.0,1099.0,0.0,0.0,0.0,0.0,4.0,0.0,3.0,766.0,0.0,78.0,0.0,249.0,3.0,0.0,1617.0,2581.0,14.0,0.0,0.0,0.0,0.0,0.0,30.0,0.0,85.0,19.0,0.0,0.0,1178.0,0.0,0.0,323.0,42.0,0.0,576.0,787.0,0.0,193.0,354.0,0.0,0.0,0.0,0.0,616.0,0.0,0.0,0.0,0.0,0.0,0.0,0.0,0.0,5.0,0.0,0.0,0.0,0.0,5.0,1.0,0.0,2.0,0.0,2.0,0.0,43.0,0.0,0.0,null,0.0,0.0,0.0,42.0,0.0,0.0,0.0,25.0,1280.0,125.0,0.0,0.0,0.0,null,0.0,105.0,0.0,0.0,0.0,0.0,0.0,0.0,0.0,0.0,0.0,0.0,97.0,1.0,0.0,0.0,0.0,3.0,42.0,null,0.0,0.0,0.0,0.0,0.0,43.0,232.0,105.0,0.0,0.0,0.0,0.0,0.0,4.0,0.0,25.0,0.0,0.0,0.0,0.0,1404.0,808.0,0.0,0.0,0.0,0.0,0.0,58.0,0.0,null,1377.0,120.0,238.0,424.0,131.0,622.0,0.0,0.0,432.0,0.0,0.0,0.0,3471.0,0.0,0.0,0.0,0.0,48.0,33.0,null,0.0,0.0,0.0,18.0,1193.0,0.0,0.0,0.0,0.0,0.0,null,0.0,0.0,3340.0,0.0,0.0,2.0,0.0,328.0,0.0,0.0,0.0,0.0,0.0,0.0,0.0,0.0,null,0.0,0.0,0.0,0.0,0.0,0.0,0.0,64.0,396.0,0.0,0.0,0.0,0.0,0.0,0.0,null,0.0,381.0,0.0,0.0,0.0,824.0,0.0,0.0,0.0,1037.0,0.0,80.0,0.0,0.0,2.0,55.0,0.0,513.0,0.0,227.0,0.0,0.0,2.0,0.0,0.0,1.0,821.0,183.0,0.0,0.0,null,913.0,0.0,0.0,132.0,519.0,0.0,0.0,0.0,0.0,90.0,0.0,0.0,0.0,25.0,0.0,357.0,0.0,406.0,0.0,3361.0,14.0,0.0,0.0,58.0,984.0,0.0,0.0,0.0,0.0,1192.0,0.0,0.0,71.0,799.0,1387.0,1.0,1060.0,28.0,418.0,1049.0,312.0,0.0,90.0,4.0,0.0,38.0,0.0,0.0,0.0,0.0,0.0,0.0,205.0,0.0,16.0,0.0,339.0,0.0,0.0,2627.0,0.0,974.0,149.0,1008.0,12.0,0.0,0.0,3.0,1540.0,0.0,0.0,0.0,0.0,0.0,0.0,0.0,0.0,0.0,2478.0,86.0,158.0,0.0,796.0,0.0,0.0,0.0,0.0,0.0,0.0,0.0,0.0,847.0,0.0,0.0,0.0,0.0,0.0,0.0,0.0,0.0,0.0,967.0,0.0,0.0,0.0,0.0,6.0,9.0,0.0,309.0,0.0,0.0,0.0,2.0,0.0,0.0,0.0,35.0,0.0,95.0,0.0,0.0,0.0,716.0,55.0,0.0,3.0,0.0,0.0,0.0,659.0,2.0,0.0,0.0,3537.0,45.0,0.0,0.0,0.0,772.0,2739.0,0.0,0.0,629.0,0.0,14.0,325.0,781.0,3478.0,0.0,0.0,0.0,1144.0,0.0,653.0,0.0,0.0,0.0,0.0,0.0,0.0,0.0,324.0,0.0,0.0,886.0,0.0,355.0,39.0,0.0,0.0,0.0,0.0,46.0,0.0,400.0,0.0,667.0,1217.0,1448.0,103.0,1632.0,1258.0,0.0,0.0,0.0,0.0,0.0,0.0,0.0,0.0,16.0,0.0,89.0,0.0,0.0,20.0,0.0,0.0,0.0,0.0,0.0,0.0,0.0,0.0,0.0,1417.0,0.0,3.0,0.0,0.0,0.0,4.0,null,0.0,0.0,0.0,400.0,1796.0,0.0,0.0,8.0,0.0,460.0,0.0,0.0,309.0,0.0,0.0,0.0,0.0,931.0,null,258.0,6498.0,1843.0,4.0,1.0,0.0,0.0,0.0,0.0,0.0,0.0,0.0,0.0,0.0,0.0,2025.0,0.0,0.0,7.0,0.0,0.0,714.0,0.0,0.0,0.0,0.0,0.0,536.0,0.0,0.0,1417.0,0.0,0.0,0.0,0.0,0.0,3.0,437.0,880.0,1851.0,0.0,0.0,0.0,939.0,1339.0,0.0,0.0,null,0.0,0.0,0.0,0.0,1901.0,1616.0,0.0,1680.0,719.0,451.0,0.0,0.0,0.0,0.0,227.0,0.0,0.0,834.0,949.0,0.0,0.0,0.0,1100.0,0.0,0.0,1025.0,0.0,0.0,0.0,27.0,169.0,0.0,0.0,0.0,0.0,0.0,0.0,40.0,0.0,0.0,0.0,111.0,0.0,0.0,15.0,0.0,0.0,0.0,0.0,850.0,664.0,40.0,0.0,0.0,0.0,19.0,16.0,0.0,0.0,null,0.0,0.0,89.0,0.0,0.0,0.0,null,661.0,0.0,246.0,0.0,0.0,0.0,0.0,0.0,0.0,0.0,null,0.0,0.0,12.0,0.0,1363.0,128.0,0.0,154.0,0.0,59.0,0.0,0.0,0.0,760.0,490.0,247.0,0.0,612.0,0.0,0.0,36.0,0.0,0.0,0.0,0.0,0.0,0.0,0.0,2.0,0.0,0.0,0.0,0.0,1367.0,558.0,0.0,0.0,1277.0,558.0,950.0,0.0,0.0,610.0,0.0,1620.0,0.0,0.0,0.0,0.0,0.0,0.0,0.0,0.0,0.0,326.0,0.0,0.0,0.0,0.0,4.0,3.0,992.0,0.0,0.0,0.0,176.0,0.0,1268.0,1331.0,553.0,27.0,37.0,0.0,1184.0,469.0,0.0,406.0,0.0,0.0,0.0,0.0,0.0,0.0,0.0,0.0,0.0,3002.0,0.0,0.0,0.0,0.0,0.0,354.0,715.0,156.0,488.0,5493.0,0.0,0.0,0.0,6.0,0.0,0.0,571.0,0.0,0.0,13.0,0.0,0.0,0.0,0.0,9.0,0.0,0.0,412.0,0.0,1.0,0.0,0.0,null,0.0,24.0,0.0,0.0,0.0,0.0,401.0,0.0,0.0,0.0,0.0,0.0,646.0,49.0,0.0,0.0,14.0,0.0,0.0,0.0,36.0,0.0,0.0,0.0,0.0,1371.0,0.0,0.0,563.0,0.0,0.0,0.0,0.0,439.0,0.0,2.0,786.0,0.0,0.0,412.0,0.0,0.0,39.0,427.0,0.0,0.0,0.0,0.0,267.0,0.0,0.0,2320.0,22.0,0.0,0.0,0.0,2044.0,0.0,0.0,0.0,0.0,429.0,444.0,0.0,802.0,0.0,0.0,641.0,33.0,22.0,115.0,0.0,118.0,0.0,3.0,0.0,0.0,0.0,0.0,0.0,0.0,552.0,0.0,0.0,0.0,857.0,3.0,0.0,106.0,0.0,0.0,null,0.0,954.0,735.0,0.0,65.0,0.0,0.0,0.0,192.0,0.0,0.0,0.0,875.0,383.0,38.0,0.0,754.0,0.0,0.0,0.0,141.0,689.0,0.0,0.0,0.0,0.0,0.0,134.0,7.0,null,0.0,0.0,0.0,0.0,27.0,715.0,0.0,941.0,0.0,0.0,0.0,30.0,0.0,3.0,0.0,0.0,546.0,0.0,8.0,0.0,0.0,0.0,0.0,721.0,null,0.0,0.0,0.0,0.0,8.0,2.0,0.0,0.0,35.0,0.0,0.0,0.0,130.0,0.0,0.0,0.0,0.0,0.0,0.0,0.0,0.0,698.0,0.0,0.0,399.0,0.0,0.0,0.0,0.0,31.0,0.0,0.0,36.0,0.0,0.0,1549.0,0.0,110.0,2244.0,994.0,null,0.0,0.0,13.0,0.0,1170.0,23.0,3559.0,0.0,0.0,0.0,0.0,0.0,1956.0,3087.0,0.0,1219.0,0.0,0.0,0.0,0.0,0.0,42.0,0.0,0.0,0.0,0.0,0.0,0.0,0.0,0.0,0.0,0.0,0.0,83.0,0.0,0.0,0.0,2.0,160.0,433.0,572.0,1340.0,137.0,null,27.0,0.0,0.0,0.0,849.0,0.0,0.0,6.0,426.0,452.0,820.0,1.0,101.0,0.0,26.0,9.0,0.0,0.0,0.0,60.0,631.0,25.0,0.0,0.0,0.0,0.0,0.0,0.0,14.0,0.0,0.0,0.0,0.0,0.0,375.0,0.0,29.0,0.0,0.0,null,0.0,0.0,0.0,0.0,null,191.0,0.0,4102.0,0.0,0.0,0.0,0.0,42.0,686.0,176.0,3.0,661.0,250.0,0.0,0.0,0.0,0.0,22.0,0.0,0.0,0.0,0.0,0.0,0.0,1.0,77.0,0.0,267.0,0.0,0.0,0.0,0.0,0.0,0.0,1.0,374.0,0.0,165.0,25.0,0.0,2.0,1.0,5.0,0.0,0.0,0.0,36.0,19.0,0.0,0.0,0.0,0.0,1246.0,0.0,0.0,0.0,0.0,0.0,0.0,0.0,0.0,0.0,0.0,0.0,0.0,0.0,2.0,0.0,454.0,514.0,0.0,672.0,0.0,595.0,65.0,0.0,null,8.0,0.0,0.0,141.0,290.0,1399.0,84.0,0.0,0.0,0.0,0.0,0.0,0.0,0.0,0.0,372.0,0.0,0.0,703.0,77.0,0.0,0.0,0.0,0.0,0.0,0.0,45.0,0.0,0.0,0.0,0.0,0.0,0.0,0.0,0.0,182.0,0.0,0.0,0.0,0.0,0.0,35.0,0.0,0.0,183.0,0.0,null,0.0,0.0,1144.0,225.0,0.0,0.0,0.0,14327.0,0.0,0.0,0.0,0.0,0.0,3148.0,0.0,0.0,0.0,818.0,0.0,0.0,0.0,2614.0,130.0,179.0,1420.0,0.0,0.0,0.0,0.0,0.0,0.0,0.0,0.0,154.0,866.0,0.0,0.0,0.0,0.0,8.0,706.0,null,0.0,0.0,0.0,0.0,962.0,531.0,574.0,37.0,0.0,0.0,0.0,0.0,0.0,0.0,282.0,204.0,0.0,0.0,233.0,850.0,25.0,0.0,0.0,0.0,185.0,248.0,0.0,0.0,298.0,0.0,0.0,0.0,0.0,256.0,935.0,0.0,0.0,2130.0,0.0,123.0,0.0,588.0,845.0,0.0,0.0,50.0,0.0,0.0,0.0,223.0,0.0,0.0,0.0,2.0,0.0,0.0,63.0,0.0,13.0,0.0,0.0,138.0,21.0,0.0,0.0,0.0,0.0,0.0,null,1028.0,211.0,0.0,0.0,22.0,665.0,30.0,0.0,0.0,564.0,17.0,588.0,0.0,0.0,0.0,0.0,0.0,526.0,0.0,363.0,944.0,0.0,0.0,542.0,0.0,20.0,0.0,1.0,0.0,0.0,12.0,21.0,2260.0,0.0,161.0,0.0,0.0,148.0,14.0,330.0,0.0,4531.0,12.0,423.0,0.0,1721.0,0.0,0.0,0.0,8.0,0.0,0.0,654.0,0.0,529.0,750.0,108.0,362.0,126.0,0.0,9.0,0.0,0.0,74.0,null,0.0,0.0,274.0,0.0,0.0,0.0,0.0,44.0,0.0,0.0,176.0,0.0,647.0,0.0,8.0,0.0,0.0,695.0,0.0,62.0,2.0,460.0,0.0,0.0,3284.0,0.0,1301.0,0.0,0.0,1.0,0.0,0.0,0.0,0.0,261.0,725.0,197.0,0.0,0.0,0.0,0.0,0.0,0.0,0.0,223.0,0.0,0.0,2083.0,623.0,0.0,210.0,1242.0,0.0,0.0,0.0,988.0,0.0,0.0,0.0,269.0,0.0,153.0,0.0,0.0,0.0,11.0,0.0,3.0,0.0,0.0,1016.0,0.0,2147.0,457.0,0.0,87.0,957.0,0.0,0.0,0.0,0.0,0.0,0.0,0.0,2756.0,0.0,0.0,0.0,0.0,0.0,0.0,0.0,530.0,61.0,36.0,0.0,0.0,610.0,479.0,642.0,0.0,0.0,0.0,1120.0,0.0,0.0,0.0,819.0,0.0,0.0,0.0,1337.0,0.0,0.0,1033.0,0.0,0.0,1331.0,0.0,54.0,1092.0,0.0,0.0,0.0,648.0,4.0,0.0,1042.0,4.0,1904.0,0.0,0.0,0.0,0.0,5.0,1285.0,0.0,1157.0,1307.0,0.0,10.0,8.0,0.0,0.0,0.0,433.0,1176.0,0.0,228.0,0.0,null,600.0,0.0,639.0,0.0,0.0,0.0,530.0,0.0,0.0,971.0,null,1961.0,0.0,606.0,0.0,0.0,1309.0,542.0,0.0,0.0,0.0,4608.0,0.0,1.0,0.0,0.0,8151.0,0.0,2575.0,0.0,3926.0,0.0,0.0,0.0,0.0,0.0,793.0,0.0,1471.0,9.0,0.0,0.0,0.0,6.0,0.0,25.0,0.0,0.0,null,83.0,0.0,29.0,0.0,0.0,0.0,0.0,0.0,0.0,0.0,0.0,0.0,0.0,256.0,0.0,0.0,0.0,43.0,56.0,0.0,0.0,0.0,5049.0,0.0,0.0,0.0,107.0,0.0,0.0,1528.0,0.0,0.0,0.0,0.0,0.0,0.0,859.0,0.0,0.0,0.0,0.0,7.0,0.0,0.0,0.0,0.0,38.0,0.0,0.0,814.0,0.0,732.0,0.0,0.0,98.0,0.0,151.0,0.0,382.0,1.0,0.0,0.0,0.0,0.0,6.0,582.0,576.0,0.0,0.0,0.0,0.0,0.0,322.0,0.0,523.0,41.0,949.0,0.0,0.0,0.0,0.0,0.0,0.0,0.0,0.0,0.0,0.0,0.0,878.0,0.0,1961.0,0.0,0.0,261.0,0.0,0.0,0.0,0.0,0.0,51.0,1364.0,0.0,717.0,168.0,0.0,666.0,10.0,0.0,0.0,0.0,0.0,0.0,2206.0,0.0,275.0,0.0,0.0,0.0,0.0,0.0,0.0,0.0,263.0,271.0,30.0,1.0,0.0,0.0,0.0,0.0,1231.0,0.0,218.0,0.0,0.0,6.0,607.0,922.0,0.0,705.0,202.0,290.0,0.0,0.0,0.0,0.0,0.0,41.0,0.0,241.0,0.0,0.0,0.0,0.0,0.0,0.0,13.0,0.0,38.0,89.0,0.0,0.0,662.0,0.0,0.0,0.0,0.0,467.0,0.0,0.0,35.0,0.0,0.0,0.0,1.0,1177.0,3905.0,0.0,0.0,0.0,0.0,0.0,0.0,0.0,0.0,0.0,0.0,0.0,0.0,1744.0,0.0,0.0,null,4702.0,0.0,0.0,0.0,454.0,0.0,0.0,0.0,0.0,0.0,751.0,0.0,0.0,0.0,0.0,456.0,0.0,0.0,286.0,0.0,0.0,13.0,0.0,0.0,809.0,134.0,37.0,0.0,164.0,25.0,1082.0,0.0,43.0,1690.0,0.0,0.0,0.0,0.0,0.0,0.0,0.0,0.0,0.0,943.0,0.0,0.0,0.0,0.0,0.0,null,0.0,0.0,0.0,0.0,0.0,386.0,253.0,0.0,0.0,2048.0,581.0,0.0,2.0,2497.0,0.0,0.0,83.0,628.0,246.0,4.0,743.0,0.0,0.0,0.0,0.0,1269.0,766.0,2.0,1781.0,2116.0,748.0,20.0,0.0,3.0,481.0,0.0,0.0,0.0,0.0,0.0,0.0,138.0,0.0,0.0,164.0,0.0,389.0,0.0,552.0,142.0,358.0,469.0,1.0,0.0,3458.0,948.0,0.0,2.0,0.0,846.0,0.0,1267.0,0.0,0.0,0.0,1109.0,0.0,4.0,0.0,0.0,0.0,0.0,0.0,0.0,0.0,0.0,848.0,9920.0,0.0,0.0,0.0,489.0,724.0,1.0,226.0,0.0,0.0,0.0,0.0,0.0,0.0,2703.0,0.0,null,null,685.0,0.0,0.0,0.0,1020.0,0.0,518.0,0.0,31.0,2.0,0.0,0.0,0.0,0.0,0.0,0.0,0.0,0.0,0.0,665.0,0.0,0.0,658.0,0.0,0.0,0.0,0.0,4027.0,702.0,142.0,0.0,0.0,0.0,0.0,0.0,0.0,39.0,0.0,0.0,0.0,null,0.0,0.0,758.0,0.0,0.0,0.0,31.0,0.0,508.0,0.0,85.0,0.0,0.0,1.0,0.0,null,0.0,0.0,5645.0,10.0,0.0,817.0,0.0,41.0,0.0,0.0,0.0,690.0,0.0,0.0,0.0,39.0,0.0,0.0,1565.0,0.0,0.0,0.0,550.0,127.0,0.0,0.0,0.0,51.0,1.0,0.0,0.0,0.0,1696.0,0.0,0.0,0.0,7.0,0.0,2445.0,0.0,0.0,0.0,0.0,0.0,749.0,714.0,583.0,0.0,0.0,0.0,0.0,753.0,5.0,688.0,245.0,0.0,654.0,0.0,590.0,0.0,0.0,0.0,0.0,0.0,380.0,0.0,0.0,0.0,958.0,0.0,0.0,0.0,170.0,0.0,0.0,30.0,765.0,0.0,0.0,0.0,0.0,125.0,0.0,0.0,458.0,0.0,0.0,0.0,0.0,0.0,0.0,890.0,0.0,804.0,0.0,0.0,0.0,0.0,47.0,1.0,19.0,0.0,0.0,0.0,158.0,2803.0,643.0,1909.0,0.0,0.0,0.0,0.0,0.0,332.0,0.0,56.0,807.0,215.0,0.0,1188.0,0.0,635.0,0.0,0.0,13.0,0.0,0.0,56.0,286.0,0.0,1035.0,0.0,0.0,0.0,0.0,0.0,0.0,0.0,0.0,0.0,0.0,2267.0,1410.0,348.0,12.0,233.0,821.0,0.0,0.0,0.0,0.0,178.0,0.0,0.0,0.0,0.0,0.0,0.0,0.0,0.0,0.0,0.0,null,0.0,0.0,0.0,0.0,0.0,0.0,0.0,0.0,0.0,0.0,390.0,0.0,0.0,0.0,69.0,0.0,0.0,156.0,0.0,0.0,0.0,0.0,2029.0,0.0,0.0,0.0,0.0,1.0,0.0,0.0,0.0,0.0,0.0,70.0,57.0,0.0,0.0,715.0,247.0,0.0,160.0,88.0,542.0,439.0,5.0,0.0,0.0,158.0,12.0,11.0,0.0,0.0,0.0,0.0,null,0.0,0.0,0.0,0.0,0.0,0.0,0.0,0.0,610.0,0.0,0.0,559.0,0.0,0.0,2233.0,0.0,0.0,0.0,0.0,571.0,14.0,850.0,0.0,183.0,0.0,0.0,0.0,0.0,6769.0,0.0,661.0,815.0,0.0,514.0,0.0,0.0,751.0,104.0,0.0,0.0,0.0,1.0,35.0,0.0,0.0,0.0,0.0,0.0,0.0,0.0,513.0,0.0,0.0,89.0,0.0,2309.0,0.0,1.0,0.0,3553.0,0.0,112.0,0.0,0.0,0.0,0.0,0.0,0.0,0.0,621.0,0.0,0.0,546.0,0.0,0.0,761.0,0.0,0.0,0.0,0.0,0.0,0.0,149.0,36.0,229.0,0.0,0.0,0.0,0.0,0.0,0.0,0.0,0.0,483.0,0.0,7.0,0.0,0.0,0.0,0.0,0.0,null,104.0,0.0,0.0,0.0,20.0,1364.0,0.0,0.0,0.0,0.0,0.0,0.0,18.0,8.0,0.0,0.0,0.0,0.0,4518.0,0.0,0.0,10.0,0.0,781.0,201.0,1331.0,750.0,0.0,0.0,0.0,0.0,0.0,0.0,0.0,0.0,0.0,0.0,162.0,223.0,16.0,0.0,0.0,84.0,0.0,0.0,0.0,0.0,0.0,0.0,2.0,0.0,48.0,0.0,0.0,0.0,0.0,152.0,0.0,0.0,0.0,0.0,0.0,0.0,0.0,0.0,4.0,0.0,149.0,0.0,0.0,0.0,0.0,1547.0,89.0,0.0,0.0,628.0,72.0,0.0,0.0,0.0,163.0,300.0,0.0,758.0,0.0,null,423.0,0.0,157.0,2093.0,836.0,1379.0,12.0,0.0,0.0,2.0,1.0,0.0,0.0,3215.0,0.0,112.0,0.0,null,0.0,0.0,17.0,0.0,0.0,0.0,0.0,448.0,0.0,1086.0,0.0,0.0,3090.0,0.0,200.0,0.0,0.0,0.0,441.0,0.0,0.0,1442.0,0.0,1208.0,555.0,276.0,0.0,0.0,2956.0,0.0,0.0,0.0,0.0,0.0,94.0,0.0,477.0,0.0,781.0,1.0,0.0,9.0,0.0,1017.0,0.0,0.0,0.0,0.0,0.0,28.0,0.0,140.0,718.0,3.0,0.0,0.0,0.0,0.0,0.0,0.0,0.0,0.0,0.0,0.0,0.0,0.0,0.0,982.0,0.0,0.0,0.0,0.0,0.0,0.0,0.0,0.0,0.0,852.0,0.0,0.0,0.0,0.0,0.0,0.0,521.0,0.0,158.0,0.0,2042.0,0.0,0.0,0.0,0.0,0.0,0.0,0.0,2413.0,0.0,3.0,805.0,419.0,1946.0,0.0,0.0,508.0,0.0,178.0,0.0,0.0,3.0,0.0,1883.0,2904.0,8.0,33.0,301.0,0.0,125.0,3.0,0.0,8142.0,0.0,0.0,0.0,3811.0,2209.0,41.0,0.0,0.0,14.0,0.0,657.0,0.0,0.0,0.0,605.0,0.0,0.0,0.0,0.0,0.0,0.0,0.0,0.0,0.0,3564.0,239.0,1119.0,4397.0,0.0,0.0,13.0,104.0,0.0,0.0,0.0,0.0,206.0,0.0,0.0,0.0,0.0,0.0,0.0,0.0,0.0,0.0,513.0,828.0,679.0,1156.0,0.0,0.0,0.0,916.0,0.0,0.0,0.0,0.0,551.0,0.0,7.0,0.0,0.0,0.0,270.0,0.0,0.0,457.0,0.0,0.0,0.0,0.0,236.0,0.0,0.0,0.0,0.0,0.0,0.0,0.0,28.0,3.0,3478.0,0.0,0.0,0.0,1682.0,0.0,0.0,0.0,0.0,1.0,0.0,460.0,0.0,0.0,0.0,980.0,0.0,0.0,0.0,382.0,0.0,5.0,0.0,0.0,0.0,0.0,0.0,628.0,0.0,12.0,0.0,0.0,0.0,0.0,0.0,0.0,0.0,61.0,0.0,0.0,0.0,0.0,0.0,0.0,1042.0,0.0,5.0,3.0,0.0,2026.0,0.0,55.0,0.0,915.0,null,0.0,0.0,2006.0,258.0,0.0,0.0,24.0,425.0,1603.0,71.0,0.0,25.0,1696.0,0.0,0.0,1.0,199.0,0.0,0.0,559.0,0.0,301.0,395.0,0.0,0.0,2044.0,6.0,0.0,0.0,null,0.0,0.0,null,2189.0,630.0,368.0,737.0,0.0,0.0,0.0,0.0,102.0,0.0,0.0,108.0,379.0,0.0,0.0,124.0,0.0,0.0,690.0,2031.0,0.0,0.0,0.0,135.0,0.0,20.0,158.0,0.0,2.0,0.0,2.0,0.0,78.0,0.0,0.0,0.0,0.0,0.0,0.0,17.0,0.0,0.0,0.0,0.0,1669.0,0.0,0.0,0.0,0.0,3616.0,0.0,0.0,0.0,0.0,0.0,0.0,0.0,6.0,0.0,0.0,898.0,0.0,458.0,78.0,0.0,0.0,0.0,0.0,3.0,2.0,19.0,0.0,1.0,0.0,0.0,0.0,0.0,null,0.0,627.0,0.0,0.0,0.0,0.0,0.0,0.0,0.0,5.0,0.0,0.0,18.0,0.0,0.0,0.0,484.0,1884.0,0.0,0.0,0.0,2223.0,676.0,0.0,49.0,593.0,0.0,0.0,410.0,0.0,0.0,106.0,0.0,0.0,0.0,0.0,0.0,0.0,0.0,0.0,0.0,0.0,0.0,0.0,0.0,1960.0,114.0,360.0,577.0,0.0,858.0,773.0,0.0,0.0,null,801.0,1144.0,0.0,0.0,0.0,0.0,2.0,358.0,435.0,0.0,null,0.0,0.0,0.0,0.0,0.0,114.0,0.0,0.0,0.0,0.0,0.0,0.0,0.0,0.0,0.0,0.0,54.0,0.0,0.0,0.0,0.0,0.0,0.0,431.0,0.0,0.0,59.0,0.0,294.0,0.0,365.0,93.0,null,0.0,0.0,1533.0,0.0,1233.0,801.0,null,null,0.0,0.0,24.0,0.0,30.0,114.0,83.0,0.0,0.0,552.0,14.0,0.0,0.0,0.0,0.0,0.0,0.0,45.0,0.0,0.0,0.0,0.0,810.0,0.0,0.0,0.0,0.0,0.0,636.0,0.0,0.0,610.0,0.0,null,0.0,0.0,0.0,0.0,32.0,null,0.0,0.0,0.0,0.0,899.0,1256.0,22.0,0.0,0.0,0.0,1179.0,14.0,0.0,0.0,0.0,0.0,0.0,0.0,0.0,1290.0,352.0,89.0,414.0,0.0,0.0,0.0,0.0,0.0,0.0,0.0,0.0,0.0,0.0,0.0,0.0,0.0,1192.0,1.0,0.0,0.0,0.0,397.0,601.0,0.0,151.0,0.0,0.0,0.0,0.0,0.0,57.0,19.0,0.0,388.0,0.0,0.0,0.0,0.0,0.0,0.0,0.0,0.0,0.0,127.0,0.0,771.0,0.0,0.0,0.0,0.0,0.0,228.0,861.0,395.0,1979.0,1143.0,0.0,0.0,0.0,0.0,0.0,3.0,699.0,19.0,0.0,0.0,0.0,0.0,2081.0,126.0,0.0,18.0,695.0,0.0,0.0,0.0,0.0,0.0,0.0,0.0,0.0,0.0,0.0,0.0,0.0,289.0,115.0,0.0,0.0,0.0,285.0,0.0,0.0,0.0,0.0,102.0,0.0,0.0,2.0,94.0,68.0,0.0,166.0,588.0,0.0,635.0,0.0,0.0,0.0,0.0,2532.0,345.0,0.0,0.0,752.0,0.0,null,1175.0,0.0,3.0,0.0,0.0,0.0,0.0,0.0,0.0,0.0,0.0,0.0,1228.0,0.0,0.0,0.0,0.0,0.0,0.0,0.0,0.0,2.0,null,12.0,0.0,0.0,0.0,0.0,0.0,0.0,0.0,590.0,0.0,0.0,0.0,402.0,90.0,0.0,0.0,4.0,0.0,0.0,0.0,0.0,17.0,32.0,864.0,0.0,1002.0,1880.0,0.0,0.0,77.0,0.0,1595.0,0.0,null,0.0,0.0,0.0,707.0,61.0,0.0,null,0.0,0.0,0.0,0.0,0.0,62.0,0.0,0.0,0.0,0.0,239.0,0.0,0.0,0.0,0.0,0.0,0.0,0.0,994.0,0.0,0.0,0.0,0.0,null,700.0,18.0,0.0,0.0,0.0,0.0,0.0,0.0,0.0,0.0,0.0,0.0,0.0,68.0,0.0,0.0,0.0,2664.0,0.0,3135.0,0.0,0.0,0.0,0.0,1373.0,0.0,0.0,103.0,1288.0,1244.0,1717.0,1337.0,0.0,1203.0,545.0,0.0,null,0.0,0.0,1610.0,470.0,0.0,0.0,0.0,0.0,0.0,0.0,0.0,0.0,0.0,0.0,1964.0,76.0,51.0,0.0,0.0,0.0,0.0,2937.0,76.0,0.0,399.0,0.0,0.0,47.0,0.0,0.0,0.0,0.0,1.0,0.0,0.0,null,0.0,0.0,0.0,2167.0,null,0.0,0.0,8.0,0.0,0.0,108.0,0.0,0.0,0.0,113.0,2.0,866.0,145.0,20.0,470.0,3.0,0.0,0.0,0.0,1751.0,52.0,14.0,0.0,0.0,768.0,null,0.0,0.0,38.0,1339.0,0.0,944.0,0.0,0.0,0.0,0.0,21.0,32.0,null,142.0,0.0,null,0.0,3481.0,0.0,181.0,0.0,0.0,0.0,0.0,355.0,0.0,0.0,0.0,7.0,0.0,0.0,1912.0,0.0,null,0.0,0.0,71.0,0.0,735.0,0.0,2.0,0.0,0.0,3211.0,22.0,0.0,0.0,0.0,0.0,0.0,0.0,0.0,0.0,0.0,0.0,0.0,69.0,0.0,0.0,6103.0,0.0,0.0,190.0,362.0,0.0,2191.0,0.0,0.0,0.0,0.0,null,0.0,862.0,725.0,0.0,0.0,0.0,0.0,0.0,0.0,473.0,0.0,0.0,146.0,0.0,0.0,0.0,501.0,0.0,0.0,130.0,0.0,43.0,1719.0,528.0,0.0,0.0,0.0,173.0,118.0,0.0,0.0,1988.0,0.0,995.0,0.0,0.0,0.0,0.0,69.0,0.0,0.0,0.0,0.0,0.0,1944.0,439.0,0.0,0.0,0.0,9.0,0.0,0.0,559.0,160.0,1228.0,0.0,245.0,9.0,0.0,0.0,0.0,28.0,0.0,0.0,0.0,0.0,0.0,26.0,0.0,1998.0,969.0,135.0,60.0,0.0,3839.0,0.0,951.0,0.0,0.0,0.0,3358.0,456.0,0.0,0.0,0.0,0.0,0.0,0.0,0.0,1.0,27.0,0.0,0.0,0.0,712.0,3.0,0.0,0.0,1967.0,0.0,1962.0,0.0,0.0,554.0,0.0,1.0,0.0,0.0,0.0,0.0,0.0,0.0,0.0,0.0,0.0,1058.0,2261.0,0.0,907.0,0.0,888.0,null,0.0,0.0,0.0,0.0,779.0,418.0,0.0,468.0,0.0,0.0,0.0,0.0,0.0,0.0,0.0,0.0,0.0,0.0,0.0,0.0,0.0,0.0,26.0,0.0,0.0,0.0,0.0,0.0,0.0,1216.0,0.0,782.0,0.0,56.0,0.0,0.0,0.0,235.0,1043.0,0.0,332.0,0.0,0.0,42.0,0.0,64.0,0.0,3332.0,0.0,0.0,2224.0,4.0,0.0,0.0,0.0,0.0,0.0,526.0,1.0,0.0,0.0,0.0,21.0,244.0,0.0,0.0,143.0,0.0,0.0,0.0,453.0,0.0,0.0,590.0,0.0,0.0,1040.0,0.0,0.0,61.0,0.0,10.0,0.0,0.0,0.0,0.0,0.0,0.0,527.0,0.0,3.0,301.0,906.0,159.0,0.0,0.0,0.0,0.0,1058.0,0.0,9.0,0.0,0.0,0.0,0.0,415.0,0.0,0.0,0.0,3.0,0.0,0.0,1.0,0.0,0.0,602.0,457.0,0.0,null,0.0,0.0,0.0,0.0,907.0,0.0,0.0,0.0,288.0,0.0,0.0,0.0,0.0,0.0,0.0,0.0,0.0,1631.0,0.0,0.0,0.0,43.0,0.0,862.0,0.0,0.0,0.0,0.0,0.0,0.0,0.0,0.0,0.0,102.0,3.0,0.0,0.0,438.0,3.0,0.0,0.0,0.0,0.0,0.0,0.0,0.0,0.0,0.0,0.0,0.0,150.0,0.0,106.0,1.0,300.0,541.0,1.0,1030.0,622.0,0.0,0.0,23.0,0.0,30.0,0.0,501.0,21.0,0.0,0.0,0.0,0.0,0.0,0.0,0.0,0.0,0.0,0.0,3191.0,741.0,0.0,0.0,0.0,0.0,593.0,0.0,0.0,180.0,197.0,49.0,0.0,1781.0,0.0,1046.0,0.0,40.0,100.0,0.0,0.0,42.0,0.0,0.0,473.0,28.0,401.0,0.0,0.0,0.0,0.0,0.0,61.0,207.0,305.0,0.0,0.0,null,0.0,5959.0,0.0,null,0.0,360.0,0.0,0.0,0.0,83.0,31.0,null,627.0,678.0,185.0,0.0,0.0,728.0,3.0,0.0,0.0,1.0,19.0,738.0,1059.0,0.0,2754.0,0.0,814.0,0.0,0.0,0.0,15.0,2916.0,1413.0,399.0,0.0,1711.0,2.0,0.0,2.0,0.0,0.0,1318.0,0.0,0.0,0.0,0.0,0.0,0.0,0.0,0.0,0.0,0.0,0.0,0.0,0.0,0.0,0.0,3.0,0.0,0.0,0.0,0.0,0.0,821.0,2611.0,1236.0,0.0,0.0,2.0,0.0,0.0,0.0,9.0,40.0,0.0,0.0,240.0,0.0,0.0,0.0,0.0,0.0,0.0,4.0,0.0,6.0,0.0,0.0,105.0,0.0,0.0,0.0,0.0,294.0,0.0,0.0,193.0,85.0,1110.0,0.0,0.0,1.0,0.0,550.0,0.0,879.0,0.0,0.0,1126.0,549.0,null,0.0,0.0,0.0,0.0,0.0,0.0,0.0,20.0,0.0,0.0,0.0,960.0,null,244.0,120.0,509.0,0.0,286.0,0.0,0.0,0.0,0.0,1243.0,0.0,0.0,786.0,0.0,0.0,0.0,0.0,0.0,0.0,27.0,0.0,0.0,0.0,244.0,0.0,36.0,0.0,174.0,558.0,0.0,0.0,193.0,2.0,2.0,0.0,523.0,0.0,30.0,30.0,1770.0,0.0,66.0,null,1577.0,0.0,511.0,0.0,0.0,2110.0,0.0,0.0,0.0,3580.0,1442.0,1092.0,5.0,0.0,0.0,0.0,0.0,15.0,0.0,2502.0,1366.0,657.0,0.0,0.0,0.0,0.0,390.0,0.0,0.0,0.0,0.0,0.0,0.0,420.0,122.0,0.0,313.0,18.0,4.0,0.0,118.0,0.0,0.0,0.0,0.0,10.0,0.0,0.0,388.0,0.0,2.0,0.0,0.0,0.0,0.0,380.0,3591.0,828.0,0.0,0.0,0.0,30.0,2.0,80.0,653.0,1.0,0.0,32.0,0.0,0.0,0.0,0.0,8209.0,0.0,0.0,220.0,0.0,0.0,0.0,0.0,0.0,0.0,0.0,0.0,0.0,214.0,0.0,463.0,2484.0,0.0,0.0,0.0,0.0,0.0,11.0,761.0,3651.0,0.0,0.0,0.0,0.0,0.0,767.0,0.0,37.0,1103.0,0.0,81.0,2703.0,0.0,0.0,0.0,0.0,0.0,618.0,8.0,0.0,0.0,0.0,3010.0,145.0,0.0,0.0,0.0,0.0,0.0,711.0,0.0,0.0,0.0,0.0,0.0,0.0,0.0,0.0,null,0.0,0.0,2771.0,0.0,1132.0,0.0,0.0,0.0,0.0,0.0,812.0,0.0,0.0,0.0,0.0,0.0,0.0,0.0,0.0,574.0,751.0,1000.0,0.0,0.0,332.0,0.0,1144.0,0.0,0.0,0.0,5888.0,40.0,110.0,2647.0,0.0,118.0,0.0,1.0,0.0,0.0,1.0,0.0,0.0,0.0,0.0,83.0,0.0,338.0,0.0,0.0,0.0,0.0,1730.0,0.0,60.0,0.0,9.0,0.0,0.0,0.0,0.0,0.0,0.0,688.0,18.0,0.0,0.0,416.0,0.0,0.0,0.0,1.0,0.0,0.0,0.0,0.0,1.0,0.0,325.0,1405.0,0.0,0.0,98.0,527.0,748.0,0.0,0.0,1146.0,7.0,0.0,0.0,1199.0,0.0,0.0,0.0,0.0,0.0,0.0,406.0,0.0,258.0,0.0,0.0,null,0.0,810.0,0.0,19.0,0.0,358.0,0.0,1720.0,166.0,0.0,0.0,0.0,0.0,0.0,0.0,0.0,769.0,1333.0,0.0,0.0,0.0,0.0,0.0,535.0,0.0,0.0,0.0,0.0,0.0,0.0,0.0,1095.0,1823.0,0.0,11.0,482.0,0.0,0.0,0.0,0.0,328.0,6.0,0.0,52.0,0.0,0.0,0.0,1052.0,0.0,558.0,0.0,0.0,0.0,1227.0,166.0,0.0,0.0,9.0,0.0,634.0,550.0,0.0,99.0,19.0,0.0,0.0,0.0,0.0,6256.0,0.0,0.0,0.0,0.0,131.0,0.0,0.0,0.0,569.0,0.0,0.0,0.0,0.0,0.0,248.0,0.0,0.0,0.0,1610.0,0.0,0.0,37.0,0.0,0.0,0.0,0.0,0.0,34.0,196.0,46.0,102.0,0.0,0.0,0.0,0.0,0.0,0.0,0.0,0.0,1.0,472.0,0.0,485.0,0.0,0.0,1432.0,0.0,0.0,4.0,0.0,0.0,0.0,397.0,0.0,0.0,90.0,0.0,3030.0,589.0,0.0,0.0,0.0,84.0,7.0,0.0,0.0,0.0,0.0,0.0,580.0,0.0,0.0,2.0,31.0,0.0,0.0,0.0,1811.0,0.0,0.0,0.0,10.0,0.0,100.0,868.0,30.0,640.0,0.0,0.0,1.0,0.0,691.0,376.0,0.0,0.0,null,0.0,0.0,0.0,0.0,24.0,31.0,0.0,0.0,0.0,0.0,0.0,649.0,0.0,1969.0,838.0,3809.0,0.0,0.0,0.0,0.0,0.0,153.0,0.0,17.0,0.0,0.0,0.0,0.0,0.0,0.0,0.0,676.0,0.0,0.0,0.0,0.0,0.0,0.0,0.0,0.0,0.0,0.0,0.0,0.0,0.0,0.0,668.0,0.0,0.0,0.0,16.0,0.0,0.0,0.0,31.0,779.0,null,0.0,0.0,0.0,0.0,1222.0,0.0,172.0,0.0,0.0,0.0,0.0,0.0,5.0,0.0,1.0,0.0,0.0,6.0,0.0,0.0,0.0,0.0,0.0,1544.0,null,0.0,0.0,40.0,0.0,0.0,12.0,0.0,1369.0,0.0,null,0.0,0.0,0.0,0.0,1.0,0.0,0.0,0.0,0.0,0.0,355.0,1.0,2686.0,721.0,0.0,505.0,2.0,0.0,1842.0,595.0,null,635.0,0.0,33.0,1.0,3.0,0.0,18.0,0.0,0.0,0.0,19.0,0.0,0.0,9.0,0.0,0.0,4.0,81.0,0.0,0.0,48.0,150.0,90.0,0.0,0.0,49.0,0.0,0.0,0.0,0.0,0.0,6.0,97.0,0.0,0.0,0.0,79.0,0.0,0.0,0.0,0.0,0.0,0.0,381.0,3.0,44.0,0.0,0.0,0.0,0.0,831.0,0.0,0.0,0.0,0.0,0.0,11.0,0.0,0.0,0.0,0.0,0.0,0.0,0.0,0.0,0.0,18.0,0.0,0.0,0.0,0.0,0.0,691.0,0.0,0.0,90.0,0.0,1663.0,0.0,0.0,0.0,0.0,953.0,0.0,1157.0,0.0,0.0,279.0,0.0,7.0,293.0,644.0,4.0,753.0,0.0,0.0,0.0,0.0,0.0,0.0,5.0,116.0,0.0,0.0,0.0,0.0,0.0,0.0,0.0,0.0,0.0,539.0,0.0,598.0,0.0,0.0,0.0,0.0,0.0,19.0,0.0,0.0,0.0,0.0,0.0,209.0,625.0,0.0,0.0,6.0,1282.0,null,487.0,0.0,0.0,22.0,0.0,0.0,3.0,0.0,0.0,1054.0,32.0,0.0,85.0,0.0,0.0,0.0,14.0,0.0,201.0,0.0,5.0,0.0,72.0,0.0,511.0,749.0,0.0,499.0,2.0,0.0,1007.0,0.0,0.0,309.0,0.0,52.0,0.0,0.0,0.0,0.0,396.0,0.0,84.0,0.0,0.0,0.0,32.0,0.0,0.0,304.0,0.0,0.0,0.0,86.0,29.0,0.0,0.0,0.0,0.0,0.0,0.0,0.0,0.0,0.0,0.0,0.0,67.0,1242.0,1852.0,1150.0,0.0,0.0,0.0,0.0,1309.0,5.0,0.0,0.0,1722.0,0.0,4.0,218.0,0.0,0.0,836.0,0.0,0.0,0.0,467.0,0.0,0.0,380.0,532.0,2.0,0.0,1399.0,149.0,0.0,0.0,0.0,0.0,null,0.0,0.0,0.0,773.0,0.0,0.0,799.0,0.0,988.0,0.0,697.0,0.0,0.0,506.0,0.0,0.0,0.0,477.0,0.0,0.0,0.0,1403.0,0.0,30.0,0.0,0.0,41.0,0.0,0.0,0.0,0.0,0.0,0.0,49.0,0.0,0.0,0.0,0.0,0.0,0.0,0.0,0.0,0.0,336.0,0.0,435.0,0.0,1.0,0.0,64.0,0.0,963.0,0.0,462.0,0.0,0.0,0.0,0.0,0.0,0.0,0.0,0.0,0.0,0.0,0.0,0.0,781.0,0.0,86.0,163.0,9.0,0.0,2.0,0.0,0.0,0.0,0.0,0.0,0.0,0.0,1214.0,44.0,0.0,289.0,0.0,0.0,0.0,0.0,0.0,0.0,0.0,4210.0,1.0,0.0,0.0,0.0,324.0,0.0,1.0,0.0,341.0,52.0,725.0,0.0,857.0,0.0,1.0,0.0,0.0,0.0,1997.0,0.0,0.0,0.0,0.0,0.0,112.0,0.0,29.0,0.0,0.0,0.0,0.0,1004.0,1.0,0.0,0.0,32.0,0.0,0.0,0.0,0.0,0.0,1161.0,0.0,8243.0,0.0,0.0,39.0,0.0,2.0,244.0,0.0,0.0,188.0,0.0,0.0,0.0,0.0,0.0,65.0,null,319.0,0.0,0.0,770.0,18.0,49.0,1264.0,3784.0,0.0,0.0,0.0,0.0,490.0,0.0,0.0,0.0,21.0,590.0,0.0,870.0,null,0.0,3.0,53.0,0.0,11.0,2502.0,348.0,0.0,0.0,5327.0,0.0,59.0,686.0,1093.0,1914.0,0.0,114.0,0.0,129.0,0.0,0.0,0.0,387.0,487.0,0.0,0.0,0.0,0.0,3.0,0.0,0.0,0.0,0.0,3.0,0.0,0.0,5757.0,0.0,10.0,0.0,0.0,1042.0,0.0,1763.0,0.0,0.0,4.0,0.0,0.0,4.0,748.0,0.0,637.0,0.0,6.0,0.0,210.0,0.0,0.0,0.0,0.0,0.0,0.0,12.0,547.0,0.0,10.0,0.0,0.0,50.0,0.0,0.0,0.0,0.0,0.0,0.0,0.0,13.0,0.0,0.0,0.0,0.0,2.0,4.0,0.0,4.0,0.0,0.0,27.0,0.0,11.0,0.0,0.0,187.0,1234.0,9.0,135.0,0.0,1.0,0.0,0.0,0.0,2.0,1739.0,224.0,0.0,0.0,987.0,330.0,0.0,0.0,0.0,0.0,1455.0,133.0,0.0,1146.0,0.0,0.0,2048.0,20.0,0.0,1.0,0.0,0.0,0.0,3.0,0.0,0.0,777.0,0.0,0.0,0.0,200.0,0.0,345.0,125.0,886.0,450.0,0.0,909.0,733.0,0.0,806.0,0.0,949.0,0.0,506.0,0.0,1.0,21.0,0.0,4924.0,0.0,null,368.0,0.0,0.0,51.0,1.0,0.0,0.0,0.0,0.0,0.0,0.0,0.0,0.0,76.0,0.0,217.0,203.0,84.0,0.0,2239.0,679.0,0.0,312.0,0.0,1584.0,426.0,139.0,0.0,0.0,0.0,0.0,0.0,0.0,2002.0,32.0,34.0,258.0,694.0,1254.0,647.0,0.0,0.0,266.0,0.0,354.0,null,193.0,22.0,null,227.0,0.0,null,0.0,0.0,4.0,179.0,1613.0,947.0,24.0,0.0,2758.0,0.0,22.0,0.0,151.0,0.0,1.0,520.0,74.0,804.0,32.0,0.0,0.0,1.0,0.0,0.0,476.0,0.0,0.0,0.0,0.0,0.0,0.0,0.0,257.0,0.0,0.0,2.0,0.0,0.0,0.0,697.0,0.0,874.0,0.0,0.0,11.0,0.0,0.0,698.0,0.0,0.0,0.0,588.0,null,0.0,63.0,0.0,14.0,0.0,0.0,1771.0,0.0,10.0,0.0,570.0,81.0,0.0,0.0,0.0,0.0,0.0,413.0,0.0,0.0,0.0,0.0,0.0,0.0,586.0,0.0,857.0,0.0,198.0,0.0,0.0,128.0,0.0,1212.0,1369.0,1384.0,88.0,0.0,230.0,0.0,0.0,0.0,4.0,0.0,903.0,0.0,0.0,0.0,0.0,3.0,null,0.0,735.0,0.0,1037.0,0.0,1032.0,0.0,22.0,726.0,0.0,0.0,0.0,0.0,0.0,0.0,1054.0,0.0,0.0,0.0,0.0,0.0,0.0,0.0,0.0,121.0,0.0,0.0,0.0,0.0,0.0,null,0.0,0.0,0.0,0.0,0.0,0.0,0.0,1471.0,876.0,0.0,0.0,0.0,0.0,0.0,1186.0,0.0,0.0,0.0,0.0,0.0,0.0,23.0,0.0,16.0,0.0,522.0,0.0,720.0,0.0,0.0,0.0,0.0,0.0,0.0,0.0,0.0,0.0,0.0,0.0,0.0,0.0,0.0,0.0,771.0,1.0,528.0,1737.0,0.0,null,0.0,327.0,null,3036.0,0.0,0.0,0.0,1806.0,0.0,0.0,0.0,0.0,194.0,0.0,0.0,0.0,0.0,0.0,null,0.0,0.0,0.0,0.0,1708.0,0.0,0.0,1231.0,13.0,0.0,0.0,null,0.0,0.0,503.0,1.0,1.0,324.0,24.0,311.0,0.0,42.0,0.0,0.0,0.0,0.0,0.0,0.0,0.0,0.0,0.0,null,0.0,0.0,0.0,0.0,0.0,80.0,479.0,32.0,2101.0,0.0,604.0,0.0,null,2555.0,0.0,2.0,0.0,0.0,0.0,0.0,0.0,0.0,0.0,2.0,224.0,128.0,38.0,0.0,0.0,3.0,0.0,304.0,0.0,522.0,1297.0,0.0,63.0,null,1.0,3146.0,1954.0,0.0,0.0,0.0,0.0,0.0,0.0,0.0,0.0,266.0,0.0,1410.0,0.0,0.0,0.0,0.0,0.0,6899.0,0.0,0.0,0.0,1006.0,132.0,0.0,866.0,0.0,887.0,815.0,1269.0,1062.0,0.0,0.0,0.0,0.0,0.0,0.0,0.0,160.0,455.0,24.0,0.0,0.0,0.0,0.0,0.0,0.0,0.0,0.0,0.0,23.0,0.0,0.0,1.0,34.0,0.0,0.0,0.0,0.0,0.0,0.0,0.0,0.0,1258.0,0.0,11.0,0.0,866.0,0.0,0.0,0.0,8.0,0.0,null,3402.0,0.0,1736.0,0.0,0.0,15.0,0.0,1478.0,null,0.0,1215.0,0.0,0.0,37.0,0.0,101.0,0.0,733.0,0.0,0.0,0.0,0.0,794.0,0.0,0.0,0.0,0.0,0.0,2575.0,1789.0,590.0,6.0,3.0,410.0,0.0,0.0,83.0,1.0,0.0,0.0,0.0,0.0,1.0,0.0,0.0,0.0,0.0,0.0,0.0,0.0,0.0,0.0,0.0,0.0,169.0,640.0,0.0,0.0,0.0,574.0,9.0,0.0,23.0,0.0,48.0,1060.0,724.0,0.0,65.0,0.0,0.0,49.0,0.0,459.0,0.0,0.0,148.0,270.0,0.0,0.0,698.0,0.0,0.0,87.0,802.0,null,0.0,0.0,1003.0,0.0,0.0,0.0,1.0,381.0,0.0,0.0,0.0,1569.0,0.0,0.0,8586.0,0.0,0.0,0.0,0.0,0.0,757.0,0.0,0.0,15.0,0.0,0.0,6.0,2.0,0.0,623.0,0.0,0.0,745.0,1.0,676.0,0.0,0.0,0.0,0.0,0.0,0.0,0.0,0.0,0.0,3.0,6.0,8.0,0.0,2.0,699.0,102.0,0.0,0.0,0.0,28.0,0.0,0.0,0.0,0.0,0.0,0.0,0.0,39.0,1030.0,0.0,0.0,0.0,0.0,0.0,0.0,240.0,86.0,0.0,0.0,1.0,0.0,0.0,0.0,0.0,0.0,126.0],\"type\":\"box\"},{\"name\":\"FoodCourt\",\"y\":[0.0,9.0,3576.0,1283.0,70.0,483.0,1539.0,0.0,785.0,0.0,0.0,7295.0,0.0,1.0,974.0,0.0,122.0,1.0,0.0,0.0,0.0,0.0,0.0,0.0,0.0,0.0,0.0,2.0,0.0,225.0,6073.0,0.0,850.0,0.0,0.0,0.0,0.0,964.0,492.0,195.0,0.0,0.0,164.0,0.0,0.0,0.0,0.0,0.0,0.0,112.0,0.0,0.0,0.0,0.0,605.0,0.0,1096.0,592.0,0.0,0.0,153.0,0.0,258.0,37.0,0.0,0.0,0.0,2165.0,1.0,83.0,8397.0,0.0,0.0,5840.0,0.0,0.0,0.0,0.0,0.0,0.0,0.0,0.0,0.0,0.0,697.0,0.0,0.0,0.0,1208.0,856.0,2811.0,427.0,0.0,0.0,0.0,null,0.0,0.0,0.0,5.0,0.0,0.0,0.0,410.0,331.0,11418.0,0.0,0.0,2537.0,0.0,157.0,0.0,2223.0,2344.0,0.0,0.0,0.0,597.0,0.0,0.0,334.0,6.0,0.0,0.0,0.0,14.0,418.0,0.0,22.0,0.0,0.0,0.0,0.0,420.0,0.0,0.0,0.0,0.0,0.0,0.0,0.0,0.0,0.0,1688.0,0.0,0.0,0.0,0.0,0.0,0.0,0.0,0.0,985.0,0.0,10346.0,0.0,219.0,0.0,0.0,0.0,0.0,146.0,0.0,0.0,3.0,0.0,0.0,0.0,0.0,0.0,0.0,0.0,0.0,0.0,972.0,0.0,0.0,0.0,0.0,0.0,0.0,2433.0,0.0,2.0,1720.0,0.0,0.0,1.0,0.0,0.0,0.0,188.0,281.0,56.0,0.0,0.0,0.0,0.0,0.0,84.0,3.0,0.0,0.0,0.0,80.0,12.0,0.0,0.0,0.0,0.0,0.0,0.0,0.0,2.0,0.0,0.0,7.0,0.0,null,0.0,888.0,0.0,0.0,0.0,1249.0,1.0,0.0,0.0,0.0,3571.0,86.0,0.0,1.0,0.0,0.0,695.0,615.0,172.0,0.0,0.0,0.0,0.0,4810.0,29.0,0.0,0.0,0.0,231.0,25.0,0.0,2390.0,0.0,97.0,0.0,918.0,0.0,654.0,0.0,0.0,1281.0,0.0,587.0,0.0,0.0,4458.0,0.0,0.0,0.0,6500.0,0.0,2.0,0.0,0.0,0.0,0.0,422.0,584.0,175.0,0.0,0.0,230.0,540.0,0.0,0.0,0.0,0.0,0.0,2628.0,0.0,2.0,5.0,0.0,0.0,0.0,0.0,0.0,0.0,4651.0,317.0,0.0,0.0,2.0,1.0,0.0,349.0,0.0,0.0,0.0,0.0,0.0,0.0,0.0,0.0,2876.0,0.0,0.0,0.0,0.0,0.0,1198.0,0.0,0.0,0.0,212.0,36.0,0.0,107.0,0.0,0.0,95.0,0.0,5.0,0.0,0.0,0.0,1068.0,215.0,0.0,235.0,0.0,0.0,2491.0,0.0,0.0,0.0,0.0,0.0,0.0,773.0,0.0,0.0,0.0,747.0,0.0,0.0,44.0,5728.0,111.0,11003.0,608.0,0.0,0.0,420.0,0.0,0.0,0.0,896.0,null,21.0,465.0,0.0,113.0,0.0,150.0,0.0,7255.0,157.0,0.0,0.0,1170.0,0.0,3584.0,2.0,0.0,0.0,null,4118.0,10116.0,0.0,1026.0,0.0,10.0,0.0,891.0,0.0,0.0,0.0,11.0,0.0,0.0,0.0,5637.0,0.0,1043.0,429.0,0.0,0.0,0.0,0.0,0.0,0.0,0.0,0.0,0.0,0.0,0.0,0.0,4288.0,0.0,0.0,185.0,0.0,0.0,0.0,0.0,0.0,0.0,869.0,70.0,0.0,0.0,0.0,852.0,10.0,654.0,0.0,0.0,0.0,0.0,45.0,7972.0,10.0,0.0,0.0,6.0,0.0,0.0,5.0,34.0,0.0,118.0,14.0,33.0,1794.0,0.0,0.0,null,0.0,0.0,0.0,0.0,929.0,0.0,0.0,0.0,35.0,0.0,0.0,0.0,1737.0,0.0,0.0,0.0,0.0,16521.0,5755.0,0.0,0.0,0.0,2492.0,0.0,0.0,0.0,null,263.0,0.0,213.0,0.0,11.0,0.0,1119.0,0.0,0.0,0.0,0.0,715.0,1308.0,5.0,1073.0,0.0,0.0,0.0,0.0,1793.0,0.0,0.0,0.0,0.0,691.0,15.0,86.0,0.0,0.0,12.0,0.0,0.0,0.0,6506.0,0.0,165.0,1428.0,12.0,0.0,0.0,293.0,0.0,642.0,0.0,0.0,410.0,0.0,0.0,0.0,33.0,0.0,334.0,5085.0,0.0,0.0,0.0,0.0,0.0,1542.0,0.0,0.0,809.0,0.0,null,0.0,790.0,233.0,0.0,0.0,0.0,0.0,0.0,0.0,0.0,0.0,0.0,0.0,25.0,0.0,1.0,2.0,0.0,152.0,0.0,4.0,0.0,0.0,0.0,0.0,0.0,null,0.0,0.0,3385.0,0.0,0.0,0.0,0.0,654.0,3113.0,1111.0,0.0,0.0,null,0.0,0.0,0.0,0.0,0.0,0.0,0.0,368.0,0.0,0.0,0.0,0.0,0.0,0.0,0.0,0.0,1496.0,1778.0,0.0,7.0,0.0,0.0,0.0,123.0,0.0,3344.0,4967.0,0.0,0.0,0.0,266.0,0.0,0.0,0.0,0.0,0.0,0.0,0.0,0.0,2.0,0.0,863.0,8.0,576.0,0.0,0.0,2506.0,525.0,0.0,0.0,0.0,25.0,530.0,0.0,0.0,0.0,0.0,0.0,215.0,0.0,0.0,0.0,0.0,96.0,0.0,0.0,0.0,922.0,0.0,0.0,0.0,0.0,0.0,0.0,0.0,0.0,0.0,0.0,3488.0,581.0,0.0,0.0,0.0,0.0,237.0,0.0,0.0,0.0,0.0,4949.0,null,0.0,0.0,0.0,0.0,2.0,0.0,0.0,0.0,0.0,0.0,0.0,0.0,0.0,0.0,0.0,23.0,0.0,0.0,0.0,781.0,714.0,38.0,2.0,0.0,835.0,0.0,16.0,0.0,3425.0,0.0,0.0,142.0,0.0,1344.0,0.0,0.0,0.0,287.0,0.0,0.0,3879.0,0.0,0.0,0.0,0.0,6.0,12180.0,0.0,0.0,0.0,715.0,0.0,0.0,0.0,0.0,0.0,16.0,0.0,0.0,0.0,4.0,2.0,3004.0,2.0,33.0,0.0,0.0,0.0,0.0,0.0,0.0,166.0,142.0,0.0,0.0,0.0,0.0,0.0,0.0,0.0,0.0,0.0,0.0,3462.0,0.0,13248.0,0.0,0.0,110.0,0.0,42.0,0.0,0.0,0.0,0.0,0.0,0.0,1.0,284.0,0.0,0.0,0.0,59.0,0.0,561.0,0.0,0.0,0.0,0.0,653.0,0.0,2.0,0.0,5.0,0.0,0.0,0.0,701.0,179.0,1111.0,2956.0,0.0,0.0,0.0,0.0,0.0,0.0,378.0,0.0,0.0,7.0,0.0,0.0,0.0,null,0.0,850.0,0.0,0.0,473.0,4754.0,0.0,162.0,0.0,687.0,0.0,0.0,0.0,3.0,5.0,0.0,0.0,0.0,12804.0,null,0.0,0.0,0.0,0.0,0.0,124.0,0.0,2792.0,0.0,388.0,5738.0,1736.0,0.0,0.0,0.0,7461.0,172.0,0.0,0.0,84.0,0.0,0.0,1095.0,7767.0,0.0,0.0,0.0,0.0,null,7992.0,760.0,null,0.0,0.0,0.0,null,0.0,12045.0,1127.0,11.0,0.0,0.0,0.0,0.0,741.0,7.0,0.0,0.0,0.0,5.0,474.0,0.0,0.0,0.0,306.0,0.0,631.0,0.0,0.0,885.0,0.0,0.0,0.0,0.0,0.0,0.0,0.0,0.0,314.0,317.0,0.0,32.0,0.0,0.0,null,0.0,1.0,0.0,0.0,0.0,11.0,0.0,0.0,0.0,0.0,0.0,3.0,784.0,0.0,541.0,0.0,2727.0,942.0,1736.0,300.0,0.0,791.0,0.0,0.0,1.0,0.0,0.0,7447.0,0.0,0.0,0.0,0.0,0.0,0.0,0.0,0.0,0.0,0.0,0.0,0.0,4.0,0.0,0.0,0.0,0.0,131.0,15.0,0.0,1410.0,0.0,6.0,12.0,0.0,5.0,0.0,0.0,0.0,0.0,0.0,0.0,0.0,0.0,0.0,84.0,0.0,0.0,0.0,0.0,null,306.0,162.0,0.0,0.0,0.0,2349.0,0.0,0.0,537.0,0.0,0.0,447.0,0.0,0.0,0.0,0.0,0.0,0.0,0.0,20.0,773.0,3262.0,null,0.0,0.0,0.0,1328.0,0.0,0.0,0.0,113.0,709.0,0.0,null,0.0,0.0,0.0,0.0,1.0,0.0,0.0,0.0,0.0,0.0,0.0,0.0,0.0,565.0,0.0,59.0,2.0,0.0,0.0,0.0,78.0,355.0,0.0,0.0,271.0,0.0,0.0,0.0,0.0,24.0,6138.0,4076.0,0.0,0.0,0.0,0.0,0.0,3011.0,0.0,0.0,46.0,402.0,0.0,0.0,0.0,3.0,0.0,0.0,0.0,1755.0,143.0,0.0,0.0,0.0,0.0,0.0,0.0,97.0,0.0,0.0,null,122.0,5225.0,5212.0,0.0,0.0,841.0,0.0,0.0,0.0,0.0,0.0,0.0,0.0,0.0,null,0.0,0.0,799.0,0.0,2987.0,0.0,11330.0,1291.0,1847.0,1328.0,7201.0,333.0,0.0,0.0,3564.0,0.0,58.0,0.0,0.0,592.0,0.0,0.0,0.0,0.0,0.0,null,0.0,0.0,1356.0,0.0,0.0,0.0,0.0,33.0,0.0,575.0,0.0,0.0,4227.0,243.0,0.0,670.0,0.0,0.0,558.0,122.0,1116.0,0.0,5473.0,8.0,0.0,0.0,510.0,0.0,0.0,0.0,0.0,212.0,0.0,0.0,1.0,null,0.0,0.0,905.0,0.0,592.0,0.0,0.0,493.0,0.0,1311.0,0.0,0.0,0.0,34.0,0.0,0.0,42.0,0.0,0.0,393.0,43.0,1026.0,0.0,13.0,185.0,4677.0,4224.0,69.0,192.0,null,17.0,0.0,0.0,0.0,0.0,0.0,3628.0,0.0,0.0,3106.0,1.0,1.0,0.0,0.0,0.0,0.0,0.0,0.0,0.0,178.0,0.0,0.0,null,null,415.0,0.0,0.0,0.0,0.0,0.0,0.0,0.0,59.0,27723.0,368.0,0.0,0.0,0.0,0.0,0.0,0.0,299.0,50.0,0.0,0.0,0.0,0.0,0.0,0.0,3863.0,0.0,0.0,0.0,3300.0,439.0,0.0,4.0,987.0,0.0,47.0,4.0,0.0,0.0,847.0,0.0,0.0,0.0,0.0,0.0,0.0,0.0,160.0,0.0,0.0,0.0,0.0,0.0,8.0,0.0,0.0,486.0,0.0,0.0,14.0,0.0,118.0,0.0,761.0,1531.0,0.0,0.0,2.0,106.0,0.0,0.0,782.0,0.0,0.0,0.0,0.0,0.0,39.0,0.0,997.0,1268.0,2381.0,0.0,null,0.0,0.0,466.0,0.0,3.0,0.0,2801.0,41.0,0.0,30.0,21.0,0.0,1125.0,0.0,0.0,0.0,442.0,0.0,510.0,3.0,0.0,0.0,0.0,0.0,0.0,79.0,2.0,0.0,0.0,0.0,190.0,508.0,0.0,0.0,0.0,0.0,0.0,0.0,734.0,51.0,0.0,4.0,222.0,770.0,567.0,0.0,0.0,0.0,null,0.0,184.0,0.0,0.0,6153.0,0.0,0.0,0.0,0.0,0.0,2147.0,0.0,4380.0,0.0,0.0,0.0,0.0,0.0,0.0,0.0,200.0,0.0,0.0,0.0,258.0,0.0,0.0,20.0,224.0,186.0,100.0,1826.0,0.0,0.0,1248.0,0.0,0.0,0.0,138.0,484.0,0.0,251.0,0.0,1646.0,774.0,0.0,2838.0,801.0,13561.0,0.0,2509.0,0.0,533.0,2732.0,368.0,0.0,905.0,0.0,null,0.0,414.0,287.0,1.0,0.0,0.0,19.0,0.0,0.0,1.0,0.0,0.0,0.0,304.0,0.0,51.0,0.0,0.0,495.0,0.0,0.0,0.0,55.0,0.0,184.0,0.0,0.0,216.0,0.0,0.0,24.0,0.0,1.0,0.0,490.0,0.0,0.0,null,0.0,2345.0,2121.0,0.0,0.0,0.0,null,0.0,0.0,1269.0,null,0.0,0.0,673.0,7069.0,0.0,0.0,31.0,0.0,0.0,3782.0,470.0,7139.0,170.0,7.0,0.0,0.0,0.0,0.0,0.0,0.0,0.0,230.0,2376.0,1376.0,0.0,1389.0,15.0,1.0,0.0,0.0,0.0,1519.0,0.0,100.0,0.0,0.0,17.0,0.0,0.0,0.0,169.0,24.0,1819.0,0.0,0.0,0.0,0.0,0.0,0.0,0.0,0.0,17394.0,1336.0,26.0,3621.0,2127.0,51.0,3.0,4342.0,0.0,0.0,0.0,0.0,5.0,0.0,594.0,0.0,0.0,3.0,817.0,193.0,865.0,3750.0,0.0,9.0,0.0,0.0,0.0,0.0,1575.0,0.0,0.0,129.0,0.0,0.0,0.0,0.0,0.0,930.0,9.0,0.0,0.0,0.0,27.0,32.0,null,0.0,0.0,0.0,0.0,666.0,0.0,0.0,0.0,2.0,0.0,0.0,0.0,0.0,0.0,0.0,0.0,0.0,1303.0,null,807.0,160.0,0.0,0.0,82.0,1.0,0.0,62.0,0.0,2390.0,0.0,0.0,787.0,0.0,0.0,0.0,0.0,67.0,0.0,859.0,0.0,0.0,0.0,0.0,87.0,89.0,0.0,260.0,0.0,0.0,450.0,554.0,0.0,0.0,26.0,1234.0,null,0.0,760.0,13.0,0.0,574.0,0.0,4.0,0.0,1164.0,0.0,3.0,0.0,0.0,0.0,0.0,0.0,0.0,54.0,0.0,244.0,0.0,1.0,726.0,0.0,0.0,0.0,0.0,0.0,0.0,36.0,0.0,1563.0,201.0,0.0,0.0,0.0,0.0,0.0,0.0,808.0,108.0,0.0,0.0,0.0,0.0,0.0,13.0,478.0,1310.0,0.0,0.0,0.0,0.0,0.0,0.0,1.0,0.0,0.0,809.0,0.0,21.0,490.0,7.0,null,3240.0,0.0,0.0,0.0,0.0,782.0,3368.0,0.0,24.0,0.0,0.0,338.0,0.0,0.0,0.0,0.0,0.0,603.0,11026.0,0.0,null,0.0,0.0,0.0,94.0,2.0,0.0,0.0,275.0,639.0,0.0,0.0,0.0,0.0,0.0,0.0,169.0,0.0,0.0,0.0,3722.0,763.0,0.0,0.0,20.0,852.0,0.0,640.0,2334.0,0.0,0.0,4.0,811.0,68.0,231.0,94.0,1333.0,3578.0,6398.0,8882.0,4424.0,0.0,699.0,0.0,127.0,0.0,1218.0,0.0,153.0,0.0,0.0,0.0,0.0,317.0,0.0,0.0,316.0,0.0,0.0,13527.0,0.0,43.0,710.0,0.0,0.0,1.0,3441.0,0.0,415.0,0.0,22.0,0.0,0.0,0.0,0.0,60.0,0.0,0.0,0.0,1983.0,0.0,null,0.0,0.0,25.0,0.0,583.0,128.0,0.0,16263.0,0.0,0.0,3.0,88.0,0.0,0.0,0.0,0.0,0.0,809.0,841.0,748.0,10153.0,354.0,0.0,44.0,0.0,0.0,0.0,0.0,39.0,0.0,1810.0,0.0,652.0,51.0,0.0,79.0,0.0,0.0,2043.0,0.0,0.0,4286.0,0.0,0.0,0.0,0.0,0.0,0.0,0.0,0.0,877.0,0.0,0.0,10.0,0.0,0.0,444.0,0.0,0.0,0.0,0.0,0.0,0.0,0.0,0.0,0.0,0.0,382.0,433.0,0.0,0.0,6.0,361.0,0.0,0.0,0.0,869.0,0.0,0.0,21066.0,0.0,0.0,0.0,0.0,8037.0,3578.0,0.0,2972.0,0.0,0.0,0.0,0.0,0.0,0.0,0.0,5.0,0.0,602.0,0.0,3166.0,0.0,0.0,0.0,85.0,0.0,0.0,0.0,0.0,25.0,1670.0,1.0,2676.0,194.0,6.0,856.0,0.0,0.0,5734.0,0.0,0.0,0.0,0.0,0.0,865.0,0.0,18.0,5183.0,162.0,809.0,0.0,1535.0,0.0,0.0,4.0,1.0,0.0,6.0,0.0,75.0,133.0,0.0,0.0,0.0,0.0,0.0,0.0,0.0,0.0,0.0,1211.0,741.0,null,0.0,58.0,0.0,0.0,0.0,0.0,0.0,0.0,286.0,0.0,0.0,0.0,5063.0,0.0,0.0,0.0,0.0,0.0,0.0,1.0,3559.0,2406.0,0.0,3343.0,4081.0,0.0,0.0,911.0,0.0,20.0,10.0,0.0,590.0,4451.0,1342.0,0.0,717.0,0.0,2.0,0.0,null,0.0,0.0,0.0,0.0,0.0,0.0,11.0,10.0,0.0,0.0,1095.0,0.0,9314.0,0.0,0.0,0.0,0.0,2.0,0.0,593.0,305.0,0.0,0.0,0.0,8718.0,0.0,0.0,0.0,0.0,0.0,0.0,1.0,0.0,62.0,0.0,0.0,2.0,null,0.0,0.0,0.0,0.0,0.0,0.0,0.0,0.0,0.0,0.0,0.0,0.0,0.0,0.0,1433.0,0.0,0.0,951.0,0.0,226.0,0.0,0.0,0.0,0.0,0.0,25.0,820.0,402.0,0.0,0.0,0.0,0.0,0.0,220.0,0.0,0.0,0.0,0.0,774.0,0.0,0.0,0.0,3585.0,0.0,1935.0,0.0,59.0,0.0,236.0,421.0,0.0,0.0,0.0,0.0,0.0,280.0,32.0,4587.0,0.0,1180.0,654.0,1108.0,1968.0,0.0,0.0,0.0,0.0,14.0,0.0,20.0,0.0,2347.0,5.0,29813.0,2229.0,0.0,3206.0,0.0,0.0,0.0,86.0,600.0,0.0,0.0,329.0,416.0,14.0,1220.0,18.0,0.0,0.0,0.0,8.0,0.0,0.0,0.0,539.0,162.0,0.0,0.0,0.0,1109.0,483.0,1179.0,1.0,1368.0,32.0,10.0,0.0,0.0,0.0,3341.0,0.0,0.0,0.0,4.0,0.0,0.0,0.0,0.0,0.0,0.0,0.0,0.0,0.0,0.0,0.0,0.0,0.0,0.0,313.0,0.0,140.0,1064.0,0.0,544.0,302.0,1.0,746.0,0.0,0.0,0.0,37.0,0.0,8.0,0.0,412.0,0.0,null,22.0,0.0,null,0.0,3381.0,0.0,0.0,0.0,0.0,297.0,12077.0,0.0,428.0,0.0,2426.0,2012.0,4715.0,0.0,0.0,0.0,2210.0,0.0,763.0,0.0,0.0,0.0,0.0,0.0,454.0,37.0,0.0,760.0,0.0,0.0,4106.0,null,0.0,0.0,0.0,910.0,0.0,0.0,0.0,0.0,785.0,null,22.0,0.0,0.0,0.0,0.0,null,0.0,1223.0,722.0,5412.0,0.0,82.0,null,null,409.0,0.0,0.0,0.0,8926.0,4.0,0.0,0.0,0.0,0.0,0.0,4756.0,0.0,0.0,30.0,0.0,0.0,33.0,0.0,0.0,0.0,0.0,0.0,0.0,0.0,0.0,400.0,46.0,0.0,19.0,0.0,1.0,557.0,0.0,810.0,780.0,0.0,0.0,0.0,0.0,544.0,0.0,5553.0,0.0,0.0,395.0,0.0,0.0,2115.0,0.0,0.0,1829.0,0.0,31.0,0.0,0.0,0.0,223.0,0.0,0.0,0.0,56.0,2.0,0.0,0.0,0.0,0.0,0.0,537.0,11.0,0.0,421.0,236.0,3.0,0.0,0.0,0.0,0.0,0.0,2.0,0.0,0.0,0.0,0.0,0.0,93.0,0.0,0.0,0.0,0.0,1.0,0.0,0.0,null,0.0,4.0,0.0,27.0,0.0,null,0.0,0.0,0.0,0.0,195.0,192.0,738.0,0.0,0.0,2762.0,0.0,0.0,0.0,0.0,0.0,44.0,12.0,0.0,0.0,13.0,5.0,2506.0,0.0,2467.0,null,0.0,9.0,0.0,8759.0,0.0,55.0,2144.0,0.0,17.0,0.0,0.0,775.0,5407.0,0.0,0.0,0.0,0.0,0.0,0.0,412.0,1.0,0.0,37.0,0.0,646.0,0.0,0.0,9.0,0.0,1482.0,0.0,0.0,1912.0,0.0,179.0,100.0,12809.0,48.0,0.0,0.0,0.0,0.0,156.0,1124.0,0.0,0.0,0.0,0.0,0.0,0.0,0.0,0.0,0.0,0.0,1949.0,0.0,0.0,0.0,44.0,0.0,0.0,3024.0,0.0,0.0,8.0,0.0,0.0,0.0,303.0,0.0,676.0,20.0,0.0,0.0,0.0,166.0,0.0,0.0,8150.0,632.0,0.0,0.0,148.0,0.0,419.0,121.0,0.0,9.0,2.0,0.0,0.0,0.0,61.0,0.0,0.0,0.0,0.0,7.0,0.0,0.0,0.0,0.0,0.0,0.0,0.0,0.0,16.0,0.0,0.0,1471.0,0.0,0.0,604.0,0.0,0.0,0.0,0.0,0.0,0.0,1.0,0.0,228.0,0.0,6.0,6.0,0.0,0.0,0.0,0.0,0.0,29.0,0.0,0.0,0.0,0.0,815.0,2174.0,0.0,3053.0,0.0,286.0,0.0,313.0,0.0,0.0,0.0,0.0,0.0,27.0,1136.0,0.0,0.0,4.0,0.0,4.0,0.0,0.0,0.0,0.0,34.0,382.0,790.0,33.0,0.0,1554.0,1284.0,302.0,680.0,0.0,0.0,1297.0,7116.0,0.0,1347.0,193.0,104.0,243.0,0.0,1514.0,79.0,846.0,0.0,0.0,487.0,2684.0,138.0,0.0,0.0,617.0,1.0,0.0,1650.0,0.0,548.0,0.0,0.0,0.0,0.0,0.0,0.0,1776.0,0.0,0.0,2373.0,0.0,0.0,746.0,0.0,0.0,5876.0,0.0,0.0,0.0,0.0,9.0,0.0,0.0,1115.0,null,0.0,0.0,0.0,4.0,726.0,1772.0,0.0,0.0,143.0,0.0,0.0,0.0,0.0,0.0,548.0,0.0,0.0,0.0,0.0,82.0,0.0,1.0,0.0,0.0,0.0,0.0,0.0,0.0,0.0,0.0,0.0,756.0,0.0,1.0,3.0,0.0,0.0,837.0,1721.0,0.0,2.0,0.0,1195.0,4.0,0.0,0.0,702.0,0.0,0.0,8.0,0.0,0.0,1.0,null,0.0,0.0,0.0,320.0,933.0,37.0,9923.0,0.0,87.0,5659.0,802.0,0.0,0.0,437.0,0.0,0.0,0.0,767.0,2595.0,0.0,0.0,0.0,0.0,0.0,0.0,0.0,0.0,0.0,0.0,0.0,0.0,0.0,0.0,0.0,169.0,0.0,0.0,0.0,0.0,null,0.0,0.0,0.0,0.0,0.0,213.0,6807.0,824.0,1.0,250.0,11.0,186.0,0.0,0.0,3935.0,0.0,0.0,0.0,0.0,126.0,757.0,null,896.0,null,0.0,0.0,null,0.0,22.0,756.0,0.0,2.0,23.0,0.0,0.0,0.0,4.0,0.0,0.0,0.0,0.0,1431.0,null,0.0,656.0,40.0,0.0,0.0,0.0,0.0,93.0,0.0,0.0,0.0,351.0,0.0,904.0,0.0,0.0,0.0,1311.0,0.0,307.0,0.0,0.0,0.0,0.0,20.0,2.0,760.0,0.0,0.0,9.0,0.0,2.0,0.0,0.0,0.0,25.0,2119.0,0.0,0.0,179.0,11.0,0.0,25.0,0.0,2062.0,0.0,0.0,0.0,9.0,689.0,28.0,30.0,0.0,308.0,0.0,44.0,0.0,3.0,0.0,0.0,0.0,0.0,1971.0,0.0,0.0,641.0,0.0,141.0,0.0,0.0,null,54.0,0.0,8525.0,0.0,417.0,null,0.0,82.0,3135.0,1.0,0.0,0.0,0.0,0.0,210.0,0.0,1280.0,0.0,null,6.0,0.0,0.0,0.0,611.0,5252.0,0.0,1577.0,1001.0,0.0,0.0,53.0,0.0,0.0,0.0,8403.0,1.0,256.0,1390.0,1438.0,49.0,0.0,216.0,1.0,0.0,3331.0,329.0,0.0,0.0,788.0,8.0,0.0,0.0,878.0,0.0,2551.0,0.0,0.0,0.0,0.0,12.0,27.0,0.0,0.0,0.0,0.0,0.0,0.0,139.0,0.0,null,0.0,0.0,2342.0,2.0,77.0,0.0,2.0,0.0,0.0,0.0,0.0,0.0,0.0,0.0,0.0,0.0,2065.0,0.0,0.0,453.0,0.0,0.0,null,0.0,0.0,0.0,0.0,1547.0,0.0,30.0,587.0,0.0,0.0,0.0,0.0,6013.0,946.0,0.0,0.0,0.0,1284.0,1.0,0.0,0.0,0.0,0.0,0.0,7452.0,0.0,null,0.0,0.0,0.0,0.0,0.0,0.0,0.0,0.0,0.0,0.0,0.0,3.0,0.0,0.0,0.0,8.0,0.0,4018.0,0.0,57.0,0.0,0.0,0.0,0.0,0.0,140.0,4513.0,0.0,4.0,0.0,1117.0,0.0,0.0,0.0,427.0,730.0,0.0,0.0,null,0.0,323.0,0.0,0.0,0.0,0.0,0.0,0.0,0.0,7.0,350.0,0.0,0.0,0.0,0.0,0.0,9032.0,0.0,1.0,353.0,0.0,0.0,0.0,788.0,0.0,0.0,0.0,0.0,0.0,null,0.0,31.0,0.0,0.0,0.0,0.0,0.0,0.0,11.0,11.0,0.0,1653.0,3810.0,131.0,0.0,0.0,0.0,19.0,596.0,2804.0,0.0,233.0,0.0,264.0,0.0,0.0,0.0,0.0,1573.0,574.0,623.0,0.0,0.0,0.0,0.0,0.0,0.0,950.0,0.0,3281.0,15.0,2344.0,0.0,0.0,0.0,0.0,540.0,30.0,0.0,0.0,0.0,0.0,0.0,382.0,0.0,null,16.0,null,0.0,0.0,3315.0,0.0,0.0,0.0,0.0,165.0,632.0,0.0,5082.0,56.0,0.0,0.0,0.0,0.0,0.0,0.0,4.0,0.0,0.0,653.0,0.0,0.0,0.0,0.0,0.0,201.0,0.0,0.0,1440.0,16.0,0.0,0.0,0.0,0.0,0.0,0.0,2.0,null,0.0,0.0,6074.0,0.0,0.0,0.0,12.0,0.0,0.0,927.0,0.0,782.0,0.0,0.0,0.0,0.0,0.0,0.0,0.0,0.0,0.0,0.0,13.0,43.0,0.0,0.0,1638.0,1076.0,0.0,0.0,0.0,0.0,957.0,0.0,0.0,0.0,0.0,335.0,0.0,0.0,0.0,0.0,0.0,0.0,null,0.0,0.0,0.0,0.0,4.0,2.0,0.0,0.0,0.0,0.0,180.0,0.0,0.0,0.0,0.0,0.0,25.0,0.0,2126.0,0.0,216.0,0.0,5.0,4082.0,4494.0,1897.0,0.0,810.0,1429.0,0.0,0.0,0.0,0.0,52.0,0.0,0.0,372.0,0.0,0.0,3.0,0.0,0.0,17.0,0.0,18.0,0.0,0.0,56.0,46.0,0.0,0.0,0.0,1.0,0.0,0.0,1209.0,39.0,0.0,0.0,0.0,463.0,0.0,0.0,269.0,0.0,0.0,35.0,0.0,0.0,0.0,0.0,104.0,5971.0,0.0,0.0,0.0,12.0,0.0,6748.0,0.0,178.0,1376.0,0.0,0.0,0.0,0.0,0.0,0.0,0.0,0.0,1216.0,37.0,0.0,18481.0,193.0,0.0,0.0,1026.0,0.0,0.0,0.0,0.0,35.0,null,0.0,0.0,2.0,83.0,0.0,0.0,0.0,27071.0,0.0,649.0,0.0,760.0,0.0,0.0,4.0,4209.0,2834.0,0.0,0.0,0.0,0.0,0.0,0.0,377.0,null,0.0,0.0,0.0,0.0,0.0,0.0,0.0,0.0,880.0,0.0,952.0,0.0,0.0,0.0,590.0,8766.0,null,0.0,0.0,467.0,0.0,558.0,627.0,0.0,0.0,1855.0,0.0,3157.0,559.0,0.0,0.0,2333.0,0.0,0.0,3439.0,1347.0,0.0,630.0,10679.0,6229.0,0.0,0.0,0.0,0.0,0.0,5.0,0.0,1025.0,0.0,0.0,0.0,0.0,0.0,0.0,170.0,0.0,0.0,0.0,0.0,0.0,0.0,597.0,0.0,0.0,0.0,0.0,0.0,0.0,0.0,0.0,0.0,0.0,50.0,30.0,0.0,0.0,0.0,10.0,110.0,0.0,0.0,2804.0,0.0,0.0,10.0,null,1794.0,0.0,0.0,0.0,217.0,0.0,0.0,0.0,0.0,0.0,0.0,0.0,0.0,0.0,0.0,354.0,0.0,0.0,0.0,0.0,336.0,0.0,59.0,0.0,373.0,0.0,33.0,4.0,7.0,0.0,0.0,120.0,4.0,0.0,0.0,0.0,0.0,1.0,113.0,0.0,0.0,0.0,813.0,0.0,0.0,0.0,0.0,0.0,0.0,0.0,0.0,0.0,2052.0,325.0,0.0,0.0,0.0,null,790.0,733.0,0.0,0.0,753.0,0.0,2.0,0.0,0.0,3456.0,0.0,559.0,0.0,103.0,0.0,1.0,0.0,692.0,0.0,5151.0,695.0,0.0,0.0,0.0,0.0,335.0,0.0,0.0,0.0,0.0,0.0,0.0,0.0,0.0,0.0,0.0,0.0,0.0,398.0,432.0,0.0,2053.0,0.0,171.0,0.0,null,0.0,0.0,0.0,661.0,457.0,0.0,0.0,0.0,388.0,0.0,0.0,null,0.0,284.0,0.0,0.0,0.0,30.0,0.0,60.0,0.0,0.0,17432.0,0.0,3859.0,396.0,0.0,0.0,267.0,235.0,1.0,0.0,0.0,53.0,0.0,0.0,0.0,0.0,0.0,0.0,0.0,0.0,0.0,0.0,0.0,1652.0,397.0,0.0,0.0,0.0,0.0,2.0,0.0,0.0,0.0,0.0,0.0,0.0,0.0,8444.0,0.0,588.0,4.0,0.0,3846.0,787.0,5193.0,0.0,0.0,312.0,0.0,0.0,0.0,827.0,490.0,2.0,2576.0,0.0,3377.0,0.0,0.0,0.0,0.0,0.0,0.0,274.0,5.0,519.0,0.0,0.0,0.0,0.0,0.0,4.0,0.0,0.0,0.0,2196.0,0.0,280.0,0.0,0.0,0.0,828.0,0.0,null,257.0,0.0,552.0,0.0,0.0,117.0,0.0,0.0,407.0,0.0,21.0,677.0,960.0,0.0,null,0.0,0.0,4.0,0.0,0.0,75.0,0.0,0.0,null,0.0,0.0,26830.0,0.0,0.0,0.0,0.0,17.0,0.0,0.0,0.0,0.0,0.0,651.0,0.0,0.0,0.0,1.0,600.0,0.0,2.0,122.0,0.0,51.0,0.0,0.0,0.0,614.0,897.0,0.0,580.0,4.0,31.0,89.0,0.0,2050.0,314.0,253.0,257.0,0.0,6130.0,0.0,0.0,1565.0,0.0,4415.0,0.0,6.0,0.0,754.0,0.0,0.0,0.0,0.0,0.0,981.0,667.0,null,0.0,0.0,null,null,0.0,0.0,0.0,0.0,0.0,0.0,0.0,0.0,0.0,0.0,218.0,1556.0,0.0,0.0,0.0,3060.0,0.0,0.0,0.0,0.0,525.0,0.0,null,0.0,4387.0,0.0,0.0,0.0,0.0,0.0,0.0,0.0,0.0,0.0,0.0,0.0,0.0,1.0,0.0,0.0,28.0,93.0,2.0,0.0,881.0,0.0,690.0,0.0,42.0,0.0,0.0,0.0,0.0,47.0,null,1258.0,1249.0,1300.0,0.0,0.0,218.0,0.0,0.0,0.0,0.0,0.0,588.0,0.0,0.0,0.0,0.0,0.0,0.0,0.0,0.0,0.0,0.0,0.0,0.0,11153.0,0.0,0.0,0.0,12.0,80.0,0.0,0.0,0.0,0.0,0.0,1203.0,0.0,0.0,275.0,0.0,0.0,55.0,0.0,0.0,821.0,0.0,0.0,0.0,7164.0,0.0,0.0,270.0,0.0,0.0,0.0,0.0,2183.0,0.0,3.0,0.0,0.0,0.0,0.0,0.0,0.0,0.0,0.0,0.0,83.0,4826.0,1017.0,0.0,0.0,0.0,0.0,0.0,0.0,0.0,847.0,0.0,0.0,0.0,0.0,0.0,83.0,0.0,0.0,0.0,0.0,0.0,0.0,0.0,0.0,0.0,0.0,704.0,0.0,0.0,0.0,0.0,456.0,3238.0,542.0,0.0,0.0,0.0,0.0,0.0,1.0,377.0,1470.0,0.0,0.0,355.0,0.0,0.0,0.0,0.0,0.0,0.0,0.0,null,0.0,0.0,7167.0,0.0,0.0,61.0,0.0,0.0,0.0,0.0,0.0,0.0,0.0,0.0,0.0,null,0.0,0.0,0.0,0.0,0.0,1302.0,0.0,34.0,442.0,2.0,0.0,0.0,0.0,0.0,1477.0,1.0,30.0,0.0,1381.0,0.0,0.0,0.0,0.0,1276.0,0.0,0.0,0.0,0.0,132.0,0.0,6190.0,1549.0,2177.0,0.0,586.0,20.0,1080.0,0.0,840.0,0.0,0.0,43.0,0.0,0.0,0.0,831.0,0.0,0.0,2651.0,399.0,38.0,0.0,0.0,2524.0,0.0,0.0,0.0,0.0,0.0,0.0,0.0,0.0,null,1.0,0.0,0.0,0.0,0.0,0.0,0.0,15.0,0.0,0.0,0.0,476.0,0.0,null,0.0,0.0,1029.0,0.0,0.0,0.0,0.0,0.0,2.0,null,0.0,0.0,0.0,279.0,440.0,18.0,241.0,0.0,1562.0,0.0,0.0,0.0,0.0,0.0,0.0,0.0,0.0,170.0,0.0,1.0,89.0,0.0,0.0,0.0,663.0,0.0,0.0,326.0,0.0,0.0,588.0,0.0,1172.0,0.0,0.0,null,0.0,0.0,8747.0,9463.0,2020.0,124.0,3172.0,108.0,0.0,1725.0,0.0,84.0,0.0,1.0,0.0,0.0,2549.0,867.0,0.0,198.0,0.0,0.0,0.0,0.0,886.0,13.0,0.0,0.0,0.0,0.0,0.0,0.0,0.0,157.0,343.0,0.0,0.0,0.0,0.0,0.0,0.0,0.0,416.0,224.0,81.0,0.0,53.0,88.0,0.0,0.0,0.0,0.0,0.0,4983.0,144.0,0.0,0.0,1.0,0.0,0.0,21.0,628.0,0.0,10.0,2946.0,0.0,1546.0,0.0,1.0,0.0,9401.0,0.0,22.0,0.0,0.0,0.0,0.0,0.0,0.0,0.0,0.0,0.0,265.0,266.0,490.0,1525.0,0.0,0.0,492.0,0.0,1269.0,0.0,0.0,0.0,0.0,2558.0,0.0,252.0,2.0,717.0,3724.0,0.0,0.0,0.0,31.0,559.0,91.0,0.0,0.0,0.0,6777.0,0.0,0.0,0.0,841.0,668.0,779.0,0.0,0.0,0.0,0.0,0.0,521.0,137.0,3.0,0.0,22.0,0.0,0.0,0.0,0.0,0.0,0.0,0.0,0.0,187.0,0.0,0.0,0.0,3345.0,0.0,0.0,1418.0,0.0,563.0,0.0,0.0,0.0,545.0,14201.0,0.0,0.0,0.0,35.0,1125.0,2.0,0.0,0.0,0.0,0.0,0.0,0.0,3484.0,10025.0,1.0,0.0,0.0,272.0,2127.0,17687.0,1832.0,0.0,14.0,1947.0,0.0,247.0,0.0,0.0,0.0,0.0,1.0,2717.0,243.0,0.0,4384.0,7221.0,null,0.0,0.0,168.0,94.0,0.0,0.0,16455.0,0.0,0.0,0.0,0.0,0.0,0.0,0.0,0.0,0.0,0.0,153.0,0.0,3.0,0.0,0.0,0.0,0.0,0.0,0.0,935.0,0.0,2.0,0.0,0.0,0.0,817.0,0.0,0.0,0.0,281.0,0.0,0.0,6338.0,0.0,0.0,83.0,46.0,11417.0,90.0,2.0,0.0,0.0,0.0,0.0,0.0,0.0,282.0,0.0,0.0,4558.0,901.0,0.0,114.0,3603.0,0.0,6103.0,4017.0,0.0,0.0,0.0,0.0,7194.0,0.0,3627.0,0.0,0.0,2560.0,10.0,0.0,0.0,0.0,77.0,0.0,0.0,0.0,0.0,76.0,1883.0,2461.0,18.0,0.0,39.0,0.0,266.0,0.0,31.0,0.0,0.0,0.0,0.0,239.0,0.0,0.0,0.0,0.0,0.0,0.0,0.0,0.0,0.0,0.0,0.0,0.0,0.0,0.0,3.0,337.0,1013.0,0.0,65.0,0.0,3080.0,0.0,0.0,0.0,0.0,0.0,0.0,893.0,2.0,0.0,0.0,0.0,0.0,864.0,76.0,0.0,0.0,584.0,0.0,0.0,0.0,0.0,0.0,0.0,0.0,51.0,0.0,0.0,1740.0,0.0,0.0,1.0,1.0,32.0,116.0,132.0,0.0,0.0,0.0,0.0,41.0,93.0,0.0,591.0,121.0,0.0,0.0,0.0,0.0,0.0,0.0,0.0,25.0,1.0,180.0,103.0,102.0,27.0,656.0,559.0,205.0,57.0,496.0,0.0,0.0,43.0,497.0,20.0,0.0,0.0,2235.0,0.0,0.0,0.0,45.0,493.0,65.0,876.0,0.0,0.0,4592.0,2337.0,154.0,0.0,4020.0,0.0,0.0,0.0,0.0,0.0,797.0,2424.0,6670.0,2802.0,4516.0,0.0,0.0,0.0,0.0,3593.0,5234.0,1327.0,0.0,36.0,3291.0,138.0,20.0,477.0,0.0,0.0,166.0,0.0,0.0,81.0,0.0,79.0,0.0,null,0.0,2520.0,0.0,3275.0,0.0,0.0,453.0,0.0,7484.0,18.0,0.0,0.0,0.0,431.0,364.0,551.0,297.0,0.0,0.0,0.0,1633.0,84.0,63.0,412.0,724.0,1385.0,9633.0,0.0,16.0,0.0,226.0,323.0,7039.0,89.0,370.0,0.0,0.0,0.0,1125.0,0.0,0.0,823.0,93.0,0.0,2325.0,0.0,0.0,0.0,0.0,0.0,0.0,985.0,0.0,3856.0,0.0,0.0,0.0,0.0,0.0,0.0,776.0,0.0,0.0,0.0,0.0,null,2.0,0.0,4066.0,203.0,4579.0,0.0,0.0,0.0,4.0,0.0,172.0,3119.0,0.0,1487.0,7.0,920.0,0.0,630.0,0.0,0.0,0.0,0.0,0.0,44.0,0.0,0.0,25.0,0.0,15.0,0.0,0.0,0.0,0.0,0.0,0.0,null,681.0,0.0,262.0,7.0,0.0,1910.0,3452.0,3.0,0.0,21.0,0.0,0.0,1338.0,null,0.0,0.0,0.0,807.0,0.0,3.0,0.0,0.0,0.0,4504.0,48.0,0.0,8.0,142.0,395.0,1382.0,0.0,null,245.0,0.0,0.0,0.0,0.0,0.0,3.0,0.0,0.0,669.0,0.0,509.0,0.0,0.0,779.0,0.0,0.0,0.0,0.0,1.0,0.0,1261.0,0.0,0.0,0.0,11552.0,225.0,0.0,342.0,9495.0,0.0,0.0,0.0,0.0,0.0,2853.0,1339.0,0.0,1480.0,1131.0,104.0,706.0,0.0,0.0,0.0,0.0,0.0,null,0.0,18.0,594.0,0.0,0.0,1.0,631.0,4.0,7762.0,0.0,9.0,0.0,196.0,0.0,0.0,0.0,0.0,0.0,0.0,0.0,44.0,292.0,0.0,0.0,440.0,null,null,198.0,13.0,0.0,0.0,1855.0,2148.0,0.0,0.0,3.0,0.0,0.0,0.0,0.0,114.0,463.0,212.0,8.0,null,871.0,667.0,0.0,0.0,775.0,0.0,611.0,1135.0,0.0,0.0,8.0,0.0,0.0,0.0,3.0,0.0,2031.0,0.0,0.0,0.0,0.0,254.0,0.0,8.0,0.0,0.0,0.0,0.0,null,0.0,0.0,932.0,0.0,1.0,0.0,690.0,0.0,837.0,25.0,0.0,0.0,0.0,139.0,1330.0,0.0,84.0,0.0,0.0,0.0,0.0,10029.0,0.0,0.0,0.0,0.0,0.0,0.0,76.0,0.0,0.0,0.0,0.0,0.0,0.0,3571.0,0.0,0.0,0.0,0.0,0.0,0.0,20.0,444.0,0.0,2077.0,0.0,0.0,0.0,0.0,0.0,2171.0,3448.0,1750.0,0.0,0.0,0.0,0.0,0.0,1018.0,0.0,235.0,0.0,0.0,0.0,79.0,9.0,1719.0,0.0,0.0,10.0,0.0,0.0,0.0,0.0,4.0,125.0,358.0,0.0,0.0,0.0,0.0,769.0,0.0,0.0,0.0,162.0,1.0,0.0,null,34.0,282.0,0.0,0.0,0.0,0.0,0.0,0.0,0.0,31.0,0.0,0.0,219.0,49.0,0.0,0.0,172.0,0.0,0.0,0.0,0.0,493.0,31.0,0.0,0.0,0.0,19.0,4619.0,0.0,50.0,737.0,18.0,0.0,52.0,0.0,0.0,1.0,null,0.0,0.0,0.0,21.0,199.0,1.0,381.0,0.0,0.0,111.0,0.0,0.0,1451.0,0.0,0.0,31.0,0.0,0.0,0.0,0.0,867.0,418.0,0.0,8246.0,0.0,794.0,82.0,null,1080.0,1808.0,0.0,0.0,175.0,0.0,0.0,0.0,0.0,0.0,0.0,0.0,0.0,2052.0,15.0,3.0,0.0,2030.0,3750.0,0.0,0.0,0.0,0.0,0.0,0.0,59.0,179.0,0.0,0.0,181.0,0.0,0.0,712.0,0.0,0.0,0.0,1.0,3.0,394.0,419.0,0.0,0.0,0.0,0.0,0.0,0.0,0.0,0.0,464.0,109.0,0.0,0.0,679.0,0.0,0.0,1.0,0.0,null,477.0,0.0,0.0,0.0,0.0,910.0,0.0,1.0,116.0,0.0,0.0,3815.0,0.0,0.0,3.0,0.0,0.0,0.0,0.0,751.0,63.0,0.0,0.0,553.0,0.0,0.0,4198.0,12.0,1.0,null,0.0,0.0,0.0,0.0,0.0,281.0,0.0,17.0,306.0,7.0,0.0,0.0,5.0,0.0,207.0,0.0,0.0,0.0,0.0,0.0,0.0,0.0,0.0,651.0,0.0,160.0,0.0,0.0,0.0,0.0,914.0,0.0,0.0,0.0,0.0,4.0,0.0,725.0,96.0,0.0,153.0,0.0,0.0,0.0,0.0,0.0,2.0,339.0,0.0,0.0,641.0,null,43.0,938.0,0.0,0.0,0.0,0.0,0.0,0.0,0.0,528.0,0.0,0.0,0.0,0.0,0.0,0.0,0.0,0.0,0.0,0.0,0.0,0.0,0.0,0.0,0.0,0.0,0.0,0.0,0.0,0.0,13.0,2324.0,0.0,0.0,0.0,0.0,1309.0,64.0,0.0,0.0,0.0,0.0,0.0,0.0,1001.0,1065.0,0.0,0.0,0.0,0.0,400.0,290.0,196.0,56.0,1.0,3.0,0.0,0.0,34.0,10.0,2868.0,0.0,0.0,null,0.0,6.0,0.0,196.0,0.0,null,716.0,2.0,7.0,4313.0,0.0,0.0,0.0,0.0,0.0,0.0,0.0,0.0,0.0,0.0,0.0,0.0,0.0,2891.0,0.0,0.0,0.0,491.0,3625.0,0.0,0.0,0.0,1301.0,0.0,0.0,5.0,0.0,0.0,0.0,1.0,0.0,0.0,674.0,0.0,0.0,0.0,0.0,439.0,0.0,0.0,0.0,0.0,3770.0,0.0,866.0,80.0,0.0,9365.0,0.0,0.0,686.0,0.0,32.0,45.0,0.0,null,0.0,0.0,53.0,0.0,0.0,3195.0,8221.0,0.0,0.0,61.0,0.0,0.0,95.0,0.0,0.0,0.0,5210.0,4894.0,0.0,6.0,0.0,0.0,0.0,0.0,0.0,110.0,6.0,0.0,0.0,378.0,0.0,0.0,0.0,0.0,0.0,38.0,46.0,0.0,0.0,130.0,3960.0,806.0,595.0,0.0,0.0,824.0,0.0,0.0,747.0,null,0.0,0.0,0.0,0.0,829.0,0.0,0.0,0.0,0.0,65.0,700.0,0.0,0.0,0.0,0.0,0.0,0.0,0.0,0.0,0.0,18.0,0.0,0.0,59.0,0.0,0.0,99.0,53.0,0.0,0.0,0.0,0.0,697.0,0.0,9.0,1497.0,0.0,1.0,0.0,347.0,126.0,0.0,1.0,11.0,0.0,0.0,1473.0,0.0,4618.0,4524.0,21.0,0.0,0.0,0.0,null,0.0,0.0,0.0,0.0,150.0,0.0,0.0,9307.0,0.0,0.0,9.0,0.0,0.0,22.0,6634.0,0.0,0.0,0.0,76.0,0.0,551.0,0.0,0.0,0.0,0.0,0.0,0.0,104.0,1307.0,0.0,0.0,358.0,0.0,0.0,0.0,null,225.0,8162.0,0.0,0.0,6.0,0.0,0.0,0.0,4.0,0.0,0.0,0.0,585.0,0.0,0.0,0.0,0.0,1.0,0.0,0.0,0.0,288.0,132.0,20.0,0.0,0.0,0.0,222.0,0.0,0.0,0.0,0.0,0.0,0.0,1583.0,360.0,0.0,0.0,0.0,0.0,0.0,0.0,5203.0,745.0,0.0,0.0,0.0,10.0,0.0,1.0,0.0,0.0,0.0,0.0,175.0,890.0,494.0,0.0,3023.0,3991.0,0.0,0.0,406.0,0.0,0.0,237.0,0.0,0.0,0.0,0.0,0.0,335.0,3514.0,5.0,0.0,0.0,2.0,786.0,9.0,0.0,823.0,1.0,722.0,0.0,686.0,0.0,0.0,0.0,1668.0,0.0,0.0,3268.0,1256.0,0.0,1219.0,757.0,5.0,0.0,7996.0,0.0,3477.0,874.0,0.0,0.0,240.0,785.0,0.0,0.0,0.0,0.0,0.0,9.0,0.0,0.0,0.0,0.0,0.0,null,0.0,8.0,9.0,0.0,0.0,0.0,0.0,0.0,0.0,0.0,117.0,0.0,null,1425.0,null,918.0,103.0,22.0,0.0,0.0,0.0,39.0,0.0,53.0,0.0,0.0,0.0,1513.0,496.0,1706.0,545.0,11594.0,0.0,0.0,0.0,0.0,0.0,0.0,0.0,0.0,1198.0,0.0,0.0,0.0,123.0,1627.0,177.0,0.0,0.0,0.0,0.0,0.0,0.0,0.0,0.0,0.0,0.0,0.0,0.0,458.0,0.0,0.0,4372.0,166.0,0.0,0.0,29.0,0.0,0.0,0.0,0.0,0.0,173.0,664.0,0.0,0.0,0.0,0.0,1975.0,0.0,0.0,0.0,0.0,0.0,0.0,217.0,0.0,1.0,0.0,1745.0,0.0,0.0,null,11856.0,7636.0,0.0,0.0,16.0,764.0,29.0,37.0,null,47.0,436.0,625.0,20.0,0.0,0.0,0.0,0.0,0.0,0.0,0.0,6.0,0.0,0.0,0.0,0.0,0.0,0.0,0.0,1871.0,0.0,0.0,0.0,0.0,0.0,868.0,858.0,0.0,128.0,25.0,0.0,706.0,6408.0,0.0,0.0,0.0,1197.0,0.0,3.0,0.0,1068.0,7.0,3338.0,0.0,1202.0,95.0,0.0,0.0,0.0,219.0,0.0,0.0,0.0,3.0,0.0,511.0,98.0,0.0,1489.0,4058.0,3953.0,0.0,0.0,0.0,0.0,0.0,0.0,0.0,0.0,0.0,0.0,888.0,0.0,0.0,0.0,0.0,0.0,5.0,0.0,406.0,496.0,0.0,0.0,0.0,8808.0,0.0,68.0,0.0,21.0,0.0,11.0,0.0,0.0,15.0,0.0,0.0,0.0,0.0,0.0,30.0,0.0,0.0,761.0,0.0,0.0,75.0,623.0,0.0,0.0,0.0,2.0,0.0,456.0,0.0,0.0,0.0,1774.0,0.0,566.0,0.0,53.0,0.0,1369.0,0.0,0.0,131.0,0.0,0.0,0.0,0.0,0.0,0.0,10.0,532.0,0.0,2395.0,0.0,0.0,914.0,0.0,0.0,49.0,0.0,2.0,574.0,0.0,0.0,0.0,0.0,0.0,0.0,0.0,0.0,null,0.0,0.0,40.0,0.0,0.0,687.0,0.0,0.0,392.0,716.0,0.0,0.0,0.0,6.0,0.0,3.0,2427.0,94.0,0.0,0.0,0.0,0.0,55.0,1644.0,2002.0,0.0,2421.0,109.0,0.0,1264.0,0.0,3857.0,1706.0,25.0,0.0,1014.0,0.0,0.0,485.0,1725.0,0.0,0.0,0.0,914.0,0.0,0.0,0.0,2.0,5.0,0.0,425.0,0.0,5.0,0.0,0.0,0.0,0.0,0.0,0.0,0.0,0.0,0.0,3862.0,2809.0,0.0,4780.0,1211.0,0.0,1184.0,40.0,0.0,784.0,0.0,0.0,0.0,698.0,0.0,0.0,0.0,11.0,4.0,0.0,0.0,0.0,0.0,9.0,0.0,3259.0,null,0.0,0.0,0.0,0.0,0.0,0.0,0.0,0.0,0.0,5.0,0.0,0.0,0.0,9641.0,0.0,0.0,132.0,0.0,0.0,104.0,0.0,0.0,0.0,247.0,0.0,3863.0,0.0,0.0,73.0,0.0,0.0,396.0,0.0,4451.0,0.0,0.0,0.0,0.0,839.0,0.0,0.0,0.0,0.0,968.0,0.0,0.0,0.0,null,420.0,64.0,1828.0,1801.0,792.0,0.0,3638.0,6921.0,30.0,0.0,0.0,147.0,0.0,0.0,0.0,null,645.0,0.0,4.0,0.0,0.0,0.0,0.0,0.0,0.0,0.0,0.0,1289.0,677.0,1857.0,0.0,0.0,0.0,4.0,0.0,0.0,292.0,21.0,0.0,0.0,0.0,0.0,0.0,1849.0,0.0,0.0,5.0,0.0,0.0,0.0,0.0,13437.0,785.0,357.0,8.0,0.0,0.0,723.0,0.0,42.0,417.0,0.0,0.0,2.0,null,225.0,0.0,0.0,4176.0,0.0,0.0,0.0,29.0,0.0,0.0,0.0,0.0,0.0,0.0,0.0,1.0,11.0,610.0,0.0,0.0,0.0,0.0,0.0,1012.0,0.0,0.0,28.0,9.0,null,0.0,null,0.0,0.0,0.0,2110.0,0.0,0.0,0.0,1126.0,0.0,0.0,1180.0,4585.0,1056.0,0.0,0.0,0.0,0.0,1436.0,0.0,0.0,3095.0,0.0,0.0,0.0,0.0,0.0,0.0,0.0,0.0,0.0,0.0,699.0,0.0,0.0,1073.0,0.0,0.0,0.0,20.0,0.0,791.0,10.0,0.0,0.0,0.0,103.0,784.0,null,53.0,0.0,0.0,1.0,86.0,0.0,0.0,32.0,0.0,0.0,0.0,0.0,10.0,2.0,0.0,0.0,0.0,479.0,0.0,0.0,0.0,0.0,0.0,0.0,0.0,null,0.0,2624.0,null,0.0,783.0,0.0,0.0,0.0,0.0,0.0,126.0,0.0,0.0,1027.0,4654.0,9.0,4929.0,1174.0,0.0,176.0,0.0,0.0,0.0,0.0,0.0,0.0,809.0,90.0,1.0,779.0,0.0,0.0,168.0,0.0,46.0,0.0,0.0,0.0,0.0,709.0,0.0,0.0,0.0,0.0,0.0,0.0,0.0,0.0,0.0,0.0,0.0,0.0,0.0,1.0,0.0,0.0,298.0,0.0,293.0,0.0,0.0,0.0,0.0,3.0,0.0,1674.0,2.0,null,2680.0,0.0,0.0,254.0,0.0,0.0,0.0,0.0,0.0,0.0,3103.0,0.0,0.0,0.0,296.0,3.0,0.0,5329.0,0.0,9.0,0.0,1049.0,0.0,1409.0,8943.0,0.0,null,175.0,0.0,0.0,0.0,0.0,0.0,0.0,2225.0,0.0,564.0,152.0,0.0,0.0,0.0,0.0,0.0,190.0,878.0,null,316.0,0.0,0.0,0.0,85.0,0.0,1234.0,0.0,68.0,4089.0,4742.0,509.0,0.0,0.0,0.0,541.0,20.0,0.0,0.0,0.0,32.0,0.0,0.0,0.0,0.0,0.0,0.0,0.0,0.0,242.0,0.0,0.0,0.0,0.0,584.0,11441.0,0.0,0.0,0.0,0.0,0.0,0.0,0.0,13342.0,0.0,973.0,0.0,2108.0,641.0,0.0,0.0,0.0,0.0,0.0,509.0,0.0,0.0,0.0,0.0,null,0.0,null,38.0,0.0,0.0,131.0,8.0,169.0,0.0,10.0,3729.0,2199.0,3200.0,0.0,5.0,0.0,0.0,0.0,959.0,0.0,511.0,336.0,0.0,0.0,0.0,0.0,0.0,0.0,0.0,243.0,3.0,0.0,106.0,1677.0,618.0,0.0,0.0,0.0,0.0,0.0,20.0,0.0,0.0,0.0,0.0,0.0,0.0,0.0,40.0,0.0,652.0,0.0,1420.0,480.0,0.0,52.0,0.0,0.0,0.0,577.0,0.0,0.0,0.0,0.0,0.0,0.0,0.0,0.0,56.0,0.0,0.0,222.0,0.0,0.0,0.0,1.0,0.0,0.0,0.0,0.0,0.0,0.0,0.0,0.0,10.0,0.0,0.0,0.0,0.0,0.0,0.0,0.0,0.0,0.0,0.0,596.0,0.0,null,854.0,0.0,0.0,7.0,0.0,3818.0,3.0,728.0,0.0,0.0,602.0,0.0,1.0,2.0,0.0,0.0,0.0,0.0,0.0,614.0,0.0,0.0,0.0,0.0,0.0,44.0,311.0,0.0,14.0,0.0,239.0,0.0,0.0,213.0,0.0,0.0,1663.0,0.0,0.0,889.0,6924.0,1972.0,0.0,0.0,5.0,0.0,31.0,0.0,1.0,0.0,0.0,6.0,6.0,0.0,0.0,0.0,0.0,3527.0,0.0,22.0,6244.0,0.0,4.0,0.0,0.0,20.0,0.0,0.0,0.0,0.0,0.0,76.0,0.0,0.0,819.0,671.0,717.0,4616.0,1362.0,0.0,0.0,1035.0,0.0,0.0,564.0,0.0,0.0,0.0,201.0,0.0,0.0,4900.0,0.0,0.0,0.0,123.0,1.0,0.0,0.0,null,null,null,0.0,4.0,896.0,335.0,0.0,0.0,605.0,1538.0,100.0,2606.0,0.0,1809.0,125.0,0.0,0.0,13561.0,600.0,0.0,67.0,666.0,0.0,780.0,0.0,null,0.0,267.0,0.0,0.0,0.0,0.0,0.0,0.0,0.0,90.0,0.0,0.0,1.0,4514.0,115.0,0.0,0.0,0.0,0.0,0.0,0.0,854.0,0.0,0.0,1044.0,1891.0,0.0,0.0,0.0,1339.0,313.0,0.0,0.0,0.0,0.0,0.0,0.0,6.0,0.0,0.0,3.0,0.0,0.0,69.0,0.0,0.0,0.0,0.0,0.0,0.0,0.0,0.0,0.0,0.0,25.0,0.0,0.0,0.0,1337.0,0.0,2504.0,0.0,0.0,65.0,0.0,35.0,0.0,0.0,0.0,0.0,0.0,71.0,0.0,0.0,841.0,0.0,0.0,0.0,4.0,24.0,0.0,0.0,361.0,833.0,0.0,218.0,null,370.0,202.0,0.0,0.0,0.0,1.0,321.0,0.0,0.0,0.0,0.0,0.0,0.0,0.0,526.0,0.0,0.0,0.0,0.0,280.0,0.0,238.0,0.0,0.0,0.0,0.0,0.0,0.0,33.0,0.0,0.0,0.0,390.0,74.0,316.0,371.0,0.0,15.0,6.0,2.0,2699.0,0.0,0.0,0.0,0.0,714.0,1190.0,0.0,2.0,0.0,16.0,0.0,null,756.0,0.0,0.0,0.0,0.0,0.0,29.0,0.0,13.0,95.0,0.0,0.0,0.0,0.0,4209.0,0.0,0.0,0.0,0.0,600.0,0.0,0.0,0.0,704.0,97.0,60.0,0.0,0.0,0.0,0.0,0.0,0.0,0.0,0.0,0.0,0.0,0.0,758.0,7920.0,0.0,0.0,0.0,0.0,30.0,0.0,0.0,366.0,173.0,0.0,0.0,4.0,0.0,0.0,0.0,38.0,736.0,0.0,0.0,0.0,0.0,0.0,0.0,0.0,7293.0,516.0,996.0,583.0,null,0.0,11.0,0.0,0.0,0.0,19.0,6.0,0.0,0.0,0.0,0.0,0.0,0.0,54.0,2667.0,0.0,1208.0,532.0,0.0,0.0,0.0,69.0,1.0,0.0,0.0,0.0,0.0,449.0,0.0,0.0,0.0,0.0,0.0,0.0,0.0,0.0,0.0,null,0.0,0.0,0.0,138.0,0.0,46.0,752.0,1604.0,4.0,0.0,0.0,0.0,60.0,0.0,0.0,0.0,0.0,0.0,10.0,0.0,0.0,2878.0,0.0,17958.0,7570.0,18.0,0.0,1.0,1049.0,0.0,0.0,0.0,0.0,0.0,0.0,0.0,326.0,0.0,0.0,669.0,0.0,0.0,0.0,0.0,4612.0,0.0,0.0,0.0,3786.0,0.0,0.0,0.0,974.0,0.0,1428.0,741.0,0.0,3.0,4389.0,13.0,0.0,0.0,960.0,0.0,0.0,120.0,0.0,0.0,0.0,0.0,0.0,10.0,1914.0,0.0,6101.0,14076.0,0.0,89.0,0.0,0.0,17.0,0.0,0.0,0.0,0.0,776.0,0.0,0.0,0.0,0.0,0.0,0.0,0.0,0.0,0.0,0.0,0.0,0.0,0.0,1757.0,12.0,0.0,0.0,2898.0,0.0,0.0,47.0,2080.0,0.0,0.0,57.0,71.0,0.0,9965.0,114.0,null,1.0,230.0,0.0,0.0,0.0,0.0,4173.0,160.0,0.0,15.0,null,0.0,806.0,893.0,6.0,0.0,0.0,0.0,0.0,0.0,0.0,243.0,0.0,1307.0,4340.0,22.0,692.0,0.0,0.0,0.0,0.0,0.0,275.0,58.0,442.0,0.0,0.0,0.0,0.0,0.0,0.0,1.0,17.0,0.0,2897.0,996.0,7.0,195.0,6.0,0.0,0.0,3512.0,0.0,0.0,0.0,0.0,0.0,750.0,0.0,0.0,5552.0,664.0,0.0,1678.0,266.0,0.0,null,0.0,0.0,0.0,176.0,0.0,0.0,0.0,0.0,null,0.0,0.0,0.0,0.0,0.0,0.0,9.0,0.0,999.0,0.0,0.0,4.0,2093.0,878.0,0.0,0.0,null,1666.0,13.0,0.0,125.0,0.0,0.0,2.0,2.0,0.0,0.0,null,0.0,0.0,722.0,0.0,47.0,0.0,0.0,158.0,1.0,0.0,0.0,0.0,0.0,742.0,2487.0,610.0,0.0,397.0,0.0,2478.0,0.0,0.0,14.0,0.0,44.0,3124.0,1863.0,16.0,0.0,null,22.0,4387.0,6.0,0.0,7683.0,3.0,0.0,0.0,1.0,489.0,0.0,0.0,1381.0,479.0,0.0,0.0,0.0,0.0,4155.0,0.0,4462.0,4322.0,2612.0,0.0,0.0,0.0,134.0,10.0,0.0,0.0,0.0,0.0,0.0,287.0,0.0,0.0,0.0,0.0,0.0,0.0,0.0,0.0,0.0,0.0,0.0,0.0,0.0,3624.0,21.0,0.0,0.0,3676.0,11.0,0.0,0.0,0.0,0.0,0.0,6050.0,3590.0,12.0,2251.0,338.0,0.0,283.0,688.0,0.0,1369.0,0.0,0.0,0.0,2896.0,0.0,0.0,0.0,0.0,0.0,0.0,129.0,1942.0,0.0,3434.0,38.0,194.0,0.0,1319.0,0.0,0.0,479.0,0.0,0.0,0.0,0.0,0.0,0.0,0.0,0.0,0.0,2921.0,0.0,163.0,316.0,0.0,1379.0,0.0,0.0,1.0,0.0,980.0,0.0,34.0,1606.0,0.0,0.0,0.0,0.0,0.0,0.0,0.0,1.0,0.0,716.0,0.0,896.0,0.0,606.0,0.0,1.0,1390.0,194.0,0.0,0.0,0.0,0.0,0.0,0.0,201.0,0.0,582.0,642.0,0.0,188.0,0.0,0.0,0.0,647.0,0.0,1314.0,0.0,0.0,0.0,1186.0,3585.0,0.0,0.0,0.0,0.0,0.0,0.0,0.0,33.0,0.0,0.0,0.0,102.0,5.0,0.0,949.0,398.0,0.0,0.0,null,0.0,0.0,2886.0,0.0,0.0,22.0,63.0,0.0,0.0,0.0,0.0,0.0,115.0,0.0,2107.0,307.0,0.0,185.0,0.0,0.0,0.0,435.0,null,0.0,3435.0,0.0,1386.0,0.0,0.0,0.0,434.0,0.0,0.0,0.0,802.0,0.0,0.0,0.0,70.0,0.0,147.0,null,0.0,0.0,0.0,0.0,3508.0,0.0,0.0,0.0,0.0,0.0,653.0,0.0,0.0,5974.0,486.0,3392.0,0.0,0.0,271.0,0.0,0.0,1417.0,0.0,79.0,1089.0,78.0,null,804.0,0.0,10049.0,0.0,875.0,61.0,0.0,0.0,0.0,0.0,132.0,0.0,3.0,2954.0,0.0,0.0,0.0,0.0,0.0,0.0,279.0,0.0,0.0,0.0,0.0,672.0,0.0,0.0,321.0,0.0,0.0,3387.0,0.0,0.0,1616.0,0.0,0.0,0.0,397.0,0.0,0.0,0.0,0.0,0.0,0.0,0.0,0.0,5711.0,0.0,0.0,0.0,1435.0,2285.0,184.0,282.0,0.0,0.0,0.0,0.0,794.0,36.0,2383.0,0.0,0.0,0.0,132.0,7.0,0.0,5974.0,0.0,11396.0,2.0,0.0,0.0,0.0,0.0,789.0,0.0,0.0,564.0,4.0,0.0,598.0,779.0,0.0,0.0,0.0,3.0,0.0,700.0,257.0,0.0,0.0,0.0,0.0,0.0,1377.0,0.0,732.0,0.0,0.0,0.0,0.0,0.0,2.0,0.0,2864.0,2669.0,53.0,0.0,0.0,0.0,19.0,0.0,652.0,24.0,0.0,0.0,182.0,0.0,7272.0,0.0,772.0,0.0,0.0,0.0,0.0,0.0,0.0,0.0,0.0,2237.0,530.0,130.0,0.0,7.0,0.0,355.0,0.0,0.0,1000.0,0.0,18.0,2674.0,0.0,1130.0,0.0,714.0,0.0,0.0,7.0,0.0,0.0,0.0,204.0,552.0,0.0,0.0,136.0,0.0,0.0,21.0,0.0,0.0,725.0,21.0,0.0,0.0,0.0,0.0,0.0,0.0,16.0,5036.0,0.0,3.0,172.0,1125.0,0.0,0.0,0.0,0.0,0.0,0.0,33.0,1489.0,0.0,0.0,16016.0,26.0,4224.0,7.0,0.0,0.0,0.0,0.0,12.0,0.0,0.0,0.0,0.0,0.0,0.0,0.0,0.0,636.0,0.0,7.0,0.0,0.0,0.0,null,0.0,6.0,0.0,817.0,5450.0,0.0,0.0,96.0,0.0,0.0,48.0,2979.0,0.0,0.0,0.0,0.0,0.0,0.0,0.0,0.0,140.0,0.0,0.0,0.0,null,4.0,103.0,0.0,null,1769.0,82.0,4298.0,0.0,28.0,5.0,0.0,0.0,0.0,0.0,0.0,0.0,319.0,0.0,9.0,0.0,0.0,0.0,0.0,48.0,0.0,769.0,0.0,0.0,243.0,4534.0,0.0,0.0,31.0,1451.0,395.0,0.0,56.0,0.0,0.0,0.0,2670.0,0.0,0.0,8948.0,494.0,0.0,0.0,0.0,0.0,0.0,268.0,499.0,124.0,0.0,null,0.0,16.0,489.0,412.0,0.0,33.0,0.0,53.0,73.0,180.0,0.0,0.0,0.0,0.0,1541.0,0.0,0.0,368.0,0.0,0.0,0.0,261.0,0.0,303.0,0.0,2337.0,634.0,0.0,0.0,0.0,688.0,79.0,0.0,0.0,0.0,0.0,55.0,605.0,925.0,0.0,0.0,3.0,76.0,0.0,0.0,0.0,0.0,null,0.0,0.0,36.0,3424.0,3299.0,967.0,0.0,0.0,0.0,0.0,0.0,25.0,0.0,0.0,0.0,0.0,9.0,0.0,0.0,63.0,0.0,0.0,6.0,773.0,0.0,0.0,0.0,0.0,11.0,60.0,0.0,0.0,516.0,443.0,0.0,0.0,0.0,16856.0,0.0,0.0,0.0,0.0,0.0,124.0,0.0,0.0,0.0,156.0,721.0,0.0,1738.0,0.0,478.0,null,0.0,0.0,0.0,2.0,0.0,11.0,0.0,0.0,268.0,0.0,0.0,0.0,1.0,0.0,68.0,9.0,0.0,0.0,0.0,0.0,0.0,0.0,0.0,0.0,700.0,0.0,0.0,8.0,87.0,0.0,1283.0,0.0,0.0,637.0,0.0,0.0,80.0,0.0,0.0,0.0,0.0,0.0,79.0,57.0,0.0,910.0,0.0,0.0,0.0,0.0,0.0,9532.0,0.0,593.0,0.0,116.0,0.0,6504.0,804.0,0.0,0.0,0.0,1.0,14.0,1620.0,0.0,0.0,0.0,0.0,0.0,0.0,0.0,0.0,0.0,7.0,360.0,0.0,0.0,3492.0,0.0,246.0,0.0,2318.0,36.0,0.0,174.0,0.0,0.0,0.0,0.0,0.0,0.0,0.0,0.0,0.0,45.0,0.0,0.0,0.0,0.0,0.0,0.0,0.0,0.0,334.0,0.0,0.0,0.0,0.0,0.0,15.0,0.0,0.0,1145.0,0.0,0.0,2593.0,0.0,0.0,0.0,0.0,0.0,244.0,0.0,10.0,0.0,0.0,79.0,0.0,4545.0,0.0,0.0,0.0,0.0,0.0,225.0,0.0,0.0,0.0,0.0,0.0,0.0,2.0,0.0,350.0,0.0,476.0,0.0,0.0,0.0,17901.0,1408.0,392.0,0.0,0.0,21.0,34.0,0.0,0.0,0.0,0.0,1.0,0.0,0.0,793.0,9012.0,0.0,0.0,2.0,38.0,259.0,0.0,25.0,0.0,0.0,0.0,0.0,0.0,52.0,0.0,0.0,0.0,5500.0,0.0,2060.0,0.0,122.0,0.0,0.0,15450.0,0.0,0.0,134.0,745.0,3.0,0.0,3518.0,0.0,0.0,0.0,7.0,4655.0,null,3216.0,7316.0,0.0,269.0,2311.0,null,11598.0,0.0,0.0,0.0,0.0,43.0,605.0,4.0,0.0,0.0,0.0,0.0,809.0,0.0,0.0,0.0,1119.0,279.0,4260.0,0.0,226.0,218.0,13.0,0.0,903.0,0.0,0.0,0.0,925.0,13.0,1620.0,0.0,0.0,0.0,0.0,0.0,0.0,0.0,5998.0,297.0,0.0,780.0,0.0,0.0,17.0,0.0,3680.0,3317.0,0.0,142.0,0.0,5.0,0.0,508.0,0.0,0.0,0.0,0.0,0.0,0.0,29.0,0.0,0.0,0.0,0.0,0.0,0.0,0.0,0.0,28.0,314.0,918.0,11.0,0.0,723.0,889.0,0.0,0.0,0.0,858.0,0.0,0.0,0.0,3771.0,0.0,8252.0,null,0.0,220.0,0.0,0.0,0.0,0.0,747.0,0.0,0.0,2.0,0.0,0.0,0.0,0.0,null,0.0,0.0,3603.0,8151.0,0.0,395.0,0.0,1003.0,157.0,0.0,0.0,0.0,510.0,0.0,0.0,0.0,2.0,0.0,0.0,4.0,0.0,0.0,5157.0,0.0,109.0,1255.0,0.0,0.0,0.0,0.0,0.0,1186.0,0.0,819.0,0.0,666.0,0.0,0.0,21.0,0.0,16.0,0.0,0.0,2.0,44.0,0.0,2984.0,0.0,0.0,0.0,null,0.0,0.0,0.0,1.0,0.0,0.0,4.0,0.0,0.0,0.0,0.0,0.0,0.0,0.0,0.0,0.0,3.0,1144.0,2633.0,0.0,0.0,null,0.0,0.0,0.0,0.0,0.0,4334.0,0.0,1.0,0.0,0.0,0.0,0.0,0.0,0.0,0.0,0.0,0.0,0.0,0.0,null,5063.0,0.0,0.0,0.0,0.0,0.0,0.0,1337.0,0.0,0.0,0.0,640.0,2949.0,177.0,4.0,83.0,0.0,0.0,0.0,0.0,0.0,0.0,0.0,49.0,0.0,465.0,0.0,0.0,0.0,0.0,0.0,0.0,0.0,0.0,0.0,0.0,0.0,0.0,0.0,261.0,3716.0,0.0,null,0.0,2215.0,169.0,0.0,434.0,0.0,0.0,23.0,null,0.0,0.0,0.0,0.0,null,680.0,1673.0,690.0,0.0,0.0,0.0,0.0,0.0,0.0,0.0,64.0,0.0,22.0,0.0,2.0,0.0,0.0,0.0,14.0,0.0,0.0,0.0,0.0,7269.0,0.0,0.0,0.0,0.0,0.0,839.0,0.0,0.0,1283.0,0.0,0.0,669.0,146.0,1365.0,13.0,104.0,0.0,0.0,0.0,0.0,0.0,0.0,0.0,179.0,1290.0,0.0,302.0,3137.0,171.0,0.0,0.0,0.0,168.0,0.0,4.0,30.0,0.0,0.0,0.0,0.0,0.0,4680.0,0.0,608.0,0.0,0.0,0.0,158.0,1570.0,0.0,0.0,2154.0,3070.0,0.0,0.0,831.0,0.0,0.0,1055.0,0.0,0.0,0.0,4301.0,0.0,0.0,0.0,2423.0,5610.0,0.0,21.0,640.0,0.0,0.0,0.0,5.0,0.0,0.0,0.0,280.0,1828.0,0.0,53.0,2808.0,4887.0,0.0,1.0,0.0,0.0,847.0,0.0,0.0,0.0,0.0,null,0.0,0.0,62.0,0.0,0.0,4754.0,322.0,1787.0,917.0,529.0,0.0,0.0,0.0,0.0,0.0,0.0,0.0,0.0,28.0,717.0,28.0,0.0,0.0,null,3033.0,0.0,0.0,0.0,210.0,101.0,0.0,0.0,0.0,29.0,0.0,950.0,5.0,0.0,161.0,0.0,106.0,0.0,847.0,0.0,0.0,0.0,1878.0,3978.0,0.0,0.0,952.0,0.0,0.0,0.0,0.0,214.0,3636.0,0.0,0.0,739.0,4.0,0.0,0.0,0.0,0.0,0.0,0.0,0.0,3.0,0.0,0.0,0.0,164.0,0.0,0.0,0.0,728.0,1406.0,3.0,0.0,0.0,0.0,0.0,0.0,0.0,71.0,145.0,0.0,1028.0,0.0,0.0,0.0,0.0,82.0,0.0,0.0,226.0,0.0,0.0,221.0,0.0,2202.0,0.0,0.0,644.0,9.0,0.0,3.0,0.0,0.0,0.0,0.0,1475.0,694.0,0.0,268.0,35.0,731.0,0.0,0.0,0.0,18.0,0.0,0.0,33.0,0.0,0.0,0.0,0.0,0.0,1.0,0.0,0.0,0.0,0.0,2207.0,0.0,0.0,0.0,0.0,4.0,0.0,0.0,0.0,26.0,0.0,1285.0,0.0,1108.0,0.0,0.0,0.0,4455.0,1298.0,0.0,0.0,1.0,0.0,556.0,0.0,4791.0,0.0,0.0,0.0,0.0,16.0,0.0,0.0,0.0,0.0,0.0,764.0,155.0,0.0,0.0,0.0,971.0,499.0,0.0,0.0,6.0,1.0,0.0,null,0.0,0.0,0.0,0.0,0.0,0.0,0.0,0.0,7.0,0.0,0.0,0.0,0.0,0.0,98.0,227.0,0.0,0.0,0.0,9.0,3076.0,1821.0,0.0,247.0,0.0,0.0,0.0,1163.0,0.0,500.0,0.0,0.0,23.0,0.0,0.0,3.0,592.0,2639.0,7759.0,251.0,226.0,0.0,0.0,0.0,2.0,0.0,3853.0,44.0,16.0,0.0,83.0,753.0,0.0,0.0,0.0,9.0,0.0,null,0.0,1484.0,0.0,0.0,0.0,180.0,0.0,0.0,0.0,0.0,0.0,14.0,0.0,912.0,0.0,810.0,805.0,0.0,1127.0,0.0,0.0,0.0,null,114.0,91.0,0.0,0.0,0.0,0.0,0.0,0.0,0.0,0.0,565.0,4978.0,571.0,0.0,0.0,144.0,0.0,0.0,0.0,1427.0,748.0,0.0,3.0,0.0,0.0,557.0,0.0,0.0,0.0,0.0,2532.0,0.0,0.0,0.0,0.0,0.0,0.0,0.0,0.0,0.0,1770.0,10.0,0.0,0.0,0.0,454.0,145.0,0.0,0.0,0.0,4485.0,310.0,229.0,0.0,6.0,0.0,0.0,0.0,0.0,0.0,0.0,0.0,0.0,181.0,433.0,0.0,2910.0,927.0,0.0,0.0,1204.0,0.0,0.0,0.0,0.0,484.0,3488.0,0.0,0.0,0.0,0.0,0.0,0.0,0.0,2583.0,3126.0,2191.0,0.0,0.0,0.0,784.0,0.0,10.0,0.0,0.0,798.0,0.0,116.0,0.0,0.0,0.0,71.0,0.0,0.0,0.0,0.0,0.0,1.0,0.0,0.0,0.0,0.0,0.0,0.0,1332.0,16.0,0.0,0.0,0.0,0.0,659.0,0.0,1739.0,0.0,0.0,0.0,2.0,0.0,3.0,1.0,2481.0,70.0,0.0,0.0,null,0.0,471.0,0.0,0.0,0.0,0.0,0.0,0.0,445.0,0.0,0.0,3423.0,0.0,0.0,170.0,1632.0,32.0,0.0,13.0,4715.0,0.0,1524.0,0.0,0.0,0.0,1.0,0.0,29.0,0.0,0.0,0.0,0.0,0.0,0.0,6.0,0.0,null,0.0,0.0,2.0,822.0,0.0,846.0,3751.0,null,0.0,236.0,null,0.0,0.0,0.0,7.0,924.0,509.0,0.0,810.0,17.0,0.0,0.0,0.0,0.0,0.0,1028.0,0.0,1487.0,0.0,366.0,0.0,0.0,3707.0,4.0,8.0,41.0,null,0.0,0.0,1.0,0.0,20.0,167.0,0.0,0.0,0.0,173.0,0.0,0.0,0.0,338.0,0.0,108.0,0.0,0.0,0.0,1320.0,554.0,0.0,0.0,0.0,0.0,1.0,0.0,0.0,676.0,0.0,43.0,0.0,0.0,0.0,0.0,0.0,984.0,null,1876.0,4.0,0.0,3.0,0.0,0.0,5436.0,0.0,0.0,265.0,0.0,0.0,17.0,0.0,3479.0,0.0,0.0,8.0,6.0,19.0,9.0,1605.0,0.0,0.0,0.0,4313.0,12563.0,0.0,0.0,0.0,10.0,838.0,0.0,0.0,468.0,0.0,0.0,0.0,0.0,10.0,0.0,100.0,0.0,2.0,0.0,0.0,0.0,0.0,0.0,0.0,586.0,0.0,0.0,0.0,0.0,2113.0,495.0,0.0,0.0,0.0,704.0,0.0,796.0,475.0,0.0,2449.0,0.0,0.0,0.0,0.0,7.0,0.0,0.0,0.0,0.0,0.0,null,1501.0,1585.0,0.0,12.0,0.0,0.0,0.0,0.0,0.0,749.0,371.0,0.0,1.0,0.0,1961.0,0.0,1.0,16.0,0.0,0.0,1376.0,32.0,0.0,0.0,165.0,702.0,0.0,0.0,0.0,36.0,0.0,0.0,0.0,0.0,281.0,0.0,0.0,0.0,522.0,0.0,0.0,0.0,0.0,0.0,0.0,0.0,0.0,1.0,2.0,0.0,14773.0,0.0,2318.0,403.0,25.0,688.0,670.0,10073.0,537.0,584.0,0.0,194.0,0.0,0.0,0.0,4.0,5.0,7.0,94.0,0.0,0.0,41.0,0.0,599.0,0.0,4017.0,909.0,0.0,0.0,1674.0,104.0,794.0,0.0,7964.0,4634.0,null,0.0,816.0,77.0,0.0,0.0,0.0,0.0,0.0,40.0,8.0,90.0,679.0,0.0,0.0,0.0,45.0,0.0,0.0,0.0,0.0,639.0,197.0,0.0,0.0,0.0,0.0,0.0,0.0,5600.0,0.0,0.0,0.0,0.0,1.0,752.0,0.0,0.0,0.0,696.0,0.0,0.0,0.0,1208.0,2972.0,0.0,8160.0,0.0,0.0,0.0,0.0,0.0,1015.0,0.0,0.0,0.0,0.0,0.0,0.0,242.0,3.0,0.0,0.0,1146.0,3208.0,6819.0,0.0,0.0,1049.0,4688.0],\"type\":\"box\"},{\"name\":\"ShoppingMall\",\"y\":[0.0,25.0,0.0,371.0,151.0,0.0,3.0,0.0,17.0,0.0,null,589.0,1123.0,65.0,12.0,876.0,null,0.0,0.0,0.0,1.0,0.0,0.0,null,0.0,0.0,0.0,69.0,null,0.0,0.0,136.0,81.0,1411.0,0.0,1750.0,0.0,0.0,48.0,0.0,null,0.0,45.0,0.0,0.0,0.0,180.0,0.0,0.0,0.0,2.0,1938.0,0.0,0.0,3374.0,0.0,148.0,0.0,0.0,null,197.0,0.0,446.0,0.0,2.0,9.0,5.0,0.0,0.0,738.0,0.0,1018.0,1295.0,0.0,0.0,0.0,0.0,0.0,0.0,0.0,0.0,0.0,0.0,0.0,31.0,670.0,null,0.0,0.0,5.0,957.0,526.0,0.0,0.0,0.0,0.0,0.0,0.0,570.0,17.0,0.0,326.0,0.0,6.0,0.0,0.0,0.0,0.0,87.0,804.0,429.0,0.0,0.0,0.0,0.0,0.0,0.0,49.0,0.0,296.0,9.0,0.0,null,0.0,0.0,730.0,126.0,0.0,0.0,0.0,0.0,0.0,97.0,210.0,0.0,0.0,10.0,0.0,0.0,0.0,0.0,0.0,0.0,0.0,0.0,0.0,0.0,48.0,0.0,0.0,0.0,0.0,0.0,16.0,1.0,161.0,673.0,0.0,0.0,3.0,0.0,426.0,0.0,0.0,401.0,0.0,0.0,0.0,10.0,0.0,8.0,0.0,867.0,719.0,0.0,0.0,0.0,0.0,0.0,0.0,0.0,null,0.0,66.0,12.0,0.0,null,137.0,0.0,307.0,0.0,0.0,0.0,0.0,0.0,0.0,0.0,0.0,0.0,null,0.0,0.0,0.0,119.0,1.0,188.0,0.0,301.0,221.0,0.0,0.0,0.0,0.0,665.0,5.0,0.0,0.0,1.0,0.0,256.0,0.0,0.0,0.0,0.0,0.0,691.0,0.0,0.0,0.0,0.0,796.0,287.0,0.0,0.0,0.0,541.0,0.0,408.0,0.0,null,0.0,313.0,0.0,0.0,0.0,0.0,0.0,592.0,128.0,0.0,0.0,0.0,0.0,2078.0,0.0,0.0,1.0,0.0,0.0,29.0,0.0,32.0,0.0,0.0,0.0,0.0,0.0,0.0,88.0,0.0,1324.0,0.0,0.0,15.0,0.0,0.0,0.0,259.0,1359.0,157.0,0.0,1.0,null,0.0,0.0,74.0,0.0,null,0.0,0.0,3.0,209.0,0.0,0.0,0.0,784.0,0.0,0.0,0.0,251.0,0.0,211.0,16.0,0.0,634.0,0.0,null,0.0,0.0,0.0,0.0,0.0,1434.0,202.0,1865.0,0.0,2975.0,0.0,0.0,0.0,0.0,0.0,453.0,33.0,0.0,0.0,4447.0,0.0,592.0,0.0,0.0,0.0,0.0,558.0,786.0,0.0,4.0,0.0,7.0,0.0,0.0,6.0,0.0,591.0,0.0,0.0,null,0.0,0.0,0.0,0.0,881.0,0.0,0.0,0.0,356.0,0.0,0.0,552.0,0.0,0.0,0.0,36.0,0.0,0.0,0.0,0.0,0.0,0.0,0.0,0.0,52.0,1116.0,0.0,101.0,5952.0,0.0,0.0,0.0,0.0,0.0,0.0,26.0,0.0,0.0,7185.0,0.0,0.0,0.0,0.0,0.0,0.0,0.0,0.0,0.0,0.0,0.0,0.0,22.0,840.0,0.0,45.0,0.0,0.0,102.0,136.0,0.0,0.0,0.0,795.0,0.0,0.0,0.0,0.0,0.0,0.0,0.0,0.0,0.0,0.0,188.0,747.0,0.0,0.0,0.0,0.0,0.0,0.0,182.0,0.0,0.0,257.0,81.0,0.0,22.0,863.0,0.0,0.0,0.0,2.0,0.0,544.0,0.0,38.0,145.0,0.0,0.0,0.0,23.0,0.0,0.0,0.0,0.0,12.0,null,0.0,0.0,0.0,0.0,0.0,1749.0,967.0,817.0,0.0,47.0,16.0,0.0,0.0,0.0,11.0,0.0,0.0,0.0,0.0,0.0,0.0,0.0,0.0,0.0,41.0,1.0,0.0,0.0,0.0,0.0,750.0,1733.0,0.0,3.0,0.0,0.0,0.0,0.0,0.0,384.0,29.0,316.0,0.0,0.0,null,0.0,0.0,0.0,479.0,0.0,0.0,0.0,0.0,838.0,831.0,704.0,0.0,0.0,0.0,266.0,0.0,0.0,0.0,0.0,1.0,0.0,580.0,0.0,0.0,74.0,332.0,402.0,0.0,0.0,2.0,612.0,0.0,0.0,0.0,0.0,310.0,1.0,0.0,0.0,0.0,0.0,0.0,0.0,0.0,21.0,25.0,0.0,625.0,521.0,37.0,0.0,0.0,601.0,0.0,0.0,0.0,0.0,0.0,0.0,1092.0,0.0,616.0,0.0,551.0,0.0,0.0,182.0,0.0,0.0,2155.0,0.0,0.0,null,0.0,0.0,46.0,0.0,826.0,0.0,0.0,0.0,12.0,10.0,19.0,118.0,0.0,null,229.0,0.0,0.0,0.0,0.0,0.0,0.0,908.0,0.0,0.0,0.0,0.0,18.0,0.0,0.0,0.0,0.0,0.0,0.0,50.0,0.0,7.0,0.0,0.0,956.0,0.0,0.0,82.0,0.0,0.0,0.0,141.0,0.0,0.0,0.0,0.0,0.0,1087.0,0.0,0.0,708.0,0.0,0.0,736.0,1.0,0.0,0.0,0.0,16.0,0.0,7104.0,2.0,87.0,2.0,0.0,38.0,0.0,0.0,0.0,0.0,0.0,0.0,0.0,0.0,252.0,0.0,0.0,0.0,4.0,0.0,null,9.0,97.0,0.0,0.0,783.0,1952.0,0.0,0.0,0.0,226.0,689.0,0.0,301.0,0.0,4.0,0.0,0.0,722.0,null,0.0,0.0,null,0.0,170.0,0.0,0.0,0.0,0.0,null,0.0,0.0,0.0,0.0,0.0,4.0,0.0,0.0,0.0,1.0,2.0,0.0,2.0,88.0,322.0,484.0,0.0,0.0,0.0,0.0,0.0,0.0,0.0,0.0,0.0,4.0,0.0,0.0,0.0,0.0,null,5.0,0.0,0.0,0.0,55.0,121.0,679.0,0.0,0.0,0.0,0.0,0.0,0.0,0.0,0.0,0.0,0.0,325.0,0.0,0.0,0.0,0.0,1399.0,0.0,0.0,0.0,0.0,0.0,2.0,0.0,0.0,0.0,4.0,870.0,0.0,null,0.0,0.0,0.0,0.0,0.0,0.0,0.0,0.0,5.0,0.0,100.0,32.0,0.0,701.0,0.0,1.0,51.0,0.0,0.0,0.0,0.0,0.0,30.0,0.0,0.0,0.0,0.0,714.0,0.0,10.0,0.0,739.0,343.0,0.0,0.0,22.0,null,2695.0,0.0,0.0,0.0,9.0,71.0,0.0,0.0,0.0,0.0,0.0,0.0,0.0,0.0,0.0,19.0,0.0,0.0,320.0,0.0,0.0,0.0,0.0,0.0,18.0,0.0,444.0,0.0,0.0,32.0,540.0,0.0,46.0,0.0,3.0,0.0,0.0,10.0,0.0,0.0,0.0,0.0,338.0,0.0,0.0,716.0,0.0,2552.0,0.0,0.0,0.0,421.0,469.0,7.0,null,0.0,null,543.0,0.0,0.0,0.0,10.0,93.0,0.0,0.0,0.0,0.0,0.0,984.0,1626.0,0.0,0.0,0.0,234.0,699.0,0.0,0.0,0.0,115.0,0.0,0.0,0.0,0.0,0.0,871.0,0.0,0.0,0.0,0.0,555.0,831.0,0.0,0.0,0.0,0.0,0.0,1383.0,3.0,0.0,0.0,0.0,null,8.0,0.0,0.0,834.0,0.0,0.0,0.0,0.0,0.0,323.0,448.0,0.0,8.0,0.0,0.0,4.0,0.0,13.0,718.0,490.0,0.0,0.0,0.0,0.0,0.0,null,35.0,906.0,0.0,0.0,46.0,0.0,0.0,0.0,17.0,0.0,0.0,0.0,0.0,0.0,98.0,0.0,880.0,0.0,32.0,0.0,0.0,715.0,0.0,0.0,4.0,0.0,0.0,0.0,0.0,0.0,49.0,0.0,0.0,0.0,0.0,267.0,122.0,0.0,0.0,0.0,0.0,0.0,0.0,0.0,0.0,106.0,0.0,0.0,81.0,null,0.0,0.0,0.0,0.0,0.0,0.0,0.0,1973.0,0.0,84.0,62.0,0.0,1526.0,0.0,7.0,0.0,0.0,612.0,0.0,0.0,81.0,21.0,0.0,828.0,0.0,0.0,0.0,27.0,157.0,48.0,0.0,0.0,0.0,0.0,0.0,0.0,0.0,0.0,0.0,0.0,0.0,133.0,1108.0,60.0,0.0,0.0,0.0,0.0,0.0,0.0,0.0,0.0,0.0,0.0,0.0,0.0,1.0,0.0,18.0,0.0,0.0,0.0,0.0,642.0,298.0,0.0,106.0,99.0,660.0,263.0,756.0,0.0,0.0,0.0,6124.0,0.0,363.0,0.0,0.0,0.0,0.0,0.0,51.0,0.0,0.0,0.0,0.0,0.0,3505.0,0.0,0.0,0.0,0.0,1632.0,0.0,0.0,0.0,0.0,0.0,884.0,3.0,187.0,0.0,0.0,2138.0,0.0,2.0,0.0,null,76.0,0.0,0.0,0.0,0.0,0.0,0.0,1095.0,0.0,0.0,0.0,0.0,0.0,0.0,2.0,0.0,72.0,0.0,0.0,5.0,0.0,0.0,0.0,0.0,926.0,null,12.0,9.0,279.0,12.0,null,0.0,0.0,600.0,0.0,957.0,0.0,3.0,0.0,0.0,0.0,0.0,0.0,654.0,0.0,180.0,0.0,0.0,0.0,464.0,0.0,0.0,0.0,0.0,0.0,3700.0,0.0,752.0,0.0,513.0,6.0,0.0,0.0,0.0,0.0,0.0,0.0,843.0,0.0,0.0,195.0,800.0,0.0,0.0,0.0,0.0,0.0,0.0,0.0,0.0,0.0,60.0,0.0,907.0,863.0,0.0,0.0,0.0,0.0,0.0,1250.0,1061.0,0.0,3301.0,0.0,122.0,0.0,0.0,0.0,11.0,0.0,0.0,0.0,431.0,896.0,0.0,0.0,1.0,289.0,619.0,0.0,0.0,66.0,0.0,0.0,15.0,0.0,0.0,591.0,0.0,0.0,482.0,0.0,0.0,1.0,0.0,16.0,0.0,0.0,0.0,1084.0,0.0,0.0,2.0,4.0,3.0,268.0,null,0.0,0.0,null,0.0,675.0,1.0,4817.0,0.0,0.0,null,0.0,0.0,0.0,1.0,0.0,0.0,0.0,0.0,0.0,0.0,109.0,1.0,0.0,292.0,4.0,0.0,0.0,null,23.0,0.0,0.0,0.0,0.0,0.0,0.0,340.0,0.0,null,260.0,0.0,193.0,1128.0,0.0,561.0,0.0,0.0,0.0,0.0,0.0,5.0,18.0,0.0,0.0,0.0,0.0,126.0,8.0,0.0,0.0,1.0,0.0,340.0,0.0,0.0,0.0,0.0,0.0,0.0,0.0,0.0,0.0,0.0,0.0,23.0,0.0,0.0,946.0,0.0,537.0,550.0,0.0,0.0,0.0,0.0,429.0,0.0,690.0,0.0,0.0,377.0,0.0,0.0,0.0,280.0,0.0,null,0.0,46.0,210.0,212.0,224.0,0.0,0.0,334.0,529.0,0.0,599.0,0.0,null,0.0,28.0,0.0,1013.0,27.0,3.0,0.0,896.0,null,0.0,0.0,2011.0,0.0,0.0,1243.0,0.0,null,243.0,0.0,0.0,0.0,0.0,0.0,0.0,0.0,0.0,0.0,0.0,0.0,0.0,null,1721.0,128.0,2116.0,4.0,0.0,331.0,0.0,0.0,26.0,0.0,228.0,9.0,39.0,0.0,0.0,0.0,0.0,0.0,0.0,0.0,0.0,0.0,10.0,0.0,0.0,0.0,0.0,32.0,0.0,15.0,0.0,0.0,0.0,2119.0,422.0,3.0,2020.0,387.0,0.0,0.0,0.0,73.0,0.0,0.0,0.0,0.0,733.0,0.0,744.0,884.0,0.0,0.0,0.0,0.0,0.0,0.0,0.0,0.0,null,0.0,0.0,0.0,913.0,0.0,0.0,0.0,0.0,0.0,497.0,68.0,615.0,1217.0,683.0,0.0,0.0,58.0,1.0,0.0,0.0,0.0,0.0,13.0,0.0,0.0,0.0,0.0,0.0,38.0,2.0,0.0,0.0,1360.0,0.0,0.0,533.0,0.0,0.0,0.0,0.0,0.0,22.0,0.0,0.0,157.0,0.0,0.0,629.0,661.0,0.0,0.0,0.0,0.0,43.0,0.0,0.0,0.0,45.0,0.0,332.0,0.0,0.0,0.0,0.0,null,0.0,11.0,146.0,82.0,372.0,null,0.0,0.0,8.0,36.0,0.0,0.0,0.0,0.0,0.0,0.0,0.0,2.0,1.0,0.0,1487.0,0.0,0.0,0.0,0.0,0.0,null,0.0,0.0,0.0,0.0,0.0,0.0,0.0,0.0,798.0,0.0,0.0,0.0,0.0,965.0,6.0,null,0.0,19.0,0.0,1.0,41.0,0.0,0.0,62.0,0.0,0.0,0.0,0.0,0.0,0.0,0.0,11.0,0.0,0.0,0.0,0.0,0.0,null,6.0,0.0,66.0,1.0,0.0,0.0,885.0,10.0,0.0,0.0,0.0,0.0,0.0,830.0,0.0,0.0,37.0,218.0,6.0,3.0,0.0,0.0,0.0,0.0,0.0,0.0,0.0,2820.0,6.0,147.0,0.0,881.0,213.0,0.0,0.0,0.0,5.0,0.0,0.0,0.0,0.0,0.0,91.0,0.0,0.0,208.0,0.0,0.0,0.0,88.0,1155.0,0.0,201.0,17.0,0.0,0.0,0.0,0.0,0.0,687.0,516.0,0.0,1.0,1247.0,89.0,24.0,136.0,0.0,646.0,1246.0,0.0,908.0,959.0,49.0,2.0,0.0,0.0,473.0,0.0,0.0,null,5.0,0.0,0.0,0.0,0.0,1061.0,0.0,499.0,0.0,0.0,0.0,0.0,0.0,0.0,19.0,0.0,0.0,10.0,387.0,0.0,0.0,496.0,0.0,0.0,0.0,0.0,0.0,0.0,0.0,0.0,0.0,10.0,17.0,0.0,0.0,0.0,0.0,0.0,0.0,0.0,0.0,124.0,0.0,0.0,0.0,0.0,436.0,49.0,0.0,870.0,809.0,0.0,0.0,0.0,0.0,135.0,0.0,0.0,0.0,0.0,71.0,0.0,0.0,33.0,0.0,0.0,0.0,0.0,0.0,0.0,2.0,0.0,0.0,0.0,0.0,4.0,8.0,2661.0,0.0,0.0,73.0,454.0,0.0,1.0,38.0,0.0,361.0,0.0,496.0,569.0,1.0,3.0,80.0,0.0,21.0,3.0,0.0,0.0,0.0,0.0,1582.0,0.0,0.0,137.0,0.0,0.0,0.0,0.0,null,2.0,0.0,257.0,1.0,0.0,0.0,0.0,864.0,0.0,657.0,0.0,0.0,0.0,0.0,974.0,1081.0,0.0,0.0,0.0,0.0,0.0,0.0,0.0,0.0,0.0,0.0,0.0,0.0,0.0,0.0,26.0,0.0,1789.0,0.0,0.0,72.0,0.0,0.0,176.0,718.0,0.0,22.0,0.0,0.0,0.0,0.0,0.0,158.0,1.0,0.0,0.0,397.0,0.0,0.0,345.0,0.0,0.0,0.0,0.0,34.0,0.0,0.0,0.0,0.0,0.0,0.0,0.0,288.0,0.0,18.0,0.0,0.0,0.0,1.0,107.0,0.0,0.0,0.0,17.0,1508.0,295.0,43.0,1476.0,0.0,328.0,787.0,53.0,0.0,0.0,398.0,0.0,1134.0,5.0,0.0,0.0,0.0,4899.0,0.0,677.0,0.0,94.0,0.0,0.0,0.0,1.0,0.0,0.0,0.0,56.0,0.0,1.0,0.0,null,0.0,0.0,0.0,0.0,0.0,0.0,0.0,0.0,693.0,0.0,0.0,0.0,0.0,139.0,0.0,0.0,0.0,30.0,352.0,0.0,802.0,249.0,0.0,197.0,0.0,1.0,13.0,548.0,20.0,0.0,0.0,0.0,0.0,0.0,0.0,0.0,0.0,0.0,0.0,0.0,0.0,0.0,0.0,0.0,0.0,10.0,0.0,0.0,429.0,1051.0,0.0,730.0,0.0,38.0,503.0,0.0,0.0,0.0,0.0,0.0,634.0,0.0,0.0,694.0,4.0,13.0,0.0,0.0,0.0,0.0,0.0,0.0,0.0,0.0,0.0,0.0,0.0,0.0,0.0,0.0,753.0,0.0,0.0,0.0,0.0,72.0,533.0,0.0,71.0,7.0,0.0,0.0,0.0,340.0,0.0,4.0,0.0,1.0,0.0,2640.0,0.0,0.0,872.0,0.0,1.0,133.0,801.0,0.0,2315.0,41.0,1605.0,0.0,22.0,0.0,0.0,611.0,68.0,0.0,1474.0,734.0,249.0,4.0,0.0,0.0,0.0,1.0,0.0,1404.0,18.0,0.0,0.0,0.0,0.0,0.0,1058.0,0.0,0.0,0.0,0.0,0.0,0.0,7.0,0.0,2.0,480.0,0.0,43.0,0.0,0.0,0.0,362.0,17.0,0.0,0.0,0.0,0.0,0.0,698.0,1610.0,0.0,0.0,0.0,0.0,128.0,47.0,61.0,0.0,0.0,0.0,0.0,0.0,0.0,0.0,2027.0,0.0,0.0,0.0,6.0,0.0,495.0,0.0,991.0,7.0,551.0,0.0,0.0,0.0,0.0,0.0,0.0,0.0,41.0,31.0,0.0,0.0,0.0,0.0,446.0,0.0,619.0,0.0,119.0,0.0,0.0,0.0,0.0,902.0,47.0,13.0,17.0,560.0,0.0,187.0,857.0,228.0,0.0,0.0,0.0,0.0,0.0,33.0,0.0,0.0,0.0,880.0,0.0,0.0,0.0,0.0,1.0,182.0,26.0,671.0,0.0,0.0,0.0,0.0,0.0,1348.0,1031.0,0.0,61.0,0.0,741.0,0.0,0.0,469.0,921.0,80.0,756.0,14.0,0.0,171.0,0.0,0.0,0.0,0.0,null,0.0,0.0,885.0,136.0,32.0,13.0,185.0,647.0,0.0,0.0,1257.0,0.0,0.0,0.0,0.0,0.0,0.0,670.0,470.0,null,null,0.0,0.0,1.0,1127.0,0.0,802.0,2559.0,0.0,435.0,0.0,1224.0,70.0,null,1.0,381.0,0.0,null,33.0,0.0,1.0,0.0,32.0,0.0,0.0,0.0,3.0,0.0,0.0,4.0,0.0,95.0,1.0,0.0,0.0,0.0,0.0,0.0,0.0,1.0,null,791.0,0.0,0.0,0.0,0.0,626.0,0.0,0.0,0.0,0.0,388.0,0.0,20.0,0.0,0.0,17.0,0.0,0.0,57.0,648.0,0.0,0.0,0.0,0.0,0.0,0.0,0.0,2.0,0.0,78.0,0.0,86.0,0.0,0.0,0.0,0.0,994.0,0.0,0.0,792.0,41.0,6.0,null,0.0,1.0,267.0,880.0,0.0,1432.0,659.0,0.0,0.0,678.0,0.0,0.0,0.0,0.0,0.0,0.0,0.0,0.0,78.0,0.0,0.0,null,0.0,0.0,0.0,0.0,30.0,0.0,44.0,319.0,0.0,null,0.0,7.0,0.0,130.0,0.0,0.0,0.0,0.0,null,17.0,0.0,0.0,2.0,1079.0,0.0,0.0,0.0,0.0,1559.0,0.0,0.0,0.0,332.0,0.0,79.0,0.0,28.0,0.0,0.0,13.0,493.0,0.0,76.0,3.0,27.0,661.0,0.0,0.0,0.0,0.0,28.0,0.0,0.0,1168.0,0.0,0.0,578.0,0.0,0.0,0.0,12.0,61.0,49.0,0.0,0.0,450.0,30.0,null,0.0,1.0,0.0,0.0,0.0,0.0,0.0,0.0,30.0,54.0,525.0,0.0,552.0,0.0,0.0,0.0,34.0,0.0,0.0,1.0,745.0,0.0,291.0,4.0,46.0,0.0,0.0,0.0,0.0,1145.0,1342.0,0.0,0.0,0.0,0.0,0.0,0.0,0.0,0.0,344.0,0.0,0.0,0.0,null,0.0,0.0,0.0,110.0,189.0,0.0,1682.0,0.0,0.0,0.0,0.0,292.0,451.0,127.0,28.0,0.0,0.0,0.0,24.0,0.0,2.0,0.0,23.0,0.0,7.0,0.0,3.0,4.0,0.0,0.0,0.0,0.0,0.0,0.0,0.0,0.0,922.0,0.0,0.0,0.0,0.0,0.0,0.0,0.0,96.0,0.0,0.0,138.0,557.0,0.0,0.0,0.0,12.0,0.0,0.0,16.0,0.0,46.0,null,743.0,0.0,0.0,0.0,0.0,0.0,0.0,285.0,0.0,0.0,0.0,0.0,2628.0,13.0,0.0,0.0,0.0,0.0,0.0,1646.0,0.0,0.0,1213.0,1131.0,0.0,0.0,0.0,0.0,0.0,0.0,0.0,801.0,0.0,0.0,2.0,0.0,0.0,0.0,469.0,0.0,0.0,13.0,875.0,0.0,271.0,479.0,5.0,0.0,0.0,0.0,0.0,0.0,0.0,29.0,137.0,0.0,0.0,0.0,17.0,6.0,1558.0,0.0,0.0,0.0,0.0,1795.0,0.0,0.0,1994.0,0.0,0.0,670.0,0.0,1.0,795.0,0.0,null,0.0,0.0,937.0,0.0,0.0,0.0,260.0,1.0,0.0,0.0,0.0,213.0,3813.0,1865.0,0.0,0.0,0.0,0.0,0.0,0.0,0.0,0.0,0.0,116.0,1.0,21.0,0.0,0.0,0.0,0.0,4.0,4.0,0.0,1.0,0.0,0.0,0.0,348.0,0.0,0.0,0.0,37.0,0.0,0.0,381.0,0.0,0.0,0.0,0.0,13.0,0.0,1.0,0.0,0.0,55.0,0.0,0.0,0.0,0.0,38.0,362.0,0.0,11.0,0.0,0.0,0.0,0.0,0.0,0.0,0.0,24.0,0.0,0.0,0.0,0.0,0.0,133.0,2.0,310.0,356.0,0.0,0.0,0.0,0.0,0.0,0.0,0.0,0.0,0.0,0.0,0.0,0.0,170.0,0.0,0.0,0.0,260.0,10.0,0.0,213.0,0.0,null,0.0,0.0,192.0,0.0,0.0,648.0,3.0,31.0,0.0,414.0,0.0,0.0,0.0,0.0,0.0,1661.0,0.0,0.0,1098.0,0.0,0.0,0.0,4333.0,0.0,0.0,660.0,0.0,0.0,15.0,0.0,0.0,0.0,null,0.0,0.0,0.0,0.0,0.0,366.0,64.0,154.0,0.0,0.0,0.0,0.0,0.0,384.0,0.0,0.0,910.0,0.0,0.0,981.0,0.0,0.0,0.0,null,0.0,0.0,0.0,0.0,0.0,0.0,0.0,0.0,174.0,0.0,0.0,23.0,0.0,null,null,0.0,0.0,0.0,657.0,0.0,0.0,0.0,111.0,14.0,0.0,0.0,0.0,0.0,0.0,0.0,77.0,0.0,0.0,49.0,7.0,442.0,0.0,1617.0,92.0,0.0,1.0,0.0,0.0,0.0,23.0,0.0,0.0,7.0,3648.0,0.0,0.0,0.0,1282.0,0.0,744.0,1698.0,0.0,0.0,0.0,0.0,0.0,0.0,0.0,0.0,779.0,443.0,288.0,0.0,0.0,0.0,25.0,0.0,null,133.0,2005.0,0.0,0.0,0.0,736.0,0.0,1509.0,315.0,0.0,0.0,569.0,796.0,0.0,545.0,0.0,2.0,null,0.0,0.0,0.0,0.0,0.0,11.0,0.0,363.0,13.0,97.0,0.0,16.0,0.0,0.0,0.0,0.0,77.0,0.0,374.0,0.0,101.0,0.0,4.0,933.0,0.0,0.0,132.0,0.0,709.0,323.0,0.0,32.0,6.0,0.0,1441.0,585.0,0.0,0.0,31.0,0.0,2516.0,7.0,0.0,0.0,null,14.0,0.0,0.0,2.0,0.0,0.0,0.0,2280.0,0.0,0.0,0.0,0.0,0.0,0.0,0.0,null,0.0,0.0,0.0,2.0,234.0,0.0,301.0,6.0,270.0,0.0,0.0,1752.0,0.0,0.0,0.0,0.0,82.0,0.0,0.0,0.0,0.0,0.0,0.0,25.0,1181.0,0.0,1.0,0.0,0.0,2.0,301.0,0.0,0.0,0.0,6.0,0.0,947.0,0.0,0.0,0.0,2.0,10.0,0.0,0.0,0.0,31.0,0.0,0.0,0.0,0.0,1650.0,0.0,0.0,0.0,0.0,0.0,8.0,0.0,0.0,36.0,0.0,0.0,0.0,1793.0,0.0,0.0,0.0,0.0,0.0,0.0,0.0,0.0,102.0,1349.0,10.0,633.0,0.0,0.0,0.0,0.0,0.0,0.0,0.0,0.0,0.0,0.0,0.0,0.0,0.0,155.0,656.0,47.0,0.0,0.0,0.0,68.0,0.0,0.0,0.0,299.0,0.0,13.0,0.0,2646.0,618.0,0.0,0.0,0.0,0.0,394.0,0.0,0.0,1604.0,43.0,59.0,71.0,0.0,0.0,31.0,79.0,0.0,0.0,3.0,0.0,971.0,0.0,5.0,0.0,142.0,1834.0,0.0,0.0,548.0,74.0,0.0,1352.0,1632.0,0.0,0.0,0.0,0.0,379.0,193.0,699.0,0.0,0.0,0.0,0.0,0.0,0.0,0.0,147.0,849.0,0.0,6.0,675.0,0.0,0.0,0.0,1553.0,null,669.0,0.0,0.0,7.0,0.0,null,0.0,21.0,0.0,0.0,0.0,0.0,9.0,null,0.0,0.0,726.0,0.0,0.0,0.0,0.0,116.0,88.0,5.0,0.0,0.0,75.0,616.0,799.0,0.0,0.0,0.0,407.0,1100.0,0.0,0.0,1271.0,0.0,238.0,0.0,80.0,0.0,599.0,0.0,0.0,402.0,0.0,0.0,0.0,0.0,236.0,687.0,0.0,0.0,0.0,0.0,1.0,0.0,0.0,0.0,0.0,322.0,0.0,0.0,895.0,0.0,0.0,0.0,0.0,16.0,341.0,0.0,0.0,0.0,0.0,0.0,0.0,0.0,0.0,0.0,0.0,34.0,453.0,0.0,0.0,0.0,0.0,0.0,50.0,14.0,0.0,0.0,0.0,0.0,0.0,0.0,25.0,0.0,0.0,0.0,101.0,8.0,775.0,0.0,0.0,117.0,0.0,0.0,0.0,0.0,0.0,0.0,150.0,504.0,762.0,0.0,0.0,0.0,0.0,238.0,99.0,0.0,0.0,0.0,0.0,0.0,0.0,532.0,0.0,0.0,0.0,0.0,0.0,0.0,1519.0,0.0,0.0,0.0,29.0,83.0,830.0,0.0,0.0,0.0,0.0,90.0,7.0,0.0,null,0.0,0.0,584.0,0.0,0.0,0.0,191.0,0.0,0.0,0.0,0.0,0.0,0.0,0.0,0.0,0.0,0.0,0.0,84.0,533.0,0.0,0.0,7.0,0.0,46.0,0.0,0.0,0.0,0.0,0.0,705.0,0.0,37.0,0.0,null,0.0,0.0,0.0,1264.0,0.0,0.0,0.0,830.0,0.0,0.0,0.0,269.0,0.0,0.0,0.0,1435.0,898.0,415.0,0.0,0.0,0.0,0.0,809.0,158.0,0.0,0.0,0.0,0.0,0.0,0.0,0.0,181.0,4.0,0.0,117.0,0.0,0.0,0.0,0.0,0.0,2.0,0.0,415.0,0.0,0.0,581.0,0.0,137.0,0.0,0.0,400.0,0.0,0.0,1442.0,0.0,0.0,0.0,0.0,0.0,91.0,26.0,null,0.0,0.0,0.0,0.0,null,0.0,0.0,0.0,26.0,0.0,0.0,0.0,0.0,0.0,0.0,0.0,0.0,0.0,533.0,0.0,395.0,0.0,0.0,0.0,0.0,0.0,5.0,0.0,0.0,0.0,null,0.0,null,15.0,0.0,0.0,0.0,4.0,0.0,0.0,1.0,0.0,2908.0,0.0,0.0,0.0,21.0,0.0,0.0,11.0,693.0,0.0,0.0,0.0,0.0,18.0,0.0,0.0,0.0,0.0,0.0,1231.0,991.0,674.0,0.0,23.0,0.0,1103.0,0.0,0.0,1763.0,857.0,52.0,0.0,0.0,0.0,722.0,0.0,0.0,0.0,0.0,0.0,0.0,0.0,0.0,688.0,778.0,0.0,31.0,0.0,280.0,0.0,7.0,0.0,0.0,0.0,274.0,0.0,0.0,0.0,0.0,0.0,0.0,1820.0,0.0,0.0,0.0,0.0,0.0,0.0,0.0,1.0,0.0,0.0,0.0,65.0,800.0,0.0,1777.0,1158.0,0.0,0.0,0.0,0.0,508.0,2687.0,0.0,0.0,160.0,0.0,0.0,0.0,0.0,0.0,1.0,14.0,1215.0,0.0,459.0,88.0,0.0,640.0,null,0.0,0.0,0.0,89.0,46.0,0.0,0.0,0.0,0.0,0.0,0.0,0.0,0.0,0.0,0.0,0.0,0.0,0.0,896.0,0.0,0.0,7.0,0.0,5.0,0.0,0.0,0.0,0.0,0.0,0.0,366.0,0.0,0.0,0.0,276.0,0.0,0.0,1.0,9.0,0.0,0.0,0.0,1.0,0.0,0.0,0.0,0.0,0.0,0.0,0.0,null,0.0,0.0,0.0,0.0,444.0,827.0,0.0,0.0,0.0,335.0,671.0,2233.0,0.0,0.0,null,0.0,0.0,1.0,1.0,37.0,788.0,0.0,0.0,0.0,0.0,137.0,0.0,0.0,0.0,0.0,0.0,357.0,4.0,0.0,0.0,0.0,0.0,0.0,13.0,15.0,0.0,0.0,36.0,0.0,28.0,246.0,980.0,8.0,889.0,0.0,377.0,0.0,0.0,0.0,232.0,0.0,0.0,0.0,0.0,761.0,354.0,0.0,0.0,0.0,0.0,1769.0,2509.0,0.0,0.0,0.0,0.0,0.0,0.0,0.0,0.0,null,0.0,0.0,0.0,116.0,0.0,632.0,0.0,2.0,0.0,null,0.0,5.0,869.0,14.0,0.0,0.0,0.0,0.0,0.0,0.0,0.0,3.0,null,594.0,0.0,131.0,0.0,0.0,0.0,0.0,0.0,0.0,0.0,0.0,0.0,385.0,0.0,112.0,717.0,258.0,0.0,0.0,0.0,422.0,348.0,1503.0,44.0,0.0,0.0,394.0,0.0,0.0,4509.0,0.0,0.0,13.0,0.0,1.0,131.0,0.0,1355.0,1.0,0.0,0.0,849.0,284.0,0.0,0.0,0.0,0.0,0.0,0.0,0.0,0.0,1376.0,0.0,114.0,0.0,53.0,0.0,13.0,11.0,0.0,0.0,4.0,921.0,80.0,0.0,0.0,0.0,0.0,101.0,0.0,242.0,190.0,1564.0,0.0,91.0,0.0,627.0,227.0,44.0,0.0,0.0,0.0,0.0,0.0,0.0,0.0,0.0,0.0,0.0,0.0,0.0,0.0,735.0,0.0,7.0,null,0.0,597.0,0.0,1883.0,215.0,8.0,1105.0,0.0,7.0,768.0,0.0,0.0,0.0,0.0,623.0,0.0,0.0,0.0,0.0,0.0,31.0,0.0,1189.0,3.0,70.0,0.0,0.0,0.0,0.0,0.0,0.0,0.0,0.0,4.0,0.0,0.0,0.0,0.0,0.0,0.0,0.0,0.0,0.0,0.0,0.0,0.0,0.0,0.0,11.0,1462.0,0.0,496.0,1.0,553.0,0.0,0.0,0.0,0.0,null,711.0,0.0,0.0,0.0,0.0,0.0,0.0,0.0,0.0,0.0,0.0,0.0,0.0,2316.0,805.0,0.0,0.0,0.0,5.0,0.0,0.0,0.0,840.0,0.0,0.0,0.0,659.0,0.0,91.0,477.0,1.0,15.0,0.0,0.0,0.0,14.0,255.0,0.0,0.0,0.0,0.0,0.0,0.0,0.0,0.0,0.0,1020.0,0.0,0.0,0.0,764.0,0.0,0.0,5.0,0.0,0.0,675.0,0.0,33.0,0.0,0.0,1.0,150.0,0.0,80.0,0.0,10.0,0.0,0.0,310.0,2.0,0.0,0.0,0.0,1136.0,0.0,0.0,0.0,0.0,424.0,0.0,970.0,0.0,0.0,0.0,14.0,0.0,0.0,0.0,0.0,0.0,927.0,0.0,0.0,0.0,2278.0,0.0,0.0,0.0,0.0,126.0,4.0,0.0,0.0,206.0,0.0,0.0,1.0,0.0,0.0,0.0,0.0,0.0,0.0,134.0,0.0,5.0,0.0,662.0,223.0,757.0,0.0,0.0,0.0,0.0,0.0,0.0,0.0,0.0,0.0,0.0,0.0,0.0,0.0,110.0,0.0,0.0,4.0,0.0,0.0,0.0,0.0,0.0,736.0,0.0,0.0,531.0,0.0,0.0,0.0,0.0,0.0,600.0,0.0,531.0,378.0,0.0,0.0,0.0,null,360.0,0.0,0.0,0.0,2433.0,0.0,null,null,0.0,1.0,0.0,1.0,10.0,195.0,0.0,1828.0,0.0,0.0,1546.0,1.0,0.0,3.0,128.0,123.0,0.0,0.0,163.0,0.0,0.0,0.0,78.0,489.0,0.0,538.0,null,0.0,0.0,0.0,0.0,0.0,0.0,736.0,0.0,null,0.0,1144.0,0.0,0.0,777.0,0.0,0.0,0.0,0.0,22.0,0.0,30.0,0.0,null,0.0,0.0,87.0,0.0,0.0,589.0,0.0,0.0,0.0,0.0,0.0,580.0,15.0,991.0,0.0,703.0,0.0,3627.0,0.0,30.0,6.0,0.0,0.0,0.0,0.0,0.0,186.0,0.0,50.0,959.0,0.0,2074.0,0.0,327.0,15.0,0.0,0.0,742.0,358.0,418.0,0.0,46.0,0.0,0.0,0.0,4.0,183.0,0.0,0.0,0.0,0.0,0.0,0.0,0.0,0.0,0.0,0.0,null,353.0,0.0,0.0,0.0,3.0,236.0,0.0,0.0,0.0,0.0,4.0,703.0,1.0,0.0,0.0,0.0,0.0,524.0,0.0,0.0,455.0,0.0,0.0,0.0,0.0,142.0,0.0,14.0,0.0,0.0,0.0,2310.0,0.0,0.0,0.0,9.0,1080.0,167.0,0.0,0.0,null,0.0,1670.0,23.0,1435.0,0.0,76.0,774.0,0.0,223.0,0.0,0.0,150.0,0.0,0.0,0.0,0.0,0.0,323.0,null,1132.0,242.0,23.0,0.0,0.0,0.0,0.0,0.0,0.0,0.0,115.0,0.0,664.0,608.0,882.0,0.0,1.0,0.0,0.0,0.0,9.0,0.0,4790.0,0.0,0.0,0.0,1020.0,98.0,0.0,1.0,0.0,222.0,5.0,0.0,0.0,0.0,0.0,0.0,13.0,2716.0,0.0,0.0,81.0,0.0,0.0,0.0,0.0,84.0,12.0,0.0,0.0,235.0,785.0,0.0,364.0,0.0,486.0,0.0,0.0,2140.0,0.0,83.0,0.0,0.0,0.0,567.0,0.0,712.0,63.0,754.0,0.0,0.0,0.0,0.0,257.0,0.0,0.0,4874.0,1129.0,0.0,0.0,0.0,95.0,945.0,0.0,661.0,3.0,232.0,408.0,0.0,155.0,0.0,1.0,409.0,17.0,2.0,0.0,0.0,949.0,108.0,0.0,0.0,0.0,0.0,0.0,0.0,0.0,0.0,873.0,0.0,0.0,0.0,0.0,0.0,126.0,0.0,4285.0,0.0,0.0,1.0,2.0,3.0,0.0,0.0,0.0,885.0,441.0,0.0,0.0,0.0,61.0,0.0,0.0,0.0,34.0,206.0,11.0,0.0,640.0,610.0,0.0,0.0,0.0,0.0,0.0,0.0,297.0,404.0,0.0,0.0,0.0,388.0,32.0,54.0,232.0,36.0,0.0,0.0,0.0,42.0,0.0,0.0,0.0,12.0,23.0,1513.0,1414.0,0.0,0.0,0.0,0.0,471.0,0.0,0.0,0.0,0.0,0.0,77.0,771.0,33.0,0.0,0.0,null,0.0,2414.0,870.0,0.0,0.0,0.0,0.0,0.0,0.0,0.0,159.0,51.0,0.0,0.0,311.0,0.0,0.0,0.0,0.0,0.0,0.0,0.0,670.0,0.0,327.0,5.0,1455.0,638.0,507.0,26.0,0.0,0.0,null,0.0,0.0,0.0,0.0,null,0.0,0.0,0.0,0.0,0.0,161.0,60.0,0.0,1742.0,0.0,0.0,1339.0,1.0,0.0,895.0,0.0,7.0,0.0,0.0,0.0,0.0,0.0,0.0,0.0,0.0,0.0,129.0,0.0,0.0,49.0,0.0,889.0,867.0,128.0,8.0,877.0,1127.0,3246.0,0.0,0.0,0.0,375.0,0.0,0.0,2184.0,2.0,234.0,690.0,0.0,0.0,2048.0,3.0,157.0,0.0,0.0,0.0,553.0,0.0,796.0,0.0,0.0,0.0,0.0,0.0,0.0,59.0,0.0,0.0,0.0,0.0,516.0,1990.0,0.0,47.0,295.0,0.0,null,851.0,0.0,0.0,0.0,0.0,0.0,38.0,36.0,0.0,7.0,null,0.0,0.0,16.0,169.0,253.0,0.0,2179.0,0.0,0.0,0.0,0.0,null,0.0,0.0,0.0,0.0,0.0,0.0,0.0,0.0,217.0,0.0,0.0,0.0,0.0,0.0,0.0,47.0,343.0,10.0,0.0,0.0,0.0,4.0,1.0,0.0,0.0,0.0,603.0,0.0,2554.0,85.0,0.0,2003.0,0.0,21.0,66.0,1.0,0.0,111.0,0.0,0.0,137.0,0.0,465.0,0.0,null,0.0,0.0,28.0,0.0,0.0,0.0,392.0,0.0,501.0,0.0,0.0,3.0,0.0,0.0,1445.0,0.0,0.0,0.0,84.0,0.0,0.0,0.0,874.0,0.0,0.0,0.0,0.0,0.0,0.0,477.0,0.0,0.0,0.0,5.0,0.0,0.0,0.0,3.0,0.0,0.0,0.0,0.0,0.0,0.0,0.0,0.0,0.0,0.0,0.0,3.0,0.0,0.0,0.0,0.0,null,481.0,1677.0,0.0,0.0,1.0,38.0,0.0,0.0,34.0,796.0,615.0,0.0,0.0,0.0,0.0,0.0,0.0,0.0,0.0,1.0,0.0,0.0,0.0,2.0,0.0,0.0,13.0,103.0,2454.0,1805.0,84.0,0.0,111.0,0.0,0.0,0.0,51.0,0.0,0.0,241.0,0.0,0.0,0.0,0.0,0.0,0.0,0.0,0.0,0.0,0.0,0.0,0.0,4581.0,35.0,4940.0,0.0,0.0,0.0,0.0,0.0,2067.0,0.0,337.0,380.0,118.0,0.0,1356.0,454.0,198.0,0.0,0.0,null,476.0,0.0,23.0,0.0,888.0,121.0,0.0,2.0,0.0,0.0,0.0,0.0,0.0,1.0,0.0,660.0,0.0,0.0,46.0,0.0,0.0,0.0,0.0,0.0,929.0,0.0,0.0,0.0,0.0,null,0.0,0.0,9.0,0.0,1.0,3783.0,0.0,0.0,1564.0,0.0,0.0,0.0,0.0,0.0,0.0,0.0,2.0,null,null,0.0,1.0,0.0,2.0,0.0,0.0,746.0,272.0,0.0,0.0,0.0,0.0,0.0,null,0.0,0.0,2.0,0.0,0.0,1.0,0.0,1902.0,559.0,3.0,null,0.0,0.0,0.0,152.0,0.0,0.0,0.0,699.0,0.0,437.0,0.0,1.0,10.0,0.0,0.0,17.0,null,0.0,1875.0,0.0,null,0.0,0.0,655.0,0.0,89.0,109.0,941.0,31.0,0.0,0.0,0.0,0.0,0.0,713.0,1770.0,868.0,0.0,0.0,0.0,874.0,0.0,0.0,0.0,0.0,0.0,0.0,31.0,32.0,0.0,3.0,2.0,1.0,276.0,0.0,0.0,0.0,0.0,0.0,0.0,0.0,0.0,31.0,0.0,0.0,1.0,0.0,0.0,0.0,0.0,780.0,747.0,5635.0,0.0,0.0,0.0,0.0,0.0,0.0,106.0,630.0,0.0,0.0,10.0,501.0,0.0,0.0,0.0,847.0,0.0,0.0,830.0,0.0,0.0,0.0,2.0,0.0,0.0,0.0,0.0,0.0,1297.0,0.0,687.0,0.0,0.0,307.0,0.0,191.0,1134.0,0.0,2750.0,1.0,0.0,0.0,0.0,0.0,0.0,0.0,834.0,9.0,287.0,0.0,0.0,0.0,0.0,0.0,0.0,0.0,214.0,0.0,0.0,0.0,0.0,0.0,0.0,0.0,0.0,0.0,0.0,0.0,0.0,0.0,0.0,0.0,0.0,0.0,57.0,0.0,0.0,26.0,0.0,2102.0,973.0,0.0,12.0,309.0,0.0,0.0,19.0,0.0,0.0,0.0,0.0,0.0,0.0,0.0,8.0,0.0,0.0,7.0,14.0,0.0,0.0,0.0,10424.0,0.0,4.0,142.0,0.0,0.0,238.0,20.0,0.0,912.0,0.0,0.0,1.0,0.0,0.0,0.0,0.0,0.0,0.0,null,0.0,20.0,16.0,0.0,0.0,0.0,0.0,0.0,69.0,0.0,0.0,0.0,0.0,926.0,60.0,143.0,0.0,0.0,1919.0,455.0,20.0,0.0,0.0,0.0,0.0,0.0,0.0,0.0,0.0,0.0,95.0,0.0,0.0,0.0,671.0,706.0,0.0,0.0,0.0,0.0,0.0,0.0,0.0,0.0,0.0,0.0,0.0,0.0,0.0,0.0,0.0,0.0,0.0,321.0,0.0,22.0,0.0,0.0,0.0,1081.0,2832.0,0.0,0.0,0.0,846.0,0.0,0.0,505.0,13.0,0.0,0.0,51.0,0.0,0.0,0.0,0.0,0.0,0.0,0.0,0.0,0.0,0.0,0.0,54.0,0.0,0.0,10.0,606.0,0.0,227.0,2.0,0.0,null,0.0,0.0,125.0,0.0,713.0,94.0,477.0,0.0,392.0,0.0,0.0,0.0,0.0,0.0,0.0,0.0,0.0,0.0,0.0,0.0,81.0,0.0,21.0,2.0,0.0,0.0,0.0,0.0,0.0,0.0,0.0,0.0,0.0,0.0,0.0,761.0,430.0,3415.0,0.0,0.0,null,0.0,0.0,0.0,0.0,789.0,72.0,1.0,0.0,0.0,2.0,382.0,693.0,1.0,908.0,0.0,0.0,0.0,0.0,0.0,353.0,8.0,null,0.0,0.0,56.0,0.0,0.0,0.0,19.0,1548.0,2251.0,605.0,898.0,0.0,0.0,0.0,0.0,0.0,0.0,586.0,0.0,643.0,0.0,0.0,1.0,0.0,1905.0,60.0,413.0,0.0,0.0,0.0,0.0,0.0,444.0,0.0,0.0,0.0,0.0,0.0,163.0,0.0,0.0,3.0,null,591.0,571.0,0.0,827.0,0.0,0.0,0.0,0.0,0.0,0.0,2728.0,621.0,14.0,0.0,0.0,0.0,3.0,0.0,0.0,0.0,0.0,0.0,0.0,0.0,0.0,0.0,0.0,0.0,0.0,0.0,0.0,8.0,0.0,0.0,0.0,449.0,0.0,0.0,0.0,0.0,0.0,0.0,0.0,0.0,0.0,0.0,0.0,0.0,708.0,292.0,39.0,0.0,39.0,2299.0,33.0,0.0,565.0,0.0,0.0,59.0,6.0,31.0,0.0,853.0,0.0,1177.0,0.0,144.0,85.0,0.0,0.0,null,0.0,225.0,0.0,0.0,0.0,0.0,0.0,0.0,0.0,0.0,0.0,55.0,363.0,942.0,0.0,0.0,0.0,8.0,756.0,1175.0,0.0,0.0,1040.0,1.0,0.0,1320.0,101.0,0.0,0.0,0.0,528.0,2153.0,2574.0,8.0,0.0,0.0,0.0,5.0,75.0,0.0,0.0,654.0,350.0,1047.0,153.0,0.0,0.0,166.0,0.0,0.0,0.0,0.0,8.0,0.0,208.0,0.0,null,1115.0,0.0,1.0,0.0,7.0,1878.0,599.0,2.0,11.0,0.0,216.0,1.0,0.0,0.0,0.0,280.0,0.0,0.0,0.0,0.0,18.0,0.0,0.0,1.0,813.0,null,0.0,0.0,0.0,0.0,0.0,0.0,2.0,180.0,0.0,980.0,0.0,663.0,0.0,2196.0,2.0,0.0,0.0,1089.0,0.0,0.0,null,0.0,0.0,0.0,0.0,0.0,559.0,null,1.0,2.0,166.0,10.0,0.0,0.0,0.0,0.0,82.0,0.0,0.0,6805.0,0.0,0.0,0.0,0.0,null,499.0,59.0,0.0,0.0,0.0,0.0,0.0,47.0,5.0,0.0,0.0,0.0,0.0,800.0,0.0,0.0,169.0,0.0,1044.0,0.0,0.0,0.0,0.0,46.0,0.0,778.0,0.0,0.0,0.0,9.0,20.0,545.0,4.0,0.0,null,0.0,0.0,0.0,35.0,0.0,868.0,0.0,617.0,0.0,0.0,0.0,0.0,0.0,30.0,0.0,0.0,0.0,0.0,0.0,0.0,0.0,693.0,0.0,0.0,0.0,9.0,0.0,0.0,0.0,754.0,213.0,667.0,0.0,0.0,1006.0,0.0,0.0,2929.0,2473.0,0.0,0.0,298.0,0.0,0.0,0.0,0.0,74.0,0.0,222.0,0.0,0.0,0.0,0.0,1.0,31.0,80.0,542.0,6.0,83.0,0.0,0.0,0.0,0.0,0.0,302.0,500.0,0.0,0.0,0.0,0.0,82.0,0.0,0.0,0.0,0.0,0.0,7.0,115.0,0.0,0.0,0.0,0.0,0.0,0.0,0.0,0.0,0.0,0.0,0.0,970.0,0.0,0.0,0.0,0.0,0.0,378.0,0.0,0.0,0.0,0.0,0.0,0.0,0.0,0.0,0.0,0.0,1594.0,17.0,45.0,0.0,2134.0,0.0,0.0,31.0,0.0,0.0,0.0,285.0,0.0,0.0,0.0,3.0,0.0,0.0,0.0,0.0,0.0,5.0,0.0,15.0,null,0.0,264.0,0.0,0.0,0.0,1609.0,0.0,0.0,0.0,48.0,0.0,0.0,107.0,26.0,0.0,1110.0,0.0,863.0,2332.0,0.0,0.0,325.0,3.0,0.0,0.0,0.0,null,0.0,725.0,0.0,973.0,0.0,1080.0,0.0,0.0,317.0,0.0,0.0,0.0,0.0,0.0,0.0,0.0,0.0,0.0,0.0,0.0,598.0,17.0,0.0,0.0,364.0,null,0.0,0.0,0.0,0.0,53.0,6.0,0.0,0.0,1.0,13.0,0.0,0.0,0.0,0.0,724.0,0.0,859.0,0.0,0.0,459.0,0.0,39.0,586.0,360.0,0.0,0.0,0.0,0.0,476.0,2817.0,0.0,0.0,0.0,0.0,56.0,0.0,1037.0,0.0,0.0,0.0,0.0,0.0,0.0,0.0,75.0,0.0,209.0,null,0.0,0.0,null,0.0,0.0,0.0,0.0,0.0,0.0,681.0,945.0,637.0,0.0,0.0,149.0,595.0,null,0.0,830.0,22.0,0.0,2.0,0.0,41.0,null,254.0,2077.0,0.0,68.0,95.0,0.0,0.0,0.0,0.0,0.0,0.0,0.0,0.0,669.0,0.0,0.0,51.0,0.0,1142.0,0.0,7.0,0.0,0.0,0.0,198.0,99.0,0.0,0.0,0.0,0.0,0.0,0.0,0.0,0.0,0.0,0.0,0.0,0.0,0.0,0.0,0.0,0.0,0.0,0.0,835.0,890.0,0.0,0.0,0.0,0.0,106.0,1827.0,687.0,0.0,0.0,64.0,0.0,2624.0,6.0,0.0,0.0,0.0,0.0,18.0,0.0,194.0,0.0,848.0,0.0,0.0,444.0,0.0,0.0,1552.0,0.0,0.0,0.0,73.0,0.0,0.0,7.0,0.0,0.0,0.0,0.0,892.0,null,0.0,0.0,40.0,0.0,0.0,790.0,0.0,0.0,0.0,0.0,0.0,0.0,0.0,0.0,0.0,690.0,13.0,1.0,207.0,0.0,300.0,0.0,0.0,0.0,0.0,0.0,39.0,450.0,15.0,756.0,0.0,859.0,0.0,0.0,25.0,0.0,0.0,0.0,0.0,0.0,0.0,0.0,0.0,324.0,0.0,559.0,0.0,0.0,0.0,0.0,97.0,null,52.0,0.0,544.0,0.0,0.0,0.0,0.0,11.0,642.0,0.0,0.0,0.0,0.0,172.0,0.0,1199.0,6.0,155.0,414.0,0.0,0.0,0.0,0.0,97.0,0.0,1761.0,4.0,0.0,143.0,689.0,0.0,0.0,0.0,0.0,0.0,0.0,0.0,0.0,891.0,610.0,202.0,0.0,0.0,808.0,0.0,0.0,0.0,761.0,0.0,397.0,0.0,0.0,0.0,0.0,13.0,618.0,0.0,0.0,6.0,10.0,null,0.0,51.0,0.0,0.0,0.0,0.0,8.0,2.0,295.0,808.0,0.0,0.0,0.0,0.0,0.0,null,617.0,0.0,0.0,367.0,0.0,0.0,265.0,0.0,0.0,0.0,0.0,0.0,0.0,0.0,0.0,273.0,0.0,0.0,0.0,0.0,0.0,380.0,9058.0,0.0,0.0,0.0,0.0,0.0,20.0,0.0,0.0,7.0,47.0,null,0.0,0.0,0.0,0.0,53.0,0.0,139.0,0.0,2387.0,0.0,0.0,0.0,0.0,1224.0,0.0,0.0,53.0,0.0,0.0,0.0,15.0,653.0,1039.0,0.0,0.0,0.0,235.0,0.0,0.0,0.0,0.0,null,50.0,3949.0,455.0,501.0,0.0,0.0,0.0,2366.0,0.0,0.0,0.0,1.0,109.0,109.0,0.0,0.0,0.0,144.0,0.0,0.0,0.0,868.0,0.0,24.0,0.0,0.0,291.0,641.0,0.0,0.0,0.0,0.0,0.0,802.0,1048.0,1326.0,1437.0,0.0,0.0,2.0,0.0,0.0,0.0,0.0,0.0,0.0,0.0,0.0,0.0,0.0,0.0,0.0,0.0,0.0,0.0,0.0,72.0,0.0,1.0,0.0,0.0,0.0,0.0,700.0,0.0,834.0,0.0,0.0,0.0,311.0,0.0,null,0.0,534.0,0.0,0.0,0.0,0.0,0.0,0.0,0.0,332.0,null,0.0,null,0.0,0.0,0.0,0.0,0.0,0.0,0.0,0.0,0.0,0.0,0.0,8.0,0.0,0.0,0.0,10.0,0.0,92.0,0.0,1.0,33.0,3.0,0.0,0.0,0.0,291.0,null,479.0,0.0,null,116.0,0.0,0.0,0.0,0.0,0.0,0.0,0.0,0.0,0.0,1657.0,0.0,0.0,110.0,0.0,0.0,0.0,0.0,0.0,403.0,36.0,null,0.0,0.0,0.0,0.0,0.0,50.0,43.0,1313.0,0.0,0.0,0.0,null,306.0,0.0,0.0,1167.0,0.0,2.0,0.0,0.0,2.0,82.0,60.0,0.0,0.0,182.0,39.0,0.0,145.0,0.0,1310.0,0.0,0.0,0.0,13.0,0.0,0.0,841.0,129.0,0.0,908.0,887.0,0.0,418.0,636.0,301.0,0.0,0.0,0.0,0.0,186.0,0.0,3.0,11.0,29.0,0.0,0.0,0.0,13.0,0.0,0.0,28.0,0.0,0.0,0.0,9.0,0.0,751.0,0.0,2.0,93.0,0.0,0.0,28.0,0.0,0.0,1.0,0.0,29.0,0.0,0.0,0.0,0.0,0.0,null,0.0,7.0,0.0,0.0,1573.0,0.0,0.0,215.0,0.0,0.0,0.0,0.0,0.0,3.0,0.0,0.0,2.0,0.0,0.0,555.0,859.0,0.0,0.0,0.0,1541.0,0.0,0.0,0.0,0.0,895.0,0.0,0.0,1.0,0.0,0.0,0.0,0.0,0.0,0.0,0.0,0.0,0.0,0.0,0.0,1317.0,0.0,0.0,0.0,694.0,0.0,5468.0,0.0,1435.0,0.0,0.0,0.0,0.0,231.0,0.0,null,508.0,0.0,0.0,0.0,0.0,0.0,0.0,0.0,0.0,0.0,129.0,0.0,0.0,0.0,null,977.0,0.0,0.0,0.0,99.0,638.0,927.0,1.0,0.0,0.0,16.0,43.0,0.0,0.0,0.0,0.0,6.0,0.0,0.0,8.0,0.0,0.0,0.0,422.0,0.0,0.0,0.0,0.0,0.0,478.0,0.0,622.0,0.0,2915.0,0.0,0.0,0.0,0.0,0.0,1720.0,0.0,790.0,0.0,0.0,0.0,0.0,0.0,0.0,0.0,0.0,165.0,9.0,0.0,null,31.0,0.0,0.0,0.0,873.0,0.0,0.0,858.0,0.0,527.0,246.0,151.0,0.0,0.0,0.0,1.0,0.0,763.0,0.0,1590.0,0.0,0.0,0.0,1.0,0.0,0.0,710.0,0.0,0.0,0.0,622.0,388.0,0.0,0.0,0.0,0.0,0.0,0.0,0.0,433.0,0.0,168.0,57.0,0.0,410.0,11.0,0.0,0.0,17.0,0.0,0.0,657.0,0.0,0.0,0.0,0.0,0.0,1686.0,8.0,20.0,0.0,0.0,0.0,4.0,0.0,0.0,0.0,0.0,0.0,0.0,0.0,6.0,6.0,1.0,795.0,681.0,0.0,0.0,202.0,53.0,0.0,336.0,0.0,0.0,0.0,849.0,0.0,0.0,0.0,1864.0,0.0,2076.0,0.0,20.0,7.0,113.0,0.0,26.0,0.0,0.0,0.0,0.0,1.0,1185.0,2974.0,0.0,0.0,0.0,715.0,0.0,1540.0,0.0,0.0,0.0,0.0,0.0,976.0,0.0,183.0,835.0,0.0,0.0,339.0,0.0,150.0,310.0,0.0,2.0,580.0,25.0,0.0,0.0,0.0,0.0,0.0,0.0,6.0,0.0,23.0,845.0,0.0,0.0,127.0,0.0,35.0,0.0,0.0,0.0,336.0,1.0,0.0,0.0,0.0,0.0,97.0,12253.0,0.0,0.0,3.0,0.0,0.0,0.0,0.0,3.0,0.0,661.0,0.0,0.0,6.0,0.0,0.0,0.0,2341.0,3700.0,0.0,520.0,17.0,0.0,7.0,0.0,561.0,0.0,0.0,0.0,0.0,273.0,642.0,44.0,0.0,0.0,13.0,0.0,23.0,0.0,272.0,0.0,0.0,0.0,0.0,0.0,26.0,1791.0,0.0,0.0,0.0,0.0,0.0,0.0,24.0,0.0,0.0,1501.0,265.0,0.0,29.0,0.0,0.0,null,0.0,0.0,0.0,47.0,0.0,0.0,0.0,9.0,655.0,827.0,0.0,0.0,0.0,0.0,0.0,649.0,74.0,304.0,0.0,null,null,15.0,0.0,0.0,1147.0,0.0,0.0,0.0,0.0,0.0,0.0,0.0,0.0,0.0,0.0,512.0,381.0,0.0,0.0,335.0,0.0,542.0,0.0,719.0,null,34.0,0.0,0.0,0.0,0.0,0.0,0.0,0.0,0.0,0.0,0.0,0.0,0.0,0.0,714.0,0.0,0.0,0.0,0.0,0.0,0.0,0.0,0.0,9.0,0.0,0.0,0.0,60.0,713.0,0.0,0.0,0.0,0.0,791.0,0.0,0.0,0.0,0.0,0.0,23.0,174.0,4.0,181.0,0.0,1119.0,39.0,2614.0,0.0,140.0,501.0,0.0,0.0,0.0,0.0,6.0,null,813.0,424.0,0.0,0.0,0.0,0.0,0.0,12.0,743.0,0.0,635.0,0.0,1373.0,0.0,0.0,0.0,725.0,696.0,2398.0,0.0,3.0,0.0,0.0,0.0,null,0.0,704.0,0.0,0.0,0.0,270.0,0.0,0.0,0.0,0.0,1472.0,533.0,0.0,0.0,0.0,0.0,0.0,1898.0,0.0,null,0.0,0.0,0.0,0.0,2383.0,1000.0,0.0,61.0,0.0,0.0,136.0,0.0,0.0,310.0,192.0,0.0,2010.0,0.0,0.0,0.0,348.0,7810.0,0.0,0.0,0.0,0.0,0.0,0.0,5.0,0.0,0.0,0.0,29.0,0.0,0.0,1236.0,92.0,840.0,0.0,0.0,0.0,0.0,8.0,0.0,0.0,0.0,0.0,0.0,0.0,0.0,0.0,0.0,0.0,0.0,1376.0,0.0,null,0.0,800.0,18.0,4058.0,243.0,1179.0,0.0,0.0,0.0,0.0,0.0,0.0,0.0,0.0,909.0,0.0,0.0,0.0,0.0,99.0,860.0,73.0,901.0,616.0,46.0,0.0,172.0,0.0,0.0,0.0,1.0,0.0,31.0,0.0,1660.0,0.0,0.0,0.0,0.0,0.0,0.0,575.0,0.0,0.0,490.0,0.0,0.0,0.0,1164.0,0.0,0.0,0.0,0.0,750.0,1015.0,1583.0,0.0,0.0,46.0,18.0,1041.0,0.0,0.0,95.0,0.0,177.0,0.0,0.0,2090.0,0.0,0.0,0.0,0.0,0.0,0.0,677.0,657.0,0.0,0.0,0.0,0.0,4.0,0.0,0.0,83.0,1232.0,450.0,0.0,0.0,687.0,0.0,0.0,0.0,0.0,0.0,0.0,851.0,0.0,0.0,9.0,0.0,13.0,23.0,7.0,0.0,0.0,1967.0,631.0,0.0,0.0,682.0,0.0,12.0,363.0,0.0,0.0,0.0,0.0,0.0,0.0,0.0,44.0,782.0,0.0,3.0,0.0,70.0,33.0,0.0,0.0,116.0,0.0,1.0,0.0,0.0,32.0,0.0,0.0,0.0,0.0,0.0,0.0,0.0,0.0,1690.0,618.0,175.0,0.0,95.0,285.0,0.0,0.0,1.0,400.0,1211.0,0.0,659.0,0.0,9.0,100.0,0.0,163.0,0.0,20.0,0.0,0.0,0.0,0.0,717.0,957.0,0.0,0.0,6.0,0.0,0.0,0.0,404.0,0.0,0.0,2330.0,0.0,0.0,414.0,30.0,0.0,0.0,0.0,81.0,0.0,0.0,null,1642.0,138.0,0.0,356.0,0.0,0.0,352.0,0.0,0.0,0.0,926.0,null,0.0,105.0,0.0,0.0,0.0,0.0,0.0,0.0,0.0,0.0,0.0,0.0,3.0,844.0,100.0,0.0,0.0,0.0,0.0,0.0,0.0,1911.0,0.0,0.0,1.0,0.0,0.0,0.0,267.0,0.0,185.0,0.0,2080.0,0.0,0.0,0.0,0.0,4761.0,40.0,0.0,12.0,651.0,19.0,0.0,2.0,552.0,0.0,0.0,0.0,0.0,0.0,0.0,21.0,0.0,0.0,2.0,0.0,0.0,0.0,0.0,664.0,0.0,null,1.0,3.0,1.0,0.0,11.0,0.0,482.0,0.0,1128.0,0.0,0.0,437.0,0.0,0.0,0.0,592.0,0.0,0.0,0.0,0.0,0.0,0.0,0.0,0.0,754.0,0.0,0.0,0.0,22.0,0.0,5.0,0.0,793.0,0.0,0.0,0.0,773.0,0.0,0.0,0.0,14.0,0.0,0.0,null,944.0,0.0,0.0,29.0,16.0,0.0,0.0,46.0,0.0,0.0,0.0,766.0,0.0,96.0,0.0,115.0,109.0,0.0,713.0,0.0,158.0,42.0,0.0,0.0,0.0,879.0,690.0,0.0,179.0,874.0,0.0,0.0,0.0,0.0,5.0,0.0,0.0,1.0,0.0,130.0,211.0,1028.0,0.0,0.0,273.0,0.0,0.0,511.0,0.0,414.0,2401.0,2885.0,0.0,17.0,0.0,0.0,0.0,1907.0,1050.0,0.0,0.0,1.0,0.0,12.0,0.0,2.0,196.0,0.0,0.0,0.0,0.0,0.0,222.0,450.0,12.0,0.0,null,795.0,0.0,3.0,0.0,49.0,0.0,8.0,0.0,0.0,0.0,0.0,31.0,0.0,171.0,229.0,478.0,885.0,0.0,285.0,12.0,0.0,0.0,0.0,0.0,297.0,6.0,0.0,21.0,0.0,29.0,0.0,424.0,547.0,0.0,14.0,584.0,458.0,8.0,0.0,0.0,787.0,5.0,902.0,0.0,1386.0,0.0,0.0,0.0,0.0,1.0,9.0,0.0,2.0,0.0,0.0,0.0,0.0,2.0,0.0,0.0,2.0,0.0,0.0,0.0,0.0,0.0,0.0,103.0,52.0,2.0,0.0,0.0,0.0,0.0,0.0,1540.0,77.0,761.0,0.0,0.0,0.0,0.0,0.0,21.0,0.0,0.0,0.0,0.0,3944.0,0.0,0.0,1.0,217.0,null,3.0,0.0,536.0,311.0,801.0,1116.0,0.0,439.0,214.0,0.0,0.0,805.0,61.0,0.0,0.0,0.0,4.0,23.0,201.0,0.0,0.0,0.0,0.0,0.0,0.0,0.0,30.0,726.0,0.0,null,0.0,0.0,299.0,40.0,0.0,193.0,0.0,575.0,0.0,0.0,0.0,0.0,5.0,0.0,0.0,0.0,0.0,0.0,0.0,0.0,0.0,0.0,0.0,0.0,0.0,1.0,358.0,0.0,0.0,16.0,321.0,386.0,0.0,0.0,2956.0,425.0,1110.0,0.0,859.0,0.0,910.0,1121.0,228.0,0.0,0.0,0.0,0.0,0.0,291.0,0.0,0.0,0.0,0.0,0.0,0.0,103.0,0.0,208.0,null,0.0,47.0,0.0,null,0.0,0.0,1104.0,0.0,103.0,0.0,643.0,0.0,0.0,0.0,0.0,2.0,0.0,0.0,0.0,0.0,345.0,0.0,0.0,0.0,0.0,0.0,702.0,0.0,0.0,1468.0,0.0,97.0,0.0,441.0,0.0,0.0,0.0,0.0,null,0.0,0.0,0.0,416.0,158.0,572.0,0.0,0.0,0.0,1.0,0.0,0.0,4.0,56.0,0.0,1826.0,0.0,0.0,0.0,0.0,432.0,1309.0,0.0,0.0,0.0,0.0,0.0,0.0,661.0,0.0,0.0,0.0,135.0,0.0,0.0,658.0,42.0,0.0,0.0,0.0,0.0,0.0,0.0,27.0,2228.0,0.0,185.0,84.0,0.0,114.0,9.0,4.0,1288.0,0.0,115.0,481.0,4.0,0.0,0.0,0.0,0.0,0.0,1.0,0.0,0.0,0.0,1025.0,0.0,0.0,127.0,0.0,0.0,0.0,0.0,0.0,0.0,0.0,0.0,0.0,0.0,0.0,0.0,0.0,136.0,0.0,31.0,6.0,0.0,0.0,0.0,0.0,0.0,0.0,58.0,0.0,8.0,0.0,0.0,0.0,0.0,0.0,0.0,0.0,null,185.0,80.0,0.0,0.0,728.0,0.0,2.0,0.0,0.0,null,13.0,9.0,471.0,0.0,0.0,4127.0,0.0,0.0,0.0,62.0,305.0,0.0,0.0,0.0,754.0,2621.0,0.0,32.0,0.0,0.0,0.0,0.0,379.0,0.0,0.0,0.0,9.0,0.0,0.0,0.0,0.0,0.0,0.0,1880.0,0.0,0.0,0.0,1912.0,0.0,0.0,0.0,34.0,0.0,0.0,0.0,0.0,0.0,0.0,19.0,14.0,0.0,239.0,0.0,37.0,0.0,692.0,0.0,39.0,0.0,0.0,0.0,346.0,0.0,615.0,31.0,0.0,0.0,0.0,52.0,0.0,0.0,0.0,110.0,0.0,0.0,132.0,0.0,208.0,0.0,0.0,null,0.0,419.0,0.0,0.0,0.0,0.0,53.0,null,0.0,0.0,50.0,0.0,0.0,0.0,0.0,809.0,17.0,0.0,0.0,0.0,0.0,0.0,0.0,0.0,54.0,81.0,6.0,0.0,349.0,0.0,0.0,0.0,0.0,0.0,0.0,501.0,1185.0,0.0,0.0,617.0,635.0,0.0,0.0,0.0,0.0,0.0,14.0,297.0,0.0,0.0,0.0,0.0,134.0,738.0,0.0,1967.0,1769.0,0.0,0.0,0.0,0.0,0.0,0.0,0.0,0.0,0.0,408.0,0.0,0.0,0.0,0.0,0.0,0.0,0.0,32.0,71.0,0.0,0.0,0.0,0.0,465.0,0.0,0.0,644.0,0.0,0.0,0.0,0.0,0.0,0.0,744.0,589.0,21.0,0.0,0.0,14.0,0.0,0.0,0.0,0.0,0.0,0.0,0.0,0.0,3958.0,0.0,0.0,0.0,0.0,0.0,0.0,0.0,0.0,106.0,321.0,0.0,0.0,817.0,0.0,0.0,0.0,null,58.0,0.0,6.0,622.0,0.0,null,0.0,0.0,0.0,447.0,10705.0,0.0,0.0,1.0,0.0,0.0,604.0,57.0,0.0,159.0,0.0,624.0,0.0,38.0,686.0,0.0,144.0,0.0,0.0,null,0.0,0.0,858.0,0.0,0.0,25.0,0.0,1127.0,89.0,0.0,0.0,1.0,0.0,0.0,0.0,0.0,0.0,622.0,0.0,310.0,455.0,21.0,0.0,0.0,0.0,0.0,0.0,0.0,0.0,708.0,0.0,null,0.0,0.0,0.0,0.0,0.0,0.0,0.0,1.0,92.0,0.0,0.0,0.0,0.0,0.0,0.0,0.0,0.0,0.0,5.0,0.0,0.0,0.0,271.0,0.0,722.0,0.0,0.0,0.0,331.0,3.0,0.0,0.0,0.0,0.0,0.0,74.0,0.0,0.0,62.0,249.0,0.0,0.0,0.0,0.0,0.0,64.0,0.0,0.0,0.0,143.0,0.0,0.0,0.0,0.0,206.0,262.0,846.0,0.0,0.0,0.0,0.0,0.0,0.0,960.0,0.0,0.0,0.0,0.0,0.0,0.0,null,0.0,0.0,716.0,0.0,0.0,0.0,null,0.0,0.0,134.0,0.0,336.0,0.0,0.0,7.0,0.0,0.0,null,0.0,11.0,0.0,1761.0,0.0,135.0,0.0,0.0,0.0,null,0.0,0.0,0.0,0.0,442.0,492.0,15.0,0.0,0.0,0.0,0.0,0.0,0.0,0.0,0.0,0.0,0.0,0.0,0.0,0.0,0.0,0.0,null,0.0,0.0,0.0,0.0,0.0,0.0,0.0,0.0,342.0,0.0,0.0,0.0,0.0,0.0,0.0,0.0,0.0,0.0,0.0,0.0,0.0,0.0,0.0,0.0,5.0,0.0,0.0,77.0,0.0,0.0,0.0,470.0,0.0,0.0,0.0,null,0.0,10.0,0.0,0.0,102.0,0.0,262.0,2778.0,0.0,0.0,0.0,356.0,0.0,50.0,0.0,0.0,40.0,0.0,null,1.0,0.0,9.0,0.0,2.0,0.0,0.0,594.0,0.0,0.0,0.0,298.0,0.0,4.0,0.0,0.0,0.0,0.0,0.0,0.0,19.0,3.0,662.0,0.0,0.0,0.0,0.0,0.0,0.0,0.0,5.0,0.0,0.0,0.0,1629.0,2566.0,2.0,0.0,0.0,372.0,5.0,0.0,60.0,1.0,0.0,681.0,50.0,0.0,3.0,1.0,0.0,576.0,1.0,0.0,1130.0,0.0,0.0,0.0,460.0,0.0,0.0,113.0,0.0,779.0,18.0,22.0,0.0,0.0,0.0,193.0,876.0,0.0,0.0,23.0,0.0,0.0,0.0,612.0,0.0,0.0,0.0,12.0,653.0,486.0,4.0,0.0,0.0,0.0,1008.0,0.0,0.0,48.0,0.0,0.0,0.0,783.0,0.0,0.0,0.0,0.0,0.0,0.0,0.0,0.0,0.0,55.0,880.0,233.0,654.0,654.0,870.0,175.0,0.0,0.0,0.0,0.0,0.0,0.0,0.0,0.0,0.0,0.0,867.0,2267.0,0.0,0.0,0.0,1929.0,0.0,0.0,0.0,0.0,0.0,161.0,37.0,576.0,0.0,0.0,194.0,0.0,729.0,0.0,0.0,0.0,0.0,277.0,0.0,0.0,0.0,0.0,0.0,0.0,0.0,0.0,602.0,0.0,0.0,2.0,0.0,null,0.0,167.0,0.0,0.0,2.0,1081.0,null,117.0,0.0,1792.0,63.0,0.0,0.0,0.0,0.0,0.0,0.0,0.0,0.0,1.0,0.0,0.0,0.0,0.0,0.0,0.0,0.0,377.0,0.0,1435.0,638.0,243.0,0.0,0.0,0.0,320.0,505.0,0.0,0.0,0.0,0.0,0.0,0.0,0.0,0.0,0.0,1.0,0.0,0.0,0.0,33.0,0.0,1.0,54.0,0.0,0.0,404.0,0.0,0.0,0.0,0.0,0.0,0.0,1025.0,566.0,51.0,0.0,0.0,0.0,591.0,635.0,0.0,0.0,481.0,0.0,0.0,739.0,6.0,0.0,0.0,546.0,0.0,25.0,0.0,2.0,132.0,1641.0,0.0,0.0,1.0,1.0,0.0,0.0,0.0,0.0,0.0,1536.0,0.0,0.0,18.0,265.0,0.0,null,31.0,0.0,0.0,0.0,0.0,0.0,0.0,63.0,0.0,608.0,0.0,0.0,0.0,0.0,19.0,0.0,0.0,1.0,0.0,94.0,1083.0,64.0,492.0,51.0,0.0,143.0,3.0,0.0,0.0,0.0,0.0,0.0,0.0,6331.0,3.0,0.0,1301.0,1.0,977.0,36.0,146.0,0.0,0.0,2036.0,0.0,54.0,0.0,0.0,0.0,863.0,73.0,0.0,278.0,0.0,0.0,10.0,0.0,0.0,0.0,44.0,0.0,0.0,0.0,290.0,0.0,27.0,13.0,341.0,0.0,0.0,22.0,7.0,280.0,0.0,null,0.0,28.0,195.0,0.0,0.0,0.0,0.0,208.0,0.0,0.0,0.0,null,0.0,0.0,0.0,206.0,0.0,1.0,0.0,0.0,2.0,0.0,11.0,0.0,0.0,149.0,0.0,0.0,72.0,269.0,396.0,89.0,0.0,0.0,0.0,601.0,0.0,0.0,0.0,0.0,0.0,0.0,0.0,5.0,0.0,3.0,0.0,0.0,343.0,0.0,0.0,0.0,0.0,0.0,0.0,0.0,0.0,148.0,9.0,2.0,0.0,0.0,870.0,0.0,1785.0,117.0,0.0,797.0,0.0,0.0,0.0,0.0,977.0,7.0,85.0,0.0,0.0,1.0,0.0,0.0,0.0,97.0,0.0,0.0,0.0,0.0,6221.0,967.0,0.0,0.0,0.0,0.0,163.0,525.0,0.0,3.0,0.0,0.0,2.0,11.0,0.0,1908.0,0.0,0.0,0.0,2.0,0.0,0.0,23.0,0.0,0.0,0.0,1083.0,1364.0,848.0,23.0,0.0,896.0,0.0,0.0,455.0,0.0,125.0,0.0,22.0,0.0,456.0,0.0,1.0,0.0,0.0,49.0,0.0,700.0,1729.0,0.0,0.0,87.0,0.0,0.0,594.0,0.0,0.0,0.0,0.0,0.0,0.0,1169.0,0.0,928.0,172.0,308.0,0.0,146.0,0.0,456.0,50.0,0.0,36.0,220.0,0.0,0.0,2370.0,0.0,1063.0,0.0,0.0,10.0,0.0,0.0,3.0,1.0,45.0,1.0,0.0,0.0,2.0,164.0,0.0,18.0,0.0,0.0,707.0,1.0,0.0,289.0,0.0,0.0,1401.0,246.0,0.0,19.0,0.0,124.0,1.0,0.0,40.0,9.0,613.0,0.0,210.0,139.0,0.0,0.0,497.0,0.0,0.0,2080.0,0.0,0.0,0.0,11.0,82.0,0.0,66.0,3.0,0.0,0.0,782.0,0.0,286.0,0.0,0.0,2.0,0.0,25.0,0.0,80.0,0.0,0.0,0.0,0.0,0.0,0.0,82.0,637.0,0.0,1.0,0.0,0.0,0.0,148.0,0.0,0.0,110.0,242.0,855.0,51.0,0.0,7.0,1363.0,0.0,0.0,0.0,80.0,0.0,0.0,0.0,0.0,0.0,0.0,0.0,0.0,0.0,0.0,1.0,0.0,1.0,1359.0,0.0,130.0,0.0,0.0,3.0,0.0,719.0,0.0,1404.0,0.0,0.0,0.0,0.0,0.0,182.0,0.0,628.0,4.0,0.0,0.0,0.0,717.0,0.0,40.0,40.0,null,267.0,0.0,354.0,200.0,0.0,0.0,0.0,0.0,0.0,0.0,222.0,3.0,0.0,863.0,0.0,0.0,0.0,5.0,0.0,341.0,0.0,0.0,0.0,0.0,412.0,null,0.0,0.0,7148.0,0.0,0.0,717.0,0.0,7.0,54.0,620.0,0.0,0.0,615.0,0.0,381.0,0.0,496.0,0.0,0.0,0.0,0.0,0.0,0.0,9.0,0.0,1.0,0.0,null,0.0,0.0,32.0,0.0,0.0,0.0,0.0,3.0,0.0,120.0,0.0,0.0,0.0,0.0,0.0,22.0,170.0,1598.0,336.0,0.0,0.0,0.0,0.0,346.0,0.0,0.0,0.0,0.0,47.0,0.0,0.0,0.0,40.0,10.0,0.0,165.0,1291.0,0.0,0.0,0.0,0.0,0.0,0.0,0.0,65.0,0.0,0.0,8.0,27.0,0.0,4407.0,0.0,0.0,0.0,2.0,0.0,0.0,563.0,1105.0,665.0,null,0.0,626.0,21.0,0.0,0.0,0.0,0.0,0.0,null,0.0,0.0,0.0,0.0,23492.0,0.0,0.0,0.0,699.0,5.0,0.0,0.0,50.0,0.0,0.0,456.0,816.0,0.0,0.0,0.0,0.0,409.0,0.0,0.0,0.0,307.0,623.0,8.0,23.0,0.0,0.0,0.0,0.0,164.0,0.0,null,62.0,0.0,1970.0,0.0,13.0,87.0,0.0,0.0,689.0,0.0,0.0,0.0,0.0,947.0,0.0,1.0,0.0,49.0,0.0,0.0,0.0,0.0,0.0,0.0,0.0,0.0,204.0,1357.0,0.0,0.0,0.0,338.0,15.0,2.0,0.0,0.0,0.0,0.0,0.0,0.0,0.0,1072.0,0.0,719.0,591.0,1069.0,null,null,0.0,0.0,0.0,0.0,0.0,758.0,0.0,1353.0,0.0,0.0,58.0,0.0,0.0,0.0,0.0,0.0,784.0,761.0,0.0,0.0,22.0,0.0,0.0,0.0,16.0,0.0,0.0,0.0,0.0,51.0,496.0,28.0,0.0,123.0,0.0,0.0,0.0,16.0,631.0,0.0,0.0,0.0,0.0,23.0,234.0,0.0,184.0,0.0,1296.0,0.0,0.0,0.0,20.0,0.0,0.0,0.0,0.0,0.0,0.0,2.0,3.0,32.0,0.0,11.0,14.0,0.0,0.0,1.0,0.0,0.0,0.0,0.0,1.0,638.0,0.0,0.0,0.0,0.0,0.0,0.0,0.0,0.0,0.0,0.0,0.0,516.0,0.0,0.0,null,0.0,792.0,1.0,0.0,0.0,0.0,5.0,1.0,71.0,2.0,0.0,0.0,0.0,0.0,0.0,0.0,null,0.0,684.0,453.0,11.0,6.0,0.0,null,807.0,483.0,1.0,null,0.0,0.0,0.0,0.0,0.0,0.0,1338.0,52.0,0.0,0.0,8.0,0.0,0.0,0.0,114.0,0.0,0.0,0.0,0.0,0.0,4.0,null,0.0,89.0,0.0,0.0,0.0,45.0,0.0,null,0.0,0.0,977.0,0.0,13.0,0.0,0.0,0.0,0.0,0.0,715.0,0.0,0.0,0.0,668.0,638.0,0.0,0.0,918.0,600.0,0.0,0.0,0.0,0.0,973.0,null,0.0,205.0,0.0,0.0,0.0,0.0,1085.0,0.0,0.0,0.0,0.0,0.0,0.0,0.0,510.0,149.0,0.0,0.0,0.0,0.0,0.0,0.0,1872.0,0.0,0.0],\"type\":\"box\"},{\"name\":\"Spa\",\"y\":[0.0,549.0,6715.0,3329.0,565.0,291.0,0.0,0.0,216.0,0.0,0.0,110.0,0.0,0.0,2.0,0.0,0.0,0.0,0.0,0.0,0.0,0.0,0.0,0.0,0.0,0.0,0.0,0.0,0.0,998.0,1438.0,48.0,437.0,0.0,0.0,990.0,0.0,951.0,20.0,2606.0,0.0,0.0,2511.0,0.0,0.0,0.0,0.0,0.0,null,1379.0,4683.0,0.0,0.0,0.0,286.0,0.0,1377.0,17.0,0.0,0.0,0.0,0.0,0.0,0.0,253.0,6.0,1.0,0.0,0.0,0.0,0.0,0.0,0.0,321.0,0.0,0.0,0.0,0.0,0.0,0.0,638.0,0.0,0.0,0.0,188.0,1.0,0.0,0.0,3.0,32.0,0.0,37.0,0.0,0.0,830.0,0.0,0.0,0.0,2.0,0.0,0.0,0.0,0.0,3929.0,0.0,1868.0,0.0,0.0,17.0,0.0,238.0,0.0,12.0,65.0,0.0,0.0,699.0,0.0,0.0,0.0,316.0,0.0,0.0,0.0,0.0,0.0,25.0,0.0,564.0,0.0,0.0,0.0,0.0,0.0,0.0,0.0,0.0,0.0,0.0,0.0,0.0,0.0,0.0,null,0.0,0.0,0.0,22.0,0.0,221.0,0.0,0.0,5.0,115.0,14970.0,28.0,2.0,0.0,0.0,299.0,0.0,0.0,0.0,0.0,202.0,0.0,0.0,0.0,898.0,0.0,1072.0,0.0,0.0,0.0,795.0,0.0,0.0,0.0,0.0,0.0,0.0,878.0,0.0,0.0,1125.0,0.0,0.0,0.0,0.0,182.0,51.0,10.0,0.0,0.0,27.0,0.0,0.0,0.0,0.0,0.0,0.0,0.0,0.0,0.0,2.0,1.0,0.0,43.0,234.0,0.0,11.0,0.0,0.0,0.0,1634.0,0.0,713.0,1720.0,0.0,1438.0,0.0,0.0,92.0,0.0,4812.0,283.0,0.0,0.0,0.0,0.0,584.0,27.0,8620.0,0.0,0.0,0.0,0.0,2.0,0.0,0.0,0.0,299.0,981.0,0.0,0.0,null,754.0,0.0,0.0,0.0,53.0,888.0,14.0,0.0,0.0,0.0,0.0,0.0,0.0,162.0,0.0,6.0,0.0,0.0,1157.0,0.0,0.0,0.0,1090.0,null,17.0,0.0,0.0,0.0,0.0,1851.0,20.0,1.0,0.0,6.0,4476.0,0.0,0.0,318.0,0.0,0.0,0.0,170.0,0.0,null,0.0,0.0,0.0,0.0,0.0,0.0,0.0,46.0,148.0,0.0,0.0,1476.0,0.0,0.0,3.0,0.0,0.0,0.0,0.0,274.0,0.0,0.0,0.0,3.0,0.0,0.0,0.0,0.0,0.0,124.0,0.0,0.0,0.0,0.0,280.0,685.0,15.0,0.0,177.0,441.0,0.0,2766.0,0.0,0.0,6.0,176.0,5132.0,0.0,2579.0,0.0,0.0,1173.0,0.0,0.0,0.0,0.0,0.0,4.0,3693.0,0.0,0.0,25.0,0.0,0.0,0.0,0.0,0.0,1508.0,8157.0,3835.0,0.0,0.0,6011.0,0.0,13.0,0.0,0.0,310.0,0.0,5.0,0.0,0.0,2.0,567.0,140.0,1537.0,352.0,0.0,0.0,5467.0,0.0,13.0,34.0,0.0,0.0,562.0,715.0,2.0,0.0,16.0,0.0,0.0,0.0,2962.0,0.0,0.0,0.0,622.0,467.0,26.0,0.0,1936.0,722.0,0.0,0.0,0.0,24.0,77.0,0.0,0.0,32.0,0.0,0.0,0.0,0.0,0.0,0.0,745.0,0.0,0.0,59.0,26.0,0.0,0.0,0.0,59.0,0.0,0.0,612.0,0.0,0.0,null,0.0,1178.0,146.0,1.0,0.0,0.0,0.0,5183.0,0.0,9.0,0.0,9.0,144.0,0.0,0.0,1619.0,0.0,0.0,5.0,0.0,3348.0,4303.0,0.0,0.0,0.0,null,0.0,0.0,82.0,null,471.0,0.0,29.0,0.0,0.0,0.0,0.0,401.0,0.0,0.0,0.0,0.0,323.0,59.0,0.0,0.0,0.0,0.0,2.0,0.0,0.0,0.0,0.0,0.0,0.0,0.0,0.0,0.0,3427.0,0.0,0.0,0.0,557.0,5732.0,641.0,320.0,0.0,0.0,0.0,0.0,0.0,9.0,0.0,45.0,0.0,681.0,0.0,16.0,0.0,252.0,0.0,762.0,445.0,0.0,0.0,764.0,0.0,2525.0,1.0,0.0,0.0,0.0,32.0,442.0,21.0,0.0,0.0,1354.0,0.0,0.0,0.0,1.0,0.0,0.0,146.0,0.0,0.0,0.0,0.0,0.0,1814.0,0.0,854.0,54.0,0.0,110.0,105.0,0.0,0.0,0.0,183.0,0.0,0.0,0.0,0.0,0.0,0.0,0.0,0.0,0.0,0.0,0.0,1.0,0.0,1.0,0.0,670.0,422.0,0.0,0.0,0.0,0.0,0.0,124.0,0.0,9.0,0.0,0.0,0.0,0.0,881.0,null,1852.0,0.0,0.0,502.0,0.0,0.0,null,0.0,0.0,0.0,49.0,0.0,0.0,0.0,0.0,1197.0,1018.0,0.0,0.0,150.0,140.0,0.0,11.0,339.0,675.0,0.0,0.0,25.0,1958.0,118.0,1517.0,2210.0,0.0,0.0,0.0,0.0,1.0,0.0,0.0,0.0,0.0,0.0,0.0,0.0,768.0,17.0,140.0,20.0,0.0,0.0,1360.0,49.0,4507.0,0.0,23.0,989.0,9.0,0.0,7.0,0.0,0.0,0.0,541.0,0.0,0.0,0.0,0.0,0.0,0.0,0.0,0.0,55.0,0.0,12.0,0.0,41.0,0.0,0.0,0.0,0.0,0.0,null,4343.0,74.0,12.0,0.0,8.0,0.0,387.0,0.0,0.0,0.0,0.0,452.0,0.0,0.0,31.0,1132.0,0.0,30.0,0.0,0.0,0.0,0.0,0.0,0.0,0.0,0.0,261.0,0.0,184.0,0.0,152.0,786.0,0.0,0.0,4.0,0.0,188.0,38.0,0.0,2247.0,0.0,0.0,0.0,0.0,41.0,0.0,3190.0,0.0,0.0,0.0,4302.0,0.0,1022.0,48.0,0.0,0.0,12.0,null,15.0,93.0,null,0.0,0.0,170.0,0.0,0.0,0.0,0.0,0.0,4476.0,0.0,0.0,0.0,175.0,0.0,1018.0,0.0,3.0,0.0,0.0,0.0,0.0,0.0,0.0,2177.0,89.0,0.0,0.0,0.0,7.0,0.0,0.0,874.0,0.0,0.0,0.0,1590.0,0.0,1953.0,0.0,0.0,0.0,0.0,0.0,304.0,0.0,0.0,0.0,0.0,0.0,null,4614.0,0.0,0.0,0.0,0.0,0.0,0.0,0.0,0.0,55.0,0.0,0.0,59.0,7.0,2.0,795.0,0.0,838.0,424.0,0.0,0.0,0.0,266.0,0.0,0.0,0.0,0.0,0.0,0.0,1.0,0.0,0.0,0.0,0.0,0.0,0.0,0.0,0.0,2.0,0.0,0.0,92.0,246.0,2529.0,0.0,0.0,2.0,0.0,447.0,0.0,31.0,18.0,0.0,0.0,0.0,10.0,9.0,0.0,0.0,0.0,0.0,0.0,413.0,null,148.0,435.0,null,9038.0,145.0,0.0,136.0,31.0,369.0,5907.0,544.0,139.0,886.0,0.0,0.0,169.0,15.0,0.0,0.0,0.0,0.0,0.0,507.0,2761.0,43.0,0.0,135.0,0.0,126.0,0.0,2121.0,1867.0,18.0,630.0,0.0,0.0,0.0,0.0,1175.0,0.0,0.0,0.0,342.0,0.0,0.0,0.0,0.0,null,0.0,5.0,0.0,0.0,0.0,0.0,0.0,304.0,167.0,0.0,0.0,0.0,0.0,1026.0,3.0,0.0,0.0,0.0,0.0,0.0,0.0,0.0,0.0,0.0,0.0,136.0,0.0,0.0,0.0,12.0,150.0,0.0,55.0,0.0,4.0,0.0,184.0,9927.0,21.0,0.0,0.0,1748.0,449.0,0.0,11.0,0.0,22.0,253.0,0.0,0.0,0.0,0.0,0.0,0.0,9.0,0.0,0.0,0.0,0.0,0.0,6.0,0.0,0.0,0.0,0.0,554.0,1125.0,0.0,1.0,0.0,954.0,1277.0,0.0,594.0,0.0,202.0,0.0,0.0,38.0,279.0,0.0,0.0,0.0,8.0,0.0,0.0,675.0,0.0,0.0,499.0,5.0,0.0,960.0,0.0,815.0,0.0,0.0,3.0,0.0,0.0,74.0,0.0,0.0,0.0,0.0,0.0,0.0,53.0,21.0,0.0,295.0,0.0,0.0,0.0,0.0,14.0,0.0,0.0,0.0,283.0,0.0,0.0,0.0,564.0,0.0,0.0,852.0,16.0,0.0,0.0,0.0,0.0,641.0,0.0,0.0,0.0,677.0,0.0,192.0,0.0,0.0,0.0,0.0,0.0,245.0,0.0,1710.0,0.0,1.0,16.0,246.0,0.0,55.0,3.0,58.0,0.0,0.0,0.0,0.0,0.0,0.0,0.0,0.0,743.0,135.0,0.0,787.0,0.0,199.0,0.0,0.0,0.0,0.0,3.0,0.0,0.0,0.0,0.0,0.0,0.0,0.0,0.0,0.0,0.0,7368.0,8.0,118.0,0.0,0.0,26.0,0.0,0.0,0.0,0.0,0.0,0.0,0.0,0.0,null,0.0,0.0,0.0,0.0,3072.0,0.0,43.0,16139.0,103.0,0.0,32.0,205.0,0.0,0.0,1.0,0.0,68.0,0.0,0.0,0.0,0.0,0.0,0.0,0.0,0.0,4.0,0.0,0.0,0.0,679.0,0.0,0.0,0.0,0.0,0.0,4.0,0.0,0.0,3026.0,71.0,0.0,187.0,0.0,0.0,0.0,337.0,0.0,0.0,703.0,354.0,30.0,0.0,0.0,0.0,0.0,0.0,0.0,78.0,0.0,null,560.0,0.0,0.0,0.0,0.0,2143.0,345.0,0.0,1608.0,131.0,0.0,28.0,0.0,0.0,33.0,291.0,0.0,0.0,4651.0,0.0,0.0,27.0,1.0,831.0,0.0,40.0,0.0,115.0,1374.0,371.0,565.0,0.0,61.0,0.0,229.0,null,0.0,10.0,1737.0,0.0,0.0,50.0,0.0,51.0,0.0,0.0,0.0,759.0,40.0,0.0,0.0,0.0,0.0,0.0,714.0,0.0,0.0,0.0,0.0,null,1.0,0.0,0.0,0.0,0.0,202.0,842.0,0.0,0.0,0.0,0.0,719.0,5.0,380.0,146.0,0.0,0.0,0.0,0.0,0.0,0.0,1010.0,0.0,0.0,0.0,8145.0,3198.0,0.0,0.0,4948.0,0.0,0.0,0.0,0.0,0.0,4664.0,0.0,0.0,0.0,0.0,0.0,0.0,0.0,0.0,0.0,0.0,0.0,0.0,458.0,1.0,0.0,203.0,229.0,0.0,0.0,610.0,0.0,0.0,721.0,1.0,369.0,0.0,0.0,460.0,202.0,0.0,0.0,660.0,0.0,0.0,0.0,0.0,0.0,310.0,0.0,0.0,119.0,3656.0,0.0,0.0,0.0,3.0,0.0,0.0,0.0,0.0,42.0,null,0.0,769.0,2735.0,0.0,0.0,0.0,260.0,0.0,0.0,2.0,0.0,0.0,0.0,0.0,0.0,0.0,0.0,16.0,0.0,151.0,298.0,0.0,489.0,0.0,560.0,0.0,59.0,0.0,0.0,null,78.0,4170.0,0.0,8.0,401.0,0.0,0.0,0.0,0.0,0.0,17.0,0.0,1520.0,0.0,0.0,26.0,0.0,0.0,0.0,0.0,0.0,0.0,0.0,692.0,0.0,59.0,0.0,0.0,0.0,0.0,250.0,460.0,1.0,0.0,0.0,133.0,0.0,0.0,0.0,195.0,760.0,null,11.0,0.0,0.0,1.0,0.0,0.0,0.0,5467.0,3208.0,0.0,26.0,0.0,51.0,6255.0,0.0,5.0,0.0,4060.0,0.0,16.0,0.0,10.0,16594.0,4422.0,323.0,0.0,0.0,0.0,0.0,1.0,0.0,61.0,null,417.0,0.0,0.0,0.0,0.0,0.0,0.0,813.0,3998.0,817.0,2.0,0.0,0.0,0.0,2.0,0.0,0.0,0.0,0.0,0.0,0.0,0.0,594.0,1.0,0.0,9.0,2.0,419.0,441.0,null,0.0,0.0,284.0,0.0,1966.0,6431.0,0.0,0.0,0.0,0.0,0.0,0.0,0.0,254.0,0.0,0.0,2.0,45.0,0.0,277.0,1.0,0.0,0.0,21.0,1440.0,0.0,3718.0,720.0,20.0,0.0,0.0,67.0,32.0,0.0,0.0,42.0,0.0,0.0,0.0,2987.0,0.0,0.0,0.0,102.0,0.0,0.0,0.0,9.0,0.0,0.0,0.0,723.0,0.0,0.0,0.0,176.0,1.0,0.0,0.0,0.0,0.0,371.0,0.0,0.0,0.0,724.0,12.0,33.0,320.0,0.0,732.0,2.0,null,0.0,0.0,0.0,0.0,747.0,2681.0,0.0,0.0,0.0,616.0,1435.0,2.0,0.0,2.0,0.0,0.0,35.0,685.0,0.0,0.0,515.0,0.0,239.0,0.0,0.0,null,0.0,0.0,0.0,2113.0,0.0,0.0,0.0,0.0,732.0,0.0,0.0,0.0,0.0,0.0,0.0,71.0,0.0,307.0,618.0,0.0,0.0,0.0,3.0,0.0,0.0,null,0.0,0.0,774.0,0.0,0.0,0.0,109.0,4.0,0.0,905.0,0.0,2136.0,0.0,1306.0,542.0,0.0,null,101.0,16.0,0.0,0.0,2.0,0.0,6704.0,797.0,1.0,0.0,0.0,0.0,793.0,0.0,0.0,0.0,0.0,0.0,0.0,0.0,0.0,5.0,0.0,0.0,2.0,15331.0,773.0,0.0,0.0,0.0,6200.0,0.0,0.0,0.0,2.0,0.0,0.0,0.0,8.0,0.0,20.0,102.0,0.0,825.0,21.0,2421.0,0.0,0.0,0.0,236.0,0.0,0.0,0.0,0.0,135.0,73.0,0.0,0.0,359.0,87.0,568.0,0.0,0.0,0.0,0.0,0.0,0.0,467.0,0.0,0.0,0.0,0.0,221.0,0.0,13.0,2.0,0.0,0.0,0.0,0.0,0.0,0.0,39.0,318.0,26.0,49.0,20.0,174.0,59.0,0.0,0.0,0.0,0.0,6.0,57.0,0.0,732.0,0.0,0.0,null,39.0,0.0,0.0,0.0,0.0,0.0,0.0,0.0,73.0,0.0,null,null,34.0,1208.0,0.0,0.0,376.0,84.0,0.0,0.0,0.0,0.0,0.0,787.0,553.0,0.0,0.0,0.0,140.0,2.0,51.0,0.0,0.0,12.0,0.0,360.0,6.0,77.0,0.0,0.0,0.0,182.0,2.0,56.0,624.0,123.0,2.0,2204.0,207.0,0.0,0.0,0.0,4102.0,0.0,1.0,0.0,null,0.0,0.0,0.0,788.0,0.0,0.0,1282.0,0.0,735.0,0.0,0.0,0.0,0.0,27.0,52.0,0.0,0.0,391.0,0.0,0.0,0.0,4.0,0.0,0.0,0.0,0.0,646.0,0.0,0.0,0.0,172.0,0.0,0.0,0.0,486.0,806.0,724.0,19.0,0.0,86.0,0.0,0.0,0.0,611.0,46.0,728.0,0.0,0.0,0.0,0.0,309.0,363.0,5037.0,78.0,1806.0,0.0,0.0,0.0,0.0,1431.0,0.0,0.0,0.0,126.0,1095.0,5.0,37.0,0.0,12.0,0.0,0.0,1339.0,0.0,0.0,4.0,0.0,0.0,0.0,0.0,166.0,0.0,null,0.0,0.0,110.0,39.0,0.0,3.0,0.0,56.0,0.0,731.0,0.0,101.0,8.0,0.0,0.0,0.0,0.0,0.0,1.0,393.0,0.0,4.0,6.0,824.0,0.0,0.0,1200.0,375.0,0.0,0.0,2448.0,633.0,0.0,0.0,10.0,1.0,null,0.0,3175.0,0.0,0.0,0.0,0.0,0.0,62.0,0.0,0.0,0.0,0.0,28.0,91.0,0.0,0.0,499.0,12.0,0.0,71.0,537.0,274.0,631.0,0.0,496.0,0.0,59.0,60.0,0.0,0.0,0.0,5.0,0.0,0.0,0.0,0.0,0.0,3725.0,0.0,0.0,1080.0,148.0,86.0,0.0,51.0,0.0,0.0,0.0,0.0,0.0,1.0,0.0,771.0,0.0,0.0,0.0,0.0,785.0,0.0,1.0,0.0,0.0,0.0,0.0,0.0,1528.0,0.0,0.0,0.0,0.0,0.0,0.0,0.0,712.0,1739.0,0.0,0.0,0.0,56.0,0.0,0.0,0.0,0.0,0.0,668.0,326.0,3615.0,283.0,0.0,4996.0,0.0,25.0,52.0,0.0,35.0,68.0,4759.0,0.0,6202.0,20.0,152.0,0.0,0.0,368.0,0.0,0.0,245.0,0.0,710.0,1266.0,0.0,256.0,0.0,13.0,594.0,null,0.0,0.0,3.0,2624.0,0.0,0.0,0.0,4926.0,650.0,0.0,0.0,1415.0,0.0,0.0,0.0,13036.0,0.0,0.0,0.0,0.0,0.0,40.0,80.0,0.0,0.0,0.0,20.0,10.0,91.0,85.0,0.0,0.0,1545.0,0.0,868.0,0.0,0.0,0.0,0.0,0.0,0.0,0.0,0.0,1234.0,0.0,0.0,0.0,0.0,1.0,0.0,0.0,659.0,0.0,550.0,849.0,45.0,0.0,0.0,0.0,0.0,745.0,0.0,0.0,0.0,0.0,409.0,5577.0,0.0,0.0,0.0,null,4488.0,318.0,995.0,334.0,12.0,0.0,1149.0,207.0,628.0,0.0,0.0,0.0,0.0,646.0,4027.0,102.0,0.0,2677.0,0.0,0.0,1051.0,0.0,0.0,0.0,602.0,0.0,0.0,13.0,0.0,380.0,2170.0,1257.0,6.0,0.0,698.0,0.0,0.0,0.0,252.0,204.0,0.0,null,26.0,510.0,1.0,140.0,2.0,0.0,0.0,0.0,5.0,0.0,0.0,0.0,0.0,3733.0,0.0,0.0,0.0,0.0,47.0,4996.0,2.0,null,8.0,702.0,0.0,0.0,0.0,80.0,0.0,0.0,0.0,48.0,772.0,0.0,210.0,81.0,0.0,0.0,5.0,0.0,0.0,0.0,10.0,0.0,0.0,0.0,0.0,0.0,85.0,0.0,0.0,0.0,4225.0,219.0,58.0,20.0,null,8.0,0.0,null,360.0,0.0,null,0.0,0.0,3028.0,10.0,1.0,0.0,4463.0,22.0,0.0,0.0,0.0,676.0,75.0,0.0,24.0,0.0,1249.0,9124.0,599.0,0.0,0.0,0.0,4085.0,0.0,66.0,0.0,210.0,0.0,0.0,0.0,454.0,0.0,0.0,21.0,0.0,0.0,892.0,0.0,1589.0,0.0,0.0,1452.0,0.0,857.0,0.0,0.0,0.0,0.0,0.0,0.0,0.0,0.0,0.0,605.0,0.0,1418.0,0.0,null,0.0,6.0,0.0,0.0,215.0,0.0,0.0,0.0,1.0,864.0,0.0,0.0,644.0,0.0,0.0,7818.0,0.0,94.0,0.0,0.0,0.0,1324.0,0.0,0.0,0.0,0.0,null,0.0,0.0,0.0,690.0,676.0,59.0,1.0,0.0,0.0,287.0,0.0,0.0,0.0,0.0,0.0,0.0,877.0,2650.0,0.0,47.0,0.0,0.0,0.0,0.0,0.0,null,0.0,0.0,3133.0,0.0,836.0,0.0,0.0,0.0,0.0,0.0,0.0,0.0,0.0,566.0,null,null,0.0,null,0.0,0.0,0.0,0.0,0.0,448.0,89.0,0.0,0.0,0.0,0.0,0.0,161.0,0.0,157.0,0.0,0.0,0.0,0.0,0.0,0.0,0.0,null,897.0,0.0,567.0,543.0,94.0,0.0,0.0,3573.0,0.0,0.0,0.0,0.0,0.0,0.0,0.0,0.0,0.0,0.0,0.0,0.0,0.0,660.0,33.0,808.0,0.0,1064.0,0.0,232.0,0.0,481.0,541.0,11001.0,0.0,381.0,0.0,0.0,0.0,91.0,2788.0,0.0,656.0,435.0,0.0,211.0,0.0,0.0,0.0,285.0,0.0,0.0,0.0,null,0.0,0.0,0.0,1.0,0.0,0.0,0.0,null,0.0,0.0,35.0,0.0,1555.0,117.0,0.0,1899.0,0.0,0.0,1402.0,2835.0,7.0,2.0,0.0,1.0,0.0,2.0,0.0,0.0,0.0,0.0,0.0,0.0,0.0,0.0,0.0,0.0,0.0,2549.0,0.0,null,0.0,549.0,0.0,0.0,89.0,0.0,0.0,0.0,0.0,0.0,0.0,0.0,1409.0,26.0,0.0,0.0,641.0,0.0,0.0,0.0,0.0,3508.0,673.0,0.0,0.0,0.0,0.0,201.0,568.0,58.0,0.0,0.0,0.0,0.0,0.0,53.0,0.0,1657.0,0.0,0.0,0.0,0.0,0.0,0.0,0.0,0.0,0.0,0.0,0.0,73.0,0.0,0.0,445.0,0.0,0.0,0.0,0.0,0.0,0.0,55.0,3.0,0.0,0.0,0.0,454.0,0.0,2085.0,17.0,0.0,0.0,0.0,72.0,671.0,759.0,0.0,0.0,0.0,739.0,3.0,10860.0,0.0,839.0,0.0,712.0,636.0,6.0,0.0,0.0,0.0,0.0,0.0,686.0,132.0,0.0,2.0,750.0,0.0,0.0,4.0,0.0,0.0,0.0,2838.0,87.0,15.0,56.0,8.0,0.0,90.0,1367.0,10.0,0.0,8.0,4.0,13208.0,0.0,43.0,0.0,160.0,559.0,0.0,72.0,210.0,263.0,0.0,4.0,0.0,153.0,0.0,0.0,0.0,0.0,0.0,0.0,194.0,0.0,0.0,0.0,0.0,1622.0,0.0,0.0,0.0,0.0,191.0,0.0,30.0,0.0,0.0,0.0,0.0,0.0,0.0,0.0,48.0,272.0,0.0,784.0,0.0,0.0,1674.0,0.0,0.0,0.0,0.0,0.0,281.0,0.0,0.0,null,254.0,2.0,0.0,0.0,5.0,0.0,0.0,179.0,0.0,0.0,0.0,758.0,0.0,74.0,0.0,888.0,0.0,14.0,0.0,0.0,0.0,0.0,180.0,0.0,166.0,0.0,7.0,0.0,0.0,0.0,96.0,757.0,92.0,0.0,0.0,0.0,null,0.0,0.0,0.0,0.0,2864.0,52.0,0.0,195.0,64.0,0.0,0.0,0.0,1313.0,674.0,4689.0,10.0,0.0,0.0,3.0,2622.0,863.0,0.0,54.0,0.0,881.0,0.0,13104.0,0.0,268.0,170.0,22.0,0.0,0.0,0.0,0.0,0.0,120.0,0.0,0.0,0.0,0.0,0.0,2.0,0.0,0.0,0.0,0.0,0.0,0.0,0.0,0.0,0.0,0.0,0.0,18.0,3538.0,495.0,2085.0,0.0,2205.0,548.0,3.0,0.0,146.0,0.0,0.0,0.0,0.0,461.0,0.0,692.0,null,40.0,0.0,0.0,0.0,0.0,1053.0,0.0,0.0,0.0,0.0,0.0,0.0,31.0,38.0,0.0,920.0,null,0.0,30.0,0.0,0.0,0.0,338.0,0.0,0.0,0.0,0.0,0.0,null,62.0,0.0,3.0,0.0,0.0,0.0,0.0,0.0,0.0,0.0,0.0,244.0,0.0,970.0,0.0,300.0,null,0.0,0.0,104.0,0.0,0.0,124.0,0.0,0.0,0.0,0.0,0.0,0.0,0.0,0.0,15.0,0.0,107.0,0.0,19.0,0.0,0.0,0.0,857.0,0.0,6841.0,2.0,0.0,7.0,717.0,30.0,0.0,569.0,0.0,0.0,0.0,0.0,577.0,null,0.0,2.0,0.0,0.0,107.0,614.0,0.0,724.0,0.0,270.0,258.0,0.0,0.0,38.0,null,26.0,0.0,0.0,0.0,0.0,0.0,4114.0,0.0,308.0,0.0,160.0,123.0,0.0,0.0,0.0,4.0,124.0,0.0,425.0,null,0.0,0.0,744.0,0.0,0.0,0.0,7627.0,6.0,207.0,347.0,112.0,639.0,157.0,5391.0,60.0,0.0,2.0,3154.0,0.0,187.0,128.0,607.0,0.0,0.0,360.0,0.0,48.0,0.0,0.0,0.0,0.0,643.0,0.0,0.0,178.0,0.0,0.0,5.0,0.0,0.0,0.0,0.0,48.0,null,1.0,10976.0,306.0,41.0,null,0.0,0.0,65.0,1745.0,0.0,0.0,0.0,450.0,0.0,356.0,0.0,0.0,7.0,0.0,0.0,21.0,0.0,0.0,581.0,822.0,1784.0,0.0,0.0,1497.0,0.0,153.0,0.0,0.0,820.0,7860.0,0.0,43.0,121.0,9.0,0.0,0.0,0.0,0.0,0.0,0.0,1158.0,0.0,0.0,195.0,9.0,0.0,0.0,0.0,26.0,0.0,857.0,0.0,277.0,0.0,286.0,0.0,0.0,0.0,0.0,0.0,232.0,0.0,1104.0,0.0,0.0,0.0,0.0,0.0,0.0,85.0,0.0,678.0,0.0,0.0,0.0,0.0,0.0,257.0,0.0,0.0,0.0,2.0,0.0,58.0,0.0,0.0,0.0,295.0,1.0,0.0,0.0,4.0,0.0,0.0,5.0,3.0,0.0,0.0,128.0,0.0,0.0,241.0,0.0,0.0,0.0,0.0,0.0,0.0,0.0,0.0,null,0.0,0.0,223.0,31.0,0.0,0.0,0.0,0.0,588.0,0.0,0.0,0.0,227.0,12.0,8873.0,0.0,573.0,0.0,null,3583.0,1287.0,2645.0,0.0,0.0,1225.0,325.0,0.0,0.0,0.0,36.0,0.0,5.0,517.0,0.0,0.0,709.0,0.0,0.0,102.0,0.0,68.0,397.0,498.0,0.0,0.0,0.0,0.0,0.0,756.0,589.0,0.0,117.0,0.0,0.0,0.0,0.0,0.0,8.0,0.0,0.0,46.0,594.0,0.0,0.0,0.0,1372.0,699.0,0.0,0.0,893.0,6.0,0.0,0.0,0.0,0.0,0.0,0.0,184.0,733.0,35.0,121.0,0.0,null,0.0,0.0,0.0,0.0,0.0,0.0,85.0,753.0,174.0,646.0,846.0,0.0,0.0,0.0,0.0,625.0,0.0,0.0,10385.0,null,0.0,0.0,205.0,0.0,0.0,866.0,5.0,0.0,127.0,0.0,0.0,1147.0,0.0,0.0,0.0,0.0,0.0,0.0,36.0,125.0,0.0,0.0,476.0,3725.0,0.0,139.0,null,0.0,22.0,0.0,0.0,0.0,0.0,15.0,0.0,0.0,0.0,0.0,0.0,0.0,0.0,0.0,0.0,0.0,4.0,0.0,298.0,0.0,0.0,0.0,0.0,7740.0,3653.0,0.0,0.0,0.0,0.0,0.0,null,0.0,0.0,12062.0,0.0,12.0,265.0,11.0,880.0,0.0,0.0,1371.0,0.0,0.0,0.0,0.0,0.0,0.0,0.0,5.0,0.0,0.0,898.0,0.0,0.0,0.0,0.0,0.0,0.0,719.0,602.0,0.0,0.0,0.0,0.0,0.0,0.0,0.0,1026.0,17.0,0.0,0.0,0.0,0.0,0.0,0.0,100.0,0.0,148.0,10.0,0.0,0.0,0.0,0.0,3668.0,4125.0,0.0,74.0,0.0,7967.0,0.0,23.0,0.0,0.0,0.0,0.0,0.0,0.0,670.0,0.0,0.0,0.0,799.0,897.0,0.0,0.0,2.0,0.0,0.0,104.0,6616.0,0.0,2.0,0.0,0.0,0.0,0.0,0.0,0.0,909.0,0.0,198.0,0.0,1.0,15.0,0.0,945.0,0.0,21.0,0.0,68.0,0.0,2462.0,414.0,0.0,0.0,0.0,0.0,null,0.0,0.0,0.0,266.0,0.0,159.0,881.0,0.0,0.0,0.0,0.0,25.0,0.0,0.0,0.0,0.0,0.0,3.0,149.0,0.0,0.0,null,0.0,0.0,10.0,0.0,0.0,0.0,166.0,0.0,131.0,0.0,1529.0,0.0,1149.0,944.0,0.0,0.0,1756.0,6.0,96.0,273.0,2279.0,0.0,0.0,0.0,0.0,0.0,12.0,0.0,0.0,0.0,9.0,0.0,0.0,0.0,0.0,0.0,0.0,0.0,0.0,0.0,0.0,0.0,0.0,0.0,0.0,0.0,0.0,0.0,1.0,8.0,0.0,733.0,0.0,2.0,106.0,18.0,0.0,0.0,0.0,27.0,0.0,0.0,130.0,0.0,0.0,0.0,0.0,0.0,0.0,0.0,0.0,2581.0,0.0,327.0,258.0,0.0,2948.0,0.0,812.0,76.0,0.0,0.0,139.0,3778.0,0.0,0.0,0.0,1.0,35.0,572.0,0.0,5.0,1679.0,84.0,0.0,7.0,0.0,0.0,450.0,0.0,739.0,22.0,0.0,0.0,15.0,487.0,0.0,0.0,0.0,12.0,0.0,0.0,0.0,0.0,0.0,0.0,0.0,0.0,0.0,3340.0,8.0,0.0,0.0,0.0,0.0,0.0,0.0,2.0,0.0,0.0,0.0,14.0,0.0,0.0,1486.0,0.0,0.0,0.0,498.0,0.0,410.0,484.0,0.0,111.0,1.0,49.0,0.0,0.0,0.0,0.0,72.0,0.0,0.0,0.0,0.0,0.0,0.0,0.0,1144.0,0.0,0.0,366.0,0.0,467.0,3003.0,0.0,0.0,71.0,1.0,0.0,0.0,0.0,0.0,0.0,85.0,218.0,518.0,0.0,0.0,1792.0,0.0,0.0,1640.0,0.0,330.0,0.0,0.0,0.0,435.0,359.0,16.0,0.0,0.0,241.0,0.0,195.0,null,0.0,0.0,0.0,null,207.0,370.0,1.0,47.0,0.0,0.0,0.0,0.0,0.0,0.0,0.0,0.0,0.0,0.0,0.0,138.0,null,0.0,0.0,0.0,0.0,1.0,0.0,0.0,0.0,null,0.0,0.0,0.0,2989.0,0.0,173.0,685.0,0.0,3.0,1924.0,20.0,250.0,0.0,76.0,0.0,0.0,0.0,55.0,0.0,755.0,234.0,0.0,193.0,0.0,0.0,0.0,0.0,3440.0,0.0,35.0,108.0,63.0,0.0,0.0,0.0,0.0,0.0,0.0,0.0,0.0,0.0,19.0,null,0.0,0.0,4.0,null,4494.0,0.0,0.0,2.0,0.0,0.0,0.0,0.0,9.0,0.0,0.0,1433.0,0.0,0.0,10.0,27.0,0.0,3981.0,0.0,0.0,1465.0,0.0,0.0,0.0,0.0,0.0,null,0.0,0.0,27.0,0.0,0.0,36.0,604.0,0.0,0.0,0.0,0.0,0.0,15.0,17.0,0.0,724.0,789.0,0.0,0.0,0.0,0.0,104.0,0.0,50.0,1565.0,393.0,68.0,5.0,0.0,0.0,0.0,0.0,2.0,0.0,0.0,15.0,0.0,79.0,54.0,0.0,36.0,0.0,0.0,97.0,0.0,1589.0,0.0,0.0,0.0,0.0,0.0,0.0,0.0,0.0,0.0,0.0,0.0,658.0,0.0,0.0,0.0,0.0,0.0,0.0,0.0,40.0,0.0,0.0,0.0,0.0,0.0,4.0,0.0,845.0,785.0,595.0,0.0,4.0,null,0.0,0.0,0.0,0.0,0.0,0.0,0.0,2241.0,0.0,0.0,0.0,0.0,0.0,null,0.0,3.0,0.0,0.0,0.0,0.0,1046.0,94.0,0.0,20.0,0.0,44.0,0.0,578.0,0.0,49.0,65.0,0.0,0.0,13.0,0.0,0.0,263.0,0.0,650.0,1313.0,1250.0,0.0,1819.0,481.0,0.0,29.0,0.0,0.0,0.0,7.0,0.0,0.0,0.0,1.0,0.0,0.0,0.0,607.0,0.0,1203.0,50.0,4.0,203.0,544.0,0.0,0.0,22.0,0.0,0.0,0.0,0.0,0.0,0.0,0.0,0.0,0.0,0.0,0.0,0.0,0.0,0.0,0.0,7.0,0.0,756.0,0.0,58.0,0.0,0.0,0.0,0.0,11.0,4.0,0.0,16.0,7.0,1.0,1098.0,0.0,0.0,1.0,0.0,0.0,0.0,0.0,0.0,439.0,2.0,0.0,0.0,0.0,0.0,0.0,0.0,0.0,0.0,0.0,0.0,0.0,0.0,0.0,0.0,0.0,0.0,0.0,0.0,2.0,0.0,0.0,0.0,0.0,0.0,0.0,0.0,0.0,1247.0,0.0,315.0,1193.0,750.0,0.0,0.0,0.0,0.0,0.0,0.0,20.0,0.0,416.0,0.0,512.0,0.0,0.0,0.0,0.0,0.0,0.0,0.0,0.0,0.0,0.0,0.0,2456.0,0.0,0.0,708.0,0.0,0.0,49.0,null,0.0,0.0,0.0,32.0,118.0,0.0,0.0,1348.0,0.0,0.0,0.0,2067.0,0.0,0.0,2.0,2.0,0.0,0.0,null,0.0,0.0,0.0,67.0,0.0,148.0,0.0,0.0,0.0,0.0,7561.0,0.0,0.0,0.0,0.0,31.0,0.0,7.0,0.0,1097.0,3.0,0.0,14.0,183.0,3.0,0.0,0.0,0.0,3.0,0.0,0.0,0.0,0.0,5.0,0.0,18.0,97.0,847.0,0.0,0.0,166.0,0.0,0.0,0.0,0.0,0.0,0.0,8.0,0.0,0.0,3.0,0.0,null,0.0,0.0,1493.0,40.0,0.0,0.0,0.0,0.0,5.0,544.0,3200.0,0.0,2.0,0.0,0.0,545.0,0.0,0.0,211.0,5.0,46.0,0.0,5.0,0.0,122.0,0.0,0.0,0.0,0.0,2.0,0.0,0.0,0.0,2436.0,0.0,0.0,0.0,0.0,0.0,658.0,557.0,20.0,0.0,0.0,352.0,855.0,480.0,0.0,87.0,0.0,0.0,1675.0,6.0,91.0,0.0,0.0,0.0,0.0,0.0,4840.0,1022.0,1817.0,3975.0,26.0,0.0,0.0,0.0,0.0,240.0,0.0,754.0,0.0,0.0,17.0,128.0,0.0,1.0,293.0,0.0,0.0,0.0,58.0,7.0,0.0,0.0,2.0,0.0,0.0,0.0,null,null,4280.0,0.0,0.0,0.0,0.0,0.0,null,0.0,665.0,1.0,0.0,608.0,732.0,0.0,196.0,0.0,0.0,820.0,10.0,173.0,184.0,0.0,0.0,580.0,0.0,0.0,0.0,66.0,0.0,3840.0,101.0,0.0,284.0,698.0,192.0,0.0,3013.0,0.0,3314.0,0.0,768.0,0.0,0.0,97.0,671.0,0.0,74.0,0.0,2.0,1254.0,2882.0,0.0,0.0,0.0,117.0,0.0,270.0,0.0,0.0,0.0,0.0,0.0,0.0,0.0,669.0,8.0,422.0,0.0,0.0,0.0,1283.0,0.0,0.0,0.0,0.0,0.0,604.0,0.0,0.0,0.0,0.0,267.0,3.0,0.0,0.0,0.0,3.0,0.0,0.0,0.0,0.0,0.0,1156.0,0.0,0.0,589.0,7.0,0.0,0.0,775.0,0.0,0.0,3.0,0.0,0.0,2143.0,0.0,0.0,843.0,0.0,1301.0,3131.0,0.0,0.0,2740.0,22.0,0.0,0.0,0.0,0.0,562.0,0.0,0.0,0.0,4.0,0.0,0.0,0.0,4.0,124.0,null,0.0,206.0,null,696.0,425.0,0.0,0.0,734.0,0.0,0.0,4.0,0.0,0.0,0.0,0.0,1494.0,0.0,7.0,0.0,812.0,288.0,0.0,0.0,0.0,0.0,0.0,0.0,0.0,0.0,18.0,0.0,0.0,0.0,289.0,393.0,733.0,0.0,0.0,681.0,646.0,0.0,0.0,0.0,0.0,0.0,0.0,0.0,0.0,6.0,108.0,121.0,0.0,0.0,0.0,78.0,725.0,0.0,0.0,12.0,0.0,0.0,1366.0,3565.0,0.0,805.0,209.0,795.0,513.0,0.0,10.0,0.0,0.0,0.0,0.0,0.0,0.0,0.0,0.0,1.0,0.0,560.0,3094.0,7113.0,0.0,180.0,null,0.0,0.0,31.0,0.0,6.0,0.0,31.0,0.0,0.0,134.0,null,2.0,0.0,0.0,0.0,0.0,0.0,0.0,0.0,1353.0,1.0,51.0,0.0,0.0,4643.0,0.0,59.0,0.0,0.0,1.0,0.0,0.0,0.0,161.0,0.0,187.0,null,13.0,0.0,0.0,0.0,0.0,0.0,239.0,2.0,0.0,740.0,0.0,802.0,92.0,16.0,0.0,407.0,0.0,0.0,0.0,0.0,0.0,0.0,0.0,0.0,0.0,69.0,0.0,504.0,0.0,0.0,39.0,201.0,0.0,19.0,14.0,0.0,0.0,8.0,0.0,0.0,0.0,0.0,0.0,0.0,0.0,0.0,194.0,19.0,292.0,0.0,137.0,2.0,117.0,525.0,0.0,0.0,0.0,1.0,0.0,44.0,0.0,748.0,0.0,0.0,0.0,0.0,1777.0,0.0,0.0,0.0,17.0,null,36.0,278.0,694.0,0.0,15238.0,0.0,0.0,1940.0,0.0,0.0,0.0,0.0,359.0,0.0,0.0,4098.0,0.0,0.0,765.0,7.0,0.0,475.0,3.0,0.0,0.0,209.0,204.0,5492.0,1.0,1635.0,0.0,0.0,0.0,0.0,0.0,10.0,3001.0,625.0,54.0,6167.0,0.0,0.0,0.0,725.0,19.0,277.0,81.0,774.0,3044.0,6075.0,412.0,1026.0,0.0,1014.0,0.0,1.0,0.0,0.0,768.0,0.0,0.0,0.0,7.0,36.0,1.0,0.0,51.0,0.0,0.0,1331.0,0.0,14.0,0.0,0.0,0.0,0.0,10941.0,2144.0,5270.0,2.0,0.0,0.0,0.0,1742.0,0.0,713.0,4030.0,0.0,250.0,1.0,0.0,177.0,266.0,0.0,1251.0,902.0,34.0,380.0,0.0,0.0,0.0,null,0.0,0.0,1821.0,0.0,0.0,117.0,0.0,0.0,0.0,3434.0,null,0.0,0.0,0.0,1.0,0.0,0.0,0.0,0.0,0.0,0.0,33.0,0.0,0.0,0.0,0.0,0.0,121.0,65.0,544.0,110.0,1006.0,0.0,0.0,0.0,0.0,107.0,0.0,1404.0,0.0,1.0,749.0,2052.0,0.0,71.0,0.0,0.0,0.0,0.0,0.0,2956.0,0.0,0.0,11.0,0.0,0.0,131.0,0.0,0.0,39.0,0.0,0.0,0.0,131.0,0.0,0.0,213.0,0.0,1777.0,4.0,1271.0,0.0,56.0,0.0,0.0,40.0,0.0,0.0,0.0,105.0,200.0,1831.0,305.0,0.0,0.0,0.0,13.0,3.0,0.0,0.0,38.0,14.0,1795.0,0.0,0.0,2.0,0.0,0.0,0.0,1810.0,0.0,693.0,0.0,5.0,0.0,0.0,8.0,0.0,0.0,0.0,0.0,0.0,1.0,0.0,0.0,0.0,228.0,123.0,0.0,0.0,2998.0,3873.0,0.0,10887.0,1318.0,0.0,0.0,0.0,9.0,778.0,0.0,253.0,0.0,1439.0,161.0,599.0,18.0,0.0,0.0,0.0,0.0,null,0.0,0.0,0.0,493.0,0.0,0.0,864.0,null,321.0,0.0,0.0,0.0,394.0,0.0,0.0,0.0,0.0,0.0,0.0,258.0,0.0,0.0,null,19.0,0.0,0.0,0.0,0.0,19.0,0.0,0.0,0.0,1381.0,1966.0,106.0,0.0,624.0,0.0,18.0,619.0,103.0,2.0,172.0,157.0,4.0,0.0,0.0,28.0,734.0,142.0,13.0,0.0,0.0,0.0,0.0,0.0,21.0,368.0,861.0,12.0,1305.0,0.0,20.0,0.0,0.0,0.0,1284.0,405.0,0.0,19.0,0.0,null,0.0,0.0,42.0,0.0,0.0,0.0,2121.0,71.0,0.0,5.0,672.0,2.0,0.0,0.0,1.0,788.0,1.0,2711.0,702.0,0.0,0.0,1.0,0.0,0.0,1679.0,0.0,0.0,0.0,0.0,0.0,0.0,7.0,0.0,0.0,0.0,0.0,0.0,0.0,0.0,14.0,0.0,0.0,0.0,304.0,0.0,1027.0,22.0,0.0,0.0,0.0,2.0,0.0,0.0,0.0,2.0,737.0,334.0,0.0,0.0,0.0,38.0,0.0,50.0,0.0,474.0,5.0,0.0,59.0,0.0,0.0,0.0,0.0,0.0,9319.0,0.0,0.0,0.0,0.0,0.0,0.0,0.0,0.0,882.0,0.0,0.0,0.0,0.0,0.0,445.0,588.0,786.0,0.0,200.0,29.0,0.0,0.0,0.0,0.0,0.0,0.0,0.0,0.0,49.0,0.0,0.0,5.0,0.0,0.0,0.0,0.0,0.0,0.0,484.0,0.0,6691.0,0.0,0.0,0.0,352.0,0.0,251.0,474.0,9.0,51.0,89.0,0.0,0.0,0.0,0.0,0.0,1386.0,0.0,131.0,2.0,1373.0,6216.0,419.0,0.0,0.0,0.0,86.0,103.0,0.0,3.0,0.0,0.0,659.0,0.0,0.0,0.0,0.0,20.0,null,0.0,56.0,0.0,0.0,3025.0,0.0,2011.0,344.0,0.0,1.0,5.0,0.0,0.0,0.0,382.0,1.0,558.0,0.0,0.0,7352.0,95.0,0.0,1600.0,1483.0,0.0,0.0,0.0,0.0,0.0,0.0,0.0,1109.0,3.0,0.0,0.0,0.0,0.0,0.0,16.0,0.0,0.0,0.0,654.0,763.0,712.0,1984.0,0.0,0.0,0.0,0.0,0.0,0.0,0.0,0.0,0.0,340.0,738.0,0.0,0.0,1893.0,21.0,0.0,0.0,0.0,0.0,0.0,0.0,0.0,48.0,10.0,0.0,0.0,0.0,704.0,0.0,322.0,0.0,0.0,939.0,0.0,0.0,0.0,0.0,38.0,20.0,0.0,0.0,2787.0,0.0,0.0,1.0,null,null,156.0,0.0,0.0,0.0,0.0,0.0,0.0,22.0,1069.0,9.0,190.0,0.0,0.0,6235.0,148.0,0.0,0.0,0.0,null,0.0,0.0,3.0,0.0,4.0,29.0,5.0,611.0,0.0,0.0,0.0,0.0,2433.0,0.0,0.0,0.0,0.0,22.0,0.0,null,54.0,0.0,0.0,107.0,0.0,0.0,0.0,283.0,554.0,0.0,0.0,0.0,1559.0,166.0,0.0,0.0,5.0,0.0,0.0,0.0,0.0,525.0,0.0,153.0,24.0,0.0,0.0,564.0,0.0,0.0,0.0,971.0,44.0,117.0,267.0,0.0,0.0,0.0,0.0,0.0,1.0,0.0,770.0,0.0,47.0,0.0,227.0,91.0,0.0,13.0,0.0,35.0,0.0,0.0,0.0,0.0,0.0,572.0,2393.0,2290.0,0.0,0.0,0.0,0.0,0.0,1866.0,0.0,0.0,1.0,258.0,0.0,1.0,79.0,594.0,5.0,87.0,0.0,0.0,0.0,null,0.0,0.0,0.0,214.0,0.0,null,4.0,175.0,0.0,0.0,0.0,0.0,0.0,0.0,0.0,0.0,0.0,0.0,0.0,8.0,0.0,6.0,0.0,190.0,0.0,61.0,0.0,324.0,0.0,0.0,94.0,null,null,1.0,0.0,0.0,101.0,0.0,0.0,0.0,0.0,12.0,677.0,0.0,367.0,434.0,0.0,0.0,1450.0,696.0,287.0,0.0,3198.0,0.0,0.0,0.0,0.0,0.0,101.0,0.0,4517.0,14.0,0.0,150.0,0.0,0.0,0.0,0.0,0.0,102.0,1010.0,2288.0,7.0,2.0,0.0,0.0,1202.0,3409.0,6.0,3.0,1332.0,62.0,136.0,158.0,null,0.0,0.0,0.0,0.0,690.0,136.0,0.0,0.0,0.0,0.0,0.0,0.0,30.0,0.0,0.0,483.0,580.0,0.0,458.0,280.0,2.0,9.0,0.0,0.0,0.0,0.0,0.0,0.0,0.0,952.0,0.0,0.0,1.0,1.0,3369.0,null,0.0,62.0,676.0,1.0,0.0,0.0,0.0,170.0,0.0,null,0.0,280.0,2.0,3.0,0.0,0.0,639.0,0.0,0.0,0.0,3.0,0.0,0.0,0.0,0.0,0.0,0.0,1114.0,0.0,130.0,739.0,7.0,1545.0,214.0,0.0,372.0,1580.0,0.0,0.0,5700.0,0.0,324.0,243.0,0.0,0.0,0.0,0.0,0.0,11.0,0.0,null,2.0,570.0,1245.0,0.0,904.0,0.0,0.0,14.0,0.0,0.0,0.0,5047.0,0.0,0.0,0.0,1478.0,285.0,720.0,161.0,0.0,0.0,0.0,0.0,83.0,76.0,0.0,0.0,0.0,620.0,0.0,0.0,0.0,20.0,301.0,699.0,0.0,0.0,814.0,0.0,0.0,0.0,0.0,676.0,635.0,703.0,null,0.0,15.0,145.0,0.0,0.0,0.0,0.0,0.0,0.0,1.0,115.0,0.0,0.0,0.0,43.0,0.0,0.0,0.0,762.0,0.0,0.0,232.0,null,0.0,0.0,0.0,3.0,0.0,0.0,2244.0,0.0,0.0,0.0,0.0,1412.0,7.0,897.0,0.0,0.0,0.0,0.0,214.0,352.0,443.0,0.0,704.0,289.0,0.0,0.0,0.0,0.0,0.0,587.0,0.0,0.0,0.0,0.0,0.0,348.0,601.0,0.0,0.0,746.0,0.0,11.0,0.0,0.0,1168.0,870.0,103.0,2.0,295.0,0.0,0.0,0.0,0.0,0.0,0.0,436.0,3926.0,0.0,104.0,0.0,0.0,0.0,4549.0,0.0,1.0,180.0,0.0,0.0,239.0,0.0,0.0,0.0,0.0,0.0,0.0,1250.0,0.0,0.0,0.0,0.0,0.0,0.0,0.0,0.0,0.0,0.0,0.0,0.0,1.0,0.0,0.0,0.0,0.0,0.0,0.0,0.0,2851.0,5.0,240.0,1453.0,0.0,0.0,0.0,3.0,0.0,3.0,0.0,0.0,679.0,63.0,3867.0,0.0,0.0,10247.0,0.0,0.0,0.0,0.0,0.0,0.0,0.0,0.0,278.0,0.0,0.0,0.0,9.0,0.0,0.0,1054.0,664.0,84.0,0.0,0.0,247.0,0.0,0.0,0.0,0.0,0.0,0.0,0.0,0.0,29.0,4103.0,0.0,692.0,0.0,434.0,0.0,0.0,0.0,0.0,0.0,0.0,144.0,0.0,0.0,0.0,0.0,7.0,176.0,0.0,0.0,489.0,0.0,711.0,77.0,0.0,0.0,2.0,5.0,1191.0,0.0,0.0,39.0,353.0,0.0,0.0,144.0,547.0,0.0,9.0,5381.0,0.0,1.0,0.0,552.0,0.0,0.0,0.0,716.0,0.0,null,0.0,342.0,1912.0,558.0,0.0,0.0,1.0,838.0,8.0,570.0,0.0,0.0,0.0,0.0,0.0,4.0,1358.0,0.0,4.0,22.0,0.0,null,23.0,0.0,0.0,1.0,223.0,0.0,1720.0,1.0,2587.0,182.0,6344.0,0.0,1472.0,0.0,113.0,0.0,0.0,0.0,0.0,129.0,0.0,359.0,7.0,425.0,0.0,0.0,6.0,0.0,2108.0,0.0,0.0,0.0,0.0,0.0,0.0,0.0,0.0,0.0,0.0,5.0,0.0,1.0,0.0,0.0,0.0,0.0,0.0,0.0,317.0,0.0,0.0,0.0,580.0,0.0,920.0,0.0,0.0,0.0,325.0,0.0,0.0,0.0,0.0,0.0,0.0,0.0,0.0,0.0,9.0,1415.0,0.0,0.0,727.0,0.0,0.0,0.0,0.0,0.0,139.0,304.0,912.0,1206.0,0.0,0.0,17.0,0.0,318.0,1501.0,436.0,0.0,0.0,0.0,769.0,0.0,0.0,0.0,0.0,0.0,0.0,0.0,0.0,0.0,507.0,20.0,888.0,0.0,93.0,0.0,0.0,1497.0,0.0,61.0,0.0,0.0,0.0,2368.0,0.0,0.0,0.0,0.0,0.0,0.0,0.0,0.0,0.0,28.0,514.0,1.0,347.0,0.0,0.0,0.0,0.0,0.0,0.0,1.0,0.0,204.0,5.0,308.0,0.0,62.0,0.0,0.0,74.0,0.0,96.0,241.0,725.0,4810.0,0.0,5474.0,0.0,899.0,274.0,21.0,0.0,2463.0,0.0,1854.0,59.0,0.0,0.0,0.0,0.0,0.0,0.0,0.0,0.0,593.0,0.0,0.0,0.0,0.0,64.0,0.0,0.0,0.0,0.0,31.0,0.0,1658.0,0.0,0.0,1482.0,61.0,0.0,1.0,7.0,0.0,2.0,0.0,0.0,0.0,0.0,49.0,0.0,null,0.0,0.0,0.0,591.0,401.0,0.0,0.0,0.0,0.0,null,0.0,4423.0,2.0,471.0,0.0,0.0,0.0,0.0,38.0,0.0,0.0,0.0,0.0,12.0,703.0,0.0,224.0,0.0,0.0,967.0,0.0,0.0,0.0,613.0,0.0,0.0,482.0,0.0,601.0,0.0,0.0,0.0,0.0,1989.0,0.0,0.0,0.0,302.0,806.0,0.0,0.0,36.0,0.0,0.0,0.0,0.0,null,0.0,0.0,14.0,0.0,1.0,0.0,1.0,304.0,1.0,0.0,1043.0,29.0,0.0,0.0,0.0,0.0,703.0,0.0,0.0,0.0,0.0,0.0,70.0,0.0,752.0,0.0,10.0,0.0,0.0,1.0,0.0,514.0,179.0,778.0,1.0,0.0,0.0,0.0,0.0,0.0,1.0,8126.0,57.0,0.0,0.0,0.0,0.0,3104.0,0.0,8810.0,0.0,0.0,167.0,0.0,0.0,22408.0,0.0,1612.0,1481.0,0.0,44.0,0.0,236.0,23.0,42.0,0.0,0.0,610.0,0.0,null,0.0,0.0,183.0,1.0,0.0,0.0,13.0,33.0,0.0,0.0,0.0,0.0,0.0,0.0,0.0,0.0,4.0,2725.0,0.0,673.0,280.0,0.0,1120.0,0.0,63.0,1.0,null,0.0,0.0,0.0,4588.0,0.0,0.0,773.0,0.0,764.0,6.0,33.0,305.0,0.0,null,2.0,1677.0,0.0,0.0,0.0,0.0,462.0,0.0,0.0,197.0,0.0,0.0,0.0,213.0,0.0,0.0,0.0,0.0,0.0,0.0,31.0,0.0,0.0,803.0,0.0,0.0,0.0,14.0,662.0,362.0,105.0,0.0,0.0,0.0,0.0,11.0,0.0,2963.0,0.0,625.0,888.0,659.0,0.0,575.0,429.0,0.0,0.0,0.0,0.0,90.0,0.0,297.0,0.0,0.0,1.0,0.0,0.0,31.0,0.0,873.0,0.0,0.0,0.0,0.0,2799.0,0.0,0.0,0.0,0.0,0.0,0.0,0.0,0.0,0.0,0.0,0.0,24.0,657.0,3.0,1179.0,130.0,1849.0,660.0,370.0,0.0,0.0,0.0,0.0,311.0,2043.0,3282.0,0.0,0.0,87.0,0.0,113.0,0.0,235.0,0.0,0.0,32.0,0.0,62.0,0.0,594.0,0.0,4.0,300.0,0.0,0.0,1.0,0.0,0.0,5.0,0.0,0.0,0.0,0.0,0.0,312.0,1082.0,0.0,0.0,0.0,0.0,0.0,2287.0,0.0,9.0,0.0,39.0,2.0,0.0,679.0,0.0,0.0,292.0,519.0,0.0,0.0,null,424.0,0.0,0.0,465.0,0.0,6.0,0.0,7.0,508.0,0.0,48.0,0.0,0.0,0.0,0.0,0.0,537.0,11.0,0.0,0.0,0.0,0.0,0.0,0.0,201.0,0.0,15.0,30.0,0.0,0.0,0.0,0.0,0.0,1964.0,10.0,6.0,673.0,null,0.0,0.0,0.0,0.0,1956.0,0.0,0.0,4368.0,34.0,0.0,0.0,10.0,0.0,143.0,696.0,0.0,0.0,0.0,0.0,0.0,0.0,0.0,0.0,0.0,0.0,0.0,287.0,479.0,0.0,1382.0,0.0,0.0,7.0,4.0,5.0,0.0,0.0,0.0,0.0,379.0,0.0,1885.0,0.0,1.0,0.0,0.0,0.0,729.0,0.0,0.0,0.0,0.0,246.0,0.0,0.0,null,0.0,0.0,0.0,0.0,1.0,null,0.0,0.0,329.0,7.0,0.0,0.0,10.0,328.0,415.0,0.0,0.0,0.0,0.0,0.0,20.0,0.0,0.0,0.0,16.0,0.0,0.0,0.0,0.0,0.0,4560.0,null,0.0,0.0,0.0,109.0,0.0,0.0,0.0,0.0,1.0,0.0,null,42.0,0.0,0.0,0.0,0.0,0.0,0.0,10.0,14.0,0.0,0.0,85.0,3.0,0.0,0.0,0.0,0.0,0.0,5568.0,297.0,0.0,0.0,1.0,508.0,0.0,0.0,0.0,null,0.0,0.0,2575.0,60.0,0.0,0.0,231.0,528.0,0.0,1806.0,56.0,0.0,0.0,0.0,0.0,1380.0,0.0,0.0,0.0,0.0,0.0,0.0,0.0,343.0,0.0,1795.0,259.0,0.0,148.0,0.0,0.0,0.0,0.0,0.0,1877.0,58.0,0.0,0.0,0.0,115.0,0.0,13.0,1530.0,596.0,0.0,0.0,0.0,0.0,160.0,0.0,0.0,0.0,0.0,0.0,3452.0,4236.0,1.0,407.0,0.0,352.0,0.0,0.0,288.0,652.0,22.0,1855.0,0.0,0.0,4921.0,149.0,108.0,0.0,0.0,4287.0,1.0,77.0,0.0,0.0,182.0,0.0,0.0,0.0,0.0,0.0,0.0,0.0,2929.0,0.0,3603.0,10912.0,439.0,1785.0,2.0,0.0,80.0,0.0,0.0,0.0,0.0,0.0,118.0,0.0,0.0,266.0,8.0,0.0,2008.0,1267.0,15.0,0.0,0.0,112.0,0.0,158.0,0.0,0.0,0.0,1308.0,747.0,2.0,6324.0,0.0,30.0,4.0,1.0,0.0,11.0,0.0,0.0,0.0,0.0,908.0,304.0,0.0,818.0,0.0,0.0,179.0,530.0,6.0,1170.0,0.0,2.0,202.0,0.0,0.0,2.0,0.0,0.0,0.0,0.0,0.0,0.0,0.0,0.0,52.0,94.0,0.0,0.0,0.0,0.0,0.0,0.0,0.0,2.0,0.0,0.0,59.0,0.0,null,0.0,14.0,0.0,0.0,642.0,0.0,0.0,0.0,394.0,2.0,2167.0,0.0,0.0,0.0,244.0,414.0,0.0,0.0,0.0,0.0,0.0,0.0,0.0,0.0,0.0,26.0,0.0,0.0,424.0,0.0,0.0,0.0,0.0,0.0,0.0,3.0,0.0,0.0,0.0,373.0,43.0,0.0,0.0,0.0,0.0,0.0,0.0,0.0,1548.0,291.0,0.0,0.0,0.0,0.0,0.0,0.0,0.0,0.0,0.0,1733.0,0.0,0.0,0.0,1525.0,0.0,0.0,0.0,34.0,0.0,0.0,8522.0,143.0,2395.0,0.0,0.0,274.0,0.0,0.0,0.0,0.0,0.0,0.0,0.0,0.0,0.0,0.0,7.0,0.0,0.0,0.0,0.0,0.0,0.0,528.0,0.0,0.0,0.0,0.0,0.0,0.0,1847.0,0.0,0.0,0.0,5015.0,37.0,null,1701.0,0.0,109.0,49.0,0.0,671.0,0.0,0.0,0.0,920.0,0.0,455.0,1611.0,0.0,0.0,0.0,0.0,0.0,0.0,0.0,0.0,0.0,null,0.0,0.0,45.0,0.0,1.0,0.0,0.0,0.0,0.0,2.0,726.0,4.0,0.0,0.0,0.0,0.0,0.0,0.0,0.0,26.0,0.0,102.0,0.0,0.0,0.0,0.0,null,0.0,0.0,0.0,0.0,691.0,0.0,1.0,0.0,0.0,0.0,0.0,null,72.0,8.0,0.0,1052.0,0.0,0.0,13.0,0.0,0.0,0.0,0.0,71.0,0.0,30.0,36.0,182.0,0.0,0.0,0.0,97.0,12.0,700.0,0.0,38.0,0.0,0.0,0.0,0.0,0.0,217.0,0.0,0.0,0.0,0.0,0.0,0.0,0.0,178.0,0.0,1490.0,0.0,0.0,444.0,0.0,2.0,1600.0,2618.0,0.0,0.0,0.0,0.0,0.0,0.0,0.0,0.0,716.0,0.0,0.0,2.0,0.0,0.0,0.0,0.0,0.0,0.0,0.0,0.0,0.0,0.0,4094.0,0.0,0.0,0.0,0.0,310.0,0.0,0.0,0.0,0.0,0.0,0.0,0.0,0.0,4232.0,0.0,14.0,13117.0,2134.0,3.0,0.0,104.0,0.0,1.0,0.0,0.0,0.0,0.0,0.0,5.0,0.0,0.0,1.0,0.0,0.0,0.0,0.0,2585.0,0.0,0.0,0.0,0.0,0.0,0.0,0.0,0.0,0.0,1483.0,0.0,938.0,0.0,0.0,11.0,0.0,0.0,854.0,580.0,0.0,2814.0,0.0,0.0,0.0,0.0,0.0,5.0,100.0,null,0.0,928.0,0.0,8330.0,0.0,1.0,0.0,557.0,0.0,0.0,0.0,0.0,0.0,0.0,112.0,36.0,446.0,0.0,661.0,0.0,0.0,0.0,0.0,672.0,0.0,797.0,19.0,0.0,0.0,0.0,0.0,87.0,134.0,34.0,0.0,804.0,4.0,0.0,80.0,5697.0,0.0,0.0,0.0,0.0,0.0,0.0,0.0,0.0,33.0,1538.0,43.0,0.0,0.0,0.0,0.0,4.0,0.0,769.0,0.0,0.0,null,0.0,641.0,0.0,0.0,93.0,186.0,649.0,3587.0,0.0,0.0,0.0,0.0,0.0,580.0,0.0,79.0,0.0,10.0,136.0,142.0,0.0,0.0,297.0,0.0,0.0,485.0,726.0,9.0,88.0,0.0,0.0,0.0,24.0,0.0,0.0,0.0,0.0,0.0,0.0,0.0,0.0,8.0,2.0,0.0,36.0,0.0,0.0,0.0,120.0,0.0,0.0,133.0,43.0,0.0,2503.0,0.0,0.0,0.0,0.0,0.0,1042.0,0.0,0.0,0.0,0.0,0.0,1.0,0.0,1125.0,3409.0,781.0,0.0,0.0,1.0,35.0,720.0,0.0,663.0,0.0,0.0,0.0,102.0,0.0,0.0,797.0,0.0,423.0,37.0,0.0,717.0,0.0,0.0,0.0,0.0,0.0,0.0,168.0,0.0,125.0,174.0,null,0.0,1.0,0.0,19.0,0.0,0.0,0.0,0.0,5.0,219.0,417.0,2349.0,0.0,0.0,8293.0,3.0,20.0,0.0,13016.0,0.0,280.0,0.0,492.0,0.0,0.0,0.0,0.0,1019.0,0.0,0.0,0.0,683.0,1368.0,0.0,9206.0,153.0,131.0,0.0,335.0,0.0,null,0.0,0.0,0.0,0.0,2.0,0.0,1442.0,0.0,670.0,0.0,0.0,669.0,0.0,0.0,0.0,0.0,0.0,0.0,0.0,0.0,1537.0,50.0,0.0,2032.0,1743.0,0.0,0.0,0.0,0.0,0.0,0.0,662.0,27.0,669.0,95.0,453.0,0.0,0.0,0.0,0.0,662.0,72.0,0.0,0.0,5248.0,0.0,0.0,null,0.0,0.0,638.0,177.0,null,null,1.0,316.0,0.0,0.0,1.0,0.0,0.0,0.0,0.0,41.0,0.0,1.0,226.0,0.0,0.0,0.0,0.0,795.0,0.0,6953.0,2038.0,0.0,1488.0,21.0,0.0,664.0,0.0,2775.0,0.0,0.0,89.0,0.0,1181.0,0.0,1.0,0.0,0.0,0.0,1.0,0.0,0.0,0.0,690.0,0.0,38.0,0.0,0.0,0.0,0.0,0.0,0.0,0.0,0.0,27.0,0.0,161.0,94.0,19.0,52.0,0.0,0.0,0.0,0.0,0.0,74.0,0.0,641.0,0.0,0.0,0.0,2160.0,1400.0,1.0,254.0,0.0,29.0,0.0,0.0,0.0,38.0,0.0,0.0,0.0,678.0,0.0,117.0,0.0,0.0,null,16.0,0.0,0.0,null,249.0,63.0,3.0,506.0,129.0,0.0,2.0,1.0,1.0,0.0,1823.0,null,15586.0,484.0,0.0,1.0,95.0,0.0,0.0,0.0,0.0,null,5458.0,0.0,128.0,0.0,null,61.0,75.0,0.0,0.0,0.0,16.0,68.0,4.0,0.0,0.0,0.0,1695.0,0.0,0.0,0.0,0.0,572.0,12.0,0.0,586.0,null,0.0,7.0,0.0,0.0,0.0,3682.0,0.0,987.0,0.0,0.0,377.0,0.0,0.0,27.0,0.0,0.0,0.0,0.0,0.0,0.0,5.0,5287.0,0.0,6.0,0.0,4.0,0.0,10.0,0.0,1915.0,34.0,0.0,170.0,0.0,0.0,0.0,0.0,0.0,0.0,409.0,null,0.0,0.0,0.0,0.0,814.0,294.0,932.0,0.0,0.0,213.0,null,0.0,758.0,0.0,16.0,0.0,1249.0,309.0,0.0,0.0,0.0,0.0,0.0,0.0,663.0,0.0,0.0,0.0,160.0,0.0,2287.0,1234.0,8.0,355.0,0.0,null,0.0,0.0,9.0,2.0,201.0,0.0,0.0,0.0,0.0,484.0,0.0,0.0,1014.0,690.0,4212.0,0.0,0.0,0.0,0.0,0.0,0.0,null,3.0,150.0,0.0,2.0,2059.0,0.0,0.0,635.0,0.0,13902.0,0.0,0.0,0.0,167.0,0.0,0.0,2809.0,0.0,13.0,0.0,0.0,0.0,0.0,1.0,480.0,0.0,0.0,1229.0,0.0,0.0,669.0,0.0,2.0,0.0,43.0,0.0,0.0,0.0,66.0,0.0,50.0,0.0,125.0,0.0,0.0,0.0,0.0,1367.0,0.0,0.0,0.0,49.0,null,1323.0,0.0,613.0,0.0,9.0,0.0,0.0,19.0,0.0,3560.0,18.0,0.0,7.0,0.0,0.0,1586.0,0.0,0.0,0.0,0.0,0.0,225.0,241.0,0.0,0.0,0.0,0.0,0.0,1503.0,0.0,0.0,0.0,0.0,38.0,0.0,584.0,798.0,0.0,2.0,0.0,519.0,0.0,0.0,1.0,505.0,1.0,847.0,0.0,0.0,null,0.0,2.0,2723.0,0.0,0.0,189.0,62.0,5.0,639.0,0.0,0.0,0.0,0.0,83.0,0.0,0.0,0.0,0.0,0.0,0.0,0.0,0.0,37.0,0.0,700.0,1.0,0.0,77.0,0.0,0.0,7786.0,0.0,0.0,1.0,1.0,0.0,597.0,0.0,0.0,3204.0,68.0,0.0,25.0,0.0,40.0,0.0,0.0,2.0,0.0,2.0,0.0,0.0,0.0,12.0,318.0,11.0,42.0,0.0,118.0,1624.0,0.0,0.0,24.0,347.0,0.0,563.0,0.0,46.0,5.0,0.0,15.0,436.0,40.0,0.0,0.0,5.0,0.0,0.0,0.0,0.0,0.0,0.0,777.0,617.0,0.0,0.0,0.0,279.0,1012.0,0.0,0.0,0.0,746.0,0.0,542.0,0.0,0.0,153.0,0.0,237.0,0.0,506.0,2.0,0.0,127.0,142.0,290.0,0.0,18.0,0.0,0.0,4.0,5491.0,0.0,0.0,0.0,9.0,8493.0,778.0,0.0,0.0,0.0,45.0,null,0.0,538.0,304.0,0.0,198.0,0.0,0.0,0.0,0.0,0.0,1.0,201.0,0.0,0.0,0.0,0.0,null,0.0,0.0,1.0,0.0,740.0,0.0,0.0,0.0,0.0,0.0,993.0,0.0,0.0,0.0,0.0,17.0,0.0,0.0,0.0,2445.0,1013.0,19.0,0.0,0.0,0.0,0.0,24.0,5250.0,242.0,61.0,0.0,0.0,0.0,0.0,0.0,0.0,0.0,0.0,981.0,0.0,835.0,0.0,156.0,25.0,863.0,0.0,0.0,0.0,0.0,0.0,0.0,0.0,0.0,4344.0,1.0,0.0,0.0,0.0,1714.0,196.0,0.0,0.0,0.0,12.0,25.0,0.0,19.0,0.0,11.0,4.0,0.0,0.0,0.0,0.0,0.0,8.0,0.0,0.0,109.0,0.0,0.0,0.0,824.0,0.0,88.0,464.0,0.0,0.0,785.0,0.0,0.0,0.0,0.0,0.0,7.0,173.0,0.0,0.0,2263.0,null,178.0,0.0,0.0,0.0,0.0,0.0,344.0,0.0,0.0,0.0,0.0,0.0,0.0,0.0,365.0,1654.0,0.0,811.0,0.0,0.0,0.0,2326.0,0.0,259.0,6.0,9181.0,0.0,98.0,4732.0,0.0,0.0,0.0,0.0,2330.0,null,0.0,0.0,0.0,1211.0,520.0,0.0,104.0,0.0,0.0,689.0,25.0,null,0.0,506.0,0.0,42.0,0.0,2423.0,948.0,0.0,509.0,25.0,0.0,0.0,0.0,0.0,0.0,0.0,0.0,0.0,0.0,0.0,0.0,0.0,0.0,0.0,0.0,388.0,0.0,17.0,0.0,0.0,0.0,0.0,0.0,548.0,0.0,0.0,0.0,886.0,1492.0,98.0,0.0,0.0,0.0,0.0,0.0,5432.0,0.0,595.0,1268.0,0.0,0.0,0.0,199.0,0.0,2.0,0.0,0.0,0.0,0.0,57.0,0.0,0.0,0.0,0.0,0.0,0.0,0.0,16.0,0.0,177.0,0.0,0.0,0.0,79.0,408.0,148.0,0.0,0.0,782.0,275.0,0.0,0.0,0.0,1.0,0.0,1425.0,59.0,87.0,111.0,0.0,0.0,432.0,0.0,1.0,0.0,11.0,0.0,0.0,0.0,0.0,9.0,110.0,0.0,0.0,0.0,180.0,0.0,1.0,2854.0,0.0,1931.0,0.0,1.0,0.0,0.0,0.0,6688.0,null,0.0,394.0,0.0,1677.0,0.0,0.0,2075.0,0.0,433.0,0.0,0.0,190.0,633.0,0.0,3.0,2441.0,122.0,570.0,0.0,78.0,0.0,7.0,0.0,0.0,2.0,0.0,4928.0,0.0,0.0,0.0,24.0,301.0,0.0,0.0,5481.0,442.0,3803.0,0.0,0.0,0.0,0.0,0.0,0.0,0.0,6.0,0.0,0.0,0.0,0.0,867.0,0.0,0.0,4794.0,588.0,0.0,0.0,0.0,0.0,0.0,0.0,1529.0,0.0,0.0,3528.0,0.0,356.0,0.0,44.0,0.0,0.0,0.0,561.0,0.0,0.0,244.0,0.0,229.0,1910.0,0.0,0.0,0.0,0.0,622.0,0.0,889.0,0.0,718.0,0.0,6.0,1.0,0.0,20.0,0.0,null,0.0,0.0,154.0,521.0,0.0,181.0,2.0,0.0,0.0,0.0,0.0,0.0,0.0,0.0,0.0,751.0,900.0,30.0,118.0,0.0,0.0,null,0.0,0.0,421.0,0.0,0.0,6.0,0.0,73.0,171.0,0.0,0.0,0.0,0.0,495.0,0.0,12.0,0.0,0.0,0.0,0.0,0.0,1773.0,136.0,0.0,645.0,0.0,0.0,0.0,0.0,0.0,0.0,12.0,0.0,0.0,208.0,123.0,0.0,0.0,1149.0,267.0,0.0,0.0,1.0,8.0,795.0,9.0,686.0,0.0,0.0,0.0,465.0,0.0,0.0,0.0,875.0,0.0,324.0,629.0,0.0,0.0,0.0,0.0,0.0,0.0,946.0,0.0,0.0,918.0,0.0,0.0,0.0,0.0,null,369.0,0.0,0.0,0.0,0.0,56.0,22.0,453.0,0.0,0.0,0.0,1.0,0.0,0.0,0.0,0.0,0.0,22.0,0.0,1866.0,87.0,0.0,0.0,497.0,0.0,0.0,null,0.0,0.0,0.0,0.0,31.0,2.0,0.0,1.0,37.0,0.0,0.0,731.0,0.0,null,0.0,0.0,4864.0,0.0,48.0,0.0,null,0.0,0.0,4.0,0.0,2274.0,0.0,0.0,0.0,0.0,829.0,null,1831.0,1098.0,0.0,408.0,0.0,1294.0,0.0,0.0,372.0,0.0,16.0,0.0,0.0,0.0,0.0,0.0,0.0,0.0,0.0,642.0,1030.0,0.0,0.0,0.0,0.0,null,0.0,0.0,0.0,0.0,4.0,115.0,0.0,0.0,0.0,0.0,1.0,2810.0,0.0,0.0,788.0,2750.0,0.0,0.0,0.0,0.0,0.0,0.0,0.0,1535.0,2256.0,null,0.0,0.0,245.0,5577.0,2148.0,0.0,0.0,0.0,0.0,0.0,null,0.0,0.0,null,0.0,0.0,112.0,0.0,22.0,2.0,0.0,206.0,0.0,0.0,58.0,0.0,0.0,0.0,0.0,0.0,0.0,564.0,0.0,2.0,334.0,0.0,0.0,33.0,0.0,14.0,0.0,9655.0,44.0,0.0,0.0,0.0,0.0,0.0,1669.0,396.0,0.0,332.0,665.0,0.0,0.0,0.0,0.0,5.0,0.0,677.0,0.0,37.0,0.0,0.0,687.0,0.0,0.0,0.0,3220.0,1873.0,0.0,33.0,110.0,4952.0,297.0,1711.0,716.0,1443.0,34.0,0.0,0.0,0.0,0.0,88.0,0.0,8.0,667.0,0.0,null,1254.0,0.0,473.0,1770.0,null,0.0,2.0,0.0,195.0,0.0,0.0,0.0,0.0,0.0,0.0,154.0,327.0,0.0,4.0,140.0,0.0,839.0,23.0,0.0,0.0,0.0,0.0,0.0,null,0.0,0.0,0.0,0.0,419.0,717.0,183.0,0.0,630.0,0.0,2183.0,0.0,18572.0,266.0,0.0,0.0,951.0,0.0,0.0,0.0,0.0,0.0,70.0,0.0,0.0,140.0,0.0,0.0,0.0,1.0,0.0,0.0,0.0,0.0,17.0,0.0,0.0,21.0,0.0,256.0,312.0,0.0,1273.0,4199.0,1.0,0.0,0.0,0.0,0.0,0.0,0.0,103.0,0.0,0.0,2519.0,0.0,0.0,2205.0,0.0,2279.0,0.0,0.0,436.0,0.0,0.0,1154.0,551.0,71.0,994.0,0.0,0.0,0.0,0.0,0.0,712.0,0.0,830.0,0.0,0.0,0.0,0.0,3441.0,0.0,0.0,0.0,0.0,15.0,0.0,0.0,0.0,553.0,83.0,0.0,0.0,0.0,141.0,0.0,0.0,0.0,0.0,0.0,2354.0,0.0,0.0,0.0,0.0,0.0,848.0,0.0,0.0,318.0,0.0,3030.0,0.0,5775.0,0.0,0.0,0.0,1663.0,1841.0,0.0,65.0,226.0,0.0,0.0,1587.0,0.0,0.0,0.0,null,0.0,1008.0,0.0,0.0,0.0,0.0,0.0,265.0,267.0,0.0,2.0,0.0,0.0,0.0,0.0,0.0,21.0,226.0,0.0,95.0,595.0,0.0,0.0,0.0,0.0,0.0,0.0,0.0,0.0,1460.0,0.0,0.0,0.0,0.0,277.0,0.0,0.0,104.0,2.0,0.0,3.0,949.0,0.0,36.0,0.0,0.0,87.0,52.0,0.0,15.0,87.0,0.0,0.0,0.0,0.0,0.0,0.0,1180.0,4925.0,165.0,0.0,1.0,0.0,0.0,976.0,0.0,245.0,1043.0,280.0,0.0,0.0,0.0,4.0,0.0,545.0,732.0,69.0,6.0,0.0,0.0,0.0,1130.0,0.0,0.0,0.0,0.0,11.0,0.0,0.0,328.0,1028.0,5.0,0.0,0.0,3.0,0.0,3939.0,8.0,0.0,6.0,634.0,726.0,623.0,0.0,0.0,0.0,null,0.0,0.0,843.0,0.0,35.0,146.0,0.0,0.0,0.0,0.0,0.0,0.0,0.0,0.0,41.0,0.0,588.0,0.0,11.0,83.0,0.0,107.0,0.0,617.0,204.0,2019.0,0.0,0.0,7.0,335.0,0.0,0.0,0.0,0.0,4111.0,30.0,0.0,8.0,0.0,0.0,492.0,0.0,132.0,0.0,4016.0,4502.0,1572.0,88.0,0.0,464.0,0.0,0.0,0.0,0.0,0.0,0.0,0.0,0.0,0.0,0.0,112.0,2760.0,1.0,41.0,0.0,0.0,0.0,0.0,0.0,0.0,17.0,0.0,0.0,0.0,0.0,0.0,0.0,22.0,500.0,112.0,207.0,0.0,0.0,0.0,0.0,0.0,307.0,0.0,0.0,56.0,0.0,379.0,0.0,0.0,0.0,427.0,0.0,0.0,0.0,0.0,5.0,125.0,0.0,0.0,0.0,0.0,1606.0,3.0,0.0,318.0,0.0,0.0,0.0,0.0,15.0,0.0,5.0,0.0,324.0,0.0,null,0.0,782.0,755.0,3657.0,41.0,0.0,0.0,80.0,null,13.0,912.0,0.0,0.0,0.0,0.0,0.0,614.0,62.0,0.0,466.0,0.0,0.0,0.0,957.0,2.0,0.0,52.0,36.0,0.0,0.0,6.0,0.0,0.0,629.0,0.0,404.0,224.0,0.0,0.0,0.0,0.0,0.0,593.0,0.0,1.0,0.0,0.0,0.0,0.0,0.0,0.0,5025.0,0.0,0.0,0.0,20.0,0.0,119.0,0.0,0.0,0.0,0.0,0.0,788.0,620.0,0.0,0.0,0.0,0.0,0.0,80.0,0.0,67.0,0.0,356.0,0.0,0.0,1465.0,0.0,588.0,525.0,0.0,147.0,0.0,967.0,2.0,39.0,0.0,0.0,0.0,0.0,102.0,0.0,0.0,0.0,64.0,0.0,3.0,722.0,0.0,0.0,0.0,299.0,320.0,391.0,0.0,0.0,618.0,0.0,0.0,217.0,135.0,0.0,298.0,0.0,0.0,0.0,0.0,13995.0,668.0,1432.0,0.0,0.0,0.0,0.0,null,471.0,0.0,0.0,2234.0,0.0,0.0,559.0,45.0,3786.0,0.0,184.0,135.0,148.0,11.0,0.0,2718.0,0.0,0.0,0.0,568.0,3.0,46.0,0.0,162.0,232.0,1376.0,0.0,0.0,59.0,0.0,0.0,0.0,0.0,0.0,0.0,0.0,0.0,0.0,0.0,711.0,0.0,208.0,0.0,0.0,4.0,0.0,0.0,0.0,19.0,1972.0,2049.0,0.0,0.0,0.0,2.0,0.0,0.0,440.0,430.0,259.0,0.0,5.0,0.0,0.0,786.0,3.0,0.0,0.0,0.0,0.0,1.0,5.0,0.0,0.0,780.0,0.0,80.0,0.0,0.0,0.0,0.0,228.0,0.0,808.0,0.0,226.0,0.0,null,10.0,363.0,800.0,0.0,1239.0,0.0,0.0,0.0,0.0,0.0,0.0,null,3761.0,9.0,null,0.0,0.0,0.0,0.0,0.0,0.0,54.0,0.0,0.0,0.0,0.0,38.0,0.0,0.0,0.0,11.0,0.0,684.0,1159.0,0.0,11.0,0.0,0.0,0.0,177.0,168.0,5.0,0.0,0.0,5.0,0.0,0.0,1446.0,7.0,62.0,0.0,0.0,0.0,0.0,0.0,1.0,0.0,0.0,13.0,0.0,0.0,0.0,269.0,698.0,654.0,0.0,3238.0,616.0,null,0.0,0.0,29.0,0.0,0.0,0.0,0.0,0.0,2.0,360.0,795.0,6.0,0.0,0.0,0.0,0.0,0.0,0.0,0.0,null,4.0,660.0,0.0,0.0,0.0,0.0,0.0,0.0,2868.0,0.0,0.0,0.0,0.0,1107.0,0.0,0.0,128.0,0.0,0.0,0.0,0.0,0.0,207.0,28.0,0.0,0.0,0.0,0.0,0.0,0.0,24.0,11.0,0.0,0.0,0.0,0.0,0.0,0.0,0.0,208.0,0.0,0.0,50.0,2.0,1643.0,0.0,1.0,353.0,0.0],\"type\":\"box\"},{\"name\":\"VRDeck\",\"y\":[0.0,44.0,49.0,193.0,2.0,0.0,0.0,null,0.0,0.0,0.0,124.0,113.0,24.0,7.0,0.0,0.0,637.0,0.0,0.0,679.0,0.0,0.0,0.0,0.0,0.0,0.0,0.0,0.0,0.0,328.0,0.0,453.0,1229.0,0.0,0.0,0.0,0.0,401.0,0.0,0.0,0.0,855.0,0.0,0.0,0.0,64.0,0.0,0.0,127.0,0.0,1.0,0.0,0.0,3.0,0.0,1.0,25.0,0.0,0.0,460.0,0.0,0.0,24.0,0.0,0.0,726.0,52.0,1063.0,12.0,506.0,0.0,0.0,9654.0,0.0,0.0,0.0,0.0,17.0,0.0,513.0,0.0,0.0,0.0,0.0,34.0,0.0,0.0,637.0,0.0,87.0,0.0,0.0,0.0,91.0,17.0,0.0,0.0,131.0,0.0,0.0,0.0,0.0,764.0,1687.0,445.0,0.0,0.0,13.0,0.0,1.0,null,404.0,6898.0,0.0,null,74.0,1.0,0.0,25.0,2.0,0.0,0.0,0.0,0.0,0.0,55.0,0.0,207.0,0.0,0.0,462.0,0.0,0.0,0.0,0.0,76.0,0.0,0.0,607.0,61.0,0.0,0.0,135.0,0.0,0.0,0.0,137.0,0.0,567.0,0.0,0.0,0.0,175.0,2111.0,119.0,11.0,0.0,0.0,92.0,0.0,232.0,956.0,0.0,98.0,0.0,0.0,0.0,0.0,0.0,0.0,0.0,0.0,7.0,575.0,0.0,0.0,0.0,0.0,0.0,0.0,443.0,0.0,705.0,122.0,0.0,0.0,0.0,0.0,0.0,739.0,387.0,146.0,1918.0,0.0,0.0,0.0,0.0,0.0,0.0,1099.0,0.0,0.0,0.0,0.0,0.0,0.0,1023.0,0.0,0.0,0.0,0.0,0.0,9.0,0.0,0.0,79.0,0.0,0.0,0.0,0.0,0.0,319.0,0.0,1116.0,0.0,0.0,0.0,0.0,7.0,10912.0,0.0,1063.0,0.0,0.0,0.0,1.0,6.0,0.0,0.0,0.0,92.0,2054.0,803.0,0.0,0.0,1.0,0.0,1240.0,0.0,0.0,null,333.0,0.0,0.0,0.0,2.0,0.0,0.0,13.0,0.0,1460.0,828.0,0.0,262.0,0.0,0.0,0.0,0.0,0.0,0.0,0.0,0.0,1370.0,0.0,5166.0,2469.0,101.0,0.0,0.0,241.0,4.0,0.0,0.0,0.0,1330.0,0.0,0.0,null,0.0,null,0.0,0.0,0.0,0.0,2.0,0.0,202.0,1260.0,552.0,0.0,0.0,0.0,0.0,1057.0,0.0,0.0,0.0,0.0,907.0,0.0,0.0,0.0,0.0,0.0,0.0,0.0,0.0,0.0,572.0,0.0,0.0,88.0,112.0,417.0,21.0,4.0,0.0,58.0,1023.0,0.0,0.0,0.0,230.0,0.0,8188.0,697.0,0.0,2175.0,0.0,0.0,1059.0,0.0,164.0,0.0,0.0,0.0,368.0,140.0,0.0,0.0,0.0,128.0,0.0,0.0,0.0,987.0,0.0,5688.0,1.0,0.0,0.0,3.0,0.0,0.0,0.0,2.0,7.0,1699.0,223.0,0.0,0.0,0.0,0.0,0.0,0.0,60.0,0.0,0.0,1241.0,0.0,57.0,1.0,0.0,0.0,792.0,3139.0,225.0,0.0,0.0,0.0,0.0,0.0,3656.0,0.0,0.0,0.0,0.0,0.0,0.0,0.0,56.0,0.0,0.0,0.0,0.0,799.0,715.0,0.0,0.0,0.0,0.0,0.0,0.0,0.0,0.0,0.0,5.0,0.0,0.0,73.0,0.0,0.0,0.0,0.0,2.0,0.0,0.0,20.0,0.0,0.0,35.0,0.0,428.0,4.0,1.0,0.0,null,0.0,170.0,4.0,299.0,0.0,943.0,0.0,0.0,0.0,0.0,275.0,0.0,665.0,615.0,55.0,246.0,0.0,0.0,0.0,0.0,0.0,0.0,0.0,481.0,0.0,0.0,0.0,0.0,0.0,0.0,0.0,752.0,0.0,0.0,0.0,0.0,0.0,122.0,0.0,0.0,0.0,2376.0,73.0,0.0,0.0,null,null,156.0,6.0,0.0,4.0,0.0,6595.0,0.0,0.0,0.0,0.0,1902.0,25.0,352.0,5.0,0.0,0.0,0.0,0.0,4987.0,0.0,16.0,878.0,0.0,0.0,3.0,1.0,1.0,0.0,0.0,12.0,0.0,0.0,0.0,0.0,0.0,19.0,79.0,0.0,0.0,0.0,0.0,0.0,0.0,0.0,3695.0,0.0,0.0,0.0,4.0,null,0.0,872.0,0.0,0.0,0.0,null,0.0,1568.0,0.0,0.0,null,0.0,0.0,0.0,0.0,0.0,0.0,4.0,0.0,0.0,0.0,0.0,0.0,0.0,0.0,0.0,1042.0,0.0,1.0,973.0,0.0,2005.0,0.0,113.0,null,0.0,0.0,null,0.0,0.0,6.0,0.0,793.0,0.0,0.0,0.0,747.0,9568.0,892.0,null,0.0,109.0,5.0,0.0,0.0,0.0,0.0,0.0,0.0,0.0,388.0,0.0,0.0,0.0,1.0,0.0,0.0,0.0,0.0,383.0,0.0,319.0,359.0,0.0,0.0,0.0,null,19.0,972.0,575.0,2.0,0.0,0.0,0.0,0.0,0.0,0.0,0.0,0.0,0.0,0.0,0.0,0.0,3.0,0.0,0.0,null,0.0,0.0,722.0,39.0,5689.0,0.0,0.0,482.0,403.0,0.0,740.0,0.0,0.0,0.0,0.0,0.0,0.0,0.0,0.0,0.0,0.0,0.0,0.0,15.0,0.0,0.0,213.0,3.0,0.0,0.0,0.0,0.0,0.0,0.0,38.0,0.0,0.0,0.0,5.0,0.0,54.0,0.0,0.0,0.0,0.0,15.0,0.0,0.0,349.0,0.0,0.0,0.0,0.0,0.0,0.0,0.0,0.0,0.0,0.0,0.0,1.0,0.0,2566.0,0.0,354.0,594.0,0.0,0.0,561.0,517.0,0.0,null,0.0,1166.0,0.0,58.0,0.0,0.0,493.0,0.0,8.0,0.0,null,0.0,0.0,0.0,151.0,67.0,0.0,0.0,0.0,0.0,187.0,17306.0,0.0,0.0,0.0,0.0,0.0,0.0,0.0,0.0,0.0,1359.0,0.0,0.0,0.0,0.0,18.0,0.0,11.0,467.0,0.0,0.0,1.0,0.0,null,0.0,342.0,3497.0,0.0,0.0,0.0,766.0,0.0,0.0,0.0,0.0,645.0,0.0,4.0,0.0,1.0,1171.0,0.0,10.0,null,0.0,0.0,0.0,833.0,0.0,0.0,0.0,0.0,438.0,0.0,0.0,0.0,3.0,0.0,161.0,0.0,0.0,0.0,0.0,0.0,0.0,26.0,0.0,0.0,0.0,27.0,166.0,0.0,5152.0,2.0,1300.0,0.0,0.0,0.0,0.0,0.0,0.0,12.0,0.0,0.0,427.0,0.0,0.0,0.0,0.0,0.0,0.0,0.0,0.0,0.0,31.0,92.0,0.0,0.0,0.0,0.0,0.0,4.0,26.0,0.0,0.0,0.0,0.0,52.0,0.0,0.0,0.0,1.0,0.0,0.0,0.0,0.0,1043.0,19.0,0.0,28.0,634.0,0.0,4.0,0.0,450.0,34.0,3.0,1406.0,289.0,0.0,null,1226.0,2453.0,0.0,0.0,0.0,0.0,0.0,25.0,81.0,22.0,0.0,260.0,0.0,491.0,0.0,0.0,1070.0,872.0,0.0,0.0,0.0,0.0,13.0,0.0,0.0,0.0,0.0,188.0,201.0,0.0,0.0,0.0,359.0,0.0,0.0,0.0,788.0,0.0,null,0.0,0.0,0.0,0.0,0.0,0.0,0.0,6.0,0.0,0.0,0.0,0.0,0.0,0.0,0.0,873.0,0.0,319.0,0.0,1088.0,0.0,0.0,0.0,704.0,478.0,0.0,149.0,0.0,96.0,0.0,135.0,1341.0,0.0,1436.0,0.0,91.0,0.0,0.0,135.0,0.0,2.0,35.0,0.0,0.0,0.0,3.0,0.0,0.0,773.0,791.0,0.0,0.0,0.0,0.0,0.0,0.0,0.0,0.0,0.0,0.0,0.0,0.0,0.0,0.0,0.0,0.0,0.0,209.0,0.0,0.0,0.0,0.0,0.0,9.0,0.0,0.0,7.0,99.0,0.0,0.0,213.0,39.0,0.0,0.0,0.0,0.0,0.0,0.0,10896.0,null,0.0,0.0,0.0,0.0,null,0.0,376.0,96.0,0.0,0.0,0.0,677.0,689.0,149.0,1374.0,0.0,0.0,0.0,0.0,60.0,0.0,0.0,0.0,455.0,0.0,null,0.0,0.0,0.0,0.0,6.0,843.0,0.0,0.0,null,0.0,0.0,0.0,0.0,0.0,794.0,0.0,0.0,365.0,0.0,488.0,0.0,0.0,0.0,0.0,0.0,130.0,781.0,515.0,100.0,0.0,7516.0,754.0,100.0,719.0,0.0,0.0,0.0,0.0,98.0,0.0,0.0,0.0,9010.0,0.0,3.0,0.0,17.0,0.0,0.0,0.0,67.0,756.0,0.0,0.0,0.0,908.0,0.0,30.0,null,1304.0,0.0,0.0,1213.0,1933.0,61.0,0.0,0.0,1693.0,0.0,0.0,0.0,0.0,0.0,0.0,4.0,0.0,0.0,0.0,0.0,16.0,0.0,67.0,0.0,461.0,687.0,694.0,7.0,2587.0,67.0,0.0,0.0,1920.0,0.0,653.0,0.0,512.0,0.0,0.0,0.0,0.0,0.0,0.0,0.0,0.0,7.0,0.0,0.0,0.0,0.0,0.0,113.0,0.0,44.0,0.0,0.0,61.0,8.0,1583.0,0.0,0.0,0.0,0.0,1388.0,0.0,235.0,6381.0,0.0,200.0,0.0,5.0,0.0,0.0,0.0,0.0,10.0,0.0,0.0,0.0,4.0,0.0,0.0,0.0,7.0,810.0,0.0,1.0,132.0,0.0,1.0,0.0,0.0,2.0,229.0,0.0,0.0,661.0,0.0,0.0,0.0,0.0,356.0,0.0,105.0,28.0,223.0,1281.0,0.0,0.0,0.0,567.0,47.0,0.0,0.0,0.0,9.0,4987.0,142.0,0.0,2313.0,5.0,945.0,0.0,1.0,0.0,0.0,173.0,0.0,0.0,0.0,0.0,0.0,0.0,0.0,0.0,0.0,0.0,0.0,43.0,0.0,null,19.0,0.0,3146.0,13.0,584.0,0.0,0.0,0.0,0.0,0.0,13.0,256.0,0.0,0.0,0.0,0.0,0.0,0.0,514.0,0.0,0.0,0.0,2519.0,6.0,0.0,671.0,53.0,0.0,0.0,623.0,0.0,0.0,89.0,67.0,0.0,0.0,0.0,0.0,0.0,0.0,336.0,0.0,1147.0,0.0,0.0,0.0,7.0,0.0,0.0,26.0,0.0,0.0,4.0,0.0,761.0,0.0,0.0,2969.0,0.0,0.0,72.0,0.0,0.0,0.0,0.0,0.0,723.0,null,0.0,0.0,539.0,0.0,0.0,2.0,150.0,0.0,0.0,0.0,0.0,0.0,0.0,0.0,0.0,144.0,0.0,78.0,4.0,3604.0,0.0,55.0,0.0,5.0,0.0,368.0,86.0,0.0,0.0,0.0,0.0,0.0,0.0,0.0,0.0,351.0,1853.0,19.0,0.0,0.0,46.0,60.0,0.0,152.0,0.0,0.0,0.0,3471.0,13.0,0.0,0.0,0.0,0.0,122.0,832.0,0.0,1916.0,32.0,0.0,3358.0,0.0,0.0,820.0,5.0,0.0,0.0,0.0,0.0,1779.0,0.0,0.0,0.0,57.0,0.0,0.0,0.0,0.0,2.0,0.0,8.0,965.0,0.0,null,0.0,0.0,659.0,191.0,0.0,47.0,649.0,0.0,0.0,912.0,0.0,755.0,0.0,112.0,2485.0,0.0,3384.0,0.0,1462.0,6.0,0.0,3404.0,5.0,72.0,0.0,698.0,0.0,504.0,330.0,0.0,0.0,0.0,0.0,0.0,0.0,1.0,248.0,26.0,0.0,2372.0,701.0,0.0,0.0,0.0,0.0,null,2.0,null,8.0,706.0,0.0,713.0,153.0,1061.0,0.0,0.0,55.0,0.0,376.0,0.0,0.0,0.0,0.0,0.0,0.0,0.0,0.0,4.0,0.0,0.0,0.0,329.0,0.0,27.0,1.0,0.0,0.0,0.0,0.0,0.0,0.0,0.0,521.0,0.0,0.0,0.0,282.0,0.0,0.0,11378.0,1.0,0.0,5.0,2114.0,553.0,0.0,0.0,0.0,0.0,800.0,523.0,0.0,0.0,0.0,4030.0,235.0,1460.0,0.0,0.0,1.0,837.0,1122.0,0.0,0.0,766.0,0.0,0.0,0.0,0.0,0.0,0.0,162.0,16.0,0.0,783.0,0.0,714.0,424.0,0.0,0.0,0.0,0.0,0.0,0.0,0.0,7.0,2439.0,341.0,196.0,0.0,923.0,36.0,0.0,null,0.0,0.0,0.0,55.0,119.0,0.0,0.0,161.0,22.0,0.0,44.0,341.0,0.0,42.0,0.0,0.0,0.0,0.0,0.0,0.0,8.0,341.0,0.0,0.0,0.0,null,0.0,98.0,1.0,0.0,0.0,0.0,5.0,362.0,0.0,null,0.0,0.0,1134.0,25.0,0.0,0.0,2.0,794.0,0.0,0.0,2.0,0.0,0.0,0.0,0.0,0.0,2.0,5.0,0.0,null,5321.0,0.0,718.0,0.0,0.0,178.0,0.0,null,0.0,0.0,86.0,536.0,0.0,0.0,0.0,1442.0,0.0,64.0,0.0,16.0,0.0,0.0,null,0.0,0.0,264.0,0.0,0.0,44.0,0.0,0.0,0.0,754.0,0.0,0.0,256.0,427.0,0.0,0.0,68.0,0.0,622.0,3.0,0.0,0.0,1290.0,47.0,0.0,1.0,8.0,0.0,1241.0,0.0,0.0,0.0,0.0,24.0,0.0,0.0,0.0,0.0,1679.0,0.0,0.0,640.0,0.0,31.0,603.0,0.0,0.0,243.0,0.0,795.0,0.0,0.0,0.0,0.0,0.0,null,0.0,0.0,0.0,0.0,6064.0,0.0,0.0,807.0,0.0,0.0,0.0,308.0,0.0,0.0,26.0,3.0,4.0,1.0,0.0,253.0,0.0,0.0,0.0,1333.0,0.0,1168.0,42.0,0.0,0.0,0.0,0.0,0.0,0.0,0.0,14.0,0.0,0.0,11.0,12.0,0.0,0.0,591.0,0.0,0.0,638.0,0.0,0.0,0.0,105.0,180.0,0.0,0.0,0.0,0.0,0.0,1.0,0.0,0.0,0.0,0.0,4045.0,30.0,0.0,0.0,0.0,57.0,263.0,52.0,23.0,443.0,0.0,19.0,0.0,9.0,0.0,427.0,254.0,null,295.0,19.0,1572.0,0.0,1955.0,null,521.0,0.0,0.0,0.0,194.0,1381.0,0.0,0.0,16.0,123.0,663.0,0.0,0.0,25.0,0.0,771.0,0.0,85.0,0.0,0.0,0.0,3156.0,318.0,0.0,133.0,0.0,null,0.0,0.0,0.0,null,1115.0,0.0,865.0,0.0,52.0,0.0,0.0,0.0,1479.0,3.0,0.0,1009.0,9.0,0.0,15.0,0.0,0.0,0.0,0.0,29.0,702.0,0.0,0.0,0.0,731.0,1107.0,44.0,5063.0,0.0,0.0,0.0,0.0,0.0,0.0,0.0,1225.0,0.0,247.0,0.0,90.0,704.0,0.0,1514.0,0.0,0.0,0.0,2.0,0.0,872.0,0.0,0.0,0.0,284.0,388.0,0.0,0.0,0.0,0.0,117.0,0.0,0.0,0.0,0.0,null,0.0,0.0,7.0,1357.0,0.0,717.0,0.0,74.0,0.0,0.0,3822.0,260.0,0.0,0.0,613.0,160.0,0.0,0.0,17.0,3377.0,0.0,0.0,2293.0,0.0,0.0,18.0,761.0,2.0,473.0,0.0,1.0,0.0,0.0,0.0,0.0,0.0,0.0,0.0,0.0,0.0,198.0,173.0,6.0,0.0,0.0,138.0,1.0,0.0,0.0,5.0,26.0,0.0,0.0,0.0,157.0,40.0,719.0,5.0,0.0,0.0,1.0,0.0,0.0,0.0,null,null,5416.0,804.0,671.0,2.0,7619.0,0.0,0.0,0.0,0.0,0.0,287.0,6.0,9.0,0.0,0.0,0.0,2.0,0.0,0.0,0.0,19.0,0.0,23.0,null,0.0,22.0,1.0,4724.0,1119.0,0.0,642.0,0.0,0.0,0.0,0.0,0.0,149.0,13.0,0.0,907.0,423.0,327.0,0.0,0.0,1963.0,0.0,0.0,2713.0,0.0,163.0,650.0,448.0,729.0,16.0,343.0,61.0,0.0,769.0,506.0,6007.0,0.0,99.0,397.0,556.0,1.0,0.0,509.0,549.0,12.0,0.0,1.0,0.0,0.0,0.0,0.0,0.0,1344.0,0.0,0.0,0.0,0.0,5.0,4538.0,23.0,0.0,0.0,1.0,0.0,0.0,1.0,0.0,0.0,0.0,0.0,267.0,0.0,0.0,0.0,0.0,0.0,0.0,826.0,0.0,0.0,185.0,0.0,176.0,900.0,0.0,0.0,3.0,0.0,0.0,28.0,0.0,0.0,0.0,0.0,0.0,0.0,0.0,0.0,0.0,0.0,0.0,0.0,105.0,7.0,0.0,0.0,0.0,null,0.0,2.0,0.0,0.0,0.0,0.0,0.0,22.0,0.0,null,0.0,13.0,0.0,68.0,0.0,0.0,0.0,0.0,281.0,247.0,1254.0,251.0,0.0,0.0,0.0,63.0,0.0,76.0,0.0,70.0,0.0,5.0,1440.0,0.0,0.0,283.0,68.0,0.0,null,0.0,0.0,0.0,0.0,72.0,0.0,0.0,0.0,0.0,0.0,6.0,198.0,0.0,72.0,0.0,2.0,0.0,570.0,0.0,0.0,0.0,154.0,0.0,3.0,0.0,878.0,0.0,0.0,0.0,null,null,0.0,0.0,0.0,99.0,0.0,0.0,0.0,1.0,121.0,85.0,1153.0,960.0,0.0,1.0,0.0,0.0,0.0,654.0,0.0,0.0,0.0,0.0,0.0,868.0,475.0,0.0,0.0,0.0,0.0,0.0,0.0,0.0,778.0,0.0,0.0,0.0,0.0,0.0,3970.0,11643.0,0.0,378.0,0.0,null,0.0,0.0,0.0,277.0,568.0,1769.0,258.0,0.0,5.0,62.0,8195.0,3768.0,0.0,0.0,0.0,34.0,0.0,0.0,0.0,0.0,2924.0,0.0,0.0,0.0,0.0,168.0,4.0,6.0,0.0,0.0,0.0,11.0,0.0,84.0,0.0,0.0,0.0,0.0,0.0,0.0,5.0,0.0,23.0,0.0,0.0,2.0,0.0,0.0,0.0,0.0,3782.0,0.0,0.0,0.0,0.0,0.0,0.0,0.0,0.0,0.0,0.0,0.0,0.0,0.0,1239.0,185.0,0.0,0.0,0.0,0.0,0.0,0.0,0.0,0.0,0.0,462.0,33.0,0.0,0.0,0.0,108.0,40.0,96.0,0.0,0.0,673.0,0.0,0.0,0.0,0.0,0.0,0.0,0.0,0.0,0.0,0.0,3.0,490.0,0.0,4120.0,0.0,0.0,null,781.0,0.0,0.0,5.0,0.0,0.0,0.0,0.0,1561.0,0.0,1171.0,0.0,0.0,3.0,0.0,0.0,0.0,0.0,0.0,2447.0,729.0,9.0,0.0,0.0,0.0,0.0,0.0,0.0,0.0,606.0,208.0,0.0,0.0,2757.0,40.0,0.0,0.0,372.0,0.0,0.0,54.0,69.0,94.0,0.0,0.0,0.0,0.0,null,0.0,644.0,275.0,0.0,0.0,0.0,0.0,0.0,0.0,0.0,0.0,11.0,0.0,null,364.0,0.0,0.0,3643.0,1264.0,0.0,0.0,0.0,0.0,17.0,0.0,1.0,621.0,500.0,0.0,1391.0,0.0,0.0,619.0,0.0,0.0,418.0,3.0,0.0,0.0,2.0,238.0,5.0,0.0,803.0,0.0,0.0,0.0,0.0,4513.0,0.0,0.0,5872.0,0.0,506.0,0.0,0.0,0.0,1135.0,0.0,0.0,0.0,0.0,0.0,0.0,0.0,0.0,0.0,0.0,0.0,1425.0,0.0,0.0,349.0,582.0,1257.0,41.0,0.0,43.0,0.0,77.0,1462.0,1514.0,0.0,12.0,0.0,0.0,0.0,324.0,0.0,null,0.0,0.0,0.0,0.0,0.0,0.0,0.0,0.0,0.0,39.0,0.0,0.0,0.0,1.0,0.0,0.0,10.0,0.0,624.0,74.0,0.0,0.0,0.0,478.0,195.0,0.0,254.0,733.0,0.0,0.0,0.0,0.0,0.0,99.0,2272.0,0.0,0.0,0.0,0.0,7.0,128.0,0.0,0.0,62.0,0.0,0.0,0.0,4.0,0.0,0.0,0.0,0.0,687.0,1318.0,0.0,0.0,0.0,0.0,0.0,0.0,1.0,null,0.0,0.0,533.0,0.0,0.0,218.0,0.0,0.0,0.0,0.0,null,0.0,1348.0,5.0,1.0,0.0,67.0,693.0,0.0,null,null,null,null,0.0,1051.0,0.0,793.0,0.0,1334.0,2564.0,0.0,2153.0,0.0,7041.0,68.0,0.0,677.0,0.0,0.0,32.0,0.0,1.0,0.0,0.0,1215.0,3.0,0.0,0.0,811.0,0.0,0.0,0.0,0.0,236.0,0.0,708.0,86.0,1435.0,0.0,669.0,0.0,0.0,0.0,0.0,1515.0,21.0,0.0,591.0,0.0,0.0,695.0,1393.0,1895.0,2024.0,0.0,0.0,0.0,1751.0,530.0,0.0,0.0,10.0,0.0,0.0,510.0,0.0,12.0,0.0,0.0,0.0,0.0,0.0,0.0,12.0,554.0,0.0,985.0,0.0,0.0,4.0,0.0,0.0,914.0,0.0,0.0,0.0,0.0,63.0,0.0,0.0,132.0,0.0,0.0,0.0,0.0,0.0,1257.0,2618.0,0.0,0.0,107.0,692.0,11.0,0.0,0.0,0.0,0.0,11.0,0.0,0.0,0.0,0.0,907.0,0.0,0.0,0.0,0.0,810.0,0.0,0.0,0.0,0.0,0.0,12.0,1209.0,0.0,0.0,0.0,0.0,null,0.0,0.0,0.0,697.0,0.0,551.0,0.0,0.0,0.0,0.0,0.0,155.0,8.0,0.0,493.0,1.0,0.0,0.0,0.0,51.0,731.0,0.0,266.0,0.0,1.0,0.0,671.0,0.0,1345.0,3030.0,0.0,0.0,0.0,3657.0,122.0,0.0,0.0,820.0,0.0,0.0,0.0,0.0,871.0,0.0,0.0,0.0,12.0,0.0,0.0,0.0,470.0,0.0,0.0,0.0,null,0.0,0.0,0.0,0.0,0.0,0.0,3051.0,2473.0,1479.0,55.0,514.0,1295.0,5058.0,1919.0,0.0,0.0,20.0,0.0,0.0,0.0,0.0,0.0,809.0,4168.0,0.0,0.0,0.0,0.0,0.0,0.0,0.0,0.0,801.0,81.0,0.0,0.0,0.0,0.0,0.0,1.0,0.0,0.0,337.0,0.0,0.0,23.0,0.0,9.0,0.0,0.0,0.0,0.0,0.0,3.0,0.0,3447.0,0.0,1.0,0.0,0.0,0.0,0.0,0.0,19.0,1.0,556.0,0.0,0.0,681.0,707.0,0.0,0.0,574.0,5.0,0.0,143.0,0.0,0.0,0.0,1042.0,261.0,0.0,0.0,0.0,0.0,0.0,0.0,0.0,1618.0,0.0,0.0,0.0,16.0,0.0,543.0,388.0,0.0,0.0,0.0,510.0,0.0,0.0,0.0,0.0,0.0,0.0,1050.0,0.0,5.0,0.0,316.0,1689.0,1204.0,0.0,0.0,0.0,0.0,636.0,3.0,84.0,0.0,516.0,1.0,3.0,190.0,10.0,0.0,0.0,810.0,0.0,1370.0,4941.0,0.0,528.0,706.0,603.0,0.0,0.0,22.0,300.0,1.0,4359.0,29.0,0.0,0.0,0.0,0.0,732.0,0.0,83.0,0.0,409.0,6237.0,74.0,0.0,64.0,3372.0,4.0,1637.0,3510.0,312.0,0.0,0.0,9.0,44.0,0.0,0.0,1784.0,0.0,1804.0,0.0,0.0,0.0,0.0,283.0,513.0,0.0,0.0,0.0,0.0,0.0,437.0,0.0,0.0,0.0,0.0,0.0,276.0,810.0,5.0,0.0,0.0,0.0,0.0,0.0,72.0,36.0,0.0,0.0,254.0,0.0,1.0,0.0,0.0,0.0,0.0,0.0,6023.0,0.0,0.0,0.0,2.0,1.0,0.0,0.0,1014.0,0.0,556.0,0.0,0.0,31.0,384.0,0.0,700.0,0.0,0.0,188.0,0.0,0.0,0.0,0.0,0.0,7979.0,0.0,0.0,0.0,0.0,0.0,0.0,0.0,0.0,21.0,23.0,0.0,0.0,0.0,0.0,0.0,0.0,0.0,0.0,0.0,1140.0,0.0,312.0,0.0,0.0,0.0,0.0,0.0,0.0,1437.0,0.0,1681.0,0.0,16.0,0.0,null,0.0,0.0,null,0.0,0.0,1196.0,0.0,4240.0,0.0,2409.0,0.0,0.0,66.0,0.0,0.0,0.0,3.0,0.0,0.0,0.0,0.0,0.0,1464.0,0.0,336.0,0.0,0.0,0.0,0.0,1191.0,0.0,0.0,0.0,0.0,0.0,0.0,0.0,356.0,0.0,0.0,0.0,0.0,0.0,0.0,773.0,398.0,0.0,1457.0,196.0,469.0,0.0,0.0,0.0,3219.0,266.0,1229.0,2.0,144.0,0.0,0.0,0.0,0.0,0.0,0.0,0.0,0.0,1.0,0.0,0.0,0.0,0.0,0.0,37.0,0.0,0.0,341.0,0.0,0.0,0.0,0.0,71.0,0.0,77.0,5.0,0.0,0.0,0.0,0.0,0.0,7.0,0.0,null,0.0,0.0,2049.0,20.0,85.0,0.0,0.0,0.0,0.0,0.0,0.0,0.0,1937.0,243.0,0.0,0.0,0.0,0.0,0.0,0.0,0.0,159.0,0.0,483.0,0.0,0.0,0.0,0.0,0.0,8.0,0.0,0.0,150.0,1.0,6.0,138.0,0.0,0.0,0.0,0.0,0.0,0.0,0.0,0.0,299.0,0.0,0.0,0.0,311.0,0.0,0.0,2.0,0.0,0.0,0.0,0.0,0.0,132.0,0.0,0.0,0.0,0.0,0.0,0.0,0.0,0.0,50.0,0.0,226.0,9.0,0.0,8.0,2031.0,1765.0,401.0,0.0,0.0,0.0,0.0,26.0,0.0,0.0,0.0,0.0,0.0,0.0,4.0,772.0,323.0,0.0,102.0,50.0,0.0,0.0,0.0,0.0,0.0,142.0,226.0,0.0,0.0,0.0,0.0,0.0,0.0,0.0,0.0,59.0,0.0,6111.0,201.0,3460.0,605.0,0.0,2.0,488.0,0.0,0.0,0.0,0.0,1022.0,0.0,0.0,1467.0,0.0,0.0,1.0,0.0,0.0,null,0.0,1.0,0.0,0.0,205.0,843.0,0.0,0.0,0.0,0.0,null,0.0,636.0,0.0,0.0,0.0,0.0,4.0,0.0,0.0,28.0,null,0.0,0.0,0.0,0.0,0.0,0.0,7.0,1984.0,0.0,595.0,null,15.0,0.0,0.0,0.0,0.0,0.0,0.0,0.0,0.0,null,0.0,0.0,0.0,0.0,478.0,333.0,0.0,3875.0,0.0,0.0,8.0,119.0,0.0,373.0,0.0,0.0,0.0,0.0,0.0,0.0,3291.0,943.0,0.0,116.0,29.0,0.0,0.0,null,0.0,0.0,0.0,1.0,904.0,466.0,558.0,0.0,0.0,0.0,0.0,0.0,0.0,77.0,0.0,93.0,0.0,229.0,0.0,0.0,0.0,0.0,0.0,490.0,0.0,1790.0,0.0,0.0,0.0,6569.0,178.0,0.0,0.0,0.0,341.0,0.0,0.0,13.0,0.0,0.0,1655.0,0.0,0.0,5.0,3069.0,0.0,1.0,0.0,0.0,0.0,37.0,607.0,0.0,80.0,587.0,0.0,0.0,0.0,1.0,0.0,20.0,0.0,0.0,0.0,0.0,0.0,0.0,1014.0,0.0,465.0,0.0,0.0,0.0,1.0,0.0,0.0,212.0,0.0,0.0,0.0,0.0,0.0,0.0,null,0.0,0.0,0.0,0.0,566.0,0.0,0.0,0.0,715.0,376.0,0.0,0.0,139.0,0.0,0.0,null,0.0,5.0,0.0,0.0,0.0,436.0,0.0,2054.0,26.0,0.0,0.0,0.0,55.0,0.0,0.0,0.0,548.0,1.0,0.0,0.0,0.0,0.0,340.0,0.0,0.0,0.0,0.0,1062.0,1267.0,0.0,0.0,2260.0,0.0,3.0,29.0,0.0,0.0,1609.0,30.0,0.0,0.0,0.0,0.0,0.0,14.0,0.0,0.0,0.0,0.0,0.0,0.0,0.0,0.0,null,1622.0,0.0,0.0,0.0,1.0,0.0,0.0,547.0,0.0,0.0,0.0,16337.0,0.0,0.0,1157.0,0.0,62.0,0.0,0.0,0.0,54.0,344.0,1.0,408.0,1.0,876.0,0.0,0.0,0.0,0.0,388.0,0.0,0.0,0.0,0.0,0.0,null,0.0,0.0,0.0,0.0,0.0,3.0,0.0,0.0,0.0,4.0,0.0,800.0,0.0,0.0,0.0,0.0,0.0,0.0,0.0,0.0,3.0,0.0,2891.0,0.0,0.0,455.0,0.0,64.0,0.0,0.0,0.0,0.0,0.0,3.0,0.0,0.0,2102.0,0.0,3874.0,180.0,0.0,0.0,0.0,0.0,119.0,0.0,0.0,39.0,0.0,0.0,0.0,0.0,0.0,0.0,0.0,0.0,0.0,0.0,0.0,0.0,0.0,0.0,0.0,0.0,0.0,2.0,0.0,0.0,0.0,0.0,0.0,0.0,0.0,8735.0,0.0,71.0,1779.0,0.0,346.0,2.0,533.0,0.0,0.0,418.0,0.0,0.0,0.0,0.0,0.0,0.0,237.0,0.0,5563.0,0.0,0.0,0.0,0.0,5.0,297.0,658.0,1788.0,3.0,null,0.0,0.0,0.0,0.0,368.0,0.0,0.0,0.0,1113.0,0.0,9244.0,0.0,0.0,0.0,4269.0,0.0,0.0,0.0,0.0,661.0,317.0,0.0,56.0,0.0,null,9.0,0.0,786.0,0.0,321.0,1103.0,108.0,0.0,0.0,0.0,0.0,0.0,0.0,0.0,0.0,0.0,0.0,0.0,703.0,0.0,0.0,437.0,0.0,784.0,null,0.0,350.0,0.0,0.0,null,0.0,80.0,54.0,null,18.0,0.0,867.0,486.0,0.0,null,224.0,0.0,0.0,0.0,8.0,0.0,236.0,0.0,0.0,252.0,0.0,1244.0,428.0,421.0,4184.0,0.0,1.0,0.0,0.0,1678.0,0.0,305.0,0.0,0.0,0.0,0.0,0.0,0.0,0.0,0.0,505.0,0.0,null,16.0,0.0,963.0,null,1.0,0.0,0.0,0.0,209.0,0.0,0.0,0.0,0.0,0.0,11.0,479.0,96.0,0.0,0.0,0.0,2325.0,0.0,0.0,0.0,0.0,84.0,0.0,1.0,0.0,0.0,0.0,0.0,0.0,0.0,0.0,0.0,0.0,0.0,0.0,909.0,0.0,0.0,0.0,54.0,0.0,49.0,542.0,0.0,0.0,214.0,0.0,2264.0,480.0,0.0,0.0,622.0,0.0,0.0,384.0,0.0,10786.0,1148.0,1148.0,0.0,1.0,2.0,23.0,0.0,0.0,0.0,0.0,0.0,0.0,0.0,0.0,5.0,0.0,0.0,0.0,0.0,0.0,0.0,5.0,1.0,15.0,12.0,0.0,0.0,0.0,5190.0,20.0,0.0,880.0,0.0,0.0,446.0,0.0,0.0,0.0,null,0.0,null,0.0,0.0,41.0,0.0,0.0,0.0,1.0,0.0,0.0,0.0,0.0,170.0,0.0,0.0,0.0,0.0,0.0,0.0,0.0,0.0,421.0,808.0,0.0,0.0,0.0,40.0,0.0,1598.0,0.0,0.0,359.0,0.0,0.0,0.0,0.0,0.0,0.0,0.0,0.0,0.0,0.0,0.0,1.0,0.0,0.0,0.0,0.0,0.0,0.0,0.0,0.0,158.0,5.0,null,0.0,14.0,0.0,172.0,3039.0,2368.0,55.0,0.0,0.0,0.0,0.0,421.0,42.0,0.0,4174.0,0.0,1.0,null,0.0,0.0,0.0,0.0,0.0,0.0,0.0,0.0,0.0,0.0,47.0,0.0,0.0,0.0,0.0,0.0,11.0,0.0,null,0.0,0.0,1577.0,0.0,0.0,0.0,192.0,0.0,0.0,0.0,10173.0,0.0,8.0,1.0,0.0,155.0,0.0,0.0,0.0,0.0,0.0,2790.0,0.0,2181.0,53.0,0.0,null,0.0,12.0,2.0,0.0,6.0,0.0,0.0,0.0,35.0,766.0,144.0,2.0,58.0,659.0,208.0,41.0,20.0,0.0,0.0,0.0,0.0,0.0,0.0,0.0,276.0,0.0,0.0,0.0,112.0,0.0,0.0,1.0,0.0,0.0,0.0,0.0,0.0,null,23.0,0.0,0.0,3.0,0.0,0.0,0.0,0.0,0.0,0.0,637.0,0.0,0.0,0.0,290.0,0.0,0.0,0.0,255.0,0.0,0.0,0.0,0.0,0.0,0.0,842.0,0.0,0.0,0.0,0.0,30.0,334.0,832.0,542.0,0.0,16.0,0.0,0.0,0.0,4.0,0.0,0.0,42.0,0.0,0.0,133.0,0.0,592.0,0.0,0.0,0.0,0.0,36.0,0.0,0.0,0.0,0.0,3597.0,773.0,0.0,0.0,0.0,0.0,0.0,0.0,14485.0,1562.0,182.0,186.0,4376.0,77.0,8.0,0.0,0.0,598.0,1226.0,0.0,0.0,0.0,0.0,363.0,82.0,0.0,667.0,0.0,0.0,0.0,441.0,0.0,0.0,0.0,0.0,0.0,0.0,0.0,0.0,196.0,0.0,0.0,0.0,0.0,0.0,null,0.0,0.0,64.0,0.0,0.0,0.0,6.0,334.0,0.0,0.0,427.0,22.0,0.0,43.0,3932.0,13.0,0.0,0.0,0.0,0.0,0.0,449.0,0.0,329.0,387.0,0.0,315.0,106.0,33.0,79.0,303.0,0.0,22.0,0.0,1141.0,0.0,0.0,813.0,0.0,0.0,101.0,91.0,293.0,197.0,18.0,146.0,0.0,0.0,33.0,0.0,5116.0,1300.0,0.0,0.0,0.0,5361.0,0.0,553.0,0.0,1.0,62.0,0.0,0.0,0.0,871.0,0.0,0.0,0.0,0.0,0.0,2936.0,0.0,0.0,0.0,0.0,0.0,35.0,0.0,0.0,0.0,0.0,0.0,0.0,7629.0,228.0,0.0,0.0,0.0,0.0,233.0,0.0,0.0,0.0,0.0,0.0,0.0,654.0,0.0,0.0,27.0,0.0,0.0,0.0,0.0,830.0,498.0,77.0,0.0,293.0,584.0,120.0,4.0,0.0,63.0,7.0,59.0,0.0,0.0,337.0,0.0,2330.0,0.0,1384.0,1.0,249.0,0.0,2071.0,230.0,10.0,155.0,1768.0,0.0,331.0,1651.0,0.0,0.0,5.0,0.0,0.0,0.0,110.0,986.0,4967.0,0.0,360.0,2275.0,0.0,0.0,0.0,452.0,445.0,0.0,0.0,363.0,0.0,0.0,0.0,0.0,0.0,10.0,0.0,0.0,0.0,31.0,0.0,0.0,100.0,0.0,0.0,0.0,0.0,0.0,0.0,394.0,361.0,0.0,0.0,0.0,0.0,693.0,0.0,0.0,622.0,39.0,0.0,0.0,89.0,7.0,0.0,2983.0,2908.0,402.0,0.0,0.0,3.0,0.0,0.0,0.0,0.0,0.0,71.0,0.0,0.0,267.0,89.0,0.0,448.0,1.0,0.0,160.0,2260.0,0.0,0.0,26.0,0.0,null,0.0,3263.0,0.0,0.0,307.0,125.0,4.0,null,0.0,16.0,0.0,0.0,0.0,0.0,1713.0,4560.0,2141.0,32.0,0.0,85.0,0.0,0.0,0.0,142.0,0.0,0.0,0.0,null,2355.0,0.0,100.0,17.0,2.0,0.0,0.0,0.0,0.0,0.0,28.0,0.0,0.0,0.0,0.0,49.0,264.0,2825.0,0.0,0.0,0.0,67.0,0.0,0.0,0.0,0.0,null,0.0,0.0,836.0,0.0,0.0,0.0,0.0,2376.0,null,0.0,1.0,0.0,0.0,0.0,0.0,0.0,0.0,0.0,0.0,24.0,0.0,0.0,0.0,308.0,1290.0,13.0,746.0,633.0,0.0,555.0,0.0,0.0,0.0,0.0,0.0,0.0,44.0,1560.0,0.0,0.0,0.0,0.0,0.0,0.0,0.0,0.0,803.0,1601.0,null,0.0,5353.0,11.0,35.0,2799.0,549.0,0.0,4195.0,0.0,0.0,6.0,16.0,516.0,1825.0,0.0,89.0,0.0,0.0,2.0,4.0,1023.0,0.0,13.0,0.0,0.0,954.0,76.0,1924.0,524.0,4899.0,0.0,0.0,0.0,0.0,0.0,0.0,127.0,20336.0,77.0,5308.0,0.0,0.0,0.0,2.0,229.0,12682.0,0.0,0.0,556.0,179.0,220.0,2.0,7087.0,0.0,0.0,0.0,0.0,9.0,489.0,0.0,0.0,0.0,16.0,0.0,0.0,0.0,18.0,0.0,0.0,1660.0,0.0,610.0,674.0,0.0,0.0,0.0,26.0,1804.0,22.0,0.0,0.0,0.0,null,0.0,131.0,27.0,0.0,0.0,8.0,2.0,0.0,336.0,0.0,0.0,120.0,405.0,0.0,38.0,0.0,0.0,0.0,993.0,0.0,0.0,1508.0,7303.0,0.0,1.0,0.0,0.0,0.0,0.0,0.0,0.0,6803.0,0.0,312.0,0.0,0.0,0.0,0.0,0.0,0.0,0.0,0.0,0.0,0.0,0.0,0.0,null,62.0,1272.0,374.0,2084.0,2.0,0.0,0.0,0.0,0.0,0.0,366.0,0.0,0.0,0.0,3687.0,0.0,0.0,0.0,0.0,0.0,0.0,null,2311.0,0.0,0.0,998.0,0.0,0.0,0.0,0.0,0.0,1094.0,0.0,0.0,0.0,1.0,0.0,502.0,453.0,23.0,null,1960.0,2630.0,0.0,2167.0,583.0,0.0,6178.0,0.0,0.0,0.0,0.0,0.0,2.0,581.0,0.0,0.0,0.0,302.0,6.0,0.0,0.0,1.0,1647.0,588.0,171.0,0.0,321.0,0.0,0.0,0.0,53.0,623.0,0.0,0.0,0.0,56.0,0.0,74.0,0.0,373.0,0.0,0.0,0.0,0.0,0.0,0.0,0.0,6.0,0.0,0.0,0.0,4334.0,240.0,null,0.0,1866.0,0.0,0.0,0.0,754.0,0.0,1666.0,42.0,0.0,1955.0,0.0,0.0,40.0,1.0,0.0,0.0,0.0,0.0,0.0,0.0,0.0,62.0,0.0,0.0,0.0,0.0,451.0,98.0,0.0,30.0,0.0,0.0,0.0,0.0,0.0,0.0,0.0,0.0,0.0,512.0,0.0,785.0,0.0,0.0,0.0,3.0,44.0,700.0,0.0,0.0,358.0,12708.0,60.0,0.0,0.0,null,86.0,34.0,333.0,0.0,0.0,12.0,753.0,0.0,0.0,1362.0,21.0,2.0,0.0,176.0,0.0,3880.0,0.0,0.0,0.0,0.0,0.0,483.0,0.0,0.0,1837.0,0.0,0.0,502.0,8.0,0.0,0.0,466.0,0.0,0.0,0.0,0.0,1731.0,0.0,0.0,null,0.0,140.0,0.0,0.0,10.0,8.0,0.0,0.0,2203.0,0.0,0.0,691.0,0.0,2.0,0.0,0.0,0.0,0.0,27.0,0.0,0.0,0.0,0.0,0.0,0.0,0.0,0.0,0.0,0.0,0.0,0.0,0.0,0.0,0.0,0.0,0.0,0.0,776.0,0.0,199.0,0.0,0.0,0.0,0.0,0.0,0.0,0.0,0.0,0.0,2193.0,1539.0,0.0,0.0,0.0,0.0,0.0,null,0.0,0.0,null,0.0,0.0,0.0,1376.0,79.0,39.0,0.0,1225.0,null,0.0,0.0,0.0,32.0,103.0,null,0.0,0.0,0.0,0.0,7.0,0.0,179.0,null,0.0,0.0,0.0,5.0,4.0,0.0,0.0,0.0,0.0,794.0,0.0,0.0,0.0,2.0,0.0,0.0,3283.0,0.0,0.0,0.0,518.0,0.0,0.0,0.0,0.0,253.0,0.0,0.0,0.0,326.0,4.0,213.0,12.0,0.0,0.0,4411.0,0.0,4160.0,0.0,0.0,895.0,0.0,0.0,0.0,0.0,7218.0,101.0,304.0,261.0,0.0,0.0,0.0,0.0,0.0,0.0,0.0,0.0,191.0,0.0,0.0,0.0,0.0,1371.0,9129.0,0.0,118.0,5.0,0.0,2406.0,0.0,0.0,0.0,0.0,0.0,0.0,0.0,0.0,0.0,0.0,5147.0,1.0,0.0,0.0,754.0,0.0,null,168.0,611.0,41.0,0.0,0.0,0.0,0.0,0.0,0.0,330.0,7865.0,0.0,0.0,0.0,0.0,0.0,0.0,0.0,0.0,0.0,3.0,3541.0,4360.0,521.0,0.0,0.0,0.0,0.0,0.0,0.0,0.0,0.0,90.0,0.0,0.0,0.0,213.0,119.0,0.0,0.0,0.0,0.0,0.0,0.0,0.0,0.0,0.0,15.0,0.0,0.0,701.0,0.0,0.0,0.0,0.0,0.0,0.0,0.0,0.0,0.0,0.0,0.0,916.0,0.0,0.0,52.0,404.0,0.0,1415.0,79.0,61.0,0.0,0.0,0.0,1082.0,0.0,0.0,270.0,2.0,0.0,13.0,501.0,0.0,0.0,434.0,53.0,9.0,0.0,0.0,0.0,0.0,0.0,298.0,0.0,811.0,0.0,0.0,44.0,0.0,0.0,1513.0,0.0,647.0,0.0,0.0,0.0,0.0,1.0,0.0,1.0,40.0,0.0,397.0,1132.0,0.0,0.0,0.0,3.0,143.0,436.0,21.0,0.0,4828.0,0.0,0.0,null,0.0,0.0,0.0,0.0,0.0,1889.0,19.0,0.0,0.0,0.0,0.0,880.0,0.0,0.0,0.0,0.0,0.0,0.0,6.0,96.0,0.0,0.0,0.0,0.0,3.0,0.0,0.0,0.0,0.0,0.0,0.0,0.0,0.0,0.0,0.0,0.0,0.0,0.0,0.0,0.0,0.0,0.0,0.0,2.0,0.0,0.0,0.0,486.0,702.0,217.0,12323.0,2.0,31.0,0.0,0.0,0.0,148.0,120.0,1968.0,1232.0,0.0,307.0,null,433.0,816.0,487.0,0.0,50.0,57.0,1.0,53.0,60.0,0.0,0.0,0.0,0.0,0.0,0.0,0.0,0.0,0.0,0.0,0.0,0.0,0.0,0.0,0.0,0.0,0.0,0.0,168.0,0.0,0.0,0.0,356.0,null,0.0,0.0,0.0,0.0,0.0,340.0,5.0,0.0,10.0,null,0.0,0.0,1.0,10074.0,0.0,0.0,0.0,63.0,3491.0,39.0,459.0,323.0,0.0,118.0,0.0,0.0,9.0,0.0,0.0,519.0,0.0,0.0,0.0,0.0,0.0,0.0,0.0,1469.0,160.0,1.0,3.0,0.0,0.0,0.0,5558.0,0.0,0.0,null,2.0,85.0,0.0,0.0,0.0,26.0,0.0,0.0,0.0,8.0,0.0,0.0,0.0,0.0,0.0,0.0,0.0,777.0,4.0,0.0,67.0,0.0,901.0,0.0,1674.0,0.0,321.0,122.0,0.0,411.0,1544.0,0.0,314.0,0.0,0.0,0.0,0.0,18.0,0.0,3.0,0.0,183.0,0.0,0.0,0.0,734.0,0.0,0.0,0.0,0.0,720.0,0.0,0.0,827.0,0.0,0.0,0.0,0.0,0.0,0.0,595.0,0.0,0.0,0.0,0.0,0.0,0.0,0.0,5.0,0.0,571.0,0.0,0.0,2187.0,0.0,0.0,0.0,0.0,0.0,0.0,1466.0,0.0,12061.0,7730.0,1.0,0.0,0.0,0.0,null,0.0,0.0,0.0,0.0,0.0,0.0,0.0,11213.0,681.0,0.0,704.0,0.0,0.0,531.0,108.0,0.0,null,0.0,0.0,103.0,14.0,3.0,0.0,0.0,0.0,0.0,0.0,0.0,0.0,0.0,0.0,4.0,0.0,0.0,0.0,1403.0,4090.0,46.0,0.0,0.0,107.0,null,0.0,0.0,0.0,124.0,0.0,0.0,0.0,402.0,0.0,null,0.0,1755.0,0.0,0.0,0.0,435.0,1814.0,0.0,0.0,0.0,0.0,601.0,0.0,0.0,0.0,428.0,0.0,0.0,8040.0,0.0,null,0.0,145.0,77.0,0.0,0.0,1624.0,0.0,0.0,0.0,0.0,137.0,701.0,43.0,0.0,0.0,27.0,0.0,7461.0,4898.0,71.0,0.0,20.0,2740.0,0.0,0.0,503.0,0.0,0.0,1.0,1560.0,0.0,0.0,0.0,null,0.0,13.0,0.0,19.0,1.0,0.0,83.0,192.0,0.0,14.0,0.0,2659.0,208.0,1247.0,0.0,0.0,0.0,78.0,0.0,0.0,342.0,7121.0,0.0,1082.0,0.0,0.0,0.0,10206.0,0.0,5543.0,1.0,0.0,0.0,0.0,19.0,0.0,0.0,0.0,0.0,0.0,57.0,0.0,0.0,0.0,0.0,0.0,0.0,2711.0,715.0,594.0,0.0,0.0,0.0,0.0,0.0,10.0,6.0,0.0,0.0,null,1320.0,1478.0,4817.0,8221.0,0.0,40.0,350.0,0.0,0.0,880.0,0.0,0.0,0.0,0.0,144.0,30.0,23.0,0.0,1.0,0.0,0.0,0.0,0.0,0.0,0.0,0.0,0.0,1244.0,0.0,0.0,0.0,812.0,0.0,0.0,156.0,0.0,0.0,0.0,0.0,305.0,704.0,0.0,0.0,0.0,0.0,0.0,0.0,null,0.0,0.0,16.0,164.0,0.0,45.0,0.0,0.0,0.0,0.0,0.0,1155.0,141.0,0.0,518.0,0.0,0.0,3726.0,2105.0,0.0,0.0,383.0,0.0,0.0,510.0,0.0,121.0,754.0,37.0,109.0,0.0,618.0,3.0,705.0,0.0,0.0,7492.0,1297.0,643.0,1.0,139.0,0.0,1984.0,356.0,1.0,0.0,0.0,254.0,0.0,0.0,0.0,26.0,0.0,1120.0,1.0,0.0,0.0,642.0,193.0,1.0,199.0,0.0,0.0,0.0,0.0,0.0,null,0.0,0.0,383.0,765.0,907.0,0.0,273.0,0.0,0.0,594.0,1.0,0.0,0.0,0.0,811.0,5.0,199.0,0.0,3379.0,0.0,1.0,0.0,6.0,0.0,0.0,583.0,0.0,393.0,0.0,4.0,0.0,0.0,0.0,2109.0,0.0,0.0,0.0,0.0,0.0,0.0,0.0,0.0,0.0,0.0,0.0,0.0,0.0,10.0,0.0,387.0,0.0,2.0,0.0,0.0,5615.0,0.0,0.0,0.0,0.0,0.0,4.0,0.0,716.0,0.0,218.0,0.0,0.0,null,0.0,0.0,0.0,0.0,0.0,0.0,0.0,0.0,6.0,1104.0,260.0,1903.0,0.0,65.0,0.0,0.0,3831.0,21.0,8.0,88.0,0.0,0.0,13.0,0.0,0.0,24.0,0.0,0.0,0.0,0.0,0.0,0.0,0.0,0.0,null,0.0,0.0,0.0,1049.0,100.0,909.0,6.0,0.0,0.0,0.0,1818.0,0.0,10.0,0.0,0.0,11.0,0.0,1065.0,1292.0,0.0,0.0,0.0,0.0,0.0,0.0,0.0,0.0,839.0,0.0,41.0,0.0,262.0,0.0,0.0,0.0,0.0,0.0,0.0,1407.0,749.0,0.0,0.0,0.0,0.0,0.0,0.0,0.0,289.0,3780.0,69.0,4757.0,2300.0,25.0,0.0,104.0,0.0,375.0,2056.0,33.0,0.0,517.0,0.0,171.0,0.0,3.0,null,0.0,126.0,7.0,0.0,0.0,0.0,0.0,0.0,0.0,0.0,0.0,0.0,null,0.0,14.0,0.0,0.0,805.0,0.0,0.0,0.0,73.0,1227.0,0.0,247.0,417.0,0.0,585.0,79.0,0.0,0.0,0.0,867.0,0.0,6.0,0.0,0.0,235.0,769.0,0.0,0.0,0.0,0.0,0.0,24133.0,0.0,0.0,9.0,0.0,0.0,0.0,13.0,0.0,0.0,0.0,489.0,0.0,null,692.0,0.0,0.0,2428.0,0.0,0.0,5.0,0.0,323.0,801.0,0.0,0.0,0.0,16.0,0.0,3999.0,0.0,0.0,0.0,0.0,18.0,0.0,0.0,2050.0,384.0,0.0,0.0,0.0,5.0,0.0,0.0,0.0,0.0,283.0,0.0,null,631.0,0.0,175.0,0.0,2.0,1393.0,1335.0,0.0,0.0,45.0,941.0,0.0,0.0,1.0,4.0,0.0,0.0,0.0,395.0,0.0,141.0,0.0,0.0,0.0,0.0,0.0,0.0,827.0,0.0,1674.0,3186.0,587.0,0.0,0.0,757.0,0.0,0.0,0.0,489.0,4.0,243.0,0.0,396.0,0.0,0.0,1652.0,0.0,0.0,9.0,9.0,48.0,1013.0,0.0,17.0,0.0,2137.0,0.0,0.0,1721.0,0.0,0.0,0.0,308.0,0.0,0.0,0.0,0.0,0.0,0.0,3.0,6.0,86.0,0.0,0.0,527.0,29.0,0.0,0.0,0.0,0.0,0.0,0.0,0.0,0.0,0.0,73.0,0.0,3.0,216.0,0.0,20.0,0.0,525.0,629.0,5648.0,0.0,642.0,0.0,0.0,0.0,0.0,10.0,0.0,21.0,0.0,3230.0,0.0,0.0,0.0,35.0,593.0,0.0,0.0,8.0,0.0,309.0,0.0,683.0,40.0,0.0,0.0,0.0,1078.0,0.0,445.0,0.0,0.0,0.0,0.0,0.0,0.0,0.0,988.0,0.0,0.0,0.0,884.0,0.0,0.0,2383.0,0.0,0.0,0.0,3.0,0.0,0.0,1017.0,0.0,0.0,80.0,0.0,0.0,0.0,1174.0,0.0,0.0,0.0,0.0,9.0,807.0,9.0,0.0,0.0,37.0,0.0,0.0,150.0,0.0,0.0,0.0,0.0,0.0,0.0,1.0,0.0,0.0,0.0,0.0,0.0,0.0,0.0,0.0,21.0,0.0,0.0,0.0,214.0,2047.0,10270.0,1141.0,1.0,0.0,0.0,0.0,0.0,0.0,0.0,24.0,72.0,11.0,0.0,74.0,0.0,null,461.0,657.0,17.0,1963.0,0.0,875.0,null,0.0,0.0,0.0,0.0,null,125.0,0.0,0.0,0.0,950.0,0.0,0.0,null,0.0,0.0,0.0,0.0,0.0,512.0,0.0,0.0,0.0,0.0,0.0,0.0,0.0,3554.0,680.0,91.0,45.0,0.0,0.0,477.0,0.0,1596.0,0.0,0.0,0.0,0.0,629.0,0.0,2.0,0.0,1543.0,540.0,0.0,0.0,272.0,841.0,653.0,0.0,0.0,0.0,159.0,0.0,173.0,537.0,0.0,0.0,0.0,90.0,null,0.0,23.0,0.0,3303.0,510.0,0.0,0.0,0.0,0.0,null,30.0,2203.0,9837.0,0.0,24.0,0.0,0.0,0.0,0.0,0.0,0.0,0.0,147.0,0.0,177.0,0.0,0.0,0.0,0.0,0.0,0.0,0.0,0.0,37.0,0.0,0.0,0.0,0.0,0.0,0.0,0.0,0.0,3.0,0.0,0.0,102.0,0.0,661.0,5477.0,469.0,0.0,0.0,0.0,0.0,0.0,0.0,6985.0,12.0,0.0,0.0,0.0,0.0,397.0,925.0,0.0,0.0,0.0,0.0,0.0,0.0,0.0,0.0,5.0,0.0,0.0,3167.0,774.0,0.0,0.0,185.0,0.0,0.0,0.0,0.0,329.0,161.0,0.0,0.0,0.0,0.0,0.0,169.0,0.0,1578.0,0.0,0.0,826.0,0.0,0.0,0.0,0.0,0.0,0.0,0.0,0.0,1200.0,320.0,10888.0,0.0,0.0,0.0,0.0,0.0,0.0,986.0,0.0,0.0,0.0,0.0,0.0,0.0,0.0,629.0,0.0,1611.0,827.0,0.0,0.0,288.0,772.0,0.0,0.0,432.0,0.0,0.0,0.0,0.0,0.0,0.0,0.0,0.0,468.0,0.0,57.0,2919.0,0.0,0.0,0.0,0.0,109.0,0.0,0.0,1.0,0.0,0.0,0.0,564.0,0.0,0.0,0.0,0.0,0.0,0.0,0.0,0.0,0.0,0.0,0.0,4666.0,0.0,14.0,0.0,0.0,0.0,1724.0,null,136.0,41.0,82.0,0.0,0.0,0.0,0.0,0.0,0.0,5.0,0.0,0.0,0.0,0.0,0.0,0.0,0.0,0.0,0.0,null,83.0,557.0,0.0,15.0,3.0,0.0,0.0,0.0,0.0,0.0,1030.0,4.0,0.0,0.0,290.0,1166.0,5.0,0.0,0.0,0.0,785.0,0.0,0.0,1363.0,5.0,39.0,5531.0,533.0,0.0,0.0,0.0,0.0,2236.0,0.0,158.0,4.0,0.0,3.0,0.0,0.0,512.0,0.0,0.0,0.0,0.0,0.0,0.0,null,0.0,4056.0,0.0,0.0,175.0,0.0,1.0,0.0,4.0,0.0,0.0,62.0,744.0,0.0,0.0,4085.0,43.0,31.0,2056.0,0.0,815.0,470.0,784.0,25.0,1393.0,0.0,845.0,0.0,0.0,0.0,0.0,5.0,3014.0,0.0,0.0,0.0,35.0,80.0,0.0,0.0,2.0,0.0,0.0,0.0,4088.0,640.0,0.0,0.0,58.0,0.0,0.0,0.0,0.0,638.0,0.0,0.0,0.0,0.0,1548.0,0.0,0.0,0.0,0.0,0.0,0.0,10.0,421.0,218.0,8.0,0.0,null,0.0,498.0,0.0,0.0,0.0,50.0,4.0,0.0,0.0,0.0,0.0,15.0,1675.0,0.0,0.0,0.0,0.0,0.0,0.0,672.0,0.0,0.0,0.0,0.0,796.0,18.0,0.0,0.0,0.0,0.0,null,0.0,53.0,0.0,0.0,0.0,0.0,16.0,0.0,0.0,182.0,0.0,5496.0,0.0,239.0,18.0,2.0,0.0,0.0,0.0,0.0,0.0,0.0,0.0,0.0,13.0,11.0,0.0,0.0,0.0,475.0,170.0,1495.0,0.0,0.0,12.0,0.0,0.0,764.0,1638.0,null,0.0,0.0,0.0,774.0,124.0,0.0,0.0,0.0,0.0,0.0,0.0,null,1279.0,0.0,0.0,null,null,0.0,0.0,0.0,0.0,0.0,0.0,0.0,0.0,0.0,2035.0,0.0,0.0,0.0,211.0,15.0,338.0,21.0,0.0,2.0,0.0,0.0,8.0,0.0,0.0,0.0,6.0,0.0,71.0,22.0,1.0,3.0,48.0,0.0,0.0,0.0,0.0,0.0,0.0,0.0,null,0.0,539.0,0.0,364.0,0.0,0.0,0.0,0.0,896.0,19.0,6.0,0.0,0.0,25.0,5.0,0.0,0.0,0.0,104.0,0.0,23.0,0.0,137.0,0.0,0.0,3047.0,0.0,0.0,0.0,0.0,0.0,1417.0,322.0,0.0,0.0,0.0,0.0,0.0,0.0,698.0,401.0,0.0,0.0,0.0,0.0,0.0,null,0.0,630.0,0.0,0.0,40.0,0.0,52.0,742.0,0.0,0.0,440.0,672.0,1.0,0.0,599.0,0.0,0.0,0.0,0.0,0.0,115.0,0.0,0.0,75.0,0.0,0.0,0.0,0.0,431.0,9.0,0.0,204.0,163.0,0.0,0.0,256.0,15.0,1949.0,0.0,0.0,0.0,0.0,0.0,0.0,0.0,0.0,800.0,null,0.0,0.0,0.0,0.0,0.0,0.0,890.0,0.0,0.0,0.0,773.0,18.0,124.0,0.0,33.0,0.0,0.0,4674.0,0.0,0.0,0.0,0.0,0.0,17.0,0.0,0.0,3798.0,0.0,57.0,192.0,25.0,0.0,null,829.0,0.0,0.0,0.0,0.0,0.0,398.0,0.0,545.0,59.0,0.0,2.0,0.0,0.0,0.0,0.0,1919.0,0.0,0.0,0.0,18.0,0.0,0.0,0.0,0.0,0.0,0.0,0.0,44.0,0.0,14.0,0.0,0.0,0.0,17074.0,1.0,0.0,318.0,0.0,0.0,0.0,739.0,0.0,975.0,0.0,0.0,214.0,372.0,0.0,1.0,0.0,108.0,0.0,0.0,0.0,0.0,0.0,2.0,0.0,0.0,0.0,0.0,null,0.0,1.0,0.0,0.0,0.0,0.0,104.0,0.0,567.0,103.0,0.0,0.0,40.0,0.0,0.0,0.0,84.0,777.0,5.0,2.0,0.0,0.0,676.0,7.0,1318.0,0.0,0.0,null,0.0,0.0,0.0,420.0,1426.0,667.0,1541.0,0.0,0.0,0.0,8.0,0.0,0.0,628.0,0.0,0.0,0.0,0.0,776.0,0.0,1553.0,0.0,2.0,0.0,null,0.0,0.0,0.0,0.0,5499.0,41.0,3.0,0.0,0.0,337.0,0.0,0.0,0.0,0.0,25.0,0.0,11.0,813.0,0.0,90.0,1435.0,0.0,0.0,1459.0,0.0,0.0,0.0,0.0,0.0,722.0,0.0,0.0,226.0,2177.0,0.0,3128.0,0.0,0.0,0.0,0.0,0.0,0.0,0.0,0.0,0.0,1.0,0.0,468.0,0.0,0.0,0.0,229.0,0.0,0.0,0.0,0.0,4.0,369.0,0.0,null,30.0,0.0,0.0,0.0,0.0,40.0,170.0,595.0,0.0,0.0,0.0,0.0,null,null,0.0,5.0,0.0,14.0,8.0,0.0,87.0,0.0,0.0,912.0,0.0,0.0,0.0,16.0,0.0,3.0,182.0,0.0,0.0,0.0,0.0,328.0,0.0,0.0,2325.0,0.0,41.0,189.0,2905.0,12.0,78.0,0.0,391.0,485.0,0.0,0.0,0.0,546.0,0.0,757.0,109.0,184.0,0.0,0.0,0.0,239.0,1201.0,0.0,0.0,34.0,42.0,0.0,3.0,52.0,2714.0,24.0,0.0,0.0,27.0,738.0,45.0,0.0,0.0,0.0,0.0,66.0,0.0,40.0,0.0,0.0,16.0,0.0,0.0,0.0,0.0,0.0,0.0,0.0,0.0,498.0,731.0,0.0,0.0,1.0,84.0,0.0,0.0,0.0,4.0,0.0,920.0,0.0,0.0,12.0,0.0,0.0,355.0,23.0,0.0,22.0,4304.0,0.0,0.0,8169.0,0.0,0.0,0.0,0.0,0.0,0.0,444.0,0.0,1.0,171.0,0.0,632.0,28.0,444.0,0.0,0.0,373.0,0.0,0.0,0.0,0.0,0.0,0.0,0.0,0.0,0.0,3155.0,0.0,50.0,388.0,0.0,75.0,117.0,0.0,19.0,0.0,419.0,0.0,0.0,2220.0,0.0,0.0,0.0,0.0,0.0,23.0,1150.0,0.0,0.0,0.0,23.0,1.0,0.0,100.0,0.0,779.0,0.0,370.0,126.0,0.0,0.0,0.0,764.0,0.0,60.0,0.0,0.0,0.0,0.0,0.0,0.0,0.0,0.0,0.0,0.0,66.0,0.0,0.0,0.0,736.0,0.0,378.0,130.0,0.0,0.0,0.0,0.0,0.0,896.0,0.0,0.0,718.0,0.0,0.0,0.0,0.0,0.0,0.0,181.0,0.0,2027.0,423.0,71.0,0.0,0.0,187.0,2960.0,8.0,787.0,null,962.0,0.0,4041.0,null,473.0,1967.0,0.0,558.0,605.0,952.0,null,239.0,0.0,0.0,10.0,0.0,2577.0,0.0,0.0,634.0,135.0,0.0,0.0,0.0,0.0,0.0,0.0,0.0,486.0,0.0,1147.0,0.0,0.0,0.0,0.0,0.0,32.0,0.0,10.0,0.0,0.0,782.0,0.0,0.0,0.0,197.0,2470.0,0.0,0.0,0.0,17.0,544.0,0.0,186.0,0.0,0.0,0.0,7.0,0.0,0.0,0.0,1845.0,0.0,0.0,6.0,5.0,null,0.0,0.0,0.0,0.0,0.0,756.0,0.0,0.0,0.0,0.0,0.0,0.0,0.0,0.0,0.0,0.0,0.0,168.0,0.0,124.0,175.0,2.0,0.0,548.0,0.0,0.0,400.0,0.0,34.0,0.0,845.0,0.0,0.0,0.0,0.0,null,0.0,0.0,0.0,50.0,0.0,1778.0,800.0,0.0,159.0,0.0,0.0,0.0,0.0,0.0,0.0,397.0,0.0,97.0,782.0,0.0,0.0,0.0,0.0,320.0,625.0,0.0,560.0,86.0,0.0,0.0,0.0,1.0,0.0,0.0,0.0,90.0,0.0,0.0,0.0,6.0,0.0,null,0.0,0.0,0.0,484.0,311.0,394.0,908.0,0.0,0.0,0.0,4914.0,0.0,47.0,0.0,0.0,0.0,0.0,0.0,565.0,0.0,12424.0,null,844.0,56.0,0.0,0.0,119.0,0.0,0.0,565.0,423.0,0.0,140.0,0.0,1282.0,0.0,5913.0,0.0,0.0,8.0,120.0,0.0,0.0,0.0,0.0,52.0,1360.0,0.0,0.0,0.0,0.0,0.0,0.0,0.0,1776.0,0.0,54.0,11.0,0.0,951.0,0.0,0.0,0.0,0.0,93.0,0.0,0.0,0.0,223.0,0.0,0.0,0.0,0.0,0.0,0.0,1392.0,0.0,0.0,0.0,0.0,0.0,0.0,0.0,0.0,0.0,683.0,0.0,0.0,0.0,659.0,645.0,1261.0,0.0,1.0,0.0,0.0,0.0,0.0,0.0,7401.0,0.0,0.0,1037.0,904.0,61.0,37.0,0.0,0.0,0.0,0.0,0.0,0.0,0.0,0.0,0.0,0.0,0.0,0.0,0.0,0.0,0.0,0.0,10.0,0.0,608.0,0.0,0.0,0.0,0.0,25.0,262.0,1175.0,0.0,0.0,0.0,0.0,112.0,347.0,0.0,2.0,77.0,0.0,0.0,0.0,86.0,0.0,0.0,0.0,0.0,0.0,0.0,1413.0,1.0,32.0,0.0,619.0,77.0,2.0,0.0,1686.0,0.0,0.0,344.0,0.0,0.0,0.0,0.0,0.0,224.0,7621.0,0.0,0.0,0.0,0.0,500.0,0.0,0.0,0.0,0.0,0.0,1156.0,0.0,0.0,null,64.0,1080.0,0.0,0.0,0.0,1.0,0.0,1339.0,0.0,0.0,872.0,213.0,553.0,0.0,2.0,163.0,0.0,0.0,52.0,30.0,487.0,0.0,0.0,518.0,6027.0,234.0,0.0,0.0,0.0,0.0,9065.0,4973.0,0.0,0.0,387.0,3372.0,621.0,0.0,0.0,741.0,0.0,0.0,0.0,214.0,2141.0,131.0,0.0,335.0,1178.0,0.0,0.0,0.0,1.0,0.0,0.0,null,729.0,0.0,85.0,0.0,0.0,0.0,0.0,214.0,6.0,0.0,0.0,0.0,0.0,655.0,0.0,0.0,0.0,1128.0,15.0,0.0,0.0,0.0,0.0,0.0,309.0,0.0,0.0,0.0,0.0,0.0,281.0,0.0,0.0,0.0,0.0,0.0,0.0,0.0,0.0,0.0,620.0,811.0,0.0,0.0,0.0,0.0,6.0,3.0,0.0,0.0,0.0,977.0,21.0,0.0,0.0,0.0,0.0,9.0,0.0,0.0,0.0,0.0,1.0,0.0,0.0,673.0,162.0,0.0,0.0,0.0,0.0,0.0,0.0,827.0,177.0,0.0,594.0,0.0,0.0,0.0,29.0,0.0,0.0,104.0,0.0,0.0,10.0,0.0,0.0,0.0,0.0,0.0,136.0,0.0,0.0,0.0,224.0,0.0,5034.0,0.0,0.0,3.0,0.0,0.0,0.0,5.0,0.0,0.0,0.0,0.0,0.0,0.0,1216.0,1217.0,0.0,2.0,0.0,0.0,0.0,461.0,0.0,0.0,0.0,10.0,0.0,4.0,2577.0,0.0,0.0,91.0,0.0,0.0,0.0,0.0,85.0,0.0,0.0,24.0,780.0,0.0,0.0,0.0,0.0,1340.0,15.0,31.0,8.0,0.0,3730.0,0.0,115.0,927.0,0.0,15.0,757.0,0.0,0.0,0.0,0.0,0.0,0.0,0.0,0.0,0.0,1.0,0.0,0.0,0.0,0.0,0.0,0.0,0.0,366.0,0.0,0.0,0.0,0.0,0.0,124.0,0.0,40.0,371.0,0.0,0.0,0.0,0.0,0.0,0.0,0.0,null,2302.0,0.0,381.0,26.0,0.0,1.0,0.0,1377.0,0.0,89.0,0.0,0.0,0.0,14.0,0.0,0.0,0.0,0.0,0.0,0.0,0.0,0.0,1005.0,891.0,0.0,0.0,0.0,0.0,281.0,1.0,1367.0,0.0,0.0,0.0,0.0,0.0,0.0,0.0,335.0,0.0,571.0,0.0,1567.0,551.0,0.0,0.0,1548.0,1779.0,29.0,0.0,0.0,0.0,0.0,0.0,0.0,663.0,614.0,0.0,0.0,0.0,3173.0,284.0,2764.0,2553.0,0.0,null,110.0,904.0,0.0,0.0,0.0,2161.0,25.0,0.0,0.0,2336.0,null,36.0,779.0,402.0,0.0,517.0,1781.0,0.0,9033.0,1.0,0.0,386.0,0.0,0.0,84.0,0.0,534.0,1.0,588.0,0.0,0.0,1136.0,0.0,143.0,0.0,0.0,0.0,13.0,39.0,1678.0,0.0,null,659.0,3557.0,0.0,0.0,0.0,0.0,0.0,642.0,788.0,0.0,0.0,0.0,0.0,0.0,20.0,0.0,0.0,8.0,23.0,0.0,0.0,0.0,0.0,712.0,0.0,3854.0,130.0,0.0,92.0,0.0,57.0,0.0,257.0,0.0,0.0,0.0,25.0,0.0,0.0,56.0,0.0,0.0,0.0,0.0,0.0,0.0,0.0,8.0,0.0,1090.0,900.0,0.0,0.0,13.0,200.0,2.0,831.0,0.0,0.0,0.0,0.0,0.0,4.0,0.0,3027.0,227.0,0.0,532.0,0.0,0.0,null,0.0,2478.0,0.0,4.0,0.0,0.0,0.0,0.0,0.0,0.0,0.0,null,517.0,8182.0,0.0,null,0.0,748.0,472.0,0.0,0.0,0.0,0.0,0.0,0.0,0.0,881.0,0.0,1.0,746.0,0.0,0.0,32.0,0.0,0.0,0.0,0.0,248.0,0.0,0.0,0.0,9.0,0.0,0.0,587.0,440.0,18.0,809.0,249.0,0.0,29.0,0.0,1.0,0.0,69.0,0.0,173.0,0.0,463.0,0.0,79.0,0.0,0.0,0.0,0.0,0.0,0.0,0.0,0.0,0.0,0.0,0.0,0.0,0.0,0.0,0.0,0.0,2346.0,0.0,124.0,0.0,0.0,0.0,515.0,0.0,0.0,0.0,0.0,null,0.0,17.0,86.0,0.0,7.0,11.0,0.0,0.0,0.0,0.0,0.0,639.0,0.0,676.0,920.0,0.0,0.0,0.0,0.0,0.0,49.0,0.0,0.0,0.0,287.0,6201.0,654.0,85.0,0.0,0.0,0.0,0.0,0.0,0.0,75.0,0.0,693.0,3902.0,0.0,0.0,0.0,1.0,0.0,0.0,0.0,0.0,3098.0,0.0,0.0,0.0,0.0,0.0,0.0,1797.0,2065.0,46.0,293.0,0.0,274.0,0.0,0.0,0.0,0.0,248.0,647.0,0.0,0.0,0.0,0.0,0.0,0.0,46.0,612.0,2273.0,0.0,0.0,0.0,0.0,616.0,0.0,0.0,0.0,0.0,0.0,0.0,484.0,0.0,640.0,0.0,0.0,9.0,240.0,0.0,3.0,2367.0,0.0,0.0,0.0,0.0,0.0,2.0,0.0,0.0,0.0,0.0,0.0,0.0,95.0,1483.0,319.0,0.0,0.0,0.0,0.0,0.0,0.0,0.0,0.0,619.0,9.0,0.0,0.0,0.0,0.0,0.0,0.0,2684.0,0.0,0.0,0.0,33.0,733.0,0.0,0.0,0.0,0.0,13.0,0.0,16.0,176.0,0.0,0.0,0.0,2.0,1491.0,null,859.0,562.0,0.0,0.0,7953.0,0.0,0.0,49.0,0.0,0.0,270.0,6329.0,0.0,0.0,0.0,17.0,119.0,0.0,0.0,0.0,0.0,0.0,0.0,10.0,0.0,0.0,0.0,2285.0,45.0,0.0,518.0,1132.0,1734.0,23.0,219.0,0.0,555.0,0.0,0.0,0.0,0.0,0.0,9811.0,0.0,0.0,0.0,0.0,0.0,2.0,0.0,337.0,880.0,3884.0,0.0,1.0,0.0,0.0,0.0,0.0,0.0,0.0,82.0,10.0,1288.0,0.0,0.0,855.0,6102.0,0.0,0.0,29.0,1.0,12143.0,0.0,0.0,0.0,0.0,0.0,0.0,228.0,0.0,0.0,0.0,18.0,0.0,2060.0,0.0,0.0,7.0,10028.0,597.0,0.0,0.0,0.0,0.0,0.0,0.0,0.0,591.0,27.0,0.0,0.0,6901.0,791.0,0.0,0.0,11.0,0.0,0.0,0.0,0.0,442.0,0.0,0.0,600.0,0.0,1482.0,2.0,0.0,1116.0,2123.0,68.0,0.0,0.0,0.0,0.0,0.0,0.0,624.0,9.0,0.0,0.0,0.0,0.0,0.0,0.0,293.0,0.0,0.0,4051.0,0.0,0.0,0.0,89.0,100.0,0.0,0.0,0.0,0.0,0.0,0.0,0.0,0.0,161.0,0.0,0.0,1370.0,0.0,236.0,0.0,537.0,928.0,0.0,854.0,686.0,0.0,0.0,null,0.0,1384.0,0.0,0.0,0.0,0.0,0.0,0.0,0.0,0.0,0.0,31.0,0.0,0.0,0.0,625.0,0.0,848.0,1972.0,0.0,0.0,334.0,0.0,1964.0,0.0,0.0,61.0,4435.0,1547.0,0.0,0.0,0.0,116.0,0.0,12.0,0.0,0.0,0.0,0.0,0.0,0.0,0.0,0.0,0.0,0.0,0.0,1539.0,0.0,0.0,0.0,0.0,0.0,2.0,0.0,0.0,404.0,488.0,0.0,0.0,0.0,0.0,0.0,0.0,0.0,0.0,64.0,0.0,728.0,151.0,1179.0,0.0,0.0,0.0,70.0,0.0,0.0,0.0,0.0,582.0,994.0,46.0,0.0,0.0,0.0,0.0,0.0,1935.0,658.0,128.0,0.0,0.0,0.0,0.0,0.0,748.0,0.0,0.0,12685.0,0.0,633.0,0.0,707.0,0.0,0.0,0.0,178.0,0.0,0.0,7.0,0.0,0.0,471.0,0.0,89.0,0.0,1157.0,0.0,0.0,5.0,77.0,22.0,0.0,99.0,0.0,0.0,0.0,0.0,0.0,8.0,7.0,0.0,0.0,0.0,0.0,0.0,null,3.0,0.0,570.0,0.0,67.0,93.0,null,61.0,0.0,0.0,0.0,0.0,0.0,0.0,188.0,0.0,0.0,50.0,0.0,168.0,0.0,0.0,661.0,7.0,0.0,0.0,0.0,37.0,42.0,0.0,0.0,0.0,0.0,0.0,0.0,117.0,2322.0,0.0,347.0,957.0,null,0.0,0.0,0.0,180.0,0.0,0.0,17.0,0.0,4.0,205.0,0.0,473.0,0.0,57.0,377.0,1.0,0.0,1179.0,0.0,0.0,0.0,0.0,792.0,0.0,27.0,0.0,0.0,2020.0,0.0,36.0,1.0,0.0,1.0,375.0,0.0,null,0.0,0.0,0.0,275.0,0.0,0.0,0.0,0.0,0.0,0.0,0.0,129.0,15.0,6262.0,0.0,0.0,0.0,1.0,0.0,47.0,0.0,0.0,0.0,0.0,0.0,0.0,0.0,0.0,394.0,906.0,0.0,0.0,0.0,0.0,0.0,0.0,0.0,0.0,0.0,3675.0,173.0,0.0,0.0,0.0,0.0,0.0,0.0,113.0,0.0,8.0,810.0,60.0,0.0,0.0,0.0,7.0,21.0,93.0,null,0.0,0.0,0.0,0.0,6.0,41.0,0.0,0.0,0.0,0.0,0.0,68.0,0.0,0.0,349.0,0.0,0.0,130.0,128.0,416.0,0.0,11325.0,995.0,0.0,0.0,1989.0,0.0,575.0,0.0,0.0,0.0,0.0,741.0,0.0,0.0,0.0,0.0,0.0,0.0,0.0,0.0,0.0,0.0,46.0,0.0,2491.0,11741.0,0.0,0.0,68.0,948.0,803.0,0.0,0.0,0.0,0.0,1057.0,14.0,null,0.0,0.0,0.0,null,0.0,0.0,0.0,0.0,0.0,0.0,3.0,0.0,0.0,1320.0,0.0,18.0,19.0,0.0,2.0,0.0,5.0,0.0,1.0,555.0,0.0,0.0,0.0,43.0,0.0,0.0,0.0,0.0,62.0,522.0,1.0,0.0,0.0,12392.0,0.0,0.0,283.0,27.0,364.0,21.0,0.0,0.0,1.0,0.0,7.0,511.0,32.0,0.0,0.0,0.0,312.0,1.0,14.0,452.0,0.0,0.0,0.0,0.0,109.0,0.0,0.0,2090.0,0.0,0.0,3.0,6.0,0.0,0.0,0.0,390.0,0.0,17.0,0.0,1674.0,0.0,0.0,0.0,7.0,5057.0,3.0,0.0,0.0,0.0,181.0,0.0,0.0,309.0,0.0,0.0,0.0,0.0,20.0,0.0,0.0,0.0,1556.0,802.0,0.0,0.0,754.0,0.0,0.0,21.0,0.0,0.0,0.0,0.0,51.0,2064.0,0.0,0.0,0.0,0.0,0.0,0.0,642.0,0.0,197.0,0.0,115.0,0.0,0.0,0.0,854.0,0.0,0.0,0.0,0.0,48.0,163.0,18.0,0.0,0.0,0.0,0.0,0.0,0.0,0.0,0.0,1.0,0.0,0.0,0.0,1077.0,0.0,0.0,1.0,0.0,3.0,360.0,10.0,0.0,0.0,2002.0,0.0,0.0,0.0,0.0,4521.0,161.0,0.0,0.0,0.0,632.0,0.0,0.0,0.0,332.0,0.0,0.0,0.0,52.0,12.0,0.0,0.0,0.0,0.0,727.0,0.0,7819.0,0.0,0.0,145.0,1054.0,426.0,0.0,337.0,197.0,70.0,0.0,125.0,0.0,0.0,88.0,0.0,5804.0,482.0,0.0,0.0,2.0,0.0,0.0,0.0,0.0,3147.0,15.0,0.0,0.0,4.0,126.0,1317.0,0.0,5839.0,0.0,2252.0,0.0,0.0,4.0,0.0,0.0,0.0,0.0,0.0,0.0,74.0,0.0,0.0,0.0,0.0,1164.0,815.0,0.0,53.0,null,0.0,0.0,15.0,12.0,0.0,0.0,0.0,0.0,0.0,971.0,0.0,0.0,0.0,0.0,23.0,687.0,0.0,0.0,0.0,0.0,0.0,0.0,null,0.0,188.0,0.0,438.0,0.0,0.0,0.0,0.0,0.0,null,0.0,0.0,0.0,0.0,0.0,0.0,0.0,329.0,0.0,0.0,34.0,330.0,74.0,0.0,0.0,3235.0,12.0],\"type\":\"box\"}],                        {\"template\":{\"data\":{\"bar\":[{\"error_x\":{\"color\":\"#2a3f5f\"},\"error_y\":{\"color\":\"#2a3f5f\"},\"marker\":{\"line\":{\"color\":\"#E5ECF6\",\"width\":0.5},\"pattern\":{\"fillmode\":\"overlay\",\"size\":10,\"solidity\":0.2}},\"type\":\"bar\"}],\"barpolar\":[{\"marker\":{\"line\":{\"color\":\"#E5ECF6\",\"width\":0.5},\"pattern\":{\"fillmode\":\"overlay\",\"size\":10,\"solidity\":0.2}},\"type\":\"barpolar\"}],\"carpet\":[{\"aaxis\":{\"endlinecolor\":\"#2a3f5f\",\"gridcolor\":\"white\",\"linecolor\":\"white\",\"minorgridcolor\":\"white\",\"startlinecolor\":\"#2a3f5f\"},\"baxis\":{\"endlinecolor\":\"#2a3f5f\",\"gridcolor\":\"white\",\"linecolor\":\"white\",\"minorgridcolor\":\"white\",\"startlinecolor\":\"#2a3f5f\"},\"type\":\"carpet\"}],\"choropleth\":[{\"colorbar\":{\"outlinewidth\":0,\"ticks\":\"\"},\"type\":\"choropleth\"}],\"contour\":[{\"colorbar\":{\"outlinewidth\":0,\"ticks\":\"\"},\"colorscale\":[[0.0,\"#0d0887\"],[0.1111111111111111,\"#46039f\"],[0.2222222222222222,\"#7201a8\"],[0.3333333333333333,\"#9c179e\"],[0.4444444444444444,\"#bd3786\"],[0.5555555555555556,\"#d8576b\"],[0.6666666666666666,\"#ed7953\"],[0.7777777777777778,\"#fb9f3a\"],[0.8888888888888888,\"#fdca26\"],[1.0,\"#f0f921\"]],\"type\":\"contour\"}],\"contourcarpet\":[{\"colorbar\":{\"outlinewidth\":0,\"ticks\":\"\"},\"type\":\"contourcarpet\"}],\"heatmap\":[{\"colorbar\":{\"outlinewidth\":0,\"ticks\":\"\"},\"colorscale\":[[0.0,\"#0d0887\"],[0.1111111111111111,\"#46039f\"],[0.2222222222222222,\"#7201a8\"],[0.3333333333333333,\"#9c179e\"],[0.4444444444444444,\"#bd3786\"],[0.5555555555555556,\"#d8576b\"],[0.6666666666666666,\"#ed7953\"],[0.7777777777777778,\"#fb9f3a\"],[0.8888888888888888,\"#fdca26\"],[1.0,\"#f0f921\"]],\"type\":\"heatmap\"}],\"heatmapgl\":[{\"colorbar\":{\"outlinewidth\":0,\"ticks\":\"\"},\"colorscale\":[[0.0,\"#0d0887\"],[0.1111111111111111,\"#46039f\"],[0.2222222222222222,\"#7201a8\"],[0.3333333333333333,\"#9c179e\"],[0.4444444444444444,\"#bd3786\"],[0.5555555555555556,\"#d8576b\"],[0.6666666666666666,\"#ed7953\"],[0.7777777777777778,\"#fb9f3a\"],[0.8888888888888888,\"#fdca26\"],[1.0,\"#f0f921\"]],\"type\":\"heatmapgl\"}],\"histogram\":[{\"marker\":{\"pattern\":{\"fillmode\":\"overlay\",\"size\":10,\"solidity\":0.2}},\"type\":\"histogram\"}],\"histogram2d\":[{\"colorbar\":{\"outlinewidth\":0,\"ticks\":\"\"},\"colorscale\":[[0.0,\"#0d0887\"],[0.1111111111111111,\"#46039f\"],[0.2222222222222222,\"#7201a8\"],[0.3333333333333333,\"#9c179e\"],[0.4444444444444444,\"#bd3786\"],[0.5555555555555556,\"#d8576b\"],[0.6666666666666666,\"#ed7953\"],[0.7777777777777778,\"#fb9f3a\"],[0.8888888888888888,\"#fdca26\"],[1.0,\"#f0f921\"]],\"type\":\"histogram2d\"}],\"histogram2dcontour\":[{\"colorbar\":{\"outlinewidth\":0,\"ticks\":\"\"},\"colorscale\":[[0.0,\"#0d0887\"],[0.1111111111111111,\"#46039f\"],[0.2222222222222222,\"#7201a8\"],[0.3333333333333333,\"#9c179e\"],[0.4444444444444444,\"#bd3786\"],[0.5555555555555556,\"#d8576b\"],[0.6666666666666666,\"#ed7953\"],[0.7777777777777778,\"#fb9f3a\"],[0.8888888888888888,\"#fdca26\"],[1.0,\"#f0f921\"]],\"type\":\"histogram2dcontour\"}],\"mesh3d\":[{\"colorbar\":{\"outlinewidth\":0,\"ticks\":\"\"},\"type\":\"mesh3d\"}],\"parcoords\":[{\"line\":{\"colorbar\":{\"outlinewidth\":0,\"ticks\":\"\"}},\"type\":\"parcoords\"}],\"pie\":[{\"automargin\":true,\"type\":\"pie\"}],\"scatter\":[{\"marker\":{\"colorbar\":{\"outlinewidth\":0,\"ticks\":\"\"}},\"type\":\"scatter\"}],\"scatter3d\":[{\"line\":{\"colorbar\":{\"outlinewidth\":0,\"ticks\":\"\"}},\"marker\":{\"colorbar\":{\"outlinewidth\":0,\"ticks\":\"\"}},\"type\":\"scatter3d\"}],\"scattercarpet\":[{\"marker\":{\"colorbar\":{\"outlinewidth\":0,\"ticks\":\"\"}},\"type\":\"scattercarpet\"}],\"scattergeo\":[{\"marker\":{\"colorbar\":{\"outlinewidth\":0,\"ticks\":\"\"}},\"type\":\"scattergeo\"}],\"scattergl\":[{\"marker\":{\"colorbar\":{\"outlinewidth\":0,\"ticks\":\"\"}},\"type\":\"scattergl\"}],\"scattermapbox\":[{\"marker\":{\"colorbar\":{\"outlinewidth\":0,\"ticks\":\"\"}},\"type\":\"scattermapbox\"}],\"scatterpolar\":[{\"marker\":{\"colorbar\":{\"outlinewidth\":0,\"ticks\":\"\"}},\"type\":\"scatterpolar\"}],\"scatterpolargl\":[{\"marker\":{\"colorbar\":{\"outlinewidth\":0,\"ticks\":\"\"}},\"type\":\"scatterpolargl\"}],\"scatterternary\":[{\"marker\":{\"colorbar\":{\"outlinewidth\":0,\"ticks\":\"\"}},\"type\":\"scatterternary\"}],\"surface\":[{\"colorbar\":{\"outlinewidth\":0,\"ticks\":\"\"},\"colorscale\":[[0.0,\"#0d0887\"],[0.1111111111111111,\"#46039f\"],[0.2222222222222222,\"#7201a8\"],[0.3333333333333333,\"#9c179e\"],[0.4444444444444444,\"#bd3786\"],[0.5555555555555556,\"#d8576b\"],[0.6666666666666666,\"#ed7953\"],[0.7777777777777778,\"#fb9f3a\"],[0.8888888888888888,\"#fdca26\"],[1.0,\"#f0f921\"]],\"type\":\"surface\"}],\"table\":[{\"cells\":{\"fill\":{\"color\":\"#EBF0F8\"},\"line\":{\"color\":\"white\"}},\"header\":{\"fill\":{\"color\":\"#C8D4E3\"},\"line\":{\"color\":\"white\"}},\"type\":\"table\"}]},\"layout\":{\"annotationdefaults\":{\"arrowcolor\":\"#2a3f5f\",\"arrowhead\":0,\"arrowwidth\":1},\"autotypenumbers\":\"strict\",\"coloraxis\":{\"colorbar\":{\"outlinewidth\":0,\"ticks\":\"\"}},\"colorscale\":{\"diverging\":[[0,\"#8e0152\"],[0.1,\"#c51b7d\"],[0.2,\"#de77ae\"],[0.3,\"#f1b6da\"],[0.4,\"#fde0ef\"],[0.5,\"#f7f7f7\"],[0.6,\"#e6f5d0\"],[0.7,\"#b8e186\"],[0.8,\"#7fbc41\"],[0.9,\"#4d9221\"],[1,\"#276419\"]],\"sequential\":[[0.0,\"#0d0887\"],[0.1111111111111111,\"#46039f\"],[0.2222222222222222,\"#7201a8\"],[0.3333333333333333,\"#9c179e\"],[0.4444444444444444,\"#bd3786\"],[0.5555555555555556,\"#d8576b\"],[0.6666666666666666,\"#ed7953\"],[0.7777777777777778,\"#fb9f3a\"],[0.8888888888888888,\"#fdca26\"],[1.0,\"#f0f921\"]],\"sequentialminus\":[[0.0,\"#0d0887\"],[0.1111111111111111,\"#46039f\"],[0.2222222222222222,\"#7201a8\"],[0.3333333333333333,\"#9c179e\"],[0.4444444444444444,\"#bd3786\"],[0.5555555555555556,\"#d8576b\"],[0.6666666666666666,\"#ed7953\"],[0.7777777777777778,\"#fb9f3a\"],[0.8888888888888888,\"#fdca26\"],[1.0,\"#f0f921\"]]},\"colorway\":[\"#636efa\",\"#EF553B\",\"#00cc96\",\"#ab63fa\",\"#FFA15A\",\"#19d3f3\",\"#FF6692\",\"#B6E880\",\"#FF97FF\",\"#FECB52\"],\"font\":{\"color\":\"#2a3f5f\"},\"geo\":{\"bgcolor\":\"white\",\"lakecolor\":\"white\",\"landcolor\":\"#E5ECF6\",\"showlakes\":true,\"showland\":true,\"subunitcolor\":\"white\"},\"hoverlabel\":{\"align\":\"left\"},\"hovermode\":\"closest\",\"mapbox\":{\"style\":\"light\"},\"paper_bgcolor\":\"white\",\"plot_bgcolor\":\"#E5ECF6\",\"polar\":{\"angularaxis\":{\"gridcolor\":\"white\",\"linecolor\":\"white\",\"ticks\":\"\"},\"bgcolor\":\"#E5ECF6\",\"radialaxis\":{\"gridcolor\":\"white\",\"linecolor\":\"white\",\"ticks\":\"\"}},\"scene\":{\"xaxis\":{\"backgroundcolor\":\"#E5ECF6\",\"gridcolor\":\"white\",\"gridwidth\":2,\"linecolor\":\"white\",\"showbackground\":true,\"ticks\":\"\",\"zerolinecolor\":\"white\"},\"yaxis\":{\"backgroundcolor\":\"#E5ECF6\",\"gridcolor\":\"white\",\"gridwidth\":2,\"linecolor\":\"white\",\"showbackground\":true,\"ticks\":\"\",\"zerolinecolor\":\"white\"},\"zaxis\":{\"backgroundcolor\":\"#E5ECF6\",\"gridcolor\":\"white\",\"gridwidth\":2,\"linecolor\":\"white\",\"showbackground\":true,\"ticks\":\"\",\"zerolinecolor\":\"white\"}},\"shapedefaults\":{\"line\":{\"color\":\"#2a3f5f\"}},\"ternary\":{\"aaxis\":{\"gridcolor\":\"white\",\"linecolor\":\"white\",\"ticks\":\"\"},\"baxis\":{\"gridcolor\":\"white\",\"linecolor\":\"white\",\"ticks\":\"\"},\"bgcolor\":\"#E5ECF6\",\"caxis\":{\"gridcolor\":\"white\",\"linecolor\":\"white\",\"ticks\":\"\"}},\"title\":{\"x\":0.05},\"xaxis\":{\"automargin\":true,\"gridcolor\":\"white\",\"linecolor\":\"white\",\"ticks\":\"\",\"title\":{\"standoff\":15},\"zerolinecolor\":\"white\",\"zerolinewidth\":2},\"yaxis\":{\"automargin\":true,\"gridcolor\":\"white\",\"linecolor\":\"white\",\"ticks\":\"\",\"title\":{\"standoff\":15},\"zerolinecolor\":\"white\",\"zerolinewidth\":2}}}},                        {\"responsive\": true}                    ).then(function(){\n",
       "                            \n",
       "var gd = document.getElementById('8543f8af-01fa-459c-9df9-f4f6cb3e92f9');\n",
       "var x = new MutationObserver(function (mutations, observer) {{\n",
       "        var display = window.getComputedStyle(gd).display;\n",
       "        if (!display || display === 'none') {{\n",
       "            console.log([gd, 'removed!']);\n",
       "            Plotly.purge(gd);\n",
       "            observer.disconnect();\n",
       "        }}\n",
       "}});\n",
       "\n",
       "// Listen for the removal of the full notebook cells\n",
       "var notebookContainer = gd.closest('#notebook-container');\n",
       "if (notebookContainer) {{\n",
       "    x.observe(notebookContainer, {childList: true});\n",
       "}}\n",
       "\n",
       "// Listen for the clearing of the current output cell\n",
       "var outputEl = gd.closest('.output');\n",
       "if (outputEl) {{\n",
       "    x.observe(outputEl, {childList: true});\n",
       "}}\n",
       "\n",
       "                        })                };                });            </script>        </div>"
      ]
     },
     "metadata": {},
     "output_type": "display_data"
    }
   ],
   "source": [
    "fig = go.Figure()\n",
    "fig.add_trace(go.Box( y = train['RoomService'],name = 'RoomService'))\n",
    "fig.add_trace(go.Box( y = train['FoodCourt'], name = 'FoodCourt'))\n",
    "fig.add_trace(go.Box( y = train['ShoppingMall'], name = 'ShoppingMall'))\n",
    "fig.add_trace(go.Box( y = train['Spa'], name = 'Spa'))\n",
    "fig.add_trace(go.Box( y = train['VRDeck'], name = 'VRDeck'))\n",
    "fig.show()"
   ]
  },
  {
   "cell_type": "markdown",
   "id": "0786fbdd",
   "metadata": {
    "papermill": {
     "duration": 0.097893,
     "end_time": "2022-04-11T06:28:38.864364",
     "exception": false,
     "start_time": "2022-04-11T06:28:38.766471",
     "status": "completed"
    },
    "tags": []
   },
   "source": [
    "-- 극 소수 인원이 RoomService, FoodCourt, ShoppingMall, Spa,VRDeck을 사용  "
   ]
  },
  {
   "cell_type": "markdown",
   "id": "2deeed66",
   "metadata": {
    "papermill": {
     "duration": 0.096435,
     "end_time": "2022-04-11T06:28:39.057619",
     "exception": false,
     "start_time": "2022-04-11T06:28:38.961184",
     "status": "completed"
    },
    "tags": []
   },
   "source": [
    "---"
   ]
  },
  {
   "cell_type": "markdown",
   "id": "cf0dcf7d",
   "metadata": {
    "papermill": {
     "duration": 0.095757,
     "end_time": "2022-04-11T06:28:39.248255",
     "exception": false,
     "start_time": "2022-04-11T06:28:39.152498",
     "status": "completed"
    },
    "tags": []
   },
   "source": [
    "# Preprocessing"
   ]
  },
  {
   "cell_type": "markdown",
   "id": "72df786f",
   "metadata": {
    "papermill": {
     "duration": 0.093716,
     "end_time": "2022-04-11T06:28:39.440416",
     "exception": false,
     "start_time": "2022-04-11T06:28:39.346700",
     "status": "completed"
    },
    "tags": []
   },
   "source": [
    "### PassengerId\n",
    " -> 단체 승객끼리 그룹으로 나눠서 단체 승객 인원 수를 구한다."
   ]
  },
  {
   "cell_type": "markdown",
   "id": "007a4548",
   "metadata": {
    "papermill": {
     "duration": 0.093811,
     "end_time": "2022-04-11T06:28:39.632993",
     "exception": false,
     "start_time": "2022-04-11T06:28:39.539182",
     "status": "completed"
    },
    "tags": []
   },
   "source": [
    "- PassengerId의 앞자리 4개를 이용해 단체 승객 그룹 Id 생성 -> 컬럼 Group으로 데이터 값 채우기"
   ]
  },
  {
   "cell_type": "code",
   "execution_count": 18,
   "id": "44cb8282",
   "metadata": {
    "execution": {
     "iopub.execute_input": "2022-04-11T06:28:39.825689Z",
     "iopub.status.busy": "2022-04-11T06:28:39.825118Z",
     "iopub.status.idle": "2022-04-11T06:28:39.845797Z",
     "shell.execute_reply": "2022-04-11T06:28:39.845363Z",
     "shell.execute_reply.started": "2022-04-11T02:37:42.148954Z"
    },
    "papermill": {
     "duration": 0.117827,
     "end_time": "2022-04-11T06:28:39.845944",
     "exception": false,
     "start_time": "2022-04-11T06:28:39.728117",
     "status": "completed"
    },
    "tags": []
   },
   "outputs": [
    {
     "data": {
      "text/html": [
       "<div>\n",
       "<style scoped>\n",
       "    .dataframe tbody tr th:only-of-type {\n",
       "        vertical-align: middle;\n",
       "    }\n",
       "\n",
       "    .dataframe tbody tr th {\n",
       "        vertical-align: top;\n",
       "    }\n",
       "\n",
       "    .dataframe thead th {\n",
       "        text-align: right;\n",
       "    }\n",
       "</style>\n",
       "<table border=\"1\" class=\"dataframe\">\n",
       "  <thead>\n",
       "    <tr style=\"text-align: right;\">\n",
       "      <th></th>\n",
       "      <th>PassengerId</th>\n",
       "      <th>Group</th>\n",
       "    </tr>\n",
       "  </thead>\n",
       "  <tbody>\n",
       "    <tr>\n",
       "      <th>0</th>\n",
       "      <td>0001_01</td>\n",
       "      <td>0001</td>\n",
       "    </tr>\n",
       "    <tr>\n",
       "      <th>1</th>\n",
       "      <td>0002_01</td>\n",
       "      <td>0002</td>\n",
       "    </tr>\n",
       "    <tr>\n",
       "      <th>2</th>\n",
       "      <td>0003_01</td>\n",
       "      <td>0003</td>\n",
       "    </tr>\n",
       "    <tr>\n",
       "      <th>3</th>\n",
       "      <td>0003_02</td>\n",
       "      <td>0003</td>\n",
       "    </tr>\n",
       "    <tr>\n",
       "      <th>4</th>\n",
       "      <td>0004_01</td>\n",
       "      <td>0004</td>\n",
       "    </tr>\n",
       "  </tbody>\n",
       "</table>\n",
       "</div>"
      ],
      "text/plain": [
       "  PassengerId Group\n",
       "0     0001_01  0001\n",
       "1     0002_01  0002\n",
       "2     0003_01  0003\n",
       "3     0003_02  0003\n",
       "4     0004_01  0004"
      ]
     },
     "execution_count": 18,
     "metadata": {},
     "output_type": "execute_result"
    }
   ],
   "source": [
    "train['Group'] = train['PassengerId'].apply(lambda x : str(x[:4]))\n",
    "test['Group'] = test['PassengerId'].apply(lambda x : str(x[:4]))\n",
    "train[['PassengerId','Group']].head()"
   ]
  },
  {
   "cell_type": "code",
   "execution_count": 19,
   "id": "a57a0933",
   "metadata": {
    "execution": {
     "iopub.execute_input": "2022-04-11T06:28:40.042096Z",
     "iopub.status.busy": "2022-04-11T06:28:40.041489Z",
     "iopub.status.idle": "2022-04-11T06:28:40.045275Z",
     "shell.execute_reply": "2022-04-11T06:28:40.044649Z",
     "shell.execute_reply.started": "2022-04-11T02:37:42.172919Z"
    },
    "papermill": {
     "duration": 0.104903,
     "end_time": "2022-04-11T06:28:40.045409",
     "exception": false,
     "start_time": "2022-04-11T06:28:39.940506",
     "status": "completed"
    },
    "tags": []
   },
   "outputs": [
    {
     "data": {
      "text/plain": [
       "PassengerId      object\n",
       "HomePlanet       object\n",
       "CryoSleep        object\n",
       "Cabin            object\n",
       "Destination      object\n",
       "Age             float64\n",
       "VIP              object\n",
       "RoomService     float64\n",
       "FoodCourt       float64\n",
       "ShoppingMall    float64\n",
       "Spa             float64\n",
       "VRDeck          float64\n",
       "Name             object\n",
       "Transported        bool\n",
       "Group            object\n",
       "dtype: object"
      ]
     },
     "execution_count": 19,
     "metadata": {},
     "output_type": "execute_result"
    }
   ],
   "source": [
    "train.dtypes"
   ]
  },
  {
   "cell_type": "markdown",
   "id": "9a0ea148",
   "metadata": {
    "papermill": {
     "duration": 0.094944,
     "end_time": "2022-04-11T06:28:40.234485",
     "exception": false,
     "start_time": "2022-04-11T06:28:40.139541",
     "status": "completed"
    },
    "tags": []
   },
   "source": [
    "-- PassengerId의 앞의 4자리가 잘 분리 되었고 Object 형태로 저장이 되었다."
   ]
  },
  {
   "cell_type": "markdown",
   "id": "e6524685",
   "metadata": {
    "papermill": {
     "duration": 0.103526,
     "end_time": "2022-04-11T06:28:40.432868",
     "exception": false,
     "start_time": "2022-04-11T06:28:40.329342",
     "status": "completed"
    },
    "tags": []
   },
   "source": [
    "- Group을 이용해 단체 승객 인원수를 구한다."
   ]
  },
  {
   "cell_type": "code",
   "execution_count": 20,
   "id": "91f7d24d",
   "metadata": {
    "execution": {
     "iopub.execute_input": "2022-04-11T06:28:40.645863Z",
     "iopub.status.busy": "2022-04-11T06:28:40.645278Z",
     "iopub.status.idle": "2022-04-11T06:28:40.673125Z",
     "shell.execute_reply": "2022-04-11T06:28:40.672572Z",
     "shell.execute_reply.started": "2022-04-11T02:37:42.183289Z"
    },
    "papermill": {
     "duration": 0.128776,
     "end_time": "2022-04-11T06:28:40.673265",
     "exception": false,
     "start_time": "2022-04-11T06:28:40.544489",
     "status": "completed"
    },
    "tags": []
   },
   "outputs": [
    {
     "data": {
      "text/html": [
       "<div>\n",
       "<style scoped>\n",
       "    .dataframe tbody tr th:only-of-type {\n",
       "        vertical-align: middle;\n",
       "    }\n",
       "\n",
       "    .dataframe tbody tr th {\n",
       "        vertical-align: top;\n",
       "    }\n",
       "\n",
       "    .dataframe thead th {\n",
       "        text-align: right;\n",
       "    }\n",
       "</style>\n",
       "<table border=\"1\" class=\"dataframe\">\n",
       "  <thead>\n",
       "    <tr style=\"text-align: right;\">\n",
       "      <th></th>\n",
       "      <th>Group</th>\n",
       "      <th>GroupSize</th>\n",
       "    </tr>\n",
       "  </thead>\n",
       "  <tbody>\n",
       "    <tr>\n",
       "      <th>0</th>\n",
       "      <td>0001</td>\n",
       "      <td>1</td>\n",
       "    </tr>\n",
       "    <tr>\n",
       "      <th>1</th>\n",
       "      <td>0002</td>\n",
       "      <td>1</td>\n",
       "    </tr>\n",
       "    <tr>\n",
       "      <th>2</th>\n",
       "      <td>0003</td>\n",
       "      <td>2</td>\n",
       "    </tr>\n",
       "    <tr>\n",
       "      <th>3</th>\n",
       "      <td>0003</td>\n",
       "      <td>2</td>\n",
       "    </tr>\n",
       "    <tr>\n",
       "      <th>4</th>\n",
       "      <td>0004</td>\n",
       "      <td>1</td>\n",
       "    </tr>\n",
       "  </tbody>\n",
       "</table>\n",
       "</div>"
      ],
      "text/plain": [
       "  Group  GroupSize\n",
       "0  0001          1\n",
       "1  0002          1\n",
       "2  0003          2\n",
       "3  0003          2\n",
       "4  0004          1"
      ]
     },
     "execution_count": 20,
     "metadata": {},
     "output_type": "execute_result"
    }
   ],
   "source": [
    "train['GroupSize'] = train.groupby('Group')['Group'].transform('count')\n",
    "test['GroupSize'] = test.groupby('Group')['Group'].transform('count')\n",
    "train[['Group','GroupSize']].sort_values(['Group']).head()"
   ]
  },
  {
   "cell_type": "code",
   "execution_count": 21,
   "id": "c9e04dce",
   "metadata": {
    "execution": {
     "iopub.execute_input": "2022-04-11T06:28:40.867795Z",
     "iopub.status.busy": "2022-04-11T06:28:40.867210Z",
     "iopub.status.idle": "2022-04-11T06:28:40.876171Z",
     "shell.execute_reply": "2022-04-11T06:28:40.875674Z",
     "shell.execute_reply.started": "2022-04-11T02:37:42.218488Z"
    },
    "papermill": {
     "duration": 0.106762,
     "end_time": "2022-04-11T06:28:40.876307",
     "exception": false,
     "start_time": "2022-04-11T06:28:40.769545",
     "status": "completed"
    },
    "tags": []
   },
   "outputs": [
    {
     "data": {
      "text/plain": [
       "count    8693.000000\n",
       "mean        2.035546\n",
       "std         1.596347\n",
       "min         1.000000\n",
       "25%         1.000000\n",
       "50%         1.000000\n",
       "75%         3.000000\n",
       "max         8.000000\n",
       "Name: GroupSize, dtype: float64"
      ]
     },
     "execution_count": 21,
     "metadata": {},
     "output_type": "execute_result"
    }
   ],
   "source": [
    "train['GroupSize'].describe()"
   ]
  },
  {
   "cell_type": "markdown",
   "id": "432ab3b5",
   "metadata": {
    "papermill": {
     "duration": 0.097328,
     "end_time": "2022-04-11T06:28:41.071147",
     "exception": false,
     "start_time": "2022-04-11T06:28:40.973819",
     "status": "completed"
    },
    "tags": []
   },
   "source": [
    "-- 단체 승객 수는 1인 부터 최대 8인 단체까지 존재한다."
   ]
  },
  {
   "cell_type": "markdown",
   "id": "f4b70995",
   "metadata": {
    "papermill": {
     "duration": 0.096708,
     "end_time": "2022-04-11T06:28:41.265215",
     "exception": false,
     "start_time": "2022-04-11T06:28:41.168507",
     "status": "completed"
    },
    "tags": []
   },
   "source": [
    "### Name"
   ]
  },
  {
   "cell_type": "markdown",
   "id": "8eab07d9",
   "metadata": {
    "papermill": {
     "duration": 0.095885,
     "end_time": "2022-04-11T06:28:41.457616",
     "exception": false,
     "start_time": "2022-04-11T06:28:41.361731",
     "status": "completed"
    },
    "tags": []
   },
   "source": [
    "처음에는 PassegerId의 그룹 번호가 가족단위라고 생각할 수 있다.  \n",
    "하지만 우리가 친구끼리 여행이나 비지니스차 이동하는 경우도 많다는 걸 생각할 수 있다.  \n",
    "그래서 PassengerId로는 단체 승객으로 구분하고 Name을 통해서 가족을 구분한다.  "
   ]
  },
  {
   "cell_type": "markdown",
   "id": "775a7f2a",
   "metadata": {
    "papermill": {
     "duration": 0.09697,
     "end_time": "2022-04-11T06:28:41.652890",
     "exception": false,
     "start_time": "2022-04-11T06:28:41.555920",
     "status": "completed"
    },
    "tags": []
   },
   "source": [
    "- **Name**을 통해서 **LastName**에 이름의 성 저장"
   ]
  },
  {
   "cell_type": "code",
   "execution_count": 22,
   "id": "4f7957ee",
   "metadata": {
    "execution": {
     "iopub.execute_input": "2022-04-11T06:28:41.882714Z",
     "iopub.status.busy": "2022-04-11T06:28:41.882042Z",
     "iopub.status.idle": "2022-04-11T06:28:41.884327Z",
     "shell.execute_reply": "2022-04-11T06:28:41.884747Z",
     "shell.execute_reply.started": "2022-04-11T02:37:42.228772Z"
    },
    "papermill": {
     "duration": 0.13366,
     "end_time": "2022-04-11T06:28:41.884912",
     "exception": false,
     "start_time": "2022-04-11T06:28:41.751252",
     "status": "completed"
    },
    "tags": []
   },
   "outputs": [],
   "source": [
    "train['LastName'] = train['Name'].str.split(' ').str[-1]\n",
    "test['LastName'] = test['Name'].str.split(' ').str[-1]"
   ]
  },
  {
   "cell_type": "code",
   "execution_count": 23,
   "id": "49df238f",
   "metadata": {
    "execution": {
     "iopub.execute_input": "2022-04-11T06:28:42.088565Z",
     "iopub.status.busy": "2022-04-11T06:28:42.087897Z",
     "iopub.status.idle": "2022-04-11T06:28:42.090380Z",
     "shell.execute_reply": "2022-04-11T06:28:42.090900Z",
     "shell.execute_reply.started": "2022-04-11T02:37:42.268567Z"
    },
    "papermill": {
     "duration": 0.107308,
     "end_time": "2022-04-11T06:28:42.091086",
     "exception": false,
     "start_time": "2022-04-11T06:28:41.983778",
     "status": "completed"
    },
    "tags": []
   },
   "outputs": [
    {
     "data": {
      "text/plain": [
       "0         Ofracculy\n",
       "1             Vines\n",
       "2            Susent\n",
       "3            Susent\n",
       "4       Santantines\n",
       "           ...     \n",
       "8688      Noxnuther\n",
       "8689      Mondalley\n",
       "8690         Connon\n",
       "8691      Hontichre\n",
       "8692      Hontichre\n",
       "Name: LastName, Length: 8693, dtype: object"
      ]
     },
     "execution_count": 23,
     "metadata": {},
     "output_type": "execute_result"
    }
   ],
   "source": [
    "train['LastName']"
   ]
  },
  {
   "cell_type": "markdown",
   "id": "66968543",
   "metadata": {
    "papermill": {
     "duration": 0.097079,
     "end_time": "2022-04-11T06:28:42.286584",
     "exception": false,
     "start_time": "2022-04-11T06:28:42.189505",
     "status": "completed"
    },
    "tags": []
   },
   "source": [
    "### Cabin 나누기"
   ]
  },
  {
   "cell_type": "markdown",
   "id": "b40a2e41",
   "metadata": {
    "papermill": {
     "duration": 0.097148,
     "end_time": "2022-04-11T06:28:42.481698",
     "exception": false,
     "start_time": "2022-04-11T06:28:42.384550",
     "status": "completed"
    },
    "tags": []
   },
   "source": [
    "- cd : Cabin Deck\n",
    "- cn : Cabin Number\n",
    "- cs : Cabin Side"
   ]
  },
  {
   "cell_type": "code",
   "execution_count": 24,
   "id": "20a933f2",
   "metadata": {
    "execution": {
     "iopub.execute_input": "2022-04-11T06:28:42.679200Z",
     "iopub.status.busy": "2022-04-11T06:28:42.678595Z",
     "iopub.status.idle": "2022-04-11T06:28:42.747437Z",
     "shell.execute_reply": "2022-04-11T06:28:42.747881Z",
     "shell.execute_reply.started": "2022-04-11T02:37:42.276789Z"
    },
    "papermill": {
     "duration": 0.169399,
     "end_time": "2022-04-11T06:28:42.748042",
     "exception": false,
     "start_time": "2022-04-11T06:28:42.578643",
     "status": "completed"
    },
    "tags": []
   },
   "outputs": [],
   "source": [
    "train['cd'] = train['Cabin'].str.split('/').str[0]\n",
    "train['cn'] = train['Cabin'].str.split('/').str[1]\n",
    "train['cs'] = train['Cabin'].str.split('/').str[2]\n",
    "\n",
    "test['cd'] = test['Cabin'].str.split('/').str[0]\n",
    "test['cn'] = test['Cabin'].str.split('/').str[1]\n",
    "test['cs'] = test['Cabin'].str.split('/').str[2]"
   ]
  },
  {
   "cell_type": "code",
   "execution_count": 25,
   "id": "3e41b209",
   "metadata": {
    "execution": {
     "iopub.execute_input": "2022-04-11T06:28:42.950317Z",
     "iopub.status.busy": "2022-04-11T06:28:42.949647Z",
     "iopub.status.idle": "2022-04-11T06:28:42.961970Z",
     "shell.execute_reply": "2022-04-11T06:28:42.962487Z",
     "shell.execute_reply.started": "2022-04-11T02:38:01.382148Z"
    },
    "papermill": {
     "duration": 0.117761,
     "end_time": "2022-04-11T06:28:42.962652",
     "exception": false,
     "start_time": "2022-04-11T06:28:42.844891",
     "status": "completed"
    },
    "tags": []
   },
   "outputs": [
    {
     "data": {
      "text/html": [
       "<div>\n",
       "<style scoped>\n",
       "    .dataframe tbody tr th:only-of-type {\n",
       "        vertical-align: middle;\n",
       "    }\n",
       "\n",
       "    .dataframe tbody tr th {\n",
       "        vertical-align: top;\n",
       "    }\n",
       "\n",
       "    .dataframe thead th {\n",
       "        text-align: right;\n",
       "    }\n",
       "</style>\n",
       "<table border=\"1\" class=\"dataframe\">\n",
       "  <thead>\n",
       "    <tr style=\"text-align: right;\">\n",
       "      <th></th>\n",
       "      <th>cd</th>\n",
       "      <th>cn</th>\n",
       "      <th>cs</th>\n",
       "    </tr>\n",
       "  </thead>\n",
       "  <tbody>\n",
       "    <tr>\n",
       "      <th>0</th>\n",
       "      <td>B</td>\n",
       "      <td>0</td>\n",
       "      <td>P</td>\n",
       "    </tr>\n",
       "    <tr>\n",
       "      <th>1</th>\n",
       "      <td>F</td>\n",
       "      <td>0</td>\n",
       "      <td>S</td>\n",
       "    </tr>\n",
       "    <tr>\n",
       "      <th>2</th>\n",
       "      <td>A</td>\n",
       "      <td>0</td>\n",
       "      <td>S</td>\n",
       "    </tr>\n",
       "    <tr>\n",
       "      <th>3</th>\n",
       "      <td>A</td>\n",
       "      <td>0</td>\n",
       "      <td>S</td>\n",
       "    </tr>\n",
       "    <tr>\n",
       "      <th>4</th>\n",
       "      <td>F</td>\n",
       "      <td>1</td>\n",
       "      <td>S</td>\n",
       "    </tr>\n",
       "  </tbody>\n",
       "</table>\n",
       "</div>"
      ],
      "text/plain": [
       "  cd cn cs\n",
       "0  B  0  P\n",
       "1  F  0  S\n",
       "2  A  0  S\n",
       "3  A  0  S\n",
       "4  F  1  S"
      ]
     },
     "execution_count": 25,
     "metadata": {},
     "output_type": "execute_result"
    }
   ],
   "source": [
    "train[['cd','cn','cs']].head()"
   ]
  },
  {
   "cell_type": "markdown",
   "id": "022804f9",
   "metadata": {
    "papermill": {
     "duration": 0.097049,
     "end_time": "2022-04-11T06:28:43.158812",
     "exception": false,
     "start_time": "2022-04-11T06:28:43.061763",
     "status": "completed"
    },
    "tags": []
   },
   "source": [
    "### Encoding"
   ]
  },
  {
   "cell_type": "markdown",
   "id": "f9402580",
   "metadata": {
    "papermill": {
     "duration": 0.09863,
     "end_time": "2022-04-11T06:28:43.355840",
     "exception": false,
     "start_time": "2022-04-11T06:28:43.257210",
     "status": "completed"
    },
    "tags": []
   },
   "source": [
    "- ML을 돌리기 위해서는 문자열 데이터가 존재하면 안된다.  \n",
    "- 문자열 데이터를 수치형 데이터로 변환해주는 과정 필요"
   ]
  },
  {
   "cell_type": "markdown",
   "id": "70fcb3e5",
   "metadata": {
    "papermill": {
     "duration": 0.097935,
     "end_time": "2022-04-11T06:28:43.551096",
     "exception": false,
     "start_time": "2022-04-11T06:28:43.453161",
     "status": "completed"
    },
    "tags": []
   },
   "source": [
    "- 사용할 라이브러리 불러오기"
   ]
  },
  {
   "cell_type": "code",
   "execution_count": 26,
   "id": "06e06233",
   "metadata": {
    "execution": {
     "iopub.execute_input": "2022-04-11T06:28:43.749344Z",
     "iopub.status.busy": "2022-04-11T06:28:43.748622Z",
     "iopub.status.idle": "2022-04-11T06:28:43.870811Z",
     "shell.execute_reply": "2022-04-11T06:28:43.870252Z",
     "shell.execute_reply.started": "2022-04-11T02:37:42.52172Z"
    },
    "papermill": {
     "duration": 0.221841,
     "end_time": "2022-04-11T06:28:43.870971",
     "exception": false,
     "start_time": "2022-04-11T06:28:43.649130",
     "status": "completed"
    },
    "tags": []
   },
   "outputs": [],
   "source": [
    "from sklearn.preprocessing import LabelEncoder\n",
    "from sklearn.impute import SimpleImputer"
   ]
  },
  {
   "cell_type": "code",
   "execution_count": 27,
   "id": "c001a1c7",
   "metadata": {
    "execution": {
     "iopub.execute_input": "2022-04-11T06:28:44.071537Z",
     "iopub.status.busy": "2022-04-11T06:28:44.070676Z",
     "iopub.status.idle": "2022-04-11T06:28:44.092692Z",
     "shell.execute_reply": "2022-04-11T06:28:44.093810Z",
     "shell.execute_reply.started": "2022-04-11T02:37:42.523237Z"
    },
    "papermill": {
     "duration": 0.12589,
     "end_time": "2022-04-11T06:28:44.094133",
     "exception": false,
     "start_time": "2022-04-11T06:28:43.968243",
     "status": "completed"
    },
    "tags": []
   },
   "outputs": [
    {
     "name": "stdout",
     "output_type": "stream",
     "text": [
      "<class 'pandas.core.frame.DataFrame'>\n",
      "RangeIndex: 8693 entries, 0 to 8692\n",
      "Data columns (total 20 columns):\n",
      " #   Column        Non-Null Count  Dtype  \n",
      "---  ------        --------------  -----  \n",
      " 0   PassengerId   8693 non-null   object \n",
      " 1   HomePlanet    8492 non-null   object \n",
      " 2   CryoSleep     8476 non-null   object \n",
      " 3   Cabin         8494 non-null   object \n",
      " 4   Destination   8511 non-null   object \n",
      " 5   Age           8514 non-null   float64\n",
      " 6   VIP           8490 non-null   object \n",
      " 7   RoomService   8512 non-null   float64\n",
      " 8   FoodCourt     8510 non-null   float64\n",
      " 9   ShoppingMall  8485 non-null   float64\n",
      " 10  Spa           8510 non-null   float64\n",
      " 11  VRDeck        8505 non-null   float64\n",
      " 12  Name          8493 non-null   object \n",
      " 13  Transported   8693 non-null   bool   \n",
      " 14  Group         8693 non-null   object \n",
      " 15  GroupSize     8693 non-null   int64  \n",
      " 16  LastName      8493 non-null   object \n",
      " 17  cd            8494 non-null   object \n",
      " 18  cn            8494 non-null   object \n",
      " 19  cs            8494 non-null   object \n",
      "dtypes: bool(1), float64(6), int64(1), object(12)\n",
      "memory usage: 1.3+ MB\n"
     ]
    }
   ],
   "source": [
    "train.info()"
   ]
  },
  {
   "cell_type": "markdown",
   "id": "5903c36f",
   "metadata": {
    "papermill": {
     "duration": 0.098335,
     "end_time": "2022-04-11T06:28:44.293875",
     "exception": false,
     "start_time": "2022-04-11T06:28:44.195540",
     "status": "completed"
    },
    "tags": []
   },
   "source": [
    "- 컬럼 중에 범주형 컬럼들만 따로 label_cols 변수로 저장한다."
   ]
  },
  {
   "cell_type": "code",
   "execution_count": 28,
   "id": "3a99b078",
   "metadata": {
    "execution": {
     "iopub.execute_input": "2022-04-11T06:28:44.495876Z",
     "iopub.status.busy": "2022-04-11T06:28:44.494863Z",
     "iopub.status.idle": "2022-04-11T06:28:44.498680Z",
     "shell.execute_reply": "2022-04-11T06:28:44.499276Z",
     "shell.execute_reply.started": "2022-04-11T02:37:42.524723Z"
    },
    "papermill": {
     "duration": 0.106803,
     "end_time": "2022-04-11T06:28:44.499436",
     "exception": false,
     "start_time": "2022-04-11T06:28:44.392633",
     "status": "completed"
    },
    "tags": []
   },
   "outputs": [],
   "source": [
    "label_cols= [\"HomePlanet\", \"CryoSleep\",\"Cabin\", \"Destination\" ,\"VIP\",\"cd\",\"cs\",\"Name\",\"LastName\",\"PassengerId\",\"Group\"]"
   ]
  },
  {
   "cell_type": "markdown",
   "id": "23c0026f",
   "metadata": {
    "papermill": {
     "duration": 0.09863,
     "end_time": "2022-04-11T06:28:44.698366",
     "exception": false,
     "start_time": "2022-04-11T06:28:44.599736",
     "status": "completed"
    },
    "tags": []
   },
   "source": [
    "- **LabelEncoder**\n",
    "    - 범주형 컬럼들을 수치형 데이터들로 바꿔주는 작업"
   ]
  },
  {
   "cell_type": "code",
   "execution_count": 29,
   "id": "11d00331",
   "metadata": {
    "execution": {
     "iopub.execute_input": "2022-04-11T06:28:44.908748Z",
     "iopub.status.busy": "2022-04-11T06:28:44.907648Z",
     "iopub.status.idle": "2022-04-11T06:28:45.084764Z",
     "shell.execute_reply": "2022-04-11T06:28:45.084120Z",
     "shell.execute_reply.started": "2022-04-11T02:37:42.526287Z"
    },
    "papermill": {
     "duration": 0.288348,
     "end_time": "2022-04-11T06:28:45.084903",
     "exception": false,
     "start_time": "2022-04-11T06:28:44.796555",
     "status": "completed"
    },
    "tags": []
   },
   "outputs": [],
   "source": [
    "def label_encoder(train,test,columns):\n",
    "    for col in columns:\n",
    "        train[col] = train[col].astype(str)\n",
    "        test[col] = test[col].astype(str)\n",
    "        train[col] = LabelEncoder().fit_transform(train[col])\n",
    "        test[col] = LabelEncoder().fit_transform(test[col])\n",
    "    return train, test\n",
    "    \n",
    "train, test = label_encoder(train,test,label_cols)"
   ]
  },
  {
   "cell_type": "markdown",
   "id": "458fe63b",
   "metadata": {
    "papermill": {
     "duration": 0.097969,
     "end_time": "2022-04-11T06:28:45.281455",
     "exception": false,
     "start_time": "2022-04-11T06:28:45.183486",
     "status": "completed"
    },
    "tags": []
   },
   "source": [
    "### 결측치 처리하기"
   ]
  },
  {
   "cell_type": "markdown",
   "id": "93934ea9",
   "metadata": {
    "papermill": {
     "duration": 0.098466,
     "end_time": "2022-04-11T06:28:45.477859",
     "exception": false,
     "start_time": "2022-04-11T06:28:45.379393",
     "status": "completed"
    },
    "tags": []
   },
   "source": [
    "- **SimpleImputer**\n",
    "    - 수치형 컬럼의 결측치 평균값으로 채워주기\n",
    "    - 범주형 컬럼의 결측치 최빈값으로 채워주기"
   ]
  },
  {
   "cell_type": "code",
   "execution_count": 30,
   "id": "31065ace",
   "metadata": {
    "execution": {
     "iopub.execute_input": "2022-04-11T06:28:45.681545Z",
     "iopub.status.busy": "2022-04-11T06:28:45.680866Z",
     "iopub.status.idle": "2022-04-11T06:28:45.687305Z",
     "shell.execute_reply": "2022-04-11T06:28:45.687773Z",
     "shell.execute_reply.started": "2022-04-11T02:37:42.527726Z"
    },
    "papermill": {
     "duration": 0.112073,
     "end_time": "2022-04-11T06:28:45.687929",
     "exception": false,
     "start_time": "2022-04-11T06:28:45.575856",
     "status": "completed"
    },
    "tags": []
   },
   "outputs": [
    {
     "data": {
      "text/plain": [
       "PassengerId       0\n",
       "HomePlanet        0\n",
       "CryoSleep         0\n",
       "Cabin             0\n",
       "Destination       0\n",
       "Age             179\n",
       "VIP               0\n",
       "RoomService     181\n",
       "FoodCourt       183\n",
       "ShoppingMall    208\n",
       "Spa             183\n",
       "VRDeck          188\n",
       "Name              0\n",
       "Transported       0\n",
       "Group             0\n",
       "GroupSize         0\n",
       "LastName          0\n",
       "cd                0\n",
       "cn              199\n",
       "cs                0\n",
       "dtype: int64"
      ]
     },
     "execution_count": 30,
     "metadata": {},
     "output_type": "execute_result"
    }
   ],
   "source": [
    "train.isna().sum()"
   ]
  },
  {
   "cell_type": "markdown",
   "id": "f7c6c867",
   "metadata": {
    "papermill": {
     "duration": 0.098821,
     "end_time": "2022-04-11T06:28:45.885234",
     "exception": false,
     "start_time": "2022-04-11T06:28:45.786413",
     "status": "completed"
    },
    "tags": []
   },
   "source": [
    "-- 결측치 처리 전 결측치 존재 확인"
   ]
  },
  {
   "cell_type": "code",
   "execution_count": 31,
   "id": "c320fd2a",
   "metadata": {
    "execution": {
     "iopub.execute_input": "2022-04-11T06:28:46.088110Z",
     "iopub.status.busy": "2022-04-11T06:28:46.087481Z",
     "iopub.status.idle": "2022-04-11T06:28:46.110850Z",
     "shell.execute_reply": "2022-04-11T06:28:46.111348Z",
     "shell.execute_reply.started": "2022-04-11T02:37:42.529334Z"
    },
    "papermill": {
     "duration": 0.126047,
     "end_time": "2022-04-11T06:28:46.111517",
     "exception": false,
     "start_time": "2022-04-11T06:28:45.985470",
     "status": "completed"
    },
    "tags": []
   },
   "outputs": [
    {
     "name": "stdout",
     "output_type": "stream",
     "text": [
      "train_data:\n",
      " HomePlanet     0\n",
      "CryoSleep      0\n",
      "Destination    0\n",
      "VIP            0\n",
      "cd             0\n",
      "cs             0\n",
      "LastName       0\n",
      "dtype: int64\n",
      "--------------------\n",
      "test:\n",
      " HomePlanet     0\n",
      "CryoSleep      0\n",
      "Destination    0\n",
      "VIP            0\n",
      "cd             0\n",
      "cs             0\n",
      "LastName       0\n",
      "dtype: int64\n"
     ]
    }
   ],
   "source": [
    "imputer_cols = [\"HomePlanet\", \"CryoSleep\", \"Destination\", \"VIP\",\"cd\",\"cs\",\"LastName\"]\n",
    "STRATEGY = 'most_frequent'\n",
    "\n",
    "imputer = SimpleImputer(strategy=STRATEGY)\n",
    "imputer.fit(train[imputer_cols])\n",
    "train[imputer_cols] = imputer.transform(train[imputer_cols])\n",
    "test[imputer_cols] = imputer.transform(test[imputer_cols])\n",
    "\n",
    "print(\"train_data:\\n\", train[imputer_cols].isnull().sum())\n",
    "print(20*\"-\")\n",
    "print(\"test:\\n\", test[imputer_cols].isnull().sum())"
   ]
  },
  {
   "cell_type": "code",
   "execution_count": 32,
   "id": "f0f8ebb9",
   "metadata": {
    "execution": {
     "iopub.execute_input": "2022-04-11T06:28:46.315495Z",
     "iopub.status.busy": "2022-04-11T06:28:46.314865Z",
     "iopub.status.idle": "2022-04-11T06:28:46.319825Z",
     "shell.execute_reply": "2022-04-11T06:28:46.320320Z",
     "shell.execute_reply.started": "2022-04-11T02:37:42.530843Z"
    },
    "papermill": {
     "duration": 0.108278,
     "end_time": "2022-04-11T06:28:46.320491",
     "exception": false,
     "start_time": "2022-04-11T06:28:46.212213",
     "status": "completed"
    },
    "tags": []
   },
   "outputs": [
    {
     "data": {
      "text/plain": [
       "array([0, 1, 2])"
      ]
     },
     "execution_count": 32,
     "metadata": {},
     "output_type": "execute_result"
    }
   ],
   "source": [
    "train['cs'].unique()"
   ]
  },
  {
   "cell_type": "code",
   "execution_count": 33,
   "id": "b36acc64",
   "metadata": {
    "execution": {
     "iopub.execute_input": "2022-04-11T06:28:46.527254Z",
     "iopub.status.busy": "2022-04-11T06:28:46.526591Z",
     "iopub.status.idle": "2022-04-11T06:28:46.585671Z",
     "shell.execute_reply": "2022-04-11T06:28:46.586161Z",
     "shell.execute_reply.started": "2022-04-11T02:37:42.532198Z"
    },
    "papermill": {
     "duration": 0.166272,
     "end_time": "2022-04-11T06:28:46.586324",
     "exception": false,
     "start_time": "2022-04-11T06:28:46.420052",
     "status": "completed"
    },
    "tags": []
   },
   "outputs": [
    {
     "name": "stdout",
     "output_type": "stream",
     "text": [
      "train_data:\n",
      " Age             0\n",
      "FoodCourt       0\n",
      "ShoppingMall    0\n",
      "Spa             0\n",
      "VRDeck          0\n",
      "RoomService     0\n",
      "GroupSize       0\n",
      "cn              0\n",
      "dtype: int64\n",
      "--------------------\n",
      "test:\n",
      " Age             0\n",
      "FoodCourt       0\n",
      "ShoppingMall    0\n",
      "Spa             0\n",
      "VRDeck          0\n",
      "RoomService     0\n",
      "GroupSize       0\n",
      "cn              0\n",
      "dtype: int64\n"
     ]
    }
   ],
   "source": [
    "imputer_cols = [\"Age\", \"FoodCourt\", \"ShoppingMall\", \"Spa\", \"VRDeck\" ,\"RoomService\",\"GroupSize\",\"cn\"]\n",
    "STRATEGY = 'median'\n",
    "\n",
    "imputer = SimpleImputer(strategy=STRATEGY)\n",
    "imputer.fit(train[imputer_cols])\n",
    "train[imputer_cols] = imputer.transform(train[imputer_cols])\n",
    "test[imputer_cols] = imputer.transform(test[imputer_cols])\n",
    "\n",
    "print(\"train_data:\\n\", train[imputer_cols].isnull().sum())\n",
    "print(20*\"-\")\n",
    "print(\"test:\\n\", test[imputer_cols].isnull().sum())"
   ]
  },
  {
   "cell_type": "markdown",
   "id": "072e7b71",
   "metadata": {
    "papermill": {
     "duration": 0.10067,
     "end_time": "2022-04-11T06:28:46.791860",
     "exception": false,
     "start_time": "2022-04-11T06:28:46.691190",
     "status": "completed"
    },
    "tags": []
   },
   "source": [
    "📍 결측치 제거 완료"
   ]
  },
  {
   "cell_type": "markdown",
   "id": "7ed68bf5",
   "metadata": {
    "papermill": {
     "duration": 0.101687,
     "end_time": "2022-04-11T06:28:46.996387",
     "exception": false,
     "start_time": "2022-04-11T06:28:46.894700",
     "status": "completed"
    },
    "tags": []
   },
   "source": [
    "ML에 사용하지 않을 컬럼들을 분리시킨다."
   ]
  },
  {
   "cell_type": "code",
   "execution_count": 34,
   "id": "fcd5a26c",
   "metadata": {
    "execution": {
     "iopub.execute_input": "2022-04-11T06:28:47.203266Z",
     "iopub.status.busy": "2022-04-11T06:28:47.202637Z",
     "iopub.status.idle": "2022-04-11T06:28:47.205761Z",
     "shell.execute_reply": "2022-04-11T06:28:47.206267Z",
     "shell.execute_reply.started": "2022-04-11T02:37:42.53402Z"
    },
    "papermill": {
     "duration": 0.109328,
     "end_time": "2022-04-11T06:28:47.206453",
     "exception": false,
     "start_time": "2022-04-11T06:28:47.097125",
     "status": "completed"
    },
    "tags": []
   },
   "outputs": [],
   "source": [
    "train = train.drop(['Cabin','PassengerId','Name','Group'],axis = 1)\n",
    "test = test.drop(['Cabin','PassengerId','Name','Group'],axis = 1)"
   ]
  },
  {
   "cell_type": "markdown",
   "id": "7f666457",
   "metadata": {
    "papermill": {
     "duration": 0.10348,
     "end_time": "2022-04-11T06:28:47.409863",
     "exception": false,
     "start_time": "2022-04-11T06:28:47.306383",
     "status": "completed"
    },
    "tags": []
   },
   "source": [
    "---"
   ]
  },
  {
   "cell_type": "markdown",
   "id": "fe0c1e65",
   "metadata": {
    "papermill": {
     "duration": 0.100318,
     "end_time": "2022-04-11T06:28:47.610770",
     "exception": false,
     "start_time": "2022-04-11T06:28:47.510452",
     "status": "completed"
    },
    "tags": []
   },
   "source": [
    "# Model"
   ]
  },
  {
   "cell_type": "markdown",
   "id": "6fbe2330",
   "metadata": {
    "papermill": {
     "duration": 0.100072,
     "end_time": "2022-04-11T06:28:47.810922",
     "exception": false,
     "start_time": "2022-04-11T06:28:47.710850",
     "status": "completed"
    },
    "tags": []
   },
   "source": [
    "- LGBM\n",
    "    - 가중치를 더하면서 진행하는 GBM방식에서 발전된 형태의 알고리즘\n",
    "    - 기존 트리 기반 알고리즘은 균형 트리 분할 방식을 사용 ( 대칭 )\n",
    "    - LGBM은 최대 손실 값을 가지는 leaf 노드를 분할하는 방식 ( 비대칭 )\n",
    "    - 장점 \n",
    "        - 학습 시간이 짧다. (속도가 빠름)\n",
    "        - 메모리 사용량 작다.\n",
    "    - 단점\n",
    "        - 작은 데이터 학습할 경우 과적합 가능성 존재"
   ]
  },
  {
   "cell_type": "code",
   "execution_count": 35,
   "id": "e037dd9d",
   "metadata": {
    "execution": {
     "iopub.execute_input": "2022-04-11T06:28:48.015953Z",
     "iopub.status.busy": "2022-04-11T06:28:48.015350Z",
     "iopub.status.idle": "2022-04-11T06:28:48.026285Z",
     "shell.execute_reply": "2022-04-11T06:28:48.026794Z",
     "shell.execute_reply.started": "2022-04-11T02:37:42.535999Z"
    },
    "papermill": {
     "duration": 0.116463,
     "end_time": "2022-04-11T06:28:48.026971",
     "exception": false,
     "start_time": "2022-04-11T06:28:47.910508",
     "status": "completed"
    },
    "tags": []
   },
   "outputs": [
    {
     "name": "stdout",
     "output_type": "stream",
     "text": [
      "<class 'pandas.core.frame.DataFrame'>\n",
      "RangeIndex: 8693 entries, 0 to 8692\n",
      "Data columns (total 16 columns):\n",
      " #   Column        Non-Null Count  Dtype  \n",
      "---  ------        --------------  -----  \n",
      " 0   HomePlanet    8693 non-null   int64  \n",
      " 1   CryoSleep     8693 non-null   int64  \n",
      " 2   Destination   8693 non-null   int64  \n",
      " 3   Age           8693 non-null   float64\n",
      " 4   VIP           8693 non-null   int64  \n",
      " 5   RoomService   8693 non-null   float64\n",
      " 6   FoodCourt     8693 non-null   float64\n",
      " 7   ShoppingMall  8693 non-null   float64\n",
      " 8   Spa           8693 non-null   float64\n",
      " 9   VRDeck        8693 non-null   float64\n",
      " 10  Transported   8693 non-null   bool   \n",
      " 11  GroupSize     8693 non-null   float64\n",
      " 12  LastName      8693 non-null   int64  \n",
      " 13  cd            8693 non-null   int64  \n",
      " 14  cn            8693 non-null   float64\n",
      " 15  cs            8693 non-null   int64  \n",
      "dtypes: bool(1), float64(8), int64(7)\n",
      "memory usage: 1.0 MB\n"
     ]
    }
   ],
   "source": [
    "train.info()"
   ]
  },
  {
   "cell_type": "markdown",
   "id": "d82d0d3c",
   "metadata": {
    "papermill": {
     "duration": 0.101047,
     "end_time": "2022-04-11T06:28:48.230579",
     "exception": false,
     "start_time": "2022-04-11T06:28:48.129532",
     "status": "completed"
    },
    "tags": []
   },
   "source": [
    "📍 **TARGET** 데이터인 **Transported** 빼고 ML을 위한 사전 준비 작업이 완료되었다."
   ]
  },
  {
   "cell_type": "markdown",
   "id": "d8047acc",
   "metadata": {
    "papermill": {
     "duration": 0.101049,
     "end_time": "2022-04-11T06:28:48.432541",
     "exception": false,
     "start_time": "2022-04-11T06:28:48.331492",
     "status": "completed"
    },
    "tags": []
   },
   "source": [
    "- ML에 사용할 특성만 col에 저장하고 TARGET인 Transported 특성만 TARGET 변수에 저장한다"
   ]
  },
  {
   "cell_type": "code",
   "execution_count": 36,
   "id": "bbb65c93",
   "metadata": {
    "execution": {
     "iopub.execute_input": "2022-04-11T06:28:48.638812Z",
     "iopub.status.busy": "2022-04-11T06:28:48.638252Z",
     "iopub.status.idle": "2022-04-11T06:28:48.642884Z",
     "shell.execute_reply": "2022-04-11T06:28:48.643461Z",
     "shell.execute_reply.started": "2022-04-11T02:37:42.53818Z"
    },
    "papermill": {
     "duration": 0.110483,
     "end_time": "2022-04-11T06:28:48.643620",
     "exception": false,
     "start_time": "2022-04-11T06:28:48.533137",
     "status": "completed"
    },
    "tags": []
   },
   "outputs": [],
   "source": [
    "col = train.drop(['Transported'], axis = 1).columns.tolist()\n",
    "TARGET = 'Transported'"
   ]
  },
  {
   "cell_type": "markdown",
   "id": "60ca9223",
   "metadata": {
    "papermill": {
     "duration": 0.100652,
     "end_time": "2022-04-11T06:28:48.845954",
     "exception": false,
     "start_time": "2022-04-11T06:28:48.745302",
     "status": "completed"
    },
    "tags": []
   },
   "source": [
    "- ML 하기 전 훈련 데이터와 테스트 데이터 세트 분리"
   ]
  },
  {
   "cell_type": "code",
   "execution_count": 37,
   "id": "09bbe048",
   "metadata": {
    "execution": {
     "iopub.execute_input": "2022-04-11T06:28:49.058019Z",
     "iopub.status.busy": "2022-04-11T06:28:49.057359Z",
     "iopub.status.idle": "2022-04-11T06:28:49.060713Z",
     "shell.execute_reply": "2022-04-11T06:28:49.061355Z",
     "shell.execute_reply.started": "2022-04-11T02:37:42.54039Z"
    },
    "papermill": {
     "duration": 0.112861,
     "end_time": "2022-04-11T06:28:49.061527",
     "exception": false,
     "start_time": "2022-04-11T06:28:48.948666",
     "status": "completed"
    },
    "tags": []
   },
   "outputs": [],
   "source": [
    "X = train[col]\n",
    "Y = train[TARGET]\n",
    "X_train, y_train, X_val, y_val = train_test_split(X,Y,test_size = 0.33)"
   ]
  },
  {
   "cell_type": "markdown",
   "id": "454fb17c",
   "metadata": {
    "papermill": {
     "duration": 0.101616,
     "end_time": "2022-04-11T06:28:49.266436",
     "exception": false,
     "start_time": "2022-04-11T06:28:49.164820",
     "status": "completed"
    },
    "tags": []
   },
   "source": [
    "- **StratifiedKFold**\n",
    "    - 5번 교차 검증을 진행한다.\n",
    "    - 진행 결과를 idx_fold에 저장한다."
   ]
  },
  {
   "cell_type": "code",
   "execution_count": 38,
   "id": "ddcb43be",
   "metadata": {
    "execution": {
     "iopub.execute_input": "2022-04-11T06:28:49.471646Z",
     "iopub.status.busy": "2022-04-11T06:28:49.471066Z",
     "iopub.status.idle": "2022-04-11T06:28:49.479643Z",
     "shell.execute_reply": "2022-04-11T06:28:49.480199Z",
     "shell.execute_reply.started": "2022-04-11T02:37:42.542351Z"
    },
    "papermill": {
     "duration": 0.112626,
     "end_time": "2022-04-11T06:28:49.480363",
     "exception": false,
     "start_time": "2022-04-11T06:28:49.367737",
     "status": "completed"
    },
    "tags": []
   },
   "outputs": [],
   "source": [
    "idx_fold = []\n",
    "\n",
    "skf = StratifiedKFold(5, random_state=12, shuffle=True)\n",
    "for idx_train, idx_valid in skf.split(X = X, y = Y):\n",
    "    idx_fold.append((idx_train, idx_valid))"
   ]
  },
  {
   "cell_type": "markdown",
   "id": "f0735265",
   "metadata": {
    "papermill": {
     "duration": 0.107531,
     "end_time": "2022-04-11T06:28:49.689227",
     "exception": false,
     "start_time": "2022-04-11T06:28:49.581696",
     "status": "completed"
    },
    "tags": []
   },
   "source": [
    "- 하이퍼파라미터 저장"
   ]
  },
  {
   "cell_type": "code",
   "execution_count": 39,
   "id": "41778d40",
   "metadata": {
    "execution": {
     "iopub.execute_input": "2022-04-11T06:28:49.898863Z",
     "iopub.status.busy": "2022-04-11T06:28:49.898259Z",
     "iopub.status.idle": "2022-04-11T06:28:49.899682Z",
     "shell.execute_reply": "2022-04-11T06:28:49.900283Z",
     "shell.execute_reply.started": "2022-04-11T02:37:42.544448Z"
    },
    "papermill": {
     "duration": 0.1073,
     "end_time": "2022-04-11T06:28:49.900444",
     "exception": false,
     "start_time": "2022-04-11T06:28:49.793144",
     "status": "completed"
    },
    "tags": []
   },
   "outputs": [],
   "source": [
    "lgb_params = {\n",
    "    'application' : 'binary',\n",
    "    'n_estimators' : 975,\n",
    "    'min_child_samples' : 5,\n",
    "    'max_depth' : 8,\n",
    "    'learning_rate' : 0.01,\n",
    "    'n_jobs' : -1,\n",
    "    'importance_type' : 'gain'\n",
    "}"
   ]
  },
  {
   "cell_type": "markdown",
   "id": "059e6862",
   "metadata": {
    "papermill": {
     "duration": 0.102296,
     "end_time": "2022-04-11T06:28:50.104757",
     "exception": false,
     "start_time": "2022-04-11T06:28:50.002461",
     "status": "completed"
    },
    "tags": []
   },
   "source": [
    "-- max_depth : 트리의 최대 깊이 지정  \n",
    "-- application : 모델의 어플리케이션 지정 ( regression 회귀 , binary 이진, multiclass 다중 )  \n",
    "-- learning_rate : 추정값 추정 중에서 발생하는 변화의 크기 컨트롤(각 트리에 영향을 주는 변수)  \n",
    "-- n_estimators : 적절한 트리 수 지정  \n",
    "-- min_child_samples : 리프 트리에서 최소 필요한 노드 개수 지정 (과적합 해결 파라미터)  \n",
    "-- n_jobs : 훈련에 사용할 병렬 스레드 수 (학습 시간 줄여준다.)  \n",
    "-- importance_type : 기능 중요도 유형 지정 ( gain = 사용한 feature 분할의 총 이득 포함, split = model에서 사용된 feature의 수 포함 )\n",
    "  \n",
    "참고 문서 : [공식문서](https://lightgbm.readthedocs.io/en/latest/pythonapi/lightgbm.LGBMClassifier.html)"
   ]
  },
  {
   "cell_type": "markdown",
   "id": "3cbd529f",
   "metadata": {
    "papermill": {
     "duration": 0.100571,
     "end_time": "2022-04-11T06:28:50.305855",
     "exception": false,
     "start_time": "2022-04-11T06:28:50.205284",
     "status": "completed"
    },
    "tags": []
   },
   "source": [
    "- 검증 점수와 예측을 저장할 변수 설정"
   ]
  },
  {
   "cell_type": "code",
   "execution_count": 40,
   "id": "2e7b3d11",
   "metadata": {
    "execution": {
     "iopub.execute_input": "2022-04-11T06:28:50.515682Z",
     "iopub.status.busy": "2022-04-11T06:28:50.515073Z",
     "iopub.status.idle": "2022-04-11T06:28:50.518338Z",
     "shell.execute_reply": "2022-04-11T06:28:50.518878Z",
     "shell.execute_reply.started": "2022-04-11T02:37:42.54622Z"
    },
    "papermill": {
     "duration": 0.109147,
     "end_time": "2022-04-11T06:28:50.519034",
     "exception": false,
     "start_time": "2022-04-11T06:28:50.409887",
     "status": "completed"
    },
    "tags": []
   },
   "outputs": [],
   "source": [
    "lgb_scores = []\n",
    "lgb_auc = []\n",
    "predictions = 0"
   ]
  },
  {
   "cell_type": "markdown",
   "id": "d5c8e3e2",
   "metadata": {
    "papermill": {
     "duration": 0.101506,
     "end_time": "2022-04-11T06:28:50.721836",
     "exception": false,
     "start_time": "2022-04-11T06:28:50.620330",
     "status": "completed"
    },
    "tags": []
   },
   "source": [
    "- idx_fold값에 따라 5번 모델을 돌린다.\n",
    "- AUC의 값이 높을 수록 좋은 모델이다."
   ]
  },
  {
   "cell_type": "code",
   "execution_count": 41,
   "id": "151fb288",
   "metadata": {
    "execution": {
     "iopub.execute_input": "2022-04-11T06:28:50.930271Z",
     "iopub.status.busy": "2022-04-11T06:28:50.929672Z",
     "iopub.status.idle": "2022-04-11T06:28:50.932461Z",
     "shell.execute_reply": "2022-04-11T06:28:50.933012Z",
     "shell.execute_reply.started": "2022-04-11T02:37:42.547715Z"
    },
    "papermill": {
     "duration": 0.108924,
     "end_time": "2022-04-11T06:28:50.933211",
     "exception": false,
     "start_time": "2022-04-11T06:28:50.824287",
     "status": "completed"
    },
    "tags": []
   },
   "outputs": [],
   "source": [
    "from sklearn.metrics import roc_auc_score"
   ]
  },
  {
   "cell_type": "code",
   "execution_count": 42,
   "id": "1eb1f888",
   "metadata": {
    "execution": {
     "iopub.execute_input": "2022-04-11T06:28:51.140215Z",
     "iopub.status.busy": "2022-04-11T06:28:51.139571Z",
     "iopub.status.idle": "2022-04-11T06:28:59.800191Z",
     "shell.execute_reply": "2022-04-11T06:28:59.800863Z",
     "shell.execute_reply.started": "2022-04-11T02:37:42.549383Z"
    },
    "papermill": {
     "duration": 8.765915,
     "end_time": "2022-04-11T06:28:59.801082",
     "exception": false,
     "start_time": "2022-04-11T06:28:51.035167",
     "status": "completed"
    },
    "tags": []
   },
   "outputs": [
    {
     "name": "stdout",
     "output_type": "stream",
     "text": [
      "========== Fold=1 ==========\n",
      "Fold=1, Accuracy score : 0.815411%\n",
      "Fold=1, AUC : 0.908927%\n",
      "\n",
      "========== Fold=2 ==========\n",
      "Fold=2, Accuracy score : 0.796435%\n",
      "Fold=2, AUC : 0.896463%\n",
      "\n",
      "========== Fold=3 ==========\n",
      "Fold=3, Accuracy score : 0.806786%\n",
      "Fold=3, AUC : 0.894971%\n",
      "\n",
      "========== Fold=4 ==========\n",
      "Fold=4, Accuracy score : 0.798044%\n",
      "Fold=4, AUC : 0.900287%\n",
      "\n",
      "========== Fold=5 ==========\n",
      "Fold=5, Accuracy score : 0.813579%\n",
      "Fold=5, AUC : 0.902101%\n",
      "\n",
      "Mean Accuracy :  0.8060507904030662\n",
      "Mean AUC :  0.9005498661732348\n"
     ]
    }
   ],
   "source": [
    "for fold, (idx_train, idx_valid) in enumerate(idx_fold):\n",
    "    print(10*\"=\", f\"Fold={fold+1}\", 10*\"=\")\n",
    "    \n",
    "    X_train, X_valid = train.iloc[idx_train][col],train.iloc[idx_valid][col]\n",
    "    Y_train, Y_valid = train.iloc[idx_train][TARGET],train.iloc[idx_valid][TARGET]\n",
    "    \n",
    "    model = LGBMClassifier(**lgb_params)\n",
    "    model.fit(X_train, Y_train, verbose = 0)\n",
    "    \n",
    "    # 정확도 측정해서 저장\n",
    "    preds_valid = model.predict(X_valid)\n",
    "    acc = accuracy_score(Y_valid, preds_valid)\n",
    "    lgb_scores.append(acc)\n",
    "    roc = roc_auc_score(Y_valid, model.predict_proba(X_valid)[:, 1])\n",
    "    lgb_auc.append(roc)\n",
    "    \n",
    "    preds = model.predict(test[col]) \n",
    "    predictions += preds/5\n",
    "\n",
    "    \n",
    "    print(f\"Fold={fold+1}, Accuracy score : {acc :2f}%\")\n",
    "    print(f\"Fold={fold+1}, AUC : {roc :2f}%\\n\")\n",
    "    \n",
    "\n",
    "print(\"Mean Accuracy : \", np.mean(lgb_scores))\n",
    "print(\"Mean AUC : \", np.mean(lgb_auc))"
   ]
  },
  {
   "cell_type": "markdown",
   "id": "eb8e43bc",
   "metadata": {
    "papermill": {
     "duration": 0.105071,
     "end_time": "2022-04-11T06:29:00.011339",
     "exception": false,
     "start_time": "2022-04-11T06:28:59.906268",
     "status": "completed"
    },
    "tags": []
   },
   "source": [
    "- AUC는 0.9 모델이며 평균 정확도는 **0.806**이다."
   ]
  },
  {
   "cell_type": "markdown",
   "id": "056b7c8f",
   "metadata": {
    "papermill": {
     "duration": 0.106725,
     "end_time": "2022-04-11T06:29:00.221618",
     "exception": false,
     "start_time": "2022-04-11T06:29:00.114893",
     "status": "completed"
    },
    "tags": []
   },
   "source": [
    "---"
   ]
  },
  {
   "cell_type": "markdown",
   "id": "e8c30f4a",
   "metadata": {
    "papermill": {
     "duration": 0.102513,
     "end_time": "2022-04-11T06:29:00.428255",
     "exception": false,
     "start_time": "2022-04-11T06:29:00.325742",
     "status": "completed"
    },
    "tags": []
   },
   "source": [
    "# Submission"
   ]
  },
  {
   "cell_type": "code",
   "execution_count": 43,
   "id": "e0b55265",
   "metadata": {
    "execution": {
     "iopub.execute_input": "2022-04-11T06:29:00.641322Z",
     "iopub.status.busy": "2022-04-11T06:29:00.640341Z",
     "iopub.status.idle": "2022-04-11T06:29:00.659148Z",
     "shell.execute_reply": "2022-04-11T06:29:00.658571Z",
     "shell.execute_reply.started": "2022-04-11T02:37:42.550742Z"
    },
    "papermill": {
     "duration": 0.127745,
     "end_time": "2022-04-11T06:29:00.659313",
     "exception": false,
     "start_time": "2022-04-11T06:29:00.531568",
     "status": "completed"
    },
    "tags": []
   },
   "outputs": [
    {
     "data": {
      "text/html": [
       "<div>\n",
       "<style scoped>\n",
       "    .dataframe tbody tr th:only-of-type {\n",
       "        vertical-align: middle;\n",
       "    }\n",
       "\n",
       "    .dataframe tbody tr th {\n",
       "        vertical-align: top;\n",
       "    }\n",
       "\n",
       "    .dataframe thead th {\n",
       "        text-align: right;\n",
       "    }\n",
       "</style>\n",
       "<table border=\"1\" class=\"dataframe\">\n",
       "  <thead>\n",
       "    <tr style=\"text-align: right;\">\n",
       "      <th></th>\n",
       "      <th>PassengerId</th>\n",
       "      <th>Transported</th>\n",
       "    </tr>\n",
       "  </thead>\n",
       "  <tbody>\n",
       "    <tr>\n",
       "      <th>0</th>\n",
       "      <td>0013_01</td>\n",
       "      <td>True</td>\n",
       "    </tr>\n",
       "    <tr>\n",
       "      <th>1</th>\n",
       "      <td>0018_01</td>\n",
       "      <td>False</td>\n",
       "    </tr>\n",
       "    <tr>\n",
       "      <th>2</th>\n",
       "      <td>0019_01</td>\n",
       "      <td>True</td>\n",
       "    </tr>\n",
       "    <tr>\n",
       "      <th>3</th>\n",
       "      <td>0021_01</td>\n",
       "      <td>True</td>\n",
       "    </tr>\n",
       "    <tr>\n",
       "      <th>4</th>\n",
       "      <td>0023_01</td>\n",
       "      <td>True</td>\n",
       "    </tr>\n",
       "  </tbody>\n",
       "</table>\n",
       "</div>"
      ],
      "text/plain": [
       "  PassengerId  Transported\n",
       "0     0013_01         True\n",
       "1     0018_01        False\n",
       "2     0019_01         True\n",
       "3     0021_01         True\n",
       "4     0023_01         True"
      ]
     },
     "execution_count": 43,
     "metadata": {},
     "output_type": "execute_result"
    }
   ],
   "source": [
    "submission[TARGET] = predictions.astype(\"bool\")\n",
    "submission.to_csv(\"submission.csv\",index=False)\n",
    "submission.head()"
   ]
  },
  {
   "cell_type": "markdown",
   "id": "3794a312",
   "metadata": {
    "papermill": {
     "duration": 0.102906,
     "end_time": "2022-04-11T06:29:00.866098",
     "exception": false,
     "start_time": "2022-04-11T06:29:00.763192",
     "status": "completed"
    },
    "tags": []
   },
   "source": [
    "# 참고"
   ]
  },
  {
   "cell_type": "markdown",
   "id": "bd0ec1fa",
   "metadata": {
    "papermill": {
     "duration": 0.10371,
     "end_time": "2022-04-11T06:29:01.074799",
     "exception": false,
     "start_time": "2022-04-11T06:29:00.971089",
     "status": "completed"
    },
    "tags": []
   },
   "source": [
    "[Spaceship Titanic - EDA + 27 different models](https://www.kaggle.com/code/odins0n/spaceship-titanic-eda-27-different-models#Data-Pre-Processing--)  "
   ]
  },
  {
   "cell_type": "markdown",
   "id": "c949348a",
   "metadata": {
    "papermill": {
     "duration": 0.103604,
     "end_time": "2022-04-11T06:29:01.283461",
     "exception": false,
     "start_time": "2022-04-11T06:29:01.179857",
     "status": "completed"
    },
    "tags": []
   },
   "source": [
    "# 혼동행렬\n",
    "[git blog](https://zerobbang.github.io/2022/04/06/CM/)"
   ]
  },
  {
   "cell_type": "markdown",
   "id": "7b9c3b75",
   "metadata": {
    "papermill": {
     "duration": 0.104738,
     "end_time": "2022-04-11T06:29:01.491727",
     "exception": false,
     "start_time": "2022-04-11T06:29:01.386989",
     "status": "completed"
    },
    "tags": []
   },
   "source": [
    "# 결과\n",
    "4/4 : accuracy : 0.791   |  등수 :   341 / 전체  \n",
    "\n",
    "4/5 : accuracy : 0.80102    |    등수  :  323  / 전체  \n",
    "\n",
    "4/6 : accuracy : 0.80243    |    등수  :  292  / 1187  \n",
    "\n",
    "4/7 : accuracy : 0.8043    |    등수  :  210  / 1226 \n"
   ]
  }
 ],
 "metadata": {
  "kernelspec": {
   "display_name": "Python 3",
   "language": "python",
   "name": "python3"
  },
  "language_info": {
   "codemirror_mode": {
    "name": "ipython",
    "version": 3
   },
   "file_extension": ".py",
   "mimetype": "text/x-python",
   "name": "python",
   "nbconvert_exporter": "python",
   "pygments_lexer": "ipython3",
   "version": "3.7.12"
  },
  "papermill": {
   "default_parameters": {},
   "duration": 42.532432,
   "end_time": "2022-04-11T06:29:02.407502",
   "environment_variables": {},
   "exception": null,
   "input_path": "__notebook__.ipynb",
   "output_path": "__notebook__.ipynb",
   "parameters": {},
   "start_time": "2022-04-11T06:28:19.875070",
   "version": "2.3.3"
  }
 },
 "nbformat": 4,
 "nbformat_minor": 5
}
