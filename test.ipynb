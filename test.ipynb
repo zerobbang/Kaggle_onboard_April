{
 "cells": [
  {
   "cell_type": "code",
   "execution_count": 1,
   "id": "af2c56cd",
   "metadata": {
    "_cell_guid": "b1076dfc-b9ad-4769-8c92-a6c4dae69d19",
    "_uuid": "8f2839f25d086af736a60e9eeb907d3b93b6e0e5",
    "execution": {
     "iopub.execute_input": "2022-04-01T03:50:01.928569Z",
     "iopub.status.busy": "2022-04-01T03:50:01.927257Z",
     "iopub.status.idle": "2022-04-01T03:50:01.945493Z",
     "shell.execute_reply": "2022-04-01T03:50:01.946068Z",
     "shell.execute_reply.started": "2022-04-01T03:46:47.193420Z"
    },
    "papermill": {
     "duration": 0.056494,
     "end_time": "2022-04-01T03:50:01.946451",
     "exception": false,
     "start_time": "2022-04-01T03:50:01.889957",
     "status": "completed"
    },
    "tags": []
   },
   "outputs": [
    {
     "name": "stdout",
     "output_type": "stream",
     "text": [
      "/kaggle/input/spaceship-titanic/sample_submission.csv\n",
      "/kaggle/input/spaceship-titanic/train.csv\n",
      "/kaggle/input/spaceship-titanic/test.csv\n"
     ]
    }
   ],
   "source": [
    "# This Python 3 environment comes with many helpful analytics libraries installed\n",
    "# It is defined by the kaggle/python Docker image: https://github.com/kaggle/docker-python\n",
    "# For example, here's several helpful packages to load\n",
    "\n",
    "import numpy as np # linear algebra\n",
    "import pandas as pd # data processing, CSV file I/O (e.g. pd.read_csv)\n",
    "\n",
    "# Input data files are available in the read-only \"../input/\" directory\n",
    "# For example, running this (by clicking run or pressing Shift+Enter) will list all files under the input directory\n",
    "\n",
    "import os\n",
    "for dirname, _, filenames in os.walk('/kaggle/input'):\n",
    "    for filename in filenames:\n",
    "        print(os.path.join(dirname, filename))\n",
    "\n",
    "# You can write up to 20GB to the current directory (/kaggle/working/) that gets preserved as output when you create a version using \"Save & Run All\" \n",
    "# You can also write temporary files to /kaggle/temp/, but they won't be saved outside of the current session"
   ]
  },
  {
   "cell_type": "code",
   "execution_count": 2,
   "id": "b52a9645",
   "metadata": {
    "execution": {
     "iopub.execute_input": "2022-04-01T03:50:02.015882Z",
     "iopub.status.busy": "2022-04-01T03:50:02.014821Z",
     "iopub.status.idle": "2022-04-01T03:50:02.020032Z",
     "shell.execute_reply": "2022-04-01T03:50:02.019332Z",
     "shell.execute_reply.started": "2022-04-01T03:46:47.227154Z"
    },
    "papermill": {
     "duration": 0.040286,
     "end_time": "2022-04-01T03:50:02.020212",
     "exception": false,
     "start_time": "2022-04-01T03:50:01.979926",
     "status": "completed"
    },
    "tags": []
   },
   "outputs": [],
   "source": [
    "#from IPython.display import clear_output\n",
    "#!pip3 install -U lazypredict\n",
    "#!pip3 install -U pandas #Upgrading pandas"
   ]
  },
  {
   "cell_type": "code",
   "execution_count": 3,
   "id": "ab287d5e",
   "metadata": {
    "execution": {
     "iopub.execute_input": "2022-04-01T03:50:02.093452Z",
     "iopub.status.busy": "2022-04-01T03:50:02.092641Z",
     "iopub.status.idle": "2022-04-01T03:50:02.096282Z",
     "shell.execute_reply": "2022-04-01T03:50:02.096789Z",
     "shell.execute_reply.started": "2022-04-01T03:46:47.265160Z"
    },
    "papermill": {
     "duration": 0.045092,
     "end_time": "2022-04-01T03:50:02.096991",
     "exception": false,
     "start_time": "2022-04-01T03:50:02.051899",
     "status": "completed"
    },
    "tags": []
   },
   "outputs": [
    {
     "data": {
      "text/plain": [
       "\"\\nimport numpy as np\\nimport pandas as pd\\nimport seaborn as sns\\nimport plotly.express as px\\nimport matplotlib.pyplot as plt\\nimport plotly.graph_objects as go\\nfrom plotly.subplots import make_subplots\\n\\n\\n\\nfrom sklearn.impute import SimpleImputer\\nfrom sklearn.metrics import accuracy_score\\nfrom sklearn.preprocessing import LabelEncoder\\nfrom sklearn.model_selection import StratifiedKFold, train_test_split\\n\\n\\nfrom lightgbm import LGBMClassifier\\nimport lazypredict\\nfrom lazypredict.Supervised import LazyClassifier\\n\\nimport time\\nimport warnings\\nwarnings.filterwarnings('ignore')\\n\""
      ]
     },
     "execution_count": 3,
     "metadata": {},
     "output_type": "execute_result"
    }
   ],
   "source": [
    "'''\n",
    "import numpy as np\n",
    "import pandas as pd\n",
    "import seaborn as sns\n",
    "import plotly.express as px\n",
    "import matplotlib.pyplot as plt\n",
    "import plotly.graph_objects as go\n",
    "from plotly.subplots import make_subplots\n",
    "\n",
    "\n",
    "\n",
    "from sklearn.impute import SimpleImputer\n",
    "from sklearn.metrics import accuracy_score\n",
    "from sklearn.preprocessing import LabelEncoder\n",
    "from sklearn.model_selection import StratifiedKFold, train_test_split\n",
    "\n",
    "\n",
    "from lightgbm import LGBMClassifier\n",
    "import lazypredict\n",
    "from lazypredict.Supervised import LazyClassifier\n",
    "\n",
    "import time\n",
    "import warnings\n",
    "warnings.filterwarnings('ignore')\n",
    "'''"
   ]
  },
  {
   "cell_type": "markdown",
   "id": "2e4c5dc3",
   "metadata": {
    "papermill": {
     "duration": 0.031652,
     "end_time": "2022-04-01T03:50:02.161930",
     "exception": false,
     "start_time": "2022-04-01T03:50:02.130278",
     "status": "completed"
    },
    "tags": []
   },
   "source": [
    "# 라이브러리 및 데이터 불러오기\n",
    "- 라이브러리 버전 확인 필수"
   ]
  },
  {
   "cell_type": "markdown",
   "id": "a9e7dfeb",
   "metadata": {
    "papermill": {
     "duration": 0.032809,
     "end_time": "2022-04-01T03:50:02.227587",
     "exception": false,
     "start_time": "2022-04-01T03:50:02.194778",
     "status": "completed"
    },
    "tags": []
   },
   "source": [
    "# 2. 탐색적 자료 분석 (EDA) \n",
    "- 데이터 시각화, 산점도, 막대 그래프 등, 그래프 해석해서 설명을 달아야 한다. 약간의 데이터 전처리\n",
    "\n",
    "# 3. 데이터 전처리 - ml모형 돌리기 위해 표준화,  원 핫 인코딩, -> feature engineering\n",
    "- 파생변수(도출변수) 왜?? 이 변수를 만들었는지에 대한 설명 필요\n",
    "\n",
    "# 4. 머신러닝 모형 개발\n",
    "- 로지스틱, 모형 등 (모형에 대한 설명이 들어가 있어야 한다.)\n",
    "- 모형 여러개 말구 한 두개 정도만\n",
    "\n",
    "# 5. 모형 펴가\n",
    "- 훈련 데이터 쪼개 훈련 데이터와 검증 데이터를 가지고\n",
    "- 테스트 데이터 건드는 거 아님\n",
    "- 정확도 비교 \n",
    "- (혼동행렬 Confusion Matrix) 설명\n",
    "\n",
    "# 6. 제출\n",
    "- 양식 : 추후에 샘플 주심.\n",
    "\n",
    "# Regerence \n",
    "- 참고한거 있으면 참고한 페이지 추가\n",
    "- 저자 이름, 글제목, 링크 주소\n"
   ]
  },
  {
   "cell_type": "code",
   "execution_count": 4,
   "id": "6e5274d3",
   "metadata": {
    "execution": {
     "iopub.execute_input": "2022-04-01T03:50:02.298799Z",
     "iopub.status.busy": "2022-04-01T03:50:02.298042Z",
     "iopub.status.idle": "2022-04-01T03:50:02.300844Z",
     "shell.execute_reply": "2022-04-01T03:50:02.300315Z",
     "shell.execute_reply.started": "2022-04-01T03:46:47.296984Z"
    },
    "papermill": {
     "duration": 0.041367,
     "end_time": "2022-04-01T03:50:02.301034",
     "exception": false,
     "start_time": "2022-04-01T03:50:02.259667",
     "status": "completed"
    },
    "tags": []
   },
   "outputs": [],
   "source": [
    "STRATEGY = 'median'\n",
    "FOLDS = 5\n",
    "RANDOM_STATE = 12"
   ]
  },
  {
   "cell_type": "code",
   "execution_count": 5,
   "id": "5a38eef0",
   "metadata": {
    "execution": {
     "iopub.execute_input": "2022-04-01T03:50:02.372871Z",
     "iopub.status.busy": "2022-04-01T03:50:02.371747Z",
     "iopub.status.idle": "2022-04-01T03:50:02.458028Z",
     "shell.execute_reply": "2022-04-01T03:50:02.457306Z",
     "shell.execute_reply.started": "2022-04-01T03:46:47.332057Z"
    },
    "papermill": {
     "duration": 0.124674,
     "end_time": "2022-04-01T03:50:02.458218",
     "exception": false,
     "start_time": "2022-04-01T03:50:02.333544",
     "status": "completed"
    },
    "tags": []
   },
   "outputs": [
    {
     "data": {
      "text/html": [
       "<div>\n",
       "<style scoped>\n",
       "    .dataframe tbody tr th:only-of-type {\n",
       "        vertical-align: middle;\n",
       "    }\n",
       "\n",
       "    .dataframe tbody tr th {\n",
       "        vertical-align: top;\n",
       "    }\n",
       "\n",
       "    .dataframe thead th {\n",
       "        text-align: right;\n",
       "    }\n",
       "</style>\n",
       "<table border=\"1\" class=\"dataframe\">\n",
       "  <thead>\n",
       "    <tr style=\"text-align: right;\">\n",
       "      <th></th>\n",
       "      <th>PassengerId</th>\n",
       "      <th>HomePlanet</th>\n",
       "      <th>CryoSleep</th>\n",
       "      <th>Cabin</th>\n",
       "      <th>Destination</th>\n",
       "      <th>Age</th>\n",
       "      <th>VIP</th>\n",
       "      <th>RoomService</th>\n",
       "      <th>FoodCourt</th>\n",
       "      <th>ShoppingMall</th>\n",
       "      <th>Spa</th>\n",
       "      <th>VRDeck</th>\n",
       "      <th>Name</th>\n",
       "      <th>Transported</th>\n",
       "    </tr>\n",
       "  </thead>\n",
       "  <tbody>\n",
       "    <tr>\n",
       "      <th>0</th>\n",
       "      <td>0001_01</td>\n",
       "      <td>Europa</td>\n",
       "      <td>False</td>\n",
       "      <td>B/0/P</td>\n",
       "      <td>TRAPPIST-1e</td>\n",
       "      <td>39.0</td>\n",
       "      <td>False</td>\n",
       "      <td>0.0</td>\n",
       "      <td>0.0</td>\n",
       "      <td>0.0</td>\n",
       "      <td>0.0</td>\n",
       "      <td>0.0</td>\n",
       "      <td>Maham Ofracculy</td>\n",
       "      <td>False</td>\n",
       "    </tr>\n",
       "    <tr>\n",
       "      <th>1</th>\n",
       "      <td>0002_01</td>\n",
       "      <td>Earth</td>\n",
       "      <td>False</td>\n",
       "      <td>F/0/S</td>\n",
       "      <td>TRAPPIST-1e</td>\n",
       "      <td>24.0</td>\n",
       "      <td>False</td>\n",
       "      <td>109.0</td>\n",
       "      <td>9.0</td>\n",
       "      <td>25.0</td>\n",
       "      <td>549.0</td>\n",
       "      <td>44.0</td>\n",
       "      <td>Juanna Vines</td>\n",
       "      <td>True</td>\n",
       "    </tr>\n",
       "    <tr>\n",
       "      <th>2</th>\n",
       "      <td>0003_01</td>\n",
       "      <td>Europa</td>\n",
       "      <td>False</td>\n",
       "      <td>A/0/S</td>\n",
       "      <td>TRAPPIST-1e</td>\n",
       "      <td>58.0</td>\n",
       "      <td>True</td>\n",
       "      <td>43.0</td>\n",
       "      <td>3576.0</td>\n",
       "      <td>0.0</td>\n",
       "      <td>6715.0</td>\n",
       "      <td>49.0</td>\n",
       "      <td>Altark Susent</td>\n",
       "      <td>False</td>\n",
       "    </tr>\n",
       "    <tr>\n",
       "      <th>3</th>\n",
       "      <td>0003_02</td>\n",
       "      <td>Europa</td>\n",
       "      <td>False</td>\n",
       "      <td>A/0/S</td>\n",
       "      <td>TRAPPIST-1e</td>\n",
       "      <td>33.0</td>\n",
       "      <td>False</td>\n",
       "      <td>0.0</td>\n",
       "      <td>1283.0</td>\n",
       "      <td>371.0</td>\n",
       "      <td>3329.0</td>\n",
       "      <td>193.0</td>\n",
       "      <td>Solam Susent</td>\n",
       "      <td>False</td>\n",
       "    </tr>\n",
       "    <tr>\n",
       "      <th>4</th>\n",
       "      <td>0004_01</td>\n",
       "      <td>Earth</td>\n",
       "      <td>False</td>\n",
       "      <td>F/1/S</td>\n",
       "      <td>TRAPPIST-1e</td>\n",
       "      <td>16.0</td>\n",
       "      <td>False</td>\n",
       "      <td>303.0</td>\n",
       "      <td>70.0</td>\n",
       "      <td>151.0</td>\n",
       "      <td>565.0</td>\n",
       "      <td>2.0</td>\n",
       "      <td>Willy Santantines</td>\n",
       "      <td>True</td>\n",
       "    </tr>\n",
       "  </tbody>\n",
       "</table>\n",
       "</div>"
      ],
      "text/plain": [
       "  PassengerId HomePlanet CryoSleep  Cabin  Destination   Age    VIP  \\\n",
       "0     0001_01     Europa     False  B/0/P  TRAPPIST-1e  39.0  False   \n",
       "1     0002_01      Earth     False  F/0/S  TRAPPIST-1e  24.0  False   \n",
       "2     0003_01     Europa     False  A/0/S  TRAPPIST-1e  58.0   True   \n",
       "3     0003_02     Europa     False  A/0/S  TRAPPIST-1e  33.0  False   \n",
       "4     0004_01      Earth     False  F/1/S  TRAPPIST-1e  16.0  False   \n",
       "\n",
       "   RoomService  FoodCourt  ShoppingMall     Spa  VRDeck               Name  \\\n",
       "0          0.0        0.0           0.0     0.0     0.0    Maham Ofracculy   \n",
       "1        109.0        9.0          25.0   549.0    44.0       Juanna Vines   \n",
       "2         43.0     3576.0           0.0  6715.0    49.0      Altark Susent   \n",
       "3          0.0     1283.0         371.0  3329.0   193.0       Solam Susent   \n",
       "4        303.0       70.0         151.0   565.0     2.0  Willy Santantines   \n",
       "\n",
       "   Transported  \n",
       "0        False  \n",
       "1         True  \n",
       "2        False  \n",
       "3        False  \n",
       "4         True  "
      ]
     },
     "execution_count": 5,
     "metadata": {},
     "output_type": "execute_result"
    }
   ],
   "source": [
    "train = pd.read_csv(\"/kaggle/input/spaceship-titanic/train.csv\")\n",
    "train.head()"
   ]
  },
  {
   "cell_type": "markdown",
   "id": "323814c4",
   "metadata": {
    "papermill": {
     "duration": 0.032483,
     "end_time": "2022-04-01T03:50:02.525560",
     "exception": false,
     "start_time": "2022-04-01T03:50:02.493077",
     "status": "completed"
    },
    "tags": []
   },
   "source": [
    "Transported 예측"
   ]
  },
  {
   "cell_type": "code",
   "execution_count": 6,
   "id": "47525fd3",
   "metadata": {
    "execution": {
     "iopub.execute_input": "2022-04-01T03:50:02.595166Z",
     "iopub.status.busy": "2022-04-01T03:50:02.594415Z",
     "iopub.status.idle": "2022-04-01T03:50:02.646214Z",
     "shell.execute_reply": "2022-04-01T03:50:02.645569Z",
     "shell.execute_reply.started": "2022-04-01T03:46:47.387636Z"
    },
    "papermill": {
     "duration": 0.088255,
     "end_time": "2022-04-01T03:50:02.646411",
     "exception": false,
     "start_time": "2022-04-01T03:50:02.558156",
     "status": "completed"
    },
    "tags": []
   },
   "outputs": [
    {
     "data": {
      "text/html": [
       "<div>\n",
       "<style scoped>\n",
       "    .dataframe tbody tr th:only-of-type {\n",
       "        vertical-align: middle;\n",
       "    }\n",
       "\n",
       "    .dataframe tbody tr th {\n",
       "        vertical-align: top;\n",
       "    }\n",
       "\n",
       "    .dataframe thead th {\n",
       "        text-align: right;\n",
       "    }\n",
       "</style>\n",
       "<table border=\"1\" class=\"dataframe\">\n",
       "  <thead>\n",
       "    <tr style=\"text-align: right;\">\n",
       "      <th></th>\n",
       "      <th>PassengerId</th>\n",
       "      <th>HomePlanet</th>\n",
       "      <th>CryoSleep</th>\n",
       "      <th>Cabin</th>\n",
       "      <th>Destination</th>\n",
       "      <th>Age</th>\n",
       "      <th>VIP</th>\n",
       "      <th>RoomService</th>\n",
       "      <th>FoodCourt</th>\n",
       "      <th>ShoppingMall</th>\n",
       "      <th>Spa</th>\n",
       "      <th>VRDeck</th>\n",
       "      <th>Name</th>\n",
       "    </tr>\n",
       "  </thead>\n",
       "  <tbody>\n",
       "    <tr>\n",
       "      <th>0</th>\n",
       "      <td>0013_01</td>\n",
       "      <td>Earth</td>\n",
       "      <td>True</td>\n",
       "      <td>G/3/S</td>\n",
       "      <td>TRAPPIST-1e</td>\n",
       "      <td>27.0</td>\n",
       "      <td>False</td>\n",
       "      <td>0.0</td>\n",
       "      <td>0.0</td>\n",
       "      <td>0.0</td>\n",
       "      <td>0.0</td>\n",
       "      <td>0.0</td>\n",
       "      <td>Nelly Carsoning</td>\n",
       "    </tr>\n",
       "    <tr>\n",
       "      <th>1</th>\n",
       "      <td>0018_01</td>\n",
       "      <td>Earth</td>\n",
       "      <td>False</td>\n",
       "      <td>F/4/S</td>\n",
       "      <td>TRAPPIST-1e</td>\n",
       "      <td>19.0</td>\n",
       "      <td>False</td>\n",
       "      <td>0.0</td>\n",
       "      <td>9.0</td>\n",
       "      <td>0.0</td>\n",
       "      <td>2823.0</td>\n",
       "      <td>0.0</td>\n",
       "      <td>Lerome Peckers</td>\n",
       "    </tr>\n",
       "    <tr>\n",
       "      <th>2</th>\n",
       "      <td>0019_01</td>\n",
       "      <td>Europa</td>\n",
       "      <td>True</td>\n",
       "      <td>C/0/S</td>\n",
       "      <td>55 Cancri e</td>\n",
       "      <td>31.0</td>\n",
       "      <td>False</td>\n",
       "      <td>0.0</td>\n",
       "      <td>0.0</td>\n",
       "      <td>0.0</td>\n",
       "      <td>0.0</td>\n",
       "      <td>0.0</td>\n",
       "      <td>Sabih Unhearfus</td>\n",
       "    </tr>\n",
       "    <tr>\n",
       "      <th>3</th>\n",
       "      <td>0021_01</td>\n",
       "      <td>Europa</td>\n",
       "      <td>False</td>\n",
       "      <td>C/1/S</td>\n",
       "      <td>TRAPPIST-1e</td>\n",
       "      <td>38.0</td>\n",
       "      <td>False</td>\n",
       "      <td>0.0</td>\n",
       "      <td>6652.0</td>\n",
       "      <td>0.0</td>\n",
       "      <td>181.0</td>\n",
       "      <td>585.0</td>\n",
       "      <td>Meratz Caltilter</td>\n",
       "    </tr>\n",
       "    <tr>\n",
       "      <th>4</th>\n",
       "      <td>0023_01</td>\n",
       "      <td>Earth</td>\n",
       "      <td>False</td>\n",
       "      <td>F/5/S</td>\n",
       "      <td>TRAPPIST-1e</td>\n",
       "      <td>20.0</td>\n",
       "      <td>False</td>\n",
       "      <td>10.0</td>\n",
       "      <td>0.0</td>\n",
       "      <td>635.0</td>\n",
       "      <td>0.0</td>\n",
       "      <td>0.0</td>\n",
       "      <td>Brence Harperez</td>\n",
       "    </tr>\n",
       "  </tbody>\n",
       "</table>\n",
       "</div>"
      ],
      "text/plain": [
       "  PassengerId HomePlanet CryoSleep  Cabin  Destination   Age    VIP  \\\n",
       "0     0013_01      Earth      True  G/3/S  TRAPPIST-1e  27.0  False   \n",
       "1     0018_01      Earth     False  F/4/S  TRAPPIST-1e  19.0  False   \n",
       "2     0019_01     Europa      True  C/0/S  55 Cancri e  31.0  False   \n",
       "3     0021_01     Europa     False  C/1/S  TRAPPIST-1e  38.0  False   \n",
       "4     0023_01      Earth     False  F/5/S  TRAPPIST-1e  20.0  False   \n",
       "\n",
       "   RoomService  FoodCourt  ShoppingMall     Spa  VRDeck              Name  \n",
       "0          0.0        0.0           0.0     0.0     0.0   Nelly Carsoning  \n",
       "1          0.0        9.0           0.0  2823.0     0.0    Lerome Peckers  \n",
       "2          0.0        0.0           0.0     0.0     0.0   Sabih Unhearfus  \n",
       "3          0.0     6652.0           0.0   181.0   585.0  Meratz Caltilter  \n",
       "4         10.0        0.0         635.0     0.0     0.0   Brence Harperez  "
      ]
     },
     "execution_count": 6,
     "metadata": {},
     "output_type": "execute_result"
    }
   ],
   "source": [
    "test = pd.read_csv(\"/kaggle/input/spaceship-titanic/test.csv\")\n",
    "test.head()"
   ]
  },
  {
   "cell_type": "code",
   "execution_count": 7,
   "id": "795bf517",
   "metadata": {
    "execution": {
     "iopub.execute_input": "2022-04-01T03:50:02.717539Z",
     "iopub.status.busy": "2022-04-01T03:50:02.716806Z",
     "iopub.status.idle": "2022-04-01T03:50:02.749794Z",
     "shell.execute_reply": "2022-04-01T03:50:02.750706Z",
     "shell.execute_reply.started": "2022-04-01T03:46:47.429941Z"
    },
    "papermill": {
     "duration": 0.070622,
     "end_time": "2022-04-01T03:50:02.750972",
     "exception": false,
     "start_time": "2022-04-01T03:50:02.680350",
     "status": "completed"
    },
    "tags": []
   },
   "outputs": [
    {
     "name": "stdout",
     "output_type": "stream",
     "text": [
      "<class 'pandas.core.frame.DataFrame'>\n",
      "RangeIndex: 8693 entries, 0 to 8692\n",
      "Data columns (total 14 columns):\n",
      " #   Column        Non-Null Count  Dtype  \n",
      "---  ------        --------------  -----  \n",
      " 0   PassengerId   8693 non-null   object \n",
      " 1   HomePlanet    8492 non-null   object \n",
      " 2   CryoSleep     8476 non-null   object \n",
      " 3   Cabin         8494 non-null   object \n",
      " 4   Destination   8511 non-null   object \n",
      " 5   Age           8514 non-null   float64\n",
      " 6   VIP           8490 non-null   object \n",
      " 7   RoomService   8512 non-null   float64\n",
      " 8   FoodCourt     8510 non-null   float64\n",
      " 9   ShoppingMall  8485 non-null   float64\n",
      " 10  Spa           8510 non-null   float64\n",
      " 11  VRDeck        8505 non-null   float64\n",
      " 12  Name          8493 non-null   object \n",
      " 13  Transported   8693 non-null   bool   \n",
      "dtypes: bool(1), float64(6), object(7)\n",
      "memory usage: 891.5+ KB\n"
     ]
    }
   ],
   "source": [
    "train.info()"
   ]
  },
  {
   "cell_type": "markdown",
   "id": "795e67b0",
   "metadata": {
    "papermill": {
     "duration": 0.033309,
     "end_time": "2022-04-01T03:50:02.819038",
     "exception": false,
     "start_time": "2022-04-01T03:50:02.785729",
     "status": "completed"
    },
    "tags": []
   },
   "source": [
    "결측치가 있어 보임"
   ]
  },
  {
   "cell_type": "code",
   "execution_count": 8,
   "id": "5760bf2e",
   "metadata": {
    "execution": {
     "iopub.execute_input": "2022-04-01T03:50:02.891338Z",
     "iopub.status.busy": "2022-04-01T03:50:02.890626Z",
     "iopub.status.idle": "2022-04-01T03:50:02.905613Z",
     "shell.execute_reply": "2022-04-01T03:50:02.906169Z",
     "shell.execute_reply.started": "2022-04-01T03:46:47.453303Z"
    },
    "papermill": {
     "duration": 0.052691,
     "end_time": "2022-04-01T03:50:02.906389",
     "exception": false,
     "start_time": "2022-04-01T03:50:02.853698",
     "status": "completed"
    },
    "tags": []
   },
   "outputs": [
    {
     "data": {
      "text/plain": [
       "PassengerId       0\n",
       "HomePlanet      201\n",
       "CryoSleep       217\n",
       "Cabin           199\n",
       "Destination     182\n",
       "Age             179\n",
       "VIP             203\n",
       "RoomService     181\n",
       "FoodCourt       183\n",
       "ShoppingMall    208\n",
       "Spa             183\n",
       "VRDeck          188\n",
       "Name            200\n",
       "Transported       0\n",
       "dtype: int64"
      ]
     },
     "execution_count": 8,
     "metadata": {},
     "output_type": "execute_result"
    }
   ],
   "source": [
    "train.isna().sum()"
   ]
  },
  {
   "cell_type": "code",
   "execution_count": 9,
   "id": "1851759b",
   "metadata": {
    "execution": {
     "iopub.execute_input": "2022-04-01T03:50:02.979726Z",
     "iopub.status.busy": "2022-04-01T03:50:02.979079Z",
     "iopub.status.idle": "2022-04-01T03:50:02.982246Z",
     "shell.execute_reply": "2022-04-01T03:50:02.982785Z",
     "shell.execute_reply.started": "2022-04-01T03:46:47.479943Z"
    },
    "papermill": {
     "duration": 0.041489,
     "end_time": "2022-04-01T03:50:02.982990",
     "exception": false,
     "start_time": "2022-04-01T03:50:02.941501",
     "status": "completed"
    },
    "tags": []
   },
   "outputs": [],
   "source": [
    "# train['Cunsumption'] = train['RoomService'] + train['ShoppingMall'] + train['Spa'] + train['VRDeck']"
   ]
  },
  {
   "cell_type": "code",
   "execution_count": 10,
   "id": "300793ca",
   "metadata": {
    "execution": {
     "iopub.execute_input": "2022-04-01T03:50:03.055687Z",
     "iopub.status.busy": "2022-04-01T03:50:03.054977Z",
     "iopub.status.idle": "2022-04-01T03:50:03.075297Z",
     "shell.execute_reply": "2022-04-01T03:50:03.075824Z",
     "shell.execute_reply.started": "2022-04-01T03:46:47.518391Z"
    },
    "papermill": {
     "duration": 0.058455,
     "end_time": "2022-04-01T03:50:03.076023",
     "exception": false,
     "start_time": "2022-04-01T03:50:03.017568",
     "status": "completed"
    },
    "tags": []
   },
   "outputs": [
    {
     "name": "stdout",
     "output_type": "stream",
     "text": [
      "<class 'pandas.core.frame.DataFrame'>\n",
      "RangeIndex: 8693 entries, 0 to 8692\n",
      "Data columns (total 14 columns):\n",
      " #   Column        Non-Null Count  Dtype  \n",
      "---  ------        --------------  -----  \n",
      " 0   PassengerId   8693 non-null   object \n",
      " 1   HomePlanet    8492 non-null   object \n",
      " 2   CryoSleep     8476 non-null   object \n",
      " 3   Cabin         8494 non-null   object \n",
      " 4   Destination   8511 non-null   object \n",
      " 5   Age           8514 non-null   float64\n",
      " 6   VIP           8490 non-null   object \n",
      " 7   RoomService   8512 non-null   float64\n",
      " 8   FoodCourt     8510 non-null   float64\n",
      " 9   ShoppingMall  8485 non-null   float64\n",
      " 10  Spa           8510 non-null   float64\n",
      " 11  VRDeck        8505 non-null   float64\n",
      " 12  Name          8493 non-null   object \n",
      " 13  Transported   8693 non-null   bool   \n",
      "dtypes: bool(1), float64(6), object(7)\n",
      "memory usage: 891.5+ KB\n"
     ]
    }
   ],
   "source": [
    "train.info()"
   ]
  },
  {
   "cell_type": "markdown",
   "id": "dabe5241",
   "metadata": {
    "papermill": {
     "duration": 0.034426,
     "end_time": "2022-04-01T03:50:03.145191",
     "exception": false,
     "start_time": "2022-04-01T03:50:03.110765",
     "status": "completed"
    },
    "tags": []
   },
   "source": [
    "나이대별로 묶고 전송했는지 안했는지"
   ]
  },
  {
   "cell_type": "code",
   "execution_count": 11,
   "id": "f7b7ce45",
   "metadata": {
    "execution": {
     "iopub.execute_input": "2022-04-01T03:50:03.217700Z",
     "iopub.status.busy": "2022-04-01T03:50:03.217005Z",
     "iopub.status.idle": "2022-04-01T03:50:03.228936Z",
     "shell.execute_reply": "2022-04-01T03:50:03.229548Z",
     "shell.execute_reply.started": "2022-04-01T03:46:47.556107Z"
    },
    "papermill": {
     "duration": 0.050177,
     "end_time": "2022-04-01T03:50:03.229757",
     "exception": false,
     "start_time": "2022-04-01T03:50:03.179580",
     "status": "completed"
    },
    "tags": []
   },
   "outputs": [
    {
     "data": {
      "text/plain": [
       "count    8514.000000\n",
       "mean       28.827930\n",
       "std        14.489021\n",
       "min         0.000000\n",
       "25%        19.000000\n",
       "50%        27.000000\n",
       "75%        38.000000\n",
       "max        79.000000\n",
       "Name: Age, dtype: float64"
      ]
     },
     "execution_count": 11,
     "metadata": {},
     "output_type": "execute_result"
    }
   ],
   "source": [
    "train['Age'].describe()"
   ]
  },
  {
   "cell_type": "code",
   "execution_count": 12,
   "id": "5683dc1f",
   "metadata": {
    "execution": {
     "iopub.execute_input": "2022-04-01T03:50:03.304814Z",
     "iopub.status.busy": "2022-04-01T03:50:03.304112Z",
     "iopub.status.idle": "2022-04-01T03:50:03.311991Z",
     "shell.execute_reply": "2022-04-01T03:50:03.312592Z",
     "shell.execute_reply.started": "2022-04-01T03:46:47.593119Z"
    },
    "papermill": {
     "duration": 0.047859,
     "end_time": "2022-04-01T03:50:03.312795",
     "exception": false,
     "start_time": "2022-04-01T03:50:03.264936",
     "status": "completed"
    },
    "tags": []
   },
   "outputs": [
    {
     "data": {
      "text/plain": [
       "Earth     4602\n",
       "Europa    2131\n",
       "Mars      1759\n",
       "Name: HomePlanet, dtype: int64"
      ]
     },
     "execution_count": 12,
     "metadata": {},
     "output_type": "execute_result"
    }
   ],
   "source": [
    "train['HomePlanet'].value_counts()"
   ]
  },
  {
   "cell_type": "markdown",
   "id": "047747bd",
   "metadata": {
    "papermill": {
     "duration": 0.034666,
     "end_time": "2022-04-01T03:50:03.382697",
     "exception": false,
     "start_time": "2022-04-01T03:50:03.348031",
     "status": "completed"
    },
    "tags": []
   },
   "source": [
    "출발지별 보기 시각화"
   ]
  },
  {
   "cell_type": "code",
   "execution_count": null,
   "id": "361bb3a2",
   "metadata": {
    "papermill": {
     "duration": 0.034649,
     "end_time": "2022-04-01T03:50:03.452396",
     "exception": false,
     "start_time": "2022-04-01T03:50:03.417747",
     "status": "completed"
    },
    "tags": []
   },
   "outputs": [],
   "source": []
  },
  {
   "cell_type": "code",
   "execution_count": 13,
   "id": "f74fb9b0",
   "metadata": {
    "execution": {
     "iopub.execute_input": "2022-04-01T03:50:03.526376Z",
     "iopub.status.busy": "2022-04-01T03:50:03.525679Z",
     "iopub.status.idle": "2022-04-01T03:50:03.661674Z",
     "shell.execute_reply": "2022-04-01T03:50:03.660986Z",
     "shell.execute_reply.started": "2022-04-01T03:46:47.640831Z"
    },
    "papermill": {
     "duration": 0.174292,
     "end_time": "2022-04-01T03:50:03.661840",
     "exception": false,
     "start_time": "2022-04-01T03:50:03.487548",
     "status": "completed"
    },
    "tags": []
   },
   "outputs": [
    {
     "data": {
      "text/html": [
       "        <script type=\"text/javascript\">\n",
       "        window.PlotlyConfig = {MathJaxConfig: 'local'};\n",
       "        if (window.MathJax) {MathJax.Hub.Config({SVG: {font: \"STIX-Web\"}});}\n",
       "        if (typeof require !== 'undefined') {\n",
       "        require.undef(\"plotly\");\n",
       "        requirejs.config({\n",
       "            paths: {\n",
       "                'plotly': ['https://cdn.plot.ly/plotly-2.9.0.min']\n",
       "            }\n",
       "        });\n",
       "        require(['plotly'], function(Plotly) {\n",
       "            window._Plotly = Plotly;\n",
       "        });\n",
       "        }\n",
       "        </script>\n",
       "        "
      ]
     },
     "metadata": {},
     "output_type": "display_data"
    },
    {
     "data": {
      "text/html": [
       "<div>                            <div id=\"2aa4034c-0141-4fcf-8b79-241fa0c8da84\" class=\"plotly-graph-div\" style=\"height:525px; width:100%;\"></div>            <script type=\"text/javascript\">                require([\"plotly\"], function(Plotly) {                    window.PLOTLYENV=window.PLOTLYENV || {};                                    if (document.getElementById(\"2aa4034c-0141-4fcf-8b79-241fa0c8da84\")) {                    Plotly.newPlot(                        \"2aa4034c-0141-4fcf-8b79-241fa0c8da84\",                        [],                        {\"template\":{\"data\":{\"bar\":[{\"error_x\":{\"color\":\"#2a3f5f\"},\"error_y\":{\"color\":\"#2a3f5f\"},\"marker\":{\"line\":{\"color\":\"#E5ECF6\",\"width\":0.5},\"pattern\":{\"fillmode\":\"overlay\",\"size\":10,\"solidity\":0.2}},\"type\":\"bar\"}],\"barpolar\":[{\"marker\":{\"line\":{\"color\":\"#E5ECF6\",\"width\":0.5},\"pattern\":{\"fillmode\":\"overlay\",\"size\":10,\"solidity\":0.2}},\"type\":\"barpolar\"}],\"carpet\":[{\"aaxis\":{\"endlinecolor\":\"#2a3f5f\",\"gridcolor\":\"white\",\"linecolor\":\"white\",\"minorgridcolor\":\"white\",\"startlinecolor\":\"#2a3f5f\"},\"baxis\":{\"endlinecolor\":\"#2a3f5f\",\"gridcolor\":\"white\",\"linecolor\":\"white\",\"minorgridcolor\":\"white\",\"startlinecolor\":\"#2a3f5f\"},\"type\":\"carpet\"}],\"choropleth\":[{\"colorbar\":{\"outlinewidth\":0,\"ticks\":\"\"},\"type\":\"choropleth\"}],\"contour\":[{\"colorbar\":{\"outlinewidth\":0,\"ticks\":\"\"},\"colorscale\":[[0.0,\"#0d0887\"],[0.1111111111111111,\"#46039f\"],[0.2222222222222222,\"#7201a8\"],[0.3333333333333333,\"#9c179e\"],[0.4444444444444444,\"#bd3786\"],[0.5555555555555556,\"#d8576b\"],[0.6666666666666666,\"#ed7953\"],[0.7777777777777778,\"#fb9f3a\"],[0.8888888888888888,\"#fdca26\"],[1.0,\"#f0f921\"]],\"type\":\"contour\"}],\"contourcarpet\":[{\"colorbar\":{\"outlinewidth\":0,\"ticks\":\"\"},\"type\":\"contourcarpet\"}],\"heatmap\":[{\"colorbar\":{\"outlinewidth\":0,\"ticks\":\"\"},\"colorscale\":[[0.0,\"#0d0887\"],[0.1111111111111111,\"#46039f\"],[0.2222222222222222,\"#7201a8\"],[0.3333333333333333,\"#9c179e\"],[0.4444444444444444,\"#bd3786\"],[0.5555555555555556,\"#d8576b\"],[0.6666666666666666,\"#ed7953\"],[0.7777777777777778,\"#fb9f3a\"],[0.8888888888888888,\"#fdca26\"],[1.0,\"#f0f921\"]],\"type\":\"heatmap\"}],\"heatmapgl\":[{\"colorbar\":{\"outlinewidth\":0,\"ticks\":\"\"},\"colorscale\":[[0.0,\"#0d0887\"],[0.1111111111111111,\"#46039f\"],[0.2222222222222222,\"#7201a8\"],[0.3333333333333333,\"#9c179e\"],[0.4444444444444444,\"#bd3786\"],[0.5555555555555556,\"#d8576b\"],[0.6666666666666666,\"#ed7953\"],[0.7777777777777778,\"#fb9f3a\"],[0.8888888888888888,\"#fdca26\"],[1.0,\"#f0f921\"]],\"type\":\"heatmapgl\"}],\"histogram\":[{\"marker\":{\"pattern\":{\"fillmode\":\"overlay\",\"size\":10,\"solidity\":0.2}},\"type\":\"histogram\"}],\"histogram2d\":[{\"colorbar\":{\"outlinewidth\":0,\"ticks\":\"\"},\"colorscale\":[[0.0,\"#0d0887\"],[0.1111111111111111,\"#46039f\"],[0.2222222222222222,\"#7201a8\"],[0.3333333333333333,\"#9c179e\"],[0.4444444444444444,\"#bd3786\"],[0.5555555555555556,\"#d8576b\"],[0.6666666666666666,\"#ed7953\"],[0.7777777777777778,\"#fb9f3a\"],[0.8888888888888888,\"#fdca26\"],[1.0,\"#f0f921\"]],\"type\":\"histogram2d\"}],\"histogram2dcontour\":[{\"colorbar\":{\"outlinewidth\":0,\"ticks\":\"\"},\"colorscale\":[[0.0,\"#0d0887\"],[0.1111111111111111,\"#46039f\"],[0.2222222222222222,\"#7201a8\"],[0.3333333333333333,\"#9c179e\"],[0.4444444444444444,\"#bd3786\"],[0.5555555555555556,\"#d8576b\"],[0.6666666666666666,\"#ed7953\"],[0.7777777777777778,\"#fb9f3a\"],[0.8888888888888888,\"#fdca26\"],[1.0,\"#f0f921\"]],\"type\":\"histogram2dcontour\"}],\"mesh3d\":[{\"colorbar\":{\"outlinewidth\":0,\"ticks\":\"\"},\"type\":\"mesh3d\"}],\"parcoords\":[{\"line\":{\"colorbar\":{\"outlinewidth\":0,\"ticks\":\"\"}},\"type\":\"parcoords\"}],\"pie\":[{\"automargin\":true,\"type\":\"pie\"}],\"scatter\":[{\"marker\":{\"colorbar\":{\"outlinewidth\":0,\"ticks\":\"\"}},\"type\":\"scatter\"}],\"scatter3d\":[{\"line\":{\"colorbar\":{\"outlinewidth\":0,\"ticks\":\"\"}},\"marker\":{\"colorbar\":{\"outlinewidth\":0,\"ticks\":\"\"}},\"type\":\"scatter3d\"}],\"scattercarpet\":[{\"marker\":{\"colorbar\":{\"outlinewidth\":0,\"ticks\":\"\"}},\"type\":\"scattercarpet\"}],\"scattergeo\":[{\"marker\":{\"colorbar\":{\"outlinewidth\":0,\"ticks\":\"\"}},\"type\":\"scattergeo\"}],\"scattergl\":[{\"marker\":{\"colorbar\":{\"outlinewidth\":0,\"ticks\":\"\"}},\"type\":\"scattergl\"}],\"scattermapbox\":[{\"marker\":{\"colorbar\":{\"outlinewidth\":0,\"ticks\":\"\"}},\"type\":\"scattermapbox\"}],\"scatterpolar\":[{\"marker\":{\"colorbar\":{\"outlinewidth\":0,\"ticks\":\"\"}},\"type\":\"scatterpolar\"}],\"scatterpolargl\":[{\"marker\":{\"colorbar\":{\"outlinewidth\":0,\"ticks\":\"\"}},\"type\":\"scatterpolargl\"}],\"scatterternary\":[{\"marker\":{\"colorbar\":{\"outlinewidth\":0,\"ticks\":\"\"}},\"type\":\"scatterternary\"}],\"surface\":[{\"colorbar\":{\"outlinewidth\":0,\"ticks\":\"\"},\"colorscale\":[[0.0,\"#0d0887\"],[0.1111111111111111,\"#46039f\"],[0.2222222222222222,\"#7201a8\"],[0.3333333333333333,\"#9c179e\"],[0.4444444444444444,\"#bd3786\"],[0.5555555555555556,\"#d8576b\"],[0.6666666666666666,\"#ed7953\"],[0.7777777777777778,\"#fb9f3a\"],[0.8888888888888888,\"#fdca26\"],[1.0,\"#f0f921\"]],\"type\":\"surface\"}],\"table\":[{\"cells\":{\"fill\":{\"color\":\"#EBF0F8\"},\"line\":{\"color\":\"white\"}},\"header\":{\"fill\":{\"color\":\"#C8D4E3\"},\"line\":{\"color\":\"white\"}},\"type\":\"table\"}]},\"layout\":{\"annotationdefaults\":{\"arrowcolor\":\"#2a3f5f\",\"arrowhead\":0,\"arrowwidth\":1},\"autotypenumbers\":\"strict\",\"coloraxis\":{\"colorbar\":{\"outlinewidth\":0,\"ticks\":\"\"}},\"colorscale\":{\"diverging\":[[0,\"#8e0152\"],[0.1,\"#c51b7d\"],[0.2,\"#de77ae\"],[0.3,\"#f1b6da\"],[0.4,\"#fde0ef\"],[0.5,\"#f7f7f7\"],[0.6,\"#e6f5d0\"],[0.7,\"#b8e186\"],[0.8,\"#7fbc41\"],[0.9,\"#4d9221\"],[1,\"#276419\"]],\"sequential\":[[0.0,\"#0d0887\"],[0.1111111111111111,\"#46039f\"],[0.2222222222222222,\"#7201a8\"],[0.3333333333333333,\"#9c179e\"],[0.4444444444444444,\"#bd3786\"],[0.5555555555555556,\"#d8576b\"],[0.6666666666666666,\"#ed7953\"],[0.7777777777777778,\"#fb9f3a\"],[0.8888888888888888,\"#fdca26\"],[1.0,\"#f0f921\"]],\"sequentialminus\":[[0.0,\"#0d0887\"],[0.1111111111111111,\"#46039f\"],[0.2222222222222222,\"#7201a8\"],[0.3333333333333333,\"#9c179e\"],[0.4444444444444444,\"#bd3786\"],[0.5555555555555556,\"#d8576b\"],[0.6666666666666666,\"#ed7953\"],[0.7777777777777778,\"#fb9f3a\"],[0.8888888888888888,\"#fdca26\"],[1.0,\"#f0f921\"]]},\"colorway\":[\"#636efa\",\"#EF553B\",\"#00cc96\",\"#ab63fa\",\"#FFA15A\",\"#19d3f3\",\"#FF6692\",\"#B6E880\",\"#FF97FF\",\"#FECB52\"],\"font\":{\"color\":\"#2a3f5f\"},\"geo\":{\"bgcolor\":\"white\",\"lakecolor\":\"white\",\"landcolor\":\"#E5ECF6\",\"showlakes\":true,\"showland\":true,\"subunitcolor\":\"white\"},\"hoverlabel\":{\"align\":\"left\"},\"hovermode\":\"closest\",\"mapbox\":{\"style\":\"light\"},\"paper_bgcolor\":\"white\",\"plot_bgcolor\":\"#E5ECF6\",\"polar\":{\"angularaxis\":{\"gridcolor\":\"white\",\"linecolor\":\"white\",\"ticks\":\"\"},\"bgcolor\":\"#E5ECF6\",\"radialaxis\":{\"gridcolor\":\"white\",\"linecolor\":\"white\",\"ticks\":\"\"}},\"scene\":{\"xaxis\":{\"backgroundcolor\":\"#E5ECF6\",\"gridcolor\":\"white\",\"gridwidth\":2,\"linecolor\":\"white\",\"showbackground\":true,\"ticks\":\"\",\"zerolinecolor\":\"white\"},\"yaxis\":{\"backgroundcolor\":\"#E5ECF6\",\"gridcolor\":\"white\",\"gridwidth\":2,\"linecolor\":\"white\",\"showbackground\":true,\"ticks\":\"\",\"zerolinecolor\":\"white\"},\"zaxis\":{\"backgroundcolor\":\"#E5ECF6\",\"gridcolor\":\"white\",\"gridwidth\":2,\"linecolor\":\"white\",\"showbackground\":true,\"ticks\":\"\",\"zerolinecolor\":\"white\"}},\"shapedefaults\":{\"line\":{\"color\":\"#2a3f5f\"}},\"ternary\":{\"aaxis\":{\"gridcolor\":\"white\",\"linecolor\":\"white\",\"ticks\":\"\"},\"baxis\":{\"gridcolor\":\"white\",\"linecolor\":\"white\",\"ticks\":\"\"},\"bgcolor\":\"#E5ECF6\",\"caxis\":{\"gridcolor\":\"white\",\"linecolor\":\"white\",\"ticks\":\"\"}},\"title\":{\"x\":0.05},\"xaxis\":{\"automargin\":true,\"gridcolor\":\"white\",\"linecolor\":\"white\",\"ticks\":\"\",\"title\":{\"standoff\":15},\"zerolinecolor\":\"white\",\"zerolinewidth\":2},\"yaxis\":{\"automargin\":true,\"gridcolor\":\"white\",\"linecolor\":\"white\",\"ticks\":\"\",\"title\":{\"standoff\":15},\"zerolinecolor\":\"white\",\"zerolinewidth\":2}}}},                        {\"responsive\": true}                    ).then(function(){\n",
       "                            \n",
       "var gd = document.getElementById('2aa4034c-0141-4fcf-8b79-241fa0c8da84');\n",
       "var x = new MutationObserver(function (mutations, observer) {{\n",
       "        var display = window.getComputedStyle(gd).display;\n",
       "        if (!display || display === 'none') {{\n",
       "            console.log([gd, 'removed!']);\n",
       "            Plotly.purge(gd);\n",
       "            observer.disconnect();\n",
       "        }}\n",
       "}});\n",
       "\n",
       "// Listen for the removal of the full notebook cells\n",
       "var notebookContainer = gd.closest('#notebook-container');\n",
       "if (notebookContainer) {{\n",
       "    x.observe(notebookContainer, {childList: true});\n",
       "}}\n",
       "\n",
       "// Listen for the clearing of the current output cell\n",
       "var outputEl = gd.closest('.output');\n",
       "if (outputEl) {{\n",
       "    x.observe(outputEl, {childList: true});\n",
       "}}\n",
       "\n",
       "                        })                };                });            </script>        </div>"
      ]
     },
     "metadata": {},
     "output_type": "display_data"
    }
   ],
   "source": [
    "import plotly.graph_objects as go\n",
    "fig = go.Figure()\n",
    "# fig.add_trace(go.bar(x = train['HomePlanet'], y = train['Transported']))\n",
    "fig.show()"
   ]
  },
  {
   "cell_type": "code",
   "execution_count": 14,
   "id": "bac1b1de",
   "metadata": {
    "execution": {
     "iopub.execute_input": "2022-04-01T03:50:03.740948Z",
     "iopub.status.busy": "2022-04-01T03:50:03.739915Z",
     "iopub.status.idle": "2022-04-01T03:50:03.778725Z",
     "shell.execute_reply": "2022-04-01T03:50:03.779302Z",
     "shell.execute_reply.started": "2022-04-01T03:46:47.680573Z"
    },
    "papermill": {
     "duration": 0.080012,
     "end_time": "2022-04-01T03:50:03.779513",
     "exception": false,
     "start_time": "2022-04-01T03:50:03.699501",
     "status": "completed"
    },
    "tags": []
   },
   "outputs": [
    {
     "data": {
      "text/html": [
       "<div>\n",
       "<style scoped>\n",
       "    .dataframe tbody tr th:only-of-type {\n",
       "        vertical-align: middle;\n",
       "    }\n",
       "\n",
       "    .dataframe tbody tr th {\n",
       "        vertical-align: top;\n",
       "    }\n",
       "\n",
       "    .dataframe thead th {\n",
       "        text-align: right;\n",
       "    }\n",
       "</style>\n",
       "<table border=\"1\" class=\"dataframe\">\n",
       "  <thead>\n",
       "    <tr style=\"text-align: right;\">\n",
       "      <th></th>\n",
       "      <th>PassengerId</th>\n",
       "      <th>HomePlanet</th>\n",
       "      <th>CryoSleep</th>\n",
       "      <th>Cabin</th>\n",
       "      <th>Destination</th>\n",
       "      <th>Age</th>\n",
       "      <th>VIP</th>\n",
       "      <th>RoomService</th>\n",
       "      <th>FoodCourt</th>\n",
       "      <th>ShoppingMall</th>\n",
       "      <th>Spa</th>\n",
       "      <th>VRDeck</th>\n",
       "      <th>Name</th>\n",
       "      <th>Transported</th>\n",
       "    </tr>\n",
       "  </thead>\n",
       "  <tbody>\n",
       "    <tr>\n",
       "      <th>1763</th>\n",
       "      <td>1874_01</td>\n",
       "      <td>Earth</td>\n",
       "      <td>True</td>\n",
       "      <td>G/305/P</td>\n",
       "      <td>TRAPPIST-1e</td>\n",
       "      <td>0.0</td>\n",
       "      <td>False</td>\n",
       "      <td>0.0</td>\n",
       "      <td>0.0</td>\n",
       "      <td>0.0</td>\n",
       "      <td>0.0</td>\n",
       "      <td>0.0</td>\n",
       "      <td>Armene Woodgezalez</td>\n",
       "      <td>False</td>\n",
       "    </tr>\n",
       "    <tr>\n",
       "      <th>774</th>\n",
       "      <td>0811_03</td>\n",
       "      <td>Mars</td>\n",
       "      <td>False</td>\n",
       "      <td>F/152/S</td>\n",
       "      <td>TRAPPIST-1e</td>\n",
       "      <td>0.0</td>\n",
       "      <td>False</td>\n",
       "      <td>0.0</td>\n",
       "      <td>0.0</td>\n",
       "      <td>0.0</td>\n",
       "      <td>0.0</td>\n",
       "      <td>0.0</td>\n",
       "      <td>Phams Nutte</td>\n",
       "      <td>True</td>\n",
       "    </tr>\n",
       "    <tr>\n",
       "      <th>773</th>\n",
       "      <td>0811_02</td>\n",
       "      <td>Mars</td>\n",
       "      <td>True</td>\n",
       "      <td>F/152/S</td>\n",
       "      <td>TRAPPIST-1e</td>\n",
       "      <td>0.0</td>\n",
       "      <td>False</td>\n",
       "      <td>0.0</td>\n",
       "      <td>0.0</td>\n",
       "      <td>0.0</td>\n",
       "      <td>0.0</td>\n",
       "      <td>0.0</td>\n",
       "      <td>Pan Nutte</td>\n",
       "      <td>True</td>\n",
       "    </tr>\n",
       "    <tr>\n",
       "      <th>5982</th>\n",
       "      <td>6334_04</td>\n",
       "      <td>Earth</td>\n",
       "      <td>True</td>\n",
       "      <td>G/1028/S</td>\n",
       "      <td>PSO J318.5-22</td>\n",
       "      <td>0.0</td>\n",
       "      <td>False</td>\n",
       "      <td>0.0</td>\n",
       "      <td>0.0</td>\n",
       "      <td>0.0</td>\n",
       "      <td>0.0</td>\n",
       "      <td>0.0</td>\n",
       "      <td>Vick Jenson</td>\n",
       "      <td>True</td>\n",
       "    </tr>\n",
       "    <tr>\n",
       "      <th>771</th>\n",
       "      <td>0809_04</td>\n",
       "      <td>Mars</td>\n",
       "      <td>False</td>\n",
       "      <td>F/151/S</td>\n",
       "      <td>TRAPPIST-1e</td>\n",
       "      <td>0.0</td>\n",
       "      <td>False</td>\n",
       "      <td>0.0</td>\n",
       "      <td>0.0</td>\n",
       "      <td>0.0</td>\n",
       "      <td>0.0</td>\n",
       "      <td>0.0</td>\n",
       "      <td>Wales Meake</td>\n",
       "      <td>True</td>\n",
       "    </tr>\n",
       "    <tr>\n",
       "      <th>...</th>\n",
       "      <td>...</td>\n",
       "      <td>...</td>\n",
       "      <td>...</td>\n",
       "      <td>...</td>\n",
       "      <td>...</td>\n",
       "      <td>...</td>\n",
       "      <td>...</td>\n",
       "      <td>...</td>\n",
       "      <td>...</td>\n",
       "      <td>...</td>\n",
       "      <td>...</td>\n",
       "      <td>...</td>\n",
       "      <td>...</td>\n",
       "      <td>...</td>\n",
       "    </tr>\n",
       "    <tr>\n",
       "      <th>8274</th>\n",
       "      <td>8835_01</td>\n",
       "      <td>Earth</td>\n",
       "      <td>True</td>\n",
       "      <td>G/1425/S</td>\n",
       "      <td>TRAPPIST-1e</td>\n",
       "      <td>NaN</td>\n",
       "      <td>False</td>\n",
       "      <td>0.0</td>\n",
       "      <td>0.0</td>\n",
       "      <td>0.0</td>\n",
       "      <td>0.0</td>\n",
       "      <td>0.0</td>\n",
       "      <td>Shalle Bartines</td>\n",
       "      <td>False</td>\n",
       "    </tr>\n",
       "    <tr>\n",
       "      <th>8301</th>\n",
       "      <td>8862_03</td>\n",
       "      <td>Europa</td>\n",
       "      <td>True</td>\n",
       "      <td>C/329/S</td>\n",
       "      <td>TRAPPIST-1e</td>\n",
       "      <td>NaN</td>\n",
       "      <td>False</td>\n",
       "      <td>0.0</td>\n",
       "      <td>0.0</td>\n",
       "      <td>0.0</td>\n",
       "      <td>0.0</td>\n",
       "      <td>0.0</td>\n",
       "      <td>Alchib Myling</td>\n",
       "      <td>True</td>\n",
       "    </tr>\n",
       "    <tr>\n",
       "      <th>8374</th>\n",
       "      <td>8956_04</td>\n",
       "      <td>Earth</td>\n",
       "      <td>False</td>\n",
       "      <td>G/1453/P</td>\n",
       "      <td>TRAPPIST-1e</td>\n",
       "      <td>NaN</td>\n",
       "      <td>False</td>\n",
       "      <td>194.0</td>\n",
       "      <td>1.0</td>\n",
       "      <td>10.0</td>\n",
       "      <td>629.0</td>\n",
       "      <td>0.0</td>\n",
       "      <td>Krisa Bonnondry</td>\n",
       "      <td>False</td>\n",
       "    </tr>\n",
       "    <tr>\n",
       "      <th>8407</th>\n",
       "      <td>8988_01</td>\n",
       "      <td>Earth</td>\n",
       "      <td>True</td>\n",
       "      <td>G/1448/S</td>\n",
       "      <td>TRAPPIST-1e</td>\n",
       "      <td>NaN</td>\n",
       "      <td>False</td>\n",
       "      <td>0.0</td>\n",
       "      <td>0.0</td>\n",
       "      <td>0.0</td>\n",
       "      <td>0.0</td>\n",
       "      <td>0.0</td>\n",
       "      <td>Maen Fowlesterez</td>\n",
       "      <td>True</td>\n",
       "    </tr>\n",
       "    <tr>\n",
       "      <th>8557</th>\n",
       "      <td>9136_01</td>\n",
       "      <td>Earth</td>\n",
       "      <td>False</td>\n",
       "      <td>G/1471/S</td>\n",
       "      <td>TRAPPIST-1e</td>\n",
       "      <td>NaN</td>\n",
       "      <td>False</td>\n",
       "      <td>6.0</td>\n",
       "      <td>0.0</td>\n",
       "      <td>0.0</td>\n",
       "      <td>800.0</td>\n",
       "      <td>3.0</td>\n",
       "      <td>Sall Hestes</td>\n",
       "      <td>False</td>\n",
       "    </tr>\n",
       "  </tbody>\n",
       "</table>\n",
       "<p>8693 rows × 14 columns</p>\n",
       "</div>"
      ],
      "text/plain": [
       "     PassengerId HomePlanet CryoSleep     Cabin    Destination  Age    VIP  \\\n",
       "1763     1874_01      Earth      True   G/305/P    TRAPPIST-1e  0.0  False   \n",
       "774      0811_03       Mars     False   F/152/S    TRAPPIST-1e  0.0  False   \n",
       "773      0811_02       Mars      True   F/152/S    TRAPPIST-1e  0.0  False   \n",
       "5982     6334_04      Earth      True  G/1028/S  PSO J318.5-22  0.0  False   \n",
       "771      0809_04       Mars     False   F/151/S    TRAPPIST-1e  0.0  False   \n",
       "...          ...        ...       ...       ...            ...  ...    ...   \n",
       "8274     8835_01      Earth      True  G/1425/S    TRAPPIST-1e  NaN  False   \n",
       "8301     8862_03     Europa      True   C/329/S    TRAPPIST-1e  NaN  False   \n",
       "8374     8956_04      Earth     False  G/1453/P    TRAPPIST-1e  NaN  False   \n",
       "8407     8988_01      Earth      True  G/1448/S    TRAPPIST-1e  NaN  False   \n",
       "8557     9136_01      Earth     False  G/1471/S    TRAPPIST-1e  NaN  False   \n",
       "\n",
       "      RoomService  FoodCourt  ShoppingMall    Spa  VRDeck                Name  \\\n",
       "1763          0.0        0.0           0.0    0.0     0.0  Armene Woodgezalez   \n",
       "774           0.0        0.0           0.0    0.0     0.0         Phams Nutte   \n",
       "773           0.0        0.0           0.0    0.0     0.0           Pan Nutte   \n",
       "5982          0.0        0.0           0.0    0.0     0.0         Vick Jenson   \n",
       "771           0.0        0.0           0.0    0.0     0.0         Wales Meake   \n",
       "...           ...        ...           ...    ...     ...                 ...   \n",
       "8274          0.0        0.0           0.0    0.0     0.0     Shalle Bartines   \n",
       "8301          0.0        0.0           0.0    0.0     0.0       Alchib Myling   \n",
       "8374        194.0        1.0          10.0  629.0     0.0     Krisa Bonnondry   \n",
       "8407          0.0        0.0           0.0    0.0     0.0    Maen Fowlesterez   \n",
       "8557          6.0        0.0           0.0  800.0     3.0         Sall Hestes   \n",
       "\n",
       "      Transported  \n",
       "1763        False  \n",
       "774          True  \n",
       "773          True  \n",
       "5982         True  \n",
       "771          True  \n",
       "...           ...  \n",
       "8274        False  \n",
       "8301         True  \n",
       "8374        False  \n",
       "8407         True  \n",
       "8557        False  \n",
       "\n",
       "[8693 rows x 14 columns]"
      ]
     },
     "execution_count": 14,
     "metadata": {},
     "output_type": "execute_result"
    }
   ],
   "source": [
    "train.sort_values(['Age'])"
   ]
  },
  {
   "cell_type": "markdown",
   "id": "503c96cc",
   "metadata": {
    "papermill": {
     "duration": 0.037127,
     "end_time": "2022-04-01T03:50:03.853951",
     "exception": false,
     "start_time": "2022-04-01T03:50:03.816824",
     "status": "completed"
    },
    "tags": []
   },
   "source": [
    "최소 나이가 0살????\n",
    "\n",
    "최대 나이가 79살\n",
    "\n",
    "-> 0 - \n",
    "\n",
    "nan은 어쩌지"
   ]
  },
  {
   "cell_type": "markdown",
   "id": "7a801c06",
   "metadata": {
    "papermill": {
     "duration": 0.037047,
     "end_time": "2022-04-01T03:50:03.929988",
     "exception": false,
     "start_time": "2022-04-01T03:50:03.892941",
     "status": "completed"
    },
    "tags": []
   },
   "source": [
    "# 흐름 잡기"
   ]
  },
  {
   "cell_type": "code",
   "execution_count": 15,
   "id": "79e36fce",
   "metadata": {
    "execution": {
     "iopub.execute_input": "2022-04-01T03:50:04.012463Z",
     "iopub.status.busy": "2022-04-01T03:50:04.011365Z",
     "iopub.status.idle": "2022-04-01T03:50:04.130674Z",
     "shell.execute_reply": "2022-04-01T03:50:04.131251Z",
     "shell.execute_reply.started": "2022-04-01T03:46:47.719543Z"
    },
    "papermill": {
     "duration": 0.162808,
     "end_time": "2022-04-01T03:50:04.131478",
     "exception": false,
     "start_time": "2022-04-01T03:50:03.968670",
     "status": "completed"
    },
    "tags": []
   },
   "outputs": [
    {
     "data": {
      "text/html": [
       "<style type=\"text/css\">\n",
       "#T_ad2ec_row0_col0, #T_ad2ec_row2_col0 {\n",
       "  background-color: #0b6cae;\n",
       "  color: #f1f1f1;\n",
       "}\n",
       "#T_ad2ec_row0_col1 {\n",
       "  background-color: #084081;\n",
       "  color: #f1f1f1;\n",
       "  width: 10em;\n",
       "  height: 80%;\n",
       "  background: linear-gradient(90deg,green 100.0%, transparent 100.0%);\n",
       "}\n",
       "#T_ad2ec_row0_col2, #T_ad2ec_row0_col6, #T_ad2ec_row5_col0, #T_ad2ec_row5_col4, #T_ad2ec_row5_col5 {\n",
       "  background-color: #084081;\n",
       "  color: #f1f1f1;\n",
       "}\n",
       "#T_ad2ec_row0_col3, #T_ad2ec_row0_col4, #T_ad2ec_row0_col5, #T_ad2ec_row1_col3, #T_ad2ec_row1_col4, #T_ad2ec_row1_col5, #T_ad2ec_row2_col3, #T_ad2ec_row2_col4, #T_ad2ec_row2_col5, #T_ad2ec_row3_col3, #T_ad2ec_row3_col4, #T_ad2ec_row3_col5, #T_ad2ec_row4_col0, #T_ad2ec_row4_col3, #T_ad2ec_row4_col4, #T_ad2ec_row4_col5, #T_ad2ec_row4_col6, #T_ad2ec_row5_col2, #T_ad2ec_row5_col3 {\n",
       "  background-color: #f7fcf0;\n",
       "  color: #000000;\n",
       "}\n",
       "#T_ad2ec_row0_col7 {\n",
       "  background-color: #084081;\n",
       "  color: #f1f1f1;\n",
       "  width: 10em;\n",
       "  height: 80%;\n",
       "  background: linear-gradient(90deg,#BB0000 100.0%, transparent 100.0%);\n",
       "}\n",
       "#T_ad2ec_row1_col0 {\n",
       "  background-color: #3c9fc8;\n",
       "  color: #f1f1f1;\n",
       "}\n",
       "#T_ad2ec_row1_col1 {\n",
       "  background-color: #49add0;\n",
       "  color: #f1f1f1;\n",
       "  width: 10em;\n",
       "  height: 80%;\n",
       "  background: linear-gradient(90deg,green 64.3%, transparent 64.3%);\n",
       "}\n",
       "#T_ad2ec_row1_col2 {\n",
       "  background-color: #3699c5;\n",
       "  color: #f1f1f1;\n",
       "}\n",
       "#T_ad2ec_row1_col6 {\n",
       "  background-color: #a3dbb7;\n",
       "  color: #000000;\n",
       "}\n",
       "#T_ad2ec_row1_col7 {\n",
       "  background-color: #1a7ab5;\n",
       "  color: #f1f1f1;\n",
       "  width: 10em;\n",
       "  height: 80%;\n",
       "  background: linear-gradient(90deg,#BB0000 80.9%, transparent 80.9%);\n",
       "}\n",
       "#T_ad2ec_row2_col1 {\n",
       "  background-color: #45a8cd;\n",
       "  color: #f1f1f1;\n",
       "  width: 10em;\n",
       "  height: 80%;\n",
       "  background: linear-gradient(90deg,green 65.8%, transparent 65.8%);\n",
       "}\n",
       "#T_ad2ec_row2_col2 {\n",
       "  background-color: #389bc6;\n",
       "  color: #f1f1f1;\n",
       "}\n",
       "#T_ad2ec_row2_col6 {\n",
       "  background-color: #46aace;\n",
       "  color: #f1f1f1;\n",
       "}\n",
       "#T_ad2ec_row2_col7 {\n",
       "  background-color: #2a8bbe;\n",
       "  color: #f1f1f1;\n",
       "  width: 10em;\n",
       "  height: 80%;\n",
       "  background: linear-gradient(90deg,#BB0000 75.1%, transparent 75.1%);\n",
       "}\n",
       "#T_ad2ec_row3_col0 {\n",
       "  background-color: #085598;\n",
       "  color: #f1f1f1;\n",
       "}\n",
       "#T_ad2ec_row3_col1 {\n",
       "  background-color: #8bd2bf;\n",
       "  color: #000000;\n",
       "  width: 10em;\n",
       "  height: 80%;\n",
       "  background: linear-gradient(90deg,green 45.6%, transparent 45.6%);\n",
       "}\n",
       "#T_ad2ec_row3_col2, #T_ad2ec_row3_col6 {\n",
       "  background-color: #9cd9b9;\n",
       "  color: #000000;\n",
       "}\n",
       "#T_ad2ec_row3_col7 {\n",
       "  background-color: #83cfc1;\n",
       "  color: #000000;\n",
       "  width: 10em;\n",
       "  height: 80%;\n",
       "  background: linear-gradient(90deg,#BB0000 47.9%, transparent 47.9%);\n",
       "}\n",
       "#T_ad2ec_row4_col1 {\n",
       "  background-color: #b3e1ba;\n",
       "  color: #000000;\n",
       "  width: 10em;\n",
       "  height: 80%;\n",
       "  background: linear-gradient(90deg,green 33.8%, transparent 33.8%);\n",
       "}\n",
       "#T_ad2ec_row4_col2 {\n",
       "  background-color: #aadeb6;\n",
       "  color: #000000;\n",
       "}\n",
       "#T_ad2ec_row4_col7 {\n",
       "  background-color: #2081b8;\n",
       "  color: #f1f1f1;\n",
       "  width: 10em;\n",
       "  height: 80%;\n",
       "  background: linear-gradient(90deg,#BB0000 78.7%, transparent 78.7%);\n",
       "}\n",
       "#T_ad2ec_row5_col1, #T_ad2ec_row5_col7 {\n",
       "  background-color: #f7fcf0;\n",
       "  color: #000000;\n",
       "  width: 10em;\n",
       "  height: 80%;\n",
       "}\n",
       "#T_ad2ec_row5_col6 {\n",
       "  background-color: #d0edca;\n",
       "  color: #000000;\n",
       "}\n",
       "</style>\n",
       "<table id=\"T_ad2ec_\">\n",
       "  <thead>\n",
       "    <tr>\n",
       "      <th class=\"blank level0\" >&nbsp;</th>\n",
       "      <th class=\"col_heading level0 col0\" >count</th>\n",
       "      <th class=\"col_heading level0 col1\" >mean</th>\n",
       "      <th class=\"col_heading level0 col2\" >std</th>\n",
       "      <th class=\"col_heading level0 col3\" >min</th>\n",
       "      <th class=\"col_heading level0 col4\" >25%</th>\n",
       "      <th class=\"col_heading level0 col5\" >50%</th>\n",
       "      <th class=\"col_heading level0 col6\" >75%</th>\n",
       "      <th class=\"col_heading level0 col7\" >max</th>\n",
       "    </tr>\n",
       "  </thead>\n",
       "  <tbody>\n",
       "    <tr>\n",
       "      <th id=\"T_ad2ec_level0_row0\" class=\"row_heading level0 row0\" >FoodCourt</th>\n",
       "      <td id=\"T_ad2ec_row0_col0\" class=\"data row0 col0\" >8510.000000</td>\n",
       "      <td id=\"T_ad2ec_row0_col1\" class=\"data row0 col1\" >458.077203</td>\n",
       "      <td id=\"T_ad2ec_row0_col2\" class=\"data row0 col2\" >1611.489240</td>\n",
       "      <td id=\"T_ad2ec_row0_col3\" class=\"data row0 col3\" >0.000000</td>\n",
       "      <td id=\"T_ad2ec_row0_col4\" class=\"data row0 col4\" >0.000000</td>\n",
       "      <td id=\"T_ad2ec_row0_col5\" class=\"data row0 col5\" >0.000000</td>\n",
       "      <td id=\"T_ad2ec_row0_col6\" class=\"data row0 col6\" >76.000000</td>\n",
       "      <td id=\"T_ad2ec_row0_col7\" class=\"data row0 col7\" >29813.000000</td>\n",
       "    </tr>\n",
       "    <tr>\n",
       "      <th id=\"T_ad2ec_level0_row1\" class=\"row_heading level0 row1\" >VRDeck</th>\n",
       "      <td id=\"T_ad2ec_row1_col0\" class=\"data row1 col0\" >8505.000000</td>\n",
       "      <td id=\"T_ad2ec_row1_col1\" class=\"data row1 col1\" >304.854791</td>\n",
       "      <td id=\"T_ad2ec_row1_col2\" class=\"data row1 col2\" >1145.717189</td>\n",
       "      <td id=\"T_ad2ec_row1_col3\" class=\"data row1 col3\" >0.000000</td>\n",
       "      <td id=\"T_ad2ec_row1_col4\" class=\"data row1 col4\" >0.000000</td>\n",
       "      <td id=\"T_ad2ec_row1_col5\" class=\"data row1 col5\" >0.000000</td>\n",
       "      <td id=\"T_ad2ec_row1_col6\" class=\"data row1 col6\" >46.000000</td>\n",
       "      <td id=\"T_ad2ec_row1_col7\" class=\"data row1 col7\" >24133.000000</td>\n",
       "    </tr>\n",
       "    <tr>\n",
       "      <th id=\"T_ad2ec_level0_row2\" class=\"row_heading level0 row2\" >Spa</th>\n",
       "      <td id=\"T_ad2ec_row2_col0\" class=\"data row2 col0\" >8510.000000</td>\n",
       "      <td id=\"T_ad2ec_row2_col1\" class=\"data row2 col1\" >311.138778</td>\n",
       "      <td id=\"T_ad2ec_row2_col2\" class=\"data row2 col2\" >1136.705535</td>\n",
       "      <td id=\"T_ad2ec_row2_col3\" class=\"data row2 col3\" >0.000000</td>\n",
       "      <td id=\"T_ad2ec_row2_col4\" class=\"data row2 col4\" >0.000000</td>\n",
       "      <td id=\"T_ad2ec_row2_col5\" class=\"data row2 col5\" >0.000000</td>\n",
       "      <td id=\"T_ad2ec_row2_col6\" class=\"data row2 col6\" >59.000000</td>\n",
       "      <td id=\"T_ad2ec_row2_col7\" class=\"data row2 col7\" >22408.000000</td>\n",
       "    </tr>\n",
       "    <tr>\n",
       "      <th id=\"T_ad2ec_level0_row3\" class=\"row_heading level0 row3\" >RoomService</th>\n",
       "      <td id=\"T_ad2ec_row3_col0\" class=\"data row3 col0\" >8512.000000</td>\n",
       "      <td id=\"T_ad2ec_row3_col1\" class=\"data row3 col1\" >224.687617</td>\n",
       "      <td id=\"T_ad2ec_row3_col2\" class=\"data row3 col2\" >666.717663</td>\n",
       "      <td id=\"T_ad2ec_row3_col3\" class=\"data row3 col3\" >0.000000</td>\n",
       "      <td id=\"T_ad2ec_row3_col4\" class=\"data row3 col4\" >0.000000</td>\n",
       "      <td id=\"T_ad2ec_row3_col5\" class=\"data row3 col5\" >0.000000</td>\n",
       "      <td id=\"T_ad2ec_row3_col6\" class=\"data row3 col6\" >47.000000</td>\n",
       "      <td id=\"T_ad2ec_row3_col7\" class=\"data row3 col7\" >14327.000000</td>\n",
       "    </tr>\n",
       "    <tr>\n",
       "      <th id=\"T_ad2ec_level0_row4\" class=\"row_heading level0 row4\" >ShoppingMall</th>\n",
       "      <td id=\"T_ad2ec_row4_col0\" class=\"data row4 col0\" >8485.000000</td>\n",
       "      <td id=\"T_ad2ec_row4_col1\" class=\"data row4 col1\" >173.729169</td>\n",
       "      <td id=\"T_ad2ec_row4_col2\" class=\"data row4 col2\" >604.696458</td>\n",
       "      <td id=\"T_ad2ec_row4_col3\" class=\"data row4 col3\" >0.000000</td>\n",
       "      <td id=\"T_ad2ec_row4_col4\" class=\"data row4 col4\" >0.000000</td>\n",
       "      <td id=\"T_ad2ec_row4_col5\" class=\"data row4 col5\" >0.000000</td>\n",
       "      <td id=\"T_ad2ec_row4_col6\" class=\"data row4 col6\" >27.000000</td>\n",
       "      <td id=\"T_ad2ec_row4_col7\" class=\"data row4 col7\" >23492.000000</td>\n",
       "    </tr>\n",
       "    <tr>\n",
       "      <th id=\"T_ad2ec_level0_row5\" class=\"row_heading level0 row5\" >Age</th>\n",
       "      <td id=\"T_ad2ec_row5_col0\" class=\"data row5 col0\" >8514.000000</td>\n",
       "      <td id=\"T_ad2ec_row5_col1\" class=\"data row5 col1\" >28.827930</td>\n",
       "      <td id=\"T_ad2ec_row5_col2\" class=\"data row5 col2\" >14.489021</td>\n",
       "      <td id=\"T_ad2ec_row5_col3\" class=\"data row5 col3\" >0.000000</td>\n",
       "      <td id=\"T_ad2ec_row5_col4\" class=\"data row5 col4\" >19.000000</td>\n",
       "      <td id=\"T_ad2ec_row5_col5\" class=\"data row5 col5\" >27.000000</td>\n",
       "      <td id=\"T_ad2ec_row5_col6\" class=\"data row5 col6\" >38.000000</td>\n",
       "      <td id=\"T_ad2ec_row5_col7\" class=\"data row5 col7\" >79.000000</td>\n",
       "    </tr>\n",
       "  </tbody>\n",
       "</table>\n"
      ],
      "text/plain": [
       "<pandas.io.formats.style.Styler at 0x7f479f699bd0>"
      ]
     },
     "execution_count": 15,
     "metadata": {},
     "output_type": "execute_result"
    }
   ],
   "source": [
    "train.iloc[:,:].describe().T.sort_values(by = 'std', ascending = False)\\\n",
    "    .style.background_gradient(cmap=\"GnBu\")\\\n",
    "    .bar(subset = ['max'], color = '#BB0000')\\\n",
    "    .bar(subset = ['mean'], color = 'green')"
   ]
  },
  {
   "cell_type": "markdown",
   "id": "5926c44e",
   "metadata": {
    "papermill": {
     "duration": 0.038049,
     "end_time": "2022-04-01T03:50:04.209351",
     "exception": false,
     "start_time": "2022-04-01T03:50:04.171302",
     "status": "completed"
    },
    "tags": []
   },
   "source": [
    "- 푸드코트에서 사용량이 제일 많고 VR이랑 spa가 비등비등 그다음이 룸서비스랑 쇼핑몰"
   ]
  },
  {
   "cell_type": "markdown",
   "id": "1744612b",
   "metadata": {
    "papermill": {
     "duration": 0.039074,
     "end_time": "2022-04-01T03:50:04.286683",
     "exception": false,
     "start_time": "2022-04-01T03:50:04.247609",
     "status": "completed"
    },
    "tags": []
   },
   "source": [
    "* 행의 결측값 최대값은 3이고 가장 낮은 값은 결측값이 없습니다.\n",
    "* 흥미롭게도, 결측값 분포 (행 기준)는 열차와 테스트 데이터 집합 간에 거의 동일합니다.\n",
    "* 결측값이 없는 관측치(행 기준)의 약 76%가 있습니다.\n",
    "* 결측값이 1 ~ 3개인 관측치의 나머지 24%(행 기준)"
   ]
  },
  {
   "cell_type": "markdown",
   "id": "85a16ec0",
   "metadata": {
    "papermill": {
     "duration": 0.037914,
     "end_time": "2022-04-01T03:50:04.362927",
     "exception": false,
     "start_time": "2022-04-01T03:50:04.325013",
     "status": "completed"
    },
    "tags": []
   },
   "source": [
    "* 12가지 특징 중 6가지 특징이 연속적이며, 2가지 특징이 텍스트 데이터이며, 4가지 특징이 범주형입니다.\n",
    "* HomePlanet 및 Destination에는 3개의 다른 고유 값이 있습니다.\n",
    "* CryoSleep과 VIP는 부울 기능"
   ]
  },
  {
   "cell_type": "code",
   "execution_count": 16,
   "id": "407c7053",
   "metadata": {
    "execution": {
     "iopub.execute_input": "2022-04-01T03:50:04.444452Z",
     "iopub.status.busy": "2022-04-01T03:50:04.443275Z",
     "iopub.status.idle": "2022-04-01T03:50:04.450237Z",
     "shell.execute_reply": "2022-04-01T03:50:04.450727Z",
     "shell.execute_reply.started": "2022-04-01T03:46:47.772664Z"
    },
    "papermill": {
     "duration": 0.049623,
     "end_time": "2022-04-01T03:50:04.450938",
     "exception": false,
     "start_time": "2022-04-01T03:50:04.401315",
     "status": "completed"
    },
    "tags": []
   },
   "outputs": [
    {
     "data": {
      "text/plain": [
       "'\\ntext_features = [\"Cabin\", \"Name\"]\\ncat_features = [col for col in train.columns if df[col].nunique() < 25 and col not in text_features ]\\ncont_features = [col for col in train.columns if df[col].nunique() >= 25 and col not in text_features ]\\n\\ndel df\\nprint(f\\'\\x1b[94mTotal number of features: {len(FEATURES)}\\')\\nprint(f\\'\\x1b[94mNumber of categorical features: {len(cat_features)}\\')\\nprint(f\\'\\x1b[94mNumber of continuos features: {len(cont_features)}\\')\\nprint(f\\'\\x1b[94mNumber of text features: {len(text_features)}\\')\\n\\nlabels=[\\'Categorical\\', \\'Continuos\\', \"Text\"]\\nvalues= [len(cat_features), len(cont_features), len(text_features)]\\ncolors = [\\'#DE3163\\', \\'#58D68D\\']\\n\\nfig = go.Figure(data=[go.Pie(\\n    labels=labels, \\n    values=values, pull=[0.1, 0, 0 ],\\n    marker=dict(colors=colors, \\n                line=dict(color=\\'#000000\\', \\n                          width=2))\\n)])\\nfig.show()\\n'"
      ]
     },
     "execution_count": 16,
     "metadata": {},
     "output_type": "execute_result"
    }
   ],
   "source": [
    "'''\n",
    "text_features = [\"Cabin\", \"Name\"]\n",
    "cat_features = [col for col in train.columns if df[col].nunique() < 25 and col not in text_features ]\n",
    "cont_features = [col for col in train.columns if df[col].nunique() >= 25 and col not in text_features ]\n",
    "\n",
    "del df\n",
    "print(f'\\033[94mTotal number of features: {len(FEATURES)}')\n",
    "print(f'\\033[94mNumber of categorical features: {len(cat_features)}')\n",
    "print(f'\\033[94mNumber of continuos features: {len(cont_features)}')\n",
    "print(f'\\033[94mNumber of text features: {len(text_features)}')\n",
    "\n",
    "labels=['Categorical', 'Continuos', \"Text\"]\n",
    "values= [len(cat_features), len(cont_features), len(text_features)]\n",
    "colors = ['#DE3163', '#58D68D']\n",
    "\n",
    "fig = go.Figure(data=[go.Pie(\n",
    "    labels=labels, \n",
    "    values=values, pull=[0.1, 0, 0 ],\n",
    "    marker=dict(colors=colors, \n",
    "                line=dict(color='#000000', \n",
    "                          width=2))\n",
    ")])\n",
    "fig.show()\n",
    "'''"
   ]
  },
  {
   "cell_type": "code",
   "execution_count": 17,
   "id": "86231a83",
   "metadata": {
    "execution": {
     "iopub.execute_input": "2022-04-01T03:50:04.532616Z",
     "iopub.status.busy": "2022-04-01T03:50:04.531562Z",
     "iopub.status.idle": "2022-04-01T03:50:04.537579Z",
     "shell.execute_reply": "2022-04-01T03:50:04.538198Z",
     "shell.execute_reply.started": "2022-04-01T03:46:47.820872Z"
    },
    "papermill": {
     "duration": 0.048857,
     "end_time": "2022-04-01T03:50:04.538404",
     "exception": false,
     "start_time": "2022-04-01T03:50:04.489547",
     "status": "completed"
    },
    "tags": []
   },
   "outputs": [
    {
     "data": {
      "text/plain": [
       "\"train_age = train.copy()\\ntest_age = test.copy()\\ntrain_age['type'] = 'Train'\\ntest_age['type'] = 'Test'\\n\\nageDf = pd.concat([train_age,test_age])\\nfig = px.histogram(data_frame = ageDf,\\n                  x = 'Age',\\n                  color = 'type',\\n                  #color_discreate_sequence = ['#58D68D','#DE3163'],\\n                  marginal='box',\\n                  nbins = 100\\n                  )\\nfig.update_layout(title = 'Deistribution of Afe', title_x = 0.5)\\nfig.show()\\n\""
      ]
     },
     "execution_count": 17,
     "metadata": {},
     "output_type": "execute_result"
    }
   ],
   "source": [
    "'''train_age = train.copy()\n",
    "test_age = test.copy()\n",
    "train_age['type'] = 'Train'\n",
    "test_age['type'] = 'Test'\n",
    "\n",
    "ageDf = pd.concat([train_age,test_age])\n",
    "fig = px.histogram(data_frame = ageDf,\n",
    "                  x = 'Age',\n",
    "                  color = 'type',\n",
    "                  #color_discreate_sequence = ['#58D68D','#DE3163'],\n",
    "                  marginal='box',\n",
    "                  nbins = 100\n",
    "                  )\n",
    "fig.update_layout(title = 'Deistribution of Afe', title_x = 0.5)\n",
    "fig.show()\n",
    "'''"
   ]
  },
  {
   "cell_type": "code",
   "execution_count": 18,
   "id": "4dc86808",
   "metadata": {
    "execution": {
     "iopub.execute_input": "2022-04-01T03:50:04.620753Z",
     "iopub.status.busy": "2022-04-01T03:50:04.619730Z",
     "iopub.status.idle": "2022-04-01T03:50:04.622952Z",
     "shell.execute_reply": "2022-04-01T03:50:04.623530Z",
     "shell.execute_reply.started": "2022-04-01T03:46:47.880584Z"
    },
    "papermill": {
     "duration": 0.046386,
     "end_time": "2022-04-01T03:50:04.623727",
     "exception": false,
     "start_time": "2022-04-01T03:50:04.577341",
     "status": "completed"
    },
    "tags": []
   },
   "outputs": [],
   "source": [
    "#fig = px.imshow(train.corr(), text_auto= True, aspect='auto', color_continuous_scale = 'viridis')\n",
    "#fig.show()"
   ]
  },
  {
   "cell_type": "markdown",
   "id": "6367739c",
   "metadata": {
    "papermill": {
     "duration": 0.038942,
     "end_time": "2022-04-01T03:50:04.701926",
     "exception": false,
     "start_time": "2022-04-01T03:50:04.662984",
     "status": "completed"
    },
    "tags": []
   },
   "source": []
  },
  {
   "cell_type": "markdown",
   "id": "4e72df96",
   "metadata": {
    "papermill": {
     "duration": 0.038544,
     "end_time": "2022-04-01T03:50:04.779370",
     "exception": false,
     "start_time": "2022-04-01T03:50:04.740826",
     "status": "completed"
    },
    "tags": []
   },
   "source": [
    "-데이터 처리"
   ]
  },
  {
   "cell_type": "markdown",
   "id": "2adf9246",
   "metadata": {
    "papermill": {
     "duration": 0.039711,
     "end_time": "2022-04-01T03:50:04.858234",
     "exception": false,
     "start_time": "2022-04-01T03:50:04.818523",
     "status": "completed"
    },
    "tags": []
   },
   "source": [
    "simpleimputer = fillna 메서드 역할"
   ]
  },
  {
   "cell_type": "code",
   "execution_count": 19,
   "id": "39a4c2d3",
   "metadata": {
    "execution": {
     "iopub.execute_input": "2022-04-01T03:50:04.942863Z",
     "iopub.status.busy": "2022-04-01T03:50:04.942081Z",
     "iopub.status.idle": "2022-04-01T03:50:04.947513Z",
     "shell.execute_reply": "2022-04-01T03:50:04.948132Z",
     "shell.execute_reply.started": "2022-04-01T03:46:47.935867Z"
    },
    "papermill": {
     "duration": 0.049778,
     "end_time": "2022-04-01T03:50:04.948337",
     "exception": false,
     "start_time": "2022-04-01T03:50:04.898559",
     "status": "completed"
    },
    "tags": []
   },
   "outputs": [
    {
     "data": {
      "text/plain": [
       "\"# 결측치의 귀속\\nimputer_cols = ['Age','FoodCourt','ShoppingMall','Spa','VRDeck','RoomService']\\n# 결측치 중간값으로 채우겠다.\\nimputer = SimpleImputer(strategy=STRATEGY )\\n# 결측치 중간값으로 채우는 훈련 학습\\nimputer.fit(train[imputer_cols])\\n# 데이터 변환\\ntrain[imputer_cols] = imputer.transform(train[imputer_cols])\\ntest[imputer_cols] = imputer.transform(test[imputer_cols])\\n# 텍스트 컬럼인 Homeplanet는 z로 채운다.\\ntrain['HomePlanet'].fillna('Z',inplace=True)\\ntest['HomePlanet'].fillna('Z',inplace =True)\\n\""
      ]
     },
     "execution_count": 19,
     "metadata": {},
     "output_type": "execute_result"
    }
   ],
   "source": [
    "'''# 결측치의 귀속\n",
    "imputer_cols = ['Age','FoodCourt','ShoppingMall','Spa','VRDeck','RoomService']\n",
    "# 결측치 중간값으로 채우겠다.\n",
    "imputer = SimpleImputer(strategy=STRATEGY )\n",
    "# 결측치 중간값으로 채우는 훈련 학습\n",
    "imputer.fit(train[imputer_cols])\n",
    "# 데이터 변환\n",
    "train[imputer_cols] = imputer.transform(train[imputer_cols])\n",
    "test[imputer_cols] = imputer.transform(test[imputer_cols])\n",
    "# 텍스트 컬럼인 Homeplanet는 z로 채운다.\n",
    "train['HomePlanet'].fillna('Z',inplace=True)\n",
    "test['HomePlanet'].fillna('Z',inplace =True)\n",
    "'''"
   ]
  },
  {
   "cell_type": "code",
   "execution_count": 20,
   "id": "e25ca37a",
   "metadata": {
    "execution": {
     "iopub.execute_input": "2022-04-01T03:50:05.035339Z",
     "iopub.status.busy": "2022-04-01T03:50:05.034600Z",
     "iopub.status.idle": "2022-04-01T03:50:05.039020Z",
     "shell.execute_reply": "2022-04-01T03:50:05.038343Z",
     "shell.execute_reply.started": "2022-04-01T03:46:47.962399Z"
    },
    "papermill": {
     "duration": 0.051151,
     "end_time": "2022-04-01T03:50:05.039230",
     "exception": false,
     "start_time": "2022-04-01T03:50:04.988079",
     "status": "completed"
    },
    "tags": []
   },
   "outputs": [
    {
     "data": {
      "text/plain": [
       "'\\nlabel_cols=[\"HomePlanet\", \"CryoSleep\",\"Cabin\", \"Destination\" ,\"VIP\"]\\ndef label_encoder(train,test,columns):\\n    for col in columns:\\n        train[col] = train[col].astype(str)\\n        test[col] = test[col].astype(str)\\n        train[col] = LabelEncoder().fit_transform(train[col])\\n        test[col] = LabelEncoder().fit_transform(test[col])\\n    return train, test\\ntrain, test = label_encoder(train,test,label_cols)\\n'"
      ]
     },
     "execution_count": 20,
     "metadata": {},
     "output_type": "execute_result"
    }
   ],
   "source": [
    "'''\n",
    "label_cols=[\"HomePlanet\", \"CryoSleep\",\"Cabin\", \"Destination\" ,\"VIP\"]\n",
    "def label_encoder(train,test,columns):\n",
    "    for col in columns:\n",
    "        train[col] = train[col].astype(str)\n",
    "        test[col] = test[col].astype(str)\n",
    "        train[col] = LabelEncoder().fit_transform(train[col])\n",
    "        test[col] = LabelEncoder().fit_transform(test[col])\n",
    "    return train, test\n",
    "train, test = label_encoder(train,test,label_cols)\n",
    "'''"
   ]
  },
  {
   "cell_type": "markdown",
   "id": "7bea6d5c",
   "metadata": {
    "papermill": {
     "duration": 0.040506,
     "end_time": "2022-04-01T03:50:05.119814",
     "exception": false,
     "start_time": "2022-04-01T03:50:05.079308",
     "status": "completed"
    },
    "tags": []
   },
   "source": [
    "- 다 문자열로 바꿔주고 "
   ]
  },
  {
   "cell_type": "code",
   "execution_count": null,
   "id": "a7a5fc61",
   "metadata": {
    "papermill": {
     "duration": 0.040197,
     "end_time": "2022-04-01T03:50:05.201204",
     "exception": false,
     "start_time": "2022-04-01T03:50:05.161007",
     "status": "completed"
    },
    "tags": []
   },
   "outputs": [],
   "source": []
  }
 ],
 "metadata": {
  "kernelspec": {
   "display_name": "Python 3",
   "language": "python",
   "name": "python3"
  },
  "language_info": {
   "codemirror_mode": {
    "name": "ipython",
    "version": 3
   },
   "file_extension": ".py",
   "mimetype": "text/x-python",
   "name": "python",
   "nbconvert_exporter": "python",
   "pygments_lexer": "ipython3",
   "version": "3.7.12"
  },
  "papermill": {
   "default_parameters": {},
   "duration": 14.944516,
   "end_time": "2022-04-01T03:50:06.153763",
   "environment_variables": {},
   "exception": null,
   "input_path": "__notebook__.ipynb",
   "output_path": "__notebook__.ipynb",
   "parameters": {},
   "start_time": "2022-04-01T03:49:51.209247",
   "version": "2.3.3"
  }
 },
 "nbformat": 4,
 "nbformat_minor": 5
}
